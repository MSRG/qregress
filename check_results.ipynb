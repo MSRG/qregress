{
 "cells": [
  {
   "cell_type": "code",
   "execution_count": null,
   "id": "7fa7af53-fcc9-4e3d-aefb-77faeaeb013f",
   "metadata": {},
   "outputs": [],
   "source": [
    "# Import required packages\n",
    "import sys\n",
    "# !{sys.executable} -m pip install seaborn\n",
    "from glob import glob\n",
    "import os\n",
    "import json\n",
    "import matplotlib.pyplot as plt\n",
    "import seaborn as sns\n",
    "import pandas as pd\n",
    "import numpy as np\n",
    "from shutil import copy\n",
    "from distutils.dir_util import copy_tree\n"
   ]
  },
  {
   "cell_type": "code",
   "execution_count": null,
   "id": "be4949c0-aa4c-4d06-bf05-71053574ad38",
   "metadata": {},
   "outputs": [],
   "source": [
    "# A helper dictionary and a save parameter\n",
    "function_dict={'quad16qubit':'Quadratic','lin16qubit':'Linear','sin16qubit':'Sine'}\n",
    "save=True"
   ]
  },
  {
   "cell_type": "code",
   "execution_count": null,
   "id": "755a5fcb-8fa5-423b-a877-3b41e9ae7b66",
   "metadata": {},
   "outputs": [],
   "source": [
    "baseline={}\n",
    "stacked_df=[]\n",
    "for idx,(k,v) in enumerate(sorted(function_dict.items())):\n",
    "    results={}\n",
    "    for i in glob(f\"function-calc-test/fivequbit_tests/{k.replace('16','5')}/*/*results.json\"):\n",
    "        dirname=os.path.basename(os.path.dirname(i))\n",
    "        with open(i,'r') as f:\n",
    "            results[dirname]=json.load(f)\n",
    "    baseline[k.replace('16','5')]=results\n",
    "    print(k)\n",
    "    print(pd.DataFrame.from_dict(results).T[['R2_train','R2_test']])\n",
    "    r2_df=pd.DataFrame.from_dict(results).T[['R2_train','R2_test']].sort_index().rename(columns={'R2_train':\"Train\",'R2_test':'Test'})\n",
    "    stacked=r2_df.copy()\n",
    "    stacked['function']=len(stacked)*[v]\n",
    "    stacked_df.append(stacked)    \n",
    "# glob(f\"function-calc-test/fivequbit_tests/{'quad16qubit'.replace('16','5')}/*/*results.json\")"
   ]
  },
  {
   "cell_type": "code",
   "execution_count": null,
   "id": "ddf5b3e1-f15d-43a2-a1d2-20de08cebb4e",
   "metadata": {},
   "outputs": [],
   "source": [
    "# encoders=set(i.split('_')[0] for i in stacked_df[0].index)\n",
    "# ansatz=set(i.split('_')[1] for i in stacked_df[0].index)\n",
    "\n",
    "\n",
    "# with open(\"encoders.json\", \"w\") as f: \n",
    "#     json.dump(list(encoders), f)\n",
    "\n",
    "\n",
    "# with open(\"ansatz.json\", \"w\") as f: \n",
    "#     json.dump(list(ansatz), f)\n",
    "\n",
    "# encoders_grouped={i:[j for j in stacked_df[0].index if j.split('_')[0]==i] for i in encoders}\n",
    "# ansatz_grouped={i:[j for j in stacked_df[0].index if j.split('_')[1]==i] for i in ansatz}\n",
    "\n",
    "\n",
    "# with open(\"encoders_grouped.json\", \"w\") as f: \n",
    "#     json.dump(encoders_grouped, f)\n",
    "\n",
    "# with open(\"ansatz_grouped.json\", \"w\") as f: \n",
    "#     json.dump(ansatz_grouped, f)"
   ]
  },
  {
   "cell_type": "code",
   "execution_count": null,
   "id": "a7ffaee2-2693-4fcb-9aab-5e4d64519ea8",
   "metadata": {},
   "outputs": [],
   "source": [
    "\n",
    "with open(\"encoders.json\", \"r\") as f: \n",
    "    encoders=json.load(f)\n",
    "\n",
    "\n",
    "with open(\"ansatz.json\", \"r\") as f: \n",
    "    ansatz=json.load(f)\n",
    "\n",
    "\n",
    "\n",
    "with open(\"encoders_grouped.json\", \"r\") as f: \n",
    "    encoders_grouped=json.load(f)\n",
    "    \n",
    "with open('ansatz_grouped.json','r') as f:\n",
    "    ansatz_grouped=json.load(f)"
   ]
  },
  {
   "cell_type": "code",
   "execution_count": null,
   "id": "e31a0b26-c38e-40d7-893e-6c456a864eb3",
   "metadata": {},
   "outputs": [],
   "source": [
    "def ax_format(ax,enc):\n",
    "    ax.set_title(f\"{enc}\")    \n",
    "    ax.set_xlabel('R$^{2}$')\n",
    "    ax.set_ylabel('ENCODER_ANSATZ')\n",
    "    ax.legend(loc=0)\n",
    "    ax.tick_params(axis='x', labelrotation=90)\n",
    "    ax.set_xlim(-1.2,1.2)\n",
    "    for c in ax.containers:\n",
    "        ax.bar_label(c, fmt='{:.2f}',fontsize=14)    "
   ]
  },
  {
   "cell_type": "code",
   "execution_count": null,
   "id": "29fb1061-6e6f-432e-a86f-2fca230c2971",
   "metadata": {},
   "outputs": [],
   "source": [
    "\n",
    "baseline={}\n",
    "stacked_df=[]\n",
    "for idx,(k,v) in enumerate(sorted(function_dict.items())):\n",
    "    # Plot R^2\n",
    "    fig,ax = plt.subplots(len(encoders_grouped)//2,2,figsize=(30,45),sharey=False,sharex=False)\n",
    "    SMALL_SIZE = 8\n",
    "    MEDIUM_SIZE = 24\n",
    "    BIGGER_SIZE = 12\n",
    "    \n",
    "    plt.rc('font', size=MEDIUM_SIZE)          # controls default text sizes\n",
    "    plt.rc('axes', titlesize=MEDIUM_SIZE)     # fontsize of the axes title\n",
    "    plt.rc('axes', labelsize=MEDIUM_SIZE)    # fontsize of the x and y labels\n",
    "    plt.rc('xtick', labelsize=MEDIUM_SIZE)    # fontsize of the tick labels\n",
    "    plt.rc('ytick', labelsize=MEDIUM_SIZE)    # fontsize of the tick labels\n",
    "    plt.rc('legend', fontsize=MEDIUM_SIZE)    # legend fontsize\n",
    "    plt.rc('figure', titlesize=MEDIUM_SIZE)  # fontsize of the figure title\n",
    "    results={}\n",
    "    for i in glob(f\"function-calc-test/sixteenqubit_test/{k}/*/*results.json\"):\n",
    "        dirname=os.path.basename(os.path.dirname(i))\n",
    "        with open(i,'r') as f:\n",
    "            results[dirname]=json.load(f)\n",
    "    baseline[k]=results\n",
    "    r2_df=pd.DataFrame.from_dict(results).T[['R2_train','R2_test']].sort_index().rename(columns={'R2_train':\"Train\",'R2_test':'Test'}).reset_index().melt(id_vars='index').set_index('index')\n",
    "    \n",
    "    stacked=r2_df.copy()\n",
    "    stacked['function']=len(stacked)*[v]\n",
    "    stacked_df.append(stacked)\n",
    "    for idx,(enc, anz) in enumerate(encoders_grouped.items()):\n",
    "        if idx<=6:\n",
    "            sns.barplot(data=r2_df.loc[anz].reset_index(),x='value',y='index',hue='variable',palette=sns.color_palette(\"Paired\",2),ax=ax[idx%7,0])\n",
    "            ax_format(ax[idx%7,0],enc)\n",
    "        else:\n",
    "            sns.barplot(data=r2_df.loc[anz].reset_index(),x='value',y='index',hue='variable',palette=sns.color_palette(\"Paired\",2),ax=ax[idx%7,1])\n",
    "            ax_format(ax[idx%7,1],enc)\n",
    "\n",
    "    fig.suptitle(f'16 Qubit {v} Function Fitting',y=.99)\n",
    "    plt.tight_layout()\n",
    "    if save:\n",
    "        plt.savefig(f'16qubit_{v}_funcfit_R2.png',dpi=300,bbox_inches='tight')\n",
    "    plt.show()\n",
    "\n",
    "\n"
   ]
  },
  {
   "cell_type": "code",
   "execution_count": null,
   "id": "819e2900-fa86-4996-8c9e-f3298c494d28",
   "metadata": {},
   "outputs": [],
   "source": [
    "\n",
    "baseline={}\n",
    "stacked_df=[]\n",
    "for idx,(k,v) in enumerate(sorted(function_dict.items())):\n",
    "    # Plot R^2\n",
    "    fig,ax = plt.subplots(len(encoders_grouped)//2,2,figsize=(30,45),sharey=False,sharex=False)\n",
    "    SMALL_SIZE = 8\n",
    "    MEDIUM_SIZE = 24\n",
    "    BIGGER_SIZE = 12\n",
    "    \n",
    "    plt.rc('font', size=MEDIUM_SIZE)          # controls default text sizes\n",
    "    plt.rc('axes', titlesize=MEDIUM_SIZE)     # fontsize of the axes title\n",
    "    plt.rc('axes', labelsize=MEDIUM_SIZE)    # fontsize of the x and y labels\n",
    "    plt.rc('xtick', labelsize=MEDIUM_SIZE)    # fontsize of the tick labels\n",
    "    plt.rc('ytick', labelsize=MEDIUM_SIZE)    # fontsize of the tick labels\n",
    "    plt.rc('legend', fontsize=MEDIUM_SIZE)    # legend fontsize\n",
    "    plt.rc('figure', titlesize=MEDIUM_SIZE)  # fontsize of the figure title\n",
    "    results={}\n",
    "    for i in glob(f\"function-calc-test/fivequbit_tests/{k.replace('16','5')}/*/*results.json\"):\n",
    "        dirname=os.path.basename(os.path.dirname(i))\n",
    "        with open(i,'r') as f:\n",
    "            results[dirname]=json.load(f)\n",
    "    baseline[k.replace('16','5')]=results\n",
    "    r2_df=pd.DataFrame.from_dict(results).T[['R2_train','R2_test']].sort_index().rename(columns={'R2_train':\"Train\",'R2_test':'Test'}).reset_index().melt(id_vars='index').set_index('index')\n",
    "    \n",
    "    stacked=r2_df.copy()\n",
    "    stacked['function']=len(stacked)*[v]\n",
    "    stacked_df.append(stacked)\n",
    "    for idx,(enc, anz) in enumerate(encoders_grouped.items()):\n",
    "        if idx<=6:\n",
    "            sns.barplot(data=r2_df.loc[anz].reset_index(),x='value',y='index',hue='variable',palette=sns.color_palette(\"Paired\",2),ax=ax[idx%7,0])\n",
    "            ax_format(ax[idx%7,0],enc)\n",
    "        else:\n",
    "            sns.barplot(data=r2_df.loc[anz].reset_index(),x='value',y='index',hue='variable',palette=sns.color_palette(\"Paired\",2),ax=ax[idx%7,1])\n",
    "            ax_format(ax[idx%7,1],enc)\n",
    "\n",
    "    fig.suptitle(f'5 Qubit {v} Function Fitting',y=.99)\n",
    "    plt.tight_layout()\n",
    "    if save:\n",
    "        plt.savefig(f'5qubit_{v}_funcfit_R2.png',dpi=300,bbox_inches='tight')\n",
    "    plt.show()\n",
    "\n",
    "\n",
    "# \n",
    "# plt.tight_layout()\n",
    "# if save:\n",
    "#     plt.savefig('5qubit_funcfit_R2.png',dpi=300,bbox_inches='tight')\n",
    "# plt.show()"
   ]
  },
  {
   "cell_type": "code",
   "execution_count": null,
   "id": "492f5816-2dbc-4bf9-bf21-f2aef35d0bee",
   "metadata": {},
   "outputs": [],
   "source": [
    "stacked_df=pd.concat(stacked_df)\n",
    "# stacked_df.index=pd.MultiIndex.from_tuples(list(zip(stacked_df.index,stacked_df.function)))\n",
    "# stacked_df=stacked_df.drop(columns='function')\n",
    "# df=pd.DataFrame([stacked_df.loc[name].stack() for name in np.unique(np.array(list(stacked_df.index))[:,0])])\n",
    "# df.index=np.unique(np.array(list(stacked_df.index))[:,0])"
   ]
  },
  {
   "cell_type": "code",
   "execution_count": null,
   "id": "228c03bf-a075-488c-a025-2c69d4da8f89",
   "metadata": {},
   "outputs": [],
   "source": [
    "sns.color_palette('Paired',6)"
   ]
  },
  {
   "cell_type": "code",
   "execution_count": null,
   "id": "d4b9e4b9-8dd1-4c68-8c91-17ae4292e96e",
   "metadata": {},
   "outputs": [],
   "source": [
    "for idx,(k,v) in enumerate(sorted(function_dict.items())):\n",
    "    print(idx+1,idx+2)\n",
    "    # sns.kdeplot(data=stacked_df[stacked_df['function']==v],x='value',hue='variable',palette=)"
   ]
  },
  {
   "cell_type": "code",
   "execution_count": null,
   "id": "0e4d4676-57b9-41af-a8a4-e0b4c19910fc",
   "metadata": {},
   "outputs": [],
   "source": []
  },
  {
   "cell_type": "code",
   "execution_count": null,
   "id": "64ed4be3-261e-4222-8d49-5e14d6cedeb5",
   "metadata": {},
   "outputs": [],
   "source": [
    "stacked_df.melt(value_vars=['Train','Test'],ignore_index=False).reset_index(level=1)"
   ]
  },
  {
   "cell_type": "code",
   "execution_count": null,
   "id": "e7759106-5810-483d-aab4-7b42889b7a5c",
   "metadata": {},
   "outputs": [],
   "source": [
    "# Plot R^2\n",
    "fig,ax = plt.subplots(3,1,figsize=(60,45),sharey=True)\n",
    "SMALL_SIZE = 8\n",
    "MEDIUM_SIZE = 24\n",
    "BIGGER_SIZE = 12\n",
    "\n",
    "plt.rc('font', size=MEDIUM_SIZE)          # controls default text sizes\n",
    "plt.rc('axes', titlesize=MEDIUM_SIZE)     # fontsize of the axes title\n",
    "plt.rc('axes', labelsize=MEDIUM_SIZE)    # fontsize of the x and y labels\n",
    "plt.rc('xtick', labelsize=MEDIUM_SIZE)    # fontsize of the tick labels\n",
    "plt.rc('ytick', labelsize=MEDIUM_SIZE)    # fontsize of the tick labels\n",
    "plt.rc('legend', fontsize=MEDIUM_SIZE)    # legend fontsize\n",
    "plt.rc('figure', titlesize=MEDIUM_SIZE)  # fontsize of the figure title\n"
   ]
  },
  {
   "cell_type": "code",
   "execution_count": null,
   "id": "e5f550a1-ef71-4a7b-82d8-25bf950bf08a",
   "metadata": {},
   "outputs": [],
   "source": []
  },
  {
   "cell_type": "code",
   "execution_count": null,
   "id": "2d114efa-285d-44d5-aadb-9b0de2c7bee0",
   "metadata": {},
   "outputs": [],
   "source": []
  },
  {
   "cell_type": "code",
   "execution_count": null,
   "id": "59a7efab-e56e-4562-86c8-d35756a2abfd",
   "metadata": {},
   "outputs": [],
   "source": []
  },
  {
   "cell_type": "code",
   "execution_count": null,
   "id": "7c93c825-f157-4e87-a453-bf1db19c4e91",
   "metadata": {},
   "outputs": [],
   "source": [
    "\n",
    "# df=df.stack().stack().reset_index()\n",
    "# df['level_4']=list(zip(df['level_1'],df['level_2']))\n",
    "# df=df.drop(columns=['level_1','level_2'])"
   ]
  },
  {
   "cell_type": "code",
   "execution_count": null,
   "id": "26b2e59c-b3f3-4db8-aa21-d730f784eedd",
   "metadata": {},
   "outputs": [],
   "source": [
    "df.stack().stack().to_frame().reset_index()"
   ]
  },
  {
   "cell_type": "code",
   "execution_count": null,
   "id": "346d5bc7-e713-4d47-9fb7-01abb414dcfe",
   "metadata": {},
   "outputs": [],
   "source": [
    "sns.catplot(data=df.stack().stack().to_frame().reset_index(),x='level_0',y=0,hue='level_1',row='level_2',kind='bar')"
   ]
  },
  {
   "cell_type": "code",
   "execution_count": null,
   "id": "ebebafe7-026b-4686-a95d-e6e246e8a5f3",
   "metadata": {},
   "outputs": [],
   "source": [
    "df.T.stack().to_frame().reset_index(level=2)"
   ]
  },
  {
   "cell_type": "code",
   "execution_count": null,
   "id": "38b2b91e-6671-4a5c-b455-02dcf64c8978",
   "metadata": {},
   "outputs": [],
   "source": [
    "df[['level_1','level_2']].apply(tuple, axis=1)"
   ]
  },
  {
   "cell_type": "code",
   "execution_count": null,
   "id": "746e12a8-10e8-457b-a180-bb89e0937bf2",
   "metadata": {},
   "outputs": [],
   "source": [
    "sns.barplot(data=df,y='level_0',x=0,hue=df[['level_1','level_2']].apply(tuple, axis=1))"
   ]
  },
  {
   "cell_type": "code",
   "execution_count": null,
   "id": "764dfd7f-79c8-4acc-be5e-4281a06ca4ad",
   "metadata": {},
   "outputs": [],
   "source": []
  },
  {
   "cell_type": "code",
   "execution_count": null,
   "id": "79948ef6-970b-4184-86b5-356fd233c6a8",
   "metadata": {},
   "outputs": [],
   "source": [
    "id_vars=['A'], value_vars=['B']"
   ]
  },
  {
   "cell_type": "code",
   "execution_count": null,
   "id": "b992449c-2140-43dc-8d58-d939affed68b",
   "metadata": {},
   "outputs": [],
   "source": [
    "melt_stack=stacked_df.melt(value_vars=['Train','Test'],ignore_index=False).reset_index()"
   ]
  },
  {
   "cell_type": "code",
   "execution_count": null,
   "id": "af2bebd8-8baf-40a0-a494-3cc15f8fb4eb",
   "metadata": {},
   "outputs": [],
   "source": [
    "stacked_df.stack(level=0).to_frame()"
   ]
  },
  {
   "cell_type": "code",
   "execution_count": null,
   "id": "c617b939-f660-4673-9764-f9cc4ceaa7d0",
   "metadata": {},
   "outputs": [],
   "source": [
    "np.unique(np.array(list(stacked_df.index))[:,0]),np.unique(np.array(list(stacked_df.index))[:,1])"
   ]
  },
  {
   "cell_type": "code",
   "execution_count": null,
   "id": "f87d0da9-968e-4cbd-91ce-bfc86706e6fa",
   "metadata": {},
   "outputs": [],
   "source": [
    "list(stacked_df.index)"
   ]
  },
  {
   "cell_type": "code",
   "execution_count": null,
   "id": "f9d5a468-4ec1-4d75-a0e8-5f014c9f61fb",
   "metadata": {},
   "outputs": [],
   "source": []
  },
  {
   "cell_type": "code",
   "execution_count": null,
   "id": "b187e8d9-e7a3-4e4c-889b-7b394249e2d0",
   "metadata": {},
   "outputs": [],
   "source": [
    "g = sns.catplot(data=melt_stack, kind='bar', x='level_0', y='value', hue='level_1', palette='viridis')\n"
   ]
  },
  {
   "cell_type": "code",
   "execution_count": null,
   "id": "dd8918de-71d1-4631-a053-ba645ac71916",
   "metadata": {},
   "outputs": [],
   "source": [
    "sns.barplot(data=melt_stack,x='level_0',y='value',hue=melt_stack[['level_1','variable']])"
   ]
  },
  {
   "cell_type": "code",
   "execution_count": null,
   "id": "ea6b4211-25fe-4bbc-b318-8f2d1f77ca7c",
   "metadata": {},
   "outputs": [],
   "source": [
    "fig,ax=plt.subplots(1,1,figsize=(15,45))\n",
    "ax=sns.barplot(data=pd.concat(stacked_df).reset_index(),y='index',x='Train',hue='function')"
   ]
  },
  {
   "cell_type": "code",
   "execution_count": null,
   "id": "f390eeb4-c908-4772-a890-747d00c9b7c1",
   "metadata": {},
   "outputs": [],
   "source": [
    "# Plot R^2\n",
    "fig,ax = plt.subplots(1,3,figsize=(30,15),sharey=True)\n",
    "SMALL_SIZE = 8\n",
    "MEDIUM_SIZE = 24\n",
    "BIGGER_SIZE = 12\n",
    "\n",
    "plt.rc('font', size=MEDIUM_SIZE)          # controls default text sizes\n",
    "plt.rc('axes', titlesize=MEDIUM_SIZE)     # fontsize of the axes title\n",
    "plt.rc('axes', labelsize=MEDIUM_SIZE)    # fontsize of the x and y labels\n",
    "plt.rc('xtick', labelsize=MEDIUM_SIZE)    # fontsize of the tick labels\n",
    "plt.rc('ytick', labelsize=MEDIUM_SIZE)    # fontsize of the tick labels\n",
    "plt.rc('legend', fontsize=MEDIUM_SIZE)    # legend fontsize\n",
    "plt.rc('figure', titlesize=MEDIUM_SIZE)  # fontsize of the figure title\n",
    "baseline={}\n",
    "for idx,(k,v) in enumerate(sorted(function_dict.items())):\n",
    "    results={}\n",
    "    for i in glob(f'function-calc-test/sixteenqubit_test/{k}/*/*results.json'):\n",
    "        dirname=os.path.basename(os.path.dirname(i))\n",
    "        with open(i,'r') as f:\n",
    "            results[dirname]=json.load(f)\n",
    "    baseline[k]=results\n",
    "    r2_df=pd.DataFrame.from_dict(results).T[['R2_train','R2_test']].sort_index().rename(columns={'R2_train':\"Train\",'R2_test':'Test'})\n",
    "    sns.barplot(data=r2_df.reset_index().melt(id_vars='index'),x='value',y='index',hue='variable',palette=sns.color_palette(\"Paired\",2),ax=ax[idx])\n",
    "    ax[idx].set_xlabel('R$^{2}$')\n",
    "    ax[idx].set_ylabel('ENCODER_ANSATZ')\n",
    "    ax[idx].set_title(f\"{v} Function\")\n",
    "    ax[idx].tick_params(axis='x', labelrotation=90)\n",
    "    ax[idx].set_xlim(-1.2,1.2)\n",
    "    for c in ax[idx].containers:\n",
    "        ax[idx].bar_label(c, fmt='{:.2f}',fontsize=14)    \n",
    "fig.suptitle('16 Qubit Function Fitting')\n",
    "plt.tight_layout()\n",
    "if save:\n",
    "    plt.savefig('16qubit_funcfit_R2.png',dpi=300,bbox_inches='tight')\n",
    "plt.show()"
   ]
  },
  {
   "cell_type": "code",
   "execution_count": null,
   "id": "64f467cb-622e-4ff3-9034-8e96f369921d",
   "metadata": {},
   "outputs": [],
   "source": [
    "# Plot MAE (kcal/mol)\n",
    "fig,ax = plt.subplots(1,3,figsize=(30,15),sharey=True)\n",
    "SMALL_SIZE = 8\n",
    "MEDIUM_SIZE = 24\n",
    "BIGGER_SIZE = 12\n",
    "\n",
    "plt.rc('font', size=MEDIUM_SIZE)          # controls default text sizes\n",
    "plt.rc('axes', titlesize=MEDIUM_SIZE)     # fontsize of the axes title\n",
    "plt.rc('axes', labelsize=MEDIUM_SIZE)    # fontsize of the x and y labels\n",
    "plt.rc('xtick', labelsize=MEDIUM_SIZE)    # fontsize of the tick labels\n",
    "plt.rc('ytick', labelsize=MEDIUM_SIZE)    # fontsize of the tick labels\n",
    "plt.rc('legend', fontsize=MEDIUM_SIZE)    # legend fontsize\n",
    "plt.rc('figure', titlesize=MEDIUM_SIZE)  # fontsize of the figure title\n",
    "\n",
    "for idx,(k,v) in enumerate(sorted(function_dict.items())):\n",
    "    results={}\n",
    "    for i in glob(f'function-calc-test/sixteenqubit_test/{k}/*/*results.json'):\n",
    "        dirname=os.path.basename(os.path.dirname(i))\n",
    "        with open(i,'r') as f:\n",
    "            results[dirname]=json.load(f)\n",
    "    MAE_df=pd.DataFrame.from_dict(results).T[['MAE_train','MAE_test']].sort_index().rename(columns={'MAE_train':\"Train\",'MAE_test':'Test'})\n",
    "    \n",
    "    sns.barplot(data=MAE_df.reset_index().melt(id_vars='index'),x='value',y='index',hue='variable',palette=sns.color_palette(\"Paired\",2),ax=ax[idx])\n",
    "    ax[idx].set_xlabel('Mean Absolute Error (unitless)')\n",
    "    ax[idx].set_ylabel('ENCODER_ANSATZ')\n",
    "    ax[idx].set_title(f\"{v} Function\")\n",
    "    ax[idx].tick_params(axis='x', labelrotation=90)\n",
    "    ax[idx].set_xlim(0,np.ceil(MAE_df.max().max()).astype(int)+1)\n",
    "    for c in ax[idx].containers:\n",
    "        ax[idx].bar_label(c, fmt='{:.2f}',fontsize=14)    \n",
    "    ax[idx].legend(loc=1)\n",
    "fig.suptitle('16 Qubit Function Fitting')\n",
    "plt.tight_layout()\n",
    "\n",
    "if save:\n",
    "    plt.savefig('16qubit_funcfit_MAE.png',dpi=300,bbox_inches='tight')\n",
    "plt.show()"
   ]
  },
  {
   "cell_type": "code",
   "execution_count": null,
   "id": "fc61741b-e197-4b99-ab15-4a8c88bef37b",
   "metadata": {},
   "outputs": [],
   "source": [
    "\n",
    "results={}\n",
    "for idx,(k,v) in enumerate(sorted(function_dict.items())):\n",
    "    results[k]={}\n",
    "    depth=[3,5]\n",
    "    layers=['RUD','AL']\n",
    "    for d in depth:\n",
    "        results[k][d]={}\n",
    "        for l in layers:\n",
    "            results[k][d][l]={}\n",
    "            for i in glob(f'function-calc-test/move2narval/{d}_{l}_{k}/*/*results.json'):\n",
    "                dirname=os.path.basename(os.path.dirname(i))\n",
    "                with open(i,'r') as f:\n",
    "                    results[k][d][l][dirname]=json.load(f)\n",
    "        # # print(dirname)\n",
    "        # with open(i,'r') as f:\n",
    "        #     results[dirname]={\"baseline\":baseline[k][dirname],\"new\":json.load(f)}"
   ]
  },
  {
   "cell_type": "code",
   "execution_count": null,
   "id": "11cd3cf5-e4e4-4b11-864b-af121287a9da",
   "metadata": {},
   "outputs": [],
   "source": [
    "help(ax.bar_label)"
   ]
  },
  {
   "cell_type": "code",
   "execution_count": null,
   "id": "ba995feb-38c5-4d5f-9319-07cf84ebb228",
   "metadata": {},
   "outputs": [],
   "source": [
    "# Plot MAE (kcal/mol)\n",
    "# fig,ax = plt.subplots(1,3,figsize=(40,15),sharey=False)\n",
    "\n",
    "SMALL_SIZE = 8\n",
    "MEDIUM_SIZE = 24\n",
    "BIGGER_SIZE = 12\n",
    "\n",
    "plt.rc('font', size=MEDIUM_SIZE)          # controls default text sizes\n",
    "plt.rc('axes', titlesize=MEDIUM_SIZE)     # fontsize of the axes title\n",
    "plt.rc('axes', labelsize=MEDIUM_SIZE)    # fontsize of the x and y labels\n",
    "plt.rc('xtick', labelsize=MEDIUM_SIZE)    # fontsize of the tick labels\n",
    "plt.rc('ytick', labelsize=MEDIUM_SIZE)    # fontsize of the tick labels\n",
    "plt.rc('legend', fontsize=MEDIUM_SIZE)    # legend fontsize\n",
    "plt.rc('figure', titlesize=MEDIUM_SIZE)  # fontsize of the figure title\n",
    "compiled_data={}\n",
    "for idx,(k,v) in enumerate(results.items()):\n",
    "    plt.figure(figsize=(20,40))\n",
    "    stackedf=[]\n",
    "    for kd,vd in v.items():\n",
    "        for kl, vl in vd.items():\n",
    "            \n",
    "            df=pd.DataFrame.from_dict(vl).loc[['R2_train','R2_test']].T.rename(columns={'R2_train':'Train','R2_test':'Test'}).sort_index().reset_index().melt(id_vars='index', value_vars=['Train','Test'])\n",
    "            df['variable']=['_'.join(t) for t in tuple(zip(df['variable'],len(df)*[str(kd)],len(df)*[kl]))]\n",
    "            stackedf.append(df)\n",
    "\n",
    "    stackeddf=pd.concat(stackedf)\n",
    "    \n",
    "    basedf=pd.DataFrame.from_dict(baseline[k]).loc[['R2_train','R2_test']].T.rename(columns={'R2_train':'Train','R2_test':'Test'}).loc[list(set(stackeddf['index']))].sort_index().reset_index().melt(id_vars='index', value_vars=['Train','Test'])\n",
    "    basedf['variable']=['_'.join(t) for t in tuple(zip(basedf['variable'],len(basedf)*[\"baseline\"]))]\n",
    "    alldf=pd.concat([stackeddf,basedf])\n",
    "    ax=sns.barplot(data=alldf,y='index',x='value',hue='variable',palette=sns.color_palette('Paired'),width=0.95)\n",
    "    # Fix legend labels\n",
    "    for text in plt.legend().get_texts():\n",
    "        text.set_text(' '.join([i for i in text.get_text().split('_')]))\n",
    "    # Add R2 to containers\n",
    "    for container in ax.containers:\n",
    "        ax.bar_label(container, fmt='{:.2f}',fontsize=MEDIUM_SIZE*0.75)\n",
    "\n",
    "    plt.ylabel('ENCODER_ANSATZ')\n",
    "    plt.xlabel(\"R$^{2}$\")\n",
    "    plt.xlim(-1.1,1.1)\n",
    "    plt.title(f\"{function_dict[k]} Re-upload and Ansatz Layers\")\n",
    "    \n",
    "    if save:\n",
    "        plt.savefig(f'{function_dict[k]}_16qubit_funcfit_R2_depth_layer.png',dpi=300,bbox_inches='tight')\n",
    "    plt.show()\n",
    "    compiled_data[k]=alldf"
   ]
  },
  {
   "cell_type": "code",
   "execution_count": null,
   "id": "4cbaded8-d5c2-4661-a7fa-3d1bf782da6e",
   "metadata": {},
   "outputs": [],
   "source": [
    "# SPlit names into encoder and ansatz\n",
    "enc_anz=np.array([i.split('_') for i in MAE_df.index])\n",
    "if save:\n",
    "    with open('16qubit_enc_anz.txt','w') as f:\n",
    "        f.write('Encoders\\n')\n",
    "        f.write(''.join(len('Encoders')*['-'])+'\\n')\n",
    "        for i in np.unique(enc_anz[:,0]):\n",
    "            f.write(i+'\\n')\n",
    "        f.write('\\nAnsatz\\n')\n",
    "        f.write(''.join(len('Ansatz')*['-'])+'\\n')\n",
    "        for j in np.unique(enc_anz[:,1]):\n",
    "            f.write(j+'\\n')"
   ]
  },
  {
   "cell_type": "code",
   "execution_count": null,
   "id": "cb17991a-064b-41f8-8cd0-f4b5e269360d",
   "metadata": {},
   "outputs": [],
   "source": [
    "# Create dictionary of results for linear, quadratic, and sine function\n",
    "func_results={}\n",
    "for idx,(k,v) in enumerate(sorted(function_dict.items())):\n",
    "    results={}\n",
    "    for i in glob(f'function-calc-test/sixteenqubit_test/{k}/*/*results.json'):\n",
    "        dirname=os.path.basename(os.path.dirname(i))\n",
    "        with open(i,'r') as f:\n",
    "            results[dirname]=json.load(f)\n",
    "    func_results[v]=results"
   ]
  },
  {
   "cell_type": "code",
   "execution_count": null,
   "id": "1be58383-8391-4a7e-8f3e-171488787602",
   "metadata": {},
   "outputs": [],
   "source": [
    "# Find the best, worst, and middle 5 for linear function fitting\n",
    "lindf=pd.DataFrame.from_dict(func_results['Linear']).T[['R2_train','R2_test']]\n",
    "\n",
    "bottom_lin=lindf.T.mean().sort_values(ascending=False).iloc[-5:]\n",
    "top_lin=lindf.T.mean().sort_values(ascending=False).iloc[:5]\n",
    "linmed=len(lindf)//2\n",
    "middle_lin=pd.concat([lindf.T.mean().astype(float).sort_values().iloc[linmed-2:linmed],lindf.T.mean().astype(float).sort_values().iloc[linmed:linmed+3]],axis=0)\n",
    "\n",
    "mv_lin=list(bottom_lin.index)+list(top_lin.index)+list(middle_lin.index)"
   ]
  },
  {
   "cell_type": "code",
   "execution_count": null,
   "id": "4cdaa665-7649-4b9a-9bf2-8488533ecd47",
   "metadata": {},
   "outputs": [],
   "source": [
    "# Find the best, worst, and middle 5 for quadratic function fitting\n",
    "quaddf=pd.DataFrame.from_dict(func_results['Quadratic']).T[['R2_train','R2_test']]\n",
    "bestfivequad=quaddf[quaddf>0].dropna().sort_values(by=['R2_test'],ascending=False).iloc[0:5]\n",
    "\n",
    "bottom_quad=quaddf.T.mean().sort_values(ascending=False).iloc[-5:]\n",
    "top_quad=quaddf.T.mean().sort_values(ascending=False).iloc[:5]\n",
    "quadmed=len(quaddf)//2\n",
    "middle_quad=pd.concat([quaddf.T.mean().astype(float).sort_values().iloc[quadmed-2:quadmed],quaddf.T.mean().astype(float).sort_values().iloc[quadmed:quadmed+3]],axis=0)\n",
    "\n",
    "mv_quad=list(bottom_quad.index)+list(top_quad.index)+list(middle_quad.index)"
   ]
  },
  {
   "cell_type": "code",
   "execution_count": null,
   "id": "aba43fa1-afe0-440b-98e0-fcc67dad1a6a",
   "metadata": {},
   "outputs": [],
   "source": [
    "# Find the best, worst, and middle 5 for sine function fitting\n",
    "sinedf=pd.DataFrame.from_dict(func_results['Sine']).T[['R2_train','R2_test']]\n",
    "bestfivesine=sinedf[sinedf>0].dropna().sort_values(by=['R2_test'],ascending=False).iloc[0:5]\n",
    "\n",
    "bottom_sine=sinedf.T.mean().sort_values(ascending=False).iloc[-5:]\n",
    "top_sine=sinedf.T.mean().sort_values(ascending=False).iloc[:5]\n",
    "sinemed=len(sinedf)//2\n",
    "middle_sine=pd.concat([sinedf.T.mean().astype(float).sort_values().iloc[sinemed-2:sinemed],sinedf.T.mean().astype(float).sort_values().iloc[sinemed:sinemed+3]],axis=0)\n",
    "\n",
    "mv_sine=list(bottom_sine.index)+list(top_sine.index)+list(middle_sine.index)"
   ]
  },
  {
   "cell_type": "code",
   "execution_count": null,
   "id": "a2569c61-d31e-4026-940e-bbee495bd10c",
   "metadata": {},
   "outputs": [],
   "source": [
    "# params:\n",
    "# -RUD: re-upload depth\n",
    "# -AL: ansatz layer depth\n",
    "#\n",
    "# param_depth: either 3 or 5 layers\n",
    "params=['RUD','AL']\n",
    "param_depth=[3,5]"
   ]
  },
  {
   "cell_type": "code",
   "execution_count": null,
   "id": "4ce8de29-aca0-40f1-b875-3f3ca0160066",
   "metadata": {},
   "outputs": [],
   "source": [
    "mv_dict={'quad16qubit':mv_quad,'sin16qubit':mv_sine,'lin16qubit':mv_lin}"
   ]
  },
  {
   "cell_type": "code",
   "execution_count": null,
   "id": "0ae5cb2e-dbed-4ebc-889b-fb46ff7dbe86",
   "metadata": {},
   "outputs": [],
   "source": [
    "def write_run(top_dir,work_dir,func,writefile):\n",
    "    \"\"\"\n",
    "    Write run.sh to file\n",
    "\n",
    "    params\n",
    "    ------\n",
    "    top_dir: str\n",
    "        Name of top directory in scratch\n",
    "    \n",
    "    work_dir: str\n",
    "        Name of test directory\n",
    "        \n",
    "    func: str\n",
    "        Function being tested\n",
    "\n",
    "    writefile: str\n",
    "        Path and file name in directory\n",
    "\n",
    "    \"\"\"\n",
    "    runfile=\"\"\"#! /bin/bash\n",
    "for i in */; do\n",
    "    name=${i%/}\n",
    "    # Extracting the parent directory name\n",
    "    settings_folder=${name#M-A1-CNOT_Efficient-CRX_}\"\"\"+f\"\"\"\n",
    "    path=\"/home/gjones/scratch/{top_dir}/{work_dir}\"\"\"+\"\"\"/${name}\"\n",
    "    if [ ! -f ${path}/${name}_results.json ]; then\n",
    "        echo \"${name}.done not found!\"\n",
    "    \tcat > ${name}.sub <<EOF\n",
    "#! /bin/bash\n",
    "#SBATCH -t 0-12:00:00\n",
    "#SBATCH -J \"\"\"+f\"\"\"{work_dir}\"\"\"+\"\"\"_${name}\n",
    "#SBATCH -N 1\n",
    "#SBATCH -n 12\n",
    "#SBATCH --account=rrg-jacobsen-ab\n",
    "#SBATCH --error=${name}.e%J        # The file where run time errors will be dumped\n",
    "#SBATCH --output=${name}.o%J               # The file where the output of the terminal will be dumped\n",
    "\n",
    "module load apptainer \n",
    "cd $(pwd)/$name\"\"\"+f\"\"\"\n",
    "\n",
    "apptainer run -C -B /home/gjones/scratch/{top_dir}/{work_dir} ~/deb.sif /opt/miniconda/bin/python /home/gjones/scratch/{top_dir}/{work_dir}/main.py\"\"\"+\"\"\"--save_path ${path}  --settings ${path}/${name}.json\"\"\"+f\"\"\" --train_set /home/gjones/scratch/{top_dir}/{work_dir}/{func}_train.bin --test_set /home/gjones/scratch/{top_dir}/{work_dir}/{func}_test.bin --scaler /home/gjones/scratch/{top_dir}/{work_dir}/{func}_scaler.bin\"\"\"+\"\"\" >> ${name}.out 2>&1 \n",
    "\n",
    "cd ..\n",
    "touch ${name}.done\n",
    "\n",
    "EOF\n",
    "    fi\n",
    "    echo \"Done ${name}.sub\"\n",
    "done\n",
    "\"\"\"\n",
    "    with open(writefile,'w') as f:\n",
    "        f.write(runfile)"
   ]
  },
  {
   "cell_type": "code",
   "execution_count": null,
   "id": "90109434-a92c-4950-ad7b-ae963f96e6ec",
   "metadata": {},
   "outputs": [],
   "source": [
    "move=False\n",
    "if move:\n",
    "    # Move directories to new directory\n",
    "    for idx,(k,v) in enumerate(sorted(function_dict.items())):\n",
    "        for p in params:\n",
    "            for pd in param_depth:\n",
    "                dirname=f\"{pd}_{p}_{k}\"\n",
    "                mv2narval=os.path.join(f'{os.getcwd()}/function-calc-test/move2narval/',dirname)\n",
    "                if os.path.exists(mv2narval)==False:\n",
    "                    os.mkdir(mv2narval)\n",
    "                for subdir in mv_dict[k]:\n",
    "                    copy_tree(f\"{os.getcwd()}/function-calc-test/sixteenqubit_test/{k}/{subdir}\",os.path.join(mv2narval,subdir))\n",
    "                    # Write json files\n",
    "                    jsonname=os.path.join(mv2narval,subdir,subdir+'.json')\n",
    "                    with open(jsonname,'r') as f:\n",
    "                        jsondict=json.load(f)\n",
    "                    if p=='RUD':\n",
    "                        jsondict['RE-UPLOAD_DEPTH']=pd\n",
    "                    else:\n",
    "                        jsondict['LAYERS']=pd\n",
    "                    with open(jsonname,'w') as f:\n",
    "                        json.dump(jsondict,f)\n",
    "                        \n",
    "    # Move data and helper files\n",
    "    for k,v in function_dict.items():\n",
    "        for subdir in glob(f'{os.getcwd()}/function-calc-test/move2narval/*_{k}'):\n",
    "            # Move run.sh\n",
    "            copy(f\"{os.getcwd()}/function-calc-test/sixteenqubit_test/{k}/run.sh\",subdir)\n",
    "            for file in glob(f'{os.getcwd()}/function-calc-test/{v.lower()}/{v.lower()}*bin'):\n",
    "                # Move data bin files\n",
    "                copy(file,subdir)\n",
    "            # Move helper files\n",
    "            copy(f'{os.getcwd()}/function-calc-test/sixteenqubit_test/helperfiles.zip',subdir)\n",
    "    # write run.sh\n",
    "    for k,v in function_dict.items():\n",
    "        print(v.lower())\n",
    "        for filename in glob(f\"./function-calc-test/move2narval/*{k}\"):\n",
    "            write_run(\"move2narval\",os.path.basename(filename),v.lower(),os.path.join(filename,'run.sh'))\n",
    "            # Copy resubmit.sh \n",
    "            copy(\"/home/grierjones/qregress/function-calc-test/sixteenqubit_test/lin16qubit/resubmit.sh\",filename)\n"
   ]
  },
  {
   "cell_type": "code",
   "execution_count": null,
   "id": "bbc307bd-3b9c-4ce4-a595-88c880011b06",
   "metadata": {},
   "outputs": [],
   "source": []
  }
 ],
 "metadata": {
  "kernelspec": {
   "display_name": "Python 3 (ipykernel)",
   "language": "python",
   "name": "python3"
  },
  "language_info": {
   "codemirror_mode": {
    "name": "ipython",
    "version": 3
   },
   "file_extension": ".py",
   "mimetype": "text/x-python",
   "name": "python",
   "nbconvert_exporter": "python",
   "pygments_lexer": "ipython3",
   "version": "3.12.2"
  }
 },
 "nbformat": 4,
 "nbformat_minor": 5
}
