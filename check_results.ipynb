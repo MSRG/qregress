{
 "cells": [
  {
   "cell_type": "code",
   "execution_count": null,
   "id": "7fa7af53-fcc9-4e3d-aefb-77faeaeb013f",
   "metadata": {},
   "outputs": [],
   "source": [
    "from glob import glob\n",
    "import os\n",
    "import json\n",
    "import matplotlib.pyplot as plt\n",
    "import seaborn as sns\n",
    "import pandas as pd"
   ]
  },
  {
   "cell_type": "code",
   "execution_count": null,
   "id": "479787d7-53a6-455b-9755-b9c86de12d81",
   "metadata": {},
   "outputs": [],
   "source": [
    "results={}\n",
    "for i in glob('function-calc-test/lin5qubits/*/*results.json'):\n",
    "\n",
    "    with open(i,'r') as f:\n",
    "        results[os.path.basename(os.path.dirname(i))]=json.load(f)"
   ]
  },
  {
   "cell_type": "code",
   "execution_count": null,
   "id": "64f467cb-622e-4ff3-9034-8e96f369921d",
   "metadata": {},
   "outputs": [],
   "source": [
    "r2_df=pd.DataFrame.from_dict(results).T[['R2_train','R2_test']].sort_index()"
   ]
  },
  {
   "cell_type": "code",
   "execution_count": null,
   "id": "35bf435b-b08a-474e-be8b-bcb1a4bbcf09",
   "metadata": {},
   "outputs": [],
   "source": [
    "r2_df.sort_values(by='R2_train')"
   ]
  },
  {
   "cell_type": "code",
   "execution_count": null,
   "id": "584df175-143a-46d6-9f67-242bfc863119",
   "metadata": {},
   "outputs": [],
   "source": [
    "fig,ax = plt.subplots(1,1,figsize=(10,5))\n",
    "ax=sns.barplot(data=r2_df.reset_index().melt(id_vars='index'),x='index',y='value',hue='variable',palette=sns.color_palette(\"Paired\",2))\n",
    "ax.tick_params(axis='x', labelrotation=90)\n",
    "plt.ylabel('R$^{2}$')\n",
    "plt.xlabel('ENCODER_ANSATZ')\n",
    "plt.show()"
   ]
  },
  {
   "cell_type": "code",
   "execution_count": null,
   "id": "f26ae936-694a-4252-a473-b49b5f8ab546",
   "metadata": {},
   "outputs": [],
   "source": [
    "preddf=pd.read_csv(\"./function-calc-test/lin5qubits/A1_Full-Pauli-CRX/A1_Full-Pauli-CRX_predicted_values.csv\")\n",
    "preddf['Predicted']=[float(i.strip('[]')) for i in preddf['Predicted'].values]\n",
    "preddf['Reference']=[float(i.strip('[]')) for i in preddf['Reference'].values]"
   ]
  },
  {
   "cell_type": "code",
   "execution_count": null,
   "id": "904d5c09-2773-4af8-8773-66e3dd76dcf4",
   "metadata": {},
   "outputs": [],
   "source": [
    "sns.scatterplot(data=preddf,x='Predicted',y='Reference', hue='Data')"
   ]
  },
  {
   "cell_type": "code",
   "execution_count": null,
   "id": "112f9982-06c1-4527-a26e-ac35d2d63597",
   "metadata": {},
   "outputs": [],
   "source": [
    "r2_df.sort_values(by='R2_train',ascending=False)"
   ]
  },
  {
   "cell_type": "code",
   "execution_count": null,
   "id": "1de7625b-865a-440e-a624-5bcac34c7a23",
   "metadata": {},
   "outputs": [],
   "source": []
  }
 ],
 "metadata": {
  "kernelspec": {
   "display_name": "qchem",
   "language": "python",
   "name": "qchem"
  },
  "language_info": {
   "codemirror_mode": {
    "name": "ipython",
    "version": 3
   },
   "file_extension": ".py",
   "mimetype": "text/x-python",
   "name": "python",
   "nbconvert_exporter": "python",
   "pygments_lexer": "ipython3",
   "version": "3.9.0"
  }
 },
 "nbformat": 4,
 "nbformat_minor": 5
}
