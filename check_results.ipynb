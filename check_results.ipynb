{
 "cells": [
  {
   "cell_type": "code",
   "execution_count": null,
   "id": "7fa7af53-fcc9-4e3d-aefb-77faeaeb013f",
   "metadata": {},
   "outputs": [],
   "source": [
    "import sys\n",
    "# !{sys.executable} -m pip install seaborn\n",
    "from glob import glob\n",
    "import os\n",
    "import json\n",
    "import matplotlib.pyplot as plt\n",
    "import seaborn as sns\n",
    "import pandas as pd"
   ]
  },
  {
   "cell_type": "code",
   "execution_count": null,
   "id": "0f808c1c-baf9-4451-a0ea-14bb88f6a33a",
   "metadata": {},
   "outputs": [],
   "source": [
    "with open(\"function-calc-test/lin5qubits/scores.json\",'r') as f:\n",
    "    results=json.load(f)"
   ]
  },
  {
   "cell_type": "code",
   "execution_count": null,
   "id": "479787d7-53a6-455b-9755-b9c86de12d81",
   "metadata": {},
   "outputs": [],
   "source": [
    "# results={}\n",
    "# for i in glob('function-calc-test/lin5qubits/*/*results.json'):\n",
    "\n",
    "#     with open(i,'r') as f:\n",
    "#         results[os.path.basename(os.path.dirname(i))]=json.load(f)"
   ]
  },
  {
   "cell_type": "code",
   "execution_count": null,
   "id": "64f467cb-622e-4ff3-9034-8e96f369921d",
   "metadata": {},
   "outputs": [],
   "source": [
    "r2_df=pd.DataFrame.from_dict(results).T[['R2_train','R2_test']].sort_values(by='R2_test')"
   ]
  },
  {
   "cell_type": "code",
   "execution_count": null,
   "id": "35bf435b-b08a-474e-be8b-bcb1a4bbcf09",
   "metadata": {},
   "outputs": [],
   "source": [
    "r2_df"
   ]
  },
  {
   "cell_type": "code",
   "execution_count": null,
   "id": "584df175-143a-46d6-9f67-242bfc863119",
   "metadata": {},
   "outputs": [],
   "source": [
    "fig,ax = plt.subplots(1,1,figsize=(8,30))\n",
    "ax=sns.barplot(data=r2_df.reset_index().melt(id_vars='index'),x='value',y='index',hue='variable',palette=sns.color_palette(\"Paired\",2))\n",
    "ax.tick_params(axis='x', labelrotation=90)\n",
    "plt.xlabel('R$^{2}$')\n",
    "plt.ylabel('ENCODER_ANSATZ')\n",
    "plt.title(\"Linear Function Fitting with 5 Qubits\")\n",
    "plt.tight_layout()\n",
    "plt.savefig(\"bar_Q5_RUD1_AL1_TS0.8_qulacs.png\",dpi=300,bbox_inches=\"tight\")\n",
    "\n",
    "plt.show()"
   ]
  },
  {
   "cell_type": "code",
   "execution_count": null,
   "id": "8d585616-3057-4237-bf36-9d8f630305db",
   "metadata": {},
   "outputs": [],
   "source": []
  }
 ],
 "metadata": {
  "kernelspec": {
   "display_name": "Python 3 (ipykernel)",
   "language": "python",
   "name": "python3"
  },
  "language_info": {
   "codemirror_mode": {
    "name": "ipython",
    "version": 3
   },
   "file_extension": ".py",
   "mimetype": "text/x-python",
   "name": "python",
   "nbconvert_exporter": "python",
   "pygments_lexer": "ipython3",
   "version": "3.9.18"
  }
 },
 "nbformat": 4,
 "nbformat_minor": 5
}
