{
 "cells": [
  {
   "cell_type": "code",
   "execution_count": null,
   "id": "7fa7af53-fcc9-4e3d-aefb-77faeaeb013f",
   "metadata": {},
   "outputs": [],
   "source": [
    "import sys\n",
    "# !{sys.executable} -m pip install seaborn\n",
    "from glob import glob\n",
    "import os\n",
    "import json\n",
    "import matplotlib.pyplot as plt\n",
    "import seaborn as sns\n",
    "import pandas as pd\n",
    "import numpy as np"
   ]
  },
  {
   "cell_type": "code",
   "execution_count": null,
   "id": "be4949c0-aa4c-4d06-bf05-71053574ad38",
   "metadata": {},
   "outputs": [],
   "source": [
    "function_dict={'quad16qubit':'Quadratic','lin16qubit':'Linear','sin16qubit':'Sine'}"
   ]
  },
  {
   "cell_type": "code",
   "execution_count": null,
   "id": "f390eeb4-c908-4772-a890-747d00c9b7c1",
   "metadata": {},
   "outputs": [],
   "source": [
    "fig,ax = plt.subplots(1,3,figsize=(30,15),sharey=True)\n",
    "SMALL_SIZE = 8\n",
    "MEDIUM_SIZE = 22\n",
    "BIGGER_SIZE = 12\n",
    "\n",
    "plt.rc('font', size=MEDIUM_SIZE)          # controls default text sizes\n",
    "plt.rc('axes', titlesize=MEDIUM_SIZE)     # fontsize of the axes title\n",
    "plt.rc('axes', labelsize=MEDIUM_SIZE)    # fontsize of the x and y labels\n",
    "plt.rc('xtick', labelsize=MEDIUM_SIZE)    # fontsize of the tick labels\n",
    "plt.rc('ytick', labelsize=MEDIUM_SIZE)    # fontsize of the tick labels\n",
    "plt.rc('legend', fontsize=MEDIUM_SIZE)    # legend fontsize\n",
    "plt.rc('figure', titlesize=MEDIUM_SIZE)  # fontsize of the figure title\n",
    "\n",
    "for idx,(k,v) in enumerate(sorted(function_dict.items())):\n",
    "    results={}\n",
    "    for i in glob(f'function-calc-test/sixteenqubit_test/{k}/*/*results.json'):\n",
    "        dirname=os.path.basename(os.path.dirname(i))\n",
    "        with open(i,'r') as f:\n",
    "            results[dirname]=json.load(f)\n",
    "    r2_df=pd.DataFrame.from_dict(results).T[['R2_train','R2_test']].sort_index().rename(columns={'R2_train':\"Train\",'R2_test':'Test'})\n",
    "    sns.barplot(data=r2_df.reset_index().melt(id_vars='index'),x='value',y='index',hue='variable',palette=sns.color_palette(\"Paired\",2),ax=ax[idx])\n",
    "    ax[idx].set_xlabel('R$^{2}$')\n",
    "    ax[idx].set_ylabel('ENCODER_ANSATZ')\n",
    "    ax[idx].set_title(f\"{v} Function\")\n",
    "    ax[idx].tick_params(axis='x', labelrotation=90)\n",
    "    ax[idx].set_xlim(-1,1)\n",
    "fig.suptitle('16 Qubit Function Fitting')\n",
    "plt.tight_layout()\n",
    "plt.savefig('16qubit_funcfit_R2.png',dpi=300,bbox_inches='tight')\n",
    "plt.show()"
   ]
  },
  {
   "cell_type": "code",
   "execution_count": null,
   "id": "64f467cb-622e-4ff3-9034-8e96f369921d",
   "metadata": {},
   "outputs": [],
   "source": [
    "fig,ax = plt.subplots(1,3,figsize=(30,15),sharey=True)\n",
    "SMALL_SIZE = 8\n",
    "MEDIUM_SIZE = 22\n",
    "BIGGER_SIZE = 12\n",
    "\n",
    "plt.rc('font', size=MEDIUM_SIZE)          # controls default text sizes\n",
    "plt.rc('axes', titlesize=MEDIUM_SIZE)     # fontsize of the axes title\n",
    "plt.rc('axes', labelsize=MEDIUM_SIZE)    # fontsize of the x and y labels\n",
    "plt.rc('xtick', labelsize=MEDIUM_SIZE)    # fontsize of the tick labels\n",
    "plt.rc('ytick', labelsize=MEDIUM_SIZE)    # fontsize of the tick labels\n",
    "plt.rc('legend', fontsize=MEDIUM_SIZE)    # legend fontsize\n",
    "plt.rc('figure', titlesize=MEDIUM_SIZE)  # fontsize of the figure title\n",
    "\n",
    "for idx,(k,v) in enumerate(sorted(function_dict.items())):\n",
    "    results={}\n",
    "    for i in glob(f'function-calc-test/sixteenqubit_test/{k}/*/*results.json'):\n",
    "        dirname=os.path.basename(os.path.dirname(i))\n",
    "        with open(i,'r') as f:\n",
    "            results[dirname]=json.load(f)\n",
    "    MAE_df=pd.DataFrame.from_dict(results).T[['MAE_train','MAE_test']].sort_index().rename(columns={'MAE_train':\"Train\",'MAE_test':'Test'})\n",
    "    \n",
    "    sns.barplot(data=MAE_df.reset_index().melt(id_vars='index'),x='value',y='index',hue='variable',palette=sns.color_palette(\"Paired\",2),ax=ax[idx])\n",
    "    ax[idx].set_xlabel('Mean Absolute Error (kcal/mol)')\n",
    "    ax[idx].set_ylabel('ENCODER_ANSATZ')\n",
    "    ax[idx].set_title(f\"{v} Function\")\n",
    "    ax[idx].tick_params(axis='x', labelrotation=90)\n",
    "    ax[idx].set_xlim(0,np.ceil(MAE_df.max().max()).astype(int))\n",
    "fig.suptitle('16 Qubit Function Fitting')\n",
    "plt.tight_layout()\n",
    "plt.savefig('16qubit_funcfit_MAE.png',dpi=300,bbox_inches='tight')\n",
    "plt.show()"
   ]
  },
  {
   "cell_type": "code",
   "execution_count": null,
   "id": "f0cc0970-5187-4762-8a87-bb802a4164d3",
   "metadata": {},
   "outputs": [],
   "source": [
    "enc_anz=np.array([i.split('_') for i in MAE_df.index])"
   ]
  },
  {
   "cell_type": "code",
   "execution_count": null,
   "id": "4cbaded8-d5c2-4661-a7fa-3d1bf782da6e",
   "metadata": {},
   "outputs": [],
   "source": [
    "with open('16qubit_enc_anz.txt','w') as f:\n",
    "    f.write('Encoders\\n')\n",
    "    f.write(''.join(len('Encoders')*['-'])+'\\n')\n",
    "    for i in np.unique(enc_anz[:,0]):\n",
    "        f.write(i+'\\n')\n",
    "    f.write('\\nAnsatz\\n')\n",
    "    f.write(''.join(len('Ansatz')*['-'])+'\\n')\n",
    "    for j in np.unique(enc_anz[:,1]):\n",
    "        f.write(j+'\\n')"
   ]
  },
  {
   "cell_type": "code",
   "execution_count": null,
   "id": "cb17991a-064b-41f8-8cd0-f4b5e269360d",
   "metadata": {},
   "outputs": [],
   "source": []
  }
 ],
 "metadata": {
  "kernelspec": {
   "display_name": "Python 3 (ipykernel)",
   "language": "python",
   "name": "python3"
  },
  "language_info": {
   "codemirror_mode": {
    "name": "ipython",
    "version": 3
   },
   "file_extension": ".py",
   "mimetype": "text/x-python",
   "name": "python",
   "nbconvert_exporter": "python",
   "pygments_lexer": "ipython3",
   "version": "3.8.19"
  }
 },
 "nbformat": 4,
 "nbformat_minor": 5
}
