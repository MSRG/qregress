{
 "cells": [
  {
   "cell_type": "code",
   "execution_count": null,
   "id": "7fa7af53-fcc9-4e3d-aefb-77faeaeb013f",
   "metadata": {},
   "outputs": [],
   "source": [
    "# Import required packages\n",
    "import sys\n",
    "# !{sys.executable} -m pip install seaborn\n",
    "from glob import glob\n",
    "import os\n",
    "import json\n",
    "import joblib\n",
    "import matplotlib.pyplot as plt\n",
    "import seaborn as sns\n",
    "import pandas as pd\n",
    "import numpy as np\n",
    "from shutil import copy,move\n",
    "from distutils.dir_util import copy_tree\n"
   ]
  },
  {
   "cell_type": "code",
   "execution_count": null,
   "id": "d061ca7b-8448-4c31-b15e-a88f5abeb5bd",
   "metadata": {},
   "outputs": [],
   "source": [
    "def results_df(path):\n",
    "    '''\n",
    "    Take the top directory where the results are and return a nice Pandas dataframe\n",
    "\n",
    "    parameters\n",
    "    ----------\n",
    "    path: str\n",
    "        Path to the top directory `path/*/*results.json`\n",
    "\n",
    "    returns\n",
    "    -------\n",
    "    df: pd.DataFrame\n",
    "        Dataframe containing results\n",
    "    '''\n",
    "    results_dict = {}\n",
    "    for i in glob(os.path.join(path,'*/*results.json')):\n",
    "        with open(i,'r') as f:\n",
    "            results = json.load(f)\n",
    "        name = os.path.basename(i).replace('_results.json','')\n",
    "        results['encoder']=name.split('_')[0]\n",
    "        results['ansatz']=name.split('_')[1]\n",
    "        results_dict[name]=results\n",
    "\n",
    "    df = pd.DataFrame(results_dict).T\n",
    "    \n",
    "    return df\n",
    "\n"
   ]
  },
  {
   "cell_type": "code",
   "execution_count": null,
   "id": "07622dc4-aa3f-42ee-8804-edd16098b6db",
   "metadata": {},
   "outputs": [],
   "source": [
    "def plot_all(df,name,save_dir):\n",
    "    fig, (ax1, ax2) = plt.subplots(1,2,figsize=(12,6), gridspec_kw={'width_ratios': [1, 1]})\n",
    "    SMALL_SIZE = 8\n",
    "    MEDIUM_SIZE = 12\n",
    "    BIGGER_SIZE = 12\n",
    "    figsize = fig.get_size_inches()\n",
    "    fig.set_size_inches(figsize * 1.2)\n",
    "    plt.rc('font', size=MEDIUM_SIZE)          # controls default text sizes\n",
    "    plt.rc('axes', titlesize=MEDIUM_SIZE)     # fontsize of the axes title\n",
    "    plt.rc('axes', labelsize=MEDIUM_SIZE)    # fontsize of the x and y labels\n",
    "    plt.rc('xtick', labelsize=MEDIUM_SIZE)    # fontsize of the tick labels\n",
    "    plt.rc('ytick', labelsize=MEDIUM_SIZE)    # fontsize of the tick labels\n",
    "    plt.rc('legend', fontsize=MEDIUM_SIZE)    # legend fontsize\n",
    "    plt.rc('figure', titlesize=MEDIUM_SIZE)  # fontsize of the figure title\n",
    "    \n",
    "    \n",
    "    sns.boxplot(data=df,x='encoder',y='value',hue='variable',ax=ax1,palette=sns.color_palette('Paired',2))\n",
    "    ax1.set_xticklabels(ax1.get_xticklabels(), rotation=90) \n",
    "    ax1.set_ylim(np.floor(df['value'].min()),np.ceil(df['value'].max()))\n",
    "    ax1.set_ylabel('R$^{2}$')\n",
    "    ax1.set_xlabel('Encoder')\n",
    "    ax1.legend(title='')\n",
    "    \n",
    "    sns.boxplot(data=df,x='ansatz',y='value',hue='variable',ax=ax2,palette=sns.color_palette('Paired',2))\n",
    "    ax2.set_xticklabels(ax2.get_xticklabels(), rotation=90) \n",
    "    ax2.set_ylim(np.floor(df['value'].min()),np.ceil(df['value'].max()))\n",
    "    ax2.set_ylabel('R$^{2}$')\n",
    "    ax2.set_xlabel('Ansatz')\n",
    "    ax2.legend(title='')\n",
    "    plt.tight_layout()\n",
    "    plt.savefig(os.path.join(os.path.expanduser('~'),save_dir,f'{name}_boxplots.png'),dpi=300,bbox_inches='tight')\n",
    "    plt.show()\n",
    "    \n",
    "    fig, (ax1, ax2) = plt.subplots(1,2,figsize=(13,6),sharey=False)\n",
    "    SMALL_SIZE = 8\n",
    "    MEDIUM_SIZE = 12\n",
    "    BIGGER_SIZE = 12\n",
    "    \n",
    "    plt.rc('font', size=MEDIUM_SIZE)          # controls default text sizes\n",
    "    plt.rc('axes', titlesize=MEDIUM_SIZE)     # fontsize of the axes title\n",
    "    plt.rc('axes', labelsize=MEDIUM_SIZE)    # fontsize of the x and y labels\n",
    "    plt.rc('xtick', labelsize=MEDIUM_SIZE)    # fontsize of the tick labels\n",
    "    plt.rc('ytick', labelsize=MEDIUM_SIZE)    # fontsize of the tick labels\n",
    "    plt.rc('legend', fontsize=MEDIUM_SIZE)    # legend fontsize\n",
    "    plt.rc('figure', titlesize=MEDIUM_SIZE)  # fontsize of the figure title\n",
    "    figsize = fig.get_size_inches()\n",
    "    fig.set_size_inches(figsize * 1.5)\n",
    "    ax1=sns.heatmap(df[df['variable']=='Train'][[\"encoder\", \"ansatz\", \"value\"]].pivot(index='encoder', columns='ansatz', values='value').astype(float),annot_kws={\"size\": 12}, square=True, annot=True, linewidth=.5,fmt='.2f',ax=ax1,vmax=1,vmin=-1,cbar=True,center=0,cmap='rocket')\n",
    "    ax1.set_title(\"Train\")\n",
    "    ax1.set_ylabel('Encoder')\n",
    "    ax1.set_xlabel('Ansatz')\n",
    "    ax1.set_aspect(\"equal\")\n",
    "    \n",
    "    ax2=sns.heatmap(df[df['variable']=='Test'][[\"encoder\", \"ansatz\", \"value\"]].pivot(index='encoder', columns='ansatz', values='value').astype(float), annot_kws={\"size\": 12}, square=True, annot=True, linewidth=.5,fmt='.2f',ax=ax2,vmax=1,vmin=-1,center=0,cmap='rocket')\n",
    "    ax2.set_title(\"Test\")\n",
    "    ax2.set_ylabel('Encoder')\n",
    "    ax2.set_xlabel('Ansatz')\n",
    "    ax2.set_aspect(\"equal\")\n",
    "    \n",
    "    \n",
    "    plt.subplots_adjust(wspace=0.1,hspace=0)\n",
    "    plt.tight_layout()  # Leave space for color bar\n",
    "    plt.savefig(os.path.join(os.path.expanduser('~'),save_dir,f'{name}_heatplots.png'),dpi=300,bbox_inches='tight')\n",
    "    plt.show()"
   ]
  },
  {
   "cell_type": "code",
   "execution_count": null,
   "id": "e0294ffe-ef19-4134-89bd-bbdacb5c159d",
   "metadata": {},
   "outputs": [],
   "source": [
    "def plot(data_dir,name,save_dir):\n",
    "    df = results_df(data_dir).rename(columns={'R2_train':'Train','R2_test':'Test'}).melt(id_vars=['encoder','ansatz'], value_vars=['Train','Test']).sort_values(by=['encoder','ansatz'])\n",
    "    plot_all(df,name,save_dir)    "
   ]
  },
  {
   "cell_type": "code",
   "execution_count": null,
   "id": "c8c51c28-02d7-4575-a3c8-8ccf8bf20722",
   "metadata": {},
   "outputs": [],
   "source": [
    "plot(\"function-calc-test/sixteenqubit_test/lin16qubit/\",'linear','qregress/images/Function_Fitting/sixteenqubit/')\n",
    "plot(\"function-calc-test/sixteenqubit_test/quad16qubit/\",'quadratic','qregress/images/Function_Fitting/sixteenqubit/')\n",
    "plot(\"function-calc-test/sixteenqubit_test/sin16qubit/\",'sine','qregress/images/Function_Fitting/sixteenqubit/')"
   ]
  },
  {
   "cell_type": "code",
   "execution_count": null,
   "id": "5ab7030a-49b9-4ea9-8aaf-322dc95d3add",
   "metadata": {},
   "outputs": [],
   "source": [
    "plot(\"function-calc-test/fivequbit_tests/lin5qubit/\",'linear','qregress/images/Function_Fitting/fivequbit/')\n",
    "plot(\"function-calc-test/fivequbit_tests/quad5qubit/\",'quadratic','qregress/images/Function_Fitting/fivequbit/')\n",
    "plot(\"function-calc-test/fivequbit_tests/sin5qubit/\",'sine','qregress/images/Function_Fitting/fivequbit/')"
   ]
  },
  {
   "cell_type": "code",
   "execution_count": null,
   "id": "b80a749b-4ff3-4599-9e50-dea5045fddb8",
   "metadata": {},
   "outputs": [],
   "source": [
    "results_df(\"BSE-calc-test/5qubit/\").sort_values(by=['R2_train','R2_test'])"
   ]
  },
  {
   "cell_type": "code",
   "execution_count": null,
   "id": "3355aa07-6f00-41f2-b87e-8462953f0b96",
   "metadata": {},
   "outputs": [],
   "source": [
    "plot(\"BSE-calc-test/5qubit/\",'BSE','qregress/images/BSE/fivequbit/')\n",
    "# plot(\"BSE-calc-test/16qubit/\",'BSE','qregress/images/BSE/sixteenqubit/')\n"
   ]
  },
  {
   "cell_type": "code",
   "execution_count": null,
   "id": "ea9c4075-d4ac-410e-8749-4cf2c953f6e1",
   "metadata": {},
   "outputs": [],
   "source": [
    "# plot(\"qml_DDCC/5/\",'DDCC','qregress/images/DDCC/')"
   ]
  },
  {
   "cell_type": "code",
   "execution_count": null,
   "id": "c0dac909-a2c5-4fb2-a7a7-c7170f5119cf",
   "metadata": {},
   "outputs": [],
   "source": [
    "def plot_combined(df,name,save_dir):\n",
    "\n",
    "\n",
    "    fig, (ax1, ax2) = plt.subplots(1,2,figsize=(12,6), gridspec_kw={'width_ratios': [1, 1]})\n",
    "    SMALL_SIZE = 8\n",
    "    MEDIUM_SIZE = 12\n",
    "    BIGGER_SIZE = 12\n",
    "    figsize = fig.get_size_inches()\n",
    "    fig.set_size_inches(figsize * 1.2)\n",
    "    plt.rc('font', size=MEDIUM_SIZE)          # controls default text sizes\n",
    "    plt.rc('axes', titlesize=MEDIUM_SIZE)     # fontsize of the axes title\n",
    "    plt.rc('axes', labelsize=MEDIUM_SIZE)    # fontsize of the x and y labels\n",
    "    plt.rc('xtick', labelsize=MEDIUM_SIZE)    # fontsize of the tick labels\n",
    "    plt.rc('ytick', labelsize=MEDIUM_SIZE)    # fontsize of the tick labels\n",
    "    plt.rc('legend', fontsize=MEDIUM_SIZE)    # legend fontsize\n",
    "    plt.rc('figure', titlesize=MEDIUM_SIZE)  # fontsize of the figure title\n",
    "    \n",
    "    \n",
    "    sns.boxplot(data=df,x='encoder',y='value',hue='variable',ax=ax1,palette=sns.color_palette('Paired',2))\n",
    "    ax1.set_xticklabels(ax1.get_xticklabels(), rotation=90) \n",
    "    ax1.set_ylim(np.floor(df['value'].min()),np.ceil(df['value'].max()))\n",
    "    ax1.set_ylabel('R$^{2}$')\n",
    "    ax1.set_xlabel('Encoder')\n",
    "    ax1.legend(title='')\n",
    "    \n",
    "    sns.boxplot(data=df,x='ansatz',y='value',hue='variable',ax=ax2,palette=sns.color_palette('Paired',2))\n",
    "    ax2.set_xticklabels(ax2.get_xticklabels(), rotation=90) \n",
    "    ax2.set_ylim(np.floor(df['value'].min()),np.ceil(df['value'].max()))\n",
    "    ax2.set_ylabel('R$^{2}$')\n",
    "    ax2.set_xlabel('Ansatz')\n",
    "    ax2.legend(title='')\n",
    "    plt.tight_layout()\n",
    "    plt.savefig(os.path.join(os.path.expanduser('~'),save_dir,f'{name}_boxplots.png'),dpi=300,bbox_inches='tight')\n",
    "    plt.show()    "
   ]
  },
  {
   "cell_type": "code",
   "execution_count": null,
   "id": "74607618-9ae8-4e6b-a20e-1016c1bbe4b9",
   "metadata": {},
   "outputs": [],
   "source": [
    "concatfive = pd.concat([results_df(\"function-calc-test/fivequbit_tests/lin5qubit/\"),results_df(\"function-calc-test/fivequbit_tests/quad5qubit/\"),results_df(\"function-calc-test/fivequbit_tests/sin5qubit/\")]).rename(columns={'R2_train':'Train','R2_test':'Test'}).melt(id_vars=['encoder','ansatz'], value_vars=['Train','Test']).sort_values(by=['encoder','ansatz'])"
   ]
  },
  {
   "cell_type": "code",
   "execution_count": null,
   "id": "3867e596-8a49-4c0c-86b6-3b05cc96fd83",
   "metadata": {},
   "outputs": [],
   "source": [
    "lin5 = results_df(\"function-calc-test/fivequbit_tests/lin5qubit/\").rename(columns={'R2_train':'Train','R2_test':'Test'}).melt(id_vars=['encoder','ansatz'], value_vars=['Train','Test']).sort_values(by=['encoder','ansatz'])\n",
    "quad5 = results_df(\"function-calc-test/fivequbit_tests/quad5qubit/\").rename(columns={'R2_train':'Train','R2_test':'Test'}).melt(id_vars=['encoder','ansatz'], value_vars=['Train','Test']).sort_values(by=['encoder','ansatz'])\n",
    "sin5 = results_df(\"function-calc-test/fivequbit_tests/sin5qubit/\").rename(columns={'R2_train':'Train','R2_test':'Test'}).melt(id_vars=['encoder','ansatz'], value_vars=['Train','Test']).sort_values(by=['encoder','ansatz'])"
   ]
  },
  {
   "cell_type": "code",
   "execution_count": null,
   "id": "7ea7dfc0-ba4d-42de-a631-cc2a14a56609",
   "metadata": {},
   "outputs": [],
   "source": [
    "results_df(\"function-calc-test/fivequbit_tests/sin5qubit/\")[(results_df(\"function-calc-test/fivequbit_tests/sin5qubit/\")['R2_train']>=0.88)&(results_df(\"function-calc-test/fivequbit_tests/sin5qubit/\")['R2_test']>=0.88)].sort_values(by=['R2_test','R2_train'])"
   ]
  },
  {
   "cell_type": "code",
   "execution_count": null,
   "id": "7744f82f-e01b-4095-a066-eac5ea80dab9",
   "metadata": {},
   "outputs": [],
   "source": [
    "sorted([(i,f\"{concatfive[concatfive['encoder']==i]['value'].astype(float).mean():.4f}\") for i in set(concatfive['encoder'])],key=lambda x: x[1])"
   ]
  },
  {
   "cell_type": "code",
   "execution_count": null,
   "id": "d72f6c19-5338-4608-8890-243a2160147a",
   "metadata": {},
   "outputs": [],
   "source": [
    "sorted([(i,f\"{concatfive[concatfive['ansatz']==i]['value'].astype(float).mean():.4f}\") for i in set(concatfive['ansatz'])],key=lambda x: x[1])"
   ]
  },
  {
   "cell_type": "code",
   "execution_count": null,
   "id": "7e94531b-043a-4a6f-b766-7b56137cd1f5",
   "metadata": {},
   "outputs": [],
   "source": [
    "plot_combined(concatfive,'five_feature_function_fitting','qregress/images/Function_Fitting/fivequbit/')"
   ]
  },
  {
   "cell_type": "code",
   "execution_count": null,
   "id": "6ea1d069-58e2-445f-988e-fa83565fd41c",
   "metadata": {},
   "outputs": [],
   "source": [
    "concatsixteen = pd.concat([results_df(\"function-calc-test/sixteenqubit_test/lin16qubit/\"),results_df(\"function-calc-test/sixteenqubit_test/quad16qubit//\"),results_df(\"function-calc-test/sixteenqubit_test/sin16qubit/\")]).rename(columns={'R2_train':'Train','R2_test':'Test'}).melt(id_vars=['encoder','ansatz'], value_vars=['Train','Test']).sort_values(by=['encoder','ansatz'])"
   ]
  },
  {
   "cell_type": "code",
   "execution_count": null,
   "id": "286923a2-1494-4111-9ad0-6a65113bcac0",
   "metadata": {},
   "outputs": [],
   "source": [
    "sorted([(i,f\"{concatsixteen[concatsixteen['encoder']==i]['value'].astype(float).mean():.4f}\") for i in set(concatsixteen['encoder'])],key=lambda x: x[1])"
   ]
  },
  {
   "cell_type": "code",
   "execution_count": null,
   "id": "b017db43-04f0-4636-8f99-bc7454cb5d12",
   "metadata": {},
   "outputs": [],
   "source": [
    "sorted([(i,f\"{concatsixteen[concatsixteen['ansatz']==i]['value'].astype(float).mean():.4f}\") for i in set(concatsixteen['ansatz'])],key=lambda x: x[1])"
   ]
  },
  {
   "cell_type": "code",
   "execution_count": null,
   "id": "7e7170b7-5972-49a9-8199-0475c3fea167",
   "metadata": {},
   "outputs": [],
   "source": [
    "plot_combined(concatsixteen,'sixteen_feature_function_fitting','qregress/images/Function_Fitting/sixteenqubit/')"
   ]
  },
  {
   "cell_type": "code",
   "execution_count": null,
   "id": "0e30e30f-bfcb-44ea-9d36-4929f2a86c1f",
   "metadata": {},
   "outputs": [],
   "source": [
    "'images/Function_Fitting/sixteenqubit/sixteen_feature_function_fitting_boxplots.png'"
   ]
  }
 ],
 "metadata": {
  "kernelspec": {
   "display_name": "Python 3 (ipykernel)",
   "language": "python",
   "name": "python3"
  },
  "language_info": {
   "codemirror_mode": {
    "name": "ipython",
    "version": 3
   },
   "file_extension": ".py",
   "mimetype": "text/x-python",
   "name": "python",
   "nbconvert_exporter": "python",
   "pygments_lexer": "ipython3",
   "version": "3.12.4"
  }
 },
 "nbformat": 4,
 "nbformat_minor": 5
}
