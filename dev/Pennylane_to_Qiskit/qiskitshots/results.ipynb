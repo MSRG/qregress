{
 "cells": [
  {
   "cell_type": "code",
   "execution_count": null,
   "id": "a1bd2f7d-ad51-4643-adce-d9d5d7ec1168",
   "metadata": {},
   "outputs": [],
   "source": [
    "from glob import glob\n",
    "import json\n",
    "import pandas as pd\n",
    "import matplotlib.pyplot as plt\n",
    "import seaborn as sns\n",
    "import os\n",
    "import numpy as np"
   ]
  },
  {
   "cell_type": "code",
   "execution_count": null,
   "id": "7431e2b3-1203-4955-8da9-653f587ebc00",
   "metadata": {},
   "outputs": [],
   "source": [
    "datadct = {}\n",
    "for i in glob('*/*results.json'):\n",
    "    datadct[int(i.split('/')[0].split('_')[1])]=pd.read_json(i,orient='index').rename(columns={0:int(i.split('/')[0].split('_')[1])})"
   ]
  },
  {
   "cell_type": "code",
   "execution_count": null,
   "id": "ccd185b7-337e-46ad-8da8-9458afae717a",
   "metadata": {},
   "outputs": [],
   "source": [
    "circuit_executions = np.array([(1024.0 *  x,int(80 * 1 * 1024.0 * x)) for x in range(1,11)])\n",
    "\n",
    "\n",
    "plt.plot(*circuit_executions.T,'x--')\n",
    "plt.xlabel('Number of Shots')\n",
    "plt.ylabel('Number of Circuit Executions')\n",
    "plt.xlim(0,12000)\n",
    "plt.ylim(0,10e5)"
   ]
  },
  {
   "cell_type": "code",
   "execution_count": null,
   "id": "d360d723-41f9-4bc5-be80-5c69402aaa9e",
   "metadata": {
    "scrolled": true
   },
   "outputs": [],
   "source": [
    "df = pd.concat(datadct.values(),axis=1).sort_index(axis=1)\n",
    "df.loc['executions'] = circuit_executions[:,1]"
   ]
  },
  {
   "cell_type": "code",
   "execution_count": null,
   "id": "d28e4eb1-e5f3-4ec2-adcb-c1659f458d79",
   "metadata": {},
   "outputs": [],
   "source": [
    "df.T.sort_values(by=['R2_train','R2_test'])"
   ]
  },
  {
   "cell_type": "code",
   "execution_count": null,
   "id": "f7dbd3ba-3cce-4873-a0fc-196d7a3f8a23",
   "metadata": {},
   "outputs": [],
   "source": [
    "melted_exec = df.T.rename(columns={'R2_train':\"Train\",'R2_test':\"Test\"}).melt(id_vars=['executions'], value_vars=['Train','Test'])\n",
    "\n",
    "sns.lineplot(melted_exec,x='executions',y='value',hue='variable',palette=sns.color_palette('Paired',2),    style=\"variable\", markers=True)"
   ]
  },
  {
   "cell_type": "code",
   "execution_count": null,
   "id": "e0b40634-1fe3-4e2e-b70c-a68ea2c202a3",
   "metadata": {},
   "outputs": [],
   "source": [
    "melted_exec"
   ]
  },
  {
   "cell_type": "code",
   "execution_count": null,
   "id": "d213a4c4-7a30-4dbe-8d3b-98979e64e000",
   "metadata": {},
   "outputs": [],
   "source": [
    "melteddf = df.T.reset_index().rename(columns={'R2_train':\"Train\",'R2_test':\"Test\"}).melt(id_vars=['index'], value_vars=['Train','Test'])"
   ]
  },
  {
   "cell_type": "code",
   "execution_count": null,
   "id": "c9357c0e-d0d2-4181-ba3f-a8000d5f6d7b",
   "metadata": {},
   "outputs": [],
   "source": [
    "sns.lineplot(melteddf,x='index',y='value',hue='variable',palette=sns.color_palette('Paired',2),    style=\"variable\", markers=True)\n",
    "plt.ylim(0,1)\n",
    "plt.xlim(0,1.2*10**4)\n",
    "plt.ylabel('R$^{2}$')\n",
    "plt.xlabel('Number of Shots')\n",
    "plt.title('Optimization Level = 2\\nResilience Level = 0')\n",
    "# Tight layout for better spacing\n",
    "plt.tight_layout()\n",
    "# Save the figure as PNG with high quality\n",
    "plt.savefig(os.path.join(os.path.expanduser('~'),'qregress/images/DDCC/shots_fakequebec.png'), dpi=300, bbox_inches=\"tight\")\n",
    "# Show the plot\n",
    "plt.show()"
   ]
  },
  {
   "cell_type": "code",
   "execution_count": null,
   "id": "8708179d-b8ed-4468-8cbe-9bc1d6fc5877",
   "metadata": {},
   "outputs": [],
   "source": []
  }
 ],
 "metadata": {
  "kernelspec": {
   "display_name": "Python 3 (ipykernel)",
   "language": "python",
   "name": "python3"
  },
  "language_info": {
   "codemirror_mode": {
    "name": "ipython",
    "version": 3
   },
   "file_extension": ".py",
   "mimetype": "text/x-python",
   "name": "python",
   "nbconvert_exporter": "python",
   "pygments_lexer": "ipython3",
   "version": "3.11.11"
  }
 },
 "nbformat": 4,
 "nbformat_minor": 5
}
