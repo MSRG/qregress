{
 "cells": [
  {
   "cell_type": "markdown",
   "metadata": {},
   "source": [
    "# Run your first Qiskit Serverless workload remotely\n",
    "\n"
   ]
  },
  {
   "cell_type": "markdown",
   "metadata": {
    "tags": [
     "version-info"
    ]
   },
   "source": [
    "<details>\n",
    "  <summary><b>Package versions</b></summary>\n",
    "\n",
    "  The code on this page was developed using the following requirements.\n",
    "  We recommend using these versions or newer.\n",
    "\n",
    "  ```\n",
    "  qiskit[all]~=1.3.1\n",
    "  qiskit-ibm-runtime~=0.34.0\n",
    "  qiskit-aer~=0.15.1\n",
    "  qiskit-serverless~=0.18.1\n",
    "  qiskit-ibm-catalog~=0.2\n",
    "  qiskit-addon-sqd~=0.8.1\n",
    "  qiskit-addon-utils~=0.1.0\n",
    "  qiskit-addon-mpf~=0.2.0\n",
    "  qiskit-addon-aqc-tensor~=0.1.2\n",
    "  qiskit-addon-obp~=0.1.0\n",
    "  scipy~=1.15.0\n",
    "  pyscf~=2.8.0\n",
    "  ```\n",
    "</details>\n",
    "\n"
   ]
  },
  {
   "cell_type": "markdown",
   "metadata": {},
   "source": [
    "This section explores how to use `qiskit-ibm-catalog` to list programs available in Qiskit Serverless, pass inputs into these programs, run them remotely, check their status, and retrieve results and logs.\n",
    "\n",
    "Be sure you have authenticated to Qiskit Serverless with your [IBM Quantum account](https://quantum.ibm.com/account) (see [Deploy to IBM Quantum Platform](./serverless-first-program#deploy-to-ibm-quantum-platform) for instructions).\n",
    "\n"
   ]
  },
  {
   "cell_type": "markdown",
   "metadata": {},
   "source": [
    "## List programs available\n",
    "\n",
    "You can use `QiskitServerless.list()` to fetch a list of the available programs to run with Qiskit Serverless. This includes the previously uploaded [`transpile_remote_serverless`](./serverless-first-program).\n",
    "\n"
   ]
  },
  {
   "cell_type": "code",
   "execution_count": 1,
   "metadata": {},
   "outputs": [
    {
     "data": {
      "text/plain": [
       "QiskitFunction(transpile_remote_serverless)"
      ]
     },
     "execution_count": 1,
     "metadata": {},
     "output_type": "execute_result"
    }
   ],
   "source": [
    "from qiskit_ibm_catalog import QiskitServerless\n",
    "\n",
    "serverless = QiskitServerless()\n",
    "next(\n",
    "    program\n",
    "    for program in serverless.list()\n",
    "    if program.title == \"transpile_remote_serverless\"\n",
    ")"
   ]
  },
  {
   "cell_type": "markdown",
   "metadata": {},
   "source": [
    "## Run an uploaded program and pass inputs\n",
    "\n",
    "First, set up your inputs. Your program has three inputs: `circuits`, `backend`, and `optimization_level`. You can use `random_circuit` to create 30 random circuits:\n",
    "\n"
   ]
  },
  {
   "cell_type": "code",
   "execution_count": 2,
   "metadata": {},
   "outputs": [
    {
     "data": {
      "text/plain": [
       "<Image src=\"/images/extracted-notebook-images/serverless-run-first-workload/46108a95-11f8-4ecf-83bb-131c3e7ea4c2-0.svg\" alt=\"Output from the previous code\" />"
      ]
     },
     "execution_count": 2,
     "metadata": {},
     "output_type": "execute_result"
    }
   ],
   "source": [
    "from qiskit.circuit.random import random_circuit\n",
    "\n",
    "qc_random = [(random_circuit(4, 4, measure=True, seed=i)) for i in range(10)]\n",
    "qc_random[0].draw(output=\"mpl\", idle_wires=False)"
   ]
  },
  {
   "cell_type": "markdown",
   "metadata": {},
   "source": [
    "Next, use `QiskitRuntimeService` and `least_busy` to select a `backend`:\n",
    "\n"
   ]
  },
  {
   "cell_type": "code",
   "execution_count": 3,
   "metadata": {},
   "outputs": [
    {
     "name": "stdout",
     "output_type": "stream",
     "text": [
      "ibm_kyiv\n"
     ]
    }
   ],
   "source": [
    "from qiskit_ibm_runtime import QiskitRuntimeService\n",
    "\n",
    "# If you have not previously saved your credentials, follow instructions at\n",
    "# https://docs.quantum.ibm.com/guides/setup-channel#iqp\n",
    "# to authenticate with your API token.\n",
    "service = QiskitRuntimeService()\n",
    "backend = service.least_busy(operational=True, simulator=False)\n",
    "print(backend.name)"
   ]
  },
  {
   "cell_type": "markdown",
   "metadata": {},
   "source": [
    "Set your optimization level:\n",
    "\n"
   ]
  },
  {
   "cell_type": "code",
   "execution_count": 4,
   "metadata": {},
   "outputs": [],
   "source": [
    "optimization_level = 3"
   ]
  },
  {
   "cell_type": "markdown",
   "metadata": {},
   "source": [
    "Select your program with `serverless.load('PROGRAM_NAME')`:\n",
    "\n"
   ]
  },
  {
   "cell_type": "code",
   "execution_count": 5,
   "metadata": {},
   "outputs": [],
   "source": [
    "transpile_remote_serverless = serverless.load(\"transpile_remote_serverless\")"
   ]
  },
  {
   "cell_type": "markdown",
   "metadata": {},
   "source": [
    "Next, pass your inputs and run it in a pythonic fashion as follows:\n",
    "\n"
   ]
  },
  {
   "cell_type": "code",
   "execution_count": 6,
   "metadata": {},
   "outputs": [],
   "source": [
    "job = transpile_remote_serverless.run(\n",
    "    circuits=qc_random,\n",
    "    backend=backend.name,\n",
    "    optimization_level=optimization_level,\n",
    ")"
   ]
  },
  {
   "cell_type": "code",
   "execution_count": 7,
   "metadata": {},
   "outputs": [
    {
     "data": {
      "text/plain": [
       "'1bb26ca6-7406-47c3-9d56-a3d0757907af'"
      ]
     },
     "execution_count": 7,
     "metadata": {},
     "output_type": "execute_result"
    }
   ],
   "source": [
    "job.job_id"
   ]
  },
  {
   "cell_type": "markdown",
   "metadata": {},
   "source": [
    "## Check job status\n",
    "\n",
    "With your Qiskit Serverless `job_id`, you can check the status of running jobs. This includes the following statuses:\n",
    "\n",
    "*   **`QUEUED`**: The remote program is in the Qiskit Serverless queue. The queue priority is currently based on how much you've used Qiskit Serverless\n",
    "*   **`INITIALIZING`**: The remote program is starting; this includes setting up the remote environment and installing dependencies\n",
    "*   **`RUNNING`**: The program is running. At this stage, if you have `print()` outputs in your program, you can retrieve logs using `job.logs()`\n",
    "*   **`DONE`**: The program is complete, and you can retrieve data stored in `save_result()` with `job.results()`\n",
    "\n"
   ]
  },
  {
   "cell_type": "code",
   "execution_count": 8,
   "metadata": {},
   "outputs": [
    {
     "data": {
      "text/plain": [
       "'QUEUED'"
      ]
     },
     "execution_count": 8,
     "metadata": {},
     "output_type": "execute_result"
    }
   ],
   "source": [
    "job.status()"
   ]
  },
  {
   "cell_type": "markdown",
   "metadata": {},
   "source": [
    "<Admonition type=\"tip\">\n",
    "  Currently, the IBM Quantum workloads table only reflects Qiskit Runtime workloads. Use `job.status()` to see your Qiskit Serverless workload's current status.\n",
    "</Admonition>\n",
    "\n",
    "You've successfully run your first Qiskit Serverless program!\n",
    "\n"
   ]
  },
  {
   "cell_type": "markdown",
   "metadata": {},
   "source": [
    "## Retrieve logs and results\n",
    "\n",
    "As mentioned before, once a program is `RUNNING`, you can use `job.logs()` to fetch logs created from `print()` outputs:\n",
    "\n"
   ]
  },
  {
   "cell_type": "code",
   "execution_count": 10,
   "metadata": {},
   "outputs": [
    {
     "name": "stdout",
     "output_type": "stream",
     "text": [
      "No logs yet.\n"
     ]
    }
   ],
   "source": [
    "logs = job.logs()\n",
    "print(logs)"
   ]
  },
  {
   "cell_type": "markdown",
   "metadata": {},
   "source": [
    "At any time, you can also cancel a job:\n",
    "\n"
   ]
  },
  {
   "cell_type": "code",
   "execution_count": 11,
   "metadata": {},
   "outputs": [
    {
     "data": {
      "text/plain": [
       "'Job has been stopped.'"
      ]
     },
     "execution_count": 11,
     "metadata": {},
     "output_type": "execute_result"
    }
   ],
   "source": [
    "job.stop()"
   ]
  },
  {
   "cell_type": "markdown",
   "metadata": {},
   "source": [
    "Once a program is `DONE`, you can use `job.results()` to fetch the result stored in `save_result()`:\n",
    "\n"
   ]
  },
  {
   "cell_type": "code",
   "execution_count": 12,
   "metadata": {},
   "outputs": [
    {
     "data": {
      "text/plain": [
       "[<qiskit.circuit.quantumcircuit.QuantumCircuit at 0x7f1945d7e810>,\n",
       " <qiskit.circuit.quantumcircuit.QuantumCircuit at 0x7f1945aae5d0>,\n",
       " <qiskit.circuit.quantumcircuit.QuantumCircuit at 0x7f1945ba6c50>]"
      ]
     },
     "execution_count": 12,
     "metadata": {},
     "output_type": "execute_result"
    }
   ],
   "source": [
    "# We can't get results from a cancelled job, so we'll fetch a completed one instead\n",
    "completed_job = next(\n",
    "    job for job in serverless.jobs() if job.status() == \"DONE\"\n",
    ")\n",
    "completed_job.result()"
   ]
  },
  {
   "cell_type": "markdown",
   "metadata": {},
   "source": [
    "## List previously run jobs run with Qiskit Serverless\n",
    "\n",
    "You can use `jobs()` to list all jobs submitted to Qiskit Serverless:\n",
    "\n"
   ]
  },
  {
   "cell_type": "code",
   "execution_count": 13,
   "metadata": {},
   "outputs": [
    {
     "data": {
      "text/plain": [
       "[<Job | 1bb26ca6-7406-47c3-9d56-a3d0757907af>,\n",
       " <Job | d0b42704-7ca2-4220-aa76-6fed54e37ea9>,\n",
       " <Job | fcfad8c6-2a5a-4dd8-a4d8-5089d3164ff4>,\n",
       " <Job | 4e238d0a-9c07-4b18-924b-bb3b8254e6a7>,\n",
       " <Job | 5103fa3d-10cb-4398-a165-2144f17780c3>,\n",
       " <Job | 0741eba2-60b5-4929-b4c4-09f7cc8f1613>,\n",
       " <Job | 394d0e47-2933-4067-a89e-e0df370da5d7>,\n",
       " <Job | 43fc6a0e-1d6b-4054-bf49-80bea7273405>,\n",
       " <Job | 222f0724-5b12-412c-a8c5-4fac0ab0d9fa>,\n",
       " <Job | cbbe84f7-6f1a-41ac-bac5-c1cfebeb7dde>]"
      ]
     },
     "execution_count": 13,
     "metadata": {},
     "output_type": "execute_result"
    }
   ],
   "source": [
    "old_jobs = serverless.jobs()\n",
    "old_jobs"
   ]
  },
  {
   "cell_type": "markdown",
   "metadata": {},
   "source": [
    "## Next steps\n",
    "\n",
    "<Admonition type=\"info\" title=\"Recommendations\">\n",
    "  *   Explore [compute and data management tools](./serverless-manage-resources) available to your program, including parallelization.\n",
    "</Admonition>\n",
    "\n"
   ]
  }
 ],
 "metadata": {
  "description": "How to list programs available in Serverless, pass inputs into these programs, run them remotely, check status, and retrieve results and logs.",
  "kernelspec": {
   "display_name": "Python 3 (ipykernel)",
   "language": "python",
   "name": "python3"
  },
  "language_info": {
   "codemirror_mode": {
    "name": "ipython",
    "version": 3
   },
   "file_extension": ".py",
   "mimetype": "text/x-python",
   "name": "python",
   "nbconvert_exporter": "python",
   "pygments_lexer": "ipython3",
   "version": "3.12.4"
  },
  "title": "Run your first Qiskit Serverless workload remotely"
 },
 "nbformat": 4,
 "nbformat_minor": 4
}
