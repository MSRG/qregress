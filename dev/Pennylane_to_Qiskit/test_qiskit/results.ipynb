{
 "cells": [
  {
   "cell_type": "code",
   "execution_count": null,
   "id": "a1bd2f7d-ad51-4643-adce-d9d5d7ec1168",
   "metadata": {},
   "outputs": [],
   "source": [
    "from glob import glob\n",
    "import json\n",
    "import pandas as pd\n",
    "import matplotlib.pyplot as plt\n",
    "import seaborn as sns\n",
    "import os"
   ]
  },
  {
   "cell_type": "code",
   "execution_count": null,
   "id": "b642ac53-c3f7-4868-9ec3-8c355d5c60a0",
   "metadata": {},
   "outputs": [],
   "source": [
    "ol=['ol0','ol1','ol2','ol3']\n",
    "rl=['rl0','rl1','rl2']"
   ]
  },
  {
   "cell_type": "code",
   "execution_count": null,
   "id": "eb31cb7b-5156-4460-b53f-f7861a1c5713",
   "metadata": {},
   "outputs": [],
   "source": [
    "import pandas as pd\n",
    "\n",
    "datadct = {}\n",
    "\n",
    "for o in ol:\n",
    "    datadct[o] = {}\n",
    "    for r in rl:\n",
    "        try:\n",
    "            df = pd.read_json(f'{o}_{r}/A2_HWE-CNOT_results.json', orient='index').T\n",
    "            df.index = pd.MultiIndex.from_tuples([(o, r)])  # Correct MultiIndex usage\n",
    "            print(df)\n",
    "            datadct[o][r] = df\n",
    "        except FileNotFoundError:\n",
    "            continue  # Skip missing files\n",
    "        except Exception as e:\n",
    "            print(f\"Error processing {o}_{r}: {e}\")  # Print error for debugging\n"
   ]
  },
  {
   "cell_type": "code",
   "execution_count": null,
   "id": "41b2a322-3228-41c0-8419-64e2dc02cc3b",
   "metadata": {},
   "outputs": [],
   "source": [
    "df = pd.concat([pd.concat([v for v in v1.values()]).reset_index() for v1 in datadct.values()])\n",
    "meltdf = df.rename(columns={'R2_train':\"Train\",'R2_test':'Test',\"level_0\":\"Optimization Level\",\"level_1\":\"Resilience Level\"}).melt(id_vars=['Optimization Level','Resilience Level'],value_vars=['Train','Test'])"
   ]
  },
  {
   "cell_type": "code",
   "execution_count": null,
   "id": "2d487fdb-740d-47c4-9b1e-a311ecbf2995",
   "metadata": {},
   "outputs": [],
   "source": [
    "df"
   ]
  },
  {
   "cell_type": "code",
   "execution_count": null,
   "id": "c6b63b7a-bb83-4687-8da2-2940a450dd9d",
   "metadata": {},
   "outputs": [],
   "source": [
    "sns.lineplot(df,y='R2_train',hue='level_0',x='level_1')"
   ]
  },
  {
   "cell_type": "code",
   "execution_count": null,
   "id": "887302e2-fca3-4f1e-a7ca-8d67b2501148",
   "metadata": {},
   "outputs": [],
   "source": [
    "meltdf['Optimization Level'] = [int(i.strip('ol')) for i in meltdf['Optimization Level']]\n",
    "meltdf['Resilience Level'] = [int(i.strip('rl')) for i in meltdf['Resilience Level']]"
   ]
  },
  {
   "cell_type": "code",
   "execution_count": null,
   "id": "072ad9d0-4453-4b87-a6db-8aa08dd24ac5",
   "metadata": {},
   "outputs": [],
   "source": [
    "# Create FacetGrid with subplots for each Optimization Level\n",
    "g = sns.FacetGrid(meltdf, col=\"Optimization Level\", col_wrap=2, height=4, sharey=True)\n",
    "\n",
    "# Map the line plot with markers that follow hue style\n",
    "g.map_dataframe(\n",
    "    sns.lineplot, \n",
    "    x=\"Resilience Level\", \n",
    "    y=\"value\", \n",
    "    hue=\"variable\", \n",
    "    style=\"variable\",  # Ensures markers match hue\n",
    "    markers=True,  \n",
    "    palette=sns.color_palette(\"Paired\", 2)\n",
    ")\n",
    "\n",
    "# Adjust legends, labels, and axis limits\n",
    "g.add_legend()\n",
    "g.set_axis_labels(\"Resilience Level\", r\"R$^{2}$\")  # LaTeX formatting\n",
    "g.set(ylim=(0, 1), xticks=[0, 1, 2])  # Fix y-range and x-ticks\n",
    "\n",
    "# Tight layout for better spacing\n",
    "plt.tight_layout()\n",
    "\n",
    "# Save the figure as PNG with high quality\n",
    "plt.savefig(os.path.join(os.path.expanduser('~'),'qregress/images/DDCC/opt_res_fakequebec.png'), dpi=300, bbox_inches=\"tight\")\n",
    "\n",
    "# Show the plot\n",
    "plt.show()"
   ]
  },
  {
   "cell_type": "code",
   "execution_count": null,
   "id": "e98cf924-53db-46ec-9a3b-ca6e83e17bb2",
   "metadata": {},
   "outputs": [],
   "source": []
  }
 ],
 "metadata": {
  "kernelspec": {
   "display_name": "Python 3 (ipykernel)",
   "language": "python",
   "name": "python3"
  },
  "language_info": {
   "codemirror_mode": {
    "name": "ipython",
    "version": 3
   },
   "file_extension": ".py",
   "mimetype": "text/x-python",
   "name": "python",
   "nbconvert_exporter": "python",
   "pygments_lexer": "ipython3",
   "version": "3.11.11"
  }
 },
 "nbformat": 4,
 "nbformat_minor": 5
}
