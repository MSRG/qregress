{
 "cells": [
  {
   "cell_type": "code",
   "execution_count": 1,
   "id": "dc8f5c2c-b710-429b-9f46-14c842ed6478",
   "metadata": {
    "editable": true,
    "execution": {
     "iopub.execute_input": "2025-03-05T18:45:59.298352Z",
     "iopub.status.busy": "2025-03-05T18:45:59.296515Z",
     "iopub.status.idle": "2025-03-05T18:46:01.225310Z",
     "shell.execute_reply": "2025-03-05T18:46:01.224816Z"
    },
    "papermill": {
     "duration": 1.94046,
     "end_time": "2025-03-05T18:46:01.227285",
     "exception": false,
     "start_time": "2025-03-05T18:45:59.286825",
     "status": "completed"
    },
    "slideshow": {
     "slide_type": ""
    },
    "tags": []
   },
   "outputs": [],
   "source": [
    "import os\n",
    "n_jobs = 16\n",
    "os.environ[\"OMP_NUM_THREADS\"] = str(n_jobs)\n",
    "import joblib\n",
    "import click\n",
    "import json\n",
    "import time\n",
    "\n",
    "import itertools\n",
    "import collections.abc\n",
    "import sys\n",
    "from tqdm.notebook import tqdm\n",
    "# !{sys.executable} -m pip install qcircuit\n",
    "\n",
    "import matplotlib.pyplot as plt\n",
    "import numpy as np\n",
    "import pandas as pd\n",
    "import pennylane as qml\n",
    "from sklearn.metrics import mean_squared_error, r2_score, mean_absolute_error\n",
    "from scipy.optimize import minimize\n",
    "# Qiskit\n",
    "from qiskit import QuantumCircuit\n",
    "from qiskit.quantum_info import Pauli, SparsePauliOp, Operator\n",
    "from qiskit.primitives import StatevectorEstimator\n",
    "from qiskit.circuit import Parameter, ParameterVector\n",
    "from qiskit.transpiler.preset_passmanagers import generate_preset_pass_manager\n",
    "from qiskit.quantum_info import SparsePauliOp\n",
    "from qiskit_ibm_runtime import EstimatorV2 as Estimator\n",
    "from qiskit_ibm_runtime import QiskitRuntimeService\n",
    "from qiskit_aer import AerSimulator\n",
    "from qiskit_aer.noise import NoiseModel\n",
    "from qiskit_ibm_runtime.fake_provider import FakeQuebec\n",
    "from qiskit_ibm_runtime import Session, Batch\n",
    "# from qiskit_machine_learning.optimizers import SPSA, Minimizer\n",
    "\n",
    "\n",
    "from joblib import dump, load\n"
   ]
  },
  {
   "cell_type": "code",
   "execution_count": 2,
   "id": "9e8cd7b1-46c5-4d8e-966b-87a99489ddac",
   "metadata": {
    "editable": true,
    "execution": {
     "iopub.execute_input": "2025-03-05T18:46:01.243359Z",
     "iopub.status.busy": "2025-03-05T18:46:01.242963Z",
     "iopub.status.idle": "2025-03-05T18:46:01.251133Z",
     "shell.execute_reply": "2025-03-05T18:46:01.250428Z"
    },
    "papermill": {
     "duration": 0.017085,
     "end_time": "2025-03-05T18:46:01.252460",
     "exception": false,
     "start_time": "2025-03-05T18:46:01.235375",
     "status": "completed"
    },
    "slideshow": {
     "slide_type": ""
    },
    "tags": []
   },
   "outputs": [],
   "source": [
    "def mitarai(quantumcircuit,num_wires,paramname='x'):\n",
    "    # encoding as proposed by Mitarai et al.\n",
    "    num_features = num_wires\n",
    "    features = ParameterVector(paramname,num_features*2)\n",
    "    for i in range(num_wires):\n",
    "        feature_idx = i % num_features  # Calculate the feature index using modulo\n",
    "        quantumcircuit.ry(np.arcsin(features[feature_idx * 2]), i)\n",
    "        quantumcircuit.rz(np.arccos(features[feature_idx * 2 + 1] ** 2), i)\n",
    "\n",
    "\n",
    "def double_angle(quantumcircuit, num_wires,paramname='x'):\n",
    "    #  creates a circuit that encodes features into wires via angle encoding with an RY then RZ gate\n",
    "    #  the features are encoded 1-1 onto the qubits\n",
    "    #  if more wires are passed then features the remaining wires will be filled from the beginning of the feature list\n",
    "    num_features = num_wires\n",
    "    features = ParameterVector(paramname,num_features*2)\n",
    "    for i in range(num_wires):\n",
    "        feature_index = i % num_features\n",
    "        quantumcircuit.ry(features[feature_index], i)\n",
    "        quantumcircuit.rz(features[feature_index], i)\n",
    "\n",
    "def entangle_cnot(quantumcircuit,num_wires):\n",
    "    #  entangles all of the wires in a circular fashion using cnot gates\n",
    "    for i in range(num_wires):\n",
    "        \n",
    "        if i == num_wires - 1:\n",
    "            quantumcircuit.cx(i, 0)\n",
    "        else:\n",
    "            quantumcircuit.cx(i, i+1)\n",
    "\n",
    "\n",
    "def entangle_cz(quantumcircuit,num_wires):\n",
    "    #  entangles all of the wires in a circular fashion using cz gates\n",
    "    for i in range(num_wires):\n",
    "        \n",
    "        if i == num_wires - 1:\n",
    "            quantumcircuit.cz(i, 0)\n",
    "        else:\n",
    "            quantumcircuit.cz(i, i+1)\n",
    "\n",
    "\n",
    "def HardwareEfficient(quantumcircuit,num_wires,paramname='theta'):\n",
    "    parameters = ParameterVector(paramname,num_wires*3)\n",
    "    for qubit in range(num_wires):\n",
    "        quantumcircuit.rx(parameters[qubit * 3], qubit)  \n",
    "        quantumcircuit.rz(parameters[qubit * 3 + 1], qubit)  \n",
    "        quantumcircuit.rx(parameters[qubit * 3 + 2], qubit)  \n",
    "    entangle_cnot(quantumcircuit,num_wires)\n",
    "\n"
   ]
  },
  {
   "cell_type": "code",
   "execution_count": 3,
   "id": "98051576-89f8-4a1d-980e-3708e2089ad6",
   "metadata": {
    "execution": {
     "iopub.execute_input": "2025-03-05T18:46:01.266697Z",
     "iopub.status.busy": "2025-03-05T18:46:01.266528Z",
     "iopub.status.idle": "2025-03-05T18:46:01.270775Z",
     "shell.execute_reply": "2025-03-05T18:46:01.270070Z"
    },
    "papermill": {
     "duration": 0.012904,
     "end_time": "2025-03-05T18:46:01.272084",
     "exception": false,
     "start_time": "2025-03-05T18:46:01.259180",
     "status": "completed"
    },
    "tags": []
   },
   "outputs": [],
   "source": [
    "# def circuit(nqubits):\n",
    "#     qc = QuantumCircuit(nqubits)\n",
    "#     mitarai(qc,nqubits)\n",
    "#     entangle_cz(qc,nqubits)\n",
    "#     qc.barrier()\n",
    "#     mitarai(qc,nqubits,paramname='x1')\n",
    "#     entangle_cz(qc,nqubits)\n",
    "#     qc.barrier()\n",
    "#     HardwareEfficient(qc,nqubits)\n",
    "#     qc.barrier()\n",
    "#     return qc\n",
    "\n",
    "\n",
    "def circuit(nqubits,RUD=1,AL=1):\n",
    "    qc = QuantumCircuit(nqubits)\n",
    "    for i in range(RUD):\n",
    "        double_angle(qc,nqubits,paramname=f'x{i}')\n",
    "        qc.barrier()\n",
    "        for j in range(AL):        \n",
    "            HardwareEfficient(qc,nqubits,paramname=f'theta{i}_{j}')\n",
    "            qc.barrier()\n",
    "    return qc"
   ]
  },
  {
   "cell_type": "code",
   "execution_count": 4,
   "id": "11cb5805-20c7-493a-b96c-8eac41dcc1d7",
   "metadata": {
    "execution": {
     "iopub.execute_input": "2025-03-05T18:46:01.286418Z",
     "iopub.status.busy": "2025-03-05T18:46:01.286245Z",
     "iopub.status.idle": "2025-03-05T18:46:01.294960Z",
     "shell.execute_reply": "2025-03-05T18:46:01.293823Z"
    },
    "papermill": {
     "duration": 0.017442,
     "end_time": "2025-03-05T18:46:01.296163",
     "exception": false,
     "start_time": "2025-03-05T18:46:01.278721",
     "status": "completed"
    },
    "tags": []
   },
   "outputs": [
    {
     "name": "stdout",
     "output_type": "stream",
     "text": [
      "(4, 64, 5) (4, 64, 5)\n",
      "(4, 64) (4, 64)\n"
     ]
    },
    {
     "name": "stderr",
     "output_type": "stream",
     "text": [
      "/home/ubuntu/miniconda3/envs/qml/lib/python3.11/site-packages/sklearn/base.py:380: InconsistentVersionWarning: Trying to unpickle estimator MinMaxScaler from version 1.5.1 when using version 1.6.0. This might lead to breaking code or invalid results. Use at your own risk. For more info please refer to:\n",
      "https://scikit-learn.org/stable/model_persistence.html#security-maintainability-limitations\n",
      "  warnings.warn(\n"
     ]
    }
   ],
   "source": [
    "\n",
    "top=os.getcwd()\n",
    "with open(os.path.join(top,'5_DDCC_train.bin'),'rb') as f:\n",
    "    ddcc_train = joblib.load(f)\n",
    "\n",
    "with open(os.path.join(top,'5_DDCC_test.bin'),'rb') as f:\n",
    "    ddcc_test = joblib.load(f)\n",
    "\n",
    "with open(os.path.join(top,'5_DDCC_scaler.bin'),'rb') as f:\n",
    "    ddcc_scaler = joblib.load(f)\n",
    "\n",
    "X_ddcc_train, y_ddcc_train = ddcc_train['X'],ddcc_train['y']\n",
    "X_ddcc_test, y_ddcc_test = ddcc_test['X'],ddcc_test['y']\n",
    "\n",
    "X_ddcc_train = X_ddcc_train.reshape(-1,64,5)[0:4]\n",
    "X_ddcc_test = X_ddcc_test.reshape(-1,64,5)[0:4]\n",
    "y_ddcc_train = y_ddcc_train.reshape(-1,64)[0:4]\n",
    "y_ddcc_test = y_ddcc_test.reshape(-1,64)[0:4]\n",
    "\n",
    "\n",
    "# X_train, y_train = X_ddcc_train, y_ddcc_train\n",
    "# X_test, y_test = X_ddcc_test, y_ddcc_test\n",
    "X_train, y_train = X_ddcc_train, y_ddcc_train\n",
    "X_test, y_test = X_ddcc_test, y_ddcc_test\n",
    "\n",
    "# X_train = [X_train[i:i+4] for i in range(0,len(X_train),4)]\n",
    "# X_test = [X_test[i:i+4] for i in range(0,len(X_test),4)]\n",
    "scaler = ddcc_scaler\n",
    "\n",
    "print(X_train.shape,X_test.shape)\n",
    "print(y_train.shape, y_test.shape)"
   ]
  },
  {
   "cell_type": "code",
   "execution_count": 5,
   "id": "0172f0c5-8225-47b8-91e3-8e113113d13e",
   "metadata": {
    "editable": true,
    "execution": {
     "iopub.execute_input": "2025-03-05T18:46:01.308264Z",
     "iopub.status.busy": "2025-03-05T18:46:01.308110Z",
     "iopub.status.idle": "2025-03-05T18:46:01.311111Z",
     "shell.execute_reply": "2025-03-05T18:46:01.310627Z"
    },
    "papermill": {
     "duration": 0.010363,
     "end_time": "2025-03-05T18:46:01.312158",
     "exception": false,
     "start_time": "2025-03-05T18:46:01.301795",
     "status": "completed"
    },
    "slideshow": {
     "slide_type": ""
    },
    "tags": []
   },
   "outputs": [],
   "source": [
    "num_qubits = 5\n",
    "RUD = 1\n",
    "AL = 5"
   ]
  },
  {
   "cell_type": "code",
   "execution_count": 6,
   "id": "fcdd8b11-a018-4461-9461-cf12e6026e13",
   "metadata": {
    "editable": true,
    "execution": {
     "iopub.execute_input": "2025-03-05T18:46:01.324631Z",
     "iopub.status.busy": "2025-03-05T18:46:01.324472Z",
     "iopub.status.idle": "2025-03-05T18:46:01.328197Z",
     "shell.execute_reply": "2025-03-05T18:46:01.327535Z"
    },
    "papermill": {
     "duration": 0.011557,
     "end_time": "2025-03-05T18:46:01.329397",
     "exception": false,
     "start_time": "2025-03-05T18:46:01.317840",
     "status": "completed"
    },
    "slideshow": {
     "slide_type": ""
    },
    "tags": [
     "parameters"
    ]
   },
   "outputs": [],
   "source": [
    "optimization_level = 2\n",
    "shots = 1024.0 * 3\n",
    "# shots = 1024.0 * 1\n",
    "resilience_level = 0"
   ]
  },
  {
   "cell_type": "code",
   "execution_count": 7,
   "id": "eb681424",
   "metadata": {
    "execution": {
     "iopub.execute_input": "2025-03-05T18:46:01.341933Z",
     "iopub.status.busy": "2025-03-05T18:46:01.341646Z",
     "iopub.status.idle": "2025-03-05T18:46:01.345647Z",
     "shell.execute_reply": "2025-03-05T18:46:01.344817Z"
    },
    "papermill": {
     "duration": 0.011605,
     "end_time": "2025-03-05T18:46:01.346563",
     "exception": false,
     "start_time": "2025-03-05T18:46:01.334958",
     "status": "completed"
    },
    "tags": [
     "injected-parameters"
    ]
   },
   "outputs": [],
   "source": [
    "# Parameters\n",
    "optimization_level = \"2\"\n",
    "resilience_level = \"0\"\n",
    "shots = \"3072\"\n"
   ]
  },
  {
   "cell_type": "code",
   "execution_count": 8,
   "id": "0dd61067-2a66-4c32-bff7-34a6678cea46",
   "metadata": {
    "editable": true,
    "execution": {
     "iopub.execute_input": "2025-03-05T18:46:01.353640Z",
     "iopub.status.busy": "2025-03-05T18:46:01.353301Z",
     "iopub.status.idle": "2025-03-05T18:46:01.357846Z",
     "shell.execute_reply": "2025-03-05T18:46:01.356946Z"
    },
    "papermill": {
     "duration": 0.009265,
     "end_time": "2025-03-05T18:46:01.358844",
     "exception": false,
     "start_time": "2025-03-05T18:46:01.349579",
     "status": "completed"
    },
    "slideshow": {
     "slide_type": ""
    },
    "tags": []
   },
   "outputs": [],
   "source": [
    "optimization_level = int(optimization_level)\n",
    "shots = int(shots)\n",
    "# shots = 1024.0 * 1\n",
    "resilience_level = int(resilience_level)"
   ]
  },
  {
   "cell_type": "code",
   "execution_count": 9,
   "id": "9f37a160-f338-4f3d-9b17-c1c695681785",
   "metadata": {
    "execution": {
     "iopub.execute_input": "2025-03-05T18:46:01.366197Z",
     "iopub.status.busy": "2025-03-05T18:46:01.365472Z",
     "iopub.status.idle": "2025-03-05T18:46:01.378242Z",
     "shell.execute_reply": "2025-03-05T18:46:01.377564Z"
    },
    "papermill": {
     "duration": 0.01722,
     "end_time": "2025-03-05T18:46:01.379061",
     "exception": false,
     "start_time": "2025-03-05T18:46:01.361841",
     "status": "completed"
    },
    "tags": []
   },
   "outputs": [
    {
     "name": "stdout",
     "output_type": "stream",
     "text": [
      "Parameters loaded\n"
     ]
    }
   ],
   "source": [
    "# \n",
    "qc = circuit(num_qubits,RUD,AL)\n",
    "\n",
    "num_params = len([i for i in list(qc.parameters) if 'theta' in i.name]) // AL\n",
    "generator = np.random.default_rng(12958234)\n",
    "load_params = './state_vector_parameters.bin'\n",
    "\n",
    "if load_params!=None:\n",
    "    print('Parameters loaded')\n",
    "    try:\n",
    "        x0 = np.load(load_params)['x0']\n",
    "    except:\n",
    "        x0 = np.array(np.load(load_params,allow_pickle=True)['parameters'])\n",
    "else:\n",
    "    print('Parameters from scratch')\n",
    "    x0 = np.tile(generator.uniform(-np.pi, np.pi, num_params),AL*RUD)\n",
    "\n",
    "\n"
   ]
  },
  {
   "cell_type": "code",
   "execution_count": 10,
   "id": "9acf4b39-77a4-4465-aceb-7d9d8670bda4",
   "metadata": {
    "editable": true,
    "execution": {
     "iopub.execute_input": "2025-03-05T18:46:01.385933Z",
     "iopub.status.busy": "2025-03-05T18:46:01.385682Z",
     "iopub.status.idle": "2025-03-05T18:46:02.374943Z",
     "shell.execute_reply": "2025-03-05T18:46:02.374292Z"
    },
    "papermill": {
     "duration": 0.994564,
     "end_time": "2025-03-05T18:46:02.376597",
     "exception": false,
     "start_time": "2025-03-05T18:46:01.382033",
     "status": "completed"
    },
    "slideshow": {
     "slide_type": ""
    },
    "tags": []
   },
   "outputs": [
    {
     "data": {
      "image/png": "[encoded data removed]",
      "text/plain": [
       "<Figure size 5387.77x451.5 with 1 Axes>"
      ]
     },
     "execution_count": 10,
     "metadata": {},
     "output_type": "execute_result"
    }
   ],
   "source": [
    "qc.draw('mpl', scale=1, plot_barriers=True, fold=100)"
   ]
  },
  {
   "cell_type": "code",
   "execution_count": 11,
   "id": "33237488-9027-4fae-9e2c-7aa92a95d9ab",
   "metadata": {
    "execution": {
     "iopub.execute_input": "2025-03-05T18:46:02.385984Z",
     "iopub.status.busy": "2025-03-05T18:46:02.385534Z",
     "iopub.status.idle": "2025-03-05T18:46:14.352741Z",
     "shell.execute_reply": "2025-03-05T18:46:14.351859Z"
    },
    "papermill": {
     "duration": 11.973833,
     "end_time": "2025-03-05T18:46:14.354710",
     "exception": false,
     "start_time": "2025-03-05T18:46:02.380877",
     "status": "completed"
    },
    "tags": []
   },
   "outputs": [
    {
     "name": "stdout",
     "output_type": "stream",
     "text": [
      "[SparsePauliOp(['IIIIIIIIIIIIIIIIIIIIIIIIIIIIIIIIIIIIIIIIIIIIIIIIIIIIIIIIIIIIIIIIIIIIIIIIIIIIIIIIIIIIIIIZIIIIIIIIIIIIIIIIIIIIIIIIIIIIIIIIIIIIIII'],\n",
      "              coeffs=[1.+0.j])]\n"
     ]
    }
   ],
   "source": [
    "# back = \"statevector\"\n",
    "# back = \"fake\"\n",
    "back = \"real\"\n",
    "\n",
    "if back=='real':\n",
    "    # Select backend\n",
    "    service = QiskitRuntimeService(channel=\"ibm_quantum\", instance='pinq-quebec-hub/univ-toronto/default')\n",
    "    _backend = service.least_busy(operational=True, simulator=False, min_num_qubits=127)\n",
    "    maxcircuits = _backend.max_circuits\n",
    "    target = _backend.target\n",
    "# Generate pass manager\n",
    "    pm = generate_preset_pass_manager(target=target, optimization_level=optimization_level)\n",
    "    qc = pm.run(qc)\n",
    "    \n",
    "    \n",
    "    observables_labels = ''.join(['I']*(num_qubits-1))+\"Z\"\n",
    "    observables = [SparsePauliOp(observables_labels)]\n",
    "    \n",
    "    mapped_observables = [observable.apply_layout(qc.layout) for observable in observables]\n",
    "    print(mapped_observables)    \n",
    "elif back=='fake':\n",
    "    # Select backend\n",
    "    service = QiskitRuntimeService(channel=\"ibm_quantum\", instance='pinq-quebec-hub/univ-toronto/default')\n",
    "    backend = service.least_busy(operational=True, simulator=False, min_num_qubits=127)\n",
    "    maxcircuits = backend.max_circuits\n",
    "    # generate a simulator that mimics the real quantum\n",
    "    # system with the latest calibration results\n",
    "    _backend = AerSimulator.from_backend(backend)\n",
    "    \n",
    "    # _backend = FakeQuebec()\n",
    "    target = _backend.target\n",
    "\n",
    "    # Generate pass manager\n",
    "    pm = generate_preset_pass_manager(target=target, optimization_level=optimization_level)\n",
    "    qc = pm.run(qc)\n",
    "    \n",
    "    \n",
    "    observables_labels = ''.join(['I']*(num_qubits-1))+\"Z\"\n",
    "    observables = [SparsePauliOp(observables_labels)]\n",
    "    \n",
    "    mapped_observables = [observable.apply_layout(qc.layout) for observable in observables]\n",
    "    print(mapped_observables)\n",
    "else:\n",
    "    observables_labels = ''.join(['I']*(num_qubits-1))+\"Z\"\n",
    "    observables = [SparsePauliOp(observables_labels)]\n",
    "    \n",
    "    mapped_observables = [observable.apply_layout(qc.layout) for observable in observables]\n",
    "    print(mapped_observables)    \n",
    "\n",
    "    _backend = back"
   ]
  },
  {
   "cell_type": "code",
   "execution_count": 12,
   "id": "321031ff-884b-4a5e-9764-97da9a827488",
   "metadata": {
    "execution": {
     "iopub.execute_input": "2025-03-05T18:46:14.379140Z",
     "iopub.status.busy": "2025-03-05T18:46:14.378928Z",
     "iopub.status.idle": "2025-03-05T18:46:14.383400Z",
     "shell.execute_reply": "2025-03-05T18:46:14.382451Z"
    },
    "papermill": {
     "duration": 0.018251,
     "end_time": "2025-03-05T18:46:14.384742",
     "exception": false,
     "start_time": "2025-03-05T18:46:14.366491",
     "status": "completed"
    },
    "tags": []
   },
   "outputs": [],
   "source": [
    "num_executions = int(qc.num_parameters * 1 * shots)"
   ]
  },
  {
   "cell_type": "code",
   "execution_count": 13,
   "id": "558c511f-ba7b-477c-95de-c9e51808dfdd",
   "metadata": {
    "execution": {
     "iopub.execute_input": "2025-03-05T18:46:14.407905Z",
     "iopub.status.busy": "2025-03-05T18:46:14.407710Z",
     "iopub.status.idle": "2025-03-05T18:46:14.411622Z",
     "shell.execute_reply": "2025-03-05T18:46:14.410900Z"
    },
    "papermill": {
     "duration": 0.016801,
     "end_time": "2025-03-05T18:46:14.412657",
     "exception": false,
     "start_time": "2025-03-05T18:46:14.395856",
     "status": "completed"
    },
    "tags": []
   },
   "outputs": [],
   "source": [
    "num_executions_minus_x = int(num_qubits * 3 * AL* 1 * shots)"
   ]
  },
  {
   "cell_type": "code",
   "execution_count": 14,
   "id": "dee52185-d5a3-413c-be12-a79e41efc2ab",
   "metadata": {
    "execution": {
     "iopub.execute_input": "2025-03-05T18:46:14.429118Z",
     "iopub.status.busy": "2025-03-05T18:46:14.428934Z",
     "iopub.status.idle": "2025-03-05T18:46:14.432833Z",
     "shell.execute_reply": "2025-03-05T18:46:14.431979Z"
    },
    "papermill": {
     "duration": 0.013862,
     "end_time": "2025-03-05T18:46:14.434209",
     "exception": false,
     "start_time": "2025-03-05T18:46:14.420347",
     "status": "completed"
    },
    "tags": []
   },
   "outputs": [],
   "source": [
    "# qc.draw('mpl', scale=1, plot_barriers=True, fold=100)"
   ]
  },
  {
   "cell_type": "code",
   "execution_count": 15,
   "id": "f0d97c4c-6c7d-4139-9767-725675e8a85f",
   "metadata": {
    "execution": {
     "iopub.execute_input": "2025-03-05T18:46:14.450971Z",
     "iopub.status.busy": "2025-03-05T18:46:14.450664Z",
     "iopub.status.idle": "2025-03-05T18:46:14.456964Z",
     "shell.execute_reply": "2025-03-05T18:46:14.455795Z"
    },
    "papermill": {
     "duration": 0.016045,
     "end_time": "2025-03-05T18:46:14.458002",
     "exception": false,
     "start_time": "2025-03-05T18:46:14.441957",
     "status": "completed"
    },
    "tags": []
   },
   "outputs": [],
   "source": [
    "def map2qiskit(ansatz, num_qubits, X):\n",
    "    '''\n",
    "    Map features to Qiskit Circuit\n",
    "    \n",
    "    parameters\n",
    "    ----------\n",
    "    ansatz: qiskit.circuit.quantumcircuit.QuantumCircuit\n",
    "        Qiskit Quantum Circuit\n",
    "        \n",
    "    num_qubits: int\n",
    "        Number of qubits\n",
    "        \n",
    "    X: numpy.ndarray\n",
    "        Feature matrix\n",
    "\n",
    "    returns\n",
    "    -------\n",
    "    ansatz: qiskit.circuit.quantumcircuit.QuantumCircuit\n",
    "        Qiskit Quantum Circuit\n",
    "    \n",
    "    '''\n",
    "    featparams = dict([(i,X[idx % num_qubits]) for idx,i in enumerate(ansatz.parameters) if 'x' in i.name])\n",
    "    ansatz = ansatz.assign_parameters(featparams)\n",
    "    return ansatz"
   ]
  },
  {
   "cell_type": "code",
   "execution_count": 16,
   "id": "4f11f4a0-4fce-4048-9471-81e14a304da2",
   "metadata": {
    "execution": {
     "iopub.execute_input": "2025-03-05T18:46:14.467599Z",
     "iopub.status.busy": "2025-03-05T18:46:14.467213Z",
     "iopub.status.idle": "2025-03-05T18:46:14.476944Z",
     "shell.execute_reply": "2025-03-05T18:46:14.475819Z"
    },
    "papermill": {
     "duration": 0.016057,
     "end_time": "2025-03-05T18:46:14.478145",
     "exception": false,
     "start_time": "2025-03-05T18:46:14.462088",
     "status": "completed"
    },
    "tags": []
   },
   "outputs": [],
   "source": [
    "def get_results(job):\n",
    "    '''\n",
    "    Get the results of a quantum job from IBM Quantum\n",
    "    \n",
    "    parameters\n",
    "    ----------\n",
    "    job: list/str\n",
    "        Contains jobids and results (qiskit.primitives.primitive_job.PrimitiveJob)\n",
    "        Job submitted to the IBM Quantum device\n",
    "\n",
    "    returns\n",
    "    -------\n",
    "    pred: numpy.ndarray\n",
    "        Predicted values\n",
    "    \n",
    "    '''\n",
    "    if isinstance(_backend, str):\n",
    "        pred = np.hstack([np.vstack([r.data.evs for r in rs.result()]) for jid, rs in job])\n",
    "    elif _backend.name!='ibm_quebec':\n",
    "        pred = np.hstack([np.vstack([r.data.evs for r in rs.result()]) for jid, rs in job])\n",
    "    else:\n",
    "        with open(f'jobs_{job}.txt','r') as f:\n",
    "            pred = np.hstack([np.vstack([r.data.evs for r in service.job(jid.strip()).result()]) for jid in f.readlines()])\n",
    "            \n",
    "    return pred"
   ]
  },
  {
   "cell_type": "code",
   "execution_count": 17,
   "id": "0730216f-ae50-450f-b35c-8842edd668ce",
   "metadata": {
    "execution": {
     "iopub.execute_input": "2025-03-05T18:46:14.488336Z",
     "iopub.status.busy": "2025-03-05T18:46:14.487928Z",
     "iopub.status.idle": "2025-03-05T18:46:14.501274Z",
     "shell.execute_reply": "2025-03-05T18:46:14.500281Z"
    },
    "papermill": {
     "duration": 0.019807,
     "end_time": "2025-03-05T18:46:14.502320",
     "exception": false,
     "start_time": "2025-03-05T18:46:14.482513",
     "status": "completed"
    },
    "tags": []
   },
   "outputs": [],
   "source": [
    "def batchmap(params, ansatz, hamiltonian, _backend, index, shots=1024, resilience_level=1,file=None):\n",
    "    '''\n",
    "    Function to map batches\n",
    "\n",
    "    parameters\n",
    "    ----------\n",
    "    params: numpy.ndarray\n",
    "        Initial circuit parameters\n",
    "        \n",
    "    ansatz: qiskit.circuit.quantumcircuit.QuantumCircuit\n",
    "        Qiskit Quantum Circuit\n",
    "\n",
    "    hamiltonian: list\n",
    "        List containing the observables\n",
    "        \n",
    "    _backend: qiskit_ibm_runtime backend\n",
    "        Backend of choice (real or fake)\n",
    "\n",
    "    index: int\n",
    "        Index of batch\n",
    "        \n",
    "    shots: float or int\n",
    "        Number of shots. Default is 1024.0.\n",
    "    \n",
    "    resilience_level: int\n",
    "        Error mitigation level. Default is 1.\n",
    "\n",
    "    file: class\n",
    "        _io.TextIOWrapper\n",
    "\n",
    "    returns\n",
    "    -------\n",
    "    y_pred: numpy.ndarray\n",
    "        Predicted values    \n",
    "    '''    \n",
    "    results = []\n",
    "    if isinstance(_backend, str):\n",
    "        jobid = str(index)\n",
    "        estimator = StatevectorEstimator()\n",
    "        for a1, p1 in zip(ansatz, params):\n",
    "            pub = [(a, [hamiltonian], [p]) for a, p in zip(a1,p1)]\n",
    "            result = estimator.run(pubs=pub)\n",
    "            results.append([jobid,result])\n",
    "                       \n",
    "    else:\n",
    "        with Batch(backend=_backend,max_time='8h') as batch:\n",
    "            if _backend.name!='ibm_quebec':\n",
    "                jobid = str(index)\n",
    "            else:\n",
    "                jobid = batch.details()['id']\n",
    "            estimator = Estimator(mode=batch)\n",
    "            estimator.options.default_shots = shots\n",
    "            estimator.options.resilience_level = resilience_level\n",
    "        \n",
    "                    \n",
    "            for a1, p1 in zip(ansatz, params):\n",
    "                pub = [(a, [hamiltonian], [p]) for a, p in zip(a1,p1)]\n",
    "                result = estimator.run(pubs=pub)\n",
    "                results.append([result.job_id(),result])\n",
    "                file.write(f\"{result.job_id()}\\n\")\n",
    "\n",
    "    return results"
   ]
  },
  {
   "cell_type": "code",
   "execution_count": 18,
   "id": "1e7f969b-86b0-4c19-9539-d37bb6f891a2",
   "metadata": {
    "execution": {
     "iopub.execute_input": "2025-03-05T18:46:14.512624Z",
     "iopub.status.busy": "2025-03-05T18:46:14.512229Z",
     "iopub.status.idle": "2025-03-05T18:46:14.530316Z",
     "shell.execute_reply": "2025-03-05T18:46:14.529488Z"
    },
    "papermill": {
     "duration": 0.025011,
     "end_time": "2025-03-05T18:46:14.531506",
     "exception": false,
     "start_time": "2025-03-05T18:46:14.506495",
     "status": "completed"
    },
    "tags": []
   },
   "outputs": [],
   "source": [
    "def batched_pred(params, ansatz, hamiltonian, num_qubits, X, _backend, shots=1024, resilience_level=1, n_jobs=-1,iters=None):\n",
    "    '''\n",
    "    Function to predict quantum circuits in batches\n",
    "\n",
    "    parameters\n",
    "    ----------\n",
    "    params: numpy.ndarray\n",
    "        Initial circuit parameters\n",
    "        \n",
    "    ansatz: qiskit.circuit.quantumcircuit.QuantumCircuit\n",
    "        Qiskit Quantum Circuit\n",
    "\n",
    "    hamiltonian: list\n",
    "        List containing the observables\n",
    "        \n",
    "    num_qubits: int\n",
    "        Number of qubits\n",
    "        \n",
    "    X: numpy.ndarray\n",
    "        Feature matrix\n",
    "        \n",
    "    _backend: qiskit_ibm_runtime backend\n",
    "        Backend of choice (real or fake)\n",
    "        \n",
    "    shots: float or int\n",
    "        Number of shots. Default is 1024.0.\n",
    "    \n",
    "    resilience_level: int\n",
    "        Error mitigation level. Default is 1.\n",
    "\n",
    "    n_jobs: int\n",
    "        Number of threads/cores for parallelization.\n",
    "\n",
    "    iters: int/str\n",
    "        Helps label the jobs.txt file\n",
    "\n",
    "    returns\n",
    "    -------\n",
    "    y_pred: numpy.ndarray\n",
    "        Predicted values    \n",
    "    '''\n",
    "    mapped_circuits = [[[map2qiskit(ansatz,num_qubits,x_i) for x_i in xi ]for xi in X[i : i + 4]] for i in range(0, len(X), 4)]\n",
    "    tiled_params = np.tile(params,(X.shape[0],X.shape[1])).reshape(X.shape[0],X.shape[1],-1)\n",
    "    batched_params = [tiled_params[i : i + 4] for i in range(0, len(X), 4)]\n",
    "    \n",
    "    # Submit jobs\n",
    "    \n",
    "\n",
    "    if isinstance(_backend, str):\n",
    "        t0 = time.perf_counter()\n",
    "        jobs = joblib.Parallel(n_jobs=n_jobs,verbose=0, prefer=\"threads\")(joblib.delayed(batchmap)(pars, anz, hamiltonian, _backend, idx, shots, resilience_level,None) for idx, (anz, pars) in tqdm(enumerate(zip(mapped_circuits,batched_params)),desc=\"Mappings\"))\n",
    "        print(f\"Submitted to device in {time.perf_counter()-t0:.4f} s\")\n",
    "        \n",
    "        t1 = time.perf_counter()        \n",
    "        y_pred = np.hstack(joblib.Parallel(n_jobs=n_jobs,verbose=0, prefer=\"threads\")(joblib.delayed(get_results)(job) for job in tqdm(jobs,desc=\"Running batch: \"))).T\n",
    "        print(f\"Predicted in {time.perf_counter()-t1:.4f} s\")\n",
    "    else:\n",
    "        \n",
    "        t0 = time.perf_counter()\n",
    "        with open(f'jobs_{iters}.txt','w') as f:\n",
    "            jobs = joblib.Parallel(n_jobs=n_jobs,verbose=0, prefer=\"threads\")(joblib.delayed(batchmap)(pars, anz, hamiltonian, _backend, idx, shots, resilience_level,f) for idx, (anz, pars) in tqdm(enumerate(zip(mapped_circuits,batched_params)),desc=\"Mappings\"))\n",
    "        print(f\"Submitted to device in {time.perf_counter()-t0:.4f} s\")\n",
    "\n",
    "        t1 = time.perf_counter()        \n",
    "        if _backend.name!='ibm_quebec':\n",
    "            y_pred = np.hstack(joblib.Parallel(n_jobs=n_jobs,verbose=0, prefer=\"threads\")(joblib.delayed(get_results)(job) for job in tqdm(jobs,desc=\"Running batch: \"))).T            \n",
    "        else:\n",
    "            y_pred = get_results(iters)\n",
    "        print(f\"Predicted in {time.perf_counter()-t1:.4f} s\")\n",
    "\n",
    "    return y_pred"
   ]
  },
  {
   "cell_type": "code",
   "execution_count": 19,
   "id": "8e0da73e-16ae-4c90-bfd4-e1026a5403fa",
   "metadata": {
    "execution": {
     "iopub.execute_input": "2025-03-05T18:46:14.549031Z",
     "iopub.status.busy": "2025-03-05T18:46:14.548632Z",
     "iopub.status.idle": "2025-03-05T18:46:14.561301Z",
     "shell.execute_reply": "2025-03-05T18:46:14.560336Z"
    },
    "papermill": {
     "duration": 0.022836,
     "end_time": "2025-03-05T18:46:14.562448",
     "exception": false,
     "start_time": "2025-03-05T18:46:14.539612",
     "status": "completed"
    },
    "tags": []
   },
   "outputs": [],
   "source": [
    "def cost_func(params, ansatz, hamiltonian, num_qubits, X, y, cost_history_dict, _backend, shots=1024.0, resilience_level=1, n_jobs=-1):\n",
    "    \"\"\"\n",
    "    Cost function. Is this loss?\n",
    "    \n",
    "    parameters\n",
    "    ----------\n",
    "    params: numpy.ndarray\n",
    "        Initial circuit parameters\n",
    "        \n",
    "    ansatz: qiskit.circuit.quantumcircuit.QuantumCircuit\n",
    "        Qiskit Quantum Circuit\n",
    "\n",
    "    hamiltonian: list\n",
    "        List containing the observables\n",
    "        \n",
    "    num_qubits: int\n",
    "        Number of qubits\n",
    "        \n",
    "    X: numpy.ndarray\n",
    "        Feature matrix\n",
    "\n",
    "    y: numpy.ndarray\n",
    "        Target vector\n",
    "\n",
    "    cost_history_dict: dict\n",
    "        Dictionary to track the loss        \n",
    "        \n",
    "    _backend: qiskit_ibm_runtime backend\n",
    "        Backend of choice (real or fake)\n",
    "        \n",
    "    shots: float or int\n",
    "        Number of shots. Default is 1024.0.\n",
    "    \n",
    "    resilience_level: int\n",
    "        Error mitigation level. Default is 1.\n",
    "\n",
    "    n_jobs: int\n",
    "        Number of threads/cores for parallelization.\n",
    "\n",
    "    \"\"\"\n",
    "    t0=time.perf_counter()\n",
    "    if isinstance(_backend, str): \n",
    "        y_pred = batched_pred(params, ansatz, hamiltonian, num_qubits, X, _backend, shots, resilience_level, n_jobs,None)\n",
    "    else:\n",
    "        y_pred = batched_pred(params, ansatz, hamiltonian, num_qubits, X, _backend, shots, resilience_level, n_jobs,cost_history_dict[\"iters\"])\n",
    "    \n",
    "    loss = mean_squared_error(y.flatten(),y_pred.flatten())\n",
    "    r2 = r2_score(y.flatten(),y_pred.flatten())\n",
    "    \n",
    "    cost_history_dict[\"iters\"] += 1\n",
    "    cost_history_dict[\"prev_vector\"] = params\n",
    "    cost_history_dict[\"cost_history\"].append(loss)\n",
    "    \n",
    "    print(f\"Iters. done: {cost_history_dict['iters']} Current cost: {loss} Accuracy: {r2} Time: {time.perf_counter()-t0}\")\n",
    "    \n",
    "    with open('model_log.csv', 'a') as outfile:\n",
    "        log = f\"{time.asctime()},{cost_history_dict['iters']},{loss},{params}\\n\"\n",
    "        outfile.write(log)\n",
    "\n",
    "    save_file = 'partial_state_model.bin'\n",
    "    progress = {'x': params, 'loss': loss}\n",
    "    dump(progress, save_file)\n",
    "  \n",
    "    return loss"
   ]
  },
  {
   "cell_type": "code",
   "execution_count": 20,
   "id": "4c7cf7d5-8ec8-4994-86d3-a88ac219bbf8",
   "metadata": {
    "execution": {
     "iopub.execute_input": "2025-03-05T18:46:14.573442Z",
     "iopub.status.busy": "2025-03-05T18:46:14.573039Z",
     "iopub.status.idle": "2025-03-05T18:46:14.594907Z",
     "shell.execute_reply": "2025-03-05T18:46:14.594018Z"
    },
    "papermill": {
     "duration": 0.029324,
     "end_time": "2025-03-05T18:46:14.596085",
     "exception": false,
     "start_time": "2025-03-05T18:46:14.566761",
     "status": "completed"
    },
    "tags": []
   },
   "outputs": [],
   "source": [
    "def evaluate(params, ansatz, hamiltonian, num_qubits, n_jobs, _backend, X_train, y_train, X_test=None, y_test=None, plot: bool = False, title: str = 'defult',y_scaler=None, shots=1024.0, resilience_level=1):\n",
    "    scores = {}\n",
    "    st = time.time()\n",
    "    print('Now scoring model... ')\n",
    "    if isinstance(_backend, str): \n",
    "        y_train_pred = batched_pred(params, ansatz, hamiltonian, num_qubits, X_train, _backend, shots, resilience_level, n_jobs,None)\n",
    "    else:\n",
    "        y_train_pred = batched_pred(params, ansatz, hamiltonian, num_qubits, X_train, _backend, shots, resilience_level, n_jobs,'evals_train')\n",
    "    y_train_pred = y_scaler.inverse_transform(y_train_pred.reshape(-1, 1)).flatten()\n",
    "    y_train = y_scaler.inverse_transform(y_train.reshape(-1, 1)).flatten()\n",
    "\n",
    "    scores['MSE_train'] = mean_squared_error(y_train, y_train_pred)\n",
    "    scores['R2_train'] = r2_score(y_train, y_train_pred)\n",
    "    scores['MAE_train'] = mean_absolute_error(y_train, y_train_pred)\n",
    "\n",
    "    y_test_pred = None\n",
    "    y_test = y_scaler.inverse_transform(y_test.reshape(-1, 1)).flatten()\n",
    "    if y_test is not None:\n",
    "        if isinstance(_backend, str):\n",
    "            y_test_pred = batched_pred(params, ansatz, hamiltonian, num_qubits, X_test, _backend, shots, resilience_level, n_jobs,None)            \n",
    "        else:\n",
    "            y_test_pred = batched_pred(params, ansatz, hamiltonian, num_qubits, X_test, _backend, shots, resilience_level, n_jobs,'evals_test')\n",
    "        y_test_pred = y_scaler.inverse_transform(y_test_pred.reshape(-1, 1)).flatten()\n",
    "    \n",
    "        scores['MSE_test'] = mean_squared_error(y_test, y_test_pred)\n",
    "        scores['R2_test'] = r2_score(y_test, y_test_pred)\n",
    "        scores['MAE_test'] = mean_absolute_error(y_test, y_test_pred)\n",
    "\n",
    "    if plot:\n",
    "        plt.figure()\n",
    "        if y_test_pred is not None:\n",
    "            plt.scatter(y_test, y_test_pred, color='b', s=10, label=f'Test, MAE = {scores[\"MAE_test\"]:.2f}')\n",
    "        plt.scatter(y_train, y_train_pred, color='r', s=10, label=f'Train, MAE = {scores[\"MAE_train\"]:.2f}')\n",
    "        plt.ylabel('Predicted')\n",
    "        plt.xlabel('Actual')\n",
    "        plt.axis('scaled')\n",
    "\n",
    "        max_val = max(max(plt.xlim()), max(plt.ylim()))\n",
    "        min_val = min(min(plt.xlim()), min(plt.ylim()))\n",
    "        plt.xlim((min_val, max_val))\n",
    "        plt.ylim((min_val, max_val))\n",
    "\n",
    "        x_min, x_max = plt.xlim()\n",
    "        y_min, y_max = plt.ylim()\n",
    "        plt.plot([x_min, x_max], [y_min, y_max], 'k--', alpha=0.2, label='y=x')\n",
    "        plt.legend()\n",
    "        plt.savefig(title+'_plot.svg')\n",
    "\n",
    "        if X_test.shape[1] == 1:\n",
    "            plt.figure()\n",
    "            plt.title(title)\n",
    "            plt.scatter(X_train, y_train_pred, color='b', label='Train', s=10)\n",
    "            plt.scatter(X_test, y_test_pred, color='orange', label='Test', s=10)\n",
    "            plt.scatter(X_train, y_train, color='green', label='Data', s=10)\n",
    "            plt.scatter(X_test, y_test, color='green', s=10)\n",
    "            plt.legend()\n",
    "            plt.savefig(title+'_1D_plot.svg')\n",
    "\n",
    "    print(f'Scoring complete taking {time.time() - st} seconds. ')\n",
    "\n",
    "    return scores, y_test_pred, y_train_pred"
   ]
  },
  {
   "cell_type": "code",
   "execution_count": 21,
   "id": "21c8acce-aca9-4a3c-9af6-73f33015bf0d",
   "metadata": {
    "execution": {
     "iopub.execute_input": "2025-03-05T18:46:14.614622Z",
     "iopub.status.busy": "2025-03-05T18:46:14.613589Z",
     "iopub.status.idle": "2025-03-05T19:43:01.049642Z",
     "shell.execute_reply": "2025-03-05T19:43:01.049005Z"
    },
    "papermill": {
     "duration": 3406.467675,
     "end_time": "2025-03-05T19:43:01.071969",
     "exception": false,
     "start_time": "2025-03-05T18:46:14.604294",
     "status": "completed"
    },
    "tags": []
   },
   "outputs": [
    {
     "data": {
      "application/vnd.jupyter.widget-view+json": {
       "model_id": "fb230f091fcf4f4c845afa98b27a744e",
       "version_major": 2,
       "version_minor": 0
      },
      "text/plain": [
       "Mappings: 0it [00:00, ?it/s]"
      ]
     },
     "metadata": {},
     "output_type": "display_data"
    },
    {
     "name": "stdout",
     "output_type": "stream",
     "text": [
      "Submitted to device in 24.2195 s\n"
     ]
    },
    {
     "name": "stdout",
     "output_type": "stream",
     "text": [
      "Predicted in 673.7280 s\n",
      "Iters. done: 1 Current cost: 0.12915250004933043 Accuracy: -0.427748937868496 Time: 698.0281506441534\n",
      "Now scoring model... \n"
     ]
    },
    {
     "data": {
      "application/vnd.jupyter.widget-view+json": {
       "model_id": "732154c55e924ca6972d8a3adfbf6705",
       "version_major": 2,
       "version_minor": 0
      },
      "text/plain": [
       "Mappings: 0it [00:00, ?it/s]"
      ]
     },
     "metadata": {},
     "output_type": "display_data"
    },
    {
     "name": "stdout",
     "output_type": "stream",
     "text": [
      "Submitted to device in 22.9024 s\n"
     ]
    },
    {
     "name": "stdout",
     "output_type": "stream",
     "text": [
      "Predicted in 262.4608 s\n"
     ]
    },
    {
     "data": {
      "application/vnd.jupyter.widget-view+json": {
       "model_id": "5d10ecac47f54c43814e2327902cbab6",
       "version_major": 2,
       "version_minor": 0
      },
      "text/plain": [
       "Mappings: 0it [00:00, ?it/s]"
      ]
     },
     "metadata": {},
     "output_type": "display_data"
    },
    {
     "name": "stdout",
     "output_type": "stream",
     "text": [
      "Submitted to device in 22.3975 s\n"
     ]
    },
    {
     "name": "stdout",
     "output_type": "stream",
     "text": [
      "Predicted in 2400.2813 s\n",
      "Scoring complete taking 2708.3140122890472 seconds. \n"
     ]
    },
    {
     "data": {
      "image/png": "[encoded data removed]",
      "text/plain": [
       "<Figure size 640x480 with 1 Axes>"
      ]
     },
     "metadata": {},
     "output_type": "display_data"
    }
   ],
   "source": [
    "\n",
    "scores = []\n",
    "with open('model_log.csv', 'w') as outfile:\n",
    "    outfile.write('Time,Iteration,Cost,Parameters')\n",
    "    outfile.write('\\n')        \n",
    "\n",
    "\n",
    "cost_history_dict = {\n",
    "    \"prev_vector\": None,\n",
    "    \"iters\": 0,\n",
    "    \"cost_history\": [],\n",
    "}\n",
    "\n",
    "\n",
    "\n",
    "\n",
    "\n",
    "res = minimize(cost_func,\n",
    "    x0,\n",
    "    args=(qc, mapped_observables, num_qubits, X_train, y_train, cost_history_dict, _backend, shots, resilience_level, n_jobs),\n",
    "    method=\"cobyla\", options={'maxiter':1})  \n",
    "\n",
    "x0 = res.x\n",
    "loss = res.fun    \n",
    "progress = {'x': x0, 'loss': loss}\n",
    "dump(progress, 'final_state_model.bin')\n",
    "os.remove('partial_state_model.bin') \n",
    "\n",
    "scores, y_test_pred, y_train_pred = evaluate(x0, qc, mapped_observables, num_qubits, n_jobs, _backend, X_train, y_train, X_test=X_test, y_test=y_test, plot = True, title= 'A2_HWE-CNOT',y_scaler=scaler, shots=shots, resilience_level=resilience_level)\n",
    "\n",
    "name = 'A2_HWE-CNOT_predicted_values.csv'\n",
    "\n",
    "y_train = scaler.inverse_transform(y_train.reshape(-1, 1))\n",
    "y_test = scaler.inverse_transform(y_test.reshape(-1, 1))\n",
    "train_pred, y_train, test_pred, y_test = y_train_pred.flatten().tolist(), y_train.flatten().tolist(), y_test_pred.flatten().tolist(), y_test.flatten().tolist()\n",
    "df_train = pd.DataFrame({'Predicted': train_pred, 'Reference': y_train})\n",
    "df_train['Data'] = 'Train'\n",
    "df_test = pd.DataFrame({'Predicted': test_pred, 'Reference': y_test})\n",
    "df_test['Data'] = 'Test'\n",
    "df = pd.concat([df_train, df_test], ignore_index=True)\n",
    "df = df[['Data', 'Predicted', 'Reference']]\n",
    "\n",
    "df.to_csv(name, index=False)\n",
    "\n",
    "results_title = 'A2_HWE-CNOT_results.json'\n",
    "with open(results_title, 'w') as outfile:\n",
    "    json.dump(scores, outfile)\n",
    "\n",
    "\n"
   ]
  },
  {
   "cell_type": "code",
   "execution_count": 22,
   "id": "d2d4290f-6366-47b2-94f3-6ce762b37cdc",
   "metadata": {
    "execution": {
     "iopub.execute_input": "2025-03-05T19:43:01.097673Z",
     "iopub.status.busy": "2025-03-05T19:43:01.097451Z",
     "iopub.status.idle": "2025-03-05T19:43:01.103864Z",
     "shell.execute_reply": "2025-03-05T19:43:01.103315Z"
    },
    "papermill": {
     "duration": 0.019104,
     "end_time": "2025-03-05T19:43:01.104919",
     "exception": false,
     "start_time": "2025-03-05T19:43:01.085815",
     "status": "completed"
    },
    "tags": []
   },
   "outputs": [
    {
     "data": {
      "text/plain": [
       "(-0.4200360530745224, 0.0005531617543378925)"
      ]
     },
     "execution_count": 22,
     "metadata": {},
     "output_type": "execute_result"
    }
   ],
   "source": [
    "r2_score(y_train,train_pred),mean_squared_error(y_train,train_pred)"
   ]
  },
  {
   "cell_type": "code",
   "execution_count": 23,
   "id": "c32cb367-682e-4c0f-85f4-d5b259ce6752",
   "metadata": {
    "execution": {
     "iopub.execute_input": "2025-03-05T19:43:01.125716Z",
     "iopub.status.busy": "2025-03-05T19:43:01.125414Z",
     "iopub.status.idle": "2025-03-05T19:43:01.132788Z",
     "shell.execute_reply": "2025-03-05T19:43:01.132132Z"
    },
    "papermill": {
     "duration": 0.019065,
     "end_time": "2025-03-05T19:43:01.134010",
     "exception": false,
     "start_time": "2025-03-05T19:43:01.114945",
     "status": "completed"
    },
    "tags": []
   },
   "outputs": [
    {
     "data": {
      "text/plain": [
       "(-0.6553005584424498, 0.0006504257103735365)"
      ]
     },
     "execution_count": 23,
     "metadata": {},
     "output_type": "execute_result"
    }
   ],
   "source": [
    "r2_score(y_test,test_pred),mean_squared_error(y_test,test_pred)"
   ]
  },
  {
   "cell_type": "code",
   "execution_count": 24,
   "id": "c9106804-835b-4a4b-9a7e-83712ff62774",
   "metadata": {
    "execution": {
     "iopub.execute_input": "2025-03-05T19:43:01.150355Z",
     "iopub.status.busy": "2025-03-05T19:43:01.150186Z",
     "iopub.status.idle": "2025-03-05T19:43:01.242519Z",
     "shell.execute_reply": "2025-03-05T19:43:01.241948Z"
    },
    "papermill": {
     "duration": 0.100276,
     "end_time": "2025-03-05T19:43:01.243886",
     "exception": false,
     "start_time": "2025-03-05T19:43:01.143610",
     "status": "completed"
    },
    "tags": []
   },
   "outputs": [
    {
     "data": {
      "text/plain": [
       "[<matplotlib.lines.Line2D at 0x7f17d27f5ad0>]"
      ]
     },
     "execution_count": 24,
     "metadata": {},
     "output_type": "execute_result"
    },
    {
     "data": {
      "image/png": "[encoded data removed]",
      "text/plain": [
       "<Figure size 640x480 with 1 Axes>"
      ]
     },
     "metadata": {},
     "output_type": "display_data"
    }
   ],
   "source": [
    "plt.scatter(y_train,train_pred)\n",
    "plt.scatter(y_test,test_pred)\n",
    "plt.plot(y_train, y_train)"
   ]
  }
 ],
 "metadata": {
  "kernelspec": {
   "display_name": "Python 3 (ipykernel)",
   "language": "python",
   "name": "python3"
  },
  "language_info": {
   "codemirror_mode": {
    "name": "ipython",
    "version": 3
   },
   "file_extension": ".py",
   "mimetype": "text/x-python",
   "name": "python",
   "nbconvert_exporter": "python",
   "pygments_lexer": "ipython3",
   "version": "3.11.11"
  },
  "papermill": {
   "default_parameters": {},
   "duration": 3424.434789,
   "end_time": "2025-03-05T19:43:02.783804",
   "environment_variables": {},
   "exception": null,
   "input_path": "convert_ML_batched.ipynb",
   "output_path": "ol1_rl0/convert_ML_batched.ipynb",
   "parameters": {
    "optimization_level": "2",
    "resilience_level": "0",
    "shots": "3072"
   },
   "start_time": "2025-03-05T18:45:58.349015",
   "version": "2.6.0"
  },
  "widgets": {
   "application/vnd.jupyter.widget-state+json": {
    "state": {
     "00a35103976d4582b393cc819de7a496": {
      "model_module": "@jupyter-widgets/base",
      "model_module_version": "2.0.0",
      "model_name": "LayoutModel",
      "state": {
       "_model_module": "@jupyter-widgets/base",
       "_model_module_version": "2.0.0",
       "_model_name": "LayoutModel",
       "_view_count": null,
       "_view_module": "@jupyter-widgets/base",
       "_view_module_version": "2.0.0",
       "_view_name": "LayoutView",
       "align_content": null,
       "align_items": null,
       "align_self": null,
       "border_bottom": null,
       "border_left": null,
       "border_right": null,
       "border_top": null,
       "bottom": null,
       "display": null,
       "flex": null,
       "flex_flow": null,
       "grid_area": null,
       "grid_auto_columns": null,
       "grid_auto_flow": null,
       "grid_auto_rows": null,
       "grid_column": null,
       "grid_gap": null,
       "grid_row": null,
       "grid_template_areas": null,
       "grid_template_columns": null,
       "grid_template_rows": null,
       "height": null,
       "justify_content": null,
       "justify_items": null,
       "left": null,
       "margin": null,
       "max_height": null,
       "max_width": null,
       "min_height": null,
       "min_width": null,
       "object_fit": null,
       "object_position": null,
       "order": null,
       "overflow": null,
       "padding": null,
       "right": null,
       "top": null,
       "visibility": null,
       "width": null
      }
     },
     "0a8751b085f64b9ca24f1747ada68a4d": {
      "model_module": "@jupyter-widgets/controls",
      "model_module_version": "2.0.0",
      "model_name": "ProgressStyleModel",
      "state": {
       "_model_module": "@jupyter-widgets/controls",
       "_model_module_version": "2.0.0",
       "_model_name": "ProgressStyleModel",
       "_view_count": null,
       "_view_module": "@jupyter-widgets/base",
       "_view_module_version": "2.0.0",
       "_view_name": "StyleView",
       "bar_color": null,
       "description_width": ""
      }
     },
     "1587ce10af2544e58e86501240bef5a3": {
      "model_module": "@jupyter-widgets/base",
      "model_module_version": "2.0.0",
      "model_name": "LayoutModel",
      "state": {
       "_model_module": "@jupyter-widgets/base",
       "_model_module_version": "2.0.0",
       "_model_name": "LayoutModel",
       "_view_count": null,
       "_view_module": "@jupyter-widgets/base",
       "_view_module_version": "2.0.0",
       "_view_name": "LayoutView",
       "align_content": null,
       "align_items": null,
       "align_self": null,
       "border_bottom": null,
       "border_left": null,
       "border_right": null,
       "border_top": null,
       "bottom": null,
       "display": null,
       "flex": null,
       "flex_flow": null,
       "grid_area": null,
       "grid_auto_columns": null,
       "grid_auto_flow": null,
       "grid_auto_rows": null,
       "grid_column": null,
       "grid_gap": null,
       "grid_row": null,
       "grid_template_areas": null,
       "grid_template_columns": null,
       "grid_template_rows": null,
       "height": null,
       "justify_content": null,
       "justify_items": null,
       "left": null,
       "margin": null,
       "max_height": null,
       "max_width": null,
       "min_height": null,
       "min_width": null,
       "object_fit": null,
       "object_position": null,
       "order": null,
       "overflow": null,
       "padding": null,
       "right": null,
       "top": null,
       "visibility": null,
       "width": null
      }
     },
     "1e4a56570042464c9fe22516b6ce5a01": {
      "model_module": "@jupyter-widgets/base",
      "model_module_version": "2.0.0",
      "model_name": "LayoutModel",
      "state": {
       "_model_module": "@jupyter-widgets/base",
       "_model_module_version": "2.0.0",
       "_model_name": "LayoutModel",
       "_view_count": null,
       "_view_module": "@jupyter-widgets/base",
       "_view_module_version": "2.0.0",
       "_view_name": "LayoutView",
       "align_content": null,
       "align_items": null,
       "align_self": null,
       "border_bottom": null,
       "border_left": null,
       "border_right": null,
       "border_top": null,
       "bottom": null,
       "display": null,
       "flex": null,
       "flex_flow": null,
       "grid_area": null,
       "grid_auto_columns": null,
       "grid_auto_flow": null,
       "grid_auto_rows": null,
       "grid_column": null,
       "grid_gap": null,
       "grid_row": null,
       "grid_template_areas": null,
       "grid_template_columns": null,
       "grid_template_rows": null,
       "height": null,
       "justify_content": null,
       "justify_items": null,
       "left": null,
       "margin": null,
       "max_height": null,
       "max_width": null,
       "min_height": null,
       "min_width": null,
       "object_fit": null,
       "object_position": null,
       "order": null,
       "overflow": null,
       "padding": null,
       "right": null,
       "top": null,
       "visibility": null,
       "width": null
      }
     },
     "25221fc6f2b647de86e05f38e8d5169d": {
      "model_module": "@jupyter-widgets/controls",
      "model_module_version": "2.0.0",
      "model_name": "HTMLModel",
      "state": {
       "_dom_classes": [],
       "_model_module": "@jupyter-widgets/controls",
       "_model_module_version": "2.0.0",
       "_model_name": "HTMLModel",
       "_view_count": null,
       "_view_module": "@jupyter-widgets/controls",
       "_view_module_version": "2.0.0",
       "_view_name": "HTMLView",
       "description": "",
       "description_allow_html": false,
       "layout": "IPY_MODEL_00a35103976d4582b393cc819de7a496",
       "placeholder": "​",
       "style": "IPY_MODEL_98c8bb0fc23a402480da6559774a5e89",
       "tabbable": null,
       "tooltip": null,
       "value": " 1/? [00:00&lt;00:00, 139.84it/s]"
      }
     },
     "3fb4958d7c7c4a4390aca49a6ff2f454": {
      "model_module": "@jupyter-widgets/base",
      "model_module_version": "2.0.0",
      "model_name": "LayoutModel",
      "state": {
       "_model_module": "@jupyter-widgets/base",
       "_model_module_version": "2.0.0",
       "_model_name": "LayoutModel",
       "_view_count": null,
       "_view_module": "@jupyter-widgets/base",
       "_view_module_version": "2.0.0",
       "_view_name": "LayoutView",
       "align_content": null,
       "align_items": null,
       "align_self": null,
       "border_bottom": null,
       "border_left": null,
       "border_right": null,
       "border_top": null,
       "bottom": null,
       "display": null,
       "flex": null,
       "flex_flow": null,
       "grid_area": null,
       "grid_auto_columns": null,
       "grid_auto_flow": null,
       "grid_auto_rows": null,
       "grid_column": null,
       "grid_gap": null,
       "grid_row": null,
       "grid_template_areas": null,
       "grid_template_columns": null,
       "grid_template_rows": null,
       "height": null,
       "justify_content": null,
       "justify_items": null,
       "left": null,
       "margin": null,
       "max_height": null,
       "max_width": null,
       "min_height": null,
       "min_width": null,
       "object_fit": null,
       "object_position": null,
       "order": null,
       "overflow": null,
       "padding": null,
       "right": null,
       "top": null,
       "visibility": null,
       "width": null
      }
     },
     "44f3f46677fe4121894c4bcba42f3044": {
      "model_module": "@jupyter-widgets/controls",
      "model_module_version": "2.0.0",
      "model_name": "HTMLStyleModel",
      "state": {
       "_model_module": "@jupyter-widgets/controls",
       "_model_module_version": "2.0.0",
       "_model_name": "HTMLStyleModel",
       "_view_count": null,
       "_view_module": "@jupyter-widgets/base",
       "_view_module_version": "2.0.0",
       "_view_name": "StyleView",
       "background": null,
       "description_width": "",
       "font_size": null,
       "text_color": null
      }
     },
     "4b2f982fb85d4a35831cbd8944566c81": {
      "model_module": "@jupyter-widgets/controls",
      "model_module_version": "2.0.0",
      "model_name": "FloatProgressModel",
      "state": {
       "_dom_classes": [],
       "_model_module": "@jupyter-widgets/controls",
       "_model_module_version": "2.0.0",
       "_model_name": "FloatProgressModel",
       "_view_count": null,
       "_view_module": "@jupyter-widgets/controls",
       "_view_module_version": "2.0.0",
       "_view_name": "ProgressView",
       "bar_style": "success",
       "description": "",
       "description_allow_html": false,
       "layout": "IPY_MODEL_a7999a6042404a4f919d39b9698ceec0",
       "max": 1.0,
       "min": 0.0,
       "orientation": "horizontal",
       "style": "IPY_MODEL_da0aace2bf00487ebef4d4017da0bc52",
       "tabbable": null,
       "tooltip": null,
       "value": 1.0
      }
     },
     "4f90d5f58e8f4756bdbf62b359b0d3c2": {
      "model_module": "@jupyter-widgets/controls",
      "model_module_version": "2.0.0",
      "model_name": "FloatProgressModel",
      "state": {
       "_dom_classes": [],
       "_model_module": "@jupyter-widgets/controls",
       "_model_module_version": "2.0.0",
       "_model_name": "FloatProgressModel",
       "_view_count": null,
       "_view_module": "@jupyter-widgets/controls",
       "_view_module_version": "2.0.0",
       "_view_name": "ProgressView",
       "bar_style": "success",
       "description": "",
       "description_allow_html": false,
       "layout": "IPY_MODEL_8b9f9d1188694b17a7e56286299733c9",
       "max": 1.0,
       "min": 0.0,
       "orientation": "horizontal",
       "style": "IPY_MODEL_0a8751b085f64b9ca24f1747ada68a4d",
       "tabbable": null,
       "tooltip": null,
       "value": 1.0
      }
     },
     "5cf5dba093c144f299b2ae3a9bf4cf81": {
      "model_module": "@jupyter-widgets/base",
      "model_module_version": "2.0.0",
      "model_name": "LayoutModel",
      "state": {
       "_model_module": "@jupyter-widgets/base",
       "_model_module_version": "2.0.0",
       "_model_name": "LayoutModel",
       "_view_count": null,
       "_view_module": "@jupyter-widgets/base",
       "_view_module_version": "2.0.0",
       "_view_name": "LayoutView",
       "align_content": null,
       "align_items": null,
       "align_self": null,
       "border_bottom": null,
       "border_left": null,
       "border_right": null,
       "border_top": null,
       "bottom": null,
       "display": null,
       "flex": null,
       "flex_flow": null,
       "grid_area": null,
       "grid_auto_columns": null,
       "grid_auto_flow": null,
       "grid_auto_rows": null,
       "grid_column": null,
       "grid_gap": null,
       "grid_row": null,
       "grid_template_areas": null,
       "grid_template_columns": null,
       "grid_template_rows": null,
       "height": null,
       "justify_content": null,
       "justify_items": null,
       "left": null,
       "margin": null,
       "max_height": null,
       "max_width": null,
       "min_height": null,
       "min_width": null,
       "object_fit": null,
       "object_position": null,
       "order": null,
       "overflow": null,
       "padding": null,
       "right": null,
       "top": null,
       "visibility": null,
       "width": null
      }
     },
     "5d10ecac47f54c43814e2327902cbab6": {
      "model_module": "@jupyter-widgets/controls",
      "model_module_version": "2.0.0",
      "model_name": "HBoxModel",
      "state": {
       "_dom_classes": [],
       "_model_module": "@jupyter-widgets/controls",
       "_model_module_version": "2.0.0",
       "_model_name": "HBoxModel",
       "_view_count": null,
       "_view_module": "@jupyter-widgets/controls",
       "_view_module_version": "2.0.0",
       "_view_name": "HBoxView",
       "box_style": "",
       "children": [
        "IPY_MODEL_c2f6e528002f4ef8a36b994f89d0fa9c",
        "IPY_MODEL_4b2f982fb85d4a35831cbd8944566c81",
        "IPY_MODEL_c0fe294fa00e4bcf9e54cf2c3570a924"
       ],
       "layout": "IPY_MODEL_5cf5dba093c144f299b2ae3a9bf4cf81",
       "tabbable": null,
       "tooltip": null
      }
     },
     "65bf49c8750d4aae9dbc557da49e7fb5": {
      "model_module": "@jupyter-widgets/controls",
      "model_module_version": "2.0.0",
      "model_name": "HTMLStyleModel",
      "state": {
       "_model_module": "@jupyter-widgets/controls",
       "_model_module_version": "2.0.0",
       "_model_name": "HTMLStyleModel",
       "_view_count": null,
       "_view_module": "@jupyter-widgets/base",
       "_view_module_version": "2.0.0",
       "_view_name": "StyleView",
       "background": null,
       "description_width": "",
       "font_size": null,
       "text_color": null
      }
     },
     "732154c55e924ca6972d8a3adfbf6705": {
      "model_module": "@jupyter-widgets/controls",
      "model_module_version": "2.0.0",
      "model_name": "HBoxModel",
      "state": {
       "_dom_classes": [],
       "_model_module": "@jupyter-widgets/controls",
       "_model_module_version": "2.0.0",
       "_model_name": "HBoxModel",
       "_view_count": null,
       "_view_module": "@jupyter-widgets/controls",
       "_view_module_version": "2.0.0",
       "_view_name": "HBoxView",
       "box_style": "",
       "children": [
        "IPY_MODEL_eee0537c245b49a5a254d101517c091a",
        "IPY_MODEL_4f90d5f58e8f4756bdbf62b359b0d3c2",
        "IPY_MODEL_25221fc6f2b647de86e05f38e8d5169d"
       ],
       "layout": "IPY_MODEL_ad7488a17e1447daafa6756ddab9cf71",
       "tabbable": null,
       "tooltip": null
      }
     },
     "8354a99f487c4b62aef1eb5d6403c8a8": {
      "model_module": "@jupyter-widgets/controls",
      "model_module_version": "2.0.0",
      "model_name": "HTMLModel",
      "state": {
       "_dom_classes": [],
       "_model_module": "@jupyter-widgets/controls",
       "_model_module_version": "2.0.0",
       "_model_name": "HTMLModel",
       "_view_count": null,
       "_view_module": "@jupyter-widgets/controls",
       "_view_module_version": "2.0.0",
       "_view_name": "HTMLView",
       "description": "",
       "description_allow_html": false,
       "layout": "IPY_MODEL_3fb4958d7c7c4a4390aca49a6ff2f454",
       "placeholder": "​",
       "style": "IPY_MODEL_65bf49c8750d4aae9dbc557da49e7fb5",
       "tabbable": null,
       "tooltip": null,
       "value": " 1/? [00:00&lt;00:00, 132.67it/s]"
      }
     },
     "8b9f9d1188694b17a7e56286299733c9": {
      "model_module": "@jupyter-widgets/base",
      "model_module_version": "2.0.0",
      "model_name": "LayoutModel",
      "state": {
       "_model_module": "@jupyter-widgets/base",
       "_model_module_version": "2.0.0",
       "_model_name": "LayoutModel",
       "_view_count": null,
       "_view_module": "@jupyter-widgets/base",
       "_view_module_version": "2.0.0",
       "_view_name": "LayoutView",
       "align_content": null,
       "align_items": null,
       "align_self": null,
       "border_bottom": null,
       "border_left": null,
       "border_right": null,
       "border_top": null,
       "bottom": null,
       "display": null,
       "flex": null,
       "flex_flow": null,
       "grid_area": null,
       "grid_auto_columns": null,
       "grid_auto_flow": null,
       "grid_auto_rows": null,
       "grid_column": null,
       "grid_gap": null,
       "grid_row": null,
       "grid_template_areas": null,
       "grid_template_columns": null,
       "grid_template_rows": null,
       "height": null,
       "justify_content": null,
       "justify_items": null,
       "left": null,
       "margin": null,
       "max_height": null,
       "max_width": null,
       "min_height": null,
       "min_width": null,
       "object_fit": null,
       "object_position": null,
       "order": null,
       "overflow": null,
       "padding": null,
       "right": null,
       "top": null,
       "visibility": null,
       "width": "20px"
      }
     },
     "915ff180bca7429b8f6159a07203622f": {
      "model_module": "@jupyter-widgets/controls",
      "model_module_version": "2.0.0",
      "model_name": "HTMLModel",
      "state": {
       "_dom_classes": [],
       "_model_module": "@jupyter-widgets/controls",
       "_model_module_version": "2.0.0",
       "_model_name": "HTMLModel",
       "_view_count": null,
       "_view_module": "@jupyter-widgets/controls",
       "_view_module_version": "2.0.0",
       "_view_name": "HTMLView",
       "description": "",
       "description_allow_html": false,
       "layout": "IPY_MODEL_1e4a56570042464c9fe22516b6ce5a01",
       "placeholder": "​",
       "style": "IPY_MODEL_bfde74392d5142d18b68c907254c3e6a",
       "tabbable": null,
       "tooltip": null,
       "value": "Mappings: "
      }
     },
     "98c36653e6f6493d8e8beda65212875c": {
      "model_module": "@jupyter-widgets/controls",
      "model_module_version": "2.0.0",
      "model_name": "ProgressStyleModel",
      "state": {
       "_model_module": "@jupyter-widgets/controls",
       "_model_module_version": "2.0.0",
       "_model_name": "ProgressStyleModel",
       "_view_count": null,
       "_view_module": "@jupyter-widgets/base",
       "_view_module_version": "2.0.0",
       "_view_name": "StyleView",
       "bar_color": null,
       "description_width": ""
      }
     },
     "98c8bb0fc23a402480da6559774a5e89": {
      "model_module": "@jupyter-widgets/controls",
      "model_module_version": "2.0.0",
      "model_name": "HTMLStyleModel",
      "state": {
       "_model_module": "@jupyter-widgets/controls",
       "_model_module_version": "2.0.0",
       "_model_name": "HTMLStyleModel",
       "_view_count": null,
       "_view_module": "@jupyter-widgets/base",
       "_view_module_version": "2.0.0",
       "_view_name": "StyleView",
       "background": null,
       "description_width": "",
       "font_size": null,
       "text_color": null
      }
     },
     "a7999a6042404a4f919d39b9698ceec0": {
      "model_module": "@jupyter-widgets/base",
      "model_module_version": "2.0.0",
      "model_name": "LayoutModel",
      "state": {
       "_model_module": "@jupyter-widgets/base",
       "_model_module_version": "2.0.0",
       "_model_name": "LayoutModel",
       "_view_count": null,
       "_view_module": "@jupyter-widgets/base",
       "_view_module_version": "2.0.0",
       "_view_name": "LayoutView",
       "align_content": null,
       "align_items": null,
       "align_self": null,
       "border_bottom": null,
       "border_left": null,
       "border_right": null,
       "border_top": null,
       "bottom": null,
       "display": null,
       "flex": null,
       "flex_flow": null,
       "grid_area": null,
       "grid_auto_columns": null,
       "grid_auto_flow": null,
       "grid_auto_rows": null,
       "grid_column": null,
       "grid_gap": null,
       "grid_row": null,
       "grid_template_areas": null,
       "grid_template_columns": null,
       "grid_template_rows": null,
       "height": null,
       "justify_content": null,
       "justify_items": null,
       "left": null,
       "margin": null,
       "max_height": null,
       "max_width": null,
       "min_height": null,
       "min_width": null,
       "object_fit": null,
       "object_position": null,
       "order": null,
       "overflow": null,
       "padding": null,
       "right": null,
       "top": null,
       "visibility": null,
       "width": "20px"
      }
     },
     "a8624f655781400eb4e9b59094c5e12b": {
      "model_module": "@jupyter-widgets/base",
      "model_module_version": "2.0.0",
      "model_name": "LayoutModel",
      "state": {
       "_model_module": "@jupyter-widgets/base",
       "_model_module_version": "2.0.0",
       "_model_name": "LayoutModel",
       "_view_count": null,
       "_view_module": "@jupyter-widgets/base",
       "_view_module_version": "2.0.0",
       "_view_name": "LayoutView",
       "align_content": null,
       "align_items": null,
       "align_self": null,
       "border_bottom": null,
       "border_left": null,
       "border_right": null,
       "border_top": null,
       "bottom": null,
       "display": null,
       "flex": null,
       "flex_flow": null,
       "grid_area": null,
       "grid_auto_columns": null,
       "grid_auto_flow": null,
       "grid_auto_rows": null,
       "grid_column": null,
       "grid_gap": null,
       "grid_row": null,
       "grid_template_areas": null,
       "grid_template_columns": null,
       "grid_template_rows": null,
       "height": null,
       "justify_content": null,
       "justify_items": null,
       "left": null,
       "margin": null,
       "max_height": null,
       "max_width": null,
       "min_height": null,
       "min_width": null,
       "object_fit": null,
       "object_position": null,
       "order": null,
       "overflow": null,
       "padding": null,
       "right": null,
       "top": null,
       "visibility": null,
       "width": null
      }
     },
     "aaf7fbad708746a0afe8deb3670fd0f9": {
      "model_module": "@jupyter-widgets/base",
      "model_module_version": "2.0.0",
      "model_name": "LayoutModel",
      "state": {
       "_model_module": "@jupyter-widgets/base",
       "_model_module_version": "2.0.0",
       "_model_name": "LayoutModel",
       "_view_count": null,
       "_view_module": "@jupyter-widgets/base",
       "_view_module_version": "2.0.0",
       "_view_name": "LayoutView",
       "align_content": null,
       "align_items": null,
       "align_self": null,
       "border_bottom": null,
       "border_left": null,
       "border_right": null,
       "border_top": null,
       "bottom": null,
       "display": null,
       "flex": null,
       "flex_flow": null,
       "grid_area": null,
       "grid_auto_columns": null,
       "grid_auto_flow": null,
       "grid_auto_rows": null,
       "grid_column": null,
       "grid_gap": null,
       "grid_row": null,
       "grid_template_areas": null,
       "grid_template_columns": null,
       "grid_template_rows": null,
       "height": null,
       "justify_content": null,
       "justify_items": null,
       "left": null,
       "margin": null,
       "max_height": null,
       "max_width": null,
       "min_height": null,
       "min_width": null,
       "object_fit": null,
       "object_position": null,
       "order": null,
       "overflow": null,
       "padding": null,
       "right": null,
       "top": null,
       "visibility": null,
       "width": null
      }
     },
     "ad7488a17e1447daafa6756ddab9cf71": {
      "model_module": "@jupyter-widgets/base",
      "model_module_version": "2.0.0",
      "model_name": "LayoutModel",
      "state": {
       "_model_module": "@jupyter-widgets/base",
       "_model_module_version": "2.0.0",
       "_model_name": "LayoutModel",
       "_view_count": null,
       "_view_module": "@jupyter-widgets/base",
       "_view_module_version": "2.0.0",
       "_view_name": "LayoutView",
       "align_content": null,
       "align_items": null,
       "align_self": null,
       "border_bottom": null,
       "border_left": null,
       "border_right": null,
       "border_top": null,
       "bottom": null,
       "display": null,
       "flex": null,
       "flex_flow": null,
       "grid_area": null,
       "grid_auto_columns": null,
       "grid_auto_flow": null,
       "grid_auto_rows": null,
       "grid_column": null,
       "grid_gap": null,
       "grid_row": null,
       "grid_template_areas": null,
       "grid_template_columns": null,
       "grid_template_rows": null,
       "height": null,
       "justify_content": null,
       "justify_items": null,
       "left": null,
       "margin": null,
       "max_height": null,
       "max_width": null,
       "min_height": null,
       "min_width": null,
       "object_fit": null,
       "object_position": null,
       "order": null,
       "overflow": null,
       "padding": null,
       "right": null,
       "top": null,
       "visibility": null,
       "width": null
      }
     },
     "b7cd0c4823be46d9bce05b2d13ff64b5": {
      "model_module": "@jupyter-widgets/controls",
      "model_module_version": "2.0.0",
      "model_name": "HTMLStyleModel",
      "state": {
       "_model_module": "@jupyter-widgets/controls",
       "_model_module_version": "2.0.0",
       "_model_name": "HTMLStyleModel",
       "_view_count": null,
       "_view_module": "@jupyter-widgets/base",
       "_view_module_version": "2.0.0",
       "_view_name": "StyleView",
       "background": null,
       "description_width": "",
       "font_size": null,
       "text_color": null
      }
     },
     "bfde74392d5142d18b68c907254c3e6a": {
      "model_module": "@jupyter-widgets/controls",
      "model_module_version": "2.0.0",
      "model_name": "HTMLStyleModel",
      "state": {
       "_model_module": "@jupyter-widgets/controls",
       "_model_module_version": "2.0.0",
       "_model_name": "HTMLStyleModel",
       "_view_count": null,
       "_view_module": "@jupyter-widgets/base",
       "_view_module_version": "2.0.0",
       "_view_name": "StyleView",
       "background": null,
       "description_width": "",
       "font_size": null,
       "text_color": null
      }
     },
     "c0fe294fa00e4bcf9e54cf2c3570a924": {
      "model_module": "@jupyter-widgets/controls",
      "model_module_version": "2.0.0",
      "model_name": "HTMLModel",
      "state": {
       "_dom_classes": [],
       "_model_module": "@jupyter-widgets/controls",
       "_model_module_version": "2.0.0",
       "_model_name": "HTMLModel",
       "_view_count": null,
       "_view_module": "@jupyter-widgets/controls",
       "_view_module_version": "2.0.0",
       "_view_name": "HTMLView",
       "description": "",
       "description_allow_html": false,
       "layout": "IPY_MODEL_dbba51d237a7404790fee631117a483f",
       "placeholder": "​",
       "style": "IPY_MODEL_b7cd0c4823be46d9bce05b2d13ff64b5",
       "tabbable": null,
       "tooltip": null,
       "value": " 1/? [00:00&lt;00:00, 146.22it/s]"
      }
     },
     "c2f6e528002f4ef8a36b994f89d0fa9c": {
      "model_module": "@jupyter-widgets/controls",
      "model_module_version": "2.0.0",
      "model_name": "HTMLModel",
      "state": {
       "_dom_classes": [],
       "_model_module": "@jupyter-widgets/controls",
       "_model_module_version": "2.0.0",
       "_model_name": "HTMLModel",
       "_view_count": null,
       "_view_module": "@jupyter-widgets/controls",
       "_view_module_version": "2.0.0",
       "_view_name": "HTMLView",
       "description": "",
       "description_allow_html": false,
       "layout": "IPY_MODEL_aaf7fbad708746a0afe8deb3670fd0f9",
       "placeholder": "​",
       "style": "IPY_MODEL_44f3f46677fe4121894c4bcba42f3044",
       "tabbable": null,
       "tooltip": null,
       "value": "Mappings: "
      }
     },
     "c4994f2c1ad348e28f4e38465009dc1b": {
      "model_module": "@jupyter-widgets/controls",
      "model_module_version": "2.0.0",
      "model_name": "HTMLStyleModel",
      "state": {
       "_model_module": "@jupyter-widgets/controls",
       "_model_module_version": "2.0.0",
       "_model_name": "HTMLStyleModel",
       "_view_count": null,
       "_view_module": "@jupyter-widgets/base",
       "_view_module_version": "2.0.0",
       "_view_name": "StyleView",
       "background": null,
       "description_width": "",
       "font_size": null,
       "text_color": null
      }
     },
     "da0aace2bf00487ebef4d4017da0bc52": {
      "model_module": "@jupyter-widgets/controls",
      "model_module_version": "2.0.0",
      "model_name": "ProgressStyleModel",
      "state": {
       "_model_module": "@jupyter-widgets/controls",
       "_model_module_version": "2.0.0",
       "_model_name": "ProgressStyleModel",
       "_view_count": null,
       "_view_module": "@jupyter-widgets/base",
       "_view_module_version": "2.0.0",
       "_view_name": "StyleView",
       "bar_color": null,
       "description_width": ""
      }
     },
     "dbba51d237a7404790fee631117a483f": {
      "model_module": "@jupyter-widgets/base",
      "model_module_version": "2.0.0",
      "model_name": "LayoutModel",
      "state": {
       "_model_module": "@jupyter-widgets/base",
       "_model_module_version": "2.0.0",
       "_model_name": "LayoutModel",
       "_view_count": null,
       "_view_module": "@jupyter-widgets/base",
       "_view_module_version": "2.0.0",
       "_view_name": "LayoutView",
       "align_content": null,
       "align_items": null,
       "align_self": null,
       "border_bottom": null,
       "border_left": null,
       "border_right": null,
       "border_top": null,
       "bottom": null,
       "display": null,
       "flex": null,
       "flex_flow": null,
       "grid_area": null,
       "grid_auto_columns": null,
       "grid_auto_flow": null,
       "grid_auto_rows": null,
       "grid_column": null,
       "grid_gap": null,
       "grid_row": null,
       "grid_template_areas": null,
       "grid_template_columns": null,
       "grid_template_rows": null,
       "height": null,
       "justify_content": null,
       "justify_items": null,
       "left": null,
       "margin": null,
       "max_height": null,
       "max_width": null,
       "min_height": null,
       "min_width": null,
       "object_fit": null,
       "object_position": null,
       "order": null,
       "overflow": null,
       "padding": null,
       "right": null,
       "top": null,
       "visibility": null,
       "width": null
      }
     },
     "e5ae1a8ba62c483198ac6bd559f63f8a": {
      "model_module": "@jupyter-widgets/base",
      "model_module_version": "2.0.0",
      "model_name": "LayoutModel",
      "state": {
       "_model_module": "@jupyter-widgets/base",
       "_model_module_version": "2.0.0",
       "_model_name": "LayoutModel",
       "_view_count": null,
       "_view_module": "@jupyter-widgets/base",
       "_view_module_version": "2.0.0",
       "_view_name": "LayoutView",
       "align_content": null,
       "align_items": null,
       "align_self": null,
       "border_bottom": null,
       "border_left": null,
       "border_right": null,
       "border_top": null,
       "bottom": null,
       "display": null,
       "flex": null,
       "flex_flow": null,
       "grid_area": null,
       "grid_auto_columns": null,
       "grid_auto_flow": null,
       "grid_auto_rows": null,
       "grid_column": null,
       "grid_gap": null,
       "grid_row": null,
       "grid_template_areas": null,
       "grid_template_columns": null,
       "grid_template_rows": null,
       "height": null,
       "justify_content": null,
       "justify_items": null,
       "left": null,
       "margin": null,
       "max_height": null,
       "max_width": null,
       "min_height": null,
       "min_width": null,
       "object_fit": null,
       "object_position": null,
       "order": null,
       "overflow": null,
       "padding": null,
       "right": null,
       "top": null,
       "visibility": null,
       "width": "20px"
      }
     },
     "eee0537c245b49a5a254d101517c091a": {
      "model_module": "@jupyter-widgets/controls",
      "model_module_version": "2.0.0",
      "model_name": "HTMLModel",
      "state": {
       "_dom_classes": [],
       "_model_module": "@jupyter-widgets/controls",
       "_model_module_version": "2.0.0",
       "_model_name": "HTMLModel",
       "_view_count": null,
       "_view_module": "@jupyter-widgets/controls",
       "_view_module_version": "2.0.0",
       "_view_name": "HTMLView",
       "description": "",
       "description_allow_html": false,
       "layout": "IPY_MODEL_a8624f655781400eb4e9b59094c5e12b",
       "placeholder": "​",
       "style": "IPY_MODEL_c4994f2c1ad348e28f4e38465009dc1b",
       "tabbable": null,
       "tooltip": null,
       "value": "Mappings: "
      }
     },
     "f5710bd7cfef4e92ae9e673cbe54cf12": {
      "model_module": "@jupyter-widgets/controls",
      "model_module_version": "2.0.0",
      "model_name": "FloatProgressModel",
      "state": {
       "_dom_classes": [],
       "_model_module": "@jupyter-widgets/controls",
       "_model_module_version": "2.0.0",
       "_model_name": "FloatProgressModel",
       "_view_count": null,
       "_view_module": "@jupyter-widgets/controls",
       "_view_module_version": "2.0.0",
       "_view_name": "ProgressView",
       "bar_style": "success",
       "description": "",
       "description_allow_html": false,
       "layout": "IPY_MODEL_e5ae1a8ba62c483198ac6bd559f63f8a",
       "max": 1.0,
       "min": 0.0,
       "orientation": "horizontal",
       "style": "IPY_MODEL_98c36653e6f6493d8e8beda65212875c",
       "tabbable": null,
       "tooltip": null,
       "value": 1.0
      }
     },
     "fb230f091fcf4f4c845afa98b27a744e": {
      "model_module": "@jupyter-widgets/controls",
      "model_module_version": "2.0.0",
      "model_name": "HBoxModel",
      "state": {
       "_dom_classes": [],
       "_model_module": "@jupyter-widgets/controls",
       "_model_module_version": "2.0.0",
       "_model_name": "HBoxModel",
       "_view_count": null,
       "_view_module": "@jupyter-widgets/controls",
       "_view_module_version": "2.0.0",
       "_view_name": "HBoxView",
       "box_style": "",
       "children": [
        "IPY_MODEL_915ff180bca7429b8f6159a07203622f",
        "IPY_MODEL_f5710bd7cfef4e92ae9e673cbe54cf12",
        "IPY_MODEL_8354a99f487c4b62aef1eb5d6403c8a8"
       ],
       "layout": "IPY_MODEL_1587ce10af2544e58e86501240bef5a3",
       "tabbable": null,
       "tooltip": null
      }
     }
    },
    "version_major": 2,
    "version_minor": 0
   }
  }
 },
 "nbformat": 4,
 "nbformat_minor": 5
}