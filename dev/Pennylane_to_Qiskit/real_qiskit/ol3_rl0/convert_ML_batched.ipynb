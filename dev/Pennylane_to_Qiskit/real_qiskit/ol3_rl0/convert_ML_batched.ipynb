{
 "cells": [
  {
   "cell_type": "code",
   "execution_count": 1,
   "id": "dc8f5c2c-b710-429b-9f46-14c842ed6478",
   "metadata": {
    "editable": true,
    "execution": {
     "iopub.execute_input": "2025-03-05T20:46:28.499109Z",
     "iopub.status.busy": "2025-03-05T20:46:28.497326Z",
     "iopub.status.idle": "2025-03-05T20:46:30.379327Z",
     "shell.execute_reply": "2025-03-05T20:46:30.378609Z"
    },
    "papermill": {
     "duration": 1.889167,
     "end_time": "2025-03-05T20:46:30.380977",
     "exception": false,
     "start_time": "2025-03-05T20:46:28.491810",
     "status": "completed"
    },
    "slideshow": {
     "slide_type": ""
    },
    "tags": []
   },
   "outputs": [],
   "source": [
    "import os\n",
    "n_jobs = 16\n",
    "os.environ[\"OMP_NUM_THREADS\"] = str(n_jobs)\n",
    "import joblib\n",
    "import click\n",
    "import json\n",
    "import time\n",
    "\n",
    "import itertools\n",
    "import collections.abc\n",
    "import sys\n",
    "from tqdm.notebook import tqdm\n",
    "# !{sys.executable} -m pip install qcircuit\n",
    "\n",
    "import matplotlib.pyplot as plt\n",
    "import numpy as np\n",
    "import pandas as pd\n",
    "import pennylane as qml\n",
    "from sklearn.metrics import mean_squared_error, r2_score, mean_absolute_error\n",
    "from scipy.optimize import minimize\n",
    "# Qiskit\n",
    "from qiskit import QuantumCircuit\n",
    "from qiskit.quantum_info import Pauli, SparsePauliOp, Operator\n",
    "from qiskit.primitives import StatevectorEstimator\n",
    "from qiskit.circuit import Parameter, ParameterVector\n",
    "from qiskit.transpiler.preset_passmanagers import generate_preset_pass_manager\n",
    "from qiskit.quantum_info import SparsePauliOp\n",
    "from qiskit_ibm_runtime import EstimatorV2 as Estimator\n",
    "from qiskit_ibm_runtime import QiskitRuntimeService\n",
    "from qiskit_aer import AerSimulator\n",
    "from qiskit_aer.noise import NoiseModel\n",
    "from qiskit_ibm_runtime.fake_provider import FakeQuebec\n",
    "from qiskit_ibm_runtime import Session, Batch\n",
    "# from qiskit_machine_learning.optimizers import SPSA, Minimizer\n",
    "\n",
    "\n",
    "from joblib import dump, load\n"
   ]
  },
  {
   "cell_type": "code",
   "execution_count": 2,
   "id": "9e8cd7b1-46c5-4d8e-966b-87a99489ddac",
   "metadata": {
    "editable": true,
    "execution": {
     "iopub.execute_input": "2025-03-05T20:46:30.389482Z",
     "iopub.status.busy": "2025-03-05T20:46:30.388871Z",
     "iopub.status.idle": "2025-03-05T20:46:30.397753Z",
     "shell.execute_reply": "2025-03-05T20:46:30.397063Z"
    },
    "papermill": {
     "duration": 0.013271,
     "end_time": "2025-03-05T20:46:30.398619",
     "exception": false,
     "start_time": "2025-03-05T20:46:30.385348",
     "status": "completed"
    },
    "slideshow": {
     "slide_type": ""
    },
    "tags": []
   },
   "outputs": [],
   "source": [
    "def mitarai(quantumcircuit,num_wires,paramname='x'):\n",
    "    # encoding as proposed by Mitarai et al.\n",
    "    num_features = num_wires\n",
    "    features = ParameterVector(paramname,num_features*2)\n",
    "    for i in range(num_wires):\n",
    "        feature_idx = i % num_features  # Calculate the feature index using modulo\n",
    "        quantumcircuit.ry(np.arcsin(features[feature_idx * 2]), i)\n",
    "        quantumcircuit.rz(np.arccos(features[feature_idx * 2 + 1] ** 2), i)\n",
    "\n",
    "\n",
    "def double_angle(quantumcircuit, num_wires,paramname='x'):\n",
    "    #  creates a circuit that encodes features into wires via angle encoding with an RY then RZ gate\n",
    "    #  the features are encoded 1-1 onto the qubits\n",
    "    #  if more wires are passed then features the remaining wires will be filled from the beginning of the feature list\n",
    "    num_features = num_wires\n",
    "    features = ParameterVector(paramname,num_features*2)\n",
    "    for i in range(num_wires):\n",
    "        feature_index = i % num_features\n",
    "        quantumcircuit.ry(features[feature_index], i)\n",
    "        quantumcircuit.rz(features[feature_index], i)\n",
    "\n",
    "def entangle_cnot(quantumcircuit,num_wires):\n",
    "    #  entangles all of the wires in a circular fashion using cnot gates\n",
    "    for i in range(num_wires):\n",
    "        \n",
    "        if i == num_wires - 1:\n",
    "            quantumcircuit.cx(i, 0)\n",
    "        else:\n",
    "            quantumcircuit.cx(i, i+1)\n",
    "\n",
    "\n",
    "def entangle_cz(quantumcircuit,num_wires):\n",
    "    #  entangles all of the wires in a circular fashion using cz gates\n",
    "    for i in range(num_wires):\n",
    "        \n",
    "        if i == num_wires - 1:\n",
    "            quantumcircuit.cz(i, 0)\n",
    "        else:\n",
    "            quantumcircuit.cz(i, i+1)\n",
    "\n",
    "\n",
    "def HardwareEfficient(quantumcircuit,num_wires,paramname='theta'):\n",
    "    parameters = ParameterVector(paramname,num_wires*3)\n",
    "    for qubit in range(num_wires):\n",
    "        quantumcircuit.rx(parameters[qubit * 3], qubit)  \n",
    "        quantumcircuit.rz(parameters[qubit * 3 + 1], qubit)  \n",
    "        quantumcircuit.rx(parameters[qubit * 3 + 2], qubit)  \n",
    "    entangle_cnot(quantumcircuit,num_wires)\n",
    "\n"
   ]
  },
  {
   "cell_type": "code",
   "execution_count": 3,
   "id": "98051576-89f8-4a1d-980e-3708e2089ad6",
   "metadata": {
    "execution": {
     "iopub.execute_input": "2025-03-05T20:46:30.404882Z",
     "iopub.status.busy": "2025-03-05T20:46:30.404725Z",
     "iopub.status.idle": "2025-03-05T20:46:30.409349Z",
     "shell.execute_reply": "2025-03-05T20:46:30.408420Z"
    },
    "papermill": {
     "duration": 0.008664,
     "end_time": "2025-03-05T20:46:30.410089",
     "exception": false,
     "start_time": "2025-03-05T20:46:30.401425",
     "status": "completed"
    },
    "tags": []
   },
   "outputs": [],
   "source": [
    "# def circuit(nqubits):\n",
    "#     qc = QuantumCircuit(nqubits)\n",
    "#     mitarai(qc,nqubits)\n",
    "#     entangle_cz(qc,nqubits)\n",
    "#     qc.barrier()\n",
    "#     mitarai(qc,nqubits,paramname='x1')\n",
    "#     entangle_cz(qc,nqubits)\n",
    "#     qc.barrier()\n",
    "#     HardwareEfficient(qc,nqubits)\n",
    "#     qc.barrier()\n",
    "#     return qc\n",
    "\n",
    "\n",
    "def circuit(nqubits,RUD=1,AL=1):\n",
    "    qc = QuantumCircuit(nqubits)\n",
    "    for i in range(RUD):\n",
    "        double_angle(qc,nqubits,paramname=f'x{i}')\n",
    "        qc.barrier()\n",
    "        for j in range(AL):        \n",
    "            HardwareEfficient(qc,nqubits,paramname=f'theta{i}_{j}')\n",
    "            qc.barrier()\n",
    "    return qc"
   ]
  },
  {
   "cell_type": "code",
   "execution_count": 4,
   "id": "11cb5805-20c7-493a-b96c-8eac41dcc1d7",
   "metadata": {
    "execution": {
     "iopub.execute_input": "2025-03-05T20:46:30.416437Z",
     "iopub.status.busy": "2025-03-05T20:46:30.416286Z",
     "iopub.status.idle": "2025-03-05T20:46:30.425263Z",
     "shell.execute_reply": "2025-03-05T20:46:30.424511Z"
    },
    "papermill": {
     "duration": 0.013153,
     "end_time": "2025-03-05T20:46:30.426045",
     "exception": false,
     "start_time": "2025-03-05T20:46:30.412892",
     "status": "completed"
    },
    "tags": []
   },
   "outputs": [
    {
     "name": "stdout",
     "output_type": "stream",
     "text": [
      "(4, 64, 5) (4, 64, 5)\n",
      "(4, 64) (4, 64)\n"
     ]
    },
    {
     "name": "stderr",
     "output_type": "stream",
     "text": [
      "/home/ubuntu/miniconda3/envs/qml/lib/python3.11/site-packages/sklearn/base.py:380: InconsistentVersionWarning: Trying to unpickle estimator MinMaxScaler from version 1.5.1 when using version 1.6.0. This might lead to breaking code or invalid results. Use at your own risk. For more info please refer to:\n",
      "https://scikit-learn.org/stable/model_persistence.html#security-maintainability-limitations\n",
      "  warnings.warn(\n"
     ]
    }
   ],
   "source": [
    "\n",
    "top=os.getcwd()\n",
    "with open(os.path.join(top,'5_DDCC_train.bin'),'rb') as f:\n",
    "    ddcc_train = joblib.load(f)\n",
    "\n",
    "with open(os.path.join(top,'5_DDCC_test.bin'),'rb') as f:\n",
    "    ddcc_test = joblib.load(f)\n",
    "\n",
    "with open(os.path.join(top,'5_DDCC_scaler.bin'),'rb') as f:\n",
    "    ddcc_scaler = joblib.load(f)\n",
    "\n",
    "X_ddcc_train, y_ddcc_train = ddcc_train['X'],ddcc_train['y']\n",
    "X_ddcc_test, y_ddcc_test = ddcc_test['X'],ddcc_test['y']\n",
    "\n",
    "X_ddcc_train = X_ddcc_train.reshape(-1,64,5)[0:4]\n",
    "X_ddcc_test = X_ddcc_test.reshape(-1,64,5)[0:4]\n",
    "y_ddcc_train = y_ddcc_train.reshape(-1,64)[0:4]\n",
    "y_ddcc_test = y_ddcc_test.reshape(-1,64)[0:4]\n",
    "\n",
    "\n",
    "# X_train, y_train = X_ddcc_train, y_ddcc_train\n",
    "# X_test, y_test = X_ddcc_test, y_ddcc_test\n",
    "X_train, y_train = X_ddcc_train, y_ddcc_train\n",
    "X_test, y_test = X_ddcc_test, y_ddcc_test\n",
    "\n",
    "# X_train = [X_train[i:i+4] for i in range(0,len(X_train),4)]\n",
    "# X_test = [X_test[i:i+4] for i in range(0,len(X_test),4)]\n",
    "scaler = ddcc_scaler\n",
    "\n",
    "print(X_train.shape,X_test.shape)\n",
    "print(y_train.shape, y_test.shape)"
   ]
  },
  {
   "cell_type": "code",
   "execution_count": 5,
   "id": "0172f0c5-8225-47b8-91e3-8e113113d13e",
   "metadata": {
    "editable": true,
    "execution": {
     "iopub.execute_input": "2025-03-05T20:46:30.432528Z",
     "iopub.status.busy": "2025-03-05T20:46:30.432375Z",
     "iopub.status.idle": "2025-03-05T20:46:30.435881Z",
     "shell.execute_reply": "2025-03-05T20:46:30.435214Z"
    },
    "papermill": {
     "duration": 0.007708,
     "end_time": "2025-03-05T20:46:30.436681",
     "exception": false,
     "start_time": "2025-03-05T20:46:30.428973",
     "status": "completed"
    },
    "slideshow": {
     "slide_type": ""
    },
    "tags": []
   },
   "outputs": [],
   "source": [
    "num_qubits = 5\n",
    "RUD = 1\n",
    "AL = 5"
   ]
  },
  {
   "cell_type": "code",
   "execution_count": 6,
   "id": "fcdd8b11-a018-4461-9461-cf12e6026e13",
   "metadata": {
    "editable": true,
    "execution": {
     "iopub.execute_input": "2025-03-05T20:46:30.443179Z",
     "iopub.status.busy": "2025-03-05T20:46:30.443015Z",
     "iopub.status.idle": "2025-03-05T20:46:30.446826Z",
     "shell.execute_reply": "2025-03-05T20:46:30.445912Z"
    },
    "papermill": {
     "duration": 0.008113,
     "end_time": "2025-03-05T20:46:30.447644",
     "exception": false,
     "start_time": "2025-03-05T20:46:30.439531",
     "status": "completed"
    },
    "slideshow": {
     "slide_type": ""
    },
    "tags": [
     "parameters"
    ]
   },
   "outputs": [],
   "source": [
    "optimization_level = 2\n",
    "shots = 1024.0 * 3\n",
    "# shots = 1024.0 * 1\n",
    "resilience_level = 0"
   ]
  },
  {
   "cell_type": "code",
   "execution_count": 7,
   "id": "be3cfd7b",
   "metadata": {
    "execution": {
     "iopub.execute_input": "2025-03-05T20:46:30.454150Z",
     "iopub.status.busy": "2025-03-05T20:46:30.453979Z",
     "iopub.status.idle": "2025-03-05T20:46:30.457395Z",
     "shell.execute_reply": "2025-03-05T20:46:30.456726Z"
    },
    "papermill": {
     "duration": 0.007751,
     "end_time": "2025-03-05T20:46:30.458237",
     "exception": false,
     "start_time": "2025-03-05T20:46:30.450486",
     "status": "completed"
    },
    "tags": [
     "injected-parameters"
    ]
   },
   "outputs": [],
   "source": [
    "# Parameters\n",
    "optimization_level = \"2\"\n",
    "resilience_level = \"0\"\n",
    "shots = \"3072\"\n"
   ]
  },
  {
   "cell_type": "code",
   "execution_count": 8,
   "id": "0dd61067-2a66-4c32-bff7-34a6678cea46",
   "metadata": {
    "editable": true,
    "execution": {
     "iopub.execute_input": "2025-03-05T20:46:30.464730Z",
     "iopub.status.busy": "2025-03-05T20:46:30.464567Z",
     "iopub.status.idle": "2025-03-05T20:46:30.468092Z",
     "shell.execute_reply": "2025-03-05T20:46:30.467405Z"
    },
    "papermill": {
     "duration": 0.007754,
     "end_time": "2025-03-05T20:46:30.468827",
     "exception": false,
     "start_time": "2025-03-05T20:46:30.461073",
     "status": "completed"
    },
    "slideshow": {
     "slide_type": ""
    },
    "tags": []
   },
   "outputs": [],
   "source": [
    "optimization_level = int(optimization_level)\n",
    "shots = int(shots)\n",
    "# shots = 1024.0 * 1\n",
    "resilience_level = int(resilience_level)"
   ]
  },
  {
   "cell_type": "code",
   "execution_count": 9,
   "id": "9f37a160-f338-4f3d-9b17-c1c695681785",
   "metadata": {
    "execution": {
     "iopub.execute_input": "2025-03-05T20:46:30.475523Z",
     "iopub.status.busy": "2025-03-05T20:46:30.475371Z",
     "iopub.status.idle": "2025-03-05T20:46:30.483823Z",
     "shell.execute_reply": "2025-03-05T20:46:30.483093Z"
    },
    "papermill": {
     "duration": 0.012867,
     "end_time": "2025-03-05T20:46:30.484681",
     "exception": false,
     "start_time": "2025-03-05T20:46:30.471814",
     "status": "completed"
    },
    "tags": []
   },
   "outputs": [
    {
     "name": "stdout",
     "output_type": "stream",
     "text": [
      "Parameters loaded\n"
     ]
    }
   ],
   "source": [
    "# \n",
    "qc = circuit(num_qubits,RUD,AL)\n",
    "\n",
    "num_params = len([i for i in list(qc.parameters) if 'theta' in i.name]) // AL\n",
    "generator = np.random.default_rng(12958234)\n",
    "load_params = './state_vector_parameters.bin'\n",
    "\n",
    "if load_params!=None:\n",
    "    print('Parameters loaded')\n",
    "    try:\n",
    "        x0 = np.load(load_params)['x0']\n",
    "    except:\n",
    "        x0 = np.array(np.load(load_params,allow_pickle=True)['parameters'])\n",
    "else:\n",
    "    print('Parameters from scratch')\n",
    "    x0 = np.tile(generator.uniform(-np.pi, np.pi, num_params),AL*RUD)\n",
    "\n",
    "\n"
   ]
  },
  {
   "cell_type": "code",
   "execution_count": 10,
   "id": "9acf4b39-77a4-4465-aceb-7d9d8670bda4",
   "metadata": {
    "editable": true,
    "execution": {
     "iopub.execute_input": "2025-03-05T20:46:30.491674Z",
     "iopub.status.busy": "2025-03-05T20:46:30.491520Z",
     "iopub.status.idle": "2025-03-05T20:46:31.512107Z",
     "shell.execute_reply": "2025-03-05T20:46:31.511283Z"
    },
    "papermill": {
     "duration": 1.025088,
     "end_time": "2025-03-05T20:46:31.512930",
     "exception": false,
     "start_time": "2025-03-05T20:46:30.487842",
     "status": "completed"
    },
    "slideshow": {
     "slide_type": ""
    },
    "tags": []
   },
   "outputs": [
    {
     "data": {
      "image/png": "[encoded data removed]",
      "text/plain": [
       "<Figure size 5387.77x451.5 with 1 Axes>"
      ]
     },
     "execution_count": 10,
     "metadata": {},
     "output_type": "execute_result"
    }
   ],
   "source": [
    "qc.draw('mpl', scale=1, plot_barriers=True, fold=100)"
   ]
  },
  {
   "cell_type": "code",
   "execution_count": 11,
   "id": "33237488-9027-4fae-9e2c-7aa92a95d9ab",
   "metadata": {
    "execution": {
     "iopub.execute_input": "2025-03-05T20:46:31.522655Z",
     "iopub.status.busy": "2025-03-05T20:46:31.522173Z",
     "iopub.status.idle": "2025-03-05T20:46:41.655805Z",
     "shell.execute_reply": "2025-03-05T20:46:41.654901Z"
    },
    "papermill": {
     "duration": 10.140066,
     "end_time": "2025-03-05T20:46:41.657393",
     "exception": false,
     "start_time": "2025-03-05T20:46:31.517327",
     "status": "completed"
    },
    "tags": []
   },
   "outputs": [
    {
     "name": "stdout",
     "output_type": "stream",
     "text": [
      "[SparsePauliOp(['IIIIIIIIIIIIIIIIIIIIIIIIIIIIIIIIIIIIIIIIIIIIIIIIIIIIIIIIIIIIIIIIIIIIIIIIIIIIIIIIIZIIIIIIIIIIIIIIIIIIIIIIIIIIIIIIIIIIIIIIIIIIIII'],\n",
      "              coeffs=[1.+0.j])]\n"
     ]
    }
   ],
   "source": [
    "# back = \"statevector\"\n",
    "# back = \"fake\"\n",
    "back = \"real\"\n",
    "\n",
    "if back=='real':\n",
    "    # Select backend\n",
    "    service = QiskitRuntimeService(channel=\"ibm_quantum\", instance='pinq-quebec-hub/univ-toronto/default')\n",
    "    _backend = service.least_busy(operational=True, simulator=False, min_num_qubits=127)\n",
    "    maxcircuits = _backend.max_circuits\n",
    "    target = _backend.target\n",
    "# Generate pass manager\n",
    "    pm = generate_preset_pass_manager(target=target, optimization_level=optimization_level)\n",
    "    qc = pm.run(qc)\n",
    "    \n",
    "    \n",
    "    observables_labels = ''.join(['I']*(num_qubits-1))+\"Z\"\n",
    "    observables = [SparsePauliOp(observables_labels)]\n",
    "    \n",
    "    mapped_observables = [observable.apply_layout(qc.layout) for observable in observables]\n",
    "    print(mapped_observables)    \n",
    "elif back=='fake':\n",
    "    # Select backend\n",
    "    service = QiskitRuntimeService(channel=\"ibm_quantum\", instance='pinq-quebec-hub/univ-toronto/default')\n",
    "    backend = service.least_busy(operational=True, simulator=False, min_num_qubits=127)\n",
    "    maxcircuits = backend.max_circuits\n",
    "    # generate a simulator that mimics the real quantum\n",
    "    # system with the latest calibration results\n",
    "    _backend = AerSimulator.from_backend(backend)\n",
    "    \n",
    "    # _backend = FakeQuebec()\n",
    "    target = _backend.target\n",
    "\n",
    "    # Generate pass manager\n",
    "    pm = generate_preset_pass_manager(target=target, optimization_level=optimization_level)\n",
    "    qc = pm.run(qc)\n",
    "    \n",
    "    \n",
    "    observables_labels = ''.join(['I']*(num_qubits-1))+\"Z\"\n",
    "    observables = [SparsePauliOp(observables_labels)]\n",
    "    \n",
    "    mapped_observables = [observable.apply_layout(qc.layout) for observable in observables]\n",
    "    print(mapped_observables)\n",
    "else:\n",
    "    observables_labels = ''.join(['I']*(num_qubits-1))+\"Z\"\n",
    "    observables = [SparsePauliOp(observables_labels)]\n",
    "    \n",
    "    mapped_observables = [observable.apply_layout(qc.layout) for observable in observables]\n",
    "    print(mapped_observables)    \n",
    "\n",
    "    _backend = back"
   ]
  },
  {
   "cell_type": "code",
   "execution_count": 12,
   "id": "321031ff-884b-4a5e-9764-97da9a827488",
   "metadata": {
    "execution": {
     "iopub.execute_input": "2025-03-05T20:46:41.678776Z",
     "iopub.status.busy": "2025-03-05T20:46:41.678575Z",
     "iopub.status.idle": "2025-03-05T20:46:41.682329Z",
     "shell.execute_reply": "2025-03-05T20:46:41.681629Z"
    },
    "papermill": {
     "duration": 0.016156,
     "end_time": "2025-03-05T20:46:41.683734",
     "exception": false,
     "start_time": "2025-03-05T20:46:41.667578",
     "status": "completed"
    },
    "tags": []
   },
   "outputs": [],
   "source": [
    "num_executions = int(qc.num_parameters * 1 * shots)"
   ]
  },
  {
   "cell_type": "code",
   "execution_count": 13,
   "id": "558c511f-ba7b-477c-95de-c9e51808dfdd",
   "metadata": {
    "execution": {
     "iopub.execute_input": "2025-03-05T20:46:41.704473Z",
     "iopub.status.busy": "2025-03-05T20:46:41.704284Z",
     "iopub.status.idle": "2025-03-05T20:46:41.708236Z",
     "shell.execute_reply": "2025-03-05T20:46:41.707392Z"
    },
    "papermill": {
     "duration": 0.016055,
     "end_time": "2025-03-05T20:46:41.709598",
     "exception": false,
     "start_time": "2025-03-05T20:46:41.693543",
     "status": "completed"
    },
    "tags": []
   },
   "outputs": [],
   "source": [
    "num_executions_minus_x = int(num_qubits * 3 * AL* 1 * shots)"
   ]
  },
  {
   "cell_type": "code",
   "execution_count": 14,
   "id": "dee52185-d5a3-413c-be12-a79e41efc2ab",
   "metadata": {
    "execution": {
     "iopub.execute_input": "2025-03-05T20:46:41.726469Z",
     "iopub.status.busy": "2025-03-05T20:46:41.726286Z",
     "iopub.status.idle": "2025-03-05T20:46:41.729996Z",
     "shell.execute_reply": "2025-03-05T20:46:41.729094Z"
    },
    "papermill": {
     "duration": 0.013787,
     "end_time": "2025-03-05T20:46:41.731308",
     "exception": false,
     "start_time": "2025-03-05T20:46:41.717521",
     "status": "completed"
    },
    "tags": []
   },
   "outputs": [],
   "source": [
    "# qc.draw('mpl', scale=1, plot_barriers=True, fold=100)"
   ]
  },
  {
   "cell_type": "code",
   "execution_count": 15,
   "id": "f0d97c4c-6c7d-4139-9767-725675e8a85f",
   "metadata": {
    "execution": {
     "iopub.execute_input": "2025-03-05T20:46:41.749425Z",
     "iopub.status.busy": "2025-03-05T20:46:41.749120Z",
     "iopub.status.idle": "2025-03-05T20:46:41.755236Z",
     "shell.execute_reply": "2025-03-05T20:46:41.754162Z"
    },
    "papermill": {
     "duration": 0.016688,
     "end_time": "2025-03-05T20:46:41.756615",
     "exception": false,
     "start_time": "2025-03-05T20:46:41.739927",
     "status": "completed"
    },
    "tags": []
   },
   "outputs": [],
   "source": [
    "def map2qiskit(ansatz, num_qubits, X):\n",
    "    '''\n",
    "    Map features to Qiskit Circuit\n",
    "    \n",
    "    parameters\n",
    "    ----------\n",
    "    ansatz: qiskit.circuit.quantumcircuit.QuantumCircuit\n",
    "        Qiskit Quantum Circuit\n",
    "        \n",
    "    num_qubits: int\n",
    "        Number of qubits\n",
    "        \n",
    "    X: numpy.ndarray\n",
    "        Feature matrix\n",
    "\n",
    "    returns\n",
    "    -------\n",
    "    ansatz: qiskit.circuit.quantumcircuit.QuantumCircuit\n",
    "        Qiskit Quantum Circuit\n",
    "    \n",
    "    '''\n",
    "    featparams = dict([(i,X[idx % num_qubits]) for idx,i in enumerate(ansatz.parameters) if 'x' in i.name])\n",
    "    ansatz = ansatz.assign_parameters(featparams)\n",
    "    return ansatz"
   ]
  },
  {
   "cell_type": "code",
   "execution_count": 16,
   "id": "4f11f4a0-4fce-4048-9471-81e14a304da2",
   "metadata": {
    "execution": {
     "iopub.execute_input": "2025-03-05T20:46:41.774980Z",
     "iopub.status.busy": "2025-03-05T20:46:41.773744Z",
     "iopub.status.idle": "2025-03-05T20:46:41.784007Z",
     "shell.execute_reply": "2025-03-05T20:46:41.782976Z"
    },
    "papermill": {
     "duration": 0.020567,
     "end_time": "2025-03-05T20:46:41.785146",
     "exception": false,
     "start_time": "2025-03-05T20:46:41.764579",
     "status": "completed"
    },
    "tags": []
   },
   "outputs": [],
   "source": [
    "def get_results(job):\n",
    "    '''\n",
    "    Get the results of a quantum job from IBM Quantum\n",
    "    \n",
    "    parameters\n",
    "    ----------\n",
    "    job: list/str\n",
    "        Contains jobids and results (qiskit.primitives.primitive_job.PrimitiveJob)\n",
    "        Job submitted to the IBM Quantum device\n",
    "\n",
    "    returns\n",
    "    -------\n",
    "    pred: numpy.ndarray\n",
    "        Predicted values\n",
    "    \n",
    "    '''\n",
    "    if isinstance(_backend, str):\n",
    "        pred = np.hstack([np.vstack([r.data.evs for r in rs.result()]) for jid, rs in job])\n",
    "    elif _backend.name!='ibm_quebec':\n",
    "        pred = np.hstack([np.vstack([r.data.evs for r in rs.result()]) for jid, rs in job])\n",
    "    else:\n",
    "        with open(f'jobs_{job}.txt','r') as f:\n",
    "            pred = np.hstack([np.vstack([r.data.evs for r in service.job(jid.strip()).result()]) for jid in f.readlines()])\n",
    "            \n",
    "    return pred"
   ]
  },
  {
   "cell_type": "code",
   "execution_count": 17,
   "id": "0730216f-ae50-450f-b35c-8842edd668ce",
   "metadata": {
    "execution": {
     "iopub.execute_input": "2025-03-05T20:46:41.795512Z",
     "iopub.status.busy": "2025-03-05T20:46:41.794667Z",
     "iopub.status.idle": "2025-03-05T20:46:41.808408Z",
     "shell.execute_reply": "2025-03-05T20:46:41.807321Z"
    },
    "papermill": {
     "duration": 0.020129,
     "end_time": "2025-03-05T20:46:41.809416",
     "exception": false,
     "start_time": "2025-03-05T20:46:41.789287",
     "status": "completed"
    },
    "tags": []
   },
   "outputs": [],
   "source": [
    "def batchmap(params, ansatz, hamiltonian, _backend, index, shots=1024, resilience_level=1,file=None):\n",
    "    '''\n",
    "    Function to map batches\n",
    "\n",
    "    parameters\n",
    "    ----------\n",
    "    params: numpy.ndarray\n",
    "        Initial circuit parameters\n",
    "        \n",
    "    ansatz: qiskit.circuit.quantumcircuit.QuantumCircuit\n",
    "        Qiskit Quantum Circuit\n",
    "\n",
    "    hamiltonian: list\n",
    "        List containing the observables\n",
    "        \n",
    "    _backend: qiskit_ibm_runtime backend\n",
    "        Backend of choice (real or fake)\n",
    "\n",
    "    index: int\n",
    "        Index of batch\n",
    "        \n",
    "    shots: float or int\n",
    "        Number of shots. Default is 1024.0.\n",
    "    \n",
    "    resilience_level: int\n",
    "        Error mitigation level. Default is 1.\n",
    "\n",
    "    file: class\n",
    "        _io.TextIOWrapper\n",
    "\n",
    "    returns\n",
    "    -------\n",
    "    y_pred: numpy.ndarray\n",
    "        Predicted values    \n",
    "    '''    \n",
    "    results = []\n",
    "    if isinstance(_backend, str):\n",
    "        jobid = str(index)\n",
    "        estimator = StatevectorEstimator()\n",
    "        for a1, p1 in zip(ansatz, params):\n",
    "            pub = [(a, [hamiltonian], [p]) for a, p in zip(a1,p1)]\n",
    "            result = estimator.run(pubs=pub)\n",
    "            results.append([jobid,result])\n",
    "                       \n",
    "    else:\n",
    "        with Batch(backend=_backend,max_time='8h') as batch:\n",
    "            if _backend.name!='ibm_quebec':\n",
    "                jobid = str(index)\n",
    "            else:\n",
    "                jobid = batch.details()['id']\n",
    "            estimator = Estimator(mode=batch)\n",
    "            estimator.options.default_shots = shots\n",
    "            estimator.options.resilience_level = resilience_level\n",
    "        \n",
    "                    \n",
    "            for a1, p1 in zip(ansatz, params):\n",
    "                pub = [(a, [hamiltonian], [p]) for a, p in zip(a1,p1)]\n",
    "                result = estimator.run(pubs=pub)\n",
    "                results.append([result.job_id(),result])\n",
    "                file.write(f\"{result.job_id()}\\n\")\n",
    "\n",
    "    return results"
   ]
  },
  {
   "cell_type": "code",
   "execution_count": 18,
   "id": "1e7f969b-86b0-4c19-9539-d37bb6f891a2",
   "metadata": {
    "execution": {
     "iopub.execute_input": "2025-03-05T20:46:41.819802Z",
     "iopub.status.busy": "2025-03-05T20:46:41.819237Z",
     "iopub.status.idle": "2025-03-05T20:46:41.839097Z",
     "shell.execute_reply": "2025-03-05T20:46:41.838066Z"
    },
    "papermill": {
     "duration": 0.026702,
     "end_time": "2025-03-05T20:46:41.840300",
     "exception": false,
     "start_time": "2025-03-05T20:46:41.813598",
     "status": "completed"
    },
    "tags": []
   },
   "outputs": [],
   "source": [
    "def batched_pred(params, ansatz, hamiltonian, num_qubits, X, _backend, shots=1024, resilience_level=1, n_jobs=-1,iters=None):\n",
    "    '''\n",
    "    Function to predict quantum circuits in batches\n",
    "\n",
    "    parameters\n",
    "    ----------\n",
    "    params: numpy.ndarray\n",
    "        Initial circuit parameters\n",
    "        \n",
    "    ansatz: qiskit.circuit.quantumcircuit.QuantumCircuit\n",
    "        Qiskit Quantum Circuit\n",
    "\n",
    "    hamiltonian: list\n",
    "        List containing the observables\n",
    "        \n",
    "    num_qubits: int\n",
    "        Number of qubits\n",
    "        \n",
    "    X: numpy.ndarray\n",
    "        Feature matrix\n",
    "        \n",
    "    _backend: qiskit_ibm_runtime backend\n",
    "        Backend of choice (real or fake)\n",
    "        \n",
    "    shots: float or int\n",
    "        Number of shots. Default is 1024.0.\n",
    "    \n",
    "    resilience_level: int\n",
    "        Error mitigation level. Default is 1.\n",
    "\n",
    "    n_jobs: int\n",
    "        Number of threads/cores for parallelization.\n",
    "\n",
    "    iters: int/str\n",
    "        Helps label the jobs.txt file\n",
    "\n",
    "    returns\n",
    "    -------\n",
    "    y_pred: numpy.ndarray\n",
    "        Predicted values    \n",
    "    '''\n",
    "    mapped_circuits = [[[map2qiskit(ansatz,num_qubits,x_i) for x_i in xi ]for xi in X[i : i + 4]] for i in range(0, len(X), 4)]\n",
    "    tiled_params = np.tile(params,(X.shape[0],X.shape[1])).reshape(X.shape[0],X.shape[1],-1)\n",
    "    batched_params = [tiled_params[i : i + 4] for i in range(0, len(X), 4)]\n",
    "    \n",
    "    # Submit jobs\n",
    "    \n",
    "\n",
    "    if isinstance(_backend, str):\n",
    "        t0 = time.perf_counter()\n",
    "        jobs = joblib.Parallel(n_jobs=n_jobs,verbose=0, prefer=\"threads\")(joblib.delayed(batchmap)(pars, anz, hamiltonian, _backend, idx, shots, resilience_level,None) for idx, (anz, pars) in tqdm(enumerate(zip(mapped_circuits,batched_params)),desc=\"Mappings\"))\n",
    "        print(f\"Submitted to device in {time.perf_counter()-t0:.4f} s\")\n",
    "        \n",
    "        t1 = time.perf_counter()        \n",
    "        y_pred = np.hstack(joblib.Parallel(n_jobs=n_jobs,verbose=0, prefer=\"threads\")(joblib.delayed(get_results)(job) for job in tqdm(jobs,desc=\"Running batch: \"))).T\n",
    "        print(f\"Predicted in {time.perf_counter()-t1:.4f} s\")\n",
    "    else:\n",
    "        \n",
    "        t0 = time.perf_counter()\n",
    "        with open(f'jobs_{iters}.txt','w') as f:\n",
    "            jobs = joblib.Parallel(n_jobs=n_jobs,verbose=0, prefer=\"threads\")(joblib.delayed(batchmap)(pars, anz, hamiltonian, _backend, idx, shots, resilience_level,f) for idx, (anz, pars) in tqdm(enumerate(zip(mapped_circuits,batched_params)),desc=\"Mappings\"))\n",
    "        print(f\"Submitted to device in {time.perf_counter()-t0:.4f} s\")\n",
    "\n",
    "        t1 = time.perf_counter()        \n",
    "        if _backend.name!='ibm_quebec':\n",
    "            y_pred = np.hstack(joblib.Parallel(n_jobs=n_jobs,verbose=0, prefer=\"threads\")(joblib.delayed(get_results)(job) for job in tqdm(jobs,desc=\"Running batch: \"))).T            \n",
    "        else:\n",
    "            y_pred = get_results(iters)\n",
    "        print(f\"Predicted in {time.perf_counter()-t1:.4f} s\")\n",
    "\n",
    "    return y_pred"
   ]
  },
  {
   "cell_type": "code",
   "execution_count": 19,
   "id": "8e0da73e-16ae-4c90-bfd4-e1026a5403fa",
   "metadata": {
    "execution": {
     "iopub.execute_input": "2025-03-05T20:46:41.860155Z",
     "iopub.status.busy": "2025-03-05T20:46:41.858768Z",
     "iopub.status.idle": "2025-03-05T20:46:41.872136Z",
     "shell.execute_reply": "2025-03-05T20:46:41.870998Z"
    },
    "papermill": {
     "duration": 0.024527,
     "end_time": "2025-03-05T20:46:41.873288",
     "exception": false,
     "start_time": "2025-03-05T20:46:41.848761",
     "status": "completed"
    },
    "tags": []
   },
   "outputs": [],
   "source": [
    "def cost_func(params, ansatz, hamiltonian, num_qubits, X, y, cost_history_dict, _backend, shots=1024.0, resilience_level=1, n_jobs=-1):\n",
    "    \"\"\"\n",
    "    Cost function. Is this loss?\n",
    "    \n",
    "    parameters\n",
    "    ----------\n",
    "    params: numpy.ndarray\n",
    "        Initial circuit parameters\n",
    "        \n",
    "    ansatz: qiskit.circuit.quantumcircuit.QuantumCircuit\n",
    "        Qiskit Quantum Circuit\n",
    "\n",
    "    hamiltonian: list\n",
    "        List containing the observables\n",
    "        \n",
    "    num_qubits: int\n",
    "        Number of qubits\n",
    "        \n",
    "    X: numpy.ndarray\n",
    "        Feature matrix\n",
    "\n",
    "    y: numpy.ndarray\n",
    "        Target vector\n",
    "\n",
    "    cost_history_dict: dict\n",
    "        Dictionary to track the loss        \n",
    "        \n",
    "    _backend: qiskit_ibm_runtime backend\n",
    "        Backend of choice (real or fake)\n",
    "        \n",
    "    shots: float or int\n",
    "        Number of shots. Default is 1024.0.\n",
    "    \n",
    "    resilience_level: int\n",
    "        Error mitigation level. Default is 1.\n",
    "\n",
    "    n_jobs: int\n",
    "        Number of threads/cores for parallelization.\n",
    "\n",
    "    \"\"\"\n",
    "    t0=time.perf_counter()\n",
    "    if isinstance(_backend, str): \n",
    "        y_pred = batched_pred(params, ansatz, hamiltonian, num_qubits, X, _backend, shots, resilience_level, n_jobs,None)\n",
    "    else:\n",
    "        y_pred = batched_pred(params, ansatz, hamiltonian, num_qubits, X, _backend, shots, resilience_level, n_jobs,cost_history_dict[\"iters\"])\n",
    "    \n",
    "    loss = mean_squared_error(y.flatten(),y_pred.flatten())\n",
    "    r2 = r2_score(y.flatten(),y_pred.flatten())\n",
    "    \n",
    "    cost_history_dict[\"iters\"] += 1\n",
    "    cost_history_dict[\"prev_vector\"] = params\n",
    "    cost_history_dict[\"cost_history\"].append(loss)\n",
    "    \n",
    "    print(f\"Iters. done: {cost_history_dict['iters']} Current cost: {loss} Accuracy: {r2} Time: {time.perf_counter()-t0}\")\n",
    "    \n",
    "    with open('model_log.csv', 'a') as outfile:\n",
    "        log = f\"{time.asctime()},{cost_history_dict['iters']},{loss},{params}\\n\"\n",
    "        outfile.write(log)\n",
    "\n",
    "    save_file = 'partial_state_model.bin'\n",
    "    progress = {'x': params, 'loss': loss}\n",
    "    dump(progress, save_file)\n",
    "  \n",
    "    return loss"
   ]
  },
  {
   "cell_type": "code",
   "execution_count": 20,
   "id": "4c7cf7d5-8ec8-4994-86d3-a88ac219bbf8",
   "metadata": {
    "execution": {
     "iopub.execute_input": "2025-03-05T20:46:41.883818Z",
     "iopub.status.busy": "2025-03-05T20:46:41.883285Z",
     "iopub.status.idle": "2025-03-05T20:46:41.906699Z",
     "shell.execute_reply": "2025-03-05T20:46:41.905553Z"
    },
    "papermill": {
     "duration": 0.030386,
     "end_time": "2025-03-05T20:46:41.908007",
     "exception": false,
     "start_time": "2025-03-05T20:46:41.877621",
     "status": "completed"
    },
    "tags": []
   },
   "outputs": [],
   "source": [
    "def evaluate(params, ansatz, hamiltonian, num_qubits, n_jobs, _backend, X_train, y_train, X_test=None, y_test=None, plot: bool = False, title: str = 'defult',y_scaler=None, shots=1024.0, resilience_level=1):\n",
    "    scores = {}\n",
    "    st = time.time()\n",
    "    print('Now scoring model... ')\n",
    "    if isinstance(_backend, str): \n",
    "        y_train_pred = batched_pred(params, ansatz, hamiltonian, num_qubits, X_train, _backend, shots, resilience_level, n_jobs,None)\n",
    "    else:\n",
    "        y_train_pred = batched_pred(params, ansatz, hamiltonian, num_qubits, X_train, _backend, shots, resilience_level, n_jobs,'evals_train')\n",
    "    y_train_pred = y_scaler.inverse_transform(y_train_pred.reshape(-1, 1)).flatten()\n",
    "    y_train = y_scaler.inverse_transform(y_train.reshape(-1, 1)).flatten()\n",
    "\n",
    "    scores['MSE_train'] = mean_squared_error(y_train, y_train_pred)\n",
    "    scores['R2_train'] = r2_score(y_train, y_train_pred)\n",
    "    scores['MAE_train'] = mean_absolute_error(y_train, y_train_pred)\n",
    "\n",
    "    y_test_pred = None\n",
    "    y_test = y_scaler.inverse_transform(y_test.reshape(-1, 1)).flatten()\n",
    "    if y_test is not None:\n",
    "        if isinstance(_backend, str):\n",
    "            y_test_pred = batched_pred(params, ansatz, hamiltonian, num_qubits, X_test, _backend, shots, resilience_level, n_jobs,None)            \n",
    "        else:\n",
    "            y_test_pred = batched_pred(params, ansatz, hamiltonian, num_qubits, X_test, _backend, shots, resilience_level, n_jobs,'evals_test')\n",
    "        y_test_pred = y_scaler.inverse_transform(y_test_pred.reshape(-1, 1)).flatten()\n",
    "    \n",
    "        scores['MSE_test'] = mean_squared_error(y_test, y_test_pred)\n",
    "        scores['R2_test'] = r2_score(y_test, y_test_pred)\n",
    "        scores['MAE_test'] = mean_absolute_error(y_test, y_test_pred)\n",
    "\n",
    "    if plot:\n",
    "        plt.figure()\n",
    "        if y_test_pred is not None:\n",
    "            plt.scatter(y_test, y_test_pred, color='b', s=10, label=f'Test, MAE = {scores[\"MAE_test\"]:.2f}')\n",
    "        plt.scatter(y_train, y_train_pred, color='r', s=10, label=f'Train, MAE = {scores[\"MAE_train\"]:.2f}')\n",
    "        plt.ylabel('Predicted')\n",
    "        plt.xlabel('Actual')\n",
    "        plt.axis('scaled')\n",
    "\n",
    "        max_val = max(max(plt.xlim()), max(plt.ylim()))\n",
    "        min_val = min(min(plt.xlim()), min(plt.ylim()))\n",
    "        plt.xlim((min_val, max_val))\n",
    "        plt.ylim((min_val, max_val))\n",
    "\n",
    "        x_min, x_max = plt.xlim()\n",
    "        y_min, y_max = plt.ylim()\n",
    "        plt.plot([x_min, x_max], [y_min, y_max], 'k--', alpha=0.2, label='y=x')\n",
    "        plt.legend()\n",
    "        plt.savefig(title+'_plot.svg')\n",
    "\n",
    "        if X_test.shape[1] == 1:\n",
    "            plt.figure()\n",
    "            plt.title(title)\n",
    "            plt.scatter(X_train, y_train_pred, color='b', label='Train', s=10)\n",
    "            plt.scatter(X_test, y_test_pred, color='orange', label='Test', s=10)\n",
    "            plt.scatter(X_train, y_train, color='green', label='Data', s=10)\n",
    "            plt.scatter(X_test, y_test, color='green', s=10)\n",
    "            plt.legend()\n",
    "            plt.savefig(title+'_1D_plot.svg')\n",
    "\n",
    "    print(f'Scoring complete taking {time.time() - st} seconds. ')\n",
    "\n",
    "    return scores, y_test_pred, y_train_pred"
   ]
  },
  {
   "cell_type": "code",
   "execution_count": 21,
   "id": "21c8acce-aca9-4a3c-9af6-73f33015bf0d",
   "metadata": {
    "execution": {
     "iopub.execute_input": "2025-03-05T20:46:41.927161Z",
     "iopub.status.busy": "2025-03-05T20:46:41.925962Z",
     "iopub.status.idle": "2025-03-05T21:02:28.772165Z",
     "shell.execute_reply": "2025-03-05T21:02:28.771511Z"
    },
    "papermill": {
     "duration": 946.872934,
     "end_time": "2025-03-05T21:02:28.789266",
     "exception": false,
     "start_time": "2025-03-05T20:46:41.916332",
     "status": "completed"
    },
    "tags": []
   },
   "outputs": [
    {
     "data": {
      "application/vnd.jupyter.widget-view+json": {
       "model_id": "7ecc6e673dfd43d9afad880a7531aef0",
       "version_major": 2,
       "version_minor": 0
      },
      "text/plain": [
       "Mappings: 0it [00:00, ?it/s]"
      ]
     },
     "metadata": {},
     "output_type": "display_data"
    },
    {
     "name": "stdout",
     "output_type": "stream",
     "text": [
      "Submitted to device in 25.9264 s\n"
     ]
    },
    {
     "name": "stdout",
     "output_type": "stream",
     "text": [
      "Predicted in 269.4687 s\n",
      "Iters. done: 1 Current cost: 0.1416609157975062 Accuracy: -0.5660263795909111 Time: 295.4761580042541\n",
      "Now scoring model... \n"
     ]
    },
    {
     "data": {
      "application/vnd.jupyter.widget-view+json": {
       "model_id": "066acafbb8e545dc9b6e1bc4d5ab0230",
       "version_major": 2,
       "version_minor": 0
      },
      "text/plain": [
       "Mappings: 0it [00:00, ?it/s]"
      ]
     },
     "metadata": {},
     "output_type": "display_data"
    },
    {
     "name": "stdout",
     "output_type": "stream",
     "text": [
      "Submitted to device in 18.3917 s\n"
     ]
    },
    {
     "name": "stdout",
     "output_type": "stream",
     "text": [
      "Predicted in 281.8152 s\n"
     ]
    },
    {
     "data": {
      "application/vnd.jupyter.widget-view+json": {
       "model_id": "50bee7aad39843e09c75b91fc8729984",
       "version_major": 2,
       "version_minor": 0
      },
      "text/plain": [
       "Mappings: 0it [00:00, ?it/s]"
      ]
     },
     "metadata": {},
     "output_type": "display_data"
    },
    {
     "name": "stdout",
     "output_type": "stream",
     "text": [
      "Submitted to device in 20.7964 s\n"
     ]
    },
    {
     "name": "stdout",
     "output_type": "stream",
     "text": [
      "Predicted in 330.0228 s\n",
      "Scoring complete taking 651.2793374061584 seconds. \n"
     ]
    },
    {
     "data": {
      "image/png": "[encoded data removed]",
      "text/plain": [
       "<Figure size 640x480 with 1 Axes>"
      ]
     },
     "metadata": {},
     "output_type": "display_data"
    }
   ],
   "source": [
    "\n",
    "scores = []\n",
    "with open('model_log.csv', 'w') as outfile:\n",
    "    outfile.write('Time,Iteration,Cost,Parameters')\n",
    "    outfile.write('\\n')        \n",
    "\n",
    "\n",
    "cost_history_dict = {\n",
    "    \"prev_vector\": None,\n",
    "    \"iters\": 0,\n",
    "    \"cost_history\": [],\n",
    "}\n",
    "\n",
    "\n",
    "\n",
    "\n",
    "\n",
    "res = minimize(cost_func,\n",
    "    x0,\n",
    "    args=(qc, mapped_observables, num_qubits, X_train, y_train, cost_history_dict, _backend, shots, resilience_level, n_jobs),\n",
    "    method=\"cobyla\", options={'maxiter':1})  \n",
    "\n",
    "x0 = res.x\n",
    "loss = res.fun    \n",
    "progress = {'x': x0, 'loss': loss}\n",
    "dump(progress, 'final_state_model.bin')\n",
    "os.remove('partial_state_model.bin') \n",
    "\n",
    "scores, y_test_pred, y_train_pred = evaluate(x0, qc, mapped_observables, num_qubits, n_jobs, _backend, X_train, y_train, X_test=X_test, y_test=y_test, plot = True, title= 'A2_HWE-CNOT',y_scaler=scaler, shots=shots, resilience_level=resilience_level)\n",
    "\n",
    "name = 'A2_HWE-CNOT_predicted_values.csv'\n",
    "\n",
    "y_train = scaler.inverse_transform(y_train.reshape(-1, 1))\n",
    "y_test = scaler.inverse_transform(y_test.reshape(-1, 1))\n",
    "train_pred, y_train, test_pred, y_test = y_train_pred.flatten().tolist(), y_train.flatten().tolist(), y_test_pred.flatten().tolist(), y_test.flatten().tolist()\n",
    "df_train = pd.DataFrame({'Predicted': train_pred, 'Reference': y_train})\n",
    "df_train['Data'] = 'Train'\n",
    "df_test = pd.DataFrame({'Predicted': test_pred, 'Reference': y_test})\n",
    "df_test['Data'] = 'Test'\n",
    "df = pd.concat([df_train, df_test], ignore_index=True)\n",
    "df = df[['Data', 'Predicted', 'Reference']]\n",
    "\n",
    "df.to_csv(name, index=False)\n",
    "\n",
    "results_title = 'A2_HWE-CNOT_results.json'\n",
    "with open(results_title, 'w') as outfile:\n",
    "    json.dump(scores, outfile)\n",
    "\n",
    "\n"
   ]
  },
  {
   "cell_type": "code",
   "execution_count": 22,
   "id": "d2d4290f-6366-47b2-94f3-6ce762b37cdc",
   "metadata": {
    "execution": {
     "iopub.execute_input": "2025-03-05T21:02:28.815581Z",
     "iopub.status.busy": "2025-03-05T21:02:28.815364Z",
     "iopub.status.idle": "2025-03-05T21:02:28.822378Z",
     "shell.execute_reply": "2025-03-05T21:02:28.821542Z"
    },
    "papermill": {
     "duration": 0.020842,
     "end_time": "2025-03-05T21:02:28.823898",
     "exception": false,
     "start_time": "2025-03-05T21:02:28.803056",
     "status": "completed"
    },
    "tags": []
   },
   "outputs": [
    {
     "data": {
      "text/plain": [
       "(-0.5130975493284411, 0.0005894129892397612)"
      ]
     },
     "execution_count": 22,
     "metadata": {},
     "output_type": "execute_result"
    }
   ],
   "source": [
    "r2_score(y_train,train_pred),mean_squared_error(y_train,train_pred)"
   ]
  },
  {
   "cell_type": "code",
   "execution_count": 23,
   "id": "c32cb367-682e-4c0f-85f4-d5b259ce6752",
   "metadata": {
    "execution": {
     "iopub.execute_input": "2025-03-05T21:02:28.844995Z",
     "iopub.status.busy": "2025-03-05T21:02:28.844810Z",
     "iopub.status.idle": "2025-03-05T21:02:28.850539Z",
     "shell.execute_reply": "2025-03-05T21:02:28.849788Z"
    },
    "papermill": {
     "duration": 0.01805,
     "end_time": "2025-03-05T21:02:28.851942",
     "exception": false,
     "start_time": "2025-03-05T21:02:28.833892",
     "status": "completed"
    },
    "tags": []
   },
   "outputs": [
    {
     "data": {
      "text/plain": [
       "(-0.6021146729088749, 0.0006295271084830305)"
      ]
     },
     "execution_count": 23,
     "metadata": {},
     "output_type": "execute_result"
    }
   ],
   "source": [
    "r2_score(y_test,test_pred),mean_squared_error(y_test,test_pred)"
   ]
  },
  {
   "cell_type": "code",
   "execution_count": 24,
   "id": "c9106804-835b-4a4b-9a7e-83712ff62774",
   "metadata": {
    "execution": {
     "iopub.execute_input": "2025-03-05T21:02:28.870484Z",
     "iopub.status.busy": "2025-03-05T21:02:28.870165Z",
     "iopub.status.idle": "2025-03-05T21:02:29.304150Z",
     "shell.execute_reply": "2025-03-05T21:02:29.303407Z"
    },
    "papermill": {
     "duration": 0.444143,
     "end_time": "2025-03-05T21:02:29.305750",
     "exception": false,
     "start_time": "2025-03-05T21:02:28.861607",
     "status": "completed"
    },
    "tags": []
   },
   "outputs": [
    {
     "data": {
      "text/plain": [
       "[<matplotlib.lines.Line2D at 0x7f72c3358e90>]"
      ]
     },
     "execution_count": 24,
     "metadata": {},
     "output_type": "execute_result"
    },
    {
     "data": {
      "image/png": "[encoded data removed]",
      "text/plain": [
       "<Figure size 640x480 with 1 Axes>"
      ]
     },
     "metadata": {},
     "output_type": "display_data"
    }
   ],
   "source": [
    "plt.scatter(y_train,train_pred)\n",
    "plt.scatter(y_test,test_pred)\n",
    "plt.plot(y_train, y_train)"
   ]
  }
 ],
 "metadata": {
  "kernelspec": {
   "display_name": "Python 3 (ipykernel)",
   "language": "python",
   "name": "python3"
  },
  "language_info": {
   "codemirror_mode": {
    "name": "ipython",
    "version": 3
   },
   "file_extension": ".py",
   "mimetype": "text/x-python",
   "name": "python",
   "nbconvert_exporter": "python",
   "pygments_lexer": "ipython3",
   "version": "3.11.11"
  },
  "papermill": {
   "default_parameters": {},
   "duration": 962.883175,
   "end_time": "2025-03-05T21:02:30.446484",
   "environment_variables": {},
   "exception": null,
   "input_path": "convert_ML_batched.ipynb",
   "output_path": "ol3_rl0/convert_ML_batched.ipynb",
   "parameters": {
    "optimization_level": "2",
    "resilience_level": "0",
    "shots": "3072"
   },
   "start_time": "2025-03-05T20:46:27.563309",
   "version": "2.6.0"
  },
  "widgets": {
   "application/vnd.jupyter.widget-state+json": {
    "state": {
     "0013fa1d77bb4c8e8a8db9b1611862a0": {
      "model_module": "@jupyter-widgets/base",
      "model_module_version": "2.0.0",
      "model_name": "LayoutModel",
      "state": {
       "_model_module": "@jupyter-widgets/base",
       "_model_module_version": "2.0.0",
       "_model_name": "LayoutModel",
       "_view_count": null,
       "_view_module": "@jupyter-widgets/base",
       "_view_module_version": "2.0.0",
       "_view_name": "LayoutView",
       "align_content": null,
       "align_items": null,
       "align_self": null,
       "border_bottom": null,
       "border_left": null,
       "border_right": null,
       "border_top": null,
       "bottom": null,
       "display": null,
       "flex": null,
       "flex_flow": null,
       "grid_area": null,
       "grid_auto_columns": null,
       "grid_auto_flow": null,
       "grid_auto_rows": null,
       "grid_column": null,
       "grid_gap": null,
       "grid_row": null,
       "grid_template_areas": null,
       "grid_template_columns": null,
       "grid_template_rows": null,
       "height": null,
       "justify_content": null,
       "justify_items": null,
       "left": null,
       "margin": null,
       "max_height": null,
       "max_width": null,
       "min_height": null,
       "min_width": null,
       "object_fit": null,
       "object_position": null,
       "order": null,
       "overflow": null,
       "padding": null,
       "right": null,
       "top": null,
       "visibility": null,
       "width": "20px"
      }
     },
     "057a6e28d12e4da09f5feff90500f439": {
      "model_module": "@jupyter-widgets/controls",
      "model_module_version": "2.0.0",
      "model_name": "HTMLStyleModel",
      "state": {
       "_model_module": "@jupyter-widgets/controls",
       "_model_module_version": "2.0.0",
       "_model_name": "HTMLStyleModel",
       "_view_count": null,
       "_view_module": "@jupyter-widgets/base",
       "_view_module_version": "2.0.0",
       "_view_name": "StyleView",
       "background": null,
       "description_width": "",
       "font_size": null,
       "text_color": null
      }
     },
     "066acafbb8e545dc9b6e1bc4d5ab0230": {
      "model_module": "@jupyter-widgets/controls",
      "model_module_version": "2.0.0",
      "model_name": "HBoxModel",
      "state": {
       "_dom_classes": [],
       "_model_module": "@jupyter-widgets/controls",
       "_model_module_version": "2.0.0",
       "_model_name": "HBoxModel",
       "_view_count": null,
       "_view_module": "@jupyter-widgets/controls",
       "_view_module_version": "2.0.0",
       "_view_name": "HBoxView",
       "box_style": "",
       "children": [
        "IPY_MODEL_0bfd9bd74f0a4aad826550cf92b8f0f2",
        "IPY_MODEL_8e6ad673ddd04fa9b1bcec129114e57a",
        "IPY_MODEL_1d5ceb957b6545899655083458b88a3b"
       ],
       "layout": "IPY_MODEL_1c2922627a274beb93b28eda5750f750",
       "tabbable": null,
       "tooltip": null
      }
     },
     "0a220e6f4941491291cb631a001b4662": {
      "model_module": "@jupyter-widgets/base",
      "model_module_version": "2.0.0",
      "model_name": "LayoutModel",
      "state": {
       "_model_module": "@jupyter-widgets/base",
       "_model_module_version": "2.0.0",
       "_model_name": "LayoutModel",
       "_view_count": null,
       "_view_module": "@jupyter-widgets/base",
       "_view_module_version": "2.0.0",
       "_view_name": "LayoutView",
       "align_content": null,
       "align_items": null,
       "align_self": null,
       "border_bottom": null,
       "border_left": null,
       "border_right": null,
       "border_top": null,
       "bottom": null,
       "display": null,
       "flex": null,
       "flex_flow": null,
       "grid_area": null,
       "grid_auto_columns": null,
       "grid_auto_flow": null,
       "grid_auto_rows": null,
       "grid_column": null,
       "grid_gap": null,
       "grid_row": null,
       "grid_template_areas": null,
       "grid_template_columns": null,
       "grid_template_rows": null,
       "height": null,
       "justify_content": null,
       "justify_items": null,
       "left": null,
       "margin": null,
       "max_height": null,
       "max_width": null,
       "min_height": null,
       "min_width": null,
       "object_fit": null,
       "object_position": null,
       "order": null,
       "overflow": null,
       "padding": null,
       "right": null,
       "top": null,
       "visibility": null,
       "width": "20px"
      }
     },
     "0bfd9bd74f0a4aad826550cf92b8f0f2": {
      "model_module": "@jupyter-widgets/controls",
      "model_module_version": "2.0.0",
      "model_name": "HTMLModel",
      "state": {
       "_dom_classes": [],
       "_model_module": "@jupyter-widgets/controls",
       "_model_module_version": "2.0.0",
       "_model_name": "HTMLModel",
       "_view_count": null,
       "_view_module": "@jupyter-widgets/controls",
       "_view_module_version": "2.0.0",
       "_view_name": "HTMLView",
       "description": "",
       "description_allow_html": false,
       "layout": "IPY_MODEL_12d44ee680e34853bb3ca8d5d23bceeb",
       "placeholder": "​",
       "style": "IPY_MODEL_59f7702d6dea479498155d197ff123ac",
       "tabbable": null,
       "tooltip": null,
       "value": "Mappings: "
      }
     },
     "12d44ee680e34853bb3ca8d5d23bceeb": {
      "model_module": "@jupyter-widgets/base",
      "model_module_version": "2.0.0",
      "model_name": "LayoutModel",
      "state": {
       "_model_module": "@jupyter-widgets/base",
       "_model_module_version": "2.0.0",
       "_model_name": "LayoutModel",
       "_view_count": null,
       "_view_module": "@jupyter-widgets/base",
       "_view_module_version": "2.0.0",
       "_view_name": "LayoutView",
       "align_content": null,
       "align_items": null,
       "align_self": null,
       "border_bottom": null,
       "border_left": null,
       "border_right": null,
       "border_top": null,
       "bottom": null,
       "display": null,
       "flex": null,
       "flex_flow": null,
       "grid_area": null,
       "grid_auto_columns": null,
       "grid_auto_flow": null,
       "grid_auto_rows": null,
       "grid_column": null,
       "grid_gap": null,
       "grid_row": null,
       "grid_template_areas": null,
       "grid_template_columns": null,
       "grid_template_rows": null,
       "height": null,
       "justify_content": null,
       "justify_items": null,
       "left": null,
       "margin": null,
       "max_height": null,
       "max_width": null,
       "min_height": null,
       "min_width": null,
       "object_fit": null,
       "object_position": null,
       "order": null,
       "overflow": null,
       "padding": null,
       "right": null,
       "top": null,
       "visibility": null,
       "width": null
      }
     },
     "1c2922627a274beb93b28eda5750f750": {
      "model_module": "@jupyter-widgets/base",
      "model_module_version": "2.0.0",
      "model_name": "LayoutModel",
      "state": {
       "_model_module": "@jupyter-widgets/base",
       "_model_module_version": "2.0.0",
       "_model_name": "LayoutModel",
       "_view_count": null,
       "_view_module": "@jupyter-widgets/base",
       "_view_module_version": "2.0.0",
       "_view_name": "LayoutView",
       "align_content": null,
       "align_items": null,
       "align_self": null,
       "border_bottom": null,
       "border_left": null,
       "border_right": null,
       "border_top": null,
       "bottom": null,
       "display": null,
       "flex": null,
       "flex_flow": null,
       "grid_area": null,
       "grid_auto_columns": null,
       "grid_auto_flow": null,
       "grid_auto_rows": null,
       "grid_column": null,
       "grid_gap": null,
       "grid_row": null,
       "grid_template_areas": null,
       "grid_template_columns": null,
       "grid_template_rows": null,
       "height": null,
       "justify_content": null,
       "justify_items": null,
       "left": null,
       "margin": null,
       "max_height": null,
       "max_width": null,
       "min_height": null,
       "min_width": null,
       "object_fit": null,
       "object_position": null,
       "order": null,
       "overflow": null,
       "padding": null,
       "right": null,
       "top": null,
       "visibility": null,
       "width": null
      }
     },
     "1d5ceb957b6545899655083458b88a3b": {
      "model_module": "@jupyter-widgets/controls",
      "model_module_version": "2.0.0",
      "model_name": "HTMLModel",
      "state": {
       "_dom_classes": [],
       "_model_module": "@jupyter-widgets/controls",
       "_model_module_version": "2.0.0",
       "_model_name": "HTMLModel",
       "_view_count": null,
       "_view_module": "@jupyter-widgets/controls",
       "_view_module_version": "2.0.0",
       "_view_name": "HTMLView",
       "description": "",
       "description_allow_html": false,
       "layout": "IPY_MODEL_d1af7606e7be4c4d95192cc351750681",
       "placeholder": "​",
       "style": "IPY_MODEL_7d0e76e75f5144868d219df04d195f2d",
       "tabbable": null,
       "tooltip": null,
       "value": " 1/? [00:00&lt;00:00, 185.68it/s]"
      }
     },
     "1e2a0d4e3a214051b32b1f9acc3ec99e": {
      "model_module": "@jupyter-widgets/base",
      "model_module_version": "2.0.0",
      "model_name": "LayoutModel",
      "state": {
       "_model_module": "@jupyter-widgets/base",
       "_model_module_version": "2.0.0",
       "_model_name": "LayoutModel",
       "_view_count": null,
       "_view_module": "@jupyter-widgets/base",
       "_view_module_version": "2.0.0",
       "_view_name": "LayoutView",
       "align_content": null,
       "align_items": null,
       "align_self": null,
       "border_bottom": null,
       "border_left": null,
       "border_right": null,
       "border_top": null,
       "bottom": null,
       "display": null,
       "flex": null,
       "flex_flow": null,
       "grid_area": null,
       "grid_auto_columns": null,
       "grid_auto_flow": null,
       "grid_auto_rows": null,
       "grid_column": null,
       "grid_gap": null,
       "grid_row": null,
       "grid_template_areas": null,
       "grid_template_columns": null,
       "grid_template_rows": null,
       "height": null,
       "justify_content": null,
       "justify_items": null,
       "left": null,
       "margin": null,
       "max_height": null,
       "max_width": null,
       "min_height": null,
       "min_width": null,
       "object_fit": null,
       "object_position": null,
       "order": null,
       "overflow": null,
       "padding": null,
       "right": null,
       "top": null,
       "visibility": null,
       "width": null
      }
     },
     "22299cfa3b5c4e5cbd23eef385f563c7": {
      "model_module": "@jupyter-widgets/controls",
      "model_module_version": "2.0.0",
      "model_name": "HTMLStyleModel",
      "state": {
       "_model_module": "@jupyter-widgets/controls",
       "_model_module_version": "2.0.0",
       "_model_name": "HTMLStyleModel",
       "_view_count": null,
       "_view_module": "@jupyter-widgets/base",
       "_view_module_version": "2.0.0",
       "_view_name": "StyleView",
       "background": null,
       "description_width": "",
       "font_size": null,
       "text_color": null
      }
     },
     "29b799d7ac114215880734625fc247d3": {
      "model_module": "@jupyter-widgets/base",
      "model_module_version": "2.0.0",
      "model_name": "LayoutModel",
      "state": {
       "_model_module": "@jupyter-widgets/base",
       "_model_module_version": "2.0.0",
       "_model_name": "LayoutModel",
       "_view_count": null,
       "_view_module": "@jupyter-widgets/base",
       "_view_module_version": "2.0.0",
       "_view_name": "LayoutView",
       "align_content": null,
       "align_items": null,
       "align_self": null,
       "border_bottom": null,
       "border_left": null,
       "border_right": null,
       "border_top": null,
       "bottom": null,
       "display": null,
       "flex": null,
       "flex_flow": null,
       "grid_area": null,
       "grid_auto_columns": null,
       "grid_auto_flow": null,
       "grid_auto_rows": null,
       "grid_column": null,
       "grid_gap": null,
       "grid_row": null,
       "grid_template_areas": null,
       "grid_template_columns": null,
       "grid_template_rows": null,
       "height": null,
       "justify_content": null,
       "justify_items": null,
       "left": null,
       "margin": null,
       "max_height": null,
       "max_width": null,
       "min_height": null,
       "min_width": null,
       "object_fit": null,
       "object_position": null,
       "order": null,
       "overflow": null,
       "padding": null,
       "right": null,
       "top": null,
       "visibility": null,
       "width": null
      }
     },
     "3d1f1a3bde3e4f45961cc8f6cada7d68": {
      "model_module": "@jupyter-widgets/controls",
      "model_module_version": "2.0.0",
      "model_name": "ProgressStyleModel",
      "state": {
       "_model_module": "@jupyter-widgets/controls",
       "_model_module_version": "2.0.0",
       "_model_name": "ProgressStyleModel",
       "_view_count": null,
       "_view_module": "@jupyter-widgets/base",
       "_view_module_version": "2.0.0",
       "_view_name": "StyleView",
       "bar_color": null,
       "description_width": ""
      }
     },
     "4e23f0e39e094882b5c46e95d92bd3f7": {
      "model_module": "@jupyter-widgets/controls",
      "model_module_version": "2.0.0",
      "model_name": "FloatProgressModel",
      "state": {
       "_dom_classes": [],
       "_model_module": "@jupyter-widgets/controls",
       "_model_module_version": "2.0.0",
       "_model_name": "FloatProgressModel",
       "_view_count": null,
       "_view_module": "@jupyter-widgets/controls",
       "_view_module_version": "2.0.0",
       "_view_name": "ProgressView",
       "bar_style": "success",
       "description": "",
       "description_allow_html": false,
       "layout": "IPY_MODEL_0a220e6f4941491291cb631a001b4662",
       "max": 1.0,
       "min": 0.0,
       "orientation": "horizontal",
       "style": "IPY_MODEL_987e8b990f6b47b291ee57cf051034d5",
       "tabbable": null,
       "tooltip": null,
       "value": 1.0
      }
     },
     "50bee7aad39843e09c75b91fc8729984": {
      "model_module": "@jupyter-widgets/controls",
      "model_module_version": "2.0.0",
      "model_name": "HBoxModel",
      "state": {
       "_dom_classes": [],
       "_model_module": "@jupyter-widgets/controls",
       "_model_module_version": "2.0.0",
       "_model_name": "HBoxModel",
       "_view_count": null,
       "_view_module": "@jupyter-widgets/controls",
       "_view_module_version": "2.0.0",
       "_view_name": "HBoxView",
       "box_style": "",
       "children": [
        "IPY_MODEL_b567bbc74d32436bb29a225ee1d6b365",
        "IPY_MODEL_4e23f0e39e094882b5c46e95d92bd3f7",
        "IPY_MODEL_ffc8cefbd90e49b9b93d79fe28e9483f"
       ],
       "layout": "IPY_MODEL_29b799d7ac114215880734625fc247d3",
       "tabbable": null,
       "tooltip": null
      }
     },
     "59f7702d6dea479498155d197ff123ac": {
      "model_module": "@jupyter-widgets/controls",
      "model_module_version": "2.0.0",
      "model_name": "HTMLStyleModel",
      "state": {
       "_model_module": "@jupyter-widgets/controls",
       "_model_module_version": "2.0.0",
       "_model_name": "HTMLStyleModel",
       "_view_count": null,
       "_view_module": "@jupyter-widgets/base",
       "_view_module_version": "2.0.0",
       "_view_name": "StyleView",
       "background": null,
       "description_width": "",
       "font_size": null,
       "text_color": null
      }
     },
     "63f2fb36c6f345f0a9439013261154bd": {
      "model_module": "@jupyter-widgets/controls",
      "model_module_version": "2.0.0",
      "model_name": "FloatProgressModel",
      "state": {
       "_dom_classes": [],
       "_model_module": "@jupyter-widgets/controls",
       "_model_module_version": "2.0.0",
       "_model_name": "FloatProgressModel",
       "_view_count": null,
       "_view_module": "@jupyter-widgets/controls",
       "_view_module_version": "2.0.0",
       "_view_name": "ProgressView",
       "bar_style": "success",
       "description": "",
       "description_allow_html": false,
       "layout": "IPY_MODEL_0013fa1d77bb4c8e8a8db9b1611862a0",
       "max": 1.0,
       "min": 0.0,
       "orientation": "horizontal",
       "style": "IPY_MODEL_d9d29c5718844e7c83d6d78865d36d60",
       "tabbable": null,
       "tooltip": null,
       "value": 1.0
      }
     },
     "7d0e76e75f5144868d219df04d195f2d": {
      "model_module": "@jupyter-widgets/controls",
      "model_module_version": "2.0.0",
      "model_name": "HTMLStyleModel",
      "state": {
       "_model_module": "@jupyter-widgets/controls",
       "_model_module_version": "2.0.0",
       "_model_name": "HTMLStyleModel",
       "_view_count": null,
       "_view_module": "@jupyter-widgets/base",
       "_view_module_version": "2.0.0",
       "_view_name": "StyleView",
       "background": null,
       "description_width": "",
       "font_size": null,
       "text_color": null
      }
     },
     "7ecc6e673dfd43d9afad880a7531aef0": {
      "model_module": "@jupyter-widgets/controls",
      "model_module_version": "2.0.0",
      "model_name": "HBoxModel",
      "state": {
       "_dom_classes": [],
       "_model_module": "@jupyter-widgets/controls",
       "_model_module_version": "2.0.0",
       "_model_name": "HBoxModel",
       "_view_count": null,
       "_view_module": "@jupyter-widgets/controls",
       "_view_module_version": "2.0.0",
       "_view_name": "HBoxView",
       "box_style": "",
       "children": [
        "IPY_MODEL_dd8089d011e641b6b10a97db3cd261d5",
        "IPY_MODEL_63f2fb36c6f345f0a9439013261154bd",
        "IPY_MODEL_d129d14d3a0f4409a7c0ff0821c07a39"
       ],
       "layout": "IPY_MODEL_84686598ad7f452da2c06b88c250109e",
       "tabbable": null,
       "tooltip": null
      }
     },
     "84686598ad7f452da2c06b88c250109e": {
      "model_module": "@jupyter-widgets/base",
      "model_module_version": "2.0.0",
      "model_name": "LayoutModel",
      "state": {
       "_model_module": "@jupyter-widgets/base",
       "_model_module_version": "2.0.0",
       "_model_name": "LayoutModel",
       "_view_count": null,
       "_view_module": "@jupyter-widgets/base",
       "_view_module_version": "2.0.0",
       "_view_name": "LayoutView",
       "align_content": null,
       "align_items": null,
       "align_self": null,
       "border_bottom": null,
       "border_left": null,
       "border_right": null,
       "border_top": null,
       "bottom": null,
       "display": null,
       "flex": null,
       "flex_flow": null,
       "grid_area": null,
       "grid_auto_columns": null,
       "grid_auto_flow": null,
       "grid_auto_rows": null,
       "grid_column": null,
       "grid_gap": null,
       "grid_row": null,
       "grid_template_areas": null,
       "grid_template_columns": null,
       "grid_template_rows": null,
       "height": null,
       "justify_content": null,
       "justify_items": null,
       "left": null,
       "margin": null,
       "max_height": null,
       "max_width": null,
       "min_height": null,
       "min_width": null,
       "object_fit": null,
       "object_position": null,
       "order": null,
       "overflow": null,
       "padding": null,
       "right": null,
       "top": null,
       "visibility": null,
       "width": null
      }
     },
     "8e6ad673ddd04fa9b1bcec129114e57a": {
      "model_module": "@jupyter-widgets/controls",
      "model_module_version": "2.0.0",
      "model_name": "FloatProgressModel",
      "state": {
       "_dom_classes": [],
       "_model_module": "@jupyter-widgets/controls",
       "_model_module_version": "2.0.0",
       "_model_name": "FloatProgressModel",
       "_view_count": null,
       "_view_module": "@jupyter-widgets/controls",
       "_view_module_version": "2.0.0",
       "_view_name": "ProgressView",
       "bar_style": "success",
       "description": "",
       "description_allow_html": false,
       "layout": "IPY_MODEL_c46c08487e864c7fb56402f5f1cc2010",
       "max": 1.0,
       "min": 0.0,
       "orientation": "horizontal",
       "style": "IPY_MODEL_3d1f1a3bde3e4f45961cc8f6cada7d68",
       "tabbable": null,
       "tooltip": null,
       "value": 1.0
      }
     },
     "91dc4ec4f5504d8eb261c59a05456f4c": {
      "model_module": "@jupyter-widgets/base",
      "model_module_version": "2.0.0",
      "model_name": "LayoutModel",
      "state": {
       "_model_module": "@jupyter-widgets/base",
       "_model_module_version": "2.0.0",
       "_model_name": "LayoutModel",
       "_view_count": null,
       "_view_module": "@jupyter-widgets/base",
       "_view_module_version": "2.0.0",
       "_view_name": "LayoutView",
       "align_content": null,
       "align_items": null,
       "align_self": null,
       "border_bottom": null,
       "border_left": null,
       "border_right": null,
       "border_top": null,
       "bottom": null,
       "display": null,
       "flex": null,
       "flex_flow": null,
       "grid_area": null,
       "grid_auto_columns": null,
       "grid_auto_flow": null,
       "grid_auto_rows": null,
       "grid_column": null,
       "grid_gap": null,
       "grid_row": null,
       "grid_template_areas": null,
       "grid_template_columns": null,
       "grid_template_rows": null,
       "height": null,
       "justify_content": null,
       "justify_items": null,
       "left": null,
       "margin": null,
       "max_height": null,
       "max_width": null,
       "min_height": null,
       "min_width": null,
       "object_fit": null,
       "object_position": null,
       "order": null,
       "overflow": null,
       "padding": null,
       "right": null,
       "top": null,
       "visibility": null,
       "width": null
      }
     },
     "987e8b990f6b47b291ee57cf051034d5": {
      "model_module": "@jupyter-widgets/controls",
      "model_module_version": "2.0.0",
      "model_name": "ProgressStyleModel",
      "state": {
       "_model_module": "@jupyter-widgets/controls",
       "_model_module_version": "2.0.0",
       "_model_name": "ProgressStyleModel",
       "_view_count": null,
       "_view_module": "@jupyter-widgets/base",
       "_view_module_version": "2.0.0",
       "_view_name": "StyleView",
       "bar_color": null,
       "description_width": ""
      }
     },
     "a217a94a03c64506ac79498facc95b24": {
      "model_module": "@jupyter-widgets/base",
      "model_module_version": "2.0.0",
      "model_name": "LayoutModel",
      "state": {
       "_model_module": "@jupyter-widgets/base",
       "_model_module_version": "2.0.0",
       "_model_name": "LayoutModel",
       "_view_count": null,
       "_view_module": "@jupyter-widgets/base",
       "_view_module_version": "2.0.0",
       "_view_name": "LayoutView",
       "align_content": null,
       "align_items": null,
       "align_self": null,
       "border_bottom": null,
       "border_left": null,
       "border_right": null,
       "border_top": null,
       "bottom": null,
       "display": null,
       "flex": null,
       "flex_flow": null,
       "grid_area": null,
       "grid_auto_columns": null,
       "grid_auto_flow": null,
       "grid_auto_rows": null,
       "grid_column": null,
       "grid_gap": null,
       "grid_row": null,
       "grid_template_areas": null,
       "grid_template_columns": null,
       "grid_template_rows": null,
       "height": null,
       "justify_content": null,
       "justify_items": null,
       "left": null,
       "margin": null,
       "max_height": null,
       "max_width": null,
       "min_height": null,
       "min_width": null,
       "object_fit": null,
       "object_position": null,
       "order": null,
       "overflow": null,
       "padding": null,
       "right": null,
       "top": null,
       "visibility": null,
       "width": null
      }
     },
     "b567bbc74d32436bb29a225ee1d6b365": {
      "model_module": "@jupyter-widgets/controls",
      "model_module_version": "2.0.0",
      "model_name": "HTMLModel",
      "state": {
       "_dom_classes": [],
       "_model_module": "@jupyter-widgets/controls",
       "_model_module_version": "2.0.0",
       "_model_name": "HTMLModel",
       "_view_count": null,
       "_view_module": "@jupyter-widgets/controls",
       "_view_module_version": "2.0.0",
       "_view_name": "HTMLView",
       "description": "",
       "description_allow_html": false,
       "layout": "IPY_MODEL_1e2a0d4e3a214051b32b1f9acc3ec99e",
       "placeholder": "​",
       "style": "IPY_MODEL_c0004e3517a54f68af2fc73d5a238dcd",
       "tabbable": null,
       "tooltip": null,
       "value": "Mappings: "
      }
     },
     "c0004e3517a54f68af2fc73d5a238dcd": {
      "model_module": "@jupyter-widgets/controls",
      "model_module_version": "2.0.0",
      "model_name": "HTMLStyleModel",
      "state": {
       "_model_module": "@jupyter-widgets/controls",
       "_model_module_version": "2.0.0",
       "_model_name": "HTMLStyleModel",
       "_view_count": null,
       "_view_module": "@jupyter-widgets/base",
       "_view_module_version": "2.0.0",
       "_view_name": "StyleView",
       "background": null,
       "description_width": "",
       "font_size": null,
       "text_color": null
      }
     },
     "c46c08487e864c7fb56402f5f1cc2010": {
      "model_module": "@jupyter-widgets/base",
      "model_module_version": "2.0.0",
      "model_name": "LayoutModel",
      "state": {
       "_model_module": "@jupyter-widgets/base",
       "_model_module_version": "2.0.0",
       "_model_name": "LayoutModel",
       "_view_count": null,
       "_view_module": "@jupyter-widgets/base",
       "_view_module_version": "2.0.0",
       "_view_name": "LayoutView",
       "align_content": null,
       "align_items": null,
       "align_self": null,
       "border_bottom": null,
       "border_left": null,
       "border_right": null,
       "border_top": null,
       "bottom": null,
       "display": null,
       "flex": null,
       "flex_flow": null,
       "grid_area": null,
       "grid_auto_columns": null,
       "grid_auto_flow": null,
       "grid_auto_rows": null,
       "grid_column": null,
       "grid_gap": null,
       "grid_row": null,
       "grid_template_areas": null,
       "grid_template_columns": null,
       "grid_template_rows": null,
       "height": null,
       "justify_content": null,
       "justify_items": null,
       "left": null,
       "margin": null,
       "max_height": null,
       "max_width": null,
       "min_height": null,
       "min_width": null,
       "object_fit": null,
       "object_position": null,
       "order": null,
       "overflow": null,
       "padding": null,
       "right": null,
       "top": null,
       "visibility": null,
       "width": "20px"
      }
     },
     "c7b66472cfbc4055815feac04937c708": {
      "model_module": "@jupyter-widgets/base",
      "model_module_version": "2.0.0",
      "model_name": "LayoutModel",
      "state": {
       "_model_module": "@jupyter-widgets/base",
       "_model_module_version": "2.0.0",
       "_model_name": "LayoutModel",
       "_view_count": null,
       "_view_module": "@jupyter-widgets/base",
       "_view_module_version": "2.0.0",
       "_view_name": "LayoutView",
       "align_content": null,
       "align_items": null,
       "align_self": null,
       "border_bottom": null,
       "border_left": null,
       "border_right": null,
       "border_top": null,
       "bottom": null,
       "display": null,
       "flex": null,
       "flex_flow": null,
       "grid_area": null,
       "grid_auto_columns": null,
       "grid_auto_flow": null,
       "grid_auto_rows": null,
       "grid_column": null,
       "grid_gap": null,
       "grid_row": null,
       "grid_template_areas": null,
       "grid_template_columns": null,
       "grid_template_rows": null,
       "height": null,
       "justify_content": null,
       "justify_items": null,
       "left": null,
       "margin": null,
       "max_height": null,
       "max_width": null,
       "min_height": null,
       "min_width": null,
       "object_fit": null,
       "object_position": null,
       "order": null,
       "overflow": null,
       "padding": null,
       "right": null,
       "top": null,
       "visibility": null,
       "width": null
      }
     },
     "d129d14d3a0f4409a7c0ff0821c07a39": {
      "model_module": "@jupyter-widgets/controls",
      "model_module_version": "2.0.0",
      "model_name": "HTMLModel",
      "state": {
       "_dom_classes": [],
       "_model_module": "@jupyter-widgets/controls",
       "_model_module_version": "2.0.0",
       "_model_name": "HTMLModel",
       "_view_count": null,
       "_view_module": "@jupyter-widgets/controls",
       "_view_module_version": "2.0.0",
       "_view_name": "HTMLView",
       "description": "",
       "description_allow_html": false,
       "layout": "IPY_MODEL_a217a94a03c64506ac79498facc95b24",
       "placeholder": "​",
       "style": "IPY_MODEL_22299cfa3b5c4e5cbd23eef385f563c7",
       "tabbable": null,
       "tooltip": null,
       "value": " 1/? [00:00&lt;00:00, 134.42it/s]"
      }
     },
     "d1af7606e7be4c4d95192cc351750681": {
      "model_module": "@jupyter-widgets/base",
      "model_module_version": "2.0.0",
      "model_name": "LayoutModel",
      "state": {
       "_model_module": "@jupyter-widgets/base",
       "_model_module_version": "2.0.0",
       "_model_name": "LayoutModel",
       "_view_count": null,
       "_view_module": "@jupyter-widgets/base",
       "_view_module_version": "2.0.0",
       "_view_name": "LayoutView",
       "align_content": null,
       "align_items": null,
       "align_self": null,
       "border_bottom": null,
       "border_left": null,
       "border_right": null,
       "border_top": null,
       "bottom": null,
       "display": null,
       "flex": null,
       "flex_flow": null,
       "grid_area": null,
       "grid_auto_columns": null,
       "grid_auto_flow": null,
       "grid_auto_rows": null,
       "grid_column": null,
       "grid_gap": null,
       "grid_row": null,
       "grid_template_areas": null,
       "grid_template_columns": null,
       "grid_template_rows": null,
       "height": null,
       "justify_content": null,
       "justify_items": null,
       "left": null,
       "margin": null,
       "max_height": null,
       "max_width": null,
       "min_height": null,
       "min_width": null,
       "object_fit": null,
       "object_position": null,
       "order": null,
       "overflow": null,
       "padding": null,
       "right": null,
       "top": null,
       "visibility": null,
       "width": null
      }
     },
     "d2c87525f81a41779edf29a518df7086": {
      "model_module": "@jupyter-widgets/controls",
      "model_module_version": "2.0.0",
      "model_name": "HTMLStyleModel",
      "state": {
       "_model_module": "@jupyter-widgets/controls",
       "_model_module_version": "2.0.0",
       "_model_name": "HTMLStyleModel",
       "_view_count": null,
       "_view_module": "@jupyter-widgets/base",
       "_view_module_version": "2.0.0",
       "_view_name": "StyleView",
       "background": null,
       "description_width": "",
       "font_size": null,
       "text_color": null
      }
     },
     "d9d29c5718844e7c83d6d78865d36d60": {
      "model_module": "@jupyter-widgets/controls",
      "model_module_version": "2.0.0",
      "model_name": "ProgressStyleModel",
      "state": {
       "_model_module": "@jupyter-widgets/controls",
       "_model_module_version": "2.0.0",
       "_model_name": "ProgressStyleModel",
       "_view_count": null,
       "_view_module": "@jupyter-widgets/base",
       "_view_module_version": "2.0.0",
       "_view_name": "StyleView",
       "bar_color": null,
       "description_width": ""
      }
     },
     "dd8089d011e641b6b10a97db3cd261d5": {
      "model_module": "@jupyter-widgets/controls",
      "model_module_version": "2.0.0",
      "model_name": "HTMLModel",
      "state": {
       "_dom_classes": [],
       "_model_module": "@jupyter-widgets/controls",
       "_model_module_version": "2.0.0",
       "_model_name": "HTMLModel",
       "_view_count": null,
       "_view_module": "@jupyter-widgets/controls",
       "_view_module_version": "2.0.0",
       "_view_name": "HTMLView",
       "description": "",
       "description_allow_html": false,
       "layout": "IPY_MODEL_91dc4ec4f5504d8eb261c59a05456f4c",
       "placeholder": "​",
       "style": "IPY_MODEL_d2c87525f81a41779edf29a518df7086",
       "tabbable": null,
       "tooltip": null,
       "value": "Mappings: "
      }
     },
     "ffc8cefbd90e49b9b93d79fe28e9483f": {
      "model_module": "@jupyter-widgets/controls",
      "model_module_version": "2.0.0",
      "model_name": "HTMLModel",
      "state": {
       "_dom_classes": [],
       "_model_module": "@jupyter-widgets/controls",
       "_model_module_version": "2.0.0",
       "_model_name": "HTMLModel",
       "_view_count": null,
       "_view_module": "@jupyter-widgets/controls",
       "_view_module_version": "2.0.0",
       "_view_name": "HTMLView",
       "description": "",
       "description_allow_html": false,
       "layout": "IPY_MODEL_c7b66472cfbc4055815feac04937c708",
       "placeholder": "​",
       "style": "IPY_MODEL_057a6e28d12e4da09f5feff90500f439",
       "tabbable": null,
       "tooltip": null,
       "value": " 1/? [00:00&lt;00:00, 124.50it/s]"
      }
     }
    },
    "version_major": 2,
    "version_minor": 0
   }
  }
 },
 "nbformat": 4,
 "nbformat_minor": 5
}