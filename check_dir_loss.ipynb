{
 "cells": [
  {
   "cell_type": "code",
   "execution_count": null,
   "id": "a0300352-8811-4bf7-bcc5-8ef6bee37b89",
   "metadata": {},
   "outputs": [],
   "source": [
    "import click\n",
    "import numpy as np\n",
    "import matplotlib.pyplot as plt\n",
    "import seaborn as sns\n",
    "from glob import glob\n",
    "import pandas as pd\n",
    "import os\n",
    "import shutil\n",
    "import joblib\n",
    "import json"
   ]
  },
  {
   "cell_type": "code",
   "execution_count": null,
   "id": "0b10d402-5843-440f-ae9b-a3988d3216d0",
   "metadata": {},
   "outputs": [],
   "source": [
    "def main(path):\n",
    "    splitsort = []\n",
    "    smaller = []\n",
    "    for i in glob(os.path.join(path, '*log.csv')):\n",
    "        splitname = os.path.basename(i).split('_')\n",
    "        if len(splitname)==3:\n",
    "            splitsort.append((int(splitname[0]),i))\n",
    "        else:\n",
    "            smaller.append(i)\n",
    "    \n",
    "    if len(splitsort)!=0:\n",
    "        \n",
    "        dirs = list(np.array(sorted(splitsort))[:,1]) + smaller\n",
    "    else:\n",
    "        dirs = smaller\n",
    "    loss = []\n",
    "    for i in dirs:\n",
    "        # print(f\"Processing file: {i}\")\n",
    "        # print(i)\n",
    "        loss.append(split(i)[:, 1])  # Get only the loss values (assumed to be in the second column)\n",
    "    plt.plot(np.hstack(loss))\n",
    "    plt.xlabel(\"Iteration\")\n",
    "    plt.ylabel(\"Loss\")\n",
    "    plt.title(\"Loss Curve\")\n",
    "    # plt.show()\n",
    "    return len(np.hstack(loss))\n",
    "\n",
    "def split(path):\n",
    "    \"\"\"Helper function to read CSV file and extract required columns.\"\"\"\n",
    "    with open(path, 'r') as f:\n",
    "        save = pd.read_csv(path)[['Iteration','Cost']].dropna()\n",
    "    return save.values"
   ]
  },
  {
   "cell_type": "code",
   "execution_count": null,
   "id": "b9896803-fe06-4860-8188-18ff04972d1c",
   "metadata": {},
   "outputs": [],
   "source": [
    "# for i in glob('BSE-calc-test/16qubit/*/*results.json'):\n",
    "#     with open(i,'r') as f:\n",
    "#         topresult = json.load(f)\n",
    "#     finpath = os.path.join(os.path.dirname(os.path.dirname(i)),'finished',os.path.basename(os.path.dirname(i)),os.path.basename(os.path.dirname(i))+'_results.json')\n",
    "#     if os.path.exists(finpath):\n",
    "#         with open(finpath,'r') as g:\n",
    "#             finishedresult=json.load(g)\n",
    "#         print(topresult['R2_train'],finishedresult['R2_train'])"
   ]
  },
  {
   "cell_type": "code",
   "execution_count": null,
   "id": "3422d208-8afc-441f-95bc-070cd6e3f865",
   "metadata": {},
   "outputs": [],
   "source": [
    "for i in glob('BSE-calc-test/5qubit/*/*results.json'):\n",
    "# for i in glob('function-calc-test/sixteenqubit_test/quad16qubit//*/model_log.csv'):\n",
    "    iters = main(os.path.dirname(i))\n",
    "    if iters!=1000:\n",
    "        print(i,iters)\n",
    "        plt.show()\n",
    "    # print(iters)"
   ]
  },
  {
   "cell_type": "code",
   "execution_count": null,
   "id": "e00b6d20-d7ea-49d0-af29-d0ba3e603ef8",
   "metadata": {},
   "outputs": [],
   "source": [
    "glob('BSE-calc-test/5qubit/*/*model_log.csv')"
   ]
  },
  {
   "cell_type": "code",
   "execution_count": null,
   "id": "32aae4b5-e7fa-4bf3-b159-c2a53df229cf",
   "metadata": {},
   "outputs": [],
   "source": [
    "stacked_log=[]\n",
    "for idx,i in enumerate(glob('BSE-calc-test/5qubit/*/model_log.csv')):\n",
    "# for idx,i in enumerate(sorted(glob('function-calc-test/fivequbit_tests/sin5qubit/*/model_log.csv'))):\n",
    "# for i in glob('function-calc-test/sixteenqubit_test/lin16qubit/*/model_log.csv'):    \n",
    "    df=pd.read_csv(i)[['Iteration','Cost']].dropna()\n",
    "    if df.shape[0]!=1000:\n",
    "        print(i,idx,df.shape[0])\n",
    "        stacked_log.append(df)    \n",
    "        sns.lineplot(data=df,x='Iteration',y='Cost')\n",
    "# plt.xlim(0,1000)\n",
    "plt.show()\n",
    "# for i in glob('BSE_RUD_AL_test/16qubit/5_RUD/*/model_log.csv'):\n",
    "#     df=pd.read_csv(i)[['Iteration','Cost']].dropna()\n",
    "#     stacked_log.append(df)"
   ]
  },
  {
   "cell_type": "code",
   "execution_count": null,
   "id": "ac14c39a-097e-4d40-8e43-c529ca4710db",
   "metadata": {},
   "outputs": [],
   "source": [
    "sns.lineplot(data=pd.concat(stacked_log),x='Iteration',y='Cost')\n",
    "plt.xlim(0,1000)"
   ]
  },
  {
   "cell_type": "code",
   "execution_count": null,
   "id": "d6c40e50-b293-4062-98d7-2530b64fa16d",
   "metadata": {},
   "outputs": [],
   "source": [
    "def main(path):\n",
    "\n",
    "    with open(path,'r') as f:\n",
    "        filename=f.readlines()\n",
    "    \n",
    "    save=[]\n",
    "    for i in filename:\n",
    "        if ':' in i:\n",
    "            splitf=i.split(',')\n",
    "            save.append((splitf[1],splitf[2]))\n",
    "    \n",
    "    save=np.array(save).astype(float)\n",
    "    \n",
    "    plt.plot(save[:,0],save[:,1])\n",
    "    plt.show()\n"
   ]
  },
  {
   "cell_type": "code",
   "execution_count": null,
   "id": "83d7272b-647a-4abb-b0eb-b8a27eadaddb",
   "metadata": {},
   "outputs": [],
   "source": []
  }
 ],
 "metadata": {
  "kernelspec": {
   "display_name": "Python 3 (ipykernel)",
   "language": "python",
   "name": "python3"
  },
  "language_info": {
   "codemirror_mode": {
    "name": "ipython",
    "version": 3
   },
   "file_extension": ".py",
   "mimetype": "text/x-python",
   "name": "python",
   "nbconvert_exporter": "python",
   "pygments_lexer": "ipython3",
   "version": "3.12.4"
  }
 },
 "nbformat": 4,
 "nbformat_minor": 5
}
