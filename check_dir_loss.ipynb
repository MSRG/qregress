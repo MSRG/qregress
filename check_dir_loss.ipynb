{
 "cells": [
  {
   "cell_type": "code",
   "execution_count": null,
   "id": "a0300352-8811-4bf7-bcc5-8ef6bee37b89",
   "metadata": {},
   "outputs": [],
   "source": [
    "import click\n",
    "import numpy as np\n",
    "import matplotlib.pyplot as plt\n",
    "import seaborn as sns\n",
    "from glob import glob\n",
    "import pandas as pd\n",
    "import os\n",
    "import shutil"
   ]
  },
  {
   "cell_type": "markdown",
   "id": "c13c1da4-0b8f-495e-b775-a3a64742d457",
   "metadata": {},
   "source": [
    "Check the loss in a full directory"
   ]
  },
  {
   "cell_type": "code",
   "execution_count": null,
   "id": "32aae4b5-e7fa-4bf3-b159-c2a53df229cf",
   "metadata": {},
   "outputs": [],
   "source": [
    "stacked_log=[]\n",
    "# for i in glob('BSE-calc-test/5qubit/*/model_log.csv'):\n",
    "# for i in glob('BSE-calc-test/16qubit/finished/*/model_log.csv'):\n",
    "#     df=pd.read_csv(i)[['Iteration','Cost']].dropna()\n",
    "#     if (df['Iteration']==999).any() :\n",
    "#         # print(i)\n",
    "#         stacked_log.append(df)\n",
    "        \n",
    "# for i in sorted(glob('./function-calc-test/5RUD_5AL/*/*/*/model_log.csv')):\n",
    "for i in glob('BSE-calc-test/16qubit/finished/*/model_log.csv'):\n",
    "    \n",
    "    df=pd.read_csv(i)[['Iteration','Cost']].dropna()\n",
    "    \n",
    "    stacked_log.append(df)    \n",
    "    sns.lineplot(data=df,x='Iteration',y='Cost')\n",
    "plt.xlim(0,1000)\n",
    "plt.show()\n",
    "# for i in glob('BSE_RUD_AL_test/16qubit/5_RUD/*/model_log.csv'):\n",
    "#     df=pd.read_csv(i)[['Iteration','Cost']].dropna()\n",
    "#     stacked_log.append(df)"
   ]
  },
  {
   "cell_type": "code",
   "execution_count": null,
   "id": "ac14c39a-097e-4d40-8e43-c529ca4710db",
   "metadata": {},
   "outputs": [],
   "source": [
    "sns.lineplot(data=pd.concat(stacked_log),x='Iteration',y='Cost')\n",
    "plt.xlim(0,1000)"
   ]
  },
  {
   "cell_type": "code",
   "execution_count": null,
   "id": "d6c40e50-b293-4062-98d7-2530b64fa16d",
   "metadata": {},
   "outputs": [],
   "source": [
    "def main(path):\n",
    "\n",
    "    with open(path,'r') as f:\n",
    "        filename=f.readlines()\n",
    "    \n",
    "    save=[]\n",
    "    for i in filename:\n",
    "        if ':' in i:\n",
    "            splitf=i.split(',')\n",
    "            save.append((splitf[1],splitf[2]))\n",
    "    \n",
    "    save=np.array(save).astype(float)\n",
    "    \n",
    "    plt.plot(save[:,0],save[:,1])\n",
    "    plt.show()\n"
   ]
  },
  {
   "cell_type": "code",
   "execution_count": null,
   "id": "83d7272b-647a-4abb-b0eb-b8a27eadaddb",
   "metadata": {},
   "outputs": [],
   "source": []
  }
 ],
 "metadata": {
  "kernelspec": {
   "display_name": "Python 3 (ipykernel)",
   "language": "python",
   "name": "python3"
  },
  "language_info": {
   "codemirror_mode": {
    "name": "ipython",
    "version": 3
   },
   "file_extension": ".py",
   "mimetype": "text/x-python",
   "name": "python",
   "nbconvert_exporter": "python",
   "pygments_lexer": "ipython3",
   "version": "3.12.4"
  }
 },
 "nbformat": 4,
 "nbformat_minor": 5
}
