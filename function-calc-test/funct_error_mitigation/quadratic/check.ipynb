{
 "cells": [
  {
   "cell_type": "code",
   "execution_count": 1,
   "id": "c1227695-d0d7-49c1-812a-397434e5e4c1",
   "metadata": {},
   "outputs": [],
   "source": [
    "from glob import glob\n",
    "import numpy as np\n",
    "import matplotlib.pyplot as plt\n",
    "import seaborn as sns\n",
    "import pandas as pd\n",
    "import sys, joblib, json"
   ]
  },
  {
   "cell_type": "code",
   "execution_count": 8,
   "id": "7f0e5583-a71f-48f7-812c-d6e9d41dad49",
   "metadata": {},
   "outputs": [],
   "source": [
    "data = {}\n",
    "for i in glob('*/*results.json'):\n",
    "    with open(i) as f:\n",
    "       data[i.split('/')[0].replace('_',' ')]=json.load(f)\n",
    "\n",
    "# with open('state_vector/IQP_Full-Pauli-CRX/') as f:\n",
    "#    data['state_vector']=json.load(f)"
   ]
  },
  {
   "cell_type": "code",
   "execution_count": 9,
   "id": "febd4928-bb54-437e-a8e7-e87b262d02bf",
   "metadata": {},
   "outputs": [],
   "source": [
    "data_df = pd.DataFrame.from_dict(data).T.reset_index().melt(id_vars=['index'], value_vars=['R2_train','R2_test'])"
   ]
  },
  {
   "cell_type": "code",
   "execution_count": 10,
   "id": "d6a45783-7721-4cdb-933e-526e8b2b8fa1",
   "metadata": {},
   "outputs": [
    {
     "data": {
      "text/html": [
       "<div>\n",
       "<style scoped>\n",
       "    .dataframe tbody tr th:only-of-type {\n",
       "        vertical-align: middle;\n",
       "    }\n",
       "\n",
       "    .dataframe tbody tr th {\n",
       "        vertical-align: top;\n",
       "    }\n",
       "\n",
       "    .dataframe thead th {\n",
       "        text-align: right;\n",
       "    }\n",
       "</style>\n",
       "<table border=\"1\" class=\"dataframe\">\n",
       "  <thead>\n",
       "    <tr style=\"text-align: right;\">\n",
       "      <th></th>\n",
       "      <th>index</th>\n",
       "      <th>variable</th>\n",
       "      <th>value</th>\n",
       "    </tr>\n",
       "  </thead>\n",
       "  <tbody>\n",
       "    <tr>\n",
       "      <th>0</th>\n",
       "      <td>TREX</td>\n",
       "      <td>R2_train</td>\n",
       "      <td>-0.18237</td>\n",
       "    </tr>\n",
       "    <tr>\n",
       "      <th>2</th>\n",
       "      <td>without</td>\n",
       "      <td>R2_train</td>\n",
       "      <td>-0.180711</td>\n",
       "    </tr>\n",
       "    <tr>\n",
       "      <th>6</th>\n",
       "      <td>without</td>\n",
       "      <td>R2_test</td>\n",
       "      <td>-0.008183</td>\n",
       "    </tr>\n",
       "    <tr>\n",
       "      <th>4</th>\n",
       "      <td>TREX</td>\n",
       "      <td>R2_test</td>\n",
       "      <td>0.026692</td>\n",
       "    </tr>\n",
       "    <tr>\n",
       "      <th>3</th>\n",
       "      <td>state vector</td>\n",
       "      <td>R2_train</td>\n",
       "      <td>0.264522</td>\n",
       "    </tr>\n",
       "    <tr>\n",
       "      <th>7</th>\n",
       "      <td>state vector</td>\n",
       "      <td>R2_test</td>\n",
       "      <td>0.364323</td>\n",
       "    </tr>\n",
       "    <tr>\n",
       "      <th>5</th>\n",
       "      <td>AL5 RUD1</td>\n",
       "      <td>R2_test</td>\n",
       "      <td>0.715204</td>\n",
       "    </tr>\n",
       "    <tr>\n",
       "      <th>1</th>\n",
       "      <td>AL5 RUD1</td>\n",
       "      <td>R2_train</td>\n",
       "      <td>0.808629</td>\n",
       "    </tr>\n",
       "  </tbody>\n",
       "</table>\n",
       "</div>"
      ],
      "text/plain": [
       "          index  variable     value\n",
       "0          TREX  R2_train  -0.18237\n",
       "2       without  R2_train -0.180711\n",
       "6       without   R2_test -0.008183\n",
       "4          TREX   R2_test  0.026692\n",
       "3  state vector  R2_train  0.264522\n",
       "7  state vector   R2_test  0.364323\n",
       "5      AL5 RUD1   R2_test  0.715204\n",
       "1      AL5 RUD1  R2_train  0.808629"
      ]
     },
     "execution_count": 10,
     "metadata": {},
     "output_type": "execute_result"
    }
   ],
   "source": [
    "data_df.sort_values(by='value')"
   ]
  },
  {
   "cell_type": "code",
   "execution_count": 11,
   "id": "e9b8f726-230b-4976-9770-8b24f88b40a4",
   "metadata": {},
   "outputs": [
    {
     "data": {
      "text/plain": [
       "([0, 1, 2, 3],\n",
       " [Text(0, 0, 'TREX'),\n",
       "  Text(1, 0, 'AL5 RUD1'),\n",
       "  Text(2, 0, 'without'),\n",
       "  Text(3, 0, 'state vector')])"
      ]
     },
     "execution_count": 11,
     "metadata": {},
     "output_type": "execute_result"
    },
    {
     "data": {
      "image/png": "[encoded data removed]",
      "text/plain": [
       "<Figure size 640x480 with 1 Axes>"
      ]
     },
     "metadata": {},
     "output_type": "display_data"
    }
   ],
   "source": [
    "sns.barplot(data=data_df,x='index',y='value',hue='variable',palette=sns.color_palette('Paired',2))\n",
    "plt.ylim(-0.25,1)\n",
    "plt.xticks(rotation=45)"
   ]
  },
  {
   "cell_type": "code",
   "execution_count": null,
   "id": "adebe907-3854-4a9c-9b10-8da68c447c59",
   "metadata": {},
   "outputs": [],
   "source": []
  }
 ],
 "metadata": {
  "kernelspec": {
   "display_name": "Python 3 (ipykernel)",
   "language": "python",
   "name": "python3"
  },
  "language_info": {
   "codemirror_mode": {
    "name": "ipython",
    "version": 3
   },
   "file_extension": ".py",
   "mimetype": "text/x-python",
   "name": "python",
   "nbconvert_exporter": "python",
   "pygments_lexer": "ipython3",
   "version": "3.12.2"
  }
 },
 "nbformat": 4,
 "nbformat_minor": 5
}
