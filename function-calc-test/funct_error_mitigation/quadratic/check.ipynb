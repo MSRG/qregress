{
 "cells": [
  {
   "cell_type": "code",
   "execution_count": null,
   "id": "c1227695-d0d7-49c1-812a-397434e5e4c1",
   "metadata": {},
   "outputs": [],
   "source": [
    "from glob import glob\n",
    "import numpy as np\n",
    "import matplotlib.pyplot as plt\n",
    "import seaborn as sns\n",
    "import pandas as pd\n",
    "import sys, joblib, json, os"
   ]
  },
  {
   "cell_type": "code",
   "execution_count": null,
   "id": "7f0e5583-a71f-48f7-812c-d6e9d41dad49",
   "metadata": {},
   "outputs": [],
   "source": [
    "data = {}\n",
    "for i in glob('*/IQP_Full-Pauli-CRX/*results.json'):\n",
    "    with open(i) as f:\n",
    "       data[i.split('/')[0].replace('_',' ')]=json.load(f)\n",
    "\n",
    "# with open('state_vector/IQP_Full-Pauli-CRX/IQP_Full-Pauli-CRX_results.json') as f:\n",
    "#    data['state_vector']=json.load(f)"
   ]
  },
  {
   "cell_type": "code",
   "execution_count": null,
   "id": "febd4928-bb54-437e-a8e7-e87b262d02bf",
   "metadata": {},
   "outputs": [],
   "source": [
    "data_df = pd.DataFrame.from_dict(data).rename(columns={'without':'Unmitigated'}).T.reset_index().rename(columns={'R2_train':'Train','R2_test':'Test'}).melt(id_vars=['index'], value_vars=['Train','Test']).loc[[1,4,2,5,0,3]]"
   ]
  },
  {
   "cell_type": "code",
   "execution_count": null,
   "id": "28c5ab09-98e0-401d-b212-18ecf0c9d3f0",
   "metadata": {},
   "outputs": [],
   "source": [
    "# # Corrected code to avoid SettingWithCopyWarning\n",
    "# data_df.loc[data_df['index'].isin(['without', 'state vector']), 'index'] = (\n",
    "#     data_df.loc[data_df['index'].isin(['without', 'state vector']), 'index'].str.capitalize()\n",
    "# )\n"
   ]
  },
  {
   "cell_type": "code",
   "execution_count": null,
   "id": "a867f6c6-6cee-4f79-897e-19d9365385cc",
   "metadata": {},
   "outputs": [],
   "source": []
  },
  {
   "cell_type": "code",
   "execution_count": null,
   "id": "d6a45783-7721-4cdb-933e-526e8b2b8fa1",
   "metadata": {},
   "outputs": [],
   "source": [
    "data_df.sort_values(by='index')"
   ]
  },
  {
   "cell_type": "code",
   "execution_count": null,
   "id": "e9b8f726-230b-4976-9770-8b24f88b40a4",
   "metadata": {},
   "outputs": [],
   "source": [
    "sns.barplot(data=data_df.sort_values(by='index'),x='index',y='value',hue='variable',palette=sns.color_palette('Paired',2))\n",
    "plt.xticks(rotation=45)\n",
    "plt.ylim(0,1.05)\n",
    "# Add labels on top of the bars\n",
    "ax = plt.gca()  # Get current axes\n",
    "for bar in ax.patches:\n",
    "    # Get the height of the bar\n",
    "    height = bar.get_height()\n",
    "    if height > 0:  # Only label non-zero bars\n",
    "        # Add a text label just above the bar\n",
    "        ax.text(\n",
    "            bar.get_x() + bar.get_width() / 2,  # x-coordinate\n",
    "            height + 0.01,                     # y-coordinate slightly above the bar\n",
    "            f'{height:.2f}',                   # Label text (formatted to 2 decimals)\n",
    "            ha='center',                       # Center horizontally\n",
    "            va='bottom',                       # Align bottom\n",
    "            fontsize=10                        # Font size\n",
    "        )\n",
    "plt.legend(loc=3)\n",
    "plt.ylabel('R$^{2}$')\n",
    "plt.xlabel('')\n",
    "plt.title('IQP_Full-Pauli-CRX')\n",
    "plt.tight_layout()\n",
    "plt.savefig(os.path.join(os.path.expanduser('~'), 'qregress/images/Function_Fitting/quadratic_error_mitigation.png'),dpi=300,bbox_inches='tight')\n",
    "plt.show()"
   ]
  },
  {
   "cell_type": "code",
   "execution_count": null,
   "id": "adebe907-3854-4a9c-9b10-8da68c447c59",
   "metadata": {},
   "outputs": [],
   "source": []
  }
 ],
 "metadata": {
  "kernelspec": {
   "display_name": "Python 3 (ipykernel)",
   "language": "python",
   "name": "python3"
  },
  "language_info": {
   "codemirror_mode": {
    "name": "ipython",
    "version": 3
   },
   "file_extension": ".py",
   "mimetype": "text/x-python",
   "name": "python",
   "nbconvert_exporter": "python",
   "pygments_lexer": "ipython3",
   "version": "3.12.2"
  }
 },
 "nbformat": 4,
 "nbformat_minor": 5
}
