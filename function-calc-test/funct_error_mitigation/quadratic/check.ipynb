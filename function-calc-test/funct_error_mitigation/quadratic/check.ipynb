{
 "cells": [
  {
   "cell_type": "code",
   "execution_count": null,
   "id": "c1227695-d0d7-49c1-812a-397434e5e4c1",
   "metadata": {},
   "outputs": [],
   "source": [
    "from glob import glob\n",
    "import numpy as np\n",
    "import matplotlib.pyplot as plt\n",
    "import seaborn as sns\n",
    "import pandas as pd\n",
    "import sys, joblib, json"
   ]
  },
  {
   "cell_type": "code",
   "execution_count": null,
   "id": "7f0e5583-a71f-48f7-812c-d6e9d41dad49",
   "metadata": {},
   "outputs": [],
   "source": [
    "data = {}\n",
    "for i in glob('*/*results.json'):\n",
    "    with open(i) as f:\n",
    "       data[i.split('/')[0]]=json.load(f)\n",
    "\n",
    "# with open('state_vector/IQP_Full-Pauli-CRX/') as f:\n",
    "#    data['state_vector']=json.load(f)"
   ]
  },
  {
   "cell_type": "code",
   "execution_count": null,
   "id": "febd4928-bb54-437e-a8e7-e87b262d02bf",
   "metadata": {},
   "outputs": [],
   "source": [
    "data_df = pd.DataFrame.from_dict(data).T.reset_index().melt(id_vars=['index'], value_vars=['R2_train','R2_test'])"
   ]
  },
  {
   "cell_type": "code",
   "execution_count": null,
   "id": "d6a45783-7721-4cdb-933e-526e8b2b8fa1",
   "metadata": {},
   "outputs": [],
   "source": [
    "data_df.sort_values(by='value')"
   ]
  },
  {
   "cell_type": "code",
   "execution_count": null,
   "id": "e9b8f726-230b-4976-9770-8b24f88b40a4",
   "metadata": {},
   "outputs": [],
   "source": [
    "sns.barplot(data=data_df,x='index',y='value',hue='variable',palette=sns.color_palette('Paired',2))\n",
    "plt.ylim(-0.25,1)"
   ]
  },
  {
   "cell_type": "code",
   "execution_count": null,
   "id": "adebe907-3854-4a9c-9b10-8da68c447c59",
   "metadata": {},
   "outputs": [],
   "source": []
  }
 ],
 "metadata": {
  "kernelspec": {
   "display_name": "Python 3 (ipykernel)",
   "language": "python",
   "name": "python3"
  },
  "language_info": {
   "codemirror_mode": {
    "name": "ipython",
    "version": 3
   },
   "file_extension": ".py",
   "mimetype": "text/x-python",
   "name": "python",
   "nbconvert_exporter": "python",
   "pygments_lexer": "ipython3",
   "version": "3.12.4"
  }
 },
 "nbformat": 4,
 "nbformat_minor": 5
}
