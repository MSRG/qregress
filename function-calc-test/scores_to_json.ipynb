{
 "cells": [
  {
   "cell_type": "code",
   "execution_count": null,
   "metadata": {},
   "outputs": [],
   "source": [
    "import os\n",
    "import sys\n",
    "import seaborn as sns\n",
    "import matplotlib.pyplot as plt\n",
    "import pandas as pd\n",
    "import json\n",
    "from glob import glob\n",
    "from shutil import copytree, copy"
   ]
  },
  {
   "cell_type": "code",
   "execution_count": null,
   "metadata": {},
   "outputs": [],
   "source": [
    "def evaluate(path,title):\n",
    "    scores={}\n",
    "    for i in glob(f'{path}/*/*_results.json'):\n",
    "        with open(i,'r') as f:\n",
    "            scores[os.path.basename(os.path.dirname(i))]=json.load(f)\n",
    "    \n",
    "    R2df=pd.DataFrame.from_dict(scores).loc[['R2_train','R2_test']].astype(float).T\n",
    "    R2df['diff']=(R2df['R2_train']-R2df['R2_test']).abs()\n",
    "    meltR2=R2df.reset_index().melt(id_vars='index',value_vars=['R2_train','R2_test']).sort_values(by='value')\n",
    "    \n",
    "    topR2=R2df[(R2df['R2_test']>0.75)&(R2df['R2_train']>0.75)].sort_values(['R2_train','R2_test'], ascending=[False,False])\n",
    "    topmelt=topR2.reset_index().rename(columns={'R2_train':'Train','R2_test':'Test'}).melt(id_vars='index',value_vars=['Train','Test']).sort_values(by='value')\n",
    "    \n",
    "    ax=sns.barplot(data=topmelt,x='index',y='value',hue='variable',palette=sns.color_palette('Paired',2))\n",
    "    ax.tick_params(axis='x', labelrotation=90)\n",
    "    ax.set_ylabel(\"R$^{2}$\")\n",
    "    ax.set_xlabel('ENCODER_ANSATZ')\n",
    "    plt.title(title)\n",
    "    plt.ylim(0,1)\n",
    "    legend = plt.legend(loc=4, edgecolor=\"black\")\n",
    "    legend.get_frame().set_alpha(None)\n",
    "    legend.get_frame().set_facecolor((1, 1, 1,1))\n",
    "    plt.tight_layout()\n",
    "    plt.savefig(f\"{path}_metric.png\",dpi=300,bbox_inches='tight')\n",
    "    plt.show()\n",
    "    \n",
    "    \n",
    "    with open(f'{path}_scores.json', 'w') as fp:\n",
    "        json.dump(scores, fp)"
   ]
  },
  {
   "cell_type": "code",
   "execution_count": null,
   "metadata": {},
   "outputs": [],
   "source": [
    "evaluate('./lin5qubits',\"Linear Function + 5 qubits\")"
   ]
  },
  {
   "cell_type": "code",
   "execution_count": null,
   "metadata": {},
   "outputs": [],
   "source": [
    "evaluate('./lin16qubit',\"Linear Function + 16 qubits\")"
   ]
  },
  {
   "cell_type": "code",
   "execution_count": null,
   "metadata": {},
   "outputs": [],
   "source": [
    "evaluate('./sine5qubits',\"Sine Function + 5 qubits\")"
   ]
  },
  {
   "cell_type": "code",
   "execution_count": null,
   "metadata": {},
   "outputs": [],
   "source": [
    "evaluate('./sin16qubit',\"Sine Function + 16 qubits\")"
   ]
  },
  {
   "cell_type": "code",
   "execution_count": null,
   "metadata": {},
   "outputs": [],
   "source": [
    "evaluate('./quad5qubits',\"Quadratic Function + 5 qubits\")"
   ]
  },
  {
   "cell_type": "code",
   "execution_count": null,
   "metadata": {},
   "outputs": [],
   "source": [
    "evaluate('./quad16qubit',\"Quadratic Function + 16 qubits\")"
   ]
  },
  {
   "cell_type": "code",
   "execution_count": null,
   "metadata": {},
   "outputs": [],
   "source": [
    "def grab_indexes(fundir):\n",
    "    scores={}\n",
    "    for i in glob(f'{fundir}//*/*_results.json'):\n",
    "        with open(i,'r') as f:\n",
    "            scores[os.path.basename(os.path.dirname(i))]=json.load(f)\n",
    "    \n",
    "    R2df=pd.DataFrame.from_dict(scores).loc[['R2_train','R2_test']].astype(float).T\n",
    "    # R2df['diff']=(R2df['R2_train']-R2df['R2_test']).abs()\n",
    "    meltR2=R2df.reset_index().melt(id_vars='index',value_vars=['R2_train','R2_test']).sort_values(by='value')\n",
    "    \n",
    "    # Stats\n",
    "    mean=R2df.T.mean().sort_values()\n",
    "    median_idx=len(mean)//2\n",
    "    worst=list(mean.nsmallest(5).index)\n",
    "    best=list(mean.nlargest(5).index)\n",
    "    middle=list(mean.to_frame().iloc[median_idx-2:median_idx+3].index)\n",
    "\n",
    "    return worst+middle+best"
   ]
  },
  {
   "cell_type": "code",
   "execution_count": null,
   "metadata": {},
   "outputs": [],
   "source": [
    "dirs=['lin16qubit','sin16qubit','quad16qubit']\n",
    "params=['RUD','AL']\n",
    "depth=[3,5]"
   ]
  },
  {
   "cell_type": "code",
   "execution_count": null,
   "metadata": {},
   "outputs": [],
   "source": [
    "for ds in dirs:\n",
    "    for p in params:\n",
    "        for d in depth:\n",
    "            newdir=f\"{d}{p}_{ds}\"\n",
    "            if os.path.exists(newdir)==False:\n",
    "                os.mkdir(newdir)\n",
    "            \n",
    "            for i in glob(os.path.join(ds,'*')):\n",
    "                if os.path.isdir(i)==False and os.path.exists(os.path.join(newdir,'quantum'))==False:\n",
    "                    copy(i,newdir)\n",
    "                    copytree(os.path.join(ds,'quantum'),os.path.join(newdir,'quantum'))\n",
    "            # for i in grab_indexes(ds):\n",
    "            #     copytree(os.path.join(ds,i),os.path.join(newdir,i))\n",
    "            #     print(i)"
   ]
  },
  {
   "cell_type": "code",
   "execution_count": null,
   "metadata": {},
   "outputs": [],
   "source": []
  }
 ],
 "metadata": {
  "kernelspec": {
   "display_name": "Python 3 (ipykernel)",
   "language": "python",
   "name": "python3"
  },
  "language_info": {
   "codemirror_mode": {
    "name": "ipython",
    "version": 3
   },
   "file_extension": ".py",
   "mimetype": "text/x-python",
   "name": "python",
   "nbconvert_exporter": "python",
   "pygments_lexer": "ipython3",
   "version": "3.12.2"
  }
 },
 "nbformat": 4,
 "nbformat_minor": 4
}
