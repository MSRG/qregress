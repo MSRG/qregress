{
 "cells": [
  {
   "cell_type": "code",
   "execution_count": null,
   "metadata": {},
   "outputs": [],
   "source": [
    "import os\n",
    "import sys\n",
    "import seaborn as sns\n",
    "import matplotlib.pyplot as plt\n",
    "import pandas as pd\n",
    "import json\n",
    "from glob import glob"
   ]
  },
  {
   "cell_type": "code",
   "execution_count": null,
   "metadata": {},
   "outputs": [],
   "source": [
    "def evaluate(path,title):\n",
    "    scores={}\n",
    "    for i in glob(f'{path}/*/*_results.json'):\n",
    "        with open(i,'r') as f:\n",
    "            scores[os.path.basename(os.path.dirname(i))]=json.load(f)\n",
    "    \n",
    "    R2df=pd.DataFrame.from_dict(scores).loc[['R2_train','R2_test']].astype(float).T\n",
    "    R2df['diff']=(R2df['R2_train']-R2df['R2_test']).abs()\n",
    "    meltR2=R2df.reset_index().melt(id_vars='index',value_vars=['R2_train','R2_test']).sort_values(by='value')\n",
    "    \n",
    "    topR2=R2df[(R2df['R2_test']>0.75)&(R2df['R2_train']>0.75)].sort_values(['R2_train','R2_test'], ascending=[False,False])\n",
    "    topmelt=topR2.reset_index().rename(columns={'R2_train':'Train','R2_test':'Test'}).melt(id_vars='index',value_vars=['Train','Test']).sort_values(by='value')\n",
    "    \n",
    "    ax=sns.barplot(data=topmelt,x='index',y='value',hue='variable',palette=sns.color_palette('Paired',2))\n",
    "    ax.tick_params(axis='x', labelrotation=90)\n",
    "    ax.set_ylabel(\"R$^{2}$\")\n",
    "    ax.set_xlabel('ENCODER_ANSATZ')\n",
    "    plt.title(title)\n",
    "    plt.ylim(0,1)\n",
    "    legend = plt.legend(loc=4, edgecolor=\"black\")\n",
    "    legend.get_frame().set_alpha(None)\n",
    "    legend.get_frame().set_facecolor((1, 1, 1,1))\n",
    "    plt.tight_layout()\n",
    "    plt.savefig(f\"{path}_metric.png\",dpi=300,bbox_inches='tight')\n",
    "    plt.show()\n",
    "    \n",
    "    \n",
    "    with open(f'{path}_scores.json', 'w') as fp:\n",
    "        json.dump(scores, fp)"
   ]
  },
  {
   "cell_type": "code",
   "execution_count": null,
   "metadata": {},
   "outputs": [],
   "source": [
    "evaluate('./lin5qubits',\"Linear Function + 5 qubits\")"
   ]
  },
  {
   "cell_type": "code",
   "execution_count": null,
   "metadata": {},
   "outputs": [],
   "source": [
    "evaluate('./sine5qubits',\"Sine Function + 5 qubits\")"
   ]
  },
  {
   "cell_type": "code",
   "execution_count": null,
   "metadata": {},
   "outputs": [],
   "source": [
    "evaluate('./quad5qubits',\"Quadratic Function + 5 qubits\")"
   ]
  },
  {
   "cell_type": "code",
   "execution_count": null,
   "metadata": {},
   "outputs": [],
   "source": []
  },
  {
   "cell_type": "code",
   "execution_count": null,
   "metadata": {},
   "outputs": [],
   "source": []
  },
  {
   "cell_type": "code",
   "execution_count": null,
   "metadata": {},
   "outputs": [],
   "source": []
  }
 ],
 "metadata": {
  "kernelspec": {
   "display_name": "Python 3 (ipykernel)",
   "language": "python",
   "name": "python3"
  },
  "language_info": {
   "codemirror_mode": {
    "name": "ipython",
    "version": 3
   },
   "file_extension": ".py",
   "mimetype": "text/x-python",
   "name": "python",
   "nbconvert_exporter": "python",
   "pygments_lexer": "ipython3",
   "version": "3.12.2"
  }
 },
 "nbformat": 4,
 "nbformat_minor": 4
}
