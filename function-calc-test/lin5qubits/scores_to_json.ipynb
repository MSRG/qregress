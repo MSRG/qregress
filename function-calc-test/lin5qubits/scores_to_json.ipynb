{
 "cells": [
  {
   "cell_type": "code",
   "execution_count": 10,
   "metadata": {},
   "outputs": [],
   "source": [
    "import os\n",
    "import sys\n",
    "import seaborn as sns\n",
    "import matplotlib.pyplot as plt\n",
    "import pandas as pd\n",
    "import json"
   ]
  },
  {
   "cell_type": "code",
   "execution_count": 2,
   "metadata": {},
   "outputs": [],
   "source": [
    "with open(\"scores.txt\",'r') as f:\n",
    "    datadct={}\n",
    "    for line in f.readlines():\n",
    "        name, dicts=line.split(\"Model scores\")\n",
    "        namec=name.split('/')[0]\n",
    "        dictc=dicts.replace(\"(\",\"\").replace(\",)\",\"\").replace(\"}.\",\"}\").strip(\":\").replace(\"{\",\"\").replace(\"}\",\"\").split(\",\")\n",
    "        data={i.split(\":\")[0].replace(\" \",\"\").strip(\"'\"):float(i.split(\":\")[1]) for i in dictc}\n",
    "        datadct[namec]=data"
   ]
  },
  {
   "cell_type": "code",
   "execution_count": 11,
   "metadata": {},
   "outputs": [],
   "source": [
    "with open('scores.json', 'w') as fp:\n",
    "    json.dump(datadct, fp)"
   ]
  },
  {
   "cell_type": "code",
   "execution_count": null,
   "metadata": {},
   "outputs": [],
   "source": []
  }
 ],
 "metadata": {
  "kernelspec": {
   "display_name": "Python 3 (ipykernel)",
   "language": "python",
   "name": "python3"
  },
  "language_info": {
   "codemirror_mode": {
    "name": "ipython",
    "version": 3
   },
   "file_extension": ".py",
   "mimetype": "text/x-python",
   "name": "python",
   "nbconvert_exporter": "python",
   "pygments_lexer": "ipython3",
   "version": "3.8.5"
  }
 },
 "nbformat": 4,
 "nbformat_minor": 4
}
