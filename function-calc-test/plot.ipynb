{
 "cells": [
  {
   "cell_type": "code",
   "execution_count": null,
   "id": "7cf20893-a4d9-4655-ac7f-f2f7302fc3f1",
   "metadata": {},
   "outputs": [],
   "source": [
    "import joblib\n",
    "import matplotlib.pyplot as plt\n",
    "import seaborn as sns\n",
    "import os\n",
    "from glob import glob\n",
    "import pandas as pd"
   ]
  },
  {
   "cell_type": "code",
   "execution_count": null,
   "id": "81948335-443a-4baa-a013-866bb57ef2b3",
   "metadata": {},
   "outputs": [],
   "source": [
    "\n",
    "sns.displot(pd.read_csv('../database/y.csv.gz', compression='gzip',index_col=0),kde=True)\n",
    "plt.xlabel('Bond Separation Energies (kcal/mol)')\n",
    "plt.title('Distribution of Bond Separation Energies')\n",
    "plt.tight_layout()\n",
    "plt.savefig('BSE_dist.png',dpi=300,bbox_inches='tight')"
   ]
  },
  {
   "cell_type": "code",
   "execution_count": null,
   "id": "fd396588-93d7-4287-bcd1-2ac45460cbce",
   "metadata": {},
   "outputs": [],
   "source": [
    "sine_train=joblib.load('./sine/sine_train.bin')\n",
    "sine_test=joblib.load('./sine/sine_test.bin')"
   ]
  },
  {
   "cell_type": "code",
   "execution_count": null,
   "id": "fed5ead4-7fc5-48d5-9e06-fc2731be5cd8",
   "metadata": {},
   "outputs": [],
   "source": [
    "linear_train=joblib.load('./linear/linear_train.bin')\n",
    "linear_test=joblib.load('./linear/linear_test.bin')\n"
   ]
  },
  {
   "cell_type": "code",
   "execution_count": null,
   "id": "e4b52c97-17b2-4eba-ac53-6e75a5a3693b",
   "metadata": {},
   "outputs": [],
   "source": [
    "quadratic_train=joblib.load('./quadratic/quadratic_train.bin')\n",
    "quadratic_test=joblib.load('./quadratic/quadratic_test.bin')\n"
   ]
  },
  {
   "cell_type": "code",
   "execution_count": null,
   "id": "3e5b17c4-124a-4baa-a5b1-5b353842a7fb",
   "metadata": {},
   "outputs": [],
   "source": [
    "palette=sns.color_palette('Paired',6)"
   ]
  },
  {
   "cell_type": "code",
   "execution_count": null,
   "id": "c82546c7-d23c-4278-807b-db8f1279e12b",
   "metadata": {},
   "outputs": [],
   "source": [
    "SMALL_SIZE = 8\n",
    "MEDIUM_SIZE = 16\n",
    "BIGGER_SIZE = 12\n",
    "\n",
    "plt.rc('font', size=MEDIUM_SIZE)          # controls default text sizes\n",
    "plt.rc('axes', titlesize=MEDIUM_SIZE)     # fontsize of the axes title\n",
    "plt.rc('axes', labelsize=MEDIUM_SIZE)    # fontsize of the x and y labels\n",
    "plt.rc('xtick', labelsize=MEDIUM_SIZE)    # fontsize of the tick labels\n",
    "plt.rc('ytick', labelsize=MEDIUM_SIZE)    # fontsize of the tick labels\n",
    "plt.rc('legend', fontsize=MEDIUM_SIZE)    # legend fontsize\n",
    "plt.rc('figure', titlesize=MEDIUM_SIZE)  # fontsize of the figure title"
   ]
  },
  {
   "cell_type": "code",
   "execution_count": null,
   "id": "8047c307-4c8a-4a90-905b-1c919b2a1e9d",
   "metadata": {},
   "outputs": [],
   "source": [
    "plt.scatter(sine_train['X'],sine_train['y'],label='Train',color=palette[0])\n",
    "plt.scatter(sine_test['X'],sine_test['y'],label='Test',color=palette[1],marker='^', edgecolors='black')\n",
    "plt.xlabel('x')\n",
    "plt.ylabel('f(x)')\n",
    "plt.legend(loc=4)\n",
    "plt.tight_layout()\n",
    "plt.savefig('./sine/train_vs_test.png',dpi=300,bbox_inches='tight')"
   ]
  },
  {
   "cell_type": "code",
   "execution_count": null,
   "id": "8005c440-f24d-4af7-b079-019a68a1663b",
   "metadata": {},
   "outputs": [],
   "source": [
    "plt.scatter(linear_train['X'],linear_train['y'],label='Train',color=palette[2])\n",
    "plt.scatter(linear_test['X'],linear_test['y'],label='Test',color=palette[3],marker='^', edgecolors='black')\n",
    "plt.xlabel('x')\n",
    "plt.ylabel('f(x)')\n",
    "plt.legend(loc=4)\n",
    "plt.tight_layout()\n",
    "plt.savefig('./linear/train_vs_test.png',dpi=300,bbox_inches='tight')"
   ]
  },
  {
   "cell_type": "code",
   "execution_count": null,
   "id": "27391560-4d62-44a8-86c3-035edaabd62e",
   "metadata": {},
   "outputs": [],
   "source": [
    "plt.scatter(quadratic_train['X'],quadratic_train['y'],label='Train',color=palette[4])\n",
    "plt.scatter(quadratic_test['X'],quadratic_test['y'],label='Test',color=palette[5],marker='^', edgecolors='black')\n",
    "plt.xlabel('x')\n",
    "plt.ylabel('f(x)')\n",
    "plt.legend(loc=4)\n",
    "plt.tight_layout()\n",
    "plt.savefig('./quadratic/train_vs_test.png',dpi=300,bbox_inches='tight')"
   ]
  },
  {
   "cell_type": "code",
   "execution_count": null,
   "id": "34b2f899-d66d-4572-9923-eba1c736929e",
   "metadata": {},
   "outputs": [],
   "source": []
  }
 ],
 "metadata": {
  "kernelspec": {
   "display_name": "Python 3 (ipykernel)",
   "language": "python",
   "name": "python3"
  },
  "language_info": {
   "codemirror_mode": {
    "name": "ipython",
    "version": 3
   },
   "file_extension": ".py",
   "mimetype": "text/x-python",
   "name": "python",
   "nbconvert_exporter": "python",
   "pygments_lexer": "ipython3",
   "version": "3.12.2"
  }
 },
 "nbformat": 4,
 "nbformat_minor": 5
}
