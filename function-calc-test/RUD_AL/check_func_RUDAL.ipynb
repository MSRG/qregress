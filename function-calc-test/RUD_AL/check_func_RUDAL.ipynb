{
 "cells": [
  {
   "cell_type": "code",
   "execution_count": null,
   "id": "465c637f-2236-47df-8789-7d94a5d8b1d1",
   "metadata": {},
   "outputs": [],
   "source": [
    "import joblib\n",
    "import click\n",
    "import json\n",
    "import time\n",
    "import os\n",
    "import itertools\n",
    "import collections.abc\n",
    "from shutil import copy,SameFileError\n",
    "from glob import glob\n",
    "\n",
    "import matplotlib.pyplot as plt\n",
    "import seaborn as sns\n",
    "import numpy as np\n",
    "import pandas as pd\n",
    "import pennylane as qml\n",
    "from sklearn.metrics import mean_squared_error\n",
    "from sklearn.model_selection import KFold\n",
    "# from qiskit_ibm_provider import IBMProvider\n",
    "\n",
    "from quantum.Quantum import QuantumRegressor\n",
    "from quantum.Evaluate import evaluate\n",
    "from settings import ANSATZ_LIST, ENCODER_LIST\n",
    "from sklearn.utils._testing import ignore_warnings\n",
    "from sklearn.exceptions import InconsistentVersionWarning"
   ]
  },
  {
   "cell_type": "code",
   "execution_count": null,
   "id": "ba60b493-52e3-4e27-a097-765ffd47d06e",
   "metadata": {},
   "outputs": [],
   "source": []
  },
  {
   "cell_type": "code",
   "execution_count": null,
   "id": "aa950d68-5c2b-419b-bd3a-bbdc121023f5",
   "metadata": {},
   "outputs": [],
   "source": []
  },
  {
   "cell_type": "code",
   "execution_count": null,
   "id": "105f791b-773c-4810-94d3-84217da0f5d3",
   "metadata": {},
   "outputs": [],
   "source": [
    "def data_gen(datadirs):\n",
    "    dfs=[]\n",
    "    for i in datadirs:\n",
    "        with open(i,'r') as g:\n",
    "            data = json.load(g)\n",
    "        df = pd.DataFrame.from_dict(data)\n",
    "        name = os.path.basename(os.path.dirname(os.path.dirname(i)))\n",
    "        df['pairs']=os.path.basename(os.path.dirname(i))\n",
    "        if \"RUD\"  in name:\n",
    "            df['RUD']=int(name.split('_')[0])\n",
    "            df['AL']=1\n",
    "            # df['RUD'] = \n",
    "        elif \"AL\" in name:\n",
    "            df['RUD']=1\n",
    "            df['AL']=int(name.split('_')[0])\n",
    "        else:\n",
    "            df['RUD']=1\n",
    "            df['AL']=1\n",
    "        dfs.append(df)\n",
    "        \n",
    "    stacked = pd.concat(dfs)\n",
    "    return stacked"
   ]
  },
  {
   "cell_type": "code",
   "execution_count": null,
   "id": "1e611a87-3980-4100-bf8d-234c11997322",
   "metadata": {},
   "outputs": [],
   "source": [
    "rud_al=glob(\"*_lin16qubit/*/*results.json\")\n",
    "\n",
    "base_names = []\n",
    "for i in glob('5_AL_lin16qubit/*/*results.json'):\n",
    "    name = os.path.basename(os.path.dirname(i))\n",
    "    base_names.append(f\"../sixteenqubit_test/lin16qubit/{name}/{name}_results.json\")\n",
    "\n",
    "lindf = data_gen(base_names+rud_al)"
   ]
  },
  {
   "cell_type": "code",
   "execution_count": null,
   "id": "8c4df0fc-a3d7-4689-96eb-1dbb5817d44b",
   "metadata": {},
   "outputs": [],
   "source": [
    "data = lindf.rename(columns={'R2_train':'Train','R2_test':'Test'}).melt(id_vars=['pairs','AL','RUD'], value_vars=['Train','Test'])\n",
    "\n",
    "# Get unique pairs\n",
    "unique_pairs = data[\"pairs\"].unique()\n",
    "\n",
    "\n",
    "\n",
    "for i, pair in enumerate(unique_pairs):  # Limit to 3 sets of 5 subplots\n",
    "    # Define subplots\n",
    "    fig, axes = plt.subplots(1, 2, figsize=(15, 5), sharey=True)\n",
    "    axes = axes.flatten()\n",
    "    subset = data[data[\"pairs\"] == pair]\n",
    "    \n",
    "    # Left subplot (x-axis: AL)\n",
    "    sns.lineplot(data=subset, x=\"AL\", y=\"value\", hue=\"variable\", ax=axes[0], marker=\"o\")\n",
    "    axes[0].set_title(f\"{pair} (AL)\")\n",
    "    axes[0].set_xlabel(\"AL\")\n",
    "    axes[0].set_ylim(0,1)\n",
    "    # Right subplot (x-axis: RUD)\n",
    "    \n",
    "    sns.lineplot(data=subset, x=\"RUD\", y=\"value\", hue=\"variable\", ax=axes[1], marker=\"o\")\n",
    "    axes[1].set_title(f\"{pair} (RUD)\")\n",
    "    axes[1].set_xlabel(\"RUD\")\n",
    "\n",
    "    plt.tight_layout()\n",
    "    plt.show()"
   ]
  },
  {
   "cell_type": "code",
   "execution_count": null,
   "id": "4f25c746-c549-42a9-bf0c-6afc324b6d0b",
   "metadata": {},
   "outputs": [],
   "source": [
    "unique_pairs.shape"
   ]
  },
  {
   "cell_type": "code",
   "execution_count": null,
   "id": "e8f35dda-a888-4d64-904a-3ce94bc2f0fc",
   "metadata": {},
   "outputs": [],
   "source": [
    "melteddf = lindf.rename(columns={'R2_train':'Train','R2_test':'Test'}).melt(id_vars=['AL','RUD'], value_vars=['Train','Test'])\n",
    "\n",
    "fig, (ax1,ax2) = plt.subplots(1,2,sharey=True,figsize=(10,5))\n",
    "sns.lineplot(melteddf[melteddf['RUD']==1],x='AL',y='value',hue='variable',ax=ax1,palette=sns.color_palette('Paired',2),marker='o', markeredgecolor='black')\n",
    "sns.lineplot(melteddf[melteddf['AL']==1],x='RUD',y='value',hue='variable',ax=ax2,palette=sns.color_palette('Paired',2),marker='o', markeredgecolor='black')\n",
    "ax1.set_ylim(0,1)\n",
    "ax1.set_ylabel(\"R$^{2}$\")\n",
    "ax1.set_xlim(0.75,5.25)\n",
    "ax2.set_xlim(0.75,5.25)\n",
    "ax1.set_xlabel(\"Ansatz Layers (AL)\")\n",
    "ax2.set_xlabel(\"Re-upload Depth (RUD)\")\n",
    "# Remove legends from individual plots\n",
    "ax1.get_legend().remove()\n",
    "ax2.get_legend().remove()\n",
    "\n",
    "# Global legend\n",
    "plt.legend(loc=\"upper right\", bbox_to_anchor=(1.5, 1.0))\n",
    "plt.tight_layout()"
   ]
  },
  {
   "cell_type": "code",
   "execution_count": null,
   "id": "ab54ba2d-d05a-412a-a814-e01c37dce25f",
   "metadata": {},
   "outputs": [],
   "source": [
    "z"
   ]
  }
 ],
 "metadata": {
  "kernelspec": {
   "display_name": "Python 3 (ipykernel)",
   "language": "python",
   "name": "python3"
  },
  "language_info": {
   "codemirror_mode": {
    "name": "ipython",
    "version": 3
   },
   "file_extension": ".py",
   "mimetype": "text/x-python",
   "name": "python",
   "nbconvert_exporter": "python",
   "pygments_lexer": "ipython3",
   "version": "3.12.2"
  }
 },
 "nbformat": 4,
 "nbformat_minor": 5
}
