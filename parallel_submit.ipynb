{
 "cells": [
  {
   "cell_type": "code",
   "execution_count": null,
   "id": "426ab896-3476-4635-8df6-2b82ae6a7e25",
   "metadata": {},
   "outputs": [],
   "source": [
    "from main import main\n",
    "from glob import glob\n",
    "import os\n"
   ]
  },
  {
   "cell_type": "code",
   "execution_count": null,
   "id": "026786d6-c985-4ace-82df-8e8429da2612",
   "metadata": {},
   "outputs": [],
   "source": [
    "# Global variables\n",
    "OPTIMIZER = None\n",
    "SHOTS = None\n",
    "X_DIM = None\n",
    "BACKEND = None\n",
    "DEVICE = None\n",
    "SCALE_FACTORS = None\n",
    "ANSATZ = None\n",
    "ENCODER = None\n",
    "POSTPROCESS = None\n",
    "ERROR_MITIGATION = None\n",
    "LAYERS = None\n",
    "PROVIDER = None\n",
    "TOKEN = None\n",
    "HYPERPARAMETERS = None\n",
    "RE_UPLOAD_DEPTH = None\n",
    "MAX_ITER = None\n",
    "TOLERANCE = None\n",
    "NUM_QUBITS = None"
   ]
  },
  {
   "cell_type": "code",
   "execution_count": null,
   "id": "7d77d1f0-8918-42e4-abe9-1c7199346b6f",
   "metadata": {},
   "outputs": [],
   "source": [
    "topdir='/home/grierjones/qregress'\n",
    "settings=sorted(glob('function-calc-test/lin5qubits/*/*json'))\n",
    "\n",
    "# settings=\"./function-calc-test/5qubits/A2-A2-CNOT_ESU2/A2-A2-CNOT_ESU2.json\"\n",
    "train_set=\"./function-calc-test/linear/linear_train.bin\"\n",
    "test_set=\"./function-calc-test/linear/linear_test.bin\"\n",
    "scaler=\"./function-calc-test/linear/linear_scaler.bin\""
   ]
  },
  {
   "cell_type": "code",
   "execution_count": null,
   "id": "ebfb7b67-f138-49f8-b6ac-05575fbc41da",
   "metadata": {},
   "outputs": [],
   "source": [
    "for i in settings:\n",
    "    # print(os.path.dirname(i),i)\n",
    "    namedir=os.path.dirname(i)\n",
    "    done=namedir+'.done'\n",
    "    if os.path.exists(done)==False:\n",
    "        print(done)\n",
    "        os.chdir(namedir)\n",
    "        main(i, train_set, test_set, scaler)\n",
    "        print(f'finished {namedir}')"
   ]
  },
  {
   "cell_type": "code",
   "execution_count": null,
   "id": "16dc695f-0aad-4bab-8cef-50de042e43be",
   "metadata": {},
   "outputs": [],
   "source": []
  },
  {
   "cell_type": "code",
   "execution_count": null,
   "id": "eae43a19-9dd1-4662-9b98-a39071c4bbff",
   "metadata": {},
   "outputs": [],
   "source": []
  }
 ],
 "metadata": {
  "kernelspec": {
   "display_name": "qchem",
   "language": "python",
   "name": "qchem"
  },
  "language_info": {
   "codemirror_mode": {
    "name": "ipython",
    "version": 3
   },
   "file_extension": ".py",
   "mimetype": "text/x-python",
   "name": "python",
   "nbconvert_exporter": "python",
   "pygments_lexer": "ipython3",
   "version": "3.9.0"
  }
 },
 "nbformat": 4,
 "nbformat_minor": 5
}
