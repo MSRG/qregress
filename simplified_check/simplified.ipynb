{
 "cells": [
  {
   "cell_type": "code",
   "execution_count": null,
   "id": "d5112808-c742-4cd2-b023-37076e3b7dda",
   "metadata": {},
   "outputs": [],
   "source": [
    "import joblib\n",
    "import click\n",
    "import json\n",
    "import time\n",
    "import os\n",
    "import itertools\n",
    "import collections.abc\n",
    "\n",
    "import matplotlib.pyplot as plt\n",
    "import numpy as np\n",
    "import pandas as pd\n",
    "import pennylane as qml\n",
    "from sklearn.metrics import mean_squared_error\n",
    "from sklearn.model_selection import KFold\n",
    "# from qiskit_ibm_provider import IBMProvider\n",
    "\n",
    "from quantum.Evaluate import evaluate\n",
    "from settings import ANSATZ_LIST, ENCODER_LIST\n",
    "from quantum.Quantum import QuantumRegressor\n",
    "\n",
    "os.environ[\"OMP_NUM_THREADS\"] = \"12\""
   ]
  },
  {
   "cell_type": "code",
   "execution_count": null,
   "id": "b7e0726a-d45d-46cb-a108-00f7ce428f31",
   "metadata": {},
   "outputs": [],
   "source": [
    "# Global variables\n",
    "OPTIMIZER = None\n",
    "SHOTS = None\n",
    "X_DIM = None\n",
    "BACKEND = None\n",
    "DEVICE = None\n",
    "SCALE_FACTORS = None\n",
    "ANSATZ = None\n",
    "ENCODER = None\n",
    "POSTPROCESS = None\n",
    "ERROR_MITIGATION = None\n",
    "LAYERS = None\n",
    "PROVIDER = None\n",
    "TOKEN = None\n",
    "HYPERPARAMETERS = None\n",
    "RE_UPLOAD_DEPTH = None\n",
    "MAX_ITER = None\n",
    "TOLERANCE = None\n",
    "NUM_QUBITS = None"
   ]
  },
  {
   "cell_type": "code",
   "execution_count": null,
   "id": "fa00ad10-c945-4325-97e2-9ae9241be350",
   "metadata": {},
   "outputs": [],
   "source": [
    "def parse_settings(settings_file):\n",
    "    with open(settings_file, 'r') as fp:\n",
    "        settings = json.load(fp)\n",
    "\n",
    "    global OPTIMIZER\n",
    "    OPTIMIZER = settings['OPTIMIZER']\n",
    "\n",
    "    global SHOTS\n",
    "    SHOTS = settings['SHOTS']\n",
    "\n",
    "    global BACKEND\n",
    "    BACKEND = settings['BACKEND']\n",
    "\n",
    "    global DEVICE\n",
    "    DEVICE = settings['DEVICE']\n",
    "\n",
    "    global SCALE_FACTORS\n",
    "    SCALE_FACTORS = settings['SCALE_FACTORS']\n",
    "\n",
    "    global POSTPROCESS\n",
    "    POSTPROCESS = settings['POSTPROCESS']\n",
    "\n",
    "    global ERROR_MITIGATION\n",
    "    ERROR_MITIGATION = settings['ERROR_MITIGATION']\n",
    "\n",
    "    global LAYERS\n",
    "    LAYERS = settings['LAYERS']\n",
    "\n",
    "    global HYPERPARAMETERS\n",
    "    HYPERPARAMETERS = settings['HYPERPARAMETERS']\n",
    "    # f was removed from HYPERPARAMETERS, this ensures old settings files can still run.\n",
    "    if 'f' in HYPERPARAMETERS.keys():\n",
    "        _ = HYPERPARAMETERS.pop('f', None)\n",
    "\n",
    "    global RE_UPLOAD_DEPTH\n",
    "    RE_UPLOAD_DEPTH = settings['RE-UPLOAD_DEPTH']\n",
    "\n",
    "    global MAX_ITER\n",
    "    MAX_ITER = settings['MAX_ITER']\n",
    "\n",
    "    global TOLERANCE\n",
    "    try:\n",
    "        TOLERANCE = settings['TOLERANCE']\n",
    "    except KeyError:\n",
    "        TOLERANCE = None\n",
    "\n",
    "    global NUM_QUBITS\n",
    "    try:\n",
    "        NUM_QUBITS = settings['NUM_QUBITS']\n",
    "    except KeyError:\n",
    "        NUM_QUBITS = None\n",
    "\n",
    "    # classes aren't JSON serializable, so we store the key in the settings file and access it here.\n",
    "    global ANSATZ\n",
    "    ANSATZ = ANSATZ_LIST[settings['ANSATZ']]\n",
    "\n",
    "    global ENCODER\n",
    "    ENCODER = ENCODER_LIST[settings['ENCODER']]\n",
    "    print(settings)"
   ]
  },
  {
   "cell_type": "code",
   "execution_count": null,
   "id": "ab98b271-af9f-46f1-b84b-bf2785334aa8",
   "metadata": {},
   "outputs": [],
   "source": [
    "def load_dataset(file):\n",
    "    print(f'Loading dataset from {file}... ')\n",
    "    data = joblib.load(file)\n",
    "    X = data['X']\n",
    "    y = data['y']\n",
    "\n",
    "    global X_DIM\n",
    "    _, X_DIM = X.shape\n",
    "    print(f'Successfully loaded {file} into X and y data. ')\n",
    "    return X, y"
   ]
  },
  {
   "cell_type": "code",
   "execution_count": null,
   "id": "8a06c366-5945-4009-bb08-fc7c647f89a2",
   "metadata": {},
   "outputs": [],
   "source": [
    "def create_kwargs():\n",
    "    #  First have to apply specific ansatz settings: setting number of layers and the number of wires based on features\n",
    "    ANSATZ.layers = LAYERS\n",
    "    ANSATZ.set_wires(range(X_DIM))\n",
    "\n",
    "    kwargs = {\n",
    "        'encoder': ENCODER,\n",
    "        'variational': ANSATZ,\n",
    "        'num_qubits': X_DIM,\n",
    "        'optimizer': OPTIMIZER,\n",
    "        # 'optimizer': 'L-BFGS-B',\n",
    "        'max_iterations': MAX_ITER,\n",
    "        'tol': TOLERANCE,\n",
    "        'device': DEVICE,\n",
    "        'backend': BACKEND,\n",
    "        'postprocess': POSTPROCESS,\n",
    "        'error_mitigation': ERROR_MITIGATION,\n",
    "        'provider': PROVIDER,\n",
    "        'token': TOKEN,\n",
    "        're_upload_depth': RE_UPLOAD_DEPTH,\n",
    "    }\n",
    "    return kwargs"
   ]
  },
  {
   "cell_type": "code",
   "execution_count": null,
   "id": "1d131df3-5497-4af5-aaf3-a34d094dbf87",
   "metadata": {},
   "outputs": [],
   "source": []
  },
  {
   "cell_type": "code",
   "execution_count": null,
   "id": "4448111f-96e3-4870-8af4-d040fd2cf54b",
   "metadata": {},
   "outputs": [],
   "source": [
    "settings=\"./IQP_Full-Pauli-CRZ/IQP_Full-Pauli-CRZ.json\"\n",
    "train_set=\"../function-calc-test/linear/linear_train.bin\"\n",
    "test_set=\"../function-calc-test/linear/linear_test.bin\"\n",
    "scaler=\"../function-calc-test/linear/linear_scaler.bin\""
   ]
  },
  {
   "cell_type": "code",
   "execution_count": null,
   "id": "8ed38a76-6541-4a89-bf8e-cf29642bbf5c",
   "metadata": {},
   "outputs": [],
   "source": [
    "X_train, y_train = load_dataset(train_set)\n",
    "parse_settings(settings)\n",
    "if DEVICE == 'qiskit.ibmq':\n",
    "    save_token(instance, token)\n",
    "\n",
    "global NUM_QUBITS\n",
    "global X_DIM\n",
    "if NUM_QUBITS is not None:\n",
    "    X_DIM = NUM_QUBITS\n",
    "elif X_DIM == 1:  # if X_DIM is None and num_qubits wasn't specified anywhere use a default value of 2.\n",
    "    NUM_QUBITS = 2\n",
    "    X_DIM = NUM_QUBITS\n",
    "\n",
    "kwargs = create_kwargs()\n",
    "title=False\n",
    "if title is None:\n",
    "    title = os.path.basename(settings)\n",
    "    title, _ = os.path.splitext(title)\n",
    "\n",
    "\n",
    "\n",
    "if test_set is not None:\n",
    "    X_test, y_test = load_dataset(test_set)\n",
    "else:\n",
    "    X_test, y_test = None, None\n",
    "\n",
    "scaler = joblib.load(scaler)"
   ]
  },
  {
   "cell_type": "code",
   "execution_count": null,
   "id": "aecf31d4-65bc-4fa0-8703-08b4782b9309",
   "metadata": {},
   "outputs": [],
   "source": []
  },
  {
   "cell_type": "code",
   "execution_count": null,
   "id": "809fc218-9d2f-4056-8679-d2914b57c1d3",
   "metadata": {},
   "outputs": [],
   "source": [
    "X_train.dtype,y_train.dtype"
   ]
  },
  {
   "cell_type": "code",
   "execution_count": null,
   "id": "2a27a571-606a-4889-99be-d737960dd253",
   "metadata": {},
   "outputs": [],
   "source": [
    "X_test.dtype,y_test.dtype"
   ]
  },
  {
   "cell_type": "code",
   "execution_count": null,
   "id": "3dafed2b-aa53-4836-b73d-dd8722208cff",
   "metadata": {},
   "outputs": [],
   "source": [
    "model = QuantumRegressor(**kwargs)\n",
    "model.fit(X_train, y_train)"
   ]
  },
  {
   "cell_type": "code",
   "execution_count": null,
   "id": "867da149-12fa-487d-87ac-d24d6885fdce",
   "metadata": {},
   "outputs": [],
   "source": [
    "plt.scatter(model.predict(X_train),y_train)\n",
    "plt.scatter(model.predict(X_test),y_test)\n",
    "plt.scatter(X_train,y_train)"
   ]
  },
  {
   "cell_type": "code",
   "execution_count": null,
   "id": "05ec2bb7-5c6a-42a3-aa0d-48927007a375",
   "metadata": {},
   "outputs": [],
   "source": []
  }
 ],
 "metadata": {
  "kernelspec": {
   "display_name": "Python 3 (ipykernel)",
   "language": "python",
   "name": "python3"
  },
  "language_info": {
   "codemirror_mode": {
    "name": "ipython",
    "version": 3
   },
   "file_extension": ".py",
   "mimetype": "text/x-python",
   "name": "python",
   "nbconvert_exporter": "python",
   "pygments_lexer": "ipython3",
   "version": "3.12.2"
  }
 },
 "nbformat": 4,
 "nbformat_minor": 5
}
