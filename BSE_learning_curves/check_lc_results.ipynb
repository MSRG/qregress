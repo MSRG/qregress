{
 "cells": [
  {
   "cell_type": "code",
   "execution_count": null,
   "id": "9a52a83f-2e87-42d0-9de7-4353f96b9640",
   "metadata": {},
   "outputs": [],
   "source": [
    "from glob import glob\n",
    "import matplotlib.pyplot as plt\n",
    "import numpy as np\n",
    "import seaborn as sns\n",
    "import os, sys, json, joblib\n",
    "import pandas as pd"
   ]
  },
  {
   "cell_type": "code",
   "execution_count": null,
   "id": "b55e7643-8c21-41fe-b2ec-9491fd49b70b",
   "metadata": {},
   "outputs": [],
   "source": [
    "def combinded(path):\n",
    "    splitsort = []\n",
    "    smaller = []\n",
    "    for i in glob(os.path.join(path, '*log.csv')):\n",
    "        splitname = os.path.basename(i).split('_')\n",
    "        if len(splitname)==3:\n",
    "            splitsort.append((int(splitname[0]),i))\n",
    "        else:\n",
    "            smaller.append(i)\n",
    "\n",
    "    loss = []\n",
    "    for i in list(np.array(sorted(splitsort))[:,1])+smaller:\n",
    "        print(f\"Processing file: {i}\")\n",
    "        loss.append(split(i)[:, 1])  # Get only the loss values (assumed to be in the second column)\n",
    "    plt.plot(np.hstack(loss))\n",
    "    plt.xlabel(\"Iteration\")\n",
    "    plt.ylabel(\"Loss\")\n",
    "    plt.title(\"Loss Curve\")\n",
    "    return plt\n",
    "    # plt.show()\n",
    "\n",
    "def split(path):\n",
    "    \"\"\"Helper function to read CSV file and extract required columns.\"\"\"\n",
    "    save = []\n",
    "    with open(path, 'r') as f:\n",
    "        for line in f:\n",
    "            if ':' in line:\n",
    "                split_line = line.strip().split(',')\n",
    "                # Assuming the structure of each line is: [timestamp, loss_value, ...]\n",
    "                save.append((float(split_line[1]), float(split_line[2])))\n",
    "    return np.array(save)"
   ]
  },
  {
   "cell_type": "code",
   "execution_count": null,
   "id": "c254c8d7-19cf-4e18-b4ab-6cf4701d203b",
   "metadata": {},
   "outputs": [],
   "source": [
    "# for i in sorted(glob('5/0.*/M-M-CZ_HWE-CNOT')):\n",
    "#     combinded(i).legend(title=i)\n",
    "#     plt.show()"
   ]
  },
  {
   "cell_type": "code",
   "execution_count": null,
   "id": "2f1711da-5640-40e1-bff1-33efab80e2f5",
   "metadata": {},
   "outputs": [],
   "source": [
    "results = {}\n",
    "for i in sorted(glob('5/*/M-M-CZ_HWE-CNOT/M-M-CZ_HWE-CNOT_results.json')):\n",
    "    ratio = os.path.basename(os.path.dirname(os.path.dirname(i)))\n",
    "    with open(i,'r') as f:\n",
    "        results[ratio]=json.load(f)\n",
    "        \n",
    "    results[ratio]['Train Size'] = joblib.load(glob(os.path.join(os.path.dirname(os.path.dirname(i)),'*Morgan_train.bin'))[0])['X'].shape[0]\n",
    "\n",
    "r_df = pd.DataFrame(results).drop(index=['MSE_train','MSE_test'])\n",
    "\n",
    "ax = sns.lineplot(data=r_df.T[['R2_train','R2_test']].reset_index().rename(columns={'R2_train':\"Train\",'R2_test':\"Test\"}).melt(id_vars=['index'], value_vars=['Train','Test']),x='index',y='value',hue='variable',style='variable',palette=sns.color_palette('Paired',2),markers=['>','<'])\n",
    "\n",
    "plt.ylim(-.2,1)\n",
    "# plt.gca().xaxis.set_major_formatter(mticker.PercentFormatter(xmax=100))  # Adjust xmax if needed\n",
    "ax.set_xticklabels([f\"{int(i*100)}%\" for i in np.array(r_df.columns,dtype=float)])\n",
    "plt.ylabel('R$^{2}$')\n",
    "plt.xlabel('Training Set (%)')\n",
    "plt.title('M-M-CZ_HWE-CNOT')\n",
    "plt.legend(loc=2)\n",
    "plt.savefig(f\"{os.path.expanduser('~')}/qregress/images/BSE/fivequbit/BSE_learningcurve.png\", bbox_inches='tight', pad_inches=0.1)\n",
    "plt.show()\n",
    "plt.show()"
   ]
  },
  {
   "cell_type": "code",
   "execution_count": null,
   "id": "d48935f0-3763-465b-8b23-6743cbed25d9",
   "metadata": {},
   "outputs": [],
   "source": [
    "\n",
    "results = {}\n",
    "for i in sorted(glob('16/*/A2_Hadamard/A2_Hadamard_results.json')):\n",
    "    print(i)\n",
    "    ratio = os.path.basename(os.path.dirname(os.path.dirname(i)))\n",
    "    with open(i,'r') as f:\n",
    "        results[ratio]=json.load(f)\n",
    "        \n",
    "    results[ratio]['Train Size'] = joblib.load(glob(os.path.join(os.path.dirname(os.path.dirname(i)),'*Morgan_train.bin'))[0])['X'].shape[0]\n",
    "\n",
    "r_df = pd.DataFrame(results).drop(index=['MSE_train','MSE_test'])\n",
    "\n",
    "\n",
    "ax = sns.lineplot(data=r_df.T[['R2_train','R2_test']].reset_index().rename(columns={'R2_train':\"Train\",'R2_test':\"Test\"}).melt(id_vars=['index'], value_vars=['Train','Test']),x='index',y='value',hue='variable',style='variable',palette=sns.color_palette('Paired',2),markers=['>','<'])\n",
    "\n",
    "plt.ylim(-0.2,1)\n",
    "# plt.gca().xaxis.set_major_formatter(mticker.PercentFormatter(xmax=100))  # Adjust xmax if needed\n",
    "ax.set_xticklabels([f\"{int(i*100)}%\" for i in np.array(r_df.columns,dtype=float)])\n",
    "plt.ylabel('R$^{2}$')\n",
    "plt.xlabel('Training Set (%)')\n",
    "plt.title('A2_Hadamard')\n",
    "plt.legend(loc=2)\n",
    "plt.savefig(f\"{os.path.expanduser('~')}/qregress/images/BSE/sixteenqubit/BSE_learningcurve.png\", bbox_inches='tight', pad_inches=0.1)\n",
    "plt.show()"
   ]
  },
  {
   "cell_type": "code",
   "execution_count": null,
   "id": "9a02db3a-0351-4896-b933-16c94181a375",
   "metadata": {},
   "outputs": [],
   "source": [
    "ax.get_xticklabels()"
   ]
  },
  {
   "cell_type": "code",
   "execution_count": null,
   "id": "bc1aa2c7-b8ff-4fd2-8d08-552f71be52d9",
   "metadata": {},
   "outputs": [],
   "source": []
  },
  {
   "cell_type": "code",
   "execution_count": null,
   "id": "41f53e43-da79-41ee-ac92-72ed31287e9e",
   "metadata": {},
   "outputs": [],
   "source": []
  }
 ],
 "metadata": {
  "kernelspec": {
   "display_name": "Python 3 (ipykernel)",
   "language": "python",
   "name": "python3"
  },
  "language_info": {
   "codemirror_mode": {
    "name": "ipython",
    "version": 3
   },
   "file_extension": ".py",
   "mimetype": "text/x-python",
   "name": "python",
   "nbconvert_exporter": "python",
   "pygments_lexer": "ipython3",
   "version": "3.12.2"
  }
 },
 "nbformat": 4,
 "nbformat_minor": 5
}
