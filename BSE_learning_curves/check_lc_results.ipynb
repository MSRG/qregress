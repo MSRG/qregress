{
 "cells": [
  {
   "cell_type": "code",
   "execution_count": 5,
   "id": "9a52a83f-2e87-42d0-9de7-4353f96b9640",
   "metadata": {},
   "outputs": [],
   "source": [
    "from glob import glob\n",
    "import matplotlib.pyplot as plt\n",
    "import numpy as np\n",
    "import seaborn as sns\n",
    "import os, sys, json\n",
    "import pandas as pd"
   ]
  },
  {
   "cell_type": "code",
   "execution_count": 13,
   "id": "2f1711da-5640-40e1-bff1-33efab80e2f5",
   "metadata": {},
   "outputs": [],
   "source": [
    "results = {}\n",
    "for i in sorted(glob('5/*/M-M-CZ_HWE-CNOT/M-M-CZ_HWE-CNOT_results.json')):\n",
    "    with open(i,'r') as f:\n",
    "        results[os.path.basename(os.path.dirname(os.path.dirname(i)))]=json.load(f)"
   ]
  },
  {
   "cell_type": "code",
   "execution_count": 17,
   "id": "d48935f0-3763-465b-8b23-6743cbed25d9",
   "metadata": {},
   "outputs": [],
   "source": [
    "r_df = pd.DataFrame(results).drop(index=['MSE_train','MSE_test'])"
   ]
  },
  {
   "cell_type": "code",
   "execution_count": 19,
   "id": "3c65ba2b-b36b-4375-9c85-0a69b469d20b",
   "metadata": {},
   "outputs": [
    {
     "name": "stdout",
     "output_type": "stream",
     "text": [
      "Help on function melt in module pandas.core.reshape.melt:\n",
      "\n",
      "melt(frame: 'DataFrame', id_vars=None, value_vars=None, var_name=None, value_name: 'Hashable' = 'value', col_level=None, ignore_index: 'bool' = True) -> 'DataFrame'\n",
      "    Unpivot a DataFrame from wide to long format, optionally leaving identifiers set.\n",
      "\n",
      "    This function is useful to massage a DataFrame into a format where one\n",
      "    or more columns are identifier variables (`id_vars`), while all other\n",
      "    columns, considered measured variables (`value_vars`), are \"unpivoted\" to\n",
      "    the row axis, leaving just two non-identifier columns, 'variable' and\n",
      "    'value'.\n",
      "\n",
      "    Parameters\n",
      "    ----------\n",
      "    id_vars : scalar, tuple, list, or ndarray, optional\n",
      "        Column(s) to use as identifier variables.\n",
      "    value_vars : scalar, tuple, list, or ndarray, optional\n",
      "        Column(s) to unpivot. If not specified, uses all columns that\n",
      "        are not set as `id_vars`.\n",
      "    var_name : scalar, default None\n",
      "        Name to use for the 'variable' column. If None it uses\n",
      "        ``frame.columns.name`` or 'variable'.\n",
      "    value_name : scalar, default 'value'\n",
      "        Name to use for the 'value' column, can't be an existing column label.\n",
      "    col_level : scalar, optional\n",
      "        If columns are a MultiIndex then use this level to melt.\n",
      "    ignore_index : bool, default True\n",
      "        If True, original index is ignored. If False, the original index is retained.\n",
      "        Index labels will be repeated as necessary.\n",
      "\n",
      "    Returns\n",
      "    -------\n",
      "    DataFrame\n",
      "        Unpivoted DataFrame.\n",
      "\n",
      "    See Also\n",
      "    --------\n",
      "    DataFrame.melt : Identical method.\n",
      "    pivot_table : Create a spreadsheet-style pivot table as a DataFrame.\n",
      "    DataFrame.pivot : Return reshaped DataFrame organized\n",
      "        by given index / column values.\n",
      "    DataFrame.explode : Explode a DataFrame from list-like\n",
      "            columns to long format.\n",
      "\n",
      "    Notes\n",
      "    -----\n",
      "    Reference :ref:`the user guide <reshaping.melt>` for more examples.\n",
      "\n",
      "    Examples\n",
      "    --------\n",
      "    >>> df = pd.DataFrame({'A': {0: 'a', 1: 'b', 2: 'c'},\n",
      "    ...                    'B': {0: 1, 1: 3, 2: 5},\n",
      "    ...                    'C': {0: 2, 1: 4, 2: 6}})\n",
      "    >>> df\n",
      "       A  B  C\n",
      "    0  a  1  2\n",
      "    1  b  3  4\n",
      "    2  c  5  6\n",
      "\n",
      "    >>> pd.melt(df, id_vars=['A'], value_vars=['B'])\n",
      "       A variable  value\n",
      "    0  a        B      1\n",
      "    1  b        B      3\n",
      "    2  c        B      5\n",
      "\n",
      "    >>> pd.melt(df, id_vars=['A'], value_vars=['B', 'C'])\n",
      "       A variable  value\n",
      "    0  a        B      1\n",
      "    1  b        B      3\n",
      "    2  c        B      5\n",
      "    3  a        C      2\n",
      "    4  b        C      4\n",
      "    5  c        C      6\n",
      "\n",
      "    The names of 'variable' and 'value' columns can be customized:\n",
      "\n",
      "    >>> pd.melt(df, id_vars=['A'], value_vars=['B'],\n",
      "    ...         var_name='myVarname', value_name='myValname')\n",
      "       A myVarname  myValname\n",
      "    0  a         B          1\n",
      "    1  b         B          3\n",
      "    2  c         B          5\n",
      "\n",
      "    Original index values can be kept around:\n",
      "\n",
      "    >>> pd.melt(df, id_vars=['A'], value_vars=['B', 'C'], ignore_index=False)\n",
      "       A variable  value\n",
      "    0  a        B      1\n",
      "    1  b        B      3\n",
      "    2  c        B      5\n",
      "    0  a        C      2\n",
      "    1  b        C      4\n",
      "    2  c        C      6\n",
      "\n",
      "    If you have multi-index columns:\n",
      "\n",
      "    >>> df.columns = [list('ABC'), list('DEF')]\n",
      "    >>> df\n",
      "       A  B  C\n",
      "       D  E  F\n",
      "    0  a  1  2\n",
      "    1  b  3  4\n",
      "    2  c  5  6\n",
      "\n",
      "    >>> pd.melt(df, col_level=0, id_vars=['A'], value_vars=['B'])\n",
      "       A variable  value\n",
      "    0  a        B      1\n",
      "    1  b        B      3\n",
      "    2  c        B      5\n",
      "\n",
      "    >>> pd.melt(df, id_vars=[('A', 'D')], value_vars=[('B', 'E')])\n",
      "      (A, D) variable_0 variable_1  value\n",
      "    0      a          B          E      1\n",
      "    1      b          B          E      3\n",
      "    2      c          B          E      5\n",
      "\n"
     ]
    }
   ],
   "source": [
    "help(pd.melt)"
   ]
  },
  {
   "cell_type": "code",
   "execution_count": 30,
   "id": "438c31b2-a373-4656-845b-d6cfd4752e1e",
   "metadata": {},
   "outputs": [
    {
     "data": {
      "text/plain": [
       "<Axes: xlabel='index', ylabel='value'>"
      ]
     },
     "execution_count": 30,
     "metadata": {},
     "output_type": "execute_result"
    },
    {
     "data": {
      "image/png": "[encoded data removed]",
      "text/plain": [
       "<Figure size 640x480 with 1 Axes>"
      ]
     },
     "metadata": {},
     "output_type": "display_data"
    }
   ],
   "source": [
    "sns.barplot(data=r_df.T[['R2_train','R2_test']].reset_index().melt(id_vars=['index'], value_vars=['R2_train','R2_test']),x='index',y='value',hue='variable')"
   ]
  },
  {
   "cell_type": "code",
   "execution_count": null,
   "id": "9a02db3a-0351-4896-b933-16c94181a375",
   "metadata": {},
   "outputs": [],
   "source": []
  }
 ],
 "metadata": {
  "kernelspec": {
   "display_name": "Python 3 (ipykernel)",
   "language": "python",
   "name": "python3"
  },
  "language_info": {
   "codemirror_mode": {
    "name": "ipython",
    "version": 3
   },
   "file_extension": ".py",
   "mimetype": "text/x-python",
   "name": "python",
   "nbconvert_exporter": "python",
   "pygments_lexer": "ipython3",
   "version": "3.12.2"
  }
 },
 "nbformat": 4,
 "nbformat_minor": 5
}
