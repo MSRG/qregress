{
 "cells": [
  {
   "cell_type": "code",
   "execution_count": null,
   "id": "9a52a83f-2e87-42d0-9de7-4353f96b9640",
   "metadata": {},
   "outputs": [],
   "source": [
    "from glob import glob\n",
    "import matplotlib.pyplot as plt\n",
    "import numpy as np\n",
    "import seaborn as sns\n",
    "import os, sys, json, joblib\n",
    "import pandas as pd\n",
    "# !pip install openpyxl"
   ]
  },
  {
   "cell_type": "code",
   "execution_count": null,
   "id": "b55e7643-8c21-41fe-b2ec-9491fd49b70b",
   "metadata": {},
   "outputs": [],
   "source": [
    "def combinded(path):\n",
    "    splitsort = []\n",
    "    smaller = []\n",
    "    for i in glob(os.path.join(path, '*log.csv')):\n",
    "        splitname = os.path.basename(i).split('_')\n",
    "        if len(splitname)==3:\n",
    "            splitsort.append((int(splitname[0]),i))\n",
    "        else:\n",
    "            smaller.append(i)\n",
    "\n",
    "    loss = []\n",
    "    for i in list(np.array(sorted(splitsort))[:,1])+smaller:\n",
    "        print(f\"Processing file: {i}\")\n",
    "        loss.append(split(i)[:, 1])  # Get only the loss values (assumed to be in the second column)\n",
    "    plt.plot(np.hstack(loss))\n",
    "    plt.xlabel(\"Iteration\")\n",
    "    plt.ylabel(\"Loss\")\n",
    "    plt.title(\"Loss Curve\")\n",
    "    return plt\n",
    "    # plt.show()\n",
    "\n",
    "def split(path):\n",
    "    \"\"\"Helper function to read CSV file and extract required columns.\"\"\"\n",
    "    save = []\n",
    "    with open(path, 'r') as f:\n",
    "        for line in f:\n",
    "            if ':' in line:\n",
    "                split_line = line.strip().split(',')\n",
    "                # Assuming the structure of each line is: [timestamp, loss_value, ...]\n",
    "                save.append((float(split_line[1]), float(split_line[2])))\n",
    "    return np.array(save)"
   ]
  },
  {
   "cell_type": "code",
   "execution_count": null,
   "id": "c254c8d7-19cf-4e18-b4ab-6cf4701d203b",
   "metadata": {},
   "outputs": [],
   "source": [
    "# for i in sorted(glob('5/0.*/M-M-CZ_HWE-CNOT')):\n",
    "#     combinded(i).legend(title=i)\n",
    "#     plt.show()"
   ]
  },
  {
   "cell_type": "code",
   "execution_count": null,
   "id": "2e6539d0-744e-461e-b348-4de466d2124a",
   "metadata": {},
   "outputs": [],
   "source": [
    "\n",
    "trainsize=[ 0.1,0.3, 0.5, 0.7,0.8]\n",
    "classical_models=['ridge', 'lasso', 'elastic', 'knn', 'rfr', 'grad', 'svr', 'krr', 'gpr'\n",
    "]\n",
    "\n",
    "classical_results=[]\n",
    "\n",
    "for models in classical_models:\n",
    "    for ts in trainsize:\n",
    "        \n",
    "        with open(f\"./5/classical/{ts}_{models}_scores.json\",'r') as f:\n",
    "            classical_dict=json.load(f)\n",
    "        classical_results.append((models,ts,'R2_train',classical_dict['R2_train']))\n",
    "        classical_results.append((models,ts,'R2_test',classical_dict['R2_test']))\n",
    "\n",
    "classical_df=pd.DataFrame(classical_results,columns=['model','ratio','set','value'])        "
   ]
  },
  {
   "cell_type": "code",
   "execution_count": null,
   "id": "2f1711da-5640-40e1-bff1-33efab80e2f5",
   "metadata": {},
   "outputs": [],
   "source": [
    "\n",
    "quantum_results = []\n",
    "quantum_data = []\n",
    "results = {}\n",
    "for i in sorted(glob('5/*/M-M-CZ_HWE-CNOT/M-M-CZ_HWE-CNOT_results.json')):\n",
    "    print(i)\n",
    "    with open(i,'r') as f:\n",
    "        data = json.load(f)\n",
    "    ratio = os.path.basename(os.path.dirname(os.path.dirname(i)))\n",
    "    quantum_data.append((ratio,data['R2_train'],data['R2_test']))\n",
    "    quantum_results.append(('M-M-CZ_HWE-CNOT',ratio,'R2_train',data['R2_train']))\n",
    "    quantum_results.append((\"M-M-CZ_HWE-CNOT\",ratio,'R2_test',data['R2_test']))\n",
    "\n",
    "quantum_data = np.array(quantum_data).astype(float)\n",
    "quantum_df=pd.DataFrame(quantum_results,columns=['model','ratio','set','value'])\n",
    "combined_df = pd.concat([classical_df,quantum_df])"
   ]
  },
  {
   "cell_type": "code",
   "execution_count": null,
   "id": "44f7b398-05ec-48ee-b011-25dbcabf19fd",
   "metadata": {},
   "outputs": [],
   "source": [
    "combined_df.pivot(columns=['set'],values='value',index=['ratio','model']).to_excel(os.path.join(os.path.expanduser('~'),'qregress/spreadsheets/BSE5_lc.xlsx'))"
   ]
  },
  {
   "cell_type": "code",
   "execution_count": null,
   "id": "18352a76-75f7-49a7-b1d0-249f0ccef9e4",
   "metadata": {},
   "outputs": [],
   "source": [
    "print(combined_df.pivot(columns=['set'],values='value',index=['ratio','model']).sort_index(axis=1,ascending=False).round(4).to_latex(float_format=\"{:.4f}\".format))"
   ]
  },
  {
   "cell_type": "code",
   "execution_count": null,
   "id": "c56ede14-e556-459c-bcd2-4f6fc9cf317a",
   "metadata": {},
   "outputs": [],
   "source": [
    "combined_df = combined_df.astype({'model':str,'ratio':float,\"set\":str,'value':float})\n",
    "combined_df['set'] = [i.split('_')[1].capitalize() for i in combined_df['set']]\n",
    "\n",
    "train = combined_df[(combined_df['model']=='M-M-CZ_HWE-CNOT')&(combined_df['set']=='Train')]\n",
    "test = combined_df[(combined_df['model']=='M-M-CZ_HWE-CNOT')&(combined_df['set']=='Test')]\n",
    "\n",
    "drop_pqc = combined_df[combined_df['model']!='M-M-CZ_HWE-CNOT']"
   ]
  },
  {
   "cell_type": "code",
   "execution_count": null,
   "id": "3b0982a5-6c91-425e-85f6-a37e57c36cb3",
   "metadata": {},
   "outputs": [],
   "source": [
    "# from mpl_toolkits.axes_grid1.inset_locator import inset_axes\n",
    "# drop_pqc_adj = drop_pqc.copy()\n",
    "# # Assuming drop_pqc_adj and quantum_data are already defined\n",
    "# r_df = pd.DataFrame(quantum_data, columns=['index', 'Train', 'Test']).melt(id_vars=['index'], value_vars=['Train', 'Test'])\n",
    "# r_df['variable'] = [i + \" (M-M-CZ_HWE-CNOT)\" for i in r_df['variable']]\n",
    "\n",
    "# drop_pqc_adj['set'] = [i + \" (classical)\" for i in drop_pqc_adj['set']]\n",
    "# xticks = np.linspace(0, 0.9, 10)\n",
    "\n",
    "# # Main plot\n",
    "# # ax1 = sns.lineplot(data=drop_pqc_adj, x='ratio', y='value', hue='set', style='set', palette=(sns.color_palette('Paired', 6)[3],sns.color_palette('Paired', 6)[5]),errorbar=lambda x: (x.min(), x.max()),err_style='bars')\n",
    "# ax = sns.lineplot(data=r_df, x='index', y='value', hue='variable', style='variable', palette=sns.color_palette('Paired', 2), markers=['>', '<'])\n",
    "# plt.ylim(0, 1.05)\n",
    "# ax.set_xticks(xticks)\n",
    "# ax.set_xticklabels([f\"{int(x * 100)}%\" for x in xticks])\n",
    "# plt.ylabel('R$^{2}$')\n",
    "# plt.xlabel('Training Set (%)')\n",
    "# plt.title('M-M-CZ_HWE-CNOT')\n",
    "# plt.legend(loc=2)\n",
    "\n",
    "# # Inlay plot\n",
    "# inset_ax = inset_axes(ax, width=\"40%\", height=\"40%\",loc=4,bbox_to_anchor=(100, 250,500, 400))  # Adjust width, height, and location as needed\n",
    "# sns.lineplot(data=drop_pqc_adj, x='ratio', y='value', hue='set', style='set', palette=(sns.color_palette('Paired', 6)[3],sns.color_palette('Paired', 6)[5]),errorbar=lambda x: (x.min(), x.max()), ax=inset_ax, legend=False,err_style='bars')\n",
    "# # inset_ax.set_xlim(0.9, 1)  # Adjust the range as needed\n",
    "# inset_ax.legend()\n",
    "# inset_ax.set_ylim(0, 1.1)  # Adjust the y-axis limits as needed\n",
    "# inset_ax.set_xticks(xticks[0::2])\n",
    "# inset_ax.set_xticklabels([f\"{int(x * 100)}%\" for x in xticks[0::2]])\n",
    "# inset_ax.set_ylabel('R$^{2}$')\n",
    "# inset_ax.set_xlabel('Training Set (%)')\n",
    "# inset_ax.set_title('Classical Models')\n",
    "# plt.tight_layout()\n",
    "# plt.savefig(f\"{os.path.expanduser('~')}/qregress/images/BSE/fivequbit/BSE_learningcurve.png\", bbox_inches='tight', pad_inches=0.1)\n",
    "# plt.show()"
   ]
  },
  {
   "cell_type": "code",
   "execution_count": null,
   "id": "e9465cab-0f77-4a61-923a-1f543d20e4aa",
   "metadata": {},
   "outputs": [],
   "source": [
    "help(combined_df.pivot)"
   ]
  },
  {
   "cell_type": "code",
   "execution_count": null,
   "id": "bcaec598-3952-459d-975f-4354c8e2ca7c",
   "metadata": {},
   "outputs": [],
   "source": [
    "pivot_df = combined_df.pivot(index=['ratio','set'],values=['value'],columns=['model'])\n",
    "\n",
    "# .T.idxmax()"
   ]
  },
  {
   "cell_type": "code",
   "execution_count": null,
   "id": "7eb3268d-e7dd-40bc-9931-70d07eca97fc",
   "metadata": {},
   "outputs": [],
   "source": [
    "combined_df.query(\"model == 'knn' & set == 'Test' \").describe().round(4).loc['mean','value']"
   ]
  },
  {
   "cell_type": "code",
   "execution_count": null,
   "id": "0aba6c06-97ad-4d43-9c1d-4f51aa55a136",
   "metadata": {},
   "outputs": [],
   "source": [
    "combined_df.query(\"model == 'M-M-CZ_HWE-CNOT' & set == 'Train' \").describe().round(4).loc['max','value']"
   ]
  },
  {
   "cell_type": "code",
   "execution_count": null,
   "id": "5d265e29-a8d9-4ea3-bcdf-ededc77c0e20",
   "metadata": {},
   "outputs": [],
   "source": [
    "combined_df.query(\"model == 'M-M-CZ_HWE-CNOT' & set == 'Test' \").round(4)"
   ]
  },
  {
   "cell_type": "code",
   "execution_count": null,
   "id": "38ad0d89-4c81-4814-9425-8c1e1bdc503d",
   "metadata": {},
   "outputs": [],
   "source": [
    "pivot_df.T.query(\"model == 'knn'\")"
   ]
  },
  {
   "cell_type": "code",
   "execution_count": null,
   "id": "f1d6b9ad-adf5-4982-ada3-4f9da945542a",
   "metadata": {},
   "outputs": [],
   "source": [
    "pivot_df.T[0.8].sort_values(by=['Train','Test'])"
   ]
  },
  {
   "cell_type": "code",
   "execution_count": null,
   "id": "d3c3d652-2c90-4312-8455-88632fc7251c",
   "metadata": {},
   "outputs": [],
   "source": [
    "combined_df[combined_df['ratio']==0.1].sort_values(by=['value','set'])"
   ]
  },
  {
   "cell_type": "code",
   "execution_count": null,
   "id": "620c8ff5-f12a-40c7-938f-18355b85ffc8",
   "metadata": {},
   "outputs": [],
   "source": [
    "from mpl_toolkits.axes_grid1.inset_locator import inset_axes\n",
    "drop_pqc_adj = drop_pqc.copy()\n",
    "# Assuming drop_pqc_adj and quantum_data are already defined\n",
    "r_df = pd.DataFrame(quantum_data, columns=['index', 'Train', 'Test']).melt(id_vars=['index'], value_vars=['Train', 'Test'])\n",
    "r_df['variable'] = [i + \" (M-M-CZ_HWE-CNOT)\" for i in r_df['variable']]\n",
    "\n",
    "drop_pqc_adj['set'] = [i + \" (classical)\" for i in drop_pqc_adj['set']]\n",
    "xticks = np.linspace(0, 0.9, 10)\n",
    "fig = plt.figure(figsize=(7,5))\n",
    "# Main plot\n",
    "# ax1 = sns.lineplot(data=drop_pqc_adj, x='ratio', y='value', hue='set', style='set', palette=(sns.color_palette('Paired', 6)[3],sns.color_palette('Paired', 6)[5]),errorbar=lambda x: (x.min(), x.max()),err_style='bars')\n",
    "ax = sns.lineplot(data=r_df, x='index', y='value', hue='variable', style='variable', palette=sns.color_palette('Paired', 2), markers=['>', '<'])\n",
    "plt.ylim(0, 1.05)\n",
    "ax.set_xticks(xticks)\n",
    "ax.set_xticklabels([f\"{int(x * 100)}%\" for x in xticks])\n",
    "plt.ylabel('R$^{2}$')\n",
    "plt.xlabel('Training Set (%)')\n",
    "plt.title('M-M-CZ_HWE-CNOT')\n",
    "plt.legend(loc=2)\n",
    "\n",
    "\n",
    "# Inlay plot\n",
    "inset_ax = inset_axes(ax, width=\"40%\", height=\"40%\", loc=4, bbox_to_anchor=(50, 250, 600, 400))  # Adjust location as needed\n",
    "\n",
    "# Plot with legend temporarily enabled\n",
    "sns_plot = sns.lineplot(\n",
    "    data=drop_pqc_adj,\n",
    "    x='ratio',\n",
    "    y='value',\n",
    "    hue='set',\n",
    "    style='set',\n",
    "    palette=(sns.color_palette('Paired', 6)[3], sns.color_palette('Paired', 6)[5]),\n",
    "    errorbar=lambda x: (x.min(), x.max()),\n",
    "    ax=inset_ax,\n",
    "    err_style='bars',\n",
    "    legend=True  # Enable legend just to capture handles\n",
    ")\n",
    "\n",
    "# Get handles and labels\n",
    "handles, labels = inset_ax.get_legend_handles_labels()\n",
    "\n",
    "# Manually reset legend with new labels\n",
    "inset_ax.legend(loc=4,handles=handles, labels=[\"Train\", \"Test\"], fontsize='small',ncols=2)\n",
    "\n",
    "# Final axis formatting\n",
    "inset_ax.set_ylim(-0.1, 1.1)\n",
    "inset_ax.set_xticks(xticks[0::2])\n",
    "inset_ax.set_xticklabels([f\"{int(x * 100)}%\" for x in xticks[0::2]])\n",
    "inset_ax.set_ylabel('R$^{2}$')\n",
    "inset_ax.set_xlabel('Training Set (%)')\n",
    "inset_ax.set_title('Classical Models')\n",
    "plt.tight_layout()\n",
    "plt.savefig(f\"{os.path.expanduser('~')}/qregress/images/BSE/fivequbit/BSE_learningcurve.png\", bbox_inches='tight', pad_inches=0.1)\n",
    "plt.show()"
   ]
  },
  {
   "cell_type": "code",
   "execution_count": null,
   "id": "f3ce441e-42f3-4858-b719-34352447e453",
   "metadata": {},
   "outputs": [],
   "source": [
    "drop_pqc_adj"
   ]
  },
  {
   "cell_type": "code",
   "execution_count": null,
   "id": "1d879660-d79e-4e2c-9be1-450079f6fbf0",
   "metadata": {},
   "outputs": [],
   "source": [
    "ax = sns.lineplot(data=r_df.T[['R2_train','R2_test']].reset_index().rename(columns={'R2_train':\"Train\",'R2_test':\"Test\"}).melt(id_vars=['index'], value_vars=['Train','Test']),x='index',y='value',hue='variable',style='variable',palette=sns.color_palette('Paired',2),markers=['>','<'])\n",
    "\n",
    "plt.ylim(-.2,1)\n",
    "# plt.gca().xaxis.set_major_formatter(mticker.PercentFormatter(xmax=100))  # Adjust xmax if needed\n",
    "ax.set_xticklabels([f\"{int(i*100)}%\" for i in np.array(r_df.columns,dtype=float)])\n",
    "plt.ylabel('R$^{2}$')\n",
    "plt.xlabel('Training Set (%)')\n",
    "plt.title('M-M-CZ_HWE-CNOT')\n",
    "plt.legend(loc=2)\n",
    "plt.savefig(f\"{os.path.expanduser('~')}/qregress/images/BSE/fivequbit/BSE_learningcurve.png\", bbox_inches='tight', pad_inches=0.1)\n",
    "plt.show()\n",
    "plt.show()"
   ]
  },
  {
   "cell_type": "code",
   "execution_count": null,
   "id": "d48935f0-3763-465b-8b23-6743cbed25d9",
   "metadata": {},
   "outputs": [],
   "source": [
    "\n",
    "results = {}\n",
    "for i in sorted(glob('16/*/A2_Hadamard/A2_Hadamard_results.json')):\n",
    "    print(i)\n",
    "    ratio = os.path.basename(os.path.dirname(os.path.dirname(i)))\n",
    "    with open(i,'r') as f:\n",
    "        results[ratio]=json.load(f)\n",
    "        \n",
    "    results[ratio]['Train Size'] = joblib.load(glob(os.path.join(os.path.dirname(os.path.dirname(i)),'*Morgan_train.bin'))[0])['X'].shape[0]\n",
    "\n",
    "r_df = pd.DataFrame(results).drop(index=['MSE_train','MSE_test'])\n",
    "\n",
    "\n",
    "ax = sns.lineplot(data=r_df.T[['R2_train','R2_test']].reset_index().rename(columns={'R2_train':\"Train\",'R2_test':\"Test\"}).melt(id_vars=['index'], value_vars=['Train','Test']),x='index',y='value',hue='variable',style='variable',palette=sns.color_palette('Paired',2),markers=['>','<'])\n",
    "\n",
    "plt.ylim(-0.2,1)\n",
    "# plt.gca().xaxis.set_major_formatter(mticker.PercentFormatter(xmax=100))  # Adjust xmax if needed\n",
    "ax.set_xticklabels([f\"{int(i*100)}%\" for i in np.array(r_df.columns,dtype=float)])\n",
    "plt.ylabel('R$^{2}$')\n",
    "plt.xlabel('Training Set (%)')\n",
    "plt.title('A2_Hadamard')\n",
    "plt.legend(loc=2)\n",
    "plt.savefig(f\"{os.path.expanduser('~')}/qregress/images/BSE/sixteenqubit/BSE_learningcurve.png\", bbox_inches='tight', pad_inches=0.1)\n",
    "plt.show()"
   ]
  },
  {
   "cell_type": "code",
   "execution_count": null,
   "id": "9a02db3a-0351-4896-b933-16c94181a375",
   "metadata": {},
   "outputs": [],
   "source": [
    "ax.get_xticklabels()"
   ]
  },
  {
   "cell_type": "code",
   "execution_count": null,
   "id": "bc1aa2c7-b8ff-4fd2-8d08-552f71be52d9",
   "metadata": {},
   "outputs": [],
   "source": []
  },
  {
   "cell_type": "code",
   "execution_count": null,
   "id": "41f53e43-da79-41ee-ac92-72ed31287e9e",
   "metadata": {},
   "outputs": [],
   "source": []
  }
 ],
 "metadata": {
  "kernelspec": {
   "display_name": "Python 3 (ipykernel)",
   "language": "python",
   "name": "python3"
  },
  "language_info": {
   "codemirror_mode": {
    "name": "ipython",
    "version": 3
   },
   "file_extension": ".py",
   "mimetype": "text/x-python",
   "name": "python",
   "nbconvert_exporter": "python",
   "pygments_lexer": "ipython3",
   "version": "3.12.9"
  }
 },
 "nbformat": 4,
 "nbformat_minor": 5
}
