{
 "cells": [
  {
   "cell_type": "code",
   "execution_count": 15,
   "id": "b9de4c4d-0a0d-432b-ae97-f631d629f75b",
   "metadata": {},
   "outputs": [],
   "source": [
    "# Import required packages\n",
    "import sys\n",
    "# !{sys.executable} -m pip install seaborn\n",
    "from glob import glob\n",
    "import os\n",
    "import json\n",
    "import matplotlib.pyplot as plt\n",
    "import seaborn as sns\n",
    "import pandas as pd\n",
    "import numpy as np\n",
    "from shutil import copy,move\n",
    "from distutils.dir_util import copy_tree\n"
   ]
  },
  {
   "cell_type": "code",
   "execution_count": 21,
   "id": "c8943efb-4e65-44ba-bbad-6bd1c431e1f2",
   "metadata": {},
   "outputs": [],
   "source": [
    "files = sorted(glob('./5/*/*results.json'))\n",
    "baseline = \"../BSE-calc-test/5qubit/A2_HWE-CNOT/A2_HWE-CNOT_results.json\""
   ]
  },
  {
   "cell_type": "code",
   "execution_count": 22,
   "id": "7107f739-b7d8-44c2-b07e-aeaa4f2cd1ba",
   "metadata": {},
   "outputs": [
    {
     "data": {
      "text/plain": [
       "['5/0.3/A2_HWE-CNOT_results.json',\n",
       " '5/0.5/A2_HWE-CNOT_results.json',\n",
       " '5/0.7/A2_HWE-CNOT_results.json',\n",
       " '5/0.1/A2_HWE-CNOT_results.json',\n",
       " '5/0.8/A2_HWE-CNOT_results.json']"
      ]
     },
     "execution_count": 22,
     "metadata": {},
     "output_type": "execute_result"
    }
   ],
   "source": [
    "glob('5/*/*_results.json')"
   ]
  },
  {
   "cell_type": "code",
   "execution_count": 23,
   "id": "04b309c5-d704-44bc-b7d0-dccc9a7d6d91",
   "metadata": {},
   "outputs": [
    {
     "name": "stdout",
     "output_type": "stream",
     "text": [
      "./5/0.1/A2_HWE-CNOT_results.json\n",
      "./5/0.3/A2_HWE-CNOT_results.json\n",
      "./5/0.5/A2_HWE-CNOT_results.json\n",
      "./5/0.7/A2_HWE-CNOT_results.json\n",
      "./5/0.8/A2_HWE-CNOT_results.json\n"
     ]
    }
   ],
   "source": [
    "\n",
    "quantum_results = []\n",
    "quantum_data = []\n",
    "for i in files:\n",
    "    print(i)\n",
    "    with open(i,'r') as f:\n",
    "        data = json.load(f)\n",
    "    ratio = os.path.basename(os.path.dirname(os.path.dirname(i)))\n",
    "    quantum_data.append((ratio,data['R2_train'],data['R2_test']))\n",
    "    quantum_results.append(('A2_HWE-CNOT',ratio,'R2_train',data['R2_train']))\n",
    "    quantum_results.append((\"A2_HWE-CNOT\",ratio,'R2_test',data['R2_test']))\n",
    "\n",
    "quantum_data = np.array(quantum_data).astype(float)"
   ]
  },
  {
   "cell_type": "code",
   "execution_count": 24,
   "id": "383354af-e3cf-4dc1-8c0a-d5b8b3376f6c",
   "metadata": {},
   "outputs": [
    {
     "data": {
      "text/plain": [
       "array([[5.        , 0.09047927, 0.09584694],\n",
       "       [5.        , 0.09160022, 0.09734892],\n",
       "       [5.        , 0.08251446, 0.09164304],\n",
       "       [5.        , 0.0886865 , 0.09508284],\n",
       "       [5.        , 0.08333327, 0.08419636]])"
      ]
     },
     "execution_count": 24,
     "metadata": {},
     "output_type": "execute_result"
    }
   ],
   "source": [
    "quantum_data"
   ]
  },
  {
   "cell_type": "code",
   "execution_count": 9,
   "id": "7089c628-d8fb-4d15-bfa3-33e730df1e52",
   "metadata": {},
   "outputs": [],
   "source": [
    "\n",
    "with open(baseline,'r') as f:\n",
    "    quantum_base = json.load(f)"
   ]
  },
  {
   "cell_type": "code",
   "execution_count": 12,
   "id": "c2e7e193-30a8-41e8-b0da-e8243f96a678",
   "metadata": {},
   "outputs": [
    {
     "data": {
      "text/plain": [
       "'../classical_testing/BSE/16_0.1/scores.json'"
      ]
     },
     "execution_count": 12,
     "metadata": {},
     "output_type": "execute_result"
    }
   ],
   "source": [
    "'../classical_testing/BSE/16_0.1/scores.json'"
   ]
  },
  {
   "cell_type": "code",
   "execution_count": 10,
   "id": "856181c4-e309-4f81-9d27-fa2ce822d747",
   "metadata": {},
   "outputs": [
    {
     "ename": "FileNotFoundError",
     "evalue": "[Errno 2] No such file or directory: '/Users/grierjones/qregress/classical_testing/linear/0.1_ridge_scores.json'",
     "output_type": "error",
     "traceback": [
      "\u001b[0;31m---------------------------------------------------------------------------\u001b[0m",
      "\u001b[0;31mFileNotFoundError\u001b[0m                         Traceback (most recent call last)",
      "Cell \u001b[0;32mIn[10], line 10\u001b[0m\n\u001b[1;32m      8\u001b[0m \u001b[38;5;28;01mfor\u001b[39;00m models \u001b[38;5;129;01min\u001b[39;00m classical_models:\n\u001b[1;32m      9\u001b[0m     \u001b[38;5;28;01mfor\u001b[39;00m ts \u001b[38;5;129;01min\u001b[39;00m trainsize:\n\u001b[0;32m---> 10\u001b[0m         \u001b[38;5;28;01mwith\u001b[39;00m \u001b[38;5;28mopen\u001b[39m(\u001b[38;5;124mf\u001b[39m\u001b[38;5;124m\"\u001b[39m\u001b[38;5;124m/Users/grierjones/qregress/classical_testing/linear/\u001b[39m\u001b[38;5;132;01m{\u001b[39;00mts\u001b[38;5;132;01m}\u001b[39;00m\u001b[38;5;124m_\u001b[39m\u001b[38;5;132;01m{\u001b[39;00mmodels\u001b[38;5;132;01m}\u001b[39;00m\u001b[38;5;124m_scores.json\u001b[39m\u001b[38;5;124m\"\u001b[39m,\u001b[38;5;124m'\u001b[39m\u001b[38;5;124mr\u001b[39m\u001b[38;5;124m'\u001b[39m) \u001b[38;5;28;01mas\u001b[39;00m f:\n\u001b[1;32m     11\u001b[0m             classical_dict\u001b[38;5;241m=\u001b[39mjson\u001b[38;5;241m.\u001b[39mload(f)\n\u001b[1;32m     12\u001b[0m         classical_results\u001b[38;5;241m.\u001b[39mappend((models,ts,\u001b[38;5;124m'\u001b[39m\u001b[38;5;124mR2_train\u001b[39m\u001b[38;5;124m'\u001b[39m,classical_dict[\u001b[38;5;124m'\u001b[39m\u001b[38;5;124mR2_train\u001b[39m\u001b[38;5;124m'\u001b[39m]))\n",
      "File \u001b[0;32m~/miniconda3/envs/qml_min/lib/python3.12/site-packages/IPython/core/interactiveshell.py:324\u001b[0m, in \u001b[0;36m_modified_open\u001b[0;34m(file, *args, **kwargs)\u001b[0m\n\u001b[1;32m    317\u001b[0m \u001b[38;5;28;01mif\u001b[39;00m file \u001b[38;5;129;01min\u001b[39;00m {\u001b[38;5;241m0\u001b[39m, \u001b[38;5;241m1\u001b[39m, \u001b[38;5;241m2\u001b[39m}:\n\u001b[1;32m    318\u001b[0m     \u001b[38;5;28;01mraise\u001b[39;00m \u001b[38;5;167;01mValueError\u001b[39;00m(\n\u001b[1;32m    319\u001b[0m         \u001b[38;5;124mf\u001b[39m\u001b[38;5;124m\"\u001b[39m\u001b[38;5;124mIPython won\u001b[39m\u001b[38;5;124m'\u001b[39m\u001b[38;5;124mt let you open fd=\u001b[39m\u001b[38;5;132;01m{\u001b[39;00mfile\u001b[38;5;132;01m}\u001b[39;00m\u001b[38;5;124m by default \u001b[39m\u001b[38;5;124m\"\u001b[39m\n\u001b[1;32m    320\u001b[0m         \u001b[38;5;124m\"\u001b[39m\u001b[38;5;124mas it is likely to crash IPython. If you know what you are doing, \u001b[39m\u001b[38;5;124m\"\u001b[39m\n\u001b[1;32m    321\u001b[0m         \u001b[38;5;124m\"\u001b[39m\u001b[38;5;124myou can use builtins\u001b[39m\u001b[38;5;124m'\u001b[39m\u001b[38;5;124m open.\u001b[39m\u001b[38;5;124m\"\u001b[39m\n\u001b[1;32m    322\u001b[0m     )\n\u001b[0;32m--> 324\u001b[0m \u001b[38;5;28;01mreturn\u001b[39;00m io_open(file, \u001b[38;5;241m*\u001b[39margs, \u001b[38;5;241m*\u001b[39m\u001b[38;5;241m*\u001b[39mkwargs)\n",
      "\u001b[0;31mFileNotFoundError\u001b[0m: [Errno 2] No such file or directory: '/Users/grierjones/qregress/classical_testing/linear/0.1_ridge_scores.json'"
     ]
    }
   ],
   "source": [
    "\n",
    "trainsize=[ 0.1,0.3, 0.5, 0.7,0.8]\n",
    "classical_models=['ridge', 'lasso', 'elastic', 'knn', 'rfr', 'grad', 'svr', 'krr', 'gpr'\n",
    "]\n",
    "\n",
    "classical_results=[]\n",
    "\n",
    "for models in classical_models:\n",
    "    for ts in trainsize:\n",
    "        with open(f\"../classical_testing/BSE/{ts}_{models}_scores.json\",'r') as f:\n",
    "            classical_dict=json.load(f)\n",
    "        classical_results.append((models,ts,'R2_train',classical_dict['R2_train']))\n",
    "        classical_results.append((models,ts,'R2_test',classical_dict['R2_test']))\n",
    "            "
   ]
  },
  {
   "cell_type": "code",
   "execution_count": 11,
   "id": "1fa3d822-5d48-4ce1-8a37-91ab257c66fb",
   "metadata": {},
   "outputs": [],
   "source": [
    "classical_df=pd.DataFrame(classical_results,columns=['model','ratio','set','value'])"
   ]
  },
  {
   "cell_type": "code",
   "execution_count": null,
   "id": "5034617d-c700-417b-a886-d549eb4106dd",
   "metadata": {},
   "outputs": [],
   "source": [
    "\n",
    "quantum_df=pd.DataFrame(quantum_results,columns=['model','ratio','set','value'])"
   ]
  },
  {
   "cell_type": "code",
   "execution_count": null,
   "id": "908eb29d-a0b7-4290-9d4b-3cd8d52a7bfa",
   "metadata": {},
   "outputs": [],
   "source": [
    "combined_df = pd.concat([classical_df,quantum_df])"
   ]
  },
  {
   "cell_type": "code",
   "execution_count": null,
   "id": "f553fc81-d352-4001-914d-bd472aee9c91",
   "metadata": {},
   "outputs": [],
   "source": [
    "quantum_df['ratio']"
   ]
  },
  {
   "cell_type": "code",
   "execution_count": null,
   "id": "0645ff8c-6023-47a6-bd0e-184dc5bb5174",
   "metadata": {},
   "outputs": [],
   "source": [
    "classical_df[classical_df['ratio']>0.1]['value'].describe()"
   ]
  },
  {
   "cell_type": "code",
   "execution_count": null,
   "id": "1c1cfa3b-5c66-4605-877b-9397c3425256",
   "metadata": {},
   "outputs": [],
   "source": [
    "quantum_df[quantum_df['ratio']>\"0.1\"]['value'].describe()"
   ]
  },
  {
   "cell_type": "code",
   "execution_count": null,
   "id": "15d89aaa-b8d3-4090-9e6c-b520bab589dd",
   "metadata": {},
   "outputs": [],
   "source": [
    "for ts in trainsize:\n",
    "    print(ts)\n",
    "    for m in classical_models:\n",
    "        cdf=classical_df[(classical_df['ratio']==ts)&(classical_df['model']==m)].set_index('set')\n",
    "        qdf=quantum_df[quantum_df['ratio']==f'{ts}'].set_index('set')\n",
    "        print(m,all(cdf['value']>=qdf['value']))\n",
    "        if cdf['value'].loc['R2_test']>=qdf['value'].loc['R2_test']:\n",
    "            print(cdf['value'].loc['R2_test'],qdf['value'].loc['R2_test'])\n",
    "    print()"
   ]
  },
  {
   "cell_type": "code",
   "execution_count": null,
   "id": "d4d89083-bc98-4b47-b698-60314cfcc5a2",
   "metadata": {},
   "outputs": [],
   "source": [
    "palette=sns.color_palette('Paired',10)\n",
    "model_pal = dict(zip(set(combined_df['model']),palette))\n",
    "\n",
    "\n",
    "SMALL_SIZE = 8\n",
    "MEDIUM_SIZE = 12\n",
    "BIGGER_SIZE = 12\n",
    "\n",
    "plt.rc('font', size=MEDIUM_SIZE)          # controls default text sizes\n",
    "plt.rc('axes', titlesize=MEDIUM_SIZE)     # fontsize of the axes title\n",
    "plt.rc('axes', labelsize=MEDIUM_SIZE)    # fontsize of the x and y labels\n",
    "plt.rc('xtick', labelsize=MEDIUM_SIZE)    # fontsize of the tick labels\n",
    "plt.rc('ytick', labelsize=MEDIUM_SIZE)    # fontsize of the tick labels\n",
    "plt.rc('legend', fontsize=MEDIUM_SIZE)    # legend fontsize\n",
    "plt.rc('figure', titlesize=MEDIUM_SIZE)  # fontsize of the figure title\n",
    "plt.figure(figsize=(8,5))\n",
    "ax = sns.lineplot(data=combined_df,x='ratio',y='value',style='set',hue='model',palette=model_pal, markers=True)\n",
    "ax.legend_.remove()\n",
    "\n",
    "ins = ax.inset_axes([0.7,0.7,0.2,0.2])\n",
    "sns.lineplot(data=combined_df[(combined_df['ratio']==0.1)&(combined_df['value']>0.8)],x='ratio',y='value',style='set',hue='model',palette=model_pal, markers=True,ax=ins)\n",
    "ins.set_ylim(0.8,1.05)\n",
    "ins.set_ylabel('R$^{2}$')\n",
    "ins.set_xlabel('Training Set Ratio')\n",
    "ins.set_xticks([0.1])\n",
    "ins.get_legend().remove()\n",
    "\n",
    "\n",
    "\n",
    "# Add separate legend for hue (category)\n",
    "handles, labels = ax.get_legend_handles_labels()\n",
    "hue_legend = plt.legend(handles[1:11]+handles[12:], labels[1:11]+labels[12:], title='Model/Dataset', bbox_to_anchor=(0.3, 0.41), borderaxespad=0,ncols=3)\n",
    "\n",
    "# Add separate legend for style\n",
    "# style_legend = plt.legend(handles[12:], labels[12:], bbox_to_anchor=(1, 0.2), loc='upper left', borderaxespad=0.5)\n",
    "\n",
    "# Add the hue legend back so both are displayed\n",
    "plt.gca().add_artist(hue_legend)\n",
    "\n",
    "\n",
    "ax.set_ylim(0,1.05)\n",
    "ax.set_xlim(0.05,0.85)\n",
    "ax.set_ylabel('R$^{2}$')\n",
    "ax.set_xlabel('Training Set Ratio')\n",
    "plt.tight_layout()\n",
    "plt.savefig('/Users/grierjones/qregress/images/linear_learning_curves.png', bbox_inches='tight', pad_inches=0.1)\n",
    "plt.show()"
   ]
  },
  {
   "cell_type": "code",
   "execution_count": null,
   "id": "c1604215-beb2-4675-875d-fa6659c262bc",
   "metadata": {},
   "outputs": [],
   "source": []
  }
 ],
 "metadata": {
  "kernelspec": {
   "display_name": "Python 3 (ipykernel)",
   "language": "python",
   "name": "python3"
  },
  "language_info": {
   "codemirror_mode": {
    "name": "ipython",
    "version": 3
   },
   "file_extension": ".py",
   "mimetype": "text/x-python",
   "name": "python",
   "nbconvert_exporter": "python",
   "pygments_lexer": "ipython3",
   "version": "3.12.4"
  }
 },
 "nbformat": 4,
 "nbformat_minor": 5
}
