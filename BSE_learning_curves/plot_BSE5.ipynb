{
 "cells": [
  {
   "cell_type": "code",
   "execution_count": null,
   "id": "b9de4c4d-0a0d-432b-ae97-f631d629f75b",
   "metadata": {},
   "outputs": [],
   "source": [
    "# Import required packages\n",
    "import sys\n",
    "# !{sys.executable} -m pip install seaborn\n",
    "from glob import glob\n",
    "import os\n",
    "import json\n",
    "import matplotlib.pyplot as plt\n",
    "import seaborn as sns\n",
    "import pandas as pd\n",
    "import numpy as np\n",
    "from shutil import copy,move\n",
    "from distutils.dir_util import copy_tree\n"
   ]
  },
  {
   "cell_type": "code",
   "execution_count": null,
   "id": "8025c11a-87d2-4b05-a53c-80b4aa630cb3",
   "metadata": {},
   "outputs": [],
   "source": []
  },
  {
   "cell_type": "code",
   "execution_count": null,
   "id": "c8943efb-4e65-44ba-bbad-6bd1c431e1f2",
   "metadata": {},
   "outputs": [],
   "source": [
    "files = sorted(glob('./5/*/*results.json'))\n",
    "baseline = \"../BSE-calc-test/5qubit/A2_HWE-CNOT/A2_HWE-CNOT_results.json\""
   ]
  },
  {
   "cell_type": "code",
   "execution_count": null,
   "id": "7107f739-b7d8-44c2-b07e-aeaa4f2cd1ba",
   "metadata": {},
   "outputs": [],
   "source": [
    "glob('5/*/*_results.json')"
   ]
  },
  {
   "cell_type": "code",
   "execution_count": null,
   "id": "04b309c5-d704-44bc-b7d0-dccc9a7d6d91",
   "metadata": {},
   "outputs": [],
   "source": [
    "\n",
    "quantum_results = []\n",
    "quantum_data = []\n",
    "for i in files:\n",
    "    print(i)\n",
    "    with open(i,'r') as f:\n",
    "        data = json.load(f)\n",
    "    ratio = os.path.basename(os.path.dirname(i))\n",
    "    print(ratio)\n",
    "    quantum_data.append((ratio,data['R2_train'],data['R2_test']))\n",
    "    quantum_results.append(('A2_HWE-CNOT',ratio,'R2_train',data['R2_train']))\n",
    "    quantum_results.append((\"A2_HWE-CNOT\",ratio,'R2_test',data['R2_test']))\n",
    "\n",
    "quantum_data = np.array(quantum_data).astype(float)"
   ]
  },
  {
   "cell_type": "code",
   "execution_count": null,
   "id": "8a9731c0-4509-408b-98e8-2b53de9b4f7b",
   "metadata": {},
   "outputs": [],
   "source": [
    "classical=pd.read_excel(\"../classical_testing/BSE/PCA5_classical.xlsx\",index_col=0)"
   ]
  },
  {
   "cell_type": "code",
   "execution_count": null,
   "id": "13eab6cf-2d7b-49b9-8d52-9ef823e7951e",
   "metadata": {},
   "outputs": [],
   "source": [
    "classical.melt(id_vars=[\"index\",\"size\"],value_vars=[\"R2_train\",\"R2_test\"])"
   ]
  },
  {
   "cell_type": "code",
   "execution_count": null,
   "id": "cc7b263d-1dea-41c7-b6bf-5c6a38cc4e4f",
   "metadata": {},
   "outputs": [],
   "source": []
  },
  {
   "cell_type": "code",
   "execution_count": null,
   "id": "e00723dd-ef58-45e7-9df5-d80eb90cf76e",
   "metadata": {},
   "outputs": [],
   "source": [
    "q_df=pd.DataFrame(quantum_results,columns=[\"index\",\"size\",\"variable\",\"value\"])\n",
    "q_df=q_df.astype({'size':float,\"value\":float})\n",
    "c_df=classical.melt(id_vars=[\"index\",\"size\"],value_vars=[\"R2_train\",\"R2_test\"])\n",
    "c_df=c_df.astype({'size':float,\"value\":float})"
   ]
  },
  {
   "cell_type": "code",
   "execution_count": null,
   "id": "bc339a4a-1af6-431d-a37a-e4e9d28b7333",
   "metadata": {},
   "outputs": [],
   "source": []
  },
  {
   "cell_type": "code",
   "execution_count": null,
   "id": "642dd164-2593-4520-b2a1-7337c1a13d5d",
   "metadata": {},
   "outputs": [],
   "source": [
    "melted=pd.concat([c_df,q_df])"
   ]
  },
  {
   "cell_type": "code",
   "execution_count": null,
   "id": "59dce72c-5a79-4ec4-82e1-b25cd2825f3d",
   "metadata": {},
   "outputs": [],
   "source": []
  },
  {
   "cell_type": "code",
   "execution_count": null,
   "id": "d4d89083-bc98-4b47-b698-60314cfcc5a2",
   "metadata": {},
   "outputs": [],
   "source": [
    "palette=sns.color_palette('Paired',10)\n",
    "model_pal = dict(zip(set(melted['index']),palette))\n",
    "\n",
    "\n",
    "SMALL_SIZE = 8\n",
    "MEDIUM_SIZE = 12\n",
    "BIGGER_SIZE = 12\n",
    "\n",
    "plt.rc('font', size=MEDIUM_SIZE)          # controls default text sizes\n",
    "plt.rc('axes', titlesize=MEDIUM_SIZE)     # fontsize of the axes title\n",
    "plt.rc('axes', labelsize=MEDIUM_SIZE)    # fontsize of the x and y labels\n",
    "plt.rc('xtick', labelsize=MEDIUM_SIZE)    # fontsize of the tick labels\n",
    "plt.rc('ytick', labelsize=MEDIUM_SIZE)    # fontsize of the tick labels\n",
    "plt.rc('legend', fontsize=MEDIUM_SIZE)    # legend fontsize\n",
    "plt.rc('figure', titlesize=MEDIUM_SIZE)  # fontsize of the figure title\n",
    "fig = plt.figure(figsize=(8,5))\n",
    "\n",
    "ax = sns.lineplot(data=melted,x='size',y='value',hue=\"index\",style='variable',palette=model_pal, markers=True)\n",
    "ax.legend_.remove()\n",
    "\n",
    "\n",
    "\n",
    "\n",
    "\n",
    "# # Add separate legend for hue (category)\n",
    "handles, labels = ax.get_legend_handles_labels()\n",
    "hue_legend = fig.legend(handles[1:11]+handles[12:], labels[1:11]+labels[12:], title='Model/Dataset', bbox_to_anchor=(1.55, 0.9), borderaxespad=0,ncols=3)\n",
    "\n",
    "# Add separate legend for style\n",
    "# style_legend = plt.legend(handles[12:], labels[12:], bbox_to_anchor=(1, 0.2), loc='upper left', borderaxespad=0.5)\n",
    "\n",
    "# Add the hue legend back so both are displayed\n",
    "plt.gca().add_artist(hue_legend)\n",
    "\n",
    "\n",
    "ax.set_ylim(0,1.05)\n",
    "ax.set_xlim(0.05,0.85)\n",
    "ax.set_ylabel('R$^{2}$')\n",
    "ax.set_xlabel('Training Set Ratio')\n",
    "plt.tight_layout()\n",
    "plt.savefig('../images/BSE5_learning_curves.png', bbox_inches='tight', pad_inches=0.1)\n",
    "plt.show()"
   ]
  },
  {
   "cell_type": "code",
   "execution_count": null,
   "id": "c1604215-beb2-4675-875d-fa6659c262bc",
   "metadata": {},
   "outputs": [],
   "source": []
  }
 ],
 "metadata": {
  "kernelspec": {
   "display_name": "Python 3 (ipykernel)",
   "language": "python",
   "name": "python3"
  },
  "language_info": {
   "codemirror_mode": {
    "name": "ipython",
    "version": 3
   },
   "file_extension": ".py",
   "mimetype": "text/x-python",
   "name": "python",
   "nbconvert_exporter": "python",
   "pygments_lexer": "ipython3",
   "version": "3.12.4"
  }
 },
 "nbformat": 4,
 "nbformat_minor": 5
}
