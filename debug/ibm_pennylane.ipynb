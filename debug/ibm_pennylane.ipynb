{
 "cells": [
  {
   "cell_type": "code",
   "execution_count": null,
   "metadata": {
    "collapsed": false,
    "jupyter": {
     "outputs_hidden": false
    }
   },
   "outputs": [],
   "source": [
    "# This cell is added by sphinx-gallery\n",
    "# It can be customized to whatever you like\n",
    "%matplotlib inline"
   ]
  },
  {
   "cell_type": "markdown",
   "metadata": {},
   "source": [
    "Using PennyLane with IBM\\'s quantum devices and Qiskit\n",
    "===================================\n",
    "\n",
    "::: meta\n",
    ":property=\\\"og:description\\\": Learn how to use IBM devices with\n",
    "Pennylane. :property=\\\"og:image\\\":\n",
    "<https://pennylane.ai/qml/_static/demonstration_assets/thumbnail_tutorial_ibm_pennylane.png>\n",
    ":::\n",
    "\n",
    "::: related\n",
    "quantum_volume Quantum Volume tutorial_vqe A brief overview of VQE\n",
    ":::\n",
    "\n",
    "*Authors: Kaur Kristjuhan, Clara Ferreira Cores, Mark Nicholas Jones;\n",
    "Molecular Quantum Solutions (MQS) --- Posted: 20 June 2023. Last\n",
    "updated: 8 Aug 2024.*\n",
    "\n",
    "Bigger and better quantum computers are built every year. Instead of\n",
    "waiting for the perfect quantum computer to be released, we can already\n",
    "try out the best hardware that exists today. Experimenting on\n",
    "cutting-edge devices helps us understand the technology and improve the\n",
    "way we develop quantum software. PennyLane is a fantastic tool for\n",
    "prototyping quantum algorithms of all kinds, while IBM provides access\n",
    "to the newest and most powerful superconducting quantum devices\n",
    "available today. Let\\'s combine the two!\n",
    "\n",
    "In this tutorial, we\\'ll show you how to use PennyLane to interface with\n",
    "IBM\\'s quantum computing platform. We will learn how to:\n",
    "\n",
    "-   discover what kind of devices IBM offers;\n",
    "-   connect to IBM devices through PennyLane\\'s device class;\n",
    "-   use Qiskit Runtime to run hybrid algorithms;\n",
    "-   compare different devices to improve our quantum algorithms.\n"
   ]
  },
  {
   "cell_type": "markdown",
   "metadata": {},
   "source": [
    "# Using IBM devices\n",
    "\n",
    "IBM offers access to a variety of devices, both classical simulators and\n",
    "real quantum hardware. By default, these devices are not included in\n",
    "PennyLane, but after installing the [PennyLane-Qiskit\n",
    "plugin](https://docs.pennylane.ai/projects/qiskit/en/stable/) with the\n",
    "command `pip install pennylane-qiskit`, they can be used just like any\n",
    "other device offered in PennyLane! Currently, there are three devices\n",
    "available --- `Aer`, `BasicSim` and `Remote` --- that can be initialized\n",
    "as follows:\n"
   ]
  },
  {
   "cell_type": "code",
   "execution_count": null,
   "metadata": {
    "collapsed": false,
    "jupyter": {
     "outputs_hidden": false
    }
   },
   "outputs": [],
   "source": [
    "import pennylane as qml\n",
    "from qiskit_aer import AerSimulator\n",
    "\n",
    "qubits = 4\n",
    "dev_aer = qml.device(\"qiskit.aer\", wires=qubits)\n",
    "dev_basicsim = qml.device(\"qiskit.basicsim\", wires=qubits)\n",
    "try:\n",
    "    dev_remote = qml.device(\"qiskit.remote\", wires=qubits, backend=AerSimulator())\n",
    "except Exception as e:\n",
    "    print(e)"
   ]
  },
  {
   "cell_type": "markdown",
   "metadata": {},
   "source": [
    "The last device (`qiskit.remote`) can cause an error if we don\\'t\n",
    "provide a valid account token through Qiskit. The Remote device is used\n",
    "to access quantum hardware, so it also requires an IBM Quantum account,\n",
    "which can be specified using an identifying token. You can find your\n",
    "token by creating or logging into your [IBM Quantum\n",
    "account](https://quantum-computing.ibm.com). Be careful not to publish\n",
    "code that reveals your token to other people! One way to avoid this is\n",
    "by saving your token in a [PennyLane configuration\n",
    "file](https://docs.pennylane.ai/en/stable/introduction/configuration.html).\n",
    "To specify which machine or computational framework these devices\n",
    "actually connect to, we can use the `backend` argument.\n"
   ]
  },
  {
   "cell_type": "code",
   "execution_count": null,
   "metadata": {
    "collapsed": false,
    "jupyter": {
     "outputs_hidden": false
    }
   },
   "outputs": [],
   "source": [
    "dev_aer = qml.device(\"qiskit.aer\", wires=qubits)"
   ]
  },
  {
   "cell_type": "markdown",
   "metadata": {},
   "source": [
    "For the Aer device, different quantum computers can be used by changing\n",
    "the backend to the name of the specific simulator method. To see which\n",
    "backends exist, we can call the `capabilities` function:\n"
   ]
  },
  {
   "cell_type": "code",
   "execution_count": null,
   "metadata": {
    "collapsed": false,
    "jupyter": {
     "outputs_hidden": false
    }
   },
   "outputs": [],
   "source": [
    "from qiskit_aer import Aer\n",
    "\n",
    "print(Aer.backends())"
   ]
  },
  {
   "cell_type": "markdown",
   "metadata": {},
   "source": [
    "::: rst-class\n",
    "sphx-glr-script-out\n",
    "\n",
    "``` none\n",
    "['aer_simulator', 'aer_simulator_statevector', 'aer_simulator_density_matrix',\n",
    "'aer_simulator_stabilizer', 'aer_simulator_matrix_product_state',\n",
    "'aer_simulator_extended_stabilizer', 'aer_simulator_unitary', 'aer_simulator_superop',\n",
    "'qasm_simulator', 'statevector_simulator', 'unitary_simulator', 'pulse_simulator']\n",
    "```\n",
    ":::\n"
   ]
  },
  {
   "cell_type": "markdown",
   "metadata": {},
   "source": [
    "You can find even more details about these devices directly from the IBM\n",
    "Quantum platform. You can find information about the size, topology,\n",
    "quantum volume and noise profile of all the devices that they have\n",
    "available. Currently, the smallest device has 5 qubits and the largest\n",
    "has 127. On the IBM Quantum platform you can also check which devices\n",
    "are free to use and whether any of them are temporarily unavailable. You\n",
    "can even check your active jobs and estimated time in the queue for any\n",
    "programs you execute.\n"
   ]
  },
  {
   "cell_type": "markdown",
   "metadata": {},
   "source": [
    "# Qiskit Runtime\n",
    "\n",
    "Qiskit Runtime is a quantum computing service provided by IBM intended\n",
    "to make hybrid algorithms more efficient to execute. Hybrid algorithms\n",
    "are algorithms where a classical computer and quantum computer work\n",
    "together. This often involves the classical algorithm iteratively\n",
    "optimizing the quantum circuit, which the quantum computer repeatedly\n",
    "runs.\n",
    "\n",
    "One such example is the VQE algorithm, which can be used to calculate\n",
    "the ground state energy of molecules. It contains an optimization loop,\n",
    "which repeatedly requests the device to run a parameterized quantum\n",
    "circuit. Because the optimization algorithm changes the values of the\n",
    "parameters, the circuit requested is different each iteration. Also, the\n",
    "change is dependent on the results of the previous circuit, which means\n",
    "that there needs to be constant communication back and forth between the\n",
    "quantum computer and the classical computer in charge of the\n",
    "optimization.\n",
    "\n",
    "The solution that Qiskit Runtime provides is placing a classical\n",
    "computer in close physical proximity of the quantum computer. The user\n",
    "uploads a job to the classical computer, which runs the entire hybrid\n",
    "algorithm together with the quantum hardware, with no intermediate user\n",
    "input. This automates the iterative process, which otherwise requires\n",
    "time and resources for communication between the user and the hardware\n",
    "provider.\n"
   ]
  },
  {
   "cell_type": "markdown",
   "metadata": {},
   "source": [
    "# Using Qiskit Runtime\n",
    "\n",
    "The PennyLane-Qiskit plugin includes some tools to help create a Qiskit\n",
    "Runtime job. Since using Qiskit Runtime only makes sense when using real\n",
    "quantum hardware, we must again specify our IBM Quantum account details\n",
    "to run these jobs.\n",
    "\n",
    "First, we set up our problem as usual, and then retrieve a program ID\n",
    "from IBM, which gives us a place to upload our job:\n"
   ]
  },
  {
   "cell_type": "code",
   "execution_count": null,
   "metadata": {},
   "outputs": [],
   "source": [
    "qml.about(\n",
    ")"
   ]
  },
  {
   "cell_type": "code",
   "execution_count": null,
   "metadata": {
    "collapsed": false,
    "jupyter": {
     "outputs_hidden": false
    }
   },
   "outputs": [],
   "source": [
    "from pennylane import numpy as pnp\n",
    "from qiskit_ibm_runtime import QiskitRuntimeService\n",
    "import sys\n",
    "# !{sys.executable} -m pip install requests aiohttp\n",
    "import pennylane as qml\n",
    "\n",
    "# Obtaining the Hamiltonian for H2 from PennyLane QChem dataset\n",
    "[dataset] = qml.data.load(\"qchem\", molname=\"H2\", bondlength=0.742, basis=\"STO-3G\")\n",
    "H = dataset.hamiltonian\n",
    "qubits = 4\n",
    "\n",
    "from qiskit_ibm_runtime import QiskitRuntimeService\n",
    "\n",
    "service = QiskitRuntimeService(\n",
    "    channel='ibm_quantum',\n",
    "    instance='pinq-quebec-hub/univ-toronto/matterlab',\n",
    ")\n",
    "\n",
    "# Or save your credentials on disk.\n",
    "# QiskitRuntimeService.save_account(channel='ibm_quantum', instance='pinq-quebec-hub/univ-toronto/matterlab', token='<IBM Quantum API key>')\n",
    "\n",
    "# service = QiskitRuntimeService()\n",
    "# Gets a 127 qubit device from IBM\n",
    "backend = service.least_busy(n_qubits=127, simulator=False, operational=True)\n",
    "\n",
    "try:\n",
    "    # Although we only need 4 qubits, our device has 127 qubits, therefore we initialize with wires=127\n",
    "    dev = qml.device(\"qiskit.remote\", wires=127, backend=backend)\n",
    "except Exception as e:\n",
    "    print(e)"
   ]
  },
  {
   "cell_type": "markdown",
   "metadata": {},
   "source": [
    "Next, we specify our quantum circuit. Although there are many circuits\n",
    "to choose from, it is important to know that before a circuit is\n",
    "executed on hardware, it undergoes a transpilation step, which converts\n",
    "your circuit into a different, but equivalent, circuit. The purpose of\n",
    "this step is to ensure that only operations that are native to the\n",
    "quantum computer are used. With parameterized gates, however, this may\n",
    "cause some unexpected behavior, such as the emergence of more parameters\n",
    "when the transpiler attempts to decompose a complicated gate, such as\n",
    "`~pennylane.AllSinglesDoubles`{.interpreted-text role=\"class\"}. These\n",
    "types of issues will likely be fixed in the future, but, when in doubt,\n",
    "it is preferable to use simpler gates where possible. We will use a\n",
    "simple four-qubit circuit with one parameter that is designed\n",
    "specifically for the $H_2$ molecule:\n"
   ]
  },
  {
   "cell_type": "code",
   "execution_count": null,
   "metadata": {
    "collapsed": false,
    "jupyter": {
     "outputs_hidden": false
    }
   },
   "outputs": [],
   "source": [
    "def four_qubit_ansatz(theta):\n",
    "    # initial state 1100:\n",
    "    qml.PauliX(wires=0)\n",
    "    qml.PauliX(wires=1)\n",
    "\n",
    "    # change of basis\n",
    "    qml.RX(pnp.pi / 2, wires=0)\n",
    "    qml.Hadamard(wires=1)\n",
    "    qml.Hadamard(wires=2)\n",
    "    qml.Hadamard(wires=3)\n",
    "\n",
    "    qml.CNOT(wires=[3, 2])\n",
    "    qml.CNOT(wires=[2, 1])\n",
    "    qml.CNOT(wires=[1, 0])\n",
    "\n",
    "    qml.RZ(theta, wires=0)\n",
    "\n",
    "    qml.CNOT(wires=[1, 0])\n",
    "    qml.CNOT(wires=[2, 1])\n",
    "    qml.CNOT(wires=[3, 2])\n",
    "\n",
    "    # invert change of basis\n",
    "    qml.RX(-pnp.pi / 2, wires=0)\n",
    "    qml.Hadamard(wires=1)\n",
    "    qml.Hadamard(wires=2)\n",
    "    qml.Hadamard(wires=3)"
   ]
  },
  {
   "cell_type": "markdown",
   "metadata": {},
   "source": [
    "Finally, we can run our example VQE algorithm. In order to query the\n",
    "quantum computer iteratively we need to initialize a [Qiskit\n",
    "Session](https://docs.quantum.ibm.com/guides/sessions), which allows\n",
    "multiple jobs from a single algorithm to be ran sequentially without\n",
    "interruptions. We also need to provide our VQE algorithm an optimizer.\n",
    "In this case, we will be using the\n",
    "`~.pennylane.GradientDescentOptimizer`{.interpreted-text role=\"class\"}.\n"
   ]
  },
  {
   "cell_type": "code",
   "execution_count": null,
   "metadata": {
    "collapsed": false,
    "jupyter": {
     "outputs_hidden": false
    }
   },
   "outputs": [],
   "source": [
    "from pennylane_qiskit.qiskit_device import qiskit_session\n",
    "from tqdm import tqdm\n",
    "# # from pennylane_qiskit import qiskit_session\n",
    "\n",
    "\n",
    "@qml.qnode(dev)\n",
    "def cost_fn(theta):\n",
    "    four_qubit_ansatz(theta)\n",
    "    return qml.expval(H)\n",
    "\n",
    "\n",
    "max_iterations = 40\n",
    "theta = pnp.array(0.0, requires_grad=True)\n",
    "opt = qml.GradientDescentOptimizer(stepsize=0.4)\n",
    "energies = []\n",
    "\n",
    "with qiskit_session(dev) as session:\n",
    "    for n in tqdm(range(max_iterations)):\n",
    "        theta, prev_energy = opt.step_and_cost(cost_fn, theta)\n",
    "        energies.append(prev_energy)\n",
    "        print(n,theta, prev_energy)"
   ]
  },
  {
   "cell_type": "code",
   "execution_count": null,
   "metadata": {
    "scrolled": true
   },
   "outputs": [],
   "source": [
    "from qiskit_ibm_runtime import QiskitRuntimeService, Session, IBMRuntimeError\n",
    "from concurrent.futures import ThreadPoolExecutor\n",
    "with Session(backend=backend) as session:\n",
    "    print(session.details())\n",
    "# with Session(backend=backend) as session:\n",
    "    # Define a PennyLane device with qiskit.remote backend\n",
    "    dev = qml.device('qiskit.remote', wires=127,backend=backend)\n",
    "\n",
    "    @qml.qnode(dev)\n",
    "    def cost_fn(theta):\n",
    "        four_qubit_ansatz(theta)\n",
    "        return qml.expval(H)\n",
    "    \n",
    "    \n",
    "    max_iterations = 40\n",
    "    theta = pnp.array(0.0, requires_grad=True)\n",
    "    opt = qml.GradientDescentOptimizer(stepsize=0.4)\n",
    "    energies = []\n",
    "    \n",
    "\n",
    "    for n in tqdm(range(max_iterations)):\n",
    "        theta, prev_energy = opt.step_and_cost(cost_fn, theta)\n",
    "        energies.append(prev_energy)\n",
    "        print(n,theta, prev_energy)"
   ]
  },
  {
   "cell_type": "code",
   "execution_count": null,
   "metadata": {},
   "outputs": [],
   "source": [
    "(28800 / 60)/60"
   ]
  },
  {
   "cell_type": "markdown",
   "metadata": {},
   "source": [
    "> This may take a long time depending on how busy the hardware is.\n",
    "> Depending on the tier of your IBM plan, your session may also be\n",
    "> interrupted before the optimization can finish. Luckily, the rest of\n",
    "> the workflow demonstrates how to run VQE with a simulator instead,\n",
    "> which has no such restrictions at all.\n"
   ]
  },
  {
   "cell_type": "markdown",
   "metadata": {},
   "source": [
    "# Benchmarking\n",
    "\n",
    "One of the reasons why we even want to have access to these various\n",
    "devices and backends is so that we can benchmark the capabilities of the\n",
    "algorithms that we develop. Some simulators are particularly good with\n",
    "certain types of circuits, whereas other simulators are more general and\n",
    "may provide resources for simulating noise which mimics the kind of\n",
    "errors that real quantum hardware produces. Switching between your\n",
    "devices helps you learn more about your algorithm and can potentially\n",
    "provide guidance on how to make it better. For example, we can compare\n",
    "the performance of the default PennyLane simulator to the Qiskit\n",
    "`'aer_simulator'` by running the same VQE algorithm on both. The\n",
    "difference between these two devices is that the `'aer_simulator'` uses\n",
    "a finite number of shots to estimate the energy in each iteration,\n",
    "rather than performing an exact calculation using the information hidden\n",
    "in the vector representation of the quantum state.\n"
   ]
  },
  {
   "cell_type": "code",
   "execution_count": null,
   "metadata": {
    "collapsed": false,
    "jupyter": {
     "outputs_hidden": false
    }
   },
   "outputs": [],
   "source": [
    "dev1 = qml.device(\"default.qubit\", wires=4)\n",
    "shots = 8000\n",
    "dev2 = qml.device(\"qiskit.aer\", wires=4, shots=shots)\n",
    "\n",
    "\n",
    "@qml.qnode(dev1)\n",
    "def cost_fn_1(theta):\n",
    "    four_qubit_ansatz(theta)\n",
    "    return qml.expval(H)\n",
    "\n",
    "\n",
    "@qml.qnode(dev2)\n",
    "def cost_fn_2(theta):\n",
    "    four_qubit_ansatz(theta)\n",
    "    return qml.expval(H)\n",
    "\n",
    "\n",
    "# we can also use the qnode to draw the circuit\n",
    "import matplotlib.pyplot as plt\n",
    "\n",
    "qml.draw_mpl(cost_fn_1, decimals=2)(theta=1.0)\n",
    "plt.show()"
   ]
  },
  {
   "cell_type": "markdown",
   "metadata": {},
   "source": [
    "![](../_static/demonstration_assets/ibm_pennylane/figure_1.png){.align-center\n",
    "width=\"80.0%\"}\n"
   ]
  },
  {
   "cell_type": "code",
   "execution_count": null,
   "metadata": {
    "collapsed": false,
    "jupyter": {
     "outputs_hidden": false
    }
   },
   "outputs": [],
   "source": [
    "stepsize = 0.4\n",
    "max_iterations = 40\n",
    "opt = qml.GradientDescentOptimizer(stepsize=stepsize)\n",
    "theta_1 = pnp.array(0.0, requires_grad=True)\n",
    "theta_2 = pnp.array(0.0, requires_grad=True)\n",
    "energies_1 = []\n",
    "energies_2 = []\n",
    "for n in range(max_iterations):\n",
    "    theta_1, prev_energy_1 = opt.step_and_cost(cost_fn_1, theta_1)\n",
    "    theta_2, prev_energy_2 = opt.step_and_cost(cost_fn_2, theta_2)\n",
    "    print(prev_energy_1, prev_energy_2)\n",
    "    energies_1.append(prev_energy_1)\n",
    "    energies_2.append(prev_energy_2)"
   ]
  },
  {
   "cell_type": "markdown",
   "metadata": {},
   "source": [
    "::: rst-class\n",
    "sphx-glr-script-out\n",
    "\n",
    "``` none\n",
    "-1.1173489211359304 -1.1190829868933736\n",
    "-1.1279998277357466 -1.1288232086760344\n",
    "-1.1326490062948753 -1.1301129826377698\n",
    "-1.1346624646306156 -1.1359551977827906\n",
    "-1.135531456349987 -1.1361153521202156\n",
    "-1.1359059478903804 -1.1365135907218555\n",
    "-1.1360672311675288 -1.1378046643806679\n",
    "-1.1361366722397177 -1.135703178347981\n",
    "-1.1361665667682972 -1.1357895389865689\n",
    "-1.1361794357654167 -1.1369628601568447\n",
    "-1.1361849754890518 -1.1365783784951322\n",
    "-1.1361873601539711 -1.1367306582741445\n",
    "-1.1361883866679017 -1.1358320382653255\n",
    "-1.1361888285450743 -1.1357663570027223\n",
    "-1.1361890187570935 -1.135670418637738\n",
    "-1.1361891006364095 -1.1369084485357166\n",
    "-1.1361891358824536 -1.139272401360956\n",
    "-1.1361891510545838 -1.137130432389924\n",
    "-1.136189157585629 -1.1377776180459274\n",
    "-1.1361891603970047 -1.1358917536737867\n",
    "-1.1361891616071986 -1.1370070425290821\n",
    "-1.1361891621281424 -1.135792429417887\n",
    "-1.13618916235239 -1.1350561467266231\n",
    "-1.13618916244892 -1.1366759212135573\n",
    "-1.1361891624904732 -1.1351253597692734\n",
    "-1.13618916250836 -1.1362073324228987\n",
    " -1.13618916251606 -1.1366017151897079\n",
    "-1.136189162519374 -1.1362493563165617\n",
    "-1.136189162520801 -1.1378309783921152\n",
    "-1.1361891625214149 -1.1350975937163135\n",
    "-1.1361891625216796 -1.1372437534918245\n",
    "-1.136189162521793 -1.1361363466968788\n",
    "-1.1361891625218425 -1.136401712436813\n",
    "-1.1361891625218634 -1.1346185510801001\n",
    "-1.136189162521872 -1.1351658522378076\n",
    "-1.1361891625218763 -1.1350958264741222\n",
    "-1.1361891625218783 -1.135516284054897\n",
    "-1.136189162521879 -1.137538330500378\n",
    " -1.1361891625218792 -1.1359072863719688\n",
    "-1.1361891625218794 -1.1369053955536899\n",
    "```\n",
    ":::\n"
   ]
  },
  {
   "cell_type": "markdown",
   "metadata": {},
   "source": [
    "We can clearly see the difference between the two devices when we plot\n",
    "the energies over each iteration:\n"
   ]
  },
  {
   "cell_type": "code",
   "execution_count": null,
   "metadata": {
    "collapsed": false,
    "jupyter": {
     "outputs_hidden": false
    }
   },
   "outputs": [],
   "source": [
    "plt.plot(energies_1, color=\"r\", label=\"default.qubit\")\n",
    "plt.plot(energies_2, color=\"b\", label=\"qiskit.aer\")\n",
    "\n",
    "# min energy = min eigenvalue\n",
    "min_energy = min(qml.eigvals(H))\n",
    "z = [min_energy] * max_iterations\n",
    "\n",
    "plt.plot(z, \"--\", color=\"k\", label=\"Exact answer\")\n",
    "plt.xlabel(\"VQE iterations\")\n",
    "plt.ylabel(\"Energy (Ha)\")\n",
    "plt.legend()\n",
    "plt.show()"
   ]
  },
  {
   "cell_type": "markdown",
   "metadata": {},
   "source": [
    "![](../_static/demonstration_assets/ibm_pennylane/figure_2.png){.align-center\n",
    "width=\"80.0%\"}\n"
   ]
  },
  {
   "cell_type": "markdown",
   "metadata": {},
   "source": [
    "The device with the finite number of shots is unable to converge to the\n",
    "right answer because it is limited by the precision of the result in\n",
    "each iteration. This is an effect that will certainly appear in real\n",
    "quantum devices too, and it can be instructive to study this effect\n",
    "independently of all the other limitations on real devices, such as\n",
    "decoherence, limited topology and readout errors.\n",
    "\n",
    "This tutorial has demonstrated how and why to use quantum computing\n",
    "hardware provided by IBM using PennyLane. To read more about the details\n",
    "and possibilities of the PennyLane-Qiskit plugin, [read the\n",
    "documentation](https://docs.pennylane.ai/projects/qiskit/en/latest/index.html).\n",
    "\n",
    "About the authors \\-\\-\\-\\-\\-\\-\\-\\-\\-\\-\\-\\-\\-\\-\\--.. include::\n",
    "../\\_static/authors/kaur_kristjuhan.txt .. include::\n",
    "../\\_static/authors/clara_ferreira_cores.txt .. include::\n",
    "../\\_static/authors/mark_nicholas_jones.txt\n"
   ]
  }
 ],
 "metadata": {
  "kernelspec": {
   "display_name": "Python 3 (ipykernel)",
   "language": "python",
   "name": "python3"
  },
  "language_info": {
   "codemirror_mode": {
    "name": "ipython",
    "version": 3
   },
   "file_extension": ".py",
   "mimetype": "text/x-python",
   "name": "python",
   "nbconvert_exporter": "python",
   "pygments_lexer": "ipython3",
   "version": "3.12.4"
  }
 },
 "nbformat": 4,
 "nbformat_minor": 4
}
