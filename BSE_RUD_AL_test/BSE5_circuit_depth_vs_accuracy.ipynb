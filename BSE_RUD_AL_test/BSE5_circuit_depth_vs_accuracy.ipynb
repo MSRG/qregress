{
 "cells": [
  {
   "cell_type": "code",
   "execution_count": null,
   "id": "bbdd75b6-4ece-4100-a09f-251f23ee0730",
   "metadata": {},
   "outputs": [],
   "source": [
    "import joblib\n",
    "import click\n",
    "import json\n",
    "import time\n",
    "import os\n",
    "import itertools\n",
    "import collections.abc\n",
    "from shutil import copy,SameFileError\n",
    "from glob import glob\n",
    "\n",
    "import matplotlib.pyplot as plt\n",
    "import seaborn as sns\n",
    "import numpy as np\n",
    "import pandas as pd\n",
    "import pennylane as qml\n",
    "from sklearn.metrics import mean_squared_error\n",
    "from sklearn.model_selection import KFold\n",
    "# from qiskit_ibm_provider import IBMProvider\n",
    "\n",
    "from quantum.Quantum import QuantumRegressor\n",
    "from quantum.Evaluate import evaluate\n",
    "from settings import ANSATZ_LIST, ENCODER_LIST\n",
    "from sklearn.utils._testing import ignore_warnings\n",
    "from sklearn.exceptions import InconsistentVersionWarning"
   ]
  },
  {
   "cell_type": "code",
   "execution_count": null,
   "id": "27fa5182-d9fc-4d3d-915c-cfdeecaf7412",
   "metadata": {},
   "outputs": [],
   "source": [
    "HOME=os.path.expanduser(\"~\")"
   ]
  },
  {
   "cell_type": "code",
   "execution_count": null,
   "id": "7e7c5b2f-26d5-42ff-b664-a4afbd3a09cb",
   "metadata": {},
   "outputs": [],
   "source": [
    "datadirs=glob(os.path.join(HOME,'qregress/./5qubit/*/M-M-CZ_HWE-CNOT/M-M-CZ_HWE-CNOT_results.json'))+[os.path.join(HOME,'qregress/BSE-calc-test/5qubit/M-M-CZ_HWE-CNOT/M-M-CZ_HWE-CNOT_results.json')]"
   ]
  },
  {
   "cell_type": "code",
   "execution_count": null,
   "id": "7c39374e-f0c9-4894-8bbc-76c7a4126379",
   "metadata": {},
   "outputs": [],
   "source": [
    "dfs=[]\n",
    "for i in datadirs:\n",
    "    with open(i,'r') as g:\n",
    "        data = json.load(g)\n",
    "    df = pd.DataFrame.from_dict(data)\n",
    "    name = os.path.basename(os.path.dirname(os.path.dirname(i)))\n",
    "    if \"RUD\"  in name:\n",
    "        df['RUD']=int(name.replace(\"RUD\",\"\"))\n",
    "        df['AL']=1\n",
    "        # df['RUD'] = \n",
    "    elif \"AL\" in name:\n",
    "        df['RUD']=1\n",
    "        df['AL']=name.replace(\"AL\",\"\")\n",
    "    else:\n",
    "        df['RUD']=1\n",
    "        df['AL']=1\n",
    "    dfs.append(df)\n",
    "    \n",
    "stacked = pd.concat(dfs)"
   ]
  },
  {
   "cell_type": "code",
   "execution_count": null,
   "id": "343233ab-451a-4f1c-bb1e-f5f196676f69",
   "metadata": {},
   "outputs": [],
   "source": [
    "stacked"
   ]
  },
  {
   "cell_type": "code",
   "execution_count": null,
   "id": "d5037f36-2dc0-4ca7-939f-314fb164b0bf",
   "metadata": {},
   "outputs": [],
   "source": [
    "\n",
    "\n",
    "# device='qiskit.aer'\n",
    "# device_backend = FakeCairoV2()\n",
    "# backend = AerSimulator.from_backend(device_backend)\n",
    "# device = qml.device(device, wires=num_qubits, backend=backend, shots=shots)\n",
    "\n",
    "\n",
    "device='qulacs.simulator'\n",
    "num_qubits=5\n",
    "device = qml.device(device, wires=num_qubits)\n"
   ]
  },
  {
   "cell_type": "code",
   "execution_count": null,
   "id": "62ac23bb-7243-471d-ab46-5ea63892f3ab",
   "metadata": {},
   "outputs": [],
   "source": [
    "def circuit(features, parameters):\n",
    "    #  builds the circuit with the given encoder and variational circuits.\n",
    "    #  encoder and variational circuits must have only two required parameters, params/feats and wires\n",
    "    for i in range(re_upload_depth):\n",
    "        params = initial_parameters.reshape(re_upload_depth,-1)[i]\n",
    "        \n",
    "        encoder(features, wires=range(num_qubits))\n",
    "        variational(params, wires=range(num_qubits))\n",
    "\n",
    "    return qml.expval(qml.PauliZ(0))"
   ]
  },
  {
   "cell_type": "code",
   "execution_count": null,
   "id": "810b6d27-e79a-4e80-be73-c35732e31d6e",
   "metadata": {},
   "outputs": [],
   "source": [
    "def get_depth(enc,var,rud,features,parameters):\n",
    "    circuit_gates=0\n",
    "    circuit_depth=0\n",
    "    for i in range(rud):\n",
    "        params = initial_parameters.reshape(rud,-1)[i]\n",
    "        \n",
    "        encoder_specs=qml.specs(qml.QNode(encoder,device,expansion_strategy='device'))(features, wires=range(num_qubits))['resources']\n",
    "        var_specs=qml.specs(qml.QNode(variational,device,expansion_strategy='device'))(params, wires=range(num_qubits))['resources']\n",
    "\n",
    "        circuit_gates+=var_specs.num_gates + encoder_specs.num_gates\n",
    "        circuit_depth+=var_specs.depth + encoder_specs.depth\n",
    "    return circuit_gates,circuit_depth"
   ]
  },
  {
   "cell_type": "code",
   "execution_count": null,
   "id": "dc344b1a-5e87-4eee-9ae0-f4d94c397948",
   "metadata": {},
   "outputs": [],
   "source": [
    "\n",
    "\n",
    "# draw_encoder = qml.draw_mpl(qml.QNode(ENCODER_LIST['IQP'],device),level=3)\n",
    "# draw_encoder(np.random.rand(num_qubits), range(num_qubits))"
   ]
  },
  {
   "cell_type": "code",
   "execution_count": null,
   "id": "1b9387ad-5a74-48a0-9242-edd9b9acf2e9",
   "metadata": {},
   "outputs": [],
   "source": [
    "results={}\n",
    "flat_results=[]\n",
    "for d in [3, 5]:\n",
    "    results[d]={}\n",
    "    for a in ['AL','RUD']:\n",
    "        results[d][a]={}\n",
    "        if a=='AL':\n",
    "            LAYERS=d\n",
    "            re_upload_depth=1\n",
    "        else:\n",
    "            LAYERS=1\n",
    "            re_upload_depth=d\n",
    "            \n",
    "        for p in [\"M-M-CZ_HWE-CNOT\"]:\n",
    "            results[d][a][p]={}\n",
    "            depth_path = os.path.join(\"./5qubit/\",''.join((str(d),a)),p)\n",
    "            if os.path.exists(depth_path):\n",
    "                with open(os.path.join(depth_path,f'{p}_results.json'),'r') as f:\n",
    "                    results_dict=json.load(f)\n",
    "                \n",
    "                \n",
    "            ENCODER, ANSATZ = p.split('_')\n",
    "            # print(ENCODER, ANSATZ)\n",
    "            encoder = ENCODER_LIST[ENCODER]\n",
    "            variational=ANSATZ_LIST[ANSATZ]\n",
    "            variational.layers = LAYERS\n",
    "            variational.set_wires(range(num_qubits))\n",
    "     \n",
    "\n",
    "            num_params = variational.num_params * re_upload_depth\n",
    "            generator = np.random.default_rng(12958234)\n",
    "            initial_parameters = generator.uniform(-np.pi, np.pi, num_params)\n",
    "            feat = generator.uniform(-1, 1, num_qubits)\n",
    "            \n",
    "            qnode = qml.QNode(circuit, device)        \n",
    "            circuit_specs=qml.specs(qnode)(feat,initial_parameters)['resources']\n",
    "\n",
    "            circuit_gates,circuit_depth= get_depth(encoder,variational,re_upload_depth,feat,initial_parameters)\n",
    "            # print(circuit_specs.num_gates,circuit_specs.depth)\n",
    "            # print(circuit_gates,circuit_depth)\n",
    "            \n",
    "            # print(f\"{p} AL_{LAYERS} RUD_{re_upload_depth}\\n\",circuit_specs)\n",
    "            # qml.draw_mpl(qnode,level=1)(feat,initial_parameters)\n",
    "            # plt.show()\n",
    "            # print(variational.layers)\n",
    "            # print()\n",
    "            with open(os.path.join(depth_path,'model_log.csv'),'r') as f:\n",
    "                # Create df\n",
    "                timedf = pd.DataFrame(pd.to_datetime([i.split(',')[0] for i in f.readlines() if '[' in i], format='%a %b %d %H:%M:%S %Y'),columns=['Time'])\n",
    "                # Get time between iterations and get the mean time\n",
    "                timedf['Iter time']=[i.total_seconds() for i in timedf['Time'].diff()]\n",
    "                \n",
    "            print(d,a,p,results_dict['MAE_train'],results_dict['MAE_test'])\n",
    "            results[d][a][p]={'R2_train':results_dict['R2_train'],'R2_test':results_dict['R2_test'],'num_gates':circuit_gates,'depth':circuit_depth,'mean_iter':timedf['Iter time'].mean()}\n",
    "            if a=='AL':\n",
    "                flat_results.append((d,1,p,results_dict['R2_train'],results_dict['R2_test'],circuit_gates,circuit_depth,timedf['Iter time'].mean()))\n",
    "            else:\n",
    "                flat_results.append((1,d,p,results_dict['R2_train'],results_dict['R2_test'],circuit_gates,circuit_depth,timedf['Iter time'].mean()))\n",
    "            "
   ]
  },
  {
   "cell_type": "code",
   "execution_count": null,
   "id": "5b418b67-50fe-429a-a6e3-7d41261a3405",
   "metadata": {},
   "outputs": [],
   "source": [
    "for p in [\"M-M-CZ_HWE-CNOT\"]:\n",
    "    with open(f'../BSE-calc-test/5qubit/{p}/{p}_results.json','r') as f:\n",
    "        og_results=json.load(f)\n",
    "        \n",
    "    ENCODER, ANSATZ = p.split('_')\n",
    "    # print(ENCODER, ANSATZ)\n",
    "    encoder = ENCODER_LIST[ENCODER]\n",
    "    variational=ANSATZ_LIST[ANSATZ]\n",
    "\n",
    "    LAYERS=1\n",
    "    re_upload_depth=1\n",
    "    variational.layers = LAYERS\n",
    "    variational.set_wires(range(num_qubits))\n",
    "    \n",
    "\n",
    "    num_params = variational.num_params * re_upload_depth\n",
    "    generator = np.random.default_rng(12958234)\n",
    "    initial_parameters = generator.uniform(-np.pi, np.pi, num_params)\n",
    "    feat = generator.uniform(-1, 1, num_qubits)\n",
    "    \n",
    "    qnode = qml.QNode(circuit, device)   \n",
    "\n",
    "    # print(f\"{p} AL_{LAYERS} RUD_{re_upload_depth}\\n\",circuit_specs)\n",
    "    # qml.draw_mpl(qnode,level=1)(feat,initial_parameters)\n",
    "    # plt.show()\n",
    "    \n",
    "    circuit_specs=qml.specs(qnode)(feat,initial_parameters)['resources']\n",
    "\n",
    "    circuit_gates,circuit_depth= get_depth(encoder,variational,1,feat,initial_parameters)\n",
    "    \n",
    "    with open(os.path.join(f\"../BSE-calc-test/5qubit/{p}\",'model_log.csv'),'r') as f:\n",
    "        # Create df\n",
    "        timedf = pd.DataFrame(pd.to_datetime([i.split(',')[0] for i in f.readlines() if '[' in i], format='%a %b %d %H:%M:%S %Y'),columns=['Time'])\n",
    "        # Get time between iterations and get the mean time\n",
    "        timedf['Iter time']=[i.total_seconds() for i in timedf['Time'].diff()]\n",
    "    print(p,og_results['MAE_train'],og_results['MAE_test'])\n",
    "    flat_results.append((1,1,p,og_results['R2_train'],og_results['R2_test'],circuit_gates,circuit_depth,timedf['Iter time'].mean()))"
   ]
  },
  {
   "cell_type": "code",
   "execution_count": null,
   "id": "2c4ccc32-e1fd-4930-8a6b-ce166bbe9082",
   "metadata": {},
   "outputs": [],
   "source": [
    "results"
   ]
  },
  {
   "cell_type": "code",
   "execution_count": null,
   "id": "f2b68afc-3cf1-4a3b-a516-afcfb7aefcb1",
   "metadata": {},
   "outputs": [],
   "source": [
    "df = pd.DataFrame(flat_results,columns=['AL','RUD','pairs','R2 Train','R2 Test','num_gates','depth','mean_iter'])"
   ]
  },
  {
   "cell_type": "code",
   "execution_count": null,
   "id": "dbdaa8c4-6c0b-41e5-8d42-f5b65a2582a0",
   "metadata": {},
   "outputs": [],
   "source": [
    "df.sort_values(by=['R2 Train','R2 Test'])"
   ]
  },
  {
   "cell_type": "code",
   "execution_count": null,
   "id": "99414ce8-1708-495b-98aa-3990af89c17e",
   "metadata": {},
   "outputs": [],
   "source": [
    "trash=pd.read_csv('./5qubit/3AL/M-M-CZ_HWE-CNOT/M-M-CZ_HWE-CNOT_predicted_values.csv',index_col=0)"
   ]
  },
  {
   "cell_type": "code",
   "execution_count": null,
   "id": "1f87c082-93d6-4918-83b5-09e02d645b37",
   "metadata": {},
   "outputs": [],
   "source": [
    "trash"
   ]
  },
  {
   "cell_type": "code",
   "execution_count": null,
   "id": "a3f94621-9d2f-4232-8ead-a18c403ee435",
   "metadata": {},
   "outputs": [],
   "source": [
    "plt.scatter([float(i.strip('[]')) for i in trash['Predicted']],[float(i.strip('[]')) for i in trash['Reference']])\n",
    "plt.plot([float(i.strip('[]')) for i in trash['Reference']],[float(i.strip('[]')) for i in trash['Reference']])"
   ]
  },
  {
   "cell_type": "code",
   "execution_count": null,
   "id": "9391f83a-eab8-4667-8ecf-f453749d1ada",
   "metadata": {},
   "outputs": [],
   "source": [
    "df['diff']=(df['R2 Train']-df['R2 Test']).abs()"
   ]
  },
  {
   "cell_type": "code",
   "execution_count": null,
   "id": "c1a9e80f-8de2-4028-a798-64d594f6cdff",
   "metadata": {},
   "outputs": [],
   "source": [
    "base = df[(df[\"AL\"]==1)&(df[\"RUD\"]==1)]['R2 Train']"
   ]
  },
  {
   "cell_type": "code",
   "execution_count": null,
   "id": "0cf8f3d8-c246-4433-ad7e-9f776dffdd7f",
   "metadata": {},
   "outputs": [],
   "source": [
    "df[(df[\"AL\"]!=1)|(df[\"RUD\"]!=1)]"
   ]
  },
  {
   "cell_type": "code",
   "execution_count": null,
   "id": "6b15d32a-e05b-469c-955d-066072f680aa",
   "metadata": {},
   "outputs": [],
   "source": [
    "df.sort_values(by=['R2 Train','R2 Test'])"
   ]
  },
  {
   "cell_type": "code",
   "execution_count": null,
   "id": "1e32b1a8-2c65-476b-85eb-111cf8de4165",
   "metadata": {},
   "outputs": [],
   "source": [
    "100*((df[(df[\"AL\"]!=1)|(df[\"RUD\"]!=1)]['R2 Train'] - base.values)/base.values)"
   ]
  },
  {
   "cell_type": "code",
   "execution_count": null,
   "id": "27fbef78-ee10-4cd2-a040-68b1a54802f4",
   "metadata": {},
   "outputs": [],
   "source": [
    "df['AL_RUD']=[f\"({AL},{RUD})\" for AL,RUD in df[['AL','RUD']].values]"
   ]
  },
  {
   "cell_type": "code",
   "execution_count": null,
   "id": "ed3dfc1f-3741-480f-963f-abdae7dfb4bb",
   "metadata": {},
   "outputs": [],
   "source": [
    "df.rename(columns={'R2 Train':'Train','R2 Test':'Test'}).melt(id_vars=['AL_RUD'], value_vars=['Train','Test']).sort_values(by='AL_RUD')"
   ]
  },
  {
   "cell_type": "code",
   "execution_count": null,
   "id": "94752dfc-da39-4f22-92d3-05fe79714162",
   "metadata": {},
   "outputs": [],
   "source": [
    "ax = sns.barplot(data=df.rename(columns={'R2 Train':'Train','R2 Test':'Test'}).melt(id_vars=['AL_RUD'], value_vars=['Train','Test']).sort_values(by='AL_RUD'),x='variable',y='value',hue='AL_RUD',palette=sns.color_palette('Paired',5))\n",
    "for bar in ax.patches:\n",
    "    height = bar.get_height()\n",
    "    if height!=0:\n",
    "        ax.text(\n",
    "            bar.get_x() + bar.get_width() / 2,\n",
    "            height,\n",
    "            f'{height:.2f}',  # Format the label as desired\n",
    "            ha='center',\n",
    "            va='bottom',\n",
    "\n",
    "        )\n",
    "\n",
    "plt.ylabel('R$^{2}$')\n",
    "plt.xlabel('')\n",
    "plt.title('BSE5: M-M-CZ_HWE-CNOT')\n",
    "plt.legend(bbox_to_anchor=(1.25, 1.0),title='(AL,RUD)')\n",
    "plt.ylim(0,0.20)\n",
    "plt.tight_layout()\n",
    "plt.savefig(os.path.join(HOME,'qregress/images/BSE/fivequbit/BSE5_RUDAL.png'),dpi=300,bbox_inches='tight')\n",
    "plt.show()"
   ]
  },
  {
   "cell_type": "code",
   "execution_count": null,
   "id": "2e425d53-e6dd-497c-a1b2-fab8bf2f8d15",
   "metadata": {},
   "outputs": [],
   "source": [
    "melteddf = df.rename(columns={'R2 Train':'Train','R2 Test':'Test'}).melt(id_vars=['AL','RUD'], value_vars=['Train','Test'])\n",
    "\n",
    "fig, (ax1,ax2) = plt.subplots(1,2,sharey=True,figsize=(10,5))\n",
    "sns.lineplot(melteddf[melteddf['RUD']==1],x='AL',y='value',hue='variable',ax=ax1,palette=sns.color_palette('Paired',2),marker='o', markeredgecolor='black')\n",
    "sns.lineplot(melteddf[melteddf['AL']==1],x='RUD',y='value',hue='variable',ax=ax2,palette=sns.color_palette('Paired',2),marker='o', markeredgecolor='black')\n",
    "ax1.set_ylim(0,1)\n",
    "ax1.set_ylabel(\"R$^{2}$\")\n",
    "ax1.set_xlim(0.75,5.25)\n",
    "ax2.set_xlim(0.75,5.25)\n",
    "ax1.set_xlabel(\"Ansatz Layers (AL)\")\n",
    "ax2.set_xlabel(\"Re-upload Depth (RUD)\")\n",
    "# Remove legends from individual plots\n",
    "ax1.get_legend().remove()\n",
    "ax2.get_legend().remove()\n",
    "\n",
    "# Global legend\n",
    "fig.suptitle('M-M-CZ_HWE-CNOT')\n",
    "plt.legend(loc=\"upper right\", bbox_to_anchor=(1.5, 1.0))\n",
    "plt.tight_layout()\n",
    "plt.savefig(os.path.join(HOME,'qregress/images/BSE/fivequbit/BSE5_RUDAL_lineplot.png'),dpi=300,bbox_inches='tight')\n",
    "plt.show()"
   ]
  },
  {
   "cell_type": "code",
   "execution_count": null,
   "id": "c05cfccd-4456-42cb-ac61-fd8a9ebe66bc",
   "metadata": {},
   "outputs": [],
   "source": []
  }
 ],
 "metadata": {
  "kernelspec": {
   "display_name": "Python 3 (ipykernel)",
   "language": "python",
   "name": "python3"
  },
  "language_info": {
   "codemirror_mode": {
    "name": "ipython",
    "version": 3
   },
   "file_extension": ".py",
   "mimetype": "text/x-python",
   "name": "python",
   "nbconvert_exporter": "python",
   "pygments_lexer": "ipython3",
   "version": "3.12.2"
  }
 },
 "nbformat": 4,
 "nbformat_minor": 5
}
