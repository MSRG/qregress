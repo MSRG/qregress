{
 "cells": [
  {
   "cell_type": "code",
   "execution_count": 1,
   "id": "bbdd75b6-4ece-4100-a09f-251f23ee0730",
   "metadata": {},
   "outputs": [],
   "source": [
    "import joblib\n",
    "import click\n",
    "import json\n",
    "import time\n",
    "import os\n",
    "import itertools\n",
    "import collections.abc\n",
    "from shutil import copy,SameFileError\n",
    "from glob import glob\n",
    "\n",
    "import matplotlib.pyplot as plt\n",
    "import seaborn as sns\n",
    "import numpy as np\n",
    "import pandas as pd\n",
    "import pennylane as qml\n",
    "from sklearn.metrics import mean_squared_error\n",
    "from sklearn.model_selection import KFold\n",
    "# from qiskit_ibm_provider import IBMProvider\n",
    "\n",
    "from quantum.Quantum import QuantumRegressor\n",
    "from quantum.Evaluate import evaluate\n",
    "from settings import ANSATZ_LIST, ENCODER_LIST\n",
    "from sklearn.utils._testing import ignore_warnings\n",
    "from sklearn.exceptions import InconsistentVersionWarning"
   ]
  },
  {
   "cell_type": "code",
   "execution_count": 2,
   "id": "27fa5182-d9fc-4d3d-915c-cfdeecaf7412",
   "metadata": {},
   "outputs": [],
   "source": [
    "HOME=os.path.expanduser(\"~\")"
   ]
  },
  {
   "cell_type": "code",
   "execution_count": 3,
   "id": "7e7c5b2f-26d5-42ff-b664-a4afbd3a09cb",
   "metadata": {},
   "outputs": [],
   "source": [
    "datadirs=glob(os.path.join(HOME,'qregress/./16qubit/*/A2_Hadamard/A2_Hadamard_results.json'))+[os.path.join(HOME,'qregress/BSE-calc-test/16qubit/A2_Hadamard/A2_Hadamard_results.json')]"
   ]
  },
  {
   "cell_type": "code",
   "execution_count": 4,
   "id": "7c39374e-f0c9-4894-8bbc-76c7a4126379",
   "metadata": {},
   "outputs": [],
   "source": [
    "dfs=[]\n",
    "for i in datadirs:\n",
    "    with open(i,'r') as g:\n",
    "        data = json.load(g)\n",
    "    df = pd.DataFrame.from_dict(data)\n",
    "    name = os.path.basename(os.path.dirname(os.path.dirname(i)))\n",
    "    if \"RUD\"  in name:\n",
    "        df['RUD']=int(name.replace(\"RUD\",\"\"))\n",
    "        df['AL']=1\n",
    "        # df['RUD'] = \n",
    "    elif \"AL\" in name:\n",
    "        df['RUD']=1\n",
    "        df['AL']=name.replace(\"AL\",\"\")\n",
    "    else:\n",
    "        df['RUD']=1\n",
    "        df['AL']=1\n",
    "    dfs.append(df)\n",
    "    \n",
    "stacked = pd.concat(dfs)"
   ]
  },
  {
   "cell_type": "code",
   "execution_count": 5,
   "id": "343233ab-451a-4f1c-bb1e-f5f196676f69",
   "metadata": {},
   "outputs": [
    {
     "data": {
      "text/html": [
       "<div>\n",
       "<style scoped>\n",
       "    .dataframe tbody tr th:only-of-type {\n",
       "        vertical-align: middle;\n",
       "    }\n",
       "\n",
       "    .dataframe tbody tr th {\n",
       "        vertical-align: top;\n",
       "    }\n",
       "\n",
       "    .dataframe thead th {\n",
       "        text-align: right;\n",
       "    }\n",
       "</style>\n",
       "<table border=\"1\" class=\"dataframe\">\n",
       "  <thead>\n",
       "    <tr style=\"text-align: right;\">\n",
       "      <th></th>\n",
       "      <th>MSE_train</th>\n",
       "      <th>R2_train</th>\n",
       "      <th>MAE_train</th>\n",
       "      <th>MSE_test</th>\n",
       "      <th>R2_test</th>\n",
       "      <th>MAE_test</th>\n",
       "      <th>RUD</th>\n",
       "      <th>AL</th>\n",
       "    </tr>\n",
       "  </thead>\n",
       "  <tbody>\n",
       "    <tr>\n",
       "      <th>0</th>\n",
       "      <td>748.147716</td>\n",
       "      <td>0.002777</td>\n",
       "      <td>19.807104</td>\n",
       "      <td>762.369482</td>\n",
       "      <td>0.014043</td>\n",
       "      <td>20.074514</td>\n",
       "      <td>1</td>\n",
       "      <td>1</td>\n",
       "    </tr>\n",
       "  </tbody>\n",
       "</table>\n",
       "</div>"
      ],
      "text/plain": [
       "    MSE_train  R2_train  MAE_train    MSE_test   R2_test   MAE_test  RUD  AL\n",
       "0  748.147716  0.002777  19.807104  762.369482  0.014043  20.074514    1   1"
      ]
     },
     "execution_count": 5,
     "metadata": {},
     "output_type": "execute_result"
    }
   ],
   "source": [
    "stacked"
   ]
  },
  {
   "cell_type": "code",
   "execution_count": 6,
   "id": "d5037f36-2dc0-4ca7-939f-314fb164b0bf",
   "metadata": {},
   "outputs": [],
   "source": [
    "\n",
    "\n",
    "# device='qiskit.aer'\n",
    "# device_backend = FakeCairoV2()\n",
    "# backend = AerSimulator.from_backend(device_backend)\n",
    "# device = qml.device(device, wires=num_qubits, backend=backend, shots=shots)\n",
    "\n",
    "\n",
    "device='qulacs.simulator'\n",
    "num_qubits=5\n",
    "device = qml.device(device, wires=num_qubits)\n"
   ]
  },
  {
   "cell_type": "code",
   "execution_count": 7,
   "id": "62ac23bb-7243-471d-ab46-5ea63892f3ab",
   "metadata": {},
   "outputs": [],
   "source": [
    "def circuit(features, parameters):\n",
    "    #  builds the circuit with the given encoder and variational circuits.\n",
    "    #  encoder and variational circuits must have only two required parameters, params/feats and wires\n",
    "    for i in range(re_upload_depth):\n",
    "        params = initial_parameters.reshape(re_upload_depth,-1)[i]\n",
    "        \n",
    "        encoder(features, wires=range(num_qubits))\n",
    "        variational(params, wires=range(num_qubits))\n",
    "\n",
    "    return qml.expval(qml.PauliZ(0))"
   ]
  },
  {
   "cell_type": "code",
   "execution_count": 8,
   "id": "810b6d27-e79a-4e80-be73-c35732e31d6e",
   "metadata": {},
   "outputs": [],
   "source": [
    "def get_depth(enc,var,rud,features,parameters):\n",
    "    circuit_gates=0\n",
    "    circuit_depth=0\n",
    "    for i in range(rud):\n",
    "        params = initial_parameters.reshape(rud,-1)[i]\n",
    "        \n",
    "        encoder_specs=qml.specs(qml.QNode(encoder,device,expansion_strategy='device'))(features, wires=range(num_qubits))['resources']\n",
    "        var_specs=qml.specs(qml.QNode(variational,device,expansion_strategy='device'))(params, wires=range(num_qubits))['resources']\n",
    "\n",
    "        circuit_gates+=var_specs.num_gates + encoder_specs.num_gates\n",
    "        circuit_depth+=var_specs.depth + encoder_specs.depth\n",
    "    return circuit_gates,circuit_depth"
   ]
  },
  {
   "cell_type": "code",
   "execution_count": 9,
   "id": "dc344b1a-5e87-4eee-9ae0-f4d94c397948",
   "metadata": {},
   "outputs": [],
   "source": [
    "\n",
    "\n",
    "# draw_encoder = qml.draw_mpl(qml.QNode(ENCODER_LIST['IQP'],device),level=3)\n",
    "# draw_encoder(np.random.rand(num_qubits), range(num_qubits))"
   ]
  },
  {
   "cell_type": "code",
   "execution_count": 10,
   "id": "1b9387ad-5a74-48a0-9242-edd9b9acf2e9",
   "metadata": {},
   "outputs": [
    {
     "name": "stdout",
     "output_type": "stream",
     "text": [
      "3 AL A2_Hadamard 19.984908162802423 20.495342385045966\n",
      "3 RUD A2_Hadamard 23.131813468939853 23.022589029109096\n",
      "5 AL A2_Hadamard 19.737399466096242 20.123435255888324\n",
      "5 RUD A2_Hadamard 18.147164155256 18.173727474826954\n"
     ]
    },
    {
     "name": "stderr",
     "output_type": "stream",
     "text": [
      "/Users/grierjones/miniconda3/envs/simple_qml/lib/python3.12/site-packages/pennylane/gradients/gradient_transform.py:265: UserWarning: Attempted to compute the gradient of a tape with no trainable parameters. If this is unintended, please mark trainable parameters in accordance with the chosen auto differentiation framework, or via the 'tape.trainable_params' property.\n",
      "  warnings.warn(_no_trainable_grad_warning)\n",
      "/Users/grierjones/miniconda3/envs/simple_qml/lib/python3.12/site-packages/pennylane/workflow/qnode.py:486: PennyLaneDeprecationWarning: The 'expansion_strategy' attribute is deprecated and will be removed  in version 0.39. For full control over the stage to which the tape is constructed, use the 'pennylane.workflow.construct_batch' function.\n",
      "  warnings.warn(\n",
      "/Users/grierjones/miniconda3/envs/simple_qml/lib/python3.12/site-packages/pennylane/gradients/gradient_transform.py:265: UserWarning: Attempted to compute the gradient of a tape with no trainable parameters. If this is unintended, please mark trainable parameters in accordance with the chosen auto differentiation framework, or via the 'tape.trainable_params' property.\n",
      "  warnings.warn(_no_trainable_grad_warning)\n",
      "/Users/grierjones/miniconda3/envs/simple_qml/lib/python3.12/site-packages/pennylane/workflow/qnode.py:486: PennyLaneDeprecationWarning: The 'expansion_strategy' attribute is deprecated and will be removed  in version 0.39. For full control over the stage to which the tape is constructed, use the 'pennylane.workflow.construct_batch' function.\n",
      "  warnings.warn(\n",
      "/Users/grierjones/miniconda3/envs/simple_qml/lib/python3.12/site-packages/pennylane/gradients/gradient_transform.py:265: UserWarning: Attempted to compute the gradient of a tape with no trainable parameters. If this is unintended, please mark trainable parameters in accordance with the chosen auto differentiation framework, or via the 'tape.trainable_params' property.\n",
      "  warnings.warn(_no_trainable_grad_warning)\n",
      "/Users/grierjones/miniconda3/envs/simple_qml/lib/python3.12/site-packages/pennylane/workflow/qnode.py:486: PennyLaneDeprecationWarning: The 'expansion_strategy' attribute is deprecated and will be removed  in version 0.39. For full control over the stage to which the tape is constructed, use the 'pennylane.workflow.construct_batch' function.\n",
      "  warnings.warn(\n",
      "/Users/grierjones/miniconda3/envs/simple_qml/lib/python3.12/site-packages/pennylane/gradients/gradient_transform.py:265: UserWarning: Attempted to compute the gradient of a tape with no trainable parameters. If this is unintended, please mark trainable parameters in accordance with the chosen auto differentiation framework, or via the 'tape.trainable_params' property.\n",
      "  warnings.warn(_no_trainable_grad_warning)\n",
      "/Users/grierjones/miniconda3/envs/simple_qml/lib/python3.12/site-packages/pennylane/workflow/qnode.py:486: PennyLaneDeprecationWarning: The 'expansion_strategy' attribute is deprecated and will be removed  in version 0.39. For full control over the stage to which the tape is constructed, use the 'pennylane.workflow.construct_batch' function.\n",
      "  warnings.warn(\n"
     ]
    }
   ],
   "source": [
    "results={}\n",
    "flat_results=[]\n",
    "for d in [3, 5]:\n",
    "    results[d]={}\n",
    "    for a in ['AL','RUD']:\n",
    "        results[d][a]={}\n",
    "        if a=='AL':\n",
    "            LAYERS=d\n",
    "            re_upload_depth=1\n",
    "        else:\n",
    "            LAYERS=1\n",
    "            re_upload_depth=d\n",
    "            \n",
    "        for p in [\"A2_Hadamard\"]:\n",
    "            results[d][a][p]={}\n",
    "            depth_path = os.path.join(\"./16qubit/\",''.join((str(d),a)),p)\n",
    "            if os.path.exists(depth_path):\n",
    "                with open(os.path.join(depth_path,f'{p}_results.json'),'r') as f:\n",
    "                    results_dict=json.load(f)\n",
    "                \n",
    "                \n",
    "            ENCODER, ANSATZ = p.split('_')\n",
    "            # print(ENCODER, ANSATZ)\n",
    "            encoder = ENCODER_LIST[ENCODER]\n",
    "            variational=ANSATZ_LIST[ANSATZ]\n",
    "            variational.layers = LAYERS\n",
    "            variational.set_wires(range(num_qubits))\n",
    "     \n",
    "\n",
    "            num_params = variational.num_params * re_upload_depth\n",
    "            generator = np.random.default_rng(12958234)\n",
    "            initial_parameters = generator.uniform(-np.pi, np.pi, num_params)\n",
    "            feat = generator.uniform(-1, 1, num_qubits)\n",
    "            \n",
    "            qnode = qml.QNode(circuit, device)        \n",
    "            circuit_specs=qml.specs(qnode)(feat,initial_parameters)['resources']\n",
    "\n",
    "            circuit_gates,circuit_depth= get_depth(encoder,variational,re_upload_depth,feat,initial_parameters)\n",
    "            # print(circuit_specs.num_gates,circuit_specs.depth)\n",
    "            # print(circuit_gates,circuit_depth)\n",
    "            \n",
    "            # print(f\"{p} AL_{LAYERS} RUD_{re_upload_depth}\\n\",circuit_specs)\n",
    "            # qml.draw_mpl(qnode,level=1)(feat,initial_parameters)\n",
    "            # plt.show()\n",
    "            # print(variational.layers)\n",
    "            # print()\n",
    "            with open(os.path.join(depth_path,'model_log.csv'),'r') as f:\n",
    "                # Create df\n",
    "                timedf = pd.DataFrame(pd.to_datetime([i.split(',')[0] for i in f.readlines() if '[' in i], format='%a %b %d %H:%M:%S %Y'),columns=['Time'])\n",
    "                # Get time between iterations and get the mean time\n",
    "                timedf['Iter time']=[i.total_seconds() for i in timedf['Time'].diff()]\n",
    "                \n",
    "            print(d,a,p,results_dict['MAE_train'],results_dict['MAE_test'])\n",
    "            results[d][a][p]={'R2_train':results_dict['R2_train'],'R2_test':results_dict['R2_test'],'num_gates':circuit_gates,'depth':circuit_depth,'mean_iter':timedf['Iter time'].mean()}\n",
    "            if a=='AL':\n",
    "                flat_results.append((d,1,p,results_dict['R2_train'],results_dict['R2_test'],circuit_gates,circuit_depth,timedf['Iter time'].mean()))\n",
    "            else:\n",
    "                flat_results.append((1,d,p,results_dict['R2_train'],results_dict['R2_test'],circuit_gates,circuit_depth,timedf['Iter time'].mean()))\n",
    "            "
   ]
  },
  {
   "cell_type": "code",
   "execution_count": 11,
   "id": "5b418b67-50fe-429a-a6e3-7d41261a3405",
   "metadata": {},
   "outputs": [
    {
     "name": "stdout",
     "output_type": "stream",
     "text": [
      "A2_Hadamard 19.807103607588473 20.07451383812292\n"
     ]
    },
    {
     "name": "stderr",
     "output_type": "stream",
     "text": [
      "/Users/grierjones/miniconda3/envs/simple_qml/lib/python3.12/site-packages/pennylane/gradients/gradient_transform.py:265: UserWarning: Attempted to compute the gradient of a tape with no trainable parameters. If this is unintended, please mark trainable parameters in accordance with the chosen auto differentiation framework, or via the 'tape.trainable_params' property.\n",
      "  warnings.warn(_no_trainable_grad_warning)\n",
      "/Users/grierjones/miniconda3/envs/simple_qml/lib/python3.12/site-packages/pennylane/workflow/qnode.py:486: PennyLaneDeprecationWarning: The 'expansion_strategy' attribute is deprecated and will be removed  in version 0.39. For full control over the stage to which the tape is constructed, use the 'pennylane.workflow.construct_batch' function.\n",
      "  warnings.warn(\n"
     ]
    }
   ],
   "source": [
    "for p in [\"A2_Hadamard\"]:\n",
    "    with open(f'../BSE-calc-test/16qubit/{p}/{p}_results.json','r') as f:\n",
    "        og_results=json.load(f)\n",
    "        \n",
    "    ENCODER, ANSATZ = p.split('_')\n",
    "    # print(ENCODER, ANSATZ)\n",
    "    encoder = ENCODER_LIST[ENCODER]\n",
    "    variational=ANSATZ_LIST[ANSATZ]\n",
    "\n",
    "    LAYERS=1\n",
    "    re_upload_depth=1\n",
    "    variational.layers = LAYERS\n",
    "    variational.set_wires(range(num_qubits))\n",
    "    \n",
    "\n",
    "    num_params = variational.num_params * re_upload_depth\n",
    "    generator = np.random.default_rng(12958234)\n",
    "    initial_parameters = generator.uniform(-np.pi, np.pi, num_params)\n",
    "    feat = generator.uniform(-1, 1, num_qubits)\n",
    "    \n",
    "    qnode = qml.QNode(circuit, device)   \n",
    "\n",
    "    # print(f\"{p} AL_{LAYERS} RUD_{re_upload_depth}\\n\",circuit_specs)\n",
    "    # qml.draw_mpl(qnode,level=1)(feat,initial_parameters)\n",
    "    # plt.show()\n",
    "    \n",
    "    circuit_specs=qml.specs(qnode)(feat,initial_parameters)['resources']\n",
    "\n",
    "    circuit_gates,circuit_depth= get_depth(encoder,variational,1,feat,initial_parameters)\n",
    "    \n",
    "    with open(os.path.join(f\"../BSE-calc-test/16qubit/{p}\",'model_log.csv'),'r') as f:\n",
    "        # Create df\n",
    "        timedf = pd.DataFrame(pd.to_datetime([i.split(',')[0] for i in f.readlines() if '[' in i], format='%a %b %d %H:%M:%S %Y'),columns=['Time'])\n",
    "        # Get time between iterations and get the mean time\n",
    "        timedf['Iter time']=[i.total_seconds() for i in timedf['Time'].diff()]\n",
    "    print(p,og_results['MAE_train'],og_results['MAE_test'])\n",
    "    flat_results.append((1,1,p,og_results['R2_train'],og_results['R2_test'],circuit_gates,circuit_depth,timedf['Iter time'].mean()))"
   ]
  },
  {
   "cell_type": "code",
   "execution_count": null,
   "id": "6d03e919-66ac-4140-ba99-52c280f6abcd",
   "metadata": {},
   "outputs": [],
   "source": []
  },
  {
   "cell_type": "code",
   "execution_count": 12,
   "id": "2c4ccc32-e1fd-4930-8a6b-ce166bbe9082",
   "metadata": {},
   "outputs": [
    {
     "data": {
      "text/plain": [
       "{3: {'AL': {'A2_Hadamard': {'R2_train': -0.004501672089211484,\n",
       "    'R2_test': -0.0032764951116888152,\n",
       "    'num_gates': 52,\n",
       "    'depth': 16,\n",
       "    'mean_iter': nan}},\n",
       "  'RUD': {'A2_Hadamard': {'R2_train': -0.2115105089060627,\n",
       "    'R2_test': -0.16047496817029283,\n",
       "    'num_gates': 72,\n",
       "    'depth': 24,\n",
       "    'mean_iter': 623.0}}},\n",
       " 5: {'AL': {'A2_Hadamard': {'R2_train': 0.11132372464569906,\n",
       "    'R2_test': 0.10561748300337737,\n",
       "    'num_gates': 80,\n",
       "    'depth': 24,\n",
       "    'mean_iter': nan}},\n",
       "  'RUD': {'A2_Hadamard': {'R2_train': 0.20266179130458695,\n",
       "    'R2_test': 0.21643069937036485,\n",
       "    'num_gates': 120,\n",
       "    'depth': 40,\n",
       "    'mean_iter': nan}}}}"
      ]
     },
     "execution_count": 12,
     "metadata": {},
     "output_type": "execute_result"
    }
   ],
   "source": [
    "results"
   ]
  },
  {
   "cell_type": "code",
   "execution_count": 13,
   "id": "f2b68afc-3cf1-4a3b-a516-afcfb7aefcb1",
   "metadata": {},
   "outputs": [],
   "source": [
    "df = pd.DataFrame(flat_results,columns=['AL','RUD','pairs','R2 Train','R2 Test','num_gates','depth','mean_iter'])"
   ]
  },
  {
   "cell_type": "code",
   "execution_count": 14,
   "id": "dbdaa8c4-6c0b-41e5-8d42-f5b65a2582a0",
   "metadata": {},
   "outputs": [
    {
     "data": {
      "text/html": [
       "<div>\n",
       "<style scoped>\n",
       "    .dataframe tbody tr th:only-of-type {\n",
       "        vertical-align: middle;\n",
       "    }\n",
       "\n",
       "    .dataframe tbody tr th {\n",
       "        vertical-align: top;\n",
       "    }\n",
       "\n",
       "    .dataframe thead th {\n",
       "        text-align: right;\n",
       "    }\n",
       "</style>\n",
       "<table border=\"1\" class=\"dataframe\">\n",
       "  <thead>\n",
       "    <tr style=\"text-align: right;\">\n",
       "      <th></th>\n",
       "      <th>AL</th>\n",
       "      <th>RUD</th>\n",
       "      <th>pairs</th>\n",
       "      <th>R2 Train</th>\n",
       "      <th>R2 Test</th>\n",
       "      <th>num_gates</th>\n",
       "      <th>depth</th>\n",
       "      <th>mean_iter</th>\n",
       "    </tr>\n",
       "  </thead>\n",
       "  <tbody>\n",
       "    <tr>\n",
       "      <th>1</th>\n",
       "      <td>1</td>\n",
       "      <td>3</td>\n",
       "      <td>A2_Hadamard</td>\n",
       "      <td>-0.211511</td>\n",
       "      <td>-0.160475</td>\n",
       "      <td>72</td>\n",
       "      <td>24</td>\n",
       "      <td>623.0</td>\n",
       "    </tr>\n",
       "    <tr>\n",
       "      <th>0</th>\n",
       "      <td>3</td>\n",
       "      <td>1</td>\n",
       "      <td>A2_Hadamard</td>\n",
       "      <td>-0.004502</td>\n",
       "      <td>-0.003276</td>\n",
       "      <td>52</td>\n",
       "      <td>16</td>\n",
       "      <td>NaN</td>\n",
       "    </tr>\n",
       "    <tr>\n",
       "      <th>4</th>\n",
       "      <td>1</td>\n",
       "      <td>1</td>\n",
       "      <td>A2_Hadamard</td>\n",
       "      <td>0.002777</td>\n",
       "      <td>0.014043</td>\n",
       "      <td>24</td>\n",
       "      <td>8</td>\n",
       "      <td>NaN</td>\n",
       "    </tr>\n",
       "    <tr>\n",
       "      <th>2</th>\n",
       "      <td>5</td>\n",
       "      <td>1</td>\n",
       "      <td>A2_Hadamard</td>\n",
       "      <td>0.111324</td>\n",
       "      <td>0.105617</td>\n",
       "      <td>80</td>\n",
       "      <td>24</td>\n",
       "      <td>NaN</td>\n",
       "    </tr>\n",
       "    <tr>\n",
       "      <th>3</th>\n",
       "      <td>1</td>\n",
       "      <td>5</td>\n",
       "      <td>A2_Hadamard</td>\n",
       "      <td>0.202662</td>\n",
       "      <td>0.216431</td>\n",
       "      <td>120</td>\n",
       "      <td>40</td>\n",
       "      <td>NaN</td>\n",
       "    </tr>\n",
       "  </tbody>\n",
       "</table>\n",
       "</div>"
      ],
      "text/plain": [
       "   AL  RUD        pairs  R2 Train   R2 Test  num_gates  depth  mean_iter\n",
       "1   1    3  A2_Hadamard -0.211511 -0.160475         72     24      623.0\n",
       "0   3    1  A2_Hadamard -0.004502 -0.003276         52     16        NaN\n",
       "4   1    1  A2_Hadamard  0.002777  0.014043         24      8        NaN\n",
       "2   5    1  A2_Hadamard  0.111324  0.105617         80     24        NaN\n",
       "3   1    5  A2_Hadamard  0.202662  0.216431        120     40        NaN"
      ]
     },
     "execution_count": 14,
     "metadata": {},
     "output_type": "execute_result"
    }
   ],
   "source": [
    "df.sort_values(by=['R2 Train','R2 Test'])"
   ]
  },
  {
   "cell_type": "code",
   "execution_count": 15,
   "id": "99414ce8-1708-495b-98aa-3990af89c17e",
   "metadata": {},
   "outputs": [],
   "source": [
    "trash=pd.read_csv('./16qubit/3AL/A2_Hadamard/A2_Hadamard_predicted_values.csv',index_col=0)"
   ]
  },
  {
   "cell_type": "code",
   "execution_count": 16,
   "id": "1f87c082-93d6-4918-83b5-09e02d645b37",
   "metadata": {},
   "outputs": [
    {
     "data": {
      "text/html": [
       "<div>\n",
       "<style scoped>\n",
       "    .dataframe tbody tr th:only-of-type {\n",
       "        vertical-align: middle;\n",
       "    }\n",
       "\n",
       "    .dataframe tbody tr th {\n",
       "        vertical-align: top;\n",
       "    }\n",
       "\n",
       "    .dataframe thead th {\n",
       "        text-align: right;\n",
       "    }\n",
       "</style>\n",
       "<table border=\"1\" class=\"dataframe\">\n",
       "  <thead>\n",
       "    <tr style=\"text-align: right;\">\n",
       "      <th></th>\n",
       "      <th>Predicted</th>\n",
       "      <th>Reference</th>\n",
       "    </tr>\n",
       "    <tr>\n",
       "      <th>Data</th>\n",
       "      <th></th>\n",
       "      <th></th>\n",
       "    </tr>\n",
       "  </thead>\n",
       "  <tbody>\n",
       "    <tr>\n",
       "      <th>Train</th>\n",
       "      <td>[92.17544460331327]</td>\n",
       "      <td>[125.53]</td>\n",
       "    </tr>\n",
       "    <tr>\n",
       "      <th>Train</th>\n",
       "      <td>[89.28152186199995]</td>\n",
       "      <td>[85.28]</td>\n",
       "    </tr>\n",
       "    <tr>\n",
       "      <th>Train</th>\n",
       "      <td>[89.09412267255591]</td>\n",
       "      <td>[83.06]</td>\n",
       "    </tr>\n",
       "    <tr>\n",
       "      <th>Train</th>\n",
       "      <td>[89.72914024473259]</td>\n",
       "      <td>[156.44]</td>\n",
       "    </tr>\n",
       "    <tr>\n",
       "      <th>Train</th>\n",
       "      <td>[92.2726918428474]</td>\n",
       "      <td>[125.92]</td>\n",
       "    </tr>\n",
       "    <tr>\n",
       "      <th>...</th>\n",
       "      <td>...</td>\n",
       "      <td>...</td>\n",
       "    </tr>\n",
       "    <tr>\n",
       "      <th>Test</th>\n",
       "      <td>[94.95373341707135]</td>\n",
       "      <td>[123.26]</td>\n",
       "    </tr>\n",
       "    <tr>\n",
       "      <th>Test</th>\n",
       "      <td>[92.52640733176787]</td>\n",
       "      <td>[65.94]</td>\n",
       "    </tr>\n",
       "    <tr>\n",
       "      <th>Test</th>\n",
       "      <td>[92.30939530377914]</td>\n",
       "      <td>[89.35]</td>\n",
       "    </tr>\n",
       "    <tr>\n",
       "      <th>Test</th>\n",
       "      <td>[92.4305155067175]</td>\n",
       "      <td>[126.02999999999999]</td>\n",
       "    </tr>\n",
       "    <tr>\n",
       "      <th>Test</th>\n",
       "      <td>[90.99521506071896]</td>\n",
       "      <td>[89.89999999999999]</td>\n",
       "    </tr>\n",
       "  </tbody>\n",
       "</table>\n",
       "<p>4387 rows × 2 columns</p>\n",
       "</div>"
      ],
      "text/plain": [
       "                 Predicted             Reference\n",
       "Data                                            \n",
       "Train  [92.17544460331327]              [125.53]\n",
       "Train  [89.28152186199995]               [85.28]\n",
       "Train  [89.09412267255591]               [83.06]\n",
       "Train  [89.72914024473259]              [156.44]\n",
       "Train   [92.2726918428474]              [125.92]\n",
       "...                    ...                   ...\n",
       "Test   [94.95373341707135]              [123.26]\n",
       "Test   [92.52640733176787]               [65.94]\n",
       "Test   [92.30939530377914]               [89.35]\n",
       "Test    [92.4305155067175]  [126.02999999999999]\n",
       "Test   [90.99521506071896]   [89.89999999999999]\n",
       "\n",
       "[4387 rows x 2 columns]"
      ]
     },
     "execution_count": 16,
     "metadata": {},
     "output_type": "execute_result"
    }
   ],
   "source": [
    "trash"
   ]
  },
  {
   "cell_type": "code",
   "execution_count": 17,
   "id": "a3f94621-9d2f-4232-8ead-a18c403ee435",
   "metadata": {},
   "outputs": [
    {
     "data": {
      "text/plain": [
       "[<matplotlib.lines.Line2D at 0x176cdab70>]"
      ]
     },
     "execution_count": 17,
     "metadata": {},
     "output_type": "execute_result"
    },
    {
     "data": {
      "image/png": "[encoded data removed]",
      "text/plain": [
       "<Figure size 640x480 with 1 Axes>"
      ]
     },
     "metadata": {},
     "output_type": "display_data"
    }
   ],
   "source": [
    "plt.scatter([float(i.strip('[]')) for i in trash['Predicted']],[float(i.strip('[]')) for i in trash['Reference']])\n",
    "plt.plot([float(i.strip('[]')) for i in trash['Reference']],[float(i.strip('[]')) for i in trash['Reference']])"
   ]
  },
  {
   "cell_type": "code",
   "execution_count": 18,
   "id": "9391f83a-eab8-4667-8ecf-f453749d1ada",
   "metadata": {},
   "outputs": [],
   "source": [
    "df['diff']=(df['R2 Train']-df['R2 Test']).abs()"
   ]
  },
  {
   "cell_type": "code",
   "execution_count": 19,
   "id": "c1a9e80f-8de2-4028-a798-64d594f6cdff",
   "metadata": {},
   "outputs": [],
   "source": [
    "base = df[(df[\"AL\"]==1)&(df[\"RUD\"]==1)]['R2 Train']"
   ]
  },
  {
   "cell_type": "code",
   "execution_count": 20,
   "id": "0cf8f3d8-c246-4433-ad7e-9f776dffdd7f",
   "metadata": {},
   "outputs": [
    {
     "data": {
      "text/html": [
       "<div>\n",
       "<style scoped>\n",
       "    .dataframe tbody tr th:only-of-type {\n",
       "        vertical-align: middle;\n",
       "    }\n",
       "\n",
       "    .dataframe tbody tr th {\n",
       "        vertical-align: top;\n",
       "    }\n",
       "\n",
       "    .dataframe thead th {\n",
       "        text-align: right;\n",
       "    }\n",
       "</style>\n",
       "<table border=\"1\" class=\"dataframe\">\n",
       "  <thead>\n",
       "    <tr style=\"text-align: right;\">\n",
       "      <th></th>\n",
       "      <th>AL</th>\n",
       "      <th>RUD</th>\n",
       "      <th>pairs</th>\n",
       "      <th>R2 Train</th>\n",
       "      <th>R2 Test</th>\n",
       "      <th>num_gates</th>\n",
       "      <th>depth</th>\n",
       "      <th>mean_iter</th>\n",
       "      <th>diff</th>\n",
       "    </tr>\n",
       "  </thead>\n",
       "  <tbody>\n",
       "    <tr>\n",
       "      <th>0</th>\n",
       "      <td>3</td>\n",
       "      <td>1</td>\n",
       "      <td>A2_Hadamard</td>\n",
       "      <td>-0.004502</td>\n",
       "      <td>-0.003276</td>\n",
       "      <td>52</td>\n",
       "      <td>16</td>\n",
       "      <td>NaN</td>\n",
       "      <td>0.001225</td>\n",
       "    </tr>\n",
       "    <tr>\n",
       "      <th>1</th>\n",
       "      <td>1</td>\n",
       "      <td>3</td>\n",
       "      <td>A2_Hadamard</td>\n",
       "      <td>-0.211511</td>\n",
       "      <td>-0.160475</td>\n",
       "      <td>72</td>\n",
       "      <td>24</td>\n",
       "      <td>623.0</td>\n",
       "      <td>0.051036</td>\n",
       "    </tr>\n",
       "    <tr>\n",
       "      <th>2</th>\n",
       "      <td>5</td>\n",
       "      <td>1</td>\n",
       "      <td>A2_Hadamard</td>\n",
       "      <td>0.111324</td>\n",
       "      <td>0.105617</td>\n",
       "      <td>80</td>\n",
       "      <td>24</td>\n",
       "      <td>NaN</td>\n",
       "      <td>0.005706</td>\n",
       "    </tr>\n",
       "    <tr>\n",
       "      <th>3</th>\n",
       "      <td>1</td>\n",
       "      <td>5</td>\n",
       "      <td>A2_Hadamard</td>\n",
       "      <td>0.202662</td>\n",
       "      <td>0.216431</td>\n",
       "      <td>120</td>\n",
       "      <td>40</td>\n",
       "      <td>NaN</td>\n",
       "      <td>0.013769</td>\n",
       "    </tr>\n",
       "  </tbody>\n",
       "</table>\n",
       "</div>"
      ],
      "text/plain": [
       "   AL  RUD        pairs  R2 Train   R2 Test  num_gates  depth  mean_iter  \\\n",
       "0   3    1  A2_Hadamard -0.004502 -0.003276         52     16        NaN   \n",
       "1   1    3  A2_Hadamard -0.211511 -0.160475         72     24      623.0   \n",
       "2   5    1  A2_Hadamard  0.111324  0.105617         80     24        NaN   \n",
       "3   1    5  A2_Hadamard  0.202662  0.216431        120     40        NaN   \n",
       "\n",
       "       diff  \n",
       "0  0.001225  \n",
       "1  0.051036  \n",
       "2  0.005706  \n",
       "3  0.013769  "
      ]
     },
     "execution_count": 20,
     "metadata": {},
     "output_type": "execute_result"
    }
   ],
   "source": [
    "df[(df[\"AL\"]!=1)|(df[\"RUD\"]!=1)]"
   ]
  },
  {
   "cell_type": "code",
   "execution_count": 21,
   "id": "6b15d32a-e05b-469c-955d-066072f680aa",
   "metadata": {},
   "outputs": [
    {
     "data": {
      "text/html": [
       "<div>\n",
       "<style scoped>\n",
       "    .dataframe tbody tr th:only-of-type {\n",
       "        vertical-align: middle;\n",
       "    }\n",
       "\n",
       "    .dataframe tbody tr th {\n",
       "        vertical-align: top;\n",
       "    }\n",
       "\n",
       "    .dataframe thead th {\n",
       "        text-align: right;\n",
       "    }\n",
       "</style>\n",
       "<table border=\"1\" class=\"dataframe\">\n",
       "  <thead>\n",
       "    <tr style=\"text-align: right;\">\n",
       "      <th></th>\n",
       "      <th>AL</th>\n",
       "      <th>RUD</th>\n",
       "      <th>pairs</th>\n",
       "      <th>R2 Train</th>\n",
       "      <th>R2 Test</th>\n",
       "      <th>num_gates</th>\n",
       "      <th>depth</th>\n",
       "      <th>mean_iter</th>\n",
       "      <th>diff</th>\n",
       "    </tr>\n",
       "  </thead>\n",
       "  <tbody>\n",
       "    <tr>\n",
       "      <th>1</th>\n",
       "      <td>1</td>\n",
       "      <td>3</td>\n",
       "      <td>A2_Hadamard</td>\n",
       "      <td>-0.211511</td>\n",
       "      <td>-0.160475</td>\n",
       "      <td>72</td>\n",
       "      <td>24</td>\n",
       "      <td>623.0</td>\n",
       "      <td>0.051036</td>\n",
       "    </tr>\n",
       "    <tr>\n",
       "      <th>0</th>\n",
       "      <td>3</td>\n",
       "      <td>1</td>\n",
       "      <td>A2_Hadamard</td>\n",
       "      <td>-0.004502</td>\n",
       "      <td>-0.003276</td>\n",
       "      <td>52</td>\n",
       "      <td>16</td>\n",
       "      <td>NaN</td>\n",
       "      <td>0.001225</td>\n",
       "    </tr>\n",
       "    <tr>\n",
       "      <th>4</th>\n",
       "      <td>1</td>\n",
       "      <td>1</td>\n",
       "      <td>A2_Hadamard</td>\n",
       "      <td>0.002777</td>\n",
       "      <td>0.014043</td>\n",
       "      <td>24</td>\n",
       "      <td>8</td>\n",
       "      <td>NaN</td>\n",
       "      <td>0.011266</td>\n",
       "    </tr>\n",
       "    <tr>\n",
       "      <th>2</th>\n",
       "      <td>5</td>\n",
       "      <td>1</td>\n",
       "      <td>A2_Hadamard</td>\n",
       "      <td>0.111324</td>\n",
       "      <td>0.105617</td>\n",
       "      <td>80</td>\n",
       "      <td>24</td>\n",
       "      <td>NaN</td>\n",
       "      <td>0.005706</td>\n",
       "    </tr>\n",
       "    <tr>\n",
       "      <th>3</th>\n",
       "      <td>1</td>\n",
       "      <td>5</td>\n",
       "      <td>A2_Hadamard</td>\n",
       "      <td>0.202662</td>\n",
       "      <td>0.216431</td>\n",
       "      <td>120</td>\n",
       "      <td>40</td>\n",
       "      <td>NaN</td>\n",
       "      <td>0.013769</td>\n",
       "    </tr>\n",
       "  </tbody>\n",
       "</table>\n",
       "</div>"
      ],
      "text/plain": [
       "   AL  RUD        pairs  R2 Train   R2 Test  num_gates  depth  mean_iter  \\\n",
       "1   1    3  A2_Hadamard -0.211511 -0.160475         72     24      623.0   \n",
       "0   3    1  A2_Hadamard -0.004502 -0.003276         52     16        NaN   \n",
       "4   1    1  A2_Hadamard  0.002777  0.014043         24      8        NaN   \n",
       "2   5    1  A2_Hadamard  0.111324  0.105617         80     24        NaN   \n",
       "3   1    5  A2_Hadamard  0.202662  0.216431        120     40        NaN   \n",
       "\n",
       "       diff  \n",
       "1  0.051036  \n",
       "0  0.001225  \n",
       "4  0.011266  \n",
       "2  0.005706  \n",
       "3  0.013769  "
      ]
     },
     "execution_count": 21,
     "metadata": {},
     "output_type": "execute_result"
    }
   ],
   "source": [
    "df.sort_values(by=['R2 Train','R2 Test'])"
   ]
  },
  {
   "cell_type": "code",
   "execution_count": 22,
   "id": "1e32b1a8-2c65-476b-85eb-111cf8de4165",
   "metadata": {},
   "outputs": [
    {
     "data": {
      "text/plain": [
       "0    -262.091895\n",
       "1   -7715.867732\n",
       "2    3908.438005\n",
       "3    7197.251587\n",
       "Name: R2 Train, dtype: float64"
      ]
     },
     "execution_count": 22,
     "metadata": {},
     "output_type": "execute_result"
    }
   ],
   "source": [
    "100*((df[(df[\"AL\"]!=1)|(df[\"RUD\"]!=1)]['R2 Train'] - base.values)/base.values)"
   ]
  },
  {
   "cell_type": "code",
   "execution_count": 23,
   "id": "27fbef78-ee10-4cd2-a040-68b1a54802f4",
   "metadata": {},
   "outputs": [],
   "source": [
    "df['AL_RUD']=[f\"({AL},{RUD})\" for AL,RUD in df[['AL','RUD']].values]"
   ]
  },
  {
   "cell_type": "code",
   "execution_count": 24,
   "id": "94752dfc-da39-4f22-92d3-05fe79714162",
   "metadata": {},
   "outputs": [],
   "source": [
    "# sns.barplot(data=df.rename(columns={'R2 Train':'Train','R2 Test':'Test'}).melt(id_vars=['AL_RUD'], value_vars=['Train','Test']),x='variable',y='value',hue='AL_RUD',palette=sns.color_palette('Paired',5))\n",
    "# plt.ylabel('R$^{2}$ (kcal/mol)')\n",
    "# plt.xlabel('')\n",
    "# plt.title('BSE16: A2_Hadamard')\n",
    "# plt.legend(bbox_to_anchor=(1.05, 1.0),title='(AL,RUD)')\n",
    "# plt.ylim(-0.3,0.3)\n",
    "# plt.tight_layout()\n",
    "# plt.savefig(os.path.join(HOME,'qregress/images/BSE/','BSE16_RUDAL.png'),dpi=300,bbox_inches='tight')\n",
    "# plt.show()"
   ]
  },
  {
   "cell_type": "code",
   "execution_count": 25,
   "id": "cbeeb31a-bf31-4292-96a0-4185248d9299",
   "metadata": {},
   "outputs": [
    {
     "name": "stdout",
     "output_type": "stream",
     "text": [
      "0.0027772345366146034\n",
      "0.014043307945032502\n",
      "-0.2115105089060627\n",
      "-0.16047496817029283\n",
      "0.20266179130458695\n",
      "0.21643069937036485\n",
      "-0.004501672089211484\n",
      "-0.0032764951116888152\n",
      "0.11132372464569906\n",
      "0.10561748300337737\n",
      "0\n",
      "0\n",
      "0\n",
      "0\n",
      "0\n"
     ]
    },
    {
     "data": {
      "image/png": "[encoded data removed]",
      "text/plain": [
       "<Figure size 640x480 with 1 Axes>"
      ]
     },
     "metadata": {},
     "output_type": "display_data"
    }
   ],
   "source": [
    "\n",
    "ax = sns.barplot(data=df.rename(columns={'R2 Train':'Train','R2 Test':'Test'}).melt(id_vars=['AL_RUD'], value_vars=['Train','Test']).sort_values(by='AL_RUD'),x='variable',y='value',hue='AL_RUD',palette=sns.color_palette('Paired',5))\n",
    "for bar in ax.patches:\n",
    "    height = bar.get_height()\n",
    "    print(height)\n",
    "    if height<0:\n",
    "        ax.text(\n",
    "            bar.get_x() + bar.get_width() / 2,\n",
    "            height + (height * 0.20),\n",
    "            f'{height:.2f}',  # Format the label as desired\n",
    "            ha='center',\n",
    "            va='bottom',\n",
    "        )\n",
    "    elif height>0:\n",
    "        ax.text(\n",
    "            bar.get_x() + bar.get_width() / 2,\n",
    "            height,\n",
    "            f'{height:.2f}',  # Format the label as desired\n",
    "            ha='center',\n",
    "            va='bottom',\n",
    "        )        \n",
    "plt.ylabel('R$^{2}$ ')\n",
    "plt.xlabel('')\n",
    "plt.title('BSE16: A2_Hadamard')\n",
    "# plt.title('DDCC: A2_HWE-CNOT')\n",
    "plt.legend(bbox_to_anchor=(1.05, 1.0),title='(AL,RUD)')\n",
    "plt.ylim(-0.3,0.3)\n",
    "plt.tight_layout()\n",
    "plt.savefig(os.path.join(HOME,'qregress/images/BSE/sixteenqubit/BSE16_RUDAL.png'),dpi=300,bbox_inches='tight')\n",
    "plt.show()"
   ]
  },
  {
   "cell_type": "code",
   "execution_count": 33,
   "id": "973242df-b751-46d6-bb76-62b32bcfd723",
   "metadata": {},
   "outputs": [
    {
     "data": {
      "image/png": "[encoded data removed]",
      "text/plain": [
       "<Figure size 1000x500 with 2 Axes>"
      ]
     },
     "metadata": {},
     "output_type": "display_data"
    }
   ],
   "source": [
    "SMALL_SIZE = 8\n",
    "MEDIUM_SIZE = 16\n",
    "BIGGER_SIZE = 12\n",
    "\n",
    "plt.rc('font', size=MEDIUM_SIZE)          # controls default text sizes\n",
    "plt.rc('axes', titlesize=MEDIUM_SIZE)     # fontsize of the axes title\n",
    "plt.rc('axes', labelsize=MEDIUM_SIZE)    # fontsize of the x and y labels\n",
    "plt.rc('xtick', labelsize=MEDIUM_SIZE)    # fontsize of the tick labels\n",
    "plt.rc('ytick', labelsize=MEDIUM_SIZE)    # fontsize of the tick labels\n",
    "plt.rc('legend', fontsize=MEDIUM_SIZE)    # legend fontsize\n",
    "plt.rc('figure', titlesize=MEDIUM_SIZE)  # fontsize of the figure title\n",
    "\n",
    "melteddf = df.rename(columns={'R2 Train':'Train','R2 Test':'Test'}).melt(id_vars=['AL','RUD'], value_vars=['Train','Test'])\n",
    "\n",
    "fig, (ax1,ax2) = plt.subplots(1,2,sharey=True,figsize=(10,5))\n",
    "sns.lineplot(melteddf[melteddf['RUD']==1],x='AL',y='value',hue='variable',ax=ax1,palette=sns.color_palette('Paired',2),marker='o', markeredgecolor='black')\n",
    "sns.lineplot(melteddf[melteddf['AL']==1],x='RUD',y='value',hue='variable',ax=ax2,palette=sns.color_palette('Paired',2),marker='o', markeredgecolor='black')\n",
    "ax1.set_ylim(-0.3,1)\n",
    "ax1.set_ylabel(\"R$^{2}$\")\n",
    "ax1.set_xlim(0.75,5.25)\n",
    "ax1.set_xticks(np.arange(1,6))\n",
    "ax1.set_xticklabels(np.arange(1,6))\n",
    "ax2.set_xlim(0.75,5.25)\n",
    "ax2.set_xticks(np.arange(1,6))\n",
    "ax2.set_xticklabels(np.arange(1,6))\n",
    "\n",
    "ax1.set_xlabel(\"Ansatz Layers (AL)\")\n",
    "ax2.set_xlabel(\"Re-upload Depth (RUD)\")\n",
    "# Remove legends from individual plots\n",
    "ax1.get_legend().remove()\n",
    "ax2.get_legend().remove()\n",
    "fig.suptitle('16 Qubit BSE49 A2_Hadamard')\n",
    "# Global legend\n",
    "plt.legend(loc=\"upper right\", bbox_to_anchor=(1.5, 1.0))\n",
    "plt.tight_layout()\n",
    "plt.savefig(os.path.join(HOME,'qregress/images/BSE/sixteenqubit/BSE16_RUDAL_lineplot.png'),dpi=300,bbox_inches='tight')\n",
    "plt.show()"
   ]
  },
  {
   "cell_type": "code",
   "execution_count": 31,
   "id": "8ee7245e-1b46-45e5-ab23-4f040fc2908c",
   "metadata": {},
   "outputs": [
    {
     "data": {
      "text/plain": [
       "array([1, 2, 3, 4, 5])"
      ]
     },
     "execution_count": 31,
     "metadata": {},
     "output_type": "execute_result"
    }
   ],
   "source": [
    "np.arange(1,6)"
   ]
  },
  {
   "cell_type": "code",
   "execution_count": null,
   "id": "38a4a5ce-ab94-491a-af25-8b30ec0d2204",
   "metadata": {},
   "outputs": [],
   "source": []
  }
 ],
 "metadata": {
  "kernelspec": {
   "display_name": "Python 3 (ipykernel)",
   "language": "python",
   "name": "python3"
  },
  "language_info": {
   "codemirror_mode": {
    "name": "ipython",
    "version": 3
   },
   "file_extension": ".py",
   "mimetype": "text/x-python",
   "name": "python",
   "nbconvert_exporter": "python",
   "pygments_lexer": "ipython3",
   "version": "3.12.2"
  }
 },
 "nbformat": 4,
 "nbformat_minor": 5
}
