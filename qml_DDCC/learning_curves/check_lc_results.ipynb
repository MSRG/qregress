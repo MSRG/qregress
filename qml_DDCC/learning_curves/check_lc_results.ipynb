{
 "cells": [
  {
   "cell_type": "code",
   "execution_count": null,
   "id": "9a52a83f-2e87-42d0-9de7-4353f96b9640",
   "metadata": {},
   "outputs": [],
   "source": [
    "from glob import glob\n",
    "import matplotlib.pyplot as plt\n",
    "import numpy as np\n",
    "import seaborn as sns\n",
    "import os, sys, json, joblib\n",
    "import pandas as pd\n",
    "from sklearn.metrics import r2_score"
   ]
  },
  {
   "cell_type": "code",
   "execution_count": null,
   "id": "f925d911-5ff4-4d92-b166-e4dc853b0f72",
   "metadata": {},
   "outputs": [],
   "source": [
    "'./0.1/'"
   ]
  },
  {
   "cell_type": "code",
   "execution_count": null,
   "id": "2f1711da-5640-40e1-bff1-33efab80e2f5",
   "metadata": {},
   "outputs": [],
   "source": [
    "results = {}\n",
    "for i in sorted(glob('./*/*/*_results.json')):\n",
    "    ratio = os.path.dirname(os.path.dirname(i)).replace('./','')\n",
    "    with open(i,'r') as f:\n",
    "        results[ratio]=json.load(f)\n",
    "        \n",
    "    results[ratio]['Train Size'] = joblib.load(glob(os.path.join(os.path.dirname(os.path.dirname(i)),'*_train.bin'))[0])['X'].shape[0]\n",
    "    "
   ]
  },
  {
   "cell_type": "code",
   "execution_count": null,
   "id": "b55e7643-8c21-41fe-b2ec-9491fd49b70b",
   "metadata": {},
   "outputs": [],
   "source": [
    "def combinded(path):\n",
    "    splitsort = []\n",
    "    smaller = []\n",
    "    for i in glob(os.path.join(path, '*log.csv')):\n",
    "        splitname = os.path.basename(i).split('_')\n",
    "        if len(splitname)==3:\n",
    "            splitsort.append((int(splitname[0]),i))\n",
    "        else:\n",
    "            smaller.append(i)\n",
    "\n",
    "    loss = []\n",
    "    for i in list(np.array(sorted(splitsort))[:,1])+smaller:\n",
    "        print(f\"Processing file: {i}\")\n",
    "        loss.append(split(i)[:, 1])  # Get only the loss values (assumed to be in the second column)\n",
    "    plt.plot(np.hstack(loss))\n",
    "    plt.xlabel(\"Iteration\")\n",
    "    plt.ylabel(\"Loss\")\n",
    "    plt.title(\"Loss Curve\")\n",
    "    return plt\n",
    "    # plt.show()\n",
    "\n",
    "def split(path):\n",
    "    \"\"\"Helper function to read CSV file and extract required columns.\"\"\"\n",
    "    save = []\n",
    "    with open(path, 'r') as f:\n",
    "        for line in f:\n",
    "            if ':' in line:\n",
    "                split_line = line.strip().split(',')\n",
    "                # Assuming the structure of each line is: [timestamp, loss_value, ...]\n",
    "                save.append((float(split_line[1]), float(split_line[2])))\n",
    "    return np.array(save)"
   ]
  },
  {
   "cell_type": "code",
   "execution_count": null,
   "id": "c254c8d7-19cf-4e18-b4ab-6cf4701d203b",
   "metadata": {},
   "outputs": [],
   "source": [
    "# for i in sorted(glob('5/0.*/M-M-CZ_HWE-CNOT')):\n",
    "#     combinded(i).legend(title=i)\n",
    "#     plt.show()"
   ]
  },
  {
   "cell_type": "code",
   "execution_count": null,
   "id": "c59cda09-a91b-454a-8db3-3b83182e7d3b",
   "metadata": {},
   "outputs": [],
   "source": []
  },
  {
   "cell_type": "code",
   "execution_count": null,
   "id": "d48935f0-3763-465b-8b23-6743cbed25d9",
   "metadata": {},
   "outputs": [],
   "source": [
    "r_df = pd.DataFrame(results).drop(index=['MSE_train','MSE_test'])"
   ]
  },
  {
   "cell_type": "code",
   "execution_count": null,
   "id": "3f26eb3e-60cc-4fff-9cfc-3e759a6fdf88",
   "metadata": {},
   "outputs": [],
   "source": [
    "sns.lineplot(data=r_df.T.melt(id_vars=['Train Size'], value_vars=['MAE_train','MAE_test']),x='Train Size',y='value',hue='variable')"
   ]
  },
  {
   "cell_type": "code",
   "execution_count": null,
   "id": "98966f08-a4f4-433c-ba42-753fc348f5e9",
   "metadata": {},
   "outputs": [],
   "source": [
    "sns.lineplot(data=r_df.T.melt(id_vars=['Train Size'], value_vars=['R2_train','R2_test']),x='Train Size',y='value',hue='variable')"
   ]
  },
  {
   "cell_type": "code",
   "execution_count": null,
   "id": "438c31b2-a373-4656-845b-d6cfd4752e1e",
   "metadata": {},
   "outputs": [],
   "source": [
    "sns.barplot(data=r_df.T[['R2_train','R2_test']].reset_index().melt(id_vars=['index'], value_vars=['R2_train','R2_test']),x='index',y='value',hue='variable')"
   ]
  },
  {
   "cell_type": "code",
   "execution_count": null,
   "id": "9a02db3a-0351-4896-b933-16c94181a375",
   "metadata": {},
   "outputs": [],
   "source": [
    "df = pd.read_csv('0.5/A2_HWE-CNOT/A2_HWE-CNOT_predicted_values.csv')\n",
    "df['Predicted'] = [float(i.strip('[]')) for i in df['Predicted'].values]\n",
    "df['Reference'] = [float(i.strip('[]')) for i in df['Reference'].values]"
   ]
  },
  {
   "cell_type": "code",
   "execution_count": null,
   "id": "6dab902d-c689-43c1-8ec2-aa1a922ecb81",
   "metadata": {},
   "outputs": [],
   "source": []
  },
  {
   "cell_type": "code",
   "execution_count": null,
   "id": "eb006ace-8dac-46a4-a7f6-7195cb12ab34",
   "metadata": {},
   "outputs": [],
   "source": [
    "r2_score(df['Reference'],df['Predicted'])"
   ]
  },
  {
   "cell_type": "code",
   "execution_count": null,
   "id": "da898632-af63-4903-9c69-42800e5233b7",
   "metadata": {},
   "outputs": [],
   "source": [
    "sns.scatterplot(df,x='Predicted',y='Reference',hue='Data')\n",
    "plt.plot(df['Reference'],df['Reference'])"
   ]
  },
  {
   "cell_type": "code",
   "execution_count": null,
   "id": "f55f8c7d-3ccb-400e-a8f1-9342a0095604",
   "metadata": {},
   "outputs": [],
   "source": []
  }
 ],
 "metadata": {
  "kernelspec": {
   "display_name": "Python 3 (ipykernel)",
   "language": "python",
   "name": "python3"
  },
  "language_info": {
   "codemirror_mode": {
    "name": "ipython",
    "version": 3
   },
   "file_extension": ".py",
   "mimetype": "text/x-python",
   "name": "python",
   "nbconvert_exporter": "python",
   "pygments_lexer": "ipython3",
   "version": "3.12.2"
  }
 },
 "nbformat": 4,
 "nbformat_minor": 5
}
