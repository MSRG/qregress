{
 "cells": [
  {
   "cell_type": "code",
   "execution_count": null,
   "id": "9a52a83f-2e87-42d0-9de7-4353f96b9640",
   "metadata": {},
   "outputs": [],
   "source": [
    "from glob import glob\n",
    "import matplotlib.pyplot as plt\n",
    "import numpy as np\n",
    "import seaborn as sns\n",
    "import os, sys, json, joblib\n",
    "import pandas as pd\n",
    "from sklearn.metrics import r2_score"
   ]
  },
  {
   "cell_type": "code",
   "execution_count": null,
   "id": "f925d911-5ff4-4d92-b166-e4dc853b0f72",
   "metadata": {},
   "outputs": [],
   "source": [
    "files = sorted(glob('./*/*/*results.json'))"
   ]
  },
  {
   "cell_type": "code",
   "execution_count": null,
   "id": "2f1711da-5640-40e1-bff1-33efab80e2f5",
   "metadata": {},
   "outputs": [],
   "source": [
    "\n",
    "quantum_results = []\n",
    "quantum_data = []\n",
    "for i in files:\n",
    "    print(i)\n",
    "    with open(i,'r') as f:\n",
    "        data = json.load(f)\n",
    "    ratio = os.path.basename(os.path.dirname(os.path.dirname(i)))\n",
    "    quantum_data.append((ratio,data['R2_train'],data['R2_test']))\n",
    "    quantum_results.append(('A2_HWE-CNOT',ratio,'R2_train',data['R2_train']))\n",
    "    quantum_results.append((\"A2_HWE-CNOT\",ratio,'R2_test',data['R2_test']))\n",
    "\n",
    "quantum_data = np.array(quantum_data).astype(float)"
   ]
  },
  {
   "cell_type": "code",
   "execution_count": null,
   "id": "02720fc2-b7a5-48c7-9844-075a34e98450",
   "metadata": {},
   "outputs": [],
   "source": []
  },
  {
   "cell_type": "code",
   "execution_count": null,
   "id": "9ed33711-f26d-4717-8177-5da5e7d99c30",
   "metadata": {},
   "outputs": [],
   "source": [
    "\n",
    "trainsize=[ 0.1,0.3, 0.5, 0.7,0.8]\n",
    "classical_models=['ridge', 'lasso', 'elastic', 'knn', 'rfr', 'grad', 'svr', 'krr', 'gpr'\n",
    "]\n",
    "\n",
    "classical_results=[]\n",
    "\n",
    "for models in classical_models:\n",
    "    for ts in trainsize:\n",
    "        \n",
    "        with open(f\"./classical/{ts}_{models}_scores.json\",'r') as f:\n",
    "            classical_dict=json.load(f)\n",
    "        classical_results.append((models,ts,'R2_train',classical_dict['R2_train']))\n",
    "        classical_results.append((models,ts,'R2_test',classical_dict['R2_test']))\n",
    "            "
   ]
  },
  {
   "cell_type": "code",
   "execution_count": null,
   "id": "f75041c2-eecf-4b16-983a-a0ab4adae2f5",
   "metadata": {},
   "outputs": [],
   "source": [
    "classical_df=pd.DataFrame(classical_results,columns=['model','ratio','set','value'])"
   ]
  },
  {
   "cell_type": "code",
   "execution_count": null,
   "id": "8046e607-5aa9-4697-bd7e-5ca266fc2c3b",
   "metadata": {},
   "outputs": [],
   "source": [
    "quantum_df=pd.DataFrame(quantum_results,columns=['model','ratio','set','value'])"
   ]
  },
  {
   "cell_type": "code",
   "execution_count": null,
   "id": "ff6cd075-25f3-450d-ab06-2270b9e00661",
   "metadata": {},
   "outputs": [],
   "source": [
    "combined_df = pd.concat([classical_df,quantum_df])"
   ]
  },
  {
   "cell_type": "code",
   "execution_count": null,
   "id": "3784647d-8fc6-4327-b7c6-cb29bdc0ff58",
   "metadata": {},
   "outputs": [],
   "source": [
    "combined_df.query(\"model == 'A2_HWE-CNOT' & ratio == 0.8\").round(4)"
   ]
  },
  {
   "cell_type": "code",
   "execution_count": null,
   "id": "24c145a1-32fa-4386-90ad-a63a7bbaf22b",
   "metadata": {},
   "outputs": [],
   "source": [
    "# combined_df.pivot(columns=['set'],values='value',index=['ratio','model']).to_excel(os.path.join(os.path.expanduser('~'),'qregress/spreadsheets/DDCC5_lc.xlsx'))\n",
    "\n",
    "print(combined_df.pivot(columns=['set'],values='value',index=['ratio','model']).sort_index(axis=1,ascending=False).round(4).to_latex(float_format=\"{:.4f}\".format))"
   ]
  },
  {
   "cell_type": "code",
   "execution_count": null,
   "id": "7ef54655-17f8-4179-bc52-9c3de84c0382",
   "metadata": {},
   "outputs": [],
   "source": [
    "for ts in trainsize:\n",
    "    print(ts)\n",
    "    for m in classical_models:\n",
    "        cdf=classical_df[(classical_df['ratio']==ts)&(classical_df['model']==m)].set_index('set')\n",
    "        qdf=quantum_df[quantum_df['ratio']==f'{ts}'].set_index('set')\n",
    "        print(m,all(cdf['value']>=qdf['value']))\n",
    "        if cdf['value'].loc['R2_test']>=qdf['value'].loc['R2_test']:\n",
    "            print(cdf['value'].loc['R2_test'],qdf['value'].loc['R2_test'])\n",
    "    print()"
   ]
  },
  {
   "cell_type": "code",
   "execution_count": null,
   "id": "2645e8a5-3224-4369-9bed-a4cad36ad572",
   "metadata": {},
   "outputs": [],
   "source": [
    "combined_df = combined_df.astype({'model':str,'ratio':float,\"set\":str,'value':float})\n",
    "combined_df['set'] = [i.split('_')[1].capitalize() for i in combined_df['set']]\n",
    "\n",
    "train = combined_df[(combined_df['model']=='A2_HWE-CNOT')&(combined_df['set']=='Train')]\n",
    "test = combined_df[(combined_df['model']=='A2_HWE-CNOT')&(combined_df['set']=='Test')]\n",
    "\n",
    "drop_pqc = combined_df[combined_df['model']!='A2_HWE-CNOT']"
   ]
  },
  {
   "cell_type": "code",
   "execution_count": null,
   "id": "8f60400c-e818-4086-bafc-d7513c9463e4",
   "metadata": {},
   "outputs": [],
   "source": [
    "combined_df"
   ]
  },
  {
   "cell_type": "code",
   "execution_count": null,
   "id": "704f5768-e66a-4113-bce4-13c87789ed81",
   "metadata": {},
   "outputs": [],
   "source": [
    "drop_pqc.min()"
   ]
  },
  {
   "cell_type": "code",
   "execution_count": null,
   "id": "b7a50f67-a8cb-4e52-8cba-a9fe14ab4ad1",
   "metadata": {
    "scrolled": true
   },
   "outputs": [],
   "source": [
    "\n",
    "\n",
    "fig, (ax1, ax2) = plt.subplots(1,2,figsize=(10,5),sharey=True)\n",
    "\n",
    "sns.boxplot(data=drop_pqc,x='ratio',y='value',hue='set', native_scale=True,ax=ax1,palette=sns.color_palette('Paired',2))\n",
    "\n",
    "# ins = ax1.inset_axes([0.55,0.15,0.4,0.4])\n",
    "# sns.boxplot(data=drop_pqc[drop_pqc['ratio']==0.1],x='ratio',y='value',hue='set', native_scale=True,palette=sns.color_palette('Paired',2),ax=ins)\n",
    "# ins.set_ylim(-0.5,1.05)\n",
    "# ins.set_ylabel('R$^{2}$')\n",
    "# ins.set_xlabel('Training Set Ratio')\n",
    "# ins.set_xticks([0.1])\n",
    "# ins.get_legend().remove()\n",
    "\n",
    "ax1.set_ylim(0,1.01)\n",
    "ax1.set_xlim(0,0.9)\n",
    "ax1.set_ylabel('R$^{2}$')\n",
    "ax1.set_xlabel('Training Set (%)')\n",
    "ax1.set_title('Classical Models')\n",
    "# Convert x-axis labels to percentages\n",
    "xticks = np.linspace(0, 0.9, 10)\n",
    "ax1.set_xticks(xticks)\n",
    "ax1.set_xticklabels([f\"{int(x * 100)}%\" for x in xticks])\n",
    "\n",
    "ax2.plot(train['ratio'],train['value'],'-x',color=sns.color_palette('Paired',2)[0],label='Train')\n",
    "ax2.plot(test['ratio'],test['value'],'-o',color=sns.color_palette('Paired',2)[1],label='Test')\n",
    "ax2.legend()\n",
    "ax2.set_xticks(xticks)\n",
    "ax2.set_xticklabels([f\"{int(x * 100)}%\" for x in xticks])\n",
    "\n",
    "# ax2.set_ylim(0.95,1)\n",
    "ax2.set_xlim(0.0,0.9)\n",
    "ax2.set_ylabel('R$^{2}$')\n",
    "ax2.set_xlabel('Training Set (%)')\n",
    "ax2.set_title('A2_HWE-CNOT')\n",
    "plt.tight_layout()\n",
    "plt.savefig(f\"{os.path.expanduser('~')}/qregress/images/DDCC/DDCC_learning_curves.png\", bbox_inches='tight', pad_inches=0.1)\n",
    "plt.show()"
   ]
  },
  {
   "cell_type": "code",
   "execution_count": null,
   "id": "05c9c8f8-dc9f-4c5c-a8f7-e7ba4ae4f5d8",
   "metadata": {},
   "outputs": [],
   "source": [
    "combined_df.query(\"model == 'A2_HWE-CNOT' & set == 'Train' \").round(4)"
   ]
  },
  {
   "cell_type": "code",
   "execution_count": null,
   "id": "b35497e7-bb39-43b0-a124-3b95977252d1",
   "metadata": {},
   "outputs": [],
   "source": [
    "combined_df.query(\"model == 'A2_HWE-CNOT' & set == 'Test' \").round(4)"
   ]
  },
  {
   "cell_type": "code",
   "execution_count": null,
   "id": "489cc997-9e55-41e6-b2d6-f4e021a4f213",
   "metadata": {},
   "outputs": [],
   "source": [
    "drop_pqc_adj = drop_pqc.copy()"
   ]
  },
  {
   "cell_type": "code",
   "execution_count": null,
   "id": "0c070f31-90be-4478-b919-88280e3d42f7",
   "metadata": {},
   "outputs": [],
   "source": [
    "r_df = pd.DataFrame(quantum_data,columns=['index','Train','Test']).melt(id_vars=['index'], value_vars=['Train','Test'])\n",
    "r_df['variable'] = [i+\" (A2_HWE-CNOT)\" for i in r_df['variable']]\n",
    "\n",
    "drop_pqc_adj['set']=[i+\" (classical)\" for i in drop_pqc['set']]\n",
    "sns.lineplot(data=drop_pqc_adj,x='ratio',y='value',hue='set',style='set',palette=sns.color_palette('Paired',4)[2:])\n",
    "\n",
    "ax = sns.lineplot(r_df,x='index',y='value',hue='variable',style='variable',palette=sns.color_palette('Paired',2),markers=['>','<'])\n",
    "plt.ylim(0,1.05)\n",
    "# plt.gca().xaxis.set_major_formatter(mticker.PercentFormatter(xmax=100))  # Adjust xmax if needed\n",
    "# ax.set_xtick([f\"{int(float(i)*100)}%\" for i in np.array(r_df['index'],dtype=float)])\n",
    "ax.set_xticks(xticks)\n",
    "ax.set_xticklabels([f\"{int(x * 100)}%\" for x in xticks])\n",
    "\n",
    "plt.ylabel('R$^{2}$')\n",
    "plt.xlabel('Training Set (%)')\n",
    "plt.title('A2_HWE-CNOT')\n",
    "plt.legend(loc=4)\n",
    "plt.tight_layout()\n",
    "plt.savefig(f\"{os.path.expanduser('~')}/qregress/images/DDCC/DDCC_learning_curves.png\", bbox_inches='tight', pad_inches=0.1)\n",
    "plt.show()"
   ]
  },
  {
   "cell_type": "code",
   "execution_count": null,
   "id": "8a6ab888-17c1-4ba5-a599-933e928ecc93",
   "metadata": {},
   "outputs": [],
   "source": [
    "\n",
    "from mpl_toolkits.axes_grid1.inset_locator import inset_axes\n",
    "drop_pqc_adj = drop_pqc.copy()\n",
    "# Assuming drop_pqc_adj and quantum_data are already defined\n",
    "r_df = pd.DataFrame(quantum_data, columns=['index', 'Train', 'Test']).melt(id_vars=['index'], value_vars=['Train', 'Test'])\n",
    "r_df['variable'] = [i + \" (A2_HWE-CNOT)\" for i in r_df['variable']]\n",
    "\n",
    "drop_pqc_adj['set'] = [i + \" (classical)\" for i in drop_pqc_adj['set']]\n",
    "\n",
    "# Main plot\n",
    "# ax1 = sns.lineplot(data=drop_pqc_adj, x='ratio', y='value', hue='set', style='set', palette=(sns.color_palette('Paired', 6)[3],sns.color_palette('Paired', 6)[5]),errorbar=lambda x: (x.min(), x.max()),err_style='bars')\n",
    "ax = sns.lineplot(data=r_df, x='index', y='value', hue='variable', style='variable', palette=sns.color_palette('Paired', 2), markers=['>', '<'])\n",
    "plt.ylim(0, 1.05)\n",
    "ax.set_xticks(xticks)\n",
    "ax.set_xticklabels([f\"{int(x * 100)}%\" for x in xticks])\n",
    "plt.ylabel('R$^{2}$')\n",
    "plt.xlabel('Training Set (%)')\n",
    "plt.title('A2_HWE-CNOT')\n",
    "plt.legend(loc=3)\n",
    "\n",
    "# Inlay plot\n",
    "inset_ax = inset_axes(ax, width=\"40%\", height=\"40%\", loc=4, bbox_to_anchor=(0, 100, 600, 400))  # Adjust location as needed\n",
    "\n",
    "# Plot with legend temporarily enabled\n",
    "sns_plot = sns.lineplot(\n",
    "    data=drop_pqc_adj,\n",
    "    x='ratio',\n",
    "    y='value',\n",
    "    hue='set',\n",
    "    style='set',\n",
    "    palette=(sns.color_palette('Paired', 6)[3], sns.color_palette('Paired', 6)[5]),\n",
    "    errorbar=lambda x: (x.min(), x.max()),\n",
    "    ax=inset_ax,\n",
    "    err_style='bars',\n",
    "    legend=True  # Enable legend just to capture handles\n",
    ")\n",
    "\n",
    "# Get handles and labels\n",
    "handles, labels = inset_ax.get_legend_handles_labels()\n",
    "\n",
    "# Manually reset legend with new labels\n",
    "inset_ax.legend(loc=4,handles=handles, labels=[\"Train\", \"Test\"], fontsize='small',ncols=2)\n",
    "\n",
    "# Final axis formatting\n",
    "inset_ax.set_ylim(0.98, 1.001)\n",
    "inset_ax.set_xticks(xticks[0::2])\n",
    "inset_ax.set_xticklabels([f\"{int(x * 100)}%\" for x in xticks[0::2]])\n",
    "inset_ax.set_ylabel('R$^{2}$')\n",
    "inset_ax.set_xlabel('Training Set (%)')\n",
    "inset_ax.set_title('Classical Models')\n",
    "plt.tight_layout()\n",
    "plt.savefig(f\"{os.path.expanduser('~')}/qregress/images/DDCC/DDCC_learning_curves.png\", bbox_inches='tight', pad_inches=0.1)\n",
    "plt.show()\n"
   ]
  },
  {
   "cell_type": "code",
   "execution_count": null,
   "id": "5bc654fc-f774-478c-b0e9-cdaa6c79c852",
   "metadata": {},
   "outputs": [],
   "source": [
    "combined_df"
   ]
  },
  {
   "cell_type": "code",
   "execution_count": null,
   "id": "e573e1cc-2845-4a8d-b1ab-6d9bbca55b58",
   "metadata": {},
   "outputs": [],
   "source": []
  }
 ],
 "metadata": {
  "kernelspec": {
   "display_name": "Python 3 (ipykernel)",
   "language": "python",
   "name": "python3"
  },
  "language_info": {
   "codemirror_mode": {
    "name": "ipython",
    "version": 3
   },
   "file_extension": ".py",
   "mimetype": "text/x-python",
   "name": "python",
   "nbconvert_exporter": "python",
   "pygments_lexer": "ipython3",
   "version": "3.12.9"
  }
 },
 "nbformat": 4,
 "nbformat_minor": 5
}
