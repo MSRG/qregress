{
 "cells": [
  {
   "cell_type": "code",
   "execution_count": null,
   "id": "9a52a83f-2e87-42d0-9de7-4353f96b9640",
   "metadata": {},
   "outputs": [],
   "source": [
    "from glob import glob\n",
    "import matplotlib.pyplot as plt\n",
    "import numpy as np\n",
    "import seaborn as sns\n",
    "import os, sys, json, joblib\n",
    "import pandas as pd\n",
    "from sklearn.metrics import r2_score"
   ]
  },
  {
   "cell_type": "code",
   "execution_count": null,
   "id": "f925d911-5ff4-4d92-b166-e4dc853b0f72",
   "metadata": {},
   "outputs": [],
   "source": [
    "files = sorted(glob('./*/*/*results.json'))"
   ]
  },
  {
   "cell_type": "code",
   "execution_count": null,
   "id": "2f1711da-5640-40e1-bff1-33efab80e2f5",
   "metadata": {},
   "outputs": [],
   "source": [
    "\n",
    "quantum_results = []\n",
    "quantum_data = []\n",
    "for i in files:\n",
    "    print(i)\n",
    "    with open(i,'r') as f:\n",
    "        data = json.load(f)\n",
    "    ratio = os.path.basename(os.path.dirname(os.path.dirname(i)))\n",
    "    quantum_data.append((ratio,data['R2_train'],data['R2_test']))\n",
    "    quantum_results.append(('A2_HWE-CNOT',ratio,'R2_train',data['R2_train']))\n",
    "    quantum_results.append((\"A2_HWE-CNOT\",ratio,'R2_test',data['R2_test']))\n",
    "\n",
    "quantum_data = np.array(quantum_data).astype(float)"
   ]
  },
  {
   "cell_type": "code",
   "execution_count": null,
   "id": "02720fc2-b7a5-48c7-9844-075a34e98450",
   "metadata": {},
   "outputs": [],
   "source": []
  },
  {
   "cell_type": "code",
   "execution_count": null,
   "id": "9ed33711-f26d-4717-8177-5da5e7d99c30",
   "metadata": {},
   "outputs": [],
   "source": [
    "\n",
    "trainsize=[ 0.1,0.3, 0.5, 0.7,0.8]\n",
    "classical_models=['ridge', 'lasso', 'elastic', 'knn', 'rfr', 'grad', 'svr', 'krr', 'gpr'\n",
    "]\n",
    "\n",
    "classical_results=[]\n",
    "\n",
    "for models in classical_models:\n",
    "    for ts in trainsize:\n",
    "        \n",
    "        with open(f\"./classical/{ts}_{models}_scores.json\",'r') as f:\n",
    "            classical_dict=json.load(f)\n",
    "        classical_results.append((models,ts,'R2_train',classical_dict['R2_train']))\n",
    "        classical_results.append((models,ts,'R2_test',classical_dict['R2_test']))\n",
    "            "
   ]
  },
  {
   "cell_type": "code",
   "execution_count": null,
   "id": "f75041c2-eecf-4b16-983a-a0ab4adae2f5",
   "metadata": {},
   "outputs": [],
   "source": [
    "classical_df=pd.DataFrame(classical_results,columns=['model','ratio','set','value'])"
   ]
  },
  {
   "cell_type": "code",
   "execution_count": null,
   "id": "8046e607-5aa9-4697-bd7e-5ca266fc2c3b",
   "metadata": {},
   "outputs": [],
   "source": [
    "quantum_df=pd.DataFrame(quantum_results,columns=['model','ratio','set','value'])"
   ]
  },
  {
   "cell_type": "code",
   "execution_count": null,
   "id": "ff6cd075-25f3-450d-ab06-2270b9e00661",
   "metadata": {},
   "outputs": [],
   "source": [
    "combined_df = pd.concat([classical_df,quantum_df])"
   ]
  },
  {
   "cell_type": "code",
   "execution_count": null,
   "id": "7ef54655-17f8-4179-bc52-9c3de84c0382",
   "metadata": {},
   "outputs": [],
   "source": [
    "for ts in trainsize:\n",
    "    print(ts)\n",
    "    for m in classical_models:\n",
    "        cdf=classical_df[(classical_df['ratio']==ts)&(classical_df['model']==m)].set_index('set')\n",
    "        qdf=quantum_df[quantum_df['ratio']==f'{ts}'].set_index('set')\n",
    "        print(m,all(cdf['value']>=qdf['value']))\n",
    "        if cdf['value'].loc['R2_test']>=qdf['value'].loc['R2_test']:\n",
    "            print(cdf['value'].loc['R2_test'],qdf['value'].loc['R2_test'])\n",
    "    print()"
   ]
  },
  {
   "cell_type": "code",
   "execution_count": null,
   "id": "2645e8a5-3224-4369-9bed-a4cad36ad572",
   "metadata": {},
   "outputs": [],
   "source": [
    "combined_df = combined_df.astype({'model':str,'ratio':float,\"set\":str,'value':float})\n",
    "combined_df['set'] = [i.split('_')[1].capitalize() for i in combined_df['set']]\n",
    "\n",
    "train = combined_df[(combined_df['model']=='A2_HWE-CNOT')&(combined_df['set']=='Train')]\n",
    "test = combined_df[(combined_df['model']=='A2_HWE-CNOT')&(combined_df['set']=='Test')]\n",
    "\n",
    "drop_pqc = combined_df[combined_df['model']!='A2_HWE-CNOT']"
   ]
  },
  {
   "cell_type": "code",
   "execution_count": null,
   "id": "b7a50f67-a8cb-4e52-8cba-a9fe14ab4ad1",
   "metadata": {},
   "outputs": [],
   "source": [
    "\n",
    "\n",
    "fig, (ax1, ax2) = plt.subplots(1,2,figsize=(10,5),sharey=True)\n",
    "\n",
    "sns.boxplot(data=drop_pqc,x='ratio',y='value',hue='set', native_scale=True,ax=ax1,palette=sns.color_palette('Paired',2))\n",
    "\n",
    "# ins = ax1.inset_axes([0.55,0.15,0.4,0.4])\n",
    "# sns.boxplot(data=drop_pqc[drop_pqc['ratio']==0.1],x='ratio',y='value',hue='set', native_scale=True,palette=sns.color_palette('Paired',2),ax=ins)\n",
    "# ins.set_ylim(-0.5,1.05)\n",
    "# ins.set_ylabel('R$^{2}$')\n",
    "# ins.set_xlabel('Training Set Ratio')\n",
    "# ins.set_xticks([0.1])\n",
    "# ins.get_legend().remove()\n",
    "\n",
    "ax1.set_ylim(0,1.01)\n",
    "ax1.set_xlim(0,0.9)\n",
    "ax1.set_ylabel('R$^{2}$')\n",
    "ax1.set_xlabel('Training Set (%)')\n",
    "ax1.set_title('Classical Models')\n",
    "# Convert x-axis labels to percentages\n",
    "xticks = np.linspace(0, 0.9, 10)\n",
    "ax1.set_xticks(xticks)\n",
    "ax1.set_xticklabels([f\"{int(x * 100)}%\" for x in xticks])\n",
    "\n",
    "ax2.plot(train['ratio'],train['value'],'-x',color=sns.color_palette('Paired',2)[0],label='Train')\n",
    "ax2.plot(test['ratio'],test['value'],'-o',color=sns.color_palette('Paired',2)[1],label='Test')\n",
    "ax2.legend()\n",
    "ax2.set_xticks(xticks)\n",
    "ax2.set_xticklabels([f\"{int(x * 100)}%\" for x in xticks])\n",
    "\n",
    "# ax2.set_ylim(0.95,1)\n",
    "ax2.set_xlim(0.0,0.9)\n",
    "ax2.set_ylabel('R$^{2}$')\n",
    "ax2.set_xlabel('Training Set (%)')\n",
    "ax2.set_title('A2_HWE-CNOT')\n",
    "plt.tight_layout()\n",
    "plt.savefig(f\"{os.path.expanduser('~')}/qregress/images/DDCC/DDCC_learning_curves.png\", bbox_inches='tight', pad_inches=0.1)\n",
    "plt.show()"
   ]
  },
  {
   "cell_type": "code",
   "execution_count": null,
   "id": "e1070f3b-930f-4177-9e4f-1002d93ca9e2",
   "metadata": {},
   "outputs": [],
   "source": []
  },
  {
   "cell_type": "code",
   "execution_count": null,
   "id": "0c070f31-90be-4478-b919-88280e3d42f7",
   "metadata": {},
   "outputs": [],
   "source": [
    "r_df = pd.DataFrame(quantum_data,columns=['index','Train','Test'])\n",
    "ax = sns.lineplot(r_df.melt(id_vars=['index'], value_vars=['Train','Test']),x='index',y='value',hue='variable',style='variable',palette=sns.color_palette('Paired',2),markers=['>','<'])\n",
    "plt.ylim(0,1)\n",
    "# plt.gca().xaxis.set_major_formatter(mticker.PercentFormatter(xmax=100))  # Adjust xmax if needed\n",
    "# ax.set_xtick([f\"{int(float(i)*100)}%\" for i in np.array(r_df['index'],dtype=float)])\n",
    "ax.set_xticks(xticks)\n",
    "ax.set_xticklabels([f\"{int(x * 100)}%\" for x in xticks])\n",
    "\n",
    "plt.ylabel('R$^{2}$')\n",
    "plt.xlabel('Training Set (%)')\n",
    "plt.title('A2_HWE-CNOT')\n",
    "plt.legend(loc=2)\n",
    "plt.tight_layout()\n",
    "plt.savefig(f\"{os.path.expanduser('~')}/qregress/images/DDCC/DDCC_learning_curves.png\", bbox_inches='tight', pad_inches=0.1)\n",
    "plt.show()"
   ]
  },
  {
   "cell_type": "code",
   "execution_count": null,
   "id": "6faab4d6-1e20-4a62-a21c-c702c55855d6",
   "metadata": {},
   "outputs": [],
   "source": [
    "pivotdf = combined_df.pivot(index=[\"model\", \"ratio\"], columns=\"set\", values=\"value\")[['Train','Test']]"
   ]
  },
  {
   "cell_type": "code",
   "execution_count": null,
   "id": "3331ba7a-6174-4b45-90a9-84d1860c7090",
   "metadata": {},
   "outputs": [],
   "source": [
    "check_lc = {}\n",
    "for i in [0.1,0.3,0.5,0.7,0.8]:\n",
    "    # print(i)\n",
    "    check_lc[i]={}\n",
    "    for m in {'elastic', 'gpr', 'grad', 'knn', 'krr', 'lasso', 'rfr', 'ridge', 'svr'}:\n",
    "        pivotdf.loc['A2_HWE-CNOT',i]\n",
    "        isbetter = pivotdf.loc['A2_HWE-CNOT',i]>=pivotdf.loc[m,i]\n",
    "        isclose = np.isclose(np.round(pivotdf.loc['A2_HWE-CNOT',i],3),np.round(pivotdf.loc[m,i].values,3),atol=1e-2)\n",
    "        check_lc[i][m]={'Train Better':isbetter[0], \"Test Better\":isbetter[1], 'Train Close':isclose[0], 'Test Close':isclose[1]}\n",
    "    #     print('Close: ',np.count_nonzero(isclose))\n",
    "    #     print('Better: ',np.count_nonzero(isbetter))    \n",
    "    #     # check_lc[i]\n",
    "    # print()"
   ]
  },
  {
   "cell_type": "code",
   "execution_count": null,
   "id": "5d5e1f8d-48a8-4e6a-8347-c9e50f535fd3",
   "metadata": {},
   "outputs": [],
   "source": [
    "for k in check_lc.keys():\n",
    "    print(k)\n",
    "    print(pd.concat([pd.DataFrame(check_lc[0.1]).T.sum(),(~pd.DataFrame(check_lc[0.1]).T).sum()],axis=1).rename(columns={0:'True',1:'False'}))"
   ]
  },
  {
   "cell_type": "code",
   "execution_count": null,
   "id": "5bc654fc-f774-478c-b0e9-cdaa6c79c852",
   "metadata": {},
   "outputs": [],
   "source": []
  }
 ],
 "metadata": {
  "kernelspec": {
   "display_name": "Python 3 (ipykernel)",
   "language": "python",
   "name": "python3"
  },
  "language_info": {
   "codemirror_mode": {
    "name": "ipython",
    "version": 3
   },
   "file_extension": ".py",
   "mimetype": "text/x-python",
   "name": "python",
   "nbconvert_exporter": "python",
   "pygments_lexer": "ipython3",
   "version": "3.12.2"
  }
 },
 "nbformat": 4,
 "nbformat_minor": 5
}
