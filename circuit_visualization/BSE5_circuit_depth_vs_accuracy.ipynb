{
 "cells": [
  {
   "cell_type": "code",
   "execution_count": 1,
   "id": "bbdd75b6-4ece-4100-a09f-251f23ee0730",
   "metadata": {},
   "outputs": [],
   "source": [
    "import joblib\n",
    "import click\n",
    "import json\n",
    "import time\n",
    "import os\n",
    "import itertools\n",
    "import collections.abc\n",
    "from shutil import copy,SameFileError\n",
    "from glob import glob\n",
    "\n",
    "import matplotlib.pyplot as plt\n",
    "import seaborn as sns\n",
    "import numpy as np\n",
    "import pandas as pd\n",
    "import pennylane as qml\n",
    "from sklearn.metrics import mean_squared_error\n",
    "from sklearn.model_selection import KFold\n",
    "# from qiskit_ibm_provider import IBMProvider\n",
    "\n",
    "from quantum.Quantum import QuantumRegressor\n",
    "from quantum.Evaluate import evaluate\n",
    "from settings import ANSATZ_LIST, ENCODER_LIST\n",
    "from sklearn.utils._testing import ignore_warnings\n",
    "from sklearn.exceptions import InconsistentVersionWarning"
   ]
  },
  {
   "cell_type": "code",
   "execution_count": 2,
   "id": "50bb4d93-17f3-4605-ba15-8f48004815ec",
   "metadata": {},
   "outputs": [],
   "source": [
    "ANSATZs=[]\n",
    "ENCODERs=[]\n",
    "pairs=[]\n",
    "results={}\n",
    "for i in glob('../BSE_RUD_AL_test/5qubit/3_AL/*/*results.json'):\n",
    "    pair = os.path.basename(i).replace('_results.json','')\n",
    "    pairs.append(pair)\n",
    "    an, en = pair.split('_')\n",
    "    ANSATZs.append(an)\n",
    "    ENCODERs.append(en)\n",
    "    \n",
    "\n",
    "\n",
    "ANSATZs=set(ANSATZs)\n",
    "ENCODERs=set(ENCODERs)"
   ]
  },
  {
   "cell_type": "code",
   "execution_count": 17,
   "id": "60d46142-bede-4bfe-9f47-d6d619f15315",
   "metadata": {},
   "outputs": [
    {
     "data": {
      "text/plain": [
       "set()"
      ]
     },
     "execution_count": 17,
     "metadata": {},
     "output_type": "execute_result"
    }
   ],
   "source": [
    "ANSATZs"
   ]
  },
  {
   "cell_type": "code",
   "execution_count": 3,
   "id": "d5037f36-2dc0-4ca7-939f-314fb164b0bf",
   "metadata": {},
   "outputs": [],
   "source": [
    "\n",
    "\n",
    "# device='qiskit.aer'\n",
    "# device_backend = FakeCairoV2()\n",
    "# backend = AerSimulator.from_backend(device_backend)\n",
    "# device = qml.device(device, wires=num_qubits, backend=backend, shots=shots)\n",
    "\n",
    "\n",
    "device='qulacs.simulator'\n",
    "num_qubits=5\n",
    "device = qml.device(device, wires=num_qubits)\n"
   ]
  },
  {
   "cell_type": "code",
   "execution_count": 4,
   "id": "62ac23bb-7243-471d-ab46-5ea63892f3ab",
   "metadata": {},
   "outputs": [],
   "source": [
    "def circuit(features, parameters):\n",
    "    #  builds the circuit with the given encoder and variational circuits.\n",
    "    #  encoder and variational circuits must have only two required parameters, params/feats and wires\n",
    "    for i in range(re_upload_depth):\n",
    "        params = initial_parameters.reshape(re_upload_depth,-1)[i]\n",
    "        \n",
    "        encoder(features, wires=range(num_qubits))\n",
    "        variational(params, wires=range(num_qubits))\n",
    "\n",
    "    return qml.expval(qml.PauliZ(0))"
   ]
  },
  {
   "cell_type": "code",
   "execution_count": 5,
   "id": "810b6d27-e79a-4e80-be73-c35732e31d6e",
   "metadata": {},
   "outputs": [],
   "source": [
    "def get_depth(enc,var,rud,features,parameters):\n",
    "    circuit_gates=0\n",
    "    circuit_depth=0\n",
    "    for i in range(rud):\n",
    "        params = initial_parameters.reshape(rud,-1)[i]\n",
    "        \n",
    "        encoder_specs=qml.specs(qml.QNode(encoder,device,expansion_strategy='device'))(features, wires=range(num_qubits))['resources']\n",
    "        var_specs=qml.specs(qml.QNode(variational,device,expansion_strategy='device'))(params, wires=range(num_qubits))['resources']\n",
    "\n",
    "        circuit_gates+=var_specs.num_gates + encoder_specs.num_gates\n",
    "        circuit_depth+=var_specs.depth + encoder_specs.depth\n",
    "    return circuit_gates,circuit_depth"
   ]
  },
  {
   "cell_type": "code",
   "execution_count": 6,
   "id": "dc344b1a-5e87-4eee-9ae0-f4d94c397948",
   "metadata": {},
   "outputs": [],
   "source": [
    "\n",
    "\n",
    "# draw_encoder = qml.draw_mpl(qml.QNode(ENCODER_LIST['IQP'],device),level=3)\n",
    "# draw_encoder(np.random.rand(num_qubits), range(num_qubits))"
   ]
  },
  {
   "cell_type": "code",
   "execution_count": 15,
   "id": "1b9387ad-5a74-48a0-9242-edd9b9acf2e9",
   "metadata": {},
   "outputs": [],
   "source": [
    "results={}\n",
    "flat_results=[]\n",
    "for d in [3, 5]:\n",
    "    results[d]={}\n",
    "    for a in ['AL','RUD']:\n",
    "        results[d][a]={}\n",
    "        if a=='AL':\n",
    "            LAYERS=d\n",
    "            re_upload_depth=1\n",
    "        else:\n",
    "            LAYERS=1\n",
    "            re_upload_depth=d\n",
    "            \n",
    "        for p in pairs:\n",
    "            results[d][a][p]={}\n",
    "            depth_path = os.path.join(\"../BSE_RUD_AL_test/5qubit/\",'_'.join((str(d),a)),p)\n",
    "            if os.path.exists(depth_path):\n",
    "                with open(os.path.join(depth_path,f'{p}_results.json'),'r') as f:\n",
    "                    results_dict=json.load(f)\n",
    "                \n",
    "                \n",
    "            ENCODER, ANSATZ = p.split('_')\n",
    "            # print(ENCODER, ANSATZ)\n",
    "            encoder = ENCODER_LIST[ENCODER]\n",
    "            variational=ANSATZ_LIST[ANSATZ]\n",
    "            variational.layers = LAYERS\n",
    "            variational.set_wires(range(num_qubits))\n",
    "     \n",
    "\n",
    "            num_params = variational.num_params * re_upload_depth\n",
    "            generator = np.random.default_rng(12958234)\n",
    "            initial_parameters = generator.uniform(-np.pi, np.pi, num_params)\n",
    "            feat = generator.uniform(-1, 1, num_qubits)\n",
    "            \n",
    "            qnode = qml.QNode(circuit, device)        \n",
    "            circuit_specs=qml.specs(qnode)(feat,initial_parameters)['resources']\n",
    "\n",
    "            circuit_gates,circuit_depth= get_depth(encoder,variational,re_upload_depth,feat,initial_parameters)\n",
    "            # print(circuit_specs.num_gates,circuit_specs.depth)\n",
    "            # print(circuit_gates,circuit_depth)\n",
    "            \n",
    "            # print(f\"{p} AL_{LAYERS} RUD_{re_upload_depth}\\n\",circuit_specs)\n",
    "            # qml.draw_mpl(qnode,level=1)(feat,initial_parameters)\n",
    "            # plt.show()\n",
    "            # print(variational.layers)\n",
    "            # print()\n",
    "            with open(os.path.join(depth_path,'model_log.csv'),'r') as f:\n",
    "                # Create df\n",
    "                timedf = pd.DataFrame(pd.to_datetime([i.split(',')[0] for i in f.readlines() if '[' in i], format='%a %b %d %H:%M:%S %Y'),columns=['Time'])\n",
    "                # Get time between iterations and get the mean time\n",
    "                timedf['Iter time']=[i.total_seconds() for i in timedf['Time'].diff()]\n",
    "                \n",
    "\n",
    "            results[d][a][p]={'MAE_train':results_dict['MAE_train'],'MAE_test':results_dict['MAE_test'],'num_gates':circuit_gates,'depth':circuit_depth,'mean_iter':timedf['Iter time'].mean()}\n",
    "            if a=='AL':\n",
    "                flat_results.append((d,1,p,results_dict['MAE_train'],results_dict['MAE_test'],circuit_gates,circuit_depth,timedf['Iter time'].mean()))\n",
    "            else:\n",
    "                flat_results.append((1,d,p,results_dict['MAE_train'],results_dict['MAE_test'],circuit_gates,circuit_depth,timedf['Iter time'].mean()))\n",
    "            "
   ]
  },
  {
   "cell_type": "code",
   "execution_count": 16,
   "id": "508b23b2-1c60-46bf-bf34-e6d753921e1a",
   "metadata": {},
   "outputs": [
    {
     "data": {
      "text/plain": [
       "[]"
      ]
     },
     "execution_count": 16,
     "metadata": {},
     "output_type": "execute_result"
    }
   ],
   "source": [
    "flat_results"
   ]
  },
  {
   "cell_type": "code",
   "execution_count": 8,
   "id": "5b418b67-50fe-429a-a6e3-7d41261a3405",
   "metadata": {},
   "outputs": [],
   "source": [
    "for p in pairs:\n",
    "    with open(f'../BSE-calc-test/5qubit/{p}/{p}_results.json','r') as f:\n",
    "        og_results=json.load(f)\n",
    "        \n",
    "    ENCODER, ANSATZ = p.split('_')\n",
    "    # print(ENCODER, ANSATZ)\n",
    "    encoder = ENCODER_LIST[ENCODER]\n",
    "    variational=ANSATZ_LIST[ANSATZ]\n",
    "\n",
    "    LAYERS=1\n",
    "    re_upload_depth=1\n",
    "    variational.layers = LAYERS\n",
    "    variational.set_wires(range(num_qubits))\n",
    "    \n",
    "\n",
    "    num_params = variational.num_params * re_upload_depth\n",
    "    generator = np.random.default_rng(12958234)\n",
    "    initial_parameters = generator.uniform(-np.pi, np.pi, num_params)\n",
    "    feat = generator.uniform(-1, 1, num_qubits)\n",
    "    \n",
    "    qnode = qml.QNode(circuit, device)   \n",
    "\n",
    "    # print(f\"{p} AL_{LAYERS} RUD_{re_upload_depth}\\n\",circuit_specs)\n",
    "    # qml.draw_mpl(qnode,level=1)(feat,initial_parameters)\n",
    "    # plt.show()\n",
    "    \n",
    "    circuit_specs=qml.specs(qnode)(feat,initial_parameters)['resources']\n",
    "\n",
    "    circuit_gates,circuit_depth= get_depth(encoder,variational,1,feat,initial_parameters)\n",
    "    \n",
    "    with open(os.path.join(f\"../BSE-calc-test/5qubit/{p}\",'model_log.csv'),'r') as f:\n",
    "        # Create df\n",
    "        timedf = pd.DataFrame(pd.to_datetime([i.split(',')[0] for i in f.readlines() if '[' in i], format='%a %b %d %H:%M:%S %Y'),columns=['Time'])\n",
    "        # Get time between iterations and get the mean time\n",
    "        timedf['Iter time']=[i.total_seconds() for i in timedf['Time'].diff()]\n",
    "    \n",
    "    flat_results.append((1,1,p,og_results['MAE_train'],og_results['MAE_test'],circuit_gates,circuit_depth,timedf['Iter time'].mean()))"
   ]
  },
  {
   "cell_type": "code",
   "execution_count": 9,
   "id": "f2b68afc-3cf1-4a3b-a516-afcfb7aefcb1",
   "metadata": {},
   "outputs": [],
   "source": [
    "df = pd.DataFrame(flat_results,columns=['AL','RUD','pairs','MAE Train','MAE Test','num_gates','depth','mean_iter'])"
   ]
  },
  {
   "cell_type": "code",
   "execution_count": 10,
   "id": "dbdaa8c4-6c0b-41e5-8d42-f5b65a2582a0",
   "metadata": {},
   "outputs": [
    {
     "data": {
      "text/html": [
       "<div>\n",
       "<style scoped>\n",
       "    .dataframe tbody tr th:only-of-type {\n",
       "        vertical-align: middle;\n",
       "    }\n",
       "\n",
       "    .dataframe tbody tr th {\n",
       "        vertical-align: top;\n",
       "    }\n",
       "\n",
       "    .dataframe thead th {\n",
       "        text-align: right;\n",
       "    }\n",
       "</style>\n",
       "<table border=\"1\" class=\"dataframe\">\n",
       "  <thead>\n",
       "    <tr style=\"text-align: right;\">\n",
       "      <th></th>\n",
       "      <th>AL</th>\n",
       "      <th>RUD</th>\n",
       "      <th>pairs</th>\n",
       "      <th>MAE Train</th>\n",
       "      <th>MAE Test</th>\n",
       "      <th>num_gates</th>\n",
       "      <th>depth</th>\n",
       "      <th>mean_iter</th>\n",
       "    </tr>\n",
       "  </thead>\n",
       "  <tbody>\n",
       "  </tbody>\n",
       "</table>\n",
       "</div>"
      ],
      "text/plain": [
       "Empty DataFrame\n",
       "Columns: [AL, RUD, pairs, MAE Train, MAE Test, num_gates, depth, mean_iter]\n",
       "Index: []"
      ]
     },
     "execution_count": 10,
     "metadata": {},
     "output_type": "execute_result"
    }
   ],
   "source": [
    "df.sort_values(by=['MAE Train','MAE Test'])"
   ]
  },
  {
   "cell_type": "code",
   "execution_count": 11,
   "id": "dd0b46a5-73e8-4596-94bd-6f45c42d21b7",
   "metadata": {},
   "outputs": [
    {
     "data": {
      "text/plain": [
       "0"
      ]
     },
     "execution_count": 11,
     "metadata": {},
     "output_type": "execute_result"
    }
   ],
   "source": [
    "len(ENCODERs)//2"
   ]
  },
  {
   "cell_type": "code",
   "execution_count": 12,
   "id": "9391f83a-eab8-4667-8ecf-f453749d1ada",
   "metadata": {},
   "outputs": [],
   "source": [
    "df['diff']=(df['MAE Train']-df['MAE Test']).abs()"
   ]
  },
  {
   "cell_type": "code",
   "execution_count": 13,
   "id": "27fbef78-ee10-4cd2-a040-68b1a54802f4",
   "metadata": {},
   "outputs": [
    {
     "data": {
      "text/html": [
       "<div>\n",
       "<style scoped>\n",
       "    .dataframe tbody tr th:only-of-type {\n",
       "        vertical-align: middle;\n",
       "    }\n",
       "\n",
       "    .dataframe tbody tr th {\n",
       "        vertical-align: top;\n",
       "    }\n",
       "\n",
       "    .dataframe thead th {\n",
       "        text-align: right;\n",
       "    }\n",
       "</style>\n",
       "<table border=\"1\" class=\"dataframe\">\n",
       "  <thead>\n",
       "    <tr style=\"text-align: right;\">\n",
       "      <th></th>\n",
       "      <th>AL</th>\n",
       "      <th>RUD</th>\n",
       "      <th>pairs</th>\n",
       "      <th>MAE Train</th>\n",
       "      <th>MAE Test</th>\n",
       "      <th>num_gates</th>\n",
       "      <th>depth</th>\n",
       "      <th>mean_iter</th>\n",
       "      <th>diff</th>\n",
       "    </tr>\n",
       "  </thead>\n",
       "  <tbody>\n",
       "  </tbody>\n",
       "</table>\n",
       "</div>"
      ],
      "text/plain": [
       "Empty DataFrame\n",
       "Columns: [AL, RUD, pairs, MAE Train, MAE Test, num_gates, depth, mean_iter, diff]\n",
       "Index: []"
      ]
     },
     "execution_count": 13,
     "metadata": {},
     "output_type": "execute_result"
    }
   ],
   "source": [
    "df[(df['MAE Train']>0.9)&(df['MAE Train']>0.9)].sort_values(by=['MAE Train','MAE Test'])"
   ]
  },
  {
   "cell_type": "code",
   "execution_count": 14,
   "id": "c322d070-d85a-4e21-bd39-04106f14482f",
   "metadata": {},
   "outputs": [
    {
     "name": "stderr",
     "output_type": "stream",
     "text": [
      "/Users/grierjones/miniconda3/envs/simple_qml/lib/python3.12/site-packages/numpy/core/fromnumeric.py:3504: RuntimeWarning: Mean of empty slice.\n",
      "  return _methods._mean(a, axis=axis, dtype=dtype,\n"
     ]
    },
    {
     "ename": "ZeroDivisionError",
     "evalue": "division by zero",
     "output_type": "error",
     "traceback": [
      "\u001b[0;31m---------------------------------------------------------------------------\u001b[0m",
      "\u001b[0;31mZeroDivisionError\u001b[0m                         Traceback (most recent call last)",
      "Cell \u001b[0;32mIn[14], line 1\u001b[0m\n\u001b[0;32m----> 1\u001b[0m median_Train,median_Test\u001b[38;5;241m=\u001b[39mnp\u001b[38;5;241m.\u001b[39mmedian(df[[\u001b[38;5;124m'\u001b[39m\u001b[38;5;124mMAE Train\u001b[39m\u001b[38;5;124m'\u001b[39m,\u001b[38;5;124m\"\u001b[39m\u001b[38;5;124mMAE Test\u001b[39m\u001b[38;5;124m\"\u001b[39m]]\u001b[38;5;241m.\u001b[39mvalues,axis\u001b[38;5;241m=\u001b[39m\u001b[38;5;241m0\u001b[39m)\n",
      "File \u001b[0;32m~/miniconda3/envs/simple_qml/lib/python3.12/site-packages/numpy/lib/function_base.py:3927\u001b[0m, in \u001b[0;36mmedian\u001b[0;34m(a, axis, out, overwrite_input, keepdims)\u001b[0m\n\u001b[1;32m   3845\u001b[0m \u001b[38;5;129m@array_function_dispatch\u001b[39m(_median_dispatcher)\n\u001b[1;32m   3846\u001b[0m \u001b[38;5;28;01mdef\u001b[39;00m \u001b[38;5;21mmedian\u001b[39m(a, axis\u001b[38;5;241m=\u001b[39m\u001b[38;5;28;01mNone\u001b[39;00m, out\u001b[38;5;241m=\u001b[39m\u001b[38;5;28;01mNone\u001b[39;00m, overwrite_input\u001b[38;5;241m=\u001b[39m\u001b[38;5;28;01mFalse\u001b[39;00m, keepdims\u001b[38;5;241m=\u001b[39m\u001b[38;5;28;01mFalse\u001b[39;00m):\n\u001b[1;32m   3847\u001b[0m \u001b[38;5;250m    \u001b[39m\u001b[38;5;124;03m\"\"\"\u001b[39;00m\n\u001b[1;32m   3848\u001b[0m \u001b[38;5;124;03m    Compute the median along the specified axis.\u001b[39;00m\n\u001b[1;32m   3849\u001b[0m \n\u001b[0;32m   (...)\u001b[0m\n\u001b[1;32m   3925\u001b[0m \n\u001b[1;32m   3926\u001b[0m \u001b[38;5;124;03m    \"\"\"\u001b[39;00m\n\u001b[0;32m-> 3927\u001b[0m     \u001b[38;5;28;01mreturn\u001b[39;00m _ureduce(a, func\u001b[38;5;241m=\u001b[39m_median, keepdims\u001b[38;5;241m=\u001b[39mkeepdims, axis\u001b[38;5;241m=\u001b[39maxis, out\u001b[38;5;241m=\u001b[39mout,\n\u001b[1;32m   3928\u001b[0m                     overwrite_input\u001b[38;5;241m=\u001b[39moverwrite_input)\n",
      "File \u001b[0;32m~/miniconda3/envs/simple_qml/lib/python3.12/site-packages/numpy/lib/function_base.py:3823\u001b[0m, in \u001b[0;36m_ureduce\u001b[0;34m(a, func, keepdims, **kwargs)\u001b[0m\n\u001b[1;32m   3820\u001b[0m             index_out \u001b[38;5;241m=\u001b[39m (\u001b[38;5;241m0\u001b[39m, ) \u001b[38;5;241m*\u001b[39m nd\n\u001b[1;32m   3821\u001b[0m             kwargs[\u001b[38;5;124m'\u001b[39m\u001b[38;5;124mout\u001b[39m\u001b[38;5;124m'\u001b[39m] \u001b[38;5;241m=\u001b[39m out[(\u001b[38;5;28mEllipsis\u001b[39m, ) \u001b[38;5;241m+\u001b[39m index_out]\n\u001b[0;32m-> 3823\u001b[0m r \u001b[38;5;241m=\u001b[39m func(a, \u001b[38;5;241m*\u001b[39m\u001b[38;5;241m*\u001b[39mkwargs)\n\u001b[1;32m   3825\u001b[0m \u001b[38;5;28;01mif\u001b[39;00m out \u001b[38;5;129;01mis\u001b[39;00m \u001b[38;5;129;01mnot\u001b[39;00m \u001b[38;5;28;01mNone\u001b[39;00m:\n\u001b[1;32m   3826\u001b[0m     \u001b[38;5;28;01mreturn\u001b[39;00m out\n",
      "File \u001b[0;32m~/miniconda3/envs/simple_qml/lib/python3.12/site-packages/numpy/lib/function_base.py:3979\u001b[0m, in \u001b[0;36m_median\u001b[0;34m(a, axis, out, overwrite_input)\u001b[0m\n\u001b[1;32m   3975\u001b[0m indexer \u001b[38;5;241m=\u001b[39m \u001b[38;5;28mtuple\u001b[39m(indexer)\n\u001b[1;32m   3977\u001b[0m \u001b[38;5;66;03m# Use mean in both odd and even case to coerce data type,\u001b[39;00m\n\u001b[1;32m   3978\u001b[0m \u001b[38;5;66;03m# using out array if needed.\u001b[39;00m\n\u001b[0;32m-> 3979\u001b[0m rout \u001b[38;5;241m=\u001b[39m mean(part[indexer], axis\u001b[38;5;241m=\u001b[39maxis, out\u001b[38;5;241m=\u001b[39mout)\n\u001b[1;32m   3980\u001b[0m \u001b[38;5;28;01mif\u001b[39;00m supports_nans \u001b[38;5;129;01mand\u001b[39;00m sz \u001b[38;5;241m>\u001b[39m \u001b[38;5;241m0\u001b[39m:\n\u001b[1;32m   3981\u001b[0m     \u001b[38;5;66;03m# If nans are possible, warn and replace by nans like mean would.\u001b[39;00m\n\u001b[1;32m   3982\u001b[0m     rout \u001b[38;5;241m=\u001b[39m np\u001b[38;5;241m.\u001b[39mlib\u001b[38;5;241m.\u001b[39mutils\u001b[38;5;241m.\u001b[39m_median_nancheck(part, rout, axis)\n",
      "File \u001b[0;32m~/miniconda3/envs/simple_qml/lib/python3.12/site-packages/numpy/core/fromnumeric.py:3504\u001b[0m, in \u001b[0;36mmean\u001b[0;34m(a, axis, dtype, out, keepdims, where)\u001b[0m\n\u001b[1;32m   3501\u001b[0m     \u001b[38;5;28;01melse\u001b[39;00m:\n\u001b[1;32m   3502\u001b[0m         \u001b[38;5;28;01mreturn\u001b[39;00m mean(axis\u001b[38;5;241m=\u001b[39maxis, dtype\u001b[38;5;241m=\u001b[39mdtype, out\u001b[38;5;241m=\u001b[39mout, \u001b[38;5;241m*\u001b[39m\u001b[38;5;241m*\u001b[39mkwargs)\n\u001b[0;32m-> 3504\u001b[0m \u001b[38;5;28;01mreturn\u001b[39;00m _methods\u001b[38;5;241m.\u001b[39m_mean(a, axis\u001b[38;5;241m=\u001b[39maxis, dtype\u001b[38;5;241m=\u001b[39mdtype,\n\u001b[1;32m   3505\u001b[0m                       out\u001b[38;5;241m=\u001b[39mout, \u001b[38;5;241m*\u001b[39m\u001b[38;5;241m*\u001b[39mkwargs)\n",
      "File \u001b[0;32m~/miniconda3/envs/simple_qml/lib/python3.12/site-packages/numpy/core/_methods.py:121\u001b[0m, in \u001b[0;36m_mean\u001b[0;34m(a, axis, dtype, out, keepdims, where)\u001b[0m\n\u001b[1;32m    119\u001b[0m \u001b[38;5;28;01mif\u001b[39;00m \u001b[38;5;28misinstance\u001b[39m(ret, mu\u001b[38;5;241m.\u001b[39mndarray):\n\u001b[1;32m    120\u001b[0m     \u001b[38;5;28;01mwith\u001b[39;00m _no_nep50_warning():\n\u001b[0;32m--> 121\u001b[0m         ret \u001b[38;5;241m=\u001b[39m um\u001b[38;5;241m.\u001b[39mtrue_divide(\n\u001b[1;32m    122\u001b[0m                 ret, rcount, out\u001b[38;5;241m=\u001b[39mret, casting\u001b[38;5;241m=\u001b[39m\u001b[38;5;124m'\u001b[39m\u001b[38;5;124munsafe\u001b[39m\u001b[38;5;124m'\u001b[39m, subok\u001b[38;5;241m=\u001b[39m\u001b[38;5;28;01mFalse\u001b[39;00m)\n\u001b[1;32m    123\u001b[0m     \u001b[38;5;28;01mif\u001b[39;00m is_float16_result \u001b[38;5;129;01mand\u001b[39;00m out \u001b[38;5;129;01mis\u001b[39;00m \u001b[38;5;28;01mNone\u001b[39;00m:\n\u001b[1;32m    124\u001b[0m         ret \u001b[38;5;241m=\u001b[39m arr\u001b[38;5;241m.\u001b[39mdtype\u001b[38;5;241m.\u001b[39mtype(ret)\n",
      "\u001b[0;31mZeroDivisionError\u001b[0m: division by zero"
     ]
    }
   ],
   "source": [
    "median_Train,median_Test=np.median(df[['MAE Train',\"MAE Test\"]].values,axis=0)"
   ]
  },
  {
   "cell_type": "code",
   "execution_count": null,
   "id": "b22a9140-ebf4-4e98-9cbb-8ced993e18c6",
   "metadata": {},
   "outputs": [],
   "source": []
  },
  {
   "cell_type": "code",
   "execution_count": null,
   "id": "ed1e6aa8-599b-44eb-82d4-7c9beb024d07",
   "metadata": {},
   "outputs": [],
   "source": [
    "palette=sns.color_palette('Paired',4)"
   ]
  },
  {
   "cell_type": "code",
   "execution_count": null,
   "id": "6b5a8212-c01d-4ce0-b098-c183fe4a172c",
   "metadata": {},
   "outputs": [],
   "source": [
    "SMALL_SIZE = 8\n",
    "MEDIUM_SIZE = 16\n",
    "BIGGER_SIZE = 12\n",
    "\n",
    "plt.rc('font', size=MEDIUM_SIZE)          # controls default text sizes\n",
    "plt.rc('axes', titlesize=MEDIUM_SIZE)     # fontsize of the axes title\n",
    "plt.rc('axes', labelsize=MEDIUM_SIZE)    # fontsize of the x and y labels\n",
    "plt.rc('xtick', labelsize=MEDIUM_SIZE)    # fontsize of the tick labels\n",
    "plt.rc('ytick', labelsize=MEDIUM_SIZE)    # fontsize of the tick labels\n",
    "plt.rc('legend', fontsize=MEDIUM_SIZE)    # legend fontsize\n",
    "plt.rc('figure', titlesize=MEDIUM_SIZE)  # fontsize of the figure title\n",
    "\n",
    "fig, ax = plt.subplots(1,2,sharey=True,figsize=(10,5))\n",
    "sns.scatterplot(df,x='MAE Train',y='mean_iter',label='Train',ax=ax[0],color=palette[0])\n",
    "sns.scatterplot(df,x='MAE Test',y='mean_iter',label='Test',ax=ax[0],color=palette[1])\n",
    "# plt.hlines(df.describe().loc['mean','mean_iter'],0,50)\n",
    "ax[0].hlines(np.median(df['mean_iter']),0,50)\n",
    "ax[0].vlines(median_Train,0,700,color='r')\n",
    "ax[0].vlines(median_Test,0,700,color='r')\n",
    "\n",
    "ax[0].set_xlim(15,45)\n",
    "ax[0].set_ylim(0,600)\n",
    "ax[0].set_ylabel('Mean Time/Training Iteration (s)')\n",
    "ax[0].set_xlabel('MAE (kcal/mol)')\n",
    "ax[0].legend()\n",
    "\n",
    "ax[1].scatter(df['depth'],df['mean_iter'],color=palette[3])\n",
    "ax[1].set_xlim(0,300)\n",
    "ax[1].set_xlabel('Circuit Depth')\n",
    "plt.tight_layout()\n",
    "# plt.savefig('BSE5_circuitdepth_MAE_vs_iterationtime.png',dpi=300,bbox_inches='tight')\n",
    "plt.show()"
   ]
  },
  {
   "cell_type": "code",
   "execution_count": null,
   "id": "e6c16438-6617-4c6c-bc41-279ce88d8bc4",
   "metadata": {},
   "outputs": [],
   "source": []
  },
  {
   "cell_type": "code",
   "execution_count": null,
   "id": "f9119183-d32d-45f3-8c09-3d547283a4fc",
   "metadata": {},
   "outputs": [],
   "source": [
    "palette"
   ]
  },
  {
   "cell_type": "code",
   "execution_count": null,
   "id": "e57c64cd-b120-485b-92a5-96c68e6addf7",
   "metadata": {},
   "outputs": [],
   "source": [
    "SMALL_SIZE = 8\n",
    "MEDIUM_SIZE = 16\n",
    "BIGGER_SIZE = 12\n",
    "\n",
    "plt.rc('font', size=MEDIUM_SIZE)          # controls default text sizes\n",
    "plt.rc('axes', titlesize=MEDIUM_SIZE)     # fontsize of the axes title\n",
    "plt.rc('axes', labelsize=MEDIUM_SIZE)    # fontsize of the x and y labels\n",
    "plt.rc('xtick', labelsize=MEDIUM_SIZE)    # fontsize of the tick labels\n",
    "plt.rc('ytick', labelsize=MEDIUM_SIZE)    # fontsize of the tick labels\n",
    "plt.rc('legend', fontsize=MEDIUM_SIZE)    # legend fontsize\n",
    "plt.rc('figure', titlesize=MEDIUM_SIZE)  # fontsize of the figure title\n",
    "\n",
    "fig,ax=plt.subplots(3,len(pairs)//3,sharey=True,sharex=True,figsize=(25,10))\n",
    "\n",
    "\n",
    "for idxe,p in enumerate(pairs):\n",
    "    \n",
    "        pairdf=df[df['pairs']==p].sort_values(by=[\"num_gates\"])\n",
    "        min=pairdf.sort_values(by=['MAE Train',\"MAE Test\"]).iloc[0]\n",
    "        ax[idxe%3,idxe%5].plot(pairdf['num_gates'],pairdf['MAE Train'],label=f'Train'+\" (\"+'_'.join((f\"RUD{min['RUD']}\",f\"AL{min['AL']}\"))+f')',color=palette[1])\n",
    "        ax[idxe%3,idxe%5].plot(pairdf['num_gates'],pairdf['MAE Test'],label=f'Test'+\" (\"+'_'.join((f\"RUD{min['RUD']}\",f\"AL{min['AL']}\"))+f')',color=palette[3])\n",
    "        ax[idxe%3,idxe%5].scatter(min['num_gates'],min['MAE Train'],color=palette[1])\n",
    "        ax[idxe%3,idxe%5].scatter(min['num_gates'],min['MAE Test'],color=palette[3])\n",
    "        ax[idxe%3,idxe%5].hlines(median_Train,-10,500,color='r',linestyles=':',label=\"Median Train MAE\")\n",
    "        ax[idxe%3,idxe%5].hlines(median_Test,-10,500,color='b',linestyles=':',label=\"Median Test MAE\")\n",
    "        ax[idxe%3,idxe%5].legend(ax[idxe%3,idxe%5].get_legend_handles_labels()[0][:-2],ax[idxe%3,idxe%5].get_legend_handles_labels()[1][:-2],loc=1)\n",
    "        ax[idxe%3,idxe%5].set_ylabel('MAE (kcal/mol)')\n",
    "        ax[idxe%3,idxe%5].set_xlim(0,450)\n",
    "        ax[idxe%3,idxe%5].set_title(p)\n",
    "\n",
    "        if (idxe%3)==2:\n",
    "            ax[idxe%3,idxe%5].set_xlabel('Number of Gates')\n",
    "\n",
    "fig.legend(ax[-1,-1].get_legend_handles_labels()[0][-2:],ax[-1,-1].get_legend_handles_labels()[1][-2:], loc='right', bbox_to_anchor=(1.11, 0.9))        \n",
    "plt.tight_layout()        \n",
    "plt.savefig('BSE5_numgates_vs_MAE.png',dpi=300,bbox_inches='tight')\n",
    "plt.show()"
   ]
  },
  {
   "cell_type": "code",
   "execution_count": null,
   "id": "5c04229f-1326-4bc2-885f-b63d61498c95",
   "metadata": {},
   "outputs": [],
   "source": []
  },
  {
   "cell_type": "code",
   "execution_count": null,
   "id": "9f549c22-abbf-42d3-90ba-ffe5f7f70078",
   "metadata": {},
   "outputs": [],
   "source": [
    "SMALL_SIZE = 8\n",
    "MEDIUM_SIZE = 16\n",
    "BIGGER_SIZE = 12\n",
    "\n",
    "plt.rc('font', size=MEDIUM_SIZE)          # controls default text sizes\n",
    "plt.rc('axes', titlesize=MEDIUM_SIZE)     # fontsize of the axes title\n",
    "plt.rc('axes', labelsize=MEDIUM_SIZE)    # fontsize of the x and y labels\n",
    "plt.rc('xtick', labelsize=MEDIUM_SIZE)    # fontsize of the tick labels\n",
    "plt.rc('ytick', labelsize=MEDIUM_SIZE)    # fontsize of the tick labels\n",
    "plt.rc('legend', fontsize=MEDIUM_SIZE)    # legend fontsize\n",
    "plt.rc('figure', titlesize=MEDIUM_SIZE)  # fontsize of the figure title\n",
    "\n",
    "fig,ax=plt.subplots(3,len(pairs)//3,sharey=True,sharex=True,figsize=(25,10))\n",
    "\n",
    "\n",
    "for idxe,p in enumerate(pairs):\n",
    "    \n",
    "        pairdf=df[df['pairs']==p].sort_values(by=[\"depth\"])\n",
    "        min=pairdf.sort_values(by=['MAE Train',\"MAE Test\"]).iloc[0]\n",
    "        ax[idxe%3,idxe%5].plot(pairdf['depth'],pairdf['MAE Train'],label=f'Train'+\" (\"+'_'.join((f\"RUD{min['RUD']}\",f\"AL{min['AL']}\"))+f')',color=palette[1])\n",
    "        ax[idxe%3,idxe%5].plot(pairdf['depth'],pairdf['MAE Test'],label=f'Test'+\" (\"+'_'.join((f\"RUD{min['RUD']}\",f\"AL{min['AL']}\"))+f')',color=palette[3])\n",
    "        ax[idxe%3,idxe%5].scatter(min['depth'],min['MAE Train'],color=palette[1])\n",
    "        ax[idxe%3,idxe%5].scatter(min['depth'],min['MAE Test'],color=palette[3])\n",
    "        ax[idxe%3,idxe%5].hlines(median_Train,-10,500,color='r',linestyles=':',label=\"Median Train MAE\")\n",
    "        ax[idxe%3,idxe%5].hlines(median_Test,-10,500,color='b',linestyles=':',label=\"Median Test MAE\")\n",
    "        ax[idxe%3,idxe%5].legend(ax[idxe%3,idxe%5].get_legend_handles_labels()[0][:-2],ax[idxe%3,idxe%5].get_legend_handles_labels()[1][:-2],loc=1)\n",
    "        ax[idxe%3,idxe%5].set_ylabel('MAE (kcal/mol)')\n",
    "        ax[idxe%3,idxe%5].set_xlim(0,200)\n",
    "        ax[idxe%3,idxe%5].set_title(p)\n",
    "\n",
    "        if (idxe%3)==2:\n",
    "            ax[idxe%3,idxe%5].set_xlabel('Circuit Depth')\n",
    "\n",
    "fig.legend(ax[-1,-1].get_legend_handles_labels()[0][-2:],ax[-1,-1].get_legend_handles_labels()[1][-2:], loc='right', bbox_to_anchor=(1.1, 0.9))                \n",
    "plt.tight_layout()        \n",
    "plt.savefig('BSE5_circuitdepth_vs_MAE.png',dpi=300,bbox_inches='tight')\n",
    "plt.show()"
   ]
  },
  {
   "cell_type": "code",
   "execution_count": null,
   "id": "cb0c028b-f46d-4d23-925d-cf282efbd986",
   "metadata": {},
   "outputs": [],
   "source": [
    "# SMALL_SIZE = 8\n",
    "# MEDIUM_SIZE = 14\n",
    "# BIGGER_SIZE = 12\n",
    "\n",
    "# plt.rc('font', size=MEDIUM_SIZE)          # controls default text sizes\n",
    "# plt.rc('axes', titlesize=MEDIUM_SIZE)     # fontsize of the axes title\n",
    "# plt.rc('axes', labelsize=MEDIUM_SIZE)    # fontsize of the x and y labels\n",
    "# plt.rc('xtick', labelsize=MEDIUM_SIZE)    # fontsize of the tick labels\n",
    "# plt.rc('ytick', labelsize=MEDIUM_SIZE)    # fontsize of the tick labels\n",
    "# plt.rc('legend', fontsize=MEDIUM_SIZE)    # legend fontsize\n",
    "# plt.rc('figure', titlesize=MEDIUM_SIZE)  # fontsize of the figure title\n",
    "\n",
    "# fig,ax=plt.subplots(2,len(ENCODERs)//2,sharey=True,sharex=True,figsize=(25,10))\n",
    "\n",
    "# for idxa,a in enumerate(ANSATZs):\n",
    "#     for idxe,e in enumerate(ENCODERs):\n",
    "#         if '_'.join((a,e)) in pairs:\n",
    "#             pairdf=df[df['pairs']=='_'.join((a,e))].sort_values(by=[\"num_gates\"])\n",
    "#             min=pairdf.sort_values(by=['MAE Train',\"MAE Test\"]).iloc[0]\n",
    "#             ax[idxe%2,idxe%5].plot(pairdf['num_gates'],pairdf['MAE Train'],label=f'Train {a}'+\" (\"+'_'.join((f\"RUD{min['RUD']}\",f\"AL{min['AL']}\"))+f')')\n",
    "#             ax[idxe%2,idxe%5].plot(pairdf['num_gates'],pairdf['MAE Test'],label=f'Test {a}'+\" (\"+'_'.join((f\"RUD{min['RUD']}\",f\"AL{min['AL']}\"))+f')')\n",
    "#             ax[idxe%2,idxe%5].scatter(min['num_gates'],min['MAE Train'])\n",
    "#             ax[idxe%2,idxe%5].scatter(min['num_gates'],min['MAE Test'])\n",
    "#             ax[idxe%2,idxe%5].hlines(median_Train,-10,500,color='r',linestyles=':',label=\"Median Train MAE\")\n",
    "#             ax[idxe%2,idxe%5].hlines(median_Test,-10,500,color='b',linestyles=':',label=\"Median Test MAE\")\n",
    "#             ax[idxe%2,idxe%5].legend(loc=2)\n",
    "#             ax[idxe%2,idxe%5].set_ylabel(e)\n",
    "#             ax[idxe%2,idxe%5].set_xlim(0,450)\n",
    "\n",
    "#             if (idxe%2)==1:\n",
    "#                 ax[idxe%2,idxe%5].set_xlabel('Number of Gates')\n",
    "    \n",
    "        \n",
    "# plt.tight_layout()        \n",
    "# plt.show()"
   ]
  },
  {
   "cell_type": "code",
   "execution_count": null,
   "id": "8d95cd38-402f-4b25-990f-b0961bb6c88d",
   "metadata": {},
   "outputs": [],
   "source": [
    "# fig,ax=plt.subplots(2,len(ENCODERs)//2,sharey=True,sharex=True,figsize=(25,10))\n",
    "\n",
    "# for idxa,a in enumerate(ANSATZs):\n",
    "#     for idxe,e in enumerate(ENCODERs):\n",
    "#         if '_'.join((a,e)) in pairs:\n",
    "#             pairdf=df[df['pairs']=='_'.join((a,e))].sort_values(by=[\"depth\"])\n",
    "#             min=pairdf.sort_values(by=['MAE Train',\"MAE Test\"]).iloc[0]\n",
    "#             ax[idxe%2,idxe%5].plot(pairdf['depth'],pairdf['MAE Train'],label=f'Train {a}'+\" (\"+'_'.join((f\"RUD{min['RUD']}\",f\"AL{min['AL']}\"))+f')')\n",
    "#             ax[idxe%2,idxe%5].plot(pairdf['depth'],pairdf['MAE Test'],label=f'Test {a}'+\" (\"+'_'.join((f\"RUD{min['RUD']}\",f\"AL{min['AL']}\"))+f')')\n",
    "#             ax[idxe%2,idxe%5].scatter(min['depth'],min['MAE Train'])\n",
    "#             ax[idxe%2,idxe%5].scatter(min['depth'],min['MAE Test'])\n",
    "#             ax[idxe%2,idxe%5].hlines(median_Train,-10,300,color='r',linestyles=':',label=\"Median Train MAE\")\n",
    "#             ax[idxe%2,idxe%5].hlines(median_Test,-10,300,color='b',linestyles=':',label=\"Median Test MAE\")\n",
    "#             ax[idxe%2,idxe%5].legend(loc=2)\n",
    "#             ax[idxe%2,idxe%5].set_ylabel(e)\n",
    "#             ax[idxe%2,idxe%5].set_xlim(0,200)\n",
    "\n",
    "#             if (idxe%2)==1:\n",
    "#                 ax[idxe%2,idxe%5].set_xlabel('Circuit Depth')\n",
    "    \n",
    "        \n",
    "# plt.tight_layout()        \n",
    "# plt.show()"
   ]
  },
  {
   "cell_type": "code",
   "execution_count": null,
   "id": "4f11ccec-9574-42fa-8bcb-4b828fa8f4d5",
   "metadata": {},
   "outputs": [],
   "source": [
    "# for p in pairs:\n",
    "#     sns.lineplot(df[df['pairs']==p].melt(id_vars=['num_gates','depth'],value_vars=['MAE Train','MAE Test']),x='depth',y='value',hue='variable')\n",
    "#     plt.show()"
   ]
  },
  {
   "cell_type": "code",
   "execution_count": null,
   "id": "a9a4ca31-a8e4-42b7-90af-54c642b16512",
   "metadata": {},
   "outputs": [],
   "source": [
    "layerdf=df.melt(id_vars=['AL','RUD'],value_vars=['MAE Train','MAE Test'])"
   ]
  },
  {
   "cell_type": "code",
   "execution_count": null,
   "id": "985498a5-a6ed-4478-91af-d148168f1bdd",
   "metadata": {},
   "outputs": [],
   "source": [
    "fig,ax=plt.subplots(1,2,sharey=True,figsize=(10,5))\n",
    "sns.boxplot(data=layerdf,y='value',hue='variable',x='AL',ax=ax[0],palette=sns.color_palette('Paired',2))\n",
    "sns.boxplot(data=layerdf,y='value',hue='variable',x='RUD',ax=ax[1],palette=sns.color_palette('Paired',2))\n",
    "# ax[0].hlines(median_Train,-10,500,color='r',linestyles=':',label=\"Median Train MAE\")\n",
    "# ax[0].hlines(median_Test,-10,500,color='b',linestyles=':',label=\"Median Test MAE\")\n",
    "# ax[1].hlines(median_Train,-10,500,color='r',linestyles=':',label=\"Median Train MAE\")\n",
    "# ax[1].hlines(median_Test,-10,500,color='b',linestyles=':',label=\"Median Test MAE\")\n",
    "ax[0].legend().set_visible(False)\n",
    "ax[1].legend().set_visible(False)\n",
    "ax[0].set_xlim(-0.5,2.5)\n",
    "ax[1].set_xlim(-0.5,2.5)\n",
    "ax[0].set_ylim(15,45)\n",
    "ax[1].set_ylim(15,45)\n",
    "ax[0].set_ylabel('MAE (kcal/mol)')\n",
    "ax[0].set_xlabel('Ansatz Layers')\n",
    "ax[1].set_xlabel('Re-upload Depth')\n",
    "fig.legend(ax[1].get_legend_handles_labels()[0],ax[1].get_legend_handles_labels()[1], loc='right', bbox_to_anchor=(1.2, 0.9))                \n",
    "plt.tight_layout()\n",
    "plt.savefig('BSE5_MAE_vs_layers.png',dpi=300,bbox_inches='tight')\n",
    "plt.show()"
   ]
  },
  {
   "cell_type": "code",
   "execution_count": null,
   "id": "0a29a2a2-461b-4ff3-b33c-4eb8837cdca0",
   "metadata": {},
   "outputs": [],
   "source": [
    "pairs"
   ]
  },
  {
   "cell_type": "code",
   "execution_count": null,
   "id": "d3bc1acc-aa12-4dd1-915e-f46d2d689edc",
   "metadata": {},
   "outputs": [],
   "source": [
    "glob(\"../BSE_RUD_AL_test/5qubit/*/*/model_log.csv\")[0]"
   ]
  },
  {
   "cell_type": "code",
   "execution_count": null,
   "id": "875a5227-c809-4339-8269-70d508627f8a",
   "metadata": {},
   "outputs": [],
   "source": [
    "df"
   ]
  },
  {
   "cell_type": "code",
   "execution_count": null,
   "id": "89f1331b-7298-4fe4-b040-579d30d1af22",
   "metadata": {},
   "outputs": [],
   "source": []
  },
  {
   "cell_type": "code",
   "execution_count": null,
   "id": "2e425d53-e6dd-497c-a1b2-fab8bf2f8d15",
   "metadata": {},
   "outputs": [],
   "source": []
  }
 ],
 "metadata": {
  "kernelspec": {
   "display_name": "Python 3 (ipykernel)",
   "language": "python",
   "name": "python3"
  },
  "language_info": {
   "codemirror_mode": {
    "name": "ipython",
    "version": 3
   },
   "file_extension": ".py",
   "mimetype": "text/x-python",
   "name": "python",
   "nbconvert_exporter": "python",
   "pygments_lexer": "ipython3",
   "version": "3.12.4"
  }
 },
 "nbformat": 4,
 "nbformat_minor": 5
}
