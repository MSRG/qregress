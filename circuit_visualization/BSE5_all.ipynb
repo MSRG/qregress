{
 "cells": [
  {
   "cell_type": "code",
   "execution_count": null,
   "id": "b333cf8f-114f-4ffa-bb29-dbef151035a1",
   "metadata": {},
   "outputs": [],
   "source": [
    "import joblib\n",
    "import click\n",
    "import json\n",
    "import time\n",
    "import os\n",
    "import itertools\n",
    "import collections.abc\n",
    "from shutil import copy,SameFileError\n",
    "from glob import glob\n",
    "\n",
    "import matplotlib.pyplot as plt\n",
    "import seaborn as sns\n",
    "import numpy as np\n",
    "import pandas as pd\n",
    "import pennylane as qml\n",
    "from sklearn.metrics import mean_squared_error\n",
    "from sklearn.model_selection import KFold\n",
    "# from qiskit_ibm_provider import IBMProvider\n",
    "import warnings\n",
    "warnings.filterwarnings(\"ignore\", category=UserWarning, message=\"Attempted to compute the gradient of a tape with no trainable parameters.\")\n",
    "\n",
    "from qregress.quantum.Quantum import QuantumRegressor\n",
    "from qregress.quantum.Evaluate import evaluate\n",
    "from qregress.scripts.settings import ANSATZ_LIST, ENCODER_LIST\n",
    "from sklearn.utils._testing import ignore_warnings\n",
    "from sklearn.exceptions import InconsistentVersionWarning"
   ]
  },
  {
   "cell_type": "code",
   "execution_count": null,
   "id": "cfb87afe-8e2d-4a31-946c-19ab9cd3416f",
   "metadata": {},
   "outputs": [],
   "source": [
    "\n",
    "\n",
    "# device='qiskit.aer'\n",
    "# device_backend = FakeCairoV2()\n",
    "# backend = AerSimulator.from_backend(device_backend)\n",
    "# device = qml.device(device, wires=num_qubits, backend=backend, shots=shots)\n",
    "\n",
    "\n",
    "device='qulacs.simulator'\n",
    "num_qubits=5\n",
    "device = qml.device(device, wires=num_qubits)\n"
   ]
  },
  {
   "cell_type": "code",
   "execution_count": null,
   "id": "e507c62e-56b4-4a6f-96dd-ffc4e28e41e6",
   "metadata": {},
   "outputs": [],
   "source": [
    "def circuit(features, parameters):\n",
    "    #  builds the circuit with the given encoder and variational circuits.\n",
    "    #  encoder and variational circuits must have only two required parameters, params/feats and wires\n",
    "    for i in range(re_upload_depth):\n",
    "        params = initial_parameters.reshape(re_upload_depth,-1)[i]\n",
    "        \n",
    "        encoder(features, wires=range(num_qubits))\n",
    "        variational(params, wires=range(num_qubits))\n",
    "\n",
    "    return qml.expval(qml.PauliZ(0))"
   ]
  },
  {
   "cell_type": "code",
   "execution_count": null,
   "id": "15794d90-6748-48dc-a1fe-cb3be45f584b",
   "metadata": {},
   "outputs": [],
   "source": [
    "def get_depth(enc,var,rud,features,parameters):\n",
    "    circuit_gates=0\n",
    "    circuit_depth=0\n",
    "    for i in range(rud):\n",
    "        params = initial_parameters.reshape(rud,-1)[i]\n",
    "        \n",
    "        encoder_specs=qml.specs(qml.QNode(encoder,device),level=3)(features, wires=range(num_qubits))['resources']\n",
    "        var_specs=qml.specs(qml.QNode(variational,device),level=3)(params, wires=range(num_qubits))['resources']\n",
    "\n",
    "        circuit_gates+=var_specs.num_gates + encoder_specs.num_gates\n",
    "        circuit_depth+=var_specs.depth + encoder_specs.depth\n",
    "    return circuit_gates,circuit_depth"
   ]
  },
  {
   "cell_type": "code",
   "execution_count": null,
   "id": "01088f5d-f913-4794-b385-63bb4d9dbfb9",
   "metadata": {},
   "outputs": [],
   "source": [
    "with open(os.path.join('../BSE-calc-test/5qubit/IQP_Full-CRX/2_model_log.csv'),'r') as f:\n",
    "    # Create df\n",
    "    timedf = pd.DataFrame(pd.to_datetime([i.split(',')[0] for i in f.readlines() if '[' in i], format='%a %b %d %H:%M:%S %Y'),columns=['Time'])\n",
    "    # Get time between iterations and get the mean time\n",
    "    timedf['Iter time']=[i.total_seconds() for i in timedf['Time'].diff()]"
   ]
  },
  {
   "cell_type": "code",
   "execution_count": null,
   "id": "17660401-e4a5-4548-bfc7-d5e2b2505421",
   "metadata": {},
   "outputs": [],
   "source": [
    "# # Define the number of qubits and the input data\n",
    "# num_qubits = 5\n",
    "# data = np.random.rand(num_qubits)\n",
    "\n",
    "# # Create a quantum device\n",
    "\n",
    "\n",
    "# # Define the IQPEmbedding circuit\n",
    "# @qml.qnode(device)\n",
    "# def circuit(data):\n",
    "#     qml.IQPEmbedding(features=data, wires=range(num_qubits))\n",
    "#     return [qml.expval(qml.PauliZ(i)) for i in range(num_qubits)]\n",
    "\n",
    "# # Draw the circuit\n",
    "# fig, ax = qml.draw_mpl(circuit, expansion_strategy='device',level=3)(data)\n",
    "# plt.show()"
   ]
  },
  {
   "cell_type": "code",
   "execution_count": null,
   "id": "37de8855-dad9-44de-a9cb-730e3193cbac",
   "metadata": {},
   "outputs": [],
   "source": [
    "()"
   ]
  },
  {
   "cell_type": "code",
   "execution_count": null,
   "id": "3690fa89-f1d2-41db-8d7b-af51fd11e523",
   "metadata": {},
   "outputs": [],
   "source": [
    "flat_results = []\n",
    "for i in glob('../BSE-calc-test/1000_5qubit/*/*results.json'):\n",
    "    p = os.path.basename(os.path.dirname(i))\n",
    "    \n",
    "    with open(i,'r') as f:\n",
    "        og_results=json.load(f)\n",
    "    ENCODER, ANSATZ = p.split('_')\n",
    "    # print(ENCODER, ANSATZ)\n",
    "    encoder = ENCODER_LIST[ENCODER]\n",
    "    variational=ANSATZ_LIST[ANSATZ]\n",
    "\n",
    "    LAYERS=1\n",
    "    re_upload_depth=1\n",
    "    variational.layers = LAYERS\n",
    "    variational.set_wires(range(num_qubits))\n",
    "    \n",
    "\n",
    "    num_params = variational.num_params * re_upload_depth\n",
    "    generator = np.random.default_rng(12958234)\n",
    "    initial_parameters = qml.numpy.array(generator.uniform(-np.pi, np.pi, num_params), requires_grad=True)\n",
    "    feat = generator.uniform(-1, 1, num_qubits)\n",
    "    \n",
    "    qnode = qml.QNode(circuit, device)   \n",
    "\n",
    "    # print(f\"{p} AL_{LAYERS} RUD_{re_upload_depth}\\n\",circuit_specs)\n",
    "    # qml.draw_mpl(qnode,level=3)(feat,initial_parameters)\n",
    "    # plt.show()\n",
    "    \n",
    "    circuit_specs=qml.specs(qnode,level=3)(feat,initial_parameters)\n",
    "    # if ENCODER==\"IQP\":\n",
    "    #     print(circuit_specs['resources'].depth)\n",
    "    circuit_gates,circuit_depth= get_depth(encoder,variational,1,feat,initial_parameters)\n",
    "    times = []\n",
    "    # print(i)\n",
    "    for j in glob(os.path.join(f\"../BSE-calc-test/5qubit/{p}\",'*model_log.csv')):\n",
    "        with open(j,'r') as f:\n",
    "            # Create df\n",
    "            timedf = pd.DataFrame(pd.to_datetime([i.split(',')[0] for i in f.readlines() if '[' in i], format='%a %b %d %H:%M:%S %Y'),columns=['Time'])\n",
    "            # Get time between iterations and get the mean time\n",
    "            timedf['Iter time']=[i.total_seconds() for i in timedf['Time'].diff()]\n",
    "            times.append(timedf)\n",
    "    \n",
    "    flat_results.append((1,1,p,og_results['MAE_train'],og_results['MAE_test'],circuit_gates,circuit_depth,pd.concat(times)['Iter time'].mean()))"
   ]
  },
  {
   "cell_type": "code",
   "execution_count": null,
   "id": "ddcec697-bf19-474b-aba3-b04c26d10f37",
   "metadata": {},
   "outputs": [],
   "source": [
    "df = pd.DataFrame(flat_results,columns=['AL','RUD','pairs','MAE Train','MAE Test','num_gates','depth','mean_iter'])"
   ]
  },
  {
   "cell_type": "code",
   "execution_count": null,
   "id": "88bd5787-7cd4-443e-a33a-1999d5d9cb94",
   "metadata": {},
   "outputs": [],
   "source": [
    "palette=sns.color_palette('Paired',8)"
   ]
  },
  {
   "cell_type": "code",
   "execution_count": null,
   "id": "96061d02-b1d0-4d59-89f5-1d0f1f3aba5d",
   "metadata": {},
   "outputs": [],
   "source": [
    "median_Train,median_Test=np.median(df[['MAE Train',\"MAE Test\"]].values,axis=0)"
   ]
  },
  {
   "cell_type": "code",
   "execution_count": null,
   "id": "5518cabf-c03f-4f34-90fa-9753798fb2b8",
   "metadata": {},
   "outputs": [],
   "source": [
    "df.sort_values(by=['depth','mean_iter'])"
   ]
  },
  {
   "cell_type": "code",
   "execution_count": null,
   "id": "ffabd95c-130d-4778-85aa-dab00995fbea",
   "metadata": {},
   "outputs": [],
   "source": [
    "df[df['pairs']=='M-M-CZ_HWE-CNOT']"
   ]
  },
  {
   "cell_type": "code",
   "execution_count": null,
   "id": "524d88b3-aa61-40b1-bd1c-608380853b94",
   "metadata": {},
   "outputs": [],
   "source": [
    "beststats = '\\n'.join([f'{k}: {v:.2f}' if type(v)!=str else f'{k}: {v}' for k,v in df[df['pairs']=='M-M-CZ_HWE-CNOT'].rename(columns={'mean_iter':'Mean Iteration','pairs':'ENCODER_ANSATZ','depth':\"Depth\",'num_gates':'Number of Gates'}).iloc[-1].iloc[2:].to_dict().items()])"
   ]
  },
  {
   "cell_type": "code",
   "execution_count": null,
   "id": "805422ba-4479-42ae-927f-5926042ec1fc",
   "metadata": {},
   "outputs": [],
   "source": [
    "killed = np.genfromtxt('kill_list.txt',dtype=str)\n",
    "killeddf = pd.concat([df[df['pairs'] == i] for i in killed])"
   ]
  },
  {
   "cell_type": "code",
   "execution_count": null,
   "id": "570c3a6a-6de1-483e-bbbf-0af89c578def",
   "metadata": {},
   "outputs": [],
   "source": [
    "SMALL_SIZE = 8\n",
    "MEDIUM_SIZE = 16\n",
    "BIGGER_SIZE = 12\n",
    "\n",
    "plt.rc('font', size=MEDIUM_SIZE)          # controls default text sizes\n",
    "plt.rc('axes', titlesize=MEDIUM_SIZE)     # fontsize of the axes title\n",
    "plt.rc('axes', labelsize=MEDIUM_SIZE)    # fontsize of the x and y labels\n",
    "plt.rc('xtick', labelsize=MEDIUM_SIZE)    # fontsize of the tick labels\n",
    "plt.rc('ytick', labelsize=MEDIUM_SIZE)    # fontsize of the tick labels\n",
    "plt.rc('legend', fontsize=MEDIUM_SIZE)    # legend fontsize\n",
    "plt.rc('figure', titlesize=MEDIUM_SIZE)  # fontsize of the figure title\n",
    "\n",
    "fig, ax = plt.subplots(1,2,sharey=True,figsize=(12,6))\n",
    "# sns.scatterplot(df,x='MAE Train',y='mean_iter',label='Train',ax=ax[0],color=palette[0],edgecolor='k')\n",
    "sns.scatterplot(df,x='MAE Test',y='mean_iter',label='Test',ax=ax[0],color=palette[1],edgecolor='k')\n",
    "sns.scatterplot(df[df['pairs']=='M-M-CZ_HWE-CNOT'].rename(columns={'MAE Test':'Best Test','MAE Train':'Best Train'}).melt(value_vars=['Best Test','Best Train'],id_vars=['pairs','mean_iter']), x='value',y='mean_iter',hue='variable',palette=palette[4:6],ax=ax[0],edgecolor='k')\n",
    "sns.scatterplot(killeddf,x='MAE Test',y='mean_iter',label='Test',ax=ax[0],color='orange',edgecolor='k')\n",
    "\n",
    "\n",
    "ax[0].set_xlim(0,40)\n",
    "# ax[0].set_ylim(0,300)\n",
    "ax[0].set_ylabel('Mean Time/Training Iteration (s)')\n",
    "ax[0].set_xlabel('MAE (kcal/mol)')\n",
    "ax[0].legend()\n",
    "\n",
    "ax[1].scatter(df['depth'],df['mean_iter'],color=palette[3],edgecolor='k')\n",
    "ax[1].set_xlim(1,200)\n",
    "ax[1].set_xlabel('Circuit Depth')\n",
    "sns.scatterplot(df[df['pairs']=='M-M-CZ_HWE-CNOT'], x='depth',y='mean_iter',color=palette[5],ax=ax[1],edgecolor='k',label='M-M-CZ_HWE-CNOT')\n",
    "ax[1].text(60,10,beststats,fontsize=12)\n",
    "plt.tight_layout()\n",
    "# plt.savefig('AllBSE5_circuitdepth_MAE_vs_iterationtime.png',dpi=300,bbox_inches='tight')\n",
    "plt.show()"
   ]
  },
  {
   "cell_type": "code",
   "execution_count": null,
   "id": "001c2b6f-c625-4d14-bc42-cff994607079",
   "metadata": {},
   "outputs": [],
   "source": [
    "df[df['pairs']=='M-M-CZ_HWE-CNOT'].rename(columns={'MAE Test':'Best Test','MAE Train':'Best Train'}).melt(value_vars=['Best Test','Best Train'],id_vars=['pairs','mean_iter'])"
   ]
  },
  {
   "cell_type": "code",
   "execution_count": null,
   "id": "9db4abf9-f10e-4435-9227-3fa107e01b05",
   "metadata": {},
   "outputs": [],
   "source": [
    "SMALL_SIZE = 8\n",
    "MEDIUM_SIZE = 16\n",
    "BIGGER_SIZE = 12\n",
    "\n",
    "plt.rc('font', size=MEDIUM_SIZE)          # controls default text sizes\n",
    "plt.rc('axes', titlesize=MEDIUM_SIZE)     # fontsize of the axes title\n",
    "plt.rc('axes', labelsize=MEDIUM_SIZE)    # fontsize of the x and y labels\n",
    "plt.rc('xtick', labelsize=MEDIUM_SIZE)    # fontsize of the tick labels\n",
    "plt.rc('ytick', labelsize=MEDIUM_SIZE)    # fontsize of the tick labels\n",
    "plt.rc('legend', fontsize=MEDIUM_SIZE)    # legend fontsize\n",
    "plt.rc('figure', titlesize=MEDIUM_SIZE)  # fontsize of the figure title\n",
    "\n",
    "fig, ax = plt.subplots(1,2,sharey=True,figsize=(12,6))\n",
    "sns.scatterplot(df,x='MAE Train',y='mean_iter',label='Train',ax=ax[0],color=palette[0],edgecolor='k')\n",
    "sns.scatterplot(df,x='MAE Test',y='mean_iter',label='Test',ax=ax[0],color=palette[1],edgecolor='k')\n",
    "sns.scatterplot(df[df['pairs']=='M-M-CZ_HWE-CNOT'].rename(columns={'MAE Test':'Best Test','MAE Train':'Best Train'}).melt(value_vars=['Best Test','Best Train'],id_vars=['pairs','mean_iter']), x='value',y='mean_iter',hue='variable',palette=palette[4:6],ax=ax[0],edgecolor='k')\n",
    "sns.scatterplot(killeddf,x='MAE Train',y='mean_iter',label='Test',ax=ax[0],color='orange',edgecolor='k')\n",
    "# ax[0].set_xlim(15,40)\n",
    "# ax[0].set_ylim(0,100)\n",
    "ax[0].set_ylabel('Mean Time/Training Iteration (s)')\n",
    "ax[0].set_xlabel('MAE (kcal/mol)')\n",
    "ax[0].legend()\n",
    "\n",
    "ax[1].scatter(df['depth'],df['mean_iter'],color=palette[3],edgecolor='k')\n",
    "ax[1].scatter(killeddf['depth'],killeddf['mean_iter'],color='orange',edgecolor='k')\n",
    "ax[1].set_xlim(1,50)\n",
    "ax[1].set_xlabel('Circuit Depth')\n",
    "sns.scatterplot(df[df['pairs']=='M-M-CZ_HWE-CNOT'], x='depth',y='mean_iter',color=palette[5],ax=ax[1],edgecolor='k',label='M-M-CZ_HWE-CNOT')\n",
    "ax[1].text(15,70,beststats,fontsize=12)\n",
    "plt.tight_layout()\n",
    "# # plt.savefig('AllBSE5_circuitdepth_MAE_vs_iterationtime.png',dpi=300,bbox_inches='tight')\n",
    "plt.show()"
   ]
  },
  {
   "cell_type": "code",
   "execution_count": null,
   "id": "7143d027-9d3d-460f-9122-351b449d3be5",
   "metadata": {},
   "outputs": [],
   "source": [
    "palette"
   ]
  },
  {
   "cell_type": "code",
   "execution_count": null,
   "id": "c7e27933-1d0d-4960-a7c3-5ee8507fba0a",
   "metadata": {},
   "outputs": [],
   "source": [
    "df[df['pairs']=='M-M-CZ_HWE-CNOT']"
   ]
  },
  {
   "cell_type": "code",
   "execution_count": null,
   "id": "8a5dcd26-0773-4025-b9d5-eda35501b7c6",
   "metadata": {},
   "outputs": [],
   "source": []
  }
 ],
 "metadata": {
  "kernelspec": {
   "display_name": "Python 3 (ipykernel)",
   "language": "python",
   "name": "python3"
  },
  "language_info": {
   "codemirror_mode": {
    "name": "ipython",
    "version": 3
   },
   "file_extension": ".py",
   "mimetype": "text/x-python",
   "name": "python",
   "nbconvert_exporter": "python",
   "pygments_lexer": "ipython3",
   "version": "3.10.13"
  }
 },
 "nbformat": 4,
 "nbformat_minor": 5
}
