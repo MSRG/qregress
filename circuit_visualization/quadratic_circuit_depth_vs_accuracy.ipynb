{
 "cells": [
  {
   "cell_type": "code",
   "execution_count": null,
   "id": "bbdd75b6-4ece-4100-a09f-251f23ee0730",
   "metadata": {},
   "outputs": [],
   "source": [
    "import joblib\n",
    "import click\n",
    "import json\n",
    "import time\n",
    "import os\n",
    "import itertools\n",
    "import collections.abc\n",
    "from shutil import copy,SameFileError\n",
    "from glob import glob\n",
    "\n",
    "import matplotlib.pyplot as plt\n",
    "import seaborn as sns\n",
    "import numpy as np\n",
    "import pandas as pd\n",
    "import pennylane as qml\n",
    "from sklearn.metrics import mean_squared_error\n",
    "from sklearn.model_selection import KFold\n",
    "# from qiskit_ibm_provider import IBMProvider\n",
    "\n",
    "from quantum.Quantum import QuantumRegressor\n",
    "from quantum.Evaluate import evaluate\n",
    "from settings import ANSATZ_LIST, ENCODER_LIST\n",
    "from sklearn.utils._testing import ignore_warnings\n",
    "from sklearn.exceptions import InconsistentVersionWarning"
   ]
  },
  {
   "cell_type": "code",
   "execution_count": null,
   "id": "50bb4d93-17f3-4605-ba15-8f48004815ec",
   "metadata": {},
   "outputs": [],
   "source": [
    "ANSATZs=[]\n",
    "ENCODERs=[]\n",
    "pairs=[]\n",
    "results={}\n",
    "for i in glob('../function-calc-test/RUD_AL/3_AL_quad16qubit/*/*results.json'):\n",
    "    pair = os.path.basename(i).replace('_results.json','')\n",
    "    pairs.append(pair)\n",
    "    an, en = pair.split('_')\n",
    "    ANSATZs.append(an)\n",
    "    ENCODERs.append(en)\n",
    "    \n",
    "\n",
    "\n",
    "ANSATZs=set(ANSATZs)\n",
    "ENCODERs=set(ENCODERs)"
   ]
  },
  {
   "cell_type": "code",
   "execution_count": null,
   "id": "d5037f36-2dc0-4ca7-939f-314fb164b0bf",
   "metadata": {},
   "outputs": [],
   "source": [
    "\n",
    "\n",
    "# device='qiskit.aer'\n",
    "# device_backend = FakeCairoV2()\n",
    "# backend = AerSimulator.from_backend(device_backend)\n",
    "# device = qml.device(device, wires=num_qubits, backend=backend, shots=shots)\n",
    "\n",
    "\n",
    "device='qulacs.simulator'\n",
    "num_qubits=16\n",
    "device = qml.device(device, wires=num_qubits)\n"
   ]
  },
  {
   "cell_type": "code",
   "execution_count": null,
   "id": "62ac23bb-7243-471d-ab46-5ea63892f3ab",
   "metadata": {},
   "outputs": [],
   "source": [
    "def circuit(features, parameters):\n",
    "    #  builds the circuit with the given encoder and variational circuits.\n",
    "    #  encoder and variational circuits must have only two required parameters, params/feats and wires\n",
    "    for i in range(re_upload_depth):\n",
    "        params = initial_parameters.reshape(re_upload_depth,-1)[i]\n",
    "        \n",
    "        encoder(features, wires=range(num_qubits))\n",
    "        variational(params, wires=range(num_qubits))\n",
    "\n",
    "    return qml.expval(qml.PauliZ(0))"
   ]
  },
  {
   "cell_type": "code",
   "execution_count": null,
   "id": "810b6d27-e79a-4e80-be73-c35732e31d6e",
   "metadata": {},
   "outputs": [],
   "source": [
    "def get_depth(enc,var,rud,features,parameters):\n",
    "    circuit_gates=0\n",
    "    circuit_depth=0\n",
    "    for i in range(rud):\n",
    "        params = initial_parameters.reshape(rud,-1)[i]\n",
    "        \n",
    "        encoder_specs=qml.specs(qml.QNode(encoder,device,expansion_strategy='device'))(features, wires=range(num_qubits))['resources']\n",
    "        var_specs=qml.specs(qml.QNode(variational,device,expansion_strategy='device'))(params, wires=range(num_qubits))['resources']\n",
    "\n",
    "        circuit_gates+=var_specs.num_gates + encoder_specs.num_gates\n",
    "        circuit_depth+=var_specs.depth + encoder_specs.depth\n",
    "    return circuit_gates,circuit_depth"
   ]
  },
  {
   "cell_type": "code",
   "execution_count": null,
   "id": "dc344b1a-5e87-4eee-9ae0-f4d94c397948",
   "metadata": {},
   "outputs": [],
   "source": [
    "\n",
    "\n",
    "# draw_encoder = qml.draw_mpl(qml.QNode(ENCODER_LIST['IQP'],device),level=3)\n",
    "# draw_encoder(np.random.rand(num_qubits), range(num_qubits))"
   ]
  },
  {
   "cell_type": "code",
   "execution_count": null,
   "id": "7460a919-a1e9-4a64-9a8a-cc3b673c153e",
   "metadata": {},
   "outputs": [],
   "source": []
  },
  {
   "cell_type": "code",
   "execution_count": null,
   "id": "1b9387ad-5a74-48a0-9242-edd9b9acf2e9",
   "metadata": {},
   "outputs": [],
   "source": [
    "results={}\n",
    "flat_results=[]\n",
    "for d in [3, 5]:\n",
    "    results[d]={}\n",
    "    for a in ['AL','RUD']:\n",
    "        results[d][a]={}\n",
    "        if a=='AL':\n",
    "            LAYERS=d\n",
    "            re_upload_depth=1\n",
    "        else:\n",
    "            LAYERS=1\n",
    "            re_upload_depth=d\n",
    "            \n",
    "        for p in pairs:\n",
    "            results[d][a][p]={}\n",
    "            depth_path = os.path.join(f\"../function-calc-test/RUD_AL/{d}_{a}_quad16qubit/\",p)\n",
    "            if os.path.exists(depth_path):\n",
    "                with open(os.path.join(depth_path,f'{p}_results.json'),'r') as f:\n",
    "                    results_dict=json.load(f)\n",
    "                \n",
    "                \n",
    "            ENCODER, ANSATZ = p.split('_')\n",
    "            # print(ENCODER, ANSATZ)\n",
    "            encoder = ENCODER_LIST[ENCODER]\n",
    "            variational=ANSATZ_LIST[ANSATZ]\n",
    "            variational.layers = LAYERS\n",
    "            variational.set_wires(range(num_qubits))\n",
    "     \n",
    "\n",
    "            num_params = variational.num_params * re_upload_depth\n",
    "            generator = np.random.default_rng(12958234)\n",
    "            initial_parameters = generator.uniform(-np.pi, np.pi, num_params)\n",
    "            feat = generator.uniform(-1, 1, num_qubits)\n",
    "            \n",
    "            qnode = qml.QNode(circuit, device)        \n",
    "            circuit_specs=qml.specs(qnode)(feat,initial_parameters)['resources']\n",
    "\n",
    "            circuit_gates,circuit_depth= get_depth(encoder,variational,re_upload_depth,feat,initial_parameters)\n",
    "            # print(circuit_specs.num_gates,circuit_specs.depth)\n",
    "            # print(circuit_gates,circuit_depth)\n",
    "            \n",
    "            # print(f\"{p} AL_{LAYERS} RUD_{re_upload_depth}\\n\",circuit_specs)\n",
    "            # qml.draw_mpl(qnode,level=1)(feat,initial_parameters)\n",
    "            # plt.show()\n",
    "            # print(variational.layers)\n",
    "            # print()\n",
    "\n",
    "            results[d][a][p]={'R2_train':results_dict['R2_train'],'R2_test':results_dict['R2_test'],'num_gates':circuit_gates,'depth':circuit_depth}\n",
    "            if a=='AL':\n",
    "                flat_results.append((d,1,p,results_dict['R2_train'],results_dict['R2_test'],circuit_gates,circuit_depth))\n",
    "            else:\n",
    "                flat_results.append((1,d,p,results_dict['R2_train'],results_dict['R2_test'],circuit_gates,circuit_depth))\n",
    "            "
   ]
  },
  {
   "cell_type": "code",
   "execution_count": null,
   "id": "6db7f749-3b03-4b0d-b761-db1d02ac5801",
   "metadata": {},
   "outputs": [],
   "source": [
    "\"\""
   ]
  },
  {
   "cell_type": "code",
   "execution_count": null,
   "id": "5b418b67-50fe-429a-a6e3-7d41261a3405",
   "metadata": {},
   "outputs": [],
   "source": [
    "for p in pairs:\n",
    "    with open(f'../function-calc-test/sixteenqubit_test/quad16qubit/{p}/{p}_results.json','r') as f:\n",
    "        og_results=json.load(f)\n",
    "        \n",
    "    ENCODER, ANSATZ = p.split('_')\n",
    "    # print(ENCODER, ANSATZ)\n",
    "    encoder = ENCODER_LIST[ENCODER]\n",
    "    variational=ANSATZ_LIST[ANSATZ]\n",
    "\n",
    "    LAYERS=1\n",
    "    re_upload_depth=1\n",
    "    variational.layers = LAYERS\n",
    "    variational.set_wires(range(num_qubits))\n",
    "    \n",
    "\n",
    "    num_params = variational.num_params * re_upload_depth\n",
    "    generator = np.random.default_rng(12958234)\n",
    "    initial_parameters = generator.uniform(-np.pi, np.pi, num_params)\n",
    "    feat = generator.uniform(-1, 1, num_qubits)\n",
    "    \n",
    "    qnode = qml.QNode(circuit, device)   \n",
    "\n",
    "    # print(f\"{p} AL_{LAYERS} RUD_{re_upload_depth}\\n\",circuit_specs)\n",
    "    # qml.draw_mpl(qnode,level=1)(feat,initial_parameters)\n",
    "    # plt.show()\n",
    "    \n",
    "    circuit_specs=qml.specs(qnode)(feat,initial_parameters)['resources']\n",
    "\n",
    "    circuit_gates,circuit_depth= get_depth(encoder,variational,1,feat,initial_parameters)\n",
    "    flat_results.append((1,1,p,og_results['R2_train'],og_results['R2_test'],circuit_gates,circuit_depth))"
   ]
  },
  {
   "cell_type": "code",
   "execution_count": null,
   "id": "d126eab1-b962-4fd2-a4c6-1810694425d5",
   "metadata": {},
   "outputs": [],
   "source": [
    "og_results"
   ]
  },
  {
   "cell_type": "code",
   "execution_count": null,
   "id": "f2b68afc-3cf1-4a3b-a516-afcfb7aefcb1",
   "metadata": {},
   "outputs": [],
   "source": [
    "df = pd.DataFrame(flat_results,columns=['AL','RUD','pairs','R2 Train','R2 Test','num_gates','depth'])"
   ]
  },
  {
   "cell_type": "code",
   "execution_count": null,
   "id": "5931e35f-463a-4494-b6e8-be31c48f920a",
   "metadata": {},
   "outputs": [],
   "source": [
    "sns.histplot(df['depth'])"
   ]
  },
  {
   "cell_type": "code",
   "execution_count": null,
   "id": "9391f83a-eab8-4667-8ecf-f453749d1ada",
   "metadata": {},
   "outputs": [],
   "source": [
    "df['diff']=(df['R2 Train']-df['R2 Test']).abs()"
   ]
  },
  {
   "cell_type": "code",
   "execution_count": null,
   "id": "27fbef78-ee10-4cd2-a040-68b1a54802f4",
   "metadata": {},
   "outputs": [],
   "source": [
    "df[(df['R2 Train']>0.9)&df['R2 Test']>0.9].sort_values(by=['R2 Train',\"R2 Test\"])"
   ]
  },
  {
   "cell_type": "code",
   "execution_count": null,
   "id": "c322d070-d85a-4e21-bd39-04106f14482f",
   "metadata": {},
   "outputs": [],
   "source": [
    "median_Train,median_Test=np.median(df[['R2 Train',\"R2 Test\"]].values,axis=0)"
   ]
  },
  {
   "cell_type": "code",
   "execution_count": null,
   "id": "ed1e6aa8-599b-44eb-82d4-7c9beb024d07",
   "metadata": {},
   "outputs": [],
   "source": [
    "palette=sns.color_palette('Paired',4)"
   ]
  },
  {
   "cell_type": "code",
   "execution_count": null,
   "id": "e57c64cd-b120-485b-92a5-96c68e6addf7",
   "metadata": {},
   "outputs": [],
   "source": [
    "SMALL_SIZE = 8\n",
    "MEDIUM_SIZE = 16\n",
    "BIGGER_SIZE = 12\n",
    "\n",
    "plt.rc('font', size=MEDIUM_SIZE)          # controls default text sizes\n",
    "plt.rc('axes', titlesize=MEDIUM_SIZE)     # fontsize of the axes title\n",
    "plt.rc('axes', labelsize=MEDIUM_SIZE)    # fontsize of the x and y labels\n",
    "plt.rc('xtick', labelsize=MEDIUM_SIZE)    # fontsize of the tick labels\n",
    "plt.rc('ytick', labelsize=MEDIUM_SIZE)    # fontsize of the tick labels\n",
    "plt.rc('legend', fontsize=MEDIUM_SIZE)    # legend fontsize\n",
    "plt.rc('figure', titlesize=MEDIUM_SIZE)  # fontsize of the figure title\n",
    "\n",
    "fig,ax=plt.subplots(3,len(pairs)//3,sharey=True,sharex=True,figsize=(25,10))\n",
    "\n",
    "\n",
    "for idxe,p in enumerate(pairs):\n",
    "    \n",
    "        pairdf=df[df['pairs']==p].sort_values(by=[\"num_gates\"])\n",
    "        min=pairdf.sort_values(by=['R2 Train',\"R2 Test\"]).iloc[-1]\n",
    "        ax[idxe%3,idxe%5].plot(pairdf['num_gates'],pairdf['R2 Train'],label=f'Train'+\" (\"+'_'.join((f\"RUD{min['RUD']}\",f\"AL{min['AL']}\"))+f')',color=palette[1])\n",
    "        ax[idxe%3,idxe%5].plot(pairdf['num_gates'],pairdf['R2 Test'],label=f'Test'+\" (\"+'_'.join((f\"RUD{min['RUD']}\",f\"AL{min['AL']}\"))+f')',color=palette[3])\n",
    "        ax[idxe%3,idxe%5].scatter(min['num_gates'],min['R2 Train'],color=palette[1])\n",
    "        ax[idxe%3,idxe%5].scatter(min['num_gates'],min['R2 Test'],color=palette[3])\n",
    "        ax[idxe%3,idxe%5].hlines(median_Train,-10,4000,color='r',linestyles=':',label=\"Median Train R2\")\n",
    "        ax[idxe%3,idxe%5].hlines(median_Test,-10,4000,color='b',linestyles=':',label=\"Median Test R2\")\n",
    "        ax[idxe%3,idxe%5].legend(ax[idxe%3,idxe%5].get_legend_handles_labels()[0][:-2],ax[idxe%3,idxe%5].get_legend_handles_labels()[1][:-2],loc=4)\n",
    "        ax[idxe%3,idxe%5].set_ylabel('R$^{2}$')\n",
    "        ax[idxe%3,idxe%5].set_xlim(0,3000)\n",
    "        ax[idxe%3,idxe%5].set_ylim(-1.1,1.1)\n",
    "        ax[idxe%3,idxe%5].set_title(p)\n",
    "\n",
    "        if (idxe%3)==2:\n",
    "            ax[idxe%3,idxe%5].set_xlabel('Number of Gates')\n",
    "\n",
    "fig.legend(ax[-1,-1].get_legend_handles_labels()[0][-2:],ax[-1,-1].get_legend_handles_labels()[1][-2:], loc='right', bbox_to_anchor=(1.1, 0.9))        \n",
    "plt.tight_layout()        \n",
    "#plt.savefig('quadratic_numgates_vs_R2.png',dpi=300,bbox_inches='tight')\n",
    "plt.show()"
   ]
  },
  {
   "cell_type": "code",
   "execution_count": null,
   "id": "9f549c22-abbf-42d3-90ba-ffe5f7f70078",
   "metadata": {},
   "outputs": [],
   "source": [
    "SMALL_SIZE = 8\n",
    "MEDIUM_SIZE = 16\n",
    "BIGGER_SIZE = 12\n",
    "\n",
    "plt.rc('font', size=MEDIUM_SIZE)          # controls default text sizes\n",
    "plt.rc('axes', titlesize=MEDIUM_SIZE)     # fontsize of the axes title\n",
    "plt.rc('axes', labelsize=MEDIUM_SIZE)    # fontsize of the x and y labels\n",
    "plt.rc('xtick', labelsize=MEDIUM_SIZE)    # fontsize of the tick labels\n",
    "plt.rc('ytick', labelsize=MEDIUM_SIZE)    # fontsize of the tick labels\n",
    "plt.rc('legend', fontsize=MEDIUM_SIZE)    # legend fontsize\n",
    "plt.rc('figure', titlesize=MEDIUM_SIZE)  # fontsize of the figure title\n",
    "\n",
    "fig,ax=plt.subplots(3,len(pairs)//3,sharey=True,sharex=True,figsize=(25,10))\n",
    "\n",
    "\n",
    "for idxe,p in enumerate(pairs):\n",
    "    \n",
    "        pairdf=df[df['pairs']==p].sort_values(by=[\"depth\"])\n",
    "        min=pairdf.sort_values(by=['R2 Train',\"R2 Test\"]).iloc[-1]\n",
    "        ax[idxe%3,idxe%5].plot(pairdf['depth'],pairdf['R2 Train'],label=f'Train'+\" (\"+'_'.join((f\"RUD{min['RUD']}\",f\"AL{min['AL']}\"))+f')',color=palette[1])\n",
    "        ax[idxe%3,idxe%5].plot(pairdf['depth'],pairdf['R2 Test'],label=f'Test'+\" (\"+'_'.join((f\"RUD{min['RUD']}\",f\"AL{min['AL']}\"))+f')',color=palette[3])\n",
    "        ax[idxe%3,idxe%5].scatter(min['depth'],min['R2 Train'],color=palette[1])\n",
    "        ax[idxe%3,idxe%5].scatter(min['depth'],min['R2 Test'],color=palette[3])\n",
    "        ax[idxe%3,idxe%5].hlines(median_Train,-10,4000,color='r',linestyles=':',label=\"Median Train R2\")\n",
    "        ax[idxe%3,idxe%5].hlines(median_Test,-10,4000,color='b',linestyles=':',label=\"Median Test R2\")\n",
    "        ax[idxe%3,idxe%5].legend(ax[idxe%3,idxe%5].get_legend_handles_labels()[0][:-2],ax[idxe%3,idxe%5].get_legend_handles_labels()[1][:-2],loc=4)\n",
    "        ax[idxe%3,idxe%5].set_ylabel('R$^{2}$')\n",
    "        ax[idxe%3,idxe%5].set_xlim(0,1500)\n",
    "        ax[idxe%3,idxe%5].set_ylim(-1.1,1.1)\n",
    "        ax[idxe%3,idxe%5].set_title(p)\n",
    "\n",
    "        if (idxe%3)==2:\n",
    "            ax[idxe%3,idxe%5].set_xlabel('Circuit Depth')\n",
    "\n",
    "fig.legend(ax[-1,-1].get_legend_handles_labels()[0][-2:],ax[-1,-1].get_legend_handles_labels()[1][-2:], loc='right', bbox_to_anchor=(1.1, 0.9))                \n",
    "plt.tight_layout()        \n",
    "#plt.savefig('quadratic_circuitdepth_vs_R2.png',dpi=300,bbox_inches='tight')\n",
    "plt.show()"
   ]
  },
  {
   "cell_type": "code",
   "execution_count": null,
   "id": "0ff92803-2a1f-400b-ab60-0bb4a7c91ad1",
   "metadata": {},
   "outputs": [],
   "source": [
    "df.sort_values(by=['R2 Train','R2 Test','depth'])"
   ]
  },
  {
   "cell_type": "code",
   "execution_count": null,
   "id": "cb0c028b-f46d-4d23-925d-cf282efbd986",
   "metadata": {},
   "outputs": [],
   "source": [
    "# SMALL_SIZE = 8\n",
    "# MEDIUM_SIZE = 14\n",
    "# BIGGER_SIZE = 12\n",
    "\n",
    "# plt.rc('font', size=MEDIUM_SIZE)          # controls default text sizes\n",
    "# plt.rc('axes', titlesize=MEDIUM_SIZE)     # fontsize of the axes title\n",
    "# plt.rc('axes', labelsize=MEDIUM_SIZE)    # fontsize of the x and y labels\n",
    "# plt.rc('xtick', labelsize=MEDIUM_SIZE)    # fontsize of the tick labels\n",
    "# plt.rc('ytick', labelsize=MEDIUM_SIZE)    # fontsize of the tick labels\n",
    "# plt.rc('legend', fontsize=MEDIUM_SIZE)    # legend fontsize\n",
    "# plt.rc('figure', titlesize=MEDIUM_SIZE)  # fontsize of the figure title\n",
    "\n",
    "# fig,ax=plt.subplots(2,len(ENCODERs)//2,sharey=True,sharex=True,figsize=(25,10))\n",
    "\n",
    "# for idxa,a in enumerate(ANSATZs):\n",
    "#     for idxe,e in enumerate(ENCODERs):\n",
    "#         if '_'.join((a,e)) in pairs:\n",
    "#             pairdf=df[df['pairs']=='_'.join((a,e))].sort_values(by=[\"num_gates\"])\n",
    "#             min=pairdf.sort_values(by=['R2 Train',\"R2 Test\"]).iloc[-1]\n",
    "#             ax[idxe%2,idxe%5].plot(pairdf['num_gates'],pairdf['R2 Train'],label=f'Train {a}'+\" (\"+'_'.join((f\"RUD{min['RUD']}\",f\"AL{min['AL']}\"))+f')')\n",
    "#             ax[idxe%2,idxe%5].plot(pairdf['num_gates'],pairdf['R2 Test'],label=f'Test {a}'+\" (\"+'_'.join((f\"RUD{min['RUD']}\",f\"AL{min['AL']}\"))+f')')\n",
    "#             ax[idxe%2,idxe%5].scatter(min['num_gates'],min['R2 Train'])\n",
    "#             ax[idxe%2,idxe%5].scatter(min['num_gates'],min['R2 Test'])\n",
    "#             ax[idxe%2,idxe%5].hlines(median_Train,-10,4000,color='r',linestyles=':',label=\"Median Train R2\")\n",
    "#             ax[idxe%2,idxe%5].hlines(median_Test,-10,4000,color='b',linestyles=':',label=\"Median Test R2\")\n",
    "#             ax[idxe%2,idxe%5].legend(loc=2)\n",
    "#             ax[idxe%2,idxe%5].set_ylabel(e)\n",
    "#             ax[idxe%2,idxe%5].set_xlim(0,450)\n",
    "\n",
    "#             if (idxe%2)==1:\n",
    "#                 ax[idxe%2,idxe%5].set_xlabel('Number of Gates')\n",
    "    \n",
    "        \n",
    "# plt.tight_layout()        \n",
    "# plt.show()"
   ]
  },
  {
   "cell_type": "code",
   "execution_count": null,
   "id": "8d95cd38-402f-4b25-990f-b0961bb6c88d",
   "metadata": {},
   "outputs": [],
   "source": [
    "# fig,ax=plt.subplots(2,len(ENCODERs)//2,sharey=True,sharex=True,figsize=(25,10))\n",
    "\n",
    "# for idxa,a in enumerate(ANSATZs):\n",
    "#     for idxe,e in enumerate(ENCODERs):\n",
    "#         if '_'.join((a,e)) in pairs:\n",
    "#             pairdf=df[df['pairs']=='_'.join((a,e))].sort_values(by=[\"depth\"])\n",
    "#             min=pairdf.sort_values(by=['R2 Train',\"R2 Test\"]).iloc[-1]\n",
    "#             ax[idxe%2,idxe%5].plot(pairdf['depth'],pairdf['R2 Train'],label=f'Train {a}'+\" (\"+'_'.join((f\"RUD{min['RUD']}\",f\"AL{min['AL']}\"))+f')')\n",
    "#             ax[idxe%2,idxe%5].plot(pairdf['depth'],pairdf['R2 Test'],label=f'Test {a}'+\" (\"+'_'.join((f\"RUD{min['RUD']}\",f\"AL{min['AL']}\"))+f')')\n",
    "#             ax[idxe%2,idxe%5].scatter(min['depth'],min['R2 Train'])\n",
    "#             ax[idxe%2,idxe%5].scatter(min['depth'],min['R2 Test'])\n",
    "#             ax[idxe%2,idxe%5].hlines(median_Train,-10,300,color='r',linestyles=':',label=\"Median Train R2\")\n",
    "#             ax[idxe%2,idxe%5].hlines(median_Test,-10,300,color='b',linestyles=':',label=\"Median Test R2\")\n",
    "#             ax[idxe%2,idxe%5].legend(loc=2)\n",
    "#             ax[idxe%2,idxe%5].set_ylabel(e)\n",
    "#             ax[idxe%2,idxe%5].set_xlim(0,14000)\n",
    "\n",
    "#             if (idxe%2)==1:\n",
    "#                 ax[idxe%2,idxe%5].set_xlabel('Circuit Depth')\n",
    "    \n",
    "        \n",
    "# plt.tight_layout()        \n",
    "# plt.show()"
   ]
  },
  {
   "cell_type": "code",
   "execution_count": null,
   "id": "4f11ccec-9574-42fa-8bcb-4b828fa8f4d5",
   "metadata": {},
   "outputs": [],
   "source": [
    "# for p in pairs:\n",
    "#     sns.lineplot(df[df['pairs']==p].melt(id_vars=['num_gates','depth'],value_vars=['R2 Train','R2 Test']),x='depth',y='value',hue='variable')\n",
    "#     plt.show()"
   ]
  },
  {
   "cell_type": "code",
   "execution_count": null,
   "id": "a9a4ca31-a8e4-42b7-90af-54c642b16512",
   "metadata": {},
   "outputs": [],
   "source": [
    "layerdf=df.melt(id_vars=['AL','RUD'],value_vars=['R2 Train','R2 Test'])"
   ]
  },
  {
   "cell_type": "code",
   "execution_count": null,
   "id": "985498a5-a6ed-4478-91af-d148168f1bdd",
   "metadata": {},
   "outputs": [],
   "source": [
    "fig,ax=plt.subplots(1,2,sharey=True,figsize=(10,5))\n",
    "sns.boxplot(data=layerdf,y='value',hue='variable',x='AL',ax=ax[0],palette=sns.color_palette('Paired',2))\n",
    "sns.boxplot(data=layerdf,y='value',hue='variable',x='RUD',ax=ax[1],palette=sns.color_palette('Paired',2))\n",
    "# ax[0].hlines(median_Train,-10,4000,color='r',linestyles=':',label=\"Median Train R2\")\n",
    "# ax[0].hlines(median_Test,-10,4000,color='b',linestyles=':',label=\"Median Test R2\")\n",
    "# ax[1].hlines(median_Train,-10,4000,color='r',linestyles=':',label=\"Median Train R2\")\n",
    "# ax[1].hlines(median_Test,-10,4000,color='b',linestyles=':',label=\"Median Test R2\")\n",
    "ax[0].legend().set_visible(False)\n",
    "ax[1].legend().set_visible(False)\n",
    "ax[0].set_xlim(-0.5,2.5)\n",
    "ax[1].set_xlim(-0.5,2.5)\n",
    "ax[0].set_ylim(-1.1,1.1)\n",
    "ax[1].set_ylim(-1.1,1.1)\n",
    "ax[0].set_ylabel('R$^{2}$')\n",
    "ax[0].set_xlabel('Ansatz Layers')\n",
    "ax[1].set_xlabel('Re-upload Depth')\n",
    "fig.legend(ax[1].get_legend_handles_labels()[0],ax[1].get_legend_handles_labels()[1], loc='right', bbox_to_anchor=(1.2, 0.9))                \n",
    "plt.tight_layout()\n",
    "#plt.savefig('quadratic_R2_vs_layers.png',dpi=300,bbox_inches='tight')\n",
    "plt.show()"
   ]
  },
  {
   "cell_type": "code",
   "execution_count": null,
   "id": "f68348e4-0f4b-4189-b19e-11062bf800e9",
   "metadata": {},
   "outputs": [],
   "source": [
    "depthdf=df.melt(id_vars=['num_gates','depth'],value_vars=['R2 Train','R2 Test'])"
   ]
  },
  {
   "cell_type": "code",
   "execution_count": null,
   "id": "985a04ef-816d-4560-88eb-2bfb28eb8049",
   "metadata": {},
   "outputs": [],
   "source": [
    "# sns.histplot(df[df['num_gates']<=14000],hue='variable',x='value',palette=sns.color_palette('Paired',2))\n",
    "# sns.histplot(df,hue='variable',x='value',palette=sns.color_palette('rocket',2))\n",
    "# plt.show()"
   ]
  },
  {
   "cell_type": "code",
   "execution_count": null,
   "id": "69820dcc-f42e-492a-8b9b-1088c6d3f6e7",
   "metadata": {},
   "outputs": [],
   "source": []
  },
  {
   "cell_type": "code",
   "execution_count": null,
   "id": "8706b5d2-22ae-4d26-859e-8e952a74dcad",
   "metadata": {},
   "outputs": [],
   "source": [
    "sns.lineplot(data=depthdf,y='value',hue='variable',x='num_gates',errorbar=None)\n",
    "plt.hlines(depthdf['value'].mean(),0,4000)\n",
    "plt.hlines(depthdf[depthdf['num_gates']>100]['value'].mean(),0,4000)\n",
    "\n",
    "plt.xlim(0,400)\n",
    "plt.show()"
   ]
  },
  {
   "cell_type": "code",
   "execution_count": null,
   "id": "7e17977f-a493-4564-9ab5-67f773516518",
   "metadata": {},
   "outputs": [],
   "source": [
    "\n",
    "sns.lineplot(data=depthdf,y='value',hue='variable',x='depth',errorbar=None)\n",
    "plt.hlines(np.median(depthdf['value']),0,4000)\n",
    "plt.xlim(0,14000)"
   ]
  },
  {
   "cell_type": "code",
   "execution_count": null,
   "id": "d2d4ee9d-9c2f-4ce7-8186-1b9b74649b92",
   "metadata": {},
   "outputs": [],
   "source": []
  },
  {
   "cell_type": "code",
   "execution_count": null,
   "id": "4935d820-5e87-47ed-8fcd-73e288bb6ed1",
   "metadata": {},
   "outputs": [],
   "source": []
  }
 ],
 "metadata": {
  "kernelspec": {
   "display_name": "Python 3 (ipykernel)",
   "language": "python",
   "name": "python3"
  },
  "language_info": {
   "codemirror_mode": {
    "name": "ipython",
    "version": 3
   },
   "file_extension": ".py",
   "mimetype": "text/x-python",
   "name": "python",
   "nbconvert_exporter": "python",
   "pygments_lexer": "ipython3",
   "version": "3.12.2"
  }
 },
 "nbformat": 4,
 "nbformat_minor": 5
}
