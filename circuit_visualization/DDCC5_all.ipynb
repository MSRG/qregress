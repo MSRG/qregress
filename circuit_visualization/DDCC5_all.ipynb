{
 "cells": [
  {
   "cell_type": "code",
   "execution_count": null,
   "id": "b333cf8f-114f-4ffa-bb29-dbef151035a1",
   "metadata": {},
   "outputs": [],
   "source": [
    "import joblib\n",
    "import click\n",
    "import json\n",
    "import time\n",
    "import os\n",
    "import itertools\n",
    "import collections.abc\n",
    "from shutil import copy,SameFileError\n",
    "from glob import glob\n",
    "\n",
    "import matplotlib.pyplot as plt\n",
    "import seaborn as sns\n",
    "import numpy as np\n",
    "import pandas as pd\n",
    "import pennylane as qml\n",
    "from sklearn.metrics import mean_squared_error\n",
    "from sklearn.model_selection import KFold\n",
    "# from qiskit_ibm_provider import IBMProvider\n",
    "\n",
    "from quantum.Quantum import QuantumRegressor\n",
    "from quantum.Evaluate import evaluate\n",
    "from settings import ANSATZ_LIST, ENCODER_LIST\n",
    "from sklearn.utils._testing import ignore_warnings\n",
    "from sklearn.exceptions import InconsistentVersionWarning"
   ]
  },
  {
   "cell_type": "code",
   "execution_count": null,
   "id": "cfb87afe-8e2d-4a31-946c-19ab9cd3416f",
   "metadata": {},
   "outputs": [],
   "source": [
    "\n",
    "\n",
    "# device='qiskit.aer'\n",
    "# device_backend = FakeCairoV2()\n",
    "# backend = AerSimulator.from_backend(device_backend)\n",
    "# device = qml.device(device, wires=num_qubits, backend=backend, shots=shots)\n",
    "\n",
    "\n",
    "device='qulacs.simulator'\n",
    "num_qubits=5\n",
    "device = qml.device(device, wires=num_qubits)\n"
   ]
  },
  {
   "cell_type": "code",
   "execution_count": null,
   "id": "e507c62e-56b4-4a6f-96dd-ffc4e28e41e6",
   "metadata": {},
   "outputs": [],
   "source": [
    "def circuit(features, parameters):\n",
    "    #  builds the circuit with the given encoder and variational circuits.\n",
    "    #  encoder and variational circuits must have only two required parameters, params/feats and wires\n",
    "    for i in range(re_upload_depth):\n",
    "        params = initial_parameters.reshape(re_upload_depth,-1)[i]\n",
    "        \n",
    "        encoder(features, wires=range(num_qubits))\n",
    "        variational(params, wires=range(num_qubits))\n",
    "\n",
    "    return qml.expval(qml.PauliZ(0))"
   ]
  },
  {
   "cell_type": "code",
   "execution_count": null,
   "id": "15794d90-6748-48dc-a1fe-cb3be45f584b",
   "metadata": {},
   "outputs": [],
   "source": [
    "def get_depth(enc,var,rud,features,parameters):\n",
    "    circuit_gates=0\n",
    "    circuit_depth=0\n",
    "    for i in range(rud):\n",
    "        params = initial_parameters.reshape(rud,-1)[i]\n",
    "        \n",
    "        encoder_specs=qml.specs(qml.QNode(encoder,device,expansion_strategy='device'))(features, wires=range(num_qubits))['resources']\n",
    "        var_specs=qml.specs(qml.QNode(variational,device,expansion_strategy='device'))(params, wires=range(num_qubits))['resources']\n",
    "\n",
    "        circuit_gates+=var_specs.num_gates + encoder_specs.num_gates\n",
    "        circuit_depth+=var_specs.depth + encoder_specs.depth\n",
    "    return circuit_gates,circuit_depth"
   ]
  },
  {
   "cell_type": "code",
   "execution_count": null,
   "id": "3690fa89-f1d2-41db-8d7b-af51fd11e523",
   "metadata": {},
   "outputs": [],
   "source": [
    "flat_results = []\n",
    "for i in glob('../qml_DDCC/5/*/*results.json'):\n",
    "    p = os.path.basename(os.path.dirname(i))\n",
    "    with open(i,'r') as f:\n",
    "        og_results=json.load(f)\n",
    "    ENCODER, ANSATZ = p.split('_')\n",
    "    # print(ENCODER, ANSATZ)\n",
    "    encoder = ENCODER_LIST[ENCODER]\n",
    "    variational=ANSATZ_LIST[ANSATZ]\n",
    "\n",
    "    LAYERS=1\n",
    "    re_upload_depth=1\n",
    "    variational.layers = LAYERS\n",
    "    variational.set_wires(range(num_qubits))\n",
    "    \n",
    "\n",
    "    num_params = variational.num_params * re_upload_depth\n",
    "    generator = np.random.default_rng(12958234)\n",
    "    initial_parameters = generator.uniform(-np.pi, np.pi, num_params)\n",
    "    feat = generator.uniform(-1, 1, num_qubits)\n",
    "    \n",
    "    qnode = qml.QNode(circuit, device)   \n",
    "\n",
    "    # print(f\"{p} AL_{LAYERS} RUD_{re_upload_depth}\\n\",circuit_specs)\n",
    "    # qml.draw_mpl(qnode,level=1)(feat,initial_parameters)\n",
    "    # plt.show()\n",
    "    \n",
    "    circuit_specs=qml.specs(qnode)(feat,initial_parameters)['resources']\n",
    "\n",
    "    circuit_gates,circuit_depth= get_depth(encoder,variational,1,feat,initial_parameters)\n",
    "    \n",
    "    with open(os.path.join(f\"../qml_DDCC/5/{p}\",'model_log.csv'),'r') as f:\n",
    "        # Create df\n",
    "        timedf = pd.DataFrame(pd.to_datetime([i.split(',')[0] for i in f.readlines() if '[' in i], format='%a %b %d %H:%M:%S %Y'),columns=['Time'])\n",
    "        # Get time between iterations and get the mean time\n",
    "        timedf['Iter time']=[i.total_seconds() for i in timedf['Time'].diff()]\n",
    "    \n",
    "    flat_results.append((1,1,p,og_results['MAE_train'],og_results['MAE_test'],circuit_gates,circuit_depth,timedf['Iter time'].mean()))"
   ]
  },
  {
   "cell_type": "code",
   "execution_count": null,
   "id": "ddcec697-bf19-474b-aba3-b04c26d10f37",
   "metadata": {},
   "outputs": [],
   "source": [
    "df = pd.DataFrame(flat_results,columns=['AL','RUD','pairs','MAE Train','MAE Test','num_gates','depth','mean_iter'])"
   ]
  },
  {
   "cell_type": "code",
   "execution_count": null,
   "id": "1af9b1e6-d0d3-4ba8-b2d9-1174ac2d23a9",
   "metadata": {},
   "outputs": [],
   "source": [
    "df[[\"MAE Train\",\"MAE Test\"]].describe()"
   ]
  },
  {
   "cell_type": "code",
   "execution_count": null,
   "id": "88bd5787-7cd4-443e-a33a-1999d5d9cb94",
   "metadata": {},
   "outputs": [],
   "source": [
    "palette=sns.color_palette('Paired',4)"
   ]
  },
  {
   "cell_type": "code",
   "execution_count": null,
   "id": "96061d02-b1d0-4d59-89f5-1d0f1f3aba5d",
   "metadata": {},
   "outputs": [],
   "source": [
    "median_Train,median_Test=np.median(df[['MAE Train',\"MAE Test\"]].values,axis=0)"
   ]
  },
  {
   "cell_type": "code",
   "execution_count": null,
   "id": "570c3a6a-6de1-483e-bbbf-0af89c578def",
   "metadata": {},
   "outputs": [],
   "source": [
    "sns.histplot(data=df,y='mean_iter')"
   ]
  },
  {
   "cell_type": "code",
   "execution_count": null,
   "id": "9db4abf9-f10e-4435-9227-3fa107e01b05",
   "metadata": {},
   "outputs": [],
   "source": [
    "SMALL_SIZE = 8\n",
    "MEDIUM_SIZE = 16\n",
    "BIGGER_SIZE = 12\n",
    "\n",
    "plt.rc('font', size=MEDIUM_SIZE)          # controls default text sizes\n",
    "plt.rc('axes', titlesize=MEDIUM_SIZE)     # fontsize of the axes title\n",
    "plt.rc('axes', labelsize=MEDIUM_SIZE)    # fontsize of the x and y labels\n",
    "plt.rc('xtick', labelsize=MEDIUM_SIZE)    # fontsize of the tick labels\n",
    "plt.rc('ytick', labelsize=MEDIUM_SIZE)    # fontsize of the tick labels\n",
    "plt.rc('legend', fontsize=MEDIUM_SIZE)    # legend fontsize\n",
    "plt.rc('figure', titlesize=MEDIUM_SIZE)  # fontsize of the figure title\n",
    "\n",
    "fig, ax = plt.subplots(1,2,sharey=True,figsize=(10,5))\n",
    "sns.scatterplot(df,x='MAE Train',y='mean_iter',label='Train',ax=ax[0],color=palette[0])\n",
    "sns.scatterplot(df,x='MAE Test',y='mean_iter',label='Test',ax=ax[0],color=palette[1])\n",
    "# plt.hlines(df.describe().loc['mean','mean_iter'],0,50)\n",
    "# ax[0].vlines(median_Train,0,700,color='r')\n",
    "# ax[0].vlines(median_Test,0,700,color='r')\n",
    "\n",
    "ax[0].set_xlim(0,4e-2)\n",
    "ax[0].set_ylim(0,150)\n",
    "ax[0].set_ylabel('Mean Time/Training Iteration (s)')\n",
    "ax[0].set_xlabel('MAE (E$_{h}$)')\n",
    "ax[0].legend()\n",
    "\n",
    "ax[1].scatter(df['depth'],df['mean_iter'],color=palette[3])\n",
    "ax[1].set_xlim(0,50)\n",
    "ax[1].set_xlabel('Circuit Depth')\n",
    "plt.tight_layout()\n",
    "plt.savefig('AllDDCC5_circuitdepth_MAE_vs_iterationtime.png',dpi=300,bbox_inches='tight')\n",
    "plt.show()"
   ]
  },
  {
   "cell_type": "code",
   "execution_count": null,
   "id": "1dc9fa49-1081-4823-aec7-2a79c095ee92",
   "metadata": {},
   "outputs": [],
   "source": [
    "# with open('kill_list.txt','w') as g:\n",
    "#     for i in df[df['mean_iter']>100]['pairs'].values:\n",
    "#         g.write(i+'\\n')"
   ]
  },
  {
   "cell_type": "code",
   "execution_count": null,
   "id": "ec7dea4e-d8cc-427d-9ba3-dcb67fb33c8d",
   "metadata": {},
   "outputs": [],
   "source": [
    "np.mean(df['mean_iter'])"
   ]
  },
  {
   "cell_type": "code",
   "execution_count": null,
   "id": "150bf7a6-8cd3-4fe0-a058-bd4c0ac413f0",
   "metadata": {},
   "outputs": [],
   "source": [
    "# for i in glob('../BSE_RUD_AL_test/16qubit/*'):\n",
    "#     for j in df[df['mean_iter']>100]['pairs'].values:\n",
    "#         if os.path.exists(os.path.join(i,j)):\n",
    "#             print(i,j)\n",
    "#             print(df[df['pairs']==j])"
   ]
  },
  {
   "cell_type": "code",
   "execution_count": null,
   "id": "7143d027-9d3d-460f-9122-351b449d3be5",
   "metadata": {},
   "outputs": [],
   "source": []
  }
 ],
 "metadata": {
  "kernelspec": {
   "display_name": "Python 3 (ipykernel)",
   "language": "python",
   "name": "python3"
  },
  "language_info": {
   "codemirror_mode": {
    "name": "ipython",
    "version": 3
   },
   "file_extension": ".py",
   "mimetype": "text/x-python",
   "name": "python",
   "nbconvert_exporter": "python",
   "pygments_lexer": "ipython3",
   "version": "3.12.4"
  }
 },
 "nbformat": 4,
 "nbformat_minor": 5
}
