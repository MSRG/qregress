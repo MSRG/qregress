{
 "cells": [
  {
   "cell_type": "code",
   "execution_count": 1,
   "id": "805e4a25-d6eb-48fb-a736-aa87c9670179",
   "metadata": {},
   "outputs": [],
   "source": [
    "import sys\n",
    "# !{sys.executable} -m pip install pennylane==0.31.0\n",
    "import pennylane as qml\n",
    "import numpy as np\n",
    "from quantum.circuits.Ansatz import rotation_layer, EfficientSU2, TwoLocal, ModifiedPauliTwo, HadamardAnsatz, ExcitationPreserving\n"
   ]
  },
  {
   "cell_type": "code",
   "execution_count": 2,
   "id": "7ded09b3-a3f6-44f6-b598-bbf0c482822a",
   "metadata": {},
   "outputs": [],
   "source": [
    "from qiskit.circuit import library"
   ]
  },
  {
   "cell_type": "code",
   "execution_count": 3,
   "id": "1a8dcab9",
   "metadata": {},
   "outputs": [],
   "source": [
    "wires = [0,1,2,3]\n",
    "dev = qml.device('default.qubit', wires=wires)"
   ]
  },
  {
   "cell_type": "code",
   "execution_count": 6,
   "id": "ae70f23c",
   "metadata": {},
   "outputs": [
    {
     "data": {
      "text/plain": [
       "(<Figure size 500x500 with 1 Axes>, <Axes: >)"
      ]
     },
     "execution_count": 6,
     "metadata": {},
     "output_type": "execute_result"
    },
    {
     "data": {
      "image/png": "[encoded data removed]",
      "text/plain": [
       "<Figure size 500x500 with 1 Axes>"
      ]
     },
     "metadata": {},
     "output_type": "display_data"
    }
   ],
   "source": [
    "@qml.qnode(dev)\n",
    "def circuit(params,wires):\n",
    "    rotation_layer(params, wires, False)\n",
    "    return qml.expval(qml.PauliZ(0))\n",
    "draw = qml.draw_mpl(circuit)\n",
    "draw(np.random.rand(8).tolist(),wires)"
   ]
  },
  {
   "cell_type": "code",
   "execution_count": 7,
   "id": "b6939aa4",
   "metadata": {},
   "outputs": [
    {
     "ename": "TypeError",
     "evalue": "Invalid input type <class 'int'>. `layer` must be a type, str or QuantumCircuit.",
     "output_type": "error",
     "traceback": [
      "\u001b[0;31m---------------------------------------------------------------------------\u001b[0m",
      "\u001b[0;31mTypeError\u001b[0m                                 Traceback (most recent call last)",
      "Cell \u001b[0;32mIn[7], line 6\u001b[0m\n\u001b[1;32m      4\u001b[0m     \u001b[38;5;28;01mreturn\u001b[39;00m qml\u001b[38;5;241m.\u001b[39mexpval(qml\u001b[38;5;241m.\u001b[39mPauliZ(\u001b[38;5;241m0\u001b[39m))\n\u001b[1;32m      5\u001b[0m draw \u001b[38;5;241m=\u001b[39m qml\u001b[38;5;241m.\u001b[39mdraw_mpl(circuit)\n\u001b[0;32m----> 6\u001b[0m \u001b[43mdraw\u001b[49m\u001b[43m(\u001b[49m\u001b[43mnp\u001b[49m\u001b[38;5;241;43m.\u001b[39;49m\u001b[43mrandom\u001b[49m\u001b[38;5;241;43m.\u001b[39;49m\u001b[43mrand\u001b[49m\u001b[43m(\u001b[49m\u001b[38;5;241;43m11\u001b[39;49m\u001b[43m)\u001b[49m\u001b[38;5;241;43m.\u001b[39;49m\u001b[43mtolist\u001b[49m\u001b[43m(\u001b[49m\u001b[43m)\u001b[49m\u001b[43m,\u001b[49m\u001b[43mwires\u001b[49m\u001b[43m)\u001b[49m\n",
      "File \u001b[0;32m~/miniconda3/envs/simple_qml/lib/python3.12/site-packages/pennylane/drawer/draw.py:711\u001b[0m, in \u001b[0;36m_draw_mpl_qnode.<locals>.wrapper\u001b[0;34m(*args, **kwargs_qnode)\u001b[0m\n\u001b[1;32m    709\u001b[0m \u001b[38;5;129m@wraps\u001b[39m(qnode)\n\u001b[1;32m    710\u001b[0m \u001b[38;5;28;01mdef\u001b[39;00m\u001b[38;5;250m \u001b[39m\u001b[38;5;21mwrapper\u001b[39m(\u001b[38;5;241m*\u001b[39margs, \u001b[38;5;241m*\u001b[39m\u001b[38;5;241m*\u001b[39mkwargs_qnode):\n\u001b[0;32m--> 711\u001b[0m     tapes, _ \u001b[38;5;241m=\u001b[39m \u001b[43mqml\u001b[49m\u001b[38;5;241;43m.\u001b[39;49m\u001b[43mworkflow\u001b[49m\u001b[38;5;241;43m.\u001b[39;49m\u001b[43mconstruct_batch\u001b[49m\u001b[43m(\u001b[49m\u001b[43mqnode\u001b[49m\u001b[43m,\u001b[49m\u001b[43m \u001b[49m\u001b[43mlevel\u001b[49m\u001b[38;5;241;43m=\u001b[39;49m\u001b[43mlevel\u001b[49m\u001b[43m)\u001b[49m\u001b[43m(\u001b[49m\u001b[38;5;241;43m*\u001b[39;49m\u001b[43margs\u001b[49m\u001b[43m,\u001b[49m\u001b[43m \u001b[49m\u001b[38;5;241;43m*\u001b[39;49m\u001b[38;5;241;43m*\u001b[39;49m\u001b[43mkwargs_qnode\u001b[49m\u001b[43m)\u001b[49m\n\u001b[1;32m    713\u001b[0m     \u001b[38;5;28;01mif\u001b[39;00m \u001b[38;5;28mlen\u001b[39m(tapes) \u001b[38;5;241m>\u001b[39m \u001b[38;5;241m1\u001b[39m:\n\u001b[1;32m    714\u001b[0m         warnings\u001b[38;5;241m.\u001b[39mwarn(\n\u001b[1;32m    715\u001b[0m             \u001b[38;5;124m\"\u001b[39m\u001b[38;5;124mMultiple tapes constructed, but only displaying the first one.\u001b[39m\u001b[38;5;124m\"\u001b[39m, \u001b[38;5;167;01mUserWarning\u001b[39;00m\n\u001b[1;32m    716\u001b[0m         )\n",
      "File \u001b[0;32m~/miniconda3/envs/simple_qml/lib/python3.12/site-packages/pennylane/workflow/construct_batch.py:358\u001b[0m, in \u001b[0;36mconstruct_batch.<locals>.batch_constructor\u001b[0;34m(*args, **kwargs)\u001b[0m\n\u001b[1;32m    351\u001b[0m     cntxt\u001b[38;5;241m.\u001b[39mwatch(\u001b[38;5;28mlist\u001b[39m(qnode\u001b[38;5;241m.\u001b[39mqnode_weights\u001b[38;5;241m.\u001b[39mvalues()))\n\u001b[1;32m    353\u001b[0m     kwargs \u001b[38;5;241m=\u001b[39m {\n\u001b[1;32m    354\u001b[0m         \u001b[38;5;241m*\u001b[39m\u001b[38;5;241m*\u001b[39m{k: \u001b[38;5;241m1.0\u001b[39m \u001b[38;5;241m*\u001b[39m w \u001b[38;5;28;01mfor\u001b[39;00m k, w \u001b[38;5;129;01min\u001b[39;00m qnode\u001b[38;5;241m.\u001b[39mqnode_weights\u001b[38;5;241m.\u001b[39mitems()},\n\u001b[1;32m    355\u001b[0m         \u001b[38;5;241m*\u001b[39m\u001b[38;5;241m*\u001b[39mkwargs,\n\u001b[1;32m    356\u001b[0m     }\n\u001b[0;32m--> 358\u001b[0m initial_tape \u001b[38;5;241m=\u001b[39m \u001b[43mqml\u001b[49m\u001b[38;5;241;43m.\u001b[39;49m\u001b[43mtape\u001b[49m\u001b[38;5;241;43m.\u001b[39;49m\u001b[43mmake_qscript\u001b[49m\u001b[43m(\u001b[49m\u001b[43mqnode\u001b[49m\u001b[38;5;241;43m.\u001b[39;49m\u001b[43mfunc\u001b[49m\u001b[43m,\u001b[49m\u001b[43m \u001b[49m\u001b[43mshots\u001b[49m\u001b[38;5;241;43m=\u001b[39;49m\u001b[43mshots\u001b[49m\u001b[43m)\u001b[49m\u001b[43m(\u001b[49m\u001b[38;5;241;43m*\u001b[39;49m\u001b[43margs\u001b[49m\u001b[43m,\u001b[49m\u001b[43m \u001b[49m\u001b[38;5;241;43m*\u001b[39;49m\u001b[38;5;241;43m*\u001b[39;49m\u001b[43mkwargs\u001b[49m\u001b[43m)\u001b[49m\n\u001b[1;32m    359\u001b[0m params \u001b[38;5;241m=\u001b[39m initial_tape\u001b[38;5;241m.\u001b[39mget_parameters(trainable_only\u001b[38;5;241m=\u001b[39m\u001b[38;5;28;01mFalse\u001b[39;00m)\n\u001b[1;32m    360\u001b[0m initial_tape\u001b[38;5;241m.\u001b[39mtrainable_params \u001b[38;5;241m=\u001b[39m qml\u001b[38;5;241m.\u001b[39mmath\u001b[38;5;241m.\u001b[39mget_trainable_indices(params)\n",
      "File \u001b[0;32m~/miniconda3/envs/simple_qml/lib/python3.12/site-packages/pennylane/tape/qscript.py:1428\u001b[0m, in \u001b[0;36mmake_qscript.<locals>.wrapper\u001b[0;34m(*args, **kwargs)\u001b[0m\n\u001b[1;32m   1426\u001b[0m \u001b[38;5;28;01mdef\u001b[39;00m\u001b[38;5;250m \u001b[39m\u001b[38;5;21mwrapper\u001b[39m(\u001b[38;5;241m*\u001b[39margs, \u001b[38;5;241m*\u001b[39m\u001b[38;5;241m*\u001b[39mkwargs):\n\u001b[1;32m   1427\u001b[0m     \u001b[38;5;28;01mwith\u001b[39;00m AnnotatedQueue() \u001b[38;5;28;01mas\u001b[39;00m q:\n\u001b[0;32m-> 1428\u001b[0m         \u001b[43mfn\u001b[49m\u001b[43m(\u001b[49m\u001b[38;5;241;43m*\u001b[39;49m\u001b[43margs\u001b[49m\u001b[43m,\u001b[49m\u001b[43m \u001b[49m\u001b[38;5;241;43m*\u001b[39;49m\u001b[38;5;241;43m*\u001b[39;49m\u001b[43mkwargs\u001b[49m\u001b[43m)\u001b[49m\n\u001b[1;32m   1430\u001b[0m     \u001b[38;5;28;01mreturn\u001b[39;00m QuantumScript\u001b[38;5;241m.\u001b[39mfrom_queue(q, shots)\n",
      "Cell \u001b[0;32mIn[7], line 3\u001b[0m, in \u001b[0;36mcircuit\u001b[0;34m(params, wires)\u001b[0m\n\u001b[1;32m      1\u001b[0m \u001b[38;5;129m@qml\u001b[39m\u001b[38;5;241m.\u001b[39mqnode(dev)\n\u001b[1;32m      2\u001b[0m \u001b[38;5;28;01mdef\u001b[39;00m\u001b[38;5;250m \u001b[39m\u001b[38;5;21mcircuit\u001b[39m(params,wires):\n\u001b[0;32m----> 3\u001b[0m     \u001b[43mEfficientSU2\u001b[49m\u001b[43m(\u001b[49m\u001b[43mparams\u001b[49m\u001b[43m,\u001b[49m\u001b[43m \u001b[49m\u001b[43mwires\u001b[49m\u001b[43m,\u001b[49m\u001b[43m \u001b[49m\u001b[43mskip_final_rot\u001b[49m\u001b[38;5;241;43m=\u001b[39;49m\u001b[38;5;28;43;01mTrue\u001b[39;49;00m\u001b[43m)\u001b[49m\n\u001b[1;32m      4\u001b[0m     \u001b[38;5;28;01mreturn\u001b[39;00m qml\u001b[38;5;241m.\u001b[39mexpval(qml\u001b[38;5;241m.\u001b[39mPauliZ(\u001b[38;5;241m0\u001b[39m))\n",
      "File \u001b[0;32m~/qregress/circuit_visualization/quantum/circuits/Ansatz.py:81\u001b[0m, in \u001b[0;36mEfficientSU2.__init__\u001b[0;34m(self, wires, su2_gates, entanglement, reps, skip_final_rot)\u001b[0m\n\u001b[1;32m     79\u001b[0m \u001b[38;5;28mself\u001b[39m\u001b[38;5;241m.\u001b[39m_qc \u001b[38;5;241m=\u001b[39m \u001b[38;5;28;01mNone\u001b[39;00m\n\u001b[1;32m     80\u001b[0m \u001b[38;5;28;01mif\u001b[39;00m wires \u001b[38;5;129;01mis\u001b[39;00m \u001b[38;5;129;01mnot\u001b[39;00m \u001b[38;5;28;01mNone\u001b[39;00m:\n\u001b[0;32m---> 81\u001b[0m     \u001b[38;5;28;43mself\u001b[39;49m\u001b[38;5;241;43m.\u001b[39;49m\u001b[43mset_wires\u001b[49m\u001b[43m(\u001b[49m\u001b[43mwires\u001b[49m\u001b[43m)\u001b[49m\n",
      "File \u001b[0;32m~/qregress/circuit_visualization/quantum/circuits/Ansatz.py:112\u001b[0m, in \u001b[0;36mEfficientSU2.set_wires\u001b[0;34m(self, wires)\u001b[0m\n\u001b[1;32m    110\u001b[0m \u001b[38;5;28;01mdef\u001b[39;00m\u001b[38;5;250m \u001b[39m\u001b[38;5;21mset_wires\u001b[39m(\u001b[38;5;28mself\u001b[39m, wires):\n\u001b[1;32m    111\u001b[0m     \u001b[38;5;28mself\u001b[39m\u001b[38;5;241m.\u001b[39m_wires \u001b[38;5;241m=\u001b[39m wires\n\u001b[0;32m--> 112\u001b[0m     \u001b[38;5;28mself\u001b[39m\u001b[38;5;241m.\u001b[39m_qc \u001b[38;5;241m=\u001b[39m \u001b[43mn_local\u001b[49m\u001b[38;5;241;43m.\u001b[39;49m\u001b[43mEfficientSU2\u001b[49m\u001b[43m(\u001b[49m\u001b[43mnum_qubits\u001b[49m\u001b[38;5;241;43m=\u001b[39;49m\u001b[38;5;28;43mlen\u001b[39;49m\u001b[43m(\u001b[49m\u001b[38;5;28;43mself\u001b[39;49m\u001b[38;5;241;43m.\u001b[39;49m\u001b[43m_wires\u001b[49m\u001b[43m)\u001b[49m\u001b[43m,\u001b[49m\u001b[43m \u001b[49m\u001b[43msu2_gates\u001b[49m\u001b[38;5;241;43m=\u001b[39;49m\u001b[38;5;28;43mself\u001b[39;49m\u001b[38;5;241;43m.\u001b[39;49m\u001b[43m_su2_gates\u001b[49m\u001b[43m,\u001b[49m\n\u001b[1;32m    113\u001b[0m \u001b[43m                                    \u001b[49m\u001b[43mentanglement\u001b[49m\u001b[38;5;241;43m=\u001b[39;49m\u001b[38;5;28;43mself\u001b[39;49m\u001b[38;5;241;43m.\u001b[39;49m\u001b[43m_entanglement\u001b[49m\u001b[43m,\u001b[49m\u001b[43m \u001b[49m\u001b[43mreps\u001b[49m\u001b[38;5;241;43m=\u001b[39;49m\u001b[38;5;28;43mself\u001b[39;49m\u001b[38;5;241;43m.\u001b[39;49m\u001b[43m_reps\u001b[49m\u001b[43m,\u001b[49m\n\u001b[1;32m    114\u001b[0m \u001b[43m                                    \u001b[49m\u001b[43mskip_final_rotation_layer\u001b[49m\u001b[38;5;241;43m=\u001b[39;49m\u001b[38;5;28;43mself\u001b[39;49m\u001b[38;5;241;43m.\u001b[39;49m\u001b[43m_skip_final_rot\u001b[49m\u001b[43m)\u001b[49m\n",
      "File \u001b[0;32m~/miniconda3/envs/simple_qml/lib/python3.12/site-packages/qiskit/circuit/library/n_local/efficient_su2.py:142\u001b[0m, in \u001b[0;36mEfficientSU2.__init__\u001b[0;34m(self, num_qubits, su2_gates, entanglement, reps, skip_unentangled_qubits, skip_final_rotation_layer, parameter_prefix, insert_barriers, initial_state, name, flatten)\u001b[0m\n\u001b[1;32m    140\u001b[0m \u001b[38;5;28;01mif\u001b[39;00m su2_gates \u001b[38;5;129;01mis\u001b[39;00m \u001b[38;5;28;01mNone\u001b[39;00m:\n\u001b[1;32m    141\u001b[0m     su2_gates \u001b[38;5;241m=\u001b[39m [RYGate, RZGate]\n\u001b[0;32m--> 142\u001b[0m \u001b[38;5;28;43msuper\u001b[39;49m\u001b[43m(\u001b[49m\u001b[43m)\u001b[49m\u001b[38;5;241;43m.\u001b[39;49m\u001b[38;5;21;43m__init__\u001b[39;49m\u001b[43m(\u001b[49m\n\u001b[1;32m    143\u001b[0m \u001b[43m    \u001b[49m\u001b[43mnum_qubits\u001b[49m\u001b[38;5;241;43m=\u001b[39;49m\u001b[43mnum_qubits\u001b[49m\u001b[43m,\u001b[49m\n\u001b[1;32m    144\u001b[0m \u001b[43m    \u001b[49m\u001b[43mrotation_blocks\u001b[49m\u001b[38;5;241;43m=\u001b[39;49m\u001b[43msu2_gates\u001b[49m\u001b[43m,\u001b[49m\n\u001b[1;32m    145\u001b[0m \u001b[43m    \u001b[49m\u001b[43mentanglement_blocks\u001b[49m\u001b[38;5;241;43m=\u001b[39;49m\u001b[43mCXGate\u001b[49m\u001b[43m,\u001b[49m\n\u001b[1;32m    146\u001b[0m \u001b[43m    \u001b[49m\u001b[43mentanglement\u001b[49m\u001b[38;5;241;43m=\u001b[39;49m\u001b[43mentanglement\u001b[49m\u001b[43m,\u001b[49m\n\u001b[1;32m    147\u001b[0m \u001b[43m    \u001b[49m\u001b[43mreps\u001b[49m\u001b[38;5;241;43m=\u001b[39;49m\u001b[43mreps\u001b[49m\u001b[43m,\u001b[49m\n\u001b[1;32m    148\u001b[0m \u001b[43m    \u001b[49m\u001b[43mskip_unentangled_qubits\u001b[49m\u001b[38;5;241;43m=\u001b[39;49m\u001b[43mskip_unentangled_qubits\u001b[49m\u001b[43m,\u001b[49m\n\u001b[1;32m    149\u001b[0m \u001b[43m    \u001b[49m\u001b[43mskip_final_rotation_layer\u001b[49m\u001b[38;5;241;43m=\u001b[39;49m\u001b[43mskip_final_rotation_layer\u001b[49m\u001b[43m,\u001b[49m\n\u001b[1;32m    150\u001b[0m \u001b[43m    \u001b[49m\u001b[43mparameter_prefix\u001b[49m\u001b[38;5;241;43m=\u001b[39;49m\u001b[43mparameter_prefix\u001b[49m\u001b[43m,\u001b[49m\n\u001b[1;32m    151\u001b[0m \u001b[43m    \u001b[49m\u001b[43minsert_barriers\u001b[49m\u001b[38;5;241;43m=\u001b[39;49m\u001b[43minsert_barriers\u001b[49m\u001b[43m,\u001b[49m\n\u001b[1;32m    152\u001b[0m \u001b[43m    \u001b[49m\u001b[43minitial_state\u001b[49m\u001b[38;5;241;43m=\u001b[39;49m\u001b[43minitial_state\u001b[49m\u001b[43m,\u001b[49m\n\u001b[1;32m    153\u001b[0m \u001b[43m    \u001b[49m\u001b[43mname\u001b[49m\u001b[38;5;241;43m=\u001b[39;49m\u001b[43mname\u001b[49m\u001b[43m,\u001b[49m\n\u001b[1;32m    154\u001b[0m \u001b[43m    \u001b[49m\u001b[43mflatten\u001b[49m\u001b[38;5;241;43m=\u001b[39;49m\u001b[43mflatten\u001b[49m\u001b[43m,\u001b[49m\n\u001b[1;32m    155\u001b[0m \u001b[43m\u001b[49m\u001b[43m)\u001b[49m\n",
      "File \u001b[0;32m~/miniconda3/envs/simple_qml/lib/python3.12/site-packages/qiskit/circuit/library/n_local/two_local.py:209\u001b[0m, in \u001b[0;36mTwoLocal.__init__\u001b[0;34m(self, num_qubits, rotation_blocks, entanglement_blocks, entanglement, reps, skip_unentangled_qubits, skip_final_rotation_layer, parameter_prefix, insert_barriers, initial_state, name, flatten)\u001b[0m\n\u001b[1;32m    138\u001b[0m \u001b[38;5;28;01mdef\u001b[39;00m\u001b[38;5;250m \u001b[39m\u001b[38;5;21m__init__\u001b[39m(\n\u001b[1;32m    139\u001b[0m     \u001b[38;5;28mself\u001b[39m,\n\u001b[1;32m    140\u001b[0m     num_qubits: \u001b[38;5;28mint\u001b[39m \u001b[38;5;241m|\u001b[39m \u001b[38;5;28;01mNone\u001b[39;00m \u001b[38;5;241m=\u001b[39m \u001b[38;5;28;01mNone\u001b[39;00m,\n\u001b[0;32m   (...)\u001b[0m\n\u001b[1;32m    165\u001b[0m     flatten: \u001b[38;5;28mbool\u001b[39m \u001b[38;5;241m|\u001b[39m \u001b[38;5;28;01mNone\u001b[39;00m \u001b[38;5;241m=\u001b[39m \u001b[38;5;28;01mNone\u001b[39;00m,\n\u001b[1;32m    166\u001b[0m ) \u001b[38;5;241m-\u001b[39m\u001b[38;5;241m>\u001b[39m \u001b[38;5;28;01mNone\u001b[39;00m:\n\u001b[1;32m    167\u001b[0m \u001b[38;5;250m    \u001b[39m\u001b[38;5;124;03m\"\"\"\u001b[39;00m\n\u001b[1;32m    168\u001b[0m \u001b[38;5;124;03m    Args:\u001b[39;00m\n\u001b[1;32m    169\u001b[0m \u001b[38;5;124;03m        num_qubits: The number of qubits of the two-local circuit.\u001b[39;00m\n\u001b[0;32m   (...)\u001b[0m\n\u001b[1;32m    207\u001b[0m \n\u001b[1;32m    208\u001b[0m \u001b[38;5;124;03m    \"\"\"\u001b[39;00m\n\u001b[0;32m--> 209\u001b[0m     \u001b[38;5;28;43msuper\u001b[39;49m\u001b[43m(\u001b[49m\u001b[43m)\u001b[49m\u001b[38;5;241;43m.\u001b[39;49m\u001b[38;5;21;43m__init__\u001b[39;49m\u001b[43m(\u001b[49m\n\u001b[1;32m    210\u001b[0m \u001b[43m        \u001b[49m\u001b[43mnum_qubits\u001b[49m\u001b[38;5;241;43m=\u001b[39;49m\u001b[43mnum_qubits\u001b[49m\u001b[43m,\u001b[49m\n\u001b[1;32m    211\u001b[0m \u001b[43m        \u001b[49m\u001b[43mrotation_blocks\u001b[49m\u001b[38;5;241;43m=\u001b[39;49m\u001b[43mrotation_blocks\u001b[49m\u001b[43m,\u001b[49m\n\u001b[1;32m    212\u001b[0m \u001b[43m        \u001b[49m\u001b[43mentanglement_blocks\u001b[49m\u001b[38;5;241;43m=\u001b[39;49m\u001b[43mentanglement_blocks\u001b[49m\u001b[43m,\u001b[49m\n\u001b[1;32m    213\u001b[0m \u001b[43m        \u001b[49m\u001b[43mentanglement\u001b[49m\u001b[38;5;241;43m=\u001b[39;49m\u001b[43mentanglement\u001b[49m\u001b[43m,\u001b[49m\n\u001b[1;32m    214\u001b[0m \u001b[43m        \u001b[49m\u001b[43mreps\u001b[49m\u001b[38;5;241;43m=\u001b[39;49m\u001b[43mreps\u001b[49m\u001b[43m,\u001b[49m\n\u001b[1;32m    215\u001b[0m \u001b[43m        \u001b[49m\u001b[43mskip_final_rotation_layer\u001b[49m\u001b[38;5;241;43m=\u001b[39;49m\u001b[43mskip_final_rotation_layer\u001b[49m\u001b[43m,\u001b[49m\n\u001b[1;32m    216\u001b[0m \u001b[43m        \u001b[49m\u001b[43mskip_unentangled_qubits\u001b[49m\u001b[38;5;241;43m=\u001b[39;49m\u001b[43mskip_unentangled_qubits\u001b[49m\u001b[43m,\u001b[49m\n\u001b[1;32m    217\u001b[0m \u001b[43m        \u001b[49m\u001b[43minsert_barriers\u001b[49m\u001b[38;5;241;43m=\u001b[39;49m\u001b[43minsert_barriers\u001b[49m\u001b[43m,\u001b[49m\n\u001b[1;32m    218\u001b[0m \u001b[43m        \u001b[49m\u001b[43minitial_state\u001b[49m\u001b[38;5;241;43m=\u001b[39;49m\u001b[43minitial_state\u001b[49m\u001b[43m,\u001b[49m\n\u001b[1;32m    219\u001b[0m \u001b[43m        \u001b[49m\u001b[43mparameter_prefix\u001b[49m\u001b[38;5;241;43m=\u001b[39;49m\u001b[43mparameter_prefix\u001b[49m\u001b[43m,\u001b[49m\n\u001b[1;32m    220\u001b[0m \u001b[43m        \u001b[49m\u001b[43mname\u001b[49m\u001b[38;5;241;43m=\u001b[39;49m\u001b[43mname\u001b[49m\u001b[43m,\u001b[49m\n\u001b[1;32m    221\u001b[0m \u001b[43m        \u001b[49m\u001b[43mflatten\u001b[49m\u001b[38;5;241;43m=\u001b[39;49m\u001b[43mflatten\u001b[49m\u001b[43m,\u001b[49m\n\u001b[1;32m    222\u001b[0m \u001b[43m    \u001b[49m\u001b[43m)\u001b[49m\n",
      "File \u001b[0;32m~/miniconda3/envs/simple_qml/lib/python3.12/site-packages/qiskit/circuit/library/n_local/n_local.py:189\u001b[0m, in \u001b[0;36mNLocal.__init__\u001b[0;34m(self, num_qubits, rotation_blocks, entanglement_blocks, entanglement, reps, insert_barriers, parameter_prefix, overwrite_block_parameters, skip_final_rotation_layer, skip_unentangled_qubits, initial_state, name, flatten)\u001b[0m\n\u001b[1;32m    186\u001b[0m     \u001b[38;5;28mself\u001b[39m\u001b[38;5;241m.\u001b[39mentanglement_blocks \u001b[38;5;241m=\u001b[39m entanglement_blocks\n\u001b[1;32m    188\u001b[0m \u001b[38;5;28;01mif\u001b[39;00m rotation_blocks \u001b[38;5;129;01mis\u001b[39;00m \u001b[38;5;129;01mnot\u001b[39;00m \u001b[38;5;28;01mNone\u001b[39;00m:\n\u001b[0;32m--> 189\u001b[0m     \u001b[38;5;28;43mself\u001b[39;49m\u001b[38;5;241;43m.\u001b[39;49m\u001b[43mrotation_blocks\u001b[49m \u001b[38;5;241m=\u001b[39m rotation_blocks\n\u001b[1;32m    191\u001b[0m \u001b[38;5;28;01mif\u001b[39;00m entanglement \u001b[38;5;129;01mis\u001b[39;00m \u001b[38;5;129;01mnot\u001b[39;00m \u001b[38;5;28;01mNone\u001b[39;00m:\n\u001b[1;32m    192\u001b[0m     \u001b[38;5;28mself\u001b[39m\u001b[38;5;241m.\u001b[39mentanglement \u001b[38;5;241m=\u001b[39m entanglement\n",
      "File \u001b[0;32m~/miniconda3/envs/simple_qml/lib/python3.12/site-packages/qiskit/circuit/library/n_local/n_local.py:281\u001b[0m, in \u001b[0;36mNLocal.rotation_blocks\u001b[0;34m(self, blocks)\u001b[0m\n\u001b[1;32m    278\u001b[0m     blocks \u001b[38;5;241m=\u001b[39m [blocks]\n\u001b[1;32m    280\u001b[0m \u001b[38;5;28mself\u001b[39m\u001b[38;5;241m.\u001b[39m_invalidate()\n\u001b[0;32m--> 281\u001b[0m \u001b[38;5;28mself\u001b[39m\u001b[38;5;241m.\u001b[39m_rotation_blocks \u001b[38;5;241m=\u001b[39m [\u001b[38;5;28;43mself\u001b[39;49m\u001b[38;5;241;43m.\u001b[39;49m\u001b[43m_convert_to_block\u001b[49m\u001b[43m(\u001b[49m\u001b[43mblock\u001b[49m\u001b[43m)\u001b[49m \u001b[38;5;28;01mfor\u001b[39;00m block \u001b[38;5;129;01min\u001b[39;00m blocks]\n",
      "File \u001b[0;32m~/miniconda3/envs/simple_qml/lib/python3.12/site-packages/qiskit/circuit/library/n_local/two_local.py:272\u001b[0m, in \u001b[0;36mTwoLocal._convert_to_block\u001b[0;34m(self, layer)\u001b[0m\n\u001b[1;32m    269\u001b[0m     circuit\u001b[38;5;241m.\u001b[39mappend(layer, \u001b[38;5;28mlist\u001b[39m(\u001b[38;5;28mrange\u001b[39m(layer\u001b[38;5;241m.\u001b[39mnum_qubits)))\n\u001b[1;32m    270\u001b[0m     \u001b[38;5;28;01mreturn\u001b[39;00m circuit\n\u001b[0;32m--> 272\u001b[0m \u001b[38;5;28;01mraise\u001b[39;00m \u001b[38;5;167;01mTypeError\u001b[39;00m(\n\u001b[1;32m    273\u001b[0m     \u001b[38;5;124mf\u001b[39m\u001b[38;5;124m\"\u001b[39m\u001b[38;5;124mInvalid input type \u001b[39m\u001b[38;5;132;01m{\u001b[39;00m\u001b[38;5;28mtype\u001b[39m(layer)\u001b[38;5;132;01m}\u001b[39;00m\u001b[38;5;124m. \u001b[39m\u001b[38;5;124m\"\u001b[39m \u001b[38;5;241m+\u001b[39m \u001b[38;5;124m\"\u001b[39m\u001b[38;5;124m`layer` must be a type, str or QuantumCircuit.\u001b[39m\u001b[38;5;124m\"\u001b[39m\n\u001b[1;32m    274\u001b[0m )\n",
      "\u001b[0;31mTypeError\u001b[0m: Invalid input type <class 'int'>. `layer` must be a type, str or QuantumCircuit."
     ]
    }
   ],
   "source": [
    "@qml.qnode(dev)\n",
    "def circuit(params,wires):\n",
    "    EfficientSU2(params, wires, skip_final_rot=True)\n",
    "    return qml.expval(qml.PauliZ(0))\n",
    "draw = qml.draw_mpl(circuit)\n",
    "draw(np.random.rand(11).tolist(),wires)"
   ]
  },
  {
   "cell_type": "code",
   "execution_count": 12,
   "id": "153ddd2d-b9fe-4cba-8ba6-b439dd1c5c52",
   "metadata": {},
   "outputs": [
    {
     "data": {
      "text/plain": [
       "(<Figure size 400x100 with 1 Axes>, <Axes: >)"
      ]
     },
     "execution_count": 12,
     "metadata": {},
     "output_type": "execute_result"
    },
    {
     "data": {
      "image/png": "[encoded data removed]",
      "text/plain": [
       "<Figure size 400x100 with 1 Axes>"
      ]
     },
     "metadata": {},
     "output_type": "display_data"
    }
   ],
   "source": [
    "qml.draw_mpl(TwoLocal)(np.random.rand(11), wires, rot_gates=['rx', 'rz'], entangle_gates='crz', skip_final_rot=True)"
   ]
  },
  {
   "cell_type": "code",
   "execution_count": 8,
   "id": "a29686a2",
   "metadata": {},
   "outputs": [
    {
     "data": {
      "text/plain": [
       "(<Figure size 400x200 with 1 Axes>, <Axes: >)"
      ]
     },
     "execution_count": 8,
     "metadata": {},
     "output_type": "execute_result"
    },
    {
     "data": {
      "image/png": "[encoded data removed]",
      "text/plain": [
       "<Figure size 400x200 with 1 Axes>"
      ]
     },
     "metadata": {},
     "output_type": "display_data"
    }
   ],
   "source": [
    "@qml.qnode(dev)\n",
    "def circuit(params,wires):\n",
    "    TwoLocal(params, wires, rot_gates=['rx', 'rz'], entangle_gates='crz', skip_final_rot=True)\n",
    "    return qml.expval(qml.PauliZ(0))\n",
    "draw = qml.draw_mpl(circuit)\n",
    "draw(np.random.rand(11).tolist(),wires)"
   ]
  },
  {
   "cell_type": "code",
   "execution_count": null,
   "id": "147d4d8f",
   "metadata": {},
   "outputs": [],
   "source": [
    "entanglement= [(0,1), (0,2), (0,3), (1,0), (1,2), (1,3), (2,0), (2,1), (2,3), (3,0), (3,1), (3,2)]\n",
    "@qml.qnode(dev)\n",
    "def circuit(params,wires):\n",
    "    TwoLocal(params, wires, rot_gates=['rx', 'rz'], entangle_gates='crz', entanglement=entanglement, skip_final_rot=False)\n",
    "    return qml.expval(qml.PauliZ(0))\n",
    "draw = qml.draw_mpl(circuit)\n",
    "draw(np.random.rand(28))"
   ]
  },
  {
   "cell_type": "code",
   "execution_count": null,
   "id": "068c5cb3",
   "metadata": {},
   "outputs": [],
   "source": [
    "@qml.qnode(dev)\n",
    "def circuit(params,wires):\n",
    "    ModifiedPauliTwo(params, wires, rotation_block=['rx', 'rz'])\n",
    "    return qml.expval(qml.PauliZ(0))\n",
    "draw = qml.draw_mpl(circuit)\n",
    "draw(np.random.rand(19))"
   ]
  },
  {
   "cell_type": "code",
   "execution_count": null,
   "id": "fe10a91b",
   "metadata": {},
   "outputs": [],
   "source": [
    "@qml.qnode(dev)\n",
    "def circuit(params,wires):\n",
    "    ModifiedPauliTwo(params, wires, entanglement='cnot', full_rotation=False)\n",
    "    return qml.expval(qml.PauliZ(0))\n",
    "draw = qml.draw_mpl(circuit)\n",
    "draw(np.random.rand(12))"
   ]
  },
  {
   "cell_type": "code",
   "execution_count": null,
   "id": "fcfb6d40",
   "metadata": {},
   "outputs": [],
   "source": [
    "@qml.qnode(dev)\n",
    "def circuit(params,wires):\n",
    "    HadamardAnsatz(params, wires)\n",
    "    return qml.expval(qml.PauliZ(0))\n",
    "draw = qml.draw_mpl(circuit)\n",
    "draw(np.random.rand(4))"
   ]
  },
  {
   "cell_type": "code",
   "execution_count": null,
   "id": "4a8700f7",
   "metadata": {},
   "outputs": [],
   "source": [
    "@qml.qnode(dev)\n",
    "def circuit(params,wires):\n",
    "    ExcitationPreserving(params, wires)\n",
    "    return qml.expval(qml.PauliZ(0))\n",
    "draw = qml.draw_mpl(circuit)\n",
    "draw(np.random.rand(11))"
   ]
  },
  {
   "cell_type": "code",
   "execution_count": null,
   "id": "26090451",
   "metadata": {},
   "outputs": [],
   "source": []
  },
  {
   "cell_type": "code",
   "execution_count": null,
   "id": "edcef943-df3e-49ea-80ec-3c6b2457cc4c",
   "metadata": {},
   "outputs": [],
   "source": []
  },
  {
   "cell_type": "code",
   "execution_count": null,
   "id": "3a047ca0-166d-451c-95e5-e2ca6795df41",
   "metadata": {},
   "outputs": [],
   "source": []
  }
 ],
 "metadata": {
  "kernelspec": {
   "display_name": "Python 3 (ipykernel)",
   "language": "python",
   "name": "python3"
  },
  "language_info": {
   "codemirror_mode": {
    "name": "ipython",
    "version": 3
   },
   "file_extension": ".py",
   "mimetype": "text/x-python",
   "name": "python",
   "nbconvert_exporter": "python",
   "pygments_lexer": "ipython3",
   "version": "3.12.9"
  }
 },
 "nbformat": 4,
 "nbformat_minor": 5
}
