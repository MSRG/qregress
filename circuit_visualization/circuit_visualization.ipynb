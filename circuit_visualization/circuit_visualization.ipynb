{
 "cells": [
  {
   "cell_type": "code",
   "execution_count": null,
   "id": "bbdd75b6-4ece-4100-a09f-251f23ee0730",
   "metadata": {},
   "outputs": [],
   "source": [
    "import joblib\n",
    "import click\n",
    "import json\n",
    "import time\n",
    "import os\n",
    "import itertools\n",
    "import collections.abc\n",
    "from shutil import copy,SameFileError\n",
    "from glob import glob\n",
    "\n",
    "import matplotlib.pyplot as plt\n",
    "import numpy as np\n",
    "import pandas as pd\n",
    "import pennylane as qml\n",
    "from sklearn.metrics import mean_squared_error\n",
    "from sklearn.model_selection import KFold\n",
    "from qiskit_ibm_provider import IBMProvider\n",
    "\n",
    "from quantum.Quantum import QuantumRegressor\n",
    "from quantum.Evaluate import evaluate\n",
    "from settings import ANSATZ_LIST, ENCODER_LIST\n",
    "from sklearn.utils._testing import ignore_warnings\n",
    "from sklearn.exceptions import InconsistentVersionWarning"
   ]
  },
  {
   "cell_type": "code",
   "execution_count": null,
   "id": "6d29f040-a0c4-4404-a894-9ab690cf8530",
   "metadata": {},
   "outputs": [],
   "source": [
    "def circuit(features, parameters):\n",
    "    #  builds the circuit with the given encoder and variational circuits.\n",
    "    #  encoder and variational circuits must have only two required parameters, params/feats and wires\n",
    "    for i in range(re_upload_depth):\n",
    "        params = parameters.reshape(re_upload_depth,-1)[i]\n",
    "        \n",
    "        encoder(features, wires=range(num_qubits))\n",
    "        variational(params, wires=range(num_qubits))\n",
    "\n",
    "    return qml.expval(qml.PauliZ(0))\n"
   ]
  },
  {
   "cell_type": "code",
   "execution_count": null,
   "id": "28ad07f2-a51d-47ac-b5b9-5a13d01dd555",
   "metadata": {},
   "outputs": [],
   "source": []
  },
  {
   "cell_type": "code",
   "execution_count": null,
   "id": "d6cc848c-d0b7-4617-9c5b-d2ba2e9ed684",
   "metadata": {},
   "outputs": [],
   "source": [
    "num_qubits=16\n",
    "re_upload_depth=1\n",
    "LAYERS=1\n",
    "# device='qiskit.aer'\n",
    "# device_backend = FakeCairoV2()\n",
    "# backend = AerSimulator.from_backend(device_backend)\n",
    "# device = qml.device(device, wires=num_qubits, backend=backend, shots=shots)\n",
    "\n",
    "\n",
    "device='qulacs.simulator'\n",
    "device = qml.device(device, wires=num_qubits, expansion_strategy=\"device\")\n",
    "\n",
    "\n",
    "encoder=ENCODER_LIST['IQP']\n",
    "# encoder=ENCODER_LIST['M-M-CZ']\n",
    "# encoder=ENCODER_LIST['A2-A2-CNOT']\n",
    "\n",
    "# variational=ANSATZ_LIST['HWE-CZ']\n",
    "variational=ANSATZ_LIST['Full-CRX']\n",
    "variational.set_wires(range(num_qubits))\n",
    "variational.layers = LAYERS\n",
    "\n",
    "\n",
    "num_params = variational.num_params * re_upload_depth\n",
    "generator = np.random.default_rng(12958234)\n",
    "initial_parameters = generator.uniform(-np.pi, np.pi, num_params)\n",
    "\n",
    "qnode = qml.QNode(circuit, device)\n",
    "\n",
    "circuit_specs=qml.specs(qnode)(generator.uniform(-1, 1, num_qubits),initial_parameters)\n",
    "\n",
    "print(circuit_specs['resources'])\n",
    "\n",
    "qml.draw_mpl(qnode,level=1)(generator.uniform(-1, 1, num_qubits),initial_parameters)\n",
    "# plt.savefig('trash.png')\n",
    "plt.show()"
   ]
  },
  {
   "cell_type": "code",
   "execution_count": null,
   "id": "b5c0faf3-4fec-41d2-bbd6-e8e87f08036d",
   "metadata": {},
   "outputs": [],
   "source": [
    "\n",
    "# qml.draw_mpl(qml.QNode(encoder,device),level=1)(generator.uniform(-1, 1, num_qubits),initial_parameters)\n",
    "draw_encoder = qml.draw_mpl(qml.QNode(encoder,device),level=3)\n",
    "draw_encoder(np.random.rand(16), range(16))\n",
    "# plt.savefig('IQP_deep.png',bbox_inches='tight')"
   ]
  },
  {
   "cell_type": "code",
   "execution_count": null,
   "id": "9783e816-a23e-4411-aa9e-855414dc8cb4",
   "metadata": {},
   "outputs": [],
   "source": [
    "qml.specs(qml.QNode(encoder,device,expansion_strategy='device'))(np.random.rand(num_qubits), range(num_qubits))['resources']"
   ]
  },
  {
   "cell_type": "code",
   "execution_count": null,
   "id": "a1c27e87-df62-43e0-a737-79743e0fe059",
   "metadata": {},
   "outputs": [],
   "source": [
    "qml.specs(qml.QNode(variational,device,expansion_strategy='device'))(np.random.rand(variational.num_params))['resources']"
   ]
  },
  {
   "cell_type": "code",
   "execution_count": null,
   "id": "08a95328-14f6-4a24-8ec9-e59ff0b7f21f",
   "metadata": {},
   "outputs": [],
   "source": [
    "variational.num_params"
   ]
  },
  {
   "cell_type": "code",
   "execution_count": null,
   "id": "5d55d9c8-2dac-401d-a7d8-7556fbeda8de",
   "metadata": {},
   "outputs": [],
   "source": [
    "num_params / 16"
   ]
  },
  {
   "cell_type": "code",
   "execution_count": null,
   "id": "d5ab9c81-c7cb-48bd-b70e-16484505625a",
   "metadata": {},
   "outputs": [],
   "source": [
    "2**num_qubits"
   ]
  },
  {
   "cell_type": "code",
   "execution_count": null,
   "id": "7001bffd-cd07-4188-92c0-9bc546142a22",
   "metadata": {},
   "outputs": [],
   "source": [
    "initial_parameters.shape"
   ]
  },
  {
   "cell_type": "code",
   "execution_count": null,
   "id": "5e22d3f0-0586-4fe3-98f5-3efe5f01195c",
   "metadata": {},
   "outputs": [],
   "source": [
    "# Use the 'qml.gradients.param_shift' to compute the gradient tape and extract the trainable params\n",
    "gradient_fn = qml.gradients.param_shift(circuit)\n",
    "gradient = gradient_fn(generator.uniform(-1, 1, num_qubits),initial_parameters)\n",
    "\n",
    "# Count the number of trainable parameters\n",
    "trainable_params = gradient.tape.trainable_params\n",
    "\n",
    "# Print the number of trainable parameters\n",
    "print(f\"Number of trainable parameters: {len(trainable_params)}\")"
   ]
  },
  {
   "cell_type": "code",
   "execution_count": null,
   "id": "d41e62b7-2d31-47aa-824e-f9c691e716ca",
   "metadata": {},
   "outputs": [],
   "source": [
    "check={}\n",
    "bad=[]\n",
    "for ke,ve in ENCODER_LIST.items():\n",
    "    check[ke]={}\n",
    "    for ka,va in ANSATZ_LIST.items():\n",
    "        check[ke][ka]={}\n",
    "        for i in [1,2]:\n",
    "            LAYERS=i\n",
    "            encoder=ve\n",
    "            \n",
    "            # variational=ANSATZ_LIST['Full-Pauli-CRZ']\n",
    "            variational=va\n",
    "            variational.layers = LAYERS\n",
    "            variational.set_wires(range(num_qubits))\n",
    "            \n",
    "            \n",
    "            # print(ka,variational.layers)\n",
    "            num_params = variational.num_params * re_upload_depth\n",
    "            generator = np.random.default_rng(12958234)\n",
    "            initial_parameters = generator.uniform(-np.pi, np.pi, num_params)\n",
    "            \n",
    "            qnode = qml.QNode(circuit, device)\n",
    "            \n",
    "            circuit_specs=qml.specs(qnode)(generator.uniform(-1, 1, num_qubits),initial_parameters)\n",
    "            \n",
    "            check[ke][ka][i]=circuit_specs['resources'].depth\n",
    "            \n",
    "        if check[ke][ka][2]<check[ke][ka][1]:\n",
    "            # print(ka)\n",
    "            bad.append(ka)"
   ]
  },
  {
   "cell_type": "code",
   "execution_count": null,
   "id": "cd3b7d71-b0fd-4c5e-97d2-ad152d4fe457",
   "metadata": {},
   "outputs": [],
   "source": [
    "check"
   ]
  },
  {
   "cell_type": "code",
   "execution_count": null,
   "id": "ab92694d-8baf-4c85-86fb-456d25d53a90",
   "metadata": {},
   "outputs": [],
   "source": [
    "for b in set(bad):\n",
    "    print(ANSATZ_LIST[b])"
   ]
  },
  {
   "cell_type": "code",
   "execution_count": null,
   "id": "08a5d25d-9292-4322-b762-921870a4d107",
   "metadata": {},
   "outputs": [],
   "source": [
    "set(bad)"
   ]
  },
  {
   "cell_type": "code",
   "execution_count": null,
   "id": "b3b127bc-6247-4982-821d-f2d5b291b6e3",
   "metadata": {},
   "outputs": [],
   "source": []
  },
  {
   "cell_type": "code",
   "execution_count": null,
   "id": "28563c78-eca8-4b8b-ad2e-421542c7b0b3",
   "metadata": {},
   "outputs": [],
   "source": []
  }
 ],
 "metadata": {
  "kernelspec": {
   "display_name": "Python 3 (ipykernel)",
   "language": "python",
   "name": "python3"
  },
  "language_info": {
   "codemirror_mode": {
    "name": "ipython",
    "version": 3
   },
   "file_extension": ".py",
   "mimetype": "text/x-python",
   "name": "python",
   "nbconvert_exporter": "python",
   "pygments_lexer": "ipython3",
   "version": "3.12.4"
  }
 },
 "nbformat": 4,
 "nbformat_minor": 5
}
