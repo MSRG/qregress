{
 "cells": [
  {
   "cell_type": "code",
   "execution_count": null,
   "id": "bbdd75b6-4ece-4100-a09f-251f23ee0730",
   "metadata": {},
   "outputs": [],
   "source": [
    "import joblib\n",
    "import click\n",
    "import json\n",
    "import time\n",
    "import os\n",
    "import itertools\n",
    "import collections.abc\n",
    "from shutil import copy,SameFileError\n",
    "from glob import glob\n",
    "\n",
    "import matplotlib.pyplot as plt\n",
    "import numpy as np\n",
    "import pandas as pd\n",
    "import pennylane as qml\n",
    "from sklearn.metrics import mean_squared_error\n",
    "from sklearn.model_selection import KFold\n",
    "from qiskit_ibm_provider import IBMProvider\n",
    "\n",
    "from quantum.Quantum import QuantumRegressor\n",
    "from quantum.Evaluate import evaluate\n",
    "from settings import ANSATZ_LIST, ENCODER_LIST\n",
    "from sklearn.utils._testing import ignore_warnings\n",
    "from sklearn.exceptions import InconsistentVersionWarning"
   ]
  },
  {
   "cell_type": "code",
   "execution_count": null,
   "id": "6d29f040-a0c4-4404-a894-9ab690cf8530",
   "metadata": {},
   "outputs": [],
   "source": [
    "def circuit(features, parameters):\n",
    "    #  builds the circuit with the given encoder and variational circuits.\n",
    "    #  encoder and variational circuits must have only two required parameters, params/feats and wires\n",
    "    for i in range(re_upload_depth):\n",
    "        params = parameters.reshape(re_upload_depth,-1)[i]\n",
    "        \n",
    "        encoder(features, wires=range(num_qubits))\n",
    "        variational(params, wires=range(num_qubits))\n",
    "\n",
    "    return qml.expval(qml.PauliZ(0))\n"
   ]
  },
  {
   "cell_type": "code",
   "execution_count": null,
   "id": "28ad07f2-a51d-47ac-b5b9-5a13d01dd555",
   "metadata": {},
   "outputs": [],
   "source": []
  },
  {
   "cell_type": "code",
   "execution_count": null,
   "id": "d6cc848c-d0b7-4617-9c5b-d2ba2e9ed684",
   "metadata": {},
   "outputs": [],
   "source": [
    "num_qubits=5\n",
    "re_upload_depth=1\n",
    "LAYERS=1\n",
    "# device='qiskit.aer'\n",
    "# device_backend = FakeCairoV2()\n",
    "# backend = AerSimulator.from_backend(device_backend)\n",
    "# device = qml.device(device, wires=num_qubits, backend=backend, shots=shots)\n",
    "\n",
    "\n",
    "# dev='qulacs.simulator'\n",
    "# device = qml.device(dev, wires=num_qubits, expansion_strategy=\"device\")\n",
    "dev=\"default.qubit\"\n",
    "device = qml.device(dev, wires=num_qubits)\n",
    "\n",
    "\n",
    "# encoder=ENCODER_LIST['IQP']\n",
    "# encoder=ENCODER_LIST['M-M-CZ']\n",
    "# encoder=ENCODER_LIST['A2-A2-CNOT']\n",
    "\n",
    "# variational=ANSATZ_LIST['HWE-CZ']\n",
    "# variational=ANSATZ_LIST['Full-CRX']\n",
    "# variational.set_wires(range(num_qubits))\n",
    "# variational.layers = LAYERS\n",
    "\n",
    "\n",
    "# num_params = variational.num_params * re_upload_depth\n",
    "# generator = np.random.default_rng(12958234)\n",
    "# initial_parameters = generator.uniform(-np.pi, np.pi, num_params)\n",
    "\n",
    "# qnode = qml.QNode(circuit, device)\n",
    "\n",
    "# circuit_specs=qml.specs(qnode)(generator.uniform(-1, 1, num_qubits),initial_parameters)\n",
    "\n",
    "# print(circuit_specs['resources'])\n",
    "\n",
    "# qml.draw_mpl(qnode,level=1)(generator.uniform(-1, 1, num_qubits),initial_parameters)\n",
    "# # plt.savefig('trash.png')\n",
    "# plt.show()"
   ]
  },
  {
   "cell_type": "code",
   "execution_count": null,
   "id": "a75f24ef-07c7-4cf4-850e-4de2221e48ac",
   "metadata": {},
   "outputs": [],
   "source": [
    "for k,v in ANSATZ_LIST.items():\n",
    "    # @qml.qnode(device)\n",
    "    # def circuit(x):\n",
    "    #     qml.RX(x, wires=0)\n",
    "    #     return qml.expval(qml.Z(0))\n",
    "\n",
    "    variational=v\n",
    "    variational.set_wires(range(num_qubits))\n",
    "    variational.layers = LAYERS\n",
    "    num_params = variational.num_params * re_upload_depth\n",
    "    generator = np.random.default_rng(12958234)\n",
    "    initial_parameters = generator.uniform(-np.pi, np.pi, num_params)\n",
    "    draw_var = qml.draw_mpl(qml.QNode(variational,device),level=3)\n",
    "    draw_var(np.random.rand(variational.num_params))\n",
    "    plt.title(k)\n",
    "    plt.savefig(os.path.join(os.path.expanduser('~'),'qregress/images/',f\"5_qubit_ansatz_{k}.png\"),dpi=300,bbox_inches='tight')\n",
    "    plt.show()    \n",
    "    plt.show()"
   ]
  },
  {
   "cell_type": "code",
   "execution_count": null,
   "id": "30f661d0-b93c-4fa8-b360-3599ccf9a590",
   "metadata": {},
   "outputs": [],
   "source": []
  },
  {
   "cell_type": "code",
   "execution_count": null,
   "id": "26dbd62f-3a99-4199-a317-94fdedb58cdc",
   "metadata": {},
   "outputs": [],
   "source": [
    "for k,v in ENCODER_LIST.items():\n",
    "\n",
    "    draw_encoder = qml.draw_mpl(qml.QNode(v,device),level=3)\n",
    "    draw_encoder(np.random.rand(5), range(5))\n",
    "    plt.title(k)\n",
    "    plt.tight_layout()\n",
    "    plt.savefig(os.path.join(os.path.expanduser('~'),'qregress/images/',f\"5_qubit_encoder_{k}.png\"),dpi=300,bbox_inches='tight')\n",
    "    plt.show()"
   ]
  },
  {
   "cell_type": "code",
   "execution_count": null,
   "id": "28563c78-eca8-4b8b-ad2e-421542c7b0b3",
   "metadata": {},
   "outputs": [],
   "source": []
  }
 ],
 "metadata": {
  "kernelspec": {
   "display_name": "Python 3 (ipykernel)",
   "language": "python",
   "name": "python3"
  },
  "language_info": {
   "codemirror_mode": {
    "name": "ipython",
    "version": 3
   },
   "file_extension": ".py",
   "mimetype": "text/x-python",
   "name": "python",
   "nbconvert_exporter": "python",
   "pygments_lexer": "ipython3",
   "version": "3.12.2"
  }
 },
 "nbformat": 4,
 "nbformat_minor": 5
}
