{
 "cells": [
  {
   "cell_type": "code",
   "execution_count": null,
   "id": "a1bd2f7d-ad51-4643-adce-d9d5d7ec1168",
   "metadata": {},
   "outputs": [],
   "source": [
    "from glob import glob\n",
    "import json\n",
    "import pandas as pd\n",
    "import matplotlib.pyplot as plt\n",
    "import seaborn as sns"
   ]
  },
  {
   "cell_type": "code",
   "execution_count": null,
   "id": "9af830a9-ee63-47d7-b8f7-954fcfc6afa1",
   "metadata": {},
   "outputs": [],
   "source": [
    "datadct = {}\n",
    "for r in ['rl0','rl1','rl2']:\n",
    "    datadct[r]={}\n",
    "    for i in glob(f'*{r}/*results.json'):\n",
    "        datadct[r][i.split('/')[0].split('_')[0]]=pd.read_json(i,orient='index').rename(columns={0:i.split('/')[0].split('_')[0]})\n",
    "        "
   ]
  },
  {
   "cell_type": "code",
   "execution_count": null,
   "id": "ddfa31d7-8142-4ee1-a9ea-84622b97b948",
   "metadata": {},
   "outputs": [],
   "source": [
    "help(pd.melt)"
   ]
  },
  {
   "cell_type": "code",
   "execution_count": null,
   "id": "d360d723-41f9-4bc5-be80-5c69402aaa9e",
   "metadata": {},
   "outputs": [],
   "source": [
    "pd.concat(datadct['rl1'].values(),axis=1).T.sort_values(by=['R2_train','R2_test'])"
   ]
  },
  {
   "cell_type": "code",
   "execution_count": null,
   "id": "c9357c0e-d0d2-4181-ba3f-a8000d5f6d7b",
   "metadata": {},
   "outputs": [],
   "source": [
    "sns.lineplot(pd.concat(datadct['rl0'].values(),axis=1).sort_index(axis=1).T.reset_index().melt(id_vars=['index'], value_vars=['R2_train','R2_test']),x='index',y='value',hue='variable')\n",
    "# sns.lineplot(pd.concat(datadct['rl1'].values(),axis=1).sort_index(axis=1).T.reset_index().melt(id_vars=['index'], value_vars=['R2_train','R2_test']),x='index',y='value',hue='variable')\n",
    "# sns.lineplot(pd.concat(datadct['rl2'].values(),axis=1).sort_index(axis=1).T.reset_index().melt(id_vars=['index'], value_vars=['R2_train','R2_test']),x='index',y='value',hue='variable')"
   ]
  },
  {
   "cell_type": "code",
   "execution_count": null,
   "id": "be876240-63a6-4103-b364-25e0dfb61489",
   "metadata": {},
   "outputs": [],
   "source": []
  },
  {
   "cell_type": "code",
   "execution_count": null,
   "id": "0628806a-f7dc-439c-ab88-4c3cc9d94cd4",
   "metadata": {},
   "outputs": [],
   "source": []
  },
  {
   "cell_type": "code",
   "execution_count": null,
   "id": "8708179d-b8ed-4468-8cbe-9bc1d6fc5877",
   "metadata": {},
   "outputs": [],
   "source": []
  }
 ],
 "metadata": {
  "kernelspec": {
   "display_name": "Python 3 (ipykernel)",
   "language": "python",
   "name": "python3"
  },
  "language_info": {
   "codemirror_mode": {
    "name": "ipython",
    "version": 3
   },
   "file_extension": ".py",
   "mimetype": "text/x-python",
   "name": "python",
   "nbconvert_exporter": "python",
   "pygments_lexer": "ipython3",
   "version": "3.11.11"
  }
 },
 "nbformat": 4,
 "nbformat_minor": 5
}
