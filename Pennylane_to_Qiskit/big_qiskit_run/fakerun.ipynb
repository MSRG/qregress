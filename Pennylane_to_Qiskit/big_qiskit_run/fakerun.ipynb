{
 "cells": [
  {
   "cell_type": "code",
   "execution_count": 1,
   "id": "4fecc455-f3a5-4ad0-b6fd-b6fe5743f45d",
   "metadata": {},
   "outputs": [],
   "source": [
    "from qiskit_ibm_runtime import QiskitRuntimeService\n",
    "import os\n",
    "n_jobs = 16\n",
    "os.environ[\"OMP_NUM_THREADS\"] = str(n_jobs)\n",
    "import joblib\n",
    "import click\n",
    "import json\n",
    "import time\n",
    "from glob import glob\n",
    "import itertools\n",
    "import collections.abc\n",
    "import sys\n",
    "from tqdm.notebook import tqdm\n",
    "# !{sys.executable} -m pip install qcircuit\n",
    "import seaborn as sns\n",
    "import matplotlib.pyplot as plt\n",
    "import numpy as np\n",
    "import pandas as pd\n",
    "import pennylane as qml\n",
    "from sklearn.metrics import mean_squared_error, r2_score, mean_absolute_error\n",
    "import re\n",
    "from joblib import Parallel, delayed, dump, load\n",
    "\n",
    "\n",
    "# Qiskit\n",
    "from qiskit import QuantumCircuit\n",
    "from qiskit.quantum_info import Pauli, SparsePauliOp, Operator\n",
    "from qiskit.primitives import StatevectorEstimator\n",
    "from qiskit.circuit import Parameter, ParameterVector\n",
    "from qiskit.transpiler.preset_passmanagers import generate_preset_pass_manager\n",
    "from qiskit.quantum_info import SparsePauliOp\n",
    "from qiskit_ibm_runtime import EstimatorV2 as Estimator\n",
    "from qiskit_ibm_runtime import QiskitRuntimeService\n",
    "from qiskit_aer import AerSimulator\n",
    "from qiskit_aer.noise import NoiseModel\n",
    "from qiskit_ibm_runtime.fake_provider import FakeQuebec\n",
    "from qiskit_ibm_runtime import Batch\n",
    "from qiskit_ibm_runtime import exceptions"
   ]
  },
  {
   "cell_type": "code",
   "execution_count": 2,
   "id": "e2eb9500-0a58-4f2d-b1a8-8f205975372e",
   "metadata": {},
   "outputs": [],
   "source": [
    "def mitarai(quantumcircuit,num_wires,paramname='x'):\n",
    "    # encoding as proposed by Mitarai et al.\n",
    "    num_features = num_wires\n",
    "    features = ParameterVector(paramname,num_features*2)\n",
    "    for i in range(num_wires):\n",
    "        feature_idx = i % num_features  # Calculate the feature index using modulo\n",
    "        quantumcircuit.ry(np.arcsin(features[feature_idx * 2]), i)\n",
    "        quantumcircuit.rz(np.arccos(features[feature_idx * 2 + 1] ** 2), i)\n",
    "\n",
    "\n",
    "def double_angle(quantumcircuit, num_wires,paramname='x'):\n",
    "    #  creates a circuit that encodes features into wires via angle encoding with an RY then RZ gate\n",
    "    #  the features are encoded 1-1 onto the qubits\n",
    "    #  if more wires are passed then features the remaining wires will be filled from the beginning of the feature list\n",
    "    num_features = num_wires\n",
    "    features = ParameterVector(paramname,num_features*2)\n",
    "    for i in range(num_wires):\n",
    "        feature_index = i % num_features\n",
    "        quantumcircuit.ry(features[feature_index], i)\n",
    "        quantumcircuit.rz(features[feature_index], i)\n",
    "\n",
    "def entangle_cnot(quantumcircuit,num_wires):\n",
    "    #  entangles all of the wires in a circular fashion using cnot gates\n",
    "    for i in range(num_wires):\n",
    "        \n",
    "        if i == num_wires - 1:\n",
    "            quantumcircuit.cx(i, 0)\n",
    "        else:\n",
    "            quantumcircuit.cx(i, i+1)\n",
    "\n",
    "\n",
    "def entangle_cz(quantumcircuit,num_wires):\n",
    "    #  entangles all of the wires in a circular fashion using cz gates\n",
    "    for i in range(num_wires):\n",
    "        \n",
    "        if i == num_wires - 1:\n",
    "            quantumcircuit.cz(i, 0)\n",
    "        else:\n",
    "            quantumcircuit.cz(i, i+1)\n",
    "\n",
    "\n",
    "def HardwareEfficient(quantumcircuit,num_wires,paramname='theta'):\n",
    "    parameters = ParameterVector(paramname,num_wires*3)\n",
    "    for qubit in range(num_wires):\n",
    "        quantumcircuit.rx(parameters[qubit * 3], qubit)  \n",
    "        quantumcircuit.rz(parameters[qubit * 3 + 1], qubit)  \n",
    "        quantumcircuit.rx(parameters[qubit * 3 + 2], qubit)  \n",
    "    entangle_cnot(quantumcircuit,num_wires)\n",
    "\n"
   ]
  },
  {
   "cell_type": "code",
   "execution_count": 3,
   "id": "ddd262f5-3985-4a18-9356-3031a557ee89",
   "metadata": {},
   "outputs": [],
   "source": [
    "def circuit(nqubits,RUD=1,AL=1):\n",
    "    qc = QuantumCircuit(nqubits)\n",
    "    for i in range(RUD):\n",
    "        double_angle(qc,nqubits,paramname=f'x{i}')\n",
    "        qc.barrier()\n",
    "        for j in range(AL):        \n",
    "            HardwareEfficient(qc,nqubits,paramname=f'theta{i}_{j}')\n",
    "            qc.barrier()\n",
    "    return qc"
   ]
  },
  {
   "cell_type": "code",
   "execution_count": 4,
   "id": "889a3045-5adf-4d99-8617-cd6e2c9dbaec",
   "metadata": {},
   "outputs": [],
   "source": [
    "SMALL_SIZE = 8\n",
    "MEDIUM_SIZE = 12\n",
    "BIGGER_SIZE = 12\n",
    " \n",
    "plt.rc('font', size=MEDIUM_SIZE)          # controls default text sizes\n",
    "plt.rc('axes', titlesize=MEDIUM_SIZE)     # fontsize of the axes title\n",
    "plt.rc('axes', labelsize=MEDIUM_SIZE)    # fontsize of the x and y labels\n",
    "plt.rc('xtick', labelsize=MEDIUM_SIZE)    # fontsize of the tick labels\n",
    "plt.rc('ytick', labelsize=MEDIUM_SIZE)    # fontsize of the tick labels\n",
    "plt.rc('legend', fontsize=MEDIUM_SIZE)    # legend fontsize\n",
    "plt.rc('figure', titlesize=MEDIUM_SIZE)  # fontsize of the figure title"
   ]
  },
  {
   "cell_type": "code",
   "execution_count": 5,
   "id": "9a5bbf6d-dc56-49e4-a334-10fc8e7b180a",
   "metadata": {},
   "outputs": [
    {
     "name": "stdout",
     "output_type": "stream",
     "text": [
      "(159, 64) (40, 64)\n"
     ]
    },
    {
     "name": "stderr",
     "output_type": "stream",
     "text": [
      "/Users/grierjones/miniconda3/lib/python3.10/site-packages/sklearn/base.py:380: InconsistentVersionWarning: Trying to unpickle estimator MinMaxScaler from version 1.5.1 when using version 1.6.1. This might lead to breaking code or invalid results. Use at your own risk. For more info please refer to:\n",
      "https://scikit-learn.org/stable/model_persistence.html#security-maintainability-limitations\n",
      "  warnings.warn(\n"
     ]
    }
   ],
   "source": [
    "top=os.getcwd()\n",
    "with open(os.path.join(top,'5_DDCC_train.bin'),'rb') as f:\n",
    "    ddcc_train = joblib.load(f)\n",
    "\n",
    "with open(os.path.join(top,'5_DDCC_test.bin'),'rb') as f:\n",
    "    ddcc_test = joblib.load(f)\n",
    "\n",
    "with open(os.path.join(top,'5_DDCC_scaler.bin'),'rb') as f:\n",
    "    ddcc_scaler = joblib.load(f)\n",
    "\n",
    "X_ddcc_train, y_ddcc_train = ddcc_train['X'],ddcc_train['y']\n",
    "X_ddcc_test, y_ddcc_test = ddcc_test['X'],ddcc_test['y']\n",
    "\n",
    "X_ddcc_train = X_ddcc_train.reshape(-1,64,5)\n",
    "X_ddcc_test = X_ddcc_test.reshape(-1,64,5)\n",
    "y_ddcc_train = y_ddcc_train.reshape(-1,64)\n",
    "y_ddcc_test = y_ddcc_test.reshape(-1,64)\n",
    "\n",
    "\n",
    "# X_train, y_train = X_ddcc_train, y_ddcc_train\n",
    "# X_test, y_test = X_ddcc_test, y_ddcc_test\n",
    "X_train, y_train = X_ddcc_train, y_ddcc_train\n",
    "X_test, y_test = X_ddcc_test, y_ddcc_test\n",
    "\n",
    "# X_train = [X_train[i:i+4] for i in range(0,len(X_train),4)]\n",
    "# X_test = [X_test[i:i+4] for i in range(0,len(X_test),4)]\n",
    "scaler = ddcc_scaler\n",
    "\n",
    "# print(len(X_train),X_train[0].shape,X_train[-1].shape)\n",
    "print(y_train.shape, y_test.shape)"
   ]
  },
  {
   "cell_type": "code",
   "execution_count": 6,
   "id": "33080687-acb6-4977-b3cd-8d43350f607d",
   "metadata": {},
   "outputs": [],
   "source": [
    "def grab_data(path):\n",
    "    '''\n",
    "    Given a globbed path, return the job_n.txt, *_train.txt, and *_test.txt files\n",
    "    '''\n",
    "    iterations = []\n",
    "    train_metric = []\n",
    "    test_metric = []\n",
    "    for i in path:\n",
    "        try:\n",
    "            numbers = int(re.search(r'jobs_(\\d+)\\.txt', i).group(1))\n",
    "            iterations.append(i)\n",
    "        except:\n",
    "            if 'test' in i:\n",
    "                test_metric.append(i)\n",
    "            else:\n",
    "                train_metric.append(i)\n",
    "            \n",
    "    return sorted(iterations,key=lambda x: int(re.search(r'jobs_(\\d+)\\.txt', x).group(1))), train_metric, test_metric"
   ]
  },
  {
   "cell_type": "code",
   "execution_count": 7,
   "id": "f08d44b0-0b11-46de-907d-1b3417758584",
   "metadata": {},
   "outputs": [],
   "source": [
    "def fetch_jobs_from_file(service, filename):\n",
    "    \"\"\"Fetch all job results from a given file.\"\"\"\n",
    "    with open(filename, 'r') as f:\n",
    "        job_ids = f.readlines()\n",
    "    return [service.job(job_id.strip()).result() for job_id in job_ids]\n",
    "\n",
    "def grab_jobs(lst):\n",
    "    \"\"\"Parallelize over job files, fetching results concurrently.\"\"\"\n",
    "    service = QiskitRuntimeService(\n",
    "        channel='ibm_quantum',\n",
    "        instance='pinq-quebec-hub/univ-toronto/default'\n",
    "    )\n",
    "\n",
    "    # Parallel processing of files\n",
    "    jobs = Parallel(n_jobs=-1,backend='threading')(\n",
    "        delayed(fetch_jobs_from_file)(service, filename) for filename in tqdm(lst)\n",
    "    )\n",
    "\n",
    "    return np.array(jobs)"
   ]
  },
  {
   "cell_type": "code",
   "execution_count": 8,
   "id": "6756f718-4910-4f5e-b54c-be1cb10da30e",
   "metadata": {},
   "outputs": [],
   "source": [
    "# ran = grab_jobs(['jobs_0.txt'])"
   ]
  },
  {
   "cell_type": "code",
   "execution_count": 9,
   "id": "2be5d9c2-0574-4435-93d2-6d4d632a1a8a",
   "metadata": {},
   "outputs": [],
   "source": [
    "# y_pred = np.hstack([i.data.evs.flatten() for i in ran.flatten()])"
   ]
  },
  {
   "cell_type": "code",
   "execution_count": 10,
   "id": "1930b84a-49ed-4df6-bc63-c70df750bb30",
   "metadata": {},
   "outputs": [],
   "source": [
    "# with open('y_pred.npy', 'wb') as f:\n",
    "#     np.save(f, y_pred)\n",
    "\n",
    "\n",
    "with open('y_pred.npy', 'rb') as f:\n",
    "    y_pred = np.load(f)    "
   ]
  },
  {
   "cell_type": "code",
   "execution_count": 11,
   "id": "49511251-9bb3-4755-a007-bda357402927",
   "metadata": {},
   "outputs": [],
   "source": [
    "num_qubits = 5\n",
    "RUD = 1\n",
    "AL = 5\n",
    "\n",
    "optimization_level = 2\n",
    "shots = 3072\n",
    "# shots = 1024.0 * 1\n",
    "resilience_level = 1\n",
    "\n",
    "optimization_level = int(optimization_level)\n",
    "shots = int(shots)\n",
    "# shots = 1024.0 * 1\n",
    "resilience_level = int(resilience_level)\n",
    "\n",
    "# \n",
    "qc = circuit(num_qubits,RUD,AL)\n",
    "\n",
    "observables_labels = ''.join(['I']*(num_qubits-1))+\"Z\""
   ]
  },
  {
   "cell_type": "code",
   "execution_count": 12,
   "id": "8c7d8d6b-47f6-460a-b033-451bbc410903",
   "metadata": {},
   "outputs": [],
   "source": [
    "# params = [-2.90318345,2.23743464,-2.12427964,-0.11653103,0.55388708,-2.77010897\n",
    "# ,3.06858498,2.18960145,1.18551998,-1.06648308,0.6027151,1.14432445\n",
    "# ,1.31029899,-1.8735468,0.7296508,-2.90318345,2.23743464,-2.12427964\n",
    "# ,-0.11653103,0.55388708,-2.77010897,3.06858498,2.18960145,1.18551998\n",
    "# ,-1.06648308,0.6027151,1.14432445,1.31029899,-1.8735468,0.7296508\n",
    "# ,-2.90318345,2.23743464,-2.12427964,-0.11653103,0.55388708,-2.77010897\n",
    "# ,3.06858498,2.18960145,1.18551998,-1.06648308,0.6027151,1.14432445\n",
    "# ,1.31029899,-1.8735468,0.7296508,-2.90318345,2.23743464,-2.12427964\n",
    "# ,-0.11653103,0.55388708,-2.77010897,3.06858498,2.18960145,1.18551998\n",
    "# ,-1.06648308,0.6027151,1.14432445,1.31029899,-1.8735468,0.7296508\n",
    "# ,-2.90318345,2.23743464,-2.12427964,-0.11653103,0.55388708,-2.77010897\n",
    "# ,3.06858498,2.18960145,1.18551998,-1.06648308,0.6027151,1.14432445\n",
    "# ,1.31029899,-1.8735468,0.7296508,]\n",
    "\n",
    "# with open('checkparams.bin','wb') as f:\n",
    "#     joblib.dump({'x': params, 'loss': 0},f)"
   ]
  },
  {
   "cell_type": "code",
   "execution_count": 13,
   "id": "7f1446f1-7f84-4cf3-a0b5-45ccfcfee4a1",
   "metadata": {},
   "outputs": [
    {
     "name": "stdout",
     "output_type": "stream",
     "text": [
      "checkparams.bin\n",
      "Parameters loaded\n",
      "[-2.90318345  2.23743464 -2.12427964 -0.11653103  0.55388708 -2.77010897\n",
      "  3.06858498  2.18960145  1.18551998 -1.06648308  0.6027151   1.14432445\n",
      "  1.31029899 -1.8735468   0.7296508  -2.90318345  2.23743464 -2.12427964\n",
      " -0.11653103  0.55388708 -2.77010897  3.06858498  2.18960145  1.18551998\n",
      " -1.06648308  0.6027151   1.14432445  1.31029899 -1.8735468   0.7296508\n",
      " -2.90318345  2.23743464 -2.12427964 -0.11653103  0.55388708 -2.77010897\n",
      "  3.06858498  2.18960145  1.18551998 -1.06648308  0.6027151   1.14432445\n",
      "  1.31029899 -1.8735468   0.7296508  -2.90318345  2.23743464 -2.12427964\n",
      " -0.11653103  0.55388708 -2.77010897  3.06858498  2.18960145  1.18551998\n",
      " -1.06648308  0.6027151   1.14432445  1.31029899 -1.8735468   0.7296508\n",
      " -2.90318345  2.23743464 -2.12427964 -0.11653103  0.55388708 -2.77010897\n",
      "  3.06858498  2.18960145  1.18551998 -1.06648308  0.6027151   1.14432445\n",
      "  1.31029899 -1.8735468   0.7296508 ]\n",
      "[SparsePauliOp(['IIIIIIIIIIIIIIIIIIIIIIIIIIIIIIIIIIIIIIIIIIIIIIIIIIIIIIIIIIIIIIIIIIIIIIIIIIIIIIIIIIIZIIIIIIIIIIIIIIIIIIIIIIIIIIIIIIIIIIIIIIIIIII'],\n",
      "              coeffs=[1.+0.j])]\n",
      "<IBMBackend('ibm_quebec')>\n"
     ]
    }
   ],
   "source": [
    "# from qregress import QiskitRegressor\n",
    "from QiskitRegressor import QiskitRegressor\n",
    "model = QiskitRegressor(qc,\n",
    "                        num_qubits,\n",
    "                        AL,\n",
    "                        RUD,\n",
    "                        'real', #'fake',\n",
    "                        observables_labels,\n",
    "                        channel='ibm_quantum',\n",
    "                        instance='pinq-quebec-hub/univ-toronto/default',\n",
    "                        parameterpath = 'checkparams.bin',\n",
    "                        optimization_level = optimization_level,\n",
    "                        resilience_level = resilience_level,\n",
    "                        shots = shots,\n",
    "                        iterations = 1,\n",
    "                        verbose = True,\n",
    "                        n_jobs = n_jobs)"
   ]
  },
  {
   "cell_type": "code",
   "execution_count": 15,
   "id": "e01fee13-ea2a-44e2-8afa-0c84f183f211",
   "metadata": {},
   "outputs": [
    {
     "name": "stdout",
     "output_type": "stream",
     "text": [
      "Predicted in 275.7114 s\n"
     ]
    }
   ],
   "source": [
    "y_predcheck = model.predict(X_train,restart=True,filename='og_jobs_0.txt')"
   ]
  },
  {
   "cell_type": "code",
   "execution_count": 19,
   "id": "bfb83221-564f-40b9-8828-d3af98d1fc69",
   "metadata": {},
   "outputs": [
    {
     "data": {
      "text/plain": [
       "(10176,)"
      ]
     },
     "execution_count": 19,
     "metadata": {},
     "output_type": "execute_result"
    }
   ],
   "source": [
    "y_predcheck.shape"
   ]
  },
  {
   "cell_type": "code",
   "execution_count": 17,
   "id": "d4b21fa7-09a2-4b8b-a714-da83d7bc5910",
   "metadata": {},
   "outputs": [
    {
     "name": "stdout",
     "output_type": "stream",
     "text": [
      "Predicted in 275.2839 s\n"
     ]
    }
   ],
   "source": [
    "# y_predcheck_live = model.predict(X_train)\n",
    "y_predcheck_live   = model.predict(X_train,restart=True,filename='jobs_None.txt')"
   ]
  },
  {
   "cell_type": "code",
   "execution_count": 18,
   "id": "fb53be9d-49ad-4606-9b24-e21fc75a7acf",
   "metadata": {},
   "outputs": [
    {
     "data": {
      "text/plain": [
       "(10176,)"
      ]
     },
     "execution_count": 18,
     "metadata": {},
     "output_type": "execute_result"
    }
   ],
   "source": [
    "y_predcheck_live.shape"
   ]
  },
  {
   "cell_type": "code",
   "execution_count": null,
   "id": "404659e7-56ae-492d-b992-c091b6b9721e",
   "metadata": {},
   "outputs": [],
   "source": [
    "261.0245 / 60"
   ]
  },
  {
   "cell_type": "code",
   "execution_count": null,
   "id": "d04badb7-483b-4fb9-b56f-c36aae2b1e0d",
   "metadata": {},
   "outputs": [],
   "source": [
    "y_predcheck.shape"
   ]
  },
  {
   "cell_type": "code",
   "execution_count": null,
   "id": "81c9661b-d558-4e8e-baab-3e7cdf202be8",
   "metadata": {},
   "outputs": [],
   "source": [
    "y_train.flatten().shape"
   ]
  },
  {
   "cell_type": "code",
   "execution_count": null,
   "id": "790ffbba-6708-4bf8-abe6-9e97fb96c033",
   "metadata": {},
   "outputs": [],
   "source": []
  }
 ],
 "metadata": {
  "kernelspec": {
   "display_name": "Python 3 (ipykernel)",
   "language": "python",
   "name": "python3"
  },
  "language_info": {
   "codemirror_mode": {
    "name": "ipython",
    "version": 3
   },
   "file_extension": ".py",
   "mimetype": "text/x-python",
   "name": "python",
   "nbconvert_exporter": "python",
   "pygments_lexer": "ipython3",
   "version": "3.10.13"
  }
 },
 "nbformat": 4,
 "nbformat_minor": 5
}
