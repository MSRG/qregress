{
 "cells": [
  {
   "cell_type": "code",
   "execution_count": 1,
   "id": "dc8f5c2c-b710-429b-9f46-14c842ed6478",
   "metadata": {
    "editable": true,
    "execution": {
     "iopub.execute_input": "2025-04-11T16:31:36.834556Z",
     "iopub.status.busy": "2025-04-11T16:31:36.833992Z",
     "iopub.status.idle": "2025-04-11T16:31:38.761684Z",
     "shell.execute_reply": "2025-04-11T16:31:38.760749Z"
    },
    "papermill": {
     "duration": 1.938609,
     "end_time": "2025-04-11T16:31:38.763677",
     "exception": false,
     "start_time": "2025-04-11T16:31:36.825068",
     "status": "completed"
    },
    "slideshow": {
     "slide_type": ""
    },
    "tags": []
   },
   "outputs": [],
   "source": [
    "import os\n",
    "n_jobs = 64\n",
    "os.environ[\"OMP_NUM_THREADS\"] = str(n_jobs)\n",
    "import joblib\n",
    "import click\n",
    "import json\n",
    "import time\n",
    "\n",
    "import itertools\n",
    "import collections.abc\n",
    "import sys\n",
    "from tqdm.notebook import tqdm\n",
    "# !{sys.executable} -m pip install qcircuit\n",
    "\n",
    "import matplotlib.pyplot as plt\n",
    "import numpy as np\n",
    "import pandas as pd\n",
    "import pennylane as qml\n",
    "from sklearn.metrics import mean_squared_error, r2_score, mean_absolute_error\n",
    "\n",
    "# Qiskit\n",
    "from qiskit import QuantumCircuit\n",
    "from qiskit.quantum_info import Pauli, SparsePauliOp, Operator\n",
    "from qiskit.primitives import StatevectorEstimator\n",
    "from qiskit.circuit import Parameter, ParameterVector\n",
    "from qiskit.transpiler.preset_passmanagers import generate_preset_pass_manager\n",
    "from qiskit.quantum_info import SparsePauliOp\n",
    "from qiskit_ibm_runtime import EstimatorV2 as Estimator\n",
    "from qiskit_ibm_runtime import QiskitRuntimeService\n",
    "from qiskit_aer import AerSimulator\n",
    "from qiskit_aer.noise import NoiseModel\n",
    "from qiskit_ibm_runtime.fake_provider import FakeQuebec\n",
    "from qiskit_ibm_runtime import Batch\n",
    "from qiskit_ibm_runtime import exceptions\n",
    "# from qiskit_machine_learning.optimizers import SPSA, Minimizer\n",
    "\n",
    "\n",
    "from joblib import dump, load\n",
    "from QiskitRegressor import QiskitRegressor"
   ]
  },
  {
   "cell_type": "code",
   "execution_count": 2,
   "id": "343abe7e-1116-4e78-a17c-c65f285b4826",
   "metadata": {
    "execution": {
     "iopub.execute_input": "2025-04-11T16:31:38.770193Z",
     "iopub.status.busy": "2025-04-11T16:31:38.769688Z",
     "iopub.status.idle": "2025-04-11T16:31:38.774210Z",
     "shell.execute_reply": "2025-04-11T16:31:38.773464Z"
    },
    "papermill": {
     "duration": 0.0082,
     "end_time": "2025-04-11T16:31:38.774938",
     "exception": false,
     "start_time": "2025-04-11T16:31:38.766738",
     "status": "completed"
    },
    "tags": []
   },
   "outputs": [],
   "source": [
    "from qiskit_aer.primitives import EstimatorV2"
   ]
  },
  {
   "cell_type": "code",
   "execution_count": 3,
   "id": "9e8cd7b1-46c5-4d8e-966b-87a99489ddac",
   "metadata": {
    "editable": true,
    "execution": {
     "iopub.execute_input": "2025-04-11T16:31:38.779939Z",
     "iopub.status.busy": "2025-04-11T16:31:38.779761Z",
     "iopub.status.idle": "2025-04-11T16:31:38.787688Z",
     "shell.execute_reply": "2025-04-11T16:31:38.786701Z"
    },
    "papermill": {
     "duration": 0.011491,
     "end_time": "2025-04-11T16:31:38.788583",
     "exception": false,
     "start_time": "2025-04-11T16:31:38.777092",
     "status": "completed"
    },
    "slideshow": {
     "slide_type": ""
    },
    "tags": []
   },
   "outputs": [],
   "source": [
    "def mitarai(quantumcircuit,num_wires,paramname='x'):\n",
    "    # encoding as proposed by Mitarai et al.\n",
    "    num_features = num_wires\n",
    "    features = ParameterVector(paramname,num_features*2)\n",
    "    for i in range(num_wires):\n",
    "        feature_idx = i % num_features  # Calculate the feature index using modulo\n",
    "        quantumcircuit.ry(np.arcsin(features[feature_idx * 2]), i)\n",
    "        quantumcircuit.rz(np.arccos(features[feature_idx * 2 + 1] ** 2), i)\n",
    "\n",
    "\n",
    "def double_angle(quantumcircuit, num_wires,paramname='x'):\n",
    "    #  creates a circuit that encodes features into wires via angle encoding with an RY then RZ gate\n",
    "    #  the features are encoded 1-1 onto the qubits\n",
    "    #  if more wires are passed then features the remaining wires will be filled from the beginning of the feature list\n",
    "    num_features = num_wires\n",
    "    features = ParameterVector(paramname,num_features*2)\n",
    "    for i in range(num_wires):\n",
    "        feature_index = i % num_features\n",
    "        quantumcircuit.ry(features[feature_index], i)\n",
    "        quantumcircuit.rz(features[feature_index], i)\n",
    "\n",
    "def entangle_cnot(quantumcircuit,num_wires):\n",
    "    #  entangles all of the wires in a circular fashion using cnot gates\n",
    "    for i in range(num_wires):\n",
    "        \n",
    "        if i == num_wires - 1:\n",
    "            quantumcircuit.cx(i, 0)\n",
    "        else:\n",
    "            quantumcircuit.cx(i, i+1)\n",
    "\n",
    "\n",
    "def entangle_cz(quantumcircuit,num_wires):\n",
    "    #  entangles all of the wires in a circular fashion using cz gates\n",
    "    for i in range(num_wires):\n",
    "        \n",
    "        if i == num_wires - 1:\n",
    "            quantumcircuit.cz(i, 0)\n",
    "        else:\n",
    "            quantumcircuit.cz(i, i+1)\n",
    "\n",
    "\n",
    "def HardwareEfficient(quantumcircuit,num_wires,paramname='theta'):\n",
    "    parameters = ParameterVector(paramname,num_wires*3)\n",
    "    for qubit in range(num_wires):\n",
    "        quantumcircuit.rx(parameters[qubit * 3], qubit)  \n",
    "        quantumcircuit.rz(parameters[qubit * 3 + 1], qubit)  \n",
    "        quantumcircuit.rx(parameters[qubit * 3 + 2], qubit)  \n",
    "    entangle_cnot(quantumcircuit,num_wires)\n",
    "\n"
   ]
  },
  {
   "cell_type": "code",
   "execution_count": 4,
   "id": "98051576-89f8-4a1d-980e-3708e2089ad6",
   "metadata": {
    "execution": {
     "iopub.execute_input": "2025-04-11T16:31:38.793718Z",
     "iopub.status.busy": "2025-04-11T16:31:38.793530Z",
     "iopub.status.idle": "2025-04-11T16:31:38.798405Z",
     "shell.execute_reply": "2025-04-11T16:31:38.797452Z"
    },
    "papermill": {
     "duration": 0.008422,
     "end_time": "2025-04-11T16:31:38.799215",
     "exception": false,
     "start_time": "2025-04-11T16:31:38.790793",
     "status": "completed"
    },
    "tags": []
   },
   "outputs": [],
   "source": [
    "# def circuit(nqubits):\n",
    "#     qc = QuantumCircuit(nqubits)\n",
    "#     mitarai(qc,nqubits)\n",
    "#     entangle_cz(qc,nqubits)\n",
    "#     qc.barrier()\n",
    "#     mitarai(qc,nqubits,paramname='x1')\n",
    "#     entangle_cz(qc,nqubits)\n",
    "#     qc.barrier()\n",
    "#     HardwareEfficient(qc,nqubits)\n",
    "#     qc.barrier()\n",
    "#     return qc\n",
    "\n",
    "\n",
    "def circuit(nqubits,RUD=1,AL=1):\n",
    "    qc = QuantumCircuit(nqubits)\n",
    "    for i in range(RUD):\n",
    "        double_angle(qc,nqubits,paramname=f'x{i}')\n",
    "        qc.barrier()\n",
    "        for j in range(AL):        \n",
    "            HardwareEfficient(qc,nqubits,paramname=f'theta{i}_{j}')\n",
    "            qc.barrier()\n",
    "    return qc"
   ]
  },
  {
   "cell_type": "code",
   "execution_count": 5,
   "id": "11cb5805-20c7-493a-b96c-8eac41dcc1d7",
   "metadata": {
    "execution": {
     "iopub.execute_input": "2025-04-11T16:31:38.804416Z",
     "iopub.status.busy": "2025-04-11T16:31:38.804222Z",
     "iopub.status.idle": "2025-04-11T16:31:38.813016Z",
     "shell.execute_reply": "2025-04-11T16:31:38.812231Z"
    },
    "papermill": {
     "duration": 0.012535,
     "end_time": "2025-04-11T16:31:38.813882",
     "exception": false,
     "start_time": "2025-04-11T16:31:38.801347",
     "status": "completed"
    },
    "tags": []
   },
   "outputs": [
    {
     "name": "stdout",
     "output_type": "stream",
     "text": [
      "(19, 64) (40, 64)\n"
     ]
    },
    {
     "name": "stderr",
     "output_type": "stream",
     "text": [
      "/home/ubuntu/miniconda3/envs/qml/lib/python3.10/site-packages/sklearn/base.py:380: InconsistentVersionWarning: Trying to unpickle estimator MinMaxScaler from version 1.5.1 when using version 1.6.1. This might lead to breaking code or invalid results. Use at your own risk. For more info please refer to:\n",
      "https://scikit-learn.org/stable/model_persistence.html#security-maintainability-limitations\n",
      "  warnings.warn(\n"
     ]
    }
   ],
   "source": [
    "\n",
    "top=os.getcwd()\n",
    "with open(os.path.join(top,'0.1_5_DDCC_train.bin'),'rb') as f:\n",
    "    ddcc_train = joblib.load(f)\n",
    "\n",
    "with open(os.path.join(top,'0.1_5_DDCC_test.bin'),'rb') as f:\n",
    "    ddcc_test = joblib.load(f)\n",
    "\n",
    "with open(os.path.join(top,'0.1_5_DDCC_scaler.bin'),'rb') as f:\n",
    "    ddcc_scaler = joblib.load(f)\n",
    "\n",
    "X_ddcc_train, y_ddcc_train = ddcc_train['X'],ddcc_train['y']\n",
    "X_ddcc_test, y_ddcc_test = ddcc_test['X'],ddcc_test['y']\n",
    "\n",
    "X_ddcc_train = X_ddcc_train.reshape(-1,64,5)\n",
    "X_ddcc_test = X_ddcc_test.reshape(-1,64,5)\n",
    "y_ddcc_train = y_ddcc_train.reshape(-1,64)\n",
    "y_ddcc_test = y_ddcc_test.reshape(-1,64)\n",
    "\n",
    "\n",
    "# X_train, y_train = X_ddcc_train, y_ddcc_train\n",
    "# X_test, y_test = X_ddcc_test, y_ddcc_test\n",
    "X_train, y_train = X_ddcc_train, y_ddcc_train\n",
    "X_test, y_test = X_ddcc_test, y_ddcc_test\n",
    "\n",
    "# X_train = [X_train[i:i+4] for i in range(0,len(X_train),4)]\n",
    "# X_test = [X_test[i:i+4] for i in range(0,len(X_test),4)]\n",
    "scaler = ddcc_scaler\n",
    "\n",
    "# print(len(X_train),X_train[0].shape,X_train[-1].shape)\n",
    "print(y_train.shape, y_test.shape)"
   ]
  },
  {
   "cell_type": "code",
   "execution_count": 6,
   "id": "0172f0c5-8225-47b8-91e3-8e113113d13e",
   "metadata": {
    "editable": true,
    "execution": {
     "iopub.execute_input": "2025-04-11T16:31:38.819246Z",
     "iopub.status.busy": "2025-04-11T16:31:38.819065Z",
     "iopub.status.idle": "2025-04-11T16:31:38.822567Z",
     "shell.execute_reply": "2025-04-11T16:31:38.821856Z"
    },
    "papermill": {
     "duration": 0.007023,
     "end_time": "2025-04-11T16:31:38.823269",
     "exception": false,
     "start_time": "2025-04-11T16:31:38.816246",
     "status": "completed"
    },
    "slideshow": {
     "slide_type": ""
    },
    "tags": []
   },
   "outputs": [],
   "source": [
    "num_qubits = 5\n",
    "RUD = 1\n",
    "AL = 5"
   ]
  },
  {
   "cell_type": "code",
   "execution_count": 7,
   "id": "fcdd8b11-a018-4461-9461-cf12e6026e13",
   "metadata": {
    "editable": true,
    "execution": {
     "iopub.execute_input": "2025-04-11T16:31:38.828598Z",
     "iopub.status.busy": "2025-04-11T16:31:38.828424Z",
     "iopub.status.idle": "2025-04-11T16:31:38.832345Z",
     "shell.execute_reply": "2025-04-11T16:31:38.831344Z"
    },
    "papermill": {
     "duration": 0.007559,
     "end_time": "2025-04-11T16:31:38.833126",
     "exception": false,
     "start_time": "2025-04-11T16:31:38.825567",
     "status": "completed"
    },
    "slideshow": {
     "slide_type": ""
    },
    "tags": [
     "parameters"
    ]
   },
   "outputs": [],
   "source": [
    "optimization_level = None\n",
    "shots = None\n",
    "resilience_level = None"
   ]
  },
  {
   "cell_type": "code",
   "execution_count": 8,
   "id": "9f37a160-f338-4f3d-9b17-c1c695681785",
   "metadata": {
    "execution": {
     "iopub.execute_input": "2025-04-11T16:31:38.838651Z",
     "iopub.status.busy": "2025-04-11T16:31:38.838454Z",
     "iopub.status.idle": "2025-04-11T16:31:38.845239Z",
     "shell.execute_reply": "2025-04-11T16:31:38.844258Z"
    },
    "papermill": {
     "duration": 0.010664,
     "end_time": "2025-04-11T16:31:38.846127",
     "exception": false,
     "start_time": "2025-04-11T16:31:38.835463",
     "status": "completed"
    },
    "tags": []
   },
   "outputs": [],
   "source": [
    "# \n",
    "qc = circuit(num_qubits,RUD,AL)\n",
    "\n",
    "observables_labels = ''.join(['I']*(num_qubits-1))+\"Z\""
   ]
  },
  {
   "cell_type": "code",
   "execution_count": null,
   "id": "5ce28d8f-681e-4e65-823a-e959be65c068",
   "metadata": {
    "papermill": {
     "duration": 0.00225,
     "end_time": "2025-04-11T16:31:38.850727",
     "exception": false,
     "start_time": "2025-04-11T16:31:38.848477",
     "status": "completed"
    },
    "tags": []
   },
   "outputs": [],
   "source": []
  },
  {
   "cell_type": "code",
   "execution_count": 9,
   "id": "88886f6a-d6b3-42da-8f53-359cebe5938e",
   "metadata": {
    "execution": {
     "iopub.execute_input": "2025-04-11T16:31:38.856267Z",
     "iopub.status.busy": "2025-04-11T16:31:38.856061Z",
     "iopub.status.idle": "2025-04-11T16:31:38.863146Z",
     "shell.execute_reply": "2025-04-11T16:31:38.862387Z"
    },
    "papermill": {
     "duration": 0.010982,
     "end_time": "2025-04-11T16:31:38.864054",
     "exception": false,
     "start_time": "2025-04-11T16:31:38.853072",
     "status": "completed"
    },
    "tags": []
   },
   "outputs": [
    {
     "data": {
      "text/plain": [
       "(1216,)"
      ]
     },
     "execution_count": 9,
     "metadata": {},
     "output_type": "execute_result"
    }
   ],
   "source": [
    "y_train.flatten().shape"
   ]
  },
  {
   "cell_type": "code",
   "execution_count": 10,
   "id": "d4755fc2-654e-4b9a-9cb9-0f8d050b1dd3",
   "metadata": {
    "execution": {
     "iopub.execute_input": "2025-04-11T16:31:38.869963Z",
     "iopub.status.busy": "2025-04-11T16:31:38.869772Z"
    },
    "papermill": {
     "duration": null,
     "end_time": null,
     "exception": false,
     "start_time": "2025-04-11T16:31:38.866760",
     "status": "running"
    },
    "scrolled": true,
    "tags": []
   },
   "outputs": [
    {
     "name": "stdout",
     "output_type": "stream",
     "text": [
      "None\n",
      "Parameters from scratch\n",
      "[-2.90318345  2.23743464 -2.12427964 -0.11653103  0.55388708 -2.77010897\n",
      "  3.06858498  2.18960145  1.18551998 -1.06648308  0.6027151   1.14432445\n",
      "  1.31029899 -1.8735468   0.7296508  -2.90318345  2.23743464 -2.12427964\n",
      " -0.11653103  0.55388708 -2.77010897  3.06858498  2.18960145  1.18551998\n",
      " -1.06648308  0.6027151   1.14432445  1.31029899 -1.8735468   0.7296508\n",
      " -2.90318345  2.23743464 -2.12427964 -0.11653103  0.55388708 -2.77010897\n",
      "  3.06858498  2.18960145  1.18551998 -1.06648308  0.6027151   1.14432445\n",
      "  1.31029899 -1.8735468   0.7296508  -2.90318345  2.23743464 -2.12427964\n",
      " -0.11653103  0.55388708 -2.77010897  3.06858498  2.18960145  1.18551998\n",
      " -1.06648308  0.6027151   1.14432445  1.31029899 -1.8735468   0.7296508\n",
      " -2.90318345  2.23743464 -2.12427964 -0.11653103  0.55388708 -2.77010897\n",
      "  3.06858498  2.18960145  1.18551998 -1.06648308  0.6027151   1.14432445\n",
      "  1.31029899 -1.8735468   0.7296508 ]\n",
      "[SparsePauliOp(['IIIIZ'],\n",
      "              coeffs=[1.+0.j])]\n",
      "statevector\n"
     ]
    },
    {
     "data": {
      "application/vnd.jupyter.widget-view+json": {
       "model_id": "afd4cb9a4d2544a59961d86a1621d35e",
       "version_major": 2,
       "version_minor": 0
      },
      "text/plain": [
       "Mappings: 0it [00:00, ?it/s]"
      ]
     },
     "metadata": {},
     "output_type": "display_data"
    },
    {
     "name": "stdout",
     "output_type": "stream",
     "text": [
      "Submitted to device in 1.8910 s\n"
     ]
    },
    {
     "data": {
      "application/vnd.jupyter.widget-view+json": {
       "model_id": "feeb566fbca94cc28ff9469721e79b76",
       "version_major": 2,
       "version_minor": 0
      },
      "text/plain": [
       "Running batch:   0%|          | 0/5 [00:00<?, ?it/s]"
      ]
     },
     "metadata": {},
     "output_type": "display_data"
    },
    {
     "name": "stdout",
     "output_type": "stream",
     "text": [
      "Predicted in 22.3742 s\n",
      "return (19, 64)\n",
      "Iters. done: 1 Current cost: 0.10333637682958711 Accuracy: -0.0833709680623882 Time: 24.4404261931777\n"
     ]
    },
    {
     "data": {
      "application/vnd.jupyter.widget-view+json": {
       "model_id": "1624a924100b4565b742a201f812bc79",
       "version_major": 2,
       "version_minor": 0
      },
      "text/plain": [
       "Mappings: 0it [00:00, ?it/s]"
      ]
     },
     "metadata": {},
     "output_type": "display_data"
    },
    {
     "name": "stdout",
     "output_type": "stream",
     "text": [
      "Submitted to device in 2.1602 s\n"
     ]
    },
    {
     "data": {
      "application/vnd.jupyter.widget-view+json": {
       "model_id": "e023c50c9bc3419a88443607a7d6fea7",
       "version_major": 2,
       "version_minor": 0
      },
      "text/plain": [
       "Running batch:   0%|          | 0/5 [00:00<?, ?it/s]"
      ]
     },
     "metadata": {},
     "output_type": "display_data"
    },
    {
     "name": "stdout",
     "output_type": "stream",
     "text": [
      "Predicted in 21.1731 s\n",
      "return (19, 64)\n",
      "Iters. done: 2 Current cost: 0.09614046702446195 Accuracy: -0.007929579358347594 Time: 23.56015793606639\n"
     ]
    },
    {
     "data": {
      "application/vnd.jupyter.widget-view+json": {
       "model_id": "3929ddb264c840369c85585865791eb5",
       "version_major": 2,
       "version_minor": 0
      },
      "text/plain": [
       "Mappings: 0it [00:00, ?it/s]"
      ]
     },
     "metadata": {},
     "output_type": "display_data"
    },
    {
     "name": "stdout",
     "output_type": "stream",
     "text": [
      "Submitted to device in 2.2802 s\n"
     ]
    },
    {
     "data": {
      "application/vnd.jupyter.widget-view+json": {
       "model_id": "ac74af7a0f894cbab11cf2d14e3a542a",
       "version_major": 2,
       "version_minor": 0
      },
      "text/plain": [
       "Running batch:   0%|          | 0/5 [00:00<?, ?it/s]"
      ]
     },
     "metadata": {},
     "output_type": "display_data"
    },
    {
     "name": "stdout",
     "output_type": "stream",
     "text": [
      "Predicted in 20.8521 s\n",
      "return (19, 64)\n",
      "Iters. done: 3 Current cost: 0.08400398270925646 Accuracy: 0.11930842883233195 Time: 23.32225574925542\n"
     ]
    },
    {
     "data": {
      "application/vnd.jupyter.widget-view+json": {
       "model_id": "7f171dc12f5b4f8c88f4a3e965196b08",
       "version_major": 2,
       "version_minor": 0
      },
      "text/plain": [
       "Mappings: 0it [00:00, ?it/s]"
      ]
     },
     "metadata": {},
     "output_type": "display_data"
    },
    {
     "name": "stdout",
     "output_type": "stream",
     "text": [
      "Submitted to device in 2.2239 s\n"
     ]
    },
    {
     "data": {
      "application/vnd.jupyter.widget-view+json": {
       "model_id": "75270f02913d4ae9bebc998346ac29fd",
       "version_major": 2,
       "version_minor": 0
      },
      "text/plain": [
       "Running batch:   0%|          | 0/5 [00:00<?, ?it/s]"
      ]
     },
     "metadata": {},
     "output_type": "display_data"
    },
    {
     "name": "stdout",
     "output_type": "stream",
     "text": [
      "Predicted in 22.3183 s\n",
      "return (19, 64)\n",
      "Iters. done: 4 Current cost: 0.10383421790125617 Accuracy: -0.08859029721154887 Time: 24.984280500561\n"
     ]
    },
    {
     "data": {
      "application/vnd.jupyter.widget-view+json": {
       "model_id": "844302da50894c329dd802d96c84bbe2",
       "version_major": 2,
       "version_minor": 0
      },
      "text/plain": [
       "Mappings: 0it [00:00, ?it/s]"
      ]
     },
     "metadata": {},
     "output_type": "display_data"
    },
    {
     "name": "stdout",
     "output_type": "stream",
     "text": [
      "Submitted to device in 2.4972 s\n"
     ]
    },
    {
     "data": {
      "application/vnd.jupyter.widget-view+json": {
       "model_id": "8712cce99524460dacc8c56b8e4558c3",
       "version_major": 2,
       "version_minor": 0
      },
      "text/plain": [
       "Running batch:   0%|          | 0/5 [00:00<?, ?it/s]"
      ]
     },
     "metadata": {},
     "output_type": "display_data"
    },
    {
     "name": "stdout",
     "output_type": "stream",
     "text": [
      "Predicted in 23.0545 s\n",
      "return (19, 64)\n",
      "Iters. done: 5 Current cost: 0.08903426031122204 Accuracy: 0.06657136873343694 Time: 25.768729344010353\n"
     ]
    },
    {
     "data": {
      "application/vnd.jupyter.widget-view+json": {
       "model_id": "f0442246519c403a855deedbca8f2eef",
       "version_major": 2,
       "version_minor": 0
      },
      "text/plain": [
       "Mappings: 0it [00:00, ?it/s]"
      ]
     },
     "metadata": {},
     "output_type": "display_data"
    },
    {
     "name": "stdout",
     "output_type": "stream",
     "text": [
      "Submitted to device in 2.3488 s\n"
     ]
    },
    {
     "data": {
      "application/vnd.jupyter.widget-view+json": {
       "model_id": "1ef83477c08a48c391d521f77fead367",
       "version_major": 2,
       "version_minor": 0
      },
      "text/plain": [
       "Running batch:   0%|          | 0/5 [00:00<?, ?it/s]"
      ]
     },
     "metadata": {},
     "output_type": "display_data"
    },
    {
     "name": "stdout",
     "output_type": "stream",
     "text": [
      "Predicted in 20.6682 s\n",
      "return (19, 64)\n",
      "Iters. done: 6 Current cost: 0.08615179906940058 Accuracy: 0.09679088021393156 Time: 23.260422006249428\n"
     ]
    },
    {
     "data": {
      "application/vnd.jupyter.widget-view+json": {
       "model_id": "00d3192ff4164ace9983cca85b73c589",
       "version_major": 2,
       "version_minor": 0
      },
      "text/plain": [
       "Mappings: 0it [00:00, ?it/s]"
      ]
     },
     "metadata": {},
     "output_type": "display_data"
    },
    {
     "name": "stdout",
     "output_type": "stream",
     "text": [
      "Submitted to device in 2.2025 s\n"
     ]
    },
    {
     "data": {
      "application/vnd.jupyter.widget-view+json": {
       "model_id": "bba368f25f7b43ff99d7f846035cba00",
       "version_major": 2,
       "version_minor": 0
      },
      "text/plain": [
       "Running batch:   0%|          | 0/5 [00:00<?, ?it/s]"
      ]
     },
     "metadata": {},
     "output_type": "display_data"
    },
    {
     "name": "stdout",
     "output_type": "stream",
     "text": [
      "Predicted in 21.2693 s\n",
      "return (19, 64)\n",
      "Iters. done: 7 Current cost: 0.09274805889500075 Accuracy: 0.02763617775483196 Time: 23.661309998482466\n"
     ]
    },
    {
     "data": {
      "application/vnd.jupyter.widget-view+json": {
       "model_id": "21566485907046bba9a53c8227ebd72a",
       "version_major": 2,
       "version_minor": 0
      },
      "text/plain": [
       "Mappings: 0it [00:00, ?it/s]"
      ]
     },
     "metadata": {},
     "output_type": "display_data"
    },
    {
     "name": "stdout",
     "output_type": "stream",
     "text": [
      "Submitted to device in 2.0248 s\n"
     ]
    },
    {
     "data": {
      "application/vnd.jupyter.widget-view+json": {
       "model_id": "76a17e27b20140c08f47a3fb6b2a6acd",
       "version_major": 2,
       "version_minor": 0
      },
      "text/plain": [
       "Running batch:   0%|          | 0/5 [00:00<?, ?it/s]"
      ]
     },
     "metadata": {},
     "output_type": "display_data"
    },
    {
     "name": "stdout",
     "output_type": "stream",
     "text": [
      "Predicted in 23.1329 s\n",
      "return (19, 64)\n",
      "Iters. done: 8 Current cost: 0.08153583629476426 Accuracy: 0.1451842941609346 Time: 25.59860247001052\n"
     ]
    },
    {
     "data": {
      "application/vnd.jupyter.widget-view+json": {
       "model_id": "4915002de1a543a78c95371c7f15700b",
       "version_major": 2,
       "version_minor": 0
      },
      "text/plain": [
       "Mappings: 0it [00:00, ?it/s]"
      ]
     },
     "metadata": {},
     "output_type": "display_data"
    },
    {
     "name": "stdout",
     "output_type": "stream",
     "text": [
      "Submitted to device in 2.2005 s\n"
     ]
    },
    {
     "data": {
      "application/vnd.jupyter.widget-view+json": {
       "model_id": "054bac3fe5054462bc03e54535d0afe5",
       "version_major": 2,
       "version_minor": 0
      },
      "text/plain": [
       "Running batch:   0%|          | 0/5 [00:00<?, ?it/s]"
      ]
     },
     "metadata": {},
     "output_type": "display_data"
    },
    {
     "name": "stdout",
     "output_type": "stream",
     "text": [
      "Predicted in 22.1402 s\n",
      "return (19, 64)\n",
      "Iters. done: 9 Current cost: 0.08366226055601315 Accuracy: 0.12289101873267338 Time: 24.62432399764657\n"
     ]
    },
    {
     "data": {
      "application/vnd.jupyter.widget-view+json": {
       "model_id": "9cbc203ce60a44e0a84fe8c14c1179a4",
       "version_major": 2,
       "version_minor": 0
      },
      "text/plain": [
       "Mappings: 0it [00:00, ?it/s]"
      ]
     },
     "metadata": {},
     "output_type": "display_data"
    },
    {
     "name": "stdout",
     "output_type": "stream",
     "text": [
      "Submitted to device in 1.9758 s\n"
     ]
    },
    {
     "data": {
      "application/vnd.jupyter.widget-view+json": {
       "model_id": "c90003907fc4407990efbac4c372be07",
       "version_major": 2,
       "version_minor": 0
      },
      "text/plain": [
       "Running batch:   0%|          | 0/5 [00:00<?, ?it/s]"
      ]
     },
     "metadata": {},
     "output_type": "display_data"
    },
    {
     "name": "stdout",
     "output_type": "stream",
     "text": [
      "Predicted in 21.6802 s\n",
      "return (19, 64)\n",
      "Iters. done: 10 Current cost: 0.0889290039863166 Accuracy: 0.06767486829579872 Time: 23.87090003117919\n"
     ]
    },
    {
     "data": {
      "application/vnd.jupyter.widget-view+json": {
       "model_id": "7098a08d712048818e8be789a69a8f4a",
       "version_major": 2,
       "version_minor": 0
      },
      "text/plain": [
       "Mappings: 0it [00:00, ?it/s]"
      ]
     },
     "metadata": {},
     "output_type": "display_data"
    },
    {
     "name": "stdout",
     "output_type": "stream",
     "text": [
      "Submitted to device in 1.9929 s\n"
     ]
    },
    {
     "data": {
      "application/vnd.jupyter.widget-view+json": {
       "model_id": "e4ffb21b8eec400983a5328b019fe9be",
       "version_major": 2,
       "version_minor": 0
      },
      "text/plain": [
       "Running batch:   0%|          | 0/5 [00:00<?, ?it/s]"
      ]
     },
     "metadata": {},
     "output_type": "display_data"
    },
    {
     "name": "stdout",
     "output_type": "stream",
     "text": [
      "Predicted in 22.0209 s\n",
      "return (19, 64)\n",
      "Iters. done: 11 Current cost: 0.09008712016511373 Accuracy: 0.055533263526538645 Time: 24.5864760838449\n"
     ]
    },
    {
     "data": {
      "application/vnd.jupyter.widget-view+json": {
       "model_id": "105a61179f7043afa443d1a7acc0c6eb",
       "version_major": 2,
       "version_minor": 0
      },
      "text/plain": [
       "Mappings: 0it [00:00, ?it/s]"
      ]
     },
     "metadata": {},
     "output_type": "display_data"
    },
    {
     "name": "stdout",
     "output_type": "stream",
     "text": [
      "Submitted to device in 2.7243 s\n"
     ]
    },
    {
     "data": {
      "application/vnd.jupyter.widget-view+json": {
       "model_id": "8a41a8855f5f40dcb967b9dc7d4854a7",
       "version_major": 2,
       "version_minor": 0
      },
      "text/plain": [
       "Running batch:   0%|          | 0/5 [00:00<?, ?it/s]"
      ]
     },
     "metadata": {},
     "output_type": "display_data"
    },
    {
     "name": "stdout",
     "output_type": "stream",
     "text": [
      "Predicted in 22.2620 s\n",
      "return (19, 64)\n",
      "Iters. done: 12 Current cost: 0.08420622022999218 Accuracy: 0.11718818555169797 Time: 25.211561556905508\n"
     ]
    },
    {
     "data": {
      "application/vnd.jupyter.widget-view+json": {
       "model_id": "908f33d7a0cc4de5b2e0d05eb2fda986",
       "version_major": 2,
       "version_minor": 0
      },
      "text/plain": [
       "Mappings: 0it [00:00, ?it/s]"
      ]
     },
     "metadata": {},
     "output_type": "display_data"
    },
    {
     "name": "stdout",
     "output_type": "stream",
     "text": [
      "Submitted to device in 2.3276 s\n"
     ]
    },
    {
     "data": {
      "application/vnd.jupyter.widget-view+json": {
       "model_id": "e66ddbf5565f47beaf81a162ce9ecfe2",
       "version_major": 2,
       "version_minor": 0
      },
      "text/plain": [
       "Running batch:   0%|          | 0/5 [00:00<?, ?it/s]"
      ]
     },
     "metadata": {},
     "output_type": "display_data"
    },
    {
     "name": "stdout",
     "output_type": "stream",
     "text": [
      "Predicted in 21.9586 s\n",
      "return (19, 64)\n",
      "Iters. done: 13 Current cost: 0.09597094892963445 Accuracy: -0.006152364130449506 Time: 24.509531185030937\n"
     ]
    },
    {
     "data": {
      "application/vnd.jupyter.widget-view+json": {
       "model_id": "6e13b6e58c9c4bb3a87f854f252adc28",
       "version_major": 2,
       "version_minor": 0
      },
      "text/plain": [
       "Mappings: 0it [00:00, ?it/s]"
      ]
     },
     "metadata": {},
     "output_type": "display_data"
    },
    {
     "name": "stdout",
     "output_type": "stream",
     "text": [
      "Submitted to device in 2.0431 s\n"
     ]
    },
    {
     "data": {
      "application/vnd.jupyter.widget-view+json": {
       "model_id": "0738f2dc77a44b93beba0f74f4cd9029",
       "version_major": 2,
       "version_minor": 0
      },
      "text/plain": [
       "Running batch:   0%|          | 0/5 [00:00<?, ?it/s]"
      ]
     },
     "metadata": {},
     "output_type": "display_data"
    },
    {
     "name": "stdout",
     "output_type": "stream",
     "text": [
      "Predicted in 20.4703 s\n",
      "return (19, 64)\n",
      "Iters. done: 14 Current cost: 0.09044981609518703 Accuracy: 0.051730786093797 Time: 22.7287028580904\n"
     ]
    },
    {
     "data": {
      "application/vnd.jupyter.widget-view+json": {
       "model_id": "b45901a14702426d80878a508f58a458",
       "version_major": 2,
       "version_minor": 0
      },
      "text/plain": [
       "Mappings: 0it [00:00, ?it/s]"
      ]
     },
     "metadata": {},
     "output_type": "display_data"
    },
    {
     "name": "stdout",
     "output_type": "stream",
     "text": [
      "Submitted to device in 2.1950 s\n"
     ]
    },
    {
     "data": {
      "application/vnd.jupyter.widget-view+json": {
       "model_id": "466ac4f7d0c441368e68c819e656c3aa",
       "version_major": 2,
       "version_minor": 0
      },
      "text/plain": [
       "Running batch:   0%|          | 0/5 [00:00<?, ?it/s]"
      ]
     },
     "metadata": {},
     "output_type": "display_data"
    },
    {
     "name": "stdout",
     "output_type": "stream",
     "text": [
      "Predicted in 21.0514 s\n",
      "return (19, 64)\n",
      "Iters. done: 15 Current cost: 0.07532487073344987 Accuracy: 0.21029959991487834 Time: 23.755725778639317\n"
     ]
    },
    {
     "data": {
      "application/vnd.jupyter.widget-view+json": {
       "model_id": "e07c447004394c40ad30ba0cad849136",
       "version_major": 2,
       "version_minor": 0
      },
      "text/plain": [
       "Mappings: 0it [00:00, ?it/s]"
      ]
     },
     "metadata": {},
     "output_type": "display_data"
    },
    {
     "name": "stdout",
     "output_type": "stream",
     "text": [
      "Submitted to device in 2.3526 s\n"
     ]
    },
    {
     "data": {
      "application/vnd.jupyter.widget-view+json": {
       "model_id": "a5fd16c075334dc59c94c237fe1cd1df",
       "version_major": 2,
       "version_minor": 0
      },
      "text/plain": [
       "Running batch:   0%|          | 0/5 [00:00<?, ?it/s]"
      ]
     },
     "metadata": {},
     "output_type": "display_data"
    },
    {
     "name": "stdout",
     "output_type": "stream",
     "text": [
      "Predicted in 22.7263 s\n",
      "return (19, 64)\n",
      "Iters. done: 16 Current cost: 0.08972506782498788 Accuracy: 0.05932899360964616 Time: 25.300950650125742\n"
     ]
    },
    {
     "data": {
      "application/vnd.jupyter.widget-view+json": {
       "model_id": "7f7b6911505941fea369317a85cca989",
       "version_major": 2,
       "version_minor": 0
      },
      "text/plain": [
       "Mappings: 0it [00:00, ?it/s]"
      ]
     },
     "metadata": {},
     "output_type": "display_data"
    },
    {
     "name": "stdout",
     "output_type": "stream",
     "text": [
      "Submitted to device in 2.0245 s\n"
     ]
    },
    {
     "data": {
      "application/vnd.jupyter.widget-view+json": {
       "model_id": "4d506de851fc45f2ad0c48cec103f46f",
       "version_major": 2,
       "version_minor": 0
      },
      "text/plain": [
       "Running batch:   0%|          | 0/5 [00:00<?, ?it/s]"
      ]
     },
     "metadata": {},
     "output_type": "display_data"
    },
    {
     "name": "stdout",
     "output_type": "stream",
     "text": [
      "Predicted in 20.6504 s\n",
      "return (19, 64)\n",
      "Iters. done: 17 Current cost: 0.06626179282461489 Accuracy: 0.305316241575457 Time: 22.921444732695818\n"
     ]
    },
    {
     "data": {
      "application/vnd.jupyter.widget-view+json": {
       "model_id": "10b0eb42e41241a6a4038b6c210590af",
       "version_major": 2,
       "version_minor": 0
      },
      "text/plain": [
       "Mappings: 0it [00:00, ?it/s]"
      ]
     },
     "metadata": {},
     "output_type": "display_data"
    },
    {
     "name": "stdout",
     "output_type": "stream",
     "text": [
      "Submitted to device in 2.1619 s\n"
     ]
    },
    {
     "data": {
      "application/vnd.jupyter.widget-view+json": {
       "model_id": "c1df05e89e484a76b4905bfa61e242b3",
       "version_major": 2,
       "version_minor": 0
      },
      "text/plain": [
       "Running batch:   0%|          | 0/5 [00:00<?, ?it/s]"
      ]
     },
     "metadata": {},
     "output_type": "display_data"
    },
    {
     "name": "stdout",
     "output_type": "stream",
     "text": [
      "Predicted in 21.6730 s\n",
      "return (19, 64)\n",
      "Iters. done: 18 Current cost: 0.09431930205665683 Accuracy: 0.011163380107669152 Time: 24.405569031834602\n"
     ]
    },
    {
     "data": {
      "application/vnd.jupyter.widget-view+json": {
       "model_id": "d42427d55f484ba6a2e0ddc27d6063a1",
       "version_major": 2,
       "version_minor": 0
      },
      "text/plain": [
       "Mappings: 0it [00:00, ?it/s]"
      ]
     },
     "metadata": {},
     "output_type": "display_data"
    },
    {
     "name": "stdout",
     "output_type": "stream",
     "text": [
      "Submitted to device in 2.4919 s\n"
     ]
    },
    {
     "data": {
      "application/vnd.jupyter.widget-view+json": {
       "model_id": "ab0e9b8303894f9488150a80a63ddeca",
       "version_major": 2,
       "version_minor": 0
      },
      "text/plain": [
       "Running batch:   0%|          | 0/5 [00:00<?, ?it/s]"
      ]
     },
     "metadata": {},
     "output_type": "display_data"
    },
    {
     "name": "stdout",
     "output_type": "stream",
     "text": [
      "Predicted in 22.8995 s\n",
      "return (19, 64)\n",
      "Iters. done: 19 Current cost: 0.08034476262179524 Accuracy: 0.15767142287308245 Time: 25.587227769196033\n"
     ]
    },
    {
     "data": {
      "application/vnd.jupyter.widget-view+json": {
       "model_id": "65d966f8a9214ef781d3b88ccda6747d",
       "version_major": 2,
       "version_minor": 0
      },
      "text/plain": [
       "Mappings: 0it [00:00, ?it/s]"
      ]
     },
     "metadata": {},
     "output_type": "display_data"
    },
    {
     "name": "stdout",
     "output_type": "stream",
     "text": [
      "Submitted to device in 2.1007 s\n"
     ]
    },
    {
     "data": {
      "application/vnd.jupyter.widget-view+json": {
       "model_id": "72654297a5494d9eb704ba6b1a15759d",
       "version_major": 2,
       "version_minor": 0
      },
      "text/plain": [
       "Running batch:   0%|          | 0/5 [00:00<?, ?it/s]"
      ]
     },
     "metadata": {},
     "output_type": "display_data"
    },
    {
     "name": "stdout",
     "output_type": "stream",
     "text": [
      "Predicted in 23.4512 s\n",
      "return (19, 64)\n",
      "Iters. done: 20 Current cost: 0.0792588585678942 Accuracy: 0.16905596104048615 Time: 25.781107418239117\n"
     ]
    },
    {
     "data": {
      "application/vnd.jupyter.widget-view+json": {
       "model_id": "29549ea466f74a068aa4b75277fde1a0",
       "version_major": 2,
       "version_minor": 0
      },
      "text/plain": [
       "Mappings: 0it [00:00, ?it/s]"
      ]
     },
     "metadata": {},
     "output_type": "display_data"
    },
    {
     "name": "stdout",
     "output_type": "stream",
     "text": [
      "Submitted to device in 2.2019 s\n"
     ]
    },
    {
     "data": {
      "application/vnd.jupyter.widget-view+json": {
       "model_id": "caf7cbaad62a4129a563ff4cb71dd68d",
       "version_major": 2,
       "version_minor": 0
      },
      "text/plain": [
       "Running batch:   0%|          | 0/5 [00:00<?, ?it/s]"
      ]
     },
     "metadata": {},
     "output_type": "display_data"
    },
    {
     "name": "stdout",
     "output_type": "stream",
     "text": [
      "Predicted in 22.8019 s\n",
      "return (19, 64)\n",
      "Iters. done: 21 Current cost: 0.06807428305725358 Accuracy: 0.2863142273943755 Time: 25.54022704064846\n"
     ]
    },
    {
     "data": {
      "application/vnd.jupyter.widget-view+json": {
       "model_id": "d5a38635014349329cce07f52fb9f647",
       "version_major": 2,
       "version_minor": 0
      },
      "text/plain": [
       "Mappings: 0it [00:00, ?it/s]"
      ]
     },
     "metadata": {},
     "output_type": "display_data"
    },
    {
     "name": "stdout",
     "output_type": "stream",
     "text": [
      "Submitted to device in 2.2725 s\n"
     ]
    },
    {
     "data": {
      "application/vnd.jupyter.widget-view+json": {
       "model_id": "73f75731672647e4a0924ff0bb14ee58",
       "version_major": 2,
       "version_minor": 0
      },
      "text/plain": [
       "Running batch:   0%|          | 0/5 [00:00<?, ?it/s]"
      ]
     },
     "metadata": {},
     "output_type": "display_data"
    },
    {
     "name": "stdout",
     "output_type": "stream",
     "text": [
      "Predicted in 22.0100 s\n",
      "return (19, 64)\n",
      "Iters. done: 22 Current cost: 0.07539530834018585 Accuracy: 0.20956113723078995 Time: 24.791294030845165\n"
     ]
    },
    {
     "data": {
      "application/vnd.jupyter.widget-view+json": {
       "model_id": "f09620a72e0541d98f40549bc4513252",
       "version_major": 2,
       "version_minor": 0
      },
      "text/plain": [
       "Mappings: 0it [00:00, ?it/s]"
      ]
     },
     "metadata": {},
     "output_type": "display_data"
    },
    {
     "name": "stdout",
     "output_type": "stream",
     "text": [
      "Submitted to device in 1.9786 s\n"
     ]
    },
    {
     "data": {
      "application/vnd.jupyter.widget-view+json": {
       "model_id": "4788b16d4ac4467b85956ece1ad857a1",
       "version_major": 2,
       "version_minor": 0
      },
      "text/plain": [
       "Running batch:   0%|          | 0/5 [00:00<?, ?it/s]"
      ]
     },
     "metadata": {},
     "output_type": "display_data"
    },
    {
     "name": "stdout",
     "output_type": "stream",
     "text": [
      "Predicted in 21.0641 s\n",
      "return (19, 64)\n",
      "Iters. done: 23 Current cost: 0.06756578911897826 Accuracy: 0.2916452404128759 Time: 23.24603770673275\n"
     ]
    },
    {
     "data": {
      "application/vnd.jupyter.widget-view+json": {
       "model_id": "3898ed60a77c40e78389010f41d6b4f8",
       "version_major": 2,
       "version_minor": 0
      },
      "text/plain": [
       "Mappings: 0it [00:00, ?it/s]"
      ]
     },
     "metadata": {},
     "output_type": "display_data"
    },
    {
     "name": "stdout",
     "output_type": "stream",
     "text": [
      "Submitted to device in 2.1158 s\n"
     ]
    },
    {
     "data": {
      "application/vnd.jupyter.widget-view+json": {
       "model_id": "c8a6c56aa64a4ba8b202565d843b1b27",
       "version_major": 2,
       "version_minor": 0
      },
      "text/plain": [
       "Running batch:   0%|          | 0/5 [00:00<?, ?it/s]"
      ]
     },
     "metadata": {},
     "output_type": "display_data"
    },
    {
     "name": "stdout",
     "output_type": "stream",
     "text": [
      "Predicted in 21.4714 s\n",
      "return (19, 64)\n",
      "Iters. done: 24 Current cost: 0.06246317614761807 Accuracy: 0.3451406591998776 Time: 23.809998232871294\n"
     ]
    },
    {
     "data": {
      "application/vnd.jupyter.widget-view+json": {
       "model_id": "d6df3cc26ac34dd4bbefe21c62747b1a",
       "version_major": 2,
       "version_minor": 0
      },
      "text/plain": [
       "Mappings: 0it [00:00, ?it/s]"
      ]
     },
     "metadata": {},
     "output_type": "display_data"
    },
    {
     "name": "stdout",
     "output_type": "stream",
     "text": [
      "Submitted to device in 2.1198 s\n"
     ]
    },
    {
     "data": {
      "application/vnd.jupyter.widget-view+json": {
       "model_id": "1cbf780cfb82415c8ba75bc231bd5612",
       "version_major": 2,
       "version_minor": 0
      },
      "text/plain": [
       "Running batch:   0%|          | 0/5 [00:00<?, ?it/s]"
      ]
     },
     "metadata": {},
     "output_type": "display_data"
    },
    {
     "name": "stdout",
     "output_type": "stream",
     "text": [
      "Predicted in 21.2300 s\n",
      "return (19, 64)\n",
      "Iters. done: 25 Current cost: 0.07648508864326427 Accuracy: 0.1981359607523424 Time: 23.78130144625902\n"
     ]
    },
    {
     "data": {
      "application/vnd.jupyter.widget-view+json": {
       "model_id": "144d0fdbf59a4be3a510502805571c33",
       "version_major": 2,
       "version_minor": 0
      },
      "text/plain": [
       "Mappings: 0it [00:00, ?it/s]"
      ]
     },
     "metadata": {},
     "output_type": "display_data"
    },
    {
     "name": "stdout",
     "output_type": "stream",
     "text": [
      "Submitted to device in 2.3167 s\n"
     ]
    },
    {
     "data": {
      "application/vnd.jupyter.widget-view+json": {
       "model_id": "3c58d70ea236413b8a8809ee0c7b7806",
       "version_major": 2,
       "version_minor": 0
      },
      "text/plain": [
       "Running batch:   0%|          | 0/5 [00:00<?, ?it/s]"
      ]
     },
     "metadata": {},
     "output_type": "display_data"
    },
    {
     "name": "stdout",
     "output_type": "stream",
     "text": [
      "Predicted in 21.4604 s\n",
      "return (19, 64)\n",
      "Iters. done: 26 Current cost: 0.08749850471650121 Accuracy: 0.08267211734110014 Time: 23.94780996441841\n"
     ]
    },
    {
     "data": {
      "application/vnd.jupyter.widget-view+json": {
       "model_id": "e05b94e1da494a60876b3a1f094a356d",
       "version_major": 2,
       "version_minor": 0
      },
      "text/plain": [
       "Mappings: 0it [00:00, ?it/s]"
      ]
     },
     "metadata": {},
     "output_type": "display_data"
    },
    {
     "name": "stdout",
     "output_type": "stream",
     "text": [
      "Submitted to device in 2.0568 s\n"
     ]
    },
    {
     "data": {
      "application/vnd.jupyter.widget-view+json": {
       "model_id": "b3ef8567c18c48ed9f296e8229cf268e",
       "version_major": 2,
       "version_minor": 0
      },
      "text/plain": [
       "Running batch:   0%|          | 0/5 [00:00<?, ?it/s]"
      ]
     },
     "metadata": {},
     "output_type": "display_data"
    },
    {
     "name": "stdout",
     "output_type": "stream",
     "text": [
      "Predicted in 23.0466 s\n",
      "return (19, 64)\n",
      "Iters. done: 27 Current cost: 0.07996038551009552 Accuracy: 0.1617012042180379 Time: 25.30586677417159\n"
     ]
    },
    {
     "data": {
      "application/vnd.jupyter.widget-view+json": {
       "model_id": "264d6d729c3c47e2b7ca203b537fb346",
       "version_major": 2,
       "version_minor": 0
      },
      "text/plain": [
       "Mappings: 0it [00:00, ?it/s]"
      ]
     },
     "metadata": {},
     "output_type": "display_data"
    },
    {
     "name": "stdout",
     "output_type": "stream",
     "text": [
      "Submitted to device in 2.2438 s\n"
     ]
    },
    {
     "data": {
      "application/vnd.jupyter.widget-view+json": {
       "model_id": "583f687cefd8475fa53181bf8e00a7b9",
       "version_major": 2,
       "version_minor": 0
      },
      "text/plain": [
       "Running batch:   0%|          | 0/5 [00:00<?, ?it/s]"
      ]
     },
     "metadata": {},
     "output_type": "display_data"
    },
    {
     "name": "stdout",
     "output_type": "stream",
     "text": [
      "Predicted in 21.0588 s\n",
      "return (19, 64)\n",
      "Iters. done: 28 Current cost: 0.08506012172421595 Accuracy: 0.10823594514217882 Time: 23.804751690477133\n"
     ]
    },
    {
     "data": {
      "application/vnd.jupyter.widget-view+json": {
       "model_id": "8b77517bf999453a97fe7718b5ce9462",
       "version_major": 2,
       "version_minor": 0
      },
      "text/plain": [
       "Mappings: 0it [00:00, ?it/s]"
      ]
     },
     "metadata": {},
     "output_type": "display_data"
    },
    {
     "name": "stdout",
     "output_type": "stream",
     "text": [
      "Submitted to device in 2.3776 s\n"
     ]
    },
    {
     "data": {
      "application/vnd.jupyter.widget-view+json": {
       "model_id": "e180d2900b7c48599b7ea6be556f53ec",
       "version_major": 2,
       "version_minor": 0
      },
      "text/plain": [
       "Running batch:   0%|          | 0/5 [00:00<?, ?it/s]"
      ]
     },
     "metadata": {},
     "output_type": "display_data"
    },
    {
     "name": "stdout",
     "output_type": "stream",
     "text": [
      "Predicted in 21.2890 s\n",
      "return (19, 64)\n",
      "Iters. done: 29 Current cost: 0.08344662647905161 Accuracy: 0.12515171052265484 Time: 23.87964541837573\n"
     ]
    },
    {
     "data": {
      "application/vnd.jupyter.widget-view+json": {
       "model_id": "ca8b5aa91f0e4452b2741016c00b2c19",
       "version_major": 2,
       "version_minor": 0
      },
      "text/plain": [
       "Mappings: 0it [00:00, ?it/s]"
      ]
     },
     "metadata": {},
     "output_type": "display_data"
    },
    {
     "name": "stdout",
     "output_type": "stream",
     "text": [
      "Submitted to device in 2.1940 s\n"
     ]
    },
    {
     "data": {
      "application/vnd.jupyter.widget-view+json": {
       "model_id": "8b0b3d94d8e64418ae8cf62bcce1296b",
       "version_major": 2,
       "version_minor": 0
      },
      "text/plain": [
       "Running batch:   0%|          | 0/5 [00:00<?, ?it/s]"
      ]
     },
     "metadata": {},
     "output_type": "display_data"
    },
    {
     "name": "stdout",
     "output_type": "stream",
     "text": [
      "Predicted in 21.8270 s\n",
      "return (19, 64)\n",
      "Iters. done: 30 Current cost: 0.07070151385776907 Accuracy: 0.25877053307294995 Time: 24.26859249919653\n"
     ]
    },
    {
     "data": {
      "application/vnd.jupyter.widget-view+json": {
       "model_id": "a7374b585b4343d8ae3fd0c0f1bf20eb",
       "version_major": 2,
       "version_minor": 0
      },
      "text/plain": [
       "Mappings: 0it [00:00, ?it/s]"
      ]
     },
     "metadata": {},
     "output_type": "display_data"
    },
    {
     "name": "stdout",
     "output_type": "stream",
     "text": [
      "Submitted to device in 1.9915 s\n"
     ]
    },
    {
     "data": {
      "application/vnd.jupyter.widget-view+json": {
       "model_id": "a66a8293ce8843a393ab0c8f5cb62c1e",
       "version_major": 2,
       "version_minor": 0
      },
      "text/plain": [
       "Running batch:   0%|          | 0/5 [00:00<?, ?it/s]"
      ]
     },
     "metadata": {},
     "output_type": "display_data"
    },
    {
     "name": "stdout",
     "output_type": "stream",
     "text": [
      "Predicted in 22.2374 s\n",
      "return (19, 64)\n",
      "Iters. done: 31 Current cost: 0.0776270639554428 Accuracy: 0.18616357564057817 Time: 24.435433119535446\n"
     ]
    },
    {
     "data": {
      "application/vnd.jupyter.widget-view+json": {
       "model_id": "7aaee89e96c941719a359ce2ee1cc4b5",
       "version_major": 2,
       "version_minor": 0
      },
      "text/plain": [
       "Mappings: 0it [00:00, ?it/s]"
      ]
     },
     "metadata": {},
     "output_type": "display_data"
    },
    {
     "name": "stdout",
     "output_type": "stream",
     "text": [
      "Submitted to device in 2.2494 s\n"
     ]
    },
    {
     "data": {
      "application/vnd.jupyter.widget-view+json": {
       "model_id": "c3f1fe6cd9fc4b21b96dff5fc4e30212",
       "version_major": 2,
       "version_minor": 0
      },
      "text/plain": [
       "Running batch:   0%|          | 0/5 [00:00<?, ?it/s]"
      ]
     },
     "metadata": {},
     "output_type": "display_data"
    },
    {
     "name": "stdout",
     "output_type": "stream",
     "text": [
      "Predicted in 22.1124 s\n",
      "return (19, 64)\n",
      "Iters. done: 32 Current cost: 0.0747901889244359 Accuracy: 0.21590516464250642 Time: 24.909992694854736\n"
     ]
    },
    {
     "data": {
      "application/vnd.jupyter.widget-view+json": {
       "model_id": "af32ffb2571f490b8e23a33e687e719a",
       "version_major": 2,
       "version_minor": 0
      },
      "text/plain": [
       "Mappings: 0it [00:00, ?it/s]"
      ]
     },
     "metadata": {},
     "output_type": "display_data"
    },
    {
     "name": "stdout",
     "output_type": "stream",
     "text": [
      "Submitted to device in 2.3880 s\n"
     ]
    },
    {
     "data": {
      "application/vnd.jupyter.widget-view+json": {
       "model_id": "e7216572747140d4b92a983c3d04cc0b",
       "version_major": 2,
       "version_minor": 0
      },
      "text/plain": [
       "Running batch:   0%|          | 0/5 [00:00<?, ?it/s]"
      ]
     },
     "metadata": {},
     "output_type": "display_data"
    },
    {
     "name": "stdout",
     "output_type": "stream",
     "text": [
      "Predicted in 22.7285 s\n",
      "return (19, 64)\n",
      "Iters. done: 33 Current cost: 0.07978730273237 Accuracy: 0.16351579131904148 Time: 25.371737897396088\n"
     ]
    },
    {
     "data": {
      "application/vnd.jupyter.widget-view+json": {
       "model_id": "87056ffc1c56413c847d1299cc7134a6",
       "version_major": 2,
       "version_minor": 0
      },
      "text/plain": [
       "Mappings: 0it [00:00, ?it/s]"
      ]
     },
     "metadata": {},
     "output_type": "display_data"
    },
    {
     "name": "stdout",
     "output_type": "stream",
     "text": [
      "Submitted to device in 1.9594 s\n"
     ]
    },
    {
     "data": {
      "application/vnd.jupyter.widget-view+json": {
       "model_id": "4c3a900fc050445794be9564d8a08382",
       "version_major": 2,
       "version_minor": 0
      },
      "text/plain": [
       "Running batch:   0%|          | 0/5 [00:00<?, ?it/s]"
      ]
     },
     "metadata": {},
     "output_type": "display_data"
    },
    {
     "name": "stdout",
     "output_type": "stream",
     "text": [
      "Predicted in 22.7489 s\n",
      "return (19, 64)\n",
      "Iters. done: 34 Current cost: 0.09014533997649822 Accuracy: 0.05492289130955996 Time: 24.94950084015727\n"
     ]
    },
    {
     "data": {
      "application/vnd.jupyter.widget-view+json": {
       "model_id": "82039d0852fb484c8569bb846857b1ca",
       "version_major": 2,
       "version_minor": 0
      },
      "text/plain": [
       "Mappings: 0it [00:00, ?it/s]"
      ]
     },
     "metadata": {},
     "output_type": "display_data"
    },
    {
     "name": "stdout",
     "output_type": "stream",
     "text": [
      "Submitted to device in 2.2504 s\n"
     ]
    },
    {
     "data": {
      "application/vnd.jupyter.widget-view+json": {
       "model_id": "362c78d85ca8439ab271f0bdeed0bff8",
       "version_major": 2,
       "version_minor": 0
      },
      "text/plain": [
       "Running batch:   0%|          | 0/5 [00:00<?, ?it/s]"
      ]
     },
     "metadata": {},
     "output_type": "display_data"
    },
    {
     "name": "stdout",
     "output_type": "stream",
     "text": [
      "Predicted in 22.7264 s\n",
      "return (19, 64)\n",
      "Iters. done: 35 Current cost: 0.10382078461912415 Accuracy: -0.08844946367050444 Time: 25.457725692540407\n"
     ]
    },
    {
     "data": {
      "application/vnd.jupyter.widget-view+json": {
       "model_id": "c329485972ed4943a2f2886202baec0f",
       "version_major": 2,
       "version_minor": 0
      },
      "text/plain": [
       "Mappings: 0it [00:00, ?it/s]"
      ]
     },
     "metadata": {},
     "output_type": "display_data"
    },
    {
     "name": "stdout",
     "output_type": "stream",
     "text": [
      "Submitted to device in 2.4424 s\n"
     ]
    },
    {
     "data": {
      "application/vnd.jupyter.widget-view+json": {
       "model_id": "505a6d44ffea4c889fae895d38175aa2",
       "version_major": 2,
       "version_minor": 0
      },
      "text/plain": [
       "Running batch:   0%|          | 0/5 [00:00<?, ?it/s]"
      ]
     },
     "metadata": {},
     "output_type": "display_data"
    },
    {
     "name": "stdout",
     "output_type": "stream",
     "text": [
      "Predicted in 22.2811 s\n",
      "return (19, 64)\n",
      "Iters. done: 36 Current cost: 0.06809541887465612 Accuracy: 0.28609264104054066 Time: 24.966846387833357\n"
     ]
    },
    {
     "data": {
      "application/vnd.jupyter.widget-view+json": {
       "model_id": "5c9140f7941a4412bfd26ada8abb2c83",
       "version_major": 2,
       "version_minor": 0
      },
      "text/plain": [
       "Mappings: 0it [00:00, ?it/s]"
      ]
     },
     "metadata": {},
     "output_type": "display_data"
    },
    {
     "name": "stdout",
     "output_type": "stream",
     "text": [
      "Submitted to device in 2.2809 s\n"
     ]
    },
    {
     "data": {
      "application/vnd.jupyter.widget-view+json": {
       "model_id": "7b52dd77d43c49c793e207e0af629b9a",
       "version_major": 2,
       "version_minor": 0
      },
      "text/plain": [
       "Running batch:   0%|          | 0/5 [00:00<?, ?it/s]"
      ]
     },
     "metadata": {},
     "output_type": "display_data"
    },
    {
     "name": "stdout",
     "output_type": "stream",
     "text": [
      "Predicted in 22.0590 s\n",
      "return (19, 64)\n",
      "Iters. done: 37 Current cost: 0.09154271587506871 Accuracy: 0.04027290525016958 Time: 24.6076198220253\n"
     ]
    },
    {
     "data": {
      "application/vnd.jupyter.widget-view+json": {
       "model_id": "9ebcffeec2f8482d8c14d222994f94c5",
       "version_major": 2,
       "version_minor": 0
      },
      "text/plain": [
       "Mappings: 0it [00:00, ?it/s]"
      ]
     },
     "metadata": {},
     "output_type": "display_data"
    },
    {
     "name": "stdout",
     "output_type": "stream",
     "text": [
      "Submitted to device in 1.9895 s\n"
     ]
    },
    {
     "data": {
      "application/vnd.jupyter.widget-view+json": {
       "model_id": "93af18e3e9a14ec399ad98e7b609826a",
       "version_major": 2,
       "version_minor": 0
      },
      "text/plain": [
       "Running batch:   0%|          | 0/5 [00:00<?, ?it/s]"
      ]
     },
     "metadata": {},
     "output_type": "display_data"
    },
    {
     "name": "stdout",
     "output_type": "stream",
     "text": [
      "Predicted in 22.1298 s\n",
      "return (19, 64)\n",
      "Iters. done: 38 Current cost: 0.061756032624578426 Accuracy: 0.35255429984239683 Time: 24.31947746872902\n"
     ]
    },
    {
     "data": {
      "application/vnd.jupyter.widget-view+json": {
       "model_id": "e914f8598d844124bbe9dcdaf254b9f4",
       "version_major": 2,
       "version_minor": 0
      },
      "text/plain": [
       "Mappings: 0it [00:00, ?it/s]"
      ]
     },
     "metadata": {},
     "output_type": "display_data"
    },
    {
     "name": "stdout",
     "output_type": "stream",
     "text": [
      "Submitted to device in 2.2060 s\n"
     ]
    },
    {
     "data": {
      "application/vnd.jupyter.widget-view+json": {
       "model_id": "72e7a2d67f0e47bbaf97ce711336a145",
       "version_major": 2,
       "version_minor": 0
      },
      "text/plain": [
       "Running batch:   0%|          | 0/5 [00:00<?, ?it/s]"
      ]
     },
     "metadata": {},
     "output_type": "display_data"
    },
    {
     "name": "stdout",
     "output_type": "stream",
     "text": [
      "Predicted in 21.3329 s\n",
      "return (19, 64)\n",
      "Iters. done: 39 Current cost: 0.07110669773246837 Accuracy: 0.2545226151562985 Time: 24.037480626255274\n"
     ]
    },
    {
     "data": {
      "application/vnd.jupyter.widget-view+json": {
       "model_id": "ecb55bc1744345bf88eca7036783310c",
       "version_major": 2,
       "version_minor": 0
      },
      "text/plain": [
       "Mappings: 0it [00:00, ?it/s]"
      ]
     },
     "metadata": {},
     "output_type": "display_data"
    },
    {
     "name": "stdout",
     "output_type": "stream",
     "text": [
      "Submitted to device in 2.0213 s\n"
     ]
    },
    {
     "data": {
      "application/vnd.jupyter.widget-view+json": {
       "model_id": "b364ef32e07d47d6aa25a164cd6ab1ac",
       "version_major": 2,
       "version_minor": 0
      },
      "text/plain": [
       "Running batch:   0%|          | 0/5 [00:00<?, ?it/s]"
      ]
     },
     "metadata": {},
     "output_type": "display_data"
    },
    {
     "name": "stdout",
     "output_type": "stream",
     "text": [
      "Predicted in 21.8069 s\n",
      "return (19, 64)\n",
      "Iters. done: 40 Current cost: 0.09271391718305433 Accuracy: 0.027994116949697445 Time: 24.069992419332266\n"
     ]
    },
    {
     "data": {
      "application/vnd.jupyter.widget-view+json": {
       "model_id": "fbb75643712547f79e3c018b33f9ef27",
       "version_major": 2,
       "version_minor": 0
      },
      "text/plain": [
       "Mappings: 0it [00:00, ?it/s]"
      ]
     },
     "metadata": {},
     "output_type": "display_data"
    },
    {
     "name": "stdout",
     "output_type": "stream",
     "text": [
      "Submitted to device in 2.0826 s\n"
     ]
    },
    {
     "data": {
      "application/vnd.jupyter.widget-view+json": {
       "model_id": "f944975803c14bdeb892709b5b749eca",
       "version_major": 2,
       "version_minor": 0
      },
      "text/plain": [
       "Running batch:   0%|          | 0/5 [00:00<?, ?it/s]"
      ]
     },
     "metadata": {},
     "output_type": "display_data"
    },
    {
     "name": "stdout",
     "output_type": "stream",
     "text": [
      "Predicted in 20.5445 s\n",
      "return (19, 64)\n",
      "Iters. done: 41 Current cost: 0.10755676250474515 Accuracy: -0.12761718081699924 Time: 22.85052540525794\n"
     ]
    },
    {
     "data": {
      "application/vnd.jupyter.widget-view+json": {
       "model_id": "374a183a02ac4ea2bce7790a99d0c253",
       "version_major": 2,
       "version_minor": 0
      },
      "text/plain": [
       "Mappings: 0it [00:00, ?it/s]"
      ]
     },
     "metadata": {},
     "output_type": "display_data"
    },
    {
     "name": "stdout",
     "output_type": "stream",
     "text": [
      "Submitted to device in 2.0734 s\n"
     ]
    },
    {
     "data": {
      "application/vnd.jupyter.widget-view+json": {
       "model_id": "b14499a3449743c4ba45ecbbe4e19f5a",
       "version_major": 2,
       "version_minor": 0
      },
      "text/plain": [
       "Running batch:   0%|          | 0/5 [00:00<?, ?it/s]"
      ]
     },
     "metadata": {},
     "output_type": "display_data"
    },
    {
     "name": "stdout",
     "output_type": "stream",
     "text": [
      "Predicted in 21.5619 s\n",
      "return (19, 64)\n",
      "Iters. done: 42 Current cost: 0.07397437165749528 Accuracy: 0.22445813281657945 Time: 24.122068725526333\n"
     ]
    },
    {
     "data": {
      "application/vnd.jupyter.widget-view+json": {
       "model_id": "8da505c27b0544628008dee64844eb7d",
       "version_major": 2,
       "version_minor": 0
      },
      "text/plain": [
       "Mappings: 0it [00:00, ?it/s]"
      ]
     },
     "metadata": {},
     "output_type": "display_data"
    },
    {
     "name": "stdout",
     "output_type": "stream",
     "text": [
      "Submitted to device in 2.3979 s\n"
     ]
    },
    {
     "data": {
      "application/vnd.jupyter.widget-view+json": {
       "model_id": "f6f2d24b253442a082312769026185a9",
       "version_major": 2,
       "version_minor": 0
      },
      "text/plain": [
       "Running batch:   0%|          | 0/5 [00:00<?, ?it/s]"
      ]
     },
     "metadata": {},
     "output_type": "display_data"
    },
    {
     "name": "stdout",
     "output_type": "stream",
     "text": [
      "Predicted in 20.3157 s\n",
      "return (19, 64)\n",
      "Iters. done: 43 Current cost: 0.08909081894340846 Accuracy: 0.06597841219689093 Time: 22.93626280501485\n"
     ]
    },
    {
     "data": {
      "application/vnd.jupyter.widget-view+json": {
       "model_id": "9bc6de47c8214efb9cb811bfd2bba4de",
       "version_major": 2,
       "version_minor": 0
      },
      "text/plain": [
       "Mappings: 0it [00:00, ?it/s]"
      ]
     },
     "metadata": {},
     "output_type": "display_data"
    },
    {
     "name": "stdout",
     "output_type": "stream",
     "text": [
      "Submitted to device in 2.2842 s\n"
     ]
    },
    {
     "data": {
      "application/vnd.jupyter.widget-view+json": {
       "model_id": "6a36860b2cde479ebf50768f5f1249d0",
       "version_major": 2,
       "version_minor": 0
      },
      "text/plain": [
       "Running batch:   0%|          | 0/5 [00:00<?, ?it/s]"
      ]
     },
     "metadata": {},
     "output_type": "display_data"
    },
    {
     "name": "stdout",
     "output_type": "stream",
     "text": [
      "Predicted in 20.7386 s\n",
      "return (19, 64)\n",
      "Iters. done: 44 Current cost: 0.07008007893269179 Accuracy: 0.26528561108346516 Time: 23.227966859936714\n"
     ]
    },
    {
     "data": {
      "application/vnd.jupyter.widget-view+json": {
       "model_id": "06bcbf4a51b44e70accb4003bff6e8bb",
       "version_major": 2,
       "version_minor": 0
      },
      "text/plain": [
       "Mappings: 0it [00:00, ?it/s]"
      ]
     },
     "metadata": {},
     "output_type": "display_data"
    },
    {
     "name": "stdout",
     "output_type": "stream",
     "text": [
      "Submitted to device in 2.3170 s\n"
     ]
    },
    {
     "data": {
      "application/vnd.jupyter.widget-view+json": {
       "model_id": "cc6948855d744287aecbacca6bdafc69",
       "version_major": 2,
       "version_minor": 0
      },
      "text/plain": [
       "Running batch:   0%|          | 0/5 [00:00<?, ?it/s]"
      ]
     },
     "metadata": {},
     "output_type": "display_data"
    },
    {
     "name": "stdout",
     "output_type": "stream",
     "text": [
      "Predicted in 21.9927 s\n",
      "return (19, 64)\n",
      "Iters. done: 45 Current cost: 0.10216447794392827 Accuracy: -0.07108486640893874 Time: 24.84017574414611\n"
     ]
    },
    {
     "data": {
      "application/vnd.jupyter.widget-view+json": {
       "model_id": "c639bcaa8f32438ea56ecc4958840925",
       "version_major": 2,
       "version_minor": 0
      },
      "text/plain": [
       "Mappings: 0it [00:00, ?it/s]"
      ]
     },
     "metadata": {},
     "output_type": "display_data"
    },
    {
     "name": "stdout",
     "output_type": "stream",
     "text": [
      "Submitted to device in 2.4048 s\n"
     ]
    },
    {
     "data": {
      "application/vnd.jupyter.widget-view+json": {
       "model_id": "4cf107e65ac44a86b7f7befb67b1ce16",
       "version_major": 2,
       "version_minor": 0
      },
      "text/plain": [
       "Running batch:   0%|          | 0/5 [00:00<?, ?it/s]"
      ]
     },
     "metadata": {},
     "output_type": "display_data"
    },
    {
     "name": "stdout",
     "output_type": "stream",
     "text": [
      "Predicted in 22.3034 s\n",
      "return (19, 64)\n",
      "Iters. done: 46 Current cost: 0.08578083214222333 Accuracy: 0.10068007017148073 Time: 24.908939618617296\n"
     ]
    },
    {
     "data": {
      "application/vnd.jupyter.widget-view+json": {
       "model_id": "84264b45b3574599a40ab722291aa239",
       "version_major": 2,
       "version_minor": 0
      },
      "text/plain": [
       "Mappings: 0it [00:00, ?it/s]"
      ]
     },
     "metadata": {},
     "output_type": "display_data"
    },
    {
     "name": "stdout",
     "output_type": "stream",
     "text": [
      "Submitted to device in 2.1092 s\n"
     ]
    },
    {
     "data": {
      "application/vnd.jupyter.widget-view+json": {
       "model_id": "7506c8d6ceb242f49674b7c5756bc5cc",
       "version_major": 2,
       "version_minor": 0
      },
      "text/plain": [
       "Running batch:   0%|          | 0/5 [00:00<?, ?it/s]"
      ]
     },
     "metadata": {},
     "output_type": "display_data"
    },
    {
     "name": "stdout",
     "output_type": "stream",
     "text": [
      "Predicted in 22.2331 s\n",
      "return (19, 64)\n",
      "Iters. done: 47 Current cost: 0.0785696012630064 Accuracy: 0.17628208388851085 Time: 24.551380969583988\n"
     ]
    },
    {
     "data": {
      "application/vnd.jupyter.widget-view+json": {
       "model_id": "77269c9dbe324149880f1d383866f0b2",
       "version_major": 2,
       "version_minor": 0
      },
      "text/plain": [
       "Mappings: 0it [00:00, ?it/s]"
      ]
     },
     "metadata": {},
     "output_type": "display_data"
    },
    {
     "name": "stdout",
     "output_type": "stream",
     "text": [
      "Submitted to device in 2.1673 s\n"
     ]
    },
    {
     "data": {
      "application/vnd.jupyter.widget-view+json": {
       "model_id": "dba990cc632946fc947120ccc670f328",
       "version_major": 2,
       "version_minor": 0
      },
      "text/plain": [
       "Running batch:   0%|          | 0/5 [00:00<?, ?it/s]"
      ]
     },
     "metadata": {},
     "output_type": "display_data"
    },
    {
     "name": "stdout",
     "output_type": "stream",
     "text": [
      "Predicted in 22.5822 s\n",
      "return (19, 64)\n",
      "Iters. done: 48 Current cost: 0.07364575118786132 Accuracy: 0.22790336563037905 Time: 24.980723831802607\n"
     ]
    },
    {
     "data": {
      "application/vnd.jupyter.widget-view+json": {
       "model_id": "c5dff605aff742d280391ced3dcc51a6",
       "version_major": 2,
       "version_minor": 0
      },
      "text/plain": [
       "Mappings: 0it [00:00, ?it/s]"
      ]
     },
     "metadata": {},
     "output_type": "display_data"
    },
    {
     "name": "stdout",
     "output_type": "stream",
     "text": [
      "Submitted to device in 2.1817 s\n"
     ]
    },
    {
     "data": {
      "application/vnd.jupyter.widget-view+json": {
       "model_id": "4301f15d461c4977855856ef5d14e429",
       "version_major": 2,
       "version_minor": 0
      },
      "text/plain": [
       "Running batch:   0%|          | 0/5 [00:00<?, ?it/s]"
      ]
     },
     "metadata": {},
     "output_type": "display_data"
    },
    {
     "name": "stdout",
     "output_type": "stream",
     "text": [
      "Predicted in 21.6191 s\n",
      "return (19, 64)\n",
      "Iters. done: 49 Current cost: 0.08798015669081881 Accuracy: 0.0776225134968882 Time: 24.281898107379675\n"
     ]
    },
    {
     "data": {
      "application/vnd.jupyter.widget-view+json": {
       "model_id": "1e5f7e7deee942839c459e843bf79e25",
       "version_major": 2,
       "version_minor": 0
      },
      "text/plain": [
       "Mappings: 0it [00:00, ?it/s]"
      ]
     },
     "metadata": {},
     "output_type": "display_data"
    },
    {
     "name": "stdout",
     "output_type": "stream",
     "text": [
      "Submitted to device in 2.4065 s\n"
     ]
    },
    {
     "data": {
      "application/vnd.jupyter.widget-view+json": {
       "model_id": "bc3ae5022d844a119c9c42d8131727b2",
       "version_major": 2,
       "version_minor": 0
      },
      "text/plain": [
       "Running batch:   0%|          | 0/5 [00:00<?, ?it/s]"
      ]
     },
     "metadata": {},
     "output_type": "display_data"
    },
    {
     "name": "stdout",
     "output_type": "stream",
     "text": [
      "Predicted in 22.0688 s\n",
      "return (19, 64)\n",
      "Iters. done: 50 Current cost: 0.140105900470058 Accuracy: -0.46885994729437797 Time: 24.739546556025743\n"
     ]
    },
    {
     "data": {
      "application/vnd.jupyter.widget-view+json": {
       "model_id": "f59db27c872d4802b2eecefef6190ca0",
       "version_major": 2,
       "version_minor": 0
      },
      "text/plain": [
       "Mappings: 0it [00:00, ?it/s]"
      ]
     },
     "metadata": {},
     "output_type": "display_data"
    },
    {
     "name": "stdout",
     "output_type": "stream",
     "text": [
      "Submitted to device in 2.1688 s\n"
     ]
    },
    {
     "data": {
      "application/vnd.jupyter.widget-view+json": {
       "model_id": "aa681d552c164864ae179b261771d5d4",
       "version_major": 2,
       "version_minor": 0
      },
      "text/plain": [
       "Running batch:   0%|          | 0/5 [00:00<?, ?it/s]"
      ]
     },
     "metadata": {},
     "output_type": "display_data"
    },
    {
     "name": "stdout",
     "output_type": "stream",
     "text": [
      "Predicted in 22.6269 s\n",
      "return (19, 64)\n",
      "Iters. done: 51 Current cost: 0.0735783886219751 Accuracy: 0.2286095898125532 Time: 24.989393927156925\n"
     ]
    },
    {
     "data": {
      "application/vnd.jupyter.widget-view+json": {
       "model_id": "ec601ce8aa484888999040772ce48cf6",
       "version_major": 2,
       "version_minor": 0
      },
      "text/plain": [
       "Mappings: 0it [00:00, ?it/s]"
      ]
     },
     "metadata": {},
     "output_type": "display_data"
    },
    {
     "name": "stdout",
     "output_type": "stream",
     "text": [
      "Submitted to device in 2.3034 s\n"
     ]
    },
    {
     "data": {
      "application/vnd.jupyter.widget-view+json": {
       "model_id": "1acd799b574345f991587312448f6823",
       "version_major": 2,
       "version_minor": 0
      },
      "text/plain": [
       "Running batch:   0%|          | 0/5 [00:00<?, ?it/s]"
      ]
     },
     "metadata": {},
     "output_type": "display_data"
    },
    {
     "name": "stdout",
     "output_type": "stream",
     "text": [
      "Predicted in 21.8931 s\n",
      "return (19, 64)\n",
      "Iters. done: 52 Current cost: 0.14777550995990296 Accuracy: -0.5492675686238575 Time: 24.712501384317875\n"
     ]
    },
    {
     "data": {
      "application/vnd.jupyter.widget-view+json": {
       "model_id": "5a7aa5f3313b4d3d90e14138bcbe2aa0",
       "version_major": 2,
       "version_minor": 0
      },
      "text/plain": [
       "Mappings: 0it [00:00, ?it/s]"
      ]
     },
     "metadata": {},
     "output_type": "display_data"
    },
    {
     "name": "stdout",
     "output_type": "stream",
     "text": [
      "Submitted to device in 2.4465 s\n"
     ]
    },
    {
     "data": {
      "application/vnd.jupyter.widget-view+json": {
       "model_id": "de438b46480543cfa8e8d0e0e1b81a44",
       "version_major": 2,
       "version_minor": 0
      },
      "text/plain": [
       "Running batch:   0%|          | 0/5 [00:00<?, ?it/s]"
      ]
     },
     "metadata": {},
     "output_type": "display_data"
    },
    {
     "name": "stdout",
     "output_type": "stream",
     "text": [
      "Predicted in 21.6371 s\n",
      "return (19, 64)\n",
      "Iters. done: 53 Current cost: 0.09127046784610966 Accuracy: 0.04312713354552422 Time: 24.298951636999846\n"
     ]
    },
    {
     "data": {
      "application/vnd.jupyter.widget-view+json": {
       "model_id": "6bf25394fa9343c0b29c8dda39c3bf96",
       "version_major": 2,
       "version_minor": 0
      },
      "text/plain": [
       "Mappings: 0it [00:00, ?it/s]"
      ]
     },
     "metadata": {},
     "output_type": "display_data"
    },
    {
     "name": "stdout",
     "output_type": "stream",
     "text": [
      "Submitted to device in 2.2725 s\n"
     ]
    },
    {
     "data": {
      "application/vnd.jupyter.widget-view+json": {
       "model_id": "2f943e334816491c9bdbbd10335b4186",
       "version_major": 2,
       "version_minor": 0
      },
      "text/plain": [
       "Running batch:   0%|          | 0/5 [00:00<?, ?it/s]"
      ]
     },
     "metadata": {},
     "output_type": "display_data"
    },
    {
     "name": "stdout",
     "output_type": "stream",
     "text": [
      "Predicted in 22.5583 s\n",
      "return (19, 64)\n",
      "Iters. done: 54 Current cost: 0.14281436355702845 Accuracy: -0.4972552749274668 Time: 25.054827768355608\n"
     ]
    },
    {
     "data": {
      "application/vnd.jupyter.widget-view+json": {
       "model_id": "62b0c5d567a5429594c336045771e184",
       "version_major": 2,
       "version_minor": 0
      },
      "text/plain": [
       "Mappings: 0it [00:00, ?it/s]"
      ]
     },
     "metadata": {},
     "output_type": "display_data"
    },
    {
     "name": "stdout",
     "output_type": "stream",
     "text": [
      "Submitted to device in 1.9677 s\n"
     ]
    },
    {
     "data": {
      "application/vnd.jupyter.widget-view+json": {
       "model_id": "0a9fe5f71f064d71ba72bc167e8d87aa",
       "version_major": 2,
       "version_minor": 0
      },
      "text/plain": [
       "Running batch:   0%|          | 0/5 [00:00<?, ?it/s]"
      ]
     },
     "metadata": {},
     "output_type": "display_data"
    },
    {
     "name": "stdout",
     "output_type": "stream",
     "text": [
      "Predicted in 22.7713 s\n",
      "return (19, 64)\n",
      "Iters. done: 55 Current cost: 0.05939528756882269 Accuracy: 0.37730417723184984 Time: 25.266313202679157\n"
     ]
    },
    {
     "data": {
      "application/vnd.jupyter.widget-view+json": {
       "model_id": "990c456e687e4c3f9915624d6380209c",
       "version_major": 2,
       "version_minor": 0
      },
      "text/plain": [
       "Mappings: 0it [00:00, ?it/s]"
      ]
     },
     "metadata": {},
     "output_type": "display_data"
    },
    {
     "name": "stdout",
     "output_type": "stream",
     "text": [
      "Submitted to device in 2.2301 s\n"
     ]
    },
    {
     "data": {
      "application/vnd.jupyter.widget-view+json": {
       "model_id": "22855dad1ca649dabcfec9a7e5249f27",
       "version_major": 2,
       "version_minor": 0
      },
      "text/plain": [
       "Running batch:   0%|          | 0/5 [00:00<?, ?it/s]"
      ]
     },
     "metadata": {},
     "output_type": "display_data"
    },
    {
     "name": "stdout",
     "output_type": "stream",
     "text": [
      "Predicted in 22.4808 s\n",
      "return (19, 64)\n",
      "Iters. done: 56 Current cost: 0.0650681655161189 Accuracy: 0.3178301424144958 Time: 24.930896032601595\n"
     ]
    },
    {
     "data": {
      "application/vnd.jupyter.widget-view+json": {
       "model_id": "0785fdf3aab84a7cbc5b49969b401ffd",
       "version_major": 2,
       "version_minor": 0
      },
      "text/plain": [
       "Mappings: 0it [00:00, ?it/s]"
      ]
     },
     "metadata": {},
     "output_type": "display_data"
    },
    {
     "name": "stdout",
     "output_type": "stream",
     "text": [
      "Submitted to device in 2.1092 s\n"
     ]
    },
    {
     "data": {
      "application/vnd.jupyter.widget-view+json": {
       "model_id": "05d7cc88b9664e909a255eb847644528",
       "version_major": 2,
       "version_minor": 0
      },
      "text/plain": [
       "Running batch:   0%|          | 0/5 [00:00<?, ?it/s]"
      ]
     },
     "metadata": {},
     "output_type": "display_data"
    },
    {
     "name": "stdout",
     "output_type": "stream",
     "text": [
      "Predicted in 23.5026 s\n",
      "return (19, 64)\n",
      "Iters. done: 57 Current cost: 0.058113037710294545 Accuracy: 0.39074719036189554 Time: 25.82291278243065\n"
     ]
    },
    {
     "data": {
      "application/vnd.jupyter.widget-view+json": {
       "model_id": "26d74640e87344d1b6d8a02ee8598730",
       "version_major": 2,
       "version_minor": 0
      },
      "text/plain": [
       "Mappings: 0it [00:00, ?it/s]"
      ]
     },
     "metadata": {},
     "output_type": "display_data"
    },
    {
     "name": "stdout",
     "output_type": "stream",
     "text": [
      "Submitted to device in 2.0788 s\n"
     ]
    },
    {
     "data": {
      "application/vnd.jupyter.widget-view+json": {
       "model_id": "8c77ca17b54945268cd9f2c1f077b6ea",
       "version_major": 2,
       "version_minor": 0
      },
      "text/plain": [
       "Running batch:   0%|          | 0/5 [00:00<?, ?it/s]"
      ]
     },
     "metadata": {},
     "output_type": "display_data"
    },
    {
     "name": "stdout",
     "output_type": "stream",
     "text": [
      "Predicted in 22.1686 s\n",
      "return (19, 64)\n",
      "Iters. done: 58 Current cost: 0.061240685359192075 Accuracy: 0.35795716263785393 Time: 24.461875319480896\n"
     ]
    },
    {
     "data": {
      "application/vnd.jupyter.widget-view+json": {
       "model_id": "e71d254399fd42eeb9ddad15ab16bef8",
       "version_major": 2,
       "version_minor": 0
      },
      "text/plain": [
       "Mappings: 0it [00:00, ?it/s]"
      ]
     },
     "metadata": {},
     "output_type": "display_data"
    },
    {
     "name": "stdout",
     "output_type": "stream",
     "text": [
      "Submitted to device in 2.0771 s\n"
     ]
    },
    {
     "data": {
      "application/vnd.jupyter.widget-view+json": {
       "model_id": "286bea809b0d45799fdf69e270b142b0",
       "version_major": 2,
       "version_minor": 0
      },
      "text/plain": [
       "Running batch:   0%|          | 0/5 [00:00<?, ?it/s]"
      ]
     },
     "metadata": {},
     "output_type": "display_data"
    },
    {
     "name": "stdout",
     "output_type": "stream",
     "text": [
      "Predicted in 21.4745 s\n",
      "return (19, 64)\n",
      "Iters. done: 59 Current cost: 0.0778783849116427 Accuracy: 0.18352874523558294 Time: 24.048988856375217\n"
     ]
    },
    {
     "data": {
      "application/vnd.jupyter.widget-view+json": {
       "model_id": "846ea513903d45f0bea39249f3757b1e",
       "version_major": 2,
       "version_minor": 0
      },
      "text/plain": [
       "Mappings: 0it [00:00, ?it/s]"
      ]
     },
     "metadata": {},
     "output_type": "display_data"
    },
    {
     "name": "stdout",
     "output_type": "stream",
     "text": [
      "Submitted to device in 2.3976 s\n"
     ]
    },
    {
     "data": {
      "application/vnd.jupyter.widget-view+json": {
       "model_id": "ffb787483ec5464296dad8839f5efe29",
       "version_major": 2,
       "version_minor": 0
      },
      "text/plain": [
       "Running batch:   0%|          | 0/5 [00:00<?, ?it/s]"
      ]
     },
     "metadata": {},
     "output_type": "display_data"
    },
    {
     "name": "stdout",
     "output_type": "stream",
     "text": [
      "Predicted in 21.4517 s\n",
      "return (19, 64)\n",
      "Iters. done: 60 Current cost: 0.07682965924741951 Accuracy: 0.19452350790231543 Time: 24.064519234001637\n"
     ]
    },
    {
     "data": {
      "application/vnd.jupyter.widget-view+json": {
       "model_id": "5ededa1f997d4fdaa27285a60dfce0cc",
       "version_major": 2,
       "version_minor": 0
      },
      "text/plain": [
       "Mappings: 0it [00:00, ?it/s]"
      ]
     },
     "metadata": {},
     "output_type": "display_data"
    },
    {
     "name": "stdout",
     "output_type": "stream",
     "text": [
      "Submitted to device in 1.9381 s\n"
     ]
    },
    {
     "data": {
      "application/vnd.jupyter.widget-view+json": {
       "model_id": "91f78cf39fd34e83b70e4ec519f988b0",
       "version_major": 2,
       "version_minor": 0
      },
      "text/plain": [
       "Running batch:   0%|          | 0/5 [00:00<?, ?it/s]"
      ]
     },
     "metadata": {},
     "output_type": "display_data"
    },
    {
     "name": "stdout",
     "output_type": "stream",
     "text": [
      "Predicted in 21.6475 s\n",
      "return (19, 64)\n",
      "Iters. done: 61 Current cost: 0.17762040010844596 Accuracy: -0.8621592000506435 Time: 23.804767832159996\n"
     ]
    },
    {
     "data": {
      "application/vnd.jupyter.widget-view+json": {
       "model_id": "ac9a655bd7f64c26b47f6c5a0c76c451",
       "version_major": 2,
       "version_minor": 0
      },
      "text/plain": [
       "Mappings: 0it [00:00, ?it/s]"
      ]
     },
     "metadata": {},
     "output_type": "display_data"
    },
    {
     "name": "stdout",
     "output_type": "stream",
     "text": [
      "Submitted to device in 2.2413 s\n"
     ]
    },
    {
     "data": {
      "application/vnd.jupyter.widget-view+json": {
       "model_id": "9599228001d44df4a1876ad12cbceef8",
       "version_major": 2,
       "version_minor": 0
      },
      "text/plain": [
       "Running batch:   0%|          | 0/5 [00:00<?, ?it/s]"
      ]
     },
     "metadata": {},
     "output_type": "display_data"
    },
    {
     "name": "stdout",
     "output_type": "stream",
     "text": [
      "Predicted in 22.7606 s\n",
      "return (19, 64)\n",
      "Iters. done: 62 Current cost: 0.058113037710294545 Accuracy: 0.39074719036189554 Time: 25.561276577413082\n"
     ]
    },
    {
     "data": {
      "application/vnd.jupyter.widget-view+json": {
       "model_id": "648d9b0ee4144559bca04096d75e1f20",
       "version_major": 2,
       "version_minor": 0
      },
      "text/plain": [
       "Mappings: 0it [00:00, ?it/s]"
      ]
     },
     "metadata": {},
     "output_type": "display_data"
    },
    {
     "name": "stdout",
     "output_type": "stream",
     "text": [
      "Submitted to device in 2.4638 s\n"
     ]
    },
    {
     "data": {
      "application/vnd.jupyter.widget-view+json": {
       "model_id": "9fe4a9cb42c748588497b89c25d6c8d8",
       "version_major": 2,
       "version_minor": 0
      },
      "text/plain": [
       "Running batch:   0%|          | 0/5 [00:00<?, ?it/s]"
      ]
     },
     "metadata": {},
     "output_type": "display_data"
    },
    {
     "name": "stdout",
     "output_type": "stream",
     "text": [
      "Predicted in 22.1909 s\n",
      "return (19, 64)\n",
      "Iters. done: 63 Current cost: 0.058113037710294545 Accuracy: 0.39074719036189554 Time: 24.86362361162901\n"
     ]
    },
    {
     "data": {
      "application/vnd.jupyter.widget-view+json": {
       "model_id": "bee994f3478d4c02a4d913d6d7ce7997",
       "version_major": 2,
       "version_minor": 0
      },
      "text/plain": [
       "Mappings: 0it [00:00, ?it/s]"
      ]
     },
     "metadata": {},
     "output_type": "display_data"
    },
    {
     "name": "stdout",
     "output_type": "stream",
     "text": [
      "Submitted to device in 1.8454 s\n"
     ]
    },
    {
     "data": {
      "application/vnd.jupyter.widget-view+json": {
       "model_id": "9c9f28993962458eb210023f192df2aa",
       "version_major": 2,
       "version_minor": 0
      },
      "text/plain": [
       "Running batch:   0%|          | 0/5 [00:00<?, ?it/s]"
      ]
     },
     "metadata": {},
     "output_type": "display_data"
    },
    {
     "name": "stdout",
     "output_type": "stream",
     "text": [
      "Predicted in 23.1947 s\n",
      "return (19, 64)\n",
      "Iters. done: 64 Current cost: 0.058113037710294545 Accuracy: 0.39074719036189554 Time: 25.24309628084302\n"
     ]
    },
    {
     "data": {
      "application/vnd.jupyter.widget-view+json": {
       "model_id": "4156e21df4fa4753bcf20b0edf9b6e42",
       "version_major": 2,
       "version_minor": 0
      },
      "text/plain": [
       "Mappings: 0it [00:00, ?it/s]"
      ]
     },
     "metadata": {},
     "output_type": "display_data"
    },
    {
     "name": "stdout",
     "output_type": "stream",
     "text": [
      "Submitted to device in 2.2039 s\n"
     ]
    },
    {
     "data": {
      "application/vnd.jupyter.widget-view+json": {
       "model_id": "ab662e4289d94ec68614259813bd3a2f",
       "version_major": 2,
       "version_minor": 0
      },
      "text/plain": [
       "Running batch:   0%|          | 0/5 [00:00<?, ?it/s]"
      ]
     },
     "metadata": {},
     "output_type": "display_data"
    },
    {
     "name": "stdout",
     "output_type": "stream",
     "text": [
      "Predicted in 23.0107 s\n",
      "return (19, 64)\n",
      "Iters. done: 65 Current cost: 0.06558160132423896 Accuracy: 0.31244731919631563 Time: 25.761160723865032\n"
     ]
    },
    {
     "data": {
      "application/vnd.jupyter.widget-view+json": {
       "model_id": "320b05393a37457ca70b71919a4be244",
       "version_major": 2,
       "version_minor": 0
      },
      "text/plain": [
       "Mappings: 0it [00:00, ?it/s]"
      ]
     },
     "metadata": {},
     "output_type": "display_data"
    },
    {
     "name": "stdout",
     "output_type": "stream",
     "text": [
      "Submitted to device in 2.4325 s\n"
     ]
    },
    {
     "data": {
      "application/vnd.jupyter.widget-view+json": {
       "model_id": "7c4dfd95791d43b6ae75dc425acf7a14",
       "version_major": 2,
       "version_minor": 0
      },
      "text/plain": [
       "Running batch:   0%|          | 0/5 [00:00<?, ?it/s]"
      ]
     },
     "metadata": {},
     "output_type": "display_data"
    },
    {
     "name": "stdout",
     "output_type": "stream",
     "text": [
      "Predicted in 20.9897 s\n",
      "return (19, 64)\n",
      "Iters. done: 66 Current cost: 0.06981039587895298 Accuracy: 0.2681129483674194 Time: 23.63808621838689\n"
     ]
    },
    {
     "data": {
      "application/vnd.jupyter.widget-view+json": {
       "model_id": "a08de9de4a34450f9915db80be76c150",
       "version_major": 2,
       "version_minor": 0
      },
      "text/plain": [
       "Mappings: 0it [00:00, ?it/s]"
      ]
     },
     "metadata": {},
     "output_type": "display_data"
    },
    {
     "name": "stdout",
     "output_type": "stream",
     "text": [
      "Submitted to device in 2.0272 s\n"
     ]
    },
    {
     "data": {
      "application/vnd.jupyter.widget-view+json": {
       "model_id": "6c8f6d8055e54fc0aa3133531bd60f5f",
       "version_major": 2,
       "version_minor": 0
      },
      "text/plain": [
       "Running batch:   0%|          | 0/5 [00:00<?, ?it/s]"
      ]
     },
     "metadata": {},
     "output_type": "display_data"
    },
    {
     "name": "stdout",
     "output_type": "stream",
     "text": [
      "Predicted in 22.3669 s\n",
      "return (19, 64)\n",
      "Iters. done: 67 Current cost: 0.06876734193146757 Accuracy: 0.27904824917336957 Time: 24.619318652898073\n"
     ]
    },
    {
     "data": {
      "application/vnd.jupyter.widget-view+json": {
       "model_id": "bd50060477d54badbefbf7e7e3cd0eae",
       "version_major": 2,
       "version_minor": 0
      },
      "text/plain": [
       "Mappings: 0it [00:00, ?it/s]"
      ]
     },
     "metadata": {},
     "output_type": "display_data"
    },
    {
     "name": "stdout",
     "output_type": "stream",
     "text": [
      "Submitted to device in 2.0636 s\n"
     ]
    },
    {
     "data": {
      "application/vnd.jupyter.widget-view+json": {
       "model_id": "27c659e980e640dab879e3c1ca47f9e4",
       "version_major": 2,
       "version_minor": 0
      },
      "text/plain": [
       "Running batch:   0%|          | 0/5 [00:00<?, ?it/s]"
      ]
     },
     "metadata": {},
     "output_type": "display_data"
    },
    {
     "name": "stdout",
     "output_type": "stream",
     "text": [
      "Predicted in 21.4142 s\n",
      "return (19, 64)\n",
      "Iters. done: 68 Current cost: 0.06463878647373036 Accuracy: 0.3223317206881884 Time: 23.685961972922087\n"
     ]
    },
    {
     "data": {
      "application/vnd.jupyter.widget-view+json": {
       "model_id": "eeb4973974c344e0aac2f1bf87ca0aa4",
       "version_major": 2,
       "version_minor": 0
      },
      "text/plain": [
       "Mappings: 0it [00:00, ?it/s]"
      ]
     },
     "metadata": {},
     "output_type": "display_data"
    },
    {
     "name": "stdout",
     "output_type": "stream",
     "text": [
      "Submitted to device in 2.4203 s\n"
     ]
    },
    {
     "data": {
      "application/vnd.jupyter.widget-view+json": {
       "model_id": "8f0e3fbf87ec4794896856a167fff334",
       "version_major": 2,
       "version_minor": 0
      },
      "text/plain": [
       "Running batch:   0%|          | 0/5 [00:00<?, ?it/s]"
      ]
     },
     "metadata": {},
     "output_type": "display_data"
    },
    {
     "name": "stdout",
     "output_type": "stream",
     "text": [
      "Predicted in 22.2094 s\n",
      "return (19, 64)\n",
      "Iters. done: 69 Current cost: 0.08527817943787945 Accuracy: 0.10594984412341868 Time: 24.85337444394827\n"
     ]
    },
    {
     "data": {
      "application/vnd.jupyter.widget-view+json": {
       "model_id": "d1bd49496bab4dc7b98ead4b11d17cd8",
       "version_major": 2,
       "version_minor": 0
      },
      "text/plain": [
       "Mappings: 0it [00:00, ?it/s]"
      ]
     },
     "metadata": {},
     "output_type": "display_data"
    },
    {
     "name": "stdout",
     "output_type": "stream",
     "text": [
      "Submitted to device in 2.0744 s\n"
     ]
    },
    {
     "data": {
      "application/vnd.jupyter.widget-view+json": {
       "model_id": "876644640a2b4d9c95fe5194fb80f285",
       "version_major": 2,
       "version_minor": 0
      },
      "text/plain": [
       "Running batch:   0%|          | 0/5 [00:00<?, ?it/s]"
      ]
     },
     "metadata": {},
     "output_type": "display_data"
    },
    {
     "name": "stdout",
     "output_type": "stream",
     "text": [
      "Predicted in 22.4279 s\n",
      "return (19, 64)\n",
      "Iters. done: 70 Current cost: 0.13190383604887143 Accuracy: -0.382870107658867 Time: 24.75479943677783\n"
     ]
    },
    {
     "data": {
      "application/vnd.jupyter.widget-view+json": {
       "model_id": "5559b9c3d7c348a8ad9a93dc52e11837",
       "version_major": 2,
       "version_minor": 0
      },
      "text/plain": [
       "Mappings: 0it [00:00, ?it/s]"
      ]
     },
     "metadata": {},
     "output_type": "display_data"
    },
    {
     "name": "stdout",
     "output_type": "stream",
     "text": [
      "Submitted to device in 1.9649 s\n"
     ]
    },
    {
     "data": {
      "application/vnd.jupyter.widget-view+json": {
       "model_id": "9e8a980e705b41e4abd33f2f02932ab5",
       "version_major": 2,
       "version_minor": 0
      },
      "text/plain": [
       "Running batch:   0%|          | 0/5 [00:00<?, ?it/s]"
      ]
     },
     "metadata": {},
     "output_type": "display_data"
    },
    {
     "name": "stdout",
     "output_type": "stream",
     "text": [
      "Predicted in 22.5494 s\n",
      "return (19, 64)\n",
      "Iters. done: 71 Current cost: 0.09619425692061108 Accuracy: -0.008493508670086136 Time: 24.71888104453683\n"
     ]
    },
    {
     "data": {
      "application/vnd.jupyter.widget-view+json": {
       "model_id": "7179ddf3f2694af494457f8b608a0a3c",
       "version_major": 2,
       "version_minor": 0
      },
      "text/plain": [
       "Mappings: 0it [00:00, ?it/s]"
      ]
     },
     "metadata": {},
     "output_type": "display_data"
    },
    {
     "name": "stdout",
     "output_type": "stream",
     "text": [
      "Submitted to device in 2.1712 s\n"
     ]
    },
    {
     "data": {
      "application/vnd.jupyter.widget-view+json": {
       "model_id": "3787289fe739409e8868e9bd1c1cc136",
       "version_major": 2,
       "version_minor": 0
      },
      "text/plain": [
       "Running batch:   0%|          | 0/5 [00:00<?, ?it/s]"
      ]
     },
     "metadata": {},
     "output_type": "display_data"
    },
    {
     "name": "stdout",
     "output_type": "stream",
     "text": [
      "Predicted in 22.2217 s\n",
      "return (19, 64)\n",
      "Iters. done: 72 Current cost: 0.0722156238098423 Accuracy: 0.24289671578946248 Time: 24.91504404321313\n"
     ]
    },
    {
     "data": {
      "application/vnd.jupyter.widget-view+json": {
       "model_id": "9e42e93b0afd47f28ea9d4f2c370c563",
       "version_major": 2,
       "version_minor": 0
      },
      "text/plain": [
       "Mappings: 0it [00:00, ?it/s]"
      ]
     },
     "metadata": {},
     "output_type": "display_data"
    },
    {
     "name": "stdout",
     "output_type": "stream",
     "text": [
      "Submitted to device in 2.0873 s\n"
     ]
    },
    {
     "data": {
      "application/vnd.jupyter.widget-view+json": {
       "model_id": "52f28a689e054a0b851dd264d6bb790b",
       "version_major": 2,
       "version_minor": 0
      },
      "text/plain": [
       "Running batch:   0%|          | 0/5 [00:00<?, ?it/s]"
      ]
     },
     "metadata": {},
     "output_type": "display_data"
    },
    {
     "name": "stdout",
     "output_type": "stream",
     "text": [
      "Predicted in 21.6820 s\n",
      "return (19, 64)\n",
      "Iters. done: 73 Current cost: 0.107397538722164 Accuracy: -0.1259478904009248 Time: 23.992384556680918\n"
     ]
    },
    {
     "data": {
      "application/vnd.jupyter.widget-view+json": {
       "model_id": "d8ccb04c42784081946577bb78fecc3b",
       "version_major": 2,
       "version_minor": 0
      },
      "text/plain": [
       "Mappings: 0it [00:00, ?it/s]"
      ]
     },
     "metadata": {},
     "output_type": "display_data"
    },
    {
     "name": "stdout",
     "output_type": "stream",
     "text": [
      "Submitted to device in 2.0888 s\n"
     ]
    },
    {
     "data": {
      "application/vnd.jupyter.widget-view+json": {
       "model_id": "1671fbe9e1cb40358f288f90edc72849",
       "version_major": 2,
       "version_minor": 0
      },
      "text/plain": [
       "Running batch:   0%|          | 0/5 [00:00<?, ?it/s]"
      ]
     },
     "metadata": {},
     "output_type": "display_data"
    },
    {
     "name": "stdout",
     "output_type": "stream",
     "text": [
      "Predicted in 22.5006 s\n",
      "return (19, 64)\n",
      "Iters. done: 74 Current cost: 0.07264105742079892 Accuracy: 0.23843650112847792 Time: 24.79595847800374\n"
     ]
    },
    {
     "data": {
      "application/vnd.jupyter.widget-view+json": {
       "model_id": "326d4cbaf8a247959016c5f2d8faef70",
       "version_major": 2,
       "version_minor": 0
      },
      "text/plain": [
       "Mappings: 0it [00:00, ?it/s]"
      ]
     },
     "metadata": {},
     "output_type": "display_data"
    },
    {
     "name": "stdout",
     "output_type": "stream",
     "text": [
      "Submitted to device in 2.1654 s\n"
     ]
    },
    {
     "data": {
      "application/vnd.jupyter.widget-view+json": {
       "model_id": "f34512a9b0404a5db8453cea57043e2b",
       "version_major": 2,
       "version_minor": 0
      },
      "text/plain": [
       "Running batch:   0%|          | 0/5 [00:00<?, ?it/s]"
      ]
     },
     "metadata": {},
     "output_type": "display_data"
    },
    {
     "name": "stdout",
     "output_type": "stream",
     "text": [
      "Predicted in 22.2899 s\n",
      "return (19, 64)\n",
      "Iters. done: 75 Current cost: 0.06660629179733717 Accuracy: 0.3017045397041004 Time: 24.93720967695117\n"
     ]
    },
    {
     "data": {
      "application/vnd.jupyter.widget-view+json": {
       "model_id": "eaae1367427a422f8d4e92fc8c7ab799",
       "version_major": 2,
       "version_minor": 0
      },
      "text/plain": [
       "Mappings: 0it [00:00, ?it/s]"
      ]
     },
     "metadata": {},
     "output_type": "display_data"
    },
    {
     "name": "stdout",
     "output_type": "stream",
     "text": [
      "Submitted to device in 2.7028 s\n"
     ]
    },
    {
     "data": {
      "application/vnd.jupyter.widget-view+json": {
       "model_id": "31a5ffbb2ebe43d797599bc874e73c9d",
       "version_major": 2,
       "version_minor": 0
      },
      "text/plain": [
       "Running batch:   0%|          | 0/5 [00:00<?, ?it/s]"
      ]
     },
     "metadata": {},
     "output_type": "display_data"
    },
    {
     "name": "stdout",
     "output_type": "stream",
     "text": [
      "Predicted in 21.1297 s\n",
      "return (19, 64)\n",
      "Iters. done: 76 Current cost: 0.16273080924280592 Accuracy: -0.7060578254421355 Time: 24.05494251102209\n"
     ]
    },
    {
     "data": {
      "application/vnd.jupyter.widget-view+json": {
       "model_id": "b95040177a704cbb97a633a6f7b471ba",
       "version_major": 2,
       "version_minor": 0
      },
      "text/plain": [
       "Mappings: 0it [00:00, ?it/s]"
      ]
     },
     "metadata": {},
     "output_type": "display_data"
    },
    {
     "name": "stdout",
     "output_type": "stream",
     "text": [
      "Submitted to device in 2.0473 s\n"
     ]
    },
    {
     "data": {
      "application/vnd.jupyter.widget-view+json": {
       "model_id": "a4e8397d553a4a3e9498fd7db9b6b0d6",
       "version_major": 2,
       "version_minor": 0
      },
      "text/plain": [
       "Running batch:   0%|          | 0/5 [00:00<?, ?it/s]"
      ]
     },
     "metadata": {},
     "output_type": "display_data"
    },
    {
     "name": "stdout",
     "output_type": "stream",
     "text": [
      "Predicted in 22.4661 s\n",
      "return (19, 64)\n",
      "Iters. done: 77 Current cost: 0.0874682341659659 Accuracy: 0.08298947156468883 Time: 24.774917501956224\n"
     ]
    },
    {
     "data": {
      "application/vnd.jupyter.widget-view+json": {
       "model_id": "c1ac2f32b2394b3bbb04807195bb2316",
       "version_major": 2,
       "version_minor": 0
      },
      "text/plain": [
       "Mappings: 0it [00:00, ?it/s]"
      ]
     },
     "metadata": {},
     "output_type": "display_data"
    },
    {
     "name": "stdout",
     "output_type": "stream",
     "text": [
      "Submitted to device in 2.3989 s\n"
     ]
    },
    {
     "data": {
      "application/vnd.jupyter.widget-view+json": {
       "model_id": "71ad0e7f45704e86b7fd4725f556ea8e",
       "version_major": 2,
       "version_minor": 0
      },
      "text/plain": [
       "Running batch:   0%|          | 0/5 [00:00<?, ?it/s]"
      ]
     },
     "metadata": {},
     "output_type": "display_data"
    },
    {
     "name": "stdout",
     "output_type": "stream",
     "text": [
      "Predicted in 22.4535 s\n",
      "return (19, 64)\n",
      "Iters. done: 78 Current cost: 0.056615845117116745 Accuracy: 0.4064436473000147 Time: 25.40250962972641\n"
     ]
    },
    {
     "data": {
      "application/vnd.jupyter.widget-view+json": {
       "model_id": "7ddc92d0d9c24413b86b929be8fccea4",
       "version_major": 2,
       "version_minor": 0
      },
      "text/plain": [
       "Mappings: 0it [00:00, ?it/s]"
      ]
     },
     "metadata": {},
     "output_type": "display_data"
    },
    {
     "name": "stdout",
     "output_type": "stream",
     "text": [
      "Submitted to device in 2.1121 s\n"
     ]
    },
    {
     "data": {
      "application/vnd.jupyter.widget-view+json": {
       "model_id": "12c179228acd4e8bb479966fda8975df",
       "version_major": 2,
       "version_minor": 0
      },
      "text/plain": [
       "Running batch:   0%|          | 0/5 [00:00<?, ?it/s]"
      ]
     },
     "metadata": {},
     "output_type": "display_data"
    },
    {
     "name": "stdout",
     "output_type": "stream",
     "text": [
      "Predicted in 21.9399 s\n",
      "return (19, 64)\n",
      "Iters. done: 79 Current cost: 0.07241514093805285 Accuracy: 0.24080499290381363 Time: 24.248777080327272\n"
     ]
    },
    {
     "data": {
      "application/vnd.jupyter.widget-view+json": {
       "model_id": "eabf369384a34d09a797d551458427a0",
       "version_major": 2,
       "version_minor": 0
      },
      "text/plain": [
       "Mappings: 0it [00:00, ?it/s]"
      ]
     },
     "metadata": {},
     "output_type": "display_data"
    },
    {
     "name": "stdout",
     "output_type": "stream",
     "text": [
      "Submitted to device in 2.0605 s\n"
     ]
    },
    {
     "data": {
      "application/vnd.jupyter.widget-view+json": {
       "model_id": "3c0745569376459096694d1ef34f786a",
       "version_major": 2,
       "version_minor": 0
      },
      "text/plain": [
       "Running batch:   0%|          | 0/5 [00:00<?, ?it/s]"
      ]
     },
     "metadata": {},
     "output_type": "display_data"
    },
    {
     "name": "stdout",
     "output_type": "stream",
     "text": [
      "Predicted in 22.4891 s\n",
      "return (19, 64)\n",
      "Iters. done: 80 Current cost: 0.056211412211048466 Accuracy: 0.41068369211681754 Time: 24.75147196277976\n"
     ]
    },
    {
     "data": {
      "application/vnd.jupyter.widget-view+json": {
       "model_id": "94c185b2e863409aa671d7653da42c53",
       "version_major": 2,
       "version_minor": 0
      },
      "text/plain": [
       "Mappings: 0it [00:00, ?it/s]"
      ]
     },
     "metadata": {},
     "output_type": "display_data"
    },
    {
     "name": "stdout",
     "output_type": "stream",
     "text": [
      "Submitted to device in 2.1114 s\n"
     ]
    },
    {
     "data": {
      "application/vnd.jupyter.widget-view+json": {
       "model_id": "df4bfeb7230f48ceaa22443375e573cb",
       "version_major": 2,
       "version_minor": 0
      },
      "text/plain": [
       "Running batch:   0%|          | 0/5 [00:00<?, ?it/s]"
      ]
     },
     "metadata": {},
     "output_type": "display_data"
    },
    {
     "name": "stdout",
     "output_type": "stream",
     "text": [
      "Predicted in 21.5951 s\n",
      "return (19, 64)\n",
      "Iters. done: 81 Current cost: 0.06663267412139823 Accuracy: 0.3014279493606544 Time: 24.223081938922405\n"
     ]
    },
    {
     "data": {
      "application/vnd.jupyter.widget-view+json": {
       "model_id": "2de25b6bf12c4ebcb837f9756f984435",
       "version_major": 2,
       "version_minor": 0
      },
      "text/plain": [
       "Mappings: 0it [00:00, ?it/s]"
      ]
     },
     "metadata": {},
     "output_type": "display_data"
    },
    {
     "name": "stdout",
     "output_type": "stream",
     "text": [
      "Submitted to device in 2.5734 s\n"
     ]
    },
    {
     "data": {
      "application/vnd.jupyter.widget-view+json": {
       "model_id": "24194e46571c4cfd8ecbb56ba1dff2fd",
       "version_major": 2,
       "version_minor": 0
      },
      "text/plain": [
       "Running batch:   0%|          | 0/5 [00:00<?, ?it/s]"
      ]
     },
     "metadata": {},
     "output_type": "display_data"
    },
    {
     "name": "stdout",
     "output_type": "stream",
     "text": [
      "Predicted in 22.2091 s\n",
      "return (19, 64)\n",
      "Iters. done: 82 Current cost: 0.05625859276317756 Accuracy: 0.41018905468126954 Time: 24.982927922159433\n"
     ]
    },
    {
     "data": {
      "application/vnd.jupyter.widget-view+json": {
       "model_id": "364a66469ccd47c6b2be9985cfdcef33",
       "version_major": 2,
       "version_minor": 0
      },
      "text/plain": [
       "Mappings: 0it [00:00, ?it/s]"
      ]
     },
     "metadata": {},
     "output_type": "display_data"
    },
    {
     "name": "stdout",
     "output_type": "stream",
     "text": [
      "Submitted to device in 2.2012 s\n"
     ]
    },
    {
     "data": {
      "application/vnd.jupyter.widget-view+json": {
       "model_id": "6a94d201c3164083a0a8cf5d0c966329",
       "version_major": 2,
       "version_minor": 0
      },
      "text/plain": [
       "Running batch:   0%|          | 0/5 [00:00<?, ?it/s]"
      ]
     },
     "metadata": {},
     "output_type": "display_data"
    },
    {
     "name": "stdout",
     "output_type": "stream",
     "text": [
      "Predicted in 21.4216 s\n",
      "return (19, 64)\n",
      "Iters. done: 83 Current cost: 0.09499915247843772 Accuracy: 0.004035878329693987 Time: 23.822871077805758\n"
     ]
    },
    {
     "data": {
      "application/vnd.jupyter.widget-view+json": {
       "model_id": "fb90ab98448e43319023c398bedb95af",
       "version_major": 2,
       "version_minor": 0
      },
      "text/plain": [
       "Mappings: 0it [00:00, ?it/s]"
      ]
     },
     "metadata": {},
     "output_type": "display_data"
    },
    {
     "name": "stdout",
     "output_type": "stream",
     "text": [
      "Submitted to device in 2.0278 s\n"
     ]
    },
    {
     "data": {
      "application/vnd.jupyter.widget-view+json": {
       "model_id": "03d5686cb4ee4bf296d754650e6d2cb7",
       "version_major": 2,
       "version_minor": 0
      },
      "text/plain": [
       "Running batch:   0%|          | 0/5 [00:00<?, ?it/s]"
      ]
     },
     "metadata": {},
     "output_type": "display_data"
    },
    {
     "name": "stdout",
     "output_type": "stream",
     "text": [
      "Predicted in 20.9800 s\n",
      "return (19, 64)\n",
      "Iters. done: 84 Current cost: 0.05674928219028913 Accuracy: 0.40504470284721494 Time: 23.228084199130535\n"
     ]
    },
    {
     "data": {
      "application/vnd.jupyter.widget-view+json": {
       "model_id": "26ea869524d04e33ba5a32928b2e1bd0",
       "version_major": 2,
       "version_minor": 0
      },
      "text/plain": [
       "Mappings: 0it [00:00, ?it/s]"
      ]
     },
     "metadata": {},
     "output_type": "display_data"
    },
    {
     "name": "stdout",
     "output_type": "stream",
     "text": [
      "Submitted to device in 2.3652 s\n"
     ]
    },
    {
     "data": {
      "application/vnd.jupyter.widget-view+json": {
       "model_id": "f6b156845b384155a04f975dc8a043ad",
       "version_major": 2,
       "version_minor": 0
      },
      "text/plain": [
       "Running batch:   0%|          | 0/5 [00:00<?, ?it/s]"
      ]
     },
     "metadata": {},
     "output_type": "display_data"
    },
    {
     "name": "stdout",
     "output_type": "stream",
     "text": [
      "Predicted in 19.3925 s\n",
      "return (19, 64)\n",
      "Iters. done: 85 Current cost: 0.06269195152332283 Accuracy: 0.34274219500120695 Time: 21.959207993000746\n"
     ]
    },
    {
     "data": {
      "application/vnd.jupyter.widget-view+json": {
       "model_id": "ed4d1222dbf34ec6a7b08a7ae7c9dfb8",
       "version_major": 2,
       "version_minor": 0
      },
      "text/plain": [
       "Mappings: 0it [00:00, ?it/s]"
      ]
     },
     "metadata": {},
     "output_type": "display_data"
    },
    {
     "name": "stdout",
     "output_type": "stream",
     "text": [
      "Submitted to device in 2.1015 s\n"
     ]
    },
    {
     "data": {
      "application/vnd.jupyter.widget-view+json": {
       "model_id": "ecc71c1aaa604915a51efa921e2fbb63",
       "version_major": 2,
       "version_minor": 0
      },
      "text/plain": [
       "Running batch:   0%|          | 0/5 [00:00<?, ?it/s]"
      ]
     },
     "metadata": {},
     "output_type": "display_data"
    },
    {
     "name": "stdout",
     "output_type": "stream",
     "text": [
      "Predicted in 21.1384 s\n",
      "return (19, 64)\n",
      "Iters. done: 86 Current cost: 0.056003870416842766 Accuracy: 0.41285954501006183 Time: 23.44502967968583\n"
     ]
    },
    {
     "data": {
      "application/vnd.jupyter.widget-view+json": {
       "model_id": "b80db12a768b4a4a8be9d97eeb87e081",
       "version_major": 2,
       "version_minor": 0
      },
      "text/plain": [
       "Mappings: 0it [00:00, ?it/s]"
      ]
     },
     "metadata": {},
     "output_type": "display_data"
    },
    {
     "name": "stdout",
     "output_type": "stream",
     "text": [
      "Submitted to device in 2.0516 s\n"
     ]
    },
    {
     "data": {
      "application/vnd.jupyter.widget-view+json": {
       "model_id": "da8be02280a44f59b820ab38fcafccfc",
       "version_major": 2,
       "version_minor": 0
      },
      "text/plain": [
       "Running batch:   0%|          | 0/5 [00:00<?, ?it/s]"
      ]
     },
     "metadata": {},
     "output_type": "display_data"
    },
    {
     "name": "stdout",
     "output_type": "stream",
     "text": [
      "Predicted in 21.0133 s\n",
      "return (19, 64)\n",
      "Iters. done: 87 Current cost: 0.05881640691547688 Accuracy: 0.38337311938996377 Time: 23.26373467221856\n"
     ]
    },
    {
     "data": {
      "application/vnd.jupyter.widget-view+json": {
       "model_id": "c233de0748984cd1b5201bff994b585a",
       "version_major": 2,
       "version_minor": 0
      },
      "text/plain": [
       "Mappings: 0it [00:00, ?it/s]"
      ]
     },
     "metadata": {},
     "output_type": "display_data"
    },
    {
     "name": "stdout",
     "output_type": "stream",
     "text": [
      "Submitted to device in 2.1584 s\n"
     ]
    },
    {
     "data": {
      "application/vnd.jupyter.widget-view+json": {
       "model_id": "a17202bb34b34e59871576d06397b0d0",
       "version_major": 2,
       "version_minor": 0
      },
      "text/plain": [
       "Running batch:   0%|          | 0/5 [00:00<?, ?it/s]"
      ]
     },
     "metadata": {},
     "output_type": "display_data"
    },
    {
     "name": "stdout",
     "output_type": "stream",
     "text": [
      "Predicted in 21.0451 s\n",
      "return (19, 64)\n",
      "Iters. done: 88 Current cost: 0.061204781423512176 Accuracy: 0.3583335768566235 Time: 23.7548895329237\n"
     ]
    },
    {
     "data": {
      "application/vnd.jupyter.widget-view+json": {
       "model_id": "dc70ab2963714181ad395d492d827d82",
       "version_major": 2,
       "version_minor": 0
      },
      "text/plain": [
       "Mappings: 0it [00:00, ?it/s]"
      ]
     },
     "metadata": {},
     "output_type": "display_data"
    },
    {
     "name": "stdout",
     "output_type": "stream",
     "text": [
      "Submitted to device in 2.0715 s\n"
     ]
    },
    {
     "data": {
      "application/vnd.jupyter.widget-view+json": {
       "model_id": "dc2e0cc929234d3fa4bb32b2d77142f3",
       "version_major": 2,
       "version_minor": 0
      },
      "text/plain": [
       "Running batch:   0%|          | 0/5 [00:00<?, ?it/s]"
      ]
     },
     "metadata": {},
     "output_type": "display_data"
    },
    {
     "name": "stdout",
     "output_type": "stream",
     "text": [
      "Predicted in 20.9852 s\n",
      "return (19, 64)\n",
      "Iters. done: 89 Current cost: 0.07232667619153661 Accuracy: 0.24173245079437555 Time: 23.283276092261076\n"
     ]
    },
    {
     "data": {
      "application/vnd.jupyter.widget-view+json": {
       "model_id": "5e81e3cdd4c6475daa2ace19ca35d5d8",
       "version_major": 2,
       "version_minor": 0
      },
      "text/plain": [
       "Mappings: 0it [00:00, ?it/s]"
      ]
     },
     "metadata": {},
     "output_type": "display_data"
    },
    {
     "name": "stdout",
     "output_type": "stream",
     "text": [
      "Submitted to device in 2.0844 s\n"
     ]
    },
    {
     "data": {
      "application/vnd.jupyter.widget-view+json": {
       "model_id": "6fd0dbc2a783449ba850778e57750d7f",
       "version_major": 2,
       "version_minor": 0
      },
      "text/plain": [
       "Running batch:   0%|          | 0/5 [00:00<?, ?it/s]"
      ]
     },
     "metadata": {},
     "output_type": "display_data"
    },
    {
     "name": "stdout",
     "output_type": "stream",
     "text": [
      "Predicted in 20.3543 s\n",
      "return (19, 64)\n",
      "Iters. done: 90 Current cost: 0.05355291944456134 Accuracy: 0.4385551345882879 Time: 22.619495663791895\n"
     ]
    },
    {
     "data": {
      "application/vnd.jupyter.widget-view+json": {
       "model_id": "50a560c0a1084c128acb466261bcee03",
       "version_major": 2,
       "version_minor": 0
      },
      "text/plain": [
       "Mappings: 0it [00:00, ?it/s]"
      ]
     },
     "metadata": {},
     "output_type": "display_data"
    },
    {
     "name": "stdout",
     "output_type": "stream",
     "text": [
      "Submitted to device in 1.9675 s\n"
     ]
    },
    {
     "data": {
      "application/vnd.jupyter.widget-view+json": {
       "model_id": "0dc0365f1a0c4588b46383796f6dda4d",
       "version_major": 2,
       "version_minor": 0
      },
      "text/plain": [
       "Running batch:   0%|          | 0/5 [00:00<?, ?it/s]"
      ]
     },
     "metadata": {},
     "output_type": "display_data"
    },
    {
     "name": "stdout",
     "output_type": "stream",
     "text": [
      "Predicted in 22.3743 s\n",
      "return (19, 64)\n",
      "Iters. done: 91 Current cost: 0.09881639134273193 Accuracy: -0.03598377293556809 Time: 24.85834528133273\n"
     ]
    },
    {
     "data": {
      "application/vnd.jupyter.widget-view+json": {
       "model_id": "78044c8199b045a1b4f2ec9576773b01",
       "version_major": 2,
       "version_minor": 0
      },
      "text/plain": [
       "Mappings: 0it [00:00, ?it/s]"
      ]
     },
     "metadata": {},
     "output_type": "display_data"
    },
    {
     "name": "stdout",
     "output_type": "stream",
     "text": [
      "Submitted to device in 2.3846 s\n"
     ]
    },
    {
     "data": {
      "application/vnd.jupyter.widget-view+json": {
       "model_id": "c217f572ccf9414388a45f069c665a29",
       "version_major": 2,
       "version_minor": 0
      },
      "text/plain": [
       "Running batch:   0%|          | 0/5 [00:00<?, ?it/s]"
      ]
     },
     "metadata": {},
     "output_type": "display_data"
    },
    {
     "name": "stdout",
     "output_type": "stream",
     "text": [
      "Predicted in 22.4633 s\n",
      "return (19, 64)\n",
      "Iters. done: 92 Current cost: 0.06171573234679442 Accuracy: 0.35297680498816986 Time: 25.05440003424883\n"
     ]
    },
    {
     "data": {
      "application/vnd.jupyter.widget-view+json": {
       "model_id": "e2182b0358bc4e0d929519e7f450973c",
       "version_major": 2,
       "version_minor": 0
      },
      "text/plain": [
       "Mappings: 0it [00:00, ?it/s]"
      ]
     },
     "metadata": {},
     "output_type": "display_data"
    },
    {
     "name": "stdout",
     "output_type": "stream",
     "text": [
      "Submitted to device in 1.8624 s\n"
     ]
    },
    {
     "data": {
      "application/vnd.jupyter.widget-view+json": {
       "model_id": "76b15ce61f664cca8a5e94abd779fd38",
       "version_major": 2,
       "version_minor": 0
      },
      "text/plain": [
       "Running batch:   0%|          | 0/5 [00:00<?, ?it/s]"
      ]
     },
     "metadata": {},
     "output_type": "display_data"
    },
    {
     "name": "stdout",
     "output_type": "stream",
     "text": [
      "Predicted in 21.0404 s\n",
      "return (19, 64)\n",
      "Iters. done: 93 Current cost: 0.05327249827568458 Accuracy: 0.4414950494809128 Time: 23.118586122989655\n"
     ]
    },
    {
     "data": {
      "application/vnd.jupyter.widget-view+json": {
       "model_id": "d9f83dbba4474884bcfeb57373fe628d",
       "version_major": 2,
       "version_minor": 0
      },
      "text/plain": [
       "Mappings: 0it [00:00, ?it/s]"
      ]
     },
     "metadata": {},
     "output_type": "display_data"
    },
    {
     "name": "stdout",
     "output_type": "stream",
     "text": [
      "Submitted to device in 2.1775 s\n"
     ]
    },
    {
     "data": {
      "application/vnd.jupyter.widget-view+json": {
       "model_id": "f6ebd2801f4b4b2ca257597edd61ff83",
       "version_major": 2,
       "version_minor": 0
      },
      "text/plain": [
       "Running batch:   0%|          | 0/5 [00:00<?, ?it/s]"
      ]
     },
     "metadata": {},
     "output_type": "display_data"
    },
    {
     "name": "stdout",
     "output_type": "stream",
     "text": [
      "Predicted in 22.4283 s\n",
      "return (19, 64)\n",
      "Iters. done: 94 Current cost: 0.0628397746777116 Accuracy: 0.34119242793189797 Time: 25.234270829707384\n"
     ]
    },
    {
     "data": {
      "application/vnd.jupyter.widget-view+json": {
       "model_id": "298b09e8e72a4469bf49ee10f20bb906",
       "version_major": 2,
       "version_minor": 0
      },
      "text/plain": [
       "Mappings: 0it [00:00, ?it/s]"
      ]
     },
     "metadata": {},
     "output_type": "display_data"
    },
    {
     "name": "stdout",
     "output_type": "stream",
     "text": [
      "Submitted to device in 2.5376 s\n"
     ]
    },
    {
     "data": {
      "application/vnd.jupyter.widget-view+json": {
       "model_id": "daec896547a04f0b85a6397c20acac21",
       "version_major": 2,
       "version_minor": 0
      },
      "text/plain": [
       "Running batch:   0%|          | 0/5 [00:00<?, ?it/s]"
      ]
     },
     "metadata": {},
     "output_type": "display_data"
    },
    {
     "name": "stdout",
     "output_type": "stream",
     "text": [
      "Predicted in 22.1892 s\n",
      "return (19, 64)\n",
      "Iters. done: 95 Current cost: 0.09052825465294187 Accuracy: 0.05090844202817901 Time: 24.929158490151167\n"
     ]
    },
    {
     "data": {
      "application/vnd.jupyter.widget-view+json": {
       "model_id": "9b89644a53824819892fb46ef4725c7c",
       "version_major": 2,
       "version_minor": 0
      },
      "text/plain": [
       "Mappings: 0it [00:00, ?it/s]"
      ]
     },
     "metadata": {},
     "output_type": "display_data"
    },
    {
     "name": "stdout",
     "output_type": "stream",
     "text": [
      "Submitted to device in 2.2799 s\n"
     ]
    },
    {
     "data": {
      "application/vnd.jupyter.widget-view+json": {
       "model_id": "27e7d60a06754133983a09eff3651017",
       "version_major": 2,
       "version_minor": 0
      },
      "text/plain": [
       "Running batch:   0%|          | 0/5 [00:00<?, ?it/s]"
      ]
     },
     "metadata": {},
     "output_type": "display_data"
    },
    {
     "name": "stdout",
     "output_type": "stream",
     "text": [
      "Predicted in 21.2987 s\n",
      "return (19, 64)\n",
      "Iters. done: 96 Current cost: 0.055452827701859095 Accuracy: 0.41863663627154535 Time: 23.78547567129135\n"
     ]
    },
    {
     "data": {
      "application/vnd.jupyter.widget-view+json": {
       "model_id": "44250b2f68844d6790b841e448bdf2d5",
       "version_major": 2,
       "version_minor": 0
      },
      "text/plain": [
       "Mappings: 0it [00:00, ?it/s]"
      ]
     },
     "metadata": {},
     "output_type": "display_data"
    },
    {
     "name": "stdout",
     "output_type": "stream",
     "text": [
      "Submitted to device in 2.1513 s\n"
     ]
    },
    {
     "data": {
      "application/vnd.jupyter.widget-view+json": {
       "model_id": "b74f322e6a1c4965a46fec5ec7ed120f",
       "version_major": 2,
       "version_minor": 0
      },
      "text/plain": [
       "Running batch:   0%|          | 0/5 [00:00<?, ?it/s]"
      ]
     },
     "metadata": {},
     "output_type": "display_data"
    },
    {
     "name": "stdout",
     "output_type": "stream",
     "text": [
      "Predicted in 20.3034 s\n",
      "return (19, 64)\n",
      "Iters. done: 97 Current cost: 0.09633361740215016 Accuracy: -0.009954553700178614 Time: 23.050195835530758\n"
     ]
    },
    {
     "data": {
      "application/vnd.jupyter.widget-view+json": {
       "model_id": "79cbfc7ef13d4949915480d2779cf641",
       "version_major": 2,
       "version_minor": 0
      },
      "text/plain": [
       "Mappings: 0it [00:00, ?it/s]"
      ]
     },
     "metadata": {},
     "output_type": "display_data"
    },
    {
     "name": "stdout",
     "output_type": "stream",
     "text": [
      "Submitted to device in 2.0997 s\n"
     ]
    },
    {
     "data": {
      "application/vnd.jupyter.widget-view+json": {
       "model_id": "5d97989cf7f6476a9fd27ac7919dcd12",
       "version_major": 2,
       "version_minor": 0
      },
      "text/plain": [
       "Running batch:   0%|          | 0/5 [00:00<?, ?it/s]"
      ]
     },
     "metadata": {},
     "output_type": "display_data"
    },
    {
     "name": "stdout",
     "output_type": "stream",
     "text": [
      "Predicted in 21.7585 s\n",
      "return (19, 64)\n",
      "Iters. done: 98 Current cost: 0.0502274876177636 Accuracy: 0.4734187170744878 Time: 24.09722639992833\n"
     ]
    },
    {
     "data": {
      "application/vnd.jupyter.widget-view+json": {
       "model_id": "55b22dda5d444f1c8defaeb89cb56ed4",
       "version_major": 2,
       "version_minor": 0
      },
      "text/plain": [
       "Mappings: 0it [00:00, ?it/s]"
      ]
     },
     "metadata": {},
     "output_type": "display_data"
    },
    {
     "name": "stdout",
     "output_type": "stream",
     "text": [
      "Submitted to device in 2.3992 s\n"
     ]
    },
    {
     "data": {
      "application/vnd.jupyter.widget-view+json": {
       "model_id": "97fae79beeb5404fafa2fbf2d6914492",
       "version_major": 2,
       "version_minor": 0
      },
      "text/plain": [
       "Running batch:   0%|          | 0/5 [00:00<?, ?it/s]"
      ]
     },
     "metadata": {},
     "output_type": "display_data"
    },
    {
     "name": "stdout",
     "output_type": "stream",
     "text": [
      "Predicted in 21.3938 s\n",
      "return (19, 64)\n",
      "Iters. done: 99 Current cost: 0.04707305141977167 Accuracy: 0.5064895939753226 Time: 24.066180162131786\n"
     ]
    },
    {
     "data": {
      "application/vnd.jupyter.widget-view+json": {
       "model_id": "0fb9cb7fd47d4535bfeea0bfd006434e",
       "version_major": 2,
       "version_minor": 0
      },
      "text/plain": [
       "Mappings: 0it [00:00, ?it/s]"
      ]
     },
     "metadata": {},
     "output_type": "display_data"
    },
    {
     "name": "stdout",
     "output_type": "stream",
     "text": [
      "Submitted to device in 2.3568 s\n"
     ]
    },
    {
     "data": {
      "application/vnd.jupyter.widget-view+json": {
       "model_id": "91733aab21ef428aabaf2a2b3e475d0e",
       "version_major": 2,
       "version_minor": 0
      },
      "text/plain": [
       "Running batch:   0%|          | 0/5 [00:00<?, ?it/s]"
      ]
     },
     "metadata": {},
     "output_type": "display_data"
    },
    {
     "name": "stdout",
     "output_type": "stream",
     "text": [
      "Predicted in 21.3193 s\n",
      "return (19, 64)\n",
      "Iters. done: 100 Current cost: 0.05395043968936373 Accuracy: 0.4343875616033538 Time: 24.19187719374895\n"
     ]
    },
    {
     "data": {
      "application/vnd.jupyter.widget-view+json": {
       "model_id": "1b14567bec144c9196530f1123e033bb",
       "version_major": 2,
       "version_minor": 0
      },
      "text/plain": [
       "Mappings: 0it [00:00, ?it/s]"
      ]
     },
     "metadata": {},
     "output_type": "display_data"
    },
    {
     "name": "stdout",
     "output_type": "stream",
     "text": [
      "Submitted to device in 2.4665 s\n"
     ]
    },
    {
     "data": {
      "application/vnd.jupyter.widget-view+json": {
       "model_id": "cb60eaa0ddc445d39f79a06947f0a960",
       "version_major": 2,
       "version_minor": 0
      },
      "text/plain": [
       "Running batch:   0%|          | 0/5 [00:00<?, ?it/s]"
      ]
     },
     "metadata": {},
     "output_type": "display_data"
    },
    {
     "name": "stdout",
     "output_type": "stream",
     "text": [
      "Predicted in 21.3653 s\n",
      "return (19, 64)\n",
      "Iters. done: 101 Current cost: 0.047314382470567504 Accuracy: 0.5039594970032237 Time: 24.025635480880737\n"
     ]
    },
    {
     "data": {
      "application/vnd.jupyter.widget-view+json": {
       "model_id": "13b103c7978843a4ad46b593b72b7162",
       "version_major": 2,
       "version_minor": 0
      },
      "text/plain": [
       "Mappings: 0it [00:00, ?it/s]"
      ]
     },
     "metadata": {},
     "output_type": "display_data"
    },
    {
     "name": "stdout",
     "output_type": "stream",
     "text": [
      "Submitted to device in 2.2604 s\n"
     ]
    },
    {
     "data": {
      "application/vnd.jupyter.widget-view+json": {
       "model_id": "82b0335d15434a2cb5f6cdcf75a61d09",
       "version_major": 2,
       "version_minor": 0
      },
      "text/plain": [
       "Running batch:   0%|          | 0/5 [00:00<?, ?it/s]"
      ]
     },
     "metadata": {},
     "output_type": "display_data"
    },
    {
     "name": "stdout",
     "output_type": "stream",
     "text": [
      "Predicted in 22.2476 s\n",
      "return (19, 64)\n",
      "Iters. done: 102 Current cost: 0.04346982301706102 Accuracy: 0.5442655753147113 Time: 24.719323981553316\n"
     ]
    },
    {
     "data": {
      "application/vnd.jupyter.widget-view+json": {
       "model_id": "1df07eeec1f644e5943a13591399e722",
       "version_major": 2,
       "version_minor": 0
      },
      "text/plain": [
       "Mappings: 0it [00:00, ?it/s]"
      ]
     },
     "metadata": {},
     "output_type": "display_data"
    },
    {
     "name": "stdout",
     "output_type": "stream",
     "text": [
      "Submitted to device in 2.3514 s\n"
     ]
    },
    {
     "data": {
      "application/vnd.jupyter.widget-view+json": {
       "model_id": "b250be9f71bc4fa8b7cd751688f90948",
       "version_major": 2,
       "version_minor": 0
      },
      "text/plain": [
       "Running batch:   0%|          | 0/5 [00:00<?, ?it/s]"
      ]
     },
     "metadata": {},
     "output_type": "display_data"
    },
    {
     "name": "stdout",
     "output_type": "stream",
     "text": [
      "Predicted in 22.0421 s\n",
      "return (19, 64)\n",
      "Iters. done: 103 Current cost: 0.05160070257796687 Accuracy: 0.45902203251444607 Time: 24.627300430089235\n"
     ]
    },
    {
     "data": {
      "application/vnd.jupyter.widget-view+json": {
       "model_id": "7e41ce6cbaaf4d6abac9ff8f818b688e",
       "version_major": 2,
       "version_minor": 0
      },
      "text/plain": [
       "Mappings: 0it [00:00, ?it/s]"
      ]
     },
     "metadata": {},
     "output_type": "display_data"
    },
    {
     "name": "stdout",
     "output_type": "stream",
     "text": [
      "Submitted to device in 2.2504 s\n"
     ]
    },
    {
     "data": {
      "application/vnd.jupyter.widget-view+json": {
       "model_id": "409ba7377b52420b8b4e6e24daf25aea",
       "version_major": 2,
       "version_minor": 0
      },
      "text/plain": [
       "Running batch:   0%|          | 0/5 [00:00<?, ?it/s]"
      ]
     },
     "metadata": {},
     "output_type": "display_data"
    }
   ],
   "source": [
    "model = QiskitRegressor(qc,\n",
    "                        num_qubits,\n",
    "                        AL,\n",
    "                        RUD,\n",
    "                        'statevector', #'fake',\n",
    "                        observables_labels,\n",
    "                        channel='ibm_quantum',\n",
    "                        instance='pinq-quebec-hub/univ-toronto/default',\n",
    "                        parameterpath = None,\n",
    "                        optimization_level = optimization_level,\n",
    "                        resilience_level = resilience_level,\n",
    "                        shots = shots,\n",
    "                        iterations = 500,\n",
    "                        verbose = True,\n",
    "                        n_jobs = n_jobs)\n",
    "model.fit(X_train,y_train)\n",
    "\n"
   ]
  },
  {
   "cell_type": "code",
   "execution_count": null,
   "id": "489d671c-4615-453f-b3e1-097e927d4d7a",
   "metadata": {
    "papermill": {
     "duration": null,
     "end_time": null,
     "exception": null,
     "start_time": null,
     "status": "pending"
    },
    "tags": []
   },
   "outputs": [],
   "source": [
    "y_train_pred = model.predict(X_train,iters='trainpred')\n",
    "y_test_pred = model.predict(X_test,iters='testpred')"
   ]
  },
  {
   "cell_type": "code",
   "execution_count": null,
   "id": "d68df1a8-73c5-4301-a396-9156f33cbac6",
   "metadata": {
    "papermill": {
     "duration": null,
     "end_time": null,
     "exception": null,
     "start_time": null,
     "status": "pending"
    },
    "tags": []
   },
   "outputs": [],
   "source": [
    "unscaled_y_train = ddcc_scaler.inverse_transform(y_train)\n",
    "unscaled_y_train_pred = ddcc_scaler.inverse_transform(y_train_pred)\n",
    "\n",
    "unscaled_y_test = ddcc_scaler.inverse_transform(y_test)\n",
    "unscaled_y_test_pred = ddcc_scaler.inverse_transform(y_test_pred)"
   ]
  },
  {
   "cell_type": "code",
   "execution_count": null,
   "id": "205f1048-e4b9-43f2-907c-daa71789f478",
   "metadata": {
    "papermill": {
     "duration": null,
     "end_time": null,
     "exception": null,
     "start_time": null,
     "status": "pending"
    },
    "tags": []
   },
   "outputs": [],
   "source": [
    "plt.scatter(y_train.flatten(),y_train_pred.flatten(),label=\"R$^{2}$=\"+f\"{r2_score(y_train.flatten(),y_train_pred.flatten()):.2f}\")\n",
    "plt.plot(y_train.flatten(),y_train.flatten(),'k--')\n",
    "plt.scatter(y_test.flatten(),y_test_pred.flatten(),label=\"R$^{2}$=\"+f\"{r2_score(y_test.flatten(),y_test_pred.flatten()):.2f}\")\n",
    "plt.legend()\n",
    "plt.show()"
   ]
  },
  {
   "cell_type": "code",
   "execution_count": null,
   "id": "ef22e994-a28a-4adb-8260-2422d928d519",
   "metadata": {
    "papermill": {
     "duration": null,
     "end_time": null,
     "exception": null,
     "start_time": null,
     "status": "pending"
    },
    "tags": []
   },
   "outputs": [],
   "source": [
    "plt.scatter(unscaled_y_train.flatten(),unscaled_y_train_pred.flatten(),label=\"R$^{2}$=\"+f\"{r2_score(unscaled_y_train.flatten(),unscaled_y_train_pred.flatten()):.2f}\")\n",
    "\n",
    "plt.plot(unscaled_y_train.flatten(),unscaled_y_train.flatten(),'k--')\n",
    "plt.scatter(unscaled_y_test.flatten(),unscaled_y_test_pred.flatten(),label=\"R$^{2}$=\"+f\"{r2_score(unscaled_y_test.flatten(),unscaled_y_test_pred.flatten()):.2f}\")\n",
    "plt.legend()\n",
    "plt.show()"
   ]
  },
  {
   "cell_type": "code",
   "execution_count": null,
   "id": "5b3f19fe-3b13-4512-acb1-af73b63581a4",
   "metadata": {
    "papermill": {
     "duration": null,
     "end_time": null,
     "exception": null,
     "start_time": null,
     "status": "pending"
    },
    "tags": []
   },
   "outputs": [],
   "source": [
    "# Goal, error handling: RuntimeJobFailureError: 'Unable to retrieve job result. Job estimator_cv61fk0tqh9s73cvpdeg_f0fa_4 cancelled due to compilation timeout 8100000000000.'\n"
   ]
  }
 ],
 "metadata": {
  "kernelspec": {
   "display_name": "Python 3 (ipykernel)",
   "language": "python",
   "name": "python3"
  },
  "language_info": {
   "codemirror_mode": {
    "name": "ipython",
    "version": 3
   },
   "file_extension": ".py",
   "mimetype": "text/x-python",
   "name": "python",
   "nbconvert_exporter": "python",
   "pygments_lexer": "ipython3",
   "version": "3.10.0"
  },
  "papermill": {
   "default_parameters": {},
   "duration": null,
   "end_time": null,
   "environment_variables": {},
   "exception": null,
   "input_path": "statevector.ipynb",
   "output_path": "statevector.ipynb",
   "parameters": {},
   "start_time": "2025-04-11T16:31:35.888681",
   "version": "2.6.0"
  }
 },
 "nbformat": 4,
 "nbformat_minor": 5
}