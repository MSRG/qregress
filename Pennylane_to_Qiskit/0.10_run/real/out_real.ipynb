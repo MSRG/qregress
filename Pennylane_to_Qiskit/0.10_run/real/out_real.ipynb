{
 "cells": [
  {
   "cell_type": "code",
   "execution_count": 1,
   "id": "dc8f5c2c-b710-429b-9f46-14c842ed6478",
   "metadata": {
    "editable": true,
    "execution": {
     "iopub.execute_input": "2025-05-19T21:28:02.707335Z",
     "iopub.status.busy": "2025-05-19T21:28:02.706906Z",
     "iopub.status.idle": "2025-05-19T21:28:04.695622Z",
     "shell.execute_reply": "2025-05-19T21:28:04.694874Z"
    },
    "papermill": {
     "duration": 1.996583,
     "end_time": "2025-05-19T21:28:04.697532",
     "exception": false,
     "start_time": "2025-05-19T21:28:02.700949",
     "status": "completed"
    },
    "slideshow": {
     "slide_type": ""
    },
    "tags": []
   },
   "outputs": [],
   "source": [
    "import os\n",
    "n_jobs = 64\n",
    "os.environ[\"OMP_NUM_THREADS\"] = str(n_jobs)\n",
    "import joblib\n",
    "import click\n",
    "import json\n",
    "import time\n",
    "\n",
    "import itertools\n",
    "import collections.abc\n",
    "import sys\n",
    "from tqdm.notebook import tqdm\n",
    "# !{sys.executable} -m pip install qcircuit\n",
    "\n",
    "import matplotlib.pyplot as plt\n",
    "import numpy as np\n",
    "import pandas as pd\n",
    "import pennylane as qml\n",
    "from sklearn.metrics import mean_squared_error, r2_score, mean_absolute_error\n",
    "\n",
    "# Qiskit\n",
    "from qiskit import QuantumCircuit\n",
    "from qiskit.quantum_info import Pauli, SparsePauliOp, Operator\n",
    "from qiskit.primitives import StatevectorEstimator\n",
    "from qiskit.circuit import Parameter, ParameterVector\n",
    "from qiskit.transpiler.preset_passmanagers import generate_preset_pass_manager\n",
    "from qiskit.quantum_info import SparsePauliOp\n",
    "from qiskit_ibm_runtime import EstimatorV2 as Estimator\n",
    "from qiskit_ibm_runtime import QiskitRuntimeService\n",
    "from qiskit_aer import AerSimulator\n",
    "from qiskit_aer.noise import NoiseModel\n",
    "from qiskit_ibm_runtime.fake_provider import FakeQuebec\n",
    "from qiskit_ibm_runtime import Batch\n",
    "from qiskit_ibm_runtime import exceptions\n",
    "# from qiskit_machine_learning.optimizers import SPSA, Minimizer\n",
    "\n",
    "\n",
    "from joblib import dump, load\n",
    "from QiskitRegressor import QiskitRegressor"
   ]
  },
  {
   "cell_type": "code",
   "execution_count": 2,
   "id": "9e8cd7b1-46c5-4d8e-966b-87a99489ddac",
   "metadata": {
    "editable": true,
    "execution": {
     "iopub.execute_input": "2025-05-19T21:28:04.702849Z",
     "iopub.status.busy": "2025-05-19T21:28:04.702394Z",
     "iopub.status.idle": "2025-05-19T21:28:04.710378Z",
     "shell.execute_reply": "2025-05-19T21:28:04.709566Z"
    },
    "papermill": {
     "duration": 0.011487,
     "end_time": "2025-05-19T21:28:04.711370",
     "exception": false,
     "start_time": "2025-05-19T21:28:04.699883",
     "status": "completed"
    },
    "slideshow": {
     "slide_type": ""
    },
    "tags": []
   },
   "outputs": [],
   "source": [
    "def mitarai(quantumcircuit,num_wires,paramname='x'):\n",
    "    # encoding as proposed by Mitarai et al.\n",
    "    num_features = num_wires\n",
    "    features = ParameterVector(paramname,num_features*2)\n",
    "    for i in range(num_wires):\n",
    "        feature_idx = i % num_features  # Calculate the feature index using modulo\n",
    "        quantumcircuit.ry(np.arcsin(features[feature_idx * 2]), i)\n",
    "        quantumcircuit.rz(np.arccos(features[feature_idx * 2 + 1] ** 2), i)\n",
    "\n",
    "\n",
    "def double_angle(quantumcircuit, num_wires,paramname='x'):\n",
    "    #  creates a circuit that encodes features into wires via angle encoding with an RY then RZ gate\n",
    "    #  the features are encoded 1-1 onto the qubits\n",
    "    #  if more wires are passed then features the remaining wires will be filled from the beginning of the feature list\n",
    "    num_features = num_wires\n",
    "    features = ParameterVector(paramname,num_features*2)\n",
    "    for i in range(num_wires):\n",
    "        feature_index = i % num_features\n",
    "        quantumcircuit.ry(features[feature_index], i)\n",
    "        quantumcircuit.rz(features[feature_index], i)\n",
    "\n",
    "def entangle_cnot(quantumcircuit,num_wires):\n",
    "    #  entangles all of the wires in a circular fashion using cnot gates\n",
    "    for i in range(num_wires):\n",
    "        \n",
    "        if i == num_wires - 1:\n",
    "            quantumcircuit.cx(i, 0)\n",
    "        else:\n",
    "            quantumcircuit.cx(i, i+1)\n",
    "\n",
    "\n",
    "def entangle_cz(quantumcircuit,num_wires):\n",
    "    #  entangles all of the wires in a circular fashion using cz gates\n",
    "    for i in range(num_wires):\n",
    "        \n",
    "        if i == num_wires - 1:\n",
    "            quantumcircuit.cz(i, 0)\n",
    "        else:\n",
    "            quantumcircuit.cz(i, i+1)\n",
    "\n",
    "\n",
    "def HardwareEfficient(quantumcircuit,num_wires,paramname='theta'):\n",
    "    parameters = ParameterVector(paramname,num_wires*3)\n",
    "    for qubit in range(num_wires):\n",
    "        quantumcircuit.rx(parameters[qubit * 3], qubit)  \n",
    "        quantumcircuit.rz(parameters[qubit * 3 + 1], qubit)  \n",
    "        quantumcircuit.rx(parameters[qubit * 3 + 2], qubit)  \n",
    "    entangle_cnot(quantumcircuit,num_wires)\n",
    "\n"
   ]
  },
  {
   "cell_type": "code",
   "execution_count": 3,
   "id": "98051576-89f8-4a1d-980e-3708e2089ad6",
   "metadata": {
    "execution": {
     "iopub.execute_input": "2025-05-19T21:28:04.715775Z",
     "iopub.status.busy": "2025-05-19T21:28:04.715603Z",
     "iopub.status.idle": "2025-05-19T21:28:04.719869Z",
     "shell.execute_reply": "2025-05-19T21:28:04.719169Z"
    },
    "papermill": {
     "duration": 0.007451,
     "end_time": "2025-05-19T21:28:04.720782",
     "exception": false,
     "start_time": "2025-05-19T21:28:04.713331",
     "status": "completed"
    },
    "tags": []
   },
   "outputs": [],
   "source": [
    "# def circuit(nqubits):\n",
    "#     qc = QuantumCircuit(nqubits)\n",
    "#     mitarai(qc,nqubits)\n",
    "#     entangle_cz(qc,nqubits)\n",
    "#     qc.barrier()\n",
    "#     mitarai(qc,nqubits,paramname='x1')\n",
    "#     entangle_cz(qc,nqubits)\n",
    "#     qc.barrier()\n",
    "#     HardwareEfficient(qc,nqubits)\n",
    "#     qc.barrier()\n",
    "#     return qc\n",
    "\n",
    "\n",
    "def circuit(nqubits,RUD=1,AL=1):\n",
    "    qc = QuantumCircuit(nqubits)\n",
    "    for i in range(RUD):\n",
    "        double_angle(qc,nqubits,paramname=f'x{i}')\n",
    "        qc.barrier()\n",
    "        for j in range(AL):        \n",
    "            HardwareEfficient(qc,nqubits,paramname=f'theta{i}_{j}')\n",
    "            qc.barrier()\n",
    "    return qc"
   ]
  },
  {
   "cell_type": "code",
   "execution_count": 4,
   "id": "11cb5805-20c7-493a-b96c-8eac41dcc1d7",
   "metadata": {
    "execution": {
     "iopub.execute_input": "2025-05-19T21:28:04.724790Z",
     "iopub.status.busy": "2025-05-19T21:28:04.724624Z",
     "iopub.status.idle": "2025-05-19T21:28:04.732898Z",
     "shell.execute_reply": "2025-05-19T21:28:04.732174Z"
    },
    "papermill": {
     "duration": 0.011399,
     "end_time": "2025-05-19T21:28:04.733817",
     "exception": false,
     "start_time": "2025-05-19T21:28:04.722418",
     "status": "completed"
    },
    "tags": []
   },
   "outputs": [
    {
     "name": "stdout",
     "output_type": "stream",
     "text": [
      "(19, 64) (40, 64)\n"
     ]
    },
    {
     "name": "stderr",
     "output_type": "stream",
     "text": [
      "/home/ubuntu/miniconda3/lib/python3.10/site-packages/sklearn/base.py:380: InconsistentVersionWarning: Trying to unpickle estimator MinMaxScaler from version 1.5.1 when using version 1.6.1. This might lead to breaking code or invalid results. Use at your own risk. For more info please refer to:\n",
      "https://scikit-learn.org/stable/model_persistence.html#security-maintainability-limitations\n",
      "  warnings.warn(\n"
     ]
    }
   ],
   "source": [
    "\n",
    "top=os.getcwd()\n",
    "with open(os.path.join(top,'0.1_5_DDCC_train.bin'),'rb') as f:\n",
    "    ddcc_train = joblib.load(f)\n",
    "\n",
    "with open(os.path.join(top,'0.1_5_DDCC_test.bin'),'rb') as f:\n",
    "    ddcc_test = joblib.load(f)\n",
    "\n",
    "with open(os.path.join(top,'0.1_5_DDCC_scaler.bin'),'rb') as f:\n",
    "    ddcc_scaler = joblib.load(f)\n",
    "\n",
    "X_ddcc_train, y_ddcc_train = ddcc_train['X'],ddcc_train['y']\n",
    "X_ddcc_test, y_ddcc_test = ddcc_test['X'],ddcc_test['y']\n",
    "\n",
    "X_ddcc_train = X_ddcc_train.reshape(-1,64,5)\n",
    "X_ddcc_test = X_ddcc_test.reshape(-1,64,5)\n",
    "y_ddcc_train = y_ddcc_train.reshape(-1,64)\n",
    "y_ddcc_test = y_ddcc_test.reshape(-1,64)\n",
    "\n",
    "\n",
    "# X_train, y_train = X_ddcc_train, y_ddcc_train\n",
    "# X_test, y_test = X_ddcc_test, y_ddcc_test\n",
    "X_train, y_train = X_ddcc_train, y_ddcc_train\n",
    "X_test, y_test = X_ddcc_test, y_ddcc_test\n",
    "\n",
    "# X_train = [X_train[i:i+4] for i in range(0,len(X_train),4)]\n",
    "# X_test = [X_test[i:i+4] for i in range(0,len(X_test),4)]\n",
    "scaler = ddcc_scaler\n",
    "\n",
    "# print(len(X_train),X_train[0].shape,X_train[-1].shape)\n",
    "print(y_train.shape, y_test.shape)"
   ]
  },
  {
   "cell_type": "code",
   "execution_count": 5,
   "id": "0172f0c5-8225-47b8-91e3-8e113113d13e",
   "metadata": {
    "editable": true,
    "execution": {
     "iopub.execute_input": "2025-05-19T21:28:04.738192Z",
     "iopub.status.busy": "2025-05-19T21:28:04.738007Z",
     "iopub.status.idle": "2025-05-19T21:28:04.741064Z",
     "shell.execute_reply": "2025-05-19T21:28:04.740413Z"
    },
    "papermill": {
     "duration": 0.006354,
     "end_time": "2025-05-19T21:28:04.741967",
     "exception": false,
     "start_time": "2025-05-19T21:28:04.735613",
     "status": "completed"
    },
    "slideshow": {
     "slide_type": ""
    },
    "tags": []
   },
   "outputs": [],
   "source": [
    "num_qubits = 5\n",
    "RUD = 1\n",
    "AL = 5"
   ]
  },
  {
   "cell_type": "code",
   "execution_count": 6,
   "id": "fcdd8b11-a018-4461-9461-cf12e6026e13",
   "metadata": {
    "editable": true,
    "execution": {
     "iopub.execute_input": "2025-05-19T21:28:04.746443Z",
     "iopub.status.busy": "2025-05-19T21:28:04.746030Z",
     "iopub.status.idle": "2025-05-19T21:28:04.749084Z",
     "shell.execute_reply": "2025-05-19T21:28:04.748446Z"
    },
    "papermill": {
     "duration": 0.006157,
     "end_time": "2025-05-19T21:28:04.749893",
     "exception": false,
     "start_time": "2025-05-19T21:28:04.743736",
     "status": "completed"
    },
    "slideshow": {
     "slide_type": ""
    },
    "tags": [
     "parameters"
    ]
   },
   "outputs": [],
   "source": [
    "optimization_level = 3\n",
    "shots = 1024 * 3\n",
    "# shots = 1024.0 * 1\n",
    "resilience_level = 1"
   ]
  },
  {
   "cell_type": "code",
   "execution_count": 7,
   "id": "0dd61067-2a66-4c32-bff7-34a6678cea46",
   "metadata": {
    "editable": true,
    "execution": {
     "iopub.execute_input": "2025-05-19T21:28:04.754233Z",
     "iopub.status.busy": "2025-05-19T21:28:04.754058Z",
     "iopub.status.idle": "2025-05-19T21:28:04.757176Z",
     "shell.execute_reply": "2025-05-19T21:28:04.756531Z"
    },
    "papermill": {
     "duration": 0.00642,
     "end_time": "2025-05-19T21:28:04.758134",
     "exception": false,
     "start_time": "2025-05-19T21:28:04.751714",
     "status": "completed"
    },
    "slideshow": {
     "slide_type": ""
    },
    "tags": []
   },
   "outputs": [],
   "source": [
    "optimization_level = int(optimization_level)\n",
    "shots = int(shots)\n",
    "# shots = 1024.0 * 1\n",
    "resilience_level = int(resilience_level)"
   ]
  },
  {
   "cell_type": "code",
   "execution_count": 8,
   "id": "9f37a160-f338-4f3d-9b17-c1c695681785",
   "metadata": {
    "execution": {
     "iopub.execute_input": "2025-05-19T21:28:04.762527Z",
     "iopub.status.busy": "2025-05-19T21:28:04.762353Z",
     "iopub.status.idle": "2025-05-19T21:28:04.767928Z",
     "shell.execute_reply": "2025-05-19T21:28:04.767266Z"
    },
    "papermill": {
     "duration": 0.008956,
     "end_time": "2025-05-19T21:28:04.768882",
     "exception": false,
     "start_time": "2025-05-19T21:28:04.759926",
     "status": "completed"
    },
    "tags": []
   },
   "outputs": [],
   "source": [
    "# \n",
    "qc = circuit(num_qubits,RUD,AL)\n",
    "\n",
    "observables_labels = ''.join(['I']*(num_qubits-1))+\"Z\""
   ]
  },
  {
   "cell_type": "code",
   "execution_count": null,
   "id": "5ce28d8f-681e-4e65-823a-e959be65c068",
   "metadata": {
    "papermill": {
     "duration": 0.001727,
     "end_time": "2025-05-19T21:28:04.772462",
     "exception": false,
     "start_time": "2025-05-19T21:28:04.770735",
     "status": "completed"
    },
    "tags": []
   },
   "outputs": [],
   "source": []
  },
  {
   "cell_type": "code",
   "execution_count": 9,
   "id": "d4755fc2-654e-4b9a-9cb9-0f8d050b1dd3",
   "metadata": {
    "execution": {
     "iopub.execute_input": "2025-05-19T21:28:04.776879Z",
     "iopub.status.busy": "2025-05-19T21:28:04.776701Z"
    },
    "papermill": {
     "duration": null,
     "end_time": null,
     "exception": false,
     "start_time": "2025-05-19T21:28:04.774230",
     "status": "running"
    },
    "tags": []
   },
   "outputs": [
    {
     "name": "stdout",
     "output_type": "stream",
     "text": [
      "./run6/partial_state_model.bin\n",
      "Parameters loaded\n",
      "[ 0.09681655  5.23743464 -0.12427964  2.88346897  4.55388708 -2.77010897\n",
      "  4.06858498  5.18960145  4.18551998 -0.06648308  3.6027151   2.14432445\n",
      "  2.31029899 -1.8735468   0.7296508  -0.90318345  4.23743464  1.87572036\n",
      " -0.11653103  2.55388708 -0.77010897  5.06858498  2.18960145  1.18551998\n",
      " -1.06648308  0.6027151   1.14432445  2.31029899 -0.8735468   0.7296508\n",
      " -2.90318345  3.23743464 -2.12427964 -0.11653103  0.55388708 -1.77010897\n",
      "  4.06858498  2.18960145  2.18551998 -1.06648308  1.6027151   2.14432445\n",
      "  2.31029899 -0.8735468   0.7296508  -2.90318345  2.23743464 -1.12427964\n",
      " -0.11653103  0.55388708 -2.77010897  3.06858498  2.18960145  2.18551998\n",
      " -1.06648308  0.6027151   1.14432445  1.31029899 -1.8735468   1.7296508\n",
      " -2.90318345  3.23743464 -2.12427964 -0.11653103  0.55388708 -2.77010897\n",
      "  3.06858498  2.18960145  1.18551998 -1.06648308  0.6027151   1.14432445\n",
      "  1.31029899 -1.8735468   0.7296508 ]\n"
     ]
    },
    {
     "name": "stdout",
     "output_type": "stream",
     "text": [
      "[SparsePauliOp(['IIIIIIIIIIIIIIIIIIIIIIIIIIIIIIIIIIIIIIIIIIIIIIIIIIIIIIIIIIIIIIIIIIIIIIIIIIIIIIIIIZIIIIIIIIIIIIIIIIIIIIIIIIIIIIIIIIIIIIIIIIIIIII'],\n",
      "              coeffs=[1.+0.j])]\n",
      "<IBMBackend('ibm_quebec')>\n"
     ]
    },
    {
     "data": {
      "application/vnd.jupyter.widget-view+json": {
       "model_id": "5826e26a32ef498a8d3416a0e84f7093",
       "version_major": 2,
       "version_minor": 0
      },
      "text/plain": [
       "Mappings: 0it [00:00, ?it/s]"
      ]
     },
     "metadata": {},
     "output_type": "display_data"
    },
    {
     "name": "stdout",
     "output_type": "stream",
     "text": [
      "Submitted to device in 61.3081 s\n"
     ]
    },
    {
     "name": "stdout",
     "output_type": "stream",
     "text": [
      "Predicted in 7110.1677 s\n",
      "return (64, 19)\n",
      "Iters. done: 1 Current cost: 0.13323610453779838 Accuracy: -0.3968375124281287 Time: 7172.163491986692\n"
     ]
    },
    {
     "data": {
      "application/vnd.jupyter.widget-view+json": {
       "model_id": "469257618f0044a8a2102ffe2de8993d",
       "version_major": 2,
       "version_minor": 0
      },
      "text/plain": [
       "Mappings: 0it [00:00, ?it/s]"
      ]
     },
     "metadata": {},
     "output_type": "display_data"
    },
    {
     "name": "stdout",
     "output_type": "stream",
     "text": [
      "Submitted to device in 76.9296 s\n"
     ]
    },
    {
     "name": "stdout",
     "output_type": "stream",
     "text": [
      "Predicted in 8201.3586 s\n",
      "return (64, 19)\n",
      "Iters. done: 2 Current cost: 0.12872642356043207 Accuracy: -0.3495583490202723 Time: 8278.913730923086\n"
     ]
    },
    {
     "data": {
      "application/vnd.jupyter.widget-view+json": {
       "model_id": "2e755c07497d463482bedf9561a0b33a",
       "version_major": 2,
       "version_minor": 0
      },
      "text/plain": [
       "Mappings: 0it [00:00, ?it/s]"
      ]
     },
     "metadata": {},
     "output_type": "display_data"
    },
    {
     "name": "stdout",
     "output_type": "stream",
     "text": [
      "Submitted to device in 100.6167 s\n"
     ]
    },
    {
     "name": "stdout",
     "output_type": "stream",
     "text": [
      "Predicted in 7108.1109 s\n",
      "return (64, 19)\n",
      "Iters. done: 3 Current cost: 0.1284896099945648 Accuracy: -0.3470756130276309 Time: 7209.220206361264\n"
     ]
    },
    {
     "data": {
      "application/vnd.jupyter.widget-view+json": {
       "model_id": "fc3137437cf1468983c13a932dbd2dfd",
       "version_major": 2,
       "version_minor": 0
      },
      "text/plain": [
       "Mappings: 0it [00:00, ?it/s]"
      ]
     },
     "metadata": {},
     "output_type": "display_data"
    },
    {
     "name": "stdout",
     "output_type": "stream",
     "text": [
      "Submitted to device in 61.9263 s\n"
     ]
    },
    {
     "name": "stdout",
     "output_type": "stream",
     "text": [
      "Predicted in 5675.2572 s\n",
      "return (64, 19)\n",
      "Iters. done: 4 Current cost: 0.12128405197933133 Accuracy: -0.27153307319902265 Time: 5737.724643699825\n"
     ]
    },
    {
     "data": {
      "application/vnd.jupyter.widget-view+json": {
       "model_id": "8a2a334a5ff94cb2b35952f11856772b",
       "version_major": 2,
       "version_minor": 0
      },
      "text/plain": [
       "Mappings: 0it [00:00, ?it/s]"
      ]
     },
     "metadata": {},
     "output_type": "display_data"
    },
    {
     "name": "stdout",
     "output_type": "stream",
     "text": [
      "Submitted to device in 63.9442 s\n"
     ]
    },
    {
     "name": "stdout",
     "output_type": "stream",
     "text": [
      "Predicted in 1512.7247 s\n",
      "return (64, 19)\n",
      "Iters. done: 5 Current cost: 0.1442609528110401 Accuracy: -0.5124212101826935 Time: 1577.706083189696\n"
     ]
    },
    {
     "data": {
      "application/vnd.jupyter.widget-view+json": {
       "model_id": "80f52d940a0f430e9eca2a6e3676c01d",
       "version_major": 2,
       "version_minor": 0
      },
      "text/plain": [
       "Mappings: 0it [00:00, ?it/s]"
      ]
     },
     "metadata": {},
     "output_type": "display_data"
    },
    {
     "name": "stdout",
     "output_type": "stream",
     "text": [
      "Submitted to device in 58.6878 s\n"
     ]
    },
    {
     "name": "stdout",
     "output_type": "stream",
     "text": [
      "Predicted in 1670.8599 s\n",
      "return (64, 19)\n",
      "Iters. done: 6 Current cost: 0.1278039085488421 Accuracy: -0.3398867695453456 Time: 1729.9883028678596\n"
     ]
    },
    {
     "data": {
      "application/vnd.jupyter.widget-view+json": {
       "model_id": "2df8bdf81a6f42ba895c0d6deb2d10f9",
       "version_major": 2,
       "version_minor": 0
      },
      "text/plain": [
       "Mappings: 0it [00:00, ?it/s]"
      ]
     },
     "metadata": {},
     "output_type": "display_data"
    },
    {
     "name": "stdout",
     "output_type": "stream",
     "text": [
      "Submitted to device in 84.5105 s\n"
     ]
    },
    {
     "name": "stdout",
     "output_type": "stream",
     "text": [
      "Predicted in 1614.3169 s\n",
      "return (64, 19)\n",
      "Iters. done: 7 Current cost: 0.1235256195549668 Accuracy: -0.2950335026595816 Time: 1699.2304244078696\n"
     ]
    },
    {
     "data": {
      "application/vnd.jupyter.widget-view+json": {
       "model_id": "da32a06ad7914b2a8b9abdda0929b494",
       "version_major": 2,
       "version_minor": 0
      },
      "text/plain": [
       "Mappings: 0it [00:00, ?it/s]"
      ]
     },
     "metadata": {},
     "output_type": "display_data"
    },
    {
     "name": "stdout",
     "output_type": "stream",
     "text": [
      "Submitted to device in 62.3580 s\n"
     ]
    },
    {
     "name": "stdout",
     "output_type": "stream",
     "text": [
      "Predicted in 1964.6471 s\n",
      "return (64, 19)\n",
      "Iters. done: 8 Current cost: 0.12655555734693566 Accuracy: -0.32679914743603233 Time: 2027.8637105934322\n"
     ]
    },
    {
     "data": {
      "application/vnd.jupyter.widget-view+json": {
       "model_id": "fea3b252bae34a53bca7d16abbf5fb99",
       "version_major": 2,
       "version_minor": 0
      },
      "text/plain": [
       "Mappings: 0it [00:00, ?it/s]"
      ]
     },
     "metadata": {},
     "output_type": "display_data"
    },
    {
     "name": "stdout",
     "output_type": "stream",
     "text": [
      "Submitted to device in 70.4509 s\n"
     ]
    },
    {
     "name": "stdout",
     "output_type": "stream",
     "text": [
      "Predicted in 1474.8255 s\n",
      "return (64, 19)\n",
      "Iters. done: 9 Current cost: 0.12605405639598302 Accuracy: -0.32154144838186727 Time: 1545.6299441978335\n"
     ]
    },
    {
     "data": {
      "application/vnd.jupyter.widget-view+json": {
       "model_id": "2ad93cd6689144c3b14311559f9cd7fe",
       "version_major": 2,
       "version_minor": 0
      },
      "text/plain": [
       "Mappings: 0it [00:00, ?it/s]"
      ]
     },
     "metadata": {},
     "output_type": "display_data"
    },
    {
     "name": "stdout",
     "output_type": "stream",
     "text": [
      "Submitted to device in 94.5903 s\n"
     ]
    },
    {
     "name": "stdout",
     "output_type": "stream",
     "text": [
      "Predicted in 1630.8970 s\n",
      "return (64, 19)\n",
      "Iters. done: 10 Current cost: 0.12143947430360234 Accuracy: -0.27316250940599995 Time: 1725.8343179374933\n"
     ]
    },
    {
     "data": {
      "application/vnd.jupyter.widget-view+json": {
       "model_id": "c9e17184e8944b9ca55cf8fb1f84eb6a",
       "version_major": 2,
       "version_minor": 0
      },
      "text/plain": [
       "Mappings: 0it [00:00, ?it/s]"
      ]
     },
     "metadata": {},
     "output_type": "display_data"
    },
    {
     "name": "stdout",
     "output_type": "stream",
     "text": [
      "Submitted to device in 66.2986 s\n"
     ]
    },
    {
     "name": "stdout",
     "output_type": "stream",
     "text": [
      "Predicted in 1945.3058 s\n",
      "return (64, 19)\n",
      "Iters. done: 11 Current cost: 0.18388951448989557 Accuracy: -0.9278841337545347 Time: 2011.987091846764\n"
     ]
    },
    {
     "data": {
      "application/vnd.jupyter.widget-view+json": {
       "model_id": "f87c72fd939a46f988458146526beea5",
       "version_major": 2,
       "version_minor": 0
      },
      "text/plain": [
       "Mappings: 0it [00:00, ?it/s]"
      ]
     },
     "metadata": {},
     "output_type": "display_data"
    },
    {
     "name": "stdout",
     "output_type": "stream",
     "text": [
      "Submitted to device in 59.5482 s\n"
     ]
    },
    {
     "name": "stdout",
     "output_type": "stream",
     "text": [
      "Predicted in 1777.2895 s\n",
      "return (64, 19)\n",
      "Iters. done: 12 Current cost: 0.131938157841042 Accuracy: -0.3832299348015462 Time: 1837.2604320161045\n"
     ]
    },
    {
     "data": {
      "application/vnd.jupyter.widget-view+json": {
       "model_id": "477f16bf84db4d64a356513ea357d1e5",
       "version_major": 2,
       "version_minor": 0
      },
      "text/plain": [
       "Mappings: 0it [00:00, ?it/s]"
      ]
     },
     "metadata": {},
     "output_type": "display_data"
    },
    {
     "name": "stdout",
     "output_type": "stream",
     "text": [
      "Submitted to device in 62.1504 s\n"
     ]
    },
    {
     "name": "stdout",
     "output_type": "stream",
     "text": [
      "Predicted in 1441.3246 s\n",
      "return (64, 19)\n",
      "Iters. done: 13 Current cost: 0.10393794790980233 Accuracy: -0.0896777949855525 Time: 1503.8436006456614\n"
     ]
    },
    {
     "data": {
      "application/vnd.jupyter.widget-view+json": {
       "model_id": "ee89b194fbfa4067af425545f379e96d",
       "version_major": 2,
       "version_minor": 0
      },
      "text/plain": [
       "Mappings: 0it [00:00, ?it/s]"
      ]
     },
     "metadata": {},
     "output_type": "display_data"
    },
    {
     "name": "stdout",
     "output_type": "stream",
     "text": [
      "Submitted to device in 66.3525 s\n"
     ]
    },
    {
     "name": "stdout",
     "output_type": "stream",
     "text": [
      "Predicted in 2048.1724 s\n",
      "return (64, 19)\n",
      "Iters. done: 14 Current cost: 0.10729528029037912 Accuracy: -0.12487582052936341 Time: 2114.874751634896\n"
     ]
    },
    {
     "data": {
      "application/vnd.jupyter.widget-view+json": {
       "model_id": "3b18f0d72d614b89a8f2fa5b469cfc84",
       "version_major": 2,
       "version_minor": 0
      },
      "text/plain": [
       "Mappings: 0it [00:00, ?it/s]"
      ]
     },
     "metadata": {},
     "output_type": "display_data"
    },
    {
     "name": "stdout",
     "output_type": "stream",
     "text": [
      "Submitted to device in 64.0971 s\n"
     ]
    },
    {
     "name": "stdout",
     "output_type": "stream",
     "text": [
      "Predicted in 1510.7075 s\n",
      "return (64, 19)\n",
      "Iters. done: 15 Current cost: 0.10617972291517724 Accuracy: -0.11318039912423083 Time: 1575.1617513224483\n"
     ]
    },
    {
     "data": {
      "application/vnd.jupyter.widget-view+json": {
       "model_id": "5f2959c1ef9a48898c1b4e12f85cecd9",
       "version_major": 2,
       "version_minor": 0
      },
      "text/plain": [
       "Mappings: 0it [00:00, ?it/s]"
      ]
     },
     "metadata": {},
     "output_type": "display_data"
    },
    {
     "name": "stdout",
     "output_type": "stream",
     "text": [
      "Submitted to device in 67.9045 s\n"
     ]
    },
    {
     "name": "stdout",
     "output_type": "stream",
     "text": [
      "Predicted in 1478.1682 s\n",
      "return (64, 19)\n",
      "Iters. done: 16 Current cost: 0.1161531517609753 Accuracy: -0.2177410929967485 Time: 1546.4253633879125\n"
     ]
    },
    {
     "data": {
      "application/vnd.jupyter.widget-view+json": {
       "model_id": "26b5eb3957cf4bc79bf4246f6a56da6a",
       "version_major": 2,
       "version_minor": 0
      },
      "text/plain": [
       "Mappings: 0it [00:00, ?it/s]"
      ]
     },
     "metadata": {},
     "output_type": "display_data"
    },
    {
     "name": "stdout",
     "output_type": "stream",
     "text": [
      "Submitted to device in 68.7997 s\n"
     ]
    },
    {
     "name": "stdout",
     "output_type": "stream",
     "text": [
      "Predicted in 1432.0089 s\n",
      "return (64, 19)\n",
      "Iters. done: 17 Current cost: 0.10168100263495965 Accuracy: -0.06601614685846169 Time: 1501.1646289154887\n"
     ]
    },
    {
     "data": {
      "application/vnd.jupyter.widget-view+json": {
       "model_id": "6c87a89a14ee41f0a61b8c607eb27305",
       "version_major": 2,
       "version_minor": 0
      },
      "text/plain": [
       "Mappings: 0it [00:00, ?it/s]"
      ]
     },
     "metadata": {},
     "output_type": "display_data"
    },
    {
     "name": "stdout",
     "output_type": "stream",
     "text": [
      "Submitted to device in 115.7023 s\n"
     ]
    },
    {
     "name": "stdout",
     "output_type": "stream",
     "text": [
      "Predicted in 1396.5176 s\n",
      "return (64, 19)\n",
      "Iters. done: 18 Current cost: 0.10769792089166477 Accuracy: -0.1290970749547573 Time: 1512.6227454431355\n"
     ]
    },
    {
     "data": {
      "application/vnd.jupyter.widget-view+json": {
       "model_id": "9da484fa1295444f83eb4089883cc451",
       "version_major": 2,
       "version_minor": 0
      },
      "text/plain": [
       "Mappings: 0it [00:00, ?it/s]"
      ]
     },
     "metadata": {},
     "output_type": "display_data"
    },
    {
     "name": "stdout",
     "output_type": "stream",
     "text": [
      "Submitted to device in 112.2408 s\n"
     ]
    },
    {
     "name": "stdout",
     "output_type": "stream",
     "text": [
      "Predicted in 1614.2738 s\n",
      "return (64, 19)\n",
      "Iters. done: 19 Current cost: 0.11137564152154801 Accuracy: -0.1676540273204301 Time: 1726.8806372098625\n"
     ]
    },
    {
     "data": {
      "application/vnd.jupyter.widget-view+json": {
       "model_id": "76996d118d144f318931bb4c14a075ee",
       "version_major": 2,
       "version_minor": 0
      },
      "text/plain": [
       "Mappings: 0it [00:00, ?it/s]"
      ]
     },
     "metadata": {},
     "output_type": "display_data"
    },
    {
     "name": "stdout",
     "output_type": "stream",
     "text": [
      "Submitted to device in 59.7483 s\n"
     ]
    },
    {
     "name": "stdout",
     "output_type": "stream",
     "text": [
      "Predicted in 1486.4059 s\n",
      "return (64, 19)\n",
      "Iters. done: 20 Current cost: 0.10924373183355153 Accuracy: -0.145303243081931 Time: 1546.5445174723864\n"
     ]
    },
    {
     "data": {
      "application/vnd.jupyter.widget-view+json": {
       "model_id": "912e9de2ecea4811a10f33413453ba01",
       "version_major": 2,
       "version_minor": 0
      },
      "text/plain": [
       "Mappings: 0it [00:00, ?it/s]"
      ]
     },
     "metadata": {},
     "output_type": "display_data"
    },
    {
     "name": "stdout",
     "output_type": "stream",
     "text": [
      "Submitted to device in 61.3101 s\n"
     ]
    },
    {
     "name": "stdout",
     "output_type": "stream",
     "text": [
      "Predicted in 1541.5683 s\n",
      "return (64, 19)\n",
      "Iters. done: 21 Current cost: 0.09905435048661684 Accuracy: -0.03847851908381972 Time: 1603.2628592699766\n"
     ]
    },
    {
     "data": {
      "application/vnd.jupyter.widget-view+json": {
       "model_id": "8f26a9fc20704e289e3970ade8cee1f1",
       "version_major": 2,
       "version_minor": 0
      },
      "text/plain": [
       "Mappings: 0it [00:00, ?it/s]"
      ]
     },
     "metadata": {},
     "output_type": "display_data"
    },
    {
     "name": "stdout",
     "output_type": "stream",
     "text": [
      "Submitted to device in 64.7051 s\n"
     ]
    },
    {
     "name": "stdout",
     "output_type": "stream",
     "text": [
      "Predicted in 1437.1311 s\n",
      "return (64, 19)\n",
      "Iters. done: 22 Current cost: 0.10448722784085258 Accuracy: -0.09543640535003717 Time: 1502.1984017938375\n"
     ]
    },
    {
     "data": {
      "application/vnd.jupyter.widget-view+json": {
       "model_id": "3538ef025f994097b93b94423e753165",
       "version_major": 2,
       "version_minor": 0
      },
      "text/plain": [
       "Mappings: 0it [00:00, ?it/s]"
      ]
     },
     "metadata": {},
     "output_type": "display_data"
    },
    {
     "name": "stdout",
     "output_type": "stream",
     "text": [
      "Submitted to device in 68.2978 s\n"
     ]
    },
    {
     "name": "stdout",
     "output_type": "stream",
     "text": [
      "Predicted in 1414.5354 s\n",
      "return (64, 19)\n",
      "Iters. done: 23 Current cost: 0.10007829636645786 Accuracy: -0.04921349231513639 Time: 1483.1929608248174\n"
     ]
    },
    {
     "data": {
      "application/vnd.jupyter.widget-view+json": {
       "model_id": "ba966f096d1d4f1294058aa495417177",
       "version_major": 2,
       "version_minor": 0
      },
      "text/plain": [
       "Mappings: 0it [00:00, ?it/s]"
      ]
     },
     "metadata": {},
     "output_type": "display_data"
    },
    {
     "name": "stdout",
     "output_type": "stream",
     "text": [
      "Submitted to device in 67.3319 s\n"
     ]
    },
    {
     "name": "stdout",
     "output_type": "stream",
     "text": [
      "Predicted in 7543.9545 s\n",
      "return (64, 19)\n",
      "Iters. done: 24 Current cost: 0.09822879423233775 Accuracy: -0.029823448083379667 Time: 7611.642297320068\n"
     ]
    },
    {
     "data": {
      "application/vnd.jupyter.widget-view+json": {
       "model_id": "1c6ceb869dd7413691887b3b9b3329ec",
       "version_major": 2,
       "version_minor": 0
      },
      "text/plain": [
       "Mappings: 0it [00:00, ?it/s]"
      ]
     },
     "metadata": {},
     "output_type": "display_data"
    },
    {
     "name": "stdout",
     "output_type": "stream",
     "text": [
      "Submitted to device in 64.1203 s\n"
     ]
    },
    {
     "name": "stdout",
     "output_type": "stream",
     "text": [
      "Predicted in 40791.5844 s\n",
      "return (64, 19)\n",
      "Iters. done: 25 Current cost: 0.11155119867258433 Accuracy: -0.169494555569085 Time: 40856.82465432212\n"
     ]
    },
    {
     "data": {
      "application/vnd.jupyter.widget-view+json": {
       "model_id": "7ef10a8efed748afb83bb17ae69b1527",
       "version_major": 2,
       "version_minor": 0
      },
      "text/plain": [
       "Mappings: 0it [00:00, ?it/s]"
      ]
     },
     "metadata": {},
     "output_type": "display_data"
    },
    {
     "name": "stdout",
     "output_type": "stream",
     "text": [
      "Submitted to device in 88.9459 s\n"
     ]
    },
    {
     "name": "stdout",
     "output_type": "stream",
     "text": [
      "Predicted in 4266.6409 s\n",
      "return (64, 19)\n",
      "Iters. done: 26 Current cost: 0.12713600055742647 Accuracy: -0.3328844713282342 Time: 4356.670637242496\n"
     ]
    },
    {
     "data": {
      "application/vnd.jupyter.widget-view+json": {
       "model_id": "c9f5955b53e84e65876a835dbf295342",
       "version_major": 2,
       "version_minor": 0
      },
      "text/plain": [
       "Mappings: 0it [00:00, ?it/s]"
      ]
     },
     "metadata": {},
     "output_type": "display_data"
    },
    {
     "name": "stdout",
     "output_type": "stream",
     "text": [
      "Submitted to device in 97.0179 s\n"
     ]
    },
    {
     "name": "stdout",
     "output_type": "stream",
     "text": [
      "Predicted in 1395.3954 s\n",
      "return (64, 19)\n",
      "Iters. done: 27 Current cost: 0.11227733248138981 Accuracy: -0.17710728896969297 Time: 1492.8844642825425\n"
     ]
    },
    {
     "data": {
      "application/vnd.jupyter.widget-view+json": {
       "model_id": "dfb97b39a4fa47cda76ebf649be4ee87",
       "version_major": 2,
       "version_minor": 0
      },
      "text/plain": [
       "Mappings: 0it [00:00, ?it/s]"
      ]
     },
     "metadata": {},
     "output_type": "display_data"
    },
    {
     "name": "stdout",
     "output_type": "stream",
     "text": [
      "Submitted to device in 60.1762 s\n"
     ]
    },
    {
     "name": "stdout",
     "output_type": "stream",
     "text": [
      "Predicted in 1481.0276 s\n",
      "return (64, 19)\n",
      "Iters. done: 28 Current cost: 0.11583256980137611 Accuracy: -0.21438013533043643 Time: 1541.558886744082\n"
     ]
    },
    {
     "data": {
      "application/vnd.jupyter.widget-view+json": {
       "model_id": "ae060904ee054fa7bef177fba7efa2f7",
       "version_major": 2,
       "version_minor": 0
      },
      "text/plain": [
       "Mappings: 0it [00:00, ?it/s]"
      ]
     },
     "metadata": {},
     "output_type": "display_data"
    },
    {
     "name": "stdout",
     "output_type": "stream",
     "text": [
      "Submitted to device in 66.6221 s\n"
     ]
    },
    {
     "name": "stdout",
     "output_type": "stream",
     "text": [
      "Predicted in 1802.5614 s\n",
      "return (64, 19)\n",
      "Iters. done: 29 Current cost: 0.11134728861335981 Accuracy: -0.16735677751805045 Time: 1869.5509388633072\n"
     ]
    },
    {
     "data": {
      "application/vnd.jupyter.widget-view+json": {
       "model_id": "d2efa5e82eb54c9d8ab8992c4d6834d9",
       "version_major": 2,
       "version_minor": 0
      },
      "text/plain": [
       "Mappings: 0it [00:00, ?it/s]"
      ]
     },
     "metadata": {},
     "output_type": "display_data"
    },
    {
     "name": "stdout",
     "output_type": "stream",
     "text": [
      "Submitted to device in 59.5579 s\n"
     ]
    },
    {
     "name": "stdout",
     "output_type": "stream",
     "text": [
      "Predicted in 1667.0845 s\n",
      "return (64, 19)\n",
      "Iters. done: 30 Current cost: 0.10089299555326517 Accuracy: -0.05775473861939373 Time: 1727.6879815720022\n"
     ]
    },
    {
     "data": {
      "application/vnd.jupyter.widget-view+json": {
       "model_id": "a522557255224b01b944586d24c7d670",
       "version_major": 2,
       "version_minor": 0
      },
      "text/plain": [
       "Mappings: 0it [00:00, ?it/s]"
      ]
     },
     "metadata": {},
     "output_type": "display_data"
    },
    {
     "name": "stdout",
     "output_type": "stream",
     "text": [
      "Submitted to device in 68.5138 s\n"
     ]
    },
    {
     "name": "stdout",
     "output_type": "stream",
     "text": [
      "Predicted in 1485.5306 s\n",
      "return (64, 19)\n",
      "Iters. done: 31 Current cost: 0.10619403474077264 Accuracy: -0.11333044325027553 Time: 1554.5045673884451\n"
     ]
    },
    {
     "data": {
      "application/vnd.jupyter.widget-view+json": {
       "model_id": "ce2fd61cce05467fa0c465dd3d503d89",
       "version_major": 2,
       "version_minor": 0
      },
      "text/plain": [
       "Mappings: 0it [00:00, ?it/s]"
      ]
     },
     "metadata": {},
     "output_type": "display_data"
    },
    {
     "name": "stdout",
     "output_type": "stream",
     "text": [
      "Submitted to device in 59.0914 s\n"
     ]
    },
    {
     "name": "stdout",
     "output_type": "stream",
     "text": [
      "Predicted in 1413.9577 s\n",
      "return (64, 19)\n",
      "Iters. done: 32 Current cost: 0.10578577355200787 Accuracy: -0.10905026299948362 Time: 1473.4694446697831\n"
     ]
    },
    {
     "data": {
      "application/vnd.jupyter.widget-view+json": {
       "model_id": "6b211918e3fc4923a8d5786131580a59",
       "version_major": 2,
       "version_minor": 0
      },
      "text/plain": [
       "Mappings: 0it [00:00, ?it/s]"
      ]
     },
     "metadata": {},
     "output_type": "display_data"
    },
    {
     "name": "stdout",
     "output_type": "stream",
     "text": [
      "Submitted to device in 62.8093 s\n"
     ]
    },
    {
     "name": "stdout",
     "output_type": "stream",
     "text": [
      "Predicted in 1431.7638 s\n",
      "return (64, 19)\n",
      "Iters. done: 33 Current cost: 0.10718762311041657 Accuracy: -0.12374715057931063 Time: 1494.932138826698\n"
     ]
    },
    {
     "data": {
      "application/vnd.jupyter.widget-view+json": {
       "model_id": "81bd3cca4eb9433ca914c19b6cea63d9",
       "version_major": 2,
       "version_minor": 0
      },
      "text/plain": [
       "Mappings: 0it [00:00, ?it/s]"
      ]
     },
     "metadata": {},
     "output_type": "display_data"
    },
    {
     "name": "stdout",
     "output_type": "stream",
     "text": [
      "Submitted to device in 69.6122 s\n"
     ]
    },
    {
     "name": "stdout",
     "output_type": "stream",
     "text": [
      "Predicted in 1424.1947 s\n",
      "return (64, 19)\n",
      "Iters. done: 34 Current cost: 0.10429882272122411 Accuracy: -0.09346117994440473 Time: 1494.1598487123847\n"
     ]
    },
    {
     "data": {
      "application/vnd.jupyter.widget-view+json": {
       "model_id": "31d500170e2942029cced141202372ba",
       "version_major": 2,
       "version_minor": 0
      },
      "text/plain": [
       "Mappings: 0it [00:00, ?it/s]"
      ]
     },
     "metadata": {},
     "output_type": "display_data"
    },
    {
     "name": "stdout",
     "output_type": "stream",
     "text": [
      "Submitted to device in 91.9725 s\n"
     ]
    },
    {
     "name": "stdout",
     "output_type": "stream",
     "text": [
      "Predicted in 1443.3329 s\n",
      "return (64, 19)\n",
      "Iters. done: 35 Current cost: 0.10814090492241131 Accuracy: -0.13374128692492793 Time: 1536.1872851662338\n"
     ]
    },
    {
     "data": {
      "application/vnd.jupyter.widget-view+json": {
       "model_id": "da5b88218c6544588124d3bd893bf54c",
       "version_major": 2,
       "version_minor": 0
      },
      "text/plain": [
       "Mappings: 0it [00:00, ?it/s]"
      ]
     },
     "metadata": {},
     "output_type": "display_data"
    },
    {
     "name": "stdout",
     "output_type": "stream",
     "text": [
      "Submitted to device in 117.5368 s\n"
     ]
    },
    {
     "name": "stdout",
     "output_type": "stream",
     "text": [
      "Predicted in 1638.5880 s\n",
      "return (64, 19)\n",
      "Iters. done: 36 Current cost: 0.10127195400259287 Accuracy: -0.06172771110691011 Time: 1756.5308059565723\n"
     ]
    },
    {
     "data": {
      "application/vnd.jupyter.widget-view+json": {
       "model_id": "84fcca33f6ab4b9987ca84814cd742cc",
       "version_major": 2,
       "version_minor": 0
      },
      "text/plain": [
       "Mappings: 0it [00:00, ?it/s]"
      ]
     },
     "metadata": {},
     "output_type": "display_data"
    },
    {
     "name": "stdout",
     "output_type": "stream",
     "text": [
      "Submitted to device in 58.7120 s\n"
     ]
    },
    {
     "name": "stdout",
     "output_type": "stream",
     "text": [
      "Predicted in 2049.4463 s\n",
      "return (64, 19)\n",
      "Iters. done: 37 Current cost: 0.10802090748242812 Accuracy: -0.1324832425971887 Time: 2108.6220154836774\n"
     ]
    },
    {
     "data": {
      "application/vnd.jupyter.widget-view+json": {
       "model_id": "3f659d85e7554e5c89761aaf3ac33fea",
       "version_major": 2,
       "version_minor": 0
      },
      "text/plain": [
       "Mappings: 0it [00:00, ?it/s]"
      ]
     },
     "metadata": {},
     "output_type": "display_data"
    },
    {
     "name": "stdout",
     "output_type": "stream",
     "text": [
      "Submitted to device in 64.1293 s\n"
     ]
    }
   ],
   "source": [
    "model = QiskitRegressor(qc,\n",
    "                        num_qubits,\n",
    "                        AL,\n",
    "                        RUD,\n",
    "                        'real', #'fake',\n",
    "                        observables_labels,\n",
    "                        channel='ibm_quantum',\n",
    "                        instance='pinq-quebec-hub/univ-toronto/pr-hans-arno-jac',\n",
    "                        parameterpath = './run6/partial_state_model.bin',\n",
    "                        optimization_level = optimization_level,\n",
    "                        resilience_level = resilience_level,\n",
    "                        shots = shots,\n",
    "                        iterations = 216,\n",
    "                        verbose = True,\n",
    "                        n_jobs = n_jobs)\n",
    "model.fit(X_train,y_train)\n",
    "\n"
   ]
  }
 ],
 "metadata": {
  "kernelspec": {
   "display_name": "Python 3 (ipykernel)",
   "language": "python",
   "name": "python3"
  },
  "language_info": {
   "codemirror_mode": {
    "name": "ipython",
    "version": 3
   },
   "file_extension": ".py",
   "mimetype": "text/x-python",
   "name": "python",
   "nbconvert_exporter": "python",
   "pygments_lexer": "ipython3",
   "version": "3.12.8"
  },
  "papermill": {
   "default_parameters": {},
   "duration": null,
   "end_time": null,
   "environment_variables": {},
   "exception": null,
   "input_path": "real.ipynb",
   "output_path": "out_real.ipynb",
   "parameters": {},
   "start_time": "2025-05-19T21:28:01.892661",
   "version": "2.6.0"
  }
 },
 "nbformat": 4,
 "nbformat_minor": 5
}