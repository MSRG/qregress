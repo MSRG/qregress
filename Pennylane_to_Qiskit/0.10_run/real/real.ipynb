{
 "cells": [
  {
   "cell_type": "code",
   "execution_count": 1,
   "id": "dc8f5c2c-b710-429b-9f46-14c842ed6478",
   "metadata": {
    "editable": true,
    "papermill": {
     "duration": 1.891776,
     "end_time": "2025-03-11T20:55:04.061447",
     "exception": false,
     "start_time": "2025-03-11T20:55:02.169671",
     "status": "completed"
    },
    "slideshow": {
     "slide_type": ""
    },
    "tags": []
   },
   "outputs": [],
   "source": [
    "import os\n",
    "n_jobs = 64\n",
    "os.environ[\"OMP_NUM_THREADS\"] = str(n_jobs)\n",
    "import joblib\n",
    "import click\n",
    "import json\n",
    "import time\n",
    "\n",
    "import itertools\n",
    "import collections.abc\n",
    "import sys\n",
    "from tqdm.notebook import tqdm\n",
    "# !{sys.executable} -m pip install qcircuit\n",
    "\n",
    "import matplotlib.pyplot as plt\n",
    "import numpy as np\n",
    "import pandas as pd\n",
    "import pennylane as qml\n",
    "from sklearn.metrics import mean_squared_error, r2_score, mean_absolute_error\n",
    "\n",
    "# Qiskit\n",
    "from qiskit import QuantumCircuit\n",
    "from qiskit.quantum_info import Pauli, SparsePauliOp, Operator\n",
    "from qiskit.primitives import StatevectorEstimator\n",
    "from qiskit.circuit import Parameter, ParameterVector\n",
    "from qiskit.transpiler.preset_passmanagers import generate_preset_pass_manager\n",
    "from qiskit.quantum_info import SparsePauliOp\n",
    "from qiskit_ibm_runtime import EstimatorV2 as Estimator\n",
    "from qiskit_ibm_runtime import QiskitRuntimeService\n",
    "from qiskit_aer import AerSimulator\n",
    "from qiskit_aer.noise import NoiseModel\n",
    "from qiskit_ibm_runtime.fake_provider import FakeQuebec\n",
    "from qiskit_ibm_runtime import Batch\n",
    "from qiskit_ibm_runtime import exceptions\n",
    "# from qiskit_machine_learning.optimizers import SPSA, Minimizer\n",
    "import seaborn as sns\n",
    "\n",
    "from joblib import dump, load\n",
    "from QiskitRegressor import QiskitRegressor"
   ]
  },
  {
   "cell_type": "code",
   "execution_count": 2,
   "id": "9e8cd7b1-46c5-4d8e-966b-87a99489ddac",
   "metadata": {
    "editable": true,
    "papermill": {
     "duration": 0.012987,
     "end_time": "2025-03-11T20:55:04.078279",
     "exception": false,
     "start_time": "2025-03-11T20:55:04.065292",
     "status": "completed"
    },
    "slideshow": {
     "slide_type": ""
    },
    "tags": []
   },
   "outputs": [],
   "source": [
    "def mitarai(quantumcircuit,num_wires,paramname='x'):\n",
    "    # encoding as proposed by Mitarai et al.\n",
    "    num_features = num_wires\n",
    "    features = ParameterVector(paramname,num_features*2)\n",
    "    for i in range(num_wires):\n",
    "        feature_idx = i % num_features  # Calculate the feature index using modulo\n",
    "        quantumcircuit.ry(np.arcsin(features[feature_idx * 2]), i)\n",
    "        quantumcircuit.rz(np.arccos(features[feature_idx * 2 + 1] ** 2), i)\n",
    "\n",
    "\n",
    "def double_angle(quantumcircuit, num_wires,paramname='x'):\n",
    "    #  creates a circuit that encodes features into wires via angle encoding with an RY then RZ gate\n",
    "    #  the features are encoded 1-1 onto the qubits\n",
    "    #  if more wires are passed then features the remaining wires will be filled from the beginning of the feature list\n",
    "    num_features = num_wires\n",
    "    features = ParameterVector(paramname,num_features*2)\n",
    "    for i in range(num_wires):\n",
    "        feature_index = i % num_features\n",
    "        quantumcircuit.ry(features[feature_index], i)\n",
    "        quantumcircuit.rz(features[feature_index], i)\n",
    "\n",
    "def entangle_cnot(quantumcircuit,num_wires):\n",
    "    #  entangles all of the wires in a circular fashion using cnot gates\n",
    "    for i in range(num_wires):\n",
    "        \n",
    "        if i == num_wires - 1:\n",
    "            quantumcircuit.cx(i, 0)\n",
    "        else:\n",
    "            quantumcircuit.cx(i, i+1)\n",
    "\n",
    "\n",
    "def entangle_cz(quantumcircuit,num_wires):\n",
    "    #  entangles all of the wires in a circular fashion using cz gates\n",
    "    for i in range(num_wires):\n",
    "        \n",
    "        if i == num_wires - 1:\n",
    "            quantumcircuit.cz(i, 0)\n",
    "        else:\n",
    "            quantumcircuit.cz(i, i+1)\n",
    "\n",
    "\n",
    "def HardwareEfficient(quantumcircuit,num_wires,paramname='theta'):\n",
    "    parameters = ParameterVector(paramname,num_wires*3)\n",
    "    for qubit in range(num_wires):\n",
    "        quantumcircuit.rx(parameters[qubit * 3], qubit)  \n",
    "        quantumcircuit.rz(parameters[qubit * 3 + 1], qubit)  \n",
    "        quantumcircuit.rx(parameters[qubit * 3 + 2], qubit)  \n",
    "    entangle_cnot(quantumcircuit,num_wires)\n",
    "\n"
   ]
  },
  {
   "cell_type": "code",
   "execution_count": 3,
   "id": "98051576-89f8-4a1d-980e-3708e2089ad6",
   "metadata": {
    "papermill": {
     "duration": 0.008844,
     "end_time": "2025-03-11T20:55:04.090197",
     "exception": false,
     "start_time": "2025-03-11T20:55:04.081353",
     "status": "completed"
    },
    "tags": []
   },
   "outputs": [],
   "source": [
    "# def circuit(nqubits):\n",
    "#     qc = QuantumCircuit(nqubits)\n",
    "#     mitarai(qc,nqubits)\n",
    "#     entangle_cz(qc,nqubits)\n",
    "#     qc.barrier()\n",
    "#     mitarai(qc,nqubits,paramname='x1')\n",
    "#     entangle_cz(qc,nqubits)\n",
    "#     qc.barrier()\n",
    "#     HardwareEfficient(qc,nqubits)\n",
    "#     qc.barrier()\n",
    "#     return qc\n",
    "\n",
    "\n",
    "def circuit(nqubits,RUD=1,AL=1):\n",
    "    qc = QuantumCircuit(nqubits)\n",
    "    for i in range(RUD):\n",
    "        double_angle(qc,nqubits,paramname=f'x{i}')\n",
    "        qc.barrier()\n",
    "        for j in range(AL):        \n",
    "            HardwareEfficient(qc,nqubits,paramname=f'theta{i}_{j}')\n",
    "            qc.barrier()\n",
    "    return qc"
   ]
  },
  {
   "cell_type": "code",
   "execution_count": 4,
   "id": "11cb5805-20c7-493a-b96c-8eac41dcc1d7",
   "metadata": {
    "papermill": {
     "duration": 0.012745,
     "end_time": "2025-03-11T20:55:04.106051",
     "exception": false,
     "start_time": "2025-03-11T20:55:04.093306",
     "status": "completed"
    },
    "tags": []
   },
   "outputs": [
    {
     "name": "stdout",
     "output_type": "stream",
     "text": [
      "(19, 64) (40, 64)\n"
     ]
    },
    {
     "name": "stderr",
     "output_type": "stream",
     "text": [
      "/Users/grierjones/miniconda3/envs/simple_qml/lib/python3.12/site-packages/sklearn/base.py:380: InconsistentVersionWarning: Trying to unpickle estimator MinMaxScaler from version 1.5.1 when using version 1.6.1. This might lead to breaking code or invalid results. Use at your own risk. For more info please refer to:\n",
      "https://scikit-learn.org/stable/model_persistence.html#security-maintainability-limitations\n",
      "  warnings.warn(\n"
     ]
    }
   ],
   "source": [
    "\n",
    "top=os.getcwd()\n",
    "with open(os.path.join(top,'0.1_5_DDCC_train.bin'),'rb') as f:\n",
    "    ddcc_train = joblib.load(f)\n",
    "\n",
    "with open(os.path.join(top,'0.1_5_DDCC_test.bin'),'rb') as f:\n",
    "    ddcc_test = joblib.load(f)\n",
    "\n",
    "with open(os.path.join(top,'0.1_5_DDCC_scaler.bin'),'rb') as f:\n",
    "    ddcc_scaler = joblib.load(f)\n",
    "\n",
    "X_ddcc_train, y_ddcc_train = ddcc_train['X'],ddcc_train['y']\n",
    "X_ddcc_test, y_ddcc_test = ddcc_test['X'],ddcc_test['y']\n",
    "\n",
    "X_ddcc_train = X_ddcc_train.reshape(-1,64,5)\n",
    "X_ddcc_test = X_ddcc_test.reshape(-1,64,5)\n",
    "y_ddcc_train = y_ddcc_train.reshape(-1,64)\n",
    "y_ddcc_test = y_ddcc_test.reshape(-1,64)\n",
    "\n",
    "\n",
    "# X_train, y_train = X_ddcc_train, y_ddcc_train\n",
    "# X_test, y_test = X_ddcc_test, y_ddcc_test\n",
    "X_train, y_train = X_ddcc_train, y_ddcc_train\n",
    "X_test, y_test = X_ddcc_test, y_ddcc_test\n",
    "\n",
    "# X_train = [X_train[i:i+4] for i in range(0,len(X_train),4)]\n",
    "# X_test = [X_test[i:i+4] for i in range(0,len(X_test),4)]\n",
    "scaler = ddcc_scaler\n",
    "\n",
    "# print(len(X_train),X_train[0].shape,X_train[-1].shape)\n",
    "print(y_train.shape, y_test.shape)"
   ]
  },
  {
   "cell_type": "code",
   "execution_count": 5,
   "id": "0172f0c5-8225-47b8-91e3-8e113113d13e",
   "metadata": {
    "editable": true,
    "papermill": {
     "duration": 0.008301,
     "end_time": "2025-03-11T20:55:04.117767",
     "exception": false,
     "start_time": "2025-03-11T20:55:04.109466",
     "status": "completed"
    },
    "slideshow": {
     "slide_type": ""
    },
    "tags": []
   },
   "outputs": [],
   "source": [
    "num_qubits = 5\n",
    "RUD = 1\n",
    "AL = 5"
   ]
  },
  {
   "cell_type": "code",
   "execution_count": 6,
   "id": "fcdd8b11-a018-4461-9461-cf12e6026e13",
   "metadata": {
    "editable": true,
    "papermill": {
     "duration": 0.008416,
     "end_time": "2025-03-11T20:55:04.129534",
     "exception": false,
     "start_time": "2025-03-11T20:55:04.121118",
     "status": "completed"
    },
    "slideshow": {
     "slide_type": ""
    },
    "tags": [
     "parameters"
    ]
   },
   "outputs": [],
   "source": [
    "optimization_level = 3\n",
    "shots = 1024 * 3\n",
    "# shots = 1024.0 * 1\n",
    "resilience_level = 1"
   ]
  },
  {
   "cell_type": "code",
   "execution_count": 7,
   "id": "0dd61067-2a66-4c32-bff7-34a6678cea46",
   "metadata": {
    "editable": true,
    "papermill": {
     "duration": 0.008263,
     "end_time": "2025-03-11T20:55:04.141188",
     "exception": false,
     "start_time": "2025-03-11T20:55:04.132925",
     "status": "completed"
    },
    "slideshow": {
     "slide_type": ""
    },
    "tags": []
   },
   "outputs": [],
   "source": [
    "optimization_level = int(optimization_level)\n",
    "shots = int(shots)\n",
    "# shots = 1024.0 * 1\n",
    "resilience_level = int(resilience_level)"
   ]
  },
  {
   "cell_type": "code",
   "execution_count": 8,
   "id": "9f37a160-f338-4f3d-9b17-c1c695681785",
   "metadata": {
    "papermill": {
     "duration": 0.010938,
     "end_time": "2025-03-11T20:55:04.155650",
     "exception": false,
     "start_time": "2025-03-11T20:55:04.144712",
     "status": "completed"
    },
    "tags": []
   },
   "outputs": [],
   "source": [
    "# \n",
    "qc = circuit(num_qubits,RUD,AL)\n",
    "\n",
    "observables_labels = ''.join(['I']*(num_qubits-1))+\"Z\""
   ]
  },
  {
   "cell_type": "code",
   "execution_count": null,
   "id": "5ce28d8f-681e-4e65-823a-e959be65c068",
   "metadata": {},
   "outputs": [],
   "source": []
  },
  {
   "cell_type": "code",
   "execution_count": 9,
   "id": "d4755fc2-654e-4b9a-9cb9-0f8d050b1dd3",
   "metadata": {
    "papermill": {
     "duration": null,
     "end_time": null,
     "exception": false,
     "start_time": "2025-03-11T20:55:04.158948",
     "status": "running"
    },
    "tags": []
   },
   "outputs": [
    {
     "name": "stdout",
     "output_type": "stream",
     "text": [
      "./run13/final_state_model.bin\n",
      "Parameters loaded\n",
      "[ 4.07591833 11.23812381  3.86122661  4.85507914  5.73763905 -1.77003832\n",
      "  6.08245596  6.17567771  5.16885509  1.94909912  3.59622238  3.12825853\n",
      "  3.29659706 -0.87191253  2.72717813  1.10458521  4.23037431  2.89617679\n",
      "  1.87210622  4.53677801 -0.78561536  5.04956683  5.17458917  1.17626581\n",
      " -0.08415623  0.59959948  1.10388245  2.30160513 -0.87721835  0.70727806\n",
      " -2.94007198  3.22358266 -2.12760583 -0.14358372  0.5319113  -0.8006244\n",
      "  4.03597848  2.17136493  2.18316137 -1.08759169  1.59040399  2.12879643\n",
      "  2.27700879 -0.89000538  0.71256943 -2.91581804  2.22539431 -1.1397635\n",
      " -0.12892494  0.54917036 -2.78204112  3.05789331  2.16136682  2.15115413\n",
      " -1.08398297  0.57513303  1.1298951   1.29433594 -1.88928993  1.71113935\n",
      " -2.93104176  4.23955043 -1.12232079 -0.12675525  0.5516246  -2.78387704\n",
      "  3.05114368  2.17907265  1.18482804 -0.06621047  0.60017044  1.13792796\n",
      "  2.31143826 -1.91106509  0.71986131]\n",
      "[SparsePauliOp(['IIIIIIIIIIIIIIIIIIIIIIIIIIIIIIIIIIIIIIIIIIIIIIIIIIIIIIIIIIIIIIIIIIIIIIIIIIIIIIIIIIIIIIIIIIIIIIIIIIIIIIZIIIIIIIIIIIIIIIIIIIIIIII'],\n",
      "              coeffs=[1.+0.j])]\n",
      "<IBMBackend('ibm_brussels')>\n"
     ]
    }
   ],
   "source": [
    "model = QiskitRegressor(qc,\n",
    "                        num_qubits,\n",
    "                        AL,\n",
    "                        RUD,\n",
    "                        'real', #'fake',\n",
    "                        observables_labels,\n",
    "                        channel='ibm_quantum',\n",
    "                        instance='pinq-quebec-hub/univ-toronto/pr-hans-arno-jac',\n",
    "                        parameterpath = './run13/final_state_model.bin',\n",
    "                        optimization_level = optimization_level,\n",
    "                        resilience_level = resilience_level,\n",
    "                        shots = shots,\n",
    "                        iterations = 1,\n",
    "                        verbose = True,\n",
    "                        n_jobs = n_jobs)\n",
    "# model.fit(X_train,y_train)\n",
    "\n"
   ]
  },
  {
   "cell_type": "markdown",
   "id": "f73b37aa-28db-4013-8a28-92f47fa815e8",
   "metadata": {},
   "source": [
    "# Save values and figures!!!"
   ]
  },
  {
   "cell_type": "code",
   "execution_count": 14,
   "id": "4b15463f-162a-469e-af81-23199fc0ac8f",
   "metadata": {},
   "outputs": [],
   "source": [
    "# y_train_pred = model.predict(X_train,iters='trainpred')\n",
    "# y_test_pred = model.predict(X_test,iters='testpred')"
   ]
  },
  {
   "cell_type": "code",
   "execution_count": 20,
   "id": "232b2b35-a35c-42df-a358-c8e535cdf582",
   "metadata": {},
   "outputs": [
    {
     "data": {
      "text/plain": [
       "array([[-2.42256009e-02, -1.20861136e-02, -2.62063752e-02, ...,\n",
       "         2.08293963e-02, -3.16758282e-02, -4.64411913e-02],\n",
       "       [-7.06580026e-02, -2.01435226e-02, -3.76296670e-02, ...,\n",
       "        -2.62047244e-02, -3.43716434e-02, -5.51909810e-02],\n",
       "       [-5.45076020e-02, -3.55868899e-02, -5.98042921e-02, ...,\n",
       "        -5.17375328e-02, -3.23497820e-02, -6.25946492e-02],\n",
       "       ...,\n",
       "       [-1.61504006e-02, -1.94720718e-02, -2.95661669e-02, ...,\n",
       "        -2.08293963e-02, -4.04372275e-03, -2.08648831e-02],\n",
       "       [ 1.27857338e-02, -1.88006211e-02, -1.94867918e-02, ...,\n",
       "        -3.62834646e-02, -1.34790758e-03, -3.63452802e-02],\n",
       "       [ 1.21128005e-02,  2.68365631e-18, -6.71958339e-04, ...,\n",
       "        -1.94855643e-02, -5.72860723e-02, -4.71142521e-03]])"
      ]
     },
     "execution_count": 20,
     "metadata": {},
     "output_type": "execute_result"
    }
   ],
   "source": []
  },
  {
   "cell_type": "code",
   "execution_count": 22,
   "id": "48f86504-364d-4a52-9dd6-a74f49747dc7",
   "metadata": {},
   "outputs": [],
   "source": [
    "# with open('y_train_pred.npy', 'wb') as f:\n",
    "#     np.save(f, y_train_pred)    \n",
    "\n",
    "# with open('y_test_pred.npy', 'wb') as f:\n",
    "#     np.save(f, y_test_pred)  \n",
    "\n",
    "y_train_pred = np.load('y_train_pred.npy')\n",
    "y_test_pred = np.load('y_test_pred.npy')    \n",
    "    \n",
    "\n",
    "fake_y_train_pred = np.load('../fake/unscaled_y_train_pred.npy')\n",
    "fake_y_test_pred = np.load('../fake/unscaled_y_test_pred.npy')\n",
    "\n",
    "statevector_y_train_pred = np.load('../statevector/unscaled_y_train_pred.npy')\n",
    "statevector_y_test_pred = np.load('../statevector/unscaled_y_test_pred.npy')"
   ]
  },
  {
   "cell_type": "code",
   "execution_count": 23,
   "id": "cc8a5114-0c66-43c5-b1f6-e46b7ec09ef6",
   "metadata": {},
   "outputs": [],
   "source": [
    "unscaled_y_train = ddcc_scaler.inverse_transform(y_train)\n",
    "unscaled_y_train_pred = ddcc_scaler.inverse_transform(y_train_pred)\n",
    "\n",
    "unscaled_y_test = ddcc_scaler.inverse_transform(y_test)\n",
    "unscaled_y_test_pred = ddcc_scaler.inverse_transform(y_test_pred)"
   ]
  },
  {
   "cell_type": "code",
   "execution_count": null,
   "id": "d7884f7e-4693-49d7-8b8f-e02f0d4addde",
   "metadata": {},
   "outputs": [],
   "source": [
    "plt.scatter(y_train.flatten(),y_train_pred.flatten(),label=\"R$^{2}$=\"+f\"{r2_score(y_train.flatten(),y_train_pred.flatten()):.2f}\")\n",
    "plt.plot(y_train.flatten(),y_train.flatten(),'k--')\n",
    "plt.scatter(y_test.flatten(),y_test_pred.flatten(),label=\"R$^{2}$=\"+f\"{r2_score(y_test.flatten(),y_test_pred.flatten()):.2f}\")\n",
    "plt.legend()\n",
    "plt.show()"
   ]
  },
  {
   "cell_type": "code",
   "execution_count": null,
   "id": "6ebb7cf9-bfe8-4660-b9c0-99a44c9eb797",
   "metadata": {},
   "outputs": [],
   "source": [
    "plt.scatter(unscaled_y_train.flatten(),unscaled_y_train_pred.flatten(),label=\"R$^{2}$=\"+f\"{r2_score(unscaled_y_train.flatten(),unscaled_y_train_pred.flatten()):.2f}\")\n",
    "\n",
    "plt.plot(unscaled_y_train.flatten(),unscaled_y_train.flatten(),'k--')\n",
    "plt.scatter(unscaled_y_test.flatten(),unscaled_y_test_pred.flatten(),label=\"R$^{2}$=\"+f\"{r2_score(unscaled_y_test.flatten(),unscaled_y_test_pred.flatten()):.2f}\")\n",
    "plt.legend()\n",
    "plt.show()"
   ]
  },
  {
   "cell_type": "code",
   "execution_count": null,
   "id": "ca23de8c-cb66-4c24-80cf-2622333e2a8b",
   "metadata": {},
   "outputs": [],
   "source": [
    "# statevectordf = pd.read_csv(os.path.join(os.path.expanduser('~'),'qregress/qml_DDCC/RUD_AL/5AL/A2_HWE-CNOT/A2_HWE-CNOT_predicted_values.csv'))\n",
    "# statevectordf['Predicted'] = [float(i.strip('[]')) for i in statevectordf['Predicted']]\n",
    "# statevectordf['Reference'] = [float(i.strip('[]')) for i in statevectordf['Reference']]\n",
    "# statevectordf['Device'] = len(statevectordf)*['State Vector']\n",
    "\n"
   ]
  },
  {
   "cell_type": "code",
   "execution_count": 28,
   "id": "e77f6583-f260-46e4-917a-77387662dae7",
   "metadata": {},
   "outputs": [],
   "source": [
    "cmap = sns.color_palette('Paired',6)"
   ]
  },
  {
   "cell_type": "code",
   "execution_count": 50,
   "id": "09598b3e-2efb-4a86-816a-caff97f12e7d",
   "metadata": {},
   "outputs": [],
   "source": [
    "# help(ax2.scatter)"
   ]
  },
  {
   "cell_type": "code",
   "execution_count": 60,
   "id": "bc777d2e-ec21-4047-bc3c-5c4f2ab2f39e",
   "metadata": {},
   "outputs": [
    {
     "data": {
      "image/png": "[encoded data removed]",
      "text/plain": [
       "<Figure size 1500x500 with 3 Axes>"
      ]
     },
     "metadata": {},
     "output_type": "display_data"
    }
   ],
   "source": [
    "SIZE = 12\n",
    "\n",
    "plt.rc('font', size=SIZE)          # controls default text sizes\n",
    "plt.rc('axes', titlesize=SIZE)     # fontsize of the axes title\n",
    "plt.rc('axes', labelsize=SIZE)    # fontsize of the x and y labels\n",
    "plt.rc('xtick', labelsize=SIZE)    # fontsize of the tick labels\n",
    "plt.rc('ytick', labelsize=SIZE)    # fontsize of the tick labels\n",
    "plt.rc('legend', fontsize=SIZE)    # legend fontsize\n",
    "plt.rc('figure', titlesize=SIZE)  # fontsize of the figure title\n",
    "\n",
    "fig, (ax1,ax2,ax3) = plt.subplots(1,3,figsize=(15,5),sharey=True)\n",
    "ax3.scatter(unscaled_y_train.flatten(),unscaled_y_train_pred.flatten(),label=\"Train R$^{2}=$\"+f\"{r2_score(unscaled_y_train.flatten(),unscaled_y_train_pred.flatten()):.4f}\",color=cmap[0], edgecolors='black',marker='o')\n",
    "ax3.scatter(unscaled_y_test.flatten(),unscaled_y_test_pred.flatten(),label=\"Test R$^{2}=$\"+f\"{r2_score(unscaled_y_test.flatten(),unscaled_y_test_pred.flatten()):.4f}\",color=cmap[1], edgecolors='black',marker='^')\n",
    "\n",
    "ax2.scatter(unscaled_y_train.flatten(),fake_y_train_pred.flatten(),label=\"Train R$^{2}=$\"+f\"{r2_score(unscaled_y_train.flatten(),fake_y_train_pred.flatten()):.4f}\",color=cmap[2], edgecolors='black',marker='o')\n",
    "ax2.scatter(unscaled_y_test.flatten(),fake_y_test_pred.flatten(),label=\"Test R$^{2}=$\"+f\"{r2_score(unscaled_y_test.flatten(),fake_y_test_pred.flatten()):.4f}\",color=cmap[3], edgecolors='black',marker='^')\n",
    "\n",
    "ax1.scatter(unscaled_y_train.flatten(),statevector_y_train_pred.flatten(),label=\"Train R$^{2}=$\"+f\"{r2_score(unscaled_y_train.flatten(),statevector_y_train_pred.flatten()):.4f}\",color=cmap[4], edgecolors='black',marker='o')\n",
    "ax1.scatter(unscaled_y_test.flatten(),statevector_y_test_pred.flatten(),label=\"Test R$^{2}=$\"+f\"{r2_score(unscaled_y_test.flatten(),statevector_y_test_pred.flatten()):.4f}\",color=cmap[5], edgecolors='black',marker='^')\n",
    "# sns.scatterplot(data=statevectordf[statevectordf['Data']=='Train'],x='Reference',y='Predicted',label=\"State Vector Train: R$^{2}=$\"+f\"{r2_score(statevectordf[statevectordf['Data']=='Train']['Reference'],statevectordf[statevectordf['Data']=='Train']['Predicted']):.4f}\", edgecolors='black',color=cmap[2])\n",
    "# sns.scatterplot(data=statevectordf[statevectordf['Data']=='Test'],x='Reference',y='Predicted',label=\"State Vector Test: R$^{2}=$\"+f\"{r2_score(statevectordf[statevectordf['Data']=='Test']['Reference'],statevectordf[statevectordf['Data']=='Test']['Predicted']):.4f}\", edgecolors='black',color=cmap[3])\n",
    "ax1.plot(range(-1,2),range(-1,2),'k--')\n",
    "ax1.set_ylim(-3e-2,3e-2)\n",
    "ax1.set_xlim(-3e-2,3e-2)\n",
    "# ax1.set_ylabel(\"Predicted t$_{2}$-amplitudes\")\n",
    "ax1.set_xlabel(\"Calculated t$_{2}$-amplitudes\")\n",
    "ax1.legend()\n",
    "ax1.set_title('State Vector')\n",
    "\n",
    "ax2.plot(range(-1,2),range(-1,2),'k--')\n",
    "ax2.set_ylim(-3e-2,3e-2)\n",
    "ax2.set_xlim(-3e-2,3e-2)\n",
    "# ax2.set_ylabel(\"Predicted t$_{2}$-amplitudes\")\n",
    "ax2.set_xlabel(\"Calculated t$_{2}$-amplitudes\")\n",
    "ax2.legend()\n",
    "ax2.set_title(r'$\\it{FakeQuebec}$')\n",
    "\n",
    "ax3.plot(range(-1,2),range(-1,2),'k--')\n",
    "ax3.set_ylim(-3e-2,3e-2)\n",
    "ax3.set_xlim(-3e-2,3e-2)\n",
    "# ax3.set_ylabel(\"Predicted t$_{2}$-amplitudes\")\n",
    "ax3.set_xlabel(\"Calculated t$_{2}$-amplitudes\")\n",
    "ax3.legend()\n",
    "ax3.set_title(r'$\\it{ibm\\_quebec}$')\n",
    "\n",
    "plt.tight_layout()\n",
    "plt.savefig(os.path.join(os.path.expanduser('~'),'qregress/images/DDCC/ibmq_vs_statevector_vs_fake.png'),dpi=300,bbox_inches='tight')\n",
    "plt.show()"
   ]
  },
  {
   "cell_type": "code",
   "execution_count": null,
   "id": "e2722b1e-d33f-41bc-9f4c-1df8483fec42",
   "metadata": {},
   "outputs": [],
   "source": []
  }
 ],
 "metadata": {
  "kernelspec": {
   "display_name": "Python 3 (ipykernel)",
   "language": "python",
   "name": "python3"
  },
  "language_info": {
   "codemirror_mode": {
    "name": "ipython",
    "version": 3
   },
   "file_extension": ".py",
   "mimetype": "text/x-python",
   "name": "python",
   "nbconvert_exporter": "python",
   "pygments_lexer": "ipython3",
   "version": "3.12.9"
  },
  "papermill": {
   "default_parameters": {},
   "duration": null,
   "end_time": null,
   "environment_variables": {},
   "exception": null,
   "input_path": "class_ML_batched.ipynb",
   "output_path": "class_ML_batched.ipynb",
   "parameters": {},
   "start_time": "2025-03-11T20:55:01.347151",
   "version": "2.6.0"
  }
 },
 "nbformat": 4,
 "nbformat_minor": 5
}
