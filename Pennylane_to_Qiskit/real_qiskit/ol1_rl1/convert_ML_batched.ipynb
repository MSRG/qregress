{
 "cells": [
  {
   "cell_type": "code",
   "execution_count": 1,
   "id": "dc8f5c2c-b710-429b-9f46-14c842ed6478",
   "metadata": {
    "editable": true,
    "execution": {
     "iopub.execute_input": "2025-03-05T21:23:38.484037Z",
     "iopub.status.busy": "2025-03-05T21:23:38.483789Z",
     "iopub.status.idle": "2025-03-05T21:23:40.190607Z",
     "shell.execute_reply": "2025-03-05T21:23:40.190036Z"
    },
    "papermill": {
     "duration": 1.71605,
     "end_time": "2025-03-05T21:23:40.192744",
     "exception": false,
     "start_time": "2025-03-05T21:23:38.476694",
     "status": "completed"
    },
    "slideshow": {
     "slide_type": ""
    },
    "tags": []
   },
   "outputs": [],
   "source": [
    "import os\n",
    "n_jobs = 16\n",
    "os.environ[\"OMP_NUM_THREADS\"] = str(n_jobs)\n",
    "import joblib\n",
    "import click\n",
    "import json\n",
    "import time\n",
    "\n",
    "import itertools\n",
    "import collections.abc\n",
    "import sys\n",
    "from tqdm.notebook import tqdm\n",
    "# !{sys.executable} -m pip install qcircuit\n",
    "\n",
    "import matplotlib.pyplot as plt\n",
    "import numpy as np\n",
    "import pandas as pd\n",
    "import pennylane as qml\n",
    "from sklearn.metrics import mean_squared_error, r2_score, mean_absolute_error\n",
    "from scipy.optimize import minimize\n",
    "# Qiskit\n",
    "from qiskit import QuantumCircuit\n",
    "from qiskit.quantum_info import Pauli, SparsePauliOp, Operator\n",
    "from qiskit.primitives import StatevectorEstimator\n",
    "from qiskit.circuit import Parameter, ParameterVector\n",
    "from qiskit.transpiler.preset_passmanagers import generate_preset_pass_manager\n",
    "from qiskit.quantum_info import SparsePauliOp\n",
    "from qiskit_ibm_runtime import EstimatorV2 as Estimator\n",
    "from qiskit_ibm_runtime import QiskitRuntimeService\n",
    "from qiskit_aer import AerSimulator\n",
    "from qiskit_aer.noise import NoiseModel\n",
    "from qiskit_ibm_runtime.fake_provider import FakeQuebec\n",
    "from qiskit_ibm_runtime import Session, Batch\n",
    "# from qiskit_machine_learning.optimizers import SPSA, Minimizer\n",
    "\n",
    "\n",
    "from joblib import dump, load\n"
   ]
  },
  {
   "cell_type": "code",
   "execution_count": 2,
   "id": "9e8cd7b1-46c5-4d8e-966b-87a99489ddac",
   "metadata": {
    "editable": true,
    "execution": {
     "iopub.execute_input": "2025-03-05T21:23:40.208067Z",
     "iopub.status.busy": "2025-03-05T21:23:40.207625Z",
     "iopub.status.idle": "2025-03-05T21:23:40.215917Z",
     "shell.execute_reply": "2025-03-05T21:23:40.215324Z"
    },
    "papermill": {
     "duration": 0.017372,
     "end_time": "2025-03-05T21:23:40.217403",
     "exception": false,
     "start_time": "2025-03-05T21:23:40.200031",
     "status": "completed"
    },
    "slideshow": {
     "slide_type": ""
    },
    "tags": []
   },
   "outputs": [],
   "source": [
    "def mitarai(quantumcircuit,num_wires,paramname='x'):\n",
    "    # encoding as proposed by Mitarai et al.\n",
    "    num_features = num_wires\n",
    "    features = ParameterVector(paramname,num_features*2)\n",
    "    for i in range(num_wires):\n",
    "        feature_idx = i % num_features  # Calculate the feature index using modulo\n",
    "        quantumcircuit.ry(np.arcsin(features[feature_idx * 2]), i)\n",
    "        quantumcircuit.rz(np.arccos(features[feature_idx * 2 + 1] ** 2), i)\n",
    "\n",
    "\n",
    "def double_angle(quantumcircuit, num_wires,paramname='x'):\n",
    "    #  creates a circuit that encodes features into wires via angle encoding with an RY then RZ gate\n",
    "    #  the features are encoded 1-1 onto the qubits\n",
    "    #  if more wires are passed then features the remaining wires will be filled from the beginning of the feature list\n",
    "    num_features = num_wires\n",
    "    features = ParameterVector(paramname,num_features*2)\n",
    "    for i in range(num_wires):\n",
    "        feature_index = i % num_features\n",
    "        quantumcircuit.ry(features[feature_index], i)\n",
    "        quantumcircuit.rz(features[feature_index], i)\n",
    "\n",
    "def entangle_cnot(quantumcircuit,num_wires):\n",
    "    #  entangles all of the wires in a circular fashion using cnot gates\n",
    "    for i in range(num_wires):\n",
    "        \n",
    "        if i == num_wires - 1:\n",
    "            quantumcircuit.cx(i, 0)\n",
    "        else:\n",
    "            quantumcircuit.cx(i, i+1)\n",
    "\n",
    "\n",
    "def entangle_cz(quantumcircuit,num_wires):\n",
    "    #  entangles all of the wires in a circular fashion using cz gates\n",
    "    for i in range(num_wires):\n",
    "        \n",
    "        if i == num_wires - 1:\n",
    "            quantumcircuit.cz(i, 0)\n",
    "        else:\n",
    "            quantumcircuit.cz(i, i+1)\n",
    "\n",
    "\n",
    "def HardwareEfficient(quantumcircuit,num_wires,paramname='theta'):\n",
    "    parameters = ParameterVector(paramname,num_wires*3)\n",
    "    for qubit in range(num_wires):\n",
    "        quantumcircuit.rx(parameters[qubit * 3], qubit)  \n",
    "        quantumcircuit.rz(parameters[qubit * 3 + 1], qubit)  \n",
    "        quantumcircuit.rx(parameters[qubit * 3 + 2], qubit)  \n",
    "    entangle_cnot(quantumcircuit,num_wires)\n",
    "\n"
   ]
  },
  {
   "cell_type": "code",
   "execution_count": 3,
   "id": "98051576-89f8-4a1d-980e-3708e2089ad6",
   "metadata": {
    "execution": {
     "iopub.execute_input": "2025-03-05T21:23:40.231954Z",
     "iopub.status.busy": "2025-03-05T21:23:40.231506Z",
     "iopub.status.idle": "2025-03-05T21:23:40.235489Z",
     "shell.execute_reply": "2025-03-05T21:23:40.234918Z"
    },
    "papermill": {
     "duration": 0.012618,
     "end_time": "2025-03-05T21:23:40.236752",
     "exception": false,
     "start_time": "2025-03-05T21:23:40.224134",
     "status": "completed"
    },
    "tags": []
   },
   "outputs": [],
   "source": [
    "# def circuit(nqubits):\n",
    "#     qc = QuantumCircuit(nqubits)\n",
    "#     mitarai(qc,nqubits)\n",
    "#     entangle_cz(qc,nqubits)\n",
    "#     qc.barrier()\n",
    "#     mitarai(qc,nqubits,paramname='x1')\n",
    "#     entangle_cz(qc,nqubits)\n",
    "#     qc.barrier()\n",
    "#     HardwareEfficient(qc,nqubits)\n",
    "#     qc.barrier()\n",
    "#     return qc\n",
    "\n",
    "\n",
    "def circuit(nqubits,RUD=1,AL=1):\n",
    "    qc = QuantumCircuit(nqubits)\n",
    "    for i in range(RUD):\n",
    "        double_angle(qc,nqubits,paramname=f'x{i}')\n",
    "        qc.barrier()\n",
    "        for j in range(AL):        \n",
    "            HardwareEfficient(qc,nqubits,paramname=f'theta{i}_{j}')\n",
    "            qc.barrier()\n",
    "    return qc"
   ]
  },
  {
   "cell_type": "code",
   "execution_count": 4,
   "id": "11cb5805-20c7-493a-b96c-8eac41dcc1d7",
   "metadata": {
    "execution": {
     "iopub.execute_input": "2025-03-05T21:23:40.251049Z",
     "iopub.status.busy": "2025-03-05T21:23:40.250872Z",
     "iopub.status.idle": "2025-03-05T21:23:40.258831Z",
     "shell.execute_reply": "2025-03-05T21:23:40.258213Z"
    },
    "papermill": {
     "duration": 0.016752,
     "end_time": "2025-03-05T21:23:40.260080",
     "exception": false,
     "start_time": "2025-03-05T21:23:40.243328",
     "status": "completed"
    },
    "tags": []
   },
   "outputs": [
    {
     "name": "stdout",
     "output_type": "stream",
     "text": [
      "(4, 64, 5) (4, 64, 5)\n",
      "(4, 64) (4, 64)\n"
     ]
    },
    {
     "name": "stderr",
     "output_type": "stream",
     "text": [
      "/home/ubuntu/miniconda3/envs/qml/lib/python3.11/site-packages/sklearn/base.py:380: InconsistentVersionWarning: Trying to unpickle estimator MinMaxScaler from version 1.5.1 when using version 1.6.0. This might lead to breaking code or invalid results. Use at your own risk. For more info please refer to:\n",
      "https://scikit-learn.org/stable/model_persistence.html#security-maintainability-limitations\n",
      "  warnings.warn(\n"
     ]
    }
   ],
   "source": [
    "\n",
    "top=os.getcwd()\n",
    "with open(os.path.join(top,'5_DDCC_train.bin'),'rb') as f:\n",
    "    ddcc_train = joblib.load(f)\n",
    "\n",
    "with open(os.path.join(top,'5_DDCC_test.bin'),'rb') as f:\n",
    "    ddcc_test = joblib.load(f)\n",
    "\n",
    "with open(os.path.join(top,'5_DDCC_scaler.bin'),'rb') as f:\n",
    "    ddcc_scaler = joblib.load(f)\n",
    "\n",
    "X_ddcc_train, y_ddcc_train = ddcc_train['X'],ddcc_train['y']\n",
    "X_ddcc_test, y_ddcc_test = ddcc_test['X'],ddcc_test['y']\n",
    "\n",
    "X_ddcc_train = X_ddcc_train.reshape(-1,64,5)[0:4]\n",
    "X_ddcc_test = X_ddcc_test.reshape(-1,64,5)[0:4]\n",
    "y_ddcc_train = y_ddcc_train.reshape(-1,64)[0:4]\n",
    "y_ddcc_test = y_ddcc_test.reshape(-1,64)[0:4]\n",
    "\n",
    "\n",
    "# X_train, y_train = X_ddcc_train, y_ddcc_train\n",
    "# X_test, y_test = X_ddcc_test, y_ddcc_test\n",
    "X_train, y_train = X_ddcc_train, y_ddcc_train\n",
    "X_test, y_test = X_ddcc_test, y_ddcc_test\n",
    "\n",
    "# X_train = [X_train[i:i+4] for i in range(0,len(X_train),4)]\n",
    "# X_test = [X_test[i:i+4] for i in range(0,len(X_test),4)]\n",
    "scaler = ddcc_scaler\n",
    "\n",
    "print(X_train.shape,X_test.shape)\n",
    "print(y_train.shape, y_test.shape)"
   ]
  },
  {
   "cell_type": "code",
   "execution_count": 5,
   "id": "0172f0c5-8225-47b8-91e3-8e113113d13e",
   "metadata": {
    "editable": true,
    "execution": {
     "iopub.execute_input": "2025-03-05T21:23:40.272368Z",
     "iopub.status.busy": "2025-03-05T21:23:40.271968Z",
     "iopub.status.idle": "2025-03-05T21:23:40.275051Z",
     "shell.execute_reply": "2025-03-05T21:23:40.274479Z"
    },
    "papermill": {
     "duration": 0.010707,
     "end_time": "2025-03-05T21:23:40.276390",
     "exception": false,
     "start_time": "2025-03-05T21:23:40.265683",
     "status": "completed"
    },
    "slideshow": {
     "slide_type": ""
    },
    "tags": []
   },
   "outputs": [],
   "source": [
    "num_qubits = 5\n",
    "RUD = 1\n",
    "AL = 5"
   ]
  },
  {
   "cell_type": "code",
   "execution_count": 6,
   "id": "fcdd8b11-a018-4461-9461-cf12e6026e13",
   "metadata": {
    "editable": true,
    "execution": {
     "iopub.execute_input": "2025-03-05T21:23:40.289283Z",
     "iopub.status.busy": "2025-03-05T21:23:40.288613Z",
     "iopub.status.idle": "2025-03-05T21:23:40.292883Z",
     "shell.execute_reply": "2025-03-05T21:23:40.291974Z"
    },
    "papermill": {
     "duration": 0.011957,
     "end_time": "2025-03-05T21:23:40.294017",
     "exception": false,
     "start_time": "2025-03-05T21:23:40.282060",
     "status": "completed"
    },
    "slideshow": {
     "slide_type": ""
    },
    "tags": [
     "parameters"
    ]
   },
   "outputs": [],
   "source": [
    "optimization_level = 2\n",
    "shots = 1024.0 * 3\n",
    "# shots = 1024.0 * 1\n",
    "resilience_level = 0"
   ]
  },
  {
   "cell_type": "code",
   "execution_count": 7,
   "id": "83d0340e",
   "metadata": {
    "execution": {
     "iopub.execute_input": "2025-03-05T21:23:40.307199Z",
     "iopub.status.busy": "2025-03-05T21:23:40.306401Z",
     "iopub.status.idle": "2025-03-05T21:23:40.310535Z",
     "shell.execute_reply": "2025-03-05T21:23:40.309604Z"
    },
    "papermill": {
     "duration": 0.012235,
     "end_time": "2025-03-05T21:23:40.311889",
     "exception": false,
     "start_time": "2025-03-05T21:23:40.299654",
     "status": "completed"
    },
    "tags": [
     "injected-parameters"
    ]
   },
   "outputs": [],
   "source": [
    "# Parameters\n",
    "optimization_level = \"2\"\n",
    "resilience_level = \"1\"\n",
    "shots = \"3072\"\n"
   ]
  },
  {
   "cell_type": "code",
   "execution_count": 8,
   "id": "0dd61067-2a66-4c32-bff7-34a6678cea46",
   "metadata": {
    "editable": true,
    "execution": {
     "iopub.execute_input": "2025-03-05T21:23:40.325117Z",
     "iopub.status.busy": "2025-03-05T21:23:40.324494Z",
     "iopub.status.idle": "2025-03-05T21:23:40.329250Z",
     "shell.execute_reply": "2025-03-05T21:23:40.328294Z"
    },
    "papermill": {
     "duration": 0.012473,
     "end_time": "2025-03-05T21:23:40.330221",
     "exception": false,
     "start_time": "2025-03-05T21:23:40.317748",
     "status": "completed"
    },
    "slideshow": {
     "slide_type": ""
    },
    "tags": []
   },
   "outputs": [],
   "source": [
    "optimization_level = int(optimization_level)\n",
    "shots = int(shots)\n",
    "# shots = 1024.0 * 1\n",
    "resilience_level = int(resilience_level)"
   ]
  },
  {
   "cell_type": "code",
   "execution_count": 9,
   "id": "9f37a160-f338-4f3d-9b17-c1c695681785",
   "metadata": {
    "execution": {
     "iopub.execute_input": "2025-03-05T21:23:40.337630Z",
     "iopub.status.busy": "2025-03-05T21:23:40.337061Z",
     "iopub.status.idle": "2025-03-05T21:23:40.350477Z",
     "shell.execute_reply": "2025-03-05T21:23:40.349442Z"
    },
    "papermill": {
     "duration": 0.018449,
     "end_time": "2025-03-05T21:23:40.351642",
     "exception": false,
     "start_time": "2025-03-05T21:23:40.333193",
     "status": "completed"
    },
    "tags": []
   },
   "outputs": [
    {
     "name": "stdout",
     "output_type": "stream",
     "text": [
      "Parameters loaded\n"
     ]
    }
   ],
   "source": [
    "# \n",
    "qc = circuit(num_qubits,RUD,AL)\n",
    "\n",
    "num_params = len([i for i in list(qc.parameters) if 'theta' in i.name]) // AL\n",
    "generator = np.random.default_rng(12958234)\n",
    "load_params = './state_vector_parameters.bin'\n",
    "\n",
    "if load_params!=None:\n",
    "    print('Parameters loaded')\n",
    "    try:\n",
    "        x0 = np.load(load_params)['x0']\n",
    "    except:\n",
    "        x0 = np.array(np.load(load_params,allow_pickle=True)['parameters'])\n",
    "else:\n",
    "    print('Parameters from scratch')\n",
    "    x0 = np.tile(generator.uniform(-np.pi, np.pi, num_params),AL*RUD)\n",
    "\n",
    "\n"
   ]
  },
  {
   "cell_type": "code",
   "execution_count": 10,
   "id": "9acf4b39-77a4-4465-aceb-7d9d8670bda4",
   "metadata": {
    "editable": true,
    "execution": {
     "iopub.execute_input": "2025-03-05T21:23:40.359076Z",
     "iopub.status.busy": "2025-03-05T21:23:40.358488Z",
     "iopub.status.idle": "2025-03-05T21:23:41.345179Z",
     "shell.execute_reply": "2025-03-05T21:23:41.344441Z"
    },
    "papermill": {
     "duration": 0.993833,
     "end_time": "2025-03-05T21:23:41.348478",
     "exception": false,
     "start_time": "2025-03-05T21:23:40.354645",
     "status": "completed"
    },
    "slideshow": {
     "slide_type": ""
    },
    "tags": []
   },
   "outputs": [
    {
     "data": {
      "image/png": "[encoded data removed]",
      "text/plain": [
       "<Figure size 5387.77x451.5 with 1 Axes>"
      ]
     },
     "execution_count": 10,
     "metadata": {},
     "output_type": "execute_result"
    }
   ],
   "source": [
    "qc.draw('mpl', scale=1, plot_barriers=True, fold=100)"
   ]
  },
  {
   "cell_type": "code",
   "execution_count": 11,
   "id": "33237488-9027-4fae-9e2c-7aa92a95d9ab",
   "metadata": {
    "execution": {
     "iopub.execute_input": "2025-03-05T21:23:41.370890Z",
     "iopub.status.busy": "2025-03-05T21:23:41.370393Z",
     "iopub.status.idle": "2025-03-05T21:23:52.572948Z",
     "shell.execute_reply": "2025-03-05T21:23:52.572086Z"
    },
    "papermill": {
     "duration": 11.215217,
     "end_time": "2025-03-05T21:23:52.574725",
     "exception": false,
     "start_time": "2025-03-05T21:23:41.359508",
     "status": "completed"
    },
    "tags": []
   },
   "outputs": [
    {
     "name": "stdout",
     "output_type": "stream",
     "text": [
      "[SparsePauliOp(['IIIIIIIIIIIIIIIIIIIIIIIIIIIIIIIIIIIIIIIIIIIIIIIIIIIIIIIIIIIIIIIIIIIIIIIIIIIIIIIIIZIIIIIIIIIIIIIIIIIIIIIIIIIIIIIIIIIIIIIIIIIIIII'],\n",
      "              coeffs=[1.+0.j])]\n"
     ]
    }
   ],
   "source": [
    "# back = \"statevector\"\n",
    "# back = \"fake\"\n",
    "back = \"real\"\n",
    "\n",
    "if back=='real':\n",
    "    # Select backend\n",
    "    service = QiskitRuntimeService(channel=\"ibm_quantum\", instance='pinq-quebec-hub/univ-toronto/default')\n",
    "    _backend = service.least_busy(operational=True, simulator=False, min_num_qubits=127)\n",
    "    maxcircuits = _backend.max_circuits\n",
    "    target = _backend.target\n",
    "# Generate pass manager\n",
    "    pm = generate_preset_pass_manager(target=target, optimization_level=optimization_level)\n",
    "    qc = pm.run(qc)\n",
    "    \n",
    "    \n",
    "    observables_labels = ''.join(['I']*(num_qubits-1))+\"Z\"\n",
    "    observables = [SparsePauliOp(observables_labels)]\n",
    "    \n",
    "    mapped_observables = [observable.apply_layout(qc.layout) for observable in observables]\n",
    "    print(mapped_observables)    \n",
    "elif back=='fake':\n",
    "    # Select backend\n",
    "    service = QiskitRuntimeService(channel=\"ibm_quantum\", instance='pinq-quebec-hub/univ-toronto/default')\n",
    "    backend = service.least_busy(operational=True, simulator=False, min_num_qubits=127)\n",
    "    maxcircuits = backend.max_circuits\n",
    "    # generate a simulator that mimics the real quantum\n",
    "    # system with the latest calibration results\n",
    "    _backend = AerSimulator.from_backend(backend)\n",
    "    \n",
    "    # _backend = FakeQuebec()\n",
    "    target = _backend.target\n",
    "\n",
    "    # Generate pass manager\n",
    "    pm = generate_preset_pass_manager(target=target, optimization_level=optimization_level)\n",
    "    qc = pm.run(qc)\n",
    "    \n",
    "    \n",
    "    observables_labels = ''.join(['I']*(num_qubits-1))+\"Z\"\n",
    "    observables = [SparsePauliOp(observables_labels)]\n",
    "    \n",
    "    mapped_observables = [observable.apply_layout(qc.layout) for observable in observables]\n",
    "    print(mapped_observables)\n",
    "else:\n",
    "    observables_labels = ''.join(['I']*(num_qubits-1))+\"Z\"\n",
    "    observables = [SparsePauliOp(observables_labels)]\n",
    "    \n",
    "    mapped_observables = [observable.apply_layout(qc.layout) for observable in observables]\n",
    "    print(mapped_observables)    \n",
    "\n",
    "    _backend = back"
   ]
  },
  {
   "cell_type": "code",
   "execution_count": 12,
   "id": "321031ff-884b-4a5e-9764-97da9a827488",
   "metadata": {
    "execution": {
     "iopub.execute_input": "2025-03-05T21:23:52.598706Z",
     "iopub.status.busy": "2025-03-05T21:23:52.598509Z",
     "iopub.status.idle": "2025-03-05T21:23:52.602443Z",
     "shell.execute_reply": "2025-03-05T21:23:52.601747Z"
    },
    "papermill": {
     "duration": 0.017546,
     "end_time": "2025-03-05T21:23:52.603950",
     "exception": false,
     "start_time": "2025-03-05T21:23:52.586404",
     "status": "completed"
    },
    "tags": []
   },
   "outputs": [],
   "source": [
    "num_executions = int(qc.num_parameters * 1 * shots)"
   ]
  },
  {
   "cell_type": "code",
   "execution_count": 13,
   "id": "558c511f-ba7b-477c-95de-c9e51808dfdd",
   "metadata": {
    "execution": {
     "iopub.execute_input": "2025-03-05T21:23:52.626977Z",
     "iopub.status.busy": "2025-03-05T21:23:52.626788Z",
     "iopub.status.idle": "2025-03-05T21:23:52.630494Z",
     "shell.execute_reply": "2025-03-05T21:23:52.629796Z"
    },
    "papermill": {
     "duration": 0.016922,
     "end_time": "2025-03-05T21:23:52.631930",
     "exception": false,
     "start_time": "2025-03-05T21:23:52.615008",
     "status": "completed"
    },
    "tags": []
   },
   "outputs": [],
   "source": [
    "num_executions_minus_x = int(num_qubits * 3 * AL* 1 * shots)"
   ]
  },
  {
   "cell_type": "code",
   "execution_count": 14,
   "id": "dee52185-d5a3-413c-be12-a79e41efc2ab",
   "metadata": {
    "execution": {
     "iopub.execute_input": "2025-03-05T21:23:52.648796Z",
     "iopub.status.busy": "2025-03-05T21:23:52.648505Z",
     "iopub.status.idle": "2025-03-05T21:23:52.652063Z",
     "shell.execute_reply": "2025-03-05T21:23:52.651413Z"
    },
    "papermill": {
     "duration": 0.013644,
     "end_time": "2025-03-05T21:23:52.653139",
     "exception": false,
     "start_time": "2025-03-05T21:23:52.639495",
     "status": "completed"
    },
    "tags": []
   },
   "outputs": [],
   "source": [
    "# qc.draw('mpl', scale=1, plot_barriers=True, fold=100)"
   ]
  },
  {
   "cell_type": "code",
   "execution_count": 15,
   "id": "f0d97c4c-6c7d-4139-9767-725675e8a85f",
   "metadata": {
    "execution": {
     "iopub.execute_input": "2025-03-05T21:23:52.669787Z",
     "iopub.status.busy": "2025-03-05T21:23:52.669496Z",
     "iopub.status.idle": "2025-03-05T21:23:52.675593Z",
     "shell.execute_reply": "2025-03-05T21:23:52.674510Z"
    },
    "papermill": {
     "duration": 0.015842,
     "end_time": "2025-03-05T21:23:52.676725",
     "exception": false,
     "start_time": "2025-03-05T21:23:52.660883",
     "status": "completed"
    },
    "tags": []
   },
   "outputs": [],
   "source": [
    "def map2qiskit(ansatz, num_qubits, X):\n",
    "    '''\n",
    "    Map features to Qiskit Circuit\n",
    "    \n",
    "    parameters\n",
    "    ----------\n",
    "    ansatz: qiskit.circuit.quantumcircuit.QuantumCircuit\n",
    "        Qiskit Quantum Circuit\n",
    "        \n",
    "    num_qubits: int\n",
    "        Number of qubits\n",
    "        \n",
    "    X: numpy.ndarray\n",
    "        Feature matrix\n",
    "\n",
    "    returns\n",
    "    -------\n",
    "    ansatz: qiskit.circuit.quantumcircuit.QuantumCircuit\n",
    "        Qiskit Quantum Circuit\n",
    "    \n",
    "    '''\n",
    "    featparams = dict([(i,X[idx % num_qubits]) for idx,i in enumerate(ansatz.parameters) if 'x' in i.name])\n",
    "    ansatz = ansatz.assign_parameters(featparams)\n",
    "    return ansatz"
   ]
  },
  {
   "cell_type": "code",
   "execution_count": 16,
   "id": "4f11f4a0-4fce-4048-9471-81e14a304da2",
   "metadata": {
    "execution": {
     "iopub.execute_input": "2025-03-05T21:23:52.686881Z",
     "iopub.status.busy": "2025-03-05T21:23:52.686014Z",
     "iopub.status.idle": "2025-03-05T21:23:52.695669Z",
     "shell.execute_reply": "2025-03-05T21:23:52.694739Z"
    },
    "papermill": {
     "duration": 0.015942,
     "end_time": "2025-03-05T21:23:52.696726",
     "exception": false,
     "start_time": "2025-03-05T21:23:52.680784",
     "status": "completed"
    },
    "tags": []
   },
   "outputs": [],
   "source": [
    "def get_results(job):\n",
    "    '''\n",
    "    Get the results of a quantum job from IBM Quantum\n",
    "    \n",
    "    parameters\n",
    "    ----------\n",
    "    job: list/str\n",
    "        Contains jobids and results (qiskit.primitives.primitive_job.PrimitiveJob)\n",
    "        Job submitted to the IBM Quantum device\n",
    "\n",
    "    returns\n",
    "    -------\n",
    "    pred: numpy.ndarray\n",
    "        Predicted values\n",
    "    \n",
    "    '''\n",
    "    if isinstance(_backend, str):\n",
    "        pred = np.hstack([np.vstack([r.data.evs for r in rs.result()]) for jid, rs in job])\n",
    "    elif _backend.name!='ibm_quebec':\n",
    "        pred = np.hstack([np.vstack([r.data.evs for r in rs.result()]) for jid, rs in job])\n",
    "    else:\n",
    "        with open(f'jobs_{job}.txt','r') as f:\n",
    "            pred = np.hstack([np.vstack([r.data.evs for r in service.job(jid.strip()).result()]) for jid in f.readlines()])\n",
    "            \n",
    "    return pred"
   ]
  },
  {
   "cell_type": "code",
   "execution_count": 17,
   "id": "0730216f-ae50-450f-b35c-8842edd668ce",
   "metadata": {
    "execution": {
     "iopub.execute_input": "2025-03-05T21:23:52.707249Z",
     "iopub.status.busy": "2025-03-05T21:23:52.706433Z",
     "iopub.status.idle": "2025-03-05T21:23:52.719636Z",
     "shell.execute_reply": "2025-03-05T21:23:52.718652Z"
    },
    "papermill": {
     "duration": 0.019852,
     "end_time": "2025-03-05T21:23:52.720851",
     "exception": false,
     "start_time": "2025-03-05T21:23:52.700999",
     "status": "completed"
    },
    "tags": []
   },
   "outputs": [],
   "source": [
    "def batchmap(params, ansatz, hamiltonian, _backend, index, shots=1024, resilience_level=1,file=None):\n",
    "    '''\n",
    "    Function to map batches\n",
    "\n",
    "    parameters\n",
    "    ----------\n",
    "    params: numpy.ndarray\n",
    "        Initial circuit parameters\n",
    "        \n",
    "    ansatz: qiskit.circuit.quantumcircuit.QuantumCircuit\n",
    "        Qiskit Quantum Circuit\n",
    "\n",
    "    hamiltonian: list\n",
    "        List containing the observables\n",
    "        \n",
    "    _backend: qiskit_ibm_runtime backend\n",
    "        Backend of choice (real or fake)\n",
    "\n",
    "    index: int\n",
    "        Index of batch\n",
    "        \n",
    "    shots: float or int\n",
    "        Number of shots. Default is 1024.0.\n",
    "    \n",
    "    resilience_level: int\n",
    "        Error mitigation level. Default is 1.\n",
    "\n",
    "    file: class\n",
    "        _io.TextIOWrapper\n",
    "\n",
    "    returns\n",
    "    -------\n",
    "    y_pred: numpy.ndarray\n",
    "        Predicted values    \n",
    "    '''    \n",
    "    results = []\n",
    "    if isinstance(_backend, str):\n",
    "        jobid = str(index)\n",
    "        estimator = StatevectorEstimator()\n",
    "        for a1, p1 in zip(ansatz, params):\n",
    "            pub = [(a, [hamiltonian], [p]) for a, p in zip(a1,p1)]\n",
    "            result = estimator.run(pubs=pub)\n",
    "            results.append([jobid,result])\n",
    "                       \n",
    "    else:\n",
    "        with Batch(backend=_backend,max_time='8h') as batch:\n",
    "            if _backend.name!='ibm_quebec':\n",
    "                jobid = str(index)\n",
    "            else:\n",
    "                jobid = batch.details()['id']\n",
    "            estimator = Estimator(mode=batch)\n",
    "            estimator.options.default_shots = shots\n",
    "            estimator.options.resilience_level = resilience_level\n",
    "        \n",
    "                    \n",
    "            for a1, p1 in zip(ansatz, params):\n",
    "                pub = [(a, [hamiltonian], [p]) for a, p in zip(a1,p1)]\n",
    "                result = estimator.run(pubs=pub)\n",
    "                results.append([result.job_id(),result])\n",
    "                file.write(f\"{result.job_id()}\\n\")\n",
    "\n",
    "    return results"
   ]
  },
  {
   "cell_type": "code",
   "execution_count": 18,
   "id": "1e7f969b-86b0-4c19-9539-d37bb6f891a2",
   "metadata": {
    "execution": {
     "iopub.execute_input": "2025-03-05T21:23:52.731159Z",
     "iopub.status.busy": "2025-03-05T21:23:52.730758Z",
     "iopub.status.idle": "2025-03-05T21:23:52.750718Z",
     "shell.execute_reply": "2025-03-05T21:23:52.749619Z"
    },
    "papermill": {
     "duration": 0.026852,
     "end_time": "2025-03-05T21:23:52.751872",
     "exception": false,
     "start_time": "2025-03-05T21:23:52.725020",
     "status": "completed"
    },
    "tags": []
   },
   "outputs": [],
   "source": [
    "def batched_pred(params, ansatz, hamiltonian, num_qubits, X, _backend, shots=1024, resilience_level=1, n_jobs=-1,iters=None):\n",
    "    '''\n",
    "    Function to predict quantum circuits in batches\n",
    "\n",
    "    parameters\n",
    "    ----------\n",
    "    params: numpy.ndarray\n",
    "        Initial circuit parameters\n",
    "        \n",
    "    ansatz: qiskit.circuit.quantumcircuit.QuantumCircuit\n",
    "        Qiskit Quantum Circuit\n",
    "\n",
    "    hamiltonian: list\n",
    "        List containing the observables\n",
    "        \n",
    "    num_qubits: int\n",
    "        Number of qubits\n",
    "        \n",
    "    X: numpy.ndarray\n",
    "        Feature matrix\n",
    "        \n",
    "    _backend: qiskit_ibm_runtime backend\n",
    "        Backend of choice (real or fake)\n",
    "        \n",
    "    shots: float or int\n",
    "        Number of shots. Default is 1024.0.\n",
    "    \n",
    "    resilience_level: int\n",
    "        Error mitigation level. Default is 1.\n",
    "\n",
    "    n_jobs: int\n",
    "        Number of threads/cores for parallelization.\n",
    "\n",
    "    iters: int/str\n",
    "        Helps label the jobs.txt file\n",
    "\n",
    "    returns\n",
    "    -------\n",
    "    y_pred: numpy.ndarray\n",
    "        Predicted values    \n",
    "    '''\n",
    "    mapped_circuits = [[[map2qiskit(ansatz,num_qubits,x_i) for x_i in xi ]for xi in X[i : i + 4]] for i in range(0, len(X), 4)]\n",
    "    tiled_params = np.tile(params,(X.shape[0],X.shape[1])).reshape(X.shape[0],X.shape[1],-1)\n",
    "    batched_params = [tiled_params[i : i + 4] for i in range(0, len(X), 4)]\n",
    "    \n",
    "    # Submit jobs\n",
    "    \n",
    "\n",
    "    if isinstance(_backend, str):\n",
    "        t0 = time.perf_counter()\n",
    "        jobs = joblib.Parallel(n_jobs=n_jobs,verbose=0, prefer=\"threads\")(joblib.delayed(batchmap)(pars, anz, hamiltonian, _backend, idx, shots, resilience_level,None) for idx, (anz, pars) in tqdm(enumerate(zip(mapped_circuits,batched_params)),desc=\"Mappings\"))\n",
    "        print(f\"Submitted to device in {time.perf_counter()-t0:.4f} s\")\n",
    "        \n",
    "        t1 = time.perf_counter()        \n",
    "        y_pred = np.hstack(joblib.Parallel(n_jobs=n_jobs,verbose=0, prefer=\"threads\")(joblib.delayed(get_results)(job) for job in tqdm(jobs,desc=\"Running batch: \"))).T\n",
    "        print(f\"Predicted in {time.perf_counter()-t1:.4f} s\")\n",
    "    else:\n",
    "        \n",
    "        t0 = time.perf_counter()\n",
    "        with open(f'jobs_{iters}.txt','w') as f:\n",
    "            jobs = joblib.Parallel(n_jobs=n_jobs,verbose=0, prefer=\"threads\")(joblib.delayed(batchmap)(pars, anz, hamiltonian, _backend, idx, shots, resilience_level,f) for idx, (anz, pars) in tqdm(enumerate(zip(mapped_circuits,batched_params)),desc=\"Mappings\"))\n",
    "        print(f\"Submitted to device in {time.perf_counter()-t0:.4f} s\")\n",
    "\n",
    "        t1 = time.perf_counter()        \n",
    "        if _backend.name!='ibm_quebec':\n",
    "            y_pred = np.hstack(joblib.Parallel(n_jobs=n_jobs,verbose=0, prefer=\"threads\")(joblib.delayed(get_results)(job) for job in tqdm(jobs,desc=\"Running batch: \"))).T            \n",
    "        else:\n",
    "            y_pred = get_results(iters)\n",
    "        print(f\"Predicted in {time.perf_counter()-t1:.4f} s\")\n",
    "\n",
    "    return y_pred"
   ]
  },
  {
   "cell_type": "code",
   "execution_count": 19,
   "id": "8e0da73e-16ae-4c90-bfd4-e1026a5403fa",
   "metadata": {
    "execution": {
     "iopub.execute_input": "2025-03-05T21:23:52.761502Z",
     "iopub.status.busy": "2025-03-05T21:23:52.761211Z",
     "iopub.status.idle": "2025-03-05T21:23:52.773799Z",
     "shell.execute_reply": "2025-03-05T21:23:52.772810Z"
    },
    "papermill": {
     "duration": 0.018824,
     "end_time": "2025-03-05T21:23:52.774928",
     "exception": false,
     "start_time": "2025-03-05T21:23:52.756104",
     "status": "completed"
    },
    "tags": []
   },
   "outputs": [],
   "source": [
    "def cost_func(params, ansatz, hamiltonian, num_qubits, X, y, cost_history_dict, _backend, shots=1024.0, resilience_level=1, n_jobs=-1):\n",
    "    \"\"\"\n",
    "    Cost function. Is this loss?\n",
    "    \n",
    "    parameters\n",
    "    ----------\n",
    "    params: numpy.ndarray\n",
    "        Initial circuit parameters\n",
    "        \n",
    "    ansatz: qiskit.circuit.quantumcircuit.QuantumCircuit\n",
    "        Qiskit Quantum Circuit\n",
    "\n",
    "    hamiltonian: list\n",
    "        List containing the observables\n",
    "        \n",
    "    num_qubits: int\n",
    "        Number of qubits\n",
    "        \n",
    "    X: numpy.ndarray\n",
    "        Feature matrix\n",
    "\n",
    "    y: numpy.ndarray\n",
    "        Target vector\n",
    "\n",
    "    cost_history_dict: dict\n",
    "        Dictionary to track the loss        \n",
    "        \n",
    "    _backend: qiskit_ibm_runtime backend\n",
    "        Backend of choice (real or fake)\n",
    "        \n",
    "    shots: float or int\n",
    "        Number of shots. Default is 1024.0.\n",
    "    \n",
    "    resilience_level: int\n",
    "        Error mitigation level. Default is 1.\n",
    "\n",
    "    n_jobs: int\n",
    "        Number of threads/cores for parallelization.\n",
    "\n",
    "    \"\"\"\n",
    "    t0=time.perf_counter()\n",
    "    if isinstance(_backend, str): \n",
    "        y_pred = batched_pred(params, ansatz, hamiltonian, num_qubits, X, _backend, shots, resilience_level, n_jobs,None)\n",
    "    else:\n",
    "        y_pred = batched_pred(params, ansatz, hamiltonian, num_qubits, X, _backend, shots, resilience_level, n_jobs,cost_history_dict[\"iters\"])\n",
    "    \n",
    "    loss = mean_squared_error(y.flatten(),y_pred.flatten())\n",
    "    r2 = r2_score(y.flatten(),y_pred.flatten())\n",
    "    \n",
    "    cost_history_dict[\"iters\"] += 1\n",
    "    cost_history_dict[\"prev_vector\"] = params\n",
    "    cost_history_dict[\"cost_history\"].append(loss)\n",
    "    \n",
    "    print(f\"Iters. done: {cost_history_dict['iters']} Current cost: {loss} Accuracy: {r2} Time: {time.perf_counter()-t0}\")\n",
    "    \n",
    "    with open('model_log.csv', 'a') as outfile:\n",
    "        log = f\"{time.asctime()},{cost_history_dict['iters']},{loss},{params}\\n\"\n",
    "        outfile.write(log)\n",
    "\n",
    "    save_file = 'partial_state_model.bin'\n",
    "    progress = {'x': params, 'loss': loss}\n",
    "    dump(progress, save_file)\n",
    "  \n",
    "    return loss"
   ]
  },
  {
   "cell_type": "code",
   "execution_count": 20,
   "id": "4c7cf7d5-8ec8-4994-86d3-a88ac219bbf8",
   "metadata": {
    "execution": {
     "iopub.execute_input": "2025-03-05T21:23:52.792190Z",
     "iopub.status.busy": "2025-03-05T21:23:52.791772Z",
     "iopub.status.idle": "2025-03-05T21:23:52.815177Z",
     "shell.execute_reply": "2025-03-05T21:23:52.814099Z"
    },
    "papermill": {
     "duration": 0.034037,
     "end_time": "2025-03-05T21:23:52.816510",
     "exception": false,
     "start_time": "2025-03-05T21:23:52.782473",
     "status": "completed"
    },
    "tags": []
   },
   "outputs": [],
   "source": [
    "def evaluate(params, ansatz, hamiltonian, num_qubits, n_jobs, _backend, X_train, y_train, X_test=None, y_test=None, plot: bool = False, title: str = 'defult',y_scaler=None, shots=1024.0, resilience_level=1):\n",
    "    scores = {}\n",
    "    st = time.time()\n",
    "    print('Now scoring model... ')\n",
    "    if isinstance(_backend, str): \n",
    "        y_train_pred = batched_pred(params, ansatz, hamiltonian, num_qubits, X_train, _backend, shots, resilience_level, n_jobs,None)\n",
    "    else:\n",
    "        y_train_pred = batched_pred(params, ansatz, hamiltonian, num_qubits, X_train, _backend, shots, resilience_level, n_jobs,'evals_train')\n",
    "    y_train_pred = y_scaler.inverse_transform(y_train_pred.reshape(-1, 1)).flatten()\n",
    "    y_train = y_scaler.inverse_transform(y_train.reshape(-1, 1)).flatten()\n",
    "\n",
    "    scores['MSE_train'] = mean_squared_error(y_train, y_train_pred)\n",
    "    scores['R2_train'] = r2_score(y_train, y_train_pred)\n",
    "    scores['MAE_train'] = mean_absolute_error(y_train, y_train_pred)\n",
    "\n",
    "    y_test_pred = None\n",
    "    y_test = y_scaler.inverse_transform(y_test.reshape(-1, 1)).flatten()\n",
    "    if y_test is not None:\n",
    "        if isinstance(_backend, str):\n",
    "            y_test_pred = batched_pred(params, ansatz, hamiltonian, num_qubits, X_test, _backend, shots, resilience_level, n_jobs,None)            \n",
    "        else:\n",
    "            y_test_pred = batched_pred(params, ansatz, hamiltonian, num_qubits, X_test, _backend, shots, resilience_level, n_jobs,'evals_test')\n",
    "        y_test_pred = y_scaler.inverse_transform(y_test_pred.reshape(-1, 1)).flatten()\n",
    "    \n",
    "        scores['MSE_test'] = mean_squared_error(y_test, y_test_pred)\n",
    "        scores['R2_test'] = r2_score(y_test, y_test_pred)\n",
    "        scores['MAE_test'] = mean_absolute_error(y_test, y_test_pred)\n",
    "\n",
    "    if plot:\n",
    "        plt.figure()\n",
    "        if y_test_pred is not None:\n",
    "            plt.scatter(y_test, y_test_pred, color='b', s=10, label=f'Test, MAE = {scores[\"MAE_test\"]:.2f}')\n",
    "        plt.scatter(y_train, y_train_pred, color='r', s=10, label=f'Train, MAE = {scores[\"MAE_train\"]:.2f}')\n",
    "        plt.ylabel('Predicted')\n",
    "        plt.xlabel('Actual')\n",
    "        plt.axis('scaled')\n",
    "\n",
    "        max_val = max(max(plt.xlim()), max(plt.ylim()))\n",
    "        min_val = min(min(plt.xlim()), min(plt.ylim()))\n",
    "        plt.xlim((min_val, max_val))\n",
    "        plt.ylim((min_val, max_val))\n",
    "\n",
    "        x_min, x_max = plt.xlim()\n",
    "        y_min, y_max = plt.ylim()\n",
    "        plt.plot([x_min, x_max], [y_min, y_max], 'k--', alpha=0.2, label='y=x')\n",
    "        plt.legend()\n",
    "        plt.savefig(title+'_plot.svg')\n",
    "\n",
    "        if X_test.shape[1] == 1:\n",
    "            plt.figure()\n",
    "            plt.title(title)\n",
    "            plt.scatter(X_train, y_train_pred, color='b', label='Train', s=10)\n",
    "            plt.scatter(X_test, y_test_pred, color='orange', label='Test', s=10)\n",
    "            plt.scatter(X_train, y_train, color='green', label='Data', s=10)\n",
    "            plt.scatter(X_test, y_test, color='green', s=10)\n",
    "            plt.legend()\n",
    "            plt.savefig(title+'_1D_plot.svg')\n",
    "\n",
    "    print(f'Scoring complete taking {time.time() - st} seconds. ')\n",
    "\n",
    "    return scores, y_test_pred, y_train_pred"
   ]
  },
  {
   "cell_type": "code",
   "execution_count": 21,
   "id": "21c8acce-aca9-4a3c-9af6-73f33015bf0d",
   "metadata": {
    "execution": {
     "iopub.execute_input": "2025-03-05T21:23:52.834294Z",
     "iopub.status.busy": "2025-03-05T21:23:52.833851Z",
     "iopub.status.idle": "2025-03-05T21:45:16.642244Z",
     "shell.execute_reply": "2025-03-05T21:45:16.641506Z"
    },
    "papermill": {
     "duration": 1283.833142,
     "end_time": "2025-03-05T21:45:16.657822",
     "exception": false,
     "start_time": "2025-03-05T21:23:52.824680",
     "status": "completed"
    },
    "tags": []
   },
   "outputs": [
    {
     "data": {
      "application/vnd.jupyter.widget-view+json": {
       "model_id": "af08bedbcc0e48619058c38da28a5ff5",
       "version_major": 2,
       "version_minor": 0
      },
      "text/plain": [
       "Mappings: 0it [00:00, ?it/s]"
      ]
     },
     "metadata": {},
     "output_type": "display_data"
    },
    {
     "name": "stdout",
     "output_type": "stream",
     "text": [
      "Submitted to device in 19.5287 s\n"
     ]
    },
    {
     "name": "stdout",
     "output_type": "stream",
     "text": [
      "Predicted in 477.1848 s\n",
      "Iters. done: 1 Current cost: 0.1407026472265432 Accuracy: -0.5554329575985948 Time: 496.79543204791844\n",
      "Now scoring model... \n"
     ]
    },
    {
     "data": {
      "application/vnd.jupyter.widget-view+json": {
       "model_id": "7d30c49228164c2289de398409c0e72a",
       "version_major": 2,
       "version_minor": 0
      },
      "text/plain": [
       "Mappings: 0it [00:00, ?it/s]"
      ]
     },
     "metadata": {},
     "output_type": "display_data"
    },
    {
     "name": "stdout",
     "output_type": "stream",
     "text": [
      "Submitted to device in 22.5899 s\n"
     ]
    },
    {
     "name": "stdout",
     "output_type": "stream",
     "text": [
      "Predicted in 385.1614 s\n"
     ]
    },
    {
     "data": {
      "application/vnd.jupyter.widget-view+json": {
       "model_id": "8c9ed6ea2fbd4e718c5b4a8feabc04e3",
       "version_major": 2,
       "version_minor": 0
      },
      "text/plain": [
       "Mappings: 0it [00:00, ?it/s]"
      ]
     },
     "metadata": {},
     "output_type": "display_data"
    },
    {
     "name": "stdout",
     "output_type": "stream",
     "text": [
      "Submitted to device in 24.4094 s\n"
     ]
    },
    {
     "name": "stdout",
     "output_type": "stream",
     "text": [
      "Predicted in 354.5014 s\n",
      "Scoring complete taking 786.9214265346527 seconds. \n"
     ]
    },
    {
     "data": {
      "image/png": "[encoded data removed]",
      "text/plain": [
       "<Figure size 640x480 with 1 Axes>"
      ]
     },
     "metadata": {},
     "output_type": "display_data"
    }
   ],
   "source": [
    "\n",
    "scores = []\n",
    "with open('model_log.csv', 'w') as outfile:\n",
    "    outfile.write('Time,Iteration,Cost,Parameters')\n",
    "    outfile.write('\\n')        \n",
    "\n",
    "\n",
    "cost_history_dict = {\n",
    "    \"prev_vector\": None,\n",
    "    \"iters\": 0,\n",
    "    \"cost_history\": [],\n",
    "}\n",
    "\n",
    "\n",
    "\n",
    "\n",
    "\n",
    "res = minimize(cost_func,\n",
    "    x0,\n",
    "    args=(qc, mapped_observables, num_qubits, X_train, y_train, cost_history_dict, _backend, shots, resilience_level, n_jobs),\n",
    "    method=\"cobyla\", options={'maxiter':1})  \n",
    "\n",
    "x0 = res.x\n",
    "loss = res.fun    \n",
    "progress = {'x': x0, 'loss': loss}\n",
    "dump(progress, 'final_state_model.bin')\n",
    "os.remove('partial_state_model.bin') \n",
    "\n",
    "scores, y_test_pred, y_train_pred = evaluate(x0, qc, mapped_observables, num_qubits, n_jobs, _backend, X_train, y_train, X_test=X_test, y_test=y_test, plot = True, title= 'A2_HWE-CNOT',y_scaler=scaler, shots=shots, resilience_level=resilience_level)\n",
    "\n",
    "name = 'A2_HWE-CNOT_predicted_values.csv'\n",
    "\n",
    "y_train = scaler.inverse_transform(y_train.reshape(-1, 1))\n",
    "y_test = scaler.inverse_transform(y_test.reshape(-1, 1))\n",
    "train_pred, y_train, test_pred, y_test = y_train_pred.flatten().tolist(), y_train.flatten().tolist(), y_test_pred.flatten().tolist(), y_test.flatten().tolist()\n",
    "df_train = pd.DataFrame({'Predicted': train_pred, 'Reference': y_train})\n",
    "df_train['Data'] = 'Train'\n",
    "df_test = pd.DataFrame({'Predicted': test_pred, 'Reference': y_test})\n",
    "df_test['Data'] = 'Test'\n",
    "df = pd.concat([df_train, df_test], ignore_index=True)\n",
    "df = df[['Data', 'Predicted', 'Reference']]\n",
    "\n",
    "df.to_csv(name, index=False)\n",
    "\n",
    "results_title = 'A2_HWE-CNOT_results.json'\n",
    "with open(results_title, 'w') as outfile:\n",
    "    json.dump(scores, outfile)\n",
    "\n",
    "\n"
   ]
  },
  {
   "cell_type": "code",
   "execution_count": 22,
   "id": "d2d4290f-6366-47b2-94f3-6ce762b37cdc",
   "metadata": {
    "execution": {
     "iopub.execute_input": "2025-03-05T21:45:16.686027Z",
     "iopub.status.busy": "2025-03-05T21:45:16.685797Z",
     "iopub.status.idle": "2025-03-05T21:45:16.692377Z",
     "shell.execute_reply": "2025-03-05T21:45:16.691743Z"
    },
    "papermill": {
     "duration": 0.021377,
     "end_time": "2025-03-05T21:45:16.693480",
     "exception": false,
     "start_time": "2025-03-05T21:45:16.672103",
     "status": "completed"
    },
    "tags": []
   },
   "outputs": [
    {
     "data": {
      "text/plain": [
       "(-0.5816997820238983, 0.000616136346937021)"
      ]
     },
     "execution_count": 22,
     "metadata": {},
     "output_type": "execute_result"
    }
   ],
   "source": [
    "r2_score(y_train,train_pred),mean_squared_error(y_train,train_pred)"
   ]
  },
  {
   "cell_type": "code",
   "execution_count": 23,
   "id": "c32cb367-682e-4c0f-85f4-d5b259ce6752",
   "metadata": {
    "execution": {
     "iopub.execute_input": "2025-03-05T21:45:16.713507Z",
     "iopub.status.busy": "2025-03-05T21:45:16.713320Z",
     "iopub.status.idle": "2025-03-05T21:45:16.719557Z",
     "shell.execute_reply": "2025-03-05T21:45:16.718531Z"
    },
    "papermill": {
     "duration": 0.017975,
     "end_time": "2025-03-05T21:45:16.720965",
     "exception": false,
     "start_time": "2025-03-05T21:45:16.702990",
     "status": "completed"
    },
    "tags": []
   },
   "outputs": [
    {
     "data": {
      "text/plain": [
       "(-0.6667202126577003, 0.0006549128934819404)"
      ]
     },
     "execution_count": 23,
     "metadata": {},
     "output_type": "execute_result"
    }
   ],
   "source": [
    "r2_score(y_test,test_pred),mean_squared_error(y_test,test_pred)"
   ]
  },
  {
   "cell_type": "code",
   "execution_count": 24,
   "id": "c9106804-835b-4a4b-9a7e-83712ff62774",
   "metadata": {
    "execution": {
     "iopub.execute_input": "2025-03-05T21:45:16.740383Z",
     "iopub.status.busy": "2025-03-05T21:45:16.740080Z",
     "iopub.status.idle": "2025-03-05T21:45:16.849943Z",
     "shell.execute_reply": "2025-03-05T21:45:16.849223Z"
    },
    "papermill": {
     "duration": 0.121251,
     "end_time": "2025-03-05T21:45:16.851838",
     "exception": false,
     "start_time": "2025-03-05T21:45:16.730587",
     "status": "completed"
    },
    "tags": []
   },
   "outputs": [
    {
     "data": {
      "text/plain": [
       "[<matplotlib.lines.Line2D at 0x7f617b912f90>]"
      ]
     },
     "execution_count": 24,
     "metadata": {},
     "output_type": "execute_result"
    },
    {
     "data": {
      "image/png": "[encoded data removed]",
      "text/plain": [
       "<Figure size 640x480 with 1 Axes>"
      ]
     },
     "metadata": {},
     "output_type": "display_data"
    }
   ],
   "source": [
    "plt.scatter(y_train,train_pred)\n",
    "plt.scatter(y_test,test_pred)\n",
    "plt.plot(y_train, y_train)"
   ]
  }
 ],
 "metadata": {
  "kernelspec": {
   "display_name": "Python 3 (ipykernel)",
   "language": "python",
   "name": "python3"
  },
  "language_info": {
   "codemirror_mode": {
    "name": "ipython",
    "version": 3
   },
   "file_extension": ".py",
   "mimetype": "text/x-python",
   "name": "python",
   "nbconvert_exporter": "python",
   "pygments_lexer": "ipython3",
   "version": "3.11.11"
  },
  "papermill": {
   "default_parameters": {},
   "duration": 1300.309498,
   "end_time": "2025-03-05T21:45:18.091523",
   "environment_variables": {},
   "exception": null,
   "input_path": "convert_ML_batched.ipynb",
   "output_path": "ol1_rl1/convert_ML_batched.ipynb",
   "parameters": {
    "optimization_level": "2",
    "resilience_level": "1",
    "shots": "3072"
   },
   "start_time": "2025-03-05T21:23:37.782025",
   "version": "2.6.0"
  },
  "widgets": {
   "application/vnd.jupyter.widget-state+json": {
    "state": {
     "060a34c9a01b4545a36480a64cf0a8c7": {
      "model_module": "@jupyter-widgets/controls",
      "model_module_version": "2.0.0",
      "model_name": "HTMLModel",
      "state": {
       "_dom_classes": [],
       "_model_module": "@jupyter-widgets/controls",
       "_model_module_version": "2.0.0",
       "_model_name": "HTMLModel",
       "_view_count": null,
       "_view_module": "@jupyter-widgets/controls",
       "_view_module_version": "2.0.0",
       "_view_name": "HTMLView",
       "description": "",
       "description_allow_html": false,
       "layout": "IPY_MODEL_5aa339d0762f4ce2ab51dab5c2ae6bc3",
       "placeholder": "​",
       "style": "IPY_MODEL_a9d83bf97f7e4fe3988d9d3779f1fa8b",
       "tabbable": null,
       "tooltip": null,
       "value": "Mappings: "
      }
     },
     "1eb9ca2dc88649d1b0147be094c7b8ba": {
      "model_module": "@jupyter-widgets/base",
      "model_module_version": "2.0.0",
      "model_name": "LayoutModel",
      "state": {
       "_model_module": "@jupyter-widgets/base",
       "_model_module_version": "2.0.0",
       "_model_name": "LayoutModel",
       "_view_count": null,
       "_view_module": "@jupyter-widgets/base",
       "_view_module_version": "2.0.0",
       "_view_name": "LayoutView",
       "align_content": null,
       "align_items": null,
       "align_self": null,
       "border_bottom": null,
       "border_left": null,
       "border_right": null,
       "border_top": null,
       "bottom": null,
       "display": null,
       "flex": null,
       "flex_flow": null,
       "grid_area": null,
       "grid_auto_columns": null,
       "grid_auto_flow": null,
       "grid_auto_rows": null,
       "grid_column": null,
       "grid_gap": null,
       "grid_row": null,
       "grid_template_areas": null,
       "grid_template_columns": null,
       "grid_template_rows": null,
       "height": null,
       "justify_content": null,
       "justify_items": null,
       "left": null,
       "margin": null,
       "max_height": null,
       "max_width": null,
       "min_height": null,
       "min_width": null,
       "object_fit": null,
       "object_position": null,
       "order": null,
       "overflow": null,
       "padding": null,
       "right": null,
       "top": null,
       "visibility": null,
       "width": null
      }
     },
     "1fef65848ede48159700947962feda06": {
      "model_module": "@jupyter-widgets/controls",
      "model_module_version": "2.0.0",
      "model_name": "HTMLStyleModel",
      "state": {
       "_model_module": "@jupyter-widgets/controls",
       "_model_module_version": "2.0.0",
       "_model_name": "HTMLStyleModel",
       "_view_count": null,
       "_view_module": "@jupyter-widgets/base",
       "_view_module_version": "2.0.0",
       "_view_name": "StyleView",
       "background": null,
       "description_width": "",
       "font_size": null,
       "text_color": null
      }
     },
     "31dd4977c01c405f9da7f35f2b590064": {
      "model_module": "@jupyter-widgets/controls",
      "model_module_version": "2.0.0",
      "model_name": "HTMLModel",
      "state": {
       "_dom_classes": [],
       "_model_module": "@jupyter-widgets/controls",
       "_model_module_version": "2.0.0",
       "_model_name": "HTMLModel",
       "_view_count": null,
       "_view_module": "@jupyter-widgets/controls",
       "_view_module_version": "2.0.0",
       "_view_name": "HTMLView",
       "description": "",
       "description_allow_html": false,
       "layout": "IPY_MODEL_6360a52443c34a60993cc0134ea375a5",
       "placeholder": "​",
       "style": "IPY_MODEL_4c9954e53f954c6c99e36a38b858927f",
       "tabbable": null,
       "tooltip": null,
       "value": " 1/? [00:00&lt;00:00, 132.25it/s]"
      }
     },
     "44cf3272662a4d6e8325680dd887b574": {
      "model_module": "@jupyter-widgets/controls",
      "model_module_version": "2.0.0",
      "model_name": "HTMLModel",
      "state": {
       "_dom_classes": [],
       "_model_module": "@jupyter-widgets/controls",
       "_model_module_version": "2.0.0",
       "_model_name": "HTMLModel",
       "_view_count": null,
       "_view_module": "@jupyter-widgets/controls",
       "_view_module_version": "2.0.0",
       "_view_name": "HTMLView",
       "description": "",
       "description_allow_html": false,
       "layout": "IPY_MODEL_1eb9ca2dc88649d1b0147be094c7b8ba",
       "placeholder": "​",
       "style": "IPY_MODEL_1fef65848ede48159700947962feda06",
       "tabbable": null,
       "tooltip": null,
       "value": "Mappings: "
      }
     },
     "4965979e0e9e487e970a708f1de55f59": {
      "model_module": "@jupyter-widgets/controls",
      "model_module_version": "2.0.0",
      "model_name": "ProgressStyleModel",
      "state": {
       "_model_module": "@jupyter-widgets/controls",
       "_model_module_version": "2.0.0",
       "_model_name": "ProgressStyleModel",
       "_view_count": null,
       "_view_module": "@jupyter-widgets/base",
       "_view_module_version": "2.0.0",
       "_view_name": "StyleView",
       "bar_color": null,
       "description_width": ""
      }
     },
     "4c9954e53f954c6c99e36a38b858927f": {
      "model_module": "@jupyter-widgets/controls",
      "model_module_version": "2.0.0",
      "model_name": "HTMLStyleModel",
      "state": {
       "_model_module": "@jupyter-widgets/controls",
       "_model_module_version": "2.0.0",
       "_model_name": "HTMLStyleModel",
       "_view_count": null,
       "_view_module": "@jupyter-widgets/base",
       "_view_module_version": "2.0.0",
       "_view_name": "StyleView",
       "background": null,
       "description_width": "",
       "font_size": null,
       "text_color": null
      }
     },
     "501e220093654b90a78cd7e4ad61c12a": {
      "model_module": "@jupyter-widgets/base",
      "model_module_version": "2.0.0",
      "model_name": "LayoutModel",
      "state": {
       "_model_module": "@jupyter-widgets/base",
       "_model_module_version": "2.0.0",
       "_model_name": "LayoutModel",
       "_view_count": null,
       "_view_module": "@jupyter-widgets/base",
       "_view_module_version": "2.0.0",
       "_view_name": "LayoutView",
       "align_content": null,
       "align_items": null,
       "align_self": null,
       "border_bottom": null,
       "border_left": null,
       "border_right": null,
       "border_top": null,
       "bottom": null,
       "display": null,
       "flex": null,
       "flex_flow": null,
       "grid_area": null,
       "grid_auto_columns": null,
       "grid_auto_flow": null,
       "grid_auto_rows": null,
       "grid_column": null,
       "grid_gap": null,
       "grid_row": null,
       "grid_template_areas": null,
       "grid_template_columns": null,
       "grid_template_rows": null,
       "height": null,
       "justify_content": null,
       "justify_items": null,
       "left": null,
       "margin": null,
       "max_height": null,
       "max_width": null,
       "min_height": null,
       "min_width": null,
       "object_fit": null,
       "object_position": null,
       "order": null,
       "overflow": null,
       "padding": null,
       "right": null,
       "top": null,
       "visibility": null,
       "width": "20px"
      }
     },
     "522dcedf7f384750af1278aa163ecfb3": {
      "model_module": "@jupyter-widgets/controls",
      "model_module_version": "2.0.0",
      "model_name": "HTMLStyleModel",
      "state": {
       "_model_module": "@jupyter-widgets/controls",
       "_model_module_version": "2.0.0",
       "_model_name": "HTMLStyleModel",
       "_view_count": null,
       "_view_module": "@jupyter-widgets/base",
       "_view_module_version": "2.0.0",
       "_view_name": "StyleView",
       "background": null,
       "description_width": "",
       "font_size": null,
       "text_color": null
      }
     },
     "58232661a010478c9f659a831b495621": {
      "model_module": "@jupyter-widgets/base",
      "model_module_version": "2.0.0",
      "model_name": "LayoutModel",
      "state": {
       "_model_module": "@jupyter-widgets/base",
       "_model_module_version": "2.0.0",
       "_model_name": "LayoutModel",
       "_view_count": null,
       "_view_module": "@jupyter-widgets/base",
       "_view_module_version": "2.0.0",
       "_view_name": "LayoutView",
       "align_content": null,
       "align_items": null,
       "align_self": null,
       "border_bottom": null,
       "border_left": null,
       "border_right": null,
       "border_top": null,
       "bottom": null,
       "display": null,
       "flex": null,
       "flex_flow": null,
       "grid_area": null,
       "grid_auto_columns": null,
       "grid_auto_flow": null,
       "grid_auto_rows": null,
       "grid_column": null,
       "grid_gap": null,
       "grid_row": null,
       "grid_template_areas": null,
       "grid_template_columns": null,
       "grid_template_rows": null,
       "height": null,
       "justify_content": null,
       "justify_items": null,
       "left": null,
       "margin": null,
       "max_height": null,
       "max_width": null,
       "min_height": null,
       "min_width": null,
       "object_fit": null,
       "object_position": null,
       "order": null,
       "overflow": null,
       "padding": null,
       "right": null,
       "top": null,
       "visibility": null,
       "width": "20px"
      }
     },
     "5aa339d0762f4ce2ab51dab5c2ae6bc3": {
      "model_module": "@jupyter-widgets/base",
      "model_module_version": "2.0.0",
      "model_name": "LayoutModel",
      "state": {
       "_model_module": "@jupyter-widgets/base",
       "_model_module_version": "2.0.0",
       "_model_name": "LayoutModel",
       "_view_count": null,
       "_view_module": "@jupyter-widgets/base",
       "_view_module_version": "2.0.0",
       "_view_name": "LayoutView",
       "align_content": null,
       "align_items": null,
       "align_self": null,
       "border_bottom": null,
       "border_left": null,
       "border_right": null,
       "border_top": null,
       "bottom": null,
       "display": null,
       "flex": null,
       "flex_flow": null,
       "grid_area": null,
       "grid_auto_columns": null,
       "grid_auto_flow": null,
       "grid_auto_rows": null,
       "grid_column": null,
       "grid_gap": null,
       "grid_row": null,
       "grid_template_areas": null,
       "grid_template_columns": null,
       "grid_template_rows": null,
       "height": null,
       "justify_content": null,
       "justify_items": null,
       "left": null,
       "margin": null,
       "max_height": null,
       "max_width": null,
       "min_height": null,
       "min_width": null,
       "object_fit": null,
       "object_position": null,
       "order": null,
       "overflow": null,
       "padding": null,
       "right": null,
       "top": null,
       "visibility": null,
       "width": null
      }
     },
     "60176dfdda984fd0a23ab56d71d4a4be": {
      "model_module": "@jupyter-widgets/base",
      "model_module_version": "2.0.0",
      "model_name": "LayoutModel",
      "state": {
       "_model_module": "@jupyter-widgets/base",
       "_model_module_version": "2.0.0",
       "_model_name": "LayoutModel",
       "_view_count": null,
       "_view_module": "@jupyter-widgets/base",
       "_view_module_version": "2.0.0",
       "_view_name": "LayoutView",
       "align_content": null,
       "align_items": null,
       "align_self": null,
       "border_bottom": null,
       "border_left": null,
       "border_right": null,
       "border_top": null,
       "bottom": null,
       "display": null,
       "flex": null,
       "flex_flow": null,
       "grid_area": null,
       "grid_auto_columns": null,
       "grid_auto_flow": null,
       "grid_auto_rows": null,
       "grid_column": null,
       "grid_gap": null,
       "grid_row": null,
       "grid_template_areas": null,
       "grid_template_columns": null,
       "grid_template_rows": null,
       "height": null,
       "justify_content": null,
       "justify_items": null,
       "left": null,
       "margin": null,
       "max_height": null,
       "max_width": null,
       "min_height": null,
       "min_width": null,
       "object_fit": null,
       "object_position": null,
       "order": null,
       "overflow": null,
       "padding": null,
       "right": null,
       "top": null,
       "visibility": null,
       "width": null
      }
     },
     "607d9cdd752c471e9aefdd9eb46eb24e": {
      "model_module": "@jupyter-widgets/base",
      "model_module_version": "2.0.0",
      "model_name": "LayoutModel",
      "state": {
       "_model_module": "@jupyter-widgets/base",
       "_model_module_version": "2.0.0",
       "_model_name": "LayoutModel",
       "_view_count": null,
       "_view_module": "@jupyter-widgets/base",
       "_view_module_version": "2.0.0",
       "_view_name": "LayoutView",
       "align_content": null,
       "align_items": null,
       "align_self": null,
       "border_bottom": null,
       "border_left": null,
       "border_right": null,
       "border_top": null,
       "bottom": null,
       "display": null,
       "flex": null,
       "flex_flow": null,
       "grid_area": null,
       "grid_auto_columns": null,
       "grid_auto_flow": null,
       "grid_auto_rows": null,
       "grid_column": null,
       "grid_gap": null,
       "grid_row": null,
       "grid_template_areas": null,
       "grid_template_columns": null,
       "grid_template_rows": null,
       "height": null,
       "justify_content": null,
       "justify_items": null,
       "left": null,
       "margin": null,
       "max_height": null,
       "max_width": null,
       "min_height": null,
       "min_width": null,
       "object_fit": null,
       "object_position": null,
       "order": null,
       "overflow": null,
       "padding": null,
       "right": null,
       "top": null,
       "visibility": null,
       "width": null
      }
     },
     "6360a52443c34a60993cc0134ea375a5": {
      "model_module": "@jupyter-widgets/base",
      "model_module_version": "2.0.0",
      "model_name": "LayoutModel",
      "state": {
       "_model_module": "@jupyter-widgets/base",
       "_model_module_version": "2.0.0",
       "_model_name": "LayoutModel",
       "_view_count": null,
       "_view_module": "@jupyter-widgets/base",
       "_view_module_version": "2.0.0",
       "_view_name": "LayoutView",
       "align_content": null,
       "align_items": null,
       "align_self": null,
       "border_bottom": null,
       "border_left": null,
       "border_right": null,
       "border_top": null,
       "bottom": null,
       "display": null,
       "flex": null,
       "flex_flow": null,
       "grid_area": null,
       "grid_auto_columns": null,
       "grid_auto_flow": null,
       "grid_auto_rows": null,
       "grid_column": null,
       "grid_gap": null,
       "grid_row": null,
       "grid_template_areas": null,
       "grid_template_columns": null,
       "grid_template_rows": null,
       "height": null,
       "justify_content": null,
       "justify_items": null,
       "left": null,
       "margin": null,
       "max_height": null,
       "max_width": null,
       "min_height": null,
       "min_width": null,
       "object_fit": null,
       "object_position": null,
       "order": null,
       "overflow": null,
       "padding": null,
       "right": null,
       "top": null,
       "visibility": null,
       "width": null
      }
     },
     "6b1f6a7b292548caa998a6daaa74470b": {
      "model_module": "@jupyter-widgets/base",
      "model_module_version": "2.0.0",
      "model_name": "LayoutModel",
      "state": {
       "_model_module": "@jupyter-widgets/base",
       "_model_module_version": "2.0.0",
       "_model_name": "LayoutModel",
       "_view_count": null,
       "_view_module": "@jupyter-widgets/base",
       "_view_module_version": "2.0.0",
       "_view_name": "LayoutView",
       "align_content": null,
       "align_items": null,
       "align_self": null,
       "border_bottom": null,
       "border_left": null,
       "border_right": null,
       "border_top": null,
       "bottom": null,
       "display": null,
       "flex": null,
       "flex_flow": null,
       "grid_area": null,
       "grid_auto_columns": null,
       "grid_auto_flow": null,
       "grid_auto_rows": null,
       "grid_column": null,
       "grid_gap": null,
       "grid_row": null,
       "grid_template_areas": null,
       "grid_template_columns": null,
       "grid_template_rows": null,
       "height": null,
       "justify_content": null,
       "justify_items": null,
       "left": null,
       "margin": null,
       "max_height": null,
       "max_width": null,
       "min_height": null,
       "min_width": null,
       "object_fit": null,
       "object_position": null,
       "order": null,
       "overflow": null,
       "padding": null,
       "right": null,
       "top": null,
       "visibility": null,
       "width": null
      }
     },
     "7313e80b726a4135a742cc485b7464dd": {
      "model_module": "@jupyter-widgets/controls",
      "model_module_version": "2.0.0",
      "model_name": "HTMLStyleModel",
      "state": {
       "_model_module": "@jupyter-widgets/controls",
       "_model_module_version": "2.0.0",
       "_model_name": "HTMLStyleModel",
       "_view_count": null,
       "_view_module": "@jupyter-widgets/base",
       "_view_module_version": "2.0.0",
       "_view_name": "StyleView",
       "background": null,
       "description_width": "",
       "font_size": null,
       "text_color": null
      }
     },
     "7d30c49228164c2289de398409c0e72a": {
      "model_module": "@jupyter-widgets/controls",
      "model_module_version": "2.0.0",
      "model_name": "HBoxModel",
      "state": {
       "_dom_classes": [],
       "_model_module": "@jupyter-widgets/controls",
       "_model_module_version": "2.0.0",
       "_model_name": "HBoxModel",
       "_view_count": null,
       "_view_module": "@jupyter-widgets/controls",
       "_view_module_version": "2.0.0",
       "_view_name": "HBoxView",
       "box_style": "",
       "children": [
        "IPY_MODEL_060a34c9a01b4545a36480a64cf0a8c7",
        "IPY_MODEL_9277ad794c0d49e3923db1811e6c1b30",
        "IPY_MODEL_e17cd5862ea4415f98cfd93895f640f2"
       ],
       "layout": "IPY_MODEL_60176dfdda984fd0a23ab56d71d4a4be",
       "tabbable": null,
       "tooltip": null
      }
     },
     "803b2fc93539412db4773dd74dfed56f": {
      "model_module": "@jupyter-widgets/base",
      "model_module_version": "2.0.0",
      "model_name": "LayoutModel",
      "state": {
       "_model_module": "@jupyter-widgets/base",
       "_model_module_version": "2.0.0",
       "_model_name": "LayoutModel",
       "_view_count": null,
       "_view_module": "@jupyter-widgets/base",
       "_view_module_version": "2.0.0",
       "_view_name": "LayoutView",
       "align_content": null,
       "align_items": null,
       "align_self": null,
       "border_bottom": null,
       "border_left": null,
       "border_right": null,
       "border_top": null,
       "bottom": null,
       "display": null,
       "flex": null,
       "flex_flow": null,
       "grid_area": null,
       "grid_auto_columns": null,
       "grid_auto_flow": null,
       "grid_auto_rows": null,
       "grid_column": null,
       "grid_gap": null,
       "grid_row": null,
       "grid_template_areas": null,
       "grid_template_columns": null,
       "grid_template_rows": null,
       "height": null,
       "justify_content": null,
       "justify_items": null,
       "left": null,
       "margin": null,
       "max_height": null,
       "max_width": null,
       "min_height": null,
       "min_width": null,
       "object_fit": null,
       "object_position": null,
       "order": null,
       "overflow": null,
       "padding": null,
       "right": null,
       "top": null,
       "visibility": null,
       "width": null
      }
     },
     "81d15b34f87042f4934d2160cdff59bd": {
      "model_module": "@jupyter-widgets/controls",
      "model_module_version": "2.0.0",
      "model_name": "HTMLModel",
      "state": {
       "_dom_classes": [],
       "_model_module": "@jupyter-widgets/controls",
       "_model_module_version": "2.0.0",
       "_model_name": "HTMLModel",
       "_view_count": null,
       "_view_module": "@jupyter-widgets/controls",
       "_view_module_version": "2.0.0",
       "_view_name": "HTMLView",
       "description": "",
       "description_allow_html": false,
       "layout": "IPY_MODEL_607d9cdd752c471e9aefdd9eb46eb24e",
       "placeholder": "​",
       "style": "IPY_MODEL_8b9e229a5eee40e3a30b8667989fea81",
       "tabbable": null,
       "tooltip": null,
       "value": "Mappings: "
      }
     },
     "8b9e229a5eee40e3a30b8667989fea81": {
      "model_module": "@jupyter-widgets/controls",
      "model_module_version": "2.0.0",
      "model_name": "HTMLStyleModel",
      "state": {
       "_model_module": "@jupyter-widgets/controls",
       "_model_module_version": "2.0.0",
       "_model_name": "HTMLStyleModel",
       "_view_count": null,
       "_view_module": "@jupyter-widgets/base",
       "_view_module_version": "2.0.0",
       "_view_name": "StyleView",
       "background": null,
       "description_width": "",
       "font_size": null,
       "text_color": null
      }
     },
     "8c9ed6ea2fbd4e718c5b4a8feabc04e3": {
      "model_module": "@jupyter-widgets/controls",
      "model_module_version": "2.0.0",
      "model_name": "HBoxModel",
      "state": {
       "_dom_classes": [],
       "_model_module": "@jupyter-widgets/controls",
       "_model_module_version": "2.0.0",
       "_model_name": "HBoxModel",
       "_view_count": null,
       "_view_module": "@jupyter-widgets/controls",
       "_view_module_version": "2.0.0",
       "_view_name": "HBoxView",
       "box_style": "",
       "children": [
        "IPY_MODEL_81d15b34f87042f4934d2160cdff59bd",
        "IPY_MODEL_95b0137cd32c473bb7221c8060f4640d",
        "IPY_MODEL_31dd4977c01c405f9da7f35f2b590064"
       ],
       "layout": "IPY_MODEL_b9c1f91ad4174462b8dd1430a11259be",
       "tabbable": null,
       "tooltip": null
      }
     },
     "9277ad794c0d49e3923db1811e6c1b30": {
      "model_module": "@jupyter-widgets/controls",
      "model_module_version": "2.0.0",
      "model_name": "FloatProgressModel",
      "state": {
       "_dom_classes": [],
       "_model_module": "@jupyter-widgets/controls",
       "_model_module_version": "2.0.0",
       "_model_name": "FloatProgressModel",
       "_view_count": null,
       "_view_module": "@jupyter-widgets/controls",
       "_view_module_version": "2.0.0",
       "_view_name": "ProgressView",
       "bar_style": "success",
       "description": "",
       "description_allow_html": false,
       "layout": "IPY_MODEL_58232661a010478c9f659a831b495621",
       "max": 1.0,
       "min": 0.0,
       "orientation": "horizontal",
       "style": "IPY_MODEL_b3ddac75dd80431d95874e655f8ffd6d",
       "tabbable": null,
       "tooltip": null,
       "value": 1.0
      }
     },
     "95b0137cd32c473bb7221c8060f4640d": {
      "model_module": "@jupyter-widgets/controls",
      "model_module_version": "2.0.0",
      "model_name": "FloatProgressModel",
      "state": {
       "_dom_classes": [],
       "_model_module": "@jupyter-widgets/controls",
       "_model_module_version": "2.0.0",
       "_model_name": "FloatProgressModel",
       "_view_count": null,
       "_view_module": "@jupyter-widgets/controls",
       "_view_module_version": "2.0.0",
       "_view_name": "ProgressView",
       "bar_style": "success",
       "description": "",
       "description_allow_html": false,
       "layout": "IPY_MODEL_501e220093654b90a78cd7e4ad61c12a",
       "max": 1.0,
       "min": 0.0,
       "orientation": "horizontal",
       "style": "IPY_MODEL_4965979e0e9e487e970a708f1de55f59",
       "tabbable": null,
       "tooltip": null,
       "value": 1.0
      }
     },
     "a9d83bf97f7e4fe3988d9d3779f1fa8b": {
      "model_module": "@jupyter-widgets/controls",
      "model_module_version": "2.0.0",
      "model_name": "HTMLStyleModel",
      "state": {
       "_model_module": "@jupyter-widgets/controls",
       "_model_module_version": "2.0.0",
       "_model_name": "HTMLStyleModel",
       "_view_count": null,
       "_view_module": "@jupyter-widgets/base",
       "_view_module_version": "2.0.0",
       "_view_name": "StyleView",
       "background": null,
       "description_width": "",
       "font_size": null,
       "text_color": null
      }
     },
     "af08bedbcc0e48619058c38da28a5ff5": {
      "model_module": "@jupyter-widgets/controls",
      "model_module_version": "2.0.0",
      "model_name": "HBoxModel",
      "state": {
       "_dom_classes": [],
       "_model_module": "@jupyter-widgets/controls",
       "_model_module_version": "2.0.0",
       "_model_name": "HBoxModel",
       "_view_count": null,
       "_view_module": "@jupyter-widgets/controls",
       "_view_module_version": "2.0.0",
       "_view_name": "HBoxView",
       "box_style": "",
       "children": [
        "IPY_MODEL_44cf3272662a4d6e8325680dd887b574",
        "IPY_MODEL_c63815913890440a8dab434af1094d6c",
        "IPY_MODEL_df99839f444146feacb8ea3e32e5f790"
       ],
       "layout": "IPY_MODEL_6b1f6a7b292548caa998a6daaa74470b",
       "tabbable": null,
       "tooltip": null
      }
     },
     "b3ddac75dd80431d95874e655f8ffd6d": {
      "model_module": "@jupyter-widgets/controls",
      "model_module_version": "2.0.0",
      "model_name": "ProgressStyleModel",
      "state": {
       "_model_module": "@jupyter-widgets/controls",
       "_model_module_version": "2.0.0",
       "_model_name": "ProgressStyleModel",
       "_view_count": null,
       "_view_module": "@jupyter-widgets/base",
       "_view_module_version": "2.0.0",
       "_view_name": "StyleView",
       "bar_color": null,
       "description_width": ""
      }
     },
     "b96ce304464549369fe59a2f2ab0383b": {
      "model_module": "@jupyter-widgets/controls",
      "model_module_version": "2.0.0",
      "model_name": "ProgressStyleModel",
      "state": {
       "_model_module": "@jupyter-widgets/controls",
       "_model_module_version": "2.0.0",
       "_model_name": "ProgressStyleModel",
       "_view_count": null,
       "_view_module": "@jupyter-widgets/base",
       "_view_module_version": "2.0.0",
       "_view_name": "StyleView",
       "bar_color": null,
       "description_width": ""
      }
     },
     "b9c1f91ad4174462b8dd1430a11259be": {
      "model_module": "@jupyter-widgets/base",
      "model_module_version": "2.0.0",
      "model_name": "LayoutModel",
      "state": {
       "_model_module": "@jupyter-widgets/base",
       "_model_module_version": "2.0.0",
       "_model_name": "LayoutModel",
       "_view_count": null,
       "_view_module": "@jupyter-widgets/base",
       "_view_module_version": "2.0.0",
       "_view_name": "LayoutView",
       "align_content": null,
       "align_items": null,
       "align_self": null,
       "border_bottom": null,
       "border_left": null,
       "border_right": null,
       "border_top": null,
       "bottom": null,
       "display": null,
       "flex": null,
       "flex_flow": null,
       "grid_area": null,
       "grid_auto_columns": null,
       "grid_auto_flow": null,
       "grid_auto_rows": null,
       "grid_column": null,
       "grid_gap": null,
       "grid_row": null,
       "grid_template_areas": null,
       "grid_template_columns": null,
       "grid_template_rows": null,
       "height": null,
       "justify_content": null,
       "justify_items": null,
       "left": null,
       "margin": null,
       "max_height": null,
       "max_width": null,
       "min_height": null,
       "min_width": null,
       "object_fit": null,
       "object_position": null,
       "order": null,
       "overflow": null,
       "padding": null,
       "right": null,
       "top": null,
       "visibility": null,
       "width": null
      }
     },
     "c63815913890440a8dab434af1094d6c": {
      "model_module": "@jupyter-widgets/controls",
      "model_module_version": "2.0.0",
      "model_name": "FloatProgressModel",
      "state": {
       "_dom_classes": [],
       "_model_module": "@jupyter-widgets/controls",
       "_model_module_version": "2.0.0",
       "_model_name": "FloatProgressModel",
       "_view_count": null,
       "_view_module": "@jupyter-widgets/controls",
       "_view_module_version": "2.0.0",
       "_view_name": "ProgressView",
       "bar_style": "success",
       "description": "",
       "description_allow_html": false,
       "layout": "IPY_MODEL_fa738417f8e54732913952cce063e7a7",
       "max": 1.0,
       "min": 0.0,
       "orientation": "horizontal",
       "style": "IPY_MODEL_b96ce304464549369fe59a2f2ab0383b",
       "tabbable": null,
       "tooltip": null,
       "value": 1.0
      }
     },
     "dd518c87fd064d94832b655987383104": {
      "model_module": "@jupyter-widgets/base",
      "model_module_version": "2.0.0",
      "model_name": "LayoutModel",
      "state": {
       "_model_module": "@jupyter-widgets/base",
       "_model_module_version": "2.0.0",
       "_model_name": "LayoutModel",
       "_view_count": null,
       "_view_module": "@jupyter-widgets/base",
       "_view_module_version": "2.0.0",
       "_view_name": "LayoutView",
       "align_content": null,
       "align_items": null,
       "align_self": null,
       "border_bottom": null,
       "border_left": null,
       "border_right": null,
       "border_top": null,
       "bottom": null,
       "display": null,
       "flex": null,
       "flex_flow": null,
       "grid_area": null,
       "grid_auto_columns": null,
       "grid_auto_flow": null,
       "grid_auto_rows": null,
       "grid_column": null,
       "grid_gap": null,
       "grid_row": null,
       "grid_template_areas": null,
       "grid_template_columns": null,
       "grid_template_rows": null,
       "height": null,
       "justify_content": null,
       "justify_items": null,
       "left": null,
       "margin": null,
       "max_height": null,
       "max_width": null,
       "min_height": null,
       "min_width": null,
       "object_fit": null,
       "object_position": null,
       "order": null,
       "overflow": null,
       "padding": null,
       "right": null,
       "top": null,
       "visibility": null,
       "width": null
      }
     },
     "df99839f444146feacb8ea3e32e5f790": {
      "model_module": "@jupyter-widgets/controls",
      "model_module_version": "2.0.0",
      "model_name": "HTMLModel",
      "state": {
       "_dom_classes": [],
       "_model_module": "@jupyter-widgets/controls",
       "_model_module_version": "2.0.0",
       "_model_name": "HTMLModel",
       "_view_count": null,
       "_view_module": "@jupyter-widgets/controls",
       "_view_module_version": "2.0.0",
       "_view_name": "HTMLView",
       "description": "",
       "description_allow_html": false,
       "layout": "IPY_MODEL_dd518c87fd064d94832b655987383104",
       "placeholder": "​",
       "style": "IPY_MODEL_7313e80b726a4135a742cc485b7464dd",
       "tabbable": null,
       "tooltip": null,
       "value": " 1/? [00:00&lt;00:00, 138.88it/s]"
      }
     },
     "e17cd5862ea4415f98cfd93895f640f2": {
      "model_module": "@jupyter-widgets/controls",
      "model_module_version": "2.0.0",
      "model_name": "HTMLModel",
      "state": {
       "_dom_classes": [],
       "_model_module": "@jupyter-widgets/controls",
       "_model_module_version": "2.0.0",
       "_model_name": "HTMLModel",
       "_view_count": null,
       "_view_module": "@jupyter-widgets/controls",
       "_view_module_version": "2.0.0",
       "_view_name": "HTMLView",
       "description": "",
       "description_allow_html": false,
       "layout": "IPY_MODEL_803b2fc93539412db4773dd74dfed56f",
       "placeholder": "​",
       "style": "IPY_MODEL_522dcedf7f384750af1278aa163ecfb3",
       "tabbable": null,
       "tooltip": null,
       "value": " 1/? [00:00&lt;00:00, 130.19it/s]"
      }
     },
     "fa738417f8e54732913952cce063e7a7": {
      "model_module": "@jupyter-widgets/base",
      "model_module_version": "2.0.0",
      "model_name": "LayoutModel",
      "state": {
       "_model_module": "@jupyter-widgets/base",
       "_model_module_version": "2.0.0",
       "_model_name": "LayoutModel",
       "_view_count": null,
       "_view_module": "@jupyter-widgets/base",
       "_view_module_version": "2.0.0",
       "_view_name": "LayoutView",
       "align_content": null,
       "align_items": null,
       "align_self": null,
       "border_bottom": null,
       "border_left": null,
       "border_right": null,
       "border_top": null,
       "bottom": null,
       "display": null,
       "flex": null,
       "flex_flow": null,
       "grid_area": null,
       "grid_auto_columns": null,
       "grid_auto_flow": null,
       "grid_auto_rows": null,
       "grid_column": null,
       "grid_gap": null,
       "grid_row": null,
       "grid_template_areas": null,
       "grid_template_columns": null,
       "grid_template_rows": null,
       "height": null,
       "justify_content": null,
       "justify_items": null,
       "left": null,
       "margin": null,
       "max_height": null,
       "max_width": null,
       "min_height": null,
       "min_width": null,
       "object_fit": null,
       "object_position": null,
       "order": null,
       "overflow": null,
       "padding": null,
       "right": null,
       "top": null,
       "visibility": null,
       "width": "20px"
      }
     }
    },
    "version_major": 2,
    "version_minor": 0
   }
  }
 },
 "nbformat": 4,
 "nbformat_minor": 5
}