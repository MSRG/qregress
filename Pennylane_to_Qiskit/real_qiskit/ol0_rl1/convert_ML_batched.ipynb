{
 "cells": [
  {
   "cell_type": "code",
   "execution_count": 1,
   "id": "dc8f5c2c-b710-429b-9f46-14c842ed6478",
   "metadata": {
    "editable": true,
    "execution": {
     "iopub.execute_input": "2025-03-05T21:02:31.931883Z",
     "iopub.status.busy": "2025-03-05T21:02:31.931240Z",
     "iopub.status.idle": "2025-03-05T21:02:33.773828Z",
     "shell.execute_reply": "2025-03-05T21:02:33.773189Z"
    },
    "papermill": {
     "duration": 1.855539,
     "end_time": "2025-03-05T21:02:33.775882",
     "exception": false,
     "start_time": "2025-03-05T21:02:31.920343",
     "status": "completed"
    },
    "slideshow": {
     "slide_type": ""
    },
    "tags": []
   },
   "outputs": [],
   "source": [
    "import os\n",
    "n_jobs = 16\n",
    "os.environ[\"OMP_NUM_THREADS\"] = str(n_jobs)\n",
    "import joblib\n",
    "import click\n",
    "import json\n",
    "import time\n",
    "\n",
    "import itertools\n",
    "import collections.abc\n",
    "import sys\n",
    "from tqdm.notebook import tqdm\n",
    "# !{sys.executable} -m pip install qcircuit\n",
    "\n",
    "import matplotlib.pyplot as plt\n",
    "import numpy as np\n",
    "import pandas as pd\n",
    "import pennylane as qml\n",
    "from sklearn.metrics import mean_squared_error, r2_score, mean_absolute_error\n",
    "from scipy.optimize import minimize\n",
    "# Qiskit\n",
    "from qiskit import QuantumCircuit\n",
    "from qiskit.quantum_info import Pauli, SparsePauliOp, Operator\n",
    "from qiskit.primitives import StatevectorEstimator\n",
    "from qiskit.circuit import Parameter, ParameterVector\n",
    "from qiskit.transpiler.preset_passmanagers import generate_preset_pass_manager\n",
    "from qiskit.quantum_info import SparsePauliOp\n",
    "from qiskit_ibm_runtime import EstimatorV2 as Estimator\n",
    "from qiskit_ibm_runtime import QiskitRuntimeService\n",
    "from qiskit_aer import AerSimulator\n",
    "from qiskit_aer.noise import NoiseModel\n",
    "from qiskit_ibm_runtime.fake_provider import FakeQuebec\n",
    "from qiskit_ibm_runtime import Session, Batch\n",
    "# from qiskit_machine_learning.optimizers import SPSA, Minimizer\n",
    "\n",
    "\n",
    "from joblib import dump, load\n"
   ]
  },
  {
   "cell_type": "code",
   "execution_count": 2,
   "id": "9e8cd7b1-46c5-4d8e-966b-87a99489ddac",
   "metadata": {
    "editable": true,
    "execution": {
     "iopub.execute_input": "2025-03-05T21:02:33.795526Z",
     "iopub.status.busy": "2025-03-05T21:02:33.795080Z",
     "iopub.status.idle": "2025-03-05T21:02:33.804049Z",
     "shell.execute_reply": "2025-03-05T21:02:33.803130Z"
    },
    "papermill": {
     "duration": 0.018344,
     "end_time": "2025-03-05T21:02:33.805566",
     "exception": false,
     "start_time": "2025-03-05T21:02:33.787222",
     "status": "completed"
    },
    "slideshow": {
     "slide_type": ""
    },
    "tags": []
   },
   "outputs": [],
   "source": [
    "def mitarai(quantumcircuit,num_wires,paramname='x'):\n",
    "    # encoding as proposed by Mitarai et al.\n",
    "    num_features = num_wires\n",
    "    features = ParameterVector(paramname,num_features*2)\n",
    "    for i in range(num_wires):\n",
    "        feature_idx = i % num_features  # Calculate the feature index using modulo\n",
    "        quantumcircuit.ry(np.arcsin(features[feature_idx * 2]), i)\n",
    "        quantumcircuit.rz(np.arccos(features[feature_idx * 2 + 1] ** 2), i)\n",
    "\n",
    "\n",
    "def double_angle(quantumcircuit, num_wires,paramname='x'):\n",
    "    #  creates a circuit that encodes features into wires via angle encoding with an RY then RZ gate\n",
    "    #  the features are encoded 1-1 onto the qubits\n",
    "    #  if more wires are passed then features the remaining wires will be filled from the beginning of the feature list\n",
    "    num_features = num_wires\n",
    "    features = ParameterVector(paramname,num_features*2)\n",
    "    for i in range(num_wires):\n",
    "        feature_index = i % num_features\n",
    "        quantumcircuit.ry(features[feature_index], i)\n",
    "        quantumcircuit.rz(features[feature_index], i)\n",
    "\n",
    "def entangle_cnot(quantumcircuit,num_wires):\n",
    "    #  entangles all of the wires in a circular fashion using cnot gates\n",
    "    for i in range(num_wires):\n",
    "        \n",
    "        if i == num_wires - 1:\n",
    "            quantumcircuit.cx(i, 0)\n",
    "        else:\n",
    "            quantumcircuit.cx(i, i+1)\n",
    "\n",
    "\n",
    "def entangle_cz(quantumcircuit,num_wires):\n",
    "    #  entangles all of the wires in a circular fashion using cz gates\n",
    "    for i in range(num_wires):\n",
    "        \n",
    "        if i == num_wires - 1:\n",
    "            quantumcircuit.cz(i, 0)\n",
    "        else:\n",
    "            quantumcircuit.cz(i, i+1)\n",
    "\n",
    "\n",
    "def HardwareEfficient(quantumcircuit,num_wires,paramname='theta'):\n",
    "    parameters = ParameterVector(paramname,num_wires*3)\n",
    "    for qubit in range(num_wires):\n",
    "        quantumcircuit.rx(parameters[qubit * 3], qubit)  \n",
    "        quantumcircuit.rz(parameters[qubit * 3 + 1], qubit)  \n",
    "        quantumcircuit.rx(parameters[qubit * 3 + 2], qubit)  \n",
    "    entangle_cnot(quantumcircuit,num_wires)\n",
    "\n"
   ]
  },
  {
   "cell_type": "code",
   "execution_count": 3,
   "id": "98051576-89f8-4a1d-980e-3708e2089ad6",
   "metadata": {
    "execution": {
     "iopub.execute_input": "2025-03-05T21:02:33.821854Z",
     "iopub.status.busy": "2025-03-05T21:02:33.821278Z",
     "iopub.status.idle": "2025-03-05T21:02:33.825961Z",
     "shell.execute_reply": "2025-03-05T21:02:33.825069Z"
    },
    "papermill": {
     "duration": 0.014466,
     "end_time": "2025-03-05T21:02:33.827514",
     "exception": false,
     "start_time": "2025-03-05T21:02:33.813048",
     "status": "completed"
    },
    "tags": []
   },
   "outputs": [],
   "source": [
    "# def circuit(nqubits):\n",
    "#     qc = QuantumCircuit(nqubits)\n",
    "#     mitarai(qc,nqubits)\n",
    "#     entangle_cz(qc,nqubits)\n",
    "#     qc.barrier()\n",
    "#     mitarai(qc,nqubits,paramname='x1')\n",
    "#     entangle_cz(qc,nqubits)\n",
    "#     qc.barrier()\n",
    "#     HardwareEfficient(qc,nqubits)\n",
    "#     qc.barrier()\n",
    "#     return qc\n",
    "\n",
    "\n",
    "def circuit(nqubits,RUD=1,AL=1):\n",
    "    qc = QuantumCircuit(nqubits)\n",
    "    for i in range(RUD):\n",
    "        double_angle(qc,nqubits,paramname=f'x{i}')\n",
    "        qc.barrier()\n",
    "        for j in range(AL):        \n",
    "            HardwareEfficient(qc,nqubits,paramname=f'theta{i}_{j}')\n",
    "            qc.barrier()\n",
    "    return qc"
   ]
  },
  {
   "cell_type": "code",
   "execution_count": 4,
   "id": "11cb5805-20c7-493a-b96c-8eac41dcc1d7",
   "metadata": {
    "execution": {
     "iopub.execute_input": "2025-03-05T21:02:33.843481Z",
     "iopub.status.busy": "2025-03-05T21:02:33.843302Z",
     "iopub.status.idle": "2025-03-05T21:02:33.852052Z",
     "shell.execute_reply": "2025-03-05T21:02:33.851379Z"
    },
    "papermill": {
     "duration": 0.018194,
     "end_time": "2025-03-05T21:02:33.853105",
     "exception": false,
     "start_time": "2025-03-05T21:02:33.834911",
     "status": "completed"
    },
    "tags": []
   },
   "outputs": [
    {
     "name": "stdout",
     "output_type": "stream",
     "text": [
      "(4, 64, 5) (4, 64, 5)\n",
      "(4, 64) (4, 64)\n"
     ]
    },
    {
     "name": "stderr",
     "output_type": "stream",
     "text": [
      "/home/ubuntu/miniconda3/envs/qml/lib/python3.11/site-packages/sklearn/base.py:380: InconsistentVersionWarning: Trying to unpickle estimator MinMaxScaler from version 1.5.1 when using version 1.6.0. This might lead to breaking code or invalid results. Use at your own risk. For more info please refer to:\n",
      "https://scikit-learn.org/stable/model_persistence.html#security-maintainability-limitations\n",
      "  warnings.warn(\n"
     ]
    }
   ],
   "source": [
    "\n",
    "top=os.getcwd()\n",
    "with open(os.path.join(top,'5_DDCC_train.bin'),'rb') as f:\n",
    "    ddcc_train = joblib.load(f)\n",
    "\n",
    "with open(os.path.join(top,'5_DDCC_test.bin'),'rb') as f:\n",
    "    ddcc_test = joblib.load(f)\n",
    "\n",
    "with open(os.path.join(top,'5_DDCC_scaler.bin'),'rb') as f:\n",
    "    ddcc_scaler = joblib.load(f)\n",
    "\n",
    "X_ddcc_train, y_ddcc_train = ddcc_train['X'],ddcc_train['y']\n",
    "X_ddcc_test, y_ddcc_test = ddcc_test['X'],ddcc_test['y']\n",
    "\n",
    "X_ddcc_train = X_ddcc_train.reshape(-1,64,5)[0:4]\n",
    "X_ddcc_test = X_ddcc_test.reshape(-1,64,5)[0:4]\n",
    "y_ddcc_train = y_ddcc_train.reshape(-1,64)[0:4]\n",
    "y_ddcc_test = y_ddcc_test.reshape(-1,64)[0:4]\n",
    "\n",
    "\n",
    "# X_train, y_train = X_ddcc_train, y_ddcc_train\n",
    "# X_test, y_test = X_ddcc_test, y_ddcc_test\n",
    "X_train, y_train = X_ddcc_train, y_ddcc_train\n",
    "X_test, y_test = X_ddcc_test, y_ddcc_test\n",
    "\n",
    "# X_train = [X_train[i:i+4] for i in range(0,len(X_train),4)]\n",
    "# X_test = [X_test[i:i+4] for i in range(0,len(X_test),4)]\n",
    "scaler = ddcc_scaler\n",
    "\n",
    "print(X_train.shape,X_test.shape)\n",
    "print(y_train.shape, y_test.shape)"
   ]
  },
  {
   "cell_type": "code",
   "execution_count": 5,
   "id": "0172f0c5-8225-47b8-91e3-8e113113d13e",
   "metadata": {
    "editable": true,
    "execution": {
     "iopub.execute_input": "2025-03-05T21:02:33.864456Z",
     "iopub.status.busy": "2025-03-05T21:02:33.864296Z",
     "iopub.status.idle": "2025-03-05T21:02:33.867693Z",
     "shell.execute_reply": "2025-03-05T21:02:33.867016Z"
    },
    "papermill": {
     "duration": 0.010555,
     "end_time": "2025-03-05T21:02:33.868992",
     "exception": false,
     "start_time": "2025-03-05T21:02:33.858437",
     "status": "completed"
    },
    "slideshow": {
     "slide_type": ""
    },
    "tags": []
   },
   "outputs": [],
   "source": [
    "num_qubits = 5\n",
    "RUD = 1\n",
    "AL = 5"
   ]
  },
  {
   "cell_type": "code",
   "execution_count": 6,
   "id": "fcdd8b11-a018-4461-9461-cf12e6026e13",
   "metadata": {
    "editable": true,
    "execution": {
     "iopub.execute_input": "2025-03-05T21:02:33.880608Z",
     "iopub.status.busy": "2025-03-05T21:02:33.880438Z",
     "iopub.status.idle": "2025-03-05T21:02:33.884384Z",
     "shell.execute_reply": "2025-03-05T21:02:33.883600Z"
    },
    "papermill": {
     "duration": 0.011098,
     "end_time": "2025-03-05T21:02:33.885497",
     "exception": false,
     "start_time": "2025-03-05T21:02:33.874399",
     "status": "completed"
    },
    "slideshow": {
     "slide_type": ""
    },
    "tags": [
     "parameters"
    ]
   },
   "outputs": [],
   "source": [
    "optimization_level = 2\n",
    "shots = 1024.0 * 3\n",
    "# shots = 1024.0 * 1\n",
    "resilience_level = 0"
   ]
  },
  {
   "cell_type": "code",
   "execution_count": 7,
   "id": "59d56699",
   "metadata": {
    "execution": {
     "iopub.execute_input": "2025-03-05T21:02:33.897826Z",
     "iopub.status.busy": "2025-03-05T21:02:33.897536Z",
     "iopub.status.idle": "2025-03-05T21:02:33.901447Z",
     "shell.execute_reply": "2025-03-05T21:02:33.900732Z"
    },
    "papermill": {
     "duration": 0.011189,
     "end_time": "2025-03-05T21:02:33.902315",
     "exception": false,
     "start_time": "2025-03-05T21:02:33.891126",
     "status": "completed"
    },
    "tags": [
     "injected-parameters"
    ]
   },
   "outputs": [],
   "source": [
    "# Parameters\n",
    "optimization_level = \"2\"\n",
    "resilience_level = \"1\"\n",
    "shots = \"3072\"\n"
   ]
  },
  {
   "cell_type": "code",
   "execution_count": 8,
   "id": "0dd61067-2a66-4c32-bff7-34a6678cea46",
   "metadata": {
    "editable": true,
    "execution": {
     "iopub.execute_input": "2025-03-05T21:02:33.908894Z",
     "iopub.status.busy": "2025-03-05T21:02:33.908629Z",
     "iopub.status.idle": "2025-03-05T21:02:33.912673Z",
     "shell.execute_reply": "2025-03-05T21:02:33.911861Z"
    },
    "papermill": {
     "duration": 0.008425,
     "end_time": "2025-03-05T21:02:33.913590",
     "exception": false,
     "start_time": "2025-03-05T21:02:33.905165",
     "status": "completed"
    },
    "slideshow": {
     "slide_type": ""
    },
    "tags": []
   },
   "outputs": [],
   "source": [
    "optimization_level = int(optimization_level)\n",
    "shots = int(shots)\n",
    "# shots = 1024.0 * 1\n",
    "resilience_level = int(resilience_level)"
   ]
  },
  {
   "cell_type": "code",
   "execution_count": 9,
   "id": "9f37a160-f338-4f3d-9b17-c1c695681785",
   "metadata": {
    "execution": {
     "iopub.execute_input": "2025-03-05T21:02:33.921190Z",
     "iopub.status.busy": "2025-03-05T21:02:33.920340Z",
     "iopub.status.idle": "2025-03-05T21:02:33.933597Z",
     "shell.execute_reply": "2025-03-05T21:02:33.932846Z"
    },
    "papermill": {
     "duration": 0.017881,
     "end_time": "2025-03-05T21:02:33.934414",
     "exception": false,
     "start_time": "2025-03-05T21:02:33.916533",
     "status": "completed"
    },
    "tags": []
   },
   "outputs": [
    {
     "name": "stdout",
     "output_type": "stream",
     "text": [
      "Parameters loaded\n"
     ]
    }
   ],
   "source": [
    "# \n",
    "qc = circuit(num_qubits,RUD,AL)\n",
    "\n",
    "num_params = len([i for i in list(qc.parameters) if 'theta' in i.name]) // AL\n",
    "generator = np.random.default_rng(12958234)\n",
    "load_params = './state_vector_parameters.bin'\n",
    "\n",
    "if load_params!=None:\n",
    "    print('Parameters loaded')\n",
    "    try:\n",
    "        x0 = np.load(load_params)['x0']\n",
    "    except:\n",
    "        x0 = np.array(np.load(load_params,allow_pickle=True)['parameters'])\n",
    "else:\n",
    "    print('Parameters from scratch')\n",
    "    x0 = np.tile(generator.uniform(-np.pi, np.pi, num_params),AL*RUD)\n",
    "\n",
    "\n"
   ]
  },
  {
   "cell_type": "code",
   "execution_count": 10,
   "id": "9acf4b39-77a4-4465-aceb-7d9d8670bda4",
   "metadata": {
    "editable": true,
    "execution": {
     "iopub.execute_input": "2025-03-05T21:02:33.941311Z",
     "iopub.status.busy": "2025-03-05T21:02:33.941047Z",
     "iopub.status.idle": "2025-03-05T21:02:34.961871Z",
     "shell.execute_reply": "2025-03-05T21:02:34.961134Z"
    },
    "papermill": {
     "duration": 1.02739,
     "end_time": "2025-03-05T21:02:34.964762",
     "exception": false,
     "start_time": "2025-03-05T21:02:33.937372",
     "status": "completed"
    },
    "slideshow": {
     "slide_type": ""
    },
    "tags": []
   },
   "outputs": [
    {
     "data": {
      "image/png": "[encoded data removed]",
      "text/plain": [
       "<Figure size 5387.77x451.5 with 1 Axes>"
      ]
     },
     "execution_count": 10,
     "metadata": {},
     "output_type": "execute_result"
    }
   ],
   "source": [
    "qc.draw('mpl', scale=1, plot_barriers=True, fold=100)"
   ]
  },
  {
   "cell_type": "code",
   "execution_count": 11,
   "id": "33237488-9027-4fae-9e2c-7aa92a95d9ab",
   "metadata": {
    "execution": {
     "iopub.execute_input": "2025-03-05T21:02:34.986225Z",
     "iopub.status.busy": "2025-03-05T21:02:34.985716Z",
     "iopub.status.idle": "2025-03-05T21:02:46.251395Z",
     "shell.execute_reply": "2025-03-05T21:02:46.250307Z"
    },
    "papermill": {
     "duration": 11.278161,
     "end_time": "2025-03-05T21:02:46.253173",
     "exception": false,
     "start_time": "2025-03-05T21:02:34.975012",
     "status": "completed"
    },
    "tags": []
   },
   "outputs": [
    {
     "name": "stdout",
     "output_type": "stream",
     "text": [
      "[SparsePauliOp(['IIIIIIIIIIIIIIIIIIIIIIIIIIIIIIIIIIIIIIIIIIIIIIIIIIIIIIIIIIIIIIIIIIIIIIIIIIIIIIIIIZIIIIIIIIIIIIIIIIIIIIIIIIIIIIIIIIIIIIIIIIIIIII'],\n",
      "              coeffs=[1.+0.j])]\n"
     ]
    }
   ],
   "source": [
    "# back = \"statevector\"\n",
    "# back = \"fake\"\n",
    "back = \"real\"\n",
    "\n",
    "if back=='real':\n",
    "    # Select backend\n",
    "    service = QiskitRuntimeService(channel=\"ibm_quantum\", instance='pinq-quebec-hub/univ-toronto/default')\n",
    "    _backend = service.least_busy(operational=True, simulator=False, min_num_qubits=127)\n",
    "    maxcircuits = _backend.max_circuits\n",
    "    target = _backend.target\n",
    "# Generate pass manager\n",
    "    pm = generate_preset_pass_manager(target=target, optimization_level=optimization_level)\n",
    "    qc = pm.run(qc)\n",
    "    \n",
    "    \n",
    "    observables_labels = ''.join(['I']*(num_qubits-1))+\"Z\"\n",
    "    observables = [SparsePauliOp(observables_labels)]\n",
    "    \n",
    "    mapped_observables = [observable.apply_layout(qc.layout) for observable in observables]\n",
    "    print(mapped_observables)    \n",
    "elif back=='fake':\n",
    "    # Select backend\n",
    "    service = QiskitRuntimeService(channel=\"ibm_quantum\", instance='pinq-quebec-hub/univ-toronto/default')\n",
    "    backend = service.least_busy(operational=True, simulator=False, min_num_qubits=127)\n",
    "    maxcircuits = backend.max_circuits\n",
    "    # generate a simulator that mimics the real quantum\n",
    "    # system with the latest calibration results\n",
    "    _backend = AerSimulator.from_backend(backend)\n",
    "    \n",
    "    # _backend = FakeQuebec()\n",
    "    target = _backend.target\n",
    "\n",
    "    # Generate pass manager\n",
    "    pm = generate_preset_pass_manager(target=target, optimization_level=optimization_level)\n",
    "    qc = pm.run(qc)\n",
    "    \n",
    "    \n",
    "    observables_labels = ''.join(['I']*(num_qubits-1))+\"Z\"\n",
    "    observables = [SparsePauliOp(observables_labels)]\n",
    "    \n",
    "    mapped_observables = [observable.apply_layout(qc.layout) for observable in observables]\n",
    "    print(mapped_observables)\n",
    "else:\n",
    "    observables_labels = ''.join(['I']*(num_qubits-1))+\"Z\"\n",
    "    observables = [SparsePauliOp(observables_labels)]\n",
    "    \n",
    "    mapped_observables = [observable.apply_layout(qc.layout) for observable in observables]\n",
    "    print(mapped_observables)    \n",
    "\n",
    "    _backend = back"
   ]
  },
  {
   "cell_type": "code",
   "execution_count": 12,
   "id": "321031ff-884b-4a5e-9764-97da9a827488",
   "metadata": {
    "execution": {
     "iopub.execute_input": "2025-03-05T21:02:46.276913Z",
     "iopub.status.busy": "2025-03-05T21:02:46.276713Z",
     "iopub.status.idle": "2025-03-05T21:02:46.280813Z",
     "shell.execute_reply": "2025-03-05T21:02:46.280147Z"
    },
    "papermill": {
     "duration": 0.01764,
     "end_time": "2025-03-05T21:02:46.282187",
     "exception": false,
     "start_time": "2025-03-05T21:02:46.264547",
     "status": "completed"
    },
    "tags": []
   },
   "outputs": [],
   "source": [
    "num_executions = int(qc.num_parameters * 1 * shots)"
   ]
  },
  {
   "cell_type": "code",
   "execution_count": 13,
   "id": "558c511f-ba7b-477c-95de-c9e51808dfdd",
   "metadata": {
    "execution": {
     "iopub.execute_input": "2025-03-05T21:02:46.305061Z",
     "iopub.status.busy": "2025-03-05T21:02:46.304872Z",
     "iopub.status.idle": "2025-03-05T21:02:46.308630Z",
     "shell.execute_reply": "2025-03-05T21:02:46.307963Z"
    },
    "papermill": {
     "duration": 0.016342,
     "end_time": "2025-03-05T21:02:46.309686",
     "exception": false,
     "start_time": "2025-03-05T21:02:46.293344",
     "status": "completed"
    },
    "tags": []
   },
   "outputs": [],
   "source": [
    "num_executions_minus_x = int(num_qubits * 3 * AL* 1 * shots)"
   ]
  },
  {
   "cell_type": "code",
   "execution_count": 14,
   "id": "dee52185-d5a3-413c-be12-a79e41efc2ab",
   "metadata": {
    "execution": {
     "iopub.execute_input": "2025-03-05T21:02:46.326184Z",
     "iopub.status.busy": "2025-03-05T21:02:46.325848Z",
     "iopub.status.idle": "2025-03-05T21:02:46.329477Z",
     "shell.execute_reply": "2025-03-05T21:02:46.328823Z"
    },
    "papermill": {
     "duration": 0.013415,
     "end_time": "2025-03-05T21:02:46.330667",
     "exception": false,
     "start_time": "2025-03-05T21:02:46.317252",
     "status": "completed"
    },
    "tags": []
   },
   "outputs": [],
   "source": [
    "# qc.draw('mpl', scale=1, plot_barriers=True, fold=100)"
   ]
  },
  {
   "cell_type": "code",
   "execution_count": 15,
   "id": "f0d97c4c-6c7d-4139-9767-725675e8a85f",
   "metadata": {
    "execution": {
     "iopub.execute_input": "2025-03-05T21:02:46.347293Z",
     "iopub.status.busy": "2025-03-05T21:02:46.346992Z",
     "iopub.status.idle": "2025-03-05T21:02:46.352969Z",
     "shell.execute_reply": "2025-03-05T21:02:46.351997Z"
    },
    "papermill": {
     "duration": 0.015362,
     "end_time": "2025-03-05T21:02:46.353854",
     "exception": false,
     "start_time": "2025-03-05T21:02:46.338492",
     "status": "completed"
    },
    "tags": []
   },
   "outputs": [],
   "source": [
    "def map2qiskit(ansatz, num_qubits, X):\n",
    "    '''\n",
    "    Map features to Qiskit Circuit\n",
    "    \n",
    "    parameters\n",
    "    ----------\n",
    "    ansatz: qiskit.circuit.quantumcircuit.QuantumCircuit\n",
    "        Qiskit Quantum Circuit\n",
    "        \n",
    "    num_qubits: int\n",
    "        Number of qubits\n",
    "        \n",
    "    X: numpy.ndarray\n",
    "        Feature matrix\n",
    "\n",
    "    returns\n",
    "    -------\n",
    "    ansatz: qiskit.circuit.quantumcircuit.QuantumCircuit\n",
    "        Qiskit Quantum Circuit\n",
    "    \n",
    "    '''\n",
    "    featparams = dict([(i,X[idx % num_qubits]) for idx,i in enumerate(ansatz.parameters) if 'x' in i.name])\n",
    "    ansatz = ansatz.assign_parameters(featparams)\n",
    "    return ansatz"
   ]
  },
  {
   "cell_type": "code",
   "execution_count": 16,
   "id": "4f11f4a0-4fce-4048-9471-81e14a304da2",
   "metadata": {
    "execution": {
     "iopub.execute_input": "2025-03-05T21:02:46.363480Z",
     "iopub.status.busy": "2025-03-05T21:02:46.363066Z",
     "iopub.status.idle": "2025-03-05T21:02:46.371883Z",
     "shell.execute_reply": "2025-03-05T21:02:46.370923Z"
    },
    "papermill": {
     "duration": 0.014954,
     "end_time": "2025-03-05T21:02:46.372884",
     "exception": false,
     "start_time": "2025-03-05T21:02:46.357930",
     "status": "completed"
    },
    "tags": []
   },
   "outputs": [],
   "source": [
    "def get_results(job):\n",
    "    '''\n",
    "    Get the results of a quantum job from IBM Quantum\n",
    "    \n",
    "    parameters\n",
    "    ----------\n",
    "    job: list/str\n",
    "        Contains jobids and results (qiskit.primitives.primitive_job.PrimitiveJob)\n",
    "        Job submitted to the IBM Quantum device\n",
    "\n",
    "    returns\n",
    "    -------\n",
    "    pred: numpy.ndarray\n",
    "        Predicted values\n",
    "    \n",
    "    '''\n",
    "    if isinstance(_backend, str):\n",
    "        pred = np.hstack([np.vstack([r.data.evs for r in rs.result()]) for jid, rs in job])\n",
    "    elif _backend.name!='ibm_quebec':\n",
    "        pred = np.hstack([np.vstack([r.data.evs for r in rs.result()]) for jid, rs in job])\n",
    "    else:\n",
    "        with open(f'jobs_{job}.txt','r') as f:\n",
    "            pred = np.hstack([np.vstack([r.data.evs for r in service.job(jid.strip()).result()]) for jid in f.readlines()])\n",
    "            \n",
    "    return pred"
   ]
  },
  {
   "cell_type": "code",
   "execution_count": 17,
   "id": "0730216f-ae50-450f-b35c-8842edd668ce",
   "metadata": {
    "execution": {
     "iopub.execute_input": "2025-03-05T21:02:46.382779Z",
     "iopub.status.busy": "2025-03-05T21:02:46.382368Z",
     "iopub.status.idle": "2025-03-05T21:02:46.396015Z",
     "shell.execute_reply": "2025-03-05T21:02:46.394886Z"
    },
    "papermill": {
     "duration": 0.019936,
     "end_time": "2025-03-05T21:02:46.396969",
     "exception": false,
     "start_time": "2025-03-05T21:02:46.377033",
     "status": "completed"
    },
    "tags": []
   },
   "outputs": [],
   "source": [
    "def batchmap(params, ansatz, hamiltonian, _backend, index, shots=1024, resilience_level=1,file=None):\n",
    "    '''\n",
    "    Function to map batches\n",
    "\n",
    "    parameters\n",
    "    ----------\n",
    "    params: numpy.ndarray\n",
    "        Initial circuit parameters\n",
    "        \n",
    "    ansatz: qiskit.circuit.quantumcircuit.QuantumCircuit\n",
    "        Qiskit Quantum Circuit\n",
    "\n",
    "    hamiltonian: list\n",
    "        List containing the observables\n",
    "        \n",
    "    _backend: qiskit_ibm_runtime backend\n",
    "        Backend of choice (real or fake)\n",
    "\n",
    "    index: int\n",
    "        Index of batch\n",
    "        \n",
    "    shots: float or int\n",
    "        Number of shots. Default is 1024.0.\n",
    "    \n",
    "    resilience_level: int\n",
    "        Error mitigation level. Default is 1.\n",
    "\n",
    "    file: class\n",
    "        _io.TextIOWrapper\n",
    "\n",
    "    returns\n",
    "    -------\n",
    "    y_pred: numpy.ndarray\n",
    "        Predicted values    \n",
    "    '''    \n",
    "    results = []\n",
    "    if isinstance(_backend, str):\n",
    "        jobid = str(index)\n",
    "        estimator = StatevectorEstimator()\n",
    "        for a1, p1 in zip(ansatz, params):\n",
    "            pub = [(a, [hamiltonian], [p]) for a, p in zip(a1,p1)]\n",
    "            result = estimator.run(pubs=pub)\n",
    "            results.append([jobid,result])\n",
    "                       \n",
    "    else:\n",
    "        with Batch(backend=_backend,max_time='8h') as batch:\n",
    "            if _backend.name!='ibm_quebec':\n",
    "                jobid = str(index)\n",
    "            else:\n",
    "                jobid = batch.details()['id']\n",
    "            estimator = Estimator(mode=batch)\n",
    "            estimator.options.default_shots = shots\n",
    "            estimator.options.resilience_level = resilience_level\n",
    "        \n",
    "                    \n",
    "            for a1, p1 in zip(ansatz, params):\n",
    "                pub = [(a, [hamiltonian], [p]) for a, p in zip(a1,p1)]\n",
    "                result = estimator.run(pubs=pub)\n",
    "                results.append([result.job_id(),result])\n",
    "                file.write(f\"{result.job_id()}\\n\")\n",
    "\n",
    "    return results"
   ]
  },
  {
   "cell_type": "code",
   "execution_count": 18,
   "id": "1e7f969b-86b0-4c19-9539-d37bb6f891a2",
   "metadata": {
    "execution": {
     "iopub.execute_input": "2025-03-05T21:02:46.407479Z",
     "iopub.status.busy": "2025-03-05T21:02:46.406623Z",
     "iopub.status.idle": "2025-03-05T21:02:46.424851Z",
     "shell.execute_reply": "2025-03-05T21:02:46.423853Z"
    },
    "papermill": {
     "duration": 0.024577,
     "end_time": "2025-03-05T21:02:46.425830",
     "exception": false,
     "start_time": "2025-03-05T21:02:46.401253",
     "status": "completed"
    },
    "tags": []
   },
   "outputs": [],
   "source": [
    "def batched_pred(params, ansatz, hamiltonian, num_qubits, X, _backend, shots=1024, resilience_level=1, n_jobs=-1,iters=None):\n",
    "    '''\n",
    "    Function to predict quantum circuits in batches\n",
    "\n",
    "    parameters\n",
    "    ----------\n",
    "    params: numpy.ndarray\n",
    "        Initial circuit parameters\n",
    "        \n",
    "    ansatz: qiskit.circuit.quantumcircuit.QuantumCircuit\n",
    "        Qiskit Quantum Circuit\n",
    "\n",
    "    hamiltonian: list\n",
    "        List containing the observables\n",
    "        \n",
    "    num_qubits: int\n",
    "        Number of qubits\n",
    "        \n",
    "    X: numpy.ndarray\n",
    "        Feature matrix\n",
    "        \n",
    "    _backend: qiskit_ibm_runtime backend\n",
    "        Backend of choice (real or fake)\n",
    "        \n",
    "    shots: float or int\n",
    "        Number of shots. Default is 1024.0.\n",
    "    \n",
    "    resilience_level: int\n",
    "        Error mitigation level. Default is 1.\n",
    "\n",
    "    n_jobs: int\n",
    "        Number of threads/cores for parallelization.\n",
    "\n",
    "    iters: int/str\n",
    "        Helps label the jobs.txt file\n",
    "\n",
    "    returns\n",
    "    -------\n",
    "    y_pred: numpy.ndarray\n",
    "        Predicted values    \n",
    "    '''\n",
    "    mapped_circuits = [[[map2qiskit(ansatz,num_qubits,x_i) for x_i in xi ]for xi in X[i : i + 4]] for i in range(0, len(X), 4)]\n",
    "    tiled_params = np.tile(params,(X.shape[0],X.shape[1])).reshape(X.shape[0],X.shape[1],-1)\n",
    "    batched_params = [tiled_params[i : i + 4] for i in range(0, len(X), 4)]\n",
    "    \n",
    "    # Submit jobs\n",
    "    \n",
    "\n",
    "    if isinstance(_backend, str):\n",
    "        t0 = time.perf_counter()\n",
    "        jobs = joblib.Parallel(n_jobs=n_jobs,verbose=0, prefer=\"threads\")(joblib.delayed(batchmap)(pars, anz, hamiltonian, _backend, idx, shots, resilience_level,None) for idx, (anz, pars) in tqdm(enumerate(zip(mapped_circuits,batched_params)),desc=\"Mappings\"))\n",
    "        print(f\"Submitted to device in {time.perf_counter()-t0:.4f} s\")\n",
    "        \n",
    "        t1 = time.perf_counter()        \n",
    "        y_pred = np.hstack(joblib.Parallel(n_jobs=n_jobs,verbose=0, prefer=\"threads\")(joblib.delayed(get_results)(job) for job in tqdm(jobs,desc=\"Running batch: \"))).T\n",
    "        print(f\"Predicted in {time.perf_counter()-t1:.4f} s\")\n",
    "    else:\n",
    "        \n",
    "        t0 = time.perf_counter()\n",
    "        with open(f'jobs_{iters}.txt','w') as f:\n",
    "            jobs = joblib.Parallel(n_jobs=n_jobs,verbose=0, prefer=\"threads\")(joblib.delayed(batchmap)(pars, anz, hamiltonian, _backend, idx, shots, resilience_level,f) for idx, (anz, pars) in tqdm(enumerate(zip(mapped_circuits,batched_params)),desc=\"Mappings\"))\n",
    "        print(f\"Submitted to device in {time.perf_counter()-t0:.4f} s\")\n",
    "\n",
    "        t1 = time.perf_counter()        \n",
    "        if _backend.name!='ibm_quebec':\n",
    "            y_pred = np.hstack(joblib.Parallel(n_jobs=n_jobs,verbose=0, prefer=\"threads\")(joblib.delayed(get_results)(job) for job in tqdm(jobs,desc=\"Running batch: \"))).T            \n",
    "        else:\n",
    "            y_pred = get_results(iters)\n",
    "        print(f\"Predicted in {time.perf_counter()-t1:.4f} s\")\n",
    "\n",
    "    return y_pred"
   ]
  },
  {
   "cell_type": "code",
   "execution_count": 19,
   "id": "8e0da73e-16ae-4c90-bfd4-e1026a5403fa",
   "metadata": {
    "execution": {
     "iopub.execute_input": "2025-03-05T21:02:46.441533Z",
     "iopub.status.busy": "2025-03-05T21:02:46.441230Z",
     "iopub.status.idle": "2025-03-05T21:02:46.450918Z",
     "shell.execute_reply": "2025-03-05T21:02:46.449930Z"
    },
    "papermill": {
     "duration": 0.018594,
     "end_time": "2025-03-05T21:02:46.451979",
     "exception": false,
     "start_time": "2025-03-05T21:02:46.433385",
     "status": "completed"
    },
    "tags": []
   },
   "outputs": [],
   "source": [
    "def cost_func(params, ansatz, hamiltonian, num_qubits, X, y, cost_history_dict, _backend, shots=1024.0, resilience_level=1, n_jobs=-1):\n",
    "    \"\"\"\n",
    "    Cost function. Is this loss?\n",
    "    \n",
    "    parameters\n",
    "    ----------\n",
    "    params: numpy.ndarray\n",
    "        Initial circuit parameters\n",
    "        \n",
    "    ansatz: qiskit.circuit.quantumcircuit.QuantumCircuit\n",
    "        Qiskit Quantum Circuit\n",
    "\n",
    "    hamiltonian: list\n",
    "        List containing the observables\n",
    "        \n",
    "    num_qubits: int\n",
    "        Number of qubits\n",
    "        \n",
    "    X: numpy.ndarray\n",
    "        Feature matrix\n",
    "\n",
    "    y: numpy.ndarray\n",
    "        Target vector\n",
    "\n",
    "    cost_history_dict: dict\n",
    "        Dictionary to track the loss        \n",
    "        \n",
    "    _backend: qiskit_ibm_runtime backend\n",
    "        Backend of choice (real or fake)\n",
    "        \n",
    "    shots: float or int\n",
    "        Number of shots. Default is 1024.0.\n",
    "    \n",
    "    resilience_level: int\n",
    "        Error mitigation level. Default is 1.\n",
    "\n",
    "    n_jobs: int\n",
    "        Number of threads/cores for parallelization.\n",
    "\n",
    "    \"\"\"\n",
    "    t0=time.perf_counter()\n",
    "    if isinstance(_backend, str): \n",
    "        y_pred = batched_pred(params, ansatz, hamiltonian, num_qubits, X, _backend, shots, resilience_level, n_jobs,None)\n",
    "    else:\n",
    "        y_pred = batched_pred(params, ansatz, hamiltonian, num_qubits, X, _backend, shots, resilience_level, n_jobs,cost_history_dict[\"iters\"])\n",
    "    \n",
    "    loss = mean_squared_error(y.flatten(),y_pred.flatten())\n",
    "    r2 = r2_score(y.flatten(),y_pred.flatten())\n",
    "    \n",
    "    cost_history_dict[\"iters\"] += 1\n",
    "    cost_history_dict[\"prev_vector\"] = params\n",
    "    cost_history_dict[\"cost_history\"].append(loss)\n",
    "    \n",
    "    print(f\"Iters. done: {cost_history_dict['iters']} Current cost: {loss} Accuracy: {r2} Time: {time.perf_counter()-t0}\")\n",
    "    \n",
    "    with open('model_log.csv', 'a') as outfile:\n",
    "        log = f\"{time.asctime()},{cost_history_dict['iters']},{loss},{params}\\n\"\n",
    "        outfile.write(log)\n",
    "\n",
    "    save_file = 'partial_state_model.bin'\n",
    "    progress = {'x': params, 'loss': loss}\n",
    "    dump(progress, save_file)\n",
    "  \n",
    "    return loss"
   ]
  },
  {
   "cell_type": "code",
   "execution_count": 20,
   "id": "4c7cf7d5-8ec8-4994-86d3-a88ac219bbf8",
   "metadata": {
    "execution": {
     "iopub.execute_input": "2025-03-05T21:02:46.461934Z",
     "iopub.status.busy": "2025-03-05T21:02:46.461526Z",
     "iopub.status.idle": "2025-03-05T21:02:46.482470Z",
     "shell.execute_reply": "2025-03-05T21:02:46.481550Z"
    },
    "papermill": {
     "duration": 0.027705,
     "end_time": "2025-03-05T21:02:46.483940",
     "exception": false,
     "start_time": "2025-03-05T21:02:46.456235",
     "status": "completed"
    },
    "tags": []
   },
   "outputs": [],
   "source": [
    "def evaluate(params, ansatz, hamiltonian, num_qubits, n_jobs, _backend, X_train, y_train, X_test=None, y_test=None, plot: bool = False, title: str = 'defult',y_scaler=None, shots=1024.0, resilience_level=1):\n",
    "    scores = {}\n",
    "    st = time.time()\n",
    "    print('Now scoring model... ')\n",
    "    if isinstance(_backend, str): \n",
    "        y_train_pred = batched_pred(params, ansatz, hamiltonian, num_qubits, X_train, _backend, shots, resilience_level, n_jobs,None)\n",
    "    else:\n",
    "        y_train_pred = batched_pred(params, ansatz, hamiltonian, num_qubits, X_train, _backend, shots, resilience_level, n_jobs,'evals_train')\n",
    "    y_train_pred = y_scaler.inverse_transform(y_train_pred.reshape(-1, 1)).flatten()\n",
    "    y_train = y_scaler.inverse_transform(y_train.reshape(-1, 1)).flatten()\n",
    "\n",
    "    scores['MSE_train'] = mean_squared_error(y_train, y_train_pred)\n",
    "    scores['R2_train'] = r2_score(y_train, y_train_pred)\n",
    "    scores['MAE_train'] = mean_absolute_error(y_train, y_train_pred)\n",
    "\n",
    "    y_test_pred = None\n",
    "    y_test = y_scaler.inverse_transform(y_test.reshape(-1, 1)).flatten()\n",
    "    if y_test is not None:\n",
    "        if isinstance(_backend, str):\n",
    "            y_test_pred = batched_pred(params, ansatz, hamiltonian, num_qubits, X_test, _backend, shots, resilience_level, n_jobs,None)            \n",
    "        else:\n",
    "            y_test_pred = batched_pred(params, ansatz, hamiltonian, num_qubits, X_test, _backend, shots, resilience_level, n_jobs,'evals_test')\n",
    "        y_test_pred = y_scaler.inverse_transform(y_test_pred.reshape(-1, 1)).flatten()\n",
    "    \n",
    "        scores['MSE_test'] = mean_squared_error(y_test, y_test_pred)\n",
    "        scores['R2_test'] = r2_score(y_test, y_test_pred)\n",
    "        scores['MAE_test'] = mean_absolute_error(y_test, y_test_pred)\n",
    "\n",
    "    if plot:\n",
    "        plt.figure()\n",
    "        if y_test_pred is not None:\n",
    "            plt.scatter(y_test, y_test_pred, color='b', s=10, label=f'Test, MAE = {scores[\"MAE_test\"]:.2f}')\n",
    "        plt.scatter(y_train, y_train_pred, color='r', s=10, label=f'Train, MAE = {scores[\"MAE_train\"]:.2f}')\n",
    "        plt.ylabel('Predicted')\n",
    "        plt.xlabel('Actual')\n",
    "        plt.axis('scaled')\n",
    "\n",
    "        max_val = max(max(plt.xlim()), max(plt.ylim()))\n",
    "        min_val = min(min(plt.xlim()), min(plt.ylim()))\n",
    "        plt.xlim((min_val, max_val))\n",
    "        plt.ylim((min_val, max_val))\n",
    "\n",
    "        x_min, x_max = plt.xlim()\n",
    "        y_min, y_max = plt.ylim()\n",
    "        plt.plot([x_min, x_max], [y_min, y_max], 'k--', alpha=0.2, label='y=x')\n",
    "        plt.legend()\n",
    "        plt.savefig(title+'_plot.svg')\n",
    "\n",
    "        if X_test.shape[1] == 1:\n",
    "            plt.figure()\n",
    "            plt.title(title)\n",
    "            plt.scatter(X_train, y_train_pred, color='b', label='Train', s=10)\n",
    "            plt.scatter(X_test, y_test_pred, color='orange', label='Test', s=10)\n",
    "            plt.scatter(X_train, y_train, color='green', label='Data', s=10)\n",
    "            plt.scatter(X_test, y_test, color='green', s=10)\n",
    "            plt.legend()\n",
    "            plt.savefig(title+'_1D_plot.svg')\n",
    "\n",
    "    print(f'Scoring complete taking {time.time() - st} seconds. ')\n",
    "\n",
    "    return scores, y_test_pred, y_train_pred"
   ]
  },
  {
   "cell_type": "code",
   "execution_count": 21,
   "id": "21c8acce-aca9-4a3c-9af6-73f33015bf0d",
   "metadata": {
    "execution": {
     "iopub.execute_input": "2025-03-05T21:02:46.500966Z",
     "iopub.status.busy": "2025-03-05T21:02:46.500664Z",
     "iopub.status.idle": "2025-03-05T21:23:35.892973Z",
     "shell.execute_reply": "2025-03-05T21:23:35.892241Z"
    },
    "papermill": {
     "duration": 1249.41655,
     "end_time": "2025-03-05T21:23:35.908425",
     "exception": false,
     "start_time": "2025-03-05T21:02:46.491875",
     "status": "completed"
    },
    "tags": []
   },
   "outputs": [
    {
     "data": {
      "application/vnd.jupyter.widget-view+json": {
       "model_id": "0634130e0547431ba6ebf53ce357ff6f",
       "version_major": 2,
       "version_minor": 0
      },
      "text/plain": [
       "Mappings: 0it [00:00, ?it/s]"
      ]
     },
     "metadata": {},
     "output_type": "display_data"
    },
    {
     "name": "stdout",
     "output_type": "stream",
     "text": [
      "Submitted to device in 24.7970 s\n"
     ]
    },
    {
     "name": "stdout",
     "output_type": "stream",
     "text": [
      "Predicted in 426.4141 s\n",
      "Iters. done: 1 Current cost: 0.1383287996078577 Accuracy: -0.5291906594243798 Time: 451.2943704109639\n",
      "Now scoring model... \n"
     ]
    },
    {
     "data": {
      "application/vnd.jupyter.widget-view+json": {
       "model_id": "c25358455e944f31aea9f9e15bc32187",
       "version_major": 2,
       "version_minor": 0
      },
      "text/plain": [
       "Mappings: 0it [00:00, ?it/s]"
      ]
     },
     "metadata": {},
     "output_type": "display_data"
    },
    {
     "name": "stdout",
     "output_type": "stream",
     "text": [
      "Submitted to device in 22.6511 s\n"
     ]
    },
    {
     "name": "stdout",
     "output_type": "stream",
     "text": [
      "Predicted in 374.1565 s\n"
     ]
    },
    {
     "data": {
      "application/vnd.jupyter.widget-view+json": {
       "model_id": "3e754a31f44e4ba099455df9603c31aa",
       "version_major": 2,
       "version_minor": 0
      },
      "text/plain": [
       "Mappings: 0it [00:00, ?it/s]"
      ]
     },
     "metadata": {},
     "output_type": "display_data"
    },
    {
     "name": "stdout",
     "output_type": "stream",
     "text": [
      "Submitted to device in 38.8734 s\n"
     ]
    },
    {
     "name": "stdout",
     "output_type": "stream",
     "text": [
      "Predicted in 362.0666 s\n",
      "Scoring complete taking 798.0109045505524 seconds. \n"
     ]
    },
    {
     "data": {
      "image/png": "[encoded data removed]",
      "text/plain": [
       "<Figure size 640x480 with 1 Axes>"
      ]
     },
     "metadata": {},
     "output_type": "display_data"
    }
   ],
   "source": [
    "\n",
    "scores = []\n",
    "with open('model_log.csv', 'w') as outfile:\n",
    "    outfile.write('Time,Iteration,Cost,Parameters')\n",
    "    outfile.write('\\n')        \n",
    "\n",
    "\n",
    "cost_history_dict = {\n",
    "    \"prev_vector\": None,\n",
    "    \"iters\": 0,\n",
    "    \"cost_history\": [],\n",
    "}\n",
    "\n",
    "\n",
    "\n",
    "\n",
    "\n",
    "res = minimize(cost_func,\n",
    "    x0,\n",
    "    args=(qc, mapped_observables, num_qubits, X_train, y_train, cost_history_dict, _backend, shots, resilience_level, n_jobs),\n",
    "    method=\"cobyla\", options={'maxiter':1})  \n",
    "\n",
    "x0 = res.x\n",
    "loss = res.fun    \n",
    "progress = {'x': x0, 'loss': loss}\n",
    "dump(progress, 'final_state_model.bin')\n",
    "os.remove('partial_state_model.bin') \n",
    "\n",
    "scores, y_test_pred, y_train_pred = evaluate(x0, qc, mapped_observables, num_qubits, n_jobs, _backend, X_train, y_train, X_test=X_test, y_test=y_test, plot = True, title= 'A2_HWE-CNOT',y_scaler=scaler, shots=shots, resilience_level=resilience_level)\n",
    "\n",
    "name = 'A2_HWE-CNOT_predicted_values.csv'\n",
    "\n",
    "y_train = scaler.inverse_transform(y_train.reshape(-1, 1))\n",
    "y_test = scaler.inverse_transform(y_test.reshape(-1, 1))\n",
    "train_pred, y_train, test_pred, y_test = y_train_pred.flatten().tolist(), y_train.flatten().tolist(), y_test_pred.flatten().tolist(), y_test.flatten().tolist()\n",
    "df_train = pd.DataFrame({'Predicted': train_pred, 'Reference': y_train})\n",
    "df_train['Data'] = 'Train'\n",
    "df_test = pd.DataFrame({'Predicted': test_pred, 'Reference': y_test})\n",
    "df_test['Data'] = 'Test'\n",
    "df = pd.concat([df_train, df_test], ignore_index=True)\n",
    "df = df[['Data', 'Predicted', 'Reference']]\n",
    "\n",
    "df.to_csv(name, index=False)\n",
    "\n",
    "results_title = 'A2_HWE-CNOT_results.json'\n",
    "with open(results_title, 'w') as outfile:\n",
    "    json.dump(scores, outfile)\n",
    "\n",
    "\n"
   ]
  },
  {
   "cell_type": "code",
   "execution_count": 22,
   "id": "d2d4290f-6366-47b2-94f3-6ce762b37cdc",
   "metadata": {
    "execution": {
     "iopub.execute_input": "2025-03-05T21:23:35.937064Z",
     "iopub.status.busy": "2025-03-05T21:23:35.936839Z",
     "iopub.status.idle": "2025-03-05T21:23:35.943380Z",
     "shell.execute_reply": "2025-03-05T21:23:35.942764Z"
    },
    "papermill": {
     "duration": 0.021473,
     "end_time": "2025-03-05T21:23:35.944614",
     "exception": false,
     "start_time": "2025-03-05T21:23:35.923141",
     "status": "completed"
    },
    "tags": []
   },
   "outputs": [
    {
     "data": {
      "text/plain": [
       "(-0.5241123038155877, 0.0005937036837629877)"
      ]
     },
     "execution_count": 22,
     "metadata": {},
     "output_type": "execute_result"
    }
   ],
   "source": [
    "r2_score(y_train,train_pred),mean_squared_error(y_train,train_pred)"
   ]
  },
  {
   "cell_type": "code",
   "execution_count": 23,
   "id": "c32cb367-682e-4c0f-85f4-d5b259ce6752",
   "metadata": {
    "execution": {
     "iopub.execute_input": "2025-03-05T21:23:35.965144Z",
     "iopub.status.busy": "2025-03-05T21:23:35.964827Z",
     "iopub.status.idle": "2025-03-05T21:23:35.971479Z",
     "shell.execute_reply": "2025-03-05T21:23:35.970778Z"
    },
    "papermill": {
     "duration": 0.018537,
     "end_time": "2025-03-05T21:23:35.972859",
     "exception": false,
     "start_time": "2025-03-05T21:23:35.954322",
     "status": "completed"
    },
    "tags": []
   },
   "outputs": [
    {
     "data": {
      "text/plain": [
       "(-0.6043427532631109, 0.0006304025994866322)"
      ]
     },
     "execution_count": 23,
     "metadata": {},
     "output_type": "execute_result"
    }
   ],
   "source": [
    "r2_score(y_test,test_pred),mean_squared_error(y_test,test_pred)"
   ]
  },
  {
   "cell_type": "code",
   "execution_count": 24,
   "id": "c9106804-835b-4a4b-9a7e-83712ff62774",
   "metadata": {
    "execution": {
     "iopub.execute_input": "2025-03-05T21:23:35.992121Z",
     "iopub.status.busy": "2025-03-05T21:23:35.991810Z",
     "iopub.status.idle": "2025-03-05T21:23:36.103966Z",
     "shell.execute_reply": "2025-03-05T21:23:36.103283Z"
    },
    "papermill": {
     "duration": 0.122731,
     "end_time": "2025-03-05T21:23:36.105359",
     "exception": false,
     "start_time": "2025-03-05T21:23:35.982628",
     "status": "completed"
    },
    "tags": []
   },
   "outputs": [
    {
     "data": {
      "text/plain": [
       "[<matplotlib.lines.Line2D at 0x7fab83bf0b10>]"
      ]
     },
     "execution_count": 24,
     "metadata": {},
     "output_type": "execute_result"
    },
    {
     "data": {
      "image/png": "[encoded data removed]",
      "text/plain": [
       "<Figure size 640x480 with 1 Axes>"
      ]
     },
     "metadata": {},
     "output_type": "display_data"
    }
   ],
   "source": [
    "plt.scatter(y_train,train_pred)\n",
    "plt.scatter(y_test,test_pred)\n",
    "plt.plot(y_train, y_train)"
   ]
  }
 ],
 "metadata": {
  "kernelspec": {
   "display_name": "Python 3 (ipykernel)",
   "language": "python",
   "name": "python3"
  },
  "language_info": {
   "codemirror_mode": {
    "name": "ipython",
    "version": 3
   },
   "file_extension": ".py",
   "mimetype": "text/x-python",
   "name": "python",
   "nbconvert_exporter": "python",
   "pygments_lexer": "ipython3",
   "version": "3.11.11"
  },
  "papermill": {
   "default_parameters": {},
   "duration": 1266.353857,
   "end_time": "2025-03-05T21:23:37.341293",
   "environment_variables": {},
   "exception": null,
   "input_path": "convert_ML_batched.ipynb",
   "output_path": "ol0_rl1/convert_ML_batched.ipynb",
   "parameters": {
    "optimization_level": "2",
    "resilience_level": "1",
    "shots": "3072"
   },
   "start_time": "2025-03-05T21:02:30.987436",
   "version": "2.6.0"
  },
  "widgets": {
   "application/vnd.jupyter.widget-state+json": {
    "state": {
     "0634130e0547431ba6ebf53ce357ff6f": {
      "model_module": "@jupyter-widgets/controls",
      "model_module_version": "2.0.0",
      "model_name": "HBoxModel",
      "state": {
       "_dom_classes": [],
       "_model_module": "@jupyter-widgets/controls",
       "_model_module_version": "2.0.0",
       "_model_name": "HBoxModel",
       "_view_count": null,
       "_view_module": "@jupyter-widgets/controls",
       "_view_module_version": "2.0.0",
       "_view_name": "HBoxView",
       "box_style": "",
       "children": [
        "IPY_MODEL_07e80dcb031a42d6bfa63ab7e9acf3c0",
        "IPY_MODEL_09d80bc37d55420f93f012265009138e",
        "IPY_MODEL_d7d04bad06f24bf29a09cfcfa4968ac2"
       ],
       "layout": "IPY_MODEL_6e3f47ee7b0141e387681f4c1a6c1c94",
       "tabbable": null,
       "tooltip": null
      }
     },
     "07e80dcb031a42d6bfa63ab7e9acf3c0": {
      "model_module": "@jupyter-widgets/controls",
      "model_module_version": "2.0.0",
      "model_name": "HTMLModel",
      "state": {
       "_dom_classes": [],
       "_model_module": "@jupyter-widgets/controls",
       "_model_module_version": "2.0.0",
       "_model_name": "HTMLModel",
       "_view_count": null,
       "_view_module": "@jupyter-widgets/controls",
       "_view_module_version": "2.0.0",
       "_view_name": "HTMLView",
       "description": "",
       "description_allow_html": false,
       "layout": "IPY_MODEL_375bad0cdb9e478c88d907e96dc2d8d2",
       "placeholder": "​",
       "style": "IPY_MODEL_8960c114b63e44f2aa09d4b7f993f4c5",
       "tabbable": null,
       "tooltip": null,
       "value": "Mappings: "
      }
     },
     "08b96af246f74317a2409908aad61f47": {
      "model_module": "@jupyter-widgets/controls",
      "model_module_version": "2.0.0",
      "model_name": "HTMLStyleModel",
      "state": {
       "_model_module": "@jupyter-widgets/controls",
       "_model_module_version": "2.0.0",
       "_model_name": "HTMLStyleModel",
       "_view_count": null,
       "_view_module": "@jupyter-widgets/base",
       "_view_module_version": "2.0.0",
       "_view_name": "StyleView",
       "background": null,
       "description_width": "",
       "font_size": null,
       "text_color": null
      }
     },
     "09d80bc37d55420f93f012265009138e": {
      "model_module": "@jupyter-widgets/controls",
      "model_module_version": "2.0.0",
      "model_name": "FloatProgressModel",
      "state": {
       "_dom_classes": [],
       "_model_module": "@jupyter-widgets/controls",
       "_model_module_version": "2.0.0",
       "_model_name": "FloatProgressModel",
       "_view_count": null,
       "_view_module": "@jupyter-widgets/controls",
       "_view_module_version": "2.0.0",
       "_view_name": "ProgressView",
       "bar_style": "success",
       "description": "",
       "description_allow_html": false,
       "layout": "IPY_MODEL_ecaf137ead8348438238c380e9969062",
       "max": 1.0,
       "min": 0.0,
       "orientation": "horizontal",
       "style": "IPY_MODEL_b976b10d3438478a908d58ce5853c9dc",
       "tabbable": null,
       "tooltip": null,
       "value": 1.0
      }
     },
     "0b1ef1114d114bb987e899b77d9d3be1": {
      "model_module": "@jupyter-widgets/controls",
      "model_module_version": "2.0.0",
      "model_name": "FloatProgressModel",
      "state": {
       "_dom_classes": [],
       "_model_module": "@jupyter-widgets/controls",
       "_model_module_version": "2.0.0",
       "_model_name": "FloatProgressModel",
       "_view_count": null,
       "_view_module": "@jupyter-widgets/controls",
       "_view_module_version": "2.0.0",
       "_view_name": "ProgressView",
       "bar_style": "success",
       "description": "",
       "description_allow_html": false,
       "layout": "IPY_MODEL_ae1ae8f7436749a78903f6103363c367",
       "max": 1.0,
       "min": 0.0,
       "orientation": "horizontal",
       "style": "IPY_MODEL_3d16a54be346482bb44540112a64f8ad",
       "tabbable": null,
       "tooltip": null,
       "value": 1.0
      }
     },
     "0fa2b2f172964c35839785f4e42b36e7": {
      "model_module": "@jupyter-widgets/controls",
      "model_module_version": "2.0.0",
      "model_name": "HTMLStyleModel",
      "state": {
       "_model_module": "@jupyter-widgets/controls",
       "_model_module_version": "2.0.0",
       "_model_name": "HTMLStyleModel",
       "_view_count": null,
       "_view_module": "@jupyter-widgets/base",
       "_view_module_version": "2.0.0",
       "_view_name": "StyleView",
       "background": null,
       "description_width": "",
       "font_size": null,
       "text_color": null
      }
     },
     "12be3910faf2421592a030a243818ef4": {
      "model_module": "@jupyter-widgets/controls",
      "model_module_version": "2.0.0",
      "model_name": "HTMLStyleModel",
      "state": {
       "_model_module": "@jupyter-widgets/controls",
       "_model_module_version": "2.0.0",
       "_model_name": "HTMLStyleModel",
       "_view_count": null,
       "_view_module": "@jupyter-widgets/base",
       "_view_module_version": "2.0.0",
       "_view_name": "StyleView",
       "background": null,
       "description_width": "",
       "font_size": null,
       "text_color": null
      }
     },
     "2a629dfd704246c0a597e09fb7f019bd": {
      "model_module": "@jupyter-widgets/base",
      "model_module_version": "2.0.0",
      "model_name": "LayoutModel",
      "state": {
       "_model_module": "@jupyter-widgets/base",
       "_model_module_version": "2.0.0",
       "_model_name": "LayoutModel",
       "_view_count": null,
       "_view_module": "@jupyter-widgets/base",
       "_view_module_version": "2.0.0",
       "_view_name": "LayoutView",
       "align_content": null,
       "align_items": null,
       "align_self": null,
       "border_bottom": null,
       "border_left": null,
       "border_right": null,
       "border_top": null,
       "bottom": null,
       "display": null,
       "flex": null,
       "flex_flow": null,
       "grid_area": null,
       "grid_auto_columns": null,
       "grid_auto_flow": null,
       "grid_auto_rows": null,
       "grid_column": null,
       "grid_gap": null,
       "grid_row": null,
       "grid_template_areas": null,
       "grid_template_columns": null,
       "grid_template_rows": null,
       "height": null,
       "justify_content": null,
       "justify_items": null,
       "left": null,
       "margin": null,
       "max_height": null,
       "max_width": null,
       "min_height": null,
       "min_width": null,
       "object_fit": null,
       "object_position": null,
       "order": null,
       "overflow": null,
       "padding": null,
       "right": null,
       "top": null,
       "visibility": null,
       "width": null
      }
     },
     "301f23456c254ae1a174a2d8114aa8bd": {
      "model_module": "@jupyter-widgets/base",
      "model_module_version": "2.0.0",
      "model_name": "LayoutModel",
      "state": {
       "_model_module": "@jupyter-widgets/base",
       "_model_module_version": "2.0.0",
       "_model_name": "LayoutModel",
       "_view_count": null,
       "_view_module": "@jupyter-widgets/base",
       "_view_module_version": "2.0.0",
       "_view_name": "LayoutView",
       "align_content": null,
       "align_items": null,
       "align_self": null,
       "border_bottom": null,
       "border_left": null,
       "border_right": null,
       "border_top": null,
       "bottom": null,
       "display": null,
       "flex": null,
       "flex_flow": null,
       "grid_area": null,
       "grid_auto_columns": null,
       "grid_auto_flow": null,
       "grid_auto_rows": null,
       "grid_column": null,
       "grid_gap": null,
       "grid_row": null,
       "grid_template_areas": null,
       "grid_template_columns": null,
       "grid_template_rows": null,
       "height": null,
       "justify_content": null,
       "justify_items": null,
       "left": null,
       "margin": null,
       "max_height": null,
       "max_width": null,
       "min_height": null,
       "min_width": null,
       "object_fit": null,
       "object_position": null,
       "order": null,
       "overflow": null,
       "padding": null,
       "right": null,
       "top": null,
       "visibility": null,
       "width": null
      }
     },
     "375bad0cdb9e478c88d907e96dc2d8d2": {
      "model_module": "@jupyter-widgets/base",
      "model_module_version": "2.0.0",
      "model_name": "LayoutModel",
      "state": {
       "_model_module": "@jupyter-widgets/base",
       "_model_module_version": "2.0.0",
       "_model_name": "LayoutModel",
       "_view_count": null,
       "_view_module": "@jupyter-widgets/base",
       "_view_module_version": "2.0.0",
       "_view_name": "LayoutView",
       "align_content": null,
       "align_items": null,
       "align_self": null,
       "border_bottom": null,
       "border_left": null,
       "border_right": null,
       "border_top": null,
       "bottom": null,
       "display": null,
       "flex": null,
       "flex_flow": null,
       "grid_area": null,
       "grid_auto_columns": null,
       "grid_auto_flow": null,
       "grid_auto_rows": null,
       "grid_column": null,
       "grid_gap": null,
       "grid_row": null,
       "grid_template_areas": null,
       "grid_template_columns": null,
       "grid_template_rows": null,
       "height": null,
       "justify_content": null,
       "justify_items": null,
       "left": null,
       "margin": null,
       "max_height": null,
       "max_width": null,
       "min_height": null,
       "min_width": null,
       "object_fit": null,
       "object_position": null,
       "order": null,
       "overflow": null,
       "padding": null,
       "right": null,
       "top": null,
       "visibility": null,
       "width": null
      }
     },
     "3b5bb076182542beb11e6d4937eb03ae": {
      "model_module": "@jupyter-widgets/controls",
      "model_module_version": "2.0.0",
      "model_name": "HTMLModel",
      "state": {
       "_dom_classes": [],
       "_model_module": "@jupyter-widgets/controls",
       "_model_module_version": "2.0.0",
       "_model_name": "HTMLModel",
       "_view_count": null,
       "_view_module": "@jupyter-widgets/controls",
       "_view_module_version": "2.0.0",
       "_view_name": "HTMLView",
       "description": "",
       "description_allow_html": false,
       "layout": "IPY_MODEL_86eac1800e6d48e7a5a3c256fd8d4d31",
       "placeholder": "​",
       "style": "IPY_MODEL_0fa2b2f172964c35839785f4e42b36e7",
       "tabbable": null,
       "tooltip": null,
       "value": " 1/? [00:00&lt;00:00, 136.32it/s]"
      }
     },
     "3d16a54be346482bb44540112a64f8ad": {
      "model_module": "@jupyter-widgets/controls",
      "model_module_version": "2.0.0",
      "model_name": "ProgressStyleModel",
      "state": {
       "_model_module": "@jupyter-widgets/controls",
       "_model_module_version": "2.0.0",
       "_model_name": "ProgressStyleModel",
       "_view_count": null,
       "_view_module": "@jupyter-widgets/base",
       "_view_module_version": "2.0.0",
       "_view_name": "StyleView",
       "bar_color": null,
       "description_width": ""
      }
     },
     "3e754a31f44e4ba099455df9603c31aa": {
      "model_module": "@jupyter-widgets/controls",
      "model_module_version": "2.0.0",
      "model_name": "HBoxModel",
      "state": {
       "_dom_classes": [],
       "_model_module": "@jupyter-widgets/controls",
       "_model_module_version": "2.0.0",
       "_model_name": "HBoxModel",
       "_view_count": null,
       "_view_module": "@jupyter-widgets/controls",
       "_view_module_version": "2.0.0",
       "_view_name": "HBoxView",
       "box_style": "",
       "children": [
        "IPY_MODEL_4c14fcf25fc54bda890bf5fd5f563da5",
        "IPY_MODEL_af89daaeaf9f482ea7da823f9cfbcbf9",
        "IPY_MODEL_966e80cc8b7d4517ad5048dea0174cef"
       ],
       "layout": "IPY_MODEL_4a95a0e524e249ff8e2dbe6cfe61709c",
       "tabbable": null,
       "tooltip": null
      }
     },
     "4a95a0e524e249ff8e2dbe6cfe61709c": {
      "model_module": "@jupyter-widgets/base",
      "model_module_version": "2.0.0",
      "model_name": "LayoutModel",
      "state": {
       "_model_module": "@jupyter-widgets/base",
       "_model_module_version": "2.0.0",
       "_model_name": "LayoutModel",
       "_view_count": null,
       "_view_module": "@jupyter-widgets/base",
       "_view_module_version": "2.0.0",
       "_view_name": "LayoutView",
       "align_content": null,
       "align_items": null,
       "align_self": null,
       "border_bottom": null,
       "border_left": null,
       "border_right": null,
       "border_top": null,
       "bottom": null,
       "display": null,
       "flex": null,
       "flex_flow": null,
       "grid_area": null,
       "grid_auto_columns": null,
       "grid_auto_flow": null,
       "grid_auto_rows": null,
       "grid_column": null,
       "grid_gap": null,
       "grid_row": null,
       "grid_template_areas": null,
       "grid_template_columns": null,
       "grid_template_rows": null,
       "height": null,
       "justify_content": null,
       "justify_items": null,
       "left": null,
       "margin": null,
       "max_height": null,
       "max_width": null,
       "min_height": null,
       "min_width": null,
       "object_fit": null,
       "object_position": null,
       "order": null,
       "overflow": null,
       "padding": null,
       "right": null,
       "top": null,
       "visibility": null,
       "width": null
      }
     },
     "4c14fcf25fc54bda890bf5fd5f563da5": {
      "model_module": "@jupyter-widgets/controls",
      "model_module_version": "2.0.0",
      "model_name": "HTMLModel",
      "state": {
       "_dom_classes": [],
       "_model_module": "@jupyter-widgets/controls",
       "_model_module_version": "2.0.0",
       "_model_name": "HTMLModel",
       "_view_count": null,
       "_view_module": "@jupyter-widgets/controls",
       "_view_module_version": "2.0.0",
       "_view_name": "HTMLView",
       "description": "",
       "description_allow_html": false,
       "layout": "IPY_MODEL_4f7bcd78ce804f959b1b4fb73f5c123e",
       "placeholder": "​",
       "style": "IPY_MODEL_08b96af246f74317a2409908aad61f47",
       "tabbable": null,
       "tooltip": null,
       "value": "Mappings: "
      }
     },
     "4f7bcd78ce804f959b1b4fb73f5c123e": {
      "model_module": "@jupyter-widgets/base",
      "model_module_version": "2.0.0",
      "model_name": "LayoutModel",
      "state": {
       "_model_module": "@jupyter-widgets/base",
       "_model_module_version": "2.0.0",
       "_model_name": "LayoutModel",
       "_view_count": null,
       "_view_module": "@jupyter-widgets/base",
       "_view_module_version": "2.0.0",
       "_view_name": "LayoutView",
       "align_content": null,
       "align_items": null,
       "align_self": null,
       "border_bottom": null,
       "border_left": null,
       "border_right": null,
       "border_top": null,
       "bottom": null,
       "display": null,
       "flex": null,
       "flex_flow": null,
       "grid_area": null,
       "grid_auto_columns": null,
       "grid_auto_flow": null,
       "grid_auto_rows": null,
       "grid_column": null,
       "grid_gap": null,
       "grid_row": null,
       "grid_template_areas": null,
       "grid_template_columns": null,
       "grid_template_rows": null,
       "height": null,
       "justify_content": null,
       "justify_items": null,
       "left": null,
       "margin": null,
       "max_height": null,
       "max_width": null,
       "min_height": null,
       "min_width": null,
       "object_fit": null,
       "object_position": null,
       "order": null,
       "overflow": null,
       "padding": null,
       "right": null,
       "top": null,
       "visibility": null,
       "width": null
      }
     },
     "52b4540dc65648d8b8651f513d88a2ef": {
      "model_module": "@jupyter-widgets/controls",
      "model_module_version": "2.0.0",
      "model_name": "HTMLModel",
      "state": {
       "_dom_classes": [],
       "_model_module": "@jupyter-widgets/controls",
       "_model_module_version": "2.0.0",
       "_model_name": "HTMLModel",
       "_view_count": null,
       "_view_module": "@jupyter-widgets/controls",
       "_view_module_version": "2.0.0",
       "_view_name": "HTMLView",
       "description": "",
       "description_allow_html": false,
       "layout": "IPY_MODEL_301f23456c254ae1a174a2d8114aa8bd",
       "placeholder": "​",
       "style": "IPY_MODEL_12be3910faf2421592a030a243818ef4",
       "tabbable": null,
       "tooltip": null,
       "value": "Mappings: "
      }
     },
     "6e3f47ee7b0141e387681f4c1a6c1c94": {
      "model_module": "@jupyter-widgets/base",
      "model_module_version": "2.0.0",
      "model_name": "LayoutModel",
      "state": {
       "_model_module": "@jupyter-widgets/base",
       "_model_module_version": "2.0.0",
       "_model_name": "LayoutModel",
       "_view_count": null,
       "_view_module": "@jupyter-widgets/base",
       "_view_module_version": "2.0.0",
       "_view_name": "LayoutView",
       "align_content": null,
       "align_items": null,
       "align_self": null,
       "border_bottom": null,
       "border_left": null,
       "border_right": null,
       "border_top": null,
       "bottom": null,
       "display": null,
       "flex": null,
       "flex_flow": null,
       "grid_area": null,
       "grid_auto_columns": null,
       "grid_auto_flow": null,
       "grid_auto_rows": null,
       "grid_column": null,
       "grid_gap": null,
       "grid_row": null,
       "grid_template_areas": null,
       "grid_template_columns": null,
       "grid_template_rows": null,
       "height": null,
       "justify_content": null,
       "justify_items": null,
       "left": null,
       "margin": null,
       "max_height": null,
       "max_width": null,
       "min_height": null,
       "min_width": null,
       "object_fit": null,
       "object_position": null,
       "order": null,
       "overflow": null,
       "padding": null,
       "right": null,
       "top": null,
       "visibility": null,
       "width": null
      }
     },
     "781946ec48a44f6795c0cdd19bc46980": {
      "model_module": "@jupyter-widgets/base",
      "model_module_version": "2.0.0",
      "model_name": "LayoutModel",
      "state": {
       "_model_module": "@jupyter-widgets/base",
       "_model_module_version": "2.0.0",
       "_model_name": "LayoutModel",
       "_view_count": null,
       "_view_module": "@jupyter-widgets/base",
       "_view_module_version": "2.0.0",
       "_view_name": "LayoutView",
       "align_content": null,
       "align_items": null,
       "align_self": null,
       "border_bottom": null,
       "border_left": null,
       "border_right": null,
       "border_top": null,
       "bottom": null,
       "display": null,
       "flex": null,
       "flex_flow": null,
       "grid_area": null,
       "grid_auto_columns": null,
       "grid_auto_flow": null,
       "grid_auto_rows": null,
       "grid_column": null,
       "grid_gap": null,
       "grid_row": null,
       "grid_template_areas": null,
       "grid_template_columns": null,
       "grid_template_rows": null,
       "height": null,
       "justify_content": null,
       "justify_items": null,
       "left": null,
       "margin": null,
       "max_height": null,
       "max_width": null,
       "min_height": null,
       "min_width": null,
       "object_fit": null,
       "object_position": null,
       "order": null,
       "overflow": null,
       "padding": null,
       "right": null,
       "top": null,
       "visibility": null,
       "width": null
      }
     },
     "86eac1800e6d48e7a5a3c256fd8d4d31": {
      "model_module": "@jupyter-widgets/base",
      "model_module_version": "2.0.0",
      "model_name": "LayoutModel",
      "state": {
       "_model_module": "@jupyter-widgets/base",
       "_model_module_version": "2.0.0",
       "_model_name": "LayoutModel",
       "_view_count": null,
       "_view_module": "@jupyter-widgets/base",
       "_view_module_version": "2.0.0",
       "_view_name": "LayoutView",
       "align_content": null,
       "align_items": null,
       "align_self": null,
       "border_bottom": null,
       "border_left": null,
       "border_right": null,
       "border_top": null,
       "bottom": null,
       "display": null,
       "flex": null,
       "flex_flow": null,
       "grid_area": null,
       "grid_auto_columns": null,
       "grid_auto_flow": null,
       "grid_auto_rows": null,
       "grid_column": null,
       "grid_gap": null,
       "grid_row": null,
       "grid_template_areas": null,
       "grid_template_columns": null,
       "grid_template_rows": null,
       "height": null,
       "justify_content": null,
       "justify_items": null,
       "left": null,
       "margin": null,
       "max_height": null,
       "max_width": null,
       "min_height": null,
       "min_width": null,
       "object_fit": null,
       "object_position": null,
       "order": null,
       "overflow": null,
       "padding": null,
       "right": null,
       "top": null,
       "visibility": null,
       "width": null
      }
     },
     "88e57c8f217349ce83323f54d63afe7b": {
      "model_module": "@jupyter-widgets/base",
      "model_module_version": "2.0.0",
      "model_name": "LayoutModel",
      "state": {
       "_model_module": "@jupyter-widgets/base",
       "_model_module_version": "2.0.0",
       "_model_name": "LayoutModel",
       "_view_count": null,
       "_view_module": "@jupyter-widgets/base",
       "_view_module_version": "2.0.0",
       "_view_name": "LayoutView",
       "align_content": null,
       "align_items": null,
       "align_self": null,
       "border_bottom": null,
       "border_left": null,
       "border_right": null,
       "border_top": null,
       "bottom": null,
       "display": null,
       "flex": null,
       "flex_flow": null,
       "grid_area": null,
       "grid_auto_columns": null,
       "grid_auto_flow": null,
       "grid_auto_rows": null,
       "grid_column": null,
       "grid_gap": null,
       "grid_row": null,
       "grid_template_areas": null,
       "grid_template_columns": null,
       "grid_template_rows": null,
       "height": null,
       "justify_content": null,
       "justify_items": null,
       "left": null,
       "margin": null,
       "max_height": null,
       "max_width": null,
       "min_height": null,
       "min_width": null,
       "object_fit": null,
       "object_position": null,
       "order": null,
       "overflow": null,
       "padding": null,
       "right": null,
       "top": null,
       "visibility": null,
       "width": "20px"
      }
     },
     "8960c114b63e44f2aa09d4b7f993f4c5": {
      "model_module": "@jupyter-widgets/controls",
      "model_module_version": "2.0.0",
      "model_name": "HTMLStyleModel",
      "state": {
       "_model_module": "@jupyter-widgets/controls",
       "_model_module_version": "2.0.0",
       "_model_name": "HTMLStyleModel",
       "_view_count": null,
       "_view_module": "@jupyter-widgets/base",
       "_view_module_version": "2.0.0",
       "_view_name": "StyleView",
       "background": null,
       "description_width": "",
       "font_size": null,
       "text_color": null
      }
     },
     "90b4ba54e6eb47938b4f44b2acbf1a43": {
      "model_module": "@jupyter-widgets/controls",
      "model_module_version": "2.0.0",
      "model_name": "HTMLStyleModel",
      "state": {
       "_model_module": "@jupyter-widgets/controls",
       "_model_module_version": "2.0.0",
       "_model_name": "HTMLStyleModel",
       "_view_count": null,
       "_view_module": "@jupyter-widgets/base",
       "_view_module_version": "2.0.0",
       "_view_name": "StyleView",
       "background": null,
       "description_width": "",
       "font_size": null,
       "text_color": null
      }
     },
     "966e80cc8b7d4517ad5048dea0174cef": {
      "model_module": "@jupyter-widgets/controls",
      "model_module_version": "2.0.0",
      "model_name": "HTMLModel",
      "state": {
       "_dom_classes": [],
       "_model_module": "@jupyter-widgets/controls",
       "_model_module_version": "2.0.0",
       "_model_name": "HTMLModel",
       "_view_count": null,
       "_view_module": "@jupyter-widgets/controls",
       "_view_module_version": "2.0.0",
       "_view_name": "HTMLView",
       "description": "",
       "description_allow_html": false,
       "layout": "IPY_MODEL_a4e875f6ae1a41dbb68a7d4cd0404254",
       "placeholder": "​",
       "style": "IPY_MODEL_90b4ba54e6eb47938b4f44b2acbf1a43",
       "tabbable": null,
       "tooltip": null,
       "value": " 1/? [00:00&lt;00:00, 131.33it/s]"
      }
     },
     "a4e875f6ae1a41dbb68a7d4cd0404254": {
      "model_module": "@jupyter-widgets/base",
      "model_module_version": "2.0.0",
      "model_name": "LayoutModel",
      "state": {
       "_model_module": "@jupyter-widgets/base",
       "_model_module_version": "2.0.0",
       "_model_name": "LayoutModel",
       "_view_count": null,
       "_view_module": "@jupyter-widgets/base",
       "_view_module_version": "2.0.0",
       "_view_name": "LayoutView",
       "align_content": null,
       "align_items": null,
       "align_self": null,
       "border_bottom": null,
       "border_left": null,
       "border_right": null,
       "border_top": null,
       "bottom": null,
       "display": null,
       "flex": null,
       "flex_flow": null,
       "grid_area": null,
       "grid_auto_columns": null,
       "grid_auto_flow": null,
       "grid_auto_rows": null,
       "grid_column": null,
       "grid_gap": null,
       "grid_row": null,
       "grid_template_areas": null,
       "grid_template_columns": null,
       "grid_template_rows": null,
       "height": null,
       "justify_content": null,
       "justify_items": null,
       "left": null,
       "margin": null,
       "max_height": null,
       "max_width": null,
       "min_height": null,
       "min_width": null,
       "object_fit": null,
       "object_position": null,
       "order": null,
       "overflow": null,
       "padding": null,
       "right": null,
       "top": null,
       "visibility": null,
       "width": null
      }
     },
     "ae1ae8f7436749a78903f6103363c367": {
      "model_module": "@jupyter-widgets/base",
      "model_module_version": "2.0.0",
      "model_name": "LayoutModel",
      "state": {
       "_model_module": "@jupyter-widgets/base",
       "_model_module_version": "2.0.0",
       "_model_name": "LayoutModel",
       "_view_count": null,
       "_view_module": "@jupyter-widgets/base",
       "_view_module_version": "2.0.0",
       "_view_name": "LayoutView",
       "align_content": null,
       "align_items": null,
       "align_self": null,
       "border_bottom": null,
       "border_left": null,
       "border_right": null,
       "border_top": null,
       "bottom": null,
       "display": null,
       "flex": null,
       "flex_flow": null,
       "grid_area": null,
       "grid_auto_columns": null,
       "grid_auto_flow": null,
       "grid_auto_rows": null,
       "grid_column": null,
       "grid_gap": null,
       "grid_row": null,
       "grid_template_areas": null,
       "grid_template_columns": null,
       "grid_template_rows": null,
       "height": null,
       "justify_content": null,
       "justify_items": null,
       "left": null,
       "margin": null,
       "max_height": null,
       "max_width": null,
       "min_height": null,
       "min_width": null,
       "object_fit": null,
       "object_position": null,
       "order": null,
       "overflow": null,
       "padding": null,
       "right": null,
       "top": null,
       "visibility": null,
       "width": "20px"
      }
     },
     "af89daaeaf9f482ea7da823f9cfbcbf9": {
      "model_module": "@jupyter-widgets/controls",
      "model_module_version": "2.0.0",
      "model_name": "FloatProgressModel",
      "state": {
       "_dom_classes": [],
       "_model_module": "@jupyter-widgets/controls",
       "_model_module_version": "2.0.0",
       "_model_name": "FloatProgressModel",
       "_view_count": null,
       "_view_module": "@jupyter-widgets/controls",
       "_view_module_version": "2.0.0",
       "_view_name": "ProgressView",
       "bar_style": "success",
       "description": "",
       "description_allow_html": false,
       "layout": "IPY_MODEL_88e57c8f217349ce83323f54d63afe7b",
       "max": 1.0,
       "min": 0.0,
       "orientation": "horizontal",
       "style": "IPY_MODEL_f1be945e8b684901b50931d525054035",
       "tabbable": null,
       "tooltip": null,
       "value": 1.0
      }
     },
     "b976b10d3438478a908d58ce5853c9dc": {
      "model_module": "@jupyter-widgets/controls",
      "model_module_version": "2.0.0",
      "model_name": "ProgressStyleModel",
      "state": {
       "_model_module": "@jupyter-widgets/controls",
       "_model_module_version": "2.0.0",
       "_model_name": "ProgressStyleModel",
       "_view_count": null,
       "_view_module": "@jupyter-widgets/base",
       "_view_module_version": "2.0.0",
       "_view_name": "StyleView",
       "bar_color": null,
       "description_width": ""
      }
     },
     "c25358455e944f31aea9f9e15bc32187": {
      "model_module": "@jupyter-widgets/controls",
      "model_module_version": "2.0.0",
      "model_name": "HBoxModel",
      "state": {
       "_dom_classes": [],
       "_model_module": "@jupyter-widgets/controls",
       "_model_module_version": "2.0.0",
       "_model_name": "HBoxModel",
       "_view_count": null,
       "_view_module": "@jupyter-widgets/controls",
       "_view_module_version": "2.0.0",
       "_view_name": "HBoxView",
       "box_style": "",
       "children": [
        "IPY_MODEL_52b4540dc65648d8b8651f513d88a2ef",
        "IPY_MODEL_0b1ef1114d114bb987e899b77d9d3be1",
        "IPY_MODEL_3b5bb076182542beb11e6d4937eb03ae"
       ],
       "layout": "IPY_MODEL_2a629dfd704246c0a597e09fb7f019bd",
       "tabbable": null,
       "tooltip": null
      }
     },
     "d06f91ccac9c4f5b94f073eeb9af9b55": {
      "model_module": "@jupyter-widgets/controls",
      "model_module_version": "2.0.0",
      "model_name": "HTMLStyleModel",
      "state": {
       "_model_module": "@jupyter-widgets/controls",
       "_model_module_version": "2.0.0",
       "_model_name": "HTMLStyleModel",
       "_view_count": null,
       "_view_module": "@jupyter-widgets/base",
       "_view_module_version": "2.0.0",
       "_view_name": "StyleView",
       "background": null,
       "description_width": "",
       "font_size": null,
       "text_color": null
      }
     },
     "d7d04bad06f24bf29a09cfcfa4968ac2": {
      "model_module": "@jupyter-widgets/controls",
      "model_module_version": "2.0.0",
      "model_name": "HTMLModel",
      "state": {
       "_dom_classes": [],
       "_model_module": "@jupyter-widgets/controls",
       "_model_module_version": "2.0.0",
       "_model_name": "HTMLModel",
       "_view_count": null,
       "_view_module": "@jupyter-widgets/controls",
       "_view_module_version": "2.0.0",
       "_view_name": "HTMLView",
       "description": "",
       "description_allow_html": false,
       "layout": "IPY_MODEL_781946ec48a44f6795c0cdd19bc46980",
       "placeholder": "​",
       "style": "IPY_MODEL_d06f91ccac9c4f5b94f073eeb9af9b55",
       "tabbable": null,
       "tooltip": null,
       "value": " 1/? [00:00&lt;00:00, 138.64it/s]"
      }
     },
     "ecaf137ead8348438238c380e9969062": {
      "model_module": "@jupyter-widgets/base",
      "model_module_version": "2.0.0",
      "model_name": "LayoutModel",
      "state": {
       "_model_module": "@jupyter-widgets/base",
       "_model_module_version": "2.0.0",
       "_model_name": "LayoutModel",
       "_view_count": null,
       "_view_module": "@jupyter-widgets/base",
       "_view_module_version": "2.0.0",
       "_view_name": "LayoutView",
       "align_content": null,
       "align_items": null,
       "align_self": null,
       "border_bottom": null,
       "border_left": null,
       "border_right": null,
       "border_top": null,
       "bottom": null,
       "display": null,
       "flex": null,
       "flex_flow": null,
       "grid_area": null,
       "grid_auto_columns": null,
       "grid_auto_flow": null,
       "grid_auto_rows": null,
       "grid_column": null,
       "grid_gap": null,
       "grid_row": null,
       "grid_template_areas": null,
       "grid_template_columns": null,
       "grid_template_rows": null,
       "height": null,
       "justify_content": null,
       "justify_items": null,
       "left": null,
       "margin": null,
       "max_height": null,
       "max_width": null,
       "min_height": null,
       "min_width": null,
       "object_fit": null,
       "object_position": null,
       "order": null,
       "overflow": null,
       "padding": null,
       "right": null,
       "top": null,
       "visibility": null,
       "width": "20px"
      }
     },
     "f1be945e8b684901b50931d525054035": {
      "model_module": "@jupyter-widgets/controls",
      "model_module_version": "2.0.0",
      "model_name": "ProgressStyleModel",
      "state": {
       "_model_module": "@jupyter-widgets/controls",
       "_model_module_version": "2.0.0",
       "_model_name": "ProgressStyleModel",
       "_view_count": null,
       "_view_module": "@jupyter-widgets/base",
       "_view_module_version": "2.0.0",
       "_view_name": "StyleView",
       "bar_color": null,
       "description_width": ""
      }
     }
    },
    "version_major": 2,
    "version_minor": 0
   }
  }
 },
 "nbformat": 4,
 "nbformat_minor": 5
}