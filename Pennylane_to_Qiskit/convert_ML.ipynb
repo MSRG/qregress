{
 "cells": [
  {
   "cell_type": "code",
   "execution_count": 1,
   "id": "dc8f5c2c-b710-429b-9f46-14c842ed6478",
   "metadata": {},
   "outputs": [],
   "source": [
    "import os\n",
    "n_jobs = 12\n",
    "os.environ[\"OMP_NUM_THREADS\"] = str(n_jobs)\n",
    "import joblib\n",
    "import click\n",
    "import json\n",
    "import time\n",
    "\n",
    "import itertools\n",
    "import collections.abc\n",
    "import sys\n",
    "from tqdm import tqdm\n",
    "# !{sys.executable} -m pip install pylatexenc\n",
    "import matplotlib.pyplot as plt\n",
    "import numpy as np\n",
    "import pandas as pd\n",
    "import pennylane as qml\n",
    "from sklearn.metrics import mean_squared_error, r2_score, mean_absolute_error\n",
    "from scipy.optimize import minimize\n",
    "# Qiskit\n",
    "from qiskit import QuantumCircuit\n",
    "from qiskit.quantum_info import Pauli, SparsePauliOp, Operator\n",
    "from qiskit.primitives import StatevectorEstimator\n",
    "from qiskit.circuit import Parameter, ParameterVector\n",
    "from qiskit.transpiler.preset_passmanagers import generate_preset_pass_manager\n",
    "from qiskit.quantum_info import SparsePauliOp\n",
    "from qiskit_ibm_runtime import EstimatorV2 as Estimator\n",
    "from qiskit_ibm_runtime import QiskitRuntimeService\n",
    "from qiskit_aer.noise import NoiseModel\n",
    "from qiskit_ibm_runtime.fake_provider import FakeQuebec\n",
    "from qiskit_ibm_runtime import Session\n",
    "\n",
    "\n",
    "from joblib import dump, load\n"
   ]
  },
  {
   "cell_type": "code",
   "execution_count": 2,
   "id": "9e8cd7b1-46c5-4d8e-966b-87a99489ddac",
   "metadata": {},
   "outputs": [],
   "source": [
    "def mitarai(quantumcircuit,num_wires,paramname='x'):\n",
    "    # encoding as proposed by Mitarai et al.\n",
    "    num_features = num_wires\n",
    "    features = ParameterVector(paramname,num_features*2)\n",
    "    for i in range(num_wires):\n",
    "        feature_idx = i % num_features  # Calculate the feature index using modulo\n",
    "        quantumcircuit.ry(np.arcsin(features[feature_idx * 2]), i)\n",
    "        quantumcircuit.rz(np.arccos(features[feature_idx * 2 + 1] ** 2), i)\n",
    "\n",
    "\n",
    "def double_angle(quantumcircuit, num_wires,paramname='x'):\n",
    "    #  creates a circuit that encodes features into wires via angle encoding with an RY then RZ gate\n",
    "    #  the features are encoded 1-1 onto the qubits\n",
    "    #  if more wires are passed then features the remaining wires will be filled from the beginning of the feature list\n",
    "    num_features = num_wires\n",
    "    features = ParameterVector(paramname,num_features*2)\n",
    "    for i in range(num_wires):\n",
    "        feature_index = i % num_features\n",
    "        quantumcircuit.ry(features[feature_index], i)\n",
    "        quantumcircuit.rz(features[feature_index], i)\n",
    "\n",
    "def entangle_cnot(quantumcircuit,num_wires):\n",
    "    #  entangles all of the wires in a circular fashion using cnot gates\n",
    "    for i in range(num_wires):\n",
    "        \n",
    "        if i == num_wires - 1:\n",
    "            quantumcircuit.cx(i, 0)\n",
    "        else:\n",
    "            quantumcircuit.cx(i, i+1)\n",
    "\n",
    "\n",
    "def entangle_cz(quantumcircuit,num_wires):\n",
    "    #  entangles all of the wires in a circular fashion using cz gates\n",
    "    for i in range(num_wires):\n",
    "        \n",
    "        if i == num_wires - 1:\n",
    "            quantumcircuit.cz(i, 0)\n",
    "        else:\n",
    "            quantumcircuit.cz(i, i+1)\n",
    "\n",
    "\n",
    "def HardwareEfficient(quantumcircuit,num_wires,paramname='theta'):\n",
    "    parameters = ParameterVector(paramname,num_wires*3)\n",
    "    for qubit in range(num_wires):\n",
    "        quantumcircuit.rx(parameters[qubit * 3], qubit)  \n",
    "        quantumcircuit.rz(parameters[qubit * 3 + 1], qubit)  \n",
    "        quantumcircuit.rx(parameters[qubit * 3 + 2], qubit)  \n",
    "    entangle_cnot(quantumcircuit,num_wires)\n",
    "\n"
   ]
  },
  {
   "cell_type": "code",
   "execution_count": 3,
   "id": "98051576-89f8-4a1d-980e-3708e2089ad6",
   "metadata": {},
   "outputs": [],
   "source": [
    "# def circuit(nqubits):\n",
    "#     qc = QuantumCircuit(nqubits)\n",
    "#     mitarai(qc,nqubits)\n",
    "#     entangle_cz(qc,nqubits)\n",
    "#     qc.barrier()\n",
    "#     mitarai(qc,nqubits,paramname='x1')\n",
    "#     entangle_cz(qc,nqubits)\n",
    "#     qc.barrier()\n",
    "#     HardwareEfficient(qc,nqubits)\n",
    "#     qc.barrier()\n",
    "#     return qc\n",
    "\n",
    "\n",
    "def circuit(nqubits,RUD=1):\n",
    "    qc = QuantumCircuit(nqubits)\n",
    "    for i in range(RUD):\n",
    "        double_angle(qc,nqubits,paramname=f'x{i}')\n",
    "        qc.barrier()\n",
    "        HardwareEfficient(qc,nqubits,paramname=f'theta{i}')\n",
    "        qc.barrier()\n",
    "    return qc"
   ]
  },
  {
   "cell_type": "code",
   "execution_count": 4,
   "id": "11cb5805-20c7-493a-b96c-8eac41dcc1d7",
   "metadata": {},
   "outputs": [
    {
     "name": "stderr",
     "output_type": "stream",
     "text": [
      "/Users/grierjones/miniconda3/envs/simple_qml/lib/python3.12/site-packages/sklearn/base.py:376: InconsistentVersionWarning: Trying to unpickle estimator MinMaxScaler from version 1.3.0 when using version 1.5.1. This might lead to breaking code or invalid results. Use at your own risk. For more info please refer to:\n",
      "https://scikit-learn.org/stable/model_persistence.html#security-maintainability-limitations\n",
      "  warnings.warn(\n"
     ]
    }
   ],
   "source": [
    "with open('linear_train.bin','rb') as f:\n",
    "    train = joblib.load(f)\n",
    "\n",
    "with open('linear_test.bin','rb') as f:\n",
    "    test = joblib.load(f)\n",
    "\n",
    "with open('linear_scaler.bin','rb') as f:\n",
    "    scaler = joblib.load(f)\n",
    "X_train, y_train = train['X'],train['y']\n",
    "X_test, y_test = test['X'],test['y']\n",
    "\n",
    "\n",
    "# with open('PCA5_0.8_Morgan_train.bin','rb') as f:\n",
    "#     bse_train = joblib.load(f)\n",
    "\n",
    "# with open('PCA5_0.8_Morgan_test.bin','rb') as f:\n",
    "#     bse_test = joblib.load(f)\n",
    "\n",
    "# with open('PCA5_0.8_Morgan_scaler.bin','rb') as f:\n",
    "#     bse_scaler = joblib.load(f)\n",
    "\n",
    "# X_bse_train, y_bse_train = bse_train['X'],bse_train['y']\n",
    "# X_bse_test, y_bse_test = bse_test['X'],bse_test['y']\n",
    "\n",
    "\n",
    "# X_bse_train[np.isclose(X_bse_train,1)]=1\n",
    "# X_bse_train[np.isclose(X_bse_train,-1)]=-1\n",
    "\n",
    "\n",
    "\n",
    "# X_train, y_train = X_bse_train, y_bse_train\n",
    "# X_test, y_test = X_bse_test, y_bse_test\n",
    "# scaler = bse_scaler\n",
    "\n",
    "\n",
    "\n",
    "# with open('5_DDCC_train.bin','rb') as f:\n",
    "#     ddcc_train = joblib.load(f)\n",
    "\n",
    "# with open('5_DDCC_test.bin','rb') as f:\n",
    "#     ddcc_test = joblib.load(f)\n",
    "\n",
    "# with open('5_DDCC_scaler.bin','rb') as f:\n",
    "#     ddcc_scaler = joblib.load(f)\n",
    "\n",
    "# X_ddcc_train, y_ddcc_train = ddcc_train['X'],ddcc_train['y']\n",
    "# X_ddcc_test, y_ddcc_test = ddcc_test['X'],ddcc_test['y']\n",
    "\n",
    "\n",
    "\n",
    "# X_train, y_train = X_ddcc_train, y_ddcc_train\n",
    "# X_test, y_test = X_ddcc_test, y_ddcc_test\n",
    "# scaler = ddcc_scaler\n"
   ]
  },
  {
   "cell_type": "code",
   "execution_count": 5,
   "id": "f9143986-cc85-4fbf-9f29-88ff86fab634",
   "metadata": {},
   "outputs": [],
   "source": [
    "def predict(params, ansatz, hamiltonian, estimator, num_qubits, X):\n",
    "    if len(X)==1:\n",
    "        featparams = dict([(i,X.item()) for idx,i in enumerate(ansatz.parameters) if 'x' in i.name])\n",
    "    else:\n",
    "        featparams = dict([(i,X[idx % num_qubits]) for idx,i in enumerate(ansatz.parameters) if 'x' in i.name])\n",
    "    \n",
    "    ansatz = ansatz.assign_parameters(featparams)    \n",
    "    pub = (ansatz, [hamiltonian], [params])\n",
    "    result = estimator.run(pubs=[pub]).result()\n",
    "    energy = result[0].data.evs[0]\n",
    "    return energy"
   ]
  },
  {
   "cell_type": "code",
   "execution_count": 6,
   "id": "0e40b07b-691c-45d5-9aff-9321457044eb",
   "metadata": {},
   "outputs": [],
   "source": [
    "def parallel_predict(params, ansatz, hamiltonian, estimator, num_qubits, X, y,n_jobs):\n",
    "    y_pred = np.array(joblib.Parallel(n_jobs=n_jobs,verbose=0)(joblib.delayed(predict)(params, ansatz, hamiltonian, estimator, num_qubits, x) for x in tqdm(X))).reshape(*y.shape)\n",
    "    return y_pred"
   ]
  },
  {
   "cell_type": "code",
   "execution_count": 7,
   "id": "0f7b7a7c-4d12-48be-b87b-b7ced65de3b2",
   "metadata": {},
   "outputs": [],
   "source": [
    "def cost_func(params, ansatz, hamiltonian, estimator, num_qubits, X, y,n_jobs,cost_history_dict):\n",
    "    \"\"\"Return estimate of energy from estimator\n",
    "\n",
    "    Parameters:\n",
    "\n",
    "        params (ndarray): Array of ansatz parameters\n",
    "        ansatz (QuantumCircuit): Parameterized ansatz circuit\n",
    "        hamiltonian (SparsePauliOp): Operator representation of Hamiltonian\n",
    "        estimator (EstimatorV2): Estimator primitive instance\n",
    "        cost_history_dict: Dictionary for storing intermediate results\n",
    "\n",
    "    Returns:\n",
    "        float: Energy estimate\n",
    "    \"\"\"\n",
    "    t0=time.perf_counter()\n",
    "    y_pred = parallel_predict(params, ansatz, hamiltonian, estimator, num_qubits, X, y,n_jobs)\n",
    "    loss = mean_squared_error(y,y_pred)\n",
    "    r2 = r2_score(y,y_pred)\n",
    "    cost_history_dict[\"iters\"] += 1\n",
    "    cost_history_dict[\"prev_vector\"] = params\n",
    "    cost_history_dict[\"cost_history\"].append(loss)\n",
    "    print(f\"Iters. done: {cost_history_dict['iters']} Current cost: {loss} Accuracy: {r2} Time: {time.perf_counter()-t0}\")\n",
    "    with open('model_log.csv', 'a') as outfile:\n",
    "        log = f\"{time.asctime()},{cost_history_dict['iters']},{loss},{params}\\n\"\n",
    "        outfile.write(log)\n",
    "    return loss"
   ]
  },
  {
   "cell_type": "code",
   "execution_count": 8,
   "id": "055a792a-b7a8-4f64-970f-2dd412109d5c",
   "metadata": {},
   "outputs": [],
   "source": [
    "def evaluate(params, ansatz, hamiltonian, estimator, num_qubits, n_jobs, X_train, y_train, X_test=None, y_test=None, plot: bool = False, title: str = 'defult',y_scaler=None):\n",
    "    scores = {}\n",
    "    st = time.time()\n",
    "    print('Now scoring model... ')\n",
    "    \n",
    "    y_train_pred = parallel_predict(params, ansatz, hamiltonian, estimator, num_qubits, X_train, y_train,n_jobs)\n",
    "    y_train_pred = y_scaler.inverse_transform(y_train_pred.reshape(-1, 1))\n",
    "    y_train = y_scaler.inverse_transform(y_train.reshape(-1, 1))\n",
    "\n",
    "    scores['MSE_train'] = mean_squared_error(y_train, y_train_pred)\n",
    "    scores['R2_train'] = r2_score(y_train, y_train_pred)\n",
    "    scores['MAE_train'] = mean_absolute_error(y_train, y_train_pred)\n",
    "\n",
    "    y_test_pred = None\n",
    "    y_test = y_scaler.inverse_transform(y_test.reshape(-1, 1))\n",
    "    if y_test is not None:\n",
    "        y_test_pred = parallel_predict(params, ansatz, hamiltonian, estimator, num_qubits, X_test, y_test,n_jobs)\n",
    "        y_test_pred = y_scaler.inverse_transform(y_test_pred.reshape(-1, 1))\n",
    "        scores['MSE_test'] = mean_squared_error(y_test, y_test_pred)\n",
    "        scores['R2_test'] = r2_score(y_test, y_test_pred)\n",
    "        scores['MAE_test'] = mean_absolute_error(y_test, y_test_pred)\n",
    "\n",
    "    if plot:\n",
    "        plt.figure()\n",
    "        if y_test_pred is not None:\n",
    "            plt.scatter(y_test, y_test_pred, color='b', s=10, label=f'Test, MAE = {scores[\"MAE_test\"]:.2f}')\n",
    "        plt.scatter(y_train, y_train_pred, color='r', s=10, label=f'Train, MAE = {scores[\"MAE_train\"]:.2f}')\n",
    "        plt.ylabel('Predicted')\n",
    "        plt.xlabel('Actual')\n",
    "        plt.axis('scaled')\n",
    "\n",
    "        max_val = max(max(plt.xlim()), max(plt.ylim()))\n",
    "        plt.xlim((0, max_val))\n",
    "        plt.ylim((0, max_val))\n",
    "\n",
    "        x_min, x_max = plt.xlim()\n",
    "        y_min, y_max = plt.ylim()\n",
    "        plt.plot([x_min, x_max], [y_min, y_max], 'k--', alpha=0.2, label='y=x')\n",
    "        plt.legend()\n",
    "        plt.savefig(title+'_plot.svg')\n",
    "\n",
    "        if X_test.shape[1] == 1:\n",
    "            plt.figure()\n",
    "            plt.title(title)\n",
    "            plt.scatter(X_train, y_train_pred, color='b', label='Train', s=10)\n",
    "            plt.scatter(X_test, y_test_pred, color='orange', label='Test', s=10)\n",
    "            plt.scatter(X_train, y_train, color='green', label='Data', s=10)\n",
    "            plt.scatter(X_test, y_test, color='green', s=10)\n",
    "            plt.legend()\n",
    "            plt.savefig(title+'_1D_plot.svg')\n",
    "\n",
    "    print(f'Scoring complete taking {time.time() - st} seconds. ')\n",
    "\n",
    "    return scores, y_test_pred, y_train_pred"
   ]
  },
  {
   "cell_type": "code",
   "execution_count": 9,
   "id": "ebde25a3-9ba8-47a9-9176-6bf075266ff9",
   "metadata": {},
   "outputs": [],
   "source": [
    "\n",
    "\n",
    "def incremental_save_minimize(fun, x0, save_path, args=(), method='cobyla', options=None):\n",
    "    \"\"\"\n",
    "    Minimize a function using scipy.optimize.minimize with incremental saving of parameters and loss.\n",
    "\n",
    "    Parameters:\n",
    "        fun (callable): The objective function to be minimized.\n",
    "        x0 (ndarray): Initial guess.\n",
    "        save_path (str): Path to save progress with joblib.\n",
    "        args (tuple, optional): Extra arguments passed to the objective function.\n",
    "        method (str, optional): Optimization method (default is 'BFGS').\n",
    "        options (dict, optional): Options passed to scipy.optimize.minimize.\n",
    "\n",
    "    Returns:\n",
    "        result (OptimizeResult): The optimization result represented as a `OptimizeResult` object.\n",
    "    \"\"\"\n",
    "    if os.path.exists(save_path):\n",
    "        progress = load(save_path)\n",
    "        x0 = progress['x']\n",
    "        print(\"Resuming optimization from saved state.\")        \n",
    "    else:\n",
    "        progress = {'x': x0, 'loss': None}\n",
    "\n",
    "    def callback(x):\n",
    "        # Save current parameters and function value\n",
    "        progress['x'] = x\n",
    "        progress['loss'] = fun(x, *args)\n",
    "        dump(progress, save_path)\n",
    "        print(f\"Saved state: x={x}, loss={progress['loss']}\")\n",
    "\n",
    "    result = minimize(fun, x0, args=args, method=method, callback=callback, options=options)\n",
    "\n",
    "    # Save the final result\n",
    "    progress['x'] = result.x\n",
    "    progress['loss'] = result.fun\n",
    "    dump(progress, save_path)\n",
    "    print(\"Optimization complete. Final state saved.\")\n",
    "    return result\n",
    "\n",
    "# save_file = 'optimization_progress.pkl'\n",
    "# result = incremental_save_minimize(quadratic_function, initial_guess, save_file, options={'disp': True})\n",
    "\n",
    "# print(\"Optimization result:\", result)\n"
   ]
  },
  {
   "cell_type": "code",
   "execution_count": 10,
   "id": "0172f0c5-8225-47b8-91e3-8e113113d13e",
   "metadata": {},
   "outputs": [],
   "source": [
    "num_qubits = 5\n",
    "RUD = 3"
   ]
  },
  {
   "cell_type": "code",
   "execution_count": 11,
   "id": "9f37a160-f338-4f3d-9b17-c1c695681785",
   "metadata": {},
   "outputs": [
    {
     "name": "stdout",
     "output_type": "stream",
     "text": [
      "Parameters from scratch\n"
     ]
    }
   ],
   "source": [
    "# \n",
    "qc = circuit(num_qubits,RUD)\n",
    "\n",
    "num_params = len([i for i in list(qc.parameters) if 'theta' in i.name]) // RUD\n",
    "# x0 = 2 * np.pi * np.random.random(num_params)\n",
    "generator = np.random.default_rng(12958234)\n",
    "# load_params = 'partial_state_model.bin.npz'\n",
    "load_params = None\n",
    "if load_params!=None:\n",
    "    print('Parameters loaded')\n",
    "    x0 = np.load(load_params)['x0']\n",
    "else:\n",
    "    print('Parameters from scratch')\n",
    "    x0 = np.tile(generator.uniform(-np.pi, np.pi, num_params),RUD)\n",
    "\n",
    "\n",
    "# service = QiskitRuntimeService(channel=\"ibm_quantum\", instance='pinq-quebec-hub/univ-toronto/default')\n",
    "# _backend = service.least_busy(operational=True, simulator=False, min_num_qubits=127)\n",
    "_backend = FakeQuebec()\n",
    "target = _backend.target\n",
    "pm = generate_preset_pass_manager(target=target, optimization_level=0)\n",
    "\n",
    "qc = pm.run(qc)\n",
    "\n",
    "\n",
    "observables_labels = ''.join(['I']*(num_qubits-1))+\"Z\"\n",
    "observables = [SparsePauliOp(observables_labels)]\n",
    "\n",
    "mapped_observables = [observable.apply_layout(qc.layout) for observable in observables]\n"
   ]
  },
  {
   "cell_type": "code",
   "execution_count": 12,
   "id": "6e760023-67cd-4a5f-bf0b-53d1cfa25510",
   "metadata": {},
   "outputs": [
    {
     "name": "stdout",
     "output_type": "stream",
     "text": [
      "None\n"
     ]
    },
    {
     "name": "stderr",
     "output_type": "stream",
     "text": [
      "100%|█████████████████████████████████████████████████████████████████████████████████████████████████████████████████████████████████████████████████████████████████████████████████| 80/80 [00:14<00:00,  5.64it/s]\n"
     ]
    },
    {
     "name": "stdout",
     "output_type": "stream",
     "text": [
      "Iters. done: 1 Current cost: 0.32216530449990016 Accuracy: 0.02290492387354781 Time: 19.795758832999127\n"
     ]
    },
    {
     "name": "stderr",
     "output_type": "stream",
     "text": [
      "100%|█████████████████████████████████████████████████████████████████████████████████████████████████████████████████████████████████████████████████████████████████████████████████| 80/80 [00:13<00:00,  5.74it/s]\n"
     ]
    },
    {
     "name": "stdout",
     "output_type": "stream",
     "text": [
      "Iters. done: 2 Current cost: 0.26662468754600216 Accuracy: 0.19135404794952648 Time: 19.494681000000128\n",
      "Saved state: x=[-1.90318345  2.23743464 -2.12427964 -0.11653103  0.55388708 -2.77010897\n",
      "  3.06858498  2.18960145  1.18551998 -1.06648308  0.6027151   1.14432445\n",
      "  1.31029899 -1.8735468   0.7296508  -2.90318345  2.23743464 -2.12427964\n",
      " -0.11653103  0.55388708 -2.77010897  3.06858498  2.18960145  1.18551998\n",
      " -1.06648308  0.6027151   1.14432445  1.31029899 -1.8735468   0.7296508\n",
      " -2.90318345  2.23743464 -2.12427964 -0.11653103  0.55388708 -2.77010897\n",
      "  3.06858498  2.18960145  1.18551998 -1.06648308  0.6027151   1.14432445\n",
      "  1.31029899 -1.8735468   0.7296508 ], loss=0.26662468754600216\n"
     ]
    },
    {
     "name": "stderr",
     "output_type": "stream",
     "text": [
      "100%|█████████████████████████████████████████████████████████████████████████████████████████████████████████████████████████████████████████████████████████████████████████████████| 80/80 [00:14<00:00,  5.70it/s]\n"
     ]
    },
    {
     "name": "stdout",
     "output_type": "stream",
     "text": [
      "Iters. done: 3 Current cost: 0.26820024738461373 Accuracy: 0.18657553288615025 Time: 19.656903708000755\n"
     ]
    },
    {
     "name": "stderr",
     "output_type": "stream",
     "text": [
      "100%|█████████████████████████████████████████████████████████████████████████████████████████████████████████████████████████████████████████████████████████████████████████████████| 80/80 [00:13<00:00,  5.80it/s]\n"
     ]
    },
    {
     "name": "stdout",
     "output_type": "stream",
     "text": [
      "Iters. done: 4 Current cost: 0.31484758192432283 Accuracy: 0.04509884294920741 Time: 19.518143040999348\n",
      "Saved state: x=[-1.90318345  3.23743464 -2.12427964 -0.11653103  0.55388708 -2.77010897\n",
      "  3.06858498  2.18960145  1.18551998 -1.06648308  0.6027151   1.14432445\n",
      "  1.31029899 -1.8735468   0.7296508  -2.90318345  2.23743464 -2.12427964\n",
      " -0.11653103  0.55388708 -2.77010897  3.06858498  2.18960145  1.18551998\n",
      " -1.06648308  0.6027151   1.14432445  1.31029899 -1.8735468   0.7296508\n",
      " -2.90318345  2.23743464 -2.12427964 -0.11653103  0.55388708 -2.77010897\n",
      "  3.06858498  2.18960145  1.18551998 -1.06648308  0.6027151   1.14432445\n",
      "  1.31029899 -1.8735468   0.7296508 ], loss=0.31484758192432283\n"
     ]
    },
    {
     "name": "stderr",
     "output_type": "stream",
     "text": [
      "100%|█████████████████████████████████████████████████████████████████████████████████████████████████████████████████████████████████████████████████████████████████████████████████| 80/80 [00:13<00:00,  5.79it/s]\n"
     ]
    },
    {
     "name": "stdout",
     "output_type": "stream",
     "text": [
      "Iters. done: 5 Current cost: 0.27828051482364546 Accuracy: 0.15600309214488228 Time: 19.624136917000214\n",
      "Saved state: x=[-1.90318345  2.23743464 -2.12427964 -0.11653103  0.55388708 -2.77010897\n",
      "  3.06858498  2.18960145  1.18551998 -1.06648308  0.6027151   1.14432445\n",
      "  1.31029899 -1.8735468   0.7296508  -2.90318345  2.23743464 -2.12427964\n",
      " -0.11653103  0.55388708 -2.77010897  3.06858498  2.18960145  1.18551998\n",
      " -1.06648308  0.6027151   1.14432445  1.31029899 -1.8735468   0.7296508\n",
      " -2.90318345  2.23743464 -2.12427964 -0.11653103  0.55388708 -2.77010897\n",
      "  3.06858498  2.18960145  1.18551998 -1.06648308  0.6027151   1.14432445\n",
      "  1.31029899 -1.8735468   0.7296508 ], loss=0.27828051482364546\n",
      "Optimization complete. Final state saved.\n",
      "Resuming optimization from saved state.\n"
     ]
    },
    {
     "name": "stderr",
     "output_type": "stream",
     "text": [
      "100%|█████████████████████████████████████████████████████████████████████████████████████████████████████████████████████████████████████████████████████████████████████████████████| 80/80 [00:13<00:00,  5.77it/s]\n"
     ]
    },
    {
     "name": "stdout",
     "output_type": "stream",
     "text": [
      "Iters. done: 6 Current cost: 0.2675986172653249 Accuracy: 0.1884002167332175 Time: 19.491111457999068\n"
     ]
    },
    {
     "name": "stderr",
     "output_type": "stream",
     "text": [
      "100%|█████████████████████████████████████████████████████████████████████████████████████████████████████████████████████████████████████████████████████████████████████████████████| 80/80 [00:13<00:00,  5.76it/s]\n"
     ]
    },
    {
     "name": "stdout",
     "output_type": "stream",
     "text": [
      "Iters. done: 7 Current cost: 0.28781323944397375 Accuracy: 0.12709129388947749 Time: 19.599454916999093\n",
      "Saved state: x=[-0.90318345  2.23743464 -2.12427964 -0.11653103  0.55388708 -2.77010897\n",
      "  3.06858498  2.18960145  1.18551998 -1.06648308  0.6027151   1.14432445\n",
      "  1.31029899 -1.8735468   0.7296508  -2.90318345  2.23743464 -2.12427964\n",
      " -0.11653103  0.55388708 -2.77010897  3.06858498  2.18960145  1.18551998\n",
      " -1.06648308  0.6027151   1.14432445  1.31029899 -1.8735468   0.7296508\n",
      " -2.90318345  2.23743464 -2.12427964 -0.11653103  0.55388708 -2.77010897\n",
      "  3.06858498  2.18960145  1.18551998 -1.06648308  0.6027151   1.14432445\n",
      "  1.31029899 -1.8735468   0.7296508 ], loss=0.28781323944397375\n"
     ]
    },
    {
     "name": "stderr",
     "output_type": "stream",
     "text": [
      "100%|█████████████████████████████████████████████████████████████████████████████████████████████████████████████████████████████████████████████████████████████████████████████████| 80/80 [00:13<00:00,  5.78it/s]\n"
     ]
    },
    {
     "name": "stdout",
     "output_type": "stream",
     "text": [
      "Iters. done: 8 Current cost: 0.29080189831411035 Accuracy: 0.11802699110626769 Time: 19.608917125000517\n"
     ]
    },
    {
     "name": "stderr",
     "output_type": "stream",
     "text": [
      "100%|█████████████████████████████████████████████████████████████████████████████████████████████████████████████████████████████████████████████████████████████████████████████████| 80/80 [00:13<00:00,  5.81it/s]\n"
     ]
    },
    {
     "name": "stdout",
     "output_type": "stream",
     "text": [
      "Iters. done: 9 Current cost: 0.3154265977123564 Accuracy: 0.04334274610207689 Time: 19.44253395799933\n",
      "Saved state: x=[-1.90318345  3.23743464 -2.12427964 -0.11653103  0.55388708 -2.77010897\n",
      "  3.06858498  2.18960145  1.18551998 -1.06648308  0.6027151   1.14432445\n",
      "  1.31029899 -1.8735468   0.7296508  -2.90318345  2.23743464 -2.12427964\n",
      " -0.11653103  0.55388708 -2.77010897  3.06858498  2.18960145  1.18551998\n",
      " -1.06648308  0.6027151   1.14432445  1.31029899 -1.8735468   0.7296508\n",
      " -2.90318345  2.23743464 -2.12427964 -0.11653103  0.55388708 -2.77010897\n",
      "  3.06858498  2.18960145  1.18551998 -1.06648308  0.6027151   1.14432445\n",
      "  1.31029899 -1.8735468   0.7296508 ], loss=0.3154265977123564\n"
     ]
    },
    {
     "name": "stderr",
     "output_type": "stream",
     "text": [
      "100%|█████████████████████████████████████████████████████████████████████████████████████████████████████████████████████████████████████████████████████████████████████████████████| 80/80 [00:13<00:00,  5.80it/s]\n"
     ]
    },
    {
     "name": "stdout",
     "output_type": "stream",
     "text": [
      "Iters. done: 10 Current cost: 0.27262687519196616 Accuracy: 0.1731500144519954 Time: 19.415187917000367\n",
      "Saved state: x=[-1.90318345  2.23743464 -2.12427964 -0.11653103  0.55388708 -2.77010897\n",
      "  3.06858498  2.18960145  1.18551998 -1.06648308  0.6027151   1.14432445\n",
      "  1.31029899 -1.8735468   0.7296508  -2.90318345  2.23743464 -2.12427964\n",
      " -0.11653103  0.55388708 -2.77010897  3.06858498  2.18960145  1.18551998\n",
      " -1.06648308  0.6027151   1.14432445  1.31029899 -1.8735468   0.7296508\n",
      " -2.90318345  2.23743464 -2.12427964 -0.11653103  0.55388708 -2.77010897\n",
      "  3.06858498  2.18960145  1.18551998 -1.06648308  0.6027151   1.14432445\n",
      "  1.31029899 -1.8735468   0.7296508 ], loss=0.27262687519196616\n",
      "Optimization complete. Final state saved.\n",
      "Now scoring model... \n"
     ]
    },
    {
     "name": "stderr",
     "output_type": "stream",
     "text": [
      "100%|█████████████████████████████████████████████████████████████████████████████████████████████████████████████████████████████████████████████████████████████████████████████████| 80/80 [00:13<00:00,  5.83it/s]\n",
      "100%|██████████████████████████████████████████████████████████████████████████████████████████████████████████████████████████████████████████████████████████████████████████████| 10/10 [00:00<00:00, 22995.09it/s]\n"
     ]
    },
    {
     "name": "stdout",
     "output_type": "stream",
     "text": [
      "Scoring complete taking 22.33131980895996 seconds. \n"
     ]
    },
    {
     "data": {
      "image/png": "[encoded data removed]",
      "text/plain": [
       "<Figure size 640x480 with 1 Axes>"
      ]
     },
     "metadata": {},
     "output_type": "display_data"
    },
    {
     "data": {
      "image/png": "[encoded data removed]",
      "text/plain": [
       "<Figure size 640x480 with 1 Axes>"
      ]
     },
     "metadata": {},
     "output_type": "display_data"
    }
   ],
   "source": [
    "# estimator = StatevectorEstimator()\n",
    "# job = estimator.run([(qc, mapped_observables)])\n",
    "# y_pred = job.result()[0].data.evs\n",
    "scores = []\n",
    "with open('model_log.csv', 'w') as outfile:\n",
    "    outfile.write('Time,Iteration,Cost,Parameters')\n",
    "    outfile.write('\\n')        \n",
    "with Session(backend=_backend) as session:\n",
    "    print(session.details())\n",
    "    estimator = Estimator(mode=session)\n",
    "    estimator.options.default_shots = 1024.0\n",
    "    estimator.options.resilience_level = 1\n",
    "    \n",
    "    cost_history_dict = {\n",
    "        \"prev_vector\": None,\n",
    "        \"iters\": 0,\n",
    "        \"cost_history\": [],\n",
    "    }\n",
    "    \n",
    "    for i in range(2):\n",
    "    \n",
    "    #     res = minimize(\n",
    "    #         cost_func,\n",
    "    #         x0,\n",
    "    #         args=(qc, mapped_observables, estimator, num_qubits, X_train, y_train,n_jobs,cost_history_dict),\n",
    "    #         method=\"cobyla\", options={'maxiter':5}\n",
    "    # )\n",
    "        save_file = 'partial_state_model.bin'\n",
    "        res = incremental_save_minimize(cost_func,\n",
    "            x0,\n",
    "            save_file,\n",
    "            args=(qc, mapped_observables, estimator, num_qubits, X_train, y_train,n_jobs,cost_history_dict),\n",
    "            method=\"cobyla\", options={'maxiter':2})        \n",
    "        x0 = res.x\n",
    "        loss = res.fun\n",
    "    \n",
    "    progress = {'x': x0, 'loss': loss}\n",
    "    dump(progress, 'final_state_model.bin')\n",
    "    os.remove('partial_state_model.bin') \n",
    "    scores, y_test_pred, y_train_pred = evaluate(x0,qc, mapped_observables, estimator, num_qubits, n_jobs, X_train, y_train, X_test=X_test, y_test=y_test, plot = True, title = 'A2_HWE-CNOT',y_scaler=scaler)\n",
    "    \n",
    "    name = 'A2_HWE-CNOT_predicted_values.csv'\n",
    "    train_pred, y_train, test_pred, y_test = y_train_pred.tolist(), y_train.tolist(), y_test_pred.tolist(), y_test.tolist()\n",
    "    df_train = pd.DataFrame({'Predicted': train_pred, 'Reference': y_train})\n",
    "    df_train['Data'] = 'Train'\n",
    "    df_test = pd.DataFrame({'Predicted': test_pred, 'Reference': y_test})\n",
    "    df_test['Data'] = 'Test'\n",
    "    df = pd.concat([df_train, df_test], ignore_index=True)\n",
    "    df = df[['Data', 'Predicted', 'Reference']]\n",
    "\n",
    "    df.to_csv(name, index=False)\n",
    "\n",
    "    results_title = 'A2_HWE-CNOT_results.json'\n",
    "    with open(results_title, 'w') as outfile:\n",
    "        json.dump(scores, outfile)\n",
    "    \n"
   ]
  },
  {
   "cell_type": "code",
   "execution_count": null,
   "id": "6ab7012a-2d4a-41e1-9576-64d95fe89551",
   "metadata": {},
   "outputs": [],
   "source": []
  },
  {
   "cell_type": "code",
   "execution_count": null,
   "id": "1eae433b-7295-413e-bcab-bb400ffb6c9c",
   "metadata": {},
   "outputs": [],
   "source": []
  }
 ],
 "metadata": {
  "kernelspec": {
   "display_name": "Python 3 (ipykernel)",
   "language": "python",
   "name": "python3"
  },
  "language_info": {
   "codemirror_mode": {
    "name": "ipython",
    "version": 3
   },
   "file_extension": ".py",
   "mimetype": "text/x-python",
   "name": "python",
   "nbconvert_exporter": "python",
   "pygments_lexer": "ipython3",
   "version": "3.12.2"
  }
 },
 "nbformat": 4,
 "nbformat_minor": 5
}
