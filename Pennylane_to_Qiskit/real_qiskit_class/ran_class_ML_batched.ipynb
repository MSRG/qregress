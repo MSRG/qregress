{
 "cells": [
  {
   "cell_type": "code",
   "execution_count": 1,
   "id": "dc8f5c2c-b710-429b-9f46-14c842ed6478",
   "metadata": {
    "editable": true,
    "execution": {
     "iopub.execute_input": "2025-03-23T22:50:34.634394Z",
     "iopub.status.busy": "2025-03-23T22:50:34.633498Z",
     "iopub.status.idle": "2025-03-23T22:50:36.852778Z",
     "shell.execute_reply": "2025-03-23T22:50:36.852037Z"
    },
    "papermill": {
     "duration": 2.228486,
     "end_time": "2025-03-23T22:50:36.854390",
     "exception": false,
     "start_time": "2025-03-23T22:50:34.625904",
     "status": "completed"
    },
    "slideshow": {
     "slide_type": ""
    },
    "tags": []
   },
   "outputs": [],
   "source": [
    "import os\n",
    "n_jobs = 64\n",
    "os.environ[\"OMP_NUM_THREADS\"] = str(n_jobs)\n",
    "import joblib\n",
    "import click\n",
    "import json\n",
    "import time\n",
    "\n",
    "import itertools\n",
    "import collections.abc\n",
    "import sys\n",
    "from tqdm.notebook import tqdm\n",
    "# !{sys.executable} -m pip install qcircuit\n",
    "\n",
    "import matplotlib.pyplot as plt\n",
    "import numpy as np\n",
    "import pandas as pd\n",
    "import pennylane as qml\n",
    "from sklearn.metrics import mean_squared_error, r2_score, mean_absolute_error\n",
    "\n",
    "# Qiskit\n",
    "from qiskit import QuantumCircuit\n",
    "from qiskit.quantum_info import Pauli, SparsePauliOp, Operator\n",
    "from qiskit.primitives import StatevectorEstimator\n",
    "from qiskit.circuit import Parameter, ParameterVector\n",
    "from qiskit.transpiler.preset_passmanagers import generate_preset_pass_manager\n",
    "from qiskit.quantum_info import SparsePauliOp\n",
    "from qiskit_ibm_runtime import EstimatorV2 as Estimator\n",
    "from qiskit_ibm_runtime import QiskitRuntimeService\n",
    "from qiskit_aer import AerSimulator\n",
    "from qiskit_aer.noise import NoiseModel\n",
    "from qiskit_ibm_runtime.fake_provider import FakeQuebec\n",
    "from qiskit_ibm_runtime import Batch\n",
    "from qiskit_ibm_runtime import exceptions\n",
    "# from qiskit_machine_learning.optimizers import SPSA, Minimizer\n",
    "\n",
    "\n",
    "from joblib import dump, load\n",
    "from QiskitRegressor import QiskitRegressor"
   ]
  },
  {
   "cell_type": "code",
   "execution_count": 2,
   "id": "9e8cd7b1-46c5-4d8e-966b-87a99489ddac",
   "metadata": {
    "editable": true,
    "execution": {
     "iopub.execute_input": "2025-03-23T22:50:36.860071Z",
     "iopub.status.busy": "2025-03-23T22:50:36.859623Z",
     "iopub.status.idle": "2025-03-23T22:50:36.868202Z",
     "shell.execute_reply": "2025-03-23T22:50:36.867561Z"
    },
    "papermill": {
     "duration": 0.011839,
     "end_time": "2025-03-23T22:50:36.868909",
     "exception": false,
     "start_time": "2025-03-23T22:50:36.857070",
     "status": "completed"
    },
    "slideshow": {
     "slide_type": ""
    },
    "tags": []
   },
   "outputs": [],
   "source": [
    "def mitarai(quantumcircuit,num_wires,paramname='x'):\n",
    "    # encoding as proposed by Mitarai et al.\n",
    "    num_features = num_wires\n",
    "    features = ParameterVector(paramname,num_features*2)\n",
    "    for i in range(num_wires):\n",
    "        feature_idx = i % num_features  # Calculate the feature index using modulo\n",
    "        quantumcircuit.ry(np.arcsin(features[feature_idx * 2]), i)\n",
    "        quantumcircuit.rz(np.arccos(features[feature_idx * 2 + 1] ** 2), i)\n",
    "\n",
    "\n",
    "def double_angle(quantumcircuit, num_wires,paramname='x'):\n",
    "    #  creates a circuit that encodes features into wires via angle encoding with an RY then RZ gate\n",
    "    #  the features are encoded 1-1 onto the qubits\n",
    "    #  if more wires are passed then features the remaining wires will be filled from the beginning of the feature list\n",
    "    num_features = num_wires\n",
    "    features = ParameterVector(paramname,num_features*2)\n",
    "    for i in range(num_wires):\n",
    "        feature_index = i % num_features\n",
    "        quantumcircuit.ry(features[feature_index], i)\n",
    "        quantumcircuit.rz(features[feature_index], i)\n",
    "\n",
    "def entangle_cnot(quantumcircuit,num_wires):\n",
    "    #  entangles all of the wires in a circular fashion using cnot gates\n",
    "    for i in range(num_wires):\n",
    "        \n",
    "        if i == num_wires - 1:\n",
    "            quantumcircuit.cx(i, 0)\n",
    "        else:\n",
    "            quantumcircuit.cx(i, i+1)\n",
    "\n",
    "\n",
    "def entangle_cz(quantumcircuit,num_wires):\n",
    "    #  entangles all of the wires in a circular fashion using cz gates\n",
    "    for i in range(num_wires):\n",
    "        \n",
    "        if i == num_wires - 1:\n",
    "            quantumcircuit.cz(i, 0)\n",
    "        else:\n",
    "            quantumcircuit.cz(i, i+1)\n",
    "\n",
    "\n",
    "def HardwareEfficient(quantumcircuit,num_wires,paramname='theta'):\n",
    "    parameters = ParameterVector(paramname,num_wires*3)\n",
    "    for qubit in range(num_wires):\n",
    "        quantumcircuit.rx(parameters[qubit * 3], qubit)  \n",
    "        quantumcircuit.rz(parameters[qubit * 3 + 1], qubit)  \n",
    "        quantumcircuit.rx(parameters[qubit * 3 + 2], qubit)  \n",
    "    entangle_cnot(quantumcircuit,num_wires)\n",
    "\n"
   ]
  },
  {
   "cell_type": "code",
   "execution_count": 3,
   "id": "98051576-89f8-4a1d-980e-3708e2089ad6",
   "metadata": {
    "execution": {
     "iopub.execute_input": "2025-03-23T22:50:36.873174Z",
     "iopub.status.busy": "2025-03-23T22:50:36.873014Z",
     "iopub.status.idle": "2025-03-23T22:50:36.877163Z",
     "shell.execute_reply": "2025-03-23T22:50:36.876556Z"
    },
    "papermill": {
     "duration": 0.007124,
     "end_time": "2025-03-23T22:50:36.877838",
     "exception": false,
     "start_time": "2025-03-23T22:50:36.870714",
     "status": "completed"
    },
    "tags": []
   },
   "outputs": [],
   "source": [
    "# def circuit(nqubits):\n",
    "#     qc = QuantumCircuit(nqubits)\n",
    "#     mitarai(qc,nqubits)\n",
    "#     entangle_cz(qc,nqubits)\n",
    "#     qc.barrier()\n",
    "#     mitarai(qc,nqubits,paramname='x1')\n",
    "#     entangle_cz(qc,nqubits)\n",
    "#     qc.barrier()\n",
    "#     HardwareEfficient(qc,nqubits)\n",
    "#     qc.barrier()\n",
    "#     return qc\n",
    "\n",
    "\n",
    "def circuit(nqubits,RUD=1,AL=1):\n",
    "    qc = QuantumCircuit(nqubits)\n",
    "    for i in range(RUD):\n",
    "        double_angle(qc,nqubits,paramname=f'x{i}')\n",
    "        qc.barrier()\n",
    "        for j in range(AL):        \n",
    "            HardwareEfficient(qc,nqubits,paramname=f'theta{i}_{j}')\n",
    "            qc.barrier()\n",
    "    return qc"
   ]
  },
  {
   "cell_type": "code",
   "execution_count": 4,
   "id": "11cb5805-20c7-493a-b96c-8eac41dcc1d7",
   "metadata": {
    "execution": {
     "iopub.execute_input": "2025-03-23T22:50:36.882234Z",
     "iopub.status.busy": "2025-03-23T22:50:36.882067Z",
     "iopub.status.idle": "2025-03-23T22:50:36.890687Z",
     "shell.execute_reply": "2025-03-23T22:50:36.889994Z"
    },
    "papermill": {
     "duration": 0.011703,
     "end_time": "2025-03-23T22:50:36.891434",
     "exception": false,
     "start_time": "2025-03-23T22:50:36.879731",
     "status": "completed"
    },
    "tags": []
   },
   "outputs": [
    {
     "name": "stdout",
     "output_type": "stream",
     "text": [
      "(4, 64) (4, 64)\n"
     ]
    },
    {
     "name": "stderr",
     "output_type": "stream",
     "text": [
      "/home/ubuntu/miniconda3/envs/qml/lib/python3.11/site-packages/sklearn/base.py:380: InconsistentVersionWarning: Trying to unpickle estimator MinMaxScaler from version 1.5.1 when using version 1.6.0. This might lead to breaking code or invalid results. Use at your own risk. For more info please refer to:\n",
      "https://scikit-learn.org/stable/model_persistence.html#security-maintainability-limitations\n",
      "  warnings.warn(\n"
     ]
    }
   ],
   "source": [
    "\n",
    "top=os.getcwd()\n",
    "with open(os.path.join(top,'5_DDCC_train.bin'),'rb') as f:\n",
    "    ddcc_train = joblib.load(f)\n",
    "\n",
    "with open(os.path.join(top,'5_DDCC_test.bin'),'rb') as f:\n",
    "    ddcc_test = joblib.load(f)\n",
    "\n",
    "with open(os.path.join(top,'5_DDCC_scaler.bin'),'rb') as f:\n",
    "    ddcc_scaler = joblib.load(f)\n",
    "\n",
    "X_ddcc_train, y_ddcc_train = ddcc_train['X'],ddcc_train['y']\n",
    "X_ddcc_test, y_ddcc_test = ddcc_test['X'],ddcc_test['y']\n",
    "\n",
    "X_ddcc_train = X_ddcc_train.reshape(-1,64,5)[0:4]\n",
    "X_ddcc_test = X_ddcc_test.reshape(-1,64,5)[0:4]\n",
    "y_ddcc_train = y_ddcc_train.reshape(-1,64)[0:4]\n",
    "y_ddcc_test = y_ddcc_test.reshape(-1,64)[0:4]\n",
    "\n",
    "\n",
    "# X_train, y_train = X_ddcc_train, y_ddcc_train\n",
    "# X_test, y_test = X_ddcc_test, y_ddcc_test\n",
    "X_train, y_train = X_ddcc_train, y_ddcc_train\n",
    "X_test, y_test = X_ddcc_test, y_ddcc_test\n",
    "\n",
    "# X_train = [X_train[i:i+4] for i in range(0,len(X_train),4)]\n",
    "# X_test = [X_test[i:i+4] for i in range(0,len(X_test),4)]\n",
    "scaler = ddcc_scaler\n",
    "\n",
    "# print(len(X_train),X_train[0].shape,X_train[-1].shape)\n",
    "print(y_train.shape, y_test.shape)"
   ]
  },
  {
   "cell_type": "code",
   "execution_count": 5,
   "id": "0172f0c5-8225-47b8-91e3-8e113113d13e",
   "metadata": {
    "editable": true,
    "execution": {
     "iopub.execute_input": "2025-03-23T22:50:36.895990Z",
     "iopub.status.busy": "2025-03-23T22:50:36.895838Z",
     "iopub.status.idle": "2025-03-23T22:50:36.898821Z",
     "shell.execute_reply": "2025-03-23T22:50:36.898233Z"
    },
    "papermill": {
     "duration": 0.006046,
     "end_time": "2025-03-23T22:50:36.899486",
     "exception": false,
     "start_time": "2025-03-23T22:50:36.893440",
     "status": "completed"
    },
    "slideshow": {
     "slide_type": ""
    },
    "tags": []
   },
   "outputs": [],
   "source": [
    "num_qubits = 5\n",
    "RUD = 1\n",
    "AL = 5"
   ]
  },
  {
   "cell_type": "code",
   "execution_count": 6,
   "id": "fcdd8b11-a018-4461-9461-cf12e6026e13",
   "metadata": {
    "editable": true,
    "execution": {
     "iopub.execute_input": "2025-03-23T22:50:36.904140Z",
     "iopub.status.busy": "2025-03-23T22:50:36.903978Z",
     "iopub.status.idle": "2025-03-23T22:50:36.907082Z",
     "shell.execute_reply": "2025-03-23T22:50:36.906451Z"
    },
    "papermill": {
     "duration": 0.006363,
     "end_time": "2025-03-23T22:50:36.907797",
     "exception": false,
     "start_time": "2025-03-23T22:50:36.901434",
     "status": "completed"
    },
    "slideshow": {
     "slide_type": ""
    },
    "tags": [
     "parameters"
    ]
   },
   "outputs": [],
   "source": [
    "optimization_level = 2\n",
    "shots = 3072\n",
    "# shots = 1024.0 * 1\n",
    "resilience_level = 1"
   ]
  },
  {
   "cell_type": "code",
   "execution_count": 7,
   "id": "0dd61067-2a66-4c32-bff7-34a6678cea46",
   "metadata": {
    "editable": true,
    "execution": {
     "iopub.execute_input": "2025-03-23T22:50:36.912416Z",
     "iopub.status.busy": "2025-03-23T22:50:36.912269Z",
     "iopub.status.idle": "2025-03-23T22:50:36.915431Z",
     "shell.execute_reply": "2025-03-23T22:50:36.914835Z"
    },
    "papermill": {
     "duration": 0.006283,
     "end_time": "2025-03-23T22:50:36.916090",
     "exception": false,
     "start_time": "2025-03-23T22:50:36.909807",
     "status": "completed"
    },
    "slideshow": {
     "slide_type": ""
    },
    "tags": []
   },
   "outputs": [],
   "source": [
    "optimization_level = int(optimization_level)\n",
    "shots = int(shots)\n",
    "# shots = 1024.0 * 1\n",
    "resilience_level = int(resilience_level)"
   ]
  },
  {
   "cell_type": "code",
   "execution_count": 8,
   "id": "9f37a160-f338-4f3d-9b17-c1c695681785",
   "metadata": {
    "execution": {
     "iopub.execute_input": "2025-03-23T22:50:36.920645Z",
     "iopub.status.busy": "2025-03-23T22:50:36.920499Z",
     "iopub.status.idle": "2025-03-23T22:50:36.926155Z",
     "shell.execute_reply": "2025-03-23T22:50:36.925506Z"
    },
    "papermill": {
     "duration": 0.009055,
     "end_time": "2025-03-23T22:50:36.927081",
     "exception": false,
     "start_time": "2025-03-23T22:50:36.918026",
     "status": "completed"
    },
    "tags": []
   },
   "outputs": [],
   "source": [
    "# \n",
    "qc = circuit(num_qubits,RUD,AL)\n",
    "\n",
    "observables_labels = ''.join(['I']*(num_qubits-1))+\"Z\""
   ]
  },
  {
   "cell_type": "code",
   "execution_count": null,
   "id": "88886f6a-d6b3-42da-8f53-359cebe5938e",
   "metadata": {
    "papermill": {
     "duration": 0.002047,
     "end_time": "2025-03-23T22:50:36.931186",
     "exception": false,
     "start_time": "2025-03-23T22:50:36.929139",
     "status": "completed"
    },
    "tags": []
   },
   "outputs": [],
   "source": []
  },
  {
   "cell_type": "code",
   "execution_count": 9,
   "id": "d4755fc2-654e-4b9a-9cb9-0f8d050b1dd3",
   "metadata": {
    "execution": {
     "iopub.execute_input": "2025-03-23T22:50:36.935760Z",
     "iopub.status.busy": "2025-03-23T22:50:36.935603Z"
    },
    "papermill": {
     "duration": null,
     "end_time": null,
     "exception": false,
     "start_time": "2025-03-23T22:50:36.933100",
     "status": "running"
    },
    "tags": []
   },
   "outputs": [
    {
     "name": "stdout",
     "output_type": "stream",
     "text": [
      "./partial_state_model.bin\n",
      "Parameters loaded\n",
      "[ 0.16603458  4.48856562 -1.84410156  2.24766078  2.1438566  -2.58751108\n",
      "  4.83217924  2.0391672   1.75350903  1.11892647  2.31151024  2.23569473\n",
      "  0.75963214 -0.86282502  2.20140131  4.20374675 -0.9759864  -0.5648943\n",
      " -1.23750415  1.07027178  2.72538015  3.58902199 -1.29311055 -0.45798537\n",
      " -3.05732747 -2.47884188  3.25878251  1.77055297  0.47753309 -3.07606347\n",
      "  1.46250224  0.86842325 -2.48710525  1.81949489  0.76520842 -0.73576734\n",
      "  0.88402353 -1.84989881  0.66077101  2.7694038  -0.59167491  0.18259674\n",
      "  2.42843055  0.31370041  2.3951637   3.17496029  2.71776925 -2.95516683\n",
      " -0.87333719 -0.41528285  1.26375461  2.73112443 -0.37988213 -2.46094223\n",
      "  2.50921147 -3.07784244  1.74081982 -0.75307909 -1.82621155  2.86050922\n",
      " -2.39677886 -1.51371371 -2.72146328  2.95553723 -2.60705492  1.68495907\n",
      "  1.59338194  2.56262334  2.14823996  2.70240411  1.15328219  1.4132453\n",
      " -2.07226232 -2.7651304   1.27120093]\n"
     ]
    },
    {
     "name": "stdout",
     "output_type": "stream",
     "text": [
      "[SparsePauliOp(['IIIIIIIIIIIIIIIIIIIIIIIIIIIIIIIIIIIIIIIIIIIIIIIIIIIIIIIIIIIIIIIIIIIIIIIIIIIIIIIIIZIIIIIIIIIIIIIIIIIIIIIIIIIIIIIIIIIIIIIIIIIIIII'],\n",
      "              coeffs=[1.+0.j])]\n",
      "<IBMBackend('ibm_quebec')>\n"
     ]
    },
    {
     "data": {
      "application/vnd.jupyter.widget-view+json": {
       "model_id": "e18f36ba69d1458d81854b3c54e70907",
       "version_major": 2,
       "version_minor": 0
      },
      "text/plain": [
       "Mappings: 0it [00:00, ?it/s]"
      ]
     },
     "metadata": {},
     "output_type": "display_data"
    },
    {
     "name": "stdout",
     "output_type": "stream",
     "text": [
      "Submitted to device in 20.5687 s\n"
     ]
    },
    {
     "data": {
      "application/vnd.jupyter.widget-view+json": {
       "model_id": "024f631f6dc94f0e816873ea10a92499",
       "version_major": 2,
       "version_minor": 0
      },
      "text/plain": [
       "Running batch:   0%|          | 0/1 [00:00<?, ?it/s]"
      ]
     },
     "metadata": {},
     "output_type": "display_data"
    },
    {
     "name": "stdout",
     "output_type": "stream",
     "text": [
      "Predicted in 1808.5142 s\n",
      "Iters. done: 1 Current cost: 0.11718695812746302 Accuracy: -0.29547283199797914 Time: 1829.1634711362422\n"
     ]
    },
    {
     "data": {
      "application/vnd.jupyter.widget-view+json": {
       "model_id": "ec3f9f5dad9a46168bcdbabd09891e20",
       "version_major": 2,
       "version_minor": 0
      },
      "text/plain": [
       "Mappings: 0it [00:00, ?it/s]"
      ]
     },
     "metadata": {},
     "output_type": "display_data"
    },
    {
     "name": "stdout",
     "output_type": "stream",
     "text": [
      "Submitted to device in 19.3480 s\n"
     ]
    },
    {
     "data": {
      "application/vnd.jupyter.widget-view+json": {
       "model_id": "89930d7622784169b5a1a00586046cf1",
       "version_major": 2,
       "version_minor": 0
      },
      "text/plain": [
       "Running batch:   0%|          | 0/1 [00:00<?, ?it/s]"
      ]
     },
     "metadata": {},
     "output_type": "display_data"
    },
    {
     "name": "stdout",
     "output_type": "stream",
     "text": [
      "Predicted in 2653.9038 s\n",
      "Iters. done: 2 Current cost: 0.13625586070398982 Accuracy: -0.5062748326526703 Time: 2673.3853475488722\n"
     ]
    },
    {
     "data": {
      "application/vnd.jupyter.widget-view+json": {
       "model_id": "ad6f8b141e7e4edfb2f8e8af127fa9e9",
       "version_major": 2,
       "version_minor": 0
      },
      "text/plain": [
       "Mappings: 0it [00:00, ?it/s]"
      ]
     },
     "metadata": {},
     "output_type": "display_data"
    },
    {
     "name": "stdout",
     "output_type": "stream",
     "text": [
      "Submitted to device in 25.2381 s\n"
     ]
    },
    {
     "data": {
      "application/vnd.jupyter.widget-view+json": {
       "model_id": "aa4dac2f54774679b65512f6caf19aab",
       "version_major": 2,
       "version_minor": 0
      },
      "text/plain": [
       "Running batch:   0%|          | 0/1 [00:00<?, ?it/s]"
      ]
     },
     "metadata": {},
     "output_type": "display_data"
    },
    {
     "name": "stdout",
     "output_type": "stream",
     "text": [
      "Predicted in 1680.7186 s\n",
      "Iters. done: 3 Current cost: 0.12207711685719835 Accuracy: -0.3495323270114028 Time: 1706.0536192283034\n"
     ]
    },
    {
     "data": {
      "application/vnd.jupyter.widget-view+json": {
       "model_id": "cdb06064b4fe43709e3f59cf6d156f07",
       "version_major": 2,
       "version_minor": 0
      },
      "text/plain": [
       "Mappings: 0it [00:00, ?it/s]"
      ]
     },
     "metadata": {},
     "output_type": "display_data"
    },
    {
     "name": "stderr",
     "output_type": "stream",
     "text": [
      "/home/ubuntu/miniconda3/envs/qml/lib/python3.11/site-packages/qiskit_ibm_runtime/qiskit_runtime_service.py:874: UserWarning: The backend ibm_quebec currently has a status of internal.\n",
      "  warnings.warn(\n"
     ]
    },
    {
     "name": "stdout",
     "output_type": "stream",
     "text": [
      "Submitted to device in 18.1653 s\n"
     ]
    },
    {
     "data": {
      "application/vnd.jupyter.widget-view+json": {
       "model_id": "291c917cc0fc4ffcacc9653a1e573e6a",
       "version_major": 2,
       "version_minor": 0
      },
      "text/plain": [
       "Running batch:   0%|          | 0/1 [00:00<?, ?it/s]"
      ]
     },
     "metadata": {},
     "output_type": "display_data"
    },
    {
     "name": "stdout",
     "output_type": "stream",
     "text": [
      "Predicted in 1984.8458 s\n",
      "Iters. done: 4 Current cost: 0.11248397191782745 Accuracy: -0.24348248289089525 Time: 2003.0930067449808\n"
     ]
    },
    {
     "data": {
      "application/vnd.jupyter.widget-view+json": {
       "model_id": "8a84f0a8e1724815bfad1c7867a2e6cf",
       "version_major": 2,
       "version_minor": 0
      },
      "text/plain": [
       "Mappings: 0it [00:00, ?it/s]"
      ]
     },
     "metadata": {},
     "output_type": "display_data"
    },
    {
     "name": "stdout",
     "output_type": "stream",
     "text": [
      "Submitted to device in 19.0672 s\n"
     ]
    },
    {
     "data": {
      "application/vnd.jupyter.widget-view+json": {
       "model_id": "774185ca928840f28f35d3fd069e150c",
       "version_major": 2,
       "version_minor": 0
      },
      "text/plain": [
       "Running batch:   0%|          | 0/1 [00:00<?, ?it/s]"
      ]
     },
     "metadata": {},
     "output_type": "display_data"
    },
    {
     "name": "stdout",
     "output_type": "stream",
     "text": [
      "Predicted in 2370.7060 s\n",
      "Iters. done: 5 Current cost: 0.11334347252149386 Accuracy: -0.2529840494382971 Time: 2389.8742469474673\n"
     ]
    },
    {
     "data": {
      "application/vnd.jupyter.widget-view+json": {
       "model_id": "a13a1404436546608aeeda9267a2996a",
       "version_major": 2,
       "version_minor": 0
      },
      "text/plain": [
       "Mappings: 0it [00:00, ?it/s]"
      ]
     },
     "metadata": {},
     "output_type": "display_data"
    },
    {
     "name": "stdout",
     "output_type": "stream",
     "text": [
      "Submitted to device in 19.0938 s\n"
     ]
    },
    {
     "data": {
      "application/vnd.jupyter.widget-view+json": {
       "model_id": "1e3c0e822ef54d7a801eb619bb02fc8b",
       "version_major": 2,
       "version_minor": 0
      },
      "text/plain": [
       "Running batch:   0%|          | 0/1 [00:00<?, ?it/s]"
      ]
     },
     "metadata": {},
     "output_type": "display_data"
    },
    {
     "name": "stdout",
     "output_type": "stream",
     "text": [
      "Predicted in 2990.3631 s\n",
      "Iters. done: 6 Current cost: 0.13199904942015095 Accuracy: -0.4592168369740255 Time: 3009.543962005526\n"
     ]
    },
    {
     "data": {
      "application/vnd.jupyter.widget-view+json": {
       "model_id": "f55763eb247d48e8a5030ae5fd5cc65c",
       "version_major": 2,
       "version_minor": 0
      },
      "text/plain": [
       "Mappings: 0it [00:00, ?it/s]"
      ]
     },
     "metadata": {},
     "output_type": "display_data"
    },
    {
     "name": "stdout",
     "output_type": "stream",
     "text": [
      "Submitted to device in 20.5816 s\n"
     ]
    },
    {
     "data": {
      "application/vnd.jupyter.widget-view+json": {
       "model_id": "82f380cbe4644b7e994a61aef0d925ae",
       "version_major": 2,
       "version_minor": 0
      },
      "text/plain": [
       "Running batch:   0%|          | 0/1 [00:00<?, ?it/s]"
      ]
     },
     "metadata": {},
     "output_type": "display_data"
    },
    {
     "name": "stdout",
     "output_type": "stream",
     "text": [
      "Predicted in 359.4427 s\n",
      "Iters. done: 7 Current cost: 0.12171708864958777 Accuracy: -0.3455523042412483 Time: 380.1222587674856\n"
     ]
    },
    {
     "data": {
      "application/vnd.jupyter.widget-view+json": {
       "model_id": "7b4ea4f73cca42118234a340ccac087f",
       "version_major": 2,
       "version_minor": 0
      },
      "text/plain": [
       "Mappings: 0it [00:00, ?it/s]"
      ]
     },
     "metadata": {},
     "output_type": "display_data"
    },
    {
     "name": "stdout",
     "output_type": "stream",
     "text": [
      "Submitted to device in 22.1120 s\n"
     ]
    },
    {
     "data": {
      "application/vnd.jupyter.widget-view+json": {
       "model_id": "ce00d65293f04791964cbd47c2e2093f",
       "version_major": 2,
       "version_minor": 0
      },
      "text/plain": [
       "Running batch:   0%|          | 0/1 [00:00<?, ?it/s]"
      ]
     },
     "metadata": {},
     "output_type": "display_data"
    },
    {
     "name": "stdout",
     "output_type": "stream",
     "text": [
      "Predicted in 2336.4101 s\n",
      "Iters. done: 8 Current cost: 0.10518808199140595 Accuracy: -0.16282822463592495 Time: 2358.610448613763\n"
     ]
    },
    {
     "data": {
      "application/vnd.jupyter.widget-view+json": {
       "model_id": "b389b66c9ec64a58a3946cc3d9722cd9",
       "version_major": 2,
       "version_minor": 0
      },
      "text/plain": [
       "Mappings: 0it [00:00, ?it/s]"
      ]
     },
     "metadata": {},
     "output_type": "display_data"
    },
    {
     "name": "stdout",
     "output_type": "stream",
     "text": [
      "Submitted to device in 18.6784 s\n"
     ]
    },
    {
     "data": {
      "application/vnd.jupyter.widget-view+json": {
       "model_id": "6389cdfe436e497d989a9c7c9f136d8f",
       "version_major": 2,
       "version_minor": 0
      },
      "text/plain": [
       "Running batch:   0%|          | 0/1 [00:00<?, ?it/s]"
      ]
     },
     "metadata": {},
     "output_type": "display_data"
    },
    {
     "name": "stdout",
     "output_type": "stream",
     "text": [
      "Predicted in 2477.2270 s\n",
      "Iters. done: 9 Current cost: 0.11459456538713342 Accuracy: -0.2668145715684105 Time: 2495.991337593645\n"
     ]
    },
    {
     "data": {
      "application/vnd.jupyter.widget-view+json": {
       "model_id": "8e8c5713426145ccb5f3754f1a636bc3",
       "version_major": 2,
       "version_minor": 0
      },
      "text/plain": [
       "Mappings: 0it [00:00, ?it/s]"
      ]
     },
     "metadata": {},
     "output_type": "display_data"
    },
    {
     "name": "stdout",
     "output_type": "stream",
     "text": [
      "Submitted to device in 21.2182 s\n"
     ]
    },
    {
     "data": {
      "application/vnd.jupyter.widget-view+json": {
       "model_id": "4373c7f4c0aa4e3bb38dc5e61867e482",
       "version_major": 2,
       "version_minor": 0
      },
      "text/plain": [
       "Running batch:   0%|          | 0/1 [00:00<?, ?it/s]"
      ]
     },
     "metadata": {},
     "output_type": "display_data"
    },
    {
     "name": "stdout",
     "output_type": "stream",
     "text": [
      "Predicted in 1389.6950 s\n",
      "Iters. done: 10 Current cost: 0.11862503370890472 Accuracy: -0.3113704017948764 Time: 1411.0120435357094\n"
     ]
    },
    {
     "data": {
      "application/vnd.jupyter.widget-view+json": {
       "model_id": "90aa120b203947f388b523af597ea336",
       "version_major": 2,
       "version_minor": 0
      },
      "text/plain": [
       "Mappings: 0it [00:00, ?it/s]"
      ]
     },
     "metadata": {},
     "output_type": "display_data"
    },
    {
     "name": "stderr",
     "output_type": "stream",
     "text": [
      "/home/ubuntu/miniconda3/envs/qml/lib/python3.11/site-packages/qiskit_ibm_runtime/qiskit_runtime_service.py:874: UserWarning: The backend ibm_quebec currently has a status of internal.\n",
      "  warnings.warn(\n"
     ]
    },
    {
     "name": "stdout",
     "output_type": "stream",
     "text": [
      "Submitted to device in 19.4581 s\n"
     ]
    },
    {
     "data": {
      "application/vnd.jupyter.widget-view+json": {
       "model_id": "72a951a23ee841ecb615ba590446ee34",
       "version_major": 2,
       "version_minor": 0
      },
      "text/plain": [
       "Running batch:   0%|          | 0/1 [00:00<?, ?it/s]"
      ]
     },
     "metadata": {},
     "output_type": "display_data"
    },
    {
     "name": "stdout",
     "output_type": "stream",
     "text": [
      "Predicted in 1740.6196 s\n",
      "Iters. done: 11 Current cost: 0.08547893981055807 Accuracy: 0.05505146645992409 Time: 1760.1847502030432\n"
     ]
    },
    {
     "data": {
      "application/vnd.jupyter.widget-view+json": {
       "model_id": "6f57de54925d4a6db26b54087e1b240d",
       "version_major": 2,
       "version_minor": 0
      },
      "text/plain": [
       "Mappings: 0it [00:00, ?it/s]"
      ]
     },
     "metadata": {},
     "output_type": "display_data"
    },
    {
     "name": "stdout",
     "output_type": "stream",
     "text": [
      "Submitted to device in 18.6944 s\n"
     ]
    },
    {
     "data": {
      "application/vnd.jupyter.widget-view+json": {
       "model_id": "02aba94c0f3e4148b51719ed11be5c2f",
       "version_major": 2,
       "version_minor": 0
      },
      "text/plain": [
       "Running batch:   0%|          | 0/1 [00:00<?, ?it/s]"
      ]
     },
     "metadata": {},
     "output_type": "display_data"
    },
    {
     "name": "stdout",
     "output_type": "stream",
     "text": [
      "Predicted in 2229.6967 s\n",
      "Iters. done: 12 Current cost: 0.10411975520082685 Accuracy: -0.15101813625232285 Time: 2248.491358138621\n"
     ]
    },
    {
     "data": {
      "application/vnd.jupyter.widget-view+json": {
       "model_id": "2604244c0bb842d9a419479a19235a72",
       "version_major": 2,
       "version_minor": 0
      },
      "text/plain": [
       "Mappings: 0it [00:00, ?it/s]"
      ]
     },
     "metadata": {},
     "output_type": "display_data"
    },
    {
     "name": "stdout",
     "output_type": "stream",
     "text": [
      "Submitted to device in 17.7457 s\n"
     ]
    },
    {
     "data": {
      "application/vnd.jupyter.widget-view+json": {
       "model_id": "aa714d2e63834c89a4fb2376ca9cfd54",
       "version_major": 2,
       "version_minor": 0
      },
      "text/plain": [
       "Running batch:   0%|          | 0/1 [00:00<?, ?it/s]"
      ]
     },
     "metadata": {},
     "output_type": "display_data"
    },
    {
     "name": "stdout",
     "output_type": "stream",
     "text": [
      "Predicted in 2184.0213 s\n",
      "Iters. done: 13 Current cost: 0.10788968390540499 Accuracy: -0.19269376546387895 Time: 2201.8672777079046\n"
     ]
    },
    {
     "data": {
      "application/vnd.jupyter.widget-view+json": {
       "model_id": "9838e9c21f8a4b6b96dfecab59edad5e",
       "version_major": 2,
       "version_minor": 0
      },
      "text/plain": [
       "Mappings: 0it [00:00, ?it/s]"
      ]
     },
     "metadata": {},
     "output_type": "display_data"
    },
    {
     "name": "stdout",
     "output_type": "stream",
     "text": [
      "Submitted to device in 23.0757 s\n"
     ]
    },
    {
     "data": {
      "application/vnd.jupyter.widget-view+json": {
       "model_id": "4d4526ab87ea4d8383507c836180f1d5",
       "version_major": 2,
       "version_minor": 0
      },
      "text/plain": [
       "Running batch:   0%|          | 0/1 [00:00<?, ?it/s]"
      ]
     },
     "metadata": {},
     "output_type": "display_data"
    },
    {
     "name": "stdout",
     "output_type": "stream",
     "text": [
      "Predicted in 2786.2583 s\n",
      "Iters. done: 14 Current cost: 0.09635393744150725 Accuracy: -0.06516894205698098 Time: 2809.429600663483\n"
     ]
    },
    {
     "data": {
      "application/vnd.jupyter.widget-view+json": {
       "model_id": "3916ec439f8e4c2fbb17f4e16e74c26a",
       "version_major": 2,
       "version_minor": 0
      },
      "text/plain": [
       "Mappings: 0it [00:00, ?it/s]"
      ]
     },
     "metadata": {},
     "output_type": "display_data"
    },
    {
     "name": "stdout",
     "output_type": "stream",
     "text": [
      "Submitted to device in 20.7057 s\n"
     ]
    },
    {
     "data": {
      "application/vnd.jupyter.widget-view+json": {
       "model_id": "f48a47194995467992133eebd348f97f",
       "version_major": 2,
       "version_minor": 0
      },
      "text/plain": [
       "Running batch:   0%|          | 0/1 [00:00<?, ?it/s]"
      ]
     },
     "metadata": {},
     "output_type": "display_data"
    },
    {
     "name": "stdout",
     "output_type": "stream",
     "text": [
      "Predicted in 144.3654 s\n",
      "Iters. done: 15 Current cost: 0.08112700904053566 Accuracy: 0.10316098452735178 Time: 165.16813660040498\n"
     ]
    },
    {
     "data": {
      "application/vnd.jupyter.widget-view+json": {
       "model_id": "24f777bc92f649bfb4ef633e9f49b9bf",
       "version_major": 2,
       "version_minor": 0
      },
      "text/plain": [
       "Mappings: 0it [00:00, ?it/s]"
      ]
     },
     "metadata": {},
     "output_type": "display_data"
    },
    {
     "name": "stdout",
     "output_type": "stream",
     "text": [
      "Submitted to device in 17.2813 s\n"
     ]
    },
    {
     "data": {
      "application/vnd.jupyter.widget-view+json": {
       "model_id": "99c5c23049c641189c7c00eb02472517",
       "version_major": 2,
       "version_minor": 0
      },
      "text/plain": [
       "Running batch:   0%|          | 0/1 [00:00<?, ?it/s]"
      ]
     },
     "metadata": {},
     "output_type": "display_data"
    },
    {
     "name": "stdout",
     "output_type": "stream",
     "text": [
      "Predicted in 1772.6867 s\n",
      "Iters. done: 16 Current cost: 0.09518639885202919 Accuracy: -0.052262091779897046 Time: 1790.0572889633477\n"
     ]
    },
    {
     "data": {
      "application/vnd.jupyter.widget-view+json": {
       "model_id": "12e128765098425ba272bd2e519ea0ec",
       "version_major": 2,
       "version_minor": 0
      },
      "text/plain": [
       "Mappings: 0it [00:00, ?it/s]"
      ]
     },
     "metadata": {},
     "output_type": "display_data"
    },
    {
     "name": "stdout",
     "output_type": "stream",
     "text": [
      "Submitted to device in 18.3600 s\n"
     ]
    },
    {
     "data": {
      "application/vnd.jupyter.widget-view+json": {
       "model_id": "f2fd3b92f26441dc9e870c349699ca2d",
       "version_major": 2,
       "version_minor": 0
      },
      "text/plain": [
       "Running batch:   0%|          | 0/1 [00:00<?, ?it/s]"
      ]
     },
     "metadata": {},
     "output_type": "display_data"
    },
    {
     "name": "stdout",
     "output_type": "stream",
     "text": [
      "Predicted in 2037.1835 s\n",
      "Iters. done: 17 Current cost: 0.08770249133003469 Accuracy: 0.030470654481711934 Time: 2055.6453708708286\n"
     ]
    },
    {
     "data": {
      "application/vnd.jupyter.widget-view+json": {
       "model_id": "d8cb56a9dd514e64aeca4dc14476fa18",
       "version_major": 2,
       "version_minor": 0
      },
      "text/plain": [
       "Mappings: 0it [00:00, ?it/s]"
      ]
     },
     "metadata": {},
     "output_type": "display_data"
    },
    {
     "name": "stdout",
     "output_type": "stream",
     "text": [
      "Submitted to device in 21.7253 s\n"
     ]
    },
    {
     "data": {
      "application/vnd.jupyter.widget-view+json": {
       "model_id": "db544fe1aa4a471fb47b2c442e9680d0",
       "version_major": 2,
       "version_minor": 0
      },
      "text/plain": [
       "Running batch:   0%|          | 0/1 [00:00<?, ?it/s]"
      ]
     },
     "metadata": {},
     "output_type": "display_data"
    },
    {
     "name": "stdout",
     "output_type": "stream",
     "text": [
      "Predicted in 1418.8912 s\n",
      "Iters. done: 18 Current cost: 0.08415456435803861 Accuracy: 0.06969210945910365 Time: 1440.7109438441694\n"
     ]
    },
    {
     "data": {
      "application/vnd.jupyter.widget-view+json": {
       "model_id": "1e4915263b7642908b3794b7ff20a77f",
       "version_major": 2,
       "version_minor": 0
      },
      "text/plain": [
       "Mappings: 0it [00:00, ?it/s]"
      ]
     },
     "metadata": {},
     "output_type": "display_data"
    },
    {
     "name": "stderr",
     "output_type": "stream",
     "text": [
      "/home/ubuntu/miniconda3/envs/qml/lib/python3.11/site-packages/qiskit_ibm_runtime/qiskit_runtime_service.py:874: UserWarning: The backend ibm_quebec currently has a status of internal.\n",
      "  warnings.warn(\n"
     ]
    },
    {
     "name": "stdout",
     "output_type": "stream",
     "text": [
      "Submitted to device in 20.9599 s\n"
     ]
    },
    {
     "data": {
      "application/vnd.jupyter.widget-view+json": {
       "model_id": "9653d66f84dc4980a47757a85faa6fda",
       "version_major": 2,
       "version_minor": 0
      },
      "text/plain": [
       "Running batch:   0%|          | 0/1 [00:00<?, ?it/s]"
      ]
     },
     "metadata": {},
     "output_type": "display_data"
    },
    {
     "name": "stdout",
     "output_type": "stream",
     "text": [
      "Predicted in 1314.4252 s\n",
      "Iters. done: 19 Current cost: 0.08754606775123278 Accuracy: 0.032199878448779695 Time: 1335.4824681021273\n"
     ]
    },
    {
     "data": {
      "application/vnd.jupyter.widget-view+json": {
       "model_id": "646fbe14cd6d47fcb2d5581cf163a113",
       "version_major": 2,
       "version_minor": 0
      },
      "text/plain": [
       "Mappings: 0it [00:00, ?it/s]"
      ]
     },
     "metadata": {},
     "output_type": "display_data"
    },
    {
     "name": "stdout",
     "output_type": "stream",
     "text": [
      "Submitted to device in 20.3949 s\n"
     ]
    },
    {
     "data": {
      "application/vnd.jupyter.widget-view+json": {
       "model_id": "4db66053ca0547e7bedcc333d73711e5",
       "version_major": 2,
       "version_minor": 0
      },
      "text/plain": [
       "Running batch:   0%|          | 0/1 [00:00<?, ?it/s]"
      ]
     },
     "metadata": {},
     "output_type": "display_data"
    },
    {
     "name": "stdout",
     "output_type": "stream",
     "text": [
      "Predicted in 2181.0806 s\n",
      "Iters. done: 20 Current cost: 0.09605043294876056 Accuracy: -0.06181377497162144 Time: 2201.5676805116236\n"
     ]
    },
    {
     "data": {
      "application/vnd.jupyter.widget-view+json": {
       "model_id": "4092d299ea50499fba10c48611de4e1e",
       "version_major": 2,
       "version_minor": 0
      },
      "text/plain": [
       "Mappings: 0it [00:00, ?it/s]"
      ]
     },
     "metadata": {},
     "output_type": "display_data"
    },
    {
     "name": "stdout",
     "output_type": "stream",
     "text": [
      "Submitted to device in 19.9000 s\n"
     ]
    },
    {
     "data": {
      "application/vnd.jupyter.widget-view+json": {
       "model_id": "bb583648287742a29b31c63ef154b671",
       "version_major": 2,
       "version_minor": 0
      },
      "text/plain": [
       "Running batch:   0%|          | 0/1 [00:00<?, ?it/s]"
      ]
     },
     "metadata": {},
     "output_type": "display_data"
    },
    {
     "name": "stdout",
     "output_type": "stream",
     "text": [
      "Predicted in 2303.1925 s\n",
      "Iters. done: 21 Current cost: 0.09191749807642499 Accuracy: -0.016125202377185177 Time: 2323.196557752788\n"
     ]
    },
    {
     "data": {
      "application/vnd.jupyter.widget-view+json": {
       "model_id": "e553573c013d4401ac26dbf0b6f86fde",
       "version_major": 2,
       "version_minor": 0
      },
      "text/plain": [
       "Mappings: 0it [00:00, ?it/s]"
      ]
     },
     "metadata": {},
     "output_type": "display_data"
    },
    {
     "name": "stdout",
     "output_type": "stream",
     "text": [
      "Submitted to device in 21.6564 s\n"
     ]
    },
    {
     "data": {
      "application/vnd.jupyter.widget-view+json": {
       "model_id": "646c813bb26e4ae08cdb9df9b59b2e7b",
       "version_major": 2,
       "version_minor": 0
      },
      "text/plain": [
       "Running batch:   0%|          | 0/1 [00:00<?, ?it/s]"
      ]
     },
     "metadata": {},
     "output_type": "display_data"
    },
    {
     "name": "stdout",
     "output_type": "stream",
     "text": [
      "Predicted in 2599.3170 s\n",
      "Iters. done: 22 Current cost: 0.08727074166604032 Accuracy: 0.035243540209495716 Time: 2621.0721823759377\n"
     ]
    },
    {
     "data": {
      "application/vnd.jupyter.widget-view+json": {
       "model_id": "eb29a7ad4be5486784d1599ceb96a3e7",
       "version_major": 2,
       "version_minor": 0
      },
      "text/plain": [
       "Mappings: 0it [00:00, ?it/s]"
      ]
     },
     "metadata": {},
     "output_type": "display_data"
    },
    {
     "name": "stdout",
     "output_type": "stream",
     "text": [
      "Submitted to device in 19.3391 s\n"
     ]
    },
    {
     "data": {
      "application/vnd.jupyter.widget-view+json": {
       "model_id": "889433b8abde4c11bf69adf7debf8beb",
       "version_major": 2,
       "version_minor": 0
      },
      "text/plain": [
       "Running batch:   0%|          | 0/1 [00:00<?, ?it/s]"
      ]
     },
     "metadata": {},
     "output_type": "display_data"
    },
    {
     "name": "stdout",
     "output_type": "stream",
     "text": [
      "Predicted in 2386.4614 s\n",
      "Iters. done: 23 Current cost: 0.07807564855112704 Accuracy: 0.1368930198820142 Time: 2405.91761950776\n"
     ]
    },
    {
     "data": {
      "application/vnd.jupyter.widget-view+json": {
       "model_id": "97f57109b4f54e1f8c64aaa09b0bc6d8",
       "version_major": 2,
       "version_minor": 0
      },
      "text/plain": [
       "Mappings: 0it [00:00, ?it/s]"
      ]
     },
     "metadata": {},
     "output_type": "display_data"
    },
    {
     "name": "stdout",
     "output_type": "stream",
     "text": [
      "Submitted to device in 19.4575 s\n"
     ]
    },
    {
     "data": {
      "application/vnd.jupyter.widget-view+json": {
       "model_id": "4d320e43aafa4cafa6a818ffa77c8637",
       "version_major": 2,
       "version_minor": 0
      },
      "text/plain": [
       "Running batch:   0%|          | 0/1 [00:00<?, ?it/s]"
      ]
     },
     "metadata": {},
     "output_type": "display_data"
    },
    {
     "name": "stdout",
     "output_type": "stream",
     "text": [
      "Predicted in 2310.2712 s\n",
      "Iters. done: 24 Current cost: 0.08584451280349512 Accuracy: 0.05101014745967314 Time: 2329.8216467760503\n"
     ]
    },
    {
     "data": {
      "application/vnd.jupyter.widget-view+json": {
       "model_id": "71fbfa2faaea420480cdf6a07f79d2d7",
       "version_major": 2,
       "version_minor": 0
      },
      "text/plain": [
       "Mappings: 0it [00:00, ?it/s]"
      ]
     },
     "metadata": {},
     "output_type": "display_data"
    },
    {
     "name": "stdout",
     "output_type": "stream",
     "text": [
      "Submitted to device in 21.7471 s\n"
     ]
    },
    {
     "data": {
      "application/vnd.jupyter.widget-view+json": {
       "model_id": "8cfefc65f796470690bbe861a824c30c",
       "version_major": 2,
       "version_minor": 0
      },
      "text/plain": [
       "Running batch:   0%|          | 0/1 [00:00<?, ?it/s]"
      ]
     },
     "metadata": {},
     "output_type": "display_data"
    },
    {
     "name": "stdout",
     "output_type": "stream",
     "text": [
      "Predicted in 1202.8543 s\n",
      "Iters. done: 25 Current cost: 0.10339223646605053 Accuracy: -0.14297559661538517 Time: 1224.700702842325\n"
     ]
    },
    {
     "data": {
      "application/vnd.jupyter.widget-view+json": {
       "model_id": "343138a55d5348648ebdf4f6eb97448e",
       "version_major": 2,
       "version_minor": 0
      },
      "text/plain": [
       "Mappings: 0it [00:00, ?it/s]"
      ]
     },
     "metadata": {},
     "output_type": "display_data"
    },
    {
     "name": "stderr",
     "output_type": "stream",
     "text": [
      "/home/ubuntu/miniconda3/envs/qml/lib/python3.11/site-packages/qiskit_ibm_runtime/qiskit_runtime_service.py:874: UserWarning: The backend ibm_quebec currently has a status of internal.\n",
      "  warnings.warn(\n"
     ]
    },
    {
     "name": "stdout",
     "output_type": "stream",
     "text": [
      "Submitted to device in 18.3770 s\n"
     ]
    },
    {
     "data": {
      "application/vnd.jupyter.widget-view+json": {
       "model_id": "7dc37c6a60e94713bfc0c50048f9aba1",
       "version_major": 2,
       "version_minor": 0
      },
      "text/plain": [
       "Running batch:   0%|          | 0/1 [00:00<?, ?it/s]"
      ]
     },
     "metadata": {},
     "output_type": "display_data"
    },
    {
     "name": "stdout",
     "output_type": "stream",
     "text": [
      "Predicted in 2269.4037 s\n",
      "Iters. done: 26 Current cost: 0.08193067639112936 Accuracy: 0.09427664078045206 Time: 2287.875168237835\n"
     ]
    },
    {
     "data": {
      "application/vnd.jupyter.widget-view+json": {
       "model_id": "fc2064fd444f46e086feb9c1b984b501",
       "version_major": 2,
       "version_minor": 0
      },
      "text/plain": [
       "Mappings: 0it [00:00, ?it/s]"
      ]
     },
     "metadata": {},
     "output_type": "display_data"
    },
    {
     "name": "stdout",
     "output_type": "stream",
     "text": [
      "Submitted to device in 19.5448 s\n"
     ]
    },
    {
     "data": {
      "application/vnd.jupyter.widget-view+json": {
       "model_id": "52b0e76887414a5baeddc9376b02a9bb",
       "version_major": 2,
       "version_minor": 0
      },
      "text/plain": [
       "Running batch:   0%|          | 0/1 [00:00<?, ?it/s]"
      ]
     },
     "metadata": {},
     "output_type": "display_data"
    },
    {
     "name": "stdout",
     "output_type": "stream",
     "text": [
      "Predicted in 2179.3079 s\n",
      "Iters. done: 27 Current cost: 0.0897308730293318 Accuracy: 0.008047396583822253 Time: 2198.9550712555647\n"
     ]
    },
    {
     "data": {
      "application/vnd.jupyter.widget-view+json": {
       "model_id": "c7f77589cb7742ffaea7054f33138a30",
       "version_major": 2,
       "version_minor": 0
      },
      "text/plain": [
       "Mappings: 0it [00:00, ?it/s]"
      ]
     },
     "metadata": {},
     "output_type": "display_data"
    },
    {
     "name": "stdout",
     "output_type": "stream",
     "text": [
      "Submitted to device in 17.9700 s\n"
     ]
    },
    {
     "data": {
      "application/vnd.jupyter.widget-view+json": {
       "model_id": "93dcdb78228347f88ed566f217d35ea6",
       "version_major": 2,
       "version_minor": 0
      },
      "text/plain": [
       "Running batch:   0%|          | 0/1 [00:00<?, ?it/s]"
      ]
     },
     "metadata": {},
     "output_type": "display_data"
    }
   ],
   "source": [
    "model = QiskitRegressor(qc,\n",
    "                        num_qubits,\n",
    "                        AL,\n",
    "                        RUD,\n",
    "                        'real', #'fake',\n",
    "                        observables_labels,\n",
    "                        verbose=True,\n",
    "                        instance='pinq-quebec-hub/univ-toronto/default',\n",
    "                        iterations=275,\n",
    "                        n_jobs=n_jobs,\n",
    "                        parameterpath='./partial_state_model.bin')\n",
    "model.fit(X_train,y_train)\n",
    "\n"
   ]
  },
  {
   "cell_type": "code",
   "execution_count": null,
   "id": "489d671c-4615-453f-b3e1-097e927d4d7a",
   "metadata": {
    "papermill": {
     "duration": null,
     "end_time": null,
     "exception": null,
     "start_time": null,
     "status": "pending"
    },
    "tags": []
   },
   "outputs": [],
   "source": [
    "y_train_pred = model.predict(X_train,iters='trainpred')\n",
    "y_test_pred = model.predict(X_test,iters='testpred')"
   ]
  },
  {
   "cell_type": "code",
   "execution_count": null,
   "id": "d68df1a8-73c5-4301-a396-9156f33cbac6",
   "metadata": {
    "papermill": {
     "duration": null,
     "end_time": null,
     "exception": null,
     "start_time": null,
     "status": "pending"
    },
    "tags": []
   },
   "outputs": [],
   "source": [
    "unscaled_y_train = ddcc_scaler.inverse_transform(y_train)\n",
    "unscaled_y_train_pred = ddcc_scaler.inverse_transform(y_train_pred)\n",
    "\n",
    "unscaled_y_test = ddcc_scaler.inverse_transform(y_test)\n",
    "unscaled_y_test_pred = ddcc_scaler.inverse_transform(y_test_pred)"
   ]
  },
  {
   "cell_type": "code",
   "execution_count": null,
   "id": "205f1048-e4b9-43f2-907c-daa71789f478",
   "metadata": {
    "papermill": {
     "duration": null,
     "end_time": null,
     "exception": null,
     "start_time": null,
     "status": "pending"
    },
    "tags": []
   },
   "outputs": [],
   "source": [
    "plt.scatter(y_train.flatten(),y_train_pred.flatten(),label=\"R$^{2}$=\"+f\"{r2_score(y_train.flatten(),y_train_pred.flatten()):.2f}\")\n",
    "plt.plot(y_train.flatten(),y_train.flatten(),'k--')\n",
    "plt.scatter(y_test.flatten(),y_test_pred.flatten(),label=\"R$^{2}$=\"+f\"{r2_score(y_test.flatten(),y_test_pred.flatten()):.2f}\")\n",
    "plt.legend()\n",
    "plt.show()"
   ]
  },
  {
   "cell_type": "code",
   "execution_count": null,
   "id": "ef22e994-a28a-4adb-8260-2422d928d519",
   "metadata": {
    "papermill": {
     "duration": null,
     "end_time": null,
     "exception": null,
     "start_time": null,
     "status": "pending"
    },
    "tags": []
   },
   "outputs": [],
   "source": [
    "plt.scatter(unscaled_y_train.flatten(),unscaled_y_train_pred.flatten(),label=\"R$^{2}$=\"+f\"{r2_score(unscaled_y_train.flatten(),unscaled_y_train_pred.flatten()):.2f}\")\n",
    "\n",
    "plt.plot(unscaled_y_train.flatten(),unscaled_y_train.flatten(),'k--')\n",
    "plt.scatter(unscaled_y_test.flatten(),unscaled_y_test_pred.flatten(),label=\"R$^{2}$=\"+f\"{r2_score(unscaled_y_test.flatten(),unscaled_y_test_pred.flatten()):.2f}\")\n",
    "plt.legend()\n",
    "plt.show()"
   ]
  },
  {
   "cell_type": "code",
   "execution_count": null,
   "id": "5b3f19fe-3b13-4512-acb1-af73b63581a4",
   "metadata": {
    "papermill": {
     "duration": null,
     "end_time": null,
     "exception": null,
     "start_time": null,
     "status": "pending"
    },
    "tags": []
   },
   "outputs": [],
   "source": [
    "# Goal, error handling: RuntimeJobFailureError: 'Unable to retrieve job result. Job estimator_cv61fk0tqh9s73cvpdeg_f0fa_4 cancelled due to compilation timeout 8100000000000.'\n"
   ]
  }
 ],
 "metadata": {
  "kernelspec": {
   "display_name": "Python 3 (ipykernel)",
   "language": "python",
   "name": "python3"
  },
  "language_info": {
   "codemirror_mode": {
    "name": "ipython",
    "version": 3
   },
   "file_extension": ".py",
   "mimetype": "text/x-python",
   "name": "python",
   "nbconvert_exporter": "python",
   "pygments_lexer": "ipython3",
   "version": "3.11.11"
  },
  "papermill": {
   "default_parameters": {},
   "duration": null,
   "end_time": null,
   "environment_variables": {},
   "exception": null,
   "input_path": "class_ML_batched.ipynb",
   "output_path": "ran_class_ML_batched.ipynb",
   "parameters": {},
   "start_time": "2025-03-23T22:50:33.618112",
   "version": "2.6.0"
  }
 },
 "nbformat": 4,
 "nbformat_minor": 5
}