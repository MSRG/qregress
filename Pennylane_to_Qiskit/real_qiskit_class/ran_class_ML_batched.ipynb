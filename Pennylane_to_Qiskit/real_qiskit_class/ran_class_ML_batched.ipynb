{
 "cells": [
  {
   "cell_type": "code",
   "execution_count": 1,
   "id": "dc8f5c2c-b710-429b-9f46-14c842ed6478",
   "metadata": {
    "editable": true,
    "execution": {
     "iopub.execute_input": "2025-03-25T13:52:02.346704Z",
     "iopub.status.busy": "2025-03-25T13:52:02.346448Z",
     "iopub.status.idle": "2025-03-25T13:52:04.352657Z",
     "shell.execute_reply": "2025-03-25T13:52:04.351985Z"
    },
    "papermill": {
     "duration": 2.016238,
     "end_time": "2025-03-25T13:52:04.354228",
     "exception": false,
     "start_time": "2025-03-25T13:52:02.337990",
     "status": "completed"
    },
    "slideshow": {
     "slide_type": ""
    },
    "tags": []
   },
   "outputs": [],
   "source": [
    "import os\n",
    "n_jobs = 64\n",
    "os.environ[\"OMP_NUM_THREADS\"] = str(n_jobs)\n",
    "import joblib\n",
    "import click\n",
    "import json\n",
    "import time\n",
    "\n",
    "import itertools\n",
    "import collections.abc\n",
    "import sys\n",
    "from tqdm.notebook import tqdm\n",
    "# !{sys.executable} -m pip install qcircuit\n",
    "\n",
    "import matplotlib.pyplot as plt\n",
    "import numpy as np\n",
    "import pandas as pd\n",
    "import pennylane as qml\n",
    "from sklearn.metrics import mean_squared_error, r2_score, mean_absolute_error\n",
    "\n",
    "# Qiskit\n",
    "from qiskit import QuantumCircuit\n",
    "from qiskit.quantum_info import Pauli, SparsePauliOp, Operator\n",
    "from qiskit.primitives import StatevectorEstimator\n",
    "from qiskit.circuit import Parameter, ParameterVector\n",
    "from qiskit.transpiler.preset_passmanagers import generate_preset_pass_manager\n",
    "from qiskit.quantum_info import SparsePauliOp\n",
    "from qiskit_ibm_runtime import EstimatorV2 as Estimator\n",
    "from qiskit_ibm_runtime import QiskitRuntimeService\n",
    "from qiskit_aer import AerSimulator\n",
    "from qiskit_aer.noise import NoiseModel\n",
    "from qiskit_ibm_runtime.fake_provider import FakeQuebec\n",
    "from qiskit_ibm_runtime import Batch\n",
    "from qiskit_ibm_runtime import exceptions\n",
    "# from qiskit_machine_learning.optimizers import SPSA, Minimizer\n",
    "\n",
    "\n",
    "from joblib import dump, load\n",
    "from QiskitRegressor import QiskitRegressor"
   ]
  },
  {
   "cell_type": "code",
   "execution_count": 2,
   "id": "9e8cd7b1-46c5-4d8e-966b-87a99489ddac",
   "metadata": {
    "editable": true,
    "execution": {
     "iopub.execute_input": "2025-03-25T13:52:04.360326Z",
     "iopub.status.busy": "2025-03-25T13:52:04.359621Z",
     "iopub.status.idle": "2025-03-25T13:52:04.366945Z",
     "shell.execute_reply": "2025-03-25T13:52:04.366426Z"
    },
    "papermill": {
     "duration": 0.010893,
     "end_time": "2025-03-25T13:52:04.367736",
     "exception": false,
     "start_time": "2025-03-25T13:52:04.356843",
     "status": "completed"
    },
    "slideshow": {
     "slide_type": ""
    },
    "tags": []
   },
   "outputs": [],
   "source": [
    "def mitarai(quantumcircuit,num_wires,paramname='x'):\n",
    "    # encoding as proposed by Mitarai et al.\n",
    "    num_features = num_wires\n",
    "    features = ParameterVector(paramname,num_features*2)\n",
    "    for i in range(num_wires):\n",
    "        feature_idx = i % num_features  # Calculate the feature index using modulo\n",
    "        quantumcircuit.ry(np.arcsin(features[feature_idx * 2]), i)\n",
    "        quantumcircuit.rz(np.arccos(features[feature_idx * 2 + 1] ** 2), i)\n",
    "\n",
    "\n",
    "def double_angle(quantumcircuit, num_wires,paramname='x'):\n",
    "    #  creates a circuit that encodes features into wires via angle encoding with an RY then RZ gate\n",
    "    #  the features are encoded 1-1 onto the qubits\n",
    "    #  if more wires are passed then features the remaining wires will be filled from the beginning of the feature list\n",
    "    num_features = num_wires\n",
    "    features = ParameterVector(paramname,num_features*2)\n",
    "    for i in range(num_wires):\n",
    "        feature_index = i % num_features\n",
    "        quantumcircuit.ry(features[feature_index], i)\n",
    "        quantumcircuit.rz(features[feature_index], i)\n",
    "\n",
    "def entangle_cnot(quantumcircuit,num_wires):\n",
    "    #  entangles all of the wires in a circular fashion using cnot gates\n",
    "    for i in range(num_wires):\n",
    "        \n",
    "        if i == num_wires - 1:\n",
    "            quantumcircuit.cx(i, 0)\n",
    "        else:\n",
    "            quantumcircuit.cx(i, i+1)\n",
    "\n",
    "\n",
    "def entangle_cz(quantumcircuit,num_wires):\n",
    "    #  entangles all of the wires in a circular fashion using cz gates\n",
    "    for i in range(num_wires):\n",
    "        \n",
    "        if i == num_wires - 1:\n",
    "            quantumcircuit.cz(i, 0)\n",
    "        else:\n",
    "            quantumcircuit.cz(i, i+1)\n",
    "\n",
    "\n",
    "def HardwareEfficient(quantumcircuit,num_wires,paramname='theta'):\n",
    "    parameters = ParameterVector(paramname,num_wires*3)\n",
    "    for qubit in range(num_wires):\n",
    "        quantumcircuit.rx(parameters[qubit * 3], qubit)  \n",
    "        quantumcircuit.rz(parameters[qubit * 3 + 1], qubit)  \n",
    "        quantumcircuit.rx(parameters[qubit * 3 + 2], qubit)  \n",
    "    entangle_cnot(quantumcircuit,num_wires)\n",
    "\n"
   ]
  },
  {
   "cell_type": "code",
   "execution_count": 3,
   "id": "98051576-89f8-4a1d-980e-3708e2089ad6",
   "metadata": {
    "execution": {
     "iopub.execute_input": "2025-03-25T13:52:04.372074Z",
     "iopub.status.busy": "2025-03-25T13:52:04.371917Z",
     "iopub.status.idle": "2025-03-25T13:52:04.375166Z",
     "shell.execute_reply": "2025-03-25T13:52:04.374756Z"
    },
    "papermill": {
     "duration": 0.006358,
     "end_time": "2025-03-25T13:52:04.375892",
     "exception": false,
     "start_time": "2025-03-25T13:52:04.369534",
     "status": "completed"
    },
    "tags": []
   },
   "outputs": [],
   "source": [
    "# def circuit(nqubits):\n",
    "#     qc = QuantumCircuit(nqubits)\n",
    "#     mitarai(qc,nqubits)\n",
    "#     entangle_cz(qc,nqubits)\n",
    "#     qc.barrier()\n",
    "#     mitarai(qc,nqubits,paramname='x1')\n",
    "#     entangle_cz(qc,nqubits)\n",
    "#     qc.barrier()\n",
    "#     HardwareEfficient(qc,nqubits)\n",
    "#     qc.barrier()\n",
    "#     return qc\n",
    "\n",
    "\n",
    "def circuit(nqubits,RUD=1,AL=1):\n",
    "    qc = QuantumCircuit(nqubits)\n",
    "    for i in range(RUD):\n",
    "        double_angle(qc,nqubits,paramname=f'x{i}')\n",
    "        qc.barrier()\n",
    "        for j in range(AL):        \n",
    "            HardwareEfficient(qc,nqubits,paramname=f'theta{i}_{j}')\n",
    "            qc.barrier()\n",
    "    return qc"
   ]
  },
  {
   "cell_type": "code",
   "execution_count": 4,
   "id": "11cb5805-20c7-493a-b96c-8eac41dcc1d7",
   "metadata": {
    "execution": {
     "iopub.execute_input": "2025-03-25T13:52:04.380240Z",
     "iopub.status.busy": "2025-03-25T13:52:04.380092Z",
     "iopub.status.idle": "2025-03-25T13:52:04.387068Z",
     "shell.execute_reply": "2025-03-25T13:52:04.386630Z"
    },
    "papermill": {
     "duration": 0.010015,
     "end_time": "2025-03-25T13:52:04.387713",
     "exception": false,
     "start_time": "2025-03-25T13:52:04.377698",
     "status": "completed"
    },
    "tags": []
   },
   "outputs": [
    {
     "name": "stdout",
     "output_type": "stream",
     "text": [
      "(4, 64) (4, 64)\n"
     ]
    },
    {
     "name": "stderr",
     "output_type": "stream",
     "text": [
      "/home/ubuntu/miniconda3/envs/qml/lib/python3.11/site-packages/sklearn/base.py:380: InconsistentVersionWarning: Trying to unpickle estimator MinMaxScaler from version 1.5.1 when using version 1.6.0. This might lead to breaking code or invalid results. Use at your own risk. For more info please refer to:\n",
      "https://scikit-learn.org/stable/model_persistence.html#security-maintainability-limitations\n",
      "  warnings.warn(\n"
     ]
    }
   ],
   "source": [
    "\n",
    "top=os.getcwd()\n",
    "with open(os.path.join(top,'5_DDCC_train.bin'),'rb') as f:\n",
    "    ddcc_train = joblib.load(f)\n",
    "\n",
    "with open(os.path.join(top,'5_DDCC_test.bin'),'rb') as f:\n",
    "    ddcc_test = joblib.load(f)\n",
    "\n",
    "with open(os.path.join(top,'5_DDCC_scaler.bin'),'rb') as f:\n",
    "    ddcc_scaler = joblib.load(f)\n",
    "\n",
    "X_ddcc_train, y_ddcc_train = ddcc_train['X'],ddcc_train['y']\n",
    "X_ddcc_test, y_ddcc_test = ddcc_test['X'],ddcc_test['y']\n",
    "\n",
    "X_ddcc_train = X_ddcc_train.reshape(-1,64,5)[0:4]\n",
    "X_ddcc_test = X_ddcc_test.reshape(-1,64,5)[0:4]\n",
    "y_ddcc_train = y_ddcc_train.reshape(-1,64)[0:4]\n",
    "y_ddcc_test = y_ddcc_test.reshape(-1,64)[0:4]\n",
    "\n",
    "\n",
    "# X_train, y_train = X_ddcc_train, y_ddcc_train\n",
    "# X_test, y_test = X_ddcc_test, y_ddcc_test\n",
    "X_train, y_train = X_ddcc_train, y_ddcc_train\n",
    "X_test, y_test = X_ddcc_test, y_ddcc_test\n",
    "\n",
    "# X_train = [X_train[i:i+4] for i in range(0,len(X_train),4)]\n",
    "# X_test = [X_test[i:i+4] for i in range(0,len(X_test),4)]\n",
    "scaler = ddcc_scaler\n",
    "\n",
    "# print(len(X_train),X_train[0].shape,X_train[-1].shape)\n",
    "print(y_train.shape, y_test.shape)"
   ]
  },
  {
   "cell_type": "code",
   "execution_count": 5,
   "id": "0172f0c5-8225-47b8-91e3-8e113113d13e",
   "metadata": {
    "editable": true,
    "execution": {
     "iopub.execute_input": "2025-03-25T13:52:04.392289Z",
     "iopub.status.busy": "2025-03-25T13:52:04.392144Z",
     "iopub.status.idle": "2025-03-25T13:52:04.394440Z",
     "shell.execute_reply": "2025-03-25T13:52:04.394031Z"
    },
    "papermill": {
     "duration": 0.005494,
     "end_time": "2025-03-25T13:52:04.395142",
     "exception": false,
     "start_time": "2025-03-25T13:52:04.389648",
     "status": "completed"
    },
    "slideshow": {
     "slide_type": ""
    },
    "tags": []
   },
   "outputs": [],
   "source": [
    "num_qubits = 5\n",
    "RUD = 1\n",
    "AL = 5"
   ]
  },
  {
   "cell_type": "code",
   "execution_count": 6,
   "id": "fcdd8b11-a018-4461-9461-cf12e6026e13",
   "metadata": {
    "editable": true,
    "execution": {
     "iopub.execute_input": "2025-03-25T13:52:04.399712Z",
     "iopub.status.busy": "2025-03-25T13:52:04.399571Z",
     "iopub.status.idle": "2025-03-25T13:52:04.401856Z",
     "shell.execute_reply": "2025-03-25T13:52:04.401455Z"
    },
    "papermill": {
     "duration": 0.005604,
     "end_time": "2025-03-25T13:52:04.402665",
     "exception": false,
     "start_time": "2025-03-25T13:52:04.397061",
     "status": "completed"
    },
    "slideshow": {
     "slide_type": ""
    },
    "tags": [
     "parameters"
    ]
   },
   "outputs": [],
   "source": [
    "optimization_level = 2\n",
    "shots = 3072\n",
    "# shots = 1024.0 * 1\n",
    "resilience_level = 1"
   ]
  },
  {
   "cell_type": "code",
   "execution_count": 7,
   "id": "0dd61067-2a66-4c32-bff7-34a6678cea46",
   "metadata": {
    "editable": true,
    "execution": {
     "iopub.execute_input": "2025-03-25T13:52:04.407348Z",
     "iopub.status.busy": "2025-03-25T13:52:04.407205Z",
     "iopub.status.idle": "2025-03-25T13:52:04.409601Z",
     "shell.execute_reply": "2025-03-25T13:52:04.409201Z"
    },
    "papermill": {
     "duration": 0.00565,
     "end_time": "2025-03-25T13:52:04.410336",
     "exception": false,
     "start_time": "2025-03-25T13:52:04.404686",
     "status": "completed"
    },
    "slideshow": {
     "slide_type": ""
    },
    "tags": []
   },
   "outputs": [],
   "source": [
    "optimization_level = int(optimization_level)\n",
    "shots = int(shots)\n",
    "# shots = 1024.0 * 1\n",
    "resilience_level = int(resilience_level)"
   ]
  },
  {
   "cell_type": "code",
   "execution_count": 8,
   "id": "9f37a160-f338-4f3d-9b17-c1c695681785",
   "metadata": {
    "execution": {
     "iopub.execute_input": "2025-03-25T13:52:04.414938Z",
     "iopub.status.busy": "2025-03-25T13:52:04.414799Z",
     "iopub.status.idle": "2025-03-25T13:52:04.419685Z",
     "shell.execute_reply": "2025-03-25T13:52:04.419169Z"
    },
    "papermill": {
     "duration": 0.008088,
     "end_time": "2025-03-25T13:52:04.420381",
     "exception": false,
     "start_time": "2025-03-25T13:52:04.412293",
     "status": "completed"
    },
    "tags": []
   },
   "outputs": [],
   "source": [
    "# \n",
    "qc = circuit(num_qubits,RUD,AL)\n",
    "\n",
    "observables_labels = ''.join(['I']*(num_qubits-1))+\"Z\""
   ]
  },
  {
   "cell_type": "code",
   "execution_count": null,
   "id": "88886f6a-d6b3-42da-8f53-359cebe5938e",
   "metadata": {
    "papermill": {
     "duration": 0.001946,
     "end_time": "2025-03-25T13:52:04.424401",
     "exception": false,
     "start_time": "2025-03-25T13:52:04.422455",
     "status": "completed"
    },
    "tags": []
   },
   "outputs": [],
   "source": []
  },
  {
   "cell_type": "code",
   "execution_count": 9,
   "id": "d4755fc2-654e-4b9a-9cb9-0f8d050b1dd3",
   "metadata": {
    "execution": {
     "iopub.execute_input": "2025-03-25T13:52:04.429051Z",
     "iopub.status.busy": "2025-03-25T13:52:04.428897Z"
    },
    "papermill": {
     "duration": null,
     "end_time": null,
     "exception": false,
     "start_time": "2025-03-25T13:52:04.426310",
     "status": "running"
    },
    "tags": []
   },
   "outputs": [
    {
     "name": "stdout",
     "output_type": "stream",
     "text": [
      "./final_state_model.bin\n",
      "Parameters loaded\n",
      "[ 0.18581422  4.54136376 -0.86834936  2.10198498  2.13353109 -1.47953219\n",
      "  5.70923086  1.89297534  1.73212033  2.55443264  2.59104134  2.52022864\n",
      "  0.38168398  0.32477502  2.85989656  4.18132144 -0.98782558 -0.5864422\n",
      " -0.54949665  1.03580059  2.70546955  4.61339003 -1.31547951 -0.53687579\n",
      " -3.06815774 -2.51528718  3.15758226  2.77752075  0.4634469  -3.08420287\n",
      "  1.44791568  0.83602435 -2.49569002  1.81952458  0.59143349 -0.77241008\n",
      "  0.83997146 -1.90378826  0.63576209  2.73255516 -0.65232883  0.15992688\n",
      "  2.41718995  0.30289708  2.38497528  3.17642154  3.72012615 -2.97182762\n",
      " -0.92121018 -0.42687207  1.22063022  2.71045572 -0.39849871 -2.47067748\n",
      "  2.49770028 -3.14488658  1.70034156 -0.78515093 -1.87606643  2.83050591\n",
      " -2.40989626 -0.50481813 -2.72273549  2.92580386 -2.65322482  1.61926514\n",
      "  1.61050746  2.57082015  2.06836737  2.6811802   1.08195588  1.3441815\n",
      " -2.16548752 -2.78691961  1.21964076]\n"
     ]
    },
    {
     "name": "stdout",
     "output_type": "stream",
     "text": [
      "[SparsePauliOp(['IIIIIIIIIIIIIIIIIIIIIIIIIIIIIIIIIIIIIIIIIIIIIIIIIIIIIIIIIIIIIIIIIIIIIIIIIIIIIIIIIZIIIIIIIIIIIIIIIIIIIIIIIIIIIIIIIIIIIIIIIIIIIII'],\n",
      "              coeffs=[1.+0.j])]\n",
      "<IBMBackend('ibm_quebec')>\n"
     ]
    },
    {
     "data": {
      "application/vnd.jupyter.widget-view+json": {
       "model_id": "8f7e16cb6ab2419daacb4ad3c79d7840",
       "version_major": 2,
       "version_minor": 0
      },
      "text/plain": [
       "Mappings: 0it [00:00, ?it/s]"
      ]
     },
     "metadata": {},
     "output_type": "display_data"
    },
    {
     "name": "stdout",
     "output_type": "stream",
     "text": [
      "Submitted to device in 28.8440 s\n"
     ]
    },
    {
     "data": {
      "application/vnd.jupyter.widget-view+json": {
       "model_id": "42c9223e2cf841178a039d174626331c",
       "version_major": 2,
       "version_minor": 0
      },
      "text/plain": [
       "Running batch:   0%|          | 0/1 [00:00<?, ?it/s]"
      ]
     },
     "metadata": {},
     "output_type": "display_data"
    },
    {
     "name": "stdout",
     "output_type": "stream",
     "text": [
      "Predicted in 163.7633 s\n",
      "Iters. done: 1 Current cost: 0.09486369985166204 Accuracy: -0.04869473416119474 Time: 192.6821673437953\n"
     ]
    },
    {
     "data": {
      "application/vnd.jupyter.widget-view+json": {
       "model_id": "7aa21e2d410a4e09af944f97fcf5db15",
       "version_major": 2,
       "version_minor": 0
      },
      "text/plain": [
       "Mappings: 0it [00:00, ?it/s]"
      ]
     },
     "metadata": {},
     "output_type": "display_data"
    },
    {
     "name": "stdout",
     "output_type": "stream",
     "text": [
      "Submitted to device in 21.3824 s\n"
     ]
    },
    {
     "data": {
      "application/vnd.jupyter.widget-view+json": {
       "model_id": "d39e0585a3f34419b52e0cf0ce24ab39",
       "version_major": 2,
       "version_minor": 0
      },
      "text/plain": [
       "Running batch:   0%|          | 0/1 [00:00<?, ?it/s]"
      ]
     },
     "metadata": {},
     "output_type": "display_data"
    },
    {
     "name": "stdout",
     "output_type": "stream",
     "text": [
      "Predicted in 1034.4142 s\n",
      "Iters. done: 2 Current cost: 0.09591736146094751 Accuracy: -0.06034270259351726 Time: 1055.9070926457644\n"
     ]
    },
    {
     "data": {
      "application/vnd.jupyter.widget-view+json": {
       "model_id": "83de20c2972c41139a29aca5e0cd7ef2",
       "version_major": 2,
       "version_minor": 0
      },
      "text/plain": [
       "Mappings: 0it [00:00, ?it/s]"
      ]
     },
     "metadata": {},
     "output_type": "display_data"
    },
    {
     "name": "stdout",
     "output_type": "stream",
     "text": [
      "Submitted to device in 21.4405 s\n"
     ]
    },
    {
     "data": {
      "application/vnd.jupyter.widget-view+json": {
       "model_id": "40f912abac874b3983a69ce02d75bafa",
       "version_major": 2,
       "version_minor": 0
      },
      "text/plain": [
       "Running batch:   0%|          | 0/1 [00:00<?, ?it/s]"
      ]
     },
     "metadata": {},
     "output_type": "display_data"
    },
    {
     "name": "stdout",
     "output_type": "stream",
     "text": [
      "Predicted in 1016.5613 s\n",
      "Iters. done: 3 Current cost: 0.09593967548452675 Accuracy: -0.0605893786040681 Time: 1038.1008538529277\n"
     ]
    },
    {
     "data": {
      "application/vnd.jupyter.widget-view+json": {
       "model_id": "d7208536057b445787bee0e525d8358b",
       "version_major": 2,
       "version_minor": 0
      },
      "text/plain": [
       "Mappings: 0it [00:00, ?it/s]"
      ]
     },
     "metadata": {},
     "output_type": "display_data"
    },
    {
     "name": "stdout",
     "output_type": "stream",
     "text": [
      "Submitted to device in 19.8383 s\n"
     ]
    },
    {
     "data": {
      "application/vnd.jupyter.widget-view+json": {
       "model_id": "2c12652839ca4ffaae35f71663033b70",
       "version_major": 2,
       "version_minor": 0
      },
      "text/plain": [
       "Running batch:   0%|          | 0/1 [00:00<?, ?it/s]"
      ]
     },
     "metadata": {},
     "output_type": "display_data"
    },
    {
     "name": "stdout",
     "output_type": "stream",
     "text": [
      "Predicted in 122.0016 s\n",
      "Iters. done: 4 Current cost: 0.09033749805741015 Accuracy: 0.0013413069673418043 Time: 141.93130400031805\n"
     ]
    },
    {
     "data": {
      "application/vnd.jupyter.widget-view+json": {
       "model_id": "b43f4e54da884c29b414db64ae51ef47",
       "version_major": 2,
       "version_minor": 0
      },
      "text/plain": [
       "Mappings: 0it [00:00, ?it/s]"
      ]
     },
     "metadata": {},
     "output_type": "display_data"
    },
    {
     "name": "stdout",
     "output_type": "stream",
     "text": [
      "Submitted to device in 20.9401 s\n"
     ]
    },
    {
     "data": {
      "application/vnd.jupyter.widget-view+json": {
       "model_id": "2cb05c7c3b6d4c4f91277596a767caff",
       "version_major": 2,
       "version_minor": 0
      },
      "text/plain": [
       "Running batch:   0%|          | 0/1 [00:00<?, ?it/s]"
      ]
     },
     "metadata": {},
     "output_type": "display_data"
    },
    {
     "name": "stdout",
     "output_type": "stream",
     "text": [
      "Predicted in 115.8243 s\n",
      "Iters. done: 5 Current cost: 0.11309399497089496 Accuracy: -0.2502261368330161 Time: 136.86195514723659\n"
     ]
    },
    {
     "data": {
      "application/vnd.jupyter.widget-view+json": {
       "model_id": "1f66590729a1444e9c2970a9d99f7bf6",
       "version_major": 2,
       "version_minor": 0
      },
      "text/plain": [
       "Mappings: 0it [00:00, ?it/s]"
      ]
     },
     "metadata": {},
     "output_type": "display_data"
    },
    {
     "name": "stdout",
     "output_type": "stream",
     "text": [
      "Submitted to device in 20.1607 s\n"
     ]
    },
    {
     "data": {
      "application/vnd.jupyter.widget-view+json": {
       "model_id": "a2e42414447a4bdd9b9db3de620024c3",
       "version_major": 2,
       "version_minor": 0
      },
      "text/plain": [
       "Running batch:   0%|          | 0/1 [00:00<?, ?it/s]"
      ]
     },
     "metadata": {},
     "output_type": "display_data"
    },
    {
     "name": "stdout",
     "output_type": "stream",
     "text": [
      "Predicted in 1971.6116 s\n",
      "Iters. done: 6 Current cost: 0.09725069901692807 Accuracy: -0.0750824194293842 Time: 1991.871338903904\n"
     ]
    },
    {
     "data": {
      "application/vnd.jupyter.widget-view+json": {
       "model_id": "75cab7a1324f446ea41f24552ad34e81",
       "version_major": 2,
       "version_minor": 0
      },
      "text/plain": [
       "Mappings: 0it [00:00, ?it/s]"
      ]
     },
     "metadata": {},
     "output_type": "display_data"
    },
    {
     "name": "stdout",
     "output_type": "stream",
     "text": [
      "Submitted to device in 21.3634 s\n"
     ]
    },
    {
     "data": {
      "application/vnd.jupyter.widget-view+json": {
       "model_id": "93fc4bc7ef524857bd60cb70cb971b61",
       "version_major": 2,
       "version_minor": 0
      },
      "text/plain": [
       "Running batch:   0%|          | 0/1 [00:00<?, ?it/s]"
      ]
     },
     "metadata": {},
     "output_type": "display_data"
    },
    {
     "name": "stdout",
     "output_type": "stream",
     "text": [
      "Predicted in 116.4864 s\n",
      "Iters. done: 7 Current cost: 0.0817768049343357 Accuracy: 0.095977651670071 Time: 137.95160010829568\n"
     ]
    },
    {
     "data": {
      "application/vnd.jupyter.widget-view+json": {
       "model_id": "1f414ff718484e8a9a13b676ac4cda41",
       "version_major": 2,
       "version_minor": 0
      },
      "text/plain": [
       "Mappings: 0it [00:00, ?it/s]"
      ]
     },
     "metadata": {},
     "output_type": "display_data"
    },
    {
     "name": "stdout",
     "output_type": "stream",
     "text": [
      "Submitted to device in 20.6545 s\n"
     ]
    },
    {
     "data": {
      "application/vnd.jupyter.widget-view+json": {
       "model_id": "30e0ec71d0974eed8fdef3c0cc8eb7d0",
       "version_major": 2,
       "version_minor": 0
      },
      "text/plain": [
       "Running batch:   0%|          | 0/1 [00:00<?, ?it/s]"
      ]
     },
     "metadata": {},
     "output_type": "display_data"
    },
    {
     "name": "stdout",
     "output_type": "stream",
     "text": [
      "Predicted in 116.8309 s\n",
      "Iters. done: 8 Current cost: 0.08623905015730712 Accuracy: 0.04664863461524971 Time: 137.57055366039276\n"
     ]
    },
    {
     "data": {
      "application/vnd.jupyter.widget-view+json": {
       "model_id": "e4450d969b9c4146acf984a4c58a5458",
       "version_major": 2,
       "version_minor": 0
      },
      "text/plain": [
       "Mappings: 0it [00:00, ?it/s]"
      ]
     },
     "metadata": {},
     "output_type": "display_data"
    },
    {
     "name": "stdout",
     "output_type": "stream",
     "text": [
      "Submitted to device in 18.8211 s\n"
     ]
    },
    {
     "data": {
      "application/vnd.jupyter.widget-view+json": {
       "model_id": "3c3c2247c6754dc09d57506c3d18ed90",
       "version_major": 2,
       "version_minor": 0
      },
      "text/plain": [
       "Running batch:   0%|          | 0/1 [00:00<?, ?it/s]"
      ]
     },
     "metadata": {},
     "output_type": "display_data"
    },
    {
     "name": "stdout",
     "output_type": "stream",
     "text": [
      "Predicted in 115.9602 s\n",
      "Iters. done: 9 Current cost: 0.08351777284117412 Accuracy: 0.07673168214642812 Time: 134.87873366475105\n"
     ]
    },
    {
     "data": {
      "application/vnd.jupyter.widget-view+json": {
       "model_id": "1607ac150bba41d184eb21c5b13de050",
       "version_major": 2,
       "version_minor": 0
      },
      "text/plain": [
       "Mappings: 0it [00:00, ?it/s]"
      ]
     },
     "metadata": {},
     "output_type": "display_data"
    },
    {
     "name": "stdout",
     "output_type": "stream",
     "text": [
      "Submitted to device in 22.0962 s\n"
     ]
    },
    {
     "data": {
      "application/vnd.jupyter.widget-view+json": {
       "model_id": "455f7ad68dc44fd2830dcf9d4df3a714",
       "version_major": 2,
       "version_minor": 0
      },
      "text/plain": [
       "Running batch:   0%|          | 0/1 [00:00<?, ?it/s]"
      ]
     },
     "metadata": {},
     "output_type": "display_data"
    },
    {
     "name": "stdout",
     "output_type": "stream",
     "text": [
      "Predicted in 181.2794 s\n",
      "Iters. done: 10 Current cost: 0.08927180083247216 Accuracy: 0.01312232615329223 Time: 203.4659220688045\n"
     ]
    },
    {
     "data": {
      "application/vnd.jupyter.widget-view+json": {
       "model_id": "da70259484f046e39440790246a77c75",
       "version_major": 2,
       "version_minor": 0
      },
      "text/plain": [
       "Mappings: 0it [00:00, ?it/s]"
      ]
     },
     "metadata": {},
     "output_type": "display_data"
    },
    {
     "name": "stdout",
     "output_type": "stream",
     "text": [
      "Submitted to device in 18.8101 s\n"
     ]
    },
    {
     "data": {
      "application/vnd.jupyter.widget-view+json": {
       "model_id": "e4b68894d32a4112bed83caec5d7333b",
       "version_major": 2,
       "version_minor": 0
      },
      "text/plain": [
       "Running batch:   0%|          | 0/1 [00:00<?, ?it/s]"
      ]
     },
     "metadata": {},
     "output_type": "display_data"
    },
    {
     "name": "stdout",
     "output_type": "stream",
     "text": [
      "Predicted in 1189.8843 s\n",
      "Iters. done: 11 Current cost: 0.09048465031835834 Accuracy: -0.000285424874422624 Time: 1208.779056366533\n"
     ]
    },
    {
     "data": {
      "application/vnd.jupyter.widget-view+json": {
       "model_id": "b5d7f61e30254f06ac7b253c4a648054",
       "version_major": 2,
       "version_minor": 0
      },
      "text/plain": [
       "Mappings: 0it [00:00, ?it/s]"
      ]
     },
     "metadata": {},
     "output_type": "display_data"
    },
    {
     "name": "stdout",
     "output_type": "stream",
     "text": [
      "Submitted to device in 21.5620 s\n"
     ]
    },
    {
     "data": {
      "application/vnd.jupyter.widget-view+json": {
       "model_id": "d81c7d9eab0e4823bd984749ce65ece4",
       "version_major": 2,
       "version_minor": 0
      },
      "text/plain": [
       "Running batch:   0%|          | 0/1 [00:00<?, ?it/s]"
      ]
     },
     "metadata": {},
     "output_type": "display_data"
    },
    {
     "name": "stdout",
     "output_type": "stream",
     "text": [
      "Predicted in 2126.6849 s\n",
      "Iters. done: 12 Current cost: 0.09080743658109554 Accuracy: -0.0038537471570385673 Time: 2148.339100342244\n"
     ]
    },
    {
     "data": {
      "application/vnd.jupyter.widget-view+json": {
       "model_id": "3e54fc200f4547f7b3b9b22e2e026bb5",
       "version_major": 2,
       "version_minor": 0
      },
      "text/plain": [
       "Mappings: 0it [00:00, ?it/s]"
      ]
     },
     "metadata": {},
     "output_type": "display_data"
    },
    {
     "name": "stdout",
     "output_type": "stream",
     "text": [
      "Submitted to device in 21.4794 s\n"
     ]
    },
    {
     "data": {
      "application/vnd.jupyter.widget-view+json": {
       "model_id": "9003bcfcc5bb457f8b18587ccc67c8b9",
       "version_major": 2,
       "version_minor": 0
      },
      "text/plain": [
       "Running batch:   0%|          | 0/1 [00:00<?, ?it/s]"
      ]
     },
     "metadata": {},
     "output_type": "display_data"
    },
    {
     "name": "stdout",
     "output_type": "stream",
     "text": [
      "Predicted in 203.9516 s\n",
      "Iters. done: 13 Current cost: 0.08641263636704402 Accuracy: 0.04472968200894467 Time: 225.53724655881524\n"
     ]
    },
    {
     "data": {
      "application/vnd.jupyter.widget-view+json": {
       "model_id": "aa7f4b4e21a948979ad9cfdf675388c7",
       "version_major": 2,
       "version_minor": 0
      },
      "text/plain": [
       "Mappings: 0it [00:00, ?it/s]"
      ]
     },
     "metadata": {},
     "output_type": "display_data"
    },
    {
     "name": "stdout",
     "output_type": "stream",
     "text": [
      "Submitted to device in 28.0505 s\n"
     ]
    },
    {
     "data": {
      "application/vnd.jupyter.widget-view+json": {
       "model_id": "29faeb6e6e8c421fb669eec7c3c4aa99",
       "version_major": 2,
       "version_minor": 0
      },
      "text/plain": [
       "Running batch:   0%|          | 0/1 [00:00<?, ?it/s]"
      ]
     },
     "metadata": {},
     "output_type": "display_data"
    },
    {
     "name": "stdout",
     "output_type": "stream",
     "text": [
      "Predicted in 1037.9439 s\n",
      "Iters. done: 14 Current cost: 0.09469733367037968 Accuracy: -0.04685559718333976 Time: 1066.085232399404\n"
     ]
    },
    {
     "data": {
      "application/vnd.jupyter.widget-view+json": {
       "model_id": "8156102337d0427ebc618fb344017e56",
       "version_major": 2,
       "version_minor": 0
      },
      "text/plain": [
       "Mappings: 0it [00:00, ?it/s]"
      ]
     },
     "metadata": {},
     "output_type": "display_data"
    },
    {
     "name": "stdout",
     "output_type": "stream",
     "text": [
      "Submitted to device in 54.9408 s\n"
     ]
    },
    {
     "data": {
      "application/vnd.jupyter.widget-view+json": {
       "model_id": "35dfe0edd2ef4a99b0e5e3e12f010cc2",
       "version_major": 2,
       "version_minor": 0
      },
      "text/plain": [
       "Running batch:   0%|          | 0/1 [00:00<?, ?it/s]"
      ]
     },
     "metadata": {},
     "output_type": "display_data"
    },
    {
     "name": "stdout",
     "output_type": "stream",
     "text": [
      "Predicted in 1113.9536 s\n",
      "Iters. done: 15 Current cost: 0.08881694471845519 Accuracy: 0.018150647969924938 Time: 1168.9851909838617\n"
     ]
    },
    {
     "data": {
      "application/vnd.jupyter.widget-view+json": {
       "model_id": "741aa71ff8b64589a17b0f3b32daa8ad",
       "version_major": 2,
       "version_minor": 0
      },
      "text/plain": [
       "Mappings: 0it [00:00, ?it/s]"
      ]
     },
     "metadata": {},
     "output_type": "display_data"
    },
    {
     "name": "stdout",
     "output_type": "stream",
     "text": [
      "Submitted to device in 20.8951 s\n"
     ]
    },
    {
     "data": {
      "application/vnd.jupyter.widget-view+json": {
       "model_id": "9cb56ca1033a46aeb3c77c6eb85674f8",
       "version_major": 2,
       "version_minor": 0
      },
      "text/plain": [
       "Running batch:   0%|          | 0/1 [00:00<?, ?it/s]"
      ]
     },
     "metadata": {},
     "output_type": "display_data"
    },
    {
     "name": "stdout",
     "output_type": "stream",
     "text": [
      "Predicted in 3986.0809 s\n",
      "Iters. done: 16 Current cost: 0.09679593606450748 Accuracy: -0.07005512749115272 Time: 4007.071344383061\n"
     ]
    },
    {
     "data": {
      "application/vnd.jupyter.widget-view+json": {
       "model_id": "786cbd9962724460a7c189c5e5ea032b",
       "version_major": 2,
       "version_minor": 0
      },
      "text/plain": [
       "Mappings: 0it [00:00, ?it/s]"
      ]
     },
     "metadata": {},
     "output_type": "display_data"
    },
    {
     "name": "stdout",
     "output_type": "stream",
     "text": [
      "Submitted to device in 22.7529 s\n"
     ]
    },
    {
     "data": {
      "application/vnd.jupyter.widget-view+json": {
       "model_id": "0a846373ff864ba4b60495ed92fb0249",
       "version_major": 2,
       "version_minor": 0
      },
      "text/plain": [
       "Running batch:   0%|          | 0/1 [00:00<?, ?it/s]"
      ]
     },
     "metadata": {},
     "output_type": "display_data"
    },
    {
     "name": "stdout",
     "output_type": "stream",
     "text": [
      "Predicted in 1582.1681 s\n",
      "Iters. done: 17 Current cost: 0.08639298351439487 Accuracy: 0.044946939433192834 Time: 1605.0189641974866\n"
     ]
    },
    {
     "data": {
      "application/vnd.jupyter.widget-view+json": {
       "model_id": "2bc32a4080b84547a4dbd053b0cb1f35",
       "version_major": 2,
       "version_minor": 0
      },
      "text/plain": [
       "Mappings: 0it [00:00, ?it/s]"
      ]
     },
     "metadata": {},
     "output_type": "display_data"
    },
    {
     "name": "stderr",
     "output_type": "stream",
     "text": [
      "/home/ubuntu/miniconda3/envs/qml/lib/python3.11/site-packages/qiskit_ibm_runtime/qiskit_runtime_service.py:874: UserWarning: The backend ibm_quebec currently has a status of internal.\n",
      "  warnings.warn(\n"
     ]
    },
    {
     "name": "stdout",
     "output_type": "stream",
     "text": [
      "Submitted to device in 21.0402 s\n"
     ]
    },
    {
     "data": {
      "application/vnd.jupyter.widget-view+json": {
       "model_id": "bd0cfac859ae438ca5863c109ddb695b",
       "version_major": 2,
       "version_minor": 0
      },
      "text/plain": [
       "Running batch:   0%|          | 0/1 [00:00<?, ?it/s]"
      ]
     },
     "metadata": {},
     "output_type": "display_data"
    },
    {
     "name": "stdout",
     "output_type": "stream",
     "text": [
      "Predicted in 1086.2607 s\n",
      "Iters. done: 18 Current cost: 0.09255970586873752 Accuracy: -0.02322465064969137 Time: 1107.3862241469324\n"
     ]
    },
    {
     "data": {
      "application/vnd.jupyter.widget-view+json": {
       "model_id": "f2edddefdca64bfba60f6c120d3dbbc8",
       "version_major": 2,
       "version_minor": 0
      },
      "text/plain": [
       "Mappings: 0it [00:00, ?it/s]"
      ]
     },
     "metadata": {},
     "output_type": "display_data"
    },
    {
     "name": "stdout",
     "output_type": "stream",
     "text": [
      "Submitted to device in 25.2837 s\n"
     ]
    },
    {
     "data": {
      "application/vnd.jupyter.widget-view+json": {
       "model_id": "00c517f8e91a44f88516f1f999c1c5ca",
       "version_major": 2,
       "version_minor": 0
      },
      "text/plain": [
       "Running batch:   0%|          | 0/1 [00:00<?, ?it/s]"
      ]
     },
     "metadata": {},
     "output_type": "display_data"
    },
    {
     "name": "stdout",
     "output_type": "stream",
     "text": [
      "Predicted in 560.1715 s\n",
      "Iters. done: 19 Current cost: 0.08369768636721933 Accuracy: 0.07474278262360734 Time: 585.5366472639143\n"
     ]
    },
    {
     "data": {
      "application/vnd.jupyter.widget-view+json": {
       "model_id": "e508f52829e54ba38fafb5fe507e1ed2",
       "version_major": 2,
       "version_minor": 0
      },
      "text/plain": [
       "Mappings: 0it [00:00, ?it/s]"
      ]
     },
     "metadata": {},
     "output_type": "display_data"
    },
    {
     "name": "stdout",
     "output_type": "stream",
     "text": [
      "Submitted to device in 18.9289 s\n"
     ]
    },
    {
     "data": {
      "application/vnd.jupyter.widget-view+json": {
       "model_id": "c2833eb2bda7489692a465f70ef6162f",
       "version_major": 2,
       "version_minor": 0
      },
      "text/plain": [
       "Running batch:   0%|          | 0/1 [00:00<?, ?it/s]"
      ]
     },
     "metadata": {},
     "output_type": "display_data"
    },
    {
     "name": "stdout",
     "output_type": "stream",
     "text": [
      "Predicted in 1494.5072 s\n",
      "Iters. done: 20 Current cost: 0.08815649304938458 Accuracy: 0.025451777786760665 Time: 1513.5217961743474\n"
     ]
    },
    {
     "data": {
      "application/vnd.jupyter.widget-view+json": {
       "model_id": "e36b2525fe3142249417b4ae79a08719",
       "version_major": 2,
       "version_minor": 0
      },
      "text/plain": [
       "Mappings: 0it [00:00, ?it/s]"
      ]
     },
     "metadata": {},
     "output_type": "display_data"
    },
    {
     "name": "stderr",
     "output_type": "stream",
     "text": [
      "/home/ubuntu/miniconda3/envs/qml/lib/python3.11/site-packages/qiskit_ibm_runtime/qiskit_runtime_service.py:874: UserWarning: The backend ibm_quebec currently has a status of internal.\n",
      "  warnings.warn(\n"
     ]
    },
    {
     "name": "stdout",
     "output_type": "stream",
     "text": [
      "Submitted to device in 22.8845 s\n"
     ]
    },
    {
     "data": {
      "application/vnd.jupyter.widget-view+json": {
       "model_id": "43d7177425c2443bade9d72fafff18f6",
       "version_major": 2,
       "version_minor": 0
      },
      "text/plain": [
       "Running batch:   0%|          | 0/1 [00:00<?, ?it/s]"
      ]
     },
     "metadata": {},
     "output_type": "display_data"
    },
    {
     "name": "stdout",
     "output_type": "stream",
     "text": [
      "Predicted in 115.5472 s\n",
      "Iters. done: 21 Current cost: 0.08670874281073318 Accuracy: 0.04145629852576216 Time: 138.52832210063934\n"
     ]
    },
    {
     "data": {
      "application/vnd.jupyter.widget-view+json": {
       "model_id": "96f70570b43749f194ef5d8f0d7b7562",
       "version_major": 2,
       "version_minor": 0
      },
      "text/plain": [
       "Mappings: 0it [00:00, ?it/s]"
      ]
     },
     "metadata": {},
     "output_type": "display_data"
    },
    {
     "name": "stderr",
     "output_type": "stream",
     "text": [
      "/home/ubuntu/miniconda3/envs/qml/lib/python3.11/site-packages/qiskit_ibm_runtime/qiskit_runtime_service.py:874: UserWarning: The backend ibm_quebec currently has a status of internal.\n",
      "  warnings.warn(\n"
     ]
    },
    {
     "name": "stdout",
     "output_type": "stream",
     "text": [
      "Submitted to device in 21.7002 s\n"
     ]
    },
    {
     "data": {
      "application/vnd.jupyter.widget-view+json": {
       "model_id": "7e5c36c9410b40f0aea6cdc5a30ab9cc",
       "version_major": 2,
       "version_minor": 0
      },
      "text/plain": [
       "Running batch:   0%|          | 0/1 [00:00<?, ?it/s]"
      ]
     },
     "metadata": {},
     "output_type": "display_data"
    },
    {
     "name": "stdout",
     "output_type": "stream",
     "text": [
      "Predicted in 831.1736 s\n",
      "Iters. done: 22 Current cost: 0.09731186253515343 Accuracy: -0.07575856699253025 Time: 852.9474676884711\n"
     ]
    },
    {
     "data": {
      "application/vnd.jupyter.widget-view+json": {
       "model_id": "7b6c260601f1499281fb0c679ff8d9c5",
       "version_major": 2,
       "version_minor": 0
      },
      "text/plain": [
       "Mappings: 0it [00:00, ?it/s]"
      ]
     },
     "metadata": {},
     "output_type": "display_data"
    },
    {
     "name": "stderr",
     "output_type": "stream",
     "text": [
      "/home/ubuntu/miniconda3/envs/qml/lib/python3.11/site-packages/qiskit_ibm_runtime/qiskit_runtime_service.py:874: UserWarning: The backend ibm_quebec currently has a status of internal.\n",
      "  warnings.warn(\n"
     ]
    },
    {
     "name": "stdout",
     "output_type": "stream",
     "text": [
      "Submitted to device in 18.9079 s\n"
     ]
    },
    {
     "data": {
      "application/vnd.jupyter.widget-view+json": {
       "model_id": "3bf5c5e9926443c48e83657b56e99229",
       "version_major": 2,
       "version_minor": 0
      },
      "text/plain": [
       "Running batch:   0%|          | 0/1 [00:00<?, ?it/s]"
      ]
     },
     "metadata": {},
     "output_type": "display_data"
    },
    {
     "name": "stdout",
     "output_type": "stream",
     "text": [
      "Predicted in 240.6263 s\n",
      "Iters. done: 23 Current cost: 0.08699602991360966 Accuracy: 0.03828041067350574 Time: 259.62307983264327\n"
     ]
    },
    {
     "data": {
      "application/vnd.jupyter.widget-view+json": {
       "model_id": "61eaa984f1cc4d40bd7384a45ac7c73c",
       "version_major": 2,
       "version_minor": 0
      },
      "text/plain": [
       "Mappings: 0it [00:00, ?it/s]"
      ]
     },
     "metadata": {},
     "output_type": "display_data"
    },
    {
     "name": "stderr",
     "output_type": "stream",
     "text": [
      "/home/ubuntu/miniconda3/envs/qml/lib/python3.11/site-packages/qiskit_ibm_runtime/qiskit_runtime_service.py:874: UserWarning: The backend ibm_quebec currently has a status of internal.\n",
      "  warnings.warn(\n"
     ]
    },
    {
     "name": "stdout",
     "output_type": "stream",
     "text": [
      "Submitted to device in 19.7745 s\n"
     ]
    },
    {
     "data": {
      "application/vnd.jupyter.widget-view+json": {
       "model_id": "7e2a381debf04b6aa7b8e83637b819d8",
       "version_major": 2,
       "version_minor": 0
      },
      "text/plain": [
       "Running batch:   0%|          | 0/1 [00:00<?, ?it/s]"
      ]
     },
     "metadata": {},
     "output_type": "display_data"
    },
    {
     "name": "stdout",
     "output_type": "stream",
     "text": [
      "Predicted in 117.0379 s\n",
      "Iters. done: 24 Current cost: 0.08947464835295574 Accuracy: 0.010879896995443339 Time: 136.89924757555127\n"
     ]
    },
    {
     "data": {
      "application/vnd.jupyter.widget-view+json": {
       "model_id": "cf31255656024c1ba73dac62d4282797",
       "version_major": 2,
       "version_minor": 0
      },
      "text/plain": [
       "Mappings: 0it [00:00, ?it/s]"
      ]
     },
     "metadata": {},
     "output_type": "display_data"
    },
    {
     "name": "stdout",
     "output_type": "stream",
     "text": [
      "Submitted to device in 20.3364 s\n"
     ]
    },
    {
     "data": {
      "application/vnd.jupyter.widget-view+json": {
       "model_id": "3ff3aee14c384720ad65667a4645e246",
       "version_major": 2,
       "version_minor": 0
      },
      "text/plain": [
       "Running batch:   0%|          | 0/1 [00:00<?, ?it/s]"
      ]
     },
     "metadata": {},
     "output_type": "display_data"
    },
    {
     "name": "stdout",
     "output_type": "stream",
     "text": [
      "Predicted in 116.0468 s\n",
      "Iters. done: 25 Current cost: 0.07966244158213545 Accuracy: 0.11935141547037631 Time: 136.4703899435699\n"
     ]
    },
    {
     "data": {
      "application/vnd.jupyter.widget-view+json": {
       "model_id": "f3a00a8932b444b8ad51b8435a202694",
       "version_major": 2,
       "version_minor": 0
      },
      "text/plain": [
       "Mappings: 0it [00:00, ?it/s]"
      ]
     },
     "metadata": {},
     "output_type": "display_data"
    },
    {
     "name": "stdout",
     "output_type": "stream",
     "text": [
      "Submitted to device in 21.4099 s\n"
     ]
    },
    {
     "data": {
      "application/vnd.jupyter.widget-view+json": {
       "model_id": "e73046920c6049f4bcf8e5f5188a4ca7",
       "version_major": 2,
       "version_minor": 0
      },
      "text/plain": [
       "Running batch:   0%|          | 0/1 [00:00<?, ?it/s]"
      ]
     },
     "metadata": {},
     "output_type": "display_data"
    },
    {
     "name": "stdout",
     "output_type": "stream",
     "text": [
      "Predicted in 137.1481 s\n",
      "Iters. done: 26 Current cost: 0.08903602745785065 Accuracy: 0.015728742483328007 Time: 158.63835645467043\n"
     ]
    },
    {
     "data": {
      "application/vnd.jupyter.widget-view+json": {
       "model_id": "ebf768a6e40c417ba48215e474c904a8",
       "version_major": 2,
       "version_minor": 0
      },
      "text/plain": [
       "Mappings: 0it [00:00, ?it/s]"
      ]
     },
     "metadata": {},
     "output_type": "display_data"
    },
    {
     "name": "stdout",
     "output_type": "stream",
     "text": [
      "Submitted to device in 20.1349 s\n"
     ]
    },
    {
     "data": {
      "application/vnd.jupyter.widget-view+json": {
       "model_id": "ee4139e8cc8b4e0fb6d3177be1e52035",
       "version_major": 2,
       "version_minor": 0
      },
      "text/plain": [
       "Running batch:   0%|          | 0/1 [00:00<?, ?it/s]"
      ]
     },
     "metadata": {},
     "output_type": "display_data"
    },
    {
     "name": "stdout",
     "output_type": "stream",
     "text": [
      "Predicted in 116.0194 s\n",
      "Iters. done: 27 Current cost: 0.08461701332906171 Accuracy: 0.0645798504866143 Time: 136.25263514369726\n"
     ]
    },
    {
     "data": {
      "application/vnd.jupyter.widget-view+json": {
       "model_id": "b207307a6de64e6bb071f929313b9fd4",
       "version_major": 2,
       "version_minor": 0
      },
      "text/plain": [
       "Mappings: 0it [00:00, ?it/s]"
      ]
     },
     "metadata": {},
     "output_type": "display_data"
    },
    {
     "name": "stdout",
     "output_type": "stream",
     "text": [
      "Submitted to device in 58.2185 s\n"
     ]
    },
    {
     "data": {
      "application/vnd.jupyter.widget-view+json": {
       "model_id": "f95ec1c3ef52483e8583d8c02780beb9",
       "version_major": 2,
       "version_minor": 0
      },
      "text/plain": [
       "Running batch:   0%|          | 0/1 [00:00<?, ?it/s]"
      ]
     },
     "metadata": {},
     "output_type": "display_data"
    },
    {
     "name": "stdout",
     "output_type": "stream",
     "text": [
      "Predicted in 100.9005 s\n",
      "Iters. done: 28 Current cost: 0.08027263715536319 Accuracy: 0.11260585436056281 Time: 159.20516939088702\n"
     ]
    },
    {
     "data": {
      "application/vnd.jupyter.widget-view+json": {
       "model_id": "119cc8497a9440758158ddc3d0a42d79",
       "version_major": 2,
       "version_minor": 0
      },
      "text/plain": [
       "Mappings: 0it [00:00, ?it/s]"
      ]
     },
     "metadata": {},
     "output_type": "display_data"
    },
    {
     "name": "stdout",
     "output_type": "stream",
     "text": [
      "Submitted to device in 24.2776 s\n"
     ]
    },
    {
     "data": {
      "application/vnd.jupyter.widget-view+json": {
       "model_id": "85e5b3fadda84ad19c5578d1dc8e935b",
       "version_major": 2,
       "version_minor": 0
      },
      "text/plain": [
       "Running batch:   0%|          | 0/1 [00:00<?, ?it/s]"
      ]
     },
     "metadata": {},
     "output_type": "display_data"
    },
    {
     "name": "stdout",
     "output_type": "stream",
     "text": [
      "Predicted in 110.9601 s\n",
      "Iters. done: 29 Current cost: 0.08498276202049013 Accuracy: 0.060536589183006195 Time: 135.32418446615338\n"
     ]
    },
    {
     "data": {
      "application/vnd.jupyter.widget-view+json": {
       "model_id": "c0f33441de7741469b586ccd53723a41",
       "version_major": 2,
       "version_minor": 0
      },
      "text/plain": [
       "Mappings: 0it [00:00, ?it/s]"
      ]
     },
     "metadata": {},
     "output_type": "display_data"
    },
    {
     "name": "stdout",
     "output_type": "stream",
     "text": [
      "Submitted to device in 20.5194 s\n"
     ]
    },
    {
     "data": {
      "application/vnd.jupyter.widget-view+json": {
       "model_id": "169fe1c959984fa687df54980a37f8c0",
       "version_major": 2,
       "version_minor": 0
      },
      "text/plain": [
       "Running batch:   0%|          | 0/1 [00:00<?, ?it/s]"
      ]
     },
     "metadata": {},
     "output_type": "display_data"
    },
    {
     "name": "stdout",
     "output_type": "stream",
     "text": [
      "Predicted in 116.3896 s\n",
      "Iters. done: 30 Current cost: 0.08858510656562547 Accuracy: 0.020713561396560887 Time: 137.00417321175337\n"
     ]
    },
    {
     "data": {
      "application/vnd.jupyter.widget-view+json": {
       "model_id": "faeb358df39542a48c16ad54963fe5f2",
       "version_major": 2,
       "version_minor": 0
      },
      "text/plain": [
       "Mappings: 0it [00:00, ?it/s]"
      ]
     },
     "metadata": {},
     "output_type": "display_data"
    },
    {
     "name": "stdout",
     "output_type": "stream",
     "text": [
      "Submitted to device in 19.0228 s\n"
     ]
    },
    {
     "data": {
      "application/vnd.jupyter.widget-view+json": {
       "model_id": "f5dbacabd4d24fe18e848c54be701443",
       "version_major": 2,
       "version_minor": 0
      },
      "text/plain": [
       "Running batch:   0%|          | 0/1 [00:00<?, ?it/s]"
      ]
     },
     "metadata": {},
     "output_type": "display_data"
    },
    {
     "name": "stdout",
     "output_type": "stream",
     "text": [
      "Predicted in 145.9376 s\n",
      "Iters. done: 31 Current cost: 0.08841025726049033 Accuracy: 0.022646477210024774 Time: 165.04616732150316\n"
     ]
    },
    {
     "data": {
      "application/vnd.jupyter.widget-view+json": {
       "model_id": "e2bdffda5fdf4a12b6728209d086d9c0",
       "version_major": 2,
       "version_minor": 0
      },
      "text/plain": [
       "Mappings: 0it [00:00, ?it/s]"
      ]
     },
     "metadata": {},
     "output_type": "display_data"
    },
    {
     "name": "stdout",
     "output_type": "stream",
     "text": [
      "Submitted to device in 23.5100 s\n"
     ]
    },
    {
     "data": {
      "application/vnd.jupyter.widget-view+json": {
       "model_id": "af937e406f27466d8633f4e994cde02b",
       "version_major": 2,
       "version_minor": 0
      },
      "text/plain": [
       "Running batch:   0%|          | 0/1 [00:00<?, ?it/s]"
      ]
     },
     "metadata": {},
     "output_type": "display_data"
    },
    {
     "name": "stdout",
     "output_type": "stream",
     "text": [
      "Predicted in 161.1993 s\n",
      "Iters. done: 32 Current cost: 0.08575496840817329 Accuracy: 0.05200003859816427 Time: 184.80144338309765\n"
     ]
    },
    {
     "data": {
      "application/vnd.jupyter.widget-view+json": {
       "model_id": "ef55af5ba4964e2c80d103b1f0d5868c",
       "version_major": 2,
       "version_minor": 0
      },
      "text/plain": [
       "Mappings: 0it [00:00, ?it/s]"
      ]
     },
     "metadata": {},
     "output_type": "display_data"
    },
    {
     "name": "stdout",
     "output_type": "stream",
     "text": [
      "Submitted to device in 19.9617 s\n"
     ]
    },
    {
     "data": {
      "application/vnd.jupyter.widget-view+json": {
       "model_id": "c430d8b786f34a96bfdf7b7f8075a419",
       "version_major": 2,
       "version_minor": 0
      },
      "text/plain": [
       "Running batch:   0%|          | 0/1 [00:00<?, ?it/s]"
      ]
     },
     "metadata": {},
     "output_type": "display_data"
    },
    {
     "name": "stdout",
     "output_type": "stream",
     "text": [
      "Predicted in 120.9452 s\n",
      "Iters. done: 33 Current cost: 0.09001253052792157 Accuracy: 0.0049337426142851415 Time: 140.98935091868043\n"
     ]
    },
    {
     "data": {
      "application/vnd.jupyter.widget-view+json": {
       "model_id": "90130d0a6d1e4274916f793840e9ef33",
       "version_major": 2,
       "version_minor": 0
      },
      "text/plain": [
       "Mappings: 0it [00:00, ?it/s]"
      ]
     },
     "metadata": {},
     "output_type": "display_data"
    },
    {
     "name": "stdout",
     "output_type": "stream",
     "text": [
      "Submitted to device in 21.4348 s\n"
     ]
    },
    {
     "data": {
      "application/vnd.jupyter.widget-view+json": {
       "model_id": "6a1b06229e534b8fa73d7679c4dca8a7",
       "version_major": 2,
       "version_minor": 0
      },
      "text/plain": [
       "Running batch:   0%|          | 0/1 [00:00<?, ?it/s]"
      ]
     },
     "metadata": {},
     "output_type": "display_data"
    },
    {
     "name": "stdout",
     "output_type": "stream",
     "text": [
      "Predicted in 116.2387 s\n",
      "Iters. done: 34 Current cost: 0.08509823066301628 Accuracy: 0.059260111904897994 Time: 137.7754503786564\n"
     ]
    },
    {
     "data": {
      "application/vnd.jupyter.widget-view+json": {
       "model_id": "578fc2aa517f4cf3824563fab971eb4c",
       "version_major": 2,
       "version_minor": 0
      },
      "text/plain": [
       "Mappings: 0it [00:00, ?it/s]"
      ]
     },
     "metadata": {},
     "output_type": "display_data"
    },
    {
     "name": "stdout",
     "output_type": "stream",
     "text": [
      "Submitted to device in 24.7036 s\n"
     ]
    },
    {
     "data": {
      "application/vnd.jupyter.widget-view+json": {
       "model_id": "0adf3f48bb9a409194ac34edbd971d8b",
       "version_major": 2,
       "version_minor": 0
      },
      "text/plain": [
       "Running batch:   0%|          | 0/1 [00:00<?, ?it/s]"
      ]
     },
     "metadata": {},
     "output_type": "display_data"
    },
    {
     "name": "stdout",
     "output_type": "stream",
     "text": [
      "Predicted in 115.9914 s\n",
      "Iters. done: 35 Current cost: 0.08072237092239032 Accuracy: 0.10763415882271932 Time: 140.78301724791527\n"
     ]
    },
    {
     "data": {
      "application/vnd.jupyter.widget-view+json": {
       "model_id": "5169e2b1a05f4d87ad0b63c1b4786a26",
       "version_major": 2,
       "version_minor": 0
      },
      "text/plain": [
       "Mappings: 0it [00:00, ?it/s]"
      ]
     },
     "metadata": {},
     "output_type": "display_data"
    },
    {
     "name": "stdout",
     "output_type": "stream",
     "text": [
      "Submitted to device in 19.2141 s\n"
     ]
    },
    {
     "data": {
      "application/vnd.jupyter.widget-view+json": {
       "model_id": "48f62e22af514f0ab9a603fbc68d64de",
       "version_major": 2,
       "version_minor": 0
      },
      "text/plain": [
       "Running batch:   0%|          | 0/1 [00:00<?, ?it/s]"
      ]
     },
     "metadata": {},
     "output_type": "display_data"
    },
    {
     "name": "stdout",
     "output_type": "stream",
     "text": [
      "Predicted in 116.8942 s\n",
      "Iters. done: 36 Current cost: 0.09709500534800025 Accuracy: -0.07336126443540714 Time: 136.19186978414655\n"
     ]
    },
    {
     "data": {
      "application/vnd.jupyter.widget-view+json": {
       "model_id": "127679e16f9b4c579c27757c8b2e3eb8",
       "version_major": 2,
       "version_minor": 0
      },
      "text/plain": [
       "Mappings: 0it [00:00, ?it/s]"
      ]
     },
     "metadata": {},
     "output_type": "display_data"
    },
    {
     "name": "stdout",
     "output_type": "stream",
     "text": [
      "Submitted to device in 22.6584 s\n"
     ]
    },
    {
     "data": {
      "application/vnd.jupyter.widget-view+json": {
       "model_id": "bebdc3e590ef42398450a29512ebf328",
       "version_major": 2,
       "version_minor": 0
      },
      "text/plain": [
       "Running batch:   0%|          | 0/1 [00:00<?, ?it/s]"
      ]
     },
     "metadata": {},
     "output_type": "display_data"
    },
    {
     "name": "stdout",
     "output_type": "stream",
     "text": [
      "Predicted in 114.9139 s\n",
      "Iters. done: 37 Current cost: 0.08404145140237312 Accuracy: 0.07094254520172483 Time: 137.65505880862474\n"
     ]
    },
    {
     "data": {
      "application/vnd.jupyter.widget-view+json": {
       "model_id": "6284945bbd8a448181528ac91615ceb0",
       "version_major": 2,
       "version_minor": 0
      },
      "text/plain": [
       "Mappings: 0it [00:00, ?it/s]"
      ]
     },
     "metadata": {},
     "output_type": "display_data"
    },
    {
     "name": "stdout",
     "output_type": "stream",
     "text": [
      "Submitted to device in 24.5919 s\n"
     ]
    },
    {
     "data": {
      "application/vnd.jupyter.widget-view+json": {
       "model_id": "4e358b62c1804f9083b823b6a8a7209d",
       "version_major": 2,
       "version_minor": 0
      },
      "text/plain": [
       "Running batch:   0%|          | 0/1 [00:00<?, ?it/s]"
      ]
     },
     "metadata": {},
     "output_type": "display_data"
    },
    {
     "name": "stdout",
     "output_type": "stream",
     "text": [
      "Predicted in 134.9919 s\n",
      "Iters. done: 38 Current cost: 0.09169703437954513 Accuracy: -0.013688030747224023 Time: 159.6720457226038\n"
     ]
    },
    {
     "data": {
      "application/vnd.jupyter.widget-view+json": {
       "model_id": "bd91ad21261743dd88cfb9df57e6be76",
       "version_major": 2,
       "version_minor": 0
      },
      "text/plain": [
       "Mappings: 0it [00:00, ?it/s]"
      ]
     },
     "metadata": {},
     "output_type": "display_data"
    },
    {
     "name": "stdout",
     "output_type": "stream",
     "text": [
      "Submitted to device in 18.2611 s\n"
     ]
    },
    {
     "data": {
      "application/vnd.jupyter.widget-view+json": {
       "model_id": "62b22c08c7104b3580a25bea448b03c3",
       "version_major": 2,
       "version_minor": 0
      },
      "text/plain": [
       "Running batch:   0%|          | 0/1 [00:00<?, ?it/s]"
      ]
     },
     "metadata": {},
     "output_type": "display_data"
    },
    {
     "name": "stdout",
     "output_type": "stream",
     "text": [
      "Predicted in 118.8289 s\n",
      "Iters. done: 39 Current cost: 0.10059526231285054 Accuracy: -0.11205573927656776 Time: 137.17303589731455\n"
     ]
    },
    {
     "data": {
      "application/vnd.jupyter.widget-view+json": {
       "model_id": "839546065baf415b927133e9075145bc",
       "version_major": 2,
       "version_minor": 0
      },
      "text/plain": [
       "Mappings: 0it [00:00, ?it/s]"
      ]
     },
     "metadata": {},
     "output_type": "display_data"
    },
    {
     "name": "stdout",
     "output_type": "stream",
     "text": [
      "Submitted to device in 18.4600 s\n"
     ]
    },
    {
     "data": {
      "application/vnd.jupyter.widget-view+json": {
       "model_id": "cb2013028b9b49dc8cb3dad3b088a796",
       "version_major": 2,
       "version_minor": 0
      },
      "text/plain": [
       "Running batch:   0%|          | 0/1 [00:00<?, ?it/s]"
      ]
     },
     "metadata": {},
     "output_type": "display_data"
    },
    {
     "name": "stdout",
     "output_type": "stream",
     "text": [
      "Predicted in 606.9689 s\n",
      "Iters. done: 40 Current cost: 0.08735731733505261 Accuracy: 0.034286467605943005 Time: 625.5139830186963\n"
     ]
    },
    {
     "data": {
      "application/vnd.jupyter.widget-view+json": {
       "model_id": "98990da9a13f40b29199bf4d0aa1dad9",
       "version_major": 2,
       "version_minor": 0
      },
      "text/plain": [
       "Mappings: 0it [00:00, ?it/s]"
      ]
     },
     "metadata": {},
     "output_type": "display_data"
    },
    {
     "name": "stdout",
     "output_type": "stream",
     "text": [
      "Submitted to device in 19.3639 s\n"
     ]
    },
    {
     "data": {
      "application/vnd.jupyter.widget-view+json": {
       "model_id": "8bf0c4b61b874954b00841bca703f9f9",
       "version_major": 2,
       "version_minor": 0
      },
      "text/plain": [
       "Running batch:   0%|          | 0/1 [00:00<?, ?it/s]"
      ]
     },
     "metadata": {},
     "output_type": "display_data"
    },
    {
     "name": "stdout",
     "output_type": "stream",
     "text": [
      "Predicted in 687.3690 s\n",
      "Iters. done: 41 Current cost: 0.07939576353064026 Accuracy: 0.1222994753579485 Time: 706.828786753118\n"
     ]
    },
    {
     "data": {
      "application/vnd.jupyter.widget-view+json": {
       "model_id": "0d06d93dc20f45eda414875657d2ba94",
       "version_major": 2,
       "version_minor": 0
      },
      "text/plain": [
       "Mappings: 0it [00:00, ?it/s]"
      ]
     },
     "metadata": {},
     "output_type": "display_data"
    },
    {
     "name": "stdout",
     "output_type": "stream",
     "text": [
      "Submitted to device in 19.7794 s\n"
     ]
    },
    {
     "data": {
      "application/vnd.jupyter.widget-view+json": {
       "model_id": "8ecfb8df4de04402abb191d493f09112",
       "version_major": 2,
       "version_minor": 0
      },
      "text/plain": [
       "Running batch:   0%|          | 0/1 [00:00<?, ?it/s]"
      ]
     },
     "metadata": {},
     "output_type": "display_data"
    },
    {
     "name": "stdout",
     "output_type": "stream",
     "text": [
      "Predicted in 695.2264 s\n",
      "Iters. done: 42 Current cost: 0.10808153107761237 Accuracy: -0.1948145884928374 Time: 715.1129737459123\n"
     ]
    },
    {
     "data": {
      "application/vnd.jupyter.widget-view+json": {
       "model_id": "c18f5029bd3f4beab18ce25d677b32f1",
       "version_major": 2,
       "version_minor": 0
      },
      "text/plain": [
       "Mappings: 0it [00:00, ?it/s]"
      ]
     },
     "metadata": {},
     "output_type": "display_data"
    },
    {
     "name": "stdout",
     "output_type": "stream",
     "text": [
      "Submitted to device in 20.3323 s\n"
     ]
    },
    {
     "data": {
      "application/vnd.jupyter.widget-view+json": {
       "model_id": "78b3e6e673844480af6da20b7856f21f",
       "version_major": 2,
       "version_minor": 0
      },
      "text/plain": [
       "Running batch:   0%|          | 0/1 [00:00<?, ?it/s]"
      ]
     },
     "metadata": {},
     "output_type": "display_data"
    },
    {
     "name": "stdout",
     "output_type": "stream",
     "text": [
      "Predicted in 737.6945 s\n",
      "Iters. done: 43 Current cost: 0.095504138924331 Accuracy: -0.05577462967559321 Time: 758.1161203160882\n"
     ]
    },
    {
     "data": {
      "application/vnd.jupyter.widget-view+json": {
       "model_id": "87ae1dd90aa542deb63790d5fccbcd2a",
       "version_major": 2,
       "version_minor": 0
      },
      "text/plain": [
       "Mappings: 0it [00:00, ?it/s]"
      ]
     },
     "metadata": {},
     "output_type": "display_data"
    },
    {
     "name": "stdout",
     "output_type": "stream",
     "text": [
      "Submitted to device in 17.7128 s\n"
     ]
    },
    {
     "data": {
      "application/vnd.jupyter.widget-view+json": {
       "model_id": "dbdb132c96b54502a15a393b74eb6117",
       "version_major": 2,
       "version_minor": 0
      },
      "text/plain": [
       "Running batch:   0%|          | 0/1 [00:00<?, ?it/s]"
      ]
     },
     "metadata": {},
     "output_type": "display_data"
    },
    {
     "name": "stdout",
     "output_type": "stream",
     "text": [
      "Predicted in 663.7381 s\n",
      "Iters. done: 44 Current cost: 0.09355424417868524 Accuracy: -0.034219025633954514 Time: 681.9089281372726\n"
     ]
    },
    {
     "data": {
      "application/vnd.jupyter.widget-view+json": {
       "model_id": "6f95c5e68b48488faa9af5935b84e94a",
       "version_major": 2,
       "version_minor": 0
      },
      "text/plain": [
       "Mappings: 0it [00:00, ?it/s]"
      ]
     },
     "metadata": {},
     "output_type": "display_data"
    },
    {
     "name": "stdout",
     "output_type": "stream",
     "text": [
      "Submitted to device in 19.4102 s\n"
     ]
    },
    {
     "data": {
      "application/vnd.jupyter.widget-view+json": {
       "model_id": "8b18d68eee39493c972e1484d055003d",
       "version_major": 2,
       "version_minor": 0
      },
      "text/plain": [
       "Running batch:   0%|          | 0/1 [00:00<?, ?it/s]"
      ]
     },
     "metadata": {},
     "output_type": "display_data"
    },
    {
     "name": "stdout",
     "output_type": "stream",
     "text": [
      "Predicted in 622.6841 s\n",
      "Iters. done: 45 Current cost: 0.09011216011452894 Accuracy: 0.0038323621810406605 Time: 642.1872781291604\n"
     ]
    },
    {
     "data": {
      "application/vnd.jupyter.widget-view+json": {
       "model_id": "5813a9e7e2054b2db9fa6a7e8841340c",
       "version_major": 2,
       "version_minor": 0
      },
      "text/plain": [
       "Mappings: 0it [00:00, ?it/s]"
      ]
     },
     "metadata": {},
     "output_type": "display_data"
    },
    {
     "name": "stdout",
     "output_type": "stream",
     "text": [
      "Submitted to device in 22.3427 s\n"
     ]
    },
    {
     "data": {
      "application/vnd.jupyter.widget-view+json": {
       "model_id": "15dbc28a913e40e3b813d7f1c7769336",
       "version_major": 2,
       "version_minor": 0
      },
      "text/plain": [
       "Running batch:   0%|          | 0/1 [00:00<?, ?it/s]"
      ]
     },
     "metadata": {},
     "output_type": "display_data"
    },
    {
     "name": "stdout",
     "output_type": "stream",
     "text": [
      "Predicted in 683.8695 s\n",
      "Iters. done: 46 Current cost: 0.09319136884296153 Accuracy: -0.0302075285668415 Time: 706.3120358511806\n"
     ]
    },
    {
     "data": {
      "application/vnd.jupyter.widget-view+json": {
       "model_id": "b360f4a242ef4decacfb6636abbffe17",
       "version_major": 2,
       "version_minor": 0
      },
      "text/plain": [
       "Mappings: 0it [00:00, ?it/s]"
      ]
     },
     "metadata": {},
     "output_type": "display_data"
    },
    {
     "name": "stdout",
     "output_type": "stream",
     "text": [
      "Submitted to device in 21.2865 s\n"
     ]
    },
    {
     "data": {
      "application/vnd.jupyter.widget-view+json": {
       "model_id": "134a62c79cf7465c9f41b26a0019ac8a",
       "version_major": 2,
       "version_minor": 0
      },
      "text/plain": [
       "Running batch:   0%|          | 0/1 [00:00<?, ?it/s]"
      ]
     },
     "metadata": {},
     "output_type": "display_data"
    },
    {
     "name": "stdout",
     "output_type": "stream",
     "text": [
      "Predicted in 132.7251 s\n",
      "Iters. done: 47 Current cost: 0.08629849057863097 Accuracy: 0.045991535462084676 Time: 154.10122194886208\n"
     ]
    },
    {
     "data": {
      "application/vnd.jupyter.widget-view+json": {
       "model_id": "c606924b539e45abb7de9649b5dd5cbe",
       "version_major": 2,
       "version_minor": 0
      },
      "text/plain": [
       "Mappings: 0it [00:00, ?it/s]"
      ]
     },
     "metadata": {},
     "output_type": "display_data"
    },
    {
     "name": "stdout",
     "output_type": "stream",
     "text": [
      "Submitted to device in 18.7909 s\n"
     ]
    },
    {
     "data": {
      "application/vnd.jupyter.widget-view+json": {
       "model_id": "8235968433444382bcedb0b68e80e068",
       "version_major": 2,
       "version_minor": 0
      },
      "text/plain": [
       "Running batch:   0%|          | 0/1 [00:00<?, ?it/s]"
      ]
     },
     "metadata": {},
     "output_type": "display_data"
    },
    {
     "name": "stdout",
     "output_type": "stream",
     "text": [
      "Predicted in 137.8336 s\n",
      "Iters. done: 48 Current cost: 0.08449525528634652 Accuracy: 0.06592585552791952 Time: 156.71633071824908\n"
     ]
    },
    {
     "data": {
      "application/vnd.jupyter.widget-view+json": {
       "model_id": "4e4987368a30447192b4eef0548a5511",
       "version_major": 2,
       "version_minor": 0
      },
      "text/plain": [
       "Mappings: 0it [00:00, ?it/s]"
      ]
     },
     "metadata": {},
     "output_type": "display_data"
    },
    {
     "name": "stdout",
     "output_type": "stream",
     "text": [
      "Submitted to device in 18.1616 s\n"
     ]
    },
    {
     "data": {
      "application/vnd.jupyter.widget-view+json": {
       "model_id": "2adab5f29aa845d4a7445e19d2a67c3f",
       "version_major": 2,
       "version_minor": 0
      },
      "text/plain": [
       "Running batch:   0%|          | 0/1 [00:00<?, ?it/s]"
      ]
     },
     "metadata": {},
     "output_type": "display_data"
    },
    {
     "name": "stdout",
     "output_type": "stream",
     "text": [
      "Predicted in 132.1041 s\n",
      "Iters. done: 49 Current cost: 0.0888294970366118 Accuracy: 0.01801188519793806 Time: 150.36073863133788\n"
     ]
    },
    {
     "data": {
      "application/vnd.jupyter.widget-view+json": {
       "model_id": "4a690acf1b2f4bc7aeba65b838c3abd3",
       "version_major": 2,
       "version_minor": 0
      },
      "text/plain": [
       "Mappings: 0it [00:00, ?it/s]"
      ]
     },
     "metadata": {},
     "output_type": "display_data"
    },
    {
     "name": "stdout",
     "output_type": "stream",
     "text": [
      "Submitted to device in 20.4963 s\n"
     ]
    },
    {
     "data": {
      "application/vnd.jupyter.widget-view+json": {
       "model_id": "ec1641881a6342fe907182696ffceea4",
       "version_major": 2,
       "version_minor": 0
      },
      "text/plain": [
       "Running batch:   0%|          | 0/1 [00:00<?, ?it/s]"
      ]
     },
     "metadata": {},
     "output_type": "display_data"
    },
    {
     "name": "stdout",
     "output_type": "stream",
     "text": [
      "Predicted in 138.4976 s\n",
      "Iters. done: 50 Current cost: 0.09061134885569525 Accuracy: -0.0016860458615748364 Time: 159.07873356714845\n"
     ]
    },
    {
     "data": {
      "application/vnd.jupyter.widget-view+json": {
       "model_id": "95a130a9a15a4eeba20afb2eb9bda2d5",
       "version_major": 2,
       "version_minor": 0
      },
      "text/plain": [
       "Mappings: 0it [00:00, ?it/s]"
      ]
     },
     "metadata": {},
     "output_type": "display_data"
    },
    {
     "name": "stdout",
     "output_type": "stream",
     "text": [
      "Submitted to device in 22.8521 s\n"
     ]
    },
    {
     "data": {
      "application/vnd.jupyter.widget-view+json": {
       "model_id": "6f5963ff5790459fa2fabc43d3f017a6",
       "version_major": 2,
       "version_minor": 0
      },
      "text/plain": [
       "Running batch:   0%|          | 0/1 [00:00<?, ?it/s]"
      ]
     },
     "metadata": {},
     "output_type": "display_data"
    },
    {
     "name": "stdout",
     "output_type": "stream",
     "text": [
      "Predicted in 125.8047 s\n",
      "Iters. done: 51 Current cost: 0.1114644819319762 Accuracy: -0.23221227330214744 Time: 148.72501201555133\n"
     ]
    },
    {
     "data": {
      "application/vnd.jupyter.widget-view+json": {
       "model_id": "30100fcb6ad64219ad96960bc9d3d022",
       "version_major": 2,
       "version_minor": 0
      },
      "text/plain": [
       "Mappings: 0it [00:00, ?it/s]"
      ]
     },
     "metadata": {},
     "output_type": "display_data"
    },
    {
     "name": "stdout",
     "output_type": "stream",
     "text": [
      "Submitted to device in 28.5591 s\n"
     ]
    },
    {
     "data": {
      "application/vnd.jupyter.widget-view+json": {
       "model_id": "1d4d024601574646a9433e19ea850e3c",
       "version_major": 2,
       "version_minor": 0
      },
      "text/plain": [
       "Running batch:   0%|          | 0/1 [00:00<?, ?it/s]"
      ]
     },
     "metadata": {},
     "output_type": "display_data"
    },
    {
     "name": "stdout",
     "output_type": "stream",
     "text": [
      "Predicted in 118.6522 s\n",
      "Iters. done: 52 Current cost: 0.08749128327138175 Accuracy: 0.03280550732076515 Time: 147.28844741731882\n"
     ]
    },
    {
     "data": {
      "application/vnd.jupyter.widget-view+json": {
       "model_id": "d3e9624def5343aab95245311293981a",
       "version_major": 2,
       "version_minor": 0
      },
      "text/plain": [
       "Mappings: 0it [00:00, ?it/s]"
      ]
     },
     "metadata": {},
     "output_type": "display_data"
    },
    {
     "name": "stdout",
     "output_type": "stream",
     "text": [
      "Submitted to device in 19.4281 s\n"
     ]
    },
    {
     "data": {
      "application/vnd.jupyter.widget-view+json": {
       "model_id": "e273e6c804c349ed8b3cc8b9749439f3",
       "version_major": 2,
       "version_minor": 0
      },
      "text/plain": [
       "Running batch:   0%|          | 0/1 [00:00<?, ?it/s]"
      ]
     },
     "metadata": {},
     "output_type": "display_data"
    },
    {
     "name": "stdout",
     "output_type": "stream",
     "text": [
      "Predicted in 127.1022 s\n",
      "Iters. done: 53 Current cost: 0.08373319787915463 Accuracy: 0.07435021164411904 Time: 146.61532732844353\n"
     ]
    },
    {
     "data": {
      "application/vnd.jupyter.widget-view+json": {
       "model_id": "eef3ca2324ee428a892bff4806e9348a",
       "version_major": 2,
       "version_minor": 0
      },
      "text/plain": [
       "Mappings: 0it [00:00, ?it/s]"
      ]
     },
     "metadata": {},
     "output_type": "display_data"
    },
    {
     "name": "stdout",
     "output_type": "stream",
     "text": [
      "Submitted to device in 32.0474 s\n"
     ]
    },
    {
     "data": {
      "application/vnd.jupyter.widget-view+json": {
       "model_id": "fa897cbe4059463f88cfdabbd5c7e37d",
       "version_major": 2,
       "version_minor": 0
      },
      "text/plain": [
       "Running batch:   0%|          | 0/1 [00:00<?, ?it/s]"
      ]
     },
     "metadata": {},
     "output_type": "display_data"
    },
    {
     "name": "stdout",
     "output_type": "stream",
     "text": [
      "Predicted in 129.3160 s\n",
      "Iters. done: 54 Current cost: 0.08007420187364982 Accuracy: 0.11479950731032129 Time: 161.44797165319324\n"
     ]
    },
    {
     "data": {
      "application/vnd.jupyter.widget-view+json": {
       "model_id": "1d3e215b42da4365b38765109dc08178",
       "version_major": 2,
       "version_minor": 0
      },
      "text/plain": [
       "Mappings: 0it [00:00, ?it/s]"
      ]
     },
     "metadata": {},
     "output_type": "display_data"
    },
    {
     "name": "stdout",
     "output_type": "stream",
     "text": [
      "Submitted to device in 19.7347 s\n"
     ]
    },
    {
     "data": {
      "application/vnd.jupyter.widget-view+json": {
       "model_id": "4a4521ffd6d3420284bfbd9bc07e0225",
       "version_major": 2,
       "version_minor": 0
      },
      "text/plain": [
       "Running batch:   0%|          | 0/1 [00:00<?, ?it/s]"
      ]
     },
     "metadata": {},
     "output_type": "display_data"
    },
    {
     "name": "stdout",
     "output_type": "stream",
     "text": [
      "Predicted in 129.4486 s\n",
      "Iters. done: 55 Current cost: 0.08311233069547619 Accuracy: 0.08121374476748655 Time: 149.27793937176466\n"
     ]
    },
    {
     "data": {
      "application/vnd.jupyter.widget-view+json": {
       "model_id": "1565afaca35f4ff49a98dc4374bdc019",
       "version_major": 2,
       "version_minor": 0
      },
      "text/plain": [
       "Mappings: 0it [00:00, ?it/s]"
      ]
     },
     "metadata": {},
     "output_type": "display_data"
    },
    {
     "name": "stdout",
     "output_type": "stream",
     "text": [
      "Submitted to device in 20.4845 s\n"
     ]
    },
    {
     "data": {
      "application/vnd.jupyter.widget-view+json": {
       "model_id": "e9e518cc77244c959fb3d6876b2df471",
       "version_major": 2,
       "version_minor": 0
      },
      "text/plain": [
       "Running batch:   0%|          | 0/1 [00:00<?, ?it/s]"
      ]
     },
     "metadata": {},
     "output_type": "display_data"
    },
    {
     "name": "stdout",
     "output_type": "stream",
     "text": [
      "Predicted in 132.6459 s\n",
      "Iters. done: 56 Current cost: 0.08312176544803354 Accuracy: 0.08110944591196556 Time: 153.22638422623277\n"
     ]
    },
    {
     "data": {
      "application/vnd.jupyter.widget-view+json": {
       "model_id": "2aa27abd1aeb4dee835063a7b33e17a4",
       "version_major": 2,
       "version_minor": 0
      },
      "text/plain": [
       "Mappings: 0it [00:00, ?it/s]"
      ]
     },
     "metadata": {},
     "output_type": "display_data"
    },
    {
     "name": "stdout",
     "output_type": "stream",
     "text": [
      "Submitted to device in 23.5514 s\n"
     ]
    },
    {
     "data": {
      "application/vnd.jupyter.widget-view+json": {
       "model_id": "36316806537f42a8906747607419adc4",
       "version_major": 2,
       "version_minor": 0
      },
      "text/plain": [
       "Running batch:   0%|          | 0/1 [00:00<?, ?it/s]"
      ]
     },
     "metadata": {},
     "output_type": "display_data"
    },
    {
     "name": "stdout",
     "output_type": "stream",
     "text": [
      "Predicted in 129.4890 s\n",
      "Iters. done: 57 Current cost: 0.08748443309789412 Accuracy: 0.0328812342940521 Time: 153.1308030001819\n"
     ]
    },
    {
     "data": {
      "application/vnd.jupyter.widget-view+json": {
       "model_id": "31fe6a31121940ac8686c20c9369ce5c",
       "version_major": 2,
       "version_minor": 0
      },
      "text/plain": [
       "Mappings: 0it [00:00, ?it/s]"
      ]
     },
     "metadata": {},
     "output_type": "display_data"
    },
    {
     "name": "stdout",
     "output_type": "stream",
     "text": [
      "Submitted to device in 19.9064 s\n"
     ]
    },
    {
     "data": {
      "application/vnd.jupyter.widget-view+json": {
       "model_id": "0f8b89ac68f640f987bc509f9324cf2b",
       "version_major": 2,
       "version_minor": 0
      },
      "text/plain": [
       "Running batch:   0%|          | 0/1 [00:00<?, ?it/s]"
      ]
     },
     "metadata": {},
     "output_type": "display_data"
    },
    {
     "name": "stdout",
     "output_type": "stream",
     "text": [
      "Predicted in 136.7669 s\n",
      "Iters. done: 58 Current cost: 0.08326052292148935 Accuracy: 0.0795755163691989 Time: 156.7752594575286\n"
     ]
    },
    {
     "data": {
      "application/vnd.jupyter.widget-view+json": {
       "model_id": "52de9f51a6e34be89a34c67ff5fee6f7",
       "version_major": 2,
       "version_minor": 0
      },
      "text/plain": [
       "Mappings: 0it [00:00, ?it/s]"
      ]
     },
     "metadata": {},
     "output_type": "display_data"
    },
    {
     "name": "stdout",
     "output_type": "stream",
     "text": [
      "Submitted to device in 23.5341 s\n"
     ]
    },
    {
     "data": {
      "application/vnd.jupyter.widget-view+json": {
       "model_id": "45a670fc7b6d4f50a6c2f9069f2ac55d",
       "version_major": 2,
       "version_minor": 0
      },
      "text/plain": [
       "Running batch:   0%|          | 0/1 [00:00<?, ?it/s]"
      ]
     },
     "metadata": {},
     "output_type": "display_data"
    },
    {
     "name": "stdout",
     "output_type": "stream",
     "text": [
      "Predicted in 135.3165 s\n",
      "Iters. done: 59 Current cost: 0.09578939587154259 Accuracy: -0.05892807465920091 Time: 158.9561691209674\n"
     ]
    },
    {
     "data": {
      "application/vnd.jupyter.widget-view+json": {
       "model_id": "d7d26dc6be514037a1c724766a382f99",
       "version_major": 2,
       "version_minor": 0
      },
      "text/plain": [
       "Mappings: 0it [00:00, ?it/s]"
      ]
     },
     "metadata": {},
     "output_type": "display_data"
    },
    {
     "name": "stdout",
     "output_type": "stream",
     "text": [
      "Submitted to device in 21.5987 s\n"
     ]
    },
    {
     "data": {
      "application/vnd.jupyter.widget-view+json": {
       "model_id": "23caf1a7ba51414786af16ecf341b437",
       "version_major": 2,
       "version_minor": 0
      },
      "text/plain": [
       "Running batch:   0%|          | 0/1 [00:00<?, ?it/s]"
      ]
     },
     "metadata": {},
     "output_type": "display_data"
    },
    {
     "name": "stdout",
     "output_type": "stream",
     "text": [
      "Predicted in 132.7848 s\n",
      "Iters. done: 60 Current cost: 0.09154876300014814 Accuracy: -0.012048927327859227 Time: 154.4682543799281\n"
     ]
    },
    {
     "data": {
      "application/vnd.jupyter.widget-view+json": {
       "model_id": "59f831f8d79a49afb792f0ef2297eae1",
       "version_major": 2,
       "version_minor": 0
      },
      "text/plain": [
       "Mappings: 0it [00:00, ?it/s]"
      ]
     },
     "metadata": {},
     "output_type": "display_data"
    },
    {
     "name": "stdout",
     "output_type": "stream",
     "text": [
      "Submitted to device in 23.3870 s\n"
     ]
    },
    {
     "data": {
      "application/vnd.jupyter.widget-view+json": {
       "model_id": "18746eb7f6844b36bc11ea4df2f2bfcc",
       "version_major": 2,
       "version_minor": 0
      },
      "text/plain": [
       "Running batch:   0%|          | 0/1 [00:00<?, ?it/s]"
      ]
     },
     "metadata": {},
     "output_type": "display_data"
    },
    {
     "name": "stdout",
     "output_type": "stream",
     "text": [
      "Predicted in 622.0738 s\n",
      "Iters. done: 61 Current cost: 0.08346123943435425 Accuracy: 0.07735664497339878 Time: 645.5542931742966\n"
     ]
    },
    {
     "data": {
      "application/vnd.jupyter.widget-view+json": {
       "model_id": "fa8b9b91e5bc4be48b060f39503bf5f8",
       "version_major": 2,
       "version_minor": 0
      },
      "text/plain": [
       "Mappings: 0it [00:00, ?it/s]"
      ]
     },
     "metadata": {},
     "output_type": "display_data"
    },
    {
     "name": "stdout",
     "output_type": "stream",
     "text": [
      "Submitted to device in 23.1794 s\n"
     ]
    },
    {
     "data": {
      "application/vnd.jupyter.widget-view+json": {
       "model_id": "d28ac10b1056448c8eaa217d19c15319",
       "version_major": 2,
       "version_minor": 0
      },
      "text/plain": [
       "Running batch:   0%|          | 0/1 [00:00<?, ?it/s]"
      ]
     },
     "metadata": {},
     "output_type": "display_data"
    },
    {
     "name": "stdout",
     "output_type": "stream",
     "text": [
      "Predicted in 122.1359 s\n",
      "Iters. done: 62 Current cost: 0.07439382283041854 Accuracy: 0.17759469240210202 Time: 145.4125351384282\n"
     ]
    },
    {
     "data": {
      "application/vnd.jupyter.widget-view+json": {
       "model_id": "3c540e74a0494419a66f3db54551ba4e",
       "version_major": 2,
       "version_minor": 0
      },
      "text/plain": [
       "Mappings: 0it [00:00, ?it/s]"
      ]
     },
     "metadata": {},
     "output_type": "display_data"
    },
    {
     "name": "stdout",
     "output_type": "stream",
     "text": [
      "Submitted to device in 19.2743 s\n"
     ]
    },
    {
     "data": {
      "application/vnd.jupyter.widget-view+json": {
       "model_id": "2f9b684b97164c66b1127888641227e2",
       "version_major": 2,
       "version_minor": 0
      },
      "text/plain": [
       "Running batch:   0%|          | 0/1 [00:00<?, ?it/s]"
      ]
     },
     "metadata": {},
     "output_type": "display_data"
    },
    {
     "name": "stdout",
     "output_type": "stream",
     "text": [
      "Predicted in 132.6867 s\n",
      "Iters. done: 63 Current cost: 0.07577886840303923 Accuracy: 0.16228335623398027 Time: 152.04985671117902\n"
     ]
    },
    {
     "data": {
      "application/vnd.jupyter.widget-view+json": {
       "model_id": "f815e9f2cc0c48aa9cff2332ed141b36",
       "version_major": 2,
       "version_minor": 0
      },
      "text/plain": [
       "Mappings: 0it [00:00, ?it/s]"
      ]
     },
     "metadata": {},
     "output_type": "display_data"
    },
    {
     "name": "stdout",
     "output_type": "stream",
     "text": [
      "Submitted to device in 18.9205 s\n"
     ]
    },
    {
     "data": {
      "application/vnd.jupyter.widget-view+json": {
       "model_id": "142de2de924449c4a8db8696881113d4",
       "version_major": 2,
       "version_minor": 0
      },
      "text/plain": [
       "Running batch:   0%|          | 0/1 [00:00<?, ?it/s]"
      ]
     },
     "metadata": {},
     "output_type": "display_data"
    },
    {
     "name": "stdout",
     "output_type": "stream",
     "text": [
      "Predicted in 129.6238 s\n",
      "Iters. done: 64 Current cost: 0.0767100151413531 Accuracy: 0.15198975939211068 Time: 148.6285461038351\n"
     ]
    },
    {
     "data": {
      "application/vnd.jupyter.widget-view+json": {
       "model_id": "b67b9e2a6cad43ae8da4ef833dae3334",
       "version_major": 2,
       "version_minor": 0
      },
      "text/plain": [
       "Mappings: 0it [00:00, ?it/s]"
      ]
     },
     "metadata": {},
     "output_type": "display_data"
    },
    {
     "name": "stdout",
     "output_type": "stream",
     "text": [
      "Submitted to device in 17.8914 s\n"
     ]
    },
    {
     "data": {
      "application/vnd.jupyter.widget-view+json": {
       "model_id": "25f3eb22e05e476b8c6f9d2fae6c2441",
       "version_major": 2,
       "version_minor": 0
      },
      "text/plain": [
       "Running batch:   0%|          | 0/1 [00:00<?, ?it/s]"
      ]
     },
     "metadata": {},
     "output_type": "display_data"
    },
    {
     "name": "stdout",
     "output_type": "stream",
     "text": [
      "Predicted in 131.4058 s\n",
      "Iters. done: 65 Current cost: 0.09198005244303223 Accuracy: -0.016816725425119916 Time: 149.38957660645247\n"
     ]
    },
    {
     "data": {
      "application/vnd.jupyter.widget-view+json": {
       "model_id": "cb5cb12048864823a3e8ae495fd06872",
       "version_major": 2,
       "version_minor": 0
      },
      "text/plain": [
       "Mappings: 0it [00:00, ?it/s]"
      ]
     },
     "metadata": {},
     "output_type": "display_data"
    },
    {
     "name": "stdout",
     "output_type": "stream",
     "text": [
      "Submitted to device in 19.6711 s\n"
     ]
    },
    {
     "data": {
      "application/vnd.jupyter.widget-view+json": {
       "model_id": "137ba8d6e25840b7bcde578c6d264f7f",
       "version_major": 2,
       "version_minor": 0
      },
      "text/plain": [
       "Running batch:   0%|          | 0/1 [00:00<?, ?it/s]"
      ]
     },
     "metadata": {},
     "output_type": "display_data"
    },
    {
     "name": "stdout",
     "output_type": "stream",
     "text": [
      "Predicted in 135.7607 s\n",
      "Iters. done: 66 Current cost: 0.10821836816876274 Accuracy: -0.19632728868428795 Time: 155.5243457071483\n"
     ]
    },
    {
     "data": {
      "application/vnd.jupyter.widget-view+json": {
       "model_id": "636ceb6be07a4a5f89d16cee901bdf1b",
       "version_major": 2,
       "version_minor": 0
      },
      "text/plain": [
       "Mappings: 0it [00:00, ?it/s]"
      ]
     },
     "metadata": {},
     "output_type": "display_data"
    },
    {
     "name": "stdout",
     "output_type": "stream",
     "text": [
      "Submitted to device in 22.6625 s\n"
     ]
    },
    {
     "data": {
      "application/vnd.jupyter.widget-view+json": {
       "model_id": "a2faacfdf2ec48bfb2f0a2444ca8e666",
       "version_major": 2,
       "version_minor": 0
      },
      "text/plain": [
       "Running batch:   0%|          | 0/1 [00:00<?, ?it/s]"
      ]
     },
     "metadata": {},
     "output_type": "display_data"
    },
    {
     "name": "stdout",
     "output_type": "stream",
     "text": [
      "Predicted in 133.0604 s\n",
      "Iters. done: 67 Current cost: 0.10577458061944157 Accuracy: -0.16931182187886917 Time: 155.81831524148583\n"
     ]
    },
    {
     "data": {
      "application/vnd.jupyter.widget-view+json": {
       "model_id": "d3ae1a49651c4f81b4b62b087283b5d0",
       "version_major": 2,
       "version_minor": 0
      },
      "text/plain": [
       "Mappings: 0it [00:00, ?it/s]"
      ]
     },
     "metadata": {},
     "output_type": "display_data"
    },
    {
     "name": "stdout",
     "output_type": "stream",
     "text": [
      "Submitted to device in 18.5071 s\n"
     ]
    },
    {
     "data": {
      "application/vnd.jupyter.widget-view+json": {
       "model_id": "2cb6694630f24f63be6070fc7fc26cb5",
       "version_major": 2,
       "version_minor": 0
      },
      "text/plain": [
       "Running batch:   0%|          | 0/1 [00:00<?, ?it/s]"
      ]
     },
     "metadata": {},
     "output_type": "display_data"
    },
    {
     "name": "stdout",
     "output_type": "stream",
     "text": [
      "Predicted in 138.4527 s\n",
      "Iters. done: 68 Current cost: 0.09565538564041057 Accuracy: -0.05744662470593487 Time: 157.05257118865848\n"
     ]
    },
    {
     "data": {
      "application/vnd.jupyter.widget-view+json": {
       "model_id": "eee7c40ee04944348637d1a9e8746c87",
       "version_major": 2,
       "version_minor": 0
      },
      "text/plain": [
       "Mappings: 0it [00:00, ?it/s]"
      ]
     },
     "metadata": {},
     "output_type": "display_data"
    },
    {
     "name": "stdout",
     "output_type": "stream",
     "text": [
      "Submitted to device in 21.3710 s\n"
     ]
    },
    {
     "data": {
      "application/vnd.jupyter.widget-view+json": {
       "model_id": "9927816df6e34c36affc80890529fa6d",
       "version_major": 2,
       "version_minor": 0
      },
      "text/plain": [
       "Running batch:   0%|          | 0/1 [00:00<?, ?it/s]"
      ]
     },
     "metadata": {},
     "output_type": "display_data"
    },
    {
     "name": "stdout",
     "output_type": "stream",
     "text": [
      "Predicted in 137.8431 s\n",
      "Iters. done: 69 Current cost: 0.07338578662260865 Accuracy: 0.18873828330807618 Time: 159.29041596129537\n"
     ]
    },
    {
     "data": {
      "application/vnd.jupyter.widget-view+json": {
       "model_id": "2aa0af782fd34ea79b7ff166a9e5a641",
       "version_major": 2,
       "version_minor": 0
      },
      "text/plain": [
       "Mappings: 0it [00:00, ?it/s]"
      ]
     },
     "metadata": {},
     "output_type": "display_data"
    },
    {
     "name": "stdout",
     "output_type": "stream",
     "text": [
      "Submitted to device in 20.7068 s\n"
     ]
    },
    {
     "data": {
      "application/vnd.jupyter.widget-view+json": {
       "model_id": "e0e0bf1da1c44fdeb7b9a4b2f84d3dd3",
       "version_major": 2,
       "version_minor": 0
      },
      "text/plain": [
       "Running batch:   0%|          | 0/1 [00:00<?, ?it/s]"
      ]
     },
     "metadata": {},
     "output_type": "display_data"
    },
    {
     "name": "stdout",
     "output_type": "stream",
     "text": [
      "Predicted in 117.5593 s\n",
      "Iters. done: 70 Current cost: 0.09195137465134273 Accuracy: -0.01649969953240049 Time: 138.35934335365891\n"
     ]
    },
    {
     "data": {
      "application/vnd.jupyter.widget-view+json": {
       "model_id": "1f96bbd426c64584a89bc682e29c6440",
       "version_major": 2,
       "version_minor": 0
      },
      "text/plain": [
       "Mappings: 0it [00:00, ?it/s]"
      ]
     },
     "metadata": {},
     "output_type": "display_data"
    },
    {
     "name": "stdout",
     "output_type": "stream",
     "text": [
      "Submitted to device in 24.5103 s\n"
     ]
    },
    {
     "data": {
      "application/vnd.jupyter.widget-view+json": {
       "model_id": "9d02bc285a994951be665bf41f965022",
       "version_major": 2,
       "version_minor": 0
      },
      "text/plain": [
       "Running batch:   0%|          | 0/1 [00:00<?, ?it/s]"
      ]
     },
     "metadata": {},
     "output_type": "display_data"
    },
    {
     "name": "stdout",
     "output_type": "stream",
     "text": [
      "Predicted in 113.6426 s\n",
      "Iters. done: 71 Current cost: 0.0814742217902402 Accuracy: 0.09932263347401782 Time: 138.24767741933465\n"
     ]
    },
    {
     "data": {
      "application/vnd.jupyter.widget-view+json": {
       "model_id": "e470ba52ae8745eeb053a05a9ebdc86c",
       "version_major": 2,
       "version_minor": 0
      },
      "text/plain": [
       "Mappings: 0it [00:00, ?it/s]"
      ]
     },
     "metadata": {},
     "output_type": "display_data"
    },
    {
     "name": "stdout",
     "output_type": "stream",
     "text": [
      "Submitted to device in 18.7317 s\n"
     ]
    },
    {
     "data": {
      "application/vnd.jupyter.widget-view+json": {
       "model_id": "1241800421f4471794832baa3cbb64b5",
       "version_major": 2,
       "version_minor": 0
      },
      "text/plain": [
       "Running batch:   0%|          | 0/1 [00:00<?, ?it/s]"
      ]
     },
     "metadata": {},
     "output_type": "display_data"
    },
    {
     "name": "stdout",
     "output_type": "stream",
     "text": [
      "Predicted in 118.4299 s\n",
      "Iters. done: 72 Current cost: 0.10139129736316654 Accuracy: -0.12085570983200133 Time: 137.24804325029254\n"
     ]
    },
    {
     "data": {
      "application/vnd.jupyter.widget-view+json": {
       "model_id": "83657145dca94d678840788c8173d950",
       "version_major": 2,
       "version_minor": 0
      },
      "text/plain": [
       "Mappings: 0it [00:00, ?it/s]"
      ]
     },
     "metadata": {},
     "output_type": "display_data"
    },
    {
     "name": "stdout",
     "output_type": "stream",
     "text": [
      "Submitted to device in 22.2553 s\n"
     ]
    },
    {
     "data": {
      "application/vnd.jupyter.widget-view+json": {
       "model_id": "7ceb1268d7614d499ea79983cd90d13e",
       "version_major": 2,
       "version_minor": 0
      },
      "text/plain": [
       "Running batch:   0%|          | 0/1 [00:00<?, ?it/s]"
      ]
     },
     "metadata": {},
     "output_type": "display_data"
    },
    {
     "name": "stdout",
     "output_type": "stream",
     "text": [
      "Predicted in 132.4000 s\n",
      "Iters. done: 73 Current cost: 0.09261725525656567 Accuracy: -0.02386084489537188 Time: 154.7420465797186\n"
     ]
    },
    {
     "data": {
      "application/vnd.jupyter.widget-view+json": {
       "model_id": "d5943982f0094496834fb8b4ac2d3505",
       "version_major": 2,
       "version_minor": 0
      },
      "text/plain": [
       "Mappings: 0it [00:00, ?it/s]"
      ]
     },
     "metadata": {},
     "output_type": "display_data"
    },
    {
     "name": "stdout",
     "output_type": "stream",
     "text": [
      "Submitted to device in 22.0834 s\n"
     ]
    },
    {
     "data": {
      "application/vnd.jupyter.widget-view+json": {
       "model_id": "45d3238e3e394bfbbff6961f4883c4d5",
       "version_major": 2,
       "version_minor": 0
      },
      "text/plain": [
       "Running batch:   0%|          | 0/1 [00:00<?, ?it/s]"
      ]
     },
     "metadata": {},
     "output_type": "display_data"
    },
    {
     "name": "stdout",
     "output_type": "stream",
     "text": [
      "Predicted in 119.8904 s\n",
      "Iters. done: 74 Current cost: 0.0879920713044193 Accuracy: 0.027269419502151337 Time: 142.0644235163927\n"
     ]
    },
    {
     "data": {
      "application/vnd.jupyter.widget-view+json": {
       "model_id": "70abde0cec8148e0878adf84476b9ac0",
       "version_major": 2,
       "version_minor": 0
      },
      "text/plain": [
       "Mappings: 0it [00:00, ?it/s]"
      ]
     },
     "metadata": {},
     "output_type": "display_data"
    },
    {
     "name": "stdout",
     "output_type": "stream",
     "text": [
      "Submitted to device in 23.6881 s\n"
     ]
    },
    {
     "data": {
      "application/vnd.jupyter.widget-view+json": {
       "model_id": "245f213c65fa4a89a514fda2c9162f9c",
       "version_major": 2,
       "version_minor": 0
      },
      "text/plain": [
       "Running batch:   0%|          | 0/1 [00:00<?, ?it/s]"
      ]
     },
     "metadata": {},
     "output_type": "display_data"
    },
    {
     "name": "stdout",
     "output_type": "stream",
     "text": [
      "Predicted in 114.7223 s\n",
      "Iters. done: 75 Current cost: 0.09540704062140147 Accuracy: -0.05470123195720977 Time: 138.49249982461333\n"
     ]
    },
    {
     "data": {
      "application/vnd.jupyter.widget-view+json": {
       "model_id": "9d1b97c9563c48a2b9423a9df37a1666",
       "version_major": 2,
       "version_minor": 0
      },
      "text/plain": [
       "Mappings: 0it [00:00, ?it/s]"
      ]
     },
     "metadata": {},
     "output_type": "display_data"
    },
    {
     "name": "stdout",
     "output_type": "stream",
     "text": [
      "Submitted to device in 22.3257 s\n"
     ]
    },
    {
     "data": {
      "application/vnd.jupyter.widget-view+json": {
       "model_id": "734f3d6054d042209c8ca12fd422421d",
       "version_major": 2,
       "version_minor": 0
      },
      "text/plain": [
       "Running batch:   0%|          | 0/1 [00:00<?, ?it/s]"
      ]
     },
     "metadata": {},
     "output_type": "display_data"
    },
    {
     "name": "stdout",
     "output_type": "stream",
     "text": [
      "Predicted in 117.6910 s\n",
      "Iters. done: 76 Current cost: 0.1011892936610618 Accuracy: -0.11862260887758413 Time: 140.1013868674636\n"
     ]
    },
    {
     "data": {
      "application/vnd.jupyter.widget-view+json": {
       "model_id": "a22dd0fe45ec41e8804ae7c1cd5de3ce",
       "version_major": 2,
       "version_minor": 0
      },
      "text/plain": [
       "Mappings: 0it [00:00, ?it/s]"
      ]
     },
     "metadata": {},
     "output_type": "display_data"
    },
    {
     "name": "stdout",
     "output_type": "stream",
     "text": [
      "Submitted to device in 21.2744 s\n"
     ]
    },
    {
     "data": {
      "application/vnd.jupyter.widget-view+json": {
       "model_id": "38b92d394b134a2c80b870860e68676e",
       "version_major": 2,
       "version_minor": 0
      },
      "text/plain": [
       "Running batch:   0%|          | 0/1 [00:00<?, ?it/s]"
      ]
     },
     "metadata": {},
     "output_type": "display_data"
    },
    {
     "name": "stdout",
     "output_type": "stream",
     "text": [
      "Predicted in 121.0789 s\n",
      "Iters. done: 77 Current cost: 0.08097956031718434 Accuracy: 0.104790993687643 Time: 142.4375247620046\n"
     ]
    },
    {
     "data": {
      "application/vnd.jupyter.widget-view+json": {
       "model_id": "f52d43487d1047fba694137b3effdd85",
       "version_major": 2,
       "version_minor": 0
      },
      "text/plain": [
       "Mappings: 0it [00:00, ?it/s]"
      ]
     },
     "metadata": {},
     "output_type": "display_data"
    },
    {
     "name": "stdout",
     "output_type": "stream",
     "text": [
      "Submitted to device in 19.8589 s\n"
     ]
    },
    {
     "data": {
      "application/vnd.jupyter.widget-view+json": {
       "model_id": "806304797be2400283996eb634772b35",
       "version_major": 2,
       "version_minor": 0
      },
      "text/plain": [
       "Running batch:   0%|          | 0/1 [00:00<?, ?it/s]"
      ]
     },
     "metadata": {},
     "output_type": "display_data"
    },
    {
     "name": "stdout",
     "output_type": "stream",
     "text": [
      "Predicted in 116.3958 s\n",
      "Iters. done: 78 Current cost: 0.07921660562712207 Accuracy: 0.12428002166066154 Time: 136.33715287223458\n"
     ]
    },
    {
     "data": {
      "application/vnd.jupyter.widget-view+json": {
       "model_id": "b511aef8c4014eea933427afe0b4cce5",
       "version_major": 2,
       "version_minor": 0
      },
      "text/plain": [
       "Mappings: 0it [00:00, ?it/s]"
      ]
     },
     "metadata": {},
     "output_type": "display_data"
    },
    {
     "name": "stdout",
     "output_type": "stream",
     "text": [
      "Submitted to device in 20.0053 s\n"
     ]
    },
    {
     "data": {
      "application/vnd.jupyter.widget-view+json": {
       "model_id": "3ff53202d9c14751a4802e6398ec5947",
       "version_major": 2,
       "version_minor": 0
      },
      "text/plain": [
       "Running batch:   0%|          | 0/1 [00:00<?, ?it/s]"
      ]
     },
     "metadata": {},
     "output_type": "display_data"
    },
    {
     "name": "stdout",
     "output_type": "stream",
     "text": [
      "Predicted in 173.1712 s\n",
      "Iters. done: 79 Current cost: 0.08921077296175499 Accuracy: 0.013796974166792042 Time: 193.26524193957448\n"
     ]
    },
    {
     "data": {
      "application/vnd.jupyter.widget-view+json": {
       "model_id": "7adca04574fe4e5f89732306fbb3d045",
       "version_major": 2,
       "version_minor": 0
      },
      "text/plain": [
       "Mappings: 0it [00:00, ?it/s]"
      ]
     },
     "metadata": {},
     "output_type": "display_data"
    },
    {
     "name": "stdout",
     "output_type": "stream",
     "text": [
      "Submitted to device in 22.6396 s\n"
     ]
    },
    {
     "data": {
      "application/vnd.jupyter.widget-view+json": {
       "model_id": "6fce015d850647c7aad32100e69750e8",
       "version_major": 2,
       "version_minor": 0
      },
      "text/plain": [
       "Running batch:   0%|          | 0/1 [00:00<?, ?it/s]"
      ]
     },
     "metadata": {},
     "output_type": "display_data"
    },
    {
     "name": "stdout",
     "output_type": "stream",
     "text": [
      "Predicted in 126.6037 s\n",
      "Iters. done: 80 Current cost: 0.08100963629267328 Accuracy: 0.10445851121890792 Time: 149.318393625319\n"
     ]
    },
    {
     "data": {
      "application/vnd.jupyter.widget-view+json": {
       "model_id": "0800a257603344e9a831e16b7fc70075",
       "version_major": 2,
       "version_minor": 0
      },
      "text/plain": [
       "Mappings: 0it [00:00, ?it/s]"
      ]
     },
     "metadata": {},
     "output_type": "display_data"
    },
    {
     "name": "stdout",
     "output_type": "stream",
     "text": [
      "Submitted to device in 20.9074 s\n"
     ]
    },
    {
     "data": {
      "application/vnd.jupyter.widget-view+json": {
       "model_id": "8fd7098dfde64fee855329465c032817",
       "version_major": 2,
       "version_minor": 0
      },
      "text/plain": [
       "Running batch:   0%|          | 0/1 [00:00<?, ?it/s]"
      ]
     },
     "metadata": {},
     "output_type": "display_data"
    },
    {
     "name": "stdout",
     "output_type": "stream",
     "text": [
      "Predicted in 116.3181 s\n",
      "Iters. done: 81 Current cost: 0.07913704366494209 Accuracy: 0.12515955947025725 Time: 137.783960968256\n"
     ]
    },
    {
     "data": {
      "application/vnd.jupyter.widget-view+json": {
       "model_id": "1101dbb2f4fa4b47bf9c4e9bd9f62346",
       "version_major": 2,
       "version_minor": 0
      },
      "text/plain": [
       "Mappings: 0it [00:00, ?it/s]"
      ]
     },
     "metadata": {},
     "output_type": "display_data"
    },
    {
     "name": "stdout",
     "output_type": "stream",
     "text": [
      "Submitted to device in 21.7362 s\n"
     ]
    },
    {
     "data": {
      "application/vnd.jupyter.widget-view+json": {
       "model_id": "a820c42ecf8f4502855aaf18842f445c",
       "version_major": 2,
       "version_minor": 0
      },
      "text/plain": [
       "Running batch:   0%|          | 0/1 [00:00<?, ?it/s]"
      ]
     },
     "metadata": {},
     "output_type": "display_data"
    },
    {
     "name": "stdout",
     "output_type": "stream",
     "text": [
      "Predicted in 116.4160 s\n",
      "Iters. done: 82 Current cost: 0.08052027187626887 Accuracy: 0.10986831378165485 Time: 138.23272570595145\n"
     ]
    },
    {
     "data": {
      "application/vnd.jupyter.widget-view+json": {
       "model_id": "f41df3ebd7b44a248cd2378ffdd8ee3f",
       "version_major": 2,
       "version_minor": 0
      },
      "text/plain": [
       "Mappings: 0it [00:00, ?it/s]"
      ]
     },
     "metadata": {},
     "output_type": "display_data"
    },
    {
     "name": "stdout",
     "output_type": "stream",
     "text": [
      "Submitted to device in 19.8235 s\n"
     ]
    },
    {
     "data": {
      "application/vnd.jupyter.widget-view+json": {
       "model_id": "61bd00d240a74507a55fd23a6700b745",
       "version_major": 2,
       "version_minor": 0
      },
      "text/plain": [
       "Running batch:   0%|          | 0/1 [00:00<?, ?it/s]"
      ]
     },
     "metadata": {},
     "output_type": "display_data"
    },
    {
     "name": "stdout",
     "output_type": "stream",
     "text": [
      "Predicted in 117.4934 s\n",
      "Iters. done: 83 Current cost: 0.08321561988334876 Accuracy: 0.0800719083475796 Time: 137.4011093750596\n"
     ]
    },
    {
     "data": {
      "application/vnd.jupyter.widget-view+json": {
       "model_id": "0f3209b8f6904e31a86eff581d81b3d3",
       "version_major": 2,
       "version_minor": 0
      },
      "text/plain": [
       "Mappings: 0it [00:00, ?it/s]"
      ]
     },
     "metadata": {},
     "output_type": "display_data"
    },
    {
     "name": "stdout",
     "output_type": "stream",
     "text": [
      "Submitted to device in 17.5596 s\n"
     ]
    },
    {
     "data": {
      "application/vnd.jupyter.widget-view+json": {
       "model_id": "616ae543e56e44e29c99f9ceb3b545a4",
       "version_major": 2,
       "version_minor": 0
      },
      "text/plain": [
       "Running batch:   0%|          | 0/1 [00:00<?, ?it/s]"
      ]
     },
     "metadata": {},
     "output_type": "display_data"
    },
    {
     "name": "stdout",
     "output_type": "stream",
     "text": [
      "Predicted in 120.8210 s\n",
      "Iters. done: 84 Current cost: 0.08582111556212593 Accuracy: 0.05126879817492169 Time: 138.46847622841597\n"
     ]
    },
    {
     "data": {
      "application/vnd.jupyter.widget-view+json": {
       "model_id": "e448cbaf013344e68bc337966caa27f1",
       "version_major": 2,
       "version_minor": 0
      },
      "text/plain": [
       "Mappings: 0it [00:00, ?it/s]"
      ]
     },
     "metadata": {},
     "output_type": "display_data"
    },
    {
     "name": "stdout",
     "output_type": "stream",
     "text": [
      "Submitted to device in 21.2825 s\n"
     ]
    },
    {
     "data": {
      "application/vnd.jupyter.widget-view+json": {
       "model_id": "5533693fae324f83a50b9c040f7f06b9",
       "version_major": 2,
       "version_minor": 0
      },
      "text/plain": [
       "Running batch:   0%|          | 0/1 [00:00<?, ?it/s]"
      ]
     },
     "metadata": {},
     "output_type": "display_data"
    },
    {
     "name": "stdout",
     "output_type": "stream",
     "text": [
      "Predicted in 118.4381 s\n",
      "Iters. done: 85 Current cost: 0.08039702800870896 Accuracy: 0.1112307442490501 Time: 139.80647774413228\n"
     ]
    },
    {
     "data": {
      "application/vnd.jupyter.widget-view+json": {
       "model_id": "b8cf4840f66443fbb1cf977f2a4552b4",
       "version_major": 2,
       "version_minor": 0
      },
      "text/plain": [
       "Mappings: 0it [00:00, ?it/s]"
      ]
     },
     "metadata": {},
     "output_type": "display_data"
    },
    {
     "name": "stdout",
     "output_type": "stream",
     "text": [
      "Submitted to device in 23.8072 s\n"
     ]
    },
    {
     "data": {
      "application/vnd.jupyter.widget-view+json": {
       "model_id": "9ce45b2ea8824fc7bf23efcf50a77126",
       "version_major": 2,
       "version_minor": 0
      },
      "text/plain": [
       "Running batch:   0%|          | 0/1 [00:00<?, ?it/s]"
      ]
     },
     "metadata": {},
     "output_type": "display_data"
    },
    {
     "name": "stdout",
     "output_type": "stream",
     "text": [
      "Predicted in 116.5017 s\n",
      "Iters. done: 86 Current cost: 0.08244271976486306 Accuracy: 0.0886161279548261 Time: 140.39272186160088\n"
     ]
    },
    {
     "data": {
      "application/vnd.jupyter.widget-view+json": {
       "model_id": "82423b81beca4d36a6e8993481675e90",
       "version_major": 2,
       "version_minor": 0
      },
      "text/plain": [
       "Mappings: 0it [00:00, ?it/s]"
      ]
     },
     "metadata": {},
     "output_type": "display_data"
    },
    {
     "name": "stdout",
     "output_type": "stream",
     "text": [
      "Submitted to device in 20.5889 s\n"
     ]
    },
    {
     "data": {
      "application/vnd.jupyter.widget-view+json": {
       "model_id": "07a63d9985f248b79141a199664cf387",
       "version_major": 2,
       "version_minor": 0
      },
      "text/plain": [
       "Running batch:   0%|          | 0/1 [00:00<?, ?it/s]"
      ]
     },
     "metadata": {},
     "output_type": "display_data"
    },
    {
     "name": "stdout",
     "output_type": "stream",
     "text": [
      "Predicted in 122.1782 s\n",
      "Iters. done: 87 Current cost: 0.08389131371037933 Accuracy: 0.07260228024515236 Time: 142.855461910367\n"
     ]
    },
    {
     "data": {
      "application/vnd.jupyter.widget-view+json": {
       "model_id": "eaff7f2c808841e2a6674dc1d21adfc1",
       "version_major": 2,
       "version_minor": 0
      },
      "text/plain": [
       "Mappings: 0it [00:00, ?it/s]"
      ]
     },
     "metadata": {},
     "output_type": "display_data"
    },
    {
     "name": "stdout",
     "output_type": "stream",
     "text": [
      "Submitted to device in 19.2425 s\n"
     ]
    },
    {
     "data": {
      "application/vnd.jupyter.widget-view+json": {
       "model_id": "f324b5a0f6574be7b2c29bc8a533fd73",
       "version_major": 2,
       "version_minor": 0
      },
      "text/plain": [
       "Running batch:   0%|          | 0/1 [00:00<?, ?it/s]"
      ]
     },
     "metadata": {},
     "output_type": "display_data"
    },
    {
     "name": "stdout",
     "output_type": "stream",
     "text": [
      "Predicted in 119.5569 s\n",
      "Iters. done: 88 Current cost: 0.08490679339391435 Accuracy: 0.061376403556428705 Time: 138.88852513954043\n"
     ]
    },
    {
     "data": {
      "application/vnd.jupyter.widget-view+json": {
       "model_id": "8f473f532ece4b13ae0b65ae650b69ad",
       "version_major": 2,
       "version_minor": 0
      },
      "text/plain": [
       "Mappings: 0it [00:00, ?it/s]"
      ]
     },
     "metadata": {},
     "output_type": "display_data"
    },
    {
     "name": "stdout",
     "output_type": "stream",
     "text": [
      "Submitted to device in 20.5975 s\n"
     ]
    },
    {
     "data": {
      "application/vnd.jupyter.widget-view+json": {
       "model_id": "77a4707019784d69bdc9361ff7259581",
       "version_major": 2,
       "version_minor": 0
      },
      "text/plain": [
       "Running batch:   0%|          | 0/1 [00:00<?, ?it/s]"
      ]
     },
     "metadata": {},
     "output_type": "display_data"
    },
    {
     "name": "stdout",
     "output_type": "stream",
     "text": [
      "Predicted in 117.4218 s\n",
      "Iters. done: 89 Current cost: 0.07908884877004574 Accuracy: 0.12569234211072233 Time: 138.10108491405845\n"
     ]
    },
    {
     "data": {
      "application/vnd.jupyter.widget-view+json": {
       "model_id": "43ef2ba6927a486d98c70d3da593fbd4",
       "version_major": 2,
       "version_minor": 0
      },
      "text/plain": [
       "Mappings: 0it [00:00, ?it/s]"
      ]
     },
     "metadata": {},
     "output_type": "display_data"
    },
    {
     "name": "stdout",
     "output_type": "stream",
     "text": [
      "Submitted to device in 22.6903 s\n"
     ]
    },
    {
     "data": {
      "application/vnd.jupyter.widget-view+json": {
       "model_id": "82591340f289491c8bcea8fb6fd96ab9",
       "version_major": 2,
       "version_minor": 0
      },
      "text/plain": [
       "Running batch:   0%|          | 0/1 [00:00<?, ?it/s]"
      ]
     },
     "metadata": {},
     "output_type": "display_data"
    },
    {
     "name": "stdout",
     "output_type": "stream",
     "text": [
      "Predicted in 113.5694 s\n",
      "Iters. done: 90 Current cost: 0.07457416183698953 Accuracy: 0.17560108929732543 Time: 136.3511811606586\n"
     ]
    },
    {
     "data": {
      "application/vnd.jupyter.widget-view+json": {
       "model_id": "da5ef240185447abb8419fce1525ba5d",
       "version_major": 2,
       "version_minor": 0
      },
      "text/plain": [
       "Mappings: 0it [00:00, ?it/s]"
      ]
     },
     "metadata": {},
     "output_type": "display_data"
    },
    {
     "name": "stdout",
     "output_type": "stream",
     "text": [
      "Submitted to device in 19.8930 s\n"
     ]
    },
    {
     "data": {
      "application/vnd.jupyter.widget-view+json": {
       "model_id": "28f27ff29f014e26820a711613e6942d",
       "version_major": 2,
       "version_minor": 0
      },
      "text/plain": [
       "Running batch:   0%|          | 0/1 [00:00<?, ?it/s]"
      ]
     },
     "metadata": {},
     "output_type": "display_data"
    },
    {
     "name": "stdout",
     "output_type": "stream",
     "text": [
      "Predicted in 193.6884 s\n",
      "Iters. done: 91 Current cost: 0.0804622319130334 Accuracy: 0.11050993121710306 Time: 213.67097157984972\n"
     ]
    },
    {
     "data": {
      "application/vnd.jupyter.widget-view+json": {
       "model_id": "e6a3bedbf5f644eeacdef22da2b92d25",
       "version_major": 2,
       "version_minor": 0
      },
      "text/plain": [
       "Mappings: 0it [00:00, ?it/s]"
      ]
     },
     "metadata": {},
     "output_type": "display_data"
    },
    {
     "name": "stdout",
     "output_type": "stream",
     "text": [
      "Submitted to device in 23.8679 s\n"
     ]
    },
    {
     "data": {
      "application/vnd.jupyter.widget-view+json": {
       "model_id": "f875841fdacb414cbcda25a891752e70",
       "version_major": 2,
       "version_minor": 0
      },
      "text/plain": [
       "Running batch:   0%|          | 0/1 [00:00<?, ?it/s]"
      ]
     },
     "metadata": {},
     "output_type": "display_data"
    },
    {
     "name": "stdout",
     "output_type": "stream",
     "text": [
      "Predicted in 116.0618 s\n",
      "Iters. done: 92 Current cost: 0.07702030397294644 Accuracy: 0.14855959311913391 Time: 140.02000577747822\n"
     ]
    },
    {
     "data": {
      "application/vnd.jupyter.widget-view+json": {
       "model_id": "e88ac18eb79349d5b2d94d267e258ceb",
       "version_major": 2,
       "version_minor": 0
      },
      "text/plain": [
       "Mappings: 0it [00:00, ?it/s]"
      ]
     },
     "metadata": {},
     "output_type": "display_data"
    },
    {
     "name": "stdout",
     "output_type": "stream",
     "text": [
      "Submitted to device in 24.0138 s\n"
     ]
    },
    {
     "data": {
      "application/vnd.jupyter.widget-view+json": {
       "model_id": "810ed360a9b5423c93c204985a738a49",
       "version_major": 2,
       "version_minor": 0
      },
      "text/plain": [
       "Running batch:   0%|          | 0/1 [00:00<?, ?it/s]"
      ]
     },
     "metadata": {},
     "output_type": "display_data"
    },
    {
     "name": "stdout",
     "output_type": "stream",
     "text": [
      "Predicted in 114.0694 s\n",
      "Iters. done: 93 Current cost: 0.08231575581976183 Accuracy: 0.0900196829591553 Time: 138.16957158967853\n"
     ]
    },
    {
     "data": {
      "application/vnd.jupyter.widget-view+json": {
       "model_id": "c8bc340669874095aa8affe7c084516d",
       "version_major": 2,
       "version_minor": 0
      },
      "text/plain": [
       "Mappings: 0it [00:00, ?it/s]"
      ]
     },
     "metadata": {},
     "output_type": "display_data"
    },
    {
     "name": "stdout",
     "output_type": "stream",
     "text": [
      "Submitted to device in 30.3711 s\n"
     ]
    },
    {
     "data": {
      "application/vnd.jupyter.widget-view+json": {
       "model_id": "8fa24f5243c64137870fe68784c8e388",
       "version_major": 2,
       "version_minor": 0
      },
      "text/plain": [
       "Running batch:   0%|          | 0/1 [00:00<?, ?it/s]"
      ]
     },
     "metadata": {},
     "output_type": "display_data"
    },
    {
     "name": "stdout",
     "output_type": "stream",
     "text": [
      "Predicted in 116.6814 s\n",
      "Iters. done: 94 Current cost: 0.07696028915323633 Accuracy: 0.14922304210436266 Time: 147.13564240932465\n"
     ]
    },
    {
     "data": {
      "application/vnd.jupyter.widget-view+json": {
       "model_id": "1695e9f0009c4d63a8d404300af4e5a8",
       "version_major": 2,
       "version_minor": 0
      },
      "text/plain": [
       "Mappings: 0it [00:00, ?it/s]"
      ]
     },
     "metadata": {},
     "output_type": "display_data"
    },
    {
     "name": "stdout",
     "output_type": "stream",
     "text": [
      "Submitted to device in 19.4002 s\n"
     ]
    },
    {
     "data": {
      "application/vnd.jupyter.widget-view+json": {
       "model_id": "cb04819647774d19be28d63a6f653025",
       "version_major": 2,
       "version_minor": 0
      },
      "text/plain": [
       "Running batch:   0%|          | 0/1 [00:00<?, ?it/s]"
      ]
     },
     "metadata": {},
     "output_type": "display_data"
    },
    {
     "name": "stdout",
     "output_type": "stream",
     "text": [
      "Predicted in 120.4440 s\n",
      "Iters. done: 95 Current cost: 0.0804933664128751 Accuracy: 0.11016574702350956 Time: 140.25782141461968\n"
     ]
    },
    {
     "data": {
      "application/vnd.jupyter.widget-view+json": {
       "model_id": "66d0aaeefc1b452f9cb68f8f9513ddc8",
       "version_major": 2,
       "version_minor": 0
      },
      "text/plain": [
       "Mappings: 0it [00:00, ?it/s]"
      ]
     },
     "metadata": {},
     "output_type": "display_data"
    },
    {
     "name": "stdout",
     "output_type": "stream",
     "text": [
      "Submitted to device in 20.3208 s\n"
     ]
    },
    {
     "data": {
      "application/vnd.jupyter.widget-view+json": {
       "model_id": "accf19497f634b769f722d2b681dd5a7",
       "version_major": 2,
       "version_minor": 0
      },
      "text/plain": [
       "Running batch:   0%|          | 0/1 [00:00<?, ?it/s]"
      ]
     },
     "metadata": {},
     "output_type": "display_data"
    },
    {
     "name": "stdout",
     "output_type": "stream",
     "text": [
      "Predicted in 115.1523 s\n",
      "Iters. done: 96 Current cost: 0.07770016742659175 Accuracy: 0.14104387082597702 Time: 135.55795180797577\n"
     ]
    },
    {
     "data": {
      "application/vnd.jupyter.widget-view+json": {
       "model_id": "43afea010bdc408b804c0318138e0e66",
       "version_major": 2,
       "version_minor": 0
      },
      "text/plain": [
       "Mappings: 0it [00:00, ?it/s]"
      ]
     },
     "metadata": {},
     "output_type": "display_data"
    },
    {
     "name": "stdout",
     "output_type": "stream",
     "text": [
      "Submitted to device in 18.2091 s\n"
     ]
    },
    {
     "data": {
      "application/vnd.jupyter.widget-view+json": {
       "model_id": "f3a34ad61ddd43eb8f927193749047fc",
       "version_major": 2,
       "version_minor": 0
      },
      "text/plain": [
       "Running batch:   0%|          | 0/1 [00:00<?, ?it/s]"
      ]
     },
     "metadata": {},
     "output_type": "display_data"
    },
    {
     "name": "stdout",
     "output_type": "stream",
     "text": [
      "Predicted in 118.5221 s\n",
      "Iters. done: 97 Current cost: 0.08264673428977773 Accuracy: 0.08636079785168904 Time: 136.81897898763418\n"
     ]
    },
    {
     "data": {
      "application/vnd.jupyter.widget-view+json": {
       "model_id": "ad408ca7c3fb412e80a546562acdcc8c",
       "version_major": 2,
       "version_minor": 0
      },
      "text/plain": [
       "Mappings: 0it [00:00, ?it/s]"
      ]
     },
     "metadata": {},
     "output_type": "display_data"
    },
    {
     "name": "stdout",
     "output_type": "stream",
     "text": [
      "Submitted to device in 18.0669 s\n"
     ]
    },
    {
     "data": {
      "application/vnd.jupyter.widget-view+json": {
       "model_id": "cc6dea56e89e452482fcc8888294f203",
       "version_major": 2,
       "version_minor": 0
      },
      "text/plain": [
       "Running batch:   0%|          | 0/1 [00:00<?, ?it/s]"
      ]
     },
     "metadata": {},
     "output_type": "display_data"
    },
    {
     "name": "stdout",
     "output_type": "stream",
     "text": [
      "Predicted in 117.0547 s\n",
      "Iters. done: 98 Current cost: 0.07257325932759112 Accuracy: 0.19772057154877876 Time: 135.20546256378293\n"
     ]
    },
    {
     "data": {
      "application/vnd.jupyter.widget-view+json": {
       "model_id": "8bf7a28439a6414aa12252959e15d232",
       "version_major": 2,
       "version_minor": 0
      },
      "text/plain": [
       "Mappings: 0it [00:00, ?it/s]"
      ]
     },
     "metadata": {},
     "output_type": "display_data"
    },
    {
     "name": "stdout",
     "output_type": "stream",
     "text": [
      "Submitted to device in 27.0478 s\n"
     ]
    },
    {
     "data": {
      "application/vnd.jupyter.widget-view+json": {
       "model_id": "5c400ae0487e422bae729c82c50b85ac",
       "version_major": 2,
       "version_minor": 0
      },
      "text/plain": [
       "Running batch:   0%|          | 0/1 [00:00<?, ?it/s]"
      ]
     },
     "metadata": {},
     "output_type": "display_data"
    },
    {
     "name": "stdout",
     "output_type": "stream",
     "text": [
      "Predicted in 116.0264 s\n",
      "Iters. done: 99 Current cost: 0.07744012622360316 Accuracy: 0.14391856199515451 Time: 143.15091951563954\n"
     ]
    },
    {
     "data": {
      "application/vnd.jupyter.widget-view+json": {
       "model_id": "8b9b5f875cc4492fa1ee7470a7acdf4c",
       "version_major": 2,
       "version_minor": 0
      },
      "text/plain": [
       "Mappings: 0it [00:00, ?it/s]"
      ]
     },
     "metadata": {},
     "output_type": "display_data"
    },
    {
     "name": "stdout",
     "output_type": "stream",
     "text": [
      "Submitted to device in 18.7874 s\n"
     ]
    },
    {
     "data": {
      "application/vnd.jupyter.widget-view+json": {
       "model_id": "b9e0f830d8c1420bac821b8be774989e",
       "version_major": 2,
       "version_minor": 0
      },
      "text/plain": [
       "Running batch:   0%|          | 0/1 [00:00<?, ?it/s]"
      ]
     },
     "metadata": {},
     "output_type": "display_data"
    },
    {
     "name": "stdout",
     "output_type": "stream",
     "text": [
      "Predicted in 116.7274 s\n",
      "Iters. done: 100 Current cost: 0.07606683055001087 Accuracy: 0.1591000059362465 Time: 135.60512844473124\n"
     ]
    },
    {
     "data": {
      "application/vnd.jupyter.widget-view+json": {
       "model_id": "0b2125c968fd496abef67c2d7552751d",
       "version_major": 2,
       "version_minor": 0
      },
      "text/plain": [
       "Mappings: 0it [00:00, ?it/s]"
      ]
     },
     "metadata": {},
     "output_type": "display_data"
    },
    {
     "name": "stdout",
     "output_type": "stream",
     "text": [
      "Submitted to device in 22.8922 s\n"
     ]
    },
    {
     "data": {
      "application/vnd.jupyter.widget-view+json": {
       "model_id": "a08c2e37f76e4e8e865f5920b3dca60b",
       "version_major": 2,
       "version_minor": 0
      },
      "text/plain": [
       "Running batch:   0%|          | 0/1 [00:00<?, ?it/s]"
      ]
     },
     "metadata": {},
     "output_type": "display_data"
    },
    {
     "name": "stdout",
     "output_type": "stream",
     "text": [
      "Predicted in 113.9838 s\n",
      "Iters. done: 101 Current cost: 0.07731929597568099 Accuracy: 0.14525431049454385 Time: 136.96937257796526\n"
     ]
    },
    {
     "data": {
      "application/vnd.jupyter.widget-view+json": {
       "model_id": "a0008f3aa32c4125904a8730449a1837",
       "version_major": 2,
       "version_minor": 0
      },
      "text/plain": [
       "Mappings: 0it [00:00, ?it/s]"
      ]
     },
     "metadata": {},
     "output_type": "display_data"
    },
    {
     "name": "stdout",
     "output_type": "stream",
     "text": [
      "Submitted to device in 22.9582 s\n"
     ]
    },
    {
     "data": {
      "application/vnd.jupyter.widget-view+json": {
       "model_id": "20afee55368c456cb747cb1609530784",
       "version_major": 2,
       "version_minor": 0
      },
      "text/plain": [
       "Running batch:   0%|          | 0/1 [00:00<?, ?it/s]"
      ]
     },
     "metadata": {},
     "output_type": "display_data"
    },
    {
     "name": "stdout",
     "output_type": "stream",
     "text": [
      "Predicted in 113.7106 s\n",
      "Iters. done: 102 Current cost: 0.0716691742550476 Accuracy: 0.20771500837016244 Time: 136.75837054476142\n"
     ]
    },
    {
     "data": {
      "application/vnd.jupyter.widget-view+json": {
       "model_id": "b4985cb5be684f4499fe1b09b4603b66",
       "version_major": 2,
       "version_minor": 0
      },
      "text/plain": [
       "Mappings: 0it [00:00, ?it/s]"
      ]
     },
     "metadata": {},
     "output_type": "display_data"
    },
    {
     "name": "stdout",
     "output_type": "stream",
     "text": [
      "Submitted to device in 19.6987 s\n"
     ]
    },
    {
     "data": {
      "application/vnd.jupyter.widget-view+json": {
       "model_id": "370452303477459683a001c7da561896",
       "version_major": 2,
       "version_minor": 0
      },
      "text/plain": [
       "Running batch:   0%|          | 0/1 [00:00<?, ?it/s]"
      ]
     },
     "metadata": {},
     "output_type": "display_data"
    },
    {
     "name": "stdout",
     "output_type": "stream",
     "text": [
      "Predicted in 116.4632 s\n",
      "Iters. done: 103 Current cost: 0.08418596004228737 Accuracy: 0.06934503793650282 Time: 136.25498996675014\n"
     ]
    },
    {
     "data": {
      "application/vnd.jupyter.widget-view+json": {
       "model_id": "f368c2a681634094a374244218920b3d",
       "version_major": 2,
       "version_minor": 0
      },
      "text/plain": [
       "Mappings: 0it [00:00, ?it/s]"
      ]
     },
     "metadata": {},
     "output_type": "display_data"
    },
    {
     "name": "stdout",
     "output_type": "stream",
     "text": [
      "Submitted to device in 32.8391 s\n"
     ]
    },
    {
     "data": {
      "application/vnd.jupyter.widget-view+json": {
       "model_id": "3a6ae01265d445a7a16bbd21c46360fa",
       "version_major": 2,
       "version_minor": 0
      },
      "text/plain": [
       "Running batch:   0%|          | 0/1 [00:00<?, ?it/s]"
      ]
     },
     "metadata": {},
     "output_type": "display_data"
    },
    {
     "name": "stdout",
     "output_type": "stream",
     "text": [
      "Predicted in 114.2357 s\n",
      "Iters. done: 104 Current cost: 0.075165476877429 Accuracy: 0.169064247806757 Time: 147.16892785206437\n"
     ]
    },
    {
     "data": {
      "application/vnd.jupyter.widget-view+json": {
       "model_id": "04aad6936f33400e8544488285c4f6ef",
       "version_major": 2,
       "version_minor": 0
      },
      "text/plain": [
       "Mappings: 0it [00:00, ?it/s]"
      ]
     },
     "metadata": {},
     "output_type": "display_data"
    },
    {
     "name": "stdout",
     "output_type": "stream",
     "text": [
      "Submitted to device in 26.0441 s\n"
     ]
    },
    {
     "data": {
      "application/vnd.jupyter.widget-view+json": {
       "model_id": "ded20431c6dd4238a048db38d2fa5c8d",
       "version_major": 2,
       "version_minor": 0
      },
      "text/plain": [
       "Running batch:   0%|          | 0/1 [00:00<?, ?it/s]"
      ]
     },
     "metadata": {},
     "output_type": "display_data"
    },
    {
     "name": "stdout",
     "output_type": "stream",
     "text": [
      "Predicted in 120.9836 s\n",
      "Iters. done: 105 Current cost: 0.10008322303619802 Accuracy: -0.10639527174316066 Time: 147.12282399088144\n"
     ]
    },
    {
     "data": {
      "application/vnd.jupyter.widget-view+json": {
       "model_id": "b71aefe849114c4fb7465db08fe6e089",
       "version_major": 2,
       "version_minor": 0
      },
      "text/plain": [
       "Mappings: 0it [00:00, ?it/s]"
      ]
     },
     "metadata": {},
     "output_type": "display_data"
    },
    {
     "name": "stderr",
     "output_type": "stream",
     "text": [
      "/home/ubuntu/miniconda3/envs/qml/lib/python3.11/site-packages/qiskit_ibm_runtime/qiskit_runtime_service.py:874: UserWarning: The backend ibm_quebec currently has a status of internal.\n",
      "  warnings.warn(\n"
     ]
    },
    {
     "name": "stdout",
     "output_type": "stream",
     "text": [
      "Submitted to device in 23.2821 s\n"
     ]
    },
    {
     "data": {
      "application/vnd.jupyter.widget-view+json": {
       "model_id": "152cb859d4a74887bbd1c5427115f4e3",
       "version_major": 2,
       "version_minor": 0
      },
      "text/plain": [
       "Running batch:   0%|          | 0/1 [00:00<?, ?it/s]"
      ]
     },
     "metadata": {},
     "output_type": "display_data"
    },
    {
     "name": "stdout",
     "output_type": "stream",
     "text": [
      "Predicted in 422.0363 s\n",
      "Iters. done: 106 Current cost: 0.07626896449384504 Accuracy: 0.15686546519172995 Time: 445.3760052770376\n"
     ]
    },
    {
     "data": {
      "application/vnd.jupyter.widget-view+json": {
       "model_id": "2a1aa060f18e401d96f0197f42299b81",
       "version_major": 2,
       "version_minor": 0
      },
      "text/plain": [
       "Mappings: 0it [00:00, ?it/s]"
      ]
     },
     "metadata": {},
     "output_type": "display_data"
    },
    {
     "name": "stderr",
     "output_type": "stream",
     "text": [
      "/home/ubuntu/miniconda3/envs/qml/lib/python3.11/site-packages/qiskit_ibm_runtime/qiskit_runtime_service.py:874: UserWarning: The backend ibm_quebec currently has a status of internal.\n",
      "  warnings.warn(\n"
     ]
    },
    {
     "name": "stdout",
     "output_type": "stream",
     "text": [
      "Submitted to device in 19.8314 s\n"
     ]
    },
    {
     "data": {
      "application/vnd.jupyter.widget-view+json": {
       "model_id": "953998e3392e4521ba7c0f38c26cc6ba",
       "version_major": 2,
       "version_minor": 0
      },
      "text/plain": [
       "Running batch:   0%|          | 0/1 [00:00<?, ?it/s]"
      ]
     },
     "metadata": {},
     "output_type": "display_data"
    },
    {
     "name": "stdout",
     "output_type": "stream",
     "text": [
      "Predicted in 657.7482 s\n",
      "Iters. done: 107 Current cost: 0.06787057947562267 Accuracy: 0.24970753394764056 Time: 677.6816928386688\n"
     ]
    },
    {
     "data": {
      "application/vnd.jupyter.widget-view+json": {
       "model_id": "550d68cb07354ba985ae8121f8c54f5a",
       "version_major": 2,
       "version_minor": 0
      },
      "text/plain": [
       "Mappings: 0it [00:00, ?it/s]"
      ]
     },
     "metadata": {},
     "output_type": "display_data"
    },
    {
     "name": "stderr",
     "output_type": "stream",
     "text": [
      "/home/ubuntu/miniconda3/envs/qml/lib/python3.11/site-packages/qiskit_ibm_runtime/qiskit_runtime_service.py:874: UserWarning: The backend ibm_quebec currently has a status of internal.\n",
      "  warnings.warn(\n"
     ]
    },
    {
     "name": "stdout",
     "output_type": "stream",
     "text": [
      "Submitted to device in 23.5922 s\n"
     ]
    },
    {
     "data": {
      "application/vnd.jupyter.widget-view+json": {
       "model_id": "bad26013f4a44df4bdec9ebad844d571",
       "version_major": 2,
       "version_minor": 0
      },
      "text/plain": [
       "Running batch:   0%|          | 0/1 [00:00<?, ?it/s]"
      ]
     },
     "metadata": {},
     "output_type": "display_data"
    },
    {
     "name": "stdout",
     "output_type": "stream",
     "text": [
      "Predicted in 127.6967 s\n",
      "Iters. done: 108 Current cost: 0.06785923332976271 Accuracy: 0.24983296278327494 Time: 151.37078653648496\n"
     ]
    },
    {
     "data": {
      "application/vnd.jupyter.widget-view+json": {
       "model_id": "5fa5400ea4d44588a0c924e2b3176050",
       "version_major": 2,
       "version_minor": 0
      },
      "text/plain": [
       "Mappings: 0it [00:00, ?it/s]"
      ]
     },
     "metadata": {},
     "output_type": "display_data"
    },
    {
     "name": "stdout",
     "output_type": "stream",
     "text": [
      "Submitted to device in 21.7560 s\n"
     ]
    },
    {
     "data": {
      "application/vnd.jupyter.widget-view+json": {
       "model_id": "b5877ffe0cea4e57b1781df2e05baec5",
       "version_major": 2,
       "version_minor": 0
      },
      "text/plain": [
       "Running batch:   0%|          | 0/1 [00:00<?, ?it/s]"
      ]
     },
     "metadata": {},
     "output_type": "display_data"
    },
    {
     "name": "stdout",
     "output_type": "stream",
     "text": [
      "Predicted in 115.0115 s\n",
      "Iters. done: 109 Current cost: 0.07963732457270636 Accuracy: 0.11962907779608523 Time: 136.85157642140985\n"
     ]
    },
    {
     "data": {
      "application/vnd.jupyter.widget-view+json": {
       "model_id": "314d88f0da5045059ce80ac628e0e869",
       "version_major": 2,
       "version_minor": 0
      },
      "text/plain": [
       "Mappings: 0it [00:00, ?it/s]"
      ]
     },
     "metadata": {},
     "output_type": "display_data"
    },
    {
     "name": "stdout",
     "output_type": "stream",
     "text": [
      "Submitted to device in 22.0287 s\n"
     ]
    },
    {
     "data": {
      "application/vnd.jupyter.widget-view+json": {
       "model_id": "2a67c6a0244c4b4c9a1e430948efac5d",
       "version_major": 2,
       "version_minor": 0
      },
      "text/plain": [
       "Running batch:   0%|          | 0/1 [00:00<?, ?it/s]"
      ]
     },
     "metadata": {},
     "output_type": "display_data"
    },
    {
     "name": "stdout",
     "output_type": "stream",
     "text": [
      "Predicted in 113.1995 s\n",
      "Iters. done: 110 Current cost: 0.07466215848823186 Accuracy: 0.174628308086747 Time: 135.3276061862707\n"
     ]
    },
    {
     "data": {
      "application/vnd.jupyter.widget-view+json": {
       "model_id": "a04f57094d2548d4afec2bc1d4713bb3",
       "version_major": 2,
       "version_minor": 0
      },
      "text/plain": [
       "Mappings: 0it [00:00, ?it/s]"
      ]
     },
     "metadata": {},
     "output_type": "display_data"
    },
    {
     "name": "stdout",
     "output_type": "stream",
     "text": [
      "Submitted to device in 21.8177 s\n"
     ]
    },
    {
     "data": {
      "application/vnd.jupyter.widget-view+json": {
       "model_id": "27882dc07a7349a68810226cbec592a2",
       "version_major": 2,
       "version_minor": 0
      },
      "text/plain": [
       "Running batch:   0%|          | 0/1 [00:00<?, ?it/s]"
      ]
     },
     "metadata": {},
     "output_type": "display_data"
    },
    {
     "name": "stdout",
     "output_type": "stream",
     "text": [
      "Predicted in 114.1991 s\n",
      "Iters. done: 111 Current cost: 0.07597550945507457 Accuracy: 0.16010953804944983 Time: 136.12881371751428\n"
     ]
    },
    {
     "data": {
      "application/vnd.jupyter.widget-view+json": {
       "model_id": "9d191fc442f64331a5decdae3a67abe0",
       "version_major": 2,
       "version_minor": 0
      },
      "text/plain": [
       "Mappings: 0it [00:00, ?it/s]"
      ]
     },
     "metadata": {},
     "output_type": "display_data"
    },
    {
     "name": "stdout",
     "output_type": "stream",
     "text": [
      "Submitted to device in 17.8627 s\n"
     ]
    },
    {
     "data": {
      "application/vnd.jupyter.widget-view+json": {
       "model_id": "fb95964064e746e0a258fd64c8c5b1d9",
       "version_major": 2,
       "version_minor": 0
      },
      "text/plain": [
       "Running batch:   0%|          | 0/1 [00:00<?, ?it/s]"
      ]
     },
     "metadata": {},
     "output_type": "display_data"
    },
    {
     "name": "stdout",
     "output_type": "stream",
     "text": [
      "Predicted in 118.4361 s\n",
      "Iters. done: 112 Current cost: 0.06767772809914965 Accuracy: 0.25183945820633213 Time: 136.38930025696754\n"
     ]
    },
    {
     "data": {
      "application/vnd.jupyter.widget-view+json": {
       "model_id": "0b156c74ff8c4603a53671eb4ed6e852",
       "version_major": 2,
       "version_minor": 0
      },
      "text/plain": [
       "Mappings: 0it [00:00, ?it/s]"
      ]
     },
     "metadata": {},
     "output_type": "display_data"
    },
    {
     "name": "stdout",
     "output_type": "stream",
     "text": [
      "Submitted to device in 19.5332 s\n"
     ]
    },
    {
     "data": {
      "application/vnd.jupyter.widget-view+json": {
       "model_id": "90741142bb204576aefe9fc1d96e8fb6",
       "version_major": 2,
       "version_minor": 0
      },
      "text/plain": [
       "Running batch:   0%|          | 0/1 [00:00<?, ?it/s]"
      ]
     },
     "metadata": {},
     "output_type": "display_data"
    },
    {
     "name": "stdout",
     "output_type": "stream",
     "text": [
      "Predicted in 115.6768 s\n",
      "Iters. done: 113 Current cost: 0.08311895561822912 Accuracy: 0.08114050788534843 Time: 135.2949113100767\n"
     ]
    },
    {
     "data": {
      "application/vnd.jupyter.widget-view+json": {
       "model_id": "0aabfb84e91f4e2abb0304d6c881a1b8",
       "version_major": 2,
       "version_minor": 0
      },
      "text/plain": [
       "Mappings: 0it [00:00, ?it/s]"
      ]
     },
     "metadata": {},
     "output_type": "display_data"
    },
    {
     "name": "stdout",
     "output_type": "stream",
     "text": [
      "Submitted to device in 20.9526 s\n"
     ]
    },
    {
     "data": {
      "application/vnd.jupyter.widget-view+json": {
       "model_id": "bb17b93ca8cc43068353b960be9bdec0",
       "version_major": 2,
       "version_minor": 0
      },
      "text/plain": [
       "Running batch:   0%|          | 0/1 [00:00<?, ?it/s]"
      ]
     },
     "metadata": {},
     "output_type": "display_data"
    },
    {
     "name": "stdout",
     "output_type": "stream",
     "text": [
      "Predicted in 114.8261 s\n",
      "Iters. done: 114 Current cost: 0.06834795312357428 Accuracy: 0.24443028636382302 Time: 135.8632027618587\n"
     ]
    },
    {
     "data": {
      "application/vnd.jupyter.widget-view+json": {
       "model_id": "3a8b3effe5b94975844c0ef20fc7eb3e",
       "version_major": 2,
       "version_minor": 0
      },
      "text/plain": [
       "Mappings: 0it [00:00, ?it/s]"
      ]
     },
     "metadata": {},
     "output_type": "display_data"
    },
    {
     "name": "stdout",
     "output_type": "stream",
     "text": [
      "Submitted to device in 23.6417 s\n"
     ]
    },
    {
     "data": {
      "application/vnd.jupyter.widget-view+json": {
       "model_id": "bb9764e0663f47dea0de81629f876540",
       "version_major": 2,
       "version_minor": 0
      },
      "text/plain": [
       "Running batch:   0%|          | 0/1 [00:00<?, ?it/s]"
      ]
     },
     "metadata": {},
     "output_type": "display_data"
    },
    {
     "name": "stdout",
     "output_type": "stream",
     "text": [
      "Predicted in 112.6716 s\n",
      "Iters. done: 115 Current cost: 0.07709475025595874 Accuracy: 0.1477366078772031 Time: 136.4115792363882\n"
     ]
    },
    {
     "data": {
      "application/vnd.jupyter.widget-view+json": {
       "model_id": "5a944ae146294129b147dfbd29e1bbb4",
       "version_major": 2,
       "version_minor": 0
      },
      "text/plain": [
       "Mappings: 0it [00:00, ?it/s]"
      ]
     },
     "metadata": {},
     "output_type": "display_data"
    },
    {
     "name": "stdout",
     "output_type": "stream",
     "text": [
      "Submitted to device in 20.0041 s\n"
     ]
    },
    {
     "data": {
      "application/vnd.jupyter.widget-view+json": {
       "model_id": "135e0a4696904e919b234619ef513dcf",
       "version_major": 2,
       "version_minor": 0
      },
      "text/plain": [
       "Running batch:   0%|          | 0/1 [00:00<?, ?it/s]"
      ]
     },
     "metadata": {},
     "output_type": "display_data"
    },
    {
     "name": "stdout",
     "output_type": "stream",
     "text": [
      "Predicted in 116.5823 s\n",
      "Iters. done: 116 Current cost: 0.07076515216954037 Accuracy: 0.21770874888544178 Time: 136.67360280826688\n"
     ]
    },
    {
     "data": {
      "application/vnd.jupyter.widget-view+json": {
       "model_id": "84f7ae3fcec04a608c98eb521514f699",
       "version_major": 2,
       "version_minor": 0
      },
      "text/plain": [
       "Mappings: 0it [00:00, ?it/s]"
      ]
     },
     "metadata": {},
     "output_type": "display_data"
    },
    {
     "name": "stdout",
     "output_type": "stream",
     "text": [
      "Submitted to device in 37.9102 s\n"
     ]
    },
    {
     "data": {
      "application/vnd.jupyter.widget-view+json": {
       "model_id": "554dbddeb6fc471cbacdcbeb3012ced0",
       "version_major": 2,
       "version_minor": 0
      },
      "text/plain": [
       "Running batch:   0%|          | 0/1 [00:00<?, ?it/s]"
      ]
     },
     "metadata": {},
     "output_type": "display_data"
    },
    {
     "name": "stdout",
     "output_type": "stream",
     "text": [
      "Predicted in 105.9327 s\n",
      "Iters. done: 117 Current cost: 0.07627059592719393 Accuracy: 0.1568474300996474 Time: 143.9414463415742\n"
     ]
    },
    {
     "data": {
      "application/vnd.jupyter.widget-view+json": {
       "model_id": "40f13b5da62547039ce2607571251710",
       "version_major": 2,
       "version_minor": 0
      },
      "text/plain": [
       "Mappings: 0it [00:00, ?it/s]"
      ]
     },
     "metadata": {},
     "output_type": "display_data"
    },
    {
     "name": "stdout",
     "output_type": "stream",
     "text": [
      "Submitted to device in 22.1057 s\n"
     ]
    },
    {
     "data": {
      "application/vnd.jupyter.widget-view+json": {
       "model_id": "951c4cefe8704dcdbfbda61626bdf8cb",
       "version_major": 2,
       "version_minor": 0
      },
      "text/plain": [
       "Running batch:   0%|          | 0/1 [00:00<?, ?it/s]"
      ]
     },
     "metadata": {},
     "output_type": "display_data"
    },
    {
     "name": "stdout",
     "output_type": "stream",
     "text": [
      "Predicted in 113.3994 s\n",
      "Iters. done: 118 Current cost: 0.07769381260485976 Accuracy: 0.1411141218081472 Time: 135.59287710115314\n"
     ]
    },
    {
     "data": {
      "application/vnd.jupyter.widget-view+json": {
       "model_id": "b527fb16008e428dbf3bcc4206827a09",
       "version_major": 2,
       "version_minor": 0
      },
      "text/plain": [
       "Mappings: 0it [00:00, ?it/s]"
      ]
     },
     "metadata": {},
     "output_type": "display_data"
    },
    {
     "name": "stdout",
     "output_type": "stream",
     "text": [
      "Submitted to device in 20.3788 s\n"
     ]
    },
    {
     "data": {
      "application/vnd.jupyter.widget-view+json": {
       "model_id": "fe20ec0416774f20bf751aa23e27b930",
       "version_major": 2,
       "version_minor": 0
      },
      "text/plain": [
       "Running batch:   0%|          | 0/1 [00:00<?, ?it/s]"
      ]
     },
     "metadata": {},
     "output_type": "display_data"
    },
    {
     "name": "stdout",
     "output_type": "stream",
     "text": [
      "Predicted in 118.6048 s\n",
      "Iters. done: 119 Current cost: 0.08153006517485753 Accuracy: 0.09870529867179634 Time: 139.06957253441215\n"
     ]
    },
    {
     "data": {
      "application/vnd.jupyter.widget-view+json": {
       "model_id": "27d09ee01e324539868fbc3b444ee31b",
       "version_major": 2,
       "version_minor": 0
      },
      "text/plain": [
       "Mappings: 0it [00:00, ?it/s]"
      ]
     },
     "metadata": {},
     "output_type": "display_data"
    },
    {
     "name": "stdout",
     "output_type": "stream",
     "text": [
      "Submitted to device in 20.6763 s\n"
     ]
    },
    {
     "data": {
      "application/vnd.jupyter.widget-view+json": {
       "model_id": "8071a9111d4a435db599f7e02b3eef7c",
       "version_major": 2,
       "version_minor": 0
      },
      "text/plain": [
       "Running batch:   0%|          | 0/1 [00:00<?, ?it/s]"
      ]
     },
     "metadata": {},
     "output_type": "display_data"
    },
    {
     "name": "stdout",
     "output_type": "stream",
     "text": [
      "Predicted in 117.4273 s\n",
      "Iters. done: 120 Current cost: 0.0805203297956074 Accuracy: 0.10986767349769566 Time: 138.16375966370106\n"
     ]
    },
    {
     "data": {
      "application/vnd.jupyter.widget-view+json": {
       "model_id": "9f210fbbe6e14f2a80cb644f4e5ea0d4",
       "version_major": 2,
       "version_minor": 0
      },
      "text/plain": [
       "Mappings: 0it [00:00, ?it/s]"
      ]
     },
     "metadata": {},
     "output_type": "display_data"
    },
    {
     "name": "stdout",
     "output_type": "stream",
     "text": [
      "Submitted to device in 18.1316 s\n"
     ]
    },
    {
     "data": {
      "application/vnd.jupyter.widget-view+json": {
       "model_id": "546577bb7f4b43e2a45bbbd23e3d5587",
       "version_major": 2,
       "version_minor": 0
      },
      "text/plain": [
       "Running batch:   0%|          | 0/1 [00:00<?, ?it/s]"
      ]
     },
     "metadata": {},
     "output_type": "display_data"
    },
    {
     "name": "stdout",
     "output_type": "stream",
     "text": [
      "Predicted in 122.0656 s\n",
      "Iters. done: 121 Current cost: 0.07676867941331778 Accuracy: 0.1513412403781048 Time: 140.29122602567077\n"
     ]
    },
    {
     "data": {
      "application/vnd.jupyter.widget-view+json": {
       "model_id": "9e9a0732b2804ef8914be5dc6cd7b462",
       "version_major": 2,
       "version_minor": 0
      },
      "text/plain": [
       "Mappings: 0it [00:00, ?it/s]"
      ]
     },
     "metadata": {},
     "output_type": "display_data"
    },
    {
     "name": "stdout",
     "output_type": "stream",
     "text": [
      "Submitted to device in 18.9597 s\n"
     ]
    },
    {
     "data": {
      "application/vnd.jupyter.widget-view+json": {
       "model_id": "69dc8c546ad4453eb435398ee22a38b9",
       "version_major": 2,
       "version_minor": 0
      },
      "text/plain": [
       "Running batch:   0%|          | 0/1 [00:00<?, ?it/s]"
      ]
     },
     "metadata": {},
     "output_type": "display_data"
    },
    {
     "name": "stdout",
     "output_type": "stream",
     "text": [
      "Predicted in 117.8099 s\n",
      "Iters. done: 122 Current cost: 0.07419255704303758 Accuracy: 0.17981963589179573 Time: 136.8490381501615\n"
     ]
    },
    {
     "data": {
      "application/vnd.jupyter.widget-view+json": {
       "model_id": "8e582da333fa4421958ab25a350b1870",
       "version_major": 2,
       "version_minor": 0
      },
      "text/plain": [
       "Mappings: 0it [00:00, ?it/s]"
      ]
     },
     "metadata": {},
     "output_type": "display_data"
    },
    {
     "name": "stdout",
     "output_type": "stream",
     "text": [
      "Submitted to device in 17.7371 s\n"
     ]
    },
    {
     "data": {
      "application/vnd.jupyter.widget-view+json": {
       "model_id": "b61798a44dea4074bf3fc9dc8f508e01",
       "version_major": 2,
       "version_minor": 0
      },
      "text/plain": [
       "Running batch:   0%|          | 0/1 [00:00<?, ?it/s]"
      ]
     },
     "metadata": {},
     "output_type": "display_data"
    },
    {
     "name": "stdout",
     "output_type": "stream",
     "text": [
      "Predicted in 120.7670 s\n",
      "Iters. done: 123 Current cost: 0.09164748384048968 Accuracy: -0.013140261795943742 Time: 138.5836839005351\n"
     ]
    },
    {
     "data": {
      "application/vnd.jupyter.widget-view+json": {
       "model_id": "045b32b5fc0b4b2ca7d88cb7c8e5e782",
       "version_major": 2,
       "version_minor": 0
      },
      "text/plain": [
       "Mappings: 0it [00:00, ?it/s]"
      ]
     },
     "metadata": {},
     "output_type": "display_data"
    },
    {
     "name": "stdout",
     "output_type": "stream",
     "text": [
      "Submitted to device in 19.7726 s\n"
     ]
    },
    {
     "data": {
      "application/vnd.jupyter.widget-view+json": {
       "model_id": "ffaae998cc524bf093760dcbda3611f8",
       "version_major": 2,
       "version_minor": 0
      },
      "text/plain": [
       "Running batch:   0%|          | 0/1 [00:00<?, ?it/s]"
      ]
     },
     "metadata": {},
     "output_type": "display_data"
    },
    {
     "name": "stdout",
     "output_type": "stream",
     "text": [
      "Predicted in 118.7229 s\n",
      "Iters. done: 124 Current cost: 0.07999044829465625 Accuracy: 0.11572538240685504 Time: 138.58206405863166\n"
     ]
    },
    {
     "data": {
      "application/vnd.jupyter.widget-view+json": {
       "model_id": "522c51024c114ebe97cad466e4366199",
       "version_major": 2,
       "version_minor": 0
      },
      "text/plain": [
       "Mappings: 0it [00:00, ?it/s]"
      ]
     },
     "metadata": {},
     "output_type": "display_data"
    },
    {
     "name": "stdout",
     "output_type": "stream",
     "text": [
      "Submitted to device in 18.8261 s\n"
     ]
    },
    {
     "data": {
      "application/vnd.jupyter.widget-view+json": {
       "model_id": "4910e5afa2414ceab9c3e0a9d7c6661f",
       "version_major": 2,
       "version_minor": 0
      },
      "text/plain": [
       "Running batch:   0%|          | 0/1 [00:00<?, ?it/s]"
      ]
     },
     "metadata": {},
     "output_type": "display_data"
    },
    {
     "name": "stdout",
     "output_type": "stream",
     "text": [
      "Predicted in 122.4807 s\n",
      "Iters. done: 125 Current cost: 0.08601021048089243 Accuracy: 0.04917840062689072 Time: 141.40240156650543\n"
     ]
    },
    {
     "data": {
      "application/vnd.jupyter.widget-view+json": {
       "model_id": "ec21c19bb6b84081a5d9b78373e87022",
       "version_major": 2,
       "version_minor": 0
      },
      "text/plain": [
       "Mappings: 0it [00:00, ?it/s]"
      ]
     },
     "metadata": {},
     "output_type": "display_data"
    },
    {
     "name": "stdout",
     "output_type": "stream",
     "text": [
      "Submitted to device in 21.9851 s\n"
     ]
    },
    {
     "data": {
      "application/vnd.jupyter.widget-view+json": {
       "model_id": "eb10cc98c39b4ecc87ce295d162fe9f8",
       "version_major": 2,
       "version_minor": 0
      },
      "text/plain": [
       "Running batch:   0%|          | 0/1 [00:00<?, ?it/s]"
      ]
     },
     "metadata": {},
     "output_type": "display_data"
    },
    {
     "name": "stdout",
     "output_type": "stream",
     "text": [
      "Predicted in 118.4766 s\n",
      "Iters. done: 126 Current cost: 0.07636064558563962 Accuracy: 0.1558519534023156 Time: 140.561200696975\n"
     ]
    },
    {
     "data": {
      "application/vnd.jupyter.widget-view+json": {
       "model_id": "17f3d9d4a76a4a8f9f25582626dbda10",
       "version_major": 2,
       "version_minor": 0
      },
      "text/plain": [
       "Mappings: 0it [00:00, ?it/s]"
      ]
     },
     "metadata": {},
     "output_type": "display_data"
    },
    {
     "name": "stdout",
     "output_type": "stream",
     "text": [
      "Submitted to device in 18.8924 s\n"
     ]
    },
    {
     "data": {
      "application/vnd.jupyter.widget-view+json": {
       "model_id": "85ba37df31824bb6a3bfc1e0b7c60126",
       "version_major": 2,
       "version_minor": 0
      },
      "text/plain": [
       "Running batch:   0%|          | 0/1 [00:00<?, ?it/s]"
      ]
     },
     "metadata": {},
     "output_type": "display_data"
    },
    {
     "name": "stdout",
     "output_type": "stream",
     "text": [
      "Predicted in 116.6325 s\n",
      "Iters. done: 127 Current cost: 0.0952915799674981 Accuracy: -0.0534248429913502 Time: 135.62262820079923\n"
     ]
    },
    {
     "data": {
      "application/vnd.jupyter.widget-view+json": {
       "model_id": "adeea410ba7741be99c6d7bb40971a0e",
       "version_major": 2,
       "version_minor": 0
      },
      "text/plain": [
       "Mappings: 0it [00:00, ?it/s]"
      ]
     },
     "metadata": {},
     "output_type": "display_data"
    },
    {
     "name": "stdout",
     "output_type": "stream",
     "text": [
      "Submitted to device in 18.8980 s\n"
     ]
    },
    {
     "data": {
      "application/vnd.jupyter.widget-view+json": {
       "model_id": "ed8a911d7d5c4692bd7065725c9db9bb",
       "version_major": 2,
       "version_minor": 0
      },
      "text/plain": [
       "Running batch:   0%|          | 0/1 [00:00<?, ?it/s]"
      ]
     },
     "metadata": {},
     "output_type": "display_data"
    },
    {
     "name": "stdout",
     "output_type": "stream",
     "text": [
      "Predicted in 118.2294 s\n",
      "Iters. done: 128 Current cost: 0.07943953039323182 Accuracy: 0.12181564351919161 Time: 137.2245054319501\n"
     ]
    },
    {
     "data": {
      "application/vnd.jupyter.widget-view+json": {
       "model_id": "c1ae61f54438493da9b97d1e11f818b8",
       "version_major": 2,
       "version_minor": 0
      },
      "text/plain": [
       "Mappings: 0it [00:00, ?it/s]"
      ]
     },
     "metadata": {},
     "output_type": "display_data"
    },
    {
     "name": "stdout",
     "output_type": "stream",
     "text": [
      "Submitted to device in 22.0272 s\n"
     ]
    },
    {
     "data": {
      "application/vnd.jupyter.widget-view+json": {
       "model_id": "23c0bd70c793427f84c60b1e8a5eb06b",
       "version_major": 2,
       "version_minor": 0
      },
      "text/plain": [
       "Running batch:   0%|          | 0/1 [00:00<?, ?it/s]"
      ]
     },
     "metadata": {},
     "output_type": "display_data"
    },
    {
     "name": "stdout",
     "output_type": "stream",
     "text": [
      "Predicted in 113.7131 s\n",
      "Iters. done: 129 Current cost: 0.0762410680465696 Accuracy: 0.1571738535152436 Time: 135.82937064021826\n"
     ]
    },
    {
     "data": {
      "application/vnd.jupyter.widget-view+json": {
       "model_id": "1b98188a85214d2aa20fb90263377293",
       "version_major": 2,
       "version_minor": 0
      },
      "text/plain": [
       "Mappings: 0it [00:00, ?it/s]"
      ]
     },
     "metadata": {},
     "output_type": "display_data"
    },
    {
     "name": "stdout",
     "output_type": "stream",
     "text": [
      "Submitted to device in 22.5317 s\n"
     ]
    },
    {
     "data": {
      "application/vnd.jupyter.widget-view+json": {
       "model_id": "aca99a59d8a247f9b46fe8f09c9e1f98",
       "version_major": 2,
       "version_minor": 0
      },
      "text/plain": [
       "Running batch:   0%|          | 0/1 [00:00<?, ?it/s]"
      ]
     },
     "metadata": {},
     "output_type": "display_data"
    },
    {
     "name": "stdout",
     "output_type": "stream",
     "text": [
      "Predicted in 114.7307 s\n",
      "Iters. done: 130 Current cost: 0.08069311966084591 Accuracy: 0.10795752428281791 Time: 137.3484900407493\n"
     ]
    },
    {
     "data": {
      "application/vnd.jupyter.widget-view+json": {
       "model_id": "b4d8e1a2a93744259637a02fff15c326",
       "version_major": 2,
       "version_minor": 0
      },
      "text/plain": [
       "Mappings: 0it [00:00, ?it/s]"
      ]
     },
     "metadata": {},
     "output_type": "display_data"
    },
    {
     "name": "stdout",
     "output_type": "stream",
     "text": [
      "Submitted to device in 19.5519 s\n"
     ]
    },
    {
     "data": {
      "application/vnd.jupyter.widget-view+json": {
       "model_id": "4f4f80bbf4f1416286efa4328560e69c",
       "version_major": 2,
       "version_minor": 0
      },
      "text/plain": [
       "Running batch:   0%|          | 0/1 [00:00<?, ?it/s]"
      ]
     },
     "metadata": {},
     "output_type": "display_data"
    },
    {
     "name": "stdout",
     "output_type": "stream",
     "text": [
      "Predicted in 117.7672 s\n",
      "Iters. done: 131 Current cost: 0.08642764045911781 Accuracy: 0.04456381548283139 Time: 137.41375834867358\n"
     ]
    },
    {
     "data": {
      "application/vnd.jupyter.widget-view+json": {
       "model_id": "a665590caad04e1faa577ae9bd9d37eb",
       "version_major": 2,
       "version_minor": 0
      },
      "text/plain": [
       "Mappings: 0it [00:00, ?it/s]"
      ]
     },
     "metadata": {},
     "output_type": "display_data"
    },
    {
     "name": "stdout",
     "output_type": "stream",
     "text": [
      "Submitted to device in 17.8611 s\n"
     ]
    },
    {
     "data": {
      "application/vnd.jupyter.widget-view+json": {
       "model_id": "6721897f3e3b4a3785a15b829f3d39d5",
       "version_major": 2,
       "version_minor": 0
      },
      "text/plain": [
       "Running batch:   0%|          | 0/1 [00:00<?, ?it/s]"
      ]
     },
     "metadata": {},
     "output_type": "display_data"
    },
    {
     "name": "stdout",
     "output_type": "stream",
     "text": [
      "Predicted in 118.0787 s\n",
      "Iters. done: 132 Current cost: 0.07786841016572514 Accuracy: 0.13918398896530815 Time: 136.03259409964085\n"
     ]
    },
    {
     "data": {
      "application/vnd.jupyter.widget-view+json": {
       "model_id": "6a648f98d84d423d9b588a3e0513323f",
       "version_major": 2,
       "version_minor": 0
      },
      "text/plain": [
       "Mappings: 0it [00:00, ?it/s]"
      ]
     },
     "metadata": {},
     "output_type": "display_data"
    },
    {
     "name": "stdout",
     "output_type": "stream",
     "text": [
      "Submitted to device in 19.7920 s\n"
     ]
    },
    {
     "data": {
      "application/vnd.jupyter.widget-view+json": {
       "model_id": "ad5523dced1240e09e9d5ef61288b2ec",
       "version_major": 2,
       "version_minor": 0
      },
      "text/plain": [
       "Running batch:   0%|          | 0/1 [00:00<?, ?it/s]"
      ]
     },
     "metadata": {},
     "output_type": "display_data"
    },
    {
     "name": "stdout",
     "output_type": "stream",
     "text": [
      "Predicted in 118.9326 s\n",
      "Iters. done: 133 Current cost: 0.08653644058458151 Accuracy: 0.04336105701116855 Time: 138.824611838907\n"
     ]
    },
    {
     "data": {
      "application/vnd.jupyter.widget-view+json": {
       "model_id": "2858b09d49cf4271a80c1579104a418c",
       "version_major": 2,
       "version_minor": 0
      },
      "text/plain": [
       "Mappings: 0it [00:00, ?it/s]"
      ]
     },
     "metadata": {},
     "output_type": "display_data"
    },
    {
     "name": "stdout",
     "output_type": "stream",
     "text": [
      "Submitted to device in 19.6235 s\n"
     ]
    },
    {
     "data": {
      "application/vnd.jupyter.widget-view+json": {
       "model_id": "b39ad8dcd4534b79b03be056dd280cc6",
       "version_major": 2,
       "version_minor": 0
      },
      "text/plain": [
       "Running batch:   0%|          | 0/1 [00:00<?, ?it/s]"
      ]
     },
     "metadata": {},
     "output_type": "display_data"
    },
    {
     "name": "stdout",
     "output_type": "stream",
     "text": [
      "Predicted in 115.9550 s\n",
      "Iters. done: 134 Current cost: 0.07286923596867043 Accuracy: 0.19444862300133714 Time: 135.67860835045576\n"
     ]
    },
    {
     "data": {
      "application/vnd.jupyter.widget-view+json": {
       "model_id": "c77475282ac04bfeb7f2661b9184cf06",
       "version_major": 2,
       "version_minor": 0
      },
      "text/plain": [
       "Mappings: 0it [00:00, ?it/s]"
      ]
     },
     "metadata": {},
     "output_type": "display_data"
    },
    {
     "name": "stdout",
     "output_type": "stream",
     "text": [
      "Submitted to device in 18.6942 s\n"
     ]
    },
    {
     "data": {
      "application/vnd.jupyter.widget-view+json": {
       "model_id": "63276222b7364f32bc6f70405eabbb35",
       "version_major": 2,
       "version_minor": 0
      },
      "text/plain": [
       "Running batch:   0%|          | 0/1 [00:00<?, ?it/s]"
      ]
     },
     "metadata": {},
     "output_type": "display_data"
    },
    {
     "name": "stdout",
     "output_type": "stream",
     "text": [
      "Predicted in 117.3713 s\n",
      "Iters. done: 135 Current cost: 0.07272142227768058 Accuracy: 0.19608266678858532 Time: 136.15387572720647\n"
     ]
    },
    {
     "data": {
      "application/vnd.jupyter.widget-view+json": {
       "model_id": "3c54f07df7054628a2519cca1be59a0a",
       "version_major": 2,
       "version_minor": 0
      },
      "text/plain": [
       "Mappings: 0it [00:00, ?it/s]"
      ]
     },
     "metadata": {},
     "output_type": "display_data"
    },
    {
     "name": "stdout",
     "output_type": "stream",
     "text": [
      "Submitted to device in 21.2570 s\n"
     ]
    },
    {
     "data": {
      "application/vnd.jupyter.widget-view+json": {
       "model_id": "a67cdc22244848adb3c0bf11e0e41b32",
       "version_major": 2,
       "version_minor": 0
      },
      "text/plain": [
       "Running batch:   0%|          | 0/1 [00:00<?, ?it/s]"
      ]
     },
     "metadata": {},
     "output_type": "display_data"
    },
    {
     "name": "stdout",
     "output_type": "stream",
     "text": [
      "Predicted in 115.0109 s\n",
      "Iters. done: 136 Current cost: 0.07452920437299465 Accuracy: 0.17609808294006124 Time: 136.3534602485597\n"
     ]
    },
    {
     "data": {
      "application/vnd.jupyter.widget-view+json": {
       "model_id": "4280fc47e5904d6e8a979585f6e184b3",
       "version_major": 2,
       "version_minor": 0
      },
      "text/plain": [
       "Mappings: 0it [00:00, ?it/s]"
      ]
     },
     "metadata": {},
     "output_type": "display_data"
    },
    {
     "name": "stdout",
     "output_type": "stream",
     "text": [
      "Submitted to device in 20.4612 s\n"
     ]
    },
    {
     "data": {
      "application/vnd.jupyter.widget-view+json": {
       "model_id": "12dea755a09e480eb65ce5eb7ee183ec",
       "version_major": 2,
       "version_minor": 0
      },
      "text/plain": [
       "Running batch:   0%|          | 0/1 [00:00<?, ?it/s]"
      ]
     },
     "metadata": {},
     "output_type": "display_data"
    },
    {
     "name": "stdout",
     "output_type": "stream",
     "text": [
      "Predicted in 115.3068 s\n",
      "Iters. done: 137 Current cost: 0.08404213621730487 Accuracy: 0.07093497474206611 Time: 135.85723973810673\n"
     ]
    },
    {
     "data": {
      "application/vnd.jupyter.widget-view+json": {
       "model_id": "bdecdbc9a8594668b9a9de616aaaa56d",
       "version_major": 2,
       "version_minor": 0
      },
      "text/plain": [
       "Mappings: 0it [00:00, ?it/s]"
      ]
     },
     "metadata": {},
     "output_type": "display_data"
    },
    {
     "name": "stdout",
     "output_type": "stream",
     "text": [
      "Submitted to device in 19.6745 s\n"
     ]
    },
    {
     "data": {
      "application/vnd.jupyter.widget-view+json": {
       "model_id": "bbd8073f91bf44c18ed267b556eca4ed",
       "version_major": 2,
       "version_minor": 0
      },
      "text/plain": [
       "Running batch:   0%|          | 0/1 [00:00<?, ?it/s]"
      ]
     },
     "metadata": {},
     "output_type": "display_data"
    },
    {
     "name": "stdout",
     "output_type": "stream",
     "text": [
      "Predicted in 115.5823 s\n",
      "Iters. done: 138 Current cost: 0.07486401722858102 Accuracy: 0.17239680964867654 Time: 135.35229650512338\n"
     ]
    },
    {
     "data": {
      "application/vnd.jupyter.widget-view+json": {
       "model_id": "6b4c5695f459454eba20fa46d2a4ef38",
       "version_major": 2,
       "version_minor": 0
      },
      "text/plain": [
       "Mappings: 0it [00:00, ?it/s]"
      ]
     },
     "metadata": {},
     "output_type": "display_data"
    },
    {
     "name": "stdout",
     "output_type": "stream",
     "text": [
      "Submitted to device in 20.8202 s\n"
     ]
    },
    {
     "data": {
      "application/vnd.jupyter.widget-view+json": {
       "model_id": "e6088b4f83c049e790622c8fda41772b",
       "version_major": 2,
       "version_minor": 0
      },
      "text/plain": [
       "Running batch:   0%|          | 0/1 [00:00<?, ?it/s]"
      ]
     },
     "metadata": {},
     "output_type": "display_data"
    },
    {
     "name": "stdout",
     "output_type": "stream",
     "text": [
      "Predicted in 114.8536 s\n",
      "Iters. done: 139 Current cost: 0.08192752533636499 Accuracy: 0.09431147491135361 Time: 135.76985892653465\n"
     ]
    },
    {
     "data": {
      "application/vnd.jupyter.widget-view+json": {
       "model_id": "f37fdecb88a14169adaff3060aa988fc",
       "version_major": 2,
       "version_minor": 0
      },
      "text/plain": [
       "Mappings: 0it [00:00, ?it/s]"
      ]
     },
     "metadata": {},
     "output_type": "display_data"
    },
    {
     "name": "stdout",
     "output_type": "stream",
     "text": [
      "Submitted to device in 23.7785 s\n"
     ]
    },
    {
     "data": {
      "application/vnd.jupyter.widget-view+json": {
       "model_id": "6b67952c045f40968eb058679b26f26d",
       "version_major": 2,
       "version_minor": 0
      },
      "text/plain": [
       "Running batch:   0%|          | 0/1 [00:00<?, ?it/s]"
      ]
     },
     "metadata": {},
     "output_type": "display_data"
    },
    {
     "name": "stdout",
     "output_type": "stream",
     "text": [
      "Predicted in 111.7538 s\n",
      "Iters. done: 140 Current cost: 0.06897107709332961 Accuracy: 0.23754180502866684 Time: 135.60960342362523\n"
     ]
    },
    {
     "data": {
      "application/vnd.jupyter.widget-view+json": {
       "model_id": "50efbd32c29e48e28441aafdc57ba69e",
       "version_major": 2,
       "version_minor": 0
      },
      "text/plain": [
       "Mappings: 0it [00:00, ?it/s]"
      ]
     },
     "metadata": {},
     "output_type": "display_data"
    },
    {
     "name": "stdout",
     "output_type": "stream",
     "text": [
      "Submitted to device in 18.5150 s\n"
     ]
    },
    {
     "data": {
      "application/vnd.jupyter.widget-view+json": {
       "model_id": "3566a868ed0a4f289ee36ead59397d65",
       "version_major": 2,
       "version_minor": 0
      },
      "text/plain": [
       "Running batch:   0%|          | 0/1 [00:00<?, ?it/s]"
      ]
     },
     "metadata": {},
     "output_type": "display_data"
    },
    {
     "name": "stdout",
     "output_type": "stream",
     "text": [
      "Predicted in 120.0055 s\n",
      "Iters. done: 141 Current cost: 0.08279105466868589 Accuracy: 0.08476537176531673 Time: 138.61823282763362\n"
     ]
    },
    {
     "data": {
      "application/vnd.jupyter.widget-view+json": {
       "model_id": "54fa62c6767f404eb0034cdad74609b5",
       "version_major": 2,
       "version_minor": 0
      },
      "text/plain": [
       "Mappings: 0it [00:00, ?it/s]"
      ]
     },
     "metadata": {},
     "output_type": "display_data"
    },
    {
     "name": "stdout",
     "output_type": "stream",
     "text": [
      "Submitted to device in 18.1978 s\n"
     ]
    },
    {
     "data": {
      "application/vnd.jupyter.widget-view+json": {
       "model_id": "85163023adf3481f93314f0ccb9d84f6",
       "version_major": 2,
       "version_minor": 0
      },
      "text/plain": [
       "Running batch:   0%|          | 0/1 [00:00<?, ?it/s]"
      ]
     },
     "metadata": {},
     "output_type": "display_data"
    },
    {
     "name": "stdout",
     "output_type": "stream",
     "text": [
      "Predicted in 119.5130 s\n",
      "Iters. done: 142 Current cost: 0.07283968857844317 Accuracy: 0.19477526209076745 Time: 137.81463960185647\n"
     ]
    },
    {
     "data": {
      "application/vnd.jupyter.widget-view+json": {
       "model_id": "79f3f994f9c8431c84706370b4611e1a",
       "version_major": 2,
       "version_minor": 0
      },
      "text/plain": [
       "Mappings: 0it [00:00, ?it/s]"
      ]
     },
     "metadata": {},
     "output_type": "display_data"
    },
    {
     "name": "stdout",
     "output_type": "stream",
     "text": [
      "Submitted to device in 19.3138 s\n"
     ]
    },
    {
     "data": {
      "application/vnd.jupyter.widget-view+json": {
       "model_id": "0eff259b557d4b28978d6837815b492e",
       "version_major": 2,
       "version_minor": 0
      },
      "text/plain": [
       "Running batch:   0%|          | 0/1 [00:00<?, ?it/s]"
      ]
     },
     "metadata": {},
     "output_type": "display_data"
    },
    {
     "name": "stdout",
     "output_type": "stream",
     "text": [
      "Predicted in 120.0320 s\n",
      "Iters. done: 143 Current cost: 0.08507948519841223 Accuracy: 0.059467338378780155 Time: 139.44022070616484\n"
     ]
    },
    {
     "data": {
      "application/vnd.jupyter.widget-view+json": {
       "model_id": "830e8e0bd1fe4170bd62c39e4bb4a5b3",
       "version_major": 2,
       "version_minor": 0
      },
      "text/plain": [
       "Mappings: 0it [00:00, ?it/s]"
      ]
     },
     "metadata": {},
     "output_type": "display_data"
    },
    {
     "name": "stdout",
     "output_type": "stream",
     "text": [
      "Submitted to device in 40.1358 s\n"
     ]
    },
    {
     "data": {
      "application/vnd.jupyter.widget-view+json": {
       "model_id": "46b83884df1e4ed8b5982a251b3bca31",
       "version_major": 2,
       "version_minor": 0
      },
      "text/plain": [
       "Running batch:   0%|          | 0/1 [00:00<?, ?it/s]"
      ]
     },
     "metadata": {},
     "output_type": "display_data"
    },
    {
     "name": "stdout",
     "output_type": "stream",
     "text": [
      "Predicted in 113.3436 s\n",
      "Iters. done: 144 Current cost: 0.07341795953864591 Accuracy: 0.18838261968032777 Time: 153.57184839248657\n"
     ]
    },
    {
     "data": {
      "application/vnd.jupyter.widget-view+json": {
       "model_id": "478fd7bcf8d34d32bcb6cc051b768818",
       "version_major": 2,
       "version_minor": 0
      },
      "text/plain": [
       "Mappings: 0it [00:00, ?it/s]"
      ]
     },
     "metadata": {},
     "output_type": "display_data"
    },
    {
     "name": "stdout",
     "output_type": "stream",
     "text": [
      "Submitted to device in 18.6400 s\n"
     ]
    },
    {
     "data": {
      "application/vnd.jupyter.widget-view+json": {
       "model_id": "c74496f183074888aacb63ddcd84331f",
       "version_major": 2,
       "version_minor": 0
      },
      "text/plain": [
       "Running batch:   0%|          | 0/1 [00:00<?, ?it/s]"
      ]
     },
     "metadata": {},
     "output_type": "display_data"
    },
    {
     "name": "stdout",
     "output_type": "stream",
     "text": [
      "Predicted in 120.6928 s\n",
      "Iters. done: 145 Current cost: 0.08871007625043514 Accuracy: 0.01933205244640801 Time: 139.4162315800786\n"
     ]
    },
    {
     "data": {
      "application/vnd.jupyter.widget-view+json": {
       "model_id": "4133ed515acb4e4db6ef4ba55d78fbe6",
       "version_major": 2,
       "version_minor": 0
      },
      "text/plain": [
       "Mappings: 0it [00:00, ?it/s]"
      ]
     },
     "metadata": {},
     "output_type": "display_data"
    },
    {
     "name": "stdout",
     "output_type": "stream",
     "text": [
      "Submitted to device in 18.9913 s\n"
     ]
    },
    {
     "data": {
      "application/vnd.jupyter.widget-view+json": {
       "model_id": "83e7838484024b889fbe003c08744bd2",
       "version_major": 2,
       "version_minor": 0
      },
      "text/plain": [
       "Running batch:   0%|          | 0/1 [00:00<?, ?it/s]"
      ]
     },
     "metadata": {},
     "output_type": "display_data"
    },
    {
     "name": "stdout",
     "output_type": "stream",
     "text": [
      "Predicted in 119.4722 s\n",
      "Iters. done: 146 Current cost: 0.08135953769784116 Accuracy: 0.10059043774455545 Time: 138.57052163407207\n"
     ]
    },
    {
     "data": {
      "application/vnd.jupyter.widget-view+json": {
       "model_id": "5df1f9e300dc4b1cae3460d2dbe6ac4c",
       "version_major": 2,
       "version_minor": 0
      },
      "text/plain": [
       "Mappings: 0it [00:00, ?it/s]"
      ]
     },
     "metadata": {},
     "output_type": "display_data"
    },
    {
     "name": "stdout",
     "output_type": "stream",
     "text": [
      "Submitted to device in 19.6625 s\n"
     ]
    },
    {
     "data": {
      "application/vnd.jupyter.widget-view+json": {
       "model_id": "f2ca001e8b8146cda40078cfb07c72f2",
       "version_major": 2,
       "version_minor": 0
      },
      "text/plain": [
       "Running batch:   0%|          | 0/1 [00:00<?, ?it/s]"
      ]
     },
     "metadata": {},
     "output_type": "display_data"
    },
    {
     "name": "stdout",
     "output_type": "stream",
     "text": [
      "Predicted in 137.9515 s\n",
      "Iters. done: 147 Current cost: 0.07121589783155291 Accuracy: 0.21272586709886054 Time: 157.7011825479567\n"
     ]
    },
    {
     "data": {
      "application/vnd.jupyter.widget-view+json": {
       "model_id": "146fe5a6219848e189fded7657826b18",
       "version_major": 2,
       "version_minor": 0
      },
      "text/plain": [
       "Mappings: 0it [00:00, ?it/s]"
      ]
     },
     "metadata": {},
     "output_type": "display_data"
    },
    {
     "name": "stdout",
     "output_type": "stream",
     "text": [
      "Submitted to device in 21.4815 s\n"
     ]
    },
    {
     "data": {
      "application/vnd.jupyter.widget-view+json": {
       "model_id": "7bcbecc1186046ef9c562b769ac09c05",
       "version_major": 2,
       "version_minor": 0
      },
      "text/plain": [
       "Running batch:   0%|          | 0/1 [00:00<?, ?it/s]"
      ]
     },
     "metadata": {},
     "output_type": "display_data"
    },
    {
     "name": "stdout",
     "output_type": "stream",
     "text": [
      "Predicted in 116.3768 s\n",
      "Iters. done: 148 Current cost: 0.0830667725092234 Accuracy: 0.08171737924617484 Time: 137.94808880239725\n"
     ]
    },
    {
     "data": {
      "application/vnd.jupyter.widget-view+json": {
       "model_id": "43aefb21fd8f4784b7e83863f77949eb",
       "version_major": 2,
       "version_minor": 0
      },
      "text/plain": [
       "Mappings: 0it [00:00, ?it/s]"
      ]
     },
     "metadata": {},
     "output_type": "display_data"
    },
    {
     "name": "stdout",
     "output_type": "stream",
     "text": [
      "Submitted to device in 19.5614 s\n"
     ]
    },
    {
     "data": {
      "application/vnd.jupyter.widget-view+json": {
       "model_id": "f7423443c09e436ea213da27fdfa16e8",
       "version_major": 2,
       "version_minor": 0
      },
      "text/plain": [
       "Running batch:   0%|          | 0/1 [00:00<?, ?it/s]"
      ]
     },
     "metadata": {},
     "output_type": "display_data"
    },
    {
     "name": "stdout",
     "output_type": "stream",
     "text": [
      "Predicted in 116.1822 s\n",
      "Iters. done: 149 Current cost: 0.07709252866807575 Accuracy: 0.14776116698166575 Time: 135.8302834071219\n"
     ]
    },
    {
     "data": {
      "application/vnd.jupyter.widget-view+json": {
       "model_id": "ff19ee1d1f3346e78b0fa783e1b8c8e8",
       "version_major": 2,
       "version_minor": 0
      },
      "text/plain": [
       "Mappings: 0it [00:00, ?it/s]"
      ]
     },
     "metadata": {},
     "output_type": "display_data"
    },
    {
     "name": "stdout",
     "output_type": "stream",
     "text": [
      "Submitted to device in 19.6755 s\n"
     ]
    },
    {
     "data": {
      "application/vnd.jupyter.widget-view+json": {
       "model_id": "3250ff45ae104c92a81d8c6897e0a13b",
       "version_major": 2,
       "version_minor": 0
      },
      "text/plain": [
       "Running batch:   0%|          | 0/1 [00:00<?, ?it/s]"
      ]
     },
     "metadata": {},
     "output_type": "display_data"
    },
    {
     "name": "stdout",
     "output_type": "stream",
     "text": [
      "Predicted in 115.4087 s\n",
      "Iters. done: 150 Current cost: 0.08103761185229977 Accuracy: 0.1041492483279246 Time: 135.1442223712802\n"
     ]
    },
    {
     "data": {
      "application/vnd.jupyter.widget-view+json": {
       "model_id": "ea08b541fc984933838cfd3afff92280",
       "version_major": 2,
       "version_minor": 0
      },
      "text/plain": [
       "Mappings: 0it [00:00, ?it/s]"
      ]
     },
     "metadata": {},
     "output_type": "display_data"
    },
    {
     "name": "stdout",
     "output_type": "stream",
     "text": [
      "Submitted to device in 18.6197 s\n"
     ]
    },
    {
     "data": {
      "application/vnd.jupyter.widget-view+json": {
       "model_id": "536ff7a4df5946708a834e808f0b5957",
       "version_major": 2,
       "version_minor": 0
      },
      "text/plain": [
       "Running batch:   0%|          | 0/1 [00:00<?, ?it/s]"
      ]
     },
     "metadata": {},
     "output_type": "display_data"
    },
    {
     "name": "stdout",
     "output_type": "stream",
     "text": [
      "Predicted in 118.7699 s\n",
      "Iters. done: 151 Current cost: 0.07801609285375488 Accuracy: 0.13755139338337607 Time: 137.47544480487704\n"
     ]
    },
    {
     "data": {
      "application/vnd.jupyter.widget-view+json": {
       "model_id": "b8ec6957df9d4b87a2ae74d7526d223c",
       "version_major": 2,
       "version_minor": 0
      },
      "text/plain": [
       "Mappings: 0it [00:00, ?it/s]"
      ]
     },
     "metadata": {},
     "output_type": "display_data"
    },
    {
     "name": "stdout",
     "output_type": "stream",
     "text": [
      "Submitted to device in 18.5600 s\n"
     ]
    },
    {
     "data": {
      "application/vnd.jupyter.widget-view+json": {
       "model_id": "8ff2aa49d9f644948e4cef901b04c1b6",
       "version_major": 2,
       "version_minor": 0
      },
      "text/plain": [
       "Running batch:   0%|          | 0/1 [00:00<?, ?it/s]"
      ]
     },
     "metadata": {},
     "output_type": "display_data"
    },
    {
     "name": "stdout",
     "output_type": "stream",
     "text": [
      "Predicted in 117.4865 s\n",
      "Iters. done: 152 Current cost: 0.07620173494345553 Accuracy: 0.15760867123981526 Time: 136.1289401985705\n"
     ]
    },
    {
     "data": {
      "application/vnd.jupyter.widget-view+json": {
       "model_id": "7d7148b014b446afabc31a5a8b929a5e",
       "version_major": 2,
       "version_minor": 0
      },
      "text/plain": [
       "Mappings: 0it [00:00, ?it/s]"
      ]
     },
     "metadata": {},
     "output_type": "display_data"
    },
    {
     "name": "stdout",
     "output_type": "stream",
     "text": [
      "Submitted to device in 22.2586 s\n"
     ]
    },
    {
     "data": {
      "application/vnd.jupyter.widget-view+json": {
       "model_id": "6b1a0fac032d415789091d898ed3dd3b",
       "version_major": 2,
       "version_minor": 0
      },
      "text/plain": [
       "Running batch:   0%|          | 0/1 [00:00<?, ?it/s]"
      ]
     },
     "metadata": {},
     "output_type": "display_data"
    },
    {
     "name": "stdout",
     "output_type": "stream",
     "text": [
      "Predicted in 162.9944 s\n",
      "Iters. done: 153 Current cost: 0.07638304808020119 Accuracy: 0.15560429936694142 Time: 185.34543557837605\n"
     ]
    },
    {
     "data": {
      "application/vnd.jupyter.widget-view+json": {
       "model_id": "d1bd18f3ff2046bba769bd3942f7a59f",
       "version_major": 2,
       "version_minor": 0
      },
      "text/plain": [
       "Mappings: 0it [00:00, ?it/s]"
      ]
     },
     "metadata": {},
     "output_type": "display_data"
    },
    {
     "name": "stdout",
     "output_type": "stream",
     "text": [
      "Submitted to device in 21.5099 s\n"
     ]
    },
    {
     "data": {
      "application/vnd.jupyter.widget-view+json": {
       "model_id": "95733d118b804b7785cd00f060258974",
       "version_major": 2,
       "version_minor": 0
      },
      "text/plain": [
       "Running batch:   0%|          | 0/1 [00:00<?, ?it/s]"
      ]
     },
     "metadata": {},
     "output_type": "display_data"
    },
    {
     "name": "stdout",
     "output_type": "stream",
     "text": [
      "Predicted in 115.0422 s\n",
      "Iters. done: 154 Current cost: 0.07600681323861913 Accuracy: 0.15976348246639926 Time: 136.6470066830516\n"
     ]
    },
    {
     "data": {
      "application/vnd.jupyter.widget-view+json": {
       "model_id": "fe18aac37be14291a3ecb4d4a9a57a41",
       "version_major": 2,
       "version_minor": 0
      },
      "text/plain": [
       "Mappings: 0it [00:00, ?it/s]"
      ]
     },
     "metadata": {},
     "output_type": "display_data"
    },
    {
     "name": "stdout",
     "output_type": "stream",
     "text": [
      "Submitted to device in 18.2898 s\n"
     ]
    },
    {
     "data": {
      "application/vnd.jupyter.widget-view+json": {
       "model_id": "31fa2ce167a846b3a78960368b8dc29e",
       "version_major": 2,
       "version_minor": 0
      },
      "text/plain": [
       "Running batch:   0%|          | 0/1 [00:00<?, ?it/s]"
      ]
     },
     "metadata": {},
     "output_type": "display_data"
    },
    {
     "name": "stdout",
     "output_type": "stream",
     "text": [
      "Predicted in 120.7704 s\n",
      "Iters. done: 155 Current cost: 0.07580981784052032 Accuracy: 0.16194121785900206 Time: 139.1568537503481\n"
     ]
    },
    {
     "data": {
      "application/vnd.jupyter.widget-view+json": {
       "model_id": "0e6add115b954701b834a86d5599fd0f",
       "version_major": 2,
       "version_minor": 0
      },
      "text/plain": [
       "Mappings: 0it [00:00, ?it/s]"
      ]
     },
     "metadata": {},
     "output_type": "display_data"
    },
    {
     "name": "stdout",
     "output_type": "stream",
     "text": [
      "Submitted to device in 19.9143 s\n"
     ]
    },
    {
     "data": {
      "application/vnd.jupyter.widget-view+json": {
       "model_id": "32913a48d9c246898940396133b03241",
       "version_major": 2,
       "version_minor": 0
      },
      "text/plain": [
       "Running batch:   0%|          | 0/1 [00:00<?, ?it/s]"
      ]
     },
     "metadata": {},
     "output_type": "display_data"
    },
    {
     "name": "stdout",
     "output_type": "stream",
     "text": [
      "Predicted in 122.2822 s\n",
      "Iters. done: 156 Current cost: 0.07515150686822315 Accuracy: 0.16921868280258 Time: 142.2942708171904\n"
     ]
    },
    {
     "data": {
      "application/vnd.jupyter.widget-view+json": {
       "model_id": "a68966cd9c9f4858aa76c78935715024",
       "version_major": 2,
       "version_minor": 0
      },
      "text/plain": [
       "Mappings: 0it [00:00, ?it/s]"
      ]
     },
     "metadata": {},
     "output_type": "display_data"
    },
    {
     "name": "stdout",
     "output_type": "stream",
     "text": [
      "Submitted to device in 39.5535 s\n"
     ]
    },
    {
     "data": {
      "application/vnd.jupyter.widget-view+json": {
       "model_id": "f03f1e545709474dbe3850d2dc823267",
       "version_major": 2,
       "version_minor": 0
      },
      "text/plain": [
       "Running batch:   0%|          | 0/1 [00:00<?, ?it/s]"
      ]
     },
     "metadata": {},
     "output_type": "display_data"
    },
    {
     "name": "stdout",
     "output_type": "stream",
     "text": [
      "Predicted in 129.1746 s\n",
      "Iters. done: 157 Current cost: 0.07347383478582675 Accuracy: 0.18776493264534877 Time: 168.81795470044017\n"
     ]
    },
    {
     "data": {
      "application/vnd.jupyter.widget-view+json": {
       "model_id": "f3baae9a420f4776b166adf860a6fc35",
       "version_major": 2,
       "version_minor": 0
      },
      "text/plain": [
       "Mappings: 0it [00:00, ?it/s]"
      ]
     },
     "metadata": {},
     "output_type": "display_data"
    },
    {
     "name": "stdout",
     "output_type": "stream",
     "text": [
      "Submitted to device in 21.7414 s\n"
     ]
    },
    {
     "data": {
      "application/vnd.jupyter.widget-view+json": {
       "model_id": "1da2b3715786481a949c3828244045be",
       "version_major": 2,
       "version_minor": 0
      },
      "text/plain": [
       "Running batch:   0%|          | 0/1 [00:00<?, ?it/s]"
      ]
     },
     "metadata": {},
     "output_type": "display_data"
    },
    {
     "name": "stdout",
     "output_type": "stream",
     "text": [
      "Predicted in 148.0854 s\n",
      "Iters. done: 158 Current cost: 0.07395456697105524 Accuracy: 0.1824505572627816 Time: 170.29224048182368\n"
     ]
    },
    {
     "data": {
      "application/vnd.jupyter.widget-view+json": {
       "model_id": "8d9af3f701d542e1ba454e601b2e9af8",
       "version_major": 2,
       "version_minor": 0
      },
      "text/plain": [
       "Mappings: 0it [00:00, ?it/s]"
      ]
     },
     "metadata": {},
     "output_type": "display_data"
    },
    {
     "name": "stdout",
     "output_type": "stream",
     "text": [
      "Submitted to device in 20.3270 s\n"
     ]
    },
    {
     "data": {
      "application/vnd.jupyter.widget-view+json": {
       "model_id": "3c2e9281a81c40948a57bde167358e08",
       "version_major": 2,
       "version_minor": 0
      },
      "text/plain": [
       "Running batch:   0%|          | 0/1 [00:00<?, ?it/s]"
      ]
     },
     "metadata": {},
     "output_type": "display_data"
    },
    {
     "name": "stdout",
     "output_type": "stream",
     "text": [
      "Predicted in 117.1910 s\n",
      "Iters. done: 159 Current cost: 0.07697618887001034 Accuracy: 0.149047274668751 Time: 137.6087752133608\n"
     ]
    },
    {
     "data": {
      "application/vnd.jupyter.widget-view+json": {
       "model_id": "da1afe87011341398270bc8ea83ffc3f",
       "version_major": 2,
       "version_minor": 0
      },
      "text/plain": [
       "Mappings: 0it [00:00, ?it/s]"
      ]
     },
     "metadata": {},
     "output_type": "display_data"
    },
    {
     "name": "stdout",
     "output_type": "stream",
     "text": [
      "Submitted to device in 19.7117 s\n"
     ]
    },
    {
     "data": {
      "application/vnd.jupyter.widget-view+json": {
       "model_id": "52a90bcf945640f5bd690e59b5bd9922",
       "version_major": 2,
       "version_minor": 0
      },
      "text/plain": [
       "Running batch:   0%|          | 0/1 [00:00<?, ?it/s]"
      ]
     },
     "metadata": {},
     "output_type": "display_data"
    },
    {
     "name": "stdout",
     "output_type": "stream",
     "text": [
      "Predicted in 116.9936 s\n",
      "Iters. done: 160 Current cost: 0.07807821916156374 Accuracy: 0.13686460241956266 Time: 136.78769524022937\n"
     ]
    },
    {
     "data": {
      "application/vnd.jupyter.widget-view+json": {
       "model_id": "8fbc114053c0482eaac65132673cdcf6",
       "version_major": 2,
       "version_minor": 0
      },
      "text/plain": [
       "Mappings: 0it [00:00, ?it/s]"
      ]
     },
     "metadata": {},
     "output_type": "display_data"
    },
    {
     "name": "stdout",
     "output_type": "stream",
     "text": [
      "Submitted to device in 19.8270 s\n"
     ]
    },
    {
     "data": {
      "application/vnd.jupyter.widget-view+json": {
       "model_id": "4633be58ff894c698d1148e049d879bb",
       "version_major": 2,
       "version_minor": 0
      },
      "text/plain": [
       "Running batch:   0%|          | 0/1 [00:00<?, ?it/s]"
      ]
     },
     "metadata": {},
     "output_type": "display_data"
    },
    {
     "name": "stdout",
     "output_type": "stream",
     "text": [
      "Predicted in 114.7809 s\n",
      "Iters. done: 161 Current cost: 0.07406411002315672 Accuracy: 0.18123958592092593 Time: 134.69652542099357\n"
     ]
    },
    {
     "data": {
      "application/vnd.jupyter.widget-view+json": {
       "model_id": "2cd25683619642a88b8e24af1282c52e",
       "version_major": 2,
       "version_minor": 0
      },
      "text/plain": [
       "Mappings: 0it [00:00, ?it/s]"
      ]
     },
     "metadata": {},
     "output_type": "display_data"
    },
    {
     "name": "stdout",
     "output_type": "stream",
     "text": [
      "Submitted to device in 24.4976 s\n"
     ]
    },
    {
     "data": {
      "application/vnd.jupyter.widget-view+json": {
       "model_id": "72f4ca12abe34818b623fa148ad7d585",
       "version_major": 2,
       "version_minor": 0
      },
      "text/plain": [
       "Running batch:   0%|          | 0/1 [00:00<?, ?it/s]"
      ]
     },
     "metadata": {},
     "output_type": "display_data"
    },
    {
     "name": "stdout",
     "output_type": "stream",
     "text": [
      "Predicted in 136.5452 s\n",
      "Iters. done: 162 Current cost: 0.07702052828066144 Accuracy: 0.14855711345283462 Time: 161.13191637024283\n"
     ]
    },
    {
     "data": {
      "application/vnd.jupyter.widget-view+json": {
       "model_id": "4d412579d0974762b2f01a99a57014f2",
       "version_major": 2,
       "version_minor": 0
      },
      "text/plain": [
       "Mappings: 0it [00:00, ?it/s]"
      ]
     },
     "metadata": {},
     "output_type": "display_data"
    },
    {
     "name": "stdout",
     "output_type": "stream",
     "text": [
      "Submitted to device in 17.9544 s\n"
     ]
    },
    {
     "data": {
      "application/vnd.jupyter.widget-view+json": {
       "model_id": "5d59da282f5443939dfa8b6e831226d3",
       "version_major": 2,
       "version_minor": 0
      },
      "text/plain": [
       "Running batch:   0%|          | 0/1 [00:00<?, ?it/s]"
      ]
     },
     "metadata": {},
     "output_type": "display_data"
    },
    {
     "name": "stdout",
     "output_type": "stream",
     "text": [
      "Predicted in 118.8064 s\n",
      "Iters. done: 163 Current cost: 0.07444513590423527 Accuracy: 0.1770274390650577 Time: 136.84540777653456\n"
     ]
    },
    {
     "data": {
      "application/vnd.jupyter.widget-view+json": {
       "model_id": "1d50d6fa67824b29b67596ca75f781f7",
       "version_major": 2,
       "version_minor": 0
      },
      "text/plain": [
       "Mappings: 0it [00:00, ?it/s]"
      ]
     },
     "metadata": {},
     "output_type": "display_data"
    },
    {
     "name": "stdout",
     "output_type": "stream",
     "text": [
      "Submitted to device in 19.7712 s\n"
     ]
    },
    {
     "data": {
      "application/vnd.jupyter.widget-view+json": {
       "model_id": "4b3cf9966fe141f2aac1499315ba1e47",
       "version_major": 2,
       "version_minor": 0
      },
      "text/plain": [
       "Running batch:   0%|          | 0/1 [00:00<?, ?it/s]"
      ]
     },
     "metadata": {},
     "output_type": "display_data"
    },
    {
     "name": "stdout",
     "output_type": "stream",
     "text": [
      "Predicted in 116.0855 s\n",
      "Iters. done: 164 Current cost: 0.07152500528111422 Accuracy: 0.20930876071199367 Time: 135.94779244810343\n"
     ]
    },
    {
     "data": {
      "application/vnd.jupyter.widget-view+json": {
       "model_id": "5f08b2efb1804f39bd0e46952b718653",
       "version_major": 2,
       "version_minor": 0
      },
      "text/plain": [
       "Mappings: 0it [00:00, ?it/s]"
      ]
     },
     "metadata": {},
     "output_type": "display_data"
    },
    {
     "name": "stdout",
     "output_type": "stream",
     "text": [
      "Submitted to device in 18.6137 s\n"
     ]
    },
    {
     "data": {
      "application/vnd.jupyter.widget-view+json": {
       "model_id": "50155032b75047d9a09be18efa939dd3",
       "version_major": 2,
       "version_minor": 0
      },
      "text/plain": [
       "Running batch:   0%|          | 0/1 [00:00<?, ?it/s]"
      ]
     },
     "metadata": {},
     "output_type": "display_data"
    },
    {
     "name": "stdout",
     "output_type": "stream",
     "text": [
      "Predicted in 118.4334 s\n",
      "Iters. done: 165 Current cost: 0.07034083812217112 Accuracy: 0.2223994357108824 Time: 137.12726145610213\n"
     ]
    },
    {
     "data": {
      "application/vnd.jupyter.widget-view+json": {
       "model_id": "d4b942e6327a4d0ea74cce51aaea2453",
       "version_major": 2,
       "version_minor": 0
      },
      "text/plain": [
       "Mappings: 0it [00:00, ?it/s]"
      ]
     },
     "metadata": {},
     "output_type": "display_data"
    },
    {
     "name": "stdout",
     "output_type": "stream",
     "text": [
      "Submitted to device in 20.5685 s\n"
     ]
    },
    {
     "data": {
      "application/vnd.jupyter.widget-view+json": {
       "model_id": "6cf2b1bb3f7e446ca895e292647000e3",
       "version_major": 2,
       "version_minor": 0
      },
      "text/plain": [
       "Running batch:   0%|          | 0/1 [00:00<?, ?it/s]"
      ]
     },
     "metadata": {},
     "output_type": "display_data"
    },
    {
     "name": "stdout",
     "output_type": "stream",
     "text": [
      "Predicted in 116.4664 s\n",
      "Iters. done: 166 Current cost: 0.08033565749822025 Accuracy: 0.11190918006046091 Time: 137.12424974888563\n"
     ]
    },
    {
     "data": {
      "application/vnd.jupyter.widget-view+json": {
       "model_id": "fe9cf5e81b9d49fd9fab0968709dd009",
       "version_major": 2,
       "version_minor": 0
      },
      "text/plain": [
       "Mappings: 0it [00:00, ?it/s]"
      ]
     },
     "metadata": {},
     "output_type": "display_data"
    },
    {
     "name": "stdout",
     "output_type": "stream",
     "text": [
      "Submitted to device in 22.7923 s\n"
     ]
    },
    {
     "data": {
      "application/vnd.jupyter.widget-view+json": {
       "model_id": "9d78098e7228493aa344151cbd7cfbdc",
       "version_major": 2,
       "version_minor": 0
      },
      "text/plain": [
       "Running batch:   0%|          | 0/1 [00:00<?, ?it/s]"
      ]
     },
     "metadata": {},
     "output_type": "display_data"
    },
    {
     "name": "stdout",
     "output_type": "stream",
     "text": [
      "Predicted in 115.3927 s\n",
      "Iters. done: 167 Current cost: 0.06941153446436077 Accuracy: 0.23267265775373303 Time: 138.27744245901704\n"
     ]
    },
    {
     "data": {
      "application/vnd.jupyter.widget-view+json": {
       "model_id": "f8c92abc55fb458784f5ebafe7246002",
       "version_major": 2,
       "version_minor": 0
      },
      "text/plain": [
       "Mappings: 0it [00:00, ?it/s]"
      ]
     },
     "metadata": {},
     "output_type": "display_data"
    },
    {
     "name": "stdout",
     "output_type": "stream",
     "text": [
      "Submitted to device in 22.6581 s\n"
     ]
    },
    {
     "data": {
      "application/vnd.jupyter.widget-view+json": {
       "model_id": "f13ad6e0a0354cdd85ea893dae231059",
       "version_major": 2,
       "version_minor": 0
      },
      "text/plain": [
       "Running batch:   0%|          | 0/1 [00:00<?, ?it/s]"
      ]
     },
     "metadata": {},
     "output_type": "display_data"
    },
    {
     "name": "stdout",
     "output_type": "stream",
     "text": [
      "Predicted in 115.4277 s\n",
      "Iters. done: 168 Current cost: 0.07295994802339145 Accuracy: 0.19344582367704732 Time: 138.1747991964221\n"
     ]
    },
    {
     "data": {
      "application/vnd.jupyter.widget-view+json": {
       "model_id": "49f94f25461c480c852e3e903bc8a39f",
       "version_major": 2,
       "version_minor": 0
      },
      "text/plain": [
       "Mappings: 0it [00:00, ?it/s]"
      ]
     },
     "metadata": {},
     "output_type": "display_data"
    },
    {
     "name": "stdout",
     "output_type": "stream",
     "text": [
      "Submitted to device in 19.9119 s\n"
     ]
    },
    {
     "data": {
      "application/vnd.jupyter.widget-view+json": {
       "model_id": "ed38b044b69549da9bc69f64807941a6",
       "version_major": 2,
       "version_minor": 0
      },
      "text/plain": [
       "Running batch:   0%|          | 0/1 [00:00<?, ?it/s]"
      ]
     },
     "metadata": {},
     "output_type": "display_data"
    },
    {
     "name": "stdout",
     "output_type": "stream",
     "text": [
      "Predicted in 119.6404 s\n",
      "Iters. done: 169 Current cost: 0.07152164985503631 Accuracy: 0.2093458541172083 Time: 139.6550716906786\n"
     ]
    },
    {
     "data": {
      "application/vnd.jupyter.widget-view+json": {
       "model_id": "a76b6a3855e74f11a9a11c4603c764eb",
       "version_major": 2,
       "version_minor": 0
      },
      "text/plain": [
       "Mappings: 0it [00:00, ?it/s]"
      ]
     },
     "metadata": {},
     "output_type": "display_data"
    },
    {
     "name": "stdout",
     "output_type": "stream",
     "text": [
      "Submitted to device in 20.1347 s\n"
     ]
    },
    {
     "data": {
      "application/vnd.jupyter.widget-view+json": {
       "model_id": "f0b87863ca2e48e1b3f0196e80bb44ea",
       "version_major": 2,
       "version_minor": 0
      },
      "text/plain": [
       "Running batch:   0%|          | 0/1 [00:00<?, ?it/s]"
      ]
     },
     "metadata": {},
     "output_type": "display_data"
    },
    {
     "name": "stdout",
     "output_type": "stream",
     "text": [
      "Predicted in 118.0258 s\n",
      "Iters. done: 170 Current cost: 0.0773241127379654 Accuracy: 0.14520106237907648 Time: 138.25111388787627\n"
     ]
    },
    {
     "data": {
      "application/vnd.jupyter.widget-view+json": {
       "model_id": "d3c8e5e78f154625bcc9b061c1d5d284",
       "version_major": 2,
       "version_minor": 0
      },
      "text/plain": [
       "Mappings: 0it [00:00, ?it/s]"
      ]
     },
     "metadata": {},
     "output_type": "display_data"
    },
    {
     "name": "stdout",
     "output_type": "stream",
     "text": [
      "Submitted to device in 19.3634 s\n"
     ]
    },
    {
     "data": {
      "application/vnd.jupyter.widget-view+json": {
       "model_id": "cbc966803be342ac9b058cc6dfe9d531",
       "version_major": 2,
       "version_minor": 0
      },
      "text/plain": [
       "Running batch:   0%|          | 0/1 [00:00<?, ?it/s]"
      ]
     },
     "metadata": {},
     "output_type": "display_data"
    },
    {
     "name": "stdout",
     "output_type": "stream",
     "text": [
      "Predicted in 120.9469 s\n",
      "Iters. done: 171 Current cost: 0.06916080744202896 Accuracy: 0.23544438295992287 Time: 140.3888199776411\n"
     ]
    },
    {
     "data": {
      "application/vnd.jupyter.widget-view+json": {
       "model_id": "e98bcda5137944d1be76cc91911a3cfc",
       "version_major": 2,
       "version_minor": 0
      },
      "text/plain": [
       "Mappings: 0it [00:00, ?it/s]"
      ]
     },
     "metadata": {},
     "output_type": "display_data"
    },
    {
     "name": "stdout",
     "output_type": "stream",
     "text": [
      "Submitted to device in 20.7738 s\n"
     ]
    },
    {
     "data": {
      "application/vnd.jupyter.widget-view+json": {
       "model_id": "f8c04bd8d78543ff90b807b5006c6831",
       "version_major": 2,
       "version_minor": 0
      },
      "text/plain": [
       "Running batch:   0%|          | 0/1 [00:00<?, ?it/s]"
      ]
     },
     "metadata": {},
     "output_type": "display_data"
    },
    {
     "name": "stdout",
     "output_type": "stream",
     "text": [
      "Predicted in 119.9929 s\n",
      "Iters. done: 172 Current cost: 0.07262539268981068 Accuracy: 0.19714425012636683 Time: 140.8578807041049\n"
     ]
    },
    {
     "data": {
      "application/vnd.jupyter.widget-view+json": {
       "model_id": "a98814ed83de4fed8a59cd6c7b561bec",
       "version_major": 2,
       "version_minor": 0
      },
      "text/plain": [
       "Mappings: 0it [00:00, ?it/s]"
      ]
     },
     "metadata": {},
     "output_type": "display_data"
    },
    {
     "name": "stdout",
     "output_type": "stream",
     "text": [
      "Submitted to device in 19.4198 s\n"
     ]
    },
    {
     "data": {
      "application/vnd.jupyter.widget-view+json": {
       "model_id": "2d91da3b1fa04d43a6477a62d839ab01",
       "version_major": 2,
       "version_minor": 0
      },
      "text/plain": [
       "Running batch:   0%|          | 0/1 [00:00<?, ?it/s]"
      ]
     },
     "metadata": {},
     "output_type": "display_data"
    },
    {
     "name": "stdout",
     "output_type": "stream",
     "text": [
      "Predicted in 120.3072 s\n",
      "Iters. done: 173 Current cost: 0.0734774199672889 Accuracy: 0.18772529935119886 Time: 139.81805697456002\n"
     ]
    },
    {
     "data": {
      "application/vnd.jupyter.widget-view+json": {
       "model_id": "2a86058630454d8e881c872c78e1119f",
       "version_major": 2,
       "version_minor": 0
      },
      "text/plain": [
       "Mappings: 0it [00:00, ?it/s]"
      ]
     },
     "metadata": {},
     "output_type": "display_data"
    },
    {
     "name": "stdout",
     "output_type": "stream",
     "text": [
      "Submitted to device in 18.1593 s\n"
     ]
    },
    {
     "data": {
      "application/vnd.jupyter.widget-view+json": {
       "model_id": "a3780357c07d41318cee64da617df793",
       "version_major": 2,
       "version_minor": 0
      },
      "text/plain": [
       "Running batch:   0%|          | 0/1 [00:00<?, ?it/s]"
      ]
     },
     "metadata": {},
     "output_type": "display_data"
    },
    {
     "name": "stdout",
     "output_type": "stream",
     "text": [
      "Predicted in 121.6353 s\n",
      "Iters. done: 174 Current cost: 0.07829300477926364 Accuracy: 0.13449020055027383 Time: 139.8779544904828\n"
     ]
    },
    {
     "data": {
      "application/vnd.jupyter.widget-view+json": {
       "model_id": "1acb46a83c4e458d89e4b23990934368",
       "version_major": 2,
       "version_minor": 0
      },
      "text/plain": [
       "Mappings: 0it [00:00, ?it/s]"
      ]
     },
     "metadata": {},
     "output_type": "display_data"
    },
    {
     "name": "stdout",
     "output_type": "stream",
     "text": [
      "Submitted to device in 19.4970 s\n"
     ]
    },
    {
     "data": {
      "application/vnd.jupyter.widget-view+json": {
       "model_id": "7bc6d9322b3a41c69609c44092de6bbd",
       "version_major": 2,
       "version_minor": 0
      },
      "text/plain": [
       "Running batch:   0%|          | 0/1 [00:00<?, ?it/s]"
      ]
     },
     "metadata": {},
     "output_type": "display_data"
    },
    {
     "name": "stdout",
     "output_type": "stream",
     "text": [
      "Predicted in 121.8867 s\n",
      "Iters. done: 175 Current cost: 0.07740079389650036 Accuracy: 0.14435337114111357 Time: 141.47164312377572\n"
     ]
    },
    {
     "data": {
      "application/vnd.jupyter.widget-view+json": {
       "model_id": "7655c28bf36e4b869fca36b3c5686727",
       "version_major": 2,
       "version_minor": 0
      },
      "text/plain": [
       "Mappings: 0it [00:00, ?it/s]"
      ]
     },
     "metadata": {},
     "output_type": "display_data"
    },
    {
     "name": "stdout",
     "output_type": "stream",
     "text": [
      "Submitted to device in 17.9593 s\n"
     ]
    },
    {
     "data": {
      "application/vnd.jupyter.widget-view+json": {
       "model_id": "e9f3842a10bd41ba9047af4e2b52a146",
       "version_major": 2,
       "version_minor": 0
      },
      "text/plain": [
       "Running batch:   0%|          | 0/1 [00:00<?, ?it/s]"
      ]
     },
     "metadata": {},
     "output_type": "display_data"
    },
    {
     "name": "stdout",
     "output_type": "stream",
     "text": [
      "Predicted in 121.3033 s\n",
      "Iters. done: 176 Current cost: 0.07351230143887107 Accuracy: 0.187339693311953 Time: 139.35074726492167\n"
     ]
    },
    {
     "data": {
      "application/vnd.jupyter.widget-view+json": {
       "model_id": "b0c406f1c4d147bb8ff40b03deac279a",
       "version_major": 2,
       "version_minor": 0
      },
      "text/plain": [
       "Mappings: 0it [00:00, ?it/s]"
      ]
     },
     "metadata": {},
     "output_type": "display_data"
    },
    {
     "name": "stdout",
     "output_type": "stream",
     "text": [
      "Submitted to device in 20.1576 s\n"
     ]
    },
    {
     "data": {
      "application/vnd.jupyter.widget-view+json": {
       "model_id": "15fb9b7c8de64e10869f20274e0aa0ab",
       "version_major": 2,
       "version_minor": 0
      },
      "text/plain": [
       "Running batch:   0%|          | 0/1 [00:00<?, ?it/s]"
      ]
     },
     "metadata": {},
     "output_type": "display_data"
    },
    {
     "name": "stdout",
     "output_type": "stream",
     "text": [
      "Predicted in 115.4594 s\n",
      "Iters. done: 177 Current cost: 0.07003953830270916 Accuracy: 0.22573023067847875 Time: 136.06606967747211\n"
     ]
    },
    {
     "data": {
      "application/vnd.jupyter.widget-view+json": {
       "model_id": "be8bb42023794cb88f03002c1e290e48",
       "version_major": 2,
       "version_minor": 0
      },
      "text/plain": [
       "Mappings: 0it [00:00, ?it/s]"
      ]
     },
     "metadata": {},
     "output_type": "display_data"
    },
    {
     "name": "stdout",
     "output_type": "stream",
     "text": [
      "Submitted to device in 19.5286 s\n"
     ]
    },
    {
     "data": {
      "application/vnd.jupyter.widget-view+json": {
       "model_id": "4f2c2502ebed46428ee226af3c83ac4b",
       "version_major": 2,
       "version_minor": 0
      },
      "text/plain": [
       "Running batch:   0%|          | 0/1 [00:00<?, ?it/s]"
      ]
     },
     "metadata": {},
     "output_type": "display_data"
    },
    {
     "name": "stdout",
     "output_type": "stream",
     "text": [
      "Predicted in 116.7329 s\n",
      "Iters. done: 178 Current cost: 0.07284703470257628 Accuracy: 0.19469405250578453 Time: 136.35614504665136\n"
     ]
    },
    {
     "data": {
      "application/vnd.jupyter.widget-view+json": {
       "model_id": "adcfff30329645f684575d93f427ea65",
       "version_major": 2,
       "version_minor": 0
      },
      "text/plain": [
       "Mappings: 0it [00:00, ?it/s]"
      ]
     },
     "metadata": {},
     "output_type": "display_data"
    },
    {
     "name": "stdout",
     "output_type": "stream",
     "text": [
      "Submitted to device in 20.6798 s\n"
     ]
    },
    {
     "data": {
      "application/vnd.jupyter.widget-view+json": {
       "model_id": "e5b68df850e3498f9a26909429fb9bbb",
       "version_major": 2,
       "version_minor": 0
      },
      "text/plain": [
       "Running batch:   0%|          | 0/1 [00:00<?, ?it/s]"
      ]
     },
     "metadata": {},
     "output_type": "display_data"
    },
    {
     "name": "stdout",
     "output_type": "stream",
     "text": [
      "Predicted in 114.1767 s\n",
      "Iters. done: 179 Current cost: 0.07487510133112876 Accuracy: 0.1722742776370335 Time: 134.94310362264514\n"
     ]
    },
    {
     "data": {
      "application/vnd.jupyter.widget-view+json": {
       "model_id": "ccc52540ec7642d0a5dfe88599d66bb6",
       "version_major": 2,
       "version_minor": 0
      },
      "text/plain": [
       "Mappings: 0it [00:00, ?it/s]"
      ]
     },
     "metadata": {},
     "output_type": "display_data"
    },
    {
     "name": "stdout",
     "output_type": "stream",
     "text": [
      "Submitted to device in 17.2741 s\n"
     ]
    },
    {
     "data": {
      "application/vnd.jupyter.widget-view+json": {
       "model_id": "38dd321d16c947289aa673d40b4e48cb",
       "version_major": 2,
       "version_minor": 0
      },
      "text/plain": [
       "Running batch:   0%|          | 0/1 [00:00<?, ?it/s]"
      ]
     },
     "metadata": {},
     "output_type": "display_data"
    },
    {
     "name": "stdout",
     "output_type": "stream",
     "text": [
      "Predicted in 183.2752 s\n",
      "Iters. done: 180 Current cost: 0.07733227940763542 Accuracy: 0.14511078186617243 Time: 200.6399226784706\n"
     ]
    },
    {
     "data": {
      "application/vnd.jupyter.widget-view+json": {
       "model_id": "6ad640d8613844f7a203386e08545140",
       "version_major": 2,
       "version_minor": 0
      },
      "text/plain": [
       "Mappings: 0it [00:00, ?it/s]"
      ]
     },
     "metadata": {},
     "output_type": "display_data"
    },
    {
     "name": "stdout",
     "output_type": "stream",
     "text": [
      "Submitted to device in 21.8719 s\n"
     ]
    },
    {
     "data": {
      "application/vnd.jupyter.widget-view+json": {
       "model_id": "09beaf3237a54659a85a7594b16de722",
       "version_major": 2,
       "version_minor": 0
      },
      "text/plain": [
       "Running batch:   0%|          | 0/1 [00:00<?, ?it/s]"
      ]
     },
     "metadata": {},
     "output_type": "display_data"
    },
    {
     "name": "stdout",
     "output_type": "stream",
     "text": [
      "Predicted in 329.9378 s\n",
      "Iters. done: 181 Current cost: 0.07920855169371427 Accuracy: 0.12436905590207581 Time: 351.91148483380675\n"
     ]
    },
    {
     "data": {
      "application/vnd.jupyter.widget-view+json": {
       "model_id": "f1dfd22c440e4c5f8e3df0b5c8c97001",
       "version_major": 2,
       "version_minor": 0
      },
      "text/plain": [
       "Mappings: 0it [00:00, ?it/s]"
      ]
     },
     "metadata": {},
     "output_type": "display_data"
    },
    {
     "name": "stdout",
     "output_type": "stream",
     "text": [
      "Submitted to device in 22.7333 s\n"
     ]
    },
    {
     "data": {
      "application/vnd.jupyter.widget-view+json": {
       "model_id": "1898d1ef7ace4d0882453069e94ea1da",
       "version_major": 2,
       "version_minor": 0
      },
      "text/plain": [
       "Running batch:   0%|          | 0/1 [00:00<?, ?it/s]"
      ]
     },
     "metadata": {},
     "output_type": "display_data"
    },
    {
     "name": "stdout",
     "output_type": "stream",
     "text": [
      "Predicted in 287.6475 s\n",
      "Iters. done: 182 Current cost: 0.08178594813056253 Accuracy: 0.09587657589765775 Time: 310.47636710479856\n"
     ]
    },
    {
     "data": {
      "application/vnd.jupyter.widget-view+json": {
       "model_id": "f69688ca9e914ec69b1c1b858a60013c",
       "version_major": 2,
       "version_minor": 0
      },
      "text/plain": [
       "Mappings: 0it [00:00, ?it/s]"
      ]
     },
     "metadata": {},
     "output_type": "display_data"
    },
    {
     "name": "stdout",
     "output_type": "stream",
     "text": [
      "Submitted to device in 21.1198 s\n"
     ]
    },
    {
     "data": {
      "application/vnd.jupyter.widget-view+json": {
       "model_id": "05d2fd914ddd47ba94051fcf9ece1886",
       "version_major": 2,
       "version_minor": 0
      },
      "text/plain": [
       "Running batch:   0%|          | 0/1 [00:00<?, ?it/s]"
      ]
     },
     "metadata": {},
     "output_type": "display_data"
    },
    {
     "name": "stdout",
     "output_type": "stream",
     "text": [
      "Predicted in 180.7266 s\n",
      "Iters. done: 183 Current cost: 0.07475300689622155 Accuracy: 0.17362400141080359 Time: 201.94683869183064\n"
     ]
    },
    {
     "data": {
      "application/vnd.jupyter.widget-view+json": {
       "model_id": "588d42c5e19a43a5a1f10e41017ee08f",
       "version_major": 2,
       "version_minor": 0
      },
      "text/plain": [
       "Mappings: 0it [00:00, ?it/s]"
      ]
     },
     "metadata": {},
     "output_type": "display_data"
    },
    {
     "name": "stdout",
     "output_type": "stream",
     "text": [
      "Submitted to device in 21.6509 s\n"
     ]
    },
    {
     "data": {
      "application/vnd.jupyter.widget-view+json": {
       "model_id": "8f0ffbbfcbfe43e1832928166df54432",
       "version_major": 2,
       "version_minor": 0
      },
      "text/plain": [
       "Running batch:   0%|          | 0/1 [00:00<?, ?it/s]"
      ]
     },
     "metadata": {},
     "output_type": "display_data"
    },
    {
     "name": "stdout",
     "output_type": "stream",
     "text": [
      "Predicted in 118.9826 s\n",
      "Iters. done: 184 Current cost: 0.07391048878012327 Accuracy: 0.18293783075932446 Time: 140.73021383583546\n"
     ]
    },
    {
     "data": {
      "application/vnd.jupyter.widget-view+json": {
       "model_id": "4dcfbb9ccc134f3f998165326963a67f",
       "version_major": 2,
       "version_minor": 0
      },
      "text/plain": [
       "Mappings: 0it [00:00, ?it/s]"
      ]
     },
     "metadata": {},
     "output_type": "display_data"
    },
    {
     "name": "stdout",
     "output_type": "stream",
     "text": [
      "Submitted to device in 20.3409 s\n"
     ]
    },
    {
     "data": {
      "application/vnd.jupyter.widget-view+json": {
       "model_id": "a7d5f1951adc4a8a8950ad25280e6a82",
       "version_major": 2,
       "version_minor": 0
      },
      "text/plain": [
       "Running batch:   0%|          | 0/1 [00:00<?, ?it/s]"
      ]
     },
     "metadata": {},
     "output_type": "display_data"
    },
    {
     "name": "stdout",
     "output_type": "stream",
     "text": [
      "Predicted in 122.7571 s\n",
      "Iters. done: 185 Current cost: 0.07445496320308362 Accuracy: 0.17691880070739918 Time: 143.1981719136238\n"
     ]
    },
    {
     "data": {
      "application/vnd.jupyter.widget-view+json": {
       "model_id": "6f59ca4e590043bc833d03d7918184d5",
       "version_major": 2,
       "version_minor": 0
      },
      "text/plain": [
       "Mappings: 0it [00:00, ?it/s]"
      ]
     },
     "metadata": {},
     "output_type": "display_data"
    },
    {
     "name": "stdout",
     "output_type": "stream",
     "text": [
      "Submitted to device in 22.3900 s\n"
     ]
    },
    {
     "data": {
      "application/vnd.jupyter.widget-view+json": {
       "model_id": "8a88ce4e031d4075bff2d205be17721d",
       "version_major": 2,
       "version_minor": 0
      },
      "text/plain": [
       "Running batch:   0%|          | 0/1 [00:00<?, ?it/s]"
      ]
     },
     "metadata": {},
     "output_type": "display_data"
    },
    {
     "name": "stdout",
     "output_type": "stream",
     "text": [
      "Predicted in 115.0951 s\n",
      "Iters. done: 186 Current cost: 0.07905009047518989 Accuracy: 0.12612080547219728 Time: 137.58526101708412\n"
     ]
    },
    {
     "data": {
      "application/vnd.jupyter.widget-view+json": {
       "model_id": "0921d77eaa6c48c59edc3549c9126b56",
       "version_major": 2,
       "version_minor": 0
      },
      "text/plain": [
       "Mappings: 0it [00:00, ?it/s]"
      ]
     },
     "metadata": {},
     "output_type": "display_data"
    },
    {
     "name": "stdout",
     "output_type": "stream",
     "text": [
      "Submitted to device in 17.8152 s\n"
     ]
    },
    {
     "data": {
      "application/vnd.jupyter.widget-view+json": {
       "model_id": "e6410f301e78400e96bafc5faad6cf41",
       "version_major": 2,
       "version_minor": 0
      },
      "text/plain": [
       "Running batch:   0%|          | 0/1 [00:00<?, ?it/s]"
      ]
     },
     "metadata": {},
     "output_type": "display_data"
    },
    {
     "name": "stdout",
     "output_type": "stream",
     "text": [
      "Predicted in 117.9807 s\n",
      "Iters. done: 187 Current cost: 0.07398972540640693 Accuracy: 0.18206188945757984 Time: 135.89648946747184\n"
     ]
    },
    {
     "data": {
      "application/vnd.jupyter.widget-view+json": {
       "model_id": "d1fc1995001c482c97f2382589795505",
       "version_major": 2,
       "version_minor": 0
      },
      "text/plain": [
       "Mappings: 0it [00:00, ?it/s]"
      ]
     },
     "metadata": {},
     "output_type": "display_data"
    },
    {
     "name": "stdout",
     "output_type": "stream",
     "text": [
      "Submitted to device in 25.6532 s\n"
     ]
    },
    {
     "data": {
      "application/vnd.jupyter.widget-view+json": {
       "model_id": "259c29e3c4814981a3d6ff7d8a445aca",
       "version_major": 2,
       "version_minor": 0
      },
      "text/plain": [
       "Running batch:   0%|          | 0/1 [00:00<?, ?it/s]"
      ]
     },
     "metadata": {},
     "output_type": "display_data"
    },
    {
     "name": "stdout",
     "output_type": "stream",
     "text": [
      "Predicted in 113.3402 s\n",
      "Iters. done: 188 Current cost: 0.07680081023341824 Accuracy: 0.1509860421105238 Time: 139.08965241536498\n"
     ]
    },
    {
     "data": {
      "application/vnd.jupyter.widget-view+json": {
       "model_id": "7ae0b7f954a94b9a84f811ecc208e5be",
       "version_major": 2,
       "version_minor": 0
      },
      "text/plain": [
       "Mappings: 0it [00:00, ?it/s]"
      ]
     },
     "metadata": {},
     "output_type": "display_data"
    },
    {
     "name": "stdout",
     "output_type": "stream",
     "text": [
      "Submitted to device in 22.1287 s\n"
     ]
    },
    {
     "data": {
      "application/vnd.jupyter.widget-view+json": {
       "model_id": "c9eaf9bbd125449bb4f0df07a7d8c646",
       "version_major": 2,
       "version_minor": 0
      },
      "text/plain": [
       "Running batch:   0%|          | 0/1 [00:00<?, ?it/s]"
      ]
     },
     "metadata": {},
     "output_type": "display_data"
    },
    {
     "name": "stdout",
     "output_type": "stream",
     "text": [
      "Predicted in 112.5774 s\n",
      "Iters. done: 189 Current cost: 0.07292500921702114 Accuracy: 0.1938320635381925 Time: 134.79866117611527\n"
     ]
    },
    {
     "data": {
      "application/vnd.jupyter.widget-view+json": {
       "model_id": "a118b146dfaa4e1aabca6be2300d1182",
       "version_major": 2,
       "version_minor": 0
      },
      "text/plain": [
       "Mappings: 0it [00:00, ?it/s]"
      ]
     },
     "metadata": {},
     "output_type": "display_data"
    },
    {
     "name": "stdout",
     "output_type": "stream",
     "text": [
      "Submitted to device in 17.8541 s\n"
     ]
    },
    {
     "data": {
      "application/vnd.jupyter.widget-view+json": {
       "model_id": "aa0c0e4d5a6f45c69964974f60bcc890",
       "version_major": 2,
       "version_minor": 0
      },
      "text/plain": [
       "Running batch:   0%|          | 0/1 [00:00<?, ?it/s]"
      ]
     },
     "metadata": {},
     "output_type": "display_data"
    },
    {
     "name": "stdout",
     "output_type": "stream",
     "text": [
      "Predicted in 118.4525 s\n",
      "Iters. done: 190 Current cost: 0.07400170638901035 Accuracy: 0.18192944265879452 Time: 136.40189447999\n"
     ]
    },
    {
     "data": {
      "application/vnd.jupyter.widget-view+json": {
       "model_id": "cb3954f2f14b4c57b8d8eb28260767c4",
       "version_major": 2,
       "version_minor": 0
      },
      "text/plain": [
       "Mappings: 0it [00:00, ?it/s]"
      ]
     },
     "metadata": {},
     "output_type": "display_data"
    },
    {
     "name": "stdout",
     "output_type": "stream",
     "text": [
      "Submitted to device in 25.4271 s\n"
     ]
    },
    {
     "data": {
      "application/vnd.jupyter.widget-view+json": {
       "model_id": "6b4f640101dc4d8e91372db8e2f9c360",
       "version_major": 2,
       "version_minor": 0
      },
      "text/plain": [
       "Running batch:   0%|          | 0/1 [00:00<?, ?it/s]"
      ]
     },
     "metadata": {},
     "output_type": "display_data"
    },
    {
     "name": "stdout",
     "output_type": "stream",
     "text": [
      "Predicted in 116.8242 s\n",
      "Iters. done: 191 Current cost: 0.0738550075707314 Accuracy: 0.18355116180402453 Time: 142.34105767682195\n"
     ]
    },
    {
     "data": {
      "application/vnd.jupyter.widget-view+json": {
       "model_id": "b5ad01809d7d4350b1392a77cb8a246c",
       "version_major": 2,
       "version_minor": 0
      },
      "text/plain": [
       "Mappings: 0it [00:00, ?it/s]"
      ]
     },
     "metadata": {},
     "output_type": "display_data"
    },
    {
     "name": "stdout",
     "output_type": "stream",
     "text": [
      "Submitted to device in 19.3547 s\n"
     ]
    },
    {
     "data": {
      "application/vnd.jupyter.widget-view+json": {
       "model_id": "a75b49d67152487aade3b6c0567f2445",
       "version_major": 2,
       "version_minor": 0
      },
      "text/plain": [
       "Running batch:   0%|          | 0/1 [00:00<?, ?it/s]"
      ]
     },
     "metadata": {},
     "output_type": "display_data"
    },
    {
     "name": "stdout",
     "output_type": "stream",
     "text": [
      "Predicted in 118.0362 s\n",
      "Iters. done: 192 Current cost: 0.0746454220303803 Accuracy: 0.17481332548797524 Time: 137.48829103261232\n"
     ]
    },
    {
     "data": {
      "application/vnd.jupyter.widget-view+json": {
       "model_id": "e48ad220e1bd44e088bc89e9f49f3e1f",
       "version_major": 2,
       "version_minor": 0
      },
      "text/plain": [
       "Mappings: 0it [00:00, ?it/s]"
      ]
     },
     "metadata": {},
     "output_type": "display_data"
    },
    {
     "name": "stdout",
     "output_type": "stream",
     "text": [
      "Submitted to device in 20.6091 s\n"
     ]
    },
    {
     "data": {
      "application/vnd.jupyter.widget-view+json": {
       "model_id": "486c2124c2c64fc88635ad798bb688cc",
       "version_major": 2,
       "version_minor": 0
      },
      "text/plain": [
       "Running batch:   0%|          | 0/1 [00:00<?, ?it/s]"
      ]
     },
     "metadata": {},
     "output_type": "display_data"
    },
    {
     "name": "stdout",
     "output_type": "stream",
     "text": [
      "Predicted in 115.7875 s\n",
      "Iters. done: 193 Current cost: 0.07461560371607334 Accuracy: 0.1751429595760844 Time: 136.487378526479\n"
     ]
    },
    {
     "data": {
      "application/vnd.jupyter.widget-view+json": {
       "model_id": "869b5cc8e11345b292b84dc748e76cc5",
       "version_major": 2,
       "version_minor": 0
      },
      "text/plain": [
       "Mappings: 0it [00:00, ?it/s]"
      ]
     },
     "metadata": {},
     "output_type": "display_data"
    },
    {
     "name": "stdout",
     "output_type": "stream",
     "text": [
      "Submitted to device in 21.9077 s\n"
     ]
    },
    {
     "data": {
      "application/vnd.jupyter.widget-view+json": {
       "model_id": "cad02cc32e8e4db0801b34c1b1fab7aa",
       "version_major": 2,
       "version_minor": 0
      },
      "text/plain": [
       "Running batch:   0%|          | 0/1 [00:00<?, ?it/s]"
      ]
     },
     "metadata": {},
     "output_type": "display_data"
    },
    {
     "name": "stdout",
     "output_type": "stream",
     "text": [
      "Predicted in 114.5142 s\n",
      "Iters. done: 194 Current cost: 0.07869813502713946 Accuracy: 0.13001158588248052 Time: 136.51433565095067\n"
     ]
    },
    {
     "data": {
      "application/vnd.jupyter.widget-view+json": {
       "model_id": "c9c64cf9bf854593aa97c5c98398fc9a",
       "version_major": 2,
       "version_minor": 0
      },
      "text/plain": [
       "Mappings: 0it [00:00, ?it/s]"
      ]
     },
     "metadata": {},
     "output_type": "display_data"
    },
    {
     "name": "stdout",
     "output_type": "stream",
     "text": [
      "Submitted to device in 20.8538 s\n"
     ]
    },
    {
     "data": {
      "application/vnd.jupyter.widget-view+json": {
       "model_id": "031b2335cb93455294db93de8668f572",
       "version_major": 2,
       "version_minor": 0
      },
      "text/plain": [
       "Running batch:   0%|          | 0/1 [00:00<?, ?it/s]"
      ]
     },
     "metadata": {},
     "output_type": "display_data"
    },
    {
     "name": "stdout",
     "output_type": "stream",
     "text": [
      "Predicted in 116.3679 s\n",
      "Iters. done: 195 Current cost: 0.08004504776169065 Accuracy: 0.11512179880578832 Time: 137.31403009593487\n"
     ]
    },
    {
     "data": {
      "application/vnd.jupyter.widget-view+json": {
       "model_id": "d97642926f824722be8d5779307f6302",
       "version_major": 2,
       "version_minor": 0
      },
      "text/plain": [
       "Mappings: 0it [00:00, ?it/s]"
      ]
     },
     "metadata": {},
     "output_type": "display_data"
    },
    {
     "name": "stdout",
     "output_type": "stream",
     "text": [
      "Submitted to device in 19.2447 s\n"
     ]
    },
    {
     "data": {
      "application/vnd.jupyter.widget-view+json": {
       "model_id": "6777c0f75cf6449785b23cccb8d6a846",
       "version_major": 2,
       "version_minor": 0
      },
      "text/plain": [
       "Running batch:   0%|          | 0/1 [00:00<?, ?it/s]"
      ]
     },
     "metadata": {},
     "output_type": "display_data"
    },
    {
     "name": "stdout",
     "output_type": "stream",
     "text": [
      "Predicted in 115.8783 s\n",
      "Iters. done: 196 Current cost: 0.07912733457565119 Accuracy: 0.12526689105050126 Time: 135.21199693530798\n"
     ]
    },
    {
     "data": {
      "application/vnd.jupyter.widget-view+json": {
       "model_id": "841c45491b8342bba22a257ac0dc1ac1",
       "version_major": 2,
       "version_minor": 0
      },
      "text/plain": [
       "Mappings: 0it [00:00, ?it/s]"
      ]
     },
     "metadata": {},
     "output_type": "display_data"
    },
    {
     "name": "stdout",
     "output_type": "stream",
     "text": [
      "Submitted to device in 18.2269 s\n"
     ]
    },
    {
     "data": {
      "application/vnd.jupyter.widget-view+json": {
       "model_id": "a4124dac29d84e2ebe18e5e9e1a6ae28",
       "version_major": 2,
       "version_minor": 0
      },
      "text/plain": [
       "Running batch:   0%|          | 0/1 [00:00<?, ?it/s]"
      ]
     },
     "metadata": {},
     "output_type": "display_data"
    },
    {
     "name": "stdout",
     "output_type": "stream",
     "text": [
      "Predicted in 117.7201 s\n",
      "Iters. done: 197 Current cost: 0.07711549473527211 Accuracy: 0.1475072827902324 Time: 136.03937472775578\n"
     ]
    },
    {
     "data": {
      "application/vnd.jupyter.widget-view+json": {
       "model_id": "48361e1cd71d42f0b62ca6e025cfb5e7",
       "version_major": 2,
       "version_minor": 0
      },
      "text/plain": [
       "Mappings: 0it [00:00, ?it/s]"
      ]
     },
     "metadata": {},
     "output_type": "display_data"
    },
    {
     "name": "stdout",
     "output_type": "stream",
     "text": [
      "Submitted to device in 21.2308 s\n"
     ]
    },
    {
     "data": {
      "application/vnd.jupyter.widget-view+json": {
       "model_id": "c880f9fe82f8484ca846649da294869f",
       "version_major": 2,
       "version_minor": 0
      },
      "text/plain": [
       "Running batch:   0%|          | 0/1 [00:00<?, ?it/s]"
      ]
     },
     "metadata": {},
     "output_type": "display_data"
    },
    {
     "name": "stdout",
     "output_type": "stream",
     "text": [
      "Predicted in 117.3862 s\n",
      "Iters. done: 198 Current cost: 0.07711343864206996 Accuracy: 0.14753001239193897 Time: 138.70750849321485\n"
     ]
    },
    {
     "data": {
      "application/vnd.jupyter.widget-view+json": {
       "model_id": "d06d5deffc8f4d8b853fae8d457fe17d",
       "version_major": 2,
       "version_minor": 0
      },
      "text/plain": [
       "Mappings: 0it [00:00, ?it/s]"
      ]
     },
     "metadata": {},
     "output_type": "display_data"
    },
    {
     "name": "stdout",
     "output_type": "stream",
     "text": [
      "Submitted to device in 25.4457 s\n"
     ]
    },
    {
     "data": {
      "application/vnd.jupyter.widget-view+json": {
       "model_id": "b57b13e52af4440c853c64107c9b3ae4",
       "version_major": 2,
       "version_minor": 0
      },
      "text/plain": [
       "Running batch:   0%|          | 0/1 [00:00<?, ?it/s]"
      ]
     },
     "metadata": {},
     "output_type": "display_data"
    },
    {
     "name": "stdout",
     "output_type": "stream",
     "text": [
      "Predicted in 111.4251 s\n",
      "Iters. done: 199 Current cost: 0.07733127794885254 Accuracy: 0.1451218527452729 Time: 136.95876361057162\n"
     ]
    },
    {
     "data": {
      "application/vnd.jupyter.widget-view+json": {
       "model_id": "f472d96bef7d4415932bccd939f0b178",
       "version_major": 2,
       "version_minor": 0
      },
      "text/plain": [
       "Mappings: 0it [00:00, ?it/s]"
      ]
     },
     "metadata": {},
     "output_type": "display_data"
    },
    {
     "name": "stdout",
     "output_type": "stream",
     "text": [
      "Submitted to device in 19.2333 s\n"
     ]
    },
    {
     "data": {
      "application/vnd.jupyter.widget-view+json": {
       "model_id": "18e75d6016e54d14bcd9627a358fa757",
       "version_major": 2,
       "version_minor": 0
      },
      "text/plain": [
       "Running batch:   0%|          | 0/1 [00:00<?, ?it/s]"
      ]
     },
     "metadata": {},
     "output_type": "display_data"
    },
    {
     "name": "stdout",
     "output_type": "stream",
     "text": [
      "Predicted in 116.6508 s\n",
      "Iters. done: 200 Current cost: 0.0716134685773207 Accuracy: 0.20833082085677657 Time: 135.97232221066952\n"
     ]
    },
    {
     "data": {
      "application/vnd.jupyter.widget-view+json": {
       "model_id": "f65cb0c7411543128aa43a8bbf3312de",
       "version_major": 2,
       "version_minor": 0
      },
      "text/plain": [
       "Mappings: 0it [00:00, ?it/s]"
      ]
     },
     "metadata": {},
     "output_type": "display_data"
    },
    {
     "name": "stdout",
     "output_type": "stream",
     "text": [
      "Submitted to device in 21.7326 s\n"
     ]
    },
    {
     "data": {
      "application/vnd.jupyter.widget-view+json": {
       "model_id": "da7b8e1ee3794c168360b13b94ad8f10",
       "version_major": 2,
       "version_minor": 0
      },
      "text/plain": [
       "Running batch:   0%|          | 0/1 [00:00<?, ?it/s]"
      ]
     },
     "metadata": {},
     "output_type": "display_data"
    },
    {
     "name": "stdout",
     "output_type": "stream",
     "text": [
      "Predicted in 115.7032 s\n",
      "Iters. done: 201 Current cost: 0.07076196841171198 Accuracy: 0.21774394454062596 Time: 137.5357068553567\n"
     ]
    },
    {
     "data": {
      "application/vnd.jupyter.widget-view+json": {
       "model_id": "100f111e1c97425b9f63ea3064c51d9b",
       "version_major": 2,
       "version_minor": 0
      },
      "text/plain": [
       "Mappings: 0it [00:00, ?it/s]"
      ]
     },
     "metadata": {},
     "output_type": "display_data"
    },
    {
     "name": "stdout",
     "output_type": "stream",
     "text": [
      "Submitted to device in 18.2743 s\n"
     ]
    },
    {
     "data": {
      "application/vnd.jupyter.widget-view+json": {
       "model_id": "f4b5c8f5390143a09248da8496a63192",
       "version_major": 2,
       "version_minor": 0
      },
      "text/plain": [
       "Running batch:   0%|          | 0/1 [00:00<?, ?it/s]"
      ]
     },
     "metadata": {},
     "output_type": "display_data"
    },
    {
     "name": "stdout",
     "output_type": "stream",
     "text": [
      "Predicted in 117.6684 s\n",
      "Iters. done: 202 Current cost: 0.07086381718545601 Accuracy: 0.21661803154257553 Time: 136.0248700119555\n"
     ]
    },
    {
     "data": {
      "application/vnd.jupyter.widget-view+json": {
       "model_id": "2521e57044da4e57a7a3b3291017c620",
       "version_major": 2,
       "version_minor": 0
      },
      "text/plain": [
       "Mappings: 0it [00:00, ?it/s]"
      ]
     },
     "metadata": {},
     "output_type": "display_data"
    },
    {
     "name": "stdout",
     "output_type": "stream",
     "text": [
      "Submitted to device in 18.5978 s\n"
     ]
    },
    {
     "data": {
      "application/vnd.jupyter.widget-view+json": {
       "model_id": "e187762cad7a46de93f48234b9868703",
       "version_major": 2,
       "version_minor": 0
      },
      "text/plain": [
       "Running batch:   0%|          | 0/1 [00:00<?, ?it/s]"
      ]
     },
     "metadata": {},
     "output_type": "display_data"
    },
    {
     "name": "stdout",
     "output_type": "stream",
     "text": [
      "Predicted in 115.7711 s\n",
      "Iters. done: 203 Current cost: 0.0744855769892691 Accuracy: 0.17658037287445938 Time: 134.46111213043332\n"
     ]
    },
    {
     "data": {
      "application/vnd.jupyter.widget-view+json": {
       "model_id": "8c5828cbcfda41a4bc6c3930882361e6",
       "version_major": 2,
       "version_minor": 0
      },
      "text/plain": [
       "Mappings: 0it [00:00, ?it/s]"
      ]
     },
     "metadata": {},
     "output_type": "display_data"
    },
    {
     "name": "stdout",
     "output_type": "stream",
     "text": [
      "Submitted to device in 22.5880 s\n"
     ]
    },
    {
     "data": {
      "application/vnd.jupyter.widget-view+json": {
       "model_id": "b8c05325d64e4fc0a93bda4db7a6c05a",
       "version_major": 2,
       "version_minor": 0
      },
      "text/plain": [
       "Running batch:   0%|          | 0/1 [00:00<?, ?it/s]"
      ]
     },
     "metadata": {},
     "output_type": "display_data"
    },
    {
     "name": "stdout",
     "output_type": "stream",
     "text": [
      "Predicted in 113.2946 s\n",
      "Iters. done: 204 Current cost: 0.07606661844201598 Accuracy: 0.1591023507376581 Time: 135.98014933615923\n"
     ]
    },
    {
     "data": {
      "application/vnd.jupyter.widget-view+json": {
       "model_id": "18920d6968b540e0820f1f9ee1f7b552",
       "version_major": 2,
       "version_minor": 0
      },
      "text/plain": [
       "Mappings: 0it [00:00, ?it/s]"
      ]
     },
     "metadata": {},
     "output_type": "display_data"
    },
    {
     "name": "stdout",
     "output_type": "stream",
     "text": [
      "Submitted to device in 17.9552 s\n"
     ]
    },
    {
     "data": {
      "application/vnd.jupyter.widget-view+json": {
       "model_id": "04751413598a42bba18843fd42823718",
       "version_major": 2,
       "version_minor": 0
      },
      "text/plain": [
       "Running batch:   0%|          | 0/1 [00:00<?, ?it/s]"
      ]
     },
     "metadata": {},
     "output_type": "display_data"
    },
    {
     "name": "stdout",
     "output_type": "stream",
     "text": [
      "Predicted in 117.8538 s\n",
      "Iters. done: 205 Current cost: 0.0704719016577207 Accuracy: 0.2209505607483171 Time: 135.90937688946724\n"
     ]
    },
    {
     "data": {
      "application/vnd.jupyter.widget-view+json": {
       "model_id": "2920f614244f4fe1a841a5fccef52ccf",
       "version_major": 2,
       "version_minor": 0
      },
      "text/plain": [
       "Mappings: 0it [00:00, ?it/s]"
      ]
     },
     "metadata": {},
     "output_type": "display_data"
    },
    {
     "name": "stdout",
     "output_type": "stream",
     "text": [
      "Submitted to device in 21.0072 s\n"
     ]
    },
    {
     "data": {
      "application/vnd.jupyter.widget-view+json": {
       "model_id": "339492e08b13470aa3cc53efa181d204",
       "version_major": 2,
       "version_minor": 0
      },
      "text/plain": [
       "Running batch:   0%|          | 0/1 [00:00<?, ?it/s]"
      ]
     },
     "metadata": {},
     "output_type": "display_data"
    },
    {
     "name": "stdout",
     "output_type": "stream",
     "text": [
      "Predicted in 114.2735 s\n",
      "Iters. done: 206 Current cost: 0.0731703571776666 Accuracy: 0.191119802528255 Time: 135.36849657446146\n"
     ]
    },
    {
     "data": {
      "application/vnd.jupyter.widget-view+json": {
       "model_id": "16e2557613564f24b426082302ff198b",
       "version_major": 2,
       "version_minor": 0
      },
      "text/plain": [
       "Mappings: 0it [00:00, ?it/s]"
      ]
     },
     "metadata": {},
     "output_type": "display_data"
    },
    {
     "name": "stdout",
     "output_type": "stream",
     "text": [
      "Submitted to device in 17.5425 s\n"
     ]
    },
    {
     "data": {
      "application/vnd.jupyter.widget-view+json": {
       "model_id": "118d11c6863e42dc93ca7675191498e7",
       "version_major": 2,
       "version_minor": 0
      },
      "text/plain": [
       "Running batch:   0%|          | 0/1 [00:00<?, ?it/s]"
      ]
     },
     "metadata": {},
     "output_type": "display_data"
    },
    {
     "name": "stdout",
     "output_type": "stream",
     "text": [
      "Predicted in 119.4748 s\n",
      "Iters. done: 207 Current cost: 0.06990957217954766 Accuracy: 0.22716697401857544 Time: 137.1104882210493\n"
     ]
    },
    {
     "data": {
      "application/vnd.jupyter.widget-view+json": {
       "model_id": "5ba4434b1de1493f8d7f975fdc87e8cf",
       "version_major": 2,
       "version_minor": 0
      },
      "text/plain": [
       "Mappings: 0it [00:00, ?it/s]"
      ]
     },
     "metadata": {},
     "output_type": "display_data"
    },
    {
     "name": "stdout",
     "output_type": "stream",
     "text": [
      "Submitted to device in 18.7417 s\n"
     ]
    },
    {
     "data": {
      "application/vnd.jupyter.widget-view+json": {
       "model_id": "9c3223a622754331bd911f90e14ed8c2",
       "version_major": 2,
       "version_minor": 0
      },
      "text/plain": [
       "Running batch:   0%|          | 0/1 [00:00<?, ?it/s]"
      ]
     },
     "metadata": {},
     "output_type": "display_data"
    },
    {
     "name": "stdout",
     "output_type": "stream",
     "text": [
      "Predicted in 117.0270 s\n",
      "Iters. done: 208 Current cost: 0.0699450261721273 Accuracy: 0.22677503890133455 Time: 135.8525001294911\n"
     ]
    },
    {
     "data": {
      "application/vnd.jupyter.widget-view+json": {
       "model_id": "39ba2562a2f0415385810d9dedeff233",
       "version_major": 2,
       "version_minor": 0
      },
      "text/plain": [
       "Mappings: 0it [00:00, ?it/s]"
      ]
     },
     "metadata": {},
     "output_type": "display_data"
    },
    {
     "name": "stdout",
     "output_type": "stream",
     "text": [
      "Submitted to device in 20.5839 s\n"
     ]
    },
    {
     "data": {
      "application/vnd.jupyter.widget-view+json": {
       "model_id": "463401956d204b6ca4e61eed2ad144f9",
       "version_major": 2,
       "version_minor": 0
      },
      "text/plain": [
       "Running batch:   0%|          | 0/1 [00:00<?, ?it/s]"
      ]
     },
     "metadata": {},
     "output_type": "display_data"
    },
    {
     "name": "stdout",
     "output_type": "stream",
     "text": [
      "Predicted in 115.3599 s\n",
      "Iters. done: 209 Current cost: 0.06886817309349406 Accuracy: 0.23867938329011362 Time: 136.0320593304932\n"
     ]
    },
    {
     "data": {
      "application/vnd.jupyter.widget-view+json": {
       "model_id": "f3b1850a7eac40ae80a42841ddc63578",
       "version_major": 2,
       "version_minor": 0
      },
      "text/plain": [
       "Mappings: 0it [00:00, ?it/s]"
      ]
     },
     "metadata": {},
     "output_type": "display_data"
    },
    {
     "name": "stdout",
     "output_type": "stream",
     "text": [
      "Submitted to device in 18.0437 s\n"
     ]
    },
    {
     "data": {
      "application/vnd.jupyter.widget-view+json": {
       "model_id": "3a192eb37cac4cc68cc2421061b95fe0",
       "version_major": 2,
       "version_minor": 0
      },
      "text/plain": [
       "Running batch:   0%|          | 0/1 [00:00<?, ?it/s]"
      ]
     },
     "metadata": {},
     "output_type": "display_data"
    },
    {
     "name": "stdout",
     "output_type": "stream",
     "text": [
      "Predicted in 117.4674 s\n",
      "Iters. done: 210 Current cost: 0.0729118557885015 Accuracy: 0.1939774714365381 Time: 135.59621643275023\n"
     ]
    },
    {
     "data": {
      "application/vnd.jupyter.widget-view+json": {
       "model_id": "7ccb53bc96bb484c82fa452b241909c2",
       "version_major": 2,
       "version_minor": 0
      },
      "text/plain": [
       "Mappings: 0it [00:00, ?it/s]"
      ]
     },
     "metadata": {},
     "output_type": "display_data"
    },
    {
     "name": "stdout",
     "output_type": "stream",
     "text": [
      "Submitted to device in 28.8308 s\n"
     ]
    },
    {
     "data": {
      "application/vnd.jupyter.widget-view+json": {
       "model_id": "5459e0119c0d439bbf74f39075b57b01",
       "version_major": 2,
       "version_minor": 0
      },
      "text/plain": [
       "Running batch:   0%|          | 0/1 [00:00<?, ?it/s]"
      ]
     },
     "metadata": {},
     "output_type": "display_data"
    },
    {
     "name": "stdout",
     "output_type": "stream",
     "text": [
      "Predicted in 108.7920 s\n",
      "Iters. done: 211 Current cost: 0.06919044433809997 Accuracy: 0.23511675440553226 Time: 137.71476531401277\n"
     ]
    },
    {
     "data": {
      "application/vnd.jupyter.widget-view+json": {
       "model_id": "d55f66266e95427eb0632b18af80de85",
       "version_major": 2,
       "version_minor": 0
      },
      "text/plain": [
       "Mappings: 0it [00:00, ?it/s]"
      ]
     },
     "metadata": {},
     "output_type": "display_data"
    },
    {
     "name": "stdout",
     "output_type": "stream",
     "text": [
      "Submitted to device in 23.2687 s\n"
     ]
    },
    {
     "data": {
      "application/vnd.jupyter.widget-view+json": {
       "model_id": "d437ddf9ac334cd385abbdc0eff1746d",
       "version_major": 2,
       "version_minor": 0
      },
      "text/plain": [
       "Running batch:   0%|          | 0/1 [00:00<?, ?it/s]"
      ]
     },
     "metadata": {},
     "output_type": "display_data"
    },
    {
     "name": "stdout",
     "output_type": "stream",
     "text": [
      "Predicted in 112.4056 s\n",
      "Iters. done: 212 Current cost: 0.07127148537924609 Accuracy: 0.2121113605105457 Time: 135.764361217618\n"
     ]
    },
    {
     "data": {
      "application/vnd.jupyter.widget-view+json": {
       "model_id": "938a23bc55bb4e248262f375ab1fcf1b",
       "version_major": 2,
       "version_minor": 0
      },
      "text/plain": [
       "Mappings: 0it [00:00, ?it/s]"
      ]
     },
     "metadata": {},
     "output_type": "display_data"
    },
    {
     "name": "stdout",
     "output_type": "stream",
     "text": [
      "Submitted to device in 20.3911 s\n"
     ]
    },
    {
     "data": {
      "application/vnd.jupyter.widget-view+json": {
       "model_id": "5d0c24925ccf4b01b7b7cd60f564b951",
       "version_major": 2,
       "version_minor": 0
      },
      "text/plain": [
       "Running batch:   0%|          | 0/1 [00:00<?, ?it/s]"
      ]
     },
     "metadata": {},
     "output_type": "display_data"
    },
    {
     "name": "stdout",
     "output_type": "stream",
     "text": [
      "Predicted in 118.3022 s\n",
      "Iters. done: 213 Current cost: 0.06964311267035375 Accuracy: 0.23011261797507065 Time: 138.78308394178748\n"
     ]
    },
    {
     "data": {
      "application/vnd.jupyter.widget-view+json": {
       "model_id": "579d1b896fda4a3192f5d6c82ecf91b4",
       "version_major": 2,
       "version_minor": 0
      },
      "text/plain": [
       "Mappings: 0it [00:00, ?it/s]"
      ]
     },
     "metadata": {},
     "output_type": "display_data"
    },
    {
     "name": "stdout",
     "output_type": "stream",
     "text": [
      "Submitted to device in 19.2140 s\n"
     ]
    },
    {
     "data": {
      "application/vnd.jupyter.widget-view+json": {
       "model_id": "06a0981d765c4bfabd81dd0892209980",
       "version_major": 2,
       "version_minor": 0
      },
      "text/plain": [
       "Running batch:   0%|          | 0/1 [00:00<?, ?it/s]"
      ]
     },
     "metadata": {},
     "output_type": "display_data"
    },
    {
     "name": "stdout",
     "output_type": "stream",
     "text": [
      "Predicted in 116.3688 s\n",
      "Iters. done: 214 Current cost: 0.07061653598977097 Accuracy: 0.2193516639876255 Time: 136.0357071198523\n"
     ]
    },
    {
     "data": {
      "application/vnd.jupyter.widget-view+json": {
       "model_id": "774a4b77ea9f4498a5f98580c91dad45",
       "version_major": 2,
       "version_minor": 0
      },
      "text/plain": [
       "Mappings: 0it [00:00, ?it/s]"
      ]
     },
     "metadata": {},
     "output_type": "display_data"
    },
    {
     "name": "stdout",
     "output_type": "stream",
     "text": [
      "Submitted to device in 19.5900 s\n"
     ]
    },
    {
     "data": {
      "application/vnd.jupyter.widget-view+json": {
       "model_id": "17f4e4783345426da5084d5ddd0395cf",
       "version_major": 2,
       "version_minor": 0
      },
      "text/plain": [
       "Running batch:   0%|          | 0/1 [00:00<?, ?it/s]"
      ]
     },
     "metadata": {},
     "output_type": "display_data"
    },
    {
     "name": "stdout",
     "output_type": "stream",
     "text": [
      "Predicted in 117.5430 s\n",
      "Iters. done: 215 Current cost: 0.07002589910223782 Accuracy: 0.22588100866557848 Time: 137.229049757123\n"
     ]
    },
    {
     "data": {
      "application/vnd.jupyter.widget-view+json": {
       "model_id": "794bdf28fdc8457aa5ed6da305f9500a",
       "version_major": 2,
       "version_minor": 0
      },
      "text/plain": [
       "Mappings: 0it [00:00, ?it/s]"
      ]
     },
     "metadata": {},
     "output_type": "display_data"
    },
    {
     "name": "stdout",
     "output_type": "stream",
     "text": [
      "Submitted to device in 20.3095 s\n"
     ]
    },
    {
     "data": {
      "application/vnd.jupyter.widget-view+json": {
       "model_id": "6d5620ae6ad348478fe3536a8c219e2f",
       "version_major": 2,
       "version_minor": 0
      },
      "text/plain": [
       "Running batch:   0%|          | 0/1 [00:00<?, ?it/s]"
      ]
     },
     "metadata": {},
     "output_type": "display_data"
    },
    {
     "name": "stdout",
     "output_type": "stream",
     "text": [
      "Predicted in 116.1011 s\n",
      "Iters. done: 216 Current cost: 0.06774629582639255 Accuracy: 0.2510814589441752 Time: 136.50238218903542\n"
     ]
    },
    {
     "data": {
      "application/vnd.jupyter.widget-view+json": {
       "model_id": "9dd079a282134a8aa058fccce893721d",
       "version_major": 2,
       "version_minor": 0
      },
      "text/plain": [
       "Mappings: 0it [00:00, ?it/s]"
      ]
     },
     "metadata": {},
     "output_type": "display_data"
    },
    {
     "name": "stdout",
     "output_type": "stream",
     "text": [
      "Submitted to device in 19.0327 s\n"
     ]
    },
    {
     "data": {
      "application/vnd.jupyter.widget-view+json": {
       "model_id": "cec72446587b42f895388c6412675a7c",
       "version_major": 2,
       "version_minor": 0
      },
      "text/plain": [
       "Running batch:   0%|          | 0/1 [00:00<?, ?it/s]"
      ]
     },
     "metadata": {},
     "output_type": "display_data"
    },
    {
     "name": "stdout",
     "output_type": "stream",
     "text": [
      "Predicted in 119.5012 s\n",
      "Iters. done: 217 Current cost: 0.06925007717607132 Accuracy: 0.23445752813392962 Time: 138.62647385895252\n"
     ]
    },
    {
     "data": {
      "application/vnd.jupyter.widget-view+json": {
       "model_id": "9ef1325fb26b4dee89e772074668d26c",
       "version_major": 2,
       "version_minor": 0
      },
      "text/plain": [
       "Mappings: 0it [00:00, ?it/s]"
      ]
     },
     "metadata": {},
     "output_type": "display_data"
    },
    {
     "name": "stdout",
     "output_type": "stream",
     "text": [
      "Submitted to device in 32.0053 s\n"
     ]
    },
    {
     "data": {
      "application/vnd.jupyter.widget-view+json": {
       "model_id": "0a8e2d30d41147fe9d0119207a226b54",
       "version_major": 2,
       "version_minor": 0
      },
      "text/plain": [
       "Running batch:   0%|          | 0/1 [00:00<?, ?it/s]"
      ]
     },
     "metadata": {},
     "output_type": "display_data"
    },
    {
     "name": "stdout",
     "output_type": "stream",
     "text": [
      "Predicted in 113.6850 s\n",
      "Iters. done: 218 Current cost: 0.0750479910432379 Accuracy: 0.17036302463970154 Time: 146.25513763725758\n"
     ]
    },
    {
     "data": {
      "application/vnd.jupyter.widget-view+json": {
       "model_id": "fab33e71e8654dd0a9d101189bdd13a5",
       "version_major": 2,
       "version_minor": 0
      },
      "text/plain": [
       "Mappings: 0it [00:00, ?it/s]"
      ]
     },
     "metadata": {},
     "output_type": "display_data"
    },
    {
     "name": "stdout",
     "output_type": "stream",
     "text": [
      "Submitted to device in 18.6734 s\n"
     ]
    },
    {
     "data": {
      "application/vnd.jupyter.widget-view+json": {
       "model_id": "f9161e07421041a7af9bc5a92c30a98c",
       "version_major": 2,
       "version_minor": 0
      },
      "text/plain": [
       "Running batch:   0%|          | 0/1 [00:00<?, ?it/s]"
      ]
     },
     "metadata": {},
     "output_type": "display_data"
    },
    {
     "name": "stdout",
     "output_type": "stream",
     "text": [
      "Predicted in 120.7904 s\n",
      "Iters. done: 219 Current cost: 0.07078024364631624 Accuracy: 0.2175419163430644 Time: 140.02847604826093\n"
     ]
    },
    {
     "data": {
      "application/vnd.jupyter.widget-view+json": {
       "model_id": "82dde21921814137ac0cef35784c9814",
       "version_major": 2,
       "version_minor": 0
      },
      "text/plain": [
       "Mappings: 0it [00:00, ?it/s]"
      ]
     },
     "metadata": {},
     "output_type": "display_data"
    },
    {
     "name": "stdout",
     "output_type": "stream",
     "text": [
      "Submitted to device in 19.2826 s\n"
     ]
    },
    {
     "data": {
      "application/vnd.jupyter.widget-view+json": {
       "model_id": "b7d862c5644f4dcc8cf78a3caefe23aa",
       "version_major": 2,
       "version_minor": 0
      },
      "text/plain": [
       "Running batch:   0%|          | 0/1 [00:00<?, ?it/s]"
      ]
     },
     "metadata": {},
     "output_type": "display_data"
    },
    {
     "name": "stdout",
     "output_type": "stream",
     "text": [
      "Predicted in 119.6948 s\n",
      "Iters. done: 220 Current cost: 0.07217911658830894 Accuracy: 0.20207772202719587 Time: 139.5461589023471\n"
     ]
    },
    {
     "data": {
      "application/vnd.jupyter.widget-view+json": {
       "model_id": "be13b33b4d2b4f219b9ff82f88e18a92",
       "version_major": 2,
       "version_minor": 0
      },
      "text/plain": [
       "Mappings: 0it [00:00, ?it/s]"
      ]
     },
     "metadata": {},
     "output_type": "display_data"
    },
    {
     "name": "stdout",
     "output_type": "stream",
     "text": [
      "Submitted to device in 19.7033 s\n"
     ]
    },
    {
     "data": {
      "application/vnd.jupyter.widget-view+json": {
       "model_id": "f309a3cea42c45309c4d1d16b669dc22",
       "version_major": 2,
       "version_minor": 0
      },
      "text/plain": [
       "Running batch:   0%|          | 0/1 [00:00<?, ?it/s]"
      ]
     },
     "metadata": {},
     "output_type": "display_data"
    },
    {
     "name": "stdout",
     "output_type": "stream",
     "text": [
      "Predicted in 118.6811 s\n",
      "Iters. done: 221 Current cost: 0.07243363325723556 Accuracy: 0.19926410321539578 Time: 138.47183679789305\n"
     ]
    },
    {
     "data": {
      "application/vnd.jupyter.widget-view+json": {
       "model_id": "c21482d066d3440cb77c7f1739749981",
       "version_major": 2,
       "version_minor": 0
      },
      "text/plain": [
       "Mappings: 0it [00:00, ?it/s]"
      ]
     },
     "metadata": {},
     "output_type": "display_data"
    },
    {
     "name": "stdout",
     "output_type": "stream",
     "text": [
      "Submitted to device in 18.5797 s\n"
     ]
    },
    {
     "data": {
      "application/vnd.jupyter.widget-view+json": {
       "model_id": "90c42908d3e248d0ad4e75567c260450",
       "version_major": 2,
       "version_minor": 0
      },
      "text/plain": [
       "Running batch:   0%|          | 0/1 [00:00<?, ?it/s]"
      ]
     },
     "metadata": {},
     "output_type": "display_data"
    },
    {
     "name": "stdout",
     "output_type": "stream",
     "text": [
      "Predicted in 122.9741 s\n",
      "Iters. done: 222 Current cost: 0.07544008802682559 Accuracy: 0.16602848948440108 Time: 141.65006925165653\n"
     ]
    },
    {
     "data": {
      "application/vnd.jupyter.widget-view+json": {
       "model_id": "550c9cf85fa148a9a4c0a784ede4f522",
       "version_major": 2,
       "version_minor": 0
      },
      "text/plain": [
       "Mappings: 0it [00:00, ?it/s]"
      ]
     },
     "metadata": {},
     "output_type": "display_data"
    },
    {
     "name": "stdout",
     "output_type": "stream",
     "text": [
      "Submitted to device in 22.0593 s\n"
     ]
    },
    {
     "data": {
      "application/vnd.jupyter.widget-view+json": {
       "model_id": "d7cfc0a959eb49d4ac662f67591147ae",
       "version_major": 2,
       "version_minor": 0
      },
      "text/plain": [
       "Running batch:   0%|          | 0/1 [00:00<?, ?it/s]"
      ]
     },
     "metadata": {},
     "output_type": "display_data"
    },
    {
     "name": "stdout",
     "output_type": "stream",
     "text": [
      "Predicted in 119.6793 s\n",
      "Iters. done: 223 Current cost: 0.07595985923498957 Accuracy: 0.16028254736088576 Time: 141.82588665559888\n"
     ]
    },
    {
     "data": {
      "application/vnd.jupyter.widget-view+json": {
       "model_id": "d2ab27de796f48acb266e70909d4b855",
       "version_major": 2,
       "version_minor": 0
      },
      "text/plain": [
       "Mappings: 0it [00:00, ?it/s]"
      ]
     },
     "metadata": {},
     "output_type": "display_data"
    },
    {
     "name": "stdout",
     "output_type": "stream",
     "text": [
      "Submitted to device in 23.0356 s\n"
     ]
    },
    {
     "data": {
      "application/vnd.jupyter.widget-view+json": {
       "model_id": "23330eb7ab89465892969cef4c65ef46",
       "version_major": 2,
       "version_minor": 0
      },
      "text/plain": [
       "Running batch:   0%|          | 0/1 [00:00<?, ?it/s]"
      ]
     },
     "metadata": {},
     "output_type": "display_data"
    },
    {
     "name": "stdout",
     "output_type": "stream",
     "text": [
      "Predicted in 135.3629 s\n",
      "Iters. done: 224 Current cost: 0.0761507932888752 Accuracy: 0.15817181862908425 Time: 158.48913357034326\n"
     ]
    },
    {
     "data": {
      "application/vnd.jupyter.widget-view+json": {
       "model_id": "1acf677cc69d41d49ada5e37b6581f08",
       "version_major": 2,
       "version_minor": 0
      },
      "text/plain": [
       "Mappings: 0it [00:00, ?it/s]"
      ]
     },
     "metadata": {},
     "output_type": "display_data"
    },
    {
     "name": "stdout",
     "output_type": "stream",
     "text": [
      "Submitted to device in 19.6820 s\n"
     ]
    },
    {
     "data": {
      "application/vnd.jupyter.widget-view+json": {
       "model_id": "579ddd5ef2e94b17abaa13fc1c5e0a28",
       "version_major": 2,
       "version_minor": 0
      },
      "text/plain": [
       "Running batch:   0%|          | 0/1 [00:00<?, ?it/s]"
      ]
     },
     "metadata": {},
     "output_type": "display_data"
    },
    {
     "name": "stdout",
     "output_type": "stream",
     "text": [
      "Predicted in 117.5577 s\n",
      "Iters. done: 225 Current cost: 0.07472776341156767 Accuracy: 0.17390306188883475 Time: 137.31972701475024\n"
     ]
    },
    {
     "data": {
      "application/vnd.jupyter.widget-view+json": {
       "model_id": "9c98da2a4ac34795b323890ff107e277",
       "version_major": 2,
       "version_minor": 0
      },
      "text/plain": [
       "Mappings: 0it [00:00, ?it/s]"
      ]
     },
     "metadata": {},
     "output_type": "display_data"
    },
    {
     "name": "stdout",
     "output_type": "stream",
     "text": [
      "Submitted to device in 20.2638 s\n"
     ]
    },
    {
     "data": {
      "application/vnd.jupyter.widget-view+json": {
       "model_id": "b417cd5f117249aea75451bedf9395ca",
       "version_major": 2,
       "version_minor": 0
      },
      "text/plain": [
       "Running batch:   0%|          | 0/1 [00:00<?, ?it/s]"
      ]
     },
     "metadata": {},
     "output_type": "display_data"
    },
    {
     "name": "stdout",
     "output_type": "stream",
     "text": [
      "Predicted in 115.5451 s\n",
      "Iters. done: 226 Current cost: 0.07422603201517401 Accuracy: 0.17944957835597797 Time: 135.894941393286\n"
     ]
    },
    {
     "data": {
      "application/vnd.jupyter.widget-view+json": {
       "model_id": "cf3b69fd229b4b6e8f51349c37096df9",
       "version_major": 2,
       "version_minor": 0
      },
      "text/plain": [
       "Mappings: 0it [00:00, ?it/s]"
      ]
     },
     "metadata": {},
     "output_type": "display_data"
    },
    {
     "name": "stdout",
     "output_type": "stream",
     "text": [
      "Submitted to device in 18.4523 s\n"
     ]
    },
    {
     "data": {
      "application/vnd.jupyter.widget-view+json": {
       "model_id": "13471ed0a5bb4898b28505730453fec6",
       "version_major": 2,
       "version_minor": 0
      },
      "text/plain": [
       "Running batch:   0%|          | 0/1 [00:00<?, ?it/s]"
      ]
     },
     "metadata": {},
     "output_type": "display_data"
    },
    {
     "name": "stdout",
     "output_type": "stream",
     "text": [
      "Predicted in 119.2431 s\n",
      "Iters. done: 227 Current cost: 0.08063566587027057 Accuracy: 0.10859266172451765 Time: 137.78232065588236\n"
     ]
    },
    {
     "data": {
      "application/vnd.jupyter.widget-view+json": {
       "model_id": "af84e509426c411ebc1cc933846a738c",
       "version_major": 2,
       "version_minor": 0
      },
      "text/plain": [
       "Mappings: 0it [00:00, ?it/s]"
      ]
     },
     "metadata": {},
     "output_type": "display_data"
    },
    {
     "name": "stdout",
     "output_type": "stream",
     "text": [
      "Submitted to device in 17.5309 s\n"
     ]
    },
    {
     "data": {
      "application/vnd.jupyter.widget-view+json": {
       "model_id": "22f801bd81a54b22aeeb4a666a0ca39b",
       "version_major": 2,
       "version_minor": 0
      },
      "text/plain": [
       "Running batch:   0%|          | 0/1 [00:00<?, ?it/s]"
      ]
     },
     "metadata": {},
     "output_type": "display_data"
    },
    {
     "name": "stdout",
     "output_type": "stream",
     "text": [
      "Predicted in 121.4570 s\n",
      "Iters. done: 228 Current cost: 0.08070355027009535 Accuracy: 0.10784221647792436 Time: 139.54790696501732\n"
     ]
    },
    {
     "data": {
      "application/vnd.jupyter.widget-view+json": {
       "model_id": "ba11e81f26644a2099d2fdeb41e75498",
       "version_major": 2,
       "version_minor": 0
      },
      "text/plain": [
       "Mappings: 0it [00:00, ?it/s]"
      ]
     },
     "metadata": {},
     "output_type": "display_data"
    },
    {
     "name": "stdout",
     "output_type": "stream",
     "text": [
      "Submitted to device in 18.3757 s\n"
     ]
    },
    {
     "data": {
      "application/vnd.jupyter.widget-view+json": {
       "model_id": "cf2eaa9173234a8f9e182682a5a20c00",
       "version_major": 2,
       "version_minor": 0
      },
      "text/plain": [
       "Running batch:   0%|          | 0/1 [00:00<?, ?it/s]"
      ]
     },
     "metadata": {},
     "output_type": "display_data"
    },
    {
     "name": "stdout",
     "output_type": "stream",
     "text": [
      "Predicted in 117.7970 s\n",
      "Iters. done: 229 Current cost: 0.08124868985381033 Accuracy: 0.10181583323840637 Time: 136.74147295206785\n"
     ]
    },
    {
     "data": {
      "application/vnd.jupyter.widget-view+json": {
       "model_id": "6f3a6f270c5f4413888a9f85e415d4a8",
       "version_major": 2,
       "version_minor": 0
      },
      "text/plain": [
       "Mappings: 0it [00:00, ?it/s]"
      ]
     },
     "metadata": {},
     "output_type": "display_data"
    },
    {
     "name": "stdout",
     "output_type": "stream",
     "text": [
      "Submitted to device in 22.5554 s\n"
     ]
    },
    {
     "data": {
      "application/vnd.jupyter.widget-view+json": {
       "model_id": "b21ee3c667094fdf8a57c977a00ae9a4",
       "version_major": 2,
       "version_minor": 0
      },
      "text/plain": [
       "Running batch:   0%|          | 0/1 [00:00<?, ?it/s]"
      ]
     },
     "metadata": {},
     "output_type": "display_data"
    },
    {
     "name": "stdout",
     "output_type": "stream",
     "text": [
      "Predicted in 168.2501 s\n",
      "Iters. done: 230 Current cost: 0.07700497069828734 Accuracy: 0.14872909867729367 Time: 190.89560732990503\n"
     ]
    },
    {
     "data": {
      "application/vnd.jupyter.widget-view+json": {
       "model_id": "d1947a3908e440719dfcdd18bbdee525",
       "version_major": 2,
       "version_minor": 0
      },
      "text/plain": [
       "Mappings: 0it [00:00, ?it/s]"
      ]
     },
     "metadata": {},
     "output_type": "display_data"
    },
    {
     "name": "stdout",
     "output_type": "stream",
     "text": [
      "Submitted to device in 21.4409 s\n"
     ]
    },
    {
     "data": {
      "application/vnd.jupyter.widget-view+json": {
       "model_id": "f6ad353e8ec5460387413cf3ee18e663",
       "version_major": 2,
       "version_minor": 0
      },
      "text/plain": [
       "Running batch:   0%|          | 0/1 [00:00<?, ?it/s]"
      ]
     },
     "metadata": {},
     "output_type": "display_data"
    },
    {
     "name": "stdout",
     "output_type": "stream",
     "text": [
      "Predicted in 196.8549 s\n",
      "Iters. done: 231 Current cost: 0.07740595041854603 Accuracy: 0.14429636706553628 Time: 218.3812161050737\n"
     ]
    },
    {
     "data": {
      "application/vnd.jupyter.widget-view+json": {
       "model_id": "8aa83ead31e7487a9282655e4edc8aea",
       "version_major": 2,
       "version_minor": 0
      },
      "text/plain": [
       "Mappings: 0it [00:00, ?it/s]"
      ]
     },
     "metadata": {},
     "output_type": "display_data"
    },
    {
     "name": "stdout",
     "output_type": "stream",
     "text": [
      "Submitted to device in 22.7015 s\n"
     ]
    },
    {
     "data": {
      "application/vnd.jupyter.widget-view+json": {
       "model_id": "bfd9d2dde69441e99e975ad64bfeda54",
       "version_major": 2,
       "version_minor": 0
      },
      "text/plain": [
       "Running batch:   0%|          | 0/1 [00:00<?, ?it/s]"
      ]
     },
     "metadata": {},
     "output_type": "display_data"
    },
    {
     "name": "stdout",
     "output_type": "stream",
     "text": [
      "Predicted in 131.3491 s\n",
      "Iters. done: 232 Current cost: 0.07521624991609116 Accuracy: 0.16850296442475066 Time: 154.13165142014623\n"
     ]
    },
    {
     "data": {
      "application/vnd.jupyter.widget-view+json": {
       "model_id": "9283f04403bd420db467eeef41e21f55",
       "version_major": 2,
       "version_minor": 0
      },
      "text/plain": [
       "Mappings: 0it [00:00, ?it/s]"
      ]
     },
     "metadata": {},
     "output_type": "display_data"
    },
    {
     "name": "stdout",
     "output_type": "stream",
     "text": [
      "Submitted to device in 18.7424 s\n"
     ]
    },
    {
     "data": {
      "application/vnd.jupyter.widget-view+json": {
       "model_id": "69361ec8ae444cd3938d4af48bc17224",
       "version_major": 2,
       "version_minor": 0
      },
      "text/plain": [
       "Running batch:   0%|          | 0/1 [00:00<?, ?it/s]"
      ]
     },
     "metadata": {},
     "output_type": "display_data"
    },
    {
     "name": "stdout",
     "output_type": "stream",
     "text": [
      "Predicted in 181.1064 s\n",
      "Iters. done: 233 Current cost: 0.07409976725894662 Accuracy: 0.1808454040002745 Time: 199.93617983162403\n"
     ]
    },
    {
     "data": {
      "application/vnd.jupyter.widget-view+json": {
       "model_id": "586b9dab61574a77aea99b17a0d038a1",
       "version_major": 2,
       "version_minor": 0
      },
      "text/plain": [
       "Mappings: 0it [00:00, ?it/s]"
      ]
     },
     "metadata": {},
     "output_type": "display_data"
    },
    {
     "name": "stdout",
     "output_type": "stream",
     "text": [
      "Submitted to device in 18.9438 s\n"
     ]
    },
    {
     "data": {
      "application/vnd.jupyter.widget-view+json": {
       "model_id": "50b7c9aa13e54c26b38f607cb79d9a40",
       "version_major": 2,
       "version_minor": 0
      },
      "text/plain": [
       "Running batch:   0%|          | 0/1 [00:00<?, ?it/s]"
      ]
     },
     "metadata": {},
     "output_type": "display_data"
    },
    {
     "name": "stdout",
     "output_type": "stream",
     "text": [
      "Predicted in 133.7197 s\n",
      "Iters. done: 234 Current cost: 0.0767178160345606 Accuracy: 0.15190352244751282 Time: 152.74641616642475\n"
     ]
    },
    {
     "data": {
      "application/vnd.jupyter.widget-view+json": {
       "model_id": "44f089c9ddda457492b5b5bf869338e1",
       "version_major": 2,
       "version_minor": 0
      },
      "text/plain": [
       "Mappings: 0it [00:00, ?it/s]"
      ]
     },
     "metadata": {},
     "output_type": "display_data"
    },
    {
     "name": "stdout",
     "output_type": "stream",
     "text": [
      "Submitted to device in 22.4153 s\n"
     ]
    },
    {
     "data": {
      "application/vnd.jupyter.widget-view+json": {
       "model_id": "159e22bc563c4088bfedcd45827e7289",
       "version_major": 2,
       "version_minor": 0
      },
      "text/plain": [
       "Running batch:   0%|          | 0/1 [00:00<?, ?it/s]"
      ]
     },
     "metadata": {},
     "output_type": "display_data"
    },
    {
     "name": "stdout",
     "output_type": "stream",
     "text": [
      "Predicted in 117.3044 s\n",
      "Iters. done: 235 Current cost: 0.07198494361308176 Accuracy: 0.2042242562331732 Time: 139.80703660845757\n"
     ]
    },
    {
     "data": {
      "application/vnd.jupyter.widget-view+json": {
       "model_id": "3e69ebc6cc4a48c786519ce069512fd9",
       "version_major": 2,
       "version_minor": 0
      },
      "text/plain": [
       "Mappings: 0it [00:00, ?it/s]"
      ]
     },
     "metadata": {},
     "output_type": "display_data"
    },
    {
     "name": "stdout",
     "output_type": "stream",
     "text": [
      "Submitted to device in 18.1281 s\n"
     ]
    },
    {
     "data": {
      "application/vnd.jupyter.widget-view+json": {
       "model_id": "4a0e7dd1274c4b51a4a06be74d1f142b",
       "version_major": 2,
       "version_minor": 0
      },
      "text/plain": [
       "Running batch:   0%|          | 0/1 [00:00<?, ?it/s]"
      ]
     },
     "metadata": {},
     "output_type": "display_data"
    },
    {
     "name": "stdout",
     "output_type": "stream",
     "text": [
      "Predicted in 117.8038 s\n",
      "Iters. done: 236 Current cost: 0.07540613216619424 Accuracy: 0.16640386312356636 Time: 136.0258938856423\n"
     ]
    },
    {
     "data": {
      "application/vnd.jupyter.widget-view+json": {
       "model_id": "eed1b93fd82444ebb73e58ad79d0cefb",
       "version_major": 2,
       "version_minor": 0
      },
      "text/plain": [
       "Mappings: 0it [00:00, ?it/s]"
      ]
     },
     "metadata": {},
     "output_type": "display_data"
    },
    {
     "name": "stdout",
     "output_type": "stream",
     "text": [
      "Submitted to device in 21.2754 s\n"
     ]
    },
    {
     "data": {
      "application/vnd.jupyter.widget-view+json": {
       "model_id": "8d824a615fb24ed483cc63ae063d9311",
       "version_major": 2,
       "version_minor": 0
      },
      "text/plain": [
       "Running batch:   0%|          | 0/1 [00:00<?, ?it/s]"
      ]
     },
     "metadata": {},
     "output_type": "display_data"
    },
    {
     "name": "stdout",
     "output_type": "stream",
     "text": [
      "Predicted in 117.1826 s\n",
      "Iters. done: 237 Current cost: 0.07449383107779459 Accuracy: 0.17648912596773403 Time: 138.5432066731155\n"
     ]
    },
    {
     "data": {
      "application/vnd.jupyter.widget-view+json": {
       "model_id": "3fc07fb421b341df84f58bf16e1e649c",
       "version_major": 2,
       "version_minor": 0
      },
      "text/plain": [
       "Mappings: 0it [00:00, ?it/s]"
      ]
     },
     "metadata": {},
     "output_type": "display_data"
    },
    {
     "name": "stdout",
     "output_type": "stream",
     "text": [
      "Submitted to device in 17.9929 s\n"
     ]
    },
    {
     "data": {
      "application/vnd.jupyter.widget-view+json": {
       "model_id": "b693d74879d84ae597cbb01ec9ab5af2",
       "version_major": 2,
       "version_minor": 0
      },
      "text/plain": [
       "Running batch:   0%|          | 0/1 [00:00<?, ?it/s]"
      ]
     },
     "metadata": {},
     "output_type": "display_data"
    },
    {
     "name": "stdout",
     "output_type": "stream",
     "text": [
      "Predicted in 117.4129 s\n",
      "Iters. done: 238 Current cost: 0.07693410582592669 Accuracy: 0.14951249231045172 Time: 135.5037471242249\n"
     ]
    },
    {
     "data": {
      "application/vnd.jupyter.widget-view+json": {
       "model_id": "db6834c098124db3823c332267c8fb35",
       "version_major": 2,
       "version_minor": 0
      },
      "text/plain": [
       "Mappings: 0it [00:00, ?it/s]"
      ]
     },
     "metadata": {},
     "output_type": "display_data"
    },
    {
     "name": "stdout",
     "output_type": "stream",
     "text": [
      "Submitted to device in 20.8182 s\n"
     ]
    },
    {
     "data": {
      "application/vnd.jupyter.widget-view+json": {
       "model_id": "1d2e83d8d2794f6eab84bde1bb2f5c5a",
       "version_major": 2,
       "version_minor": 0
      },
      "text/plain": [
       "Running batch:   0%|          | 0/1 [00:00<?, ?it/s]"
      ]
     },
     "metadata": {},
     "output_type": "display_data"
    },
    {
     "name": "stdout",
     "output_type": "stream",
     "text": [
      "Predicted in 137.9575 s\n",
      "Iters. done: 239 Current cost: 0.07581427742867806 Accuracy: 0.16189191821514604 Time: 158.86128844693303\n"
     ]
    },
    {
     "data": {
      "application/vnd.jupyter.widget-view+json": {
       "model_id": "87b7778b8c89418bb734136a2b64fa2b",
       "version_major": 2,
       "version_minor": 0
      },
      "text/plain": [
       "Mappings: 0it [00:00, ?it/s]"
      ]
     },
     "metadata": {},
     "output_type": "display_data"
    },
    {
     "name": "stdout",
     "output_type": "stream",
     "text": [
      "Submitted to device in 20.4749 s\n"
     ]
    },
    {
     "data": {
      "application/vnd.jupyter.widget-view+json": {
       "model_id": "f680119ac1dc4c3d9c1f109d3ca0b196",
       "version_major": 2,
       "version_minor": 0
      },
      "text/plain": [
       "Running batch:   0%|          | 0/1 [00:00<?, ?it/s]"
      ]
     },
     "metadata": {},
     "output_type": "display_data"
    },
    {
     "name": "stdout",
     "output_type": "stream",
     "text": [
      "Predicted in 118.9544 s\n",
      "Iters. done: 240 Current cost: 0.07460499978438018 Accuracy: 0.17526018341771632 Time: 139.5155961588025\n"
     ]
    },
    {
     "data": {
      "application/vnd.jupyter.widget-view+json": {
       "model_id": "2fa5c02d08bf41c8af8375d73f3b3c13",
       "version_major": 2,
       "version_minor": 0
      },
      "text/plain": [
       "Mappings: 0it [00:00, ?it/s]"
      ]
     },
     "metadata": {},
     "output_type": "display_data"
    },
    {
     "name": "stdout",
     "output_type": "stream",
     "text": [
      "Submitted to device in 25.9725 s\n"
     ]
    },
    {
     "data": {
      "application/vnd.jupyter.widget-view+json": {
       "model_id": "e19a3015831d451cba6b0b3d05f4cf6c",
       "version_major": 2,
       "version_minor": 0
      },
      "text/plain": [
       "Running batch:   0%|          | 0/1 [00:00<?, ?it/s]"
      ]
     },
     "metadata": {},
     "output_type": "display_data"
    },
    {
     "name": "stdout",
     "output_type": "stream",
     "text": [
      "Predicted in 110.6360 s\n",
      "Iters. done: 241 Current cost: 0.07574376059483763 Accuracy: 0.16267146436856206 Time: 136.69479774683714\n"
     ]
    },
    {
     "data": {
      "application/vnd.jupyter.widget-view+json": {
       "model_id": "5a8e2b08e1ae4711812ef567374078c2",
       "version_major": 2,
       "version_minor": 0
      },
      "text/plain": [
       "Mappings: 0it [00:00, ?it/s]"
      ]
     },
     "metadata": {},
     "output_type": "display_data"
    },
    {
     "name": "stdout",
     "output_type": "stream",
     "text": [
      "Submitted to device in 20.1238 s\n"
     ]
    },
    {
     "data": {
      "application/vnd.jupyter.widget-view+json": {
       "model_id": "dde3bfd5ab5e4fe9bc43a76afc089e48",
       "version_major": 2,
       "version_minor": 0
      },
      "text/plain": [
       "Running batch:   0%|          | 0/1 [00:00<?, ?it/s]"
      ]
     },
     "metadata": {},
     "output_type": "display_data"
    },
    {
     "name": "stdout",
     "output_type": "stream",
     "text": [
      "Predicted in 118.4673 s\n",
      "Iters. done: 242 Current cost: 0.07531459970655045 Accuracy: 0.16741573182132286 Time: 138.6712104715407\n"
     ]
    },
    {
     "data": {
      "application/vnd.jupyter.widget-view+json": {
       "model_id": "8a0e315733d24063ba53d26ca1cb840e",
       "version_major": 2,
       "version_minor": 0
      },
      "text/plain": [
       "Mappings: 0it [00:00, ?it/s]"
      ]
     },
     "metadata": {},
     "output_type": "display_data"
    },
    {
     "name": "stdout",
     "output_type": "stream",
     "text": [
      "Submitted to device in 20.8056 s\n"
     ]
    },
    {
     "data": {
      "application/vnd.jupyter.widget-view+json": {
       "model_id": "1b83f39899a141ec96592239839b1029",
       "version_major": 2,
       "version_minor": 0
      },
      "text/plain": [
       "Running batch:   0%|          | 0/1 [00:00<?, ?it/s]"
      ]
     },
     "metadata": {},
     "output_type": "display_data"
    },
    {
     "name": "stdout",
     "output_type": "stream",
     "text": [
      "Predicted in 118.0921 s\n",
      "Iters. done: 243 Current cost: 0.07585742970358714 Accuracy: 0.16141488049118013 Time: 138.98008287325501\n"
     ]
    },
    {
     "data": {
      "application/vnd.jupyter.widget-view+json": {
       "model_id": "1293962c5c994ab1af0b651f382d8934",
       "version_major": 2,
       "version_minor": 0
      },
      "text/plain": [
       "Mappings: 0it [00:00, ?it/s]"
      ]
     },
     "metadata": {},
     "output_type": "display_data"
    },
    {
     "name": "stdout",
     "output_type": "stream",
     "text": [
      "Submitted to device in 19.3442 s\n"
     ]
    },
    {
     "data": {
      "application/vnd.jupyter.widget-view+json": {
       "model_id": "af2ddcf190ee45c08c27e90e1c97d42f",
       "version_major": 2,
       "version_minor": 0
      },
      "text/plain": [
       "Running batch:   0%|          | 0/1 [00:00<?, ?it/s]"
      ]
     },
     "metadata": {},
     "output_type": "display_data"
    },
    {
     "name": "stdout",
     "output_type": "stream",
     "text": [
      "Predicted in 127.8324 s\n",
      "Iters. done: 244 Current cost: 0.07674658548154412 Accuracy: 0.151585483328192 Time: 147.25763665139675\n"
     ]
    },
    {
     "data": {
      "application/vnd.jupyter.widget-view+json": {
       "model_id": "26e4cf86a6bc4f4597264fd838006092",
       "version_major": 2,
       "version_minor": 0
      },
      "text/plain": [
       "Mappings: 0it [00:00, ?it/s]"
      ]
     },
     "metadata": {},
     "output_type": "display_data"
    },
    {
     "name": "stdout",
     "output_type": "stream",
     "text": [
      "Submitted to device in 20.6961 s\n"
     ]
    },
    {
     "data": {
      "application/vnd.jupyter.widget-view+json": {
       "model_id": "fbc7acf5f896449dbada1e4e3dd5ce1c",
       "version_major": 2,
       "version_minor": 0
      },
      "text/plain": [
       "Running batch:   0%|          | 0/1 [00:00<?, ?it/s]"
      ]
     },
     "metadata": {},
     "output_type": "display_data"
    },
    {
     "name": "stdout",
     "output_type": "stream",
     "text": [
      "Predicted in 121.8575 s\n",
      "Iters. done: 245 Current cost: 0.0736029022833849 Accuracy: 0.18633812338899214 Time: 142.64039634540677\n"
     ]
    },
    {
     "data": {
      "application/vnd.jupyter.widget-view+json": {
       "model_id": "977a3ebca13040c68d4dd0a7ebe445bd",
       "version_major": 2,
       "version_minor": 0
      },
      "text/plain": [
       "Mappings: 0it [00:00, ?it/s]"
      ]
     },
     "metadata": {},
     "output_type": "display_data"
    },
    {
     "name": "stdout",
     "output_type": "stream",
     "text": [
      "Submitted to device in 29.2183 s\n"
     ]
    },
    {
     "data": {
      "application/vnd.jupyter.widget-view+json": {
       "model_id": "162013b24e3140ba85d713410ae83fe3",
       "version_major": 2,
       "version_minor": 0
      },
      "text/plain": [
       "Running batch:   0%|          | 0/1 [00:00<?, ?it/s]"
      ]
     },
     "metadata": {},
     "output_type": "display_data"
    },
    {
     "name": "stdout",
     "output_type": "stream",
     "text": [
      "Predicted in 119.0359 s\n",
      "Iters. done: 246 Current cost: 0.07713091692050972 Accuracy: 0.14733679434762237 Time: 148.3405294790864\n"
     ]
    },
    {
     "data": {
      "application/vnd.jupyter.widget-view+json": {
       "model_id": "0867d653e29f45598c48f7be369b6b18",
       "version_major": 2,
       "version_minor": 0
      },
      "text/plain": [
       "Mappings: 0it [00:00, ?it/s]"
      ]
     },
     "metadata": {},
     "output_type": "display_data"
    },
    {
     "name": "stdout",
     "output_type": "stream",
     "text": [
      "Submitted to device in 22.4664 s\n"
     ]
    },
    {
     "data": {
      "application/vnd.jupyter.widget-view+json": {
       "model_id": "bd44775ea05c4a2b822cd318607f1366",
       "version_major": 2,
       "version_minor": 0
      },
      "text/plain": [
       "Running batch:   0%|          | 0/1 [00:00<?, ?it/s]"
      ]
     },
     "metadata": {},
     "output_type": "display_data"
    },
    {
     "name": "stdout",
     "output_type": "stream",
     "text": [
      "Predicted in 120.1935 s\n",
      "Iters. done: 247 Current cost: 0.07739938060816826 Accuracy: 0.144368994694001 Time: 142.7436641715467\n"
     ]
    },
    {
     "data": {
      "application/vnd.jupyter.widget-view+json": {
       "model_id": "a08557b51b8b43348900cc2d42842cc5",
       "version_major": 2,
       "version_minor": 0
      },
      "text/plain": [
       "Mappings: 0it [00:00, ?it/s]"
      ]
     },
     "metadata": {},
     "output_type": "display_data"
    },
    {
     "name": "stdout",
     "output_type": "stream",
     "text": [
      "Submitted to device in 18.1162 s\n"
     ]
    },
    {
     "data": {
      "application/vnd.jupyter.widget-view+json": {
       "model_id": "b9b68edfdbd14fea9f2ef0df335b238c",
       "version_major": 2,
       "version_minor": 0
      },
      "text/plain": [
       "Running batch:   0%|          | 0/1 [00:00<?, ?it/s]"
      ]
     },
     "metadata": {},
     "output_type": "display_data"
    },
    {
     "name": "stdout",
     "output_type": "stream",
     "text": [
      "Predicted in 119.9857 s\n",
      "Iters. done: 248 Current cost: 0.07395647810904954 Accuracy: 0.18242943010503831 Time: 138.19398496299982\n"
     ]
    },
    {
     "data": {
      "application/vnd.jupyter.widget-view+json": {
       "model_id": "000b0f1f4f26456289eebeb218de8f3f",
       "version_major": 2,
       "version_minor": 0
      },
      "text/plain": [
       "Mappings: 0it [00:00, ?it/s]"
      ]
     },
     "metadata": {},
     "output_type": "display_data"
    },
    {
     "name": "stdout",
     "output_type": "stream",
     "text": [
      "Submitted to device in 21.5512 s\n"
     ]
    },
    {
     "data": {
      "application/vnd.jupyter.widget-view+json": {
       "model_id": "e25b6fe182b94ec2a7ca04b5d81408a3",
       "version_major": 2,
       "version_minor": 0
      },
      "text/plain": [
       "Running batch:   0%|          | 0/1 [00:00<?, ?it/s]"
      ]
     },
     "metadata": {},
     "output_type": "display_data"
    },
    {
     "name": "stdout",
     "output_type": "stream",
     "text": [
      "Predicted in 117.8813 s\n",
      "Iters. done: 249 Current cost: 0.07635840627533982 Accuracy: 0.15587670842371182 Time: 139.53319465741515\n"
     ]
    },
    {
     "data": {
      "application/vnd.jupyter.widget-view+json": {
       "model_id": "f2cd3a7c89d64d27ac9e9c21438dadfe",
       "version_major": 2,
       "version_minor": 0
      },
      "text/plain": [
       "Mappings: 0it [00:00, ?it/s]"
      ]
     },
     "metadata": {},
     "output_type": "display_data"
    },
    {
     "name": "stdout",
     "output_type": "stream",
     "text": [
      "Submitted to device in 21.9731 s\n"
     ]
    },
    {
     "data": {
      "application/vnd.jupyter.widget-view+json": {
       "model_id": "dde5903e375141c5922a2678809a7a98",
       "version_major": 2,
       "version_minor": 0
      },
      "text/plain": [
       "Running batch:   0%|          | 0/1 [00:00<?, ?it/s]"
      ]
     },
     "metadata": {},
     "output_type": "display_data"
    },
    {
     "name": "stdout",
     "output_type": "stream",
     "text": [
      "Predicted in 115.0579 s\n",
      "Iters. done: 250 Current cost: 0.07439815729876692 Accuracy: 0.17754677592678592 Time: 137.60351922363043\n"
     ]
    },
    {
     "data": {
      "application/vnd.jupyter.widget-view+json": {
       "model_id": "bb1e8ad6e6864cf581b356ebe7da8522",
       "version_major": 2,
       "version_minor": 0
      },
      "text/plain": [
       "Mappings: 0it [00:00, ?it/s]"
      ]
     },
     "metadata": {},
     "output_type": "display_data"
    },
    {
     "name": "stdout",
     "output_type": "stream",
     "text": [
      "Submitted to device in 19.0172 s\n"
     ]
    },
    {
     "data": {
      "application/vnd.jupyter.widget-view+json": {
       "model_id": "efebca4db36640f0badf55897c47dbc3",
       "version_major": 2,
       "version_minor": 0
      },
      "text/plain": [
       "Running batch:   0%|          | 0/1 [00:00<?, ?it/s]"
      ]
     },
     "metadata": {},
     "output_type": "display_data"
    },
    {
     "name": "stdout",
     "output_type": "stream",
     "text": [
      "Predicted in 117.0389 s\n",
      "Iters. done: 251 Current cost: 0.07673321211068038 Accuracy: 0.15173332263474149 Time: 136.15482573583722\n"
     ]
    },
    {
     "data": {
      "application/vnd.jupyter.widget-view+json": {
       "model_id": "68c9968a3197467483afcef1f85e591c",
       "version_major": 2,
       "version_minor": 0
      },
      "text/plain": [
       "Mappings: 0it [00:00, ?it/s]"
      ]
     },
     "metadata": {},
     "output_type": "display_data"
    },
    {
     "name": "stdout",
     "output_type": "stream",
     "text": [
      "Submitted to device in 19.0100 s\n"
     ]
    },
    {
     "data": {
      "application/vnd.jupyter.widget-view+json": {
       "model_id": "b227877925524d9b97381dd9937c43dc",
       "version_major": 2,
       "version_minor": 0
      },
      "text/plain": [
       "Running batch:   0%|          | 0/1 [00:00<?, ?it/s]"
      ]
     },
     "metadata": {},
     "output_type": "display_data"
    },
    {
     "name": "stdout",
     "output_type": "stream",
     "text": [
      "Predicted in 118.1190 s\n",
      "Iters. done: 252 Current cost: 0.07444353115272673 Accuracy: 0.17704517919599583 Time: 137.2229698561132\n"
     ]
    },
    {
     "data": {
      "application/vnd.jupyter.widget-view+json": {
       "model_id": "b5f31f3d22a040a69b84344fa161c237",
       "version_major": 2,
       "version_minor": 0
      },
      "text/plain": [
       "Mappings: 0it [00:00, ?it/s]"
      ]
     },
     "metadata": {},
     "output_type": "display_data"
    },
    {
     "name": "stdout",
     "output_type": "stream",
     "text": [
      "Submitted to device in 21.4645 s\n"
     ]
    },
    {
     "data": {
      "application/vnd.jupyter.widget-view+json": {
       "model_id": "b12d692f7bd2411b9bbee675762e7d6b",
       "version_major": 2,
       "version_minor": 0
      },
      "text/plain": [
       "Running batch:   0%|          | 0/1 [00:00<?, ?it/s]"
      ]
     },
     "metadata": {},
     "output_type": "display_data"
    },
    {
     "name": "stdout",
     "output_type": "stream",
     "text": [
      "Predicted in 115.7050 s\n",
      "Iters. done: 253 Current cost: 0.07433153371268823 Accuracy: 0.17828328318932052 Time: 137.26877965778112\n"
     ]
    },
    {
     "data": {
      "application/vnd.jupyter.widget-view+json": {
       "model_id": "dc634f80aa15400f9d902e2faa8b14a6",
       "version_major": 2,
       "version_minor": 0
      },
      "text/plain": [
       "Mappings: 0it [00:00, ?it/s]"
      ]
     },
     "metadata": {},
     "output_type": "display_data"
    },
    {
     "name": "stdout",
     "output_type": "stream",
     "text": [
      "Submitted to device in 21.8852 s\n"
     ]
    },
    {
     "data": {
      "application/vnd.jupyter.widget-view+json": {
       "model_id": "42a2863061df45e589634f7609911338",
       "version_major": 2,
       "version_minor": 0
      },
      "text/plain": [
       "Running batch:   0%|          | 0/1 [00:00<?, ?it/s]"
      ]
     },
     "metadata": {},
     "output_type": "display_data"
    },
    {
     "name": "stdout",
     "output_type": "stream",
     "text": [
      "Predicted in 115.8435 s\n",
      "Iters. done: 254 Current cost: 0.07692141891638038 Accuracy: 0.1496527429569562 Time: 137.82650912553072\n"
     ]
    },
    {
     "data": {
      "application/vnd.jupyter.widget-view+json": {
       "model_id": "4a9a601df5dc497da384a5de63f1d05e",
       "version_major": 2,
       "version_minor": 0
      },
      "text/plain": [
       "Mappings: 0it [00:00, ?it/s]"
      ]
     },
     "metadata": {},
     "output_type": "display_data"
    },
    {
     "name": "stdout",
     "output_type": "stream",
     "text": [
      "Submitted to device in 17.4980 s\n"
     ]
    },
    {
     "data": {
      "application/vnd.jupyter.widget-view+json": {
       "model_id": "caf93a703ef1485fb4bbc4db44022377",
       "version_major": 2,
       "version_minor": 0
      },
      "text/plain": [
       "Running batch:   0%|          | 0/1 [00:00<?, ?it/s]"
      ]
     },
     "metadata": {},
     "output_type": "display_data"
    },
    {
     "name": "stdout",
     "output_type": "stream",
     "text": [
      "Predicted in 117.9210 s\n",
      "Iters. done: 255 Current cost: 0.07381373209868909 Accuracy: 0.18400745193658818 Time: 135.50816936790943\n"
     ]
    },
    {
     "data": {
      "application/vnd.jupyter.widget-view+json": {
       "model_id": "1f859b970ba2419aadd0800153573bf2",
       "version_major": 2,
       "version_minor": 0
      },
      "text/plain": [
       "Mappings: 0it [00:00, ?it/s]"
      ]
     },
     "metadata": {},
     "output_type": "display_data"
    },
    {
     "name": "stdout",
     "output_type": "stream",
     "text": [
      "Submitted to device in 19.8193 s\n"
     ]
    },
    {
     "data": {
      "application/vnd.jupyter.widget-view+json": {
       "model_id": "f660fce836814fda816dee83f6a8e467",
       "version_major": 2,
       "version_minor": 0
      },
      "text/plain": [
       "Running batch:   0%|          | 0/1 [00:00<?, ?it/s]"
      ]
     },
     "metadata": {},
     "output_type": "display_data"
    },
    {
     "name": "stdout",
     "output_type": "stream",
     "text": [
      "Predicted in 117.1722 s\n",
      "Iters. done: 256 Current cost: 0.0724865591261323 Accuracy: 0.1986790208277206 Time: 137.077864151448\n"
     ]
    },
    {
     "data": {
      "application/vnd.jupyter.widget-view+json": {
       "model_id": "8e71abe7873c42b08a6ac1a766f4637f",
       "version_major": 2,
       "version_minor": 0
      },
      "text/plain": [
       "Mappings: 0it [00:00, ?it/s]"
      ]
     },
     "metadata": {},
     "output_type": "display_data"
    },
    {
     "name": "stdout",
     "output_type": "stream",
     "text": [
      "Submitted to device in 21.1641 s\n"
     ]
    },
    {
     "data": {
      "application/vnd.jupyter.widget-view+json": {
       "model_id": "51990fa6e07d4408a6bfc67a3bd72819",
       "version_major": 2,
       "version_minor": 0
      },
      "text/plain": [
       "Running batch:   0%|          | 0/1 [00:00<?, ?it/s]"
      ]
     },
     "metadata": {},
     "output_type": "display_data"
    },
    {
     "name": "stdout",
     "output_type": "stream",
     "text": [
      "Predicted in 120.6579 s\n",
      "Iters. done: 257 Current cost: 0.07569848274974096 Accuracy: 0.1631719997451212 Time: 141.91769700869918\n"
     ]
    },
    {
     "data": {
      "application/vnd.jupyter.widget-view+json": {
       "model_id": "5028aa808bc84b69a26fdd30f42666bd",
       "version_major": 2,
       "version_minor": 0
      },
      "text/plain": [
       "Mappings: 0it [00:00, ?it/s]"
      ]
     },
     "metadata": {},
     "output_type": "display_data"
    },
    {
     "name": "stdout",
     "output_type": "stream",
     "text": [
      "Submitted to device in 21.8677 s\n"
     ]
    },
    {
     "data": {
      "application/vnd.jupyter.widget-view+json": {
       "model_id": "080e9877abac4cafadacbc1b5030e796",
       "version_major": 2,
       "version_minor": 0
      },
      "text/plain": [
       "Running batch:   0%|          | 0/1 [00:00<?, ?it/s]"
      ]
     },
     "metadata": {},
     "output_type": "display_data"
    },
    {
     "name": "stdout",
     "output_type": "stream",
     "text": [
      "Predicted in 115.1911 s\n",
      "Iters. done: 258 Current cost: 0.07372125973764335 Accuracy: 0.1850297110118274 Time: 137.14781937003136\n"
     ]
    },
    {
     "data": {
      "application/vnd.jupyter.widget-view+json": {
       "model_id": "4af5e2280e9f42dc97bc8534e9efb7ad",
       "version_major": 2,
       "version_minor": 0
      },
      "text/plain": [
       "Mappings: 0it [00:00, ?it/s]"
      ]
     },
     "metadata": {},
     "output_type": "display_data"
    },
    {
     "name": "stdout",
     "output_type": "stream",
     "text": [
      "Submitted to device in 20.6979 s\n"
     ]
    },
    {
     "data": {
      "application/vnd.jupyter.widget-view+json": {
       "model_id": "9acc5bfea3df4f4982dcd54876a06750",
       "version_major": 2,
       "version_minor": 0
      },
      "text/plain": [
       "Running batch:   0%|          | 0/1 [00:00<?, ?it/s]"
      ]
     },
     "metadata": {},
     "output_type": "display_data"
    },
    {
     "name": "stdout",
     "output_type": "stream",
     "text": [
      "Predicted in 154.7568 s\n",
      "Iters. done: 259 Current cost: 0.07550549670948173 Accuracy: 0.16530541267865584 Time: 175.54260990023613\n"
     ]
    },
    {
     "data": {
      "application/vnd.jupyter.widget-view+json": {
       "model_id": "dc6624d02d734f75b3b465abda46167c",
       "version_major": 2,
       "version_minor": 0
      },
      "text/plain": [
       "Mappings: 0it [00:00, ?it/s]"
      ]
     },
     "metadata": {},
     "output_type": "display_data"
    },
    {
     "name": "stdout",
     "output_type": "stream",
     "text": [
      "Submitted to device in 17.1368 s\n"
     ]
    },
    {
     "data": {
      "application/vnd.jupyter.widget-view+json": {
       "model_id": "b111a710980d424ea5ac898990b589df",
       "version_major": 2,
       "version_minor": 0
      },
      "text/plain": [
       "Running batch:   0%|          | 0/1 [00:00<?, ?it/s]"
      ]
     },
     "metadata": {},
     "output_type": "display_data"
    },
    {
     "name": "stdout",
     "output_type": "stream",
     "text": [
      "Predicted in 120.1667 s\n",
      "Iters. done: 260 Current cost: 0.07419956446666798 Accuracy: 0.17974217055708153 Time: 137.39513879269361\n"
     ]
    },
    {
     "data": {
      "application/vnd.jupyter.widget-view+json": {
       "model_id": "f8b0db98c636413a866bc239da3fdaee",
       "version_major": 2,
       "version_minor": 0
      },
      "text/plain": [
       "Mappings: 0it [00:00, ?it/s]"
      ]
     },
     "metadata": {},
     "output_type": "display_data"
    },
    {
     "name": "stdout",
     "output_type": "stream",
     "text": [
      "Submitted to device in 21.6621 s\n"
     ]
    },
    {
     "data": {
      "application/vnd.jupyter.widget-view+json": {
       "model_id": "3d4f3c716abd4620867827790e027ff0",
       "version_major": 2,
       "version_minor": 0
      },
      "text/plain": [
       "Running batch:   0%|          | 0/1 [00:00<?, ?it/s]"
      ]
     },
     "metadata": {},
     "output_type": "display_data"
    },
    {
     "name": "stdout",
     "output_type": "stream",
     "text": [
      "Predicted in 118.6497 s\n",
      "Iters. done: 261 Current cost: 0.07651171256511172 Accuracy: 0.15418194531570562 Time: 140.41357791423798\n"
     ]
    },
    {
     "data": {
      "application/vnd.jupyter.widget-view+json": {
       "model_id": "84bb623b32b9452f92e15c42ca86e382",
       "version_major": 2,
       "version_minor": 0
      },
      "text/plain": [
       "Mappings: 0it [00:00, ?it/s]"
      ]
     },
     "metadata": {},
     "output_type": "display_data"
    },
    {
     "name": "stdout",
     "output_type": "stream",
     "text": [
      "Submitted to device in 23.0058 s\n"
     ]
    },
    {
     "data": {
      "application/vnd.jupyter.widget-view+json": {
       "model_id": "b90ff11236c64857900ebbc0b62b12b4",
       "version_major": 2,
       "version_minor": 0
      },
      "text/plain": [
       "Running batch:   0%|          | 0/1 [00:00<?, ?it/s]"
      ]
     },
     "metadata": {},
     "output_type": "display_data"
    },
    {
     "name": "stdout",
     "output_type": "stream",
     "text": [
      "Predicted in 122.1644 s\n",
      "Iters. done: 262 Current cost: 0.07690401348804024 Accuracy: 0.1498451556614434 Time: 145.25829745456576\n"
     ]
    },
    {
     "data": {
      "application/vnd.jupyter.widget-view+json": {
       "model_id": "a349662ac92e4dfabd85ffc8b2ea2606",
       "version_major": 2,
       "version_minor": 0
      },
      "text/plain": [
       "Mappings: 0it [00:00, ?it/s]"
      ]
     },
     "metadata": {},
     "output_type": "display_data"
    },
    {
     "name": "stdout",
     "output_type": "stream",
     "text": [
      "Submitted to device in 17.2759 s\n"
     ]
    },
    {
     "data": {
      "application/vnd.jupyter.widget-view+json": {
       "model_id": "02bea91433654608b60a3cc7e57510a5",
       "version_major": 2,
       "version_minor": 0
      },
      "text/plain": [
       "Running batch:   0%|          | 0/1 [00:00<?, ?it/s]"
      ]
     },
     "metadata": {},
     "output_type": "display_data"
    },
    {
     "name": "stdout",
     "output_type": "stream",
     "text": [
      "Predicted in 122.5048 s\n",
      "Iters. done: 263 Current cost: 0.07536117231170532 Accuracy: 0.16690088319262242 Time: 139.86719131097198\n"
     ]
    },
    {
     "data": {
      "application/vnd.jupyter.widget-view+json": {
       "model_id": "819cc1070e7640c5a91cbd27fe7ac060",
       "version_major": 2,
       "version_minor": 0
      },
      "text/plain": [
       "Mappings: 0it [00:00, ?it/s]"
      ]
     },
     "metadata": {},
     "output_type": "display_data"
    },
    {
     "name": "stdout",
     "output_type": "stream",
     "text": [
      "Submitted to device in 18.0981 s\n"
     ]
    },
    {
     "data": {
      "application/vnd.jupyter.widget-view+json": {
       "model_id": "f9ffb643a8d04c709d00a4336828b3ab",
       "version_major": 2,
       "version_minor": 0
      },
      "text/plain": [
       "Running batch:   0%|          | 0/1 [00:00<?, ?it/s]"
      ]
     },
     "metadata": {},
     "output_type": "display_data"
    },
    {
     "name": "stdout",
     "output_type": "stream",
     "text": [
      "Predicted in 120.2739 s\n",
      "Iters. done: 264 Current cost: 0.07548178428082994 Accuracy: 0.16556754771134152 Time: 138.45947902277112\n"
     ]
    },
    {
     "data": {
      "application/vnd.jupyter.widget-view+json": {
       "model_id": "2cf57350ce0b4581be61264383dbbbe6",
       "version_major": 2,
       "version_minor": 0
      },
      "text/plain": [
       "Mappings: 0it [00:00, ?it/s]"
      ]
     },
     "metadata": {},
     "output_type": "display_data"
    },
    {
     "name": "stdout",
     "output_type": "stream",
     "text": [
      "Submitted to device in 19.7498 s\n"
     ]
    },
    {
     "data": {
      "application/vnd.jupyter.widget-view+json": {
       "model_id": "47f5d3129f4447eda6317a4bf898ac4c",
       "version_major": 2,
       "version_minor": 0
      },
      "text/plain": [
       "Running batch:   0%|          | 0/1 [00:00<?, ?it/s]"
      ]
     },
     "metadata": {},
     "output_type": "display_data"
    },
    {
     "name": "stdout",
     "output_type": "stream",
     "text": [
      "Predicted in 117.5842 s\n",
      "Iters. done: 265 Current cost: 0.07502285657876603 Accuracy: 0.17064087992659016 Time: 137.42023099213839\n"
     ]
    },
    {
     "data": {
      "application/vnd.jupyter.widget-view+json": {
       "model_id": "d2c5aeaf362747809bae59b322723d76",
       "version_major": 2,
       "version_minor": 0
      },
      "text/plain": [
       "Mappings: 0it [00:00, ?it/s]"
      ]
     },
     "metadata": {},
     "output_type": "display_data"
    },
    {
     "name": "stdout",
     "output_type": "stream",
     "text": [
      "Submitted to device in 17.5319 s\n"
     ]
    },
    {
     "data": {
      "application/vnd.jupyter.widget-view+json": {
       "model_id": "e30c1d66365549aab3aeb1c1693e51a8",
       "version_major": 2,
       "version_minor": 0
      },
      "text/plain": [
       "Running batch:   0%|          | 0/1 [00:00<?, ?it/s]"
      ]
     },
     "metadata": {},
     "output_type": "display_data"
    },
    {
     "name": "stdout",
     "output_type": "stream",
     "text": [
      "Predicted in 120.9161 s\n",
      "Iters. done: 266 Current cost: 0.07478132156565426 Accuracy: 0.17331098974480252 Time: 138.53064650669694\n"
     ]
    },
    {
     "data": {
      "application/vnd.jupyter.widget-view+json": {
       "model_id": "6f33ae6e3e2f4b5a97391309229b9e3d",
       "version_major": 2,
       "version_minor": 0
      },
      "text/plain": [
       "Mappings: 0it [00:00, ?it/s]"
      ]
     },
     "metadata": {},
     "output_type": "display_data"
    },
    {
     "name": "stdout",
     "output_type": "stream",
     "text": [
      "Submitted to device in 18.5797 s\n"
     ]
    },
    {
     "data": {
      "application/vnd.jupyter.widget-view+json": {
       "model_id": "05f5977f070a4d639d7eac46d9884e35",
       "version_major": 2,
       "version_minor": 0
      },
      "text/plain": [
       "Running batch:   0%|          | 0/1 [00:00<?, ?it/s]"
      ]
     },
     "metadata": {},
     "output_type": "display_data"
    },
    {
     "name": "stdout",
     "output_type": "stream",
     "text": [
      "Predicted in 116.3237 s\n",
      "Iters. done: 267 Current cost: 0.07790364628838824 Accuracy: 0.13879446234609738 Time: 134.98814139515162\n"
     ]
    },
    {
     "data": {
      "application/vnd.jupyter.widget-view+json": {
       "model_id": "8345662df38545fc8b4a29e380906fb7",
       "version_major": 2,
       "version_minor": 0
      },
      "text/plain": [
       "Mappings: 0it [00:00, ?it/s]"
      ]
     },
     "metadata": {},
     "output_type": "display_data"
    },
    {
     "name": "stdout",
     "output_type": "stream",
     "text": [
      "Submitted to device in 20.6997 s\n"
     ]
    },
    {
     "data": {
      "application/vnd.jupyter.widget-view+json": {
       "model_id": "50fa80e29e734964bc1c7bb5b17ad60c",
       "version_major": 2,
       "version_minor": 0
      },
      "text/plain": [
       "Running batch:   0%|          | 0/1 [00:00<?, ?it/s]"
      ]
     },
     "metadata": {},
     "output_type": "display_data"
    },
    {
     "name": "stdout",
     "output_type": "stream",
     "text": [
      "Predicted in 119.5366 s\n",
      "Iters. done: 268 Current cost: 0.07417760719219743 Accuracy: 0.17998490279448953 Time: 140.33677404746413\n"
     ]
    },
    {
     "data": {
      "application/vnd.jupyter.widget-view+json": {
       "model_id": "b07e32c65ef7400ab9d66b946cc0c261",
       "version_major": 2,
       "version_minor": 0
      },
      "text/plain": [
       "Mappings: 0it [00:00, ?it/s]"
      ]
     },
     "metadata": {},
     "output_type": "display_data"
    },
    {
     "name": "stdout",
     "output_type": "stream",
     "text": [
      "Submitted to device in 18.4999 s\n"
     ]
    },
    {
     "data": {
      "application/vnd.jupyter.widget-view+json": {
       "model_id": "6598ef45313c4bc89950b6fde9d7f942",
       "version_major": 2,
       "version_minor": 0
      },
      "text/plain": [
       "Running batch:   0%|          | 0/1 [00:00<?, ?it/s]"
      ]
     },
     "metadata": {},
     "output_type": "display_data"
    },
    {
     "name": "stdout",
     "output_type": "stream",
     "text": [
      "Predicted in 119.6082 s\n",
      "Iters. done: 269 Current cost: 0.07599071999869138 Accuracy: 0.15994138925260115 Time: 138.19769040495157\n"
     ]
    },
    {
     "data": {
      "application/vnd.jupyter.widget-view+json": {
       "model_id": "f42081dc183842c3beafdbc863384968",
       "version_major": 2,
       "version_minor": 0
      },
      "text/plain": [
       "Mappings: 0it [00:00, ?it/s]"
      ]
     },
     "metadata": {},
     "output_type": "display_data"
    },
    {
     "name": "stdout",
     "output_type": "stream",
     "text": [
      "Submitted to device in 18.5525 s\n"
     ]
    },
    {
     "data": {
      "application/vnd.jupyter.widget-view+json": {
       "model_id": "daa085475baa42118f999b702db46282",
       "version_major": 2,
       "version_minor": 0
      },
      "text/plain": [
       "Running batch:   0%|          | 0/1 [00:00<?, ?it/s]"
      ]
     },
     "metadata": {},
     "output_type": "display_data"
    },
    {
     "name": "stdout",
     "output_type": "stream",
     "text": [
      "Predicted in 120.7014 s\n",
      "Iters. done: 270 Current cost: 0.07216440155429842 Accuracy: 0.20224039308792807 Time: 139.36230632290244\n"
     ]
    },
    {
     "data": {
      "application/vnd.jupyter.widget-view+json": {
       "model_id": "378e18a4d5cd4ddda5e7937d169b410b",
       "version_major": 2,
       "version_minor": 0
      },
      "text/plain": [
       "Mappings: 0it [00:00, ?it/s]"
      ]
     },
     "metadata": {},
     "output_type": "display_data"
    },
    {
     "name": "stdout",
     "output_type": "stream",
     "text": [
      "Submitted to device in 22.8732 s\n"
     ]
    },
    {
     "data": {
      "application/vnd.jupyter.widget-view+json": {
       "model_id": "35020eb31e934be78bca5e6e1f9a15a2",
       "version_major": 2,
       "version_minor": 0
      },
      "text/plain": [
       "Running batch:   0%|          | 0/1 [00:00<?, ?it/s]"
      ]
     },
     "metadata": {},
     "output_type": "display_data"
    },
    {
     "name": "stdout",
     "output_type": "stream",
     "text": [
      "Predicted in 117.1752 s\n",
      "Iters. done: 271 Current cost: 0.0771309209009182 Accuracy: 0.14733675034519123 Time: 140.13932802155614\n"
     ]
    },
    {
     "data": {
      "application/vnd.jupyter.widget-view+json": {
       "model_id": "fa6522e8f9264906aace8538f0ba155f",
       "version_major": 2,
       "version_minor": 0
      },
      "text/plain": [
       "Mappings: 0it [00:00, ?it/s]"
      ]
     },
     "metadata": {},
     "output_type": "display_data"
    },
    {
     "name": "stdout",
     "output_type": "stream",
     "text": [
      "Submitted to device in 18.3676 s\n"
     ]
    },
    {
     "data": {
      "application/vnd.jupyter.widget-view+json": {
       "model_id": "f515afb95c164336a5d075ece02fa8d1",
       "version_major": 2,
       "version_minor": 0
      },
      "text/plain": [
       "Running batch:   0%|          | 0/1 [00:00<?, ?it/s]"
      ]
     },
     "metadata": {},
     "output_type": "display_data"
    },
    {
     "name": "stdout",
     "output_type": "stream",
     "text": [
      "Predicted in 120.2703 s\n",
      "Iters. done: 272 Current cost: 0.07395962389681128 Accuracy: 0.1823946541995477 Time: 138.72874351218343\n"
     ]
    },
    {
     "data": {
      "application/vnd.jupyter.widget-view+json": {
       "model_id": "21705b8bcacd48248eea38c9b1245218",
       "version_major": 2,
       "version_minor": 0
      },
      "text/plain": [
       "Mappings: 0it [00:00, ?it/s]"
      ]
     },
     "metadata": {},
     "output_type": "display_data"
    },
    {
     "name": "stdout",
     "output_type": "stream",
     "text": [
      "Submitted to device in 17.3988 s\n"
     ]
    },
    {
     "data": {
      "application/vnd.jupyter.widget-view+json": {
       "model_id": "dc88eae3c6ab430493a3633d12b91f7b",
       "version_major": 2,
       "version_minor": 0
      },
      "text/plain": [
       "Running batch:   0%|          | 0/1 [00:00<?, ?it/s]"
      ]
     },
     "metadata": {},
     "output_type": "display_data"
    },
    {
     "name": "stdout",
     "output_type": "stream",
     "text": [
      "Predicted in 122.1526 s\n",
      "Iters. done: 273 Current cost: 0.07807559613407744 Accuracy: 0.13689359933953038 Time: 139.64901648834348\n"
     ]
    },
    {
     "data": {
      "application/vnd.jupyter.widget-view+json": {
       "model_id": "00fef3c24bc44434bfb135704d4d9a13",
       "version_major": 2,
       "version_minor": 0
      },
      "text/plain": [
       "Mappings: 0it [00:00, ?it/s]"
      ]
     },
     "metadata": {},
     "output_type": "display_data"
    },
    {
     "name": "stdout",
     "output_type": "stream",
     "text": [
      "Submitted to device in 17.9105 s\n"
     ]
    },
    {
     "data": {
      "application/vnd.jupyter.widget-view+json": {
       "model_id": "6ecf674183f94d3cb3ef34c10df6cfa8",
       "version_major": 2,
       "version_minor": 0
      },
      "text/plain": [
       "Running batch:   0%|          | 0/1 [00:00<?, ?it/s]"
      ]
     },
     "metadata": {},
     "output_type": "display_data"
    },
    {
     "name": "stdout",
     "output_type": "stream",
     "text": [
      "Predicted in 121.3427 s\n",
      "Iters. done: 274 Current cost: 0.07471369104879473 Accuracy: 0.17405862837802144 Time: 139.3360581062734\n"
     ]
    },
    {
     "data": {
      "application/vnd.jupyter.widget-view+json": {
       "model_id": "ffed05c2f3ef4c569f4b2a15f2f92e70",
       "version_major": 2,
       "version_minor": 0
      },
      "text/plain": [
       "Mappings: 0it [00:00, ?it/s]"
      ]
     },
     "metadata": {},
     "output_type": "display_data"
    },
    {
     "name": "stdout",
     "output_type": "stream",
     "text": [
      "Submitted to device in 22.9233 s\n"
     ]
    },
    {
     "data": {
      "application/vnd.jupyter.widget-view+json": {
       "model_id": "50db29e62a1543cb8871c6729d9d13d6",
       "version_major": 2,
       "version_minor": 0
      },
      "text/plain": [
       "Running batch:   0%|          | 0/1 [00:00<?, ?it/s]"
      ]
     },
     "metadata": {},
     "output_type": "display_data"
    },
    {
     "name": "stdout",
     "output_type": "stream",
     "text": [
      "Predicted in 118.0494 s\n",
      "Iters. done: 275 Current cost: 0.07447148422089146 Accuracy: 0.17673616494255795 Time: 141.07220102846622\n"
     ]
    },
    {
     "data": {
      "application/vnd.jupyter.widget-view+json": {
       "model_id": "bc1dff8200f8444a88be05364db09f10",
       "version_major": 2,
       "version_minor": 0
      },
      "text/plain": [
       "Mappings: 0it [00:00, ?it/s]"
      ]
     },
     "metadata": {},
     "output_type": "display_data"
    },
    {
     "name": "stdout",
     "output_type": "stream",
     "text": [
      "Submitted to device in 19.2522 s\n"
     ]
    },
    {
     "data": {
      "application/vnd.jupyter.widget-view+json": {
       "model_id": "0f6403f749084eae89f3517c4b59cf98",
       "version_major": 2,
       "version_minor": 0
      },
      "text/plain": [
       "Running batch:   0%|          | 0/1 [00:00<?, ?it/s]"
      ]
     },
     "metadata": {},
     "output_type": "display_data"
    },
    {
     "name": "stdout",
     "output_type": "stream",
     "text": [
      "Predicted in 117.3323 s\n",
      "Iters. done: 276 Current cost: 0.08040718453882507 Accuracy: 0.11111846632117273 Time: 136.64490476250648\n"
     ]
    },
    {
     "data": {
      "application/vnd.jupyter.widget-view+json": {
       "model_id": "3c8708acc8d84a7ab0cff909b15b649c",
       "version_major": 2,
       "version_minor": 0
      },
      "text/plain": [
       "Mappings: 0it [00:00, ?it/s]"
      ]
     },
     "metadata": {},
     "output_type": "display_data"
    },
    {
     "name": "stdout",
     "output_type": "stream",
     "text": [
      "Submitted to device in 19.8104 s\n"
     ]
    },
    {
     "data": {
      "application/vnd.jupyter.widget-view+json": {
       "model_id": "c16d0c08f052446e8ec6d10cb2e738cd",
       "version_major": 2,
       "version_minor": 0
      },
      "text/plain": [
       "Running batch:   0%|          | 0/1 [00:00<?, ?it/s]"
      ]
     },
     "metadata": {},
     "output_type": "display_data"
    },
    {
     "name": "stdout",
     "output_type": "stream",
     "text": [
      "Predicted in 117.4497 s\n",
      "Iters. done: 277 Current cost: 0.07892449453510642 Accuracy: 0.12750923751947696 Time: 137.34524311125278\n"
     ]
    },
    {
     "data": {
      "application/vnd.jupyter.widget-view+json": {
       "model_id": "e337173949b84d0da541ba0ad6d17320",
       "version_major": 2,
       "version_minor": 0
      },
      "text/plain": [
       "Mappings: 0it [00:00, ?it/s]"
      ]
     },
     "metadata": {},
     "output_type": "display_data"
    },
    {
     "name": "stdout",
     "output_type": "stream",
     "text": [
      "Submitted to device in 18.2407 s\n"
     ]
    },
    {
     "data": {
      "application/vnd.jupyter.widget-view+json": {
       "model_id": "ed7ee0320fb7445c8090264f605a66c9",
       "version_major": 2,
       "version_minor": 0
      },
      "text/plain": [
       "Running batch:   0%|          | 0/1 [00:00<?, ?it/s]"
      ]
     },
     "metadata": {},
     "output_type": "display_data"
    },
    {
     "name": "stdout",
     "output_type": "stream",
     "text": [
      "Predicted in 117.6307 s\n",
      "Iters. done: 278 Current cost: 0.0787965831678258 Accuracy: 0.12892326604162296 Time: 135.95965990796685\n"
     ]
    },
    {
     "data": {
      "application/vnd.jupyter.widget-view+json": {
       "model_id": "73d828355b9b4fd0a58068fba98c03be",
       "version_major": 2,
       "version_minor": 0
      },
      "text/plain": [
       "Mappings: 0it [00:00, ?it/s]"
      ]
     },
     "metadata": {},
     "output_type": "display_data"
    },
    {
     "name": "stdout",
     "output_type": "stream",
     "text": [
      "Submitted to device in 19.5641 s\n"
     ]
    },
    {
     "data": {
      "application/vnd.jupyter.widget-view+json": {
       "model_id": "b42708f0b8e34ad9a13151a03ce2acad",
       "version_major": 2,
       "version_minor": 0
      },
      "text/plain": [
       "Running batch:   0%|          | 0/1 [00:00<?, ?it/s]"
      ]
     },
     "metadata": {},
     "output_type": "display_data"
    },
    {
     "name": "stdout",
     "output_type": "stream",
     "text": [
      "Predicted in 116.7603 s\n",
      "Iters. done: 279 Current cost: 0.07927006680688045 Accuracy: 0.12368902154383787 Time: 136.42301259934902\n"
     ]
    },
    {
     "data": {
      "application/vnd.jupyter.widget-view+json": {
       "model_id": "abeee16d50144841ac5af2db9582ee6d",
       "version_major": 2,
       "version_minor": 0
      },
      "text/plain": [
       "Mappings: 0it [00:00, ?it/s]"
      ]
     },
     "metadata": {},
     "output_type": "display_data"
    },
    {
     "name": "stdout",
     "output_type": "stream",
     "text": [
      "Submitted to device in 19.1941 s\n"
     ]
    },
    {
     "data": {
      "application/vnd.jupyter.widget-view+json": {
       "model_id": "cc8a94d4c38541c2871267b7204ae825",
       "version_major": 2,
       "version_minor": 0
      },
      "text/plain": [
       "Running batch:   0%|          | 0/1 [00:00<?, ?it/s]"
      ]
     },
     "metadata": {},
     "output_type": "display_data"
    },
    {
     "name": "stdout",
     "output_type": "stream",
     "text": [
      "Predicted in 116.5462 s\n",
      "Iters. done: 280 Current cost: 0.08052724243308587 Accuracy: 0.10979125600044248 Time: 135.82669319957495\n"
     ]
    },
    {
     "data": {
      "application/vnd.jupyter.widget-view+json": {
       "model_id": "3d83918db1084a3ead2ad4f32cfe29f2",
       "version_major": 2,
       "version_minor": 0
      },
      "text/plain": [
       "Mappings: 0it [00:00, ?it/s]"
      ]
     },
     "metadata": {},
     "output_type": "display_data"
    },
    {
     "name": "stdout",
     "output_type": "stream",
     "text": [
      "Submitted to device in 18.5880 s\n"
     ]
    },
    {
     "data": {
      "application/vnd.jupyter.widget-view+json": {
       "model_id": "6a1a2ee3e4124c2f990c6b78454e6455",
       "version_major": 2,
       "version_minor": 0
      },
      "text/plain": [
       "Running batch:   0%|          | 0/1 [00:00<?, ?it/s]"
      ]
     },
     "metadata": {},
     "output_type": "display_data"
    },
    {
     "name": "stdout",
     "output_type": "stream",
     "text": [
      "Predicted in 118.3085 s\n",
      "Iters. done: 281 Current cost: 0.08238418442686987 Accuracy: 0.08926322163567335 Time: 136.9762387610972\n"
     ]
    },
    {
     "data": {
      "application/vnd.jupyter.widget-view+json": {
       "model_id": "8f8603d6e2c7411b9e2975089b2f9e53",
       "version_major": 2,
       "version_minor": 0
      },
      "text/plain": [
       "Mappings: 0it [00:00, ?it/s]"
      ]
     },
     "metadata": {},
     "output_type": "display_data"
    },
    {
     "name": "stdout",
     "output_type": "stream",
     "text": [
      "Submitted to device in 22.2119 s\n"
     ]
    },
    {
     "data": {
      "application/vnd.jupyter.widget-view+json": {
       "model_id": "ad1863ccd2e5492fb6b3a9ac29cd070e",
       "version_major": 2,
       "version_minor": 0
      },
      "text/plain": [
       "Running batch:   0%|          | 0/1 [00:00<?, ?it/s]"
      ]
     },
     "metadata": {},
     "output_type": "display_data"
    },
    {
     "name": "stdout",
     "output_type": "stream",
     "text": [
      "Predicted in 116.2805 s\n",
      "Iters. done: 282 Current cost: 0.08500290757596407 Accuracy: 0.060313885050916505 Time: 138.5774549432099\n"
     ]
    },
    {
     "data": {
      "application/vnd.jupyter.widget-view+json": {
       "model_id": "538188a4d1af4ac1b0a4715c53517dae",
       "version_major": 2,
       "version_minor": 0
      },
      "text/plain": [
       "Mappings: 0it [00:00, ?it/s]"
      ]
     },
     "metadata": {},
     "output_type": "display_data"
    },
    {
     "name": "stdout",
     "output_type": "stream",
     "text": [
      "Submitted to device in 18.9712 s\n"
     ]
    },
    {
     "data": {
      "application/vnd.jupyter.widget-view+json": {
       "model_id": "1feccf7452334b3da36a6ee27010fdff",
       "version_major": 2,
       "version_minor": 0
      },
      "text/plain": [
       "Running batch:   0%|          | 0/1 [00:00<?, ?it/s]"
      ]
     },
     "metadata": {},
     "output_type": "display_data"
    },
    {
     "name": "stdout",
     "output_type": "stream",
     "text": [
      "Predicted in 117.6365 s\n",
      "Iters. done: 283 Current cost: 0.08137018730129975 Accuracy: 0.10047270901285521 Time: 136.68721808493137\n"
     ]
    },
    {
     "data": {
      "application/vnd.jupyter.widget-view+json": {
       "model_id": "3bb6beca1906449bb4a87de97a7575a0",
       "version_major": 2,
       "version_minor": 0
      },
      "text/plain": [
       "Mappings: 0it [00:00, ?it/s]"
      ]
     },
     "metadata": {},
     "output_type": "display_data"
    },
    {
     "name": "stdout",
     "output_type": "stream",
     "text": [
      "Submitted to device in 18.6969 s\n"
     ]
    },
    {
     "data": {
      "application/vnd.jupyter.widget-view+json": {
       "model_id": "40792fe4dc6548bc81486771026962e8",
       "version_major": 2,
       "version_minor": 0
      },
      "text/plain": [
       "Running batch:   0%|          | 0/1 [00:00<?, ?it/s]"
      ]
     },
     "metadata": {},
     "output_type": "display_data"
    },
    {
     "name": "stdout",
     "output_type": "stream",
     "text": [
      "Predicted in 116.5633 s\n",
      "Iters. done: 284 Current cost: 0.08095937038251466 Accuracy: 0.10501418842076282 Time: 135.35056732967496\n"
     ]
    },
    {
     "data": {
      "application/vnd.jupyter.widget-view+json": {
       "model_id": "6914a8c41cfd42d5970c7c9dd6661ca1",
       "version_major": 2,
       "version_minor": 0
      },
      "text/plain": [
       "Mappings: 0it [00:00, ?it/s]"
      ]
     },
     "metadata": {},
     "output_type": "display_data"
    },
    {
     "name": "stdout",
     "output_type": "stream",
     "text": [
      "Submitted to device in 21.1365 s\n"
     ]
    },
    {
     "data": {
      "application/vnd.jupyter.widget-view+json": {
       "model_id": "f66711701374475d9433e151455214fd",
       "version_major": 2,
       "version_minor": 0
      },
      "text/plain": [
       "Running batch:   0%|          | 0/1 [00:00<?, ?it/s]"
      ]
     },
     "metadata": {},
     "output_type": "display_data"
    },
    {
     "name": "stdout",
     "output_type": "stream",
     "text": [
      "Predicted in 116.4548 s\n",
      "Iters. done: 285 Current cost: 0.08382701464369124 Accuracy: 0.07331309052087132 Time: 137.67889900505543\n"
     ]
    },
    {
     "data": {
      "application/vnd.jupyter.widget-view+json": {
       "model_id": "86f8c5a3477e4cc7a0c6e99bc81e3c2f",
       "version_major": 2,
       "version_minor": 0
      },
      "text/plain": [
       "Mappings: 0it [00:00, ?it/s]"
      ]
     },
     "metadata": {},
     "output_type": "display_data"
    },
    {
     "name": "stdout",
     "output_type": "stream",
     "text": [
      "Submitted to device in 18.0157 s\n"
     ]
    },
    {
     "data": {
      "application/vnd.jupyter.widget-view+json": {
       "model_id": "3bdcde990d044e578013104e9dfab869",
       "version_major": 2,
       "version_minor": 0
      },
      "text/plain": [
       "Running batch:   0%|          | 0/1 [00:00<?, ?it/s]"
      ]
     },
     "metadata": {},
     "output_type": "display_data"
    },
    {
     "name": "stdout",
     "output_type": "stream",
     "text": [
      "Predicted in 119.1643 s\n",
      "Iters. done: 286 Current cost: 0.07928492883198374 Accuracy: 0.12352472553293847 Time: 137.269125983119\n"
     ]
    },
    {
     "data": {
      "application/vnd.jupyter.widget-view+json": {
       "model_id": "ffc5930952284eae8868b57b38e222b2",
       "version_major": 2,
       "version_minor": 0
      },
      "text/plain": [
       "Mappings: 0it [00:00, ?it/s]"
      ]
     },
     "metadata": {},
     "output_type": "display_data"
    },
    {
     "name": "stdout",
     "output_type": "stream",
     "text": [
      "Submitted to device in 20.9660 s\n"
     ]
    },
    {
     "data": {
      "application/vnd.jupyter.widget-view+json": {
       "model_id": "0b57ea42ab9f4805ba1c78b0d5371b8d",
       "version_major": 2,
       "version_minor": 0
      },
      "text/plain": [
       "Running batch:   0%|          | 0/1 [00:00<?, ?it/s]"
      ]
     },
     "metadata": {},
     "output_type": "display_data"
    },
    {
     "name": "stdout",
     "output_type": "stream",
     "text": [
      "Predicted in 116.3128 s\n",
      "Iters. done: 287 Current cost: 0.08151156537238846 Accuracy: 0.09890980941154892 Time: 137.36649333313107\n"
     ]
    },
    {
     "data": {
      "application/vnd.jupyter.widget-view+json": {
       "model_id": "c6837e9cad6a4ea18ff6f932c09d3e3a",
       "version_major": 2,
       "version_minor": 0
      },
      "text/plain": [
       "Mappings: 0it [00:00, ?it/s]"
      ]
     },
     "metadata": {},
     "output_type": "display_data"
    },
    {
     "name": "stdout",
     "output_type": "stream",
     "text": [
      "Submitted to device in 20.0069 s\n"
     ]
    },
    {
     "data": {
      "application/vnd.jupyter.widget-view+json": {
       "model_id": "4325408aad3f491cad518b76214619d5",
       "version_major": 2,
       "version_minor": 0
      },
      "text/plain": [
       "Running batch:   0%|          | 0/1 [00:00<?, ?it/s]"
      ]
     },
     "metadata": {},
     "output_type": "display_data"
    },
    {
     "name": "stdout",
     "output_type": "stream",
     "text": [
      "Predicted in 116.6994 s\n",
      "Iters. done: 288 Current cost: 0.08077887093981465 Accuracy: 0.10700956510725645 Time: 136.78403790295124\n"
     ]
    },
    {
     "data": {
      "application/vnd.jupyter.widget-view+json": {
       "model_id": "fa838953ac45421f920c0fc0201993c5",
       "version_major": 2,
       "version_minor": 0
      },
      "text/plain": [
       "Mappings: 0it [00:00, ?it/s]"
      ]
     },
     "metadata": {},
     "output_type": "display_data"
    },
    {
     "name": "stdout",
     "output_type": "stream",
     "text": [
      "Submitted to device in 21.6598 s\n"
     ]
    },
    {
     "data": {
      "application/vnd.jupyter.widget-view+json": {
       "model_id": "906377a224fb4326842dac78faabb45d",
       "version_major": 2,
       "version_minor": 0
      },
      "text/plain": [
       "Running batch:   0%|          | 0/1 [00:00<?, ?it/s]"
      ]
     },
     "metadata": {},
     "output_type": "display_data"
    },
    {
     "name": "stdout",
     "output_type": "stream",
     "text": [
      "Predicted in 116.1413 s\n",
      "Iters. done: 289 Current cost: 0.07938891289033864 Accuracy: 0.12237520749174868 Time: 137.8925212211907\n"
     ]
    },
    {
     "data": {
      "application/vnd.jupyter.widget-view+json": {
       "model_id": "d4a4ff0512554a85ac758eeeb353d3b5",
       "version_major": 2,
       "version_minor": 0
      },
      "text/plain": [
       "Mappings: 0it [00:00, ?it/s]"
      ]
     },
     "metadata": {},
     "output_type": "display_data"
    },
    {
     "name": "stdout",
     "output_type": "stream",
     "text": [
      "Submitted to device in 18.3206 s\n"
     ]
    },
    {
     "data": {
      "application/vnd.jupyter.widget-view+json": {
       "model_id": "6907b2ac64ba4b23b0e6e1039563c53e",
       "version_major": 2,
       "version_minor": 0
      },
      "text/plain": [
       "Running batch:   0%|          | 0/1 [00:00<?, ?it/s]"
      ]
     },
     "metadata": {},
     "output_type": "display_data"
    },
    {
     "name": "stdout",
     "output_type": "stream",
     "text": [
      "Predicted in 119.5438 s\n",
      "Iters. done: 290 Current cost: 0.08108252916591323 Accuracy: 0.10365269853772285 Time: 137.9517145305872\n"
     ]
    },
    {
     "data": {
      "application/vnd.jupyter.widget-view+json": {
       "model_id": "ec89ba80bfde43ab8639d0de0503bbb5",
       "version_major": 2,
       "version_minor": 0
      },
      "text/plain": [
       "Mappings: 0it [00:00, ?it/s]"
      ]
     },
     "metadata": {},
     "output_type": "display_data"
    },
    {
     "name": "stdout",
     "output_type": "stream",
     "text": [
      "Submitted to device in 19.2380 s\n"
     ]
    },
    {
     "data": {
      "application/vnd.jupyter.widget-view+json": {
       "model_id": "835bbd1b94bc453f8b4806b62adb0346",
       "version_major": 2,
       "version_minor": 0
      },
      "text/plain": [
       "Running batch:   0%|          | 0/1 [00:00<?, ?it/s]"
      ]
     },
     "metadata": {},
     "output_type": "display_data"
    },
    {
     "name": "stdout",
     "output_type": "stream",
     "text": [
      "Predicted in 116.3767 s\n",
      "Iters. done: 291 Current cost: 0.08140129850117205 Accuracy: 0.1001287823946595 Time: 135.69963221251965\n"
     ]
    },
    {
     "data": {
      "application/vnd.jupyter.widget-view+json": {
       "model_id": "9629c7c8a74743dd98d65eb9bd79c172",
       "version_major": 2,
       "version_minor": 0
      },
      "text/plain": [
       "Mappings: 0it [00:00, ?it/s]"
      ]
     },
     "metadata": {},
     "output_type": "display_data"
    },
    {
     "name": "stdout",
     "output_type": "stream",
     "text": [
      "Submitted to device in 20.0728 s\n"
     ]
    },
    {
     "data": {
      "application/vnd.jupyter.widget-view+json": {
       "model_id": "8e9a0b79dfb24ac39643ef8e7b5b7995",
       "version_major": 2,
       "version_minor": 0
      },
      "text/plain": [
       "Running batch:   0%|          | 0/1 [00:00<?, ?it/s]"
      ]
     },
     "metadata": {},
     "output_type": "display_data"
    },
    {
     "name": "stdout",
     "output_type": "stream",
     "text": [
      "Predicted in 116.7602 s\n",
      "Iters. done: 292 Current cost: 0.08001789813814911 Accuracy: 0.11542193117767552 Time: 136.9200196750462\n"
     ]
    },
    {
     "data": {
      "application/vnd.jupyter.widget-view+json": {
       "model_id": "e93df75df54b43958bcf31f2a9866292",
       "version_major": 2,
       "version_minor": 0
      },
      "text/plain": [
       "Mappings: 0it [00:00, ?it/s]"
      ]
     },
     "metadata": {},
     "output_type": "display_data"
    },
    {
     "name": "stdout",
     "output_type": "stream",
     "text": [
      "Submitted to device in 23.4372 s\n"
     ]
    },
    {
     "data": {
      "application/vnd.jupyter.widget-view+json": {
       "model_id": "ab519a6305424e39927d95cb7edd3985",
       "version_major": 2,
       "version_minor": 0
      },
      "text/plain": [
       "Running batch:   0%|          | 0/1 [00:00<?, ?it/s]"
      ]
     },
     "metadata": {},
     "output_type": "display_data"
    },
    {
     "name": "stdout",
     "output_type": "stream",
     "text": [
      "Predicted in 114.5731 s\n",
      "Iters. done: 293 Current cost: 0.07928515997502247 Accuracy: 0.12352217030382617 Time: 138.09801632910967\n"
     ]
    },
    {
     "data": {
      "application/vnd.jupyter.widget-view+json": {
       "model_id": "416ab19815504df6be91e3863b9a03d1",
       "version_major": 2,
       "version_minor": 0
      },
      "text/plain": [
       "Mappings: 0it [00:00, ?it/s]"
      ]
     },
     "metadata": {},
     "output_type": "display_data"
    },
    {
     "name": "stdout",
     "output_type": "stream",
     "text": [
      "Submitted to device in 20.7734 s\n"
     ]
    },
    {
     "data": {
      "application/vnd.jupyter.widget-view+json": {
       "model_id": "2c32b3db9a3a4b20a81cf8f64bacfe98",
       "version_major": 2,
       "version_minor": 0
      },
      "text/plain": [
       "Running batch:   0%|          | 0/1 [00:00<?, ?it/s]"
      ]
     },
     "metadata": {},
     "output_type": "display_data"
    },
    {
     "name": "stdout",
     "output_type": "stream",
     "text": [
      "Predicted in 120.1577 s\n",
      "Iters. done: 294 Current cost: 0.0804375279212638 Accuracy: 0.11078302773476001 Time: 141.01925652101636\n"
     ]
    },
    {
     "data": {
      "application/vnd.jupyter.widget-view+json": {
       "model_id": "124e9d86527246f09f438cce28e9b2bb",
       "version_major": 2,
       "version_minor": 0
      },
      "text/plain": [
       "Mappings: 0it [00:00, ?it/s]"
      ]
     },
     "metadata": {},
     "output_type": "display_data"
    },
    {
     "name": "stdout",
     "output_type": "stream",
     "text": [
      "Submitted to device in 16.6117 s\n"
     ]
    },
    {
     "data": {
      "application/vnd.jupyter.widget-view+json": {
       "model_id": "9e78501a2d664e5bbd0e006872dc7c2e",
       "version_major": 2,
       "version_minor": 0
      },
      "text/plain": [
       "Running batch:   0%|          | 0/1 [00:00<?, ?it/s]"
      ]
     },
     "metadata": {},
     "output_type": "display_data"
    },
    {
     "name": "stdout",
     "output_type": "stream",
     "text": [
      "Predicted in 119.2948 s\n",
      "Iters. done: 295 Current cost: 0.07717723282469931 Accuracy: 0.1468247834845895 Time: 136.00254856795073\n"
     ]
    },
    {
     "data": {
      "application/vnd.jupyter.widget-view+json": {
       "model_id": "536cda2a14c24c31aeddffb8d5543ed8",
       "version_major": 2,
       "version_minor": 0
      },
      "text/plain": [
       "Mappings: 0it [00:00, ?it/s]"
      ]
     },
     "metadata": {},
     "output_type": "display_data"
    },
    {
     "name": "stdout",
     "output_type": "stream",
     "text": [
      "Submitted to device in 21.1941 s\n"
     ]
    },
    {
     "data": {
      "application/vnd.jupyter.widget-view+json": {
       "model_id": "de15b33ae7d14126941db39cf829e39a",
       "version_major": 2,
       "version_minor": 0
      },
      "text/plain": [
       "Running batch:   0%|          | 0/1 [00:00<?, ?it/s]"
      ]
     },
     "metadata": {},
     "output_type": "display_data"
    },
    {
     "name": "stdout",
     "output_type": "stream",
     "text": [
      "Predicted in 116.1491 s\n",
      "Iters. done: 296 Current cost: 0.07470444003879609 Accuracy: 0.17416089600501072 Time: 137.43703643232584\n"
     ]
    },
    {
     "data": {
      "application/vnd.jupyter.widget-view+json": {
       "model_id": "e48eb37e31fb4865b853e9e7aa5e81c4",
       "version_major": 2,
       "version_minor": 0
      },
      "text/plain": [
       "Mappings: 0it [00:00, ?it/s]"
      ]
     },
     "metadata": {},
     "output_type": "display_data"
    },
    {
     "name": "stdout",
     "output_type": "stream",
     "text": [
      "Submitted to device in 19.6543 s\n"
     ]
    },
    {
     "data": {
      "application/vnd.jupyter.widget-view+json": {
       "model_id": "078bf9fb27594a41aaa110071e508a8a",
       "version_major": 2,
       "version_minor": 0
      },
      "text/plain": [
       "Running batch:   0%|          | 0/1 [00:00<?, ?it/s]"
      ]
     },
     "metadata": {},
     "output_type": "display_data"
    },
    {
     "name": "stdout",
     "output_type": "stream",
     "text": [
      "Predicted in 116.6240 s\n",
      "Iters. done: 297 Current cost: 0.07838862930010426 Accuracy: 0.13343309512829404 Time: 136.3680115751922\n"
     ]
    },
    {
     "data": {
      "application/vnd.jupyter.widget-view+json": {
       "model_id": "6f0c1bff22f84ba3afcabee8f89dfed0",
       "version_major": 2,
       "version_minor": 0
      },
      "text/plain": [
       "Mappings: 0it [00:00, ?it/s]"
      ]
     },
     "metadata": {},
     "output_type": "display_data"
    },
    {
     "name": "stdout",
     "output_type": "stream",
     "text": [
      "Submitted to device in 20.7624 s\n"
     ]
    },
    {
     "data": {
      "application/vnd.jupyter.widget-view+json": {
       "model_id": "6f4ddc8f64c743569b643dda2d6bceee",
       "version_major": 2,
       "version_minor": 0
      },
      "text/plain": [
       "Running batch:   0%|          | 0/1 [00:00<?, ?it/s]"
      ]
     },
     "metadata": {},
     "output_type": "display_data"
    },
    {
     "name": "stdout",
     "output_type": "stream",
     "text": [
      "Predicted in 119.1470 s\n",
      "Iters. done: 298 Current cost: 0.0765500147954439 Accuracy: 0.15375852363471687 Time: 139.9890360608697\n"
     ]
    },
    {
     "data": {
      "application/vnd.jupyter.widget-view+json": {
       "model_id": "5605e8afc605492f8386e72234d86ca9",
       "version_major": 2,
       "version_minor": 0
      },
      "text/plain": [
       "Mappings: 0it [00:00, ?it/s]"
      ]
     },
     "metadata": {},
     "output_type": "display_data"
    },
    {
     "name": "stdout",
     "output_type": "stream",
     "text": [
      "Submitted to device in 17.9815 s\n"
     ]
    },
    {
     "data": {
      "application/vnd.jupyter.widget-view+json": {
       "model_id": "c14ccbf9d03a46b49a32ce60518b7738",
       "version_major": 2,
       "version_minor": 0
      },
      "text/plain": [
       "Running batch:   0%|          | 0/1 [00:00<?, ?it/s]"
      ]
     },
     "metadata": {},
     "output_type": "display_data"
    },
    {
     "name": "stdout",
     "output_type": "stream",
     "text": [
      "Predicted in 118.5472 s\n",
      "Iters. done: 299 Current cost: 0.07652964374507429 Accuracy: 0.15398372055709453 Time: 136.62378424033523\n"
     ]
    },
    {
     "data": {
      "application/vnd.jupyter.widget-view+json": {
       "model_id": "cb02b93afd72482da0330daacbebdd6d",
       "version_major": 2,
       "version_minor": 0
      },
      "text/plain": [
       "Mappings: 0it [00:00, ?it/s]"
      ]
     },
     "metadata": {},
     "output_type": "display_data"
    },
    {
     "name": "stdout",
     "output_type": "stream",
     "text": [
      "Submitted to device in 20.4686 s\n"
     ]
    },
    {
     "data": {
      "application/vnd.jupyter.widget-view+json": {
       "model_id": "e1ba3b4593b64399a9c8fe7fc8c54dfc",
       "version_major": 2,
       "version_minor": 0
      },
      "text/plain": [
       "Running batch:   0%|          | 0/1 [00:00<?, ?it/s]"
      ]
     },
     "metadata": {},
     "output_type": "display_data"
    },
    {
     "name": "stdout",
     "output_type": "stream",
     "text": [
      "Predicted in 115.2563 s\n",
      "Iters. done: 300 Current cost: 0.07605241732723594 Accuracy: 0.15925934054843216 Time: 135.8109091706574\n"
     ]
    },
    {
     "data": {
      "application/vnd.jupyter.widget-view+json": {
       "model_id": "fe67056811c04f93829a5d60f10da7fa",
       "version_major": 2,
       "version_minor": 0
      },
      "text/plain": [
       "Mappings: 0it [00:00, ?it/s]"
      ]
     },
     "metadata": {},
     "output_type": "display_data"
    },
    {
     "name": "stdout",
     "output_type": "stream",
     "text": [
      "Submitted to device in 17.3763 s\n"
     ]
    },
    {
     "data": {
      "application/vnd.jupyter.widget-view+json": {
       "model_id": "e020b648ff0a4fa1a528132a5727bd1b",
       "version_major": 2,
       "version_minor": 0
      },
      "text/plain": [
       "Running batch:   0%|          | 0/1 [00:00<?, ?it/s]"
      ]
     },
     "metadata": {},
     "output_type": "display_data"
    },
    {
     "name": "stdout",
     "output_type": "stream",
     "text": [
      "Predicted in 118.4603 s\n",
      "Iters. done: 301 Current cost: 0.07693054359943208 Accuracy: 0.14955187184311425 Time: 135.9254877306521\n"
     ]
    },
    {
     "data": {
      "application/vnd.jupyter.widget-view+json": {
       "model_id": "89f99f73fbf14525a2a5d65b63a0d2a4",
       "version_major": 2,
       "version_minor": 0
      },
      "text/plain": [
       "Mappings: 0it [00:00, ?it/s]"
      ]
     },
     "metadata": {},
     "output_type": "display_data"
    },
    {
     "name": "stdout",
     "output_type": "stream",
     "text": [
      "Submitted to device in 19.8406 s\n"
     ]
    },
    {
     "data": {
      "application/vnd.jupyter.widget-view+json": {
       "model_id": "b438a7cae95b407cbd5f9d565fa12879",
       "version_major": 2,
       "version_minor": 0
      },
      "text/plain": [
       "Running batch:   0%|          | 0/1 [00:00<?, ?it/s]"
      ]
     },
     "metadata": {},
     "output_type": "display_data"
    },
    {
     "name": "stdout",
     "output_type": "stream",
     "text": [
      "Predicted in 116.7927 s\n",
      "Iters. done: 302 Current cost: 0.07400782535386803 Accuracy: 0.18186179901602284 Time: 136.71783410012722\n"
     ]
    },
    {
     "data": {
      "application/vnd.jupyter.widget-view+json": {
       "model_id": "40aa1665352e4aceb1e41de6ddd2c368",
       "version_major": 2,
       "version_minor": 0
      },
      "text/plain": [
       "Mappings: 0it [00:00, ?it/s]"
      ]
     },
     "metadata": {},
     "output_type": "display_data"
    },
    {
     "name": "stdout",
     "output_type": "stream",
     "text": [
      "Submitted to device in 21.2592 s\n"
     ]
    },
    {
     "data": {
      "application/vnd.jupyter.widget-view+json": {
       "model_id": "133710d7a5944969a40cb37711c198b6",
       "version_major": 2,
       "version_minor": 0
      },
      "text/plain": [
       "Running batch:   0%|          | 0/1 [00:00<?, ?it/s]"
      ]
     },
     "metadata": {},
     "output_type": "display_data"
    },
    {
     "name": "stdout",
     "output_type": "stream",
     "text": [
      "Predicted in 134.6934 s\n",
      "Iters. done: 303 Current cost: 0.07449678979384056 Accuracy: 0.17645641809378287 Time: 156.04483149573207\n"
     ]
    },
    {
     "data": {
      "application/vnd.jupyter.widget-view+json": {
       "model_id": "53cc0a3e4f0f480c90fc7df76223854e",
       "version_major": 2,
       "version_minor": 0
      },
      "text/plain": [
       "Mappings: 0it [00:00, ?it/s]"
      ]
     },
     "metadata": {},
     "output_type": "display_data"
    },
    {
     "name": "stdout",
     "output_type": "stream",
     "text": [
      "Submitted to device in 19.0984 s\n"
     ]
    },
    {
     "data": {
      "application/vnd.jupyter.widget-view+json": {
       "model_id": "f357688435ad40eaac32a75dd317a875",
       "version_major": 2,
       "version_minor": 0
      },
      "text/plain": [
       "Running batch:   0%|          | 0/1 [00:00<?, ?it/s]"
      ]
     },
     "metadata": {},
     "output_type": "display_data"
    },
    {
     "name": "stdout",
     "output_type": "stream",
     "text": [
      "Predicted in 118.2205 s\n",
      "Iters. done: 304 Current cost: 0.07273788566444483 Accuracy: 0.19590066812067408 Time: 137.4035907536745\n"
     ]
    },
    {
     "data": {
      "application/vnd.jupyter.widget-view+json": {
       "model_id": "858c46f0384d46349351e493f21c4f57",
       "version_major": 2,
       "version_minor": 0
      },
      "text/plain": [
       "Mappings: 0it [00:00, ?it/s]"
      ]
     },
     "metadata": {},
     "output_type": "display_data"
    },
    {
     "name": "stdout",
     "output_type": "stream",
     "text": [
      "Submitted to device in 18.0790 s\n"
     ]
    },
    {
     "data": {
      "application/vnd.jupyter.widget-view+json": {
       "model_id": "b62b995107e14ee39a89a9d4750931a7",
       "version_major": 2,
       "version_minor": 0
      },
      "text/plain": [
       "Running batch:   0%|          | 0/1 [00:00<?, ?it/s]"
      ]
     },
     "metadata": {},
     "output_type": "display_data"
    },
    {
     "name": "stdout",
     "output_type": "stream",
     "text": [
      "Predicted in 119.2364 s\n",
      "Iters. done: 305 Current cost: 0.07559801768804278 Accuracy: 0.16428261614881212 Time: 137.40706884488463\n"
     ]
    },
    {
     "data": {
      "application/vnd.jupyter.widget-view+json": {
       "model_id": "4378ff730eb74ab28d0e55e152aca1f6",
       "version_major": 2,
       "version_minor": 0
      },
      "text/plain": [
       "Mappings: 0it [00:00, ?it/s]"
      ]
     },
     "metadata": {},
     "output_type": "display_data"
    },
    {
     "name": "stdout",
     "output_type": "stream",
     "text": [
      "Submitted to device in 22.6173 s\n"
     ]
    },
    {
     "data": {
      "application/vnd.jupyter.widget-view+json": {
       "model_id": "1f71d9f5aca446cbb532eef0c94431a5",
       "version_major": 2,
       "version_minor": 0
      },
      "text/plain": [
       "Running batch:   0%|          | 0/1 [00:00<?, ?it/s]"
      ]
     },
     "metadata": {},
     "output_type": "display_data"
    },
    {
     "name": "stdout",
     "output_type": "stream",
     "text": [
      "Predicted in 115.9656 s\n",
      "Iters. done: 306 Current cost: 0.07439230196900284 Accuracy: 0.17761150514881674 Time: 138.6805529743433\n"
     ]
    },
    {
     "data": {
      "application/vnd.jupyter.widget-view+json": {
       "model_id": "b583537d5e93486bafc19d9f1e2f7a04",
       "version_major": 2,
       "version_minor": 0
      },
      "text/plain": [
       "Mappings: 0it [00:00, ?it/s]"
      ]
     },
     "metadata": {},
     "output_type": "display_data"
    },
    {
     "name": "stdout",
     "output_type": "stream",
     "text": [
      "Submitted to device in 18.6843 s\n"
     ]
    },
    {
     "data": {
      "application/vnd.jupyter.widget-view+json": {
       "model_id": "dfbad13634a648799d521093411f1359",
       "version_major": 2,
       "version_minor": 0
      },
      "text/plain": [
       "Running batch:   0%|          | 0/1 [00:00<?, ?it/s]"
      ]
     },
     "metadata": {},
     "output_type": "display_data"
    },
    {
     "name": "stdout",
     "output_type": "stream",
     "text": [
      "Predicted in 118.4291 s\n",
      "Iters. done: 307 Current cost: 0.07021662036816659 Accuracy: 0.22377263225199973 Time: 137.20456885918975\n"
     ]
    },
    {
     "data": {
      "application/vnd.jupyter.widget-view+json": {
       "model_id": "693225a0606b4cb680955bb4f1ae1f39",
       "version_major": 2,
       "version_minor": 0
      },
      "text/plain": [
       "Mappings: 0it [00:00, ?it/s]"
      ]
     },
     "metadata": {},
     "output_type": "display_data"
    },
    {
     "name": "stdout",
     "output_type": "stream",
     "text": [
      "Submitted to device in 30.5905 s\n"
     ]
    },
    {
     "data": {
      "application/vnd.jupyter.widget-view+json": {
       "model_id": "c300951bd9f046e89c67e956a2781151",
       "version_major": 2,
       "version_minor": 0
      },
      "text/plain": [
       "Running batch:   0%|          | 0/1 [00:00<?, ?it/s]"
      ]
     },
     "metadata": {},
     "output_type": "display_data"
    },
    {
     "name": "stdout",
     "output_type": "stream",
     "text": [
      "Predicted in 107.0864 s\n",
      "Iters. done: 308 Current cost: 0.0712987991338219 Accuracy: 0.21180941371067796 Time: 137.73988449946046\n"
     ]
    },
    {
     "data": {
      "application/vnd.jupyter.widget-view+json": {
       "model_id": "97e182e937b8499f9e2833c92751c9ea",
       "version_major": 2,
       "version_minor": 0
      },
      "text/plain": [
       "Mappings: 0it [00:00, ?it/s]"
      ]
     },
     "metadata": {},
     "output_type": "display_data"
    },
    {
     "name": "stdout",
     "output_type": "stream",
     "text": [
      "Submitted to device in 23.2149 s\n"
     ]
    },
    {
     "data": {
      "application/vnd.jupyter.widget-view+json": {
       "model_id": "016c630674294690896751f1a57e9ebb",
       "version_major": 2,
       "version_minor": 0
      },
      "text/plain": [
       "Running batch:   0%|          | 0/1 [00:00<?, ?it/s]"
      ]
     },
     "metadata": {},
     "output_type": "display_data"
    },
    {
     "name": "stdout",
     "output_type": "stream",
     "text": [
      "Predicted in 114.3006 s\n",
      "Iters. done: 309 Current cost: 0.07277438312398175 Accuracy: 0.19549719773435692 Time: 137.6023058705032\n"
     ]
    },
    {
     "data": {
      "application/vnd.jupyter.widget-view+json": {
       "model_id": "bdbf8bd0e77c4a1cad4385bd12a369fc",
       "version_major": 2,
       "version_minor": 0
      },
      "text/plain": [
       "Mappings: 0it [00:00, ?it/s]"
      ]
     },
     "metadata": {},
     "output_type": "display_data"
    },
    {
     "name": "stdout",
     "output_type": "stream",
     "text": [
      "Submitted to device in 18.1135 s\n"
     ]
    },
    {
     "data": {
      "application/vnd.jupyter.widget-view+json": {
       "model_id": "acde5030f00a430da318570b27ca25d6",
       "version_major": 2,
       "version_minor": 0
      },
      "text/plain": [
       "Running batch:   0%|          | 0/1 [00:00<?, ?it/s]"
      ]
     },
     "metadata": {},
     "output_type": "display_data"
    },
    {
     "name": "stdout",
     "output_type": "stream",
     "text": [
      "Predicted in 117.8922 s\n",
      "Iters. done: 310 Current cost: 0.07386420400122476 Accuracy: 0.1834494975399642 Time: 136.09968632087111\n"
     ]
    },
    {
     "data": {
      "application/vnd.jupyter.widget-view+json": {
       "model_id": "3c19551bc79a486782db8a05827a7af7",
       "version_major": 2,
       "version_minor": 0
      },
      "text/plain": [
       "Mappings: 0it [00:00, ?it/s]"
      ]
     },
     "metadata": {},
     "output_type": "display_data"
    },
    {
     "name": "stdout",
     "output_type": "stream",
     "text": [
      "Submitted to device in 17.3546 s\n"
     ]
    },
    {
     "data": {
      "application/vnd.jupyter.widget-view+json": {
       "model_id": "3e7081a411494a1eb4cebdda513d1a17",
       "version_major": 2,
       "version_minor": 0
      },
      "text/plain": [
       "Running batch:   0%|          | 0/1 [00:00<?, ?it/s]"
      ]
     },
     "metadata": {},
     "output_type": "display_data"
    },
    {
     "name": "stdout",
     "output_type": "stream",
     "text": [
      "Predicted in 120.9275 s\n",
      "Iters. done: 311 Current cost: 0.07067680852826766 Accuracy: 0.21868536598496646 Time: 138.3717719167471\n"
     ]
    },
    {
     "data": {
      "application/vnd.jupyter.widget-view+json": {
       "model_id": "89d22ffe60bd4426b1569e950b33b5c0",
       "version_major": 2,
       "version_minor": 0
      },
      "text/plain": [
       "Mappings: 0it [00:00, ?it/s]"
      ]
     },
     "metadata": {},
     "output_type": "display_data"
    },
    {
     "name": "stdout",
     "output_type": "stream",
     "text": [
      "Submitted to device in 22.1890 s\n"
     ]
    },
    {
     "data": {
      "application/vnd.jupyter.widget-view+json": {
       "model_id": "5ac5f1160cd34fdb9530846c6607be46",
       "version_major": 2,
       "version_minor": 0
      },
      "text/plain": [
       "Running batch:   0%|          | 0/1 [00:00<?, ?it/s]"
      ]
     },
     "metadata": {},
     "output_type": "display_data"
    },
    {
     "name": "stdout",
     "output_type": "stream",
     "text": [
      "Predicted in 141.7351 s\n",
      "Iters. done: 312 Current cost: 0.0717999762795401 Accuracy: 0.2062690243476395 Time: 164.0143175497651\n"
     ]
    },
    {
     "data": {
      "application/vnd.jupyter.widget-view+json": {
       "model_id": "7c047f1fedcd498abe5f95485bfe90b5",
       "version_major": 2,
       "version_minor": 0
      },
      "text/plain": [
       "Mappings: 0it [00:00, ?it/s]"
      ]
     },
     "metadata": {},
     "output_type": "display_data"
    },
    {
     "name": "stdout",
     "output_type": "stream",
     "text": [
      "Submitted to device in 19.1789 s\n"
     ]
    },
    {
     "data": {
      "application/vnd.jupyter.widget-view+json": {
       "model_id": "c264ed61a9924455940af876b30be90f",
       "version_major": 2,
       "version_minor": 0
      },
      "text/plain": [
       "Running batch:   0%|          | 0/1 [00:00<?, ?it/s]"
      ]
     },
     "metadata": {},
     "output_type": "display_data"
    },
    {
     "name": "stdout",
     "output_type": "stream",
     "text": [
      "Predicted in 157.1865 s\n",
      "Iters. done: 313 Current cost: 0.07331693668892038 Accuracy: 0.18949940229267348 Time: 176.4529161900282\n"
     ]
    },
    {
     "data": {
      "application/vnd.jupyter.widget-view+json": {
       "model_id": "5df53bfacdeb4a0687e924ace26595b1",
       "version_major": 2,
       "version_minor": 0
      },
      "text/plain": [
       "Mappings: 0it [00:00, ?it/s]"
      ]
     },
     "metadata": {},
     "output_type": "display_data"
    },
    {
     "name": "stdout",
     "output_type": "stream",
     "text": [
      "Submitted to device in 18.3921 s\n"
     ]
    },
    {
     "data": {
      "application/vnd.jupyter.widget-view+json": {
       "model_id": "ef04ab482b1a4d82a7cfded95861064c",
       "version_major": 2,
       "version_minor": 0
      },
      "text/plain": [
       "Running batch:   0%|          | 0/1 [00:00<?, ?it/s]"
      ]
     },
     "metadata": {},
     "output_type": "display_data"
    },
    {
     "name": "stdout",
     "output_type": "stream",
     "text": [
      "Predicted in 117.1220 s\n",
      "Iters. done: 314 Current cost: 0.0714535130756548 Accuracy: 0.21009908935736687 Time: 135.60408088937402\n"
     ]
    },
    {
     "data": {
      "application/vnd.jupyter.widget-view+json": {
       "model_id": "46448dc8268246e6935b2f36f0b1553f",
       "version_major": 2,
       "version_minor": 0
      },
      "text/plain": [
       "Mappings: 0it [00:00, ?it/s]"
      ]
     },
     "metadata": {},
     "output_type": "display_data"
    },
    {
     "name": "stdout",
     "output_type": "stream",
     "text": [
      "Submitted to device in 21.2477 s\n"
     ]
    },
    {
     "data": {
      "application/vnd.jupyter.widget-view+json": {
       "model_id": "489dd9975a4344d881c0b8d6acd35a34",
       "version_major": 2,
       "version_minor": 0
      },
      "text/plain": [
       "Running batch:   0%|          | 0/1 [00:00<?, ?it/s]"
      ]
     },
     "metadata": {},
     "output_type": "display_data"
    },
    {
     "name": "stdout",
     "output_type": "stream",
     "text": [
      "Predicted in 114.1093 s\n",
      "Iters. done: 315 Current cost: 0.07068123087770602 Accuracy: 0.218636478005941 Time: 135.43456740304828\n"
     ]
    },
    {
     "data": {
      "application/vnd.jupyter.widget-view+json": {
       "model_id": "f1d37ad8048e45268f52f40422ced66c",
       "version_major": 2,
       "version_minor": 0
      },
      "text/plain": [
       "Mappings: 0it [00:00, ?it/s]"
      ]
     },
     "metadata": {},
     "output_type": "display_data"
    },
    {
     "name": "stdout",
     "output_type": "stream",
     "text": [
      "Submitted to device in 18.6601 s\n"
     ]
    },
    {
     "data": {
      "application/vnd.jupyter.widget-view+json": {
       "model_id": "97c405c9284548cbad7820a7b3511e91",
       "version_major": 2,
       "version_minor": 0
      },
      "text/plain": [
       "Running batch:   0%|          | 0/1 [00:00<?, ?it/s]"
      ]
     },
     "metadata": {},
     "output_type": "display_data"
    },
    {
     "name": "stdout",
     "output_type": "stream",
     "text": [
      "Predicted in 117.7200 s\n",
      "Iters. done: 316 Current cost: 0.07195365769290898 Accuracy: 0.20457011434106787 Time: 136.4688281081617\n"
     ]
    },
    {
     "data": {
      "application/vnd.jupyter.widget-view+json": {
       "model_id": "d8178da8a37446eab92038c5e9619a0d",
       "version_major": 2,
       "version_minor": 0
      },
      "text/plain": [
       "Mappings: 0it [00:00, ?it/s]"
      ]
     },
     "metadata": {},
     "output_type": "display_data"
    },
    {
     "name": "stdout",
     "output_type": "stream",
     "text": [
      "Submitted to device in 22.4319 s\n"
     ]
    },
    {
     "data": {
      "application/vnd.jupyter.widget-view+json": {
       "model_id": "962c106282ab49b6b8d9b1d4c23cf6b7",
       "version_major": 2,
       "version_minor": 0
      },
      "text/plain": [
       "Running batch:   0%|          | 0/1 [00:00<?, ?it/s]"
      ]
     },
     "metadata": {},
     "output_type": "display_data"
    },
    {
     "name": "stdout",
     "output_type": "stream",
     "text": [
      "Predicted in 114.3193 s\n",
      "Iters. done: 317 Current cost: 0.07243303394939102 Accuracy: 0.19927072841535853 Time: 136.83669844642282\n"
     ]
    },
    {
     "data": {
      "application/vnd.jupyter.widget-view+json": {
       "model_id": "80cd1293a9614f4bbaebe42f5510c471",
       "version_major": 2,
       "version_minor": 0
      },
      "text/plain": [
       "Mappings: 0it [00:00, ?it/s]"
      ]
     },
     "metadata": {},
     "output_type": "display_data"
    },
    {
     "name": "stdout",
     "output_type": "stream",
     "text": [
      "Submitted to device in 19.9810 s\n"
     ]
    },
    {
     "data": {
      "application/vnd.jupyter.widget-view+json": {
       "model_id": "c2e46e38f1244e8f96a02f648b907b47",
       "version_major": 2,
       "version_minor": 0
      },
      "text/plain": [
       "Running batch:   0%|          | 0/1 [00:00<?, ?it/s]"
      ]
     },
     "metadata": {},
     "output_type": "display_data"
    },
    {
     "name": "stdout",
     "output_type": "stream",
     "text": [
      "Predicted in 116.6491 s\n",
      "Iters. done: 318 Current cost: 0.07106973544248282 Accuracy: 0.21434165615189038 Time: 136.73042108863592\n"
     ]
    },
    {
     "data": {
      "application/vnd.jupyter.widget-view+json": {
       "model_id": "55236e01010649f6a088f40954222d3a",
       "version_major": 2,
       "version_minor": 0
      },
      "text/plain": [
       "Mappings: 0it [00:00, ?it/s]"
      ]
     },
     "metadata": {},
     "output_type": "display_data"
    },
    {
     "name": "stdout",
     "output_type": "stream",
     "text": [
      "Submitted to device in 19.9630 s\n"
     ]
    },
    {
     "data": {
      "application/vnd.jupyter.widget-view+json": {
       "model_id": "7b5a6ed5727b4e7ea2ee746721b62df6",
       "version_major": 2,
       "version_minor": 0
      },
      "text/plain": [
       "Running batch:   0%|          | 0/1 [00:00<?, ?it/s]"
      ]
     },
     "metadata": {},
     "output_type": "display_data"
    },
    {
     "name": "stdout",
     "output_type": "stream",
     "text": [
      "Predicted in 116.9503 s\n",
      "Iters. done: 319 Current cost: 0.06790846517207993 Accuracy: 0.24928871694559562 Time: 137.00276961550117\n"
     ]
    },
    {
     "data": {
      "application/vnd.jupyter.widget-view+json": {
       "model_id": "c8a2e7fe198940f3a7e2fb2a955eb8c0",
       "version_major": 2,
       "version_minor": 0
      },
      "text/plain": [
       "Mappings: 0it [00:00, ?it/s]"
      ]
     },
     "metadata": {},
     "output_type": "display_data"
    },
    {
     "name": "stdout",
     "output_type": "stream",
     "text": [
      "Submitted to device in 20.9522 s\n"
     ]
    },
    {
     "data": {
      "application/vnd.jupyter.widget-view+json": {
       "model_id": "347d402dc2f34ea2b3f5c6818069d8b7",
       "version_major": 2,
       "version_minor": 0
      },
      "text/plain": [
       "Running batch:   0%|          | 0/1 [00:00<?, ?it/s]"
      ]
     },
     "metadata": {},
     "output_type": "display_data"
    },
    {
     "name": "stdout",
     "output_type": "stream",
     "text": [
      "Predicted in 115.4153 s\n",
      "Iters. done: 320 Current cost: 0.07096507878019853 Accuracy: 0.2154986096631285 Time: 136.45184717327356\n"
     ]
    },
    {
     "data": {
      "application/vnd.jupyter.widget-view+json": {
       "model_id": "bd4a7ee4db554b5196b3b4dd50b79526",
       "version_major": 2,
       "version_minor": 0
      },
      "text/plain": [
       "Mappings: 0it [00:00, ?it/s]"
      ]
     },
     "metadata": {},
     "output_type": "display_data"
    },
    {
     "name": "stdout",
     "output_type": "stream",
     "text": [
      "Submitted to device in 17.9778 s\n"
     ]
    },
    {
     "data": {
      "application/vnd.jupyter.widget-view+json": {
       "model_id": "19dd0ca2f2bc4ebb86f2e4ccaf13d741",
       "version_major": 2,
       "version_minor": 0
      },
      "text/plain": [
       "Running batch:   0%|          | 0/1 [00:00<?, ?it/s]"
      ]
     },
     "metadata": {},
     "output_type": "display_data"
    },
    {
     "name": "stdout",
     "output_type": "stream",
     "text": [
      "Predicted in 116.9430 s\n",
      "Iters. done: 321 Current cost: 0.07136665952434376 Accuracy: 0.2110592338809888 Time: 135.01348158344626\n"
     ]
    },
    {
     "data": {
      "application/vnd.jupyter.widget-view+json": {
       "model_id": "412b4f2d9ce446f39e83262bf5926378",
       "version_major": 2,
       "version_minor": 0
      },
      "text/plain": [
       "Mappings: 0it [00:00, ?it/s]"
      ]
     },
     "metadata": {},
     "output_type": "display_data"
    },
    {
     "name": "stdout",
     "output_type": "stream",
     "text": [
      "Submitted to device in 18.5359 s\n"
     ]
    },
    {
     "data": {
      "application/vnd.jupyter.widget-view+json": {
       "model_id": "54cc8a8a08f549caa91e9b2593dc0923",
       "version_major": 2,
       "version_minor": 0
      },
      "text/plain": [
       "Running batch:   0%|          | 0/1 [00:00<?, ?it/s]"
      ]
     },
     "metadata": {},
     "output_type": "display_data"
    },
    {
     "name": "stdout",
     "output_type": "stream",
     "text": [
      "Predicted in 122.2177 s\n",
      "Iters. done: 322 Current cost: 0.07232520678349205 Accuracy: 0.20046273105972712 Time: 140.8549261391163\n"
     ]
    },
    {
     "data": {
      "application/vnd.jupyter.widget-view+json": {
       "model_id": "9dbf153a2f6d4141b440ef5bb13914e9",
       "version_major": 2,
       "version_minor": 0
      },
      "text/plain": [
       "Mappings: 0it [00:00, ?it/s]"
      ]
     },
     "metadata": {},
     "output_type": "display_data"
    },
    {
     "name": "stdout",
     "output_type": "stream",
     "text": [
      "Submitted to device in 18.7714 s\n"
     ]
    },
    {
     "data": {
      "application/vnd.jupyter.widget-view+json": {
       "model_id": "c759cd7090f34bdd97de3388d8ed2076",
       "version_major": 2,
       "version_minor": 0
      },
      "text/plain": [
       "Running batch:   0%|          | 0/1 [00:00<?, ?it/s]"
      ]
     },
     "metadata": {},
     "output_type": "display_data"
    },
    {
     "name": "stdout",
     "output_type": "stream",
     "text": [
      "Predicted in 116.5244 s\n",
      "Iters. done: 323 Current cost: 0.06935290897378277 Accuracy: 0.2333207480491032 Time: 135.38477780669928\n"
     ]
    },
    {
     "data": {
      "application/vnd.jupyter.widget-view+json": {
       "model_id": "eae97777686640dab0ce5cd0f50e763c",
       "version_major": 2,
       "version_minor": 0
      },
      "text/plain": [
       "Mappings: 0it [00:00, ?it/s]"
      ]
     },
     "metadata": {},
     "output_type": "display_data"
    },
    {
     "name": "stdout",
     "output_type": "stream",
     "text": [
      "Submitted to device in 22.5508 s\n"
     ]
    },
    {
     "data": {
      "application/vnd.jupyter.widget-view+json": {
       "model_id": "d05d709365fd45dd8589165634326924",
       "version_major": 2,
       "version_minor": 0
      },
      "text/plain": [
       "Running batch:   0%|          | 0/1 [00:00<?, ?it/s]"
      ]
     },
     "metadata": {},
     "output_type": "display_data"
    },
    {
     "name": "stdout",
     "output_type": "stream",
     "text": [
      "Predicted in 117.0815 s\n",
      "Iters. done: 324 Current cost: 0.07112053474529792 Accuracy: 0.21378008242617064 Time: 139.72358400002122\n"
     ]
    },
    {
     "data": {
      "application/vnd.jupyter.widget-view+json": {
       "model_id": "e8b2953fe58f4dc4881fa9296f157ac6",
       "version_major": 2,
       "version_minor": 0
      },
      "text/plain": [
       "Mappings: 0it [00:00, ?it/s]"
      ]
     },
     "metadata": {},
     "output_type": "display_data"
    },
    {
     "name": "stdout",
     "output_type": "stream",
     "text": [
      "Submitted to device in 18.0702 s\n"
     ]
    },
    {
     "data": {
      "application/vnd.jupyter.widget-view+json": {
       "model_id": "4e6e510be3f643b084fda185aa9b1cfe",
       "version_major": 2,
       "version_minor": 0
      },
      "text/plain": [
       "Running batch:   0%|          | 0/1 [00:00<?, ?it/s]"
      ]
     },
     "metadata": {},
     "output_type": "display_data"
    },
    {
     "name": "stdout",
     "output_type": "stream",
     "text": [
      "Predicted in 119.1183 s\n",
      "Iters. done: 325 Current cost: 0.07173390587072104 Accuracy: 0.2069994163724158 Time: 137.28205109760165\n"
     ]
    },
    {
     "data": {
      "application/vnd.jupyter.widget-view+json": {
       "model_id": "899879af60254aa08f1b56265876f11a",
       "version_major": 2,
       "version_minor": 0
      },
      "text/plain": [
       "Mappings: 0it [00:00, ?it/s]"
      ]
     },
     "metadata": {},
     "output_type": "display_data"
    },
    {
     "name": "stdout",
     "output_type": "stream",
     "text": [
      "Submitted to device in 18.4590 s\n"
     ]
    },
    {
     "data": {
      "application/vnd.jupyter.widget-view+json": {
       "model_id": "3a75f9d43aad48a49d0fc7d53930f141",
       "version_major": 2,
       "version_minor": 0
      },
      "text/plain": [
       "Running batch:   0%|          | 0/1 [00:00<?, ?it/s]"
      ]
     },
     "metadata": {},
     "output_type": "display_data"
    },
    {
     "name": "stdout",
     "output_type": "stream",
     "text": [
      "Predicted in 120.1169 s\n",
      "Iters. done: 326 Current cost: 0.07271049094963006 Accuracy: 0.19620350991595537 Time: 138.66648465394974\n"
     ]
    },
    {
     "data": {
      "application/vnd.jupyter.widget-view+json": {
       "model_id": "85f1550a707646059ca6ee390b9fc9c0",
       "version_major": 2,
       "version_minor": 0
      },
      "text/plain": [
       "Mappings: 0it [00:00, ?it/s]"
      ]
     },
     "metadata": {},
     "output_type": "display_data"
    },
    {
     "name": "stdout",
     "output_type": "stream",
     "text": [
      "Submitted to device in 19.6607 s\n"
     ]
    },
    {
     "data": {
      "application/vnd.jupyter.widget-view+json": {
       "model_id": "3648c55afa704e168ba032f096accbe1",
       "version_major": 2,
       "version_minor": 0
      },
      "text/plain": [
       "Running batch:   0%|          | 0/1 [00:00<?, ?it/s]"
      ]
     },
     "metadata": {},
     "output_type": "display_data"
    },
    {
     "name": "stdout",
     "output_type": "stream",
     "text": [
      "Predicted in 119.5568 s\n",
      "Iters. done: 327 Current cost: 0.07465263654156207 Accuracy: 0.17473357085161068 Time: 139.31560159102082\n"
     ]
    },
    {
     "data": {
      "application/vnd.jupyter.widget-view+json": {
       "model_id": "4a29c343dd4e4db0addf0a65aa261c62",
       "version_major": 2,
       "version_minor": 0
      },
      "text/plain": [
       "Mappings: 0it [00:00, ?it/s]"
      ]
     },
     "metadata": {},
     "output_type": "display_data"
    },
    {
     "name": "stdout",
     "output_type": "stream",
     "text": [
      "Submitted to device in 17.9097 s\n"
     ]
    },
    {
     "data": {
      "application/vnd.jupyter.widget-view+json": {
       "model_id": "5896ff30d189499a87e5d986cb18461a",
       "version_major": 2,
       "version_minor": 0
      },
      "text/plain": [
       "Running batch:   0%|          | 0/1 [00:00<?, ?it/s]"
      ]
     },
     "metadata": {},
     "output_type": "display_data"
    },
    {
     "name": "stdout",
     "output_type": "stream",
     "text": [
      "Predicted in 118.6358 s\n",
      "Iters. done: 328 Current cost: 0.07493668892337707 Accuracy: 0.17159344204047278 Time: 136.63711895793676\n"
     ]
    },
    {
     "data": {
      "application/vnd.jupyter.widget-view+json": {
       "model_id": "8b23a54ba360441d82666dc9df5175c1",
       "version_major": 2,
       "version_minor": 0
      },
      "text/plain": [
       "Mappings: 0it [00:00, ?it/s]"
      ]
     },
     "metadata": {},
     "output_type": "display_data"
    },
    {
     "name": "stdout",
     "output_type": "stream",
     "text": [
      "Submitted to device in 16.2756 s\n"
     ]
    },
    {
     "data": {
      "application/vnd.jupyter.widget-view+json": {
       "model_id": "edd15d4ec3fd4ab0b4fd1637fbd77d25",
       "version_major": 2,
       "version_minor": 0
      },
      "text/plain": [
       "Running batch:   0%|          | 0/1 [00:00<?, ?it/s]"
      ]
     },
     "metadata": {},
     "output_type": "display_data"
    },
    {
     "name": "stdout",
     "output_type": "stream",
     "text": [
      "Predicted in 120.0045 s\n",
      "Iters. done: 329 Current cost: 0.0731833161063293 Accuracy: 0.19097654477771175 Time: 136.37925127893686\n"
     ]
    },
    {
     "data": {
      "application/vnd.jupyter.widget-view+json": {
       "model_id": "eb6d99dd70854c15a97252537dda35cb",
       "version_major": 2,
       "version_minor": 0
      },
      "text/plain": [
       "Mappings: 0it [00:00, ?it/s]"
      ]
     },
     "metadata": {},
     "output_type": "display_data"
    },
    {
     "name": "stdout",
     "output_type": "stream",
     "text": [
      "Submitted to device in 19.0333 s\n"
     ]
    },
    {
     "data": {
      "application/vnd.jupyter.widget-view+json": {
       "model_id": "701877a745c64d639afd20c091c3f059",
       "version_major": 2,
       "version_minor": 0
      },
      "text/plain": [
       "Running batch:   0%|          | 0/1 [00:00<?, ?it/s]"
      ]
     },
     "metadata": {},
     "output_type": "display_data"
    },
    {
     "name": "stdout",
     "output_type": "stream",
     "text": [
      "Predicted in 117.7576 s\n",
      "Iters. done: 330 Current cost: 0.07231371784319332 Accuracy: 0.20058973845255712 Time: 136.8959568478167\n"
     ]
    },
    {
     "data": {
      "application/vnd.jupyter.widget-view+json": {
       "model_id": "2775abded86e44649e105c53134ceef6",
       "version_major": 2,
       "version_minor": 0
      },
      "text/plain": [
       "Mappings: 0it [00:00, ?it/s]"
      ]
     },
     "metadata": {},
     "output_type": "display_data"
    },
    {
     "name": "stdout",
     "output_type": "stream",
     "text": [
      "Submitted to device in 28.1526 s\n"
     ]
    },
    {
     "data": {
      "application/vnd.jupyter.widget-view+json": {
       "model_id": "e98855d09e5541379b04ffc141bfacfe",
       "version_major": 2,
       "version_minor": 0
      },
      "text/plain": [
       "Running batch:   0%|          | 0/1 [00:00<?, ?it/s]"
      ]
     },
     "metadata": {},
     "output_type": "display_data"
    },
    {
     "name": "stdout",
     "output_type": "stream",
     "text": [
      "Predicted in 111.7734 s\n",
      "Iters. done: 331 Current cost: 0.07433707312622709 Accuracy: 0.1782220463430071 Time: 140.01775585487485\n"
     ]
    },
    {
     "data": {
      "application/vnd.jupyter.widget-view+json": {
       "model_id": "84b9dc6b73cf40d38fdf0fa24c20101e",
       "version_major": 2,
       "version_minor": 0
      },
      "text/plain": [
       "Mappings: 0it [00:00, ?it/s]"
      ]
     },
     "metadata": {},
     "output_type": "display_data"
    },
    {
     "name": "stdout",
     "output_type": "stream",
     "text": [
      "Submitted to device in 20.3186 s\n"
     ]
    },
    {
     "data": {
      "application/vnd.jupyter.widget-view+json": {
       "model_id": "6c929b14b87041069a711444b849fda4",
       "version_major": 2,
       "version_minor": 0
      },
      "text/plain": [
       "Running batch:   0%|          | 0/1 [00:00<?, ?it/s]"
      ]
     },
     "metadata": {},
     "output_type": "display_data"
    },
    {
     "name": "stdout",
     "output_type": "stream",
     "text": [
      "Predicted in 115.7554 s\n",
      "Iters. done: 332 Current cost: 0.07583062571552134 Accuracy: 0.16171119194838746 Time: 136.1639692671597\n"
     ]
    },
    {
     "data": {
      "application/vnd.jupyter.widget-view+json": {
       "model_id": "cf93c7c160ac404b8ced43107bc732b5",
       "version_major": 2,
       "version_minor": 0
      },
      "text/plain": [
       "Mappings: 0it [00:00, ?it/s]"
      ]
     },
     "metadata": {},
     "output_type": "display_data"
    },
    {
     "name": "stdout",
     "output_type": "stream",
     "text": [
      "Submitted to device in 19.2460 s\n"
     ]
    },
    {
     "data": {
      "application/vnd.jupyter.widget-view+json": {
       "model_id": "35d5275a052c40449e10bb82e5b3b1af",
       "version_major": 2,
       "version_minor": 0
      },
      "text/plain": [
       "Running batch:   0%|          | 0/1 [00:00<?, ?it/s]"
      ]
     },
     "metadata": {},
     "output_type": "display_data"
    },
    {
     "name": "stdout",
     "output_type": "stream",
     "text": [
      "Predicted in 117.5721 s\n",
      "Iters. done: 333 Current cost: 0.07752675147896311 Accuracy: 0.14296094122679537 Time: 136.91225169226527\n"
     ]
    },
    {
     "data": {
      "application/vnd.jupyter.widget-view+json": {
       "model_id": "7d025da6f017499f910d84309744b54b",
       "version_major": 2,
       "version_minor": 0
      },
      "text/plain": [
       "Mappings: 0it [00:00, ?it/s]"
      ]
     },
     "metadata": {},
     "output_type": "display_data"
    },
    {
     "name": "stdout",
     "output_type": "stream",
     "text": [
      "Submitted to device in 31.4580 s\n"
     ]
    },
    {
     "data": {
      "application/vnd.jupyter.widget-view+json": {
       "model_id": "602352fcaed24177a91e6329dbc35659",
       "version_major": 2,
       "version_minor": 0
      },
      "text/plain": [
       "Running batch:   0%|          | 0/1 [00:00<?, ?it/s]"
      ]
     },
     "metadata": {},
     "output_type": "display_data"
    },
    {
     "name": "stdout",
     "output_type": "stream",
     "text": [
      "Predicted in 118.9158 s\n",
      "Iters. done: 334 Current cost: 0.07596707030103084 Accuracy: 0.16020283080969722 Time: 150.46560195088387\n"
     ]
    },
    {
     "data": {
      "application/vnd.jupyter.widget-view+json": {
       "model_id": "3564331c9bc6483693d2677624697ab9",
       "version_major": 2,
       "version_minor": 0
      },
      "text/plain": [
       "Mappings: 0it [00:00, ?it/s]"
      ]
     },
     "metadata": {},
     "output_type": "display_data"
    },
    {
     "name": "stdout",
     "output_type": "stream",
     "text": [
      "Submitted to device in 17.2777 s\n"
     ]
    },
    {
     "data": {
      "application/vnd.jupyter.widget-view+json": {
       "model_id": "064276a59e3e4be5ac0857e42e26c9ec",
       "version_major": 2,
       "version_minor": 0
      },
      "text/plain": [
       "Running batch:   0%|          | 0/1 [00:00<?, ?it/s]"
      ]
     },
     "metadata": {},
     "output_type": "display_data"
    },
    {
     "name": "stdout",
     "output_type": "stream",
     "text": [
      "Predicted in 119.4705 s\n",
      "Iters. done: 335 Current cost: 0.07282264329214636 Accuracy: 0.19496369351405884 Time: 136.84801027178764\n"
     ]
    },
    {
     "data": {
      "application/vnd.jupyter.widget-view+json": {
       "model_id": "c1a55d0e52074fcbb16dfbadb21d7ba7",
       "version_major": 2,
       "version_minor": 0
      },
      "text/plain": [
       "Mappings: 0it [00:00, ?it/s]"
      ]
     },
     "metadata": {},
     "output_type": "display_data"
    },
    {
     "name": "stdout",
     "output_type": "stream",
     "text": [
      "Submitted to device in 20.9981 s\n"
     ]
    },
    {
     "data": {
      "application/vnd.jupyter.widget-view+json": {
       "model_id": "a3d8db28b9ee4c5392298ab553202442",
       "version_major": 2,
       "version_minor": 0
      },
      "text/plain": [
       "Running batch:   0%|          | 0/1 [00:00<?, ?it/s]"
      ]
     },
     "metadata": {},
     "output_type": "display_data"
    },
    {
     "name": "stdout",
     "output_type": "stream",
     "text": [
      "Predicted in 114.9089 s\n",
      "Iters. done: 336 Current cost: 0.07609230934820455 Accuracy: 0.15881834412524565 Time: 135.99833185598254\n"
     ]
    },
    {
     "data": {
      "application/vnd.jupyter.widget-view+json": {
       "model_id": "cbe2dd2180c840248e014df6ca341b6a",
       "version_major": 2,
       "version_minor": 0
      },
      "text/plain": [
       "Mappings: 0it [00:00, ?it/s]"
      ]
     },
     "metadata": {},
     "output_type": "display_data"
    },
    {
     "name": "stdout",
     "output_type": "stream",
     "text": [
      "Submitted to device in 20.7073 s\n"
     ]
    },
    {
     "data": {
      "application/vnd.jupyter.widget-view+json": {
       "model_id": "6253612c693744caae9eebd624de0033",
       "version_major": 2,
       "version_minor": 0
      },
      "text/plain": [
       "Running batch:   0%|          | 0/1 [00:00<?, ?it/s]"
      ]
     },
     "metadata": {},
     "output_type": "display_data"
    },
    {
     "name": "stdout",
     "output_type": "stream",
     "text": [
      "Predicted in 117.1554 s\n",
      "Iters. done: 337 Current cost: 0.07761243089484116 Accuracy: 0.14201377647992364 Time: 137.96356388553977\n"
     ]
    },
    {
     "data": {
      "application/vnd.jupyter.widget-view+json": {
       "model_id": "2d02a8c466b04cc797baf4e954a51986",
       "version_major": 2,
       "version_minor": 0
      },
      "text/plain": [
       "Mappings: 0it [00:00, ?it/s]"
      ]
     },
     "metadata": {},
     "output_type": "display_data"
    },
    {
     "name": "stdout",
     "output_type": "stream",
     "text": [
      "Submitted to device in 20.9554 s\n"
     ]
    },
    {
     "data": {
      "application/vnd.jupyter.widget-view+json": {
       "model_id": "95cad23a38444bf49c46f028deb703bf",
       "version_major": 2,
       "version_minor": 0
      },
      "text/plain": [
       "Running batch:   0%|          | 0/1 [00:00<?, ?it/s]"
      ]
     },
     "metadata": {},
     "output_type": "display_data"
    },
    {
     "name": "stdout",
     "output_type": "stream",
     "text": [
      "Predicted in 115.7323 s\n",
      "Iters. done: 338 Current cost: 0.07394156863170877 Accuracy: 0.1825942506886843 Time: 136.77859047055244\n"
     ]
    },
    {
     "data": {
      "application/vnd.jupyter.widget-view+json": {
       "model_id": "a277453c057048239276c0327c0467fa",
       "version_major": 2,
       "version_minor": 0
      },
      "text/plain": [
       "Mappings: 0it [00:00, ?it/s]"
      ]
     },
     "metadata": {},
     "output_type": "display_data"
    },
    {
     "name": "stdout",
     "output_type": "stream",
     "text": [
      "Submitted to device in 18.6875 s\n"
     ]
    },
    {
     "data": {
      "application/vnd.jupyter.widget-view+json": {
       "model_id": "1689e791bfec4e13aa4459a344b6ad7f",
       "version_major": 2,
       "version_minor": 0
      },
      "text/plain": [
       "Running batch:   0%|          | 0/1 [00:00<?, ?it/s]"
      ]
     },
     "metadata": {},
     "output_type": "display_data"
    },
    {
     "name": "stdout",
     "output_type": "stream",
     "text": [
      "Predicted in 119.1543 s\n",
      "Iters. done: 339 Current cost: 0.07500370297954037 Accuracy: 0.17085261822774855 Time: 137.92734971642494\n"
     ]
    },
    {
     "data": {
      "application/vnd.jupyter.widget-view+json": {
       "model_id": "1a7a941786d14a91ab7dd7ed428a2f79",
       "version_major": 2,
       "version_minor": 0
      },
      "text/plain": [
       "Mappings: 0it [00:00, ?it/s]"
      ]
     },
     "metadata": {},
     "output_type": "display_data"
    },
    {
     "name": "stdout",
     "output_type": "stream",
     "text": [
      "Submitted to device in 21.5220 s\n"
     ]
    },
    {
     "data": {
      "application/vnd.jupyter.widget-view+json": {
       "model_id": "02063b9377694ceeb102749a00226eb3",
       "version_major": 2,
       "version_minor": 0
      },
      "text/plain": [
       "Running batch:   0%|          | 0/1 [00:00<?, ?it/s]"
      ]
     },
     "metadata": {},
     "output_type": "display_data"
    },
    {
     "name": "stdout",
     "output_type": "stream",
     "text": [
      "Predicted in 130.5904 s\n",
      "Iters. done: 340 Current cost: 0.0745327384323981 Accuracy: 0.17605901478762354 Time: 152.19880974292755\n"
     ]
    },
    {
     "data": {
      "application/vnd.jupyter.widget-view+json": {
       "model_id": "ab8cb2fc3ad04773a4e697c3e8fef78a",
       "version_major": 2,
       "version_minor": 0
      },
      "text/plain": [
       "Mappings: 0it [00:00, ?it/s]"
      ]
     },
     "metadata": {},
     "output_type": "display_data"
    },
    {
     "name": "stdout",
     "output_type": "stream",
     "text": [
      "Submitted to device in 19.6543 s\n"
     ]
    },
    {
     "data": {
      "application/vnd.jupyter.widget-view+json": {
       "model_id": "17ed75ddda184405b027610678d7bf26",
       "version_major": 2,
       "version_minor": 0
      },
      "text/plain": [
       "Running batch:   0%|          | 0/1 [00:00<?, ?it/s]"
      ]
     },
     "metadata": {},
     "output_type": "display_data"
    },
    {
     "name": "stdout",
     "output_type": "stream",
     "text": [
      "Predicted in 154.4040 s\n",
      "Iters. done: 341 Current cost: 0.07311001060634084 Accuracy: 0.1917869189455248 Time: 174.15092509239912\n"
     ]
    },
    {
     "data": {
      "application/vnd.jupyter.widget-view+json": {
       "model_id": "194706a54c1f41a4b7ef156f4e848e79",
       "version_major": 2,
       "version_minor": 0
      },
      "text/plain": [
       "Mappings: 0it [00:00, ?it/s]"
      ]
     },
     "metadata": {},
     "output_type": "display_data"
    },
    {
     "name": "stdout",
     "output_type": "stream",
     "text": [
      "Submitted to device in 21.7687 s\n"
     ]
    },
    {
     "data": {
      "application/vnd.jupyter.widget-view+json": {
       "model_id": "078956bef3c14d89afabd00101711012",
       "version_major": 2,
       "version_minor": 0
      },
      "text/plain": [
       "Running batch:   0%|          | 0/1 [00:00<?, ?it/s]"
      ]
     },
     "metadata": {},
     "output_type": "display_data"
    },
    {
     "name": "stdout",
     "output_type": "stream",
     "text": [
      "Predicted in 115.9011 s\n",
      "Iters. done: 342 Current cost: 0.07582893791157054 Accuracy: 0.16172985020352892 Time: 137.75358448922634\n"
     ]
    },
    {
     "data": {
      "application/vnd.jupyter.widget-view+json": {
       "model_id": "6434876e94d64cbca07e3d568815a457",
       "version_major": 2,
       "version_minor": 0
      },
      "text/plain": [
       "Mappings: 0it [00:00, ?it/s]"
      ]
     },
     "metadata": {},
     "output_type": "display_data"
    },
    {
     "name": "stdout",
     "output_type": "stream",
     "text": [
      "Submitted to device in 19.3700 s\n"
     ]
    },
    {
     "data": {
      "application/vnd.jupyter.widget-view+json": {
       "model_id": "c2d99b7fce3e4e9e97393bfc7116dc06",
       "version_major": 2,
       "version_minor": 0
      },
      "text/plain": [
       "Running batch:   0%|          | 0/1 [00:00<?, ?it/s]"
      ]
     },
     "metadata": {},
     "output_type": "display_data"
    },
    {
     "name": "stdout",
     "output_type": "stream",
     "text": [
      "Predicted in 124.9550 s\n",
      "Iters. done: 343 Current cost: 0.07388790991046426 Accuracy: 0.18318743457776854 Time: 144.42439879477024\n"
     ]
    },
    {
     "data": {
      "application/vnd.jupyter.widget-view+json": {
       "model_id": "0d716748b8444963be23478e55e2dda9",
       "version_major": 2,
       "version_minor": 0
      },
      "text/plain": [
       "Mappings: 0it [00:00, ?it/s]"
      ]
     },
     "metadata": {},
     "output_type": "display_data"
    },
    {
     "name": "stdout",
     "output_type": "stream",
     "text": [
      "Submitted to device in 20.7579 s\n"
     ]
    },
    {
     "data": {
      "application/vnd.jupyter.widget-view+json": {
       "model_id": "87949f7ca2c74ad08d377fa99781feed",
       "version_major": 2,
       "version_minor": 0
      },
      "text/plain": [
       "Running batch:   0%|          | 0/1 [00:00<?, ?it/s]"
      ]
     },
     "metadata": {},
     "output_type": "display_data"
    },
    {
     "name": "stdout",
     "output_type": "stream",
     "text": [
      "Predicted in 115.9243 s\n",
      "Iters. done: 344 Current cost: 0.07386188135709859 Accuracy: 0.1834751737961956 Time: 136.77155665308237\n"
     ]
    },
    {
     "data": {
      "application/vnd.jupyter.widget-view+json": {
       "model_id": "1e254028cb164c79852b2e2b95c7c016",
       "version_major": 2,
       "version_minor": 0
      },
      "text/plain": [
       "Mappings: 0it [00:00, ?it/s]"
      ]
     },
     "metadata": {},
     "output_type": "display_data"
    },
    {
     "name": "stdout",
     "output_type": "stream",
     "text": [
      "Submitted to device in 21.9912 s\n"
     ]
    },
    {
     "data": {
      "application/vnd.jupyter.widget-view+json": {
       "model_id": "404b434311c04bd2b6bf6c5f130eaf1c",
       "version_major": 2,
       "version_minor": 0
      },
      "text/plain": [
       "Running batch:   0%|          | 0/1 [00:00<?, ?it/s]"
      ]
     },
     "metadata": {},
     "output_type": "display_data"
    },
    {
     "name": "stdout",
     "output_type": "stream",
     "text": [
      "Predicted in 115.4225 s\n",
      "Iters. done: 345 Current cost: 0.07238638589724111 Accuracy: 0.19978641109192474 Time: 137.5087295398116\n"
     ]
    },
    {
     "data": {
      "application/vnd.jupyter.widget-view+json": {
       "model_id": "c6fa34e4878f418fa0dd74a026d5f0f7",
       "version_major": 2,
       "version_minor": 0
      },
      "text/plain": [
       "Mappings: 0it [00:00, ?it/s]"
      ]
     },
     "metadata": {},
     "output_type": "display_data"
    },
    {
     "name": "stdout",
     "output_type": "stream",
     "text": [
      "Submitted to device in 20.0888 s\n"
     ]
    },
    {
     "data": {
      "application/vnd.jupyter.widget-view+json": {
       "model_id": "d61eef9ceb554747bca33089548fe582",
       "version_major": 2,
       "version_minor": 0
      },
      "text/plain": [
       "Running batch:   0%|          | 0/1 [00:00<?, ?it/s]"
      ]
     },
     "metadata": {},
     "output_type": "display_data"
    },
    {
     "name": "stdout",
     "output_type": "stream",
     "text": [
      "Predicted in 120.9943 s\n",
      "Iters. done: 346 Current cost: 0.0746941006023043 Accuracy: 0.17427519591762308 Time: 141.18717845529318\n"
     ]
    },
    {
     "data": {
      "application/vnd.jupyter.widget-view+json": {
       "model_id": "ea3232389fcd45fd9fbe09406ecb163f",
       "version_major": 2,
       "version_minor": 0
      },
      "text/plain": [
       "Mappings: 0it [00:00, ?it/s]"
      ]
     },
     "metadata": {},
     "output_type": "display_data"
    },
    {
     "name": "stdout",
     "output_type": "stream",
     "text": [
      "Submitted to device in 16.3680 s\n"
     ]
    },
    {
     "data": {
      "application/vnd.jupyter.widget-view+json": {
       "model_id": "20bbc2a492b74c3ebc7c79c4b0aadfaf",
       "version_major": 2,
       "version_minor": 0
      },
      "text/plain": [
       "Running batch:   0%|          | 0/1 [00:00<?, ?it/s]"
      ]
     },
     "metadata": {},
     "output_type": "display_data"
    },
    {
     "name": "stdout",
     "output_type": "stream",
     "text": [
      "Predicted in 119.1611 s\n",
      "Iters. done: 347 Current cost: 0.07415937084489546 Accuracy: 0.1801865011025443 Time: 135.63871984556317\n"
     ]
    },
    {
     "data": {
      "application/vnd.jupyter.widget-view+json": {
       "model_id": "1a3bfd68d5f34423ad6c1b28de48bf76",
       "version_major": 2,
       "version_minor": 0
      },
      "text/plain": [
       "Mappings: 0it [00:00, ?it/s]"
      ]
     },
     "metadata": {},
     "output_type": "display_data"
    },
    {
     "name": "stdout",
     "output_type": "stream",
     "text": [
      "Submitted to device in 18.6465 s\n"
     ]
    },
    {
     "data": {
      "application/vnd.jupyter.widget-view+json": {
       "model_id": "63e1dc5e938c4640844731d56380f2ff",
       "version_major": 2,
       "version_minor": 0
      },
      "text/plain": [
       "Running batch:   0%|          | 0/1 [00:00<?, ?it/s]"
      ]
     },
     "metadata": {},
     "output_type": "display_data"
    },
    {
     "name": "stdout",
     "output_type": "stream",
     "text": [
      "Predicted in 117.1164 s\n",
      "Iters. done: 348 Current cost: 0.0773360344276784 Accuracy: 0.14506927104852652 Time: 135.85651732236147\n"
     ]
    },
    {
     "data": {
      "application/vnd.jupyter.widget-view+json": {
       "model_id": "fc79bb95f6ae4002b569d5141b619cdb",
       "version_major": 2,
       "version_minor": 0
      },
      "text/plain": [
       "Mappings: 0it [00:00, ?it/s]"
      ]
     },
     "metadata": {},
     "output_type": "display_data"
    },
    {
     "name": "stdout",
     "output_type": "stream",
     "text": [
      "Submitted to device in 17.8516 s\n"
     ]
    },
    {
     "data": {
      "application/vnd.jupyter.widget-view+json": {
       "model_id": "5b31772959a949fa94f96a1f23ace978",
       "version_major": 2,
       "version_minor": 0
      },
      "text/plain": [
       "Running batch:   0%|          | 0/1 [00:00<?, ?it/s]"
      ]
     },
     "metadata": {},
     "output_type": "display_data"
    },
    {
     "name": "stdout",
     "output_type": "stream",
     "text": [
      "Predicted in 117.0133 s\n",
      "Iters. done: 349 Current cost: 0.07458802260815481 Accuracy: 0.17544786190101724 Time: 134.9476259611547\n"
     ]
    },
    {
     "data": {
      "application/vnd.jupyter.widget-view+json": {
       "model_id": "aee30f1c9c4c4c8b98ddf58c0f867cbc",
       "version_major": 2,
       "version_minor": 0
      },
      "text/plain": [
       "Mappings: 0it [00:00, ?it/s]"
      ]
     },
     "metadata": {},
     "output_type": "display_data"
    },
    {
     "name": "stdout",
     "output_type": "stream",
     "text": [
      "Submitted to device in 21.2175 s\n"
     ]
    },
    {
     "data": {
      "application/vnd.jupyter.widget-view+json": {
       "model_id": "1b0e9526b0514f3888aa2e9a1a7c3517",
       "version_major": 2,
       "version_minor": 0
      },
      "text/plain": [
       "Running batch:   0%|          | 0/1 [00:00<?, ?it/s]"
      ]
     },
     "metadata": {},
     "output_type": "display_data"
    },
    {
     "name": "stdout",
     "output_type": "stream",
     "text": [
      "Predicted in 113.6735 s\n",
      "Iters. done: 350 Current cost: 0.07424981274148282 Accuracy: 0.17918668830958961 Time: 134.99915769696236\n"
     ]
    },
    {
     "data": {
      "application/vnd.jupyter.widget-view+json": {
       "model_id": "3d934e6963944462b7715505b23a0bc5",
       "version_major": 2,
       "version_minor": 0
      },
      "text/plain": [
       "Mappings: 0it [00:00, ?it/s]"
      ]
     },
     "metadata": {},
     "output_type": "display_data"
    },
    {
     "name": "stdout",
     "output_type": "stream",
     "text": [
      "Submitted to device in 19.9713 s\n"
     ]
    },
    {
     "data": {
      "application/vnd.jupyter.widget-view+json": {
       "model_id": "eb147a37a1e24ad3a44e91b982491d69",
       "version_major": 2,
       "version_minor": 0
      },
      "text/plain": [
       "Running batch:   0%|          | 0/1 [00:00<?, ?it/s]"
      ]
     },
     "metadata": {},
     "output_type": "display_data"
    },
    {
     "name": "stdout",
     "output_type": "stream",
     "text": [
      "Predicted in 180.7912 s\n",
      "Iters. done: 351 Current cost: 0.07289848002863085 Accuracy: 0.19412533715296787 Time: 200.8475540690124\n"
     ]
    },
    {
     "data": {
      "application/vnd.jupyter.widget-view+json": {
       "model_id": "93440abf16564d829d9fb30c953ff6e1",
       "version_major": 2,
       "version_minor": 0
      },
      "text/plain": [
       "Mappings: 0it [00:00, ?it/s]"
      ]
     },
     "metadata": {},
     "output_type": "display_data"
    },
    {
     "name": "stdout",
     "output_type": "stream",
     "text": [
      "Submitted to device in 19.0525 s\n"
     ]
    },
    {
     "data": {
      "application/vnd.jupyter.widget-view+json": {
       "model_id": "710591315cec4f88af0df030c9fe0712",
       "version_major": 2,
       "version_minor": 0
      },
      "text/plain": [
       "Running batch:   0%|          | 0/1 [00:00<?, ?it/s]"
      ]
     },
     "metadata": {},
     "output_type": "display_data"
    },
    {
     "name": "stdout",
     "output_type": "stream",
     "text": [
      "Predicted in 118.2391 s\n",
      "Iters. done: 352 Current cost: 0.07408748273039588 Accuracy: 0.1809812064244153 Time: 137.3646140433848\n"
     ]
    },
    {
     "data": {
      "application/vnd.jupyter.widget-view+json": {
       "model_id": "7d4aad48d4014c7881d21174968946a5",
       "version_major": 2,
       "version_minor": 0
      },
      "text/plain": [
       "Mappings: 0it [00:00, ?it/s]"
      ]
     },
     "metadata": {},
     "output_type": "display_data"
    },
    {
     "name": "stdout",
     "output_type": "stream",
     "text": [
      "Submitted to device in 18.0873 s\n"
     ]
    },
    {
     "data": {
      "application/vnd.jupyter.widget-view+json": {
       "model_id": "d12e3d53aa3046c6bbfc3d77bd6aef21",
       "version_major": 2,
       "version_minor": 0
      },
      "text/plain": [
       "Running batch:   0%|          | 0/1 [00:00<?, ?it/s]"
      ]
     },
     "metadata": {},
     "output_type": "display_data"
    },
    {
     "name": "stdout",
     "output_type": "stream",
     "text": [
      "Predicted in 118.6525 s\n",
      "Iters. done: 353 Current cost: 0.0745891536415189 Accuracy: 0.175435358606976 Time: 136.83821552619338\n"
     ]
    },
    {
     "data": {
      "application/vnd.jupyter.widget-view+json": {
       "model_id": "59758bdc01e4425993572b6d209af049",
       "version_major": 2,
       "version_minor": 0
      },
      "text/plain": [
       "Mappings: 0it [00:00, ?it/s]"
      ]
     },
     "metadata": {},
     "output_type": "display_data"
    },
    {
     "name": "stdout",
     "output_type": "stream",
     "text": [
      "Submitted to device in 17.6758 s\n"
     ]
    },
    {
     "data": {
      "application/vnd.jupyter.widget-view+json": {
       "model_id": "87d96d19c4e34cf48c2e713718462b70",
       "version_major": 2,
       "version_minor": 0
      },
      "text/plain": [
       "Running batch:   0%|          | 0/1 [00:00<?, ?it/s]"
      ]
     },
     "metadata": {},
     "output_type": "display_data"
    },
    {
     "name": "stdout",
     "output_type": "stream",
     "text": [
      "Predicted in 118.7499 s\n",
      "Iters. done: 354 Current cost: 0.07432931560158224 Accuracy: 0.17830780385887357 Time: 136.5119057111442\n"
     ]
    },
    {
     "data": {
      "application/vnd.jupyter.widget-view+json": {
       "model_id": "c4efbec4204e426d939eab62ced29273",
       "version_major": 2,
       "version_minor": 0
      },
      "text/plain": [
       "Mappings: 0it [00:00, ?it/s]"
      ]
     },
     "metadata": {},
     "output_type": "display_data"
    },
    {
     "name": "stdout",
     "output_type": "stream",
     "text": [
      "Submitted to device in 17.1190 s\n"
     ]
    },
    {
     "data": {
      "application/vnd.jupyter.widget-view+json": {
       "model_id": "6663b84d351e4a5db07a6c703a69a5d5",
       "version_major": 2,
       "version_minor": 0
      },
      "text/plain": [
       "Running batch:   0%|          | 0/1 [00:00<?, ?it/s]"
      ]
     },
     "metadata": {},
     "output_type": "display_data"
    },
    {
     "name": "stdout",
     "output_type": "stream",
     "text": [
      "Predicted in 118.5214 s\n",
      "Iters. done: 355 Current cost: 0.07636009591755596 Accuracy: 0.1558580298470017 Time: 136.13073214516044\n"
     ]
    },
    {
     "data": {
      "application/vnd.jupyter.widget-view+json": {
       "model_id": "d941db4d6b24494eb41b73cfddb14566",
       "version_major": 2,
       "version_minor": 0
      },
      "text/plain": [
       "Mappings: 0it [00:00, ?it/s]"
      ]
     },
     "metadata": {},
     "output_type": "display_data"
    },
    {
     "name": "stdout",
     "output_type": "stream",
     "text": [
      "Submitted to device in 19.3179 s\n"
     ]
    },
    {
     "data": {
      "application/vnd.jupyter.widget-view+json": {
       "model_id": "4419912123154fa598d6feb5d9d26ae7",
       "version_major": 2,
       "version_minor": 0
      },
      "text/plain": [
       "Running batch:   0%|          | 0/1 [00:00<?, ?it/s]"
      ]
     },
     "metadata": {},
     "output_type": "display_data"
    },
    {
     "name": "stdout",
     "output_type": "stream",
     "text": [
      "Predicted in 117.7803 s\n",
      "Iters. done: 356 Current cost: 0.07565973745681073 Accuracy: 0.16360031937352493 Time: 137.18744108825922\n"
     ]
    },
    {
     "data": {
      "application/vnd.jupyter.widget-view+json": {
       "model_id": "395bebe8758540c2a639675a6c1452e8",
       "version_major": 2,
       "version_minor": 0
      },
      "text/plain": [
       "Mappings: 0it [00:00, ?it/s]"
      ]
     },
     "metadata": {},
     "output_type": "display_data"
    },
    {
     "name": "stdout",
     "output_type": "stream",
     "text": [
      "Submitted to device in 21.2263 s\n"
     ]
    },
    {
     "data": {
      "application/vnd.jupyter.widget-view+json": {
       "model_id": "c0bfc4635c6f4de7aefb1c28974ba25c",
       "version_major": 2,
       "version_minor": 0
      },
      "text/plain": [
       "Running batch:   0%|          | 0/1 [00:00<?, ?it/s]"
      ]
     },
     "metadata": {},
     "output_type": "display_data"
    },
    {
     "name": "stdout",
     "output_type": "stream",
     "text": [
      "Predicted in 167.3966 s\n",
      "Iters. done: 357 Current cost: 0.07689766493037473 Accuracy: 0.14991533739590823 Time: 188.70535859838128\n"
     ]
    },
    {
     "data": {
      "application/vnd.jupyter.widget-view+json": {
       "model_id": "b8b4fdeb467c472e8430769d1a1717bd",
       "version_major": 2,
       "version_minor": 0
      },
      "text/plain": [
       "Mappings: 0it [00:00, ?it/s]"
      ]
     },
     "metadata": {},
     "output_type": "display_data"
    },
    {
     "name": "stdout",
     "output_type": "stream",
     "text": [
      "Submitted to device in 19.5830 s\n"
     ]
    },
    {
     "data": {
      "application/vnd.jupyter.widget-view+json": {
       "model_id": "253abe1526b243e1b637be7178838e0e",
       "version_major": 2,
       "version_minor": 0
      },
      "text/plain": [
       "Running batch:   0%|          | 0/1 [00:00<?, ?it/s]"
      ]
     },
     "metadata": {},
     "output_type": "display_data"
    },
    {
     "name": "stdout",
     "output_type": "stream",
     "text": [
      "Predicted in 215.0347 s\n",
      "Iters. done: 358 Current cost: 0.07381552371240147 Accuracy: 0.18398764609021334 Time: 234.67980091646314\n"
     ]
    },
    {
     "data": {
      "application/vnd.jupyter.widget-view+json": {
       "model_id": "6df08b281b4f49cbbc5cea4ecd151724",
       "version_major": 2,
       "version_minor": 0
      },
      "text/plain": [
       "Mappings: 0it [00:00, ?it/s]"
      ]
     },
     "metadata": {},
     "output_type": "display_data"
    },
    {
     "name": "stdout",
     "output_type": "stream",
     "text": [
      "Submitted to device in 22.2640 s\n"
     ]
    },
    {
     "data": {
      "application/vnd.jupyter.widget-view+json": {
       "model_id": "a1c8f16594634c1bac6f5b481a0c099e",
       "version_major": 2,
       "version_minor": 0
      },
      "text/plain": [
       "Running batch:   0%|          | 0/1 [00:00<?, ?it/s]"
      ]
     },
     "metadata": {},
     "output_type": "display_data"
    },
    {
     "name": "stdout",
     "output_type": "stream",
     "text": [
      "Predicted in 1703.4141 s\n",
      "Iters. done: 359 Current cost: 0.06962997674093441 Accuracy: 0.2302578324251915 Time: 1725.7699696086347\n"
     ]
    },
    {
     "data": {
      "application/vnd.jupyter.widget-view+json": {
       "model_id": "e536c884fd2a4fbea8bdbb3afbfc2549",
       "version_major": 2,
       "version_minor": 0
      },
      "text/plain": [
       "Mappings: 0it [00:00, ?it/s]"
      ]
     },
     "metadata": {},
     "output_type": "display_data"
    },
    {
     "name": "stdout",
     "output_type": "stream",
     "text": [
      "Submitted to device in 22.9700 s\n"
     ]
    },
    {
     "data": {
      "application/vnd.jupyter.widget-view+json": {
       "model_id": "860546f15c464846ba303872e0d7eb8f",
       "version_major": 2,
       "version_minor": 0
      },
      "text/plain": [
       "Running batch:   0%|          | 0/1 [00:00<?, ?it/s]"
      ]
     },
     "metadata": {},
     "output_type": "display_data"
    },
    {
     "name": "stdout",
     "output_type": "stream",
     "text": [
      "Predicted in 114.8995 s\n",
      "Iters. done: 360 Current cost: 0.07004074755241543 Accuracy: 0.2257168627221241 Time: 137.98225076124072\n"
     ]
    },
    {
     "data": {
      "application/vnd.jupyter.widget-view+json": {
       "model_id": "d047c7c198e44c0da655435f6b8f618a",
       "version_major": 2,
       "version_minor": 0
      },
      "text/plain": [
       "Mappings: 0it [00:00, ?it/s]"
      ]
     },
     "metadata": {},
     "output_type": "display_data"
    },
    {
     "name": "stdout",
     "output_type": "stream",
     "text": [
      "Submitted to device in 18.4533 s\n"
     ]
    },
    {
     "data": {
      "application/vnd.jupyter.widget-view+json": {
       "model_id": "891aa43a636745368810ae2b88168d10",
       "version_major": 2,
       "version_minor": 0
      },
      "text/plain": [
       "Running batch:   0%|          | 0/1 [00:00<?, ?it/s]"
      ]
     },
     "metadata": {},
     "output_type": "display_data"
    },
    {
     "name": "stdout",
     "output_type": "stream",
     "text": [
      "Predicted in 118.6450 s\n",
      "Iters. done: 361 Current cost: 0.06981269941115614 Accuracy: 0.2282378785084347 Time: 137.5923741646111\n"
     ]
    },
    {
     "data": {
      "application/vnd.jupyter.widget-view+json": {
       "model_id": "c0e33c9397a0434988f1dbd905179a45",
       "version_major": 2,
       "version_minor": 0
      },
      "text/plain": [
       "Mappings: 0it [00:00, ?it/s]"
      ]
     },
     "metadata": {},
     "output_type": "display_data"
    },
    {
     "name": "stdout",
     "output_type": "stream",
     "text": [
      "Submitted to device in 19.9973 s\n"
     ]
    },
    {
     "data": {
      "application/vnd.jupyter.widget-view+json": {
       "model_id": "e4653f0bc7634575ac5b9d25174dd6b0",
       "version_major": 2,
       "version_minor": 0
      },
      "text/plain": [
       "Running batch:   0%|          | 0/1 [00:00<?, ?it/s]"
      ]
     },
     "metadata": {},
     "output_type": "display_data"
    },
    {
     "name": "stdout",
     "output_type": "stream",
     "text": [
      "Predicted in 118.6820 s\n",
      "Iters. done: 362 Current cost: 0.07095052113337275 Accuracy: 0.2156595408474683 Time: 138.7678597420454\n"
     ]
    },
    {
     "data": {
      "application/vnd.jupyter.widget-view+json": {
       "model_id": "65c2bf49d054455db94d770e933952a3",
       "version_major": 2,
       "version_minor": 0
      },
      "text/plain": [
       "Mappings: 0it [00:00, ?it/s]"
      ]
     },
     "metadata": {},
     "output_type": "display_data"
    },
    {
     "name": "stdout",
     "output_type": "stream",
     "text": [
      "Submitted to device in 20.3179 s\n"
     ]
    },
    {
     "data": {
      "application/vnd.jupyter.widget-view+json": {
       "model_id": "cbbf9bb4aa084357999c090ae125bb56",
       "version_major": 2,
       "version_minor": 0
      },
      "text/plain": [
       "Running batch:   0%|          | 0/1 [00:00<?, ?it/s]"
      ]
     },
     "metadata": {},
     "output_type": "display_data"
    },
    {
     "name": "stdout",
     "output_type": "stream",
     "text": [
      "Predicted in 116.4437 s\n",
      "Iters. done: 363 Current cost: 0.07129433829926463 Accuracy: 0.21185872713317244 Time: 136.85104506835341\n"
     ]
    },
    {
     "data": {
      "application/vnd.jupyter.widget-view+json": {
       "model_id": "18f58f80c7b74338a8620afd6f94ca44",
       "version_major": 2,
       "version_minor": 0
      },
      "text/plain": [
       "Mappings: 0it [00:00, ?it/s]"
      ]
     },
     "metadata": {},
     "output_type": "display_data"
    },
    {
     "name": "stdout",
     "output_type": "stream",
     "text": [
      "Submitted to device in 19.9169 s\n"
     ]
    },
    {
     "data": {
      "application/vnd.jupyter.widget-view+json": {
       "model_id": "25e5837babe94560aebe1b1bea4c56e3",
       "version_major": 2,
       "version_minor": 0
      },
      "text/plain": [
       "Running batch:   0%|          | 0/1 [00:00<?, ?it/s]"
      ]
     },
     "metadata": {},
     "output_type": "display_data"
    },
    {
     "name": "stdout",
     "output_type": "stream",
     "text": [
      "Predicted in 115.4677 s\n",
      "Iters. done: 364 Current cost: 0.06965332348454327 Accuracy: 0.22999973995019085 Time: 135.47080532461405\n"
     ]
    },
    {
     "data": {
      "application/vnd.jupyter.widget-view+json": {
       "model_id": "cbf57450348044be82f9ae8494a6b62a",
       "version_major": 2,
       "version_minor": 0
      },
      "text/plain": [
       "Mappings: 0it [00:00, ?it/s]"
      ]
     },
     "metadata": {},
     "output_type": "display_data"
    },
    {
     "name": "stdout",
     "output_type": "stream",
     "text": [
      "Submitted to device in 20.6034 s\n"
     ]
    },
    {
     "data": {
      "application/vnd.jupyter.widget-view+json": {
       "model_id": "b8371de69b5d4d1a9972a0295eb14ddf",
       "version_major": 2,
       "version_minor": 0
      },
      "text/plain": [
       "Running batch:   0%|          | 0/1 [00:00<?, ?it/s]"
      ]
     },
     "metadata": {},
     "output_type": "display_data"
    },
    {
     "name": "stdout",
     "output_type": "stream",
     "text": [
      "Predicted in 116.9584 s\n",
      "Iters. done: 365 Current cost: 0.07031007181371018 Accuracy: 0.222739549639846 Time: 137.65537809580564\n"
     ]
    },
    {
     "data": {
      "application/vnd.jupyter.widget-view+json": {
       "model_id": "29bbc82a2a014b2383f8a288e61866a6",
       "version_major": 2,
       "version_minor": 0
      },
      "text/plain": [
       "Mappings: 0it [00:00, ?it/s]"
      ]
     },
     "metadata": {},
     "output_type": "display_data"
    },
    {
     "name": "stdout",
     "output_type": "stream",
     "text": [
      "Submitted to device in 18.2994 s\n"
     ]
    },
    {
     "data": {
      "application/vnd.jupyter.widget-view+json": {
       "model_id": "35cddff1303c45e086ef2d364865c323",
       "version_major": 2,
       "version_minor": 0
      },
      "text/plain": [
       "Running batch:   0%|          | 0/1 [00:00<?, ?it/s]"
      ]
     },
     "metadata": {},
     "output_type": "display_data"
    },
    {
     "name": "stdout",
     "output_type": "stream",
     "text": [
      "Predicted in 118.7287 s\n",
      "Iters. done: 366 Current cost: 0.06946982606517768 Accuracy: 0.23202825852707298 Time: 137.1191197372973\n"
     ]
    },
    {
     "data": {
      "application/vnd.jupyter.widget-view+json": {
       "model_id": "ccc476b114464385bea37ac5f4a911b0",
       "version_major": 2,
       "version_minor": 0
      },
      "text/plain": [
       "Mappings: 0it [00:00, ?it/s]"
      ]
     },
     "metadata": {},
     "output_type": "display_data"
    },
    {
     "name": "stdout",
     "output_type": "stream",
     "text": [
      "Submitted to device in 18.4065 s\n"
     ]
    },
    {
     "data": {
      "application/vnd.jupyter.widget-view+json": {
       "model_id": "e95133e464634d44a64d1494c903e580",
       "version_major": 2,
       "version_minor": 0
      },
      "text/plain": [
       "Running batch:   0%|          | 0/1 [00:00<?, ?it/s]"
      ]
     },
     "metadata": {},
     "output_type": "display_data"
    },
    {
     "name": "stdout",
     "output_type": "stream",
     "text": [
      "Predicted in 123.8007 s\n",
      "Iters. done: 367 Current cost: 0.06816341991067695 Accuracy: 0.24647025538196043 Time: 142.3049603588879\n"
     ]
    },
    {
     "data": {
      "application/vnd.jupyter.widget-view+json": {
       "model_id": "18c372214c5d4ba58af37a26b039e2d9",
       "version_major": 2,
       "version_minor": 0
      },
      "text/plain": [
       "Mappings: 0it [00:00, ?it/s]"
      ]
     },
     "metadata": {},
     "output_type": "display_data"
    },
    {
     "name": "stdout",
     "output_type": "stream",
     "text": [
      "Submitted to device in 18.0449 s\n"
     ]
    },
    {
     "data": {
      "application/vnd.jupyter.widget-view+json": {
       "model_id": "70ee42b852aa4c85b5f89c8a61104918",
       "version_major": 2,
       "version_minor": 0
      },
      "text/plain": [
       "Running batch:   0%|          | 0/1 [00:00<?, ?it/s]"
      ]
     },
     "metadata": {},
     "output_type": "display_data"
    },
    {
     "name": "stdout",
     "output_type": "stream",
     "text": [
      "Predicted in 117.0297 s\n",
      "Iters. done: 368 Current cost: 0.0695483028309738 Accuracy: 0.2311607172950414 Time: 135.1763881444931\n"
     ]
    },
    {
     "data": {
      "application/vnd.jupyter.widget-view+json": {
       "model_id": "b855f4694c9d4d86ab5af2a10a62b50c",
       "version_major": 2,
       "version_minor": 0
      },
      "text/plain": [
       "Mappings: 0it [00:00, ?it/s]"
      ]
     },
     "metadata": {},
     "output_type": "display_data"
    },
    {
     "name": "stdout",
     "output_type": "stream",
     "text": [
      "Submitted to device in 21.0517 s\n"
     ]
    },
    {
     "data": {
      "application/vnd.jupyter.widget-view+json": {
       "model_id": "2cd2f53a47204d65810c5af05d3cbd02",
       "version_major": 2,
       "version_minor": 0
      },
      "text/plain": [
       "Running batch:   0%|          | 0/1 [00:00<?, ?it/s]"
      ]
     },
     "metadata": {},
     "output_type": "display_data"
    },
    {
     "name": "stdout",
     "output_type": "stream",
     "text": [
      "Predicted in 116.3694 s\n",
      "Iters. done: 369 Current cost: 0.06985413727641013 Accuracy: 0.22777979315908936 Time: 137.51224461570382\n"
     ]
    },
    {
     "data": {
      "application/vnd.jupyter.widget-view+json": {
       "model_id": "62c85e16b57f4aa5ba73a937f5cf4b45",
       "version_major": 2,
       "version_minor": 0
      },
      "text/plain": [
       "Mappings: 0it [00:00, ?it/s]"
      ]
     },
     "metadata": {},
     "output_type": "display_data"
    },
    {
     "name": "stdout",
     "output_type": "stream",
     "text": [
      "Submitted to device in 20.3425 s\n"
     ]
    },
    {
     "data": {
      "application/vnd.jupyter.widget-view+json": {
       "model_id": "a75d1221a55445a6a6b392a5906e11f5",
       "version_major": 2,
       "version_minor": 0
      },
      "text/plain": [
       "Running batch:   0%|          | 0/1 [00:00<?, ?it/s]"
      ]
     },
     "metadata": {},
     "output_type": "display_data"
    },
    {
     "name": "stdout",
     "output_type": "stream",
     "text": [
      "Predicted in 115.8798 s\n",
      "Iters. done: 370 Current cost: 0.07042825294271994 Accuracy: 0.22143308649468552 Time: 136.31354832276702\n"
     ]
    },
    {
     "data": {
      "application/vnd.jupyter.widget-view+json": {
       "model_id": "d69c5b018a774dd0a6281e9239523c32",
       "version_major": 2,
       "version_minor": 0
      },
      "text/plain": [
       "Mappings: 0it [00:00, ?it/s]"
      ]
     },
     "metadata": {},
     "output_type": "display_data"
    },
    {
     "name": "stdout",
     "output_type": "stream",
     "text": [
      "Submitted to device in 22.4805 s\n"
     ]
    },
    {
     "data": {
      "application/vnd.jupyter.widget-view+json": {
       "model_id": "2730e2abff36428baf1e9ddc142e689f",
       "version_major": 2,
       "version_minor": 0
      },
      "text/plain": [
       "Running batch:   0%|          | 0/1 [00:00<?, ?it/s]"
      ]
     },
     "metadata": {},
     "output_type": "display_data"
    },
    {
     "name": "stdout",
     "output_type": "stream",
     "text": [
      "Predicted in 116.1194 s\n",
      "Iters. done: 371 Current cost: 0.0753889961465719 Accuracy: 0.16659329758132568 Time: 138.6851863488555\n"
     ]
    },
    {
     "data": {
      "application/vnd.jupyter.widget-view+json": {
       "model_id": "2109b639ae4f4206ac5b27fbcdf89e8a",
       "version_major": 2,
       "version_minor": 0
      },
      "text/plain": [
       "Mappings: 0it [00:00, ?it/s]"
      ]
     },
     "metadata": {},
     "output_type": "display_data"
    },
    {
     "name": "stdout",
     "output_type": "stream",
     "text": [
      "Submitted to device in 19.3642 s\n"
     ]
    },
    {
     "data": {
      "application/vnd.jupyter.widget-view+json": {
       "model_id": "91b8b8ea91bf430ca7364aace784bb46",
       "version_major": 2,
       "version_minor": 0
      },
      "text/plain": [
       "Running batch:   0%|          | 0/1 [00:00<?, ?it/s]"
      ]
     },
     "metadata": {},
     "output_type": "display_data"
    },
    {
     "name": "stdout",
     "output_type": "stream",
     "text": [
      "Predicted in 117.3309 s\n",
      "Iters. done: 372 Current cost: 0.07774846690466275 Accuracy: 0.14050993204438833 Time: 136.79355743154883\n"
     ]
    },
    {
     "data": {
      "application/vnd.jupyter.widget-view+json": {
       "model_id": "277c14dfe39b4c5ca8cedebedbf1b4f6",
       "version_major": 2,
       "version_minor": 0
      },
      "text/plain": [
       "Mappings: 0it [00:00, ?it/s]"
      ]
     },
     "metadata": {},
     "output_type": "display_data"
    },
    {
     "name": "stdout",
     "output_type": "stream",
     "text": [
      "Submitted to device in 18.3650 s\n"
     ]
    },
    {
     "data": {
      "application/vnd.jupyter.widget-view+json": {
       "model_id": "754481dc5df14d3e88f3d976014c0a31",
       "version_major": 2,
       "version_minor": 0
      },
      "text/plain": [
       "Running batch:   0%|          | 0/1 [00:00<?, ?it/s]"
      ]
     },
     "metadata": {},
     "output_type": "display_data"
    },
    {
     "name": "stdout",
     "output_type": "stream",
     "text": [
      "Predicted in 118.0141 s\n",
      "Iters. done: 373 Current cost: 0.07902874957697603 Accuracy: 0.1263567238225689 Time: 136.46414982527494\n"
     ]
    },
    {
     "data": {
      "application/vnd.jupyter.widget-view+json": {
       "model_id": "514848085822443f9f23018a060c42f1",
       "version_major": 2,
       "version_minor": 0
      },
      "text/plain": [
       "Mappings: 0it [00:00, ?it/s]"
      ]
     },
     "metadata": {},
     "output_type": "display_data"
    },
    {
     "name": "stdout",
     "output_type": "stream",
     "text": [
      "Submitted to device in 17.1570 s\n"
     ]
    },
    {
     "data": {
      "application/vnd.jupyter.widget-view+json": {
       "model_id": "58007feeaaff4d47994d823e8e5a3fb5",
       "version_major": 2,
       "version_minor": 0
      },
      "text/plain": [
       "Running batch:   0%|          | 0/1 [00:00<?, ?it/s]"
      ]
     },
     "metadata": {},
     "output_type": "display_data"
    },
    {
     "name": "stdout",
     "output_type": "stream",
     "text": [
      "Predicted in 117.5781 s\n",
      "Iters. done: 374 Current cost: 0.07572472319372059 Accuracy: 0.16288191812837516 Time: 134.82169645652175\n"
     ]
    },
    {
     "data": {
      "application/vnd.jupyter.widget-view+json": {
       "model_id": "c50e404b7cf64819bea0ca633dcc6ea5",
       "version_major": 2,
       "version_minor": 0
      },
      "text/plain": [
       "Mappings: 0it [00:00, ?it/s]"
      ]
     },
     "metadata": {},
     "output_type": "display_data"
    },
    {
     "name": "stdout",
     "output_type": "stream",
     "text": [
      "Submitted to device in 19.6533 s\n"
     ]
    },
    {
     "data": {
      "application/vnd.jupyter.widget-view+json": {
       "model_id": "3de32b92dbcc4050bc1652e84cf5f76d",
       "version_major": 2,
       "version_minor": 0
      },
      "text/plain": [
       "Running batch:   0%|          | 0/1 [00:00<?, ?it/s]"
      ]
     },
     "metadata": {},
     "output_type": "display_data"
    },
    {
     "name": "stdout",
     "output_type": "stream",
     "text": [
      "Predicted in 114.9943 s\n",
      "Iters. done: 375 Current cost: 0.07833423948570109 Accuracy: 0.13403436107138722 Time: 134.7400698326528\n"
     ]
    },
    {
     "data": {
      "application/vnd.jupyter.widget-view+json": {
       "model_id": "64315fbbf5aa4553866028c8bf47be31",
       "version_major": 2,
       "version_minor": 0
      },
      "text/plain": [
       "Mappings: 0it [00:00, ?it/s]"
      ]
     },
     "metadata": {},
     "output_type": "display_data"
    },
    {
     "name": "stdout",
     "output_type": "stream",
     "text": [
      "Submitted to device in 18.5094 s\n"
     ]
    },
    {
     "data": {
      "application/vnd.jupyter.widget-view+json": {
       "model_id": "e3803de9414e41f69c4d5259e69f2740",
       "version_major": 2,
       "version_minor": 0
      },
      "text/plain": [
       "Running batch:   0%|          | 0/1 [00:00<?, ?it/s]"
      ]
     },
     "metadata": {},
     "output_type": "display_data"
    },
    {
     "name": "stdout",
     "output_type": "stream",
     "text": [
      "Predicted in 118.2325 s\n",
      "Iters. done: 376 Current cost: 0.07635317519137577 Accuracy: 0.1559345367628514 Time: 137.23595045879483\n"
     ]
    },
    {
     "data": {
      "application/vnd.jupyter.widget-view+json": {
       "model_id": "4ea65592633949108287849b8a2ec15c",
       "version_major": 2,
       "version_minor": 0
      },
      "text/plain": [
       "Mappings: 0it [00:00, ?it/s]"
      ]
     },
     "metadata": {},
     "output_type": "display_data"
    },
    {
     "name": "stdout",
     "output_type": "stream",
     "text": [
      "Submitted to device in 15.4579 s\n"
     ]
    },
    {
     "data": {
      "application/vnd.jupyter.widget-view+json": {
       "model_id": "3afeaf7bb47040cdabb2dfa8bf9f1257",
       "version_major": 2,
       "version_minor": 0
      },
      "text/plain": [
       "Running batch:   0%|          | 0/1 [00:00<?, ?it/s]"
      ]
     },
     "metadata": {},
     "output_type": "display_data"
    },
    {
     "name": "stdout",
     "output_type": "stream",
     "text": [
      "Predicted in 119.2586 s\n",
      "Iters. done: 377 Current cost: 0.07541041232008977 Accuracy: 0.16635654708109004 Time: 134.8048589080572\n"
     ]
    },
    {
     "data": {
      "application/vnd.jupyter.widget-view+json": {
       "model_id": "8c25b0731a634690a63abfea93b5c5d1",
       "version_major": 2,
       "version_minor": 0
      },
      "text/plain": [
       "Mappings: 0it [00:00, ?it/s]"
      ]
     },
     "metadata": {},
     "output_type": "display_data"
    },
    {
     "name": "stdout",
     "output_type": "stream",
     "text": [
      "Submitted to device in 20.7785 s\n"
     ]
    },
    {
     "data": {
      "application/vnd.jupyter.widget-view+json": {
       "model_id": "b4fba685c0a74b0a825a80871a0caeab",
       "version_major": 2,
       "version_minor": 0
      },
      "text/plain": [
       "Running batch:   0%|          | 0/1 [00:00<?, ?it/s]"
      ]
     },
     "metadata": {},
     "output_type": "display_data"
    },
    {
     "name": "stdout",
     "output_type": "stream",
     "text": [
      "Predicted in 113.6878 s\n",
      "Iters. done: 378 Current cost: 0.07798998376286241 Accuracy: 0.13784002292423825 Time: 134.55180841311812\n"
     ]
    },
    {
     "data": {
      "application/vnd.jupyter.widget-view+json": {
       "model_id": "0cebaa9837154520bab3e284e86a7067",
       "version_major": 2,
       "version_minor": 0
      },
      "text/plain": [
       "Mappings: 0it [00:00, ?it/s]"
      ]
     },
     "metadata": {},
     "output_type": "display_data"
    },
    {
     "name": "stdout",
     "output_type": "stream",
     "text": [
      "Submitted to device in 21.8213 s\n"
     ]
    },
    {
     "data": {
      "application/vnd.jupyter.widget-view+json": {
       "model_id": "42a44bce3277423ea6829ffc5816dc28",
       "version_major": 2,
       "version_minor": 0
      },
      "text/plain": [
       "Running batch:   0%|          | 0/1 [00:00<?, ?it/s]"
      ]
     },
     "metadata": {},
     "output_type": "display_data"
    },
    {
     "name": "stdout",
     "output_type": "stream",
     "text": [
      "Predicted in 116.9523 s\n",
      "Iters. done: 379 Current cost: 0.07341227616466393 Accuracy: 0.18844544797372642 Time: 138.86428539082408\n"
     ]
    },
    {
     "data": {
      "application/vnd.jupyter.widget-view+json": {
       "model_id": "9b93028333f3425cbfac328af6d11fb5",
       "version_major": 2,
       "version_minor": 0
      },
      "text/plain": [
       "Mappings: 0it [00:00, ?it/s]"
      ]
     },
     "metadata": {},
     "output_type": "display_data"
    },
    {
     "name": "stdout",
     "output_type": "stream",
     "text": [
      "Submitted to device in 17.0144 s\n"
     ]
    },
    {
     "data": {
      "application/vnd.jupyter.widget-view+json": {
       "model_id": "b5bfed5a79004d5aa53306a2fdda2625",
       "version_major": 2,
       "version_minor": 0
      },
      "text/plain": [
       "Running batch:   0%|          | 0/1 [00:00<?, ?it/s]"
      ]
     },
     "metadata": {},
     "output_type": "display_data"
    },
    {
     "name": "stdout",
     "output_type": "stream",
     "text": [
      "Predicted in 117.9684 s\n",
      "Iters. done: 380 Current cost: 0.07516027349362327 Accuracy: 0.16912176992749883 Time: 135.06806560978293\n"
     ]
    },
    {
     "data": {
      "application/vnd.jupyter.widget-view+json": {
       "model_id": "64837957e85d4f78b933e80a196c00db",
       "version_major": 2,
       "version_minor": 0
      },
      "text/plain": [
       "Mappings: 0it [00:00, ?it/s]"
      ]
     },
     "metadata": {},
     "output_type": "display_data"
    },
    {
     "name": "stdout",
     "output_type": "stream",
     "text": [
      "Submitted to device in 20.1711 s\n"
     ]
    },
    {
     "data": {
      "application/vnd.jupyter.widget-view+json": {
       "model_id": "12dbae113a744fa58d5fc27c816b5233",
       "version_major": 2,
       "version_minor": 0
      },
      "text/plain": [
       "Running batch:   0%|          | 0/1 [00:00<?, ?it/s]"
      ]
     },
     "metadata": {},
     "output_type": "display_data"
    },
    {
     "name": "stdout",
     "output_type": "stream",
     "text": [
      "Predicted in 140.4015 s\n",
      "Iters. done: 381 Current cost: 0.07605739639970505 Accuracy: 0.1592042981340258 Time: 160.66580363735557\n"
     ]
    },
    {
     "data": {
      "application/vnd.jupyter.widget-view+json": {
       "model_id": "98e89439b0474026bf6bce699e6cd767",
       "version_major": 2,
       "version_minor": 0
      },
      "text/plain": [
       "Mappings: 0it [00:00, ?it/s]"
      ]
     },
     "metadata": {},
     "output_type": "display_data"
    },
    {
     "name": "stdout",
     "output_type": "stream",
     "text": [
      "Submitted to device in 21.4694 s\n"
     ]
    },
    {
     "data": {
      "application/vnd.jupyter.widget-view+json": {
       "model_id": "bc3aa069c33545358eb86b2519ae4405",
       "version_major": 2,
       "version_minor": 0
      },
      "text/plain": [
       "Running batch:   0%|          | 0/1 [00:00<?, ?it/s]"
      ]
     },
     "metadata": {},
     "output_type": "display_data"
    },
    {
     "name": "stdout",
     "output_type": "stream",
     "text": [
      "Predicted in 155.1671 s\n",
      "Iters. done: 382 Current cost: 0.0744687363042294 Accuracy: 0.17676654248146828 Time: 176.7239475697279\n"
     ]
    },
    {
     "data": {
      "application/vnd.jupyter.widget-view+json": {
       "model_id": "6a17fb0bd2d5409aac7d4574f7c5a159",
       "version_major": 2,
       "version_minor": 0
      },
      "text/plain": [
       "Mappings: 0it [00:00, ?it/s]"
      ]
     },
     "metadata": {},
     "output_type": "display_data"
    },
    {
     "name": "stdout",
     "output_type": "stream",
     "text": [
      "Submitted to device in 16.3993 s\n"
     ]
    },
    {
     "data": {
      "application/vnd.jupyter.widget-view+json": {
       "model_id": "26468c4a6c304369a2b36ff427d93ec6",
       "version_major": 2,
       "version_minor": 0
      },
      "text/plain": [
       "Running batch:   0%|          | 0/1 [00:00<?, ?it/s]"
      ]
     },
     "metadata": {},
     "output_type": "display_data"
    },
    {
     "name": "stdout",
     "output_type": "stream",
     "text": [
      "Predicted in 118.2331 s\n",
      "Iters. done: 383 Current cost: 0.0743601588677392 Accuracy: 0.1779668391816186 Time: 134.72391522675753\n"
     ]
    },
    {
     "data": {
      "application/vnd.jupyter.widget-view+json": {
       "model_id": "d874f25f5ed04a3d8dc404010483e647",
       "version_major": 2,
       "version_minor": 0
      },
      "text/plain": [
       "Mappings: 0it [00:00, ?it/s]"
      ]
     },
     "metadata": {},
     "output_type": "display_data"
    },
    {
     "name": "stdout",
     "output_type": "stream",
     "text": [
      "Submitted to device in 19.7373 s\n"
     ]
    },
    {
     "data": {
      "application/vnd.jupyter.widget-view+json": {
       "model_id": "53492c7528284f91a2c2b65be7ab219d",
       "version_major": 2,
       "version_minor": 0
      },
      "text/plain": [
       "Running batch:   0%|          | 0/1 [00:00<?, ?it/s]"
      ]
     },
     "metadata": {},
     "output_type": "display_data"
    },
    {
     "name": "stdout",
     "output_type": "stream",
     "text": [
      "Predicted in 118.4986 s\n",
      "Iters. done: 384 Current cost: 0.07535944413218483 Accuracy: 0.16691998778969863 Time: 138.3224858827889\n"
     ]
    },
    {
     "data": {
      "application/vnd.jupyter.widget-view+json": {
       "model_id": "8dc35aad8b2d44db99e2dde729c26465",
       "version_major": 2,
       "version_minor": 0
      },
      "text/plain": [
       "Mappings: 0it [00:00, ?it/s]"
      ]
     },
     "metadata": {},
     "output_type": "display_data"
    },
    {
     "name": "stdout",
     "output_type": "stream",
     "text": [
      "Submitted to device in 24.4685 s\n"
     ]
    },
    {
     "data": {
      "application/vnd.jupyter.widget-view+json": {
       "model_id": "276077b9f8e641b791a10832bce95c97",
       "version_major": 2,
       "version_minor": 0
      },
      "text/plain": [
       "Running batch:   0%|          | 0/1 [00:00<?, ?it/s]"
      ]
     },
     "metadata": {},
     "output_type": "display_data"
    },
    {
     "name": "stdout",
     "output_type": "stream",
     "text": [
      "Predicted in 114.4610 s\n",
      "Iters. done: 385 Current cost: 0.07602898534235092 Accuracy: 0.1595183753446534 Time: 139.02894144132733\n"
     ]
    },
    {
     "data": {
      "application/vnd.jupyter.widget-view+json": {
       "model_id": "bccc67ac3aae40d08aa4b95035eb0a8d",
       "version_major": 2,
       "version_minor": 0
      },
      "text/plain": [
       "Mappings: 0it [00:00, ?it/s]"
      ]
     },
     "metadata": {},
     "output_type": "display_data"
    },
    {
     "name": "stdout",
     "output_type": "stream",
     "text": [
      "Submitted to device in 15.8783 s\n"
     ]
    },
    {
     "data": {
      "application/vnd.jupyter.widget-view+json": {
       "model_id": "36e63aebcbc4438eb4dc72e0fa792016",
       "version_major": 2,
       "version_minor": 0
      },
      "text/plain": [
       "Running batch:   0%|          | 0/1 [00:00<?, ?it/s]"
      ]
     },
     "metadata": {},
     "output_type": "display_data"
    },
    {
     "name": "stdout",
     "output_type": "stream",
     "text": [
      "Predicted in 118.7124 s\n",
      "Iters. done: 386 Current cost: 0.07211404097690624 Accuracy: 0.20279711681263068 Time: 134.6866198927164\n"
     ]
    },
    {
     "data": {
      "application/vnd.jupyter.widget-view+json": {
       "model_id": "826b718b4a0c4d3f98b1763a0d4e0eef",
       "version_major": 2,
       "version_minor": 0
      },
      "text/plain": [
       "Mappings: 0it [00:00, ?it/s]"
      ]
     },
     "metadata": {},
     "output_type": "display_data"
    },
    {
     "name": "stdout",
     "output_type": "stream",
     "text": [
      "Submitted to device in 21.2741 s\n"
     ]
    },
    {
     "data": {
      "application/vnd.jupyter.widget-view+json": {
       "model_id": "06bb490184da44019acab9cc6e52e66a",
       "version_major": 2,
       "version_minor": 0
      },
      "text/plain": [
       "Running batch:   0%|          | 0/1 [00:00<?, ?it/s]"
      ]
     },
     "metadata": {},
     "output_type": "display_data"
    },
    {
     "name": "stdout",
     "output_type": "stream",
     "text": [
      "Predicted in 116.4782 s\n",
      "Iters. done: 387 Current cost: 0.07028849565856943 Accuracy: 0.2229780686973457 Time: 137.83871653676033\n"
     ]
    },
    {
     "data": {
      "application/vnd.jupyter.widget-view+json": {
       "model_id": "4fe0a562fffe4d2b8e6251e2b1693c3e",
       "version_major": 2,
       "version_minor": 0
      },
      "text/plain": [
       "Mappings: 0it [00:00, ?it/s]"
      ]
     },
     "metadata": {},
     "output_type": "display_data"
    },
    {
     "name": "stdout",
     "output_type": "stream",
     "text": [
      "Submitted to device in 20.3532 s\n"
     ]
    },
    {
     "data": {
      "application/vnd.jupyter.widget-view+json": {
       "model_id": "95b817fe39bb48b6bb19ab9355cfa300",
       "version_major": 2,
       "version_minor": 0
      },
      "text/plain": [
       "Running batch:   0%|          | 0/1 [00:00<?, ?it/s]"
      ]
     },
     "metadata": {},
     "output_type": "display_data"
    },
    {
     "name": "stdout",
     "output_type": "stream",
     "text": [
      "Predicted in 116.3326 s\n",
      "Iters. done: 388 Current cost: 0.07120061937458197 Accuracy: 0.21289476666103857 Time: 136.78231385722756\n"
     ]
    },
    {
     "data": {
      "application/vnd.jupyter.widget-view+json": {
       "model_id": "b83489ea7425437a9f428cfd69cb3ca0",
       "version_major": 2,
       "version_minor": 0
      },
      "text/plain": [
       "Mappings: 0it [00:00, ?it/s]"
      ]
     },
     "metadata": {},
     "output_type": "display_data"
    },
    {
     "name": "stdout",
     "output_type": "stream",
     "text": [
      "Submitted to device in 24.4171 s\n"
     ]
    },
    {
     "data": {
      "application/vnd.jupyter.widget-view+json": {
       "model_id": "38dcc7a225e54853ae3e3be7a55de2d6",
       "version_major": 2,
       "version_minor": 0
      },
      "text/plain": [
       "Running batch:   0%|          | 0/1 [00:00<?, ?it/s]"
      ]
     },
     "metadata": {},
     "output_type": "display_data"
    },
    {
     "name": "stdout",
     "output_type": "stream",
     "text": [
      "Predicted in 114.1280 s\n",
      "Iters. done: 389 Current cost: 0.0720002540786829 Accuracy: 0.20405500282350686 Time: 138.63538593053818\n"
     ]
    },
    {
     "data": {
      "application/vnd.jupyter.widget-view+json": {
       "model_id": "209d2997647e4a95bd6581768a3af468",
       "version_major": 2,
       "version_minor": 0
      },
      "text/plain": [
       "Mappings: 0it [00:00, ?it/s]"
      ]
     },
     "metadata": {},
     "output_type": "display_data"
    },
    {
     "name": "stdout",
     "output_type": "stream",
     "text": [
      "Submitted to device in 18.1317 s\n"
     ]
    },
    {
     "data": {
      "application/vnd.jupyter.widget-view+json": {
       "model_id": "bc74c1bac4964a2f88b87b7e0b359936",
       "version_major": 2,
       "version_minor": 0
      },
      "text/plain": [
       "Running batch:   0%|          | 0/1 [00:00<?, ?it/s]"
      ]
     },
     "metadata": {},
     "output_type": "display_data"
    },
    {
     "name": "stdout",
     "output_type": "stream",
     "text": [
      "Predicted in 117.5926 s\n",
      "Iters. done: 390 Current cost: 0.06836329560949755 Accuracy: 0.24426067897741666 Time: 135.80561077222228\n"
     ]
    },
    {
     "data": {
      "application/vnd.jupyter.widget-view+json": {
       "model_id": "c93987df8d1040a780d4a375cb75f3a7",
       "version_major": 2,
       "version_minor": 0
      },
      "text/plain": [
       "Mappings: 0it [00:00, ?it/s]"
      ]
     },
     "metadata": {},
     "output_type": "display_data"
    },
    {
     "name": "stdout",
     "output_type": "stream",
     "text": [
      "Submitted to device in 20.9965 s\n"
     ]
    },
    {
     "data": {
      "application/vnd.jupyter.widget-view+json": {
       "model_id": "43edba8276aa4cbe8662988a921f6e86",
       "version_major": 2,
       "version_minor": 0
      },
      "text/plain": [
       "Running batch:   0%|          | 0/1 [00:00<?, ?it/s]"
      ]
     },
     "metadata": {},
     "output_type": "display_data"
    },
    {
     "name": "stdout",
     "output_type": "stream",
     "text": [
      "Predicted in 138.5762 s\n",
      "Iters. done: 391 Current cost: 0.06871949739876686 Accuracy: 0.24032295631543288 Time: 159.66776985302567\n"
     ]
    },
    {
     "data": {
      "application/vnd.jupyter.widget-view+json": {
       "model_id": "c1da2b98faa2439594f5847fb2ec5802",
       "version_major": 2,
       "version_minor": 0
      },
      "text/plain": [
       "Mappings: 0it [00:00, ?it/s]"
      ]
     },
     "metadata": {},
     "output_type": "display_data"
    },
    {
     "name": "stdout",
     "output_type": "stream",
     "text": [
      "Submitted to device in 19.3688 s\n"
     ]
    },
    {
     "data": {
      "application/vnd.jupyter.widget-view+json": {
       "model_id": "b56ba89ecd21493f9933d491fafc63f5",
       "version_major": 2,
       "version_minor": 0
      },
      "text/plain": [
       "Running batch:   0%|          | 0/1 [00:00<?, ?it/s]"
      ]
     },
     "metadata": {},
     "output_type": "display_data"
    },
    {
     "name": "stdout",
     "output_type": "stream",
     "text": [
      "Predicted in 116.8133 s\n",
      "Iters. done: 392 Current cost: 0.0694300415970682 Accuracy: 0.2324680659800087 Time: 136.2843407690525\n"
     ]
    },
    {
     "data": {
      "application/vnd.jupyter.widget-view+json": {
       "model_id": "0436aa68e5024aeab289a6b6fe82d616",
       "version_major": 2,
       "version_minor": 0
      },
      "text/plain": [
       "Mappings: 0it [00:00, ?it/s]"
      ]
     },
     "metadata": {},
     "output_type": "display_data"
    },
    {
     "name": "stdout",
     "output_type": "stream",
     "text": [
      "Submitted to device in 16.8229 s\n"
     ]
    },
    {
     "data": {
      "application/vnd.jupyter.widget-view+json": {
       "model_id": "f5ff2e8162134019a79e67d716c3c408",
       "version_major": 2,
       "version_minor": 0
      },
      "text/plain": [
       "Running batch:   0%|          | 0/1 [00:00<?, ?it/s]"
      ]
     },
     "metadata": {},
     "output_type": "display_data"
    },
    {
     "name": "stdout",
     "output_type": "stream",
     "text": [
      "Predicted in 117.7480 s\n",
      "Iters. done: 393 Current cost: 0.06985837851328529 Accuracy: 0.2277329073346458 Time: 134.66125040873885\n"
     ]
    },
    {
     "data": {
      "application/vnd.jupyter.widget-view+json": {
       "model_id": "a28442f85a9d40a2a631a7a45797a99b",
       "version_major": 2,
       "version_minor": 0
      },
      "text/plain": [
       "Mappings: 0it [00:00, ?it/s]"
      ]
     },
     "metadata": {},
     "output_type": "display_data"
    },
    {
     "name": "stdout",
     "output_type": "stream",
     "text": [
      "Submitted to device in 20.8683 s\n"
     ]
    },
    {
     "data": {
      "application/vnd.jupyter.widget-view+json": {
       "model_id": "eea69839e198445b9f3a0ab1c25631eb",
       "version_major": 2,
       "version_minor": 0
      },
      "text/plain": [
       "Running batch:   0%|          | 0/1 [00:00<?, ?it/s]"
      ]
     },
     "metadata": {},
     "output_type": "display_data"
    },
    {
     "name": "stdout",
     "output_type": "stream",
     "text": [
      "Predicted in 115.6043 s\n",
      "Iters. done: 394 Current cost: 0.06924410835639727 Accuracy: 0.2345235119588397 Time: 136.56311678886414\n"
     ]
    },
    {
     "data": {
      "application/vnd.jupyter.widget-view+json": {
       "model_id": "9df4be84a8d14618b589e183cde0ea23",
       "version_major": 2,
       "version_minor": 0
      },
      "text/plain": [
       "Mappings: 0it [00:00, ?it/s]"
      ]
     },
     "metadata": {},
     "output_type": "display_data"
    },
    {
     "name": "stdout",
     "output_type": "stream",
     "text": [
      "Submitted to device in 19.9589 s\n"
     ]
    },
    {
     "data": {
      "application/vnd.jupyter.widget-view+json": {
       "model_id": "f6552fb2b4f94daa8437da6021e3c8de",
       "version_major": 2,
       "version_minor": 0
      },
      "text/plain": [
       "Running batch:   0%|          | 0/1 [00:00<?, ?it/s]"
      ]
     },
     "metadata": {},
     "output_type": "display_data"
    },
    {
     "name": "stdout",
     "output_type": "stream",
     "text": [
      "Predicted in 133.7467 s\n",
      "Iters. done: 395 Current cost: 0.0699190767359276 Accuracy: 0.2270619034990642 Time: 153.7991322092712\n"
     ]
    },
    {
     "data": {
      "application/vnd.jupyter.widget-view+json": {
       "model_id": "a89b313fab4043078e388f74f51fd9e6",
       "version_major": 2,
       "version_minor": 0
      },
      "text/plain": [
       "Mappings: 0it [00:00, ?it/s]"
      ]
     },
     "metadata": {},
     "output_type": "display_data"
    },
    {
     "name": "stdout",
     "output_type": "stream",
     "text": [
      "Submitted to device in 19.5463 s\n"
     ]
    },
    {
     "data": {
      "application/vnd.jupyter.widget-view+json": {
       "model_id": "c80eaa077ec94f378add7a0319e587f3",
       "version_major": 2,
       "version_minor": 0
      },
      "text/plain": [
       "Running batch:   0%|          | 0/1 [00:00<?, ?it/s]"
      ]
     },
     "metadata": {},
     "output_type": "display_data"
    },
    {
     "name": "stdout",
     "output_type": "stream",
     "text": [
      "Predicted in 126.5603 s\n",
      "Iters. done: 396 Current cost: 0.0668246476785361 Accuracy: 0.261270051218331 Time: 146.20697241276503\n"
     ]
    },
    {
     "data": {
      "application/vnd.jupyter.widget-view+json": {
       "model_id": "7521c4421b9e44ed8fa6a235fff0b8b8",
       "version_major": 2,
       "version_minor": 0
      },
      "text/plain": [
       "Mappings: 0it [00:00, ?it/s]"
      ]
     },
     "metadata": {},
     "output_type": "display_data"
    },
    {
     "name": "stdout",
     "output_type": "stream",
     "text": [
      "Submitted to device in 18.7786 s\n"
     ]
    },
    {
     "data": {
      "application/vnd.jupyter.widget-view+json": {
       "model_id": "9f0edf8f14f24ae7bc84284da0c911b8",
       "version_major": 2,
       "version_minor": 0
      },
      "text/plain": [
       "Running batch:   0%|          | 0/1 [00:00<?, ?it/s]"
      ]
     },
     "metadata": {},
     "output_type": "display_data"
    },
    {
     "name": "stdout",
     "output_type": "stream",
     "text": [
      "Predicted in 225.8685 s\n",
      "Iters. done: 397 Current cost: 0.06734227902342907 Accuracy: 0.2555477647539104 Time: 244.73155549541116\n"
     ]
    },
    {
     "data": {
      "application/vnd.jupyter.widget-view+json": {
       "model_id": "b447b8f69048443db40943baab3c9177",
       "version_major": 2,
       "version_minor": 0
      },
      "text/plain": [
       "Mappings: 0it [00:00, ?it/s]"
      ]
     },
     "metadata": {},
     "output_type": "display_data"
    },
    {
     "name": "stdout",
     "output_type": "stream",
     "text": [
      "Submitted to device in 20.4319 s\n"
     ]
    },
    {
     "data": {
      "application/vnd.jupyter.widget-view+json": {
       "model_id": "06c13e1e62654cbb8be6a9b412d0b218",
       "version_major": 2,
       "version_minor": 0
      },
      "text/plain": [
       "Running batch:   0%|          | 0/1 [00:00<?, ?it/s]"
      ]
     },
     "metadata": {},
     "output_type": "display_data"
    },
    {
     "name": "stdout",
     "output_type": "stream",
     "text": [
      "Predicted in 273.6211 s\n",
      "Iters. done: 398 Current cost: 0.06858081503255313 Accuracy: 0.2418560555662187 Time: 294.1383594535291\n"
     ]
    },
    {
     "data": {
      "application/vnd.jupyter.widget-view+json": {
       "model_id": "7a352740c2f2408983832a2df30483d2",
       "version_major": 2,
       "version_minor": 0
      },
      "text/plain": [
       "Mappings: 0it [00:00, ?it/s]"
      ]
     },
     "metadata": {},
     "output_type": "display_data"
    },
    {
     "name": "stdout",
     "output_type": "stream",
     "text": [
      "Submitted to device in 18.0157 s\n"
     ]
    },
    {
     "data": {
      "application/vnd.jupyter.widget-view+json": {
       "model_id": "2195e91a24d5418387ca21538a24c3df",
       "version_major": 2,
       "version_minor": 0
      },
      "text/plain": [
       "Running batch:   0%|          | 0/1 [00:00<?, ?it/s]"
      ]
     },
     "metadata": {},
     "output_type": "display_data"
    },
    {
     "name": "stdout",
     "output_type": "stream",
     "text": [
      "Predicted in 280.7493 s\n",
      "Iters. done: 399 Current cost: 0.07181925030866422 Accuracy: 0.20605595472374605 Time: 298.8606710322201\n"
     ]
    },
    {
     "data": {
      "application/vnd.jupyter.widget-view+json": {
       "model_id": "522b765e526549c090bdc850a0e531b0",
       "version_major": 2,
       "version_minor": 0
      },
      "text/plain": [
       "Mappings: 0it [00:00, ?it/s]"
      ]
     },
     "metadata": {},
     "output_type": "display_data"
    },
    {
     "name": "stdout",
     "output_type": "stream",
     "text": [
      "Submitted to device in 18.5121 s\n"
     ]
    },
    {
     "data": {
      "application/vnd.jupyter.widget-view+json": {
       "model_id": "bf853a91b829437a91d64f3c3459cd84",
       "version_major": 2,
       "version_minor": 0
      },
      "text/plain": [
       "Running batch:   0%|          | 0/1 [00:00<?, ?it/s]"
      ]
     },
     "metadata": {},
     "output_type": "display_data"
    },
    {
     "name": "stdout",
     "output_type": "stream",
     "text": [
      "Predicted in 143.2107 s\n",
      "Iters. done: 400 Current cost: 0.07171747313728431 Accuracy: 0.2071810761753744 Time: 162.32560378313065\n"
     ]
    },
    {
     "data": {
      "application/vnd.jupyter.widget-view+json": {
       "model_id": "ca52adec510a4379a4aaa864b7db1e68",
       "version_major": 2,
       "version_minor": 0
      },
      "text/plain": [
       "Mappings: 0it [00:00, ?it/s]"
      ]
     },
     "metadata": {},
     "output_type": "display_data"
    },
    {
     "name": "stdout",
     "output_type": "stream",
     "text": [
      "Submitted to device in 21.9334 s\n"
     ]
    },
    {
     "data": {
      "application/vnd.jupyter.widget-view+json": {
       "model_id": "f6a457d5fcb942c7808bba16159e1077",
       "version_major": 2,
       "version_minor": 0
      },
      "text/plain": [
       "Running batch:   0%|          | 0/1 [00:00<?, ?it/s]"
      ]
     },
     "metadata": {},
     "output_type": "display_data"
    },
    {
     "name": "stdout",
     "output_type": "stream",
     "text": [
      "Predicted in 117.6086 s\n",
      "Iters. done: 401 Current cost: 0.06891872545289042 Accuracy: 0.23812053946279843 Time: 139.63208907842636\n"
     ]
    },
    {
     "data": {
      "application/vnd.jupyter.widget-view+json": {
       "model_id": "2aea72dd0ad9470e9bab0f85f3cb7a3a",
       "version_major": 2,
       "version_minor": 0
      },
      "text/plain": [
       "Mappings: 0it [00:00, ?it/s]"
      ]
     },
     "metadata": {},
     "output_type": "display_data"
    },
    {
     "name": "stdout",
     "output_type": "stream",
     "text": [
      "Submitted to device in 21.7485 s\n"
     ]
    },
    {
     "data": {
      "application/vnd.jupyter.widget-view+json": {
       "model_id": "aee81dfb96ea4caa9cad70fbcb14e9ef",
       "version_major": 2,
       "version_minor": 0
      },
      "text/plain": [
       "Running batch:   0%|          | 0/1 [00:00<?, ?it/s]"
      ]
     },
     "metadata": {},
     "output_type": "display_data"
    },
    {
     "name": "stdout",
     "output_type": "stream",
     "text": [
      "Predicted in 115.1727 s\n",
      "Iters. done: 402 Current cost: 0.07052668247944396 Accuracy: 0.220344972316029 Time: 137.01054433733225\n"
     ]
    },
    {
     "data": {
      "application/vnd.jupyter.widget-view+json": {
       "model_id": "cf5d5b994bba49c6af6ab2d133a272b8",
       "version_major": 2,
       "version_minor": 0
      },
      "text/plain": [
       "Mappings: 0it [00:00, ?it/s]"
      ]
     },
     "metadata": {},
     "output_type": "display_data"
    },
    {
     "name": "stdout",
     "output_type": "stream",
     "text": [
      "Submitted to device in 16.3744 s\n"
     ]
    },
    {
     "data": {
      "application/vnd.jupyter.widget-view+json": {
       "model_id": "25227fbfe7524f879600de93befc5853",
       "version_major": 2,
       "version_minor": 0
      },
      "text/plain": [
       "Running batch:   0%|          | 0/1 [00:00<?, ?it/s]"
      ]
     },
     "metadata": {},
     "output_type": "display_data"
    },
    {
     "name": "stdout",
     "output_type": "stream",
     "text": [
      "Predicted in 117.6382 s\n",
      "Iters. done: 403 Current cost: 0.07033254942651535 Accuracy: 0.2224910651908718 Time: 134.50262939184904\n"
     ]
    },
    {
     "data": {
      "application/vnd.jupyter.widget-view+json": {
       "model_id": "771f5d1356564ec4975d1a861c214351",
       "version_major": 2,
       "version_minor": 0
      },
      "text/plain": [
       "Mappings: 0it [00:00, ?it/s]"
      ]
     },
     "metadata": {},
     "output_type": "display_data"
    },
    {
     "name": "stdout",
     "output_type": "stream",
     "text": [
      "Submitted to device in 17.4738 s\n"
     ]
    },
    {
     "data": {
      "application/vnd.jupyter.widget-view+json": {
       "model_id": "f173ba04c62446e483c7ab32b87de505",
       "version_major": 2,
       "version_minor": 0
      },
      "text/plain": [
       "Running batch:   0%|          | 0/1 [00:00<?, ?it/s]"
      ]
     },
     "metadata": {},
     "output_type": "display_data"
    },
    {
     "name": "stdout",
     "output_type": "stream",
     "text": [
      "Predicted in 119.6620 s\n",
      "Iters. done: 404 Current cost: 0.06920477763289884 Accuracy: 0.23495830337734913 Time: 137.23328705132008\n"
     ]
    },
    {
     "data": {
      "application/vnd.jupyter.widget-view+json": {
       "model_id": "d08217ce62f242f38db08a4968dea7fb",
       "version_major": 2,
       "version_minor": 0
      },
      "text/plain": [
       "Mappings: 0it [00:00, ?it/s]"
      ]
     },
     "metadata": {},
     "output_type": "display_data"
    },
    {
     "name": "stdout",
     "output_type": "stream",
     "text": [
      "Submitted to device in 19.3013 s\n"
     ]
    },
    {
     "data": {
      "application/vnd.jupyter.widget-view+json": {
       "model_id": "19de0a35462b43bc89b419e69c4175db",
       "version_major": 2,
       "version_minor": 0
      },
      "text/plain": [
       "Running batch:   0%|          | 0/1 [00:00<?, ?it/s]"
      ]
     },
     "metadata": {},
     "output_type": "display_data"
    },
    {
     "name": "stdout",
     "output_type": "stream",
     "text": [
      "Predicted in 116.1454 s\n",
      "Iters. done: 405 Current cost: 0.06914002042700906 Accuracy: 0.2356741782686067 Time: 135.54104234278202\n"
     ]
    },
    {
     "data": {
      "application/vnd.jupyter.widget-view+json": {
       "model_id": "c9f9df7523c14f37a46a488243a32815",
       "version_major": 2,
       "version_minor": 0
      },
      "text/plain": [
       "Mappings: 0it [00:00, ?it/s]"
      ]
     },
     "metadata": {},
     "output_type": "display_data"
    },
    {
     "name": "stdout",
     "output_type": "stream",
     "text": [
      "Submitted to device in 21.1744 s\n"
     ]
    },
    {
     "data": {
      "application/vnd.jupyter.widget-view+json": {
       "model_id": "6339d741c9a64e67bfd7e099c76379e0",
       "version_major": 2,
       "version_minor": 0
      },
      "text/plain": [
       "Running batch:   0%|          | 0/1 [00:00<?, ?it/s]"
      ]
     },
     "metadata": {},
     "output_type": "display_data"
    },
    {
     "name": "stdout",
     "output_type": "stream",
     "text": [
      "Predicted in 114.1035 s\n",
      "Iters. done: 406 Current cost: 0.07049361670943619 Accuracy: 0.22071050622354438 Time: 135.359087433666\n"
     ]
    },
    {
     "data": {
      "application/vnd.jupyter.widget-view+json": {
       "model_id": "a394022eaeb043ed892137e331fd998b",
       "version_major": 2,
       "version_minor": 0
      },
      "text/plain": [
       "Mappings: 0it [00:00, ?it/s]"
      ]
     },
     "metadata": {},
     "output_type": "display_data"
    },
    {
     "name": "stdout",
     "output_type": "stream",
     "text": [
      "Submitted to device in 23.3145 s\n"
     ]
    },
    {
     "data": {
      "application/vnd.jupyter.widget-view+json": {
       "model_id": "79741a7e563e4783b75042f2f2db0815",
       "version_major": 2,
       "version_minor": 0
      },
      "text/plain": [
       "Running batch:   0%|          | 0/1 [00:00<?, ?it/s]"
      ]
     },
     "metadata": {},
     "output_type": "display_data"
    },
    {
     "name": "stdout",
     "output_type": "stream",
     "text": [
      "Predicted in 112.8966 s\n",
      "Iters. done: 407 Current cost: 0.06926539292764917 Accuracy: 0.23428821628909824 Time: 136.28250371664762\n"
     ]
    },
    {
     "data": {
      "application/vnd.jupyter.widget-view+json": {
       "model_id": "e5f773c7d71c4d4fbf7777f5ca230322",
       "version_major": 2,
       "version_minor": 0
      },
      "text/plain": [
       "Mappings: 0it [00:00, ?it/s]"
      ]
     },
     "metadata": {},
     "output_type": "display_data"
    },
    {
     "name": "stdout",
     "output_type": "stream",
     "text": [
      "Submitted to device in 18.6056 s\n"
     ]
    },
    {
     "data": {
      "application/vnd.jupyter.widget-view+json": {
       "model_id": "632cea70aa4640e2b338251286612c8d",
       "version_major": 2,
       "version_minor": 0
      },
      "text/plain": [
       "Running batch:   0%|          | 0/1 [00:00<?, ?it/s]"
      ]
     },
     "metadata": {},
     "output_type": "display_data"
    },
    {
     "name": "stdout",
     "output_type": "stream",
     "text": [
      "Predicted in 117.0708 s\n",
      "Iters. done: 408 Current cost: 0.06912218219871467 Accuracy: 0.23587137546952064 Time: 135.75009483471513\n"
     ]
    },
    {
     "data": {
      "application/vnd.jupyter.widget-view+json": {
       "model_id": "33bb15ab7db6425680505cb829b91a82",
       "version_major": 2,
       "version_minor": 0
      },
      "text/plain": [
       "Mappings: 0it [00:00, ?it/s]"
      ]
     },
     "metadata": {},
     "output_type": "display_data"
    },
    {
     "name": "stdout",
     "output_type": "stream",
     "text": [
      "Submitted to device in 18.2084 s\n"
     ]
    },
    {
     "data": {
      "application/vnd.jupyter.widget-view+json": {
       "model_id": "8d44427b3f6443d381c067eedca85d0d",
       "version_major": 2,
       "version_minor": 0
      },
      "text/plain": [
       "Running batch:   0%|          | 0/1 [00:00<?, ?it/s]"
      ]
     },
     "metadata": {},
     "output_type": "display_data"
    },
    {
     "name": "stdout",
     "output_type": "stream",
     "text": [
      "Predicted in 117.4178 s\n",
      "Iters. done: 409 Current cost: 0.06967352781395485 Accuracy: 0.22977638608676043 Time: 135.716257289052\n"
     ]
    },
    {
     "data": {
      "application/vnd.jupyter.widget-view+json": {
       "model_id": "234fd1dafb18492795d0819727d5585c",
       "version_major": 2,
       "version_minor": 0
      },
      "text/plain": [
       "Mappings: 0it [00:00, ?it/s]"
      ]
     },
     "metadata": {},
     "output_type": "display_data"
    },
    {
     "name": "stdout",
     "output_type": "stream",
     "text": [
      "Submitted to device in 21.2866 s\n"
     ]
    },
    {
     "data": {
      "application/vnd.jupyter.widget-view+json": {
       "model_id": "0a22f6d20fea474cb44f152299d02099",
       "version_major": 2,
       "version_minor": 0
      },
      "text/plain": [
       "Running batch:   0%|          | 0/1 [00:00<?, ?it/s]"
      ]
     },
     "metadata": {},
     "output_type": "display_data"
    },
    {
     "name": "stdout",
     "output_type": "stream",
     "text": [
      "Predicted in 114.4873 s\n",
      "Iters. done: 410 Current cost: 0.07000038118266025 Accuracy: 0.22616310295380027 Time: 135.85689808055758\n"
     ]
    },
    {
     "data": {
      "application/vnd.jupyter.widget-view+json": {
       "model_id": "e42ca3479b354f97b1743944aa07d3b8",
       "version_major": 2,
       "version_minor": 0
      },
      "text/plain": [
       "Mappings: 0it [00:00, ?it/s]"
      ]
     },
     "metadata": {},
     "output_type": "display_data"
    },
    {
     "name": "stdout",
     "output_type": "stream",
     "text": [
      "Submitted to device in 21.7624 s\n"
     ]
    },
    {
     "data": {
      "application/vnd.jupyter.widget-view+json": {
       "model_id": "54c5ad85055e405280606d6815b05523",
       "version_major": 2,
       "version_minor": 0
      },
      "text/plain": [
       "Running batch:   0%|          | 0/1 [00:00<?, ?it/s]"
      ]
     },
     "metadata": {},
     "output_type": "display_data"
    },
    {
     "name": "stdout",
     "output_type": "stream",
     "text": [
      "Predicted in 114.7551 s\n",
      "Iters. done: 411 Current cost: 0.06993302848853772 Accuracy: 0.2269076703253904 Time: 136.60689699277282\n"
     ]
    },
    {
     "data": {
      "application/vnd.jupyter.widget-view+json": {
       "model_id": "e669b94829fc43d0b5dcc1c55b6c2c11",
       "version_major": 2,
       "version_minor": 0
      },
      "text/plain": [
       "Mappings: 0it [00:00, ?it/s]"
      ]
     },
     "metadata": {},
     "output_type": "display_data"
    },
    {
     "name": "stdout",
     "output_type": "stream",
     "text": [
      "Submitted to device in 20.0237 s\n"
     ]
    },
    {
     "data": {
      "application/vnd.jupyter.widget-view+json": {
       "model_id": "72d1ebb429784e47a23b48c5a5a63cf8",
       "version_major": 2,
       "version_minor": 0
      },
      "text/plain": [
       "Running batch:   0%|          | 0/1 [00:00<?, ?it/s]"
      ]
     },
     "metadata": {},
     "output_type": "display_data"
    },
    {
     "name": "stdout",
     "output_type": "stream",
     "text": [
      "Predicted in 120.3601 s\n",
      "Iters. done: 412 Current cost: 0.07138803783601128 Accuracy: 0.21082290193414255 Time: 140.47310055047274\n"
     ]
    },
    {
     "data": {
      "application/vnd.jupyter.widget-view+json": {
       "model_id": "c9a20f78ab454dd8b61c3c270f6114d7",
       "version_major": 2,
       "version_minor": 0
      },
      "text/plain": [
       "Mappings: 0it [00:00, ?it/s]"
      ]
     },
     "metadata": {},
     "output_type": "display_data"
    },
    {
     "name": "stdout",
     "output_type": "stream",
     "text": [
      "Submitted to device in 17.3893 s\n"
     ]
    },
    {
     "data": {
      "application/vnd.jupyter.widget-view+json": {
       "model_id": "dfc70b94cb274a5f83d1800a861829a2",
       "version_major": 2,
       "version_minor": 0
      },
      "text/plain": [
       "Running batch:   0%|          | 0/1 [00:00<?, ?it/s]"
      ]
     },
     "metadata": {},
     "output_type": "display_data"
    },
    {
     "name": "stdout",
     "output_type": "stream",
     "text": [
      "Predicted in 152.2142 s\n",
      "Iters. done: 413 Current cost: 0.07033032491809285 Accuracy: 0.22251565658117622 Time: 169.69481445103884\n"
     ]
    },
    {
     "data": {
      "application/vnd.jupyter.widget-view+json": {
       "model_id": "86c6fb8b227f4db2abf313d14bc47522",
       "version_major": 2,
       "version_minor": 0
      },
      "text/plain": [
       "Mappings: 0it [00:00, ?it/s]"
      ]
     },
     "metadata": {},
     "output_type": "display_data"
    },
    {
     "name": "stdout",
     "output_type": "stream",
     "text": [
      "Submitted to device in 16.9721 s\n"
     ]
    },
    {
     "data": {
      "application/vnd.jupyter.widget-view+json": {
       "model_id": "e9b3bf8f90c94bd28b9f2919c9b9d4a1",
       "version_major": 2,
       "version_minor": 0
      },
      "text/plain": [
       "Running batch:   0%|          | 0/1 [00:00<?, ?it/s]"
      ]
     },
     "metadata": {},
     "output_type": "display_data"
    },
    {
     "name": "stdout",
     "output_type": "stream",
     "text": [
      "Predicted in 117.6045 s\n",
      "Iters. done: 414 Current cost: 0.07052210704638576 Accuracy: 0.2203955525966016 Time: 134.67204175144434\n"
     ]
    },
    {
     "data": {
      "application/vnd.jupyter.widget-view+json": {
       "model_id": "9b83fe4566694756a5164285cdb9373d",
       "version_major": 2,
       "version_minor": 0
      },
      "text/plain": [
       "Mappings: 0it [00:00, ?it/s]"
      ]
     },
     "metadata": {},
     "output_type": "display_data"
    },
    {
     "name": "stdout",
     "output_type": "stream",
     "text": [
      "Submitted to device in 21.2236 s\n"
     ]
    },
    {
     "data": {
      "application/vnd.jupyter.widget-view+json": {
       "model_id": "79e4ae55bc40433aae3a8f2627181b31",
       "version_major": 2,
       "version_minor": 0
      },
      "text/plain": [
       "Running batch:   0%|          | 0/1 [00:00<?, ?it/s]"
      ]
     },
     "metadata": {},
     "output_type": "display_data"
    },
    {
     "name": "stdout",
     "output_type": "stream",
     "text": [
      "Predicted in 117.6133 s\n",
      "Iters. done: 415 Current cost: 0.07136921483488778 Accuracy: 0.21103098555506583 Time: 138.9250113517046\n"
     ]
    },
    {
     "data": {
      "application/vnd.jupyter.widget-view+json": {
       "model_id": "b58f8bef96094505a6a99add3f5e0f81",
       "version_major": 2,
       "version_minor": 0
      },
      "text/plain": [
       "Mappings: 0it [00:00, ?it/s]"
      ]
     },
     "metadata": {},
     "output_type": "display_data"
    },
    {
     "name": "stdout",
     "output_type": "stream",
     "text": [
      "Submitted to device in 18.0352 s\n"
     ]
    },
    {
     "data": {
      "application/vnd.jupyter.widget-view+json": {
       "model_id": "581423056340420e8124e212900ffee4",
       "version_major": 2,
       "version_minor": 0
      },
      "text/plain": [
       "Running batch:   0%|          | 0/1 [00:00<?, ?it/s]"
      ]
     },
     "metadata": {},
     "output_type": "display_data"
    },
    {
     "name": "stdout",
     "output_type": "stream",
     "text": [
      "Predicted in 117.7172 s\n",
      "Iters. done: 416 Current cost: 0.07078127683561097 Accuracy: 0.21753049469100494 Time: 135.85330091789365\n"
     ]
    },
    {
     "data": {
      "application/vnd.jupyter.widget-view+json": {
       "model_id": "b386316914e74c7199f154385be1f8dc",
       "version_major": 2,
       "version_minor": 0
      },
      "text/plain": [
       "Mappings: 0it [00:00, ?it/s]"
      ]
     },
     "metadata": {},
     "output_type": "display_data"
    },
    {
     "name": "stdout",
     "output_type": "stream",
     "text": [
      "Submitted to device in 21.2210 s\n"
     ]
    },
    {
     "data": {
      "application/vnd.jupyter.widget-view+json": {
       "model_id": "bffd4294e525496c9326ea6159a3d281",
       "version_major": 2,
       "version_minor": 0
      },
      "text/plain": [
       "Running batch:   0%|          | 0/1 [00:00<?, ?it/s]"
      ]
     },
     "metadata": {},
     "output_type": "display_data"
    },
    {
     "name": "stdout",
     "output_type": "stream",
     "text": [
      "Predicted in 115.7313 s\n",
      "Iters. done: 417 Current cost: 0.07208810207581832 Accuracy: 0.20308386494730557 Time: 137.03915701434016\n"
     ]
    },
    {
     "data": {
      "application/vnd.jupyter.widget-view+json": {
       "model_id": "90cba3e77c4e41129a0e1984bd92d69f",
       "version_major": 2,
       "version_minor": 0
      },
      "text/plain": [
       "Mappings: 0it [00:00, ?it/s]"
      ]
     },
     "metadata": {},
     "output_type": "display_data"
    },
    {
     "name": "stdout",
     "output_type": "stream",
     "text": [
      "Submitted to device in 21.7576 s\n"
     ]
    },
    {
     "data": {
      "application/vnd.jupyter.widget-view+json": {
       "model_id": "b9657b335d0f48ffae0e54b66ebff071",
       "version_major": 2,
       "version_minor": 0
      },
      "text/plain": [
       "Running batch:   0%|          | 0/1 [00:00<?, ?it/s]"
      ]
     },
     "metadata": {},
     "output_type": "display_data"
    },
    {
     "name": "stdout",
     "output_type": "stream",
     "text": [
      "Predicted in 126.1671 s\n",
      "Iters. done: 418 Current cost: 0.07244496204996406 Accuracy: 0.19913886621433685 Time: 148.0115967579186\n"
     ]
    },
    {
     "data": {
      "application/vnd.jupyter.widget-view+json": {
       "model_id": "a116d8f639ac4b72959dc00a6e6ff74f",
       "version_major": 2,
       "version_minor": 0
      },
      "text/plain": [
       "Mappings: 0it [00:00, ?it/s]"
      ]
     },
     "metadata": {},
     "output_type": "display_data"
    },
    {
     "name": "stderr",
     "output_type": "stream",
     "text": [
      "/home/ubuntu/miniconda3/envs/qml/lib/python3.11/site-packages/qiskit_ibm_runtime/qiskit_runtime_service.py:874: UserWarning: The backend ibm_quebec currently has a status of internal.\n",
      "  warnings.warn(\n"
     ]
    },
    {
     "name": "stdout",
     "output_type": "stream",
     "text": [
      "Submitted to device in 16.9576 s\n"
     ]
    },
    {
     "data": {
      "application/vnd.jupyter.widget-view+json": {
       "model_id": "aa6907519d054f74b0c4572c96dcfb40",
       "version_major": 2,
       "version_minor": 0
      },
      "text/plain": [
       "Running batch:   0%|          | 0/1 [00:00<?, ?it/s]"
      ]
     },
     "metadata": {},
     "output_type": "display_data"
    },
    {
     "name": "stdout",
     "output_type": "stream",
     "text": [
      "Predicted in 339.7780 s\n",
      "Iters. done: 419 Current cost: 0.07218337505054423 Accuracy: 0.20203064578065744 Time: 356.82323069497943\n"
     ]
    },
    {
     "data": {
      "application/vnd.jupyter.widget-view+json": {
       "model_id": "c5c7e00af4c640a28798624c0d89b694",
       "version_major": 2,
       "version_minor": 0
      },
      "text/plain": [
       "Mappings: 0it [00:00, ?it/s]"
      ]
     },
     "metadata": {},
     "output_type": "display_data"
    },
    {
     "name": "stderr",
     "output_type": "stream",
     "text": [
      "/home/ubuntu/miniconda3/envs/qml/lib/python3.11/site-packages/qiskit_ibm_runtime/qiskit_runtime_service.py:874: UserWarning: The backend ibm_quebec currently has a status of internal.\n",
      "  warnings.warn(\n"
     ]
    },
    {
     "name": "stdout",
     "output_type": "stream",
     "text": [
      "Submitted to device in 18.4856 s\n"
     ]
    },
    {
     "data": {
      "application/vnd.jupyter.widget-view+json": {
       "model_id": "ba30e1f517024462a162ea43f20127c0",
       "version_major": 2,
       "version_minor": 0
      },
      "text/plain": [
       "Running batch:   0%|          | 0/1 [00:00<?, ?it/s]"
      ]
     },
     "metadata": {},
     "output_type": "display_data"
    },
    {
     "name": "stdout",
     "output_type": "stream",
     "text": [
      "Predicted in 117.3186 s\n",
      "Iters. done: 420 Current cost: 0.07233184363188475 Accuracy: 0.20038936234259164 Time: 135.90023976564407\n"
     ]
    },
    {
     "data": {
      "application/vnd.jupyter.widget-view+json": {
       "model_id": "d942f6f3ad6a4373bf3a15925d9cf3a5",
       "version_major": 2,
       "version_minor": 0
      },
      "text/plain": [
       "Mappings: 0it [00:00, ?it/s]"
      ]
     },
     "metadata": {},
     "output_type": "display_data"
    },
    {
     "name": "stderr",
     "output_type": "stream",
     "text": [
      "/home/ubuntu/miniconda3/envs/qml/lib/python3.11/site-packages/qiskit_ibm_runtime/qiskit_runtime_service.py:874: UserWarning: The backend ibm_quebec currently has a status of internal.\n",
      "  warnings.warn(\n"
     ]
    },
    {
     "name": "stdout",
     "output_type": "stream",
     "text": [
      "Submitted to device in 20.1650 s\n"
     ]
    },
    {
     "data": {
      "application/vnd.jupyter.widget-view+json": {
       "model_id": "14f89d28df5d4964a6642b8dc9da02e5",
       "version_major": 2,
       "version_minor": 0
      },
      "text/plain": [
       "Running batch:   0%|          | 0/1 [00:00<?, ?it/s]"
      ]
     },
     "metadata": {},
     "output_type": "display_data"
    },
    {
     "name": "stdout",
     "output_type": "stream",
     "text": [
      "Predicted in 115.5432 s\n",
      "Iters. done: 421 Current cost: 0.07388646940498686 Accuracy: 0.18320335900946416 Time: 135.79589222744107\n"
     ]
    },
    {
     "data": {
      "application/vnd.jupyter.widget-view+json": {
       "model_id": "56b406c4b2a44db091eedb568646738c",
       "version_major": 2,
       "version_minor": 0
      },
      "text/plain": [
       "Mappings: 0it [00:00, ?it/s]"
      ]
     },
     "metadata": {},
     "output_type": "display_data"
    },
    {
     "name": "stdout",
     "output_type": "stream",
     "text": [
      "Submitted to device in 19.0958 s\n"
     ]
    },
    {
     "data": {
      "application/vnd.jupyter.widget-view+json": {
       "model_id": "85889a8386bf45599a70fcf06bfb470c",
       "version_major": 2,
       "version_minor": 0
      },
      "text/plain": [
       "Running batch:   0%|          | 0/1 [00:00<?, ?it/s]"
      ]
     },
     "metadata": {},
     "output_type": "display_data"
    },
    {
     "name": "stdout",
     "output_type": "stream",
     "text": [
      "Predicted in 116.5575 s\n",
      "Iters. done: 422 Current cost: 0.0743973434678545 Accuracy: 0.17755577262619449 Time: 135.7489297799766\n"
     ]
    },
    {
     "data": {
      "application/vnd.jupyter.widget-view+json": {
       "model_id": "5c5e6aa8366b4cc88a1bbcd4553b08ae",
       "version_major": 2,
       "version_minor": 0
      },
      "text/plain": [
       "Mappings: 0it [00:00, ?it/s]"
      ]
     },
     "metadata": {},
     "output_type": "display_data"
    },
    {
     "name": "stdout",
     "output_type": "stream",
     "text": [
      "Submitted to device in 18.6066 s\n"
     ]
    },
    {
     "data": {
      "application/vnd.jupyter.widget-view+json": {
       "model_id": "bf8995f6f7634c6e8a5cb998a1545040",
       "version_major": 2,
       "version_minor": 0
      },
      "text/plain": [
       "Running batch:   0%|          | 0/1 [00:00<?, ?it/s]"
      ]
     },
     "metadata": {},
     "output_type": "display_data"
    },
    {
     "name": "stdout",
     "output_type": "stream",
     "text": [
      "Predicted in 117.9696 s\n",
      "Iters. done: 423 Current cost: 0.07263916370657895 Accuracy: 0.19699201494271368 Time: 136.67643459886312\n"
     ]
    },
    {
     "data": {
      "application/vnd.jupyter.widget-view+json": {
       "model_id": "363f056b1e714153a637d68bfd9e3e3b",
       "version_major": 2,
       "version_minor": 0
      },
      "text/plain": [
       "Mappings: 0it [00:00, ?it/s]"
      ]
     },
     "metadata": {},
     "output_type": "display_data"
    },
    {
     "name": "stdout",
     "output_type": "stream",
     "text": [
      "Submitted to device in 19.1929 s\n"
     ]
    },
    {
     "data": {
      "application/vnd.jupyter.widget-view+json": {
       "model_id": "dd920d6f03c748e381d830816234b7c7",
       "version_major": 2,
       "version_minor": 0
      },
      "text/plain": [
       "Running batch:   0%|          | 0/1 [00:00<?, ?it/s]"
      ]
     },
     "metadata": {},
     "output_type": "display_data"
    },
    {
     "name": "stdout",
     "output_type": "stream",
     "text": [
      "Predicted in 117.9409 s\n",
      "Iters. done: 424 Current cost: 0.07421610587594937 Accuracy: 0.17955930936954478 Time: 137.22176282852888\n"
     ]
    },
    {
     "data": {
      "application/vnd.jupyter.widget-view+json": {
       "model_id": "f5458b5c37cf468781dbeb3a31d150a0",
       "version_major": 2,
       "version_minor": 0
      },
      "text/plain": [
       "Mappings: 0it [00:00, ?it/s]"
      ]
     },
     "metadata": {},
     "output_type": "display_data"
    },
    {
     "name": "stdout",
     "output_type": "stream",
     "text": [
      "Submitted to device in 23.5533 s\n"
     ]
    },
    {
     "data": {
      "application/vnd.jupyter.widget-view+json": {
       "model_id": "094ceba271e54cfdb982c3ce671beaf7",
       "version_major": 2,
       "version_minor": 0
      },
      "text/plain": [
       "Running batch:   0%|          | 0/1 [00:00<?, ?it/s]"
      ]
     },
     "metadata": {},
     "output_type": "display_data"
    },
    {
     "name": "stdout",
     "output_type": "stream",
     "text": [
      "Predicted in 116.5111 s\n",
      "Iters. done: 425 Current cost: 0.07401377396854478 Accuracy: 0.1817960385523596 Time: 140.16253570094705\n"
     ]
    },
    {
     "data": {
      "application/vnd.jupyter.widget-view+json": {
       "model_id": "a8315549558e4bd6a9bd5188e0104d98",
       "version_major": 2,
       "version_minor": 0
      },
      "text/plain": [
       "Mappings: 0it [00:00, ?it/s]"
      ]
     },
     "metadata": {},
     "output_type": "display_data"
    },
    {
     "name": "stdout",
     "output_type": "stream",
     "text": [
      "Submitted to device in 19.0438 s\n"
     ]
    },
    {
     "data": {
      "application/vnd.jupyter.widget-view+json": {
       "model_id": "eb7b77b908d64c0699ecae13b1315251",
       "version_major": 2,
       "version_minor": 0
      },
      "text/plain": [
       "Running batch:   0%|          | 0/1 [00:00<?, ?it/s]"
      ]
     },
     "metadata": {},
     "output_type": "display_data"
    },
    {
     "name": "stdout",
     "output_type": "stream",
     "text": [
      "Predicted in 116.5246 s\n",
      "Iters. done: 426 Current cost: 0.07567360731331295 Accuracy: 0.16344699154106435 Time: 135.66348307207227\n"
     ]
    },
    {
     "data": {
      "application/vnd.jupyter.widget-view+json": {
       "model_id": "df159407589b45d888c12cc544cff806",
       "version_major": 2,
       "version_minor": 0
      },
      "text/plain": [
       "Mappings: 0it [00:00, ?it/s]"
      ]
     },
     "metadata": {},
     "output_type": "display_data"
    },
    {
     "name": "stdout",
     "output_type": "stream",
     "text": [
      "Submitted to device in 20.8036 s\n"
     ]
    },
    {
     "data": {
      "application/vnd.jupyter.widget-view+json": {
       "model_id": "b64198ccb8ca44a5a77669d6d5adaf10",
       "version_major": 2,
       "version_minor": 0
      },
      "text/plain": [
       "Running batch:   0%|          | 0/1 [00:00<?, ?it/s]"
      ]
     },
     "metadata": {},
     "output_type": "display_data"
    },
    {
     "name": "stdout",
     "output_type": "stream",
     "text": [
      "Predicted in 114.3462 s\n",
      "Iters. done: 427 Current cost: 0.07308048834612789 Accuracy: 0.19211328022886365 Time: 135.25339890271425\n"
     ]
    },
    {
     "data": {
      "application/vnd.jupyter.widget-view+json": {
       "model_id": "822994984ebe439396aceb27be071a21",
       "version_major": 2,
       "version_minor": 0
      },
      "text/plain": [
       "Mappings: 0it [00:00, ?it/s]"
      ]
     },
     "metadata": {},
     "output_type": "display_data"
    },
    {
     "name": "stdout",
     "output_type": "stream",
     "text": [
      "Submitted to device in 19.1692 s\n"
     ]
    },
    {
     "data": {
      "application/vnd.jupyter.widget-view+json": {
       "model_id": "01aeb475960f45abbebbf2523f640e91",
       "version_major": 2,
       "version_minor": 0
      },
      "text/plain": [
       "Running batch:   0%|          | 0/1 [00:00<?, ?it/s]"
      ]
     },
     "metadata": {},
     "output_type": "display_data"
    },
    {
     "name": "stdout",
     "output_type": "stream",
     "text": [
      "Predicted in 115.4029 s\n",
      "Iters. done: 428 Current cost: 0.07344874343599585 Accuracy: 0.1880423113105475 Time: 134.6696483641863\n"
     ]
    },
    {
     "data": {
      "application/vnd.jupyter.widget-view+json": {
       "model_id": "b8febd0f77fc45e5af0f4354d570b59b",
       "version_major": 2,
       "version_minor": 0
      },
      "text/plain": [
       "Mappings: 0it [00:00, ?it/s]"
      ]
     },
     "metadata": {},
     "output_type": "display_data"
    },
    {
     "name": "stdout",
     "output_type": "stream",
     "text": [
      "Submitted to device in 23.8536 s\n"
     ]
    },
    {
     "data": {
      "application/vnd.jupyter.widget-view+json": {
       "model_id": "dc3fdc4b28b94435a2c2bcb8caa48952",
       "version_major": 2,
       "version_minor": 0
      },
      "text/plain": [
       "Running batch:   0%|          | 0/1 [00:00<?, ?it/s]"
      ]
     },
     "metadata": {},
     "output_type": "display_data"
    },
    {
     "name": "stdout",
     "output_type": "stream",
     "text": [
      "Predicted in 113.0521 s\n",
      "Iters. done: 429 Current cost: 0.0723506774878668 Accuracy: 0.2001811587238922 Time: 136.99318253993988\n"
     ]
    },
    {
     "data": {
      "application/vnd.jupyter.widget-view+json": {
       "model_id": "934fc27bc075445da8b0bca470711d09",
       "version_major": 2,
       "version_minor": 0
      },
      "text/plain": [
       "Mappings: 0it [00:00, ?it/s]"
      ]
     },
     "metadata": {},
     "output_type": "display_data"
    },
    {
     "name": "stdout",
     "output_type": "stream",
     "text": [
      "Submitted to device in 20.0297 s\n"
     ]
    },
    {
     "data": {
      "application/vnd.jupyter.widget-view+json": {
       "model_id": "9f7924caab9c4dbaaf1039589d0ab964",
       "version_major": 2,
       "version_minor": 0
      },
      "text/plain": [
       "Running batch:   0%|          | 0/1 [00:00<?, ?it/s]"
      ]
     },
     "metadata": {},
     "output_type": "display_data"
    },
    {
     "name": "stdout",
     "output_type": "stream",
     "text": [
      "Predicted in 117.3769 s\n",
      "Iters. done: 430 Current cost: 0.07435002196609533 Accuracy: 0.1780789001215909 Time: 137.4982072710991\n"
     ]
    },
    {
     "data": {
      "application/vnd.jupyter.widget-view+json": {
       "model_id": "8fe1a3c484d24ea184976fa2afdef26a",
       "version_major": 2,
       "version_minor": 0
      },
      "text/plain": [
       "Mappings: 0it [00:00, ?it/s]"
      ]
     },
     "metadata": {},
     "output_type": "display_data"
    },
    {
     "name": "stdout",
     "output_type": "stream",
     "text": [
      "Submitted to device in 19.9645 s\n"
     ]
    },
    {
     "data": {
      "application/vnd.jupyter.widget-view+json": {
       "model_id": "483cf58fd6a842e3877018e026d3ab9d",
       "version_major": 2,
       "version_minor": 0
      },
      "text/plain": [
       "Running batch:   0%|          | 0/1 [00:00<?, ?it/s]"
      ]
     },
     "metadata": {},
     "output_type": "display_data"
    },
    {
     "name": "stdout",
     "output_type": "stream",
     "text": [
      "Predicted in 116.6745 s\n",
      "Iters. done: 431 Current cost: 0.07421969031709585 Accuracy: 0.17951968425940146 Time: 136.73810609802604\n"
     ]
    },
    {
     "data": {
      "application/vnd.jupyter.widget-view+json": {
       "model_id": "4c200ef0e7ea44d58c139f3c9d44fc6f",
       "version_major": 2,
       "version_minor": 0
      },
      "text/plain": [
       "Mappings: 0it [00:00, ?it/s]"
      ]
     },
     "metadata": {},
     "output_type": "display_data"
    },
    {
     "name": "stdout",
     "output_type": "stream",
     "text": [
      "Submitted to device in 21.5792 s\n"
     ]
    },
    {
     "data": {
      "application/vnd.jupyter.widget-view+json": {
       "model_id": "7e05bd2ce2a240d0b88c406b3f2e8ccf",
       "version_major": 2,
       "version_minor": 0
      },
      "text/plain": [
       "Running batch:   0%|          | 0/1 [00:00<?, ?it/s]"
      ]
     },
     "metadata": {},
     "output_type": "display_data"
    },
    {
     "name": "stdout",
     "output_type": "stream",
     "text": [
      "Predicted in 117.8882 s\n",
      "Iters. done: 432 Current cost: 0.0759344008820999 Accuracy: 0.1605639831541087 Time: 139.5552558414638\n"
     ]
    },
    {
     "data": {
      "application/vnd.jupyter.widget-view+json": {
       "model_id": "e796b4e01c574f859e11a3f851dd3553",
       "version_major": 2,
       "version_minor": 0
      },
      "text/plain": [
       "Mappings: 0it [00:00, ?it/s]"
      ]
     },
     "metadata": {},
     "output_type": "display_data"
    },
    {
     "name": "stdout",
     "output_type": "stream",
     "text": [
      "Submitted to device in 19.8950 s\n"
     ]
    },
    {
     "data": {
      "application/vnd.jupyter.widget-view+json": {
       "model_id": "b0f9d61754f04901af58b7d287c27043",
       "version_major": 2,
       "version_minor": 0
      },
      "text/plain": [
       "Running batch:   0%|          | 0/1 [00:00<?, ?it/s]"
      ]
     },
     "metadata": {},
     "output_type": "display_data"
    },
    {
     "name": "stdout",
     "output_type": "stream",
     "text": [
      "Predicted in 116.8259 s\n",
      "Iters. done: 433 Current cost: 0.07476872764970825 Accuracy: 0.17345021237006064 Time: 136.82144739478827\n"
     ]
    },
    {
     "data": {
      "application/vnd.jupyter.widget-view+json": {
       "model_id": "fe43c63f7941484580870e6a7745629c",
       "version_major": 2,
       "version_minor": 0
      },
      "text/plain": [
       "Mappings: 0it [00:00, ?it/s]"
      ]
     },
     "metadata": {},
     "output_type": "display_data"
    },
    {
     "name": "stdout",
     "output_type": "stream",
     "text": [
      "Submitted to device in 19.6705 s\n"
     ]
    },
    {
     "data": {
      "application/vnd.jupyter.widget-view+json": {
       "model_id": "4f8405ed728f4fb0912eb9f80e7063f5",
       "version_major": 2,
       "version_minor": 0
      },
      "text/plain": [
       "Running batch:   0%|          | 0/1 [00:00<?, ?it/s]"
      ]
     },
     "metadata": {},
     "output_type": "display_data"
    },
    {
     "name": "stdout",
     "output_type": "stream",
     "text": [
      "Predicted in 115.4678 s\n",
      "Iters. done: 434 Current cost: 0.07248608020239025 Accuracy: 0.19868431521121122 Time: 135.22357704862952\n"
     ]
    },
    {
     "data": {
      "application/vnd.jupyter.widget-view+json": {
       "model_id": "0c779c51051a43dea13888c96462b416",
       "version_major": 2,
       "version_minor": 0
      },
      "text/plain": [
       "Mappings: 0it [00:00, ?it/s]"
      ]
     },
     "metadata": {},
     "output_type": "display_data"
    },
    {
     "name": "stdout",
     "output_type": "stream",
     "text": [
      "Submitted to device in 19.5681 s\n"
     ]
    },
    {
     "data": {
      "application/vnd.jupyter.widget-view+json": {
       "model_id": "b1931943da2c449db2c8fc6e553488c0",
       "version_major": 2,
       "version_minor": 0
      },
      "text/plain": [
       "Running batch:   0%|          | 0/1 [00:00<?, ?it/s]"
      ]
     },
     "metadata": {},
     "output_type": "display_data"
    },
    {
     "name": "stdout",
     "output_type": "stream",
     "text": [
      "Predicted in 118.0191 s\n",
      "Iters. done: 435 Current cost: 0.07388417025806168 Accuracy: 0.18322877550995142 Time: 137.68129343166947\n"
     ]
    },
    {
     "data": {
      "application/vnd.jupyter.widget-view+json": {
       "model_id": "8907fc7df6dc4e8b87786037a206fdfa",
       "version_major": 2,
       "version_minor": 0
      },
      "text/plain": [
       "Mappings: 0it [00:00, ?it/s]"
      ]
     },
     "metadata": {},
     "output_type": "display_data"
    },
    {
     "name": "stdout",
     "output_type": "stream",
     "text": [
      "Submitted to device in 18.7482 s\n"
     ]
    },
    {
     "data": {
      "application/vnd.jupyter.widget-view+json": {
       "model_id": "ed646e44a70541fab5067645416c93c1",
       "version_major": 2,
       "version_minor": 0
      },
      "text/plain": [
       "Running batch:   0%|          | 0/1 [00:00<?, ?it/s]"
      ]
     },
     "metadata": {},
     "output_type": "display_data"
    },
    {
     "name": "stdout",
     "output_type": "stream",
     "text": [
      "Predicted in 116.3703 s\n",
      "Iters. done: 436 Current cost: 0.07327981196172137 Accuracy: 0.18990980696781956 Time: 135.2204417064786\n"
     ]
    },
    {
     "data": {
      "application/vnd.jupyter.widget-view+json": {
       "model_id": "d0e5087d292b42c8b778cd2bebdfc13b",
       "version_major": 2,
       "version_minor": 0
      },
      "text/plain": [
       "Mappings: 0it [00:00, ?it/s]"
      ]
     },
     "metadata": {},
     "output_type": "display_data"
    },
    {
     "name": "stdout",
     "output_type": "stream",
     "text": [
      "Submitted to device in 17.3786 s\n"
     ]
    },
    {
     "data": {
      "application/vnd.jupyter.widget-view+json": {
       "model_id": "2ced0c9a636e48f6a3d33a7a70cf9e8b",
       "version_major": 2,
       "version_minor": 0
      },
      "text/plain": [
       "Running batch:   0%|          | 0/1 [00:00<?, ?it/s]"
      ]
     },
     "metadata": {},
     "output_type": "display_data"
    },
    {
     "name": "stdout",
     "output_type": "stream",
     "text": [
      "Predicted in 119.0172 s\n",
      "Iters. done: 437 Current cost: 0.0764139090727246 Accuracy: 0.15526313872909048 Time: 136.48717112466693\n"
     ]
    },
    {
     "data": {
      "application/vnd.jupyter.widget-view+json": {
       "model_id": "5be487843c0640d3bf13da514dcd3f2e",
       "version_major": 2,
       "version_minor": 0
      },
      "text/plain": [
       "Mappings: 0it [00:00, ?it/s]"
      ]
     },
     "metadata": {},
     "output_type": "display_data"
    },
    {
     "name": "stdout",
     "output_type": "stream",
     "text": [
      "Submitted to device in 19.6954 s\n"
     ]
    },
    {
     "data": {
      "application/vnd.jupyter.widget-view+json": {
       "model_id": "88e22555cb7245dda00eccd626802eb9",
       "version_major": 2,
       "version_minor": 0
      },
      "text/plain": [
       "Running batch:   0%|          | 0/1 [00:00<?, ?it/s]"
      ]
     },
     "metadata": {},
     "output_type": "display_data"
    },
    {
     "name": "stdout",
     "output_type": "stream",
     "text": [
      "Predicted in 115.8321 s\n",
      "Iters. done: 438 Current cost: 0.07304522591653717 Accuracy: 0.19250309766465146 Time: 135.62938633188605\n"
     ]
    },
    {
     "data": {
      "application/vnd.jupyter.widget-view+json": {
       "model_id": "0ae175f87a6449689f77b95176fef04a",
       "version_major": 2,
       "version_minor": 0
      },
      "text/plain": [
       "Mappings: 0it [00:00, ?it/s]"
      ]
     },
     "metadata": {},
     "output_type": "display_data"
    },
    {
     "name": "stdout",
     "output_type": "stream",
     "text": [
      "Submitted to device in 24.0319 s\n"
     ]
    },
    {
     "data": {
      "application/vnd.jupyter.widget-view+json": {
       "model_id": "6f21f420d1064b328f88ae647bf6f320",
       "version_major": 2,
       "version_minor": 0
      },
      "text/plain": [
       "Running batch:   0%|          | 0/1 [00:00<?, ?it/s]"
      ]
     },
     "metadata": {},
     "output_type": "display_data"
    },
    {
     "name": "stdout",
     "output_type": "stream",
     "text": [
      "Predicted in 112.3813 s\n",
      "Iters. done: 439 Current cost: 0.07408950481250626 Accuracy: 0.18095885280691448 Time: 136.51545290276408\n"
     ]
    },
    {
     "data": {
      "application/vnd.jupyter.widget-view+json": {
       "model_id": "bf047a3bb5f74e9883b1c667215f0a85",
       "version_major": 2,
       "version_minor": 0
      },
      "text/plain": [
       "Mappings: 0it [00:00, ?it/s]"
      ]
     },
     "metadata": {},
     "output_type": "display_data"
    },
    {
     "name": "stdout",
     "output_type": "stream",
     "text": [
      "Submitted to device in 20.0852 s\n"
     ]
    },
    {
     "data": {
      "application/vnd.jupyter.widget-view+json": {
       "model_id": "c473884f3798424bbf3f8f870e99fbf9",
       "version_major": 2,
       "version_minor": 0
      },
      "text/plain": [
       "Running batch:   0%|          | 0/1 [00:00<?, ?it/s]"
      ]
     },
     "metadata": {},
     "output_type": "display_data"
    },
    {
     "name": "stdout",
     "output_type": "stream",
     "text": [
      "Predicted in 115.7014 s\n",
      "Iters. done: 440 Current cost: 0.07343060715606255 Accuracy: 0.18824280339859667 Time: 135.87014945223927\n"
     ]
    },
    {
     "data": {
      "application/vnd.jupyter.widget-view+json": {
       "model_id": "a96ffa40c33346948dc865901cb7eb24",
       "version_major": 2,
       "version_minor": 0
      },
      "text/plain": [
       "Mappings: 0it [00:00, ?it/s]"
      ]
     },
     "metadata": {},
     "output_type": "display_data"
    },
    {
     "name": "stdout",
     "output_type": "stream",
     "text": [
      "Submitted to device in 18.4230 s\n"
     ]
    },
    {
     "data": {
      "application/vnd.jupyter.widget-view+json": {
       "model_id": "59130226b8f84fb18b2da02047c7b3c9",
       "version_major": 2,
       "version_minor": 0
      },
      "text/plain": [
       "Running batch:   0%|          | 0/1 [00:00<?, ?it/s]"
      ]
     },
     "metadata": {},
     "output_type": "display_data"
    },
    {
     "name": "stdout",
     "output_type": "stream",
     "text": [
      "Predicted in 116.7090 s\n",
      "Iters. done: 441 Current cost: 0.07175012781132922 Accuracy: 0.20682008683203024 Time: 135.23104095458984\n"
     ]
    },
    {
     "data": {
      "application/vnd.jupyter.widget-view+json": {
       "model_id": "22f2d5f10ab242d1920698b6ca5f5651",
       "version_major": 2,
       "version_minor": 0
      },
      "text/plain": [
       "Mappings: 0it [00:00, ?it/s]"
      ]
     },
     "metadata": {},
     "output_type": "display_data"
    },
    {
     "name": "stdout",
     "output_type": "stream",
     "text": [
      "Submitted to device in 18.2513 s\n"
     ]
    },
    {
     "data": {
      "application/vnd.jupyter.widget-view+json": {
       "model_id": "732a6dc9daf948e38f18b62f98be6cf4",
       "version_major": 2,
       "version_minor": 0
      },
      "text/plain": [
       "Running batch:   0%|          | 0/1 [00:00<?, ?it/s]"
      ]
     },
     "metadata": {},
     "output_type": "display_data"
    },
    {
     "name": "stdout",
     "output_type": "stream",
     "text": [
      "Predicted in 117.7700 s\n",
      "Iters. done: 442 Current cost: 0.07343617153787411 Accuracy: 0.18818129053420518 Time: 136.11254375055432\n"
     ]
    },
    {
     "data": {
      "application/vnd.jupyter.widget-view+json": {
       "model_id": "280ac78779d546e092313926d0fc7953",
       "version_major": 2,
       "version_minor": 0
      },
      "text/plain": [
       "Mappings: 0it [00:00, ?it/s]"
      ]
     },
     "metadata": {},
     "output_type": "display_data"
    },
    {
     "name": "stdout",
     "output_type": "stream",
     "text": [
      "Submitted to device in 19.0837 s\n"
     ]
    },
    {
     "data": {
      "application/vnd.jupyter.widget-view+json": {
       "model_id": "e1e1c73aab314376bfe33fe78e9b401c",
       "version_major": 2,
       "version_minor": 0
      },
      "text/plain": [
       "Running batch:   0%|          | 0/1 [00:00<?, ?it/s]"
      ]
     },
     "metadata": {},
     "output_type": "display_data"
    },
    {
     "name": "stdout",
     "output_type": "stream",
     "text": [
      "Predicted in 116.1284 s\n",
      "Iters. done: 443 Current cost: 0.071935321029725 Accuracy: 0.20477282161638188 Time: 135.30833615362644\n"
     ]
    },
    {
     "data": {
      "application/vnd.jupyter.widget-view+json": {
       "model_id": "49a87527ea4441f78d598365bbea740e",
       "version_major": 2,
       "version_minor": 0
      },
      "text/plain": [
       "Mappings: 0it [00:00, ?it/s]"
      ]
     },
     "metadata": {},
     "output_type": "display_data"
    },
    {
     "name": "stdout",
     "output_type": "stream",
     "text": [
      "Submitted to device in 22.5200 s\n"
     ]
    },
    {
     "data": {
      "application/vnd.jupyter.widget-view+json": {
       "model_id": "e6813ec0c9d5403ab0dacd68a876a9e3",
       "version_major": 2,
       "version_minor": 0
      },
      "text/plain": [
       "Running batch:   0%|          | 0/1 [00:00<?, ?it/s]"
      ]
     },
     "metadata": {},
     "output_type": "display_data"
    },
    {
     "name": "stdout",
     "output_type": "stream",
     "text": [
      "Predicted in 115.0449 s\n",
      "Iters. done: 444 Current cost: 0.07451583109986142 Accuracy: 0.17624592116622417 Time: 137.6578727774322\n"
     ]
    },
    {
     "data": {
      "application/vnd.jupyter.widget-view+json": {
       "model_id": "d2f876e81449412189ef3a2d38ec326a",
       "version_major": 2,
       "version_minor": 0
      },
      "text/plain": [
       "Mappings: 0it [00:00, ?it/s]"
      ]
     },
     "metadata": {},
     "output_type": "display_data"
    },
    {
     "name": "stdout",
     "output_type": "stream",
     "text": [
      "Submitted to device in 20.9765 s\n"
     ]
    },
    {
     "data": {
      "application/vnd.jupyter.widget-view+json": {
       "model_id": "16ed4d2659864b73bdebdb35c8fc2e2d",
       "version_major": 2,
       "version_minor": 0
      },
      "text/plain": [
       "Running batch:   0%|          | 0/1 [00:00<?, ?it/s]"
      ]
     },
     "metadata": {},
     "output_type": "display_data"
    }
   ],
   "source": [
    "model = QiskitRegressor(qc,\n",
    "                        num_qubits,\n",
    "                        AL,\n",
    "                        RUD,\n",
    "                        'real', #'fake',\n",
    "                        observables_labels,\n",
    "                        verbose=True,\n",
    "                        instance='pinq-quebec-hub/univ-toronto/default',\n",
    "                        iterations=500,\n",
    "                        n_jobs=n_jobs,\n",
    "                        parameterpath='./final_state_model.bin')\n",
    "model.fit(X_train,y_train)\n",
    "\n"
   ]
  },
  {
   "cell_type": "code",
   "execution_count": null,
   "id": "489d671c-4615-453f-b3e1-097e927d4d7a",
   "metadata": {
    "papermill": {
     "duration": null,
     "end_time": null,
     "exception": null,
     "start_time": null,
     "status": "pending"
    },
    "tags": []
   },
   "outputs": [],
   "source": [
    "y_train_pred = model.predict(X_train,iters='trainpred')\n",
    "y_test_pred = model.predict(X_test,iters='testpred')"
   ]
  },
  {
   "cell_type": "code",
   "execution_count": null,
   "id": "d68df1a8-73c5-4301-a396-9156f33cbac6",
   "metadata": {
    "papermill": {
     "duration": null,
     "end_time": null,
     "exception": null,
     "start_time": null,
     "status": "pending"
    },
    "tags": []
   },
   "outputs": [],
   "source": [
    "unscaled_y_train = ddcc_scaler.inverse_transform(y_train)\n",
    "unscaled_y_train_pred = ddcc_scaler.inverse_transform(y_train_pred)\n",
    "\n",
    "unscaled_y_test = ddcc_scaler.inverse_transform(y_test)\n",
    "unscaled_y_test_pred = ddcc_scaler.inverse_transform(y_test_pred)"
   ]
  },
  {
   "cell_type": "code",
   "execution_count": null,
   "id": "205f1048-e4b9-43f2-907c-daa71789f478",
   "metadata": {
    "papermill": {
     "duration": null,
     "end_time": null,
     "exception": null,
     "start_time": null,
     "status": "pending"
    },
    "tags": []
   },
   "outputs": [],
   "source": [
    "plt.scatter(y_train.flatten(),y_train_pred.flatten(),label=\"R$^{2}$=\"+f\"{r2_score(y_train.flatten(),y_train_pred.flatten()):.2f}\")\n",
    "plt.plot(y_train.flatten(),y_train.flatten(),'k--')\n",
    "plt.scatter(y_test.flatten(),y_test_pred.flatten(),label=\"R$^{2}$=\"+f\"{r2_score(y_test.flatten(),y_test_pred.flatten()):.2f}\")\n",
    "plt.legend()\n",
    "plt.show()"
   ]
  },
  {
   "cell_type": "code",
   "execution_count": null,
   "id": "ef22e994-a28a-4adb-8260-2422d928d519",
   "metadata": {
    "papermill": {
     "duration": null,
     "end_time": null,
     "exception": null,
     "start_time": null,
     "status": "pending"
    },
    "tags": []
   },
   "outputs": [],
   "source": [
    "plt.scatter(unscaled_y_train.flatten(),unscaled_y_train_pred.flatten(),label=\"R$^{2}$=\"+f\"{r2_score(unscaled_y_train.flatten(),unscaled_y_train_pred.flatten()):.2f}\")\n",
    "\n",
    "plt.plot(unscaled_y_train.flatten(),unscaled_y_train.flatten(),'k--')\n",
    "plt.scatter(unscaled_y_test.flatten(),unscaled_y_test_pred.flatten(),label=\"R$^{2}$=\"+f\"{r2_score(unscaled_y_test.flatten(),unscaled_y_test_pred.flatten()):.2f}\")\n",
    "plt.legend()\n",
    "plt.show()"
   ]
  },
  {
   "cell_type": "code",
   "execution_count": null,
   "id": "5b3f19fe-3b13-4512-acb1-af73b63581a4",
   "metadata": {
    "papermill": {
     "duration": null,
     "end_time": null,
     "exception": null,
     "start_time": null,
     "status": "pending"
    },
    "tags": []
   },
   "outputs": [],
   "source": [
    "# Goal, error handling: RuntimeJobFailureError: 'Unable to retrieve job result. Job estimator_cv61fk0tqh9s73cvpdeg_f0fa_4 cancelled due to compilation timeout 8100000000000.'\n"
   ]
  }
 ],
 "metadata": {
  "kernelspec": {
   "display_name": "Python 3 (ipykernel)",
   "language": "python",
   "name": "python3"
  },
  "language_info": {
   "codemirror_mode": {
    "name": "ipython",
    "version": 3
   },
   "file_extension": ".py",
   "mimetype": "text/x-python",
   "name": "python",
   "nbconvert_exporter": "python",
   "pygments_lexer": "ipython3",
   "version": "3.11.11"
  },
  "papermill": {
   "default_parameters": {},
   "duration": null,
   "end_time": null,
   "environment_variables": {},
   "exception": null,
   "input_path": "class_ML_batched.ipynb",
   "output_path": "ran_class_ML_batched.ipynb",
   "parameters": {},
   "start_time": "2025-03-25T13:52:01.513123",
   "version": "2.6.0"
  }
 },
 "nbformat": 4,
 "nbformat_minor": 5
}