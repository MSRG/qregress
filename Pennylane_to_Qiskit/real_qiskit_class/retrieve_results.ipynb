{
 "cells": [
  {
   "cell_type": "code",
   "execution_count": 1,
   "id": "4fecc455-f3a5-4ad0-b6fd-b6fe5743f45d",
   "metadata": {},
   "outputs": [],
   "source": [
    "from qiskit_ibm_runtime import QiskitRuntimeService\n",
    "import os\n",
    "n_jobs = 16\n",
    "os.environ[\"OMP_NUM_THREADS\"] = str(n_jobs)\n",
    "import joblib\n",
    "import click\n",
    "import json\n",
    "import time\n",
    "from glob import glob\n",
    "import itertools\n",
    "import collections.abc\n",
    "import sys\n",
    "from tqdm.notebook import tqdm\n",
    "# !{sys.executable} -m pip install qcircuit\n",
    "\n",
    "import matplotlib.pyplot as plt\n",
    "import numpy as np\n",
    "import pandas as pd\n",
    "import pennylane as qml\n",
    "from sklearn.metrics import mean_squared_error, r2_score, mean_absolute_error\n",
    "import re\n",
    "from joblib import Parallel, delayed, dump, load\n"
   ]
  },
  {
   "cell_type": "code",
   "execution_count": 2,
   "id": "9a5bbf6d-dc56-49e4-a334-10fc8e7b180a",
   "metadata": {},
   "outputs": [
    {
     "name": "stdout",
     "output_type": "stream",
     "text": [
      "(4, 64) (4, 64)\n"
     ]
    },
    {
     "name": "stderr",
     "output_type": "stream",
     "text": [
      "/home/grierjones/miniconda3/lib/python3.10/site-packages/sklearn/base.py:380: InconsistentVersionWarning: Trying to unpickle estimator MinMaxScaler from version 1.5.1 when using version 1.6.1. This might lead to breaking code or invalid results. Use at your own risk. For more info please refer to:\n",
      "https://scikit-learn.org/stable/model_persistence.html#security-maintainability-limitations\n",
      "  warnings.warn(\n"
     ]
    }
   ],
   "source": [
    "top=os.getcwd()\n",
    "with open(os.path.join(top,'5_DDCC_train.bin'),'rb') as f:\n",
    "    ddcc_train = joblib.load(f)\n",
    "\n",
    "with open(os.path.join(top,'5_DDCC_test.bin'),'rb') as f:\n",
    "    ddcc_test = joblib.load(f)\n",
    "\n",
    "with open(os.path.join(top,'5_DDCC_scaler.bin'),'rb') as f:\n",
    "    ddcc_scaler = joblib.load(f)\n",
    "\n",
    "X_ddcc_train, y_ddcc_train = ddcc_train['X'],ddcc_train['y']\n",
    "X_ddcc_test, y_ddcc_test = ddcc_test['X'],ddcc_test['y']\n",
    "\n",
    "X_ddcc_train = X_ddcc_train.reshape(-1,64,5)[0:4]\n",
    "X_ddcc_test = X_ddcc_test.reshape(-1,64,5)[0:4]\n",
    "y_ddcc_train = y_ddcc_train.reshape(-1,64)[0:4]\n",
    "y_ddcc_test = y_ddcc_test.reshape(-1,64)[0:4]\n",
    "\n",
    "\n",
    "# X_train, y_train = X_ddcc_train, y_ddcc_train\n",
    "# X_test, y_test = X_ddcc_test, y_ddcc_test\n",
    "X_train, y_train = X_ddcc_train, y_ddcc_train\n",
    "X_test, y_test = X_ddcc_test, y_ddcc_test\n",
    "\n",
    "# X_train = [X_train[i:i+4] for i in range(0,len(X_train),4)]\n",
    "# X_test = [X_test[i:i+4] for i in range(0,len(X_test),4)]\n",
    "scaler = ddcc_scaler\n",
    "\n",
    "# print(len(X_train),X_train[0].shape,X_train[-1].shape)\n",
    "print(y_train.shape, y_test.shape)"
   ]
  },
  {
   "cell_type": "code",
   "execution_count": 3,
   "id": "33080687-acb6-4977-b3cd-8d43350f607d",
   "metadata": {},
   "outputs": [],
   "source": [
    "def grab_data(path):\n",
    "    '''\n",
    "    Given a globbed path, return the job_n.txt, *_train.txt, and *_test.txt files\n",
    "    '''\n",
    "    iterations = []\n",
    "    train_metric = []\n",
    "    test_metric = []\n",
    "    for i in path:\n",
    "        try:\n",
    "            numbers = int(re.search(r'jobs_(\\d+)\\.txt', i).group(1))\n",
    "            iterations.append(i)\n",
    "        except:\n",
    "            if 'test' in i:\n",
    "                test_metric.append(i)\n",
    "            else:\n",
    "                train_metric.append(i)\n",
    "            \n",
    "    return sorted(iterations,key=lambda x: int(re.search(r'jobs_(\\d+)\\.txt', x).group(1))), train_metric, test_metric"
   ]
  },
  {
   "cell_type": "code",
   "execution_count": 4,
   "id": "f08d44b0-0b11-46de-907d-1b3417758584",
   "metadata": {},
   "outputs": [],
   "source": [
    "def fetch_jobs_from_file(service, filename):\n",
    "    \"\"\"Fetch all job results from a given file.\"\"\"\n",
    "    with open(filename, 'r') as f:\n",
    "        job_ids = f.readlines()\n",
    "    return [service.job(job_id.strip()).result() for job_id in job_ids]\n",
    "\n",
    "def grab_jobs(lst):\n",
    "    \"\"\"Parallelize over job files, fetching results concurrently.\"\"\"\n",
    "    service = QiskitRuntimeService(\n",
    "        channel='ibm_quantum',\n",
    "        instance='pinq-quebec-hub/univ-toronto/default'\n",
    "    )\n",
    "\n",
    "    # Parallel processing of files\n",
    "    jobs = Parallel(n_jobs=-1,backend='threading')(\n",
    "        delayed(fetch_jobs_from_file)(service, filename) for filename in tqdm(lst)\n",
    "    )\n",
    "\n",
    "    return np.array(jobs)"
   ]
  },
  {
   "cell_type": "code",
   "execution_count": 5,
   "id": "0828960a-aac2-4b81-89cd-204b145234af",
   "metadata": {},
   "outputs": [],
   "source": [
    "iter_100, train_100, test_100 = grab_data(glob('100_iter/*txt'))\n",
    "iter_500, train_500, test_500 = grab_data(glob('500_iter/*txt'))\n",
    "iter_1000, train_1000, test_1000 = grab_data(glob('1000_iter/*txt'))"
   ]
  },
  {
   "cell_type": "code",
   "execution_count": 6,
   "id": "2502bb51-b905-4ee1-91d9-27262aa4aa63",
   "metadata": {},
   "outputs": [],
   "source": [
    "# results_100 = grab_jobs(iter_100)\n",
    "# y_100 = np.array([[[k.data.evs.flatten() for k in j] for j in i] for i in results_100]).reshape(*results_100.shape)\n",
    "\n",
    "\n",
    "# results_500 = grab_jobs(iter_500)\n",
    "# y_500 = np.array([[[k.data.evs.flatten() for k in j] for j in i] for i in results_500]).reshape(*results_500.shape)\n",
    "\n",
    "# results_1000 = grab_jobs(iter_1000)\n",
    "# y_1000 = np.array([[[k.data.evs.flatten() for k in j] for j in i] for i in results_1000]).reshape(*results_1000.shape)\n",
    "# with open('y_100.npy', 'wb') as f:\n",
    "#     np.save(f, y_100)\n",
    "# with open('y_500.npy', 'wb') as f:\n",
    "#     np.save(f, y_500)\n",
    "# with open('y_1000.npy', 'wb') as f:\n",
    "#     np.save(f, y_1000)\n",
    "\n",
    "# results_train_100 = grab_jobs(train_100)\n",
    "# y_100_train = np.array([[[k.data.evs.flatten() for k in j] for j in i] for i in results_train_100]).reshape(*y_train.shape)\n",
    "\n",
    "\n",
    "# results_train_500 = grab_jobs(train_500)\n",
    "# y_500_train = np.array([[[k.data.evs.flatten() for k in j] for j in i] for i in results_train_500]).reshape(*y_train.shape)\n",
    "\n",
    "# results_train_1000 = grab_jobs(train_1000)\n",
    "# y_1000_train = np.array([[[k.data.evs.flatten() for k in j] for j in i] for i in results_train_1000]).reshape(*y_train.shape)\n",
    "\n",
    "# results_test_100 = grab_jobs(test_100)\n",
    "# y_100_test = np.array([[[k.data.evs.flatten() for k in j] for j in i] for i in results_test_100]).reshape(*y_test.shape)\n",
    "\n",
    "\n",
    "# results_test_500 = grab_jobs(test_500)\n",
    "# y_500_test = np.array([[[k.data.evs.flatten() for k in j] for j in i] for i in results_test_500]).reshape(*y_test.shape)\n",
    "\n",
    "# results_test_1000 = grab_jobs(test_1000)\n",
    "# y_1000_test = np.array([[[k.data.evs.flatten() for k in j] for j in i] for i in results_test_1000]).reshape(*y_test.shape)\n",
    "\n",
    "# with open('y_100_test.npy', 'wb') as f:\n",
    "#     np.save(f, y_100_test)\n",
    "# with open('y_500_test.npy', 'wb') as f:\n",
    "#     np.save(f, y_500_test)\n",
    "# with open('y_1000_test.npy', 'wb') as f:\n",
    "#     np.save(f, y_1000_test)\n",
    "\n",
    "\n",
    "# with open('y_100_train.npy', 'wb') as f:\n",
    "#     np.save(f, y_100_train)\n",
    "# with open('y_500_train.npy', 'wb') as f:\n",
    "#     np.save(f, y_500_train)\n",
    "# with open('y_1000_train.npy', 'wb') as f:\n",
    "#     np.save(f, y_1000_train)"
   ]
  },
  {
   "cell_type": "code",
   "execution_count": null,
   "id": "710c57f6-95c7-4729-9c34-baec32549ff6",
   "metadata": {},
   "outputs": [],
   "source": []
  },
  {
   "cell_type": "code",
   "execution_count": 7,
   "id": "ba8a3b3b-8210-43df-879a-91b203e261e2",
   "metadata": {},
   "outputs": [],
   "source": [
    "\n",
    "\n",
    "with open('y_100_test.npy', 'rb') as f:\n",
    "    y_100_test = np.load(f)\n",
    "with open('y_500_test.npy', 'rb') as f:\n",
    "    y_500_test = np.load(f)\n",
    "with open('y_1000_test.npy', 'rb') as f:\n",
    "    y_1000_test = np.load(f)   \n",
    "\n",
    "\n",
    "    \n",
    "with open('y_100_train.npy', 'rb') as f:\n",
    "    y_100_train = np.load(f)\n",
    "with open('y_500_train.npy', 'rb') as f:\n",
    "    y_500_train = np.load(f)\n",
    "with open('y_1000_train.npy', 'rb') as f:\n",
    "    y_1000_train = np.load(f)       \n",
    "    \n",
    "with open('y_100.npy', 'rb') as f:\n",
    "    y_100 = np.load(f)\n",
    "with open('y_500.npy', 'rb') as f:\n",
    "    y_500 = np.load(f)\n",
    "with open('y_1000.npy', 'rb') as f:\n",
    "    y_1000 = np.load(f)    \n",
    "    \n"
   ]
  },
  {
   "cell_type": "code",
   "execution_count": 8,
   "id": "0df45f43-4282-4fdc-b440-4e15e16cf5b7",
   "metadata": {},
   "outputs": [
    {
     "data": {
      "text/plain": [
       "-0.17153119703559372"
      ]
     },
     "execution_count": 8,
     "metadata": {},
     "output_type": "execute_result"
    }
   ],
   "source": [
    "r2_score(y_ddcc_train.flatten(),y_100_train.flatten())"
   ]
  },
  {
   "cell_type": "code",
   "execution_count": 9,
   "id": "453521fe-1d71-4a81-8aa6-359dffd68322",
   "metadata": {},
   "outputs": [
    {
     "data": {
      "text/plain": [
       "0.28885572258977765"
      ]
     },
     "execution_count": 9,
     "metadata": {},
     "output_type": "execute_result"
    }
   ],
   "source": [
    "r2_score(y_ddcc_train.flatten(),y_500_train.flatten())"
   ]
  },
  {
   "cell_type": "code",
   "execution_count": 10,
   "id": "9c795150-67cc-43b3-a6c5-859ed3dabc98",
   "metadata": {},
   "outputs": [
    {
     "data": {
      "text/plain": [
       "0.2137649236682102"
      ]
     },
     "execution_count": 10,
     "metadata": {},
     "output_type": "execute_result"
    }
   ],
   "source": [
    "r2_score(y_ddcc_train.flatten(),y_1000_train.flatten())"
   ]
  },
  {
   "cell_type": "code",
   "execution_count": 11,
   "id": "e6a8e14b-38f3-4be3-8917-bb9720a67c73",
   "metadata": {},
   "outputs": [],
   "source": [
    "MSE_100 = [mean_squared_error(y_ddcc_train.flatten(),i.flatten()) for i in y_100]\n",
    "MSE_500 = [mean_squared_error(y_ddcc_train.flatten(),i.flatten()) for i in y_500]\n",
    "MSE_1000 = [mean_squared_error(y_ddcc_train.flatten(),i.flatten()) for i in y_1000]"
   ]
  },
  {
   "cell_type": "code",
   "execution_count": 12,
   "id": "6fce0f14-c6da-41f2-89c0-9279d5328aae",
   "metadata": {},
   "outputs": [],
   "source": [
    "best_train = np.vstack([y_100,y_500,y_1000])[np.argmin(MSE_100+MSE_500+MSE_1000)]"
   ]
  },
  {
   "cell_type": "code",
   "execution_count": 13,
   "id": "53ff6355-e42f-4f10-8605-1b8560992de6",
   "metadata": {},
   "outputs": [
    {
     "data": {
      "text/plain": [
       "0.3045004545007308"
      ]
     },
     "execution_count": 13,
     "metadata": {},
     "output_type": "execute_result"
    }
   ],
   "source": [
    "r2_score(y_ddcc_train.flatten(),best_train.flatten())"
   ]
  },
  {
   "cell_type": "code",
   "execution_count": 14,
   "id": "7071a673-6770-41c8-a6d0-c14a4e31ff95",
   "metadata": {},
   "outputs": [
    {
     "data": {
      "text/plain": [
       "[<matplotlib.lines.Line2D at 0x7f262e25a740>]"
      ]
     },
     "execution_count": 14,
     "metadata": {},
     "output_type": "execute_result"
    },
    {
     "data": {
      "image/png": "[encoded data removed]",
      "text/plain": [
       "<Figure size 640x480 with 1 Axes>"
      ]
     },
     "metadata": {},
     "output_type": "display_data"
    }
   ],
   "source": [
    "plt.scatter(y_ddcc_train.flatten(),best_train.flatten())\n",
    "plt.plot(y_ddcc_train.flatten(),y_ddcc_train.flatten())"
   ]
  },
  {
   "cell_type": "code",
   "execution_count": 15,
   "id": "1b8b4195-032e-439b-821d-c7c111ebb96c",
   "metadata": {},
   "outputs": [
    {
     "data": {
      "text/plain": [
       "[<matplotlib.lines.Line2D at 0x7f262dedbc10>]"
      ]
     },
     "execution_count": 15,
     "metadata": {},
     "output_type": "execute_result"
    },
    {
     "data": {
      "image/png": "[encoded data removed]",
      "text/plain": [
       "<Figure size 640x480 with 1 Axes>"
      ]
     },
     "metadata": {},
     "output_type": "display_data"
    }
   ],
   "source": [
    "plt.plot(MSE_100+MSE_500+MSE_1000)"
   ]
  },
  {
   "cell_type": "code",
   "execution_count": null,
   "id": "2a289863-685f-4f04-9bb9-9fe96aeb4181",
   "metadata": {},
   "outputs": [],
   "source": []
  }
 ],
 "metadata": {
  "kernelspec": {
   "display_name": "Python 3 (ipykernel)",
   "language": "python",
   "name": "python3"
  },
  "language_info": {
   "codemirror_mode": {
    "name": "ipython",
    "version": 3
   },
   "file_extension": ".py",
   "mimetype": "text/x-python",
   "name": "python",
   "nbconvert_exporter": "python",
   "pygments_lexer": "ipython3",
   "version": "3.10.0"
  }
 },
 "nbformat": 4,
 "nbformat_minor": 5
}
