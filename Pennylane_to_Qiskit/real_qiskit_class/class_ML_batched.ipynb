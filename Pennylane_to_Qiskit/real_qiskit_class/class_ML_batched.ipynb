{
 "cells": [
  {
   "cell_type": "code",
   "execution_count": 1,
   "id": "dc8f5c2c-b710-429b-9f46-14c842ed6478",
   "metadata": {
    "editable": true,
    "slideshow": {
     "slide_type": ""
    },
    "tags": []
   },
   "outputs": [],
   "source": [
    "import os\n",
    "n_jobs = 16\n",
    "os.environ[\"OMP_NUM_THREADS\"] = str(n_jobs)\n",
    "import joblib\n",
    "import click\n",
    "import json\n",
    "import time\n",
    "\n",
    "import itertools\n",
    "import collections.abc\n",
    "import sys\n",
    "from tqdm.notebook import tqdm\n",
    "# !{sys.executable} -m pip install qcircuit\n",
    "\n",
    "import matplotlib.pyplot as plt\n",
    "import numpy as np\n",
    "import pandas as pd\n",
    "import pennylane as qml\n",
    "from sklearn.metrics import mean_squared_error, r2_score, mean_absolute_error\n",
    "\n",
    "# Qiskit\n",
    "from qiskit import QuantumCircuit\n",
    "from qiskit.quantum_info import Pauli, SparsePauliOp, Operator\n",
    "from qiskit.primitives import StatevectorEstimator\n",
    "from qiskit.circuit import Parameter, ParameterVector\n",
    "from qiskit.transpiler.preset_passmanagers import generate_preset_pass_manager\n",
    "from qiskit.quantum_info import SparsePauliOp\n",
    "from qiskit_ibm_runtime import EstimatorV2 as Estimator\n",
    "from qiskit_ibm_runtime import QiskitRuntimeService\n",
    "from qiskit_aer import AerSimulator\n",
    "from qiskit_aer.noise import NoiseModel\n",
    "from qiskit_ibm_runtime.fake_provider import FakeQuebec\n",
    "from qiskit_ibm_runtime import Batch\n",
    "from qiskit_ibm_runtime import exceptions\n",
    "# from qiskit_machine_learning.optimizers import SPSA, Minimizer\n",
    "\n",
    "\n",
    "from joblib import dump, load\n",
    "from QiskitRegressor import QiskitRegressor"
   ]
  },
  {
   "cell_type": "code",
   "execution_count": 2,
   "id": "9e8cd7b1-46c5-4d8e-966b-87a99489ddac",
   "metadata": {
    "editable": true,
    "slideshow": {
     "slide_type": ""
    },
    "tags": []
   },
   "outputs": [],
   "source": [
    "def mitarai(quantumcircuit,num_wires,paramname='x'):\n",
    "    # encoding as proposed by Mitarai et al.\n",
    "    num_features = num_wires\n",
    "    features = ParameterVector(paramname,num_features*2)\n",
    "    for i in range(num_wires):\n",
    "        feature_idx = i % num_features  # Calculate the feature index using modulo\n",
    "        quantumcircuit.ry(np.arcsin(features[feature_idx * 2]), i)\n",
    "        quantumcircuit.rz(np.arccos(features[feature_idx * 2 + 1] ** 2), i)\n",
    "\n",
    "\n",
    "def double_angle(quantumcircuit, num_wires,paramname='x'):\n",
    "    #  creates a circuit that encodes features into wires via angle encoding with an RY then RZ gate\n",
    "    #  the features are encoded 1-1 onto the qubits\n",
    "    #  if more wires are passed then features the remaining wires will be filled from the beginning of the feature list\n",
    "    num_features = num_wires\n",
    "    features = ParameterVector(paramname,num_features*2)\n",
    "    for i in range(num_wires):\n",
    "        feature_index = i % num_features\n",
    "        quantumcircuit.ry(features[feature_index], i)\n",
    "        quantumcircuit.rz(features[feature_index], i)\n",
    "\n",
    "def entangle_cnot(quantumcircuit,num_wires):\n",
    "    #  entangles all of the wires in a circular fashion using cnot gates\n",
    "    for i in range(num_wires):\n",
    "        \n",
    "        if i == num_wires - 1:\n",
    "            quantumcircuit.cx(i, 0)\n",
    "        else:\n",
    "            quantumcircuit.cx(i, i+1)\n",
    "\n",
    "\n",
    "def entangle_cz(quantumcircuit,num_wires):\n",
    "    #  entangles all of the wires in a circular fashion using cz gates\n",
    "    for i in range(num_wires):\n",
    "        \n",
    "        if i == num_wires - 1:\n",
    "            quantumcircuit.cz(i, 0)\n",
    "        else:\n",
    "            quantumcircuit.cz(i, i+1)\n",
    "\n",
    "\n",
    "def HardwareEfficient(quantumcircuit,num_wires,paramname='theta'):\n",
    "    parameters = ParameterVector(paramname,num_wires*3)\n",
    "    for qubit in range(num_wires):\n",
    "        quantumcircuit.rx(parameters[qubit * 3], qubit)  \n",
    "        quantumcircuit.rz(parameters[qubit * 3 + 1], qubit)  \n",
    "        quantumcircuit.rx(parameters[qubit * 3 + 2], qubit)  \n",
    "    entangle_cnot(quantumcircuit,num_wires)\n",
    "\n"
   ]
  },
  {
   "cell_type": "code",
   "execution_count": 3,
   "id": "98051576-89f8-4a1d-980e-3708e2089ad6",
   "metadata": {},
   "outputs": [],
   "source": [
    "# def circuit(nqubits):\n",
    "#     qc = QuantumCircuit(nqubits)\n",
    "#     mitarai(qc,nqubits)\n",
    "#     entangle_cz(qc,nqubits)\n",
    "#     qc.barrier()\n",
    "#     mitarai(qc,nqubits,paramname='x1')\n",
    "#     entangle_cz(qc,nqubits)\n",
    "#     qc.barrier()\n",
    "#     HardwareEfficient(qc,nqubits)\n",
    "#     qc.barrier()\n",
    "#     return qc\n",
    "\n",
    "\n",
    "def circuit(nqubits,RUD=1,AL=1):\n",
    "    qc = QuantumCircuit(nqubits)\n",
    "    for i in range(RUD):\n",
    "        double_angle(qc,nqubits,paramname=f'x{i}')\n",
    "        qc.barrier()\n",
    "        for j in range(AL):        \n",
    "            HardwareEfficient(qc,nqubits,paramname=f'theta{i}_{j}')\n",
    "            qc.barrier()\n",
    "    return qc"
   ]
  },
  {
   "cell_type": "code",
   "execution_count": 4,
   "id": "11cb5805-20c7-493a-b96c-8eac41dcc1d7",
   "metadata": {},
   "outputs": [
    {
     "name": "stdout",
     "output_type": "stream",
     "text": [
      "(159, 64) (40, 64)\n"
     ]
    },
    {
     "name": "stderr",
     "output_type": "stream",
     "text": [
      "/home/grierjones/miniconda3/envs/qml_min/lib/python3.11/site-packages/sklearn/base.py:380: InconsistentVersionWarning: Trying to unpickle estimator MinMaxScaler from version 1.5.1 when using version 1.6.1. This might lead to breaking code or invalid results. Use at your own risk. For more info please refer to:\n",
      "https://scikit-learn.org/stable/model_persistence.html#security-maintainability-limitations\n",
      "  warnings.warn(\n"
     ]
    }
   ],
   "source": [
    "\n",
    "top=os.getcwd()\n",
    "with open(os.path.join(top,'5_DDCC_train.bin'),'rb') as f:\n",
    "    ddcc_train = joblib.load(f)\n",
    "\n",
    "with open(os.path.join(top,'5_DDCC_test.bin'),'rb') as f:\n",
    "    ddcc_test = joblib.load(f)\n",
    "\n",
    "with open(os.path.join(top,'5_DDCC_scaler.bin'),'rb') as f:\n",
    "    ddcc_scaler = joblib.load(f)\n",
    "\n",
    "X_ddcc_train, y_ddcc_train = ddcc_train['X'],ddcc_train['y']\n",
    "X_ddcc_test, y_ddcc_test = ddcc_test['X'],ddcc_test['y']\n",
    "\n",
    "X_ddcc_train = X_ddcc_train.reshape(-1,64,5)\n",
    "X_ddcc_test = X_ddcc_test.reshape(-1,64,5)\n",
    "y_ddcc_train = y_ddcc_train.reshape(-1,64)\n",
    "y_ddcc_test = y_ddcc_test.reshape(-1,64)\n",
    "\n",
    "\n",
    "# X_train, y_train = X_ddcc_train, y_ddcc_train\n",
    "# X_test, y_test = X_ddcc_test, y_ddcc_test\n",
    "X_train, y_train = X_ddcc_train, y_ddcc_train\n",
    "X_test, y_test = X_ddcc_test, y_ddcc_test\n",
    "\n",
    "# X_train = [X_train[i:i+4] for i in range(0,len(X_train),4)]\n",
    "# X_test = [X_test[i:i+4] for i in range(0,len(X_test),4)]\n",
    "scaler = ddcc_scaler\n",
    "\n",
    "# print(len(X_train),X_train[0].shape,X_train[-1].shape)\n",
    "print(y_train.shape, y_test.shape)"
   ]
  },
  {
   "cell_type": "code",
   "execution_count": 5,
   "id": "0172f0c5-8225-47b8-91e3-8e113113d13e",
   "metadata": {
    "editable": true,
    "slideshow": {
     "slide_type": ""
    },
    "tags": []
   },
   "outputs": [],
   "source": [
    "num_qubits = 5\n",
    "RUD = 1\n",
    "AL = 5"
   ]
  },
  {
   "cell_type": "code",
   "execution_count": 6,
   "id": "fcdd8b11-a018-4461-9461-cf12e6026e13",
   "metadata": {
    "editable": true,
    "slideshow": {
     "slide_type": ""
    },
    "tags": [
     "parameters"
    ]
   },
   "outputs": [],
   "source": [
    "optimization_level = 2\n",
    "shots = 3072\n",
    "# shots = 1024.0 * 1\n",
    "resilience_level = 1"
   ]
  },
  {
   "cell_type": "code",
   "execution_count": 7,
   "id": "0dd61067-2a66-4c32-bff7-34a6678cea46",
   "metadata": {
    "editable": true,
    "slideshow": {
     "slide_type": ""
    },
    "tags": []
   },
   "outputs": [],
   "source": [
    "optimization_level = int(optimization_level)\n",
    "shots = int(shots)\n",
    "# shots = 1024.0 * 1\n",
    "resilience_level = int(resilience_level)"
   ]
  },
  {
   "cell_type": "code",
   "execution_count": 8,
   "id": "9f37a160-f338-4f3d-9b17-c1c695681785",
   "metadata": {},
   "outputs": [],
   "source": [
    "# \n",
    "qc = circuit(num_qubits,RUD,AL)\n",
    "\n",
    "observables_labels = ''.join(['I']*(num_qubits-1))+\"Z\""
   ]
  },
  {
   "cell_type": "code",
   "execution_count": 9,
   "id": "d4755fc2-654e-4b9a-9cb9-0f8d050b1dd3",
   "metadata": {},
   "outputs": [
    {
     "name": "stdout",
     "output_type": "stream",
     "text": [
      "./state_vector_parameters.bin\n",
      "Parameters loaded\n",
      "[-3.12796163  2.20923479 -2.15356047 -0.20272741  0.45787692 -2.84003282\n",
      "  3.10217594  2.21913693  1.17861986 -0.90578323  0.60926206  1.08842887\n",
      "  1.30878757 -1.83754319  1.05930109  2.92869346 -0.45472001 -0.53390713\n",
      " -1.94943806  0.96644527  1.83382822  2.59903043 -1.27248814 -0.24476434\n",
      " -2.55148033 -2.19211736  3.18233718  2.48878626 -0.54848978 -2.79958123\n",
      "  1.58113557 -0.03487004 -2.40488905  2.23078263  1.30281402 -0.52182491\n",
      "  0.98516107 -1.73367864 -0.3479275   2.34534114 -0.16352274  0.48817249\n",
      "  2.62697457  0.99203839  2.93104541  2.76133689  2.87866402 -2.78879742\n",
      "  0.17609349 -0.35129591  1.53780447  2.8570011  -0.27269594 -2.34909155\n",
      "  2.65752438 -3.00081876  0.74611123 -0.85515604 -1.61543159  2.91095663\n",
      " -1.70506496 -1.62327844 -2.60549583  2.14665867 -2.26107756  2.14784551\n",
      "  2.05804096  1.67840528  2.48059465  2.74975017  1.74108432  1.59959627\n",
      " -1.80899923 -2.10894248  1.38774611]\n",
      "[SparsePauliOp(['IIIIZ'],\n",
      "              coeffs=[1.+0.j])]\n",
      "statevector\n"
     ]
    }
   ],
   "source": [
    "model = QiskitRegressor(qc,num_qubits,AL,RUD,'statevector',observables_labels,verbose=True,iterations=10,n_jobs=n_jobs,parameterpath='./state_vector_parameters.bin')"
   ]
  },
  {
   "cell_type": "code",
   "execution_count": 10,
   "id": "162cdde4-9cb0-421d-9db9-edded0060616",
   "metadata": {},
   "outputs": [
    {
     "data": {
      "text/plain": [
       "(159, 64, 5)"
      ]
     },
     "execution_count": 10,
     "metadata": {},
     "output_type": "execute_result"
    }
   ],
   "source": [
    "X_train.shape"
   ]
  },
  {
   "cell_type": "code",
   "execution_count": 11,
   "id": "09bd9301-36fa-443b-b2e2-8268af15c74a",
   "metadata": {},
   "outputs": [
    {
     "data": {
      "application/vnd.jupyter.widget-view+json": {
       "model_id": "6de737c7242f494697f92911fa601e11",
       "version_major": 2,
       "version_minor": 0
      },
      "text/plain": [
       "Mappings: 0it [00:00, ?it/s]"
      ]
     },
     "metadata": {},
     "output_type": "display_data"
    },
    {
     "name": "stdout",
     "output_type": "stream",
     "text": [
      "Submitted to device in 6.6376 s\n"
     ]
    },
    {
     "data": {
      "application/vnd.jupyter.widget-view+json": {
       "model_id": "09812b7c8b424773941228d26049deb5",
       "version_major": 2,
       "version_minor": 0
      },
      "text/plain": [
       "Running batch:   0%|          | 0/40 [00:00<?, ?it/s]"
      ]
     },
     "metadata": {},
     "output_type": "display_data"
    },
    {
     "name": "stdout",
     "output_type": "stream",
     "text": [
      "Predicted in 25.5572 s\n",
      "Iters. done: 1 Current cost: 0.016886207513897498 Accuracy: 0.8134907928521745 Time: 33.136527706999914\n",
      "[-3.12796163  2.20923479 -2.15356047 -0.20272741  0.45787692 -2.84003282\n",
      "  3.10217594  2.21913693  1.17861986 -0.90578323  0.60926206  1.08842887\n",
      "  1.30878757 -1.83754319  1.05930109  2.92869346 -0.45472001 -0.53390713\n",
      " -1.94943806  0.96644527  1.83382822  2.59903043 -1.27248814 -0.24476434\n",
      " -2.55148033 -2.19211736  3.18233718  2.48878626 -0.54848978 -2.79958123\n",
      "  1.58113557 -0.03487004 -2.40488905  2.23078263  1.30281402 -0.52182491\n",
      "  0.98516107 -1.73367864 -0.3479275   2.34534114 -0.16352274  0.48817249\n",
      "  2.62697457  0.99203839  2.93104541  2.76133689  2.87866402 -2.78879742\n",
      "  0.17609349 -0.35129591  1.53780447  2.8570011  -0.27269594 -2.34909155\n",
      "  2.65752438 -3.00081876  0.74611123 -0.85515604 -1.61543159  2.91095663\n",
      " -1.70506496 -1.62327844 -2.60549583  2.14665867 -2.26107756  2.14784551\n",
      "  2.05804096  1.67840528  2.48059465  2.74975017  1.74108432  1.59959627\n",
      " -1.80899923 -2.10894248  1.38774611]\n",
      "0.016886207513897498\n"
     ]
    },
    {
     "data": {
      "application/vnd.jupyter.widget-view+json": {
       "model_id": "5cba4bb662104d46a14bf63430cb37f7",
       "version_major": 2,
       "version_minor": 0
      },
      "text/plain": [
       "Mappings: 0it [00:00, ?it/s]"
      ]
     },
     "metadata": {},
     "output_type": "display_data"
    },
    {
     "name": "stdout",
     "output_type": "stream",
     "text": [
      "Submitted to device in 6.6694 s\n"
     ]
    },
    {
     "data": {
      "application/vnd.jupyter.widget-view+json": {
       "model_id": "fa5288cae431470ea508aa9cdf5e19b4",
       "version_major": 2,
       "version_minor": 0
      },
      "text/plain": [
       "Running batch:   0%|          | 0/40 [00:00<?, ?it/s]"
      ]
     },
     "metadata": {},
     "output_type": "display_data"
    },
    {
     "name": "stdout",
     "output_type": "stream",
     "text": [
      "Predicted in 25.8660 s\n",
      "Iters. done: 2 Current cost: 0.03849133712745458 Accuracy: 0.5748607990401137 Time: 33.697053473995766\n",
      "[-2.12796163  2.20923479 -2.15356047 -0.20272741  0.45787692 -2.84003282\n",
      "  3.10217594  2.21913693  1.17861986 -0.90578323  0.60926206  1.08842887\n",
      "  1.30878757 -1.83754319  1.05930109  2.92869346 -0.45472001 -0.53390713\n",
      " -1.94943806  0.96644527  1.83382822  2.59903043 -1.27248814 -0.24476434\n",
      " -2.55148033 -2.19211736  3.18233718  2.48878626 -0.54848978 -2.79958123\n",
      "  1.58113557 -0.03487004 -2.40488905  2.23078263  1.30281402 -0.52182491\n",
      "  0.98516107 -1.73367864 -0.3479275   2.34534114 -0.16352274  0.48817249\n",
      "  2.62697457  0.99203839  2.93104541  2.76133689  2.87866402 -2.78879742\n",
      "  0.17609349 -0.35129591  1.53780447  2.8570011  -0.27269594 -2.34909155\n",
      "  2.65752438 -3.00081876  0.74611123 -0.85515604 -1.61543159  2.91095663\n",
      " -1.70506496 -1.62327844 -2.60549583  2.14665867 -2.26107756  2.14784551\n",
      "  2.05804096  1.67840528  2.48059465  2.74975017  1.74108432  1.59959627\n",
      " -1.80899923 -2.10894248  1.38774611]\n",
      "0.03849133712745458\n"
     ]
    },
    {
     "data": {
      "application/vnd.jupyter.widget-view+json": {
       "model_id": "bdd191ce5f1741f7834fbb57d24307dc",
       "version_major": 2,
       "version_minor": 0
      },
      "text/plain": [
       "Mappings: 0it [00:00, ?it/s]"
      ]
     },
     "metadata": {},
     "output_type": "display_data"
    },
    {
     "name": "stdout",
     "output_type": "stream",
     "text": [
      "Submitted to device in 6.6518 s\n"
     ]
    },
    {
     "data": {
      "application/vnd.jupyter.widget-view+json": {
       "model_id": "f9181b4038f34195b8db17c4cc8f9506",
       "version_major": 2,
       "version_minor": 0
      },
      "text/plain": [
       "Running batch:   0%|          | 0/40 [00:00<?, ?it/s]"
      ]
     },
     "metadata": {},
     "output_type": "display_data"
    },
    {
     "name": "stdout",
     "output_type": "stream",
     "text": [
      "Predicted in 25.8592 s\n",
      "Iters. done: 3 Current cost: 0.019684145411148966 Accuracy: 0.7825873956011491 Time: 33.68115992299863\n",
      "[-3.12796163  3.20923479 -2.15356047 -0.20272741  0.45787692 -2.84003282\n",
      "  3.10217594  2.21913693  1.17861986 -0.90578323  0.60926206  1.08842887\n",
      "  1.30878757 -1.83754319  1.05930109  2.92869346 -0.45472001 -0.53390713\n",
      " -1.94943806  0.96644527  1.83382822  2.59903043 -1.27248814 -0.24476434\n",
      " -2.55148033 -2.19211736  3.18233718  2.48878626 -0.54848978 -2.79958123\n",
      "  1.58113557 -0.03487004 -2.40488905  2.23078263  1.30281402 -0.52182491\n",
      "  0.98516107 -1.73367864 -0.3479275   2.34534114 -0.16352274  0.48817249\n",
      "  2.62697457  0.99203839  2.93104541  2.76133689  2.87866402 -2.78879742\n",
      "  0.17609349 -0.35129591  1.53780447  2.8570011  -0.27269594 -2.34909155\n",
      "  2.65752438 -3.00081876  0.74611123 -0.85515604 -1.61543159  2.91095663\n",
      " -1.70506496 -1.62327844 -2.60549583  2.14665867 -2.26107756  2.14784551\n",
      "  2.05804096  1.67840528  2.48059465  2.74975017  1.74108432  1.59959627\n",
      " -1.80899923 -2.10894248  1.38774611]\n",
      "0.019684145411148966\n"
     ]
    },
    {
     "data": {
      "application/vnd.jupyter.widget-view+json": {
       "model_id": "f7464b3ee7fe4c238152f5c17db682c3",
       "version_major": 2,
       "version_minor": 0
      },
      "text/plain": [
       "Mappings: 0it [00:00, ?it/s]"
      ]
     },
     "metadata": {},
     "output_type": "display_data"
    },
    {
     "name": "stdout",
     "output_type": "stream",
     "text": [
      "Submitted to device in 6.0613 s\n"
     ]
    },
    {
     "data": {
      "application/vnd.jupyter.widget-view+json": {
       "model_id": "79ece24a4baf45a79fcbc1b4e025a86d",
       "version_major": 2,
       "version_minor": 0
      },
      "text/plain": [
       "Running batch:   0%|          | 0/40 [00:00<?, ?it/s]"
      ]
     },
     "metadata": {},
     "output_type": "display_data"
    },
    {
     "name": "stdout",
     "output_type": "stream",
     "text": [
      "Predicted in 26.8206 s\n",
      "Iters. done: 4 Current cost: 0.028675744055272026 Accuracy: 0.6832746320497918 Time: 34.07741956198879\n",
      "[-3.12796163  2.20923479 -1.15356047 -0.20272741  0.45787692 -2.84003282\n",
      "  3.10217594  2.21913693  1.17861986 -0.90578323  0.60926206  1.08842887\n",
      "  1.30878757 -1.83754319  1.05930109  2.92869346 -0.45472001 -0.53390713\n",
      " -1.94943806  0.96644527  1.83382822  2.59903043 -1.27248814 -0.24476434\n",
      " -2.55148033 -2.19211736  3.18233718  2.48878626 -0.54848978 -2.79958123\n",
      "  1.58113557 -0.03487004 -2.40488905  2.23078263  1.30281402 -0.52182491\n",
      "  0.98516107 -1.73367864 -0.3479275   2.34534114 -0.16352274  0.48817249\n",
      "  2.62697457  0.99203839  2.93104541  2.76133689  2.87866402 -2.78879742\n",
      "  0.17609349 -0.35129591  1.53780447  2.8570011  -0.27269594 -2.34909155\n",
      "  2.65752438 -3.00081876  0.74611123 -0.85515604 -1.61543159  2.91095663\n",
      " -1.70506496 -1.62327844 -2.60549583  2.14665867 -2.26107756  2.14784551\n",
      "  2.05804096  1.67840528  2.48059465  2.74975017  1.74108432  1.59959627\n",
      " -1.80899923 -2.10894248  1.38774611]\n",
      "0.028675744055272026\n"
     ]
    },
    {
     "data": {
      "application/vnd.jupyter.widget-view+json": {
       "model_id": "263b8c2854b84cceb26395cb0d23f20e",
       "version_major": 2,
       "version_minor": 0
      },
      "text/plain": [
       "Mappings: 0it [00:00, ?it/s]"
      ]
     },
     "metadata": {},
     "output_type": "display_data"
    },
    {
     "name": "stdout",
     "output_type": "stream",
     "text": [
      "Submitted to device in 6.5394 s\n"
     ]
    },
    {
     "data": {
      "application/vnd.jupyter.widget-view+json": {
       "model_id": "e3dbdff3b6d8491f8c69a168e019ccb1",
       "version_major": 2,
       "version_minor": 0
      },
      "text/plain": [
       "Running batch:   0%|          | 0/40 [00:00<?, ?it/s]"
      ]
     },
     "metadata": {},
     "output_type": "display_data"
    },
    {
     "name": "stdout",
     "output_type": "stream",
     "text": [
      "Predicted in 26.5883 s\n",
      "Iters. done: 5 Current cost: 0.03141799707056468 Accuracy: 0.6529862777665678 Time: 34.01956734199484\n",
      "[-3.12796163  2.20923479 -2.15356047  0.79727259  0.45787692 -2.84003282\n",
      "  3.10217594  2.21913693  1.17861986 -0.90578323  0.60926206  1.08842887\n",
      "  1.30878757 -1.83754319  1.05930109  2.92869346 -0.45472001 -0.53390713\n",
      " -1.94943806  0.96644527  1.83382822  2.59903043 -1.27248814 -0.24476434\n",
      " -2.55148033 -2.19211736  3.18233718  2.48878626 -0.54848978 -2.79958123\n",
      "  1.58113557 -0.03487004 -2.40488905  2.23078263  1.30281402 -0.52182491\n",
      "  0.98516107 -1.73367864 -0.3479275   2.34534114 -0.16352274  0.48817249\n",
      "  2.62697457  0.99203839  2.93104541  2.76133689  2.87866402 -2.78879742\n",
      "  0.17609349 -0.35129591  1.53780447  2.8570011  -0.27269594 -2.34909155\n",
      "  2.65752438 -3.00081876  0.74611123 -0.85515604 -1.61543159  2.91095663\n",
      " -1.70506496 -1.62327844 -2.60549583  2.14665867 -2.26107756  2.14784551\n",
      "  2.05804096  1.67840528  2.48059465  2.74975017  1.74108432  1.59959627\n",
      " -1.80899923 -2.10894248  1.38774611]\n",
      "0.03141799707056468\n"
     ]
    },
    {
     "data": {
      "application/vnd.jupyter.widget-view+json": {
       "model_id": "136bd5d023ee430797b94eb280026704",
       "version_major": 2,
       "version_minor": 0
      },
      "text/plain": [
       "Mappings: 0it [00:00, ?it/s]"
      ]
     },
     "metadata": {},
     "output_type": "display_data"
    },
    {
     "name": "stdout",
     "output_type": "stream",
     "text": [
      "Submitted to device in 6.9331 s\n"
     ]
    },
    {
     "data": {
      "application/vnd.jupyter.widget-view+json": {
       "model_id": "046cc766e05f4666bef60cdb5a4449cc",
       "version_major": 2,
       "version_minor": 0
      },
      "text/plain": [
       "Running batch:   0%|          | 0/40 [00:00<?, ?it/s]"
      ]
     },
     "metadata": {},
     "output_type": "display_data"
    },
    {
     "name": "stdout",
     "output_type": "stream",
     "text": [
      "Predicted in 26.2398 s\n",
      "Iters. done: 6 Current cost: 0.019792851377017095 Accuracy: 0.7813867314798764 Time: 34.06202248000773\n",
      "[-3.12796163  2.20923479 -2.15356047 -0.20272741  1.45787692 -2.84003282\n",
      "  3.10217594  2.21913693  1.17861986 -0.90578323  0.60926206  1.08842887\n",
      "  1.30878757 -1.83754319  1.05930109  2.92869346 -0.45472001 -0.53390713\n",
      " -1.94943806  0.96644527  1.83382822  2.59903043 -1.27248814 -0.24476434\n",
      " -2.55148033 -2.19211736  3.18233718  2.48878626 -0.54848978 -2.79958123\n",
      "  1.58113557 -0.03487004 -2.40488905  2.23078263  1.30281402 -0.52182491\n",
      "  0.98516107 -1.73367864 -0.3479275   2.34534114 -0.16352274  0.48817249\n",
      "  2.62697457  0.99203839  2.93104541  2.76133689  2.87866402 -2.78879742\n",
      "  0.17609349 -0.35129591  1.53780447  2.8570011  -0.27269594 -2.34909155\n",
      "  2.65752438 -3.00081876  0.74611123 -0.85515604 -1.61543159  2.91095663\n",
      " -1.70506496 -1.62327844 -2.60549583  2.14665867 -2.26107756  2.14784551\n",
      "  2.05804096  1.67840528  2.48059465  2.74975017  1.74108432  1.59959627\n",
      " -1.80899923 -2.10894248  1.38774611]\n",
      "0.019792851377017095\n"
     ]
    },
    {
     "data": {
      "application/vnd.jupyter.widget-view+json": {
       "model_id": "c15699edab414b7bb12fb9a542758024",
       "version_major": 2,
       "version_minor": 0
      },
      "text/plain": [
       "Mappings: 0it [00:00, ?it/s]"
      ]
     },
     "metadata": {},
     "output_type": "display_data"
    },
    {
     "name": "stdout",
     "output_type": "stream",
     "text": [
      "Submitted to device in 6.6072 s\n"
     ]
    },
    {
     "data": {
      "application/vnd.jupyter.widget-view+json": {
       "model_id": "071f81be9342452ba5ba78766bdd2259",
       "version_major": 2,
       "version_minor": 0
      },
      "text/plain": [
       "Running batch:   0%|          | 0/40 [00:00<?, ?it/s]"
      ]
     },
     "metadata": {},
     "output_type": "display_data"
    },
    {
     "name": "stdout",
     "output_type": "stream",
     "text": [
      "Predicted in 26.5962 s\n",
      "Iters. done: 7 Current cost: 0.03220461052613127 Accuracy: 0.6442980834630931 Time: 34.085802943009185\n",
      "[-3.12796163  2.20923479 -2.15356047 -0.20272741  0.45787692 -1.84003282\n",
      "  3.10217594  2.21913693  1.17861986 -0.90578323  0.60926206  1.08842887\n",
      "  1.30878757 -1.83754319  1.05930109  2.92869346 -0.45472001 -0.53390713\n",
      " -1.94943806  0.96644527  1.83382822  2.59903043 -1.27248814 -0.24476434\n",
      " -2.55148033 -2.19211736  3.18233718  2.48878626 -0.54848978 -2.79958123\n",
      "  1.58113557 -0.03487004 -2.40488905  2.23078263  1.30281402 -0.52182491\n",
      "  0.98516107 -1.73367864 -0.3479275   2.34534114 -0.16352274  0.48817249\n",
      "  2.62697457  0.99203839  2.93104541  2.76133689  2.87866402 -2.78879742\n",
      "  0.17609349 -0.35129591  1.53780447  2.8570011  -0.27269594 -2.34909155\n",
      "  2.65752438 -3.00081876  0.74611123 -0.85515604 -1.61543159  2.91095663\n",
      " -1.70506496 -1.62327844 -2.60549583  2.14665867 -2.26107756  2.14784551\n",
      "  2.05804096  1.67840528  2.48059465  2.74975017  1.74108432  1.59959627\n",
      " -1.80899923 -2.10894248  1.38774611]\n",
      "0.03220461052613127\n"
     ]
    },
    {
     "data": {
      "application/vnd.jupyter.widget-view+json": {
       "model_id": "121a4cf21d4a433bb96a0b5b0d4627f0",
       "version_major": 2,
       "version_minor": 0
      },
      "text/plain": [
       "Mappings: 0it [00:00, ?it/s]"
      ]
     },
     "metadata": {},
     "output_type": "display_data"
    },
    {
     "name": "stdout",
     "output_type": "stream",
     "text": [
      "Submitted to device in 5.9000 s\n"
     ]
    },
    {
     "data": {
      "application/vnd.jupyter.widget-view+json": {
       "model_id": "dffef6f134bd436280d2053610835ae8",
       "version_major": 2,
       "version_minor": 0
      },
      "text/plain": [
       "Running batch:   0%|          | 0/40 [00:00<?, ?it/s]"
      ]
     },
     "metadata": {},
     "output_type": "display_data"
    },
    {
     "name": "stdout",
     "output_type": "stream",
     "text": [
      "Predicted in 27.2625 s\n",
      "Iters. done: 8 Current cost: 0.025685610601565056 Accuracy: 0.7163008411176417 Time: 34.4341882729932\n",
      "[-3.12796163  2.20923479 -2.15356047 -0.20272741  0.45787692 -2.84003282\n",
      "  4.10217594  2.21913693  1.17861986 -0.90578323  0.60926206  1.08842887\n",
      "  1.30878757 -1.83754319  1.05930109  2.92869346 -0.45472001 -0.53390713\n",
      " -1.94943806  0.96644527  1.83382822  2.59903043 -1.27248814 -0.24476434\n",
      " -2.55148033 -2.19211736  3.18233718  2.48878626 -0.54848978 -2.79958123\n",
      "  1.58113557 -0.03487004 -2.40488905  2.23078263  1.30281402 -0.52182491\n",
      "  0.98516107 -1.73367864 -0.3479275   2.34534114 -0.16352274  0.48817249\n",
      "  2.62697457  0.99203839  2.93104541  2.76133689  2.87866402 -2.78879742\n",
      "  0.17609349 -0.35129591  1.53780447  2.8570011  -0.27269594 -2.34909155\n",
      "  2.65752438 -3.00081876  0.74611123 -0.85515604 -1.61543159  2.91095663\n",
      " -1.70506496 -1.62327844 -2.60549583  2.14665867 -2.26107756  2.14784551\n",
      "  2.05804096  1.67840528  2.48059465  2.74975017  1.74108432  1.59959627\n",
      " -1.80899923 -2.10894248  1.38774611]\n",
      "0.025685610601565056\n"
     ]
    },
    {
     "data": {
      "application/vnd.jupyter.widget-view+json": {
       "model_id": "a079da9d777b4d43b55183bc25b7e419",
       "version_major": 2,
       "version_minor": 0
      },
      "text/plain": [
       "Mappings: 0it [00:00, ?it/s]"
      ]
     },
     "metadata": {},
     "output_type": "display_data"
    },
    {
     "name": "stdout",
     "output_type": "stream",
     "text": [
      "Submitted to device in 6.4189 s\n"
     ]
    },
    {
     "data": {
      "application/vnd.jupyter.widget-view+json": {
       "model_id": "5de5a7c9084c4a1bbf56f680743b3a4e",
       "version_major": 2,
       "version_minor": 0
      },
      "text/plain": [
       "Running batch:   0%|          | 0/40 [00:00<?, ?it/s]"
      ]
     },
     "metadata": {},
     "output_type": "display_data"
    },
    {
     "name": "stdout",
     "output_type": "stream",
     "text": [
      "Predicted in 26.7880 s\n",
      "Iters. done: 9 Current cost: 0.02349422622895075 Accuracy: 0.7405048171469576 Time: 34.1597862530034\n",
      "[-3.12796163  2.20923479 -2.15356047 -0.20272741  0.45787692 -2.84003282\n",
      "  3.10217594  3.21913693  1.17861986 -0.90578323  0.60926206  1.08842887\n",
      "  1.30878757 -1.83754319  1.05930109  2.92869346 -0.45472001 -0.53390713\n",
      " -1.94943806  0.96644527  1.83382822  2.59903043 -1.27248814 -0.24476434\n",
      " -2.55148033 -2.19211736  3.18233718  2.48878626 -0.54848978 -2.79958123\n",
      "  1.58113557 -0.03487004 -2.40488905  2.23078263  1.30281402 -0.52182491\n",
      "  0.98516107 -1.73367864 -0.3479275   2.34534114 -0.16352274  0.48817249\n",
      "  2.62697457  0.99203839  2.93104541  2.76133689  2.87866402 -2.78879742\n",
      "  0.17609349 -0.35129591  1.53780447  2.8570011  -0.27269594 -2.34909155\n",
      "  2.65752438 -3.00081876  0.74611123 -0.85515604 -1.61543159  2.91095663\n",
      " -1.70506496 -1.62327844 -2.60549583  2.14665867 -2.26107756  2.14784551\n",
      "  2.05804096  1.67840528  2.48059465  2.74975017  1.74108432  1.59959627\n",
      " -1.80899923 -2.10894248  1.38774611]\n",
      "0.02349422622895075\n"
     ]
    },
    {
     "data": {
      "application/vnd.jupyter.widget-view+json": {
       "model_id": "eae1cd1c08d74c13b023d1581136db14",
       "version_major": 2,
       "version_minor": 0
      },
      "text/plain": [
       "Mappings: 0it [00:00, ?it/s]"
      ]
     },
     "metadata": {},
     "output_type": "display_data"
    },
    {
     "name": "stdout",
     "output_type": "stream",
     "text": [
      "Submitted to device in 6.6688 s\n"
     ]
    },
    {
     "data": {
      "application/vnd.jupyter.widget-view+json": {
       "model_id": "496e0e66126f486b84a7aa07ea795c43",
       "version_major": 2,
       "version_minor": 0
      },
      "text/plain": [
       "Running batch:   0%|          | 0/40 [00:00<?, ?it/s]"
      ]
     },
     "metadata": {},
     "output_type": "display_data"
    },
    {
     "name": "stdout",
     "output_type": "stream",
     "text": [
      "Predicted in 26.6759 s\n",
      "Iters. done: 10 Current cost: 0.0335996309693505 Accuracy: 0.6288899963241845 Time: 34.27028784500726\n",
      "[-3.12796163  2.20923479 -2.15356047 -0.20272741  0.45787692 -2.84003282\n",
      "  3.10217594  2.21913693  2.17861986 -0.90578323  0.60926206  1.08842887\n",
      "  1.30878757 -1.83754319  1.05930109  2.92869346 -0.45472001 -0.53390713\n",
      " -1.94943806  0.96644527  1.83382822  2.59903043 -1.27248814 -0.24476434\n",
      " -2.55148033 -2.19211736  3.18233718  2.48878626 -0.54848978 -2.79958123\n",
      "  1.58113557 -0.03487004 -2.40488905  2.23078263  1.30281402 -0.52182491\n",
      "  0.98516107 -1.73367864 -0.3479275   2.34534114 -0.16352274  0.48817249\n",
      "  2.62697457  0.99203839  2.93104541  2.76133689  2.87866402 -2.78879742\n",
      "  0.17609349 -0.35129591  1.53780447  2.8570011  -0.27269594 -2.34909155\n",
      "  2.65752438 -3.00081876  0.74611123 -0.85515604 -1.61543159  2.91095663\n",
      " -1.70506496 -1.62327844 -2.60549583  2.14665867 -2.26107756  2.14784551\n",
      "  2.05804096  1.67840528  2.48059465  2.74975017  1.74108432  1.59959627\n",
      " -1.80899923 -2.10894248  1.38774611]\n",
      "0.0335996309693505\n",
      "[-3.12796163  2.20923479 -2.15356047 -0.20272741  0.45787692 -2.84003282\n",
      "  3.10217594  2.21913693  2.17861986 -0.90578323  0.60926206  1.08842887\n",
      "  1.30878757 -1.83754319  1.05930109  2.92869346 -0.45472001 -0.53390713\n",
      " -1.94943806  0.96644527  1.83382822  2.59903043 -1.27248814 -0.24476434\n",
      " -2.55148033 -2.19211736  3.18233718  2.48878626 -0.54848978 -2.79958123\n",
      "  1.58113557 -0.03487004 -2.40488905  2.23078263  1.30281402 -0.52182491\n",
      "  0.98516107 -1.73367864 -0.3479275   2.34534114 -0.16352274  0.48817249\n",
      "  2.62697457  0.99203839  2.93104541  2.76133689  2.87866402 -2.78879742\n",
      "  0.17609349 -0.35129591  1.53780447  2.8570011  -0.27269594 -2.34909155\n",
      "  2.65752438 -3.00081876  0.74611123 -0.85515604 -1.61543159  2.91095663\n",
      " -1.70506496 -1.62327844 -2.60549583  2.14665867 -2.26107756  2.14784551\n",
      "  2.05804096  1.67840528  2.48059465  2.74975017  1.74108432  1.59959627\n",
      " -1.80899923 -2.10894248  1.38774611]\n",
      "0.0335996309693505\n"
     ]
    }
   ],
   "source": [
    "model.fit(X_train,y_train)"
   ]
  },
  {
   "cell_type": "code",
   "execution_count": 12,
   "id": "5b3f19fe-3b13-4512-acb1-af73b63581a4",
   "metadata": {},
   "outputs": [],
   "source": [
    "# Goal, error handling: RuntimeJobFailureError: 'Unable to retrieve job result. Job estimator_cv61fk0tqh9s73cvpdeg_f0fa_4 cancelled due to compilation timeout 8100000000000.'\n"
   ]
  }
 ],
 "metadata": {
  "kernelspec": {
   "display_name": "Python 3 (ipykernel)",
   "language": "python",
   "name": "python3"
  },
  "language_info": {
   "codemirror_mode": {
    "name": "ipython",
    "version": 3
   },
   "file_extension": ".py",
   "mimetype": "text/x-python",
   "name": "python",
   "nbconvert_exporter": "python",
   "pygments_lexer": "ipython3",
   "version": "3.11.11"
  }
 },
 "nbformat": 4,
 "nbformat_minor": 5
}
