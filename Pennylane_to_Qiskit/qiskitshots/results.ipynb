{
 "cells": [
  {
   "cell_type": "code",
   "execution_count": null,
   "id": "a1bd2f7d-ad51-4643-adce-d9d5d7ec1168",
   "metadata": {},
   "outputs": [],
   "source": [
    "from glob import glob\n",
    "import json\n",
    "import pandas as pd\n",
    "import matplotlib.pyplot as plt\n",
    "import seaborn as sns"
   ]
  },
  {
   "cell_type": "code",
   "execution_count": null,
   "id": "7431e2b3-1203-4955-8da9-653f587ebc00",
   "metadata": {},
   "outputs": [],
   "source": [
    "datadct = {}\n",
    "for i in glob('*/*results.json'):\n",
    "    datadct[int(i.split('/')[0].split('_')[1])]=pd.read_json(i,orient='index').rename(columns={0:int(i.split('/')[0].split('_')[1])})"
   ]
  },
  {
   "cell_type": "code",
   "execution_count": null,
   "id": "d360d723-41f9-4bc5-be80-5c69402aaa9e",
   "metadata": {
    "scrolled": true
   },
   "outputs": [],
   "source": [
    "df = pd.concat(datadct.values(),axis=1).sort_index(axis=1)"
   ]
  },
  {
   "cell_type": "code",
   "execution_count": null,
   "id": "d213a4c4-7a30-4dbe-8d3b-98979e64e000",
   "metadata": {},
   "outputs": [],
   "source": [
    "melteddf = df.T.reset_index().melt(id_vars=['index'], value_vars=['R2_train','R2_test'])"
   ]
  },
  {
   "cell_type": "code",
   "execution_count": null,
   "id": "b95d3e13-6c19-4e4f-a8da-fa31cdb9fe06",
   "metadata": {},
   "outputs": [],
   "source": [
    "df.T.sort_values(by=['R2_train','R2_test'])"
   ]
  },
  {
   "cell_type": "code",
   "execution_count": null,
   "id": "c9357c0e-d0d2-4181-ba3f-a8000d5f6d7b",
   "metadata": {},
   "outputs": [],
   "source": [
    "sns.scatterplot(melteddf,x='index',y='value',hue='variable')\n"
   ]
  },
  {
   "cell_type": "code",
   "execution_count": null,
   "id": "8708179d-b8ed-4468-8cbe-9bc1d6fc5877",
   "metadata": {},
   "outputs": [],
   "source": []
  }
 ],
 "metadata": {
  "kernelspec": {
   "display_name": "Python 3 (ipykernel)",
   "language": "python",
   "name": "python3"
  },
  "language_info": {
   "codemirror_mode": {
    "name": "ipython",
    "version": 3
   },
   "file_extension": ".py",
   "mimetype": "text/x-python",
   "name": "python",
   "nbconvert_exporter": "python",
   "pygments_lexer": "ipython3",
   "version": "3.12.9"
  }
 },
 "nbformat": 4,
 "nbformat_minor": 5
}
