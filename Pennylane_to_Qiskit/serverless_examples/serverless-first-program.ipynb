{
 "cells": [
  {
   "cell_type": "markdown",
   "metadata": {},
   "source": [
    "# Write your first Qiskit Serverless program\n",
    "\n"
   ]
  },
  {
   "cell_type": "markdown",
   "metadata": {
    "tags": [
     "version-info"
    ]
   },
   "source": [
    "<details>\n",
    "  <summary><b>Package versions</b></summary>\n",
    "\n",
    "  The code on this page was developed using the following requirements.\n",
    "  We recommend using these versions or newer.\n",
    "\n",
    "  ```\n",
    "  qiskit[all]~=1.3.1\n",
    "  qiskit-ibm-runtime~=0.34.0\n",
    "  qiskit-aer~=0.15.1\n",
    "  qiskit-serverless~=0.18.1\n",
    "  qiskit-ibm-catalog~=0.2\n",
    "  qiskit-addon-sqd~=0.8.1\n",
    "  qiskit-addon-utils~=0.1.0\n",
    "  qiskit-addon-mpf~=0.2.0\n",
    "  qiskit-addon-aqc-tensor~=0.1.2\n",
    "  qiskit-addon-obp~=0.1.0\n",
    "  scipy~=1.15.0\n",
    "  pyscf~=2.8.0\n",
    "  ```\n",
    "</details>\n",
    "\n"
   ]
  },
  {
   "cell_type": "markdown",
   "metadata": {},
   "source": [
    "This example demonstrates how to use `qiskit-serverless` tools to create a parallel transpilation program, and then implement `qiskit-ibm-catalog` to deploy your program to IBM Quantum™ Platform to use as a reusable remote service.\n",
    "\n"
   ]
  },
  {
   "cell_type": "markdown",
   "metadata": {},
   "source": [
    "## Example: remote transpilation with Qiskit Serverless\n",
    "\n",
    "Start with the following example that transpiles a `circuit` against a given `backend` and target `optimization_level`, and gradually add more elements to deploy your workload to Qiskit Serverless.\n",
    "\n",
    "Put the following code cell in the file `./source_files/transpile_remote.py`. This file is the program we'll upload to Qiskit Serverless.\n",
    "\n"
   ]
  },
  {
   "cell_type": "code",
   "execution_count": 2,
   "metadata": {
    "editable": true,
    "slideshow": {
     "slide_type": ""
    },
    "tags": []
   },
   "outputs": [
    {
     "name": "stdout",
     "output_type": "stream",
     "text": [
      "Writing ./source_files/transpile_remote.py\n"
     ]
    }
   ],
   "source": [
    "%%writefile ./source_files/transpile_remote.py\n",
    "\n",
    "from qiskit.transpiler.preset_passmanagers import generate_preset_pass_manager\n",
    "\n",
    "def transpile_remote(circuit, optimization_level, backend):\n",
    "    \"\"\"Transpiles an abstract circuit into an ISA circuit for a given backend.\"\"\"\n",
    "    pass_manager = generate_preset_pass_manager(\n",
    "        optimization_level=optimization_level,\n",
    "\t\tbackend=backend\n",
    "    )\n",
    "    isa_circuit = pass_manager.run(circuit)\n",
    "    return isa_circuit"
   ]
  },
  {
   "cell_type": "markdown",
   "metadata": {},
   "source": [
    "## Set up your files\n",
    "\n",
    "Qiskit Serverless requires setting up your workload’s `.py` files into a dedicated directory. The following structure is an example of good practice:\n",
    "\n",
    "```text\n",
    "serverless_program\n",
    "├── program_uploader.ipynb\n",
    "└── source_files\n",
    "    ├── transpile_remote.py\n",
    "    └── *.py\n",
    "```\n",
    "\n",
    "Serverless uploads the contents of `source_files` to run remotely. Once these are set up, you can adjust `transpile_remote.py` to fetch inputs and return outputs.\n",
    "\n",
    "### Get program arguments\n",
    "\n",
    "Your initial `transpile_remote.py` has three inputs: `circuits`, `backend_name`, and `optimization_level`. Serverless is currently limited to only accept serializable inputs and outputs. For this reason, you cannot pass in `backend` directly, so use `backend_name` as a string instead.\n",
    "\n"
   ]
  },
  {
   "cell_type": "code",
   "execution_count": 3,
   "metadata": {},
   "outputs": [
    {
     "name": "stdout",
     "output_type": "stream",
     "text": [
      "Appending to ./source_files/transpile_remote.py\n"
     ]
    }
   ],
   "source": [
    "%%writefile --append ./source_files/transpile_remote.py\n",
    "\n",
    "from qiskit_serverless import get_arguments, save_result, distribute_task, get\n",
    "\n",
    "# Get program arguments\n",
    "arguments = get_arguments()\n",
    "circuits = arguments.get(\"circuits\")\n",
    "backend_name = arguments.get(\"backend_name\")\n",
    "optimization_level = arguments.get(\"optimization_level\")"
   ]
  },
  {
   "cell_type": "markdown",
   "metadata": {},
   "source": [
    "At this point, you can get your backend with `QiskitRuntimeService`, and add your existing program:\n",
    "\n"
   ]
  },
  {
   "cell_type": "code",
   "execution_count": 4,
   "metadata": {},
   "outputs": [
    {
     "name": "stdout",
     "output_type": "stream",
     "text": [
      "Appending to ./source_files/transpile_remote.py\n"
     ]
    }
   ],
   "source": [
    "%%writefile --append ./source_files/transpile_remote.py\n",
    "\n",
    "from qiskit_ibm_runtime import QiskitRuntimeService\n",
    "\n",
    "# If you have not previously saved your credentials, follow instructions at\n",
    "# https://docs.quantum.ibm.com/guides/setup-channel#iqp\n",
    "# to authenticate with your API token.\n",
    "service = QiskitRuntimeService(channel=\"ibm_quantum\")\n",
    "backend = service.backend(backend_name)"
   ]
  },
  {
   "cell_type": "markdown",
   "metadata": {},
   "source": [
    "Finally, you can run `transpile_remote()` across all `circuits` passed in, and return the `transpiled_circuits` as a result:\n",
    "\n"
   ]
  },
  {
   "cell_type": "code",
   "execution_count": 5,
   "metadata": {},
   "outputs": [
    {
     "name": "stdout",
     "output_type": "stream",
     "text": [
      "Appending to ./source_files/transpile_remote.py\n"
     ]
    }
   ],
   "source": [
    "%%writefile --append ./source_files/transpile_remote.py\n",
    "\n",
    "results = [\n",
    "    transpile_remote(circuit, 1, backend)\n",
    "    for circuit in circuits\n",
    "]\n",
    "\n",
    "save_result({\n",
    "    \"transpiled_circuits\": results\n",
    "})"
   ]
  },
  {
   "cell_type": "markdown",
   "metadata": {},
   "source": [
    "## Deploy to IBM Quantum Platform\n",
    "\n",
    "The previous section created a program to be run remotely. The code cells in this section upload that program to Qiskit Serverless.\n",
    "\n",
    "Use `qiskit-ibm-catalog` to authenticate to `QiskitServerless` with your API token, which you can find in your [IBM Quantum account](https://quantum.ibm.com/account), and upload the program.\n",
    "\n",
    "You can use `save_account()` to save your credentials (See the \"Authenticate to the service\" step in the [Set up to use IBM Quantum Platform](./setup-channel#set-up-to-use-ibm-quantum-platform) section). Note that this writes your credentials to the same file as [`QiskitRuntimeService.save_account()`](/api/qiskit-ibm-runtime/qiskit_ibm_runtime.QiskitRuntimeService#save_account).\n",
    "\n"
   ]
  },
  {
   "cell_type": "code",
   "execution_count": 6,
   "metadata": {},
   "outputs": [],
   "source": [
    "from qiskit_ibm_catalog import QiskitServerless, QiskitFunction\n",
    "\n",
    "# Authenticate to the remote cluster and submit the pattern for remote execution\n",
    "serverless = QiskitServerless()"
   ]
  },
  {
   "cell_type": "markdown",
   "metadata": {},
   "source": [
    "Qiskit Serverless compresses the contents of `working_dir` (in this case, `source_files`) into a `tar`, which is uploaded and cleaned up after. The `entrypoint` identifies the main program executable for Qiskit Serverless to run. Additionally, if your program has custom `pip` dependencies, you can add them to a `dependencies` array:\n",
    "\n"
   ]
  },
  {
   "cell_type": "code",
   "execution_count": 7,
   "metadata": {},
   "outputs": [],
   "source": [
    "transpile_remote_demo = QiskitFunction(\n",
    "    title=\"transpile_remote_serverless\",\n",
    "    entrypoint=\"transpile_remote.py\",\n",
    "    working_dir=\"./source_files/\",\n",
    ")"
   ]
  },
  {
   "cell_type": "code",
   "execution_count": 8,
   "metadata": {},
   "outputs": [
    {
     "data": {
      "text/plain": [
       "QiskitFunction(transpile_remote_serverless)"
      ]
     },
     "execution_count": 8,
     "metadata": {},
     "output_type": "execute_result"
    }
   ],
   "source": [
    "serverless.upload(transpile_remote_demo)"
   ]
  },
  {
   "cell_type": "markdown",
   "metadata": {},
   "source": [
    "To check if it successfully uploaded, use `serverless.list()`:\n",
    "\n"
   ]
  },
  {
   "cell_type": "code",
   "execution_count": 9,
   "metadata": {},
   "outputs": [
    {
     "data": {
      "text/plain": [
       "QiskitFunction(transpile_remote_serverless)"
      ]
     },
     "execution_count": 9,
     "metadata": {},
     "output_type": "execute_result"
    }
   ],
   "source": [
    "# Get program from serverless.list() that matches the title of the one we uploaded\n",
    "next(\n",
    "    program\n",
    "    for program in serverless.list()\n",
    "    if program.title == \"transpile_remote_serverless\"\n",
    ")"
   ]
  },
  {
   "cell_type": "markdown",
   "metadata": {},
   "source": [
    "## Next steps\n",
    "\n",
    "<Admonition type=\"info\" title=\"Recommendations\">\n",
    "  *   Learn how to pass inputs and run your program remotely in the [Run your first Qiskit Serverless workload remotely](./serverless-run-first-workload) topic.\n",
    "</Admonition>\n",
    "\n"
   ]
  }
 ],
 "metadata": {
  "description": "How to create a parallel transpilation program and deploy it to IBM Quantum Platform to use as a reusable remote service.",
  "kernelspec": {
   "display_name": "Python 3 (ipykernel)",
   "language": "python",
   "name": "python3"
  },
  "language_info": {
   "codemirror_mode": {
    "name": "ipython",
    "version": 3
   },
   "file_extension": ".py",
   "mimetype": "text/x-python",
   "name": "python",
   "nbconvert_exporter": "python",
   "pygments_lexer": "ipython3",
   "version": "3.12.4"
  },
  "title": "Write your first Qiskit Serverless program"
 },
 "nbformat": 4,
 "nbformat_minor": 4
}
