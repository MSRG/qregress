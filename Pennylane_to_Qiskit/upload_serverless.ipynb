{
 "cells": [
  {
   "cell_type": "code",
   "execution_count": 1,
   "id": "61b5003b-188c-477b-9be7-a62cb462f75d",
   "metadata": {},
   "outputs": [],
   "source": [
    "from qiskit_ibm_runtime.fake_provider import FakeQuebec\n",
    "from qiskit_ibm_runtime import QiskitRuntimeService\n",
    "from sklearn.exceptions import InconsistentVersionWarning\n",
    "\n",
    "import joblib\n",
    "import numpy as np\n",
    "import warnings\n",
    "\n",
    "warnings.filterwarnings(\"ignore\",category=DeprecationWarning,module=\"qiskit_aer.backends.aer_compiler\")\n",
    "warnings.filterwarnings(\"ignore\", category=InconsistentVersionWarning)\n"
   ]
  },
  {
   "cell_type": "code",
   "execution_count": 2,
   "id": "0c4d3749-2b57-458b-b496-6f6a2ba09e39",
   "metadata": {},
   "outputs": [
    {
     "name": "stdout",
     "output_type": "stream",
     "text": [
      "(19, 64, 5) (40, 64, 5)\n",
      "(19, 64) (40, 64)\n"
     ]
    }
   ],
   "source": [
    "# with open('linear_train.bin','rb') as f:\n",
    "#     train = joblib.load(f)\n",
    "\n",
    "# with open('linear_test.bin','rb') as f:\n",
    "#     test = joblib.load(f)\n",
    "\n",
    "# with open('linear_scaler.bin','rb') as f:\n",
    "#     scaler = joblib.load(f)\n",
    "# X_train, y_train = train['X'],train['y']\n",
    "# X_test, y_test = test['X'],test['y']\n",
    "\n",
    "\n",
    "# with open('PCA5_0.8_Morgan_train.bin','rb') as f:\n",
    "#     bse_train = joblib.load(f)\n",
    "\n",
    "# with open('PCA5_0.8_Morgan_test.bin','rb') as f:\n",
    "#     bse_test = joblib.load(f)\n",
    "\n",
    "# with open('PCA5_0.8_Morgan_scaler.bin','rb') as f:\n",
    "#     bse_scaler = joblib.load(f)\n",
    "\n",
    "# X_bse_train, y_bse_train = bse_train['X'],bse_train['y']\n",
    "# X_bse_test, y_bse_test = bse_test['X'],bse_test['y']\n",
    "\n",
    "\n",
    "# X_bse_train[np.isclose(X_bse_train,1)]=1\n",
    "# X_bse_train[np.isclose(X_bse_train,-1)]=-1\n",
    "\n",
    "\n",
    "\n",
    "# X_train, y_train = X_bse_train, y_bse_train\n",
    "# X_test, y_test = X_bse_test, y_bse_test\n",
    "# scaler = bse_scaler\n",
    "\n",
    "\n",
    "\n",
    "with open('0.1_5_DDCC_train.bin','rb') as f:\n",
    "    ddcc_train = joblib.load(f)\n",
    "\n",
    "with open('0.1_5_DDCC_test.bin','rb') as f:\n",
    "    ddcc_test = joblib.load(f)\n",
    "\n",
    "with open('0.1_5_DDCC_scaler.bin','rb') as f:\n",
    "    ddcc_scaler = joblib.load(f)\n",
    "\n",
    "X_ddcc_train, y_ddcc_train = ddcc_train['X'],ddcc_train['y']\n",
    "X_ddcc_test, y_ddcc_test = ddcc_test['X'],ddcc_test['y']\n",
    "\n",
    "X_ddcc_train = X_ddcc_train.reshape(-1,64,5)\n",
    "X_ddcc_test = X_ddcc_test.reshape(-1,64,5)\n",
    "y_ddcc_train = y_ddcc_train.reshape(-1,64)\n",
    "y_ddcc_test = y_ddcc_test.reshape(-1,64)\n",
    "\n",
    "\n",
    "# X_train, y_train = X_ddcc_train, y_ddcc_train\n",
    "# X_test, y_test = X_ddcc_test, y_ddcc_test\n",
    "X_train, y_train = X_ddcc_train, y_ddcc_train\n",
    "X_test, y_test = X_ddcc_test, y_ddcc_test\n",
    "scaler = ddcc_scaler\n",
    "\n",
    "print(X_train.shape, X_test.shape)\n",
    "print(y_train.shape, y_test.shape)"
   ]
  },
  {
   "cell_type": "code",
   "execution_count": 3,
   "id": "2d133a7c-cffa-425b-b110-485479214fe6",
   "metadata": {},
   "outputs": [],
   "source": [
    "backend='Fake'\n",
    "# Select backend\n",
    "if backend=='Real':\n",
    "    service = QiskitRuntimeService(channel=\"ibm_quantum\", instance='pinq-quebec-hub/univ-toronto/default')\n",
    "    _backend = service.least_busy(operational=True, simulator=False, min_num_qubits=127)\n",
    "else:\n",
    "    _backend = FakeQuebec()\n"
   ]
  },
  {
   "cell_type": "code",
   "execution_count": 4,
   "id": "87d131b1-499c-4ad6-a7be-0f8bb985d6f6",
   "metadata": {},
   "outputs": [],
   "source": [
    "from serverless_run.transpile_remote import transpile_remote\n",
    "from serverless_run.circuit import circuit\n",
    "from serverless_run.machine_learning import run"
   ]
  },
  {
   "cell_type": "code",
   "execution_count": 5,
   "id": "82d2ca4d-b33a-472e-93a2-57a644f67c36",
   "metadata": {},
   "outputs": [],
   "source": [
    "num_qubits = 5\n",
    "RUD = 3"
   ]
  },
  {
   "cell_type": "code",
   "execution_count": 6,
   "id": "e8b1233e-d7c3-4c35-9ba4-9040297ad2ed",
   "metadata": {},
   "outputs": [
    {
     "name": "stdout",
     "output_type": "stream",
     "text": [
      "Parameters from scratch\n"
     ]
    }
   ],
   "source": [
    "initial_circuit = circuit(num_qubits,RUD)\n",
    "qc, mapped_observables = transpile_remote(initial_circuit,_backend)\n",
    "\n",
    "num_params = len([i for i in list(qc.parameters) if 'theta' in i.name]) // RUD\n",
    "generator = np.random.default_rng(12958234)\n",
    "load_params = None\n",
    "\n",
    "if load_params!=None:\n",
    "    print('Parameters loaded')\n",
    "    x0 = np.load(load_params)['x']\n",
    "else:\n",
    "    print('Parameters from scratch')\n",
    "    x0 = np.tile(generator.uniform(-np.pi, np.pi, num_params),RUD)"
   ]
  },
  {
   "cell_type": "code",
   "execution_count": 7,
   "id": "7cf78959-9912-4419-be6b-9f2cd3b8fc79",
   "metadata": {
    "scrolled": true
   },
   "outputs": [
    {
     "name": "stderr",
     "output_type": "stream",
     "text": [
      "/home/grierjones/miniconda3/envs/qml_min/lib/python3.12/site-packages/qiskit_aer/noise/errors/quantum_error.py:322: DeprecationWarning: The property ``qiskit.circuit.instruction.Instruction.condition`` is deprecated as of qiskit 1.3.0. It will be removed in 2.0.0.\n",
      "  if inst.operation.condition:\n"
     ]
    },
    {
     "name": "stdout",
     "output_type": "stream",
     "text": [
      "Submitted to device in 74.8626 s\n"
     ]
    },
    {
     "name": "stderr",
     "output_type": "stream",
     "text": [
      "Running batch: 100%|███████████████████████████████████████████████████████████████████████████████████████████████████████████████████████████████████████████████████████████████| 19/19 [00:22<00:00,  1.17s/it]\n"
     ]
    },
    {
     "name": "stdout",
     "output_type": "stream",
     "text": [
      "Predicted in 22.4480 s\n",
      "Iters. done: 1 Current cost: 0.1458909078164183 Accuracy: -3.973797108635194e+29 Time: 98.16081966098864\n",
      "Now scoring model... \n",
      "Submitted to device in 87.1034 s\n"
     ]
    },
    {
     "name": "stderr",
     "output_type": "stream",
     "text": [
      "Running batch: 100%|███████████████████████████████████████████████████████████████████████████████████████████████████████████████████████████████████████████████████████████████| 19/19 [00:23<00:00,  1.24s/it]\n"
     ]
    },
    {
     "name": "stdout",
     "output_type": "stream",
     "text": [
      "Predicted in 23.8205 s\n",
      "Submitted to device in 210.2687 s\n"
     ]
    },
    {
     "name": "stderr",
     "output_type": "stream",
     "text": [
      "Running batch: 100%|███████████████████████████████████████████████████████████████████████████████████████████████████████████████████████████████████████████████████████████████| 40/40 [00:18<00:00,  2.16it/s]\n"
     ]
    },
    {
     "name": "stdout",
     "output_type": "stream",
     "text": [
      "Predicted in 18.7726 s\n",
      "Scoring complete taking 343.1158518791199 seconds. \n"
     ]
    },
    {
     "data": {
      "image/png": "[encoded data removed]",
      "text/plain": [
       "<Figure size 640x480 with 1 Axes>"
      ]
     },
     "metadata": {},
     "output_type": "display_data"
    }
   ],
   "source": [
    "run(x0,qc,mapped_observables,num_qubits,X_train,y_train,X_test, y_test,scaler,_backend,n_jobs=-1)"
   ]
  },
  {
   "cell_type": "code",
   "execution_count": null,
   "id": "3d6563f6-1bac-4ee5-bfe8-e18a0f06f170",
   "metadata": {},
   "outputs": [],
   "source": [
    "from qiskit_serverless import get_arguments, save_result, distribute_task, get\n",
    "\n",
    "arguments = get_arguments()\n",
    "circuit = arguments.get(\"circuit\")\n",
    "optimization_level = arguments.get(\"optimization_level\")\n",
    "backend = arguments.get(\"backend\")\n",
    "\n",
    "transpile_worker_reference = transpile_remote(\n",
    "    circuit,\n",
    "    optimization_level,\n",
    "    backend\n",
    ")\n",
    "result = get(transpile_worker_reference)\n",
    "save_result(result)\n",
    "\n",
    "transpile_worker_references = [\n",
    "    transpile_remote(circuit, optimization_level, backend)\n",
    "    for circuit in arguments.get(\"circuit_list\")\n",
    "]\n",
    "\n",
    "results = get(transpile_worker_references)\n",
    "save_result(results)  # Overwrites any previously saved results\n",
    "\n",
    "@distribute_task(target={\n",
    "    \"cpu\": 16,\n",
    "    \"mem\": 2 * 1024 * 1024 * 1024\n",
    "})\n",
    "def transpile_remote(circuit, optimization_level, backend):\n",
    "    return None"
   ]
  }
 ],
 "metadata": {
  "kernelspec": {
   "display_name": "Python 3 (ipykernel)",
   "language": "python",
   "name": "python3"
  },
  "language_info": {
   "codemirror_mode": {
    "name": "ipython",
    "version": 3
   },
   "file_extension": ".py",
   "mimetype": "text/x-python",
   "name": "python",
   "nbconvert_exporter": "python",
   "pygments_lexer": "ipython3",
   "version": "3.12.9"
  }
 },
 "nbformat": 4,
 "nbformat_minor": 5
}
