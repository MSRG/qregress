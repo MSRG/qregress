{
 "cells": [
  {
   "cell_type": "code",
   "execution_count": 1,
   "id": "dc8f5c2c-b710-429b-9f46-14c842ed6478",
   "metadata": {
    "editable": true,
    "execution": {
     "iopub.execute_input": "2025-03-28T22:18:52.629141Z",
     "iopub.status.busy": "2025-03-28T22:18:52.628804Z",
     "iopub.status.idle": "2025-03-28T22:18:54.556390Z",
     "shell.execute_reply": "2025-03-28T22:18:54.555757Z"
    },
    "papermill": {
     "duration": 1.937199,
     "end_time": "2025-03-28T22:18:54.558303",
     "exception": false,
     "start_time": "2025-03-28T22:18:52.621104",
     "status": "completed"
    },
    "slideshow": {
     "slide_type": ""
    },
    "tags": []
   },
   "outputs": [],
   "source": [
    "import os\n",
    "n_jobs = 64\n",
    "os.environ[\"OMP_NUM_THREADS\"] = str(n_jobs)\n",
    "import joblib\n",
    "import click\n",
    "import json\n",
    "import time\n",
    "\n",
    "import itertools\n",
    "import collections.abc\n",
    "import sys\n",
    "from tqdm.notebook import tqdm\n",
    "# !{sys.executable} -m pip install qcircuit\n",
    "\n",
    "import matplotlib.pyplot as plt\n",
    "import numpy as np\n",
    "import pandas as pd\n",
    "import pennylane as qml\n",
    "from sklearn.metrics import mean_squared_error, r2_score, mean_absolute_error\n",
    "\n",
    "# Qiskit\n",
    "from qiskit import QuantumCircuit\n",
    "from qiskit.quantum_info import Pauli, SparsePauliOp, Operator\n",
    "from qiskit.primitives import StatevectorEstimator\n",
    "from qiskit.circuit import Parameter, ParameterVector\n",
    "from qiskit.transpiler.preset_passmanagers import generate_preset_pass_manager\n",
    "from qiskit.quantum_info import SparsePauliOp\n",
    "from qiskit_ibm_runtime import EstimatorV2 as Estimator\n",
    "from qiskit_ibm_runtime import QiskitRuntimeService\n",
    "from qiskit_aer import AerSimulator\n",
    "from qiskit_aer.noise import NoiseModel\n",
    "from qiskit_ibm_runtime.fake_provider import FakeQuebec\n",
    "from qiskit_ibm_runtime import Batch\n",
    "from qiskit_ibm_runtime import exceptions\n",
    "# from qiskit_machine_learning.optimizers import SPSA, Minimizer\n",
    "\n",
    "\n",
    "from joblib import dump, load\n",
    "from QiskitRegressor import QiskitRegressor"
   ]
  },
  {
   "cell_type": "code",
   "execution_count": 2,
   "id": "9e8cd7b1-46c5-4d8e-966b-87a99489ddac",
   "metadata": {
    "editable": true,
    "execution": {
     "iopub.execute_input": "2025-03-28T22:18:54.564273Z",
     "iopub.status.busy": "2025-03-28T22:18:54.563676Z",
     "iopub.status.idle": "2025-03-28T22:18:54.572280Z",
     "shell.execute_reply": "2025-03-28T22:18:54.571710Z"
    },
    "papermill": {
     "duration": 0.012067,
     "end_time": "2025-03-28T22:18:54.573071",
     "exception": false,
     "start_time": "2025-03-28T22:18:54.561004",
     "status": "completed"
    },
    "slideshow": {
     "slide_type": ""
    },
    "tags": []
   },
   "outputs": [],
   "source": [
    "def mitarai(quantumcircuit,num_wires,paramname='x'):\n",
    "    # encoding as proposed by Mitarai et al.\n",
    "    num_features = num_wires\n",
    "    features = ParameterVector(paramname,num_features*2)\n",
    "    for i in range(num_wires):\n",
    "        feature_idx = i % num_features  # Calculate the feature index using modulo\n",
    "        quantumcircuit.ry(np.arcsin(features[feature_idx * 2]), i)\n",
    "        quantumcircuit.rz(np.arccos(features[feature_idx * 2 + 1] ** 2), i)\n",
    "\n",
    "\n",
    "def double_angle(quantumcircuit, num_wires,paramname='x'):\n",
    "    #  creates a circuit that encodes features into wires via angle encoding with an RY then RZ gate\n",
    "    #  the features are encoded 1-1 onto the qubits\n",
    "    #  if more wires are passed then features the remaining wires will be filled from the beginning of the feature list\n",
    "    num_features = num_wires\n",
    "    features = ParameterVector(paramname,num_features*2)\n",
    "    for i in range(num_wires):\n",
    "        feature_index = i % num_features\n",
    "        quantumcircuit.ry(features[feature_index], i)\n",
    "        quantumcircuit.rz(features[feature_index], i)\n",
    "\n",
    "def entangle_cnot(quantumcircuit,num_wires):\n",
    "    #  entangles all of the wires in a circular fashion using cnot gates\n",
    "    for i in range(num_wires):\n",
    "        \n",
    "        if i == num_wires - 1:\n",
    "            quantumcircuit.cx(i, 0)\n",
    "        else:\n",
    "            quantumcircuit.cx(i, i+1)\n",
    "\n",
    "\n",
    "def entangle_cz(quantumcircuit,num_wires):\n",
    "    #  entangles all of the wires in a circular fashion using cz gates\n",
    "    for i in range(num_wires):\n",
    "        \n",
    "        if i == num_wires - 1:\n",
    "            quantumcircuit.cz(i, 0)\n",
    "        else:\n",
    "            quantumcircuit.cz(i, i+1)\n",
    "\n",
    "\n",
    "def HardwareEfficient(quantumcircuit,num_wires,paramname='theta'):\n",
    "    parameters = ParameterVector(paramname,num_wires*3)\n",
    "    for qubit in range(num_wires):\n",
    "        quantumcircuit.rx(parameters[qubit * 3], qubit)  \n",
    "        quantumcircuit.rz(parameters[qubit * 3 + 1], qubit)  \n",
    "        quantumcircuit.rx(parameters[qubit * 3 + 2], qubit)  \n",
    "    entangle_cnot(quantumcircuit,num_wires)\n",
    "\n"
   ]
  },
  {
   "cell_type": "code",
   "execution_count": 3,
   "id": "98051576-89f8-4a1d-980e-3708e2089ad6",
   "metadata": {
    "execution": {
     "iopub.execute_input": "2025-03-28T22:18:54.577579Z",
     "iopub.status.busy": "2025-03-28T22:18:54.577421Z",
     "iopub.status.idle": "2025-03-28T22:18:54.581112Z",
     "shell.execute_reply": "2025-03-28T22:18:54.580573Z"
    },
    "papermill": {
     "duration": 0.006874,
     "end_time": "2025-03-28T22:18:54.581879",
     "exception": false,
     "start_time": "2025-03-28T22:18:54.575005",
     "status": "completed"
    },
    "tags": []
   },
   "outputs": [],
   "source": [
    "# def circuit(nqubits):\n",
    "#     qc = QuantumCircuit(nqubits)\n",
    "#     mitarai(qc,nqubits)\n",
    "#     entangle_cz(qc,nqubits)\n",
    "#     qc.barrier()\n",
    "#     mitarai(qc,nqubits,paramname='x1')\n",
    "#     entangle_cz(qc,nqubits)\n",
    "#     qc.barrier()\n",
    "#     HardwareEfficient(qc,nqubits)\n",
    "#     qc.barrier()\n",
    "#     return qc\n",
    "\n",
    "\n",
    "def circuit(nqubits,RUD=1,AL=1):\n",
    "    qc = QuantumCircuit(nqubits)\n",
    "    for i in range(RUD):\n",
    "        double_angle(qc,nqubits,paramname=f'x{i}')\n",
    "        qc.barrier()\n",
    "        for j in range(AL):        \n",
    "            HardwareEfficient(qc,nqubits,paramname=f'theta{i}_{j}')\n",
    "            qc.barrier()\n",
    "    return qc"
   ]
  },
  {
   "cell_type": "code",
   "execution_count": 4,
   "id": "11cb5805-20c7-493a-b96c-8eac41dcc1d7",
   "metadata": {
    "execution": {
     "iopub.execute_input": "2025-03-28T22:18:54.586793Z",
     "iopub.status.busy": "2025-03-28T22:18:54.586644Z",
     "iopub.status.idle": "2025-03-28T22:18:54.594710Z",
     "shell.execute_reply": "2025-03-28T22:18:54.594099Z"
    },
    "papermill": {
     "duration": 0.011699,
     "end_time": "2025-03-28T22:18:54.595503",
     "exception": false,
     "start_time": "2025-03-28T22:18:54.583804",
     "status": "completed"
    },
    "tags": []
   },
   "outputs": [
    {
     "name": "stdout",
     "output_type": "stream",
     "text": [
      "(4, 64) (4, 64)\n"
     ]
    },
    {
     "name": "stderr",
     "output_type": "stream",
     "text": [
      "/home/ubuntu/miniconda3/envs/qml/lib/python3.11/site-packages/sklearn/base.py:380: InconsistentVersionWarning: Trying to unpickle estimator MinMaxScaler from version 1.5.1 when using version 1.6.0. This might lead to breaking code or invalid results. Use at your own risk. For more info please refer to:\n",
      "https://scikit-learn.org/stable/model_persistence.html#security-maintainability-limitations\n",
      "  warnings.warn(\n"
     ]
    }
   ],
   "source": [
    "\n",
    "top=os.getcwd()\n",
    "with open(os.path.join(top,'5_DDCC_train.bin'),'rb') as f:\n",
    "    ddcc_train = joblib.load(f)\n",
    "\n",
    "with open(os.path.join(top,'5_DDCC_test.bin'),'rb') as f:\n",
    "    ddcc_test = joblib.load(f)\n",
    "\n",
    "with open(os.path.join(top,'5_DDCC_scaler.bin'),'rb') as f:\n",
    "    ddcc_scaler = joblib.load(f)\n",
    "\n",
    "X_ddcc_train, y_ddcc_train = ddcc_train['X'],ddcc_train['y']\n",
    "X_ddcc_test, y_ddcc_test = ddcc_test['X'],ddcc_test['y']\n",
    "\n",
    "X_ddcc_train = X_ddcc_train.reshape(-1,64,5)[0:4]\n",
    "X_ddcc_test = X_ddcc_test.reshape(-1,64,5)[0:4]\n",
    "y_ddcc_train = y_ddcc_train.reshape(-1,64)[0:4]\n",
    "y_ddcc_test = y_ddcc_test.reshape(-1,64)[0:4]\n",
    "\n",
    "\n",
    "# X_train, y_train = X_ddcc_train, y_ddcc_train\n",
    "# X_test, y_test = X_ddcc_test, y_ddcc_test\n",
    "X_train, y_train = X_ddcc_train, y_ddcc_train\n",
    "X_test, y_test = X_ddcc_test, y_ddcc_test\n",
    "\n",
    "# X_train = [X_train[i:i+4] for i in range(0,len(X_train),4)]\n",
    "# X_test = [X_test[i:i+4] for i in range(0,len(X_test),4)]\n",
    "scaler = ddcc_scaler\n",
    "\n",
    "# print(len(X_train),X_train[0].shape,X_train[-1].shape)\n",
    "print(y_train.shape, y_test.shape)"
   ]
  },
  {
   "cell_type": "code",
   "execution_count": 5,
   "id": "0172f0c5-8225-47b8-91e3-8e113113d13e",
   "metadata": {
    "editable": true,
    "execution": {
     "iopub.execute_input": "2025-03-28T22:18:54.600232Z",
     "iopub.status.busy": "2025-03-28T22:18:54.600083Z",
     "iopub.status.idle": "2025-03-28T22:18:54.602954Z",
     "shell.execute_reply": "2025-03-28T22:18:54.602402Z"
    },
    "papermill": {
     "duration": 0.006091,
     "end_time": "2025-03-28T22:18:54.603638",
     "exception": false,
     "start_time": "2025-03-28T22:18:54.597547",
     "status": "completed"
    },
    "slideshow": {
     "slide_type": ""
    },
    "tags": []
   },
   "outputs": [],
   "source": [
    "num_qubits = 5\n",
    "RUD = 1\n",
    "AL = 5"
   ]
  },
  {
   "cell_type": "code",
   "execution_count": 6,
   "id": "fcdd8b11-a018-4461-9461-cf12e6026e13",
   "metadata": {
    "editable": true,
    "execution": {
     "iopub.execute_input": "2025-03-28T22:18:54.608558Z",
     "iopub.status.busy": "2025-03-28T22:18:54.608409Z",
     "iopub.status.idle": "2025-03-28T22:18:54.611259Z",
     "shell.execute_reply": "2025-03-28T22:18:54.610725Z"
    },
    "papermill": {
     "duration": 0.006428,
     "end_time": "2025-03-28T22:18:54.612034",
     "exception": false,
     "start_time": "2025-03-28T22:18:54.605606",
     "status": "completed"
    },
    "slideshow": {
     "slide_type": ""
    },
    "tags": [
     "parameters"
    ]
   },
   "outputs": [],
   "source": [
    "optimization_level = 2\n",
    "shots = 3072\n",
    "# shots = 1024.0 * 1\n",
    "resilience_level = 1"
   ]
  },
  {
   "cell_type": "code",
   "execution_count": 7,
   "id": "0dd61067-2a66-4c32-bff7-34a6678cea46",
   "metadata": {
    "editable": true,
    "execution": {
     "iopub.execute_input": "2025-03-28T22:18:54.616702Z",
     "iopub.status.busy": "2025-03-28T22:18:54.616561Z",
     "iopub.status.idle": "2025-03-28T22:18:54.619477Z",
     "shell.execute_reply": "2025-03-28T22:18:54.618944Z"
    },
    "papermill": {
     "duration": 0.006148,
     "end_time": "2025-03-28T22:18:54.620213",
     "exception": false,
     "start_time": "2025-03-28T22:18:54.614065",
     "status": "completed"
    },
    "slideshow": {
     "slide_type": ""
    },
    "tags": []
   },
   "outputs": [],
   "source": [
    "optimization_level = int(optimization_level)\n",
    "shots = int(shots)\n",
    "# shots = 1024.0 * 1\n",
    "resilience_level = int(resilience_level)"
   ]
  },
  {
   "cell_type": "code",
   "execution_count": 8,
   "id": "9f37a160-f338-4f3d-9b17-c1c695681785",
   "metadata": {
    "execution": {
     "iopub.execute_input": "2025-03-28T22:18:54.624985Z",
     "iopub.status.busy": "2025-03-28T22:18:54.624843Z",
     "iopub.status.idle": "2025-03-28T22:18:54.630084Z",
     "shell.execute_reply": "2025-03-28T22:18:54.629512Z"
    },
    "papermill": {
     "duration": 0.008514,
     "end_time": "2025-03-28T22:18:54.630773",
     "exception": false,
     "start_time": "2025-03-28T22:18:54.622259",
     "status": "completed"
    },
    "tags": []
   },
   "outputs": [],
   "source": [
    "# \n",
    "qc = circuit(num_qubits,RUD,AL)\n",
    "\n",
    "observables_labels = ''.join(['I']*(num_qubits-1))+\"Z\""
   ]
  },
  {
   "cell_type": "code",
   "execution_count": null,
   "id": "5ce28d8f-681e-4e65-823a-e959be65c068",
   "metadata": {
    "papermill": {
     "duration": 0.001981,
     "end_time": "2025-03-28T22:18:54.634921",
     "exception": false,
     "start_time": "2025-03-28T22:18:54.632940",
     "status": "completed"
    },
    "tags": []
   },
   "outputs": [],
   "source": []
  },
  {
   "cell_type": "code",
   "execution_count": null,
   "id": "88886f6a-d6b3-42da-8f53-359cebe5938e",
   "metadata": {
    "papermill": {
     "duration": 0.001955,
     "end_time": "2025-03-28T22:18:54.638865",
     "exception": false,
     "start_time": "2025-03-28T22:18:54.636910",
     "status": "completed"
    },
    "tags": []
   },
   "outputs": [],
   "source": []
  },
  {
   "cell_type": "code",
   "execution_count": 9,
   "id": "d4755fc2-654e-4b9a-9cb9-0f8d050b1dd3",
   "metadata": {
    "execution": {
     "iopub.execute_input": "2025-03-28T22:18:54.643832Z",
     "iopub.status.busy": "2025-03-28T22:18:54.643658Z"
    },
    "papermill": {
     "duration": null,
     "end_time": null,
     "exception": false,
     "start_time": "2025-03-28T22:18:54.640834",
     "status": "running"
    },
    "tags": []
   },
   "outputs": [
    {
     "name": "stdout",
     "output_type": "stream",
     "text": [
      "None\n",
      "Parameters from scratch\n",
      "[-2.90318345  2.23743464 -2.12427964 -0.11653103  0.55388708 -2.77010897\n",
      "  3.06858498  2.18960145  1.18551998 -1.06648308  0.6027151   1.14432445\n",
      "  1.31029899 -1.8735468   0.7296508  -2.90318345  2.23743464 -2.12427964\n",
      " -0.11653103  0.55388708 -2.77010897  3.06858498  2.18960145  1.18551998\n",
      " -1.06648308  0.6027151   1.14432445  1.31029899 -1.8735468   0.7296508\n",
      " -2.90318345  2.23743464 -2.12427964 -0.11653103  0.55388708 -2.77010897\n",
      "  3.06858498  2.18960145  1.18551998 -1.06648308  0.6027151   1.14432445\n",
      "  1.31029899 -1.8735468   0.7296508  -2.90318345  2.23743464 -2.12427964\n",
      " -0.11653103  0.55388708 -2.77010897  3.06858498  2.18960145  1.18551998\n",
      " -1.06648308  0.6027151   1.14432445  1.31029899 -1.8735468   0.7296508\n",
      " -2.90318345  2.23743464 -2.12427964 -0.11653103  0.55388708 -2.77010897\n",
      "  3.06858498  2.18960145  1.18551998 -1.06648308  0.6027151   1.14432445\n",
      "  1.31029899 -1.8735468   0.7296508 ]\n"
     ]
    },
    {
     "name": "stdout",
     "output_type": "stream",
     "text": [
      "[SparsePauliOp(['IIIIIIIIIIIIIIIIIIIIIIIIIIIIIIIIIIIIIIIIIIIIIIIIIIIIIIIIIIIIIIIIIIIIIIIIIIIIIIIIIZIIIIIIIIIIIIIIIIIIIIIIIIIIIIIIIIIIIIIIIIIIIII'],\n",
      "              coeffs=[1.+0.j])]\n",
      "<IBMBackend('ibm_quebec')>\n"
     ]
    },
    {
     "data": {
      "application/vnd.jupyter.widget-view+json": {
       "model_id": "872bc7f1d30b46daaa900806a8edc108",
       "version_major": 2,
       "version_minor": 0
      },
      "text/plain": [
       "Mappings: 0it [00:00, ?it/s]"
      ]
     },
     "metadata": {},
     "output_type": "display_data"
    },
    {
     "name": "stdout",
     "output_type": "stream",
     "text": [
      "Submitted to device in 21.3299 s\n"
     ]
    },
    {
     "data": {
      "application/vnd.jupyter.widget-view+json": {
       "model_id": "192673de04ea4f049d1c96ea3775dbc7",
       "version_major": 2,
       "version_minor": 0
      },
      "text/plain": [
       "Running batch:   0%|          | 0/1 [00:00<?, ?it/s]"
      ]
     },
     "metadata": {},
     "output_type": "display_data"
    },
    {
     "name": "stdout",
     "output_type": "stream",
     "text": [
      "Predicted in 3775.9051 s\n",
      "Iters. done: 1 Current cost: 0.11861554537520244 Accuracy: -0.3112655106130533 Time: 3797.3238604217768\n"
     ]
    },
    {
     "data": {
      "application/vnd.jupyter.widget-view+json": {
       "model_id": "29b7f4f247a44e78934140ada1dc594c",
       "version_major": 2,
       "version_minor": 0
      },
      "text/plain": [
       "Mappings: 0it [00:00, ?it/s]"
      ]
     },
     "metadata": {},
     "output_type": "display_data"
    },
    {
     "name": "stdout",
     "output_type": "stream",
     "text": [
      "Submitted to device in 20.4436 s\n"
     ]
    },
    {
     "data": {
      "application/vnd.jupyter.widget-view+json": {
       "model_id": "7957c92981a8441eb1ae49cc64712abd",
       "version_major": 2,
       "version_minor": 0
      },
      "text/plain": [
       "Running batch:   0%|          | 0/1 [00:00<?, ?it/s]"
      ]
     },
     "metadata": {},
     "output_type": "display_data"
    },
    {
     "name": "stdout",
     "output_type": "stream",
     "text": [
      "Predicted in 1434.8335 s\n",
      "Iters. done: 2 Current cost: 0.11330188643448916 Accuracy: -0.25252432553416515 Time: 1455.415636781603\n"
     ]
    },
    {
     "data": {
      "application/vnd.jupyter.widget-view+json": {
       "model_id": "3ff832986b334ef89cff9043a5a5004b",
       "version_major": 2,
       "version_minor": 0
      },
      "text/plain": [
       "Mappings: 0it [00:00, ?it/s]"
      ]
     },
     "metadata": {},
     "output_type": "display_data"
    },
    {
     "name": "stdout",
     "output_type": "stream",
     "text": [
      "Submitted to device in 21.8249 s\n"
     ]
    },
    {
     "data": {
      "application/vnd.jupyter.widget-view+json": {
       "model_id": "88a56946f84242ba954ae40c2237e732",
       "version_major": 2,
       "version_minor": 0
      },
      "text/plain": [
       "Running batch:   0%|          | 0/1 [00:00<?, ?it/s]"
      ]
     },
     "metadata": {},
     "output_type": "display_data"
    },
    {
     "name": "stdout",
     "output_type": "stream",
     "text": [
      "Predicted in 3923.1162 s\n",
      "Iters. done: 3 Current cost: 0.10579666448110227 Accuracy: -0.16955595350634867 Time: 3945.040379963815\n"
     ]
    },
    {
     "data": {
      "application/vnd.jupyter.widget-view+json": {
       "model_id": "68d5779645414273bd6db6a4a7d44c38",
       "version_major": 2,
       "version_minor": 0
      },
      "text/plain": [
       "Mappings: 0it [00:00, ?it/s]"
      ]
     },
     "metadata": {},
     "output_type": "display_data"
    },
    {
     "name": "stdout",
     "output_type": "stream",
     "text": [
      "Submitted to device in 16.3259 s\n"
     ]
    },
    {
     "data": {
      "application/vnd.jupyter.widget-view+json": {
       "model_id": "bebda329ecc344d594bfa046da1a67bd",
       "version_major": 2,
       "version_minor": 0
      },
      "text/plain": [
       "Running batch:   0%|          | 0/1 [00:00<?, ?it/s]"
      ]
     },
     "metadata": {},
     "output_type": "display_data"
    },
    {
     "name": "stdout",
     "output_type": "stream",
     "text": [
      "Predicted in 2893.6691 s\n",
      "Iters. done: 4 Current cost: 0.11806237820425494 Accuracy: -0.30515038438257114 Time: 2910.097545351833\n"
     ]
    },
    {
     "data": {
      "application/vnd.jupyter.widget-view+json": {
       "model_id": "716022ad0469490ca55cf07dae7de4cf",
       "version_major": 2,
       "version_minor": 0
      },
      "text/plain": [
       "Mappings: 0it [00:00, ?it/s]"
      ]
     },
     "metadata": {},
     "output_type": "display_data"
    },
    {
     "name": "stdout",
     "output_type": "stream",
     "text": [
      "Submitted to device in 20.6447 s\n"
     ]
    },
    {
     "data": {
      "application/vnd.jupyter.widget-view+json": {
       "model_id": "f14f21fc55644eb89f2c9d290116fc8f",
       "version_major": 2,
       "version_minor": 0
      },
      "text/plain": [
       "Running batch:   0%|          | 0/1 [00:00<?, ?it/s]"
      ]
     },
     "metadata": {},
     "output_type": "display_data"
    },
    {
     "name": "stdout",
     "output_type": "stream",
     "text": [
      "Predicted in 3727.2437 s\n",
      "Iters. done: 5 Current cost: 0.10747110758913919 Accuracy: -0.1880665078363679 Time: 3747.9852797836065\n"
     ]
    },
    {
     "data": {
      "application/vnd.jupyter.widget-view+json": {
       "model_id": "daba3cbe1d71407e95897d942e7cb69f",
       "version_major": 2,
       "version_minor": 0
      },
      "text/plain": [
       "Mappings: 0it [00:00, ?it/s]"
      ]
     },
     "metadata": {},
     "output_type": "display_data"
    },
    {
     "name": "stdout",
     "output_type": "stream",
     "text": [
      "Submitted to device in 19.0986 s\n"
     ]
    },
    {
     "data": {
      "application/vnd.jupyter.widget-view+json": {
       "model_id": "ba8aa0cc35d8474a908e1988b0e44255",
       "version_major": 2,
       "version_minor": 0
      },
      "text/plain": [
       "Running batch:   0%|          | 0/1 [00:00<?, ?it/s]"
      ]
     },
     "metadata": {},
     "output_type": "display_data"
    },
    {
     "name": "stdout",
     "output_type": "stream",
     "text": [
      "Predicted in 2283.3296 s\n",
      "Iters. done: 6 Current cost: 0.10567505737789162 Accuracy: -0.1682116170639263 Time: 2302.527808070183\n"
     ]
    },
    {
     "data": {
      "application/vnd.jupyter.widget-view+json": {
       "model_id": "15c9444f2b834e25ab69f3aabe5ef4bd",
       "version_major": 2,
       "version_minor": 0
      },
      "text/plain": [
       "Mappings: 0it [00:00, ?it/s]"
      ]
     },
     "metadata": {},
     "output_type": "display_data"
    },
    {
     "name": "stdout",
     "output_type": "stream",
     "text": [
      "Submitted to device in 21.5991 s\n"
     ]
    },
    {
     "data": {
      "application/vnd.jupyter.widget-view+json": {
       "model_id": "cca05d6ab8ec40c59bd5f4a9fc22eec8",
       "version_major": 2,
       "version_minor": 0
      },
      "text/plain": [
       "Running batch:   0%|          | 0/1 [00:00<?, ?it/s]"
      ]
     },
     "metadata": {},
     "output_type": "display_data"
    },
    {
     "name": "stdout",
     "output_type": "stream",
     "text": [
      "Predicted in 3771.7387 s\n",
      "Iters. done: 7 Current cost: 0.11071419322766014 Accuracy: -0.22391801728485938 Time: 3793.422645200044\n"
     ]
    },
    {
     "data": {
      "application/vnd.jupyter.widget-view+json": {
       "model_id": "600233b9a75043c1abd670f1bcdff1d6",
       "version_major": 2,
       "version_minor": 0
      },
      "text/plain": [
       "Mappings: 0it [00:00, ?it/s]"
      ]
     },
     "metadata": {},
     "output_type": "display_data"
    },
    {
     "name": "stdout",
     "output_type": "stream",
     "text": [
      "Submitted to device in 22.5153 s\n"
     ]
    },
    {
     "data": {
      "application/vnd.jupyter.widget-view+json": {
       "model_id": "1584271ebb0a438d90ef85ba63530fe9",
       "version_major": 2,
       "version_minor": 0
      },
      "text/plain": [
       "Running batch:   0%|          | 0/1 [00:00<?, ?it/s]"
      ]
     },
     "metadata": {},
     "output_type": "display_data"
    },
    {
     "name": "stdout",
     "output_type": "stream",
     "text": [
      "Predicted in 4439.3131 s\n",
      "Iters. done: 8 Current cost: 0.10245252793589965 Accuracy: -0.1325873512828022 Time: 4461.939020462334\n"
     ]
    },
    {
     "data": {
      "application/vnd.jupyter.widget-view+json": {
       "model_id": "0ccc469ede5f4c368b024458c094790b",
       "version_major": 2,
       "version_minor": 0
      },
      "text/plain": [
       "Mappings: 0it [00:00, ?it/s]"
      ]
     },
     "metadata": {},
     "output_type": "display_data"
    },
    {
     "name": "stdout",
     "output_type": "stream",
     "text": [
      "Submitted to device in 22.2433 s\n"
     ]
    },
    {
     "data": {
      "application/vnd.jupyter.widget-view+json": {
       "model_id": "572e55aac1d3496f931e98cf2b3e0f81",
       "version_major": 2,
       "version_minor": 0
      },
      "text/plain": [
       "Running batch:   0%|          | 0/1 [00:00<?, ?it/s]"
      ]
     },
     "metadata": {},
     "output_type": "display_data"
    },
    {
     "name": "stdout",
     "output_type": "stream",
     "text": [
      "Predicted in 3322.3630 s\n",
      "Iters. done: 9 Current cost: 0.0981521659755614 Accuracy: -0.08504791364916842 Time: 3344.707445155829\n"
     ]
    },
    {
     "data": {
      "application/vnd.jupyter.widget-view+json": {
       "model_id": "6d321c6d59c8470ba34c21bc053de166",
       "version_major": 2,
       "version_minor": 0
      },
      "text/plain": [
       "Mappings: 0it [00:00, ?it/s]"
      ]
     },
     "metadata": {},
     "output_type": "display_data"
    },
    {
     "name": "stdout",
     "output_type": "stream",
     "text": [
      "Submitted to device in 21.8399 s\n"
     ]
    },
    {
     "data": {
      "application/vnd.jupyter.widget-view+json": {
       "model_id": "0bc3d68521414adc93b3e62d9faf6bc7",
       "version_major": 2,
       "version_minor": 0
      },
      "text/plain": [
       "Running batch:   0%|          | 0/1 [00:00<?, ?it/s]"
      ]
     },
     "metadata": {},
     "output_type": "display_data"
    },
    {
     "name": "stdout",
     "output_type": "stream",
     "text": [
      "Predicted in 3283.8479 s\n",
      "Iters. done: 10 Current cost: 0.10578167788619253 Accuracy: -0.16939028040705528 Time: 3305.7680470868945\n"
     ]
    },
    {
     "data": {
      "application/vnd.jupyter.widget-view+json": {
       "model_id": "5a574c4503614795b37115233267a760",
       "version_major": 2,
       "version_minor": 0
      },
      "text/plain": [
       "Mappings: 0it [00:00, ?it/s]"
      ]
     },
     "metadata": {},
     "output_type": "display_data"
    },
    {
     "name": "stdout",
     "output_type": "stream",
     "text": [
      "Submitted to device in 17.7598 s\n"
     ]
    },
    {
     "data": {
      "application/vnd.jupyter.widget-view+json": {
       "model_id": "fd0a0116f651414aa2d290528c307f3f",
       "version_major": 2,
       "version_minor": 0
      },
      "text/plain": [
       "Running batch:   0%|          | 0/1 [00:00<?, ?it/s]"
      ]
     },
     "metadata": {},
     "output_type": "display_data"
    },
    {
     "name": "stdout",
     "output_type": "stream",
     "text": [
      "Predicted in 3357.6184 s\n",
      "Iters. done: 11 Current cost: 0.12061866628259577 Accuracy: -0.33340951670554575 Time: 3375.4756003543735\n"
     ]
    },
    {
     "data": {
      "application/vnd.jupyter.widget-view+json": {
       "model_id": "f605accc3153428e9dae733f5b19cede",
       "version_major": 2,
       "version_minor": 0
      },
      "text/plain": [
       "Mappings: 0it [00:00, ?it/s]"
      ]
     },
     "metadata": {},
     "output_type": "display_data"
    },
    {
     "name": "stdout",
     "output_type": "stream",
     "text": [
      "Submitted to device in 20.5202 s\n"
     ]
    },
    {
     "data": {
      "application/vnd.jupyter.widget-view+json": {
       "model_id": "8b3d97d899b145a88cb822371c52fd42",
       "version_major": 2,
       "version_minor": 0
      },
      "text/plain": [
       "Running batch:   0%|          | 0/1 [00:00<?, ?it/s]"
      ]
     },
     "metadata": {},
     "output_type": "display_data"
    },
    {
     "name": "stdout",
     "output_type": "stream",
     "text": [
      "Predicted in 2650.2946 s\n",
      "Iters. done: 12 Current cost: 0.09272135830953189 Accuracy: -0.025011678392552472 Time: 2670.9073472879827\n"
     ]
    },
    {
     "data": {
      "application/vnd.jupyter.widget-view+json": {
       "model_id": "a049ada9b6e74fa1ac1814b469a87e5d",
       "version_major": 2,
       "version_minor": 0
      },
      "text/plain": [
       "Mappings: 0it [00:00, ?it/s]"
      ]
     },
     "metadata": {},
     "output_type": "display_data"
    },
    {
     "name": "stdout",
     "output_type": "stream",
     "text": [
      "Submitted to device in 18.0337 s\n"
     ]
    },
    {
     "data": {
      "application/vnd.jupyter.widget-view+json": {
       "model_id": "f18df9ff940b4bff91ee33e6a1242efe",
       "version_major": 2,
       "version_minor": 0
      },
      "text/plain": [
       "Running batch:   0%|          | 0/1 [00:00<?, ?it/s]"
      ]
     },
     "metadata": {},
     "output_type": "display_data"
    },
    {
     "name": "stdout",
     "output_type": "stream",
     "text": [
      "Predicted in 3259.2932 s\n",
      "Iters. done: 13 Current cost: 0.1072895974005026 Accuracy: -0.18605995760358707 Time: 3277.4015969894826\n"
     ]
    },
    {
     "data": {
      "application/vnd.jupyter.widget-view+json": {
       "model_id": "1fc8b1b4cd0c47d0bb93e6d42b428672",
       "version_major": 2,
       "version_minor": 0
      },
      "text/plain": [
       "Mappings: 0it [00:00, ?it/s]"
      ]
     },
     "metadata": {},
     "output_type": "display_data"
    },
    {
     "name": "stdout",
     "output_type": "stream",
     "text": [
      "Submitted to device in 18.6876 s\n"
     ]
    },
    {
     "data": {
      "application/vnd.jupyter.widget-view+json": {
       "model_id": "77194a84e1494e0c9f9dc1c211965b2a",
       "version_major": 2,
       "version_minor": 0
      },
      "text/plain": [
       "Running batch:   0%|          | 0/1 [00:00<?, ?it/s]"
      ]
     },
     "metadata": {},
     "output_type": "display_data"
    },
    {
     "name": "stdout",
     "output_type": "stream",
     "text": [
      "Predicted in 3084.7963 s\n",
      "Iters. done: 14 Current cost: 0.09290130531158819 Accuracy: -0.027000947984394452 Time: 3103.565657183528\n"
     ]
    },
    {
     "data": {
      "application/vnd.jupyter.widget-view+json": {
       "model_id": "c23106e20d9e4130a280eb8f536755bf",
       "version_major": 2,
       "version_minor": 0
      },
      "text/plain": [
       "Mappings: 0it [00:00, ?it/s]"
      ]
     },
     "metadata": {},
     "output_type": "display_data"
    },
    {
     "name": "stdout",
     "output_type": "stream",
     "text": [
      "Submitted to device in 23.7700 s\n"
     ]
    },
    {
     "data": {
      "application/vnd.jupyter.widget-view+json": {
       "model_id": "4902351bf8b34468982b198d16dcf09d",
       "version_major": 2,
       "version_minor": 0
      },
      "text/plain": [
       "Running batch:   0%|          | 0/1 [00:00<?, ?it/s]"
      ]
     },
     "metadata": {},
     "output_type": "display_data"
    },
    {
     "name": "stdout",
     "output_type": "stream",
     "text": [
      "Predicted in 2183.2898 s\n",
      "Iters. done: 15 Current cost: 0.09766085608846574 Accuracy: -0.07961660438920681 Time: 2207.137390859425\n"
     ]
    },
    {
     "data": {
      "application/vnd.jupyter.widget-view+json": {
       "model_id": "ca570f37e311420980c93dbae80b7ee6",
       "version_major": 2,
       "version_minor": 0
      },
      "text/plain": [
       "Mappings: 0it [00:00, ?it/s]"
      ]
     },
     "metadata": {},
     "output_type": "display_data"
    },
    {
     "name": "stdout",
     "output_type": "stream",
     "text": [
      "Submitted to device in 19.8774 s\n"
     ]
    },
    {
     "data": {
      "application/vnd.jupyter.widget-view+json": {
       "model_id": "78f902e040b746c3bab19d40bdce6093",
       "version_major": 2,
       "version_minor": 0
      },
      "text/plain": [
       "Running batch:   0%|          | 0/1 [00:00<?, ?it/s]"
      ]
     },
     "metadata": {},
     "output_type": "display_data"
    },
    {
     "name": "stdout",
     "output_type": "stream",
     "text": [
      "Predicted in 3696.0815 s\n",
      "Iters. done: 16 Current cost: 0.10537260102825517 Accuracy: -0.16486803694135732 Time: 3716.0576520338655\n"
     ]
    },
    {
     "data": {
      "application/vnd.jupyter.widget-view+json": {
       "model_id": "32b22101b71f409b918acb68d15844e1",
       "version_major": 2,
       "version_minor": 0
      },
      "text/plain": [
       "Mappings: 0it [00:00, ?it/s]"
      ]
     },
     "metadata": {},
     "output_type": "display_data"
    },
    {
     "name": "stdout",
     "output_type": "stream",
     "text": [
      "Submitted to device in 19.3778 s\n"
     ]
    },
    {
     "data": {
      "application/vnd.jupyter.widget-view+json": {
       "model_id": "f85bc5c01cc5405ca66e7b767bfa8a50",
       "version_major": 2,
       "version_minor": 0
      },
      "text/plain": [
       "Running batch:   0%|          | 0/1 [00:00<?, ?it/s]"
      ]
     },
     "metadata": {},
     "output_type": "display_data"
    },
    {
     "name": "stdout",
     "output_type": "stream",
     "text": [
      "Predicted in 4116.7598 s\n",
      "Iters. done: 17 Current cost: 0.09700277498833487 Accuracy: -0.07234168062556079 Time: 4136.246231682599\n"
     ]
    },
    {
     "data": {
      "application/vnd.jupyter.widget-view+json": {
       "model_id": "2cce781558184e4fa8ce3175e4c7861d",
       "version_major": 2,
       "version_minor": 0
      },
      "text/plain": [
       "Mappings: 0it [00:00, ?it/s]"
      ]
     },
     "metadata": {},
     "output_type": "display_data"
    },
    {
     "name": "stdout",
     "output_type": "stream",
     "text": [
      "Submitted to device in 20.5000 s\n"
     ]
    },
    {
     "data": {
      "application/vnd.jupyter.widget-view+json": {
       "model_id": "15e0b51bc08a4019bb191800a3e2efef",
       "version_major": 2,
       "version_minor": 0
      },
      "text/plain": [
       "Running batch:   0%|          | 0/1 [00:00<?, ?it/s]"
      ]
     },
     "metadata": {},
     "output_type": "display_data"
    },
    {
     "name": "stdout",
     "output_type": "stream",
     "text": [
      "Predicted in 3063.2220 s\n",
      "Iters. done: 18 Current cost: 0.11343930577522932 Accuracy: -0.2540434623507921 Time: 3083.838211130351\n"
     ]
    },
    {
     "data": {
      "application/vnd.jupyter.widget-view+json": {
       "model_id": "ddc7309bad90429f82bd95722056aa7a",
       "version_major": 2,
       "version_minor": 0
      },
      "text/plain": [
       "Mappings: 0it [00:00, ?it/s]"
      ]
     },
     "metadata": {},
     "output_type": "display_data"
    },
    {
     "name": "stdout",
     "output_type": "stream",
     "text": [
      "Submitted to device in 22.4645 s\n"
     ]
    },
    {
     "data": {
      "application/vnd.jupyter.widget-view+json": {
       "model_id": "35fc3765c80146aea2e93b9e0be3396f",
       "version_major": 2,
       "version_minor": 0
      },
      "text/plain": [
       "Running batch:   0%|          | 0/1 [00:00<?, ?it/s]"
      ]
     },
     "metadata": {},
     "output_type": "display_data"
    },
    {
     "name": "stdout",
     "output_type": "stream",
     "text": [
      "Predicted in 1439.8677 s\n",
      "Iters. done: 19 Current cost: 0.09923869863950092 Accuracy: -0.09705926345894023 Time: 1462.4235972464085\n"
     ]
    },
    {
     "data": {
      "application/vnd.jupyter.widget-view+json": {
       "model_id": "ec2ca394acaa444087c475390e67d0c2",
       "version_major": 2,
       "version_minor": 0
      },
      "text/plain": [
       "Mappings: 0it [00:00, ?it/s]"
      ]
     },
     "metadata": {},
     "output_type": "display_data"
    },
    {
     "name": "stdout",
     "output_type": "stream",
     "text": [
      "Submitted to device in 22.1282 s\n"
     ]
    },
    {
     "data": {
      "application/vnd.jupyter.widget-view+json": {
       "model_id": "e8c0e4d05ee544ce928e2a5869b668fc",
       "version_major": 2,
       "version_minor": 0
      },
      "text/plain": [
       "Running batch:   0%|          | 0/1 [00:00<?, ?it/s]"
      ]
     },
     "metadata": {},
     "output_type": "display_data"
    },
    {
     "name": "stdout",
     "output_type": "stream",
     "text": [
      "Predicted in 622.2033 s\n",
      "Iters. done: 20 Current cost: 0.08444235937140734 Accuracy: 0.06651060678200393 Time: 644.4319204799831\n"
     ]
    },
    {
     "data": {
      "application/vnd.jupyter.widget-view+json": {
       "model_id": "acb744b850004972a4f96e1ef91e39fc",
       "version_major": 2,
       "version_minor": 0
      },
      "text/plain": [
       "Mappings: 0it [00:00, ?it/s]"
      ]
     },
     "metadata": {},
     "output_type": "display_data"
    },
    {
     "name": "stdout",
     "output_type": "stream",
     "text": [
      "Submitted to device in 16.7144 s\n"
     ]
    },
    {
     "data": {
      "application/vnd.jupyter.widget-view+json": {
       "model_id": "22f5429910e44c219350f344c5adfc34",
       "version_major": 2,
       "version_minor": 0
      },
      "text/plain": [
       "Running batch:   0%|          | 0/1 [00:00<?, ?it/s]"
      ]
     },
     "metadata": {},
     "output_type": "display_data"
    },
    {
     "name": "stdout",
     "output_type": "stream",
     "text": [
      "Predicted in 295.2001 s\n",
      "Iters. done: 21 Current cost: 0.09305634028687759 Accuracy: -0.028714821283148728 Time: 312.0113859921694\n"
     ]
    },
    {
     "data": {
      "application/vnd.jupyter.widget-view+json": {
       "model_id": "950d5ecfedf04e62a130e0fd03baa3c3",
       "version_major": 2,
       "version_minor": 0
      },
      "text/plain": [
       "Mappings: 0it [00:00, ?it/s]"
      ]
     },
     "metadata": {},
     "output_type": "display_data"
    },
    {
     "name": "stdout",
     "output_type": "stream",
     "text": [
      "Submitted to device in 20.9584 s\n"
     ]
    },
    {
     "data": {
      "application/vnd.jupyter.widget-view+json": {
       "model_id": "c3a17cdbda7d471c91f8f7cf55f9f75c",
       "version_major": 2,
       "version_minor": 0
      },
      "text/plain": [
       "Running batch:   0%|          | 0/1 [00:00<?, ?it/s]"
      ]
     },
     "metadata": {},
     "output_type": "display_data"
    },
    {
     "name": "stdout",
     "output_type": "stream",
     "text": [
      "Predicted in 289.6424 s\n",
      "Iters. done: 22 Current cost: 0.09860538362435031 Accuracy: -0.09005812263803414 Time: 310.6917080245912\n"
     ]
    },
    {
     "data": {
      "application/vnd.jupyter.widget-view+json": {
       "model_id": "889a703dd16c4c0b9efbd4d8e2746ecc",
       "version_major": 2,
       "version_minor": 0
      },
      "text/plain": [
       "Mappings: 0it [00:00, ?it/s]"
      ]
     },
     "metadata": {},
     "output_type": "display_data"
    },
    {
     "name": "stdout",
     "output_type": "stream",
     "text": [
      "Submitted to device in 21.4687 s\n"
     ]
    },
    {
     "data": {
      "application/vnd.jupyter.widget-view+json": {
       "model_id": "fdd4007f9f754542866f04fe35a50cdb",
       "version_major": 2,
       "version_minor": 0
      },
      "text/plain": [
       "Running batch:   0%|          | 0/1 [00:00<?, ?it/s]"
      ]
     },
     "metadata": {},
     "output_type": "display_data"
    },
    {
     "name": "stdout",
     "output_type": "stream",
     "text": [
      "Predicted in 292.1051 s\n",
      "Iters. done: 23 Current cost: 0.10128242256378993 Accuracy: -0.11965212585870444 Time: 313.667734593153\n"
     ]
    },
    {
     "data": {
      "application/vnd.jupyter.widget-view+json": {
       "model_id": "915a49d61ad14cf6bf81625030f7f88e",
       "version_major": 2,
       "version_minor": 0
      },
      "text/plain": [
       "Mappings: 0it [00:00, ?it/s]"
      ]
     },
     "metadata": {},
     "output_type": "display_data"
    },
    {
     "name": "stdout",
     "output_type": "stream",
     "text": [
      "Submitted to device in 21.8390 s\n"
     ]
    },
    {
     "data": {
      "application/vnd.jupyter.widget-view+json": {
       "model_id": "e03f7c42dd004b24b2581d5786b88f30",
       "version_major": 2,
       "version_minor": 0
      },
      "text/plain": [
       "Running batch:   0%|          | 0/1 [00:00<?, ?it/s]"
      ]
     },
     "metadata": {},
     "output_type": "display_data"
    },
    {
     "name": "stdout",
     "output_type": "stream",
     "text": [
      "Predicted in 289.5175 s\n",
      "Iters. done: 24 Current cost: 0.10123776234552637 Accuracy: -0.11915841819399486 Time: 311.45488584414124\n"
     ]
    },
    {
     "data": {
      "application/vnd.jupyter.widget-view+json": {
       "model_id": "a586457b60b3430fac8056d5cb97f4a3",
       "version_major": 2,
       "version_minor": 0
      },
      "text/plain": [
       "Mappings: 0it [00:00, ?it/s]"
      ]
     },
     "metadata": {},
     "output_type": "display_data"
    },
    {
     "name": "stdout",
     "output_type": "stream",
     "text": [
      "Submitted to device in 18.7318 s\n"
     ]
    },
    {
     "data": {
      "application/vnd.jupyter.widget-view+json": {
       "model_id": "83b0a3a9f20241ec84123bd41a900765",
       "version_major": 2,
       "version_minor": 0
      },
      "text/plain": [
       "Running batch:   0%|          | 0/1 [00:00<?, ?it/s]"
      ]
     },
     "metadata": {},
     "output_type": "display_data"
    },
    {
     "name": "stdout",
     "output_type": "stream",
     "text": [
      "Predicted in 296.3407 s\n",
      "Iters. done: 25 Current cost: 0.09230872650756768 Accuracy: -0.020450135900071498 Time: 315.15932354703546\n"
     ]
    },
    {
     "data": {
      "application/vnd.jupyter.widget-view+json": {
       "model_id": "a9a76e4708ef4546b71e204c112f1e8e",
       "version_major": 2,
       "version_minor": 0
      },
      "text/plain": [
       "Mappings: 0it [00:00, ?it/s]"
      ]
     },
     "metadata": {},
     "output_type": "display_data"
    },
    {
     "name": "stdout",
     "output_type": "stream",
     "text": [
      "Submitted to device in 19.5088 s\n"
     ]
    },
    {
     "data": {
      "application/vnd.jupyter.widget-view+json": {
       "model_id": "fb1554b5c9944aa4b4c315d50c253574",
       "version_major": 2,
       "version_minor": 0
      },
      "text/plain": [
       "Running batch:   0%|          | 0/1 [00:00<?, ?it/s]"
      ]
     },
     "metadata": {},
     "output_type": "display_data"
    },
    {
     "name": "stdout",
     "output_type": "stream",
     "text": [
      "Predicted in 293.0772 s\n",
      "Iters. done: 26 Current cost: 0.09127613258391248 Accuracy: -0.009035065520597074 Time: 312.68466141447425\n"
     ]
    },
    {
     "data": {
      "application/vnd.jupyter.widget-view+json": {
       "model_id": "b1e14e20a61544ac86678ba7739c103b",
       "version_major": 2,
       "version_minor": 0
      },
      "text/plain": [
       "Mappings: 0it [00:00, ?it/s]"
      ]
     },
     "metadata": {},
     "output_type": "display_data"
    },
    {
     "name": "stdout",
     "output_type": "stream",
     "text": [
      "Submitted to device in 20.2983 s\n"
     ]
    },
    {
     "data": {
      "application/vnd.jupyter.widget-view+json": {
       "model_id": "3b664a0cde02426e949a250ba5c275d5",
       "version_major": 2,
       "version_minor": 0
      },
      "text/plain": [
       "Running batch:   0%|          | 0/1 [00:00<?, ?it/s]"
      ]
     },
     "metadata": {},
     "output_type": "display_data"
    },
    {
     "name": "stdout",
     "output_type": "stream",
     "text": [
      "Predicted in 293.2434 s\n",
      "Iters. done: 27 Current cost: 0.09085546240493766 Accuracy: -0.004384660758824488 Time: 313.6296469382942\n"
     ]
    },
    {
     "data": {
      "application/vnd.jupyter.widget-view+json": {
       "model_id": "83ae4c525d434d45a404f15d69423027",
       "version_major": 2,
       "version_minor": 0
      },
      "text/plain": [
       "Mappings: 0it [00:00, ?it/s]"
      ]
     },
     "metadata": {},
     "output_type": "display_data"
    },
    {
     "name": "stdout",
     "output_type": "stream",
     "text": [
      "Submitted to device in 18.6456 s\n"
     ]
    },
    {
     "data": {
      "application/vnd.jupyter.widget-view+json": {
       "model_id": "90054a36599b4a40895bb6d1bb91e293",
       "version_major": 2,
       "version_minor": 0
      },
      "text/plain": [
       "Running batch:   0%|          | 0/1 [00:00<?, ?it/s]"
      ]
     },
     "metadata": {},
     "output_type": "display_data"
    },
    {
     "name": "stdout",
     "output_type": "stream",
     "text": [
      "Predicted in 365.3296 s\n",
      "Iters. done: 28 Current cost: 0.0914790808890048 Accuracy: -0.01127860882736309 Time: 384.0615657120943\n"
     ]
    },
    {
     "data": {
      "application/vnd.jupyter.widget-view+json": {
       "model_id": "e6e3879c3dc246eb858a95608247635a",
       "version_major": 2,
       "version_minor": 0
      },
      "text/plain": [
       "Mappings: 0it [00:00, ?it/s]"
      ]
     },
     "metadata": {},
     "output_type": "display_data"
    },
    {
     "name": "stdout",
     "output_type": "stream",
     "text": [
      "Submitted to device in 19.8827 s\n"
     ]
    },
    {
     "data": {
      "application/vnd.jupyter.widget-view+json": {
       "model_id": "287d1348fe7e45c9866057673c59158b",
       "version_major": 2,
       "version_minor": 0
      },
      "text/plain": [
       "Running batch:   0%|          | 0/1 [00:00<?, ?it/s]"
      ]
     },
     "metadata": {},
     "output_type": "display_data"
    },
    {
     "name": "stdout",
     "output_type": "stream",
     "text": [
      "Predicted in 401.3530 s\n",
      "Iters. done: 29 Current cost: 0.09243604484846527 Accuracy: -0.021857608662257944 Time: 421.31573305651546\n"
     ]
    },
    {
     "data": {
      "application/vnd.jupyter.widget-view+json": {
       "model_id": "f7397f7a86e4481aac0d0edec03e3d1e",
       "version_major": 2,
       "version_minor": 0
      },
      "text/plain": [
       "Mappings: 0it [00:00, ?it/s]"
      ]
     },
     "metadata": {},
     "output_type": "display_data"
    },
    {
     "name": "stdout",
     "output_type": "stream",
     "text": [
      "Submitted to device in 20.0090 s\n"
     ]
    },
    {
     "data": {
      "application/vnd.jupyter.widget-view+json": {
       "model_id": "f5e3132247574dbf838ebbc69a9246bf",
       "version_major": 2,
       "version_minor": 0
      },
      "text/plain": [
       "Running batch:   0%|          | 0/1 [00:00<?, ?it/s]"
      ]
     },
     "metadata": {},
     "output_type": "display_data"
    },
    {
     "name": "stdout",
     "output_type": "stream",
     "text": [
      "Predicted in 327.0657 s\n",
      "Iters. done: 30 Current cost: 0.10337325230823499 Accuracy: -0.1427657314470987 Time: 347.16393922269344\n"
     ]
    },
    {
     "data": {
      "application/vnd.jupyter.widget-view+json": {
       "model_id": "2090b528cc6b45a0be03671910277814",
       "version_major": 2,
       "version_minor": 0
      },
      "text/plain": [
       "Mappings: 0it [00:00, ?it/s]"
      ]
     },
     "metadata": {},
     "output_type": "display_data"
    },
    {
     "name": "stdout",
     "output_type": "stream",
     "text": [
      "Submitted to device in 19.4485 s\n"
     ]
    },
    {
     "data": {
      "application/vnd.jupyter.widget-view+json": {
       "model_id": "1ad24a71a62b413390de8af75109590d",
       "version_major": 2,
       "version_minor": 0
      },
      "text/plain": [
       "Running batch:   0%|          | 0/1 [00:00<?, ?it/s]"
      ]
     },
     "metadata": {},
     "output_type": "display_data"
    },
    {
     "name": "stdout",
     "output_type": "stream",
     "text": [
      "Predicted in 381.9021 s\n",
      "Iters. done: 31 Current cost: 0.10940546036796318 Accuracy: -0.20945029927961567 Time: 401.4376673363149\n"
     ]
    },
    {
     "data": {
      "application/vnd.jupyter.widget-view+json": {
       "model_id": "f39c6b8d01794922822e6a79bae01279",
       "version_major": 2,
       "version_minor": 0
      },
      "text/plain": [
       "Mappings: 0it [00:00, ?it/s]"
      ]
     },
     "metadata": {},
     "output_type": "display_data"
    },
    {
     "name": "stdout",
     "output_type": "stream",
     "text": [
      "Submitted to device in 18.5902 s\n"
     ]
    },
    {
     "data": {
      "application/vnd.jupyter.widget-view+json": {
       "model_id": "2f71b7c042634fbd9316a3383178e87d",
       "version_major": 2,
       "version_minor": 0
      },
      "text/plain": [
       "Running batch:   0%|          | 0/1 [00:00<?, ?it/s]"
      ]
     },
     "metadata": {},
     "output_type": "display_data"
    },
    {
     "name": "stdout",
     "output_type": "stream",
     "text": [
      "Predicted in 296.5046 s\n",
      "Iters. done: 32 Current cost: 0.08885452864617041 Accuracy: 0.017735166946670766 Time: 315.1914977505803\n"
     ]
    },
    {
     "data": {
      "application/vnd.jupyter.widget-view+json": {
       "model_id": "9961ddd947704302af88b5744ee1f21a",
       "version_major": 2,
       "version_minor": 0
      },
      "text/plain": [
       "Mappings: 0it [00:00, ?it/s]"
      ]
     },
     "metadata": {},
     "output_type": "display_data"
    },
    {
     "name": "stdout",
     "output_type": "stream",
     "text": [
      "Submitted to device in 18.3324 s\n"
     ]
    },
    {
     "data": {
      "application/vnd.jupyter.widget-view+json": {
       "model_id": "7bc6d6b69a1d4cf7bd30b71d1af58284",
       "version_major": 2,
       "version_minor": 0
      },
      "text/plain": [
       "Running batch:   0%|          | 0/1 [00:00<?, ?it/s]"
      ]
     },
     "metadata": {},
     "output_type": "display_data"
    },
    {
     "name": "stdout",
     "output_type": "stream",
     "text": [
      "Predicted in 291.8232 s\n",
      "Iters. done: 33 Current cost: 0.09772080808274314 Accuracy: -0.08027935885481896 Time: 310.2531937286258\n"
     ]
    },
    {
     "data": {
      "application/vnd.jupyter.widget-view+json": {
       "model_id": "a0cfdbb92fc3466398fcef4e785deee0",
       "version_major": 2,
       "version_minor": 0
      },
      "text/plain": [
       "Mappings: 0it [00:00, ?it/s]"
      ]
     },
     "metadata": {},
     "output_type": "display_data"
    },
    {
     "name": "stdout",
     "output_type": "stream",
     "text": [
      "Submitted to device in 18.6516 s\n"
     ]
    },
    {
     "data": {
      "application/vnd.jupyter.widget-view+json": {
       "model_id": "adc92029eb0f4aa3a19078193c079828",
       "version_major": 2,
       "version_minor": 0
      },
      "text/plain": [
       "Running batch:   0%|          | 0/1 [00:00<?, ?it/s]"
      ]
     },
     "metadata": {},
     "output_type": "display_data"
    },
    {
     "name": "stdout",
     "output_type": "stream",
     "text": [
      "Predicted in 319.1655 s\n",
      "Iters. done: 34 Current cost: 0.11526466820324584 Accuracy: -0.2742223924282603 Time: 337.9046571403742\n"
     ]
    },
    {
     "data": {
      "application/vnd.jupyter.widget-view+json": {
       "model_id": "ed6c748a4a994e0cb8ac6f1ff3d15365",
       "version_major": 2,
       "version_minor": 0
      },
      "text/plain": [
       "Mappings: 0it [00:00, ?it/s]"
      ]
     },
     "metadata": {},
     "output_type": "display_data"
    },
    {
     "name": "stdout",
     "output_type": "stream",
     "text": [
      "Submitted to device in 22.1454 s\n"
     ]
    },
    {
     "data": {
      "application/vnd.jupyter.widget-view+json": {
       "model_id": "021f937a52ed483c96235a77de98a75c",
       "version_major": 2,
       "version_minor": 0
      },
      "text/plain": [
       "Running batch:   0%|          | 0/1 [00:00<?, ?it/s]"
      ]
     },
     "metadata": {},
     "output_type": "display_data"
    },
    {
     "name": "stdout",
     "output_type": "stream",
     "text": [
      "Predicted in 300.4187 s\n",
      "Iters. done: 35 Current cost: 0.0950660737574115 Accuracy: -0.05093192762532217 Time: 322.6569971330464\n"
     ]
    },
    {
     "data": {
      "application/vnd.jupyter.widget-view+json": {
       "model_id": "2cc2fa460f224b8694bed63e0c9427d5",
       "version_major": 2,
       "version_minor": 0
      },
      "text/plain": [
       "Mappings: 0it [00:00, ?it/s]"
      ]
     },
     "metadata": {},
     "output_type": "display_data"
    },
    {
     "name": "stdout",
     "output_type": "stream",
     "text": [
      "Submitted to device in 22.4788 s\n"
     ]
    },
    {
     "data": {
      "application/vnd.jupyter.widget-view+json": {
       "model_id": "162d66efc61743eea096bf416237295c",
       "version_major": 2,
       "version_minor": 0
      },
      "text/plain": [
       "Running batch:   0%|          | 0/1 [00:00<?, ?it/s]"
      ]
     },
     "metadata": {},
     "output_type": "display_data"
    },
    {
     "name": "stdout",
     "output_type": "stream",
     "text": [
      "Predicted in 302.0916 s\n",
      "Iters. done: 36 Current cost: 0.08235913711560704 Accuracy: 0.08954011346539648 Time: 324.66537116095424\n"
     ]
    },
    {
     "data": {
      "application/vnd.jupyter.widget-view+json": {
       "model_id": "48308fca4aba4cd49132ac833088f479",
       "version_major": 2,
       "version_minor": 0
      },
      "text/plain": [
       "Mappings: 0it [00:00, ?it/s]"
      ]
     },
     "metadata": {},
     "output_type": "display_data"
    },
    {
     "name": "stdout",
     "output_type": "stream",
     "text": [
      "Submitted to device in 19.9847 s\n"
     ]
    },
    {
     "data": {
      "application/vnd.jupyter.widget-view+json": {
       "model_id": "3ca586c0e67d42119c9943fd2c712ac6",
       "version_major": 2,
       "version_minor": 0
      },
      "text/plain": [
       "Running batch:   0%|          | 0/1 [00:00<?, ?it/s]"
      ]
     },
     "metadata": {},
     "output_type": "display_data"
    },
    {
     "name": "stdout",
     "output_type": "stream",
     "text": [
      "Predicted in 301.1819 s\n",
      "Iters. done: 37 Current cost: 0.09413157684108397 Accuracy: -0.04060129539429003 Time: 321.2559012696147\n"
     ]
    },
    {
     "data": {
      "application/vnd.jupyter.widget-view+json": {
       "model_id": "44e849f3c56b400aa6e2e3940d85c152",
       "version_major": 2,
       "version_minor": 0
      },
      "text/plain": [
       "Mappings: 0it [00:00, ?it/s]"
      ]
     },
     "metadata": {},
     "output_type": "display_data"
    },
    {
     "name": "stdout",
     "output_type": "stream",
     "text": [
      "Submitted to device in 18.9817 s\n"
     ]
    },
    {
     "data": {
      "application/vnd.jupyter.widget-view+json": {
       "model_id": "dc4dbbbe63d4418b963d4ec16aadc6eb",
       "version_major": 2,
       "version_minor": 0
      },
      "text/plain": [
       "Running batch:   0%|          | 0/1 [00:00<?, ?it/s]"
      ]
     },
     "metadata": {},
     "output_type": "display_data"
    },
    {
     "name": "stdout",
     "output_type": "stream",
     "text": [
      "Predicted in 308.4802 s\n",
      "Iters. done: 38 Current cost: 0.08641466339454826 Accuracy: 0.0447072737213382 Time: 327.5482978634536\n"
     ]
    },
    {
     "data": {
      "application/vnd.jupyter.widget-view+json": {
       "model_id": "1838af820cb4445b9db8b625599674ea",
       "version_major": 2,
       "version_minor": 0
      },
      "text/plain": [
       "Mappings: 0it [00:00, ?it/s]"
      ]
     },
     "metadata": {},
     "output_type": "display_data"
    },
    {
     "name": "stdout",
     "output_type": "stream",
     "text": [
      "Submitted to device in 19.1392 s\n"
     ]
    },
    {
     "data": {
      "application/vnd.jupyter.widget-view+json": {
       "model_id": "f8efcf0233fd449d9ce7f0051197e445",
       "version_major": 2,
       "version_minor": 0
      },
      "text/plain": [
       "Running batch:   0%|          | 0/1 [00:00<?, ?it/s]"
      ]
     },
     "metadata": {},
     "output_type": "display_data"
    },
    {
     "name": "stdout",
     "output_type": "stream",
     "text": [
      "Predicted in 303.1546 s\n",
      "Iters. done: 39 Current cost: 0.09320874072553531 Accuracy: -0.030399570431180134 Time: 322.3765180185437\n"
     ]
    },
    {
     "data": {
      "application/vnd.jupyter.widget-view+json": {
       "model_id": "585c544747c24e92a33c20808900d7f1",
       "version_major": 2,
       "version_minor": 0
      },
      "text/plain": [
       "Mappings: 0it [00:00, ?it/s]"
      ]
     },
     "metadata": {},
     "output_type": "display_data"
    },
    {
     "name": "stdout",
     "output_type": "stream",
     "text": [
      "Submitted to device in 19.8362 s\n"
     ]
    },
    {
     "data": {
      "application/vnd.jupyter.widget-view+json": {
       "model_id": "113aad3c31514ae99080dedca826262d",
       "version_major": 2,
       "version_minor": 0
      },
      "text/plain": [
       "Running batch:   0%|          | 0/1 [00:00<?, ?it/s]"
      ]
     },
     "metadata": {},
     "output_type": "display_data"
    },
    {
     "name": "stdout",
     "output_type": "stream",
     "text": [
      "Predicted in 313.0306 s\n",
      "Iters. done: 40 Current cost: 0.09874685294720677 Accuracy: -0.09162203100505861 Time: 332.95547574386\n"
     ]
    },
    {
     "data": {
      "application/vnd.jupyter.widget-view+json": {
       "model_id": "49c334c5b35a4832af887632f9f5807d",
       "version_major": 2,
       "version_minor": 0
      },
      "text/plain": [
       "Mappings: 0it [00:00, ?it/s]"
      ]
     },
     "metadata": {},
     "output_type": "display_data"
    },
    {
     "name": "stdout",
     "output_type": "stream",
     "text": [
      "Submitted to device in 20.5556 s\n"
     ]
    },
    {
     "data": {
      "application/vnd.jupyter.widget-view+json": {
       "model_id": "5d3196425aa747b1915aa00eacc5f222",
       "version_major": 2,
       "version_minor": 0
      },
      "text/plain": [
       "Running batch:   0%|          | 0/1 [00:00<?, ?it/s]"
      ]
     },
     "metadata": {},
     "output_type": "display_data"
    },
    {
     "name": "stdout",
     "output_type": "stream",
     "text": [
      "Predicted in 304.4375 s\n",
      "Iters. done: 41 Current cost: 0.08615067185243262 Accuracy: 0.04762563491231708 Time: 325.09255434572697\n"
     ]
    },
    {
     "data": {
      "application/vnd.jupyter.widget-view+json": {
       "model_id": "84cfee6d49bf4583a2a3f464e8fb38eb",
       "version_major": 2,
       "version_minor": 0
      },
      "text/plain": [
       "Mappings: 0it [00:00, ?it/s]"
      ]
     },
     "metadata": {},
     "output_type": "display_data"
    },
    {
     "name": "stdout",
     "output_type": "stream",
     "text": [
      "Submitted to device in 21.4772 s\n"
     ]
    },
    {
     "data": {
      "application/vnd.jupyter.widget-view+json": {
       "model_id": "07db5883e4134584be0744d58f251260",
       "version_major": 2,
       "version_minor": 0
      },
      "text/plain": [
       "Running batch:   0%|          | 0/1 [00:00<?, ?it/s]"
      ]
     },
     "metadata": {},
     "output_type": "display_data"
    },
    {
     "name": "stdout",
     "output_type": "stream",
     "text": [
      "Predicted in 307.8123 s\n",
      "Iters. done: 42 Current cost: 0.09368285405969139 Accuracy: -0.03564077605253546 Time: 329.3804904296994\n"
     ]
    },
    {
     "data": {
      "application/vnd.jupyter.widget-view+json": {
       "model_id": "7b5004484bfe433cbabab75562de47a6",
       "version_major": 2,
       "version_minor": 0
      },
      "text/plain": [
       "Mappings: 0it [00:00, ?it/s]"
      ]
     },
     "metadata": {},
     "output_type": "display_data"
    },
    {
     "name": "stdout",
     "output_type": "stream",
     "text": [
      "Submitted to device in 19.4439 s\n"
     ]
    },
    {
     "data": {
      "application/vnd.jupyter.widget-view+json": {
       "model_id": "6889da3dfca84f7aa814f41982d44dd6",
       "version_major": 2,
       "version_minor": 0
      },
      "text/plain": [
       "Running batch:   0%|          | 0/1 [00:00<?, ?it/s]"
      ]
     },
     "metadata": {},
     "output_type": "display_data"
    },
    {
     "name": "stdout",
     "output_type": "stream",
     "text": [
      "Predicted in 294.5077 s\n",
      "Iters. done: 43 Current cost: 0.09180587473533998 Accuracy: -0.014891233955245164 Time: 314.0466113574803\n"
     ]
    },
    {
     "data": {
      "application/vnd.jupyter.widget-view+json": {
       "model_id": "8fc429f78a874fb58f0a0ae018733b19",
       "version_major": 2,
       "version_minor": 0
      },
      "text/plain": [
       "Mappings: 0it [00:00, ?it/s]"
      ]
     },
     "metadata": {},
     "output_type": "display_data"
    },
    {
     "name": "stdout",
     "output_type": "stream",
     "text": [
      "Submitted to device in 23.0048 s\n"
     ]
    },
    {
     "data": {
      "application/vnd.jupyter.widget-view+json": {
       "model_id": "d652345acaf64b6c92b8ba4bfb2b6e02",
       "version_major": 2,
       "version_minor": 0
      },
      "text/plain": [
       "Running batch:   0%|          | 0/1 [00:00<?, ?it/s]"
      ]
     },
     "metadata": {},
     "output_type": "display_data"
    },
    {
     "name": "stdout",
     "output_type": "stream",
     "text": [
      "Predicted in 288.2155 s\n",
      "Iters. done: 44 Current cost: 0.10706052374329858 Accuracy: -0.183527604992203 Time: 311.30698004737496\n"
     ]
    },
    {
     "data": {
      "application/vnd.jupyter.widget-view+json": {
       "model_id": "3d832bd51cc941c7a72f3e5e2527a74c",
       "version_major": 2,
       "version_minor": 0
      },
      "text/plain": [
       "Mappings: 0it [00:00, ?it/s]"
      ]
     },
     "metadata": {},
     "output_type": "display_data"
    },
    {
     "name": "stdout",
     "output_type": "stream",
     "text": [
      "Submitted to device in 21.2677 s\n"
     ]
    },
    {
     "data": {
      "application/vnd.jupyter.widget-view+json": {
       "model_id": "fd4cb2c39b2b4fddad397c377ad3a493",
       "version_major": 2,
       "version_minor": 0
      },
      "text/plain": [
       "Running batch:   0%|          | 0/1 [00:00<?, ?it/s]"
      ]
     },
     "metadata": {},
     "output_type": "display_data"
    },
    {
     "name": "stdout",
     "output_type": "stream",
     "text": [
      "Predicted in 293.1187 s\n",
      "Iters. done: 45 Current cost: 0.08167245871599797 Accuracy: 0.09713117330027854 Time: 314.4680608846247\n"
     ]
    },
    {
     "data": {
      "application/vnd.jupyter.widget-view+json": {
       "model_id": "898ec3e6ea39413bbd7071a2080bda21",
       "version_major": 2,
       "version_minor": 0
      },
      "text/plain": [
       "Mappings: 0it [00:00, ?it/s]"
      ]
     },
     "metadata": {},
     "output_type": "display_data"
    },
    {
     "name": "stdout",
     "output_type": "stream",
     "text": [
      "Submitted to device in 23.8390 s\n"
     ]
    },
    {
     "data": {
      "application/vnd.jupyter.widget-view+json": {
       "model_id": "8a8dddf9dee64698993296564a1c03c1",
       "version_major": 2,
       "version_minor": 0
      },
      "text/plain": [
       "Running batch:   0%|          | 0/1 [00:00<?, ?it/s]"
      ]
     },
     "metadata": {},
     "output_type": "display_data"
    },
    {
     "name": "stdout",
     "output_type": "stream",
     "text": [
      "Predicted in 289.8236 s\n",
      "Iters. done: 46 Current cost: 0.09337243439044199 Accuracy: -0.03220916340163793 Time: 313.75362853705883\n"
     ]
    },
    {
     "data": {
      "application/vnd.jupyter.widget-view+json": {
       "model_id": "ef723a91a18541aeac35ff77053f02c4",
       "version_major": 2,
       "version_minor": 0
      },
      "text/plain": [
       "Mappings: 0it [00:00, ?it/s]"
      ]
     },
     "metadata": {},
     "output_type": "display_data"
    },
    {
     "name": "stdout",
     "output_type": "stream",
     "text": [
      "Submitted to device in 19.5303 s\n"
     ]
    },
    {
     "data": {
      "application/vnd.jupyter.widget-view+json": {
       "model_id": "e3156356e10d484ab26d1217442cef43",
       "version_major": 2,
       "version_minor": 0
      },
      "text/plain": [
       "Running batch:   0%|          | 0/1 [00:00<?, ?it/s]"
      ]
     },
     "metadata": {},
     "output_type": "display_data"
    },
    {
     "name": "stdout",
     "output_type": "stream",
     "text": [
      "Predicted in 293.1998 s\n",
      "Iters. done: 47 Current cost: 0.08770746798936126 Accuracy: 0.03041563874399933 Time: 312.8257514797151\n"
     ]
    },
    {
     "data": {
      "application/vnd.jupyter.widget-view+json": {
       "model_id": "9e5f88501415467ab4f45749e66622bb",
       "version_major": 2,
       "version_minor": 0
      },
      "text/plain": [
       "Mappings: 0it [00:00, ?it/s]"
      ]
     },
     "metadata": {},
     "output_type": "display_data"
    },
    {
     "name": "stdout",
     "output_type": "stream",
     "text": [
      "Submitted to device in 18.0871 s\n"
     ]
    },
    {
     "data": {
      "application/vnd.jupyter.widget-view+json": {
       "model_id": "f33daa44a91a4dd0957bf7ba8c89e87d",
       "version_major": 2,
       "version_minor": 0
      },
      "text/plain": [
       "Running batch:   0%|          | 0/1 [00:00<?, ?it/s]"
      ]
     },
     "metadata": {},
     "output_type": "display_data"
    },
    {
     "name": "stdout",
     "output_type": "stream",
     "text": [
      "Predicted in 296.1517 s\n",
      "Iters. done: 48 Current cost: 0.10811511166851792 Accuracy: -0.19518581361801957 Time: 314.33596432581544\n"
     ]
    },
    {
     "data": {
      "application/vnd.jupyter.widget-view+json": {
       "model_id": "ce3dac07cf6941878e0530950a7bddd9",
       "version_major": 2,
       "version_minor": 0
      },
      "text/plain": [
       "Mappings: 0it [00:00, ?it/s]"
      ]
     },
     "metadata": {},
     "output_type": "display_data"
    },
    {
     "name": "stdout",
     "output_type": "stream",
     "text": [
      "Submitted to device in 19.7302 s\n"
     ]
    },
    {
     "data": {
      "application/vnd.jupyter.widget-view+json": {
       "model_id": "519381363be6492f8903eb68c859b9e6",
       "version_major": 2,
       "version_minor": 0
      },
      "text/plain": [
       "Running batch:   0%|          | 0/1 [00:00<?, ?it/s]"
      ]
     },
     "metadata": {},
     "output_type": "display_data"
    },
    {
     "name": "stdout",
     "output_type": "stream",
     "text": [
      "Predicted in 297.0976 s\n",
      "Iters. done: 49 Current cost: 0.08759075149283113 Accuracy: 0.03170591073942308 Time: 316.91538132354617\n"
     ]
    },
    {
     "data": {
      "application/vnd.jupyter.widget-view+json": {
       "model_id": "c0f55fdbec4742e181aa06edbeb6f659",
       "version_major": 2,
       "version_minor": 0
      },
      "text/plain": [
       "Mappings: 0it [00:00, ?it/s]"
      ]
     },
     "metadata": {},
     "output_type": "display_data"
    },
    {
     "name": "stdout",
     "output_type": "stream",
     "text": [
      "Submitted to device in 18.4225 s\n"
     ]
    },
    {
     "data": {
      "application/vnd.jupyter.widget-view+json": {
       "model_id": "dde4e0b01e54461897a2a9c055fa8a92",
       "version_major": 2,
       "version_minor": 0
      },
      "text/plain": [
       "Running batch:   0%|          | 0/1 [00:00<?, ?it/s]"
      ]
     },
     "metadata": {},
     "output_type": "display_data"
    },
    {
     "name": "stdout",
     "output_type": "stream",
     "text": [
      "Predicted in 301.2680 s\n",
      "Iters. done: 50 Current cost: 0.08679957282880911 Accuracy: 0.040452195145766034 Time: 319.795981541276\n"
     ]
    },
    {
     "data": {
      "application/vnd.jupyter.widget-view+json": {
       "model_id": "6e40048d33b743cda2948fa23f7ccfb2",
       "version_major": 2,
       "version_minor": 0
      },
      "text/plain": [
       "Mappings: 0it [00:00, ?it/s]"
      ]
     },
     "metadata": {},
     "output_type": "display_data"
    },
    {
     "name": "stdout",
     "output_type": "stream",
     "text": [
      "Submitted to device in 18.8615 s\n"
     ]
    },
    {
     "data": {
      "application/vnd.jupyter.widget-view+json": {
       "model_id": "e344e125211342ebacb281050f4319d1",
       "version_major": 2,
       "version_minor": 0
      },
      "text/plain": [
       "Running batch:   0%|          | 0/1 [00:00<?, ?it/s]"
      ]
     },
     "metadata": {},
     "output_type": "display_data"
    },
    {
     "name": "stdout",
     "output_type": "stream",
     "text": [
      "Predicted in 302.5095 s\n",
      "Iters. done: 51 Current cost: 0.08685967380500412 Accuracy: 0.039787793721910436 Time: 321.4567632935941\n"
     ]
    },
    {
     "data": {
      "application/vnd.jupyter.widget-view+json": {
       "model_id": "948b7381b819493e832a81fdc2cf284f",
       "version_major": 2,
       "version_minor": 0
      },
      "text/plain": [
       "Mappings: 0it [00:00, ?it/s]"
      ]
     },
     "metadata": {},
     "output_type": "display_data"
    },
    {
     "name": "stdout",
     "output_type": "stream",
     "text": [
      "Submitted to device in 21.1522 s\n"
     ]
    },
    {
     "data": {
      "application/vnd.jupyter.widget-view+json": {
       "model_id": "d1c9b762315d45b3a1d40a6b829938fd",
       "version_major": 2,
       "version_minor": 0
      },
      "text/plain": [
       "Running batch:   0%|          | 0/1 [00:00<?, ?it/s]"
      ]
     },
     "metadata": {},
     "output_type": "display_data"
    },
    {
     "name": "stdout",
     "output_type": "stream",
     "text": [
      "Predicted in 333.1080 s\n",
      "Iters. done: 52 Current cost: 0.08832621822357092 Accuracy: 0.023575507973311094 Time: 354.34857561439276\n"
     ]
    },
    {
     "data": {
      "application/vnd.jupyter.widget-view+json": {
       "model_id": "7b3a1406d3454b45b6c6a9af1a4f9bbe",
       "version_major": 2,
       "version_minor": 0
      },
      "text/plain": [
       "Mappings: 0it [00:00, ?it/s]"
      ]
     },
     "metadata": {},
     "output_type": "display_data"
    },
    {
     "name": "stdout",
     "output_type": "stream",
     "text": [
      "Submitted to device in 24.1880 s\n"
     ]
    },
    {
     "data": {
      "application/vnd.jupyter.widget-view+json": {
       "model_id": "05ec735cb3d5488cadf4881f2c9367d5",
       "version_major": 2,
       "version_minor": 0
      },
      "text/plain": [
       "Running batch:   0%|          | 0/1 [00:00<?, ?it/s]"
      ]
     },
     "metadata": {},
     "output_type": "display_data"
    },
    {
     "name": "stdout",
     "output_type": "stream",
     "text": [
      "Predicted in 505.3547 s\n",
      "Iters. done: 53 Current cost: 0.09419622896909813 Accuracy: -0.041316008675627014 Time: 529.6455949656665\n"
     ]
    },
    {
     "data": {
      "application/vnd.jupyter.widget-view+json": {
       "model_id": "b0b1de6aa3b04534ac0656e62c07e030",
       "version_major": 2,
       "version_minor": 0
      },
      "text/plain": [
       "Mappings: 0it [00:00, ?it/s]"
      ]
     },
     "metadata": {},
     "output_type": "display_data"
    },
    {
     "name": "stdout",
     "output_type": "stream",
     "text": [
      "Submitted to device in 18.0983 s\n"
     ]
    },
    {
     "data": {
      "application/vnd.jupyter.widget-view+json": {
       "model_id": "611320c6fecd4168828451f1260e6ef4",
       "version_major": 2,
       "version_minor": 0
      },
      "text/plain": [
       "Running batch:   0%|          | 0/1 [00:00<?, ?it/s]"
      ]
     },
     "metadata": {},
     "output_type": "display_data"
    },
    {
     "name": "stdout",
     "output_type": "stream",
     "text": [
      "Predicted in 610.5058 s\n",
      "Iters. done: 54 Current cost: 0.0963302001394784 Accuracy: -0.06490653205526509 Time: 628.6927221342921\n"
     ]
    },
    {
     "data": {
      "application/vnd.jupyter.widget-view+json": {
       "model_id": "a02da89b4c7c4464ade02eebc87fb490",
       "version_major": 2,
       "version_minor": 0
      },
      "text/plain": [
       "Mappings: 0it [00:00, ?it/s]"
      ]
     },
     "metadata": {},
     "output_type": "display_data"
    },
    {
     "name": "stdout",
     "output_type": "stream",
     "text": [
      "Submitted to device in 21.4960 s\n"
     ]
    },
    {
     "data": {
      "application/vnd.jupyter.widget-view+json": {
       "model_id": "ca839872ddbb421db451333d3ce030b1",
       "version_major": 2,
       "version_minor": 0
      },
      "text/plain": [
       "Running batch:   0%|          | 0/1 [00:00<?, ?it/s]"
      ]
     },
     "metadata": {},
     "output_type": "display_data"
    },
    {
     "name": "stdout",
     "output_type": "stream",
     "text": [
      "Predicted in 349.2356 s\n",
      "Iters. done: 55 Current cost: 0.09978727484461226 Accuracy: -0.10312363769783217 Time: 370.8279793858528\n"
     ]
    },
    {
     "data": {
      "application/vnd.jupyter.widget-view+json": {
       "model_id": "3a80b5c3bd244161beb7d203660657c7",
       "version_major": 2,
       "version_minor": 0
      },
      "text/plain": [
       "Mappings: 0it [00:00, ?it/s]"
      ]
     },
     "metadata": {},
     "output_type": "display_data"
    },
    {
     "name": "stdout",
     "output_type": "stream",
     "text": [
      "Submitted to device in 19.9111 s\n"
     ]
    },
    {
     "data": {
      "application/vnd.jupyter.widget-view+json": {
       "model_id": "42364d728ed14ad385513e2fa0b9e7e7",
       "version_major": 2,
       "version_minor": 0
      },
      "text/plain": [
       "Running batch:   0%|          | 0/1 [00:00<?, ?it/s]"
      ]
     },
     "metadata": {},
     "output_type": "display_data"
    },
    {
     "name": "stdout",
     "output_type": "stream",
     "text": [
      "Predicted in 400.7479 s\n",
      "Iters. done: 56 Current cost: 0.09689854271410853 Accuracy: -0.07118941861931671 Time: 420.74883588403463\n"
     ]
    },
    {
     "data": {
      "application/vnd.jupyter.widget-view+json": {
       "model_id": "a6c6e1a789cc4572979ffb42333913bb",
       "version_major": 2,
       "version_minor": 0
      },
      "text/plain": [
       "Mappings: 0it [00:00, ?it/s]"
      ]
     },
     "metadata": {},
     "output_type": "display_data"
    },
    {
     "name": "stdout",
     "output_type": "stream",
     "text": [
      "Submitted to device in 18.4241 s\n"
     ]
    },
    {
     "data": {
      "application/vnd.jupyter.widget-view+json": {
       "model_id": "ab885b22b9f54c37b2dd7f46c9c96277",
       "version_major": 2,
       "version_minor": 0
      },
      "text/plain": [
       "Running batch:   0%|          | 0/1 [00:00<?, ?it/s]"
      ]
     },
     "metadata": {},
     "output_type": "display_data"
    },
    {
     "name": "stdout",
     "output_type": "stream",
     "text": [
      "Predicted in 304.6272 s\n",
      "Iters. done: 57 Current cost: 0.0992974772821516 Accuracy: -0.09770904681258652 Time: 323.1412994377315\n"
     ]
    },
    {
     "data": {
      "application/vnd.jupyter.widget-view+json": {
       "model_id": "117752f7f0274a2cb8f4521d57f88105",
       "version_major": 2,
       "version_minor": 0
      },
      "text/plain": [
       "Mappings: 0it [00:00, ?it/s]"
      ]
     },
     "metadata": {},
     "output_type": "display_data"
    },
    {
     "name": "stdout",
     "output_type": "stream",
     "text": [
      "Submitted to device in 21.3716 s\n"
     ]
    },
    {
     "data": {
      "application/vnd.jupyter.widget-view+json": {
       "model_id": "6767e176b08f40b1a6e46b57e0520eac",
       "version_major": 2,
       "version_minor": 0
      },
      "text/plain": [
       "Running batch:   0%|          | 0/1 [00:00<?, ?it/s]"
      ]
     },
     "metadata": {},
     "output_type": "display_data"
    },
    {
     "name": "stdout",
     "output_type": "stream",
     "text": [
      "Predicted in 307.2506 s\n",
      "Iters. done: 58 Current cost: 0.09455740929437648 Accuracy: -0.045308767821583995 Time: 328.7153110317886\n"
     ]
    },
    {
     "data": {
      "application/vnd.jupyter.widget-view+json": {
       "model_id": "684e973adcee47639da6eb2b0c75a572",
       "version_major": 2,
       "version_minor": 0
      },
      "text/plain": [
       "Mappings: 0it [00:00, ?it/s]"
      ]
     },
     "metadata": {},
     "output_type": "display_data"
    },
    {
     "name": "stdout",
     "output_type": "stream",
     "text": [
      "Submitted to device in 20.2257 s\n"
     ]
    },
    {
     "data": {
      "application/vnd.jupyter.widget-view+json": {
       "model_id": "53d44929414241bbae5b0b2b3180e8c4",
       "version_major": 2,
       "version_minor": 0
      },
      "text/plain": [
       "Running batch:   0%|          | 0/1 [00:00<?, ?it/s]"
      ]
     },
     "metadata": {},
     "output_type": "display_data"
    },
    {
     "name": "stdout",
     "output_type": "stream",
     "text": [
      "Predicted in 377.4330 s\n",
      "Iters. done: 59 Current cost: 0.09650635486974643 Accuracy: -0.06685387902063256 Time: 397.74889938905835\n"
     ]
    },
    {
     "data": {
      "application/vnd.jupyter.widget-view+json": {
       "model_id": "d5ac40673a3848a691cf8d8430f6acdd",
       "version_major": 2,
       "version_minor": 0
      },
      "text/plain": [
       "Mappings: 0it [00:00, ?it/s]"
      ]
     },
     "metadata": {},
     "output_type": "display_data"
    },
    {
     "name": "stdout",
     "output_type": "stream",
     "text": [
      "Submitted to device in 19.1775 s\n"
     ]
    },
    {
     "data": {
      "application/vnd.jupyter.widget-view+json": {
       "model_id": "fc1175fc63cd40698c99999d302c43a3",
       "version_major": 2,
       "version_minor": 0
      },
      "text/plain": [
       "Running batch:   0%|          | 0/1 [00:00<?, ?it/s]"
      ]
     },
     "metadata": {},
     "output_type": "display_data"
    },
    {
     "name": "stdout",
     "output_type": "stream",
     "text": [
      "Predicted in 323.1362 s\n",
      "Iters. done: 60 Current cost: 0.10108745603908333 Accuracy: -0.11749681915954313 Time: 342.4162142649293\n"
     ]
    },
    {
     "data": {
      "application/vnd.jupyter.widget-view+json": {
       "model_id": "a5df665f4c2a450b880c48575087c5cb",
       "version_major": 2,
       "version_minor": 0
      },
      "text/plain": [
       "Mappings: 0it [00:00, ?it/s]"
      ]
     },
     "metadata": {},
     "output_type": "display_data"
    },
    {
     "name": "stdout",
     "output_type": "stream",
     "text": [
      "Submitted to device in 18.0722 s\n"
     ]
    },
    {
     "data": {
      "application/vnd.jupyter.widget-view+json": {
       "model_id": "61f3acf871f6462b99a75fd500552437",
       "version_major": 2,
       "version_minor": 0
      },
      "text/plain": [
       "Running batch:   0%|          | 0/1 [00:00<?, ?it/s]"
      ]
     },
     "metadata": {},
     "output_type": "display_data"
    },
    {
     "name": "stdout",
     "output_type": "stream",
     "text": [
      "Predicted in 300.4639 s\n",
      "Iters. done: 61 Current cost: 0.08889298982482895 Accuracy: 0.017309988131255505 Time: 318.64161253347993\n"
     ]
    },
    {
     "data": {
      "application/vnd.jupyter.widget-view+json": {
       "model_id": "dcac66e2af584cde9a2b88020a38503d",
       "version_major": 2,
       "version_minor": 0
      },
      "text/plain": [
       "Mappings: 0it [00:00, ?it/s]"
      ]
     },
     "metadata": {},
     "output_type": "display_data"
    },
    {
     "name": "stdout",
     "output_type": "stream",
     "text": [
      "Submitted to device in 19.4449 s\n"
     ]
    },
    {
     "data": {
      "application/vnd.jupyter.widget-view+json": {
       "model_id": "d5a58a1c9d3143318e0091e0cb4d8662",
       "version_major": 2,
       "version_minor": 0
      },
      "text/plain": [
       "Running batch:   0%|          | 0/1 [00:00<?, ?it/s]"
      ]
     },
     "metadata": {},
     "output_type": "display_data"
    },
    {
     "name": "stdout",
     "output_type": "stream",
     "text": [
      "Predicted in 296.7161 s\n",
      "Iters. done: 62 Current cost: 0.09683211988742804 Accuracy: -0.07045513070226472 Time: 316.24918603897095\n"
     ]
    },
    {
     "data": {
      "application/vnd.jupyter.widget-view+json": {
       "model_id": "30ec1048946f4dfeb33008ffb98a0462",
       "version_major": 2,
       "version_minor": 0
      },
      "text/plain": [
       "Mappings: 0it [00:00, ?it/s]"
      ]
     },
     "metadata": {},
     "output_type": "display_data"
    },
    {
     "name": "stdout",
     "output_type": "stream",
     "text": [
      "Submitted to device in 45.2310 s\n"
     ]
    },
    {
     "data": {
      "application/vnd.jupyter.widget-view+json": {
       "model_id": "b55730ceb08047f394b1bf0f51b9565c",
       "version_major": 2,
       "version_minor": 0
      },
      "text/plain": [
       "Running batch:   0%|          | 0/1 [00:00<?, ?it/s]"
      ]
     },
     "metadata": {},
     "output_type": "display_data"
    },
    {
     "name": "stdout",
     "output_type": "stream",
     "text": [
      "Predicted in 342.0504 s\n",
      "Iters. done: 63 Current cost: 0.09361290657921345 Accuracy: -0.03486752395969317 Time: 387.37052062898874\n"
     ]
    },
    {
     "data": {
      "application/vnd.jupyter.widget-view+json": {
       "model_id": "419ae7bbc2f840eea1608f5083ab7532",
       "version_major": 2,
       "version_minor": 0
      },
      "text/plain": [
       "Mappings: 0it [00:00, ?it/s]"
      ]
     },
     "metadata": {},
     "output_type": "display_data"
    },
    {
     "name": "stdout",
     "output_type": "stream",
     "text": [
      "Submitted to device in 20.8448 s\n"
     ]
    },
    {
     "data": {
      "application/vnd.jupyter.widget-view+json": {
       "model_id": "1885cbeb8f6b4628a19125cd135d216d",
       "version_major": 2,
       "version_minor": 0
      },
      "text/plain": [
       "Running batch:   0%|          | 0/1 [00:00<?, ?it/s]"
      ]
     },
     "metadata": {},
     "output_type": "display_data"
    },
    {
     "name": "stdout",
     "output_type": "stream",
     "text": [
      "Predicted in 301.9805 s\n",
      "Iters. done: 64 Current cost: 0.0979439518700903 Accuracy: -0.08274615822188647 Time: 322.8884555250406\n"
     ]
    },
    {
     "data": {
      "application/vnd.jupyter.widget-view+json": {
       "model_id": "34054d1bdf07499796dd5ae33d1693da",
       "version_major": 2,
       "version_minor": 0
      },
      "text/plain": [
       "Mappings: 0it [00:00, ?it/s]"
      ]
     },
     "metadata": {},
     "output_type": "display_data"
    },
    {
     "name": "stdout",
     "output_type": "stream",
     "text": [
      "Submitted to device in 17.4014 s\n"
     ]
    },
    {
     "data": {
      "application/vnd.jupyter.widget-view+json": {
       "model_id": "20cc71db3644410ebf0157056eef0377",
       "version_major": 2,
       "version_minor": 0
      },
      "text/plain": [
       "Running batch:   0%|          | 0/1 [00:00<?, ?it/s]"
      ]
     },
     "metadata": {},
     "output_type": "display_data"
    },
    {
     "name": "stdout",
     "output_type": "stream",
     "text": [
      "Predicted in 308.9395 s\n",
      "Iters. done: 65 Current cost: 0.09163329433288721 Accuracy: -0.012983400299646286 Time: 326.42325434088707\n"
     ]
    },
    {
     "data": {
      "application/vnd.jupyter.widget-view+json": {
       "model_id": "305caa3451a54aaba4f404521fb32384",
       "version_major": 2,
       "version_minor": 0
      },
      "text/plain": [
       "Mappings: 0it [00:00, ?it/s]"
      ]
     },
     "metadata": {},
     "output_type": "display_data"
    },
    {
     "name": "stdout",
     "output_type": "stream",
     "text": [
      "Submitted to device in 21.7173 s\n"
     ]
    },
    {
     "data": {
      "application/vnd.jupyter.widget-view+json": {
       "model_id": "1f64fe0d6e674e73b9dd0fa88abbb467",
       "version_major": 2,
       "version_minor": 0
      },
      "text/plain": [
       "Running batch:   0%|          | 0/1 [00:00<?, ?it/s]"
      ]
     },
     "metadata": {},
     "output_type": "display_data"
    },
    {
     "name": "stdout",
     "output_type": "stream",
     "text": [
      "Predicted in 302.9822 s\n",
      "Iters. done: 66 Current cost: 0.0954289950857462 Accuracy: -0.05494393312937196 Time: 324.7937631458044\n"
     ]
    },
    {
     "data": {
      "application/vnd.jupyter.widget-view+json": {
       "model_id": "df8b370845294ec4adfc58faa49cd582",
       "version_major": 2,
       "version_minor": 0
      },
      "text/plain": [
       "Mappings: 0it [00:00, ?it/s]"
      ]
     },
     "metadata": {},
     "output_type": "display_data"
    },
    {
     "name": "stdout",
     "output_type": "stream",
     "text": [
      "Submitted to device in 17.2506 s\n"
     ]
    },
    {
     "data": {
      "application/vnd.jupyter.widget-view+json": {
       "model_id": "8b01c138801e4f33b4a964e63070c322",
       "version_major": 2,
       "version_minor": 0
      },
      "text/plain": [
       "Running batch:   0%|          | 0/1 [00:00<?, ?it/s]"
      ]
     },
     "metadata": {},
     "output_type": "display_data"
    },
    {
     "name": "stdout",
     "output_type": "stream",
     "text": [
      "Predicted in 313.6021 s\n",
      "Iters. done: 67 Current cost: 0.09911715647918848 Accuracy: -0.09571564494419182 Time: 330.9511509761214\n"
     ]
    },
    {
     "data": {
      "application/vnd.jupyter.widget-view+json": {
       "model_id": "d950f2a00eb64356a9386c9c24a12e54",
       "version_major": 2,
       "version_minor": 0
      },
      "text/plain": [
       "Mappings: 0it [00:00, ?it/s]"
      ]
     },
     "metadata": {},
     "output_type": "display_data"
    },
    {
     "name": "stdout",
     "output_type": "stream",
     "text": [
      "Submitted to device in 30.5623 s\n"
     ]
    },
    {
     "data": {
      "application/vnd.jupyter.widget-view+json": {
       "model_id": "3e503c70403a4bd8962d0c8b64659dd6",
       "version_major": 2,
       "version_minor": 0
      },
      "text/plain": [
       "Running batch:   0%|          | 0/1 [00:00<?, ?it/s]"
      ]
     },
     "metadata": {},
     "output_type": "display_data"
    },
    {
     "name": "stdout",
     "output_type": "stream",
     "text": [
      "Predicted in 295.9761 s\n",
      "Iters. done: 68 Current cost: 0.08949462119022948 Accuracy: 0.010659102220329286 Time: 326.625320982188\n"
     ]
    },
    {
     "data": {
      "application/vnd.jupyter.widget-view+json": {
       "model_id": "6f3c52d33a9540f18be6c16f31cfc1f5",
       "version_major": 2,
       "version_minor": 0
      },
      "text/plain": [
       "Mappings: 0it [00:00, ?it/s]"
      ]
     },
     "metadata": {},
     "output_type": "display_data"
    },
    {
     "name": "stdout",
     "output_type": "stream",
     "text": [
      "Submitted to device in 20.2611 s\n"
     ]
    },
    {
     "data": {
      "application/vnd.jupyter.widget-view+json": {
       "model_id": "0bd33f6a47a64cc885388f741dfc24e9",
       "version_major": 2,
       "version_minor": 0
      },
      "text/plain": [
       "Running batch:   0%|          | 0/1 [00:00<?, ?it/s]"
      ]
     },
     "metadata": {},
     "output_type": "display_data"
    },
    {
     "name": "stdout",
     "output_type": "stream",
     "text": [
      "Predicted in 423.2488 s\n",
      "Iters. done: 69 Current cost: 0.09674163281369721 Accuracy: -0.06945481848716484 Time: 443.6077336072922\n"
     ]
    },
    {
     "data": {
      "application/vnd.jupyter.widget-view+json": {
       "model_id": "b3bce61c3966401a8e052638515d99be",
       "version_major": 2,
       "version_minor": 0
      },
      "text/plain": [
       "Mappings: 0it [00:00, ?it/s]"
      ]
     },
     "metadata": {},
     "output_type": "display_data"
    },
    {
     "name": "stdout",
     "output_type": "stream",
     "text": [
      "Submitted to device in 20.5066 s\n"
     ]
    },
    {
     "data": {
      "application/vnd.jupyter.widget-view+json": {
       "model_id": "c73ce8845a914c56a946c23ec1c150c7",
       "version_major": 2,
       "version_minor": 0
      },
      "text/plain": [
       "Running batch:   0%|          | 0/1 [00:00<?, ?it/s]"
      ]
     },
     "metadata": {},
     "output_type": "display_data"
    },
    {
     "name": "stdout",
     "output_type": "stream",
     "text": [
      "Predicted in 331.4426 s\n",
      "Iters. done: 70 Current cost: 0.11740194703329876 Accuracy: -0.2978494811673196 Time: 352.04152354598045\n"
     ]
    },
    {
     "data": {
      "application/vnd.jupyter.widget-view+json": {
       "model_id": "4c297450b1c04e7197238e430bc587bc",
       "version_major": 2,
       "version_minor": 0
      },
      "text/plain": [
       "Mappings: 0it [00:00, ?it/s]"
      ]
     },
     "metadata": {},
     "output_type": "display_data"
    },
    {
     "name": "stdout",
     "output_type": "stream",
     "text": [
      "Submitted to device in 21.5498 s\n"
     ]
    },
    {
     "data": {
      "application/vnd.jupyter.widget-view+json": {
       "model_id": "468768499dd845ed927c1364adfd5976",
       "version_major": 2,
       "version_minor": 0
      },
      "text/plain": [
       "Running batch:   0%|          | 0/1 [00:00<?, ?it/s]"
      ]
     },
     "metadata": {},
     "output_type": "display_data"
    },
    {
     "name": "stdout",
     "output_type": "stream",
     "text": [
      "Predicted in 303.3760 s\n",
      "Iters. done: 71 Current cost: 0.10476946022749307 Accuracy: -0.1582004645959183 Time: 325.01112646237016\n"
     ]
    },
    {
     "data": {
      "application/vnd.jupyter.widget-view+json": {
       "model_id": "aef968bc19764f8c9d7e76ee76426276",
       "version_major": 2,
       "version_minor": 0
      },
      "text/plain": [
       "Mappings: 0it [00:00, ?it/s]"
      ]
     },
     "metadata": {},
     "output_type": "display_data"
    },
    {
     "name": "stdout",
     "output_type": "stream",
     "text": [
      "Submitted to device in 18.5620 s\n"
     ]
    },
    {
     "data": {
      "application/vnd.jupyter.widget-view+json": {
       "model_id": "0d278ea6d7654c479ed6bdf84c993c34",
       "version_major": 2,
       "version_minor": 0
      },
      "text/plain": [
       "Running batch:   0%|          | 0/1 [00:00<?, ?it/s]"
      ]
     },
     "metadata": {},
     "output_type": "display_data"
    },
    {
     "name": "stdout",
     "output_type": "stream",
     "text": [
      "Predicted in 292.3058 s\n",
      "Iters. done: 72 Current cost: 0.09936341901289868 Accuracy: -0.09843801633311 Time: 310.9737878218293\n"
     ]
    },
    {
     "data": {
      "application/vnd.jupyter.widget-view+json": {
       "model_id": "b29f5db5d20e499498ba8bef3883a625",
       "version_major": 2,
       "version_minor": 0
      },
      "text/plain": [
       "Mappings: 0it [00:00, ?it/s]"
      ]
     },
     "metadata": {},
     "output_type": "display_data"
    },
    {
     "name": "stdout",
     "output_type": "stream",
     "text": [
      "Submitted to device in 19.2000 s\n"
     ]
    },
    {
     "data": {
      "application/vnd.jupyter.widget-view+json": {
       "model_id": "402da828142b4f33a66ad06f322591f8",
       "version_major": 2,
       "version_minor": 0
      },
      "text/plain": [
       "Running batch:   0%|          | 0/1 [00:00<?, ?it/s]"
      ]
     },
     "metadata": {},
     "output_type": "display_data"
    },
    {
     "name": "stdout",
     "output_type": "stream",
     "text": [
      "Predicted in 313.3282 s\n",
      "Iters. done: 73 Current cost: 0.10939921521380411 Accuracy: -0.20938126064533402 Time: 332.6181232146919\n"
     ]
    },
    {
     "data": {
      "application/vnd.jupyter.widget-view+json": {
       "model_id": "a8121372816c4ca981abdf15d268ee53",
       "version_major": 2,
       "version_minor": 0
      },
      "text/plain": [
       "Mappings: 0it [00:00, ?it/s]"
      ]
     },
     "metadata": {},
     "output_type": "display_data"
    },
    {
     "name": "stdout",
     "output_type": "stream",
     "text": [
      "Submitted to device in 19.2197 s\n"
     ]
    },
    {
     "data": {
      "application/vnd.jupyter.widget-view+json": {
       "model_id": "f798a8c8626d43ea91e92a577e4c08f6",
       "version_major": 2,
       "version_minor": 0
      },
      "text/plain": [
       "Running batch:   0%|          | 0/1 [00:00<?, ?it/s]"
      ]
     },
     "metadata": {},
     "output_type": "display_data"
    },
    {
     "name": "stdout",
     "output_type": "stream",
     "text": [
      "Predicted in 295.0136 s\n",
      "Iters. done: 74 Current cost: 0.0907528183638321 Accuracy: -0.0032499562768282253 Time: 314.32068603113294\n"
     ]
    },
    {
     "data": {
      "application/vnd.jupyter.widget-view+json": {
       "model_id": "c9b8c0849b6649c4987e3793e81da129",
       "version_major": 2,
       "version_minor": 0
      },
      "text/plain": [
       "Mappings: 0it [00:00, ?it/s]"
      ]
     },
     "metadata": {},
     "output_type": "display_data"
    },
    {
     "name": "stdout",
     "output_type": "stream",
     "text": [
      "Submitted to device in 18.6594 s\n"
     ]
    },
    {
     "data": {
      "application/vnd.jupyter.widget-view+json": {
       "model_id": "60df8237c8814e50af8dd7a8ed55df5e",
       "version_major": 2,
       "version_minor": 0
      },
      "text/plain": [
       "Running batch:   0%|          | 0/1 [00:00<?, ?it/s]"
      ]
     },
     "metadata": {},
     "output_type": "display_data"
    },
    {
     "name": "stdout",
     "output_type": "stream",
     "text": [
      "Predicted in 294.9353 s\n",
      "Iters. done: 75 Current cost: 0.10840886773228861 Accuracy: -0.19843321423264815 Time: 313.6909074373543\n"
     ]
    },
    {
     "data": {
      "application/vnd.jupyter.widget-view+json": {
       "model_id": "d151fe239a0844f9ad0b7070edc720a0",
       "version_major": 2,
       "version_minor": 0
      },
      "text/plain": [
       "Mappings: 0it [00:00, ?it/s]"
      ]
     },
     "metadata": {},
     "output_type": "display_data"
    },
    {
     "name": "stdout",
     "output_type": "stream",
     "text": [
      "Submitted to device in 20.6356 s\n"
     ]
    },
    {
     "data": {
      "application/vnd.jupyter.widget-view+json": {
       "model_id": "b10328858ab54fdfa05a54c75f02a22e",
       "version_major": 2,
       "version_minor": 0
      },
      "text/plain": [
       "Running batch:   0%|          | 0/1 [00:00<?, ?it/s]"
      ]
     },
     "metadata": {},
     "output_type": "display_data"
    },
    {
     "name": "stdout",
     "output_type": "stream",
     "text": [
      "Predicted in 294.7728 s\n",
      "Iters. done: 76 Current cost: 0.11514571521650382 Accuracy: -0.2729073965868145 Time: 315.5129139237106\n"
     ]
    },
    {
     "data": {
      "application/vnd.jupyter.widget-view+json": {
       "model_id": "7ec1df50be32429f8536f67191faf467",
       "version_major": 2,
       "version_minor": 0
      },
      "text/plain": [
       "Mappings: 0it [00:00, ?it/s]"
      ]
     },
     "metadata": {},
     "output_type": "display_data"
    },
    {
     "name": "stdout",
     "output_type": "stream",
     "text": [
      "Submitted to device in 17.4034 s\n"
     ]
    },
    {
     "data": {
      "application/vnd.jupyter.widget-view+json": {
       "model_id": "1b8b7c1c26c94885b73ded7dc775de7d",
       "version_major": 2,
       "version_minor": 0
      },
      "text/plain": [
       "Running batch:   0%|          | 0/1 [00:00<?, ?it/s]"
      ]
     },
     "metadata": {},
     "output_type": "display_data"
    },
    {
     "name": "stdout",
     "output_type": "stream",
     "text": [
      "Predicted in 293.9831 s\n",
      "Iters. done: 77 Current cost: 0.09681319790197354 Accuracy: -0.07024595283404911 Time: 311.48885778710246\n"
     ]
    },
    {
     "data": {
      "application/vnd.jupyter.widget-view+json": {
       "model_id": "5cec5ca032a04b47a538f98efdd890a0",
       "version_major": 2,
       "version_minor": 0
      },
      "text/plain": [
       "Mappings: 0it [00:00, ?it/s]"
      ]
     },
     "metadata": {},
     "output_type": "display_data"
    },
    {
     "name": "stdout",
     "output_type": "stream",
     "text": [
      "Submitted to device in 18.4568 s\n"
     ]
    },
    {
     "data": {
      "application/vnd.jupyter.widget-view+json": {
       "model_id": "4770401ed3d54bbabe04b1f24b22dffe",
       "version_major": 2,
       "version_minor": 0
      },
      "text/plain": [
       "Running batch:   0%|          | 0/1 [00:00<?, ?it/s]"
      ]
     },
     "metadata": {},
     "output_type": "display_data"
    },
    {
     "name": "stdout",
     "output_type": "stream",
     "text": [
      "Predicted in 294.7083 s\n",
      "Iters. done: 78 Current cost: 0.08649672544369696 Accuracy: 0.043800098068783044 Time: 313.25933757796884\n"
     ]
    },
    {
     "data": {
      "application/vnd.jupyter.widget-view+json": {
       "model_id": "35c797ad97bf4a27bab47d3275b88a8c",
       "version_major": 2,
       "version_minor": 0
      },
      "text/plain": [
       "Mappings: 0it [00:00, ?it/s]"
      ]
     },
     "metadata": {},
     "output_type": "display_data"
    },
    {
     "name": "stdout",
     "output_type": "stream",
     "text": [
      "Submitted to device in 19.7636 s\n"
     ]
    },
    {
     "data": {
      "application/vnd.jupyter.widget-view+json": {
       "model_id": "7941eab198ae48a999a3668a55a5836f",
       "version_major": 2,
       "version_minor": 0
      },
      "text/plain": [
       "Running batch:   0%|          | 0/1 [00:00<?, ?it/s]"
      ]
     },
     "metadata": {},
     "output_type": "display_data"
    },
    {
     "name": "stdout",
     "output_type": "stream",
     "text": [
      "Predicted in 292.3637 s\n",
      "Iters. done: 79 Current cost: 0.09467457219353381 Accuracy: -0.04660397468761901 Time: 312.21523347869515\n"
     ]
    },
    {
     "data": {
      "application/vnd.jupyter.widget-view+json": {
       "model_id": "3e2a9e501fee4d9cbc6a09fd8e5ede19",
       "version_major": 2,
       "version_minor": 0
      },
      "text/plain": [
       "Mappings: 0it [00:00, ?it/s]"
      ]
     },
     "metadata": {},
     "output_type": "display_data"
    },
    {
     "name": "stdout",
     "output_type": "stream",
     "text": [
      "Submitted to device in 16.9679 s\n"
     ]
    },
    {
     "data": {
      "application/vnd.jupyter.widget-view+json": {
       "model_id": "83937646ae644ed4b3b271e86fb208bf",
       "version_major": 2,
       "version_minor": 0
      },
      "text/plain": [
       "Running batch:   0%|          | 0/1 [00:00<?, ?it/s]"
      ]
     },
     "metadata": {},
     "output_type": "display_data"
    },
    {
     "name": "stdout",
     "output_type": "stream",
     "text": [
      "Predicted in 298.7191 s\n",
      "Iters. done: 80 Current cost: 0.09331000994954299 Accuracy: -0.03151907665026621 Time: 315.77886556088924\n"
     ]
    },
    {
     "data": {
      "application/vnd.jupyter.widget-view+json": {
       "model_id": "a15f4cc76af94d4a8211fe50402f24b8",
       "version_major": 2,
       "version_minor": 0
      },
      "text/plain": [
       "Mappings: 0it [00:00, ?it/s]"
      ]
     },
     "metadata": {},
     "output_type": "display_data"
    },
    {
     "name": "stdout",
     "output_type": "stream",
     "text": [
      "Submitted to device in 17.5078 s\n"
     ]
    },
    {
     "data": {
      "application/vnd.jupyter.widget-view+json": {
       "model_id": "20d73c53478b43ffbfc9791447801d1f",
       "version_major": 2,
       "version_minor": 0
      },
      "text/plain": [
       "Running batch:   0%|          | 0/1 [00:00<?, ?it/s]"
      ]
     },
     "metadata": {},
     "output_type": "display_data"
    },
    {
     "name": "stdout",
     "output_type": "stream",
     "text": [
      "Predicted in 294.5872 s\n",
      "Iters. done: 81 Current cost: 0.09865042997747284 Accuracy: -0.09055609892808625 Time: 312.1899563409388\n"
     ]
    },
    {
     "data": {
      "application/vnd.jupyter.widget-view+json": {
       "model_id": "0576b4a29db14ccb89be4b1517fde14a",
       "version_major": 2,
       "version_minor": 0
      },
      "text/plain": [
       "Mappings: 0it [00:00, ?it/s]"
      ]
     },
     "metadata": {},
     "output_type": "display_data"
    },
    {
     "name": "stdout",
     "output_type": "stream",
     "text": [
      "Submitted to device in 18.8363 s\n"
     ]
    },
    {
     "data": {
      "application/vnd.jupyter.widget-view+json": {
       "model_id": "964f5b7369ad4420bd7ae1623b9b8889",
       "version_major": 2,
       "version_minor": 0
      },
      "text/plain": [
       "Running batch:   0%|          | 0/1 [00:00<?, ?it/s]"
      ]
     },
     "metadata": {},
     "output_type": "display_data"
    },
    {
     "name": "stdout",
     "output_type": "stream",
     "text": [
      "Predicted in 292.2757 s\n",
      "Iters. done: 82 Current cost: 0.09065488605589084 Accuracy: -0.0021673388393590454 Time: 311.2107407748699\n"
     ]
    },
    {
     "data": {
      "application/vnd.jupyter.widget-view+json": {
       "model_id": "3739b2f1831749468995a19e0f4d7d91",
       "version_major": 2,
       "version_minor": 0
      },
      "text/plain": [
       "Mappings: 0it [00:00, ?it/s]"
      ]
     },
     "metadata": {},
     "output_type": "display_data"
    },
    {
     "name": "stdout",
     "output_type": "stream",
     "text": [
      "Submitted to device in 21.0126 s\n"
     ]
    },
    {
     "data": {
      "application/vnd.jupyter.widget-view+json": {
       "model_id": "4c19e11d7226414388c5d0d9c0024256",
       "version_major": 2,
       "version_minor": 0
      },
      "text/plain": [
       "Running batch:   0%|          | 0/1 [00:00<?, ?it/s]"
      ]
     },
     "metadata": {},
     "output_type": "display_data"
    },
    {
     "name": "stdout",
     "output_type": "stream",
     "text": [
      "Predicted in 291.4057 s\n",
      "Iters. done: 83 Current cost: 0.09276000807447152 Accuracy: -0.025438941982651953 Time: 312.50872852280736\n"
     ]
    },
    {
     "data": {
      "application/vnd.jupyter.widget-view+json": {
       "model_id": "0f50385889914c4f89e93b8a3b4cee70",
       "version_major": 2,
       "version_minor": 0
      },
      "text/plain": [
       "Mappings: 0it [00:00, ?it/s]"
      ]
     },
     "metadata": {},
     "output_type": "display_data"
    },
    {
     "name": "stdout",
     "output_type": "stream",
     "text": [
      "Submitted to device in 25.3818 s\n"
     ]
    },
    {
     "data": {
      "application/vnd.jupyter.widget-view+json": {
       "model_id": "b6550eef705e409c8ccf06de67eb72a7",
       "version_major": 2,
       "version_minor": 0
      },
      "text/plain": [
       "Running batch:   0%|          | 0/1 [00:00<?, ?it/s]"
      ]
     },
     "metadata": {},
     "output_type": "display_data"
    },
    {
     "name": "stdout",
     "output_type": "stream",
     "text": [
      "Predicted in 289.1315 s\n",
      "Iters. done: 84 Current cost: 0.08614814664292622 Accuracy: 0.04765355047871567 Time: 314.60305075347424\n"
     ]
    },
    {
     "data": {
      "application/vnd.jupyter.widget-view+json": {
       "model_id": "c8aa63fe1b5c460dba3a32d9f2a0011a",
       "version_major": 2,
       "version_minor": 0
      },
      "text/plain": [
       "Mappings: 0it [00:00, ?it/s]"
      ]
     },
     "metadata": {},
     "output_type": "display_data"
    },
    {
     "name": "stdout",
     "output_type": "stream",
     "text": [
      "Submitted to device in 21.7503 s\n"
     ]
    },
    {
     "data": {
      "application/vnd.jupyter.widget-view+json": {
       "model_id": "470e29b64ddb4d84a5750d0c6a7e2516",
       "version_major": 2,
       "version_minor": 0
      },
      "text/plain": [
       "Running batch:   0%|          | 0/1 [00:00<?, ?it/s]"
      ]
     },
     "metadata": {},
     "output_type": "display_data"
    },
    {
     "name": "stdout",
     "output_type": "stream",
     "text": [
      "Predicted in 290.1580 s\n",
      "Iters. done: 85 Current cost: 0.1067785346175032 Accuracy: -0.18041028496594702 Time: 312.00907911360264\n"
     ]
    },
    {
     "data": {
      "application/vnd.jupyter.widget-view+json": {
       "model_id": "643b4be325cd4350b8065e082a3dc8fc",
       "version_major": 2,
       "version_minor": 0
      },
      "text/plain": [
       "Mappings: 0it [00:00, ?it/s]"
      ]
     },
     "metadata": {},
     "output_type": "display_data"
    },
    {
     "name": "stdout",
     "output_type": "stream",
     "text": [
      "Submitted to device in 21.9304 s\n"
     ]
    },
    {
     "data": {
      "application/vnd.jupyter.widget-view+json": {
       "model_id": "5109b2eeea7f44989ad63e8d632d52a5",
       "version_major": 2,
       "version_minor": 0
      },
      "text/plain": [
       "Running batch:   0%|          | 0/1 [00:00<?, ?it/s]"
      ]
     },
     "metadata": {},
     "output_type": "display_data"
    },
    {
     "name": "stdout",
     "output_type": "stream",
     "text": [
      "Predicted in 292.8659 s\n",
      "Iters. done: 86 Current cost: 0.08821052263859955 Accuracy: 0.024854494044009412 Time: 314.8944894708693\n"
     ]
    },
    {
     "data": {
      "application/vnd.jupyter.widget-view+json": {
       "model_id": "5d0e6f68982b4f3eadebe317b22fab0d",
       "version_major": 2,
       "version_minor": 0
      },
      "text/plain": [
       "Mappings: 0it [00:00, ?it/s]"
      ]
     },
     "metadata": {},
     "output_type": "display_data"
    },
    {
     "name": "stdout",
     "output_type": "stream",
     "text": [
      "Submitted to device in 17.2369 s\n"
     ]
    },
    {
     "data": {
      "application/vnd.jupyter.widget-view+json": {
       "model_id": "2a7d5d1ae4574d5489d39d27105e1198",
       "version_major": 2,
       "version_minor": 0
      },
      "text/plain": [
       "Running batch:   0%|          | 0/1 [00:00<?, ?it/s]"
      ]
     },
     "metadata": {},
     "output_type": "display_data"
    },
    {
     "name": "stdout",
     "output_type": "stream",
     "text": [
      "Predicted in 294.5962 s\n",
      "Iters. done: 87 Current cost: 0.10385713854656031 Accuracy: -0.1481149741063914 Time: 311.9317509829998\n"
     ]
    },
    {
     "data": {
      "application/vnd.jupyter.widget-view+json": {
       "model_id": "a1c3cb9b3c3e4463a30aa9f426b84909",
       "version_major": 2,
       "version_minor": 0
      },
      "text/plain": [
       "Mappings: 0it [00:00, ?it/s]"
      ]
     },
     "metadata": {},
     "output_type": "display_data"
    },
    {
     "name": "stdout",
     "output_type": "stream",
     "text": [
      "Submitted to device in 21.1919 s\n"
     ]
    },
    {
     "data": {
      "application/vnd.jupyter.widget-view+json": {
       "model_id": "50598ee1874a40bfb8e2eb242721940f",
       "version_major": 2,
       "version_minor": 0
      },
      "text/plain": [
       "Running batch:   0%|          | 0/1 [00:00<?, ?it/s]"
      ]
     },
     "metadata": {},
     "output_type": "display_data"
    },
    {
     "name": "stdout",
     "output_type": "stream",
     "text": [
      "Predicted in 370.7405 s\n",
      "Iters. done: 88 Current cost: 0.0824889927874532 Accuracy: 0.08810459113726699 Time: 392.028112526983\n"
     ]
    },
    {
     "data": {
      "application/vnd.jupyter.widget-view+json": {
       "model_id": "42c3a82c4bfc4b9cab1750182fe0e058",
       "version_major": 2,
       "version_minor": 0
      },
      "text/plain": [
       "Mappings: 0it [00:00, ?it/s]"
      ]
     },
     "metadata": {},
     "output_type": "display_data"
    },
    {
     "name": "stdout",
     "output_type": "stream",
     "text": [
      "Submitted to device in 17.1370 s\n"
     ]
    },
    {
     "data": {
      "application/vnd.jupyter.widget-view+json": {
       "model_id": "aaa4f2842cfa481b92cd8699fb26ea90",
       "version_major": 2,
       "version_minor": 0
      },
      "text/plain": [
       "Running batch:   0%|          | 0/1 [00:00<?, ?it/s]"
      ]
     },
     "metadata": {},
     "output_type": "display_data"
    },
    {
     "name": "stdout",
     "output_type": "stream",
     "text": [
      "Predicted in 294.5359 s\n",
      "Iters. done: 89 Current cost: 0.09810522281055584 Accuracy: -0.08452896857298886 Time: 311.768436845392\n"
     ]
    },
    {
     "data": {
      "application/vnd.jupyter.widget-view+json": {
       "model_id": "0eb099805e79456c8da880457c6ca5a2",
       "version_major": 2,
       "version_minor": 0
      },
      "text/plain": [
       "Mappings: 0it [00:00, ?it/s]"
      ]
     },
     "metadata": {},
     "output_type": "display_data"
    },
    {
     "name": "stdout",
     "output_type": "stream",
     "text": [
      "Submitted to device in 18.6169 s\n"
     ]
    },
    {
     "data": {
      "application/vnd.jupyter.widget-view+json": {
       "model_id": "532b8c17669843529dd23d6e95706717",
       "version_major": 2,
       "version_minor": 0
      },
      "text/plain": [
       "Running batch:   0%|          | 0/1 [00:00<?, ?it/s]"
      ]
     },
     "metadata": {},
     "output_type": "display_data"
    },
    {
     "name": "stdout",
     "output_type": "stream",
     "text": [
      "Predicted in 291.6538 s\n",
      "Iters. done: 90 Current cost: 0.09178112574980461 Accuracy: -0.014617640042638547 Time: 310.35690500959754\n"
     ]
    },
    {
     "data": {
      "application/vnd.jupyter.widget-view+json": {
       "model_id": "875f97c151a445c1ad90bbbb032bbb4b",
       "version_major": 2,
       "version_minor": 0
      },
      "text/plain": [
       "Mappings: 0it [00:00, ?it/s]"
      ]
     },
     "metadata": {},
     "output_type": "display_data"
    },
    {
     "name": "stdout",
     "output_type": "stream",
     "text": [
      "Submitted to device in 19.8214 s\n"
     ]
    },
    {
     "data": {
      "application/vnd.jupyter.widget-view+json": {
       "model_id": "6ef8f6a55a614433b85a59cef390c764",
       "version_major": 2,
       "version_minor": 0
      },
      "text/plain": [
       "Running batch:   0%|          | 0/1 [00:00<?, ?it/s]"
      ]
     },
     "metadata": {},
     "output_type": "display_data"
    },
    {
     "name": "stdout",
     "output_type": "stream",
     "text": [
      "Predicted in 298.4590 s\n",
      "Iters. done: 91 Current cost: 0.09283889743671998 Accuracy: -0.026311044366394976 Time: 318.3548620082438\n"
     ]
    },
    {
     "data": {
      "application/vnd.jupyter.widget-view+json": {
       "model_id": "c052415943aa4b1bb1851e0424735e29",
       "version_major": 2,
       "version_minor": 0
      },
      "text/plain": [
       "Mappings: 0it [00:00, ?it/s]"
      ]
     },
     "metadata": {},
     "output_type": "display_data"
    },
    {
     "name": "stdout",
     "output_type": "stream",
     "text": [
      "Submitted to device in 22.5715 s\n"
     ]
    },
    {
     "data": {
      "application/vnd.jupyter.widget-view+json": {
       "model_id": "45118b37fcf24482899b3cad1520c4f8",
       "version_major": 2,
       "version_minor": 0
      },
      "text/plain": [
       "Running batch:   0%|          | 0/1 [00:00<?, ?it/s]"
      ]
     },
     "metadata": {},
     "output_type": "display_data"
    },
    {
     "name": "stdout",
     "output_type": "stream",
     "text": [
      "Predicted in 291.7866 s\n",
      "Iters. done: 92 Current cost: 0.08402011940746479 Accuracy: 0.07117836512825626 Time: 314.44893604516983\n"
     ]
    },
    {
     "data": {
      "application/vnd.jupyter.widget-view+json": {
       "model_id": "7152f93c05714c6f8e1592dfb8c531d9",
       "version_major": 2,
       "version_minor": 0
      },
      "text/plain": [
       "Mappings: 0it [00:00, ?it/s]"
      ]
     },
     "metadata": {},
     "output_type": "display_data"
    },
    {
     "name": "stdout",
     "output_type": "stream",
     "text": [
      "Submitted to device in 20.9400 s\n"
     ]
    },
    {
     "data": {
      "application/vnd.jupyter.widget-view+json": {
       "model_id": "25b949165b1b40c99621bd90ccb81cb0",
       "version_major": 2,
       "version_minor": 0
      },
      "text/plain": [
       "Running batch:   0%|          | 0/1 [00:00<?, ?it/s]"
      ]
     },
     "metadata": {},
     "output_type": "display_data"
    },
    {
     "name": "stdout",
     "output_type": "stream",
     "text": [
      "Predicted in 293.4992 s\n",
      "Iters. done: 93 Current cost: 0.0886836307059286 Accuracy: 0.019624401398740665 Time: 314.5259205698967\n"
     ]
    },
    {
     "data": {
      "application/vnd.jupyter.widget-view+json": {
       "model_id": "7b6cd2de6a8a4016b75aa747b6c7569c",
       "version_major": 2,
       "version_minor": 0
      },
      "text/plain": [
       "Mappings: 0it [00:00, ?it/s]"
      ]
     },
     "metadata": {},
     "output_type": "display_data"
    },
    {
     "name": "stdout",
     "output_type": "stream",
     "text": [
      "Submitted to device in 21.3853 s\n"
     ]
    },
    {
     "data": {
      "application/vnd.jupyter.widget-view+json": {
       "model_id": "8062929ec9d04c97ab469a94035419be",
       "version_major": 2,
       "version_minor": 0
      },
      "text/plain": [
       "Running batch:   0%|          | 0/1 [00:00<?, ?it/s]"
      ]
     },
     "metadata": {},
     "output_type": "display_data"
    },
    {
     "name": "stdout",
     "output_type": "stream",
     "text": [
      "Predicted in 291.9394 s\n",
      "Iters. done: 94 Current cost: 0.09053710786317887 Accuracy: -0.0008653300552909915 Time: 313.42589189112186\n"
     ]
    },
    {
     "data": {
      "application/vnd.jupyter.widget-view+json": {
       "model_id": "a97b8e0074ab4d29a8e1dba09143d1f1",
       "version_major": 2,
       "version_minor": 0
      },
      "text/plain": [
       "Mappings: 0it [00:00, ?it/s]"
      ]
     },
     "metadata": {},
     "output_type": "display_data"
    },
    {
     "name": "stdout",
     "output_type": "stream",
     "text": [
      "Submitted to device in 23.3440 s\n"
     ]
    },
    {
     "data": {
      "application/vnd.jupyter.widget-view+json": {
       "model_id": "96823725f20244f1bfed0039366870da",
       "version_major": 2,
       "version_minor": 0
      },
      "text/plain": [
       "Running batch:   0%|          | 0/1 [00:00<?, ?it/s]"
      ]
     },
     "metadata": {},
     "output_type": "display_data"
    },
    {
     "name": "stdout",
     "output_type": "stream",
     "text": [
      "Predicted in 288.2005 s\n",
      "Iters. done: 95 Current cost: 0.08438211014064576 Accuracy: 0.06717664712341742 Time: 311.62412014231086\n"
     ]
    },
    {
     "data": {
      "application/vnd.jupyter.widget-view+json": {
       "model_id": "fa736ebbfbe74c49b3c911f33fd542f8",
       "version_major": 2,
       "version_minor": 0
      },
      "text/plain": [
       "Mappings: 0it [00:00, ?it/s]"
      ]
     },
     "metadata": {},
     "output_type": "display_data"
    },
    {
     "name": "stdout",
     "output_type": "stream",
     "text": [
      "Submitted to device in 22.4118 s\n"
     ]
    },
    {
     "data": {
      "application/vnd.jupyter.widget-view+json": {
       "model_id": "595b6c8d9b4142d09633fce085d07b3f",
       "version_major": 2,
       "version_minor": 0
      },
      "text/plain": [
       "Running batch:   0%|          | 0/1 [00:00<?, ?it/s]"
      ]
     },
     "metadata": {},
     "output_type": "display_data"
    },
    {
     "name": "stdout",
     "output_type": "stream",
     "text": [
      "Predicted in 291.5789 s\n",
      "Iters. done: 96 Current cost: 0.09101572641701727 Accuracy: -0.006156339765718055 Time: 314.0725111849606\n"
     ]
    },
    {
     "data": {
      "application/vnd.jupyter.widget-view+json": {
       "model_id": "aa84691907734cc4a5de8c9a190c50be",
       "version_major": 2,
       "version_minor": 0
      },
      "text/plain": [
       "Mappings: 0it [00:00, ?it/s]"
      ]
     },
     "metadata": {},
     "output_type": "display_data"
    },
    {
     "name": "stdout",
     "output_type": "stream",
     "text": [
      "Submitted to device in 23.4400 s\n"
     ]
    },
    {
     "data": {
      "application/vnd.jupyter.widget-view+json": {
       "model_id": "813f78c640034801a0dd0c6a342204d3",
       "version_major": 2,
       "version_minor": 0
      },
      "text/plain": [
       "Running batch:   0%|          | 0/1 [00:00<?, ?it/s]"
      ]
     },
     "metadata": {},
     "output_type": "display_data"
    },
    {
     "name": "stdout",
     "output_type": "stream",
     "text": [
      "Predicted in 291.8150 s\n",
      "Iters. done: 97 Current cost: 0.08971868330062288 Accuracy: 0.00818215101916353 Time: 315.34197935834527\n"
     ]
    },
    {
     "data": {
      "application/vnd.jupyter.widget-view+json": {
       "model_id": "d05c8d503bcd441abdce504804540b7e",
       "version_major": 2,
       "version_minor": 0
      },
      "text/plain": [
       "Mappings: 0it [00:00, ?it/s]"
      ]
     },
     "metadata": {},
     "output_type": "display_data"
    },
    {
     "name": "stdout",
     "output_type": "stream",
     "text": [
      "Submitted to device in 18.2061 s\n"
     ]
    },
    {
     "data": {
      "application/vnd.jupyter.widget-view+json": {
       "model_id": "09023a464d884c7ababd0ade969da03f",
       "version_major": 2,
       "version_minor": 0
      },
      "text/plain": [
       "Running batch:   0%|          | 0/1 [00:00<?, ?it/s]"
      ]
     },
     "metadata": {},
     "output_type": "display_data"
    },
    {
     "name": "stdout",
     "output_type": "stream",
     "text": [
      "Predicted in 294.9072 s\n",
      "Iters. done: 98 Current cost: 0.094366281178964 Accuracy: -0.043195893787610684 Time: 313.2102514356375\n"
     ]
    },
    {
     "data": {
      "application/vnd.jupyter.widget-view+json": {
       "model_id": "2c5f8d7f048149b4b348d064e4112490",
       "version_major": 2,
       "version_minor": 0
      },
      "text/plain": [
       "Mappings: 0it [00:00, ?it/s]"
      ]
     },
     "metadata": {},
     "output_type": "display_data"
    },
    {
     "name": "stdout",
     "output_type": "stream",
     "text": [
      "Submitted to device in 19.9618 s\n"
     ]
    },
    {
     "data": {
      "application/vnd.jupyter.widget-view+json": {
       "model_id": "64ed9918610d4b0b843059beaed153ab",
       "version_major": 2,
       "version_minor": 0
      },
      "text/plain": [
       "Running batch:   0%|          | 0/1 [00:00<?, ?it/s]"
      ]
     },
     "metadata": {},
     "output_type": "display_data"
    },
    {
     "name": "stdout",
     "output_type": "stream",
     "text": [
      "Predicted in 294.3749 s\n",
      "Iters. done: 99 Current cost: 0.08858270302512272 Accuracy: 0.020740131942222906 Time: 314.4433059133589\n"
     ]
    },
    {
     "data": {
      "application/vnd.jupyter.widget-view+json": {
       "model_id": "8158d02f1da04505a4796d5bdce7e0c5",
       "version_major": 2,
       "version_minor": 0
      },
      "text/plain": [
       "Mappings: 0it [00:00, ?it/s]"
      ]
     },
     "metadata": {},
     "output_type": "display_data"
    },
    {
     "name": "stdout",
     "output_type": "stream",
     "text": [
      "Submitted to device in 17.7519 s\n"
     ]
    },
    {
     "data": {
      "application/vnd.jupyter.widget-view+json": {
       "model_id": "ce0d16101b1d4757afdf0f0ec72c7449",
       "version_major": 2,
       "version_minor": 0
      },
      "text/plain": [
       "Running batch:   0%|          | 0/1 [00:00<?, ?it/s]"
      ]
     },
     "metadata": {},
     "output_type": "display_data"
    },
    {
     "name": "stdout",
     "output_type": "stream",
     "text": [
      "Predicted in 293.3867 s\n",
      "Iters. done: 100 Current cost: 0.08867647077845553 Accuracy: 0.019703552625708776 Time: 311.2249897904694\n"
     ]
    },
    {
     "data": {
      "application/vnd.jupyter.widget-view+json": {
       "model_id": "4c76dbf30c8d41f8866014d944cb4f2d",
       "version_major": 2,
       "version_minor": 0
      },
      "text/plain": [
       "Mappings: 0it [00:00, ?it/s]"
      ]
     },
     "metadata": {},
     "output_type": "display_data"
    },
    {
     "name": "stdout",
     "output_type": "stream",
     "text": [
      "Submitted to device in 21.7581 s\n"
     ]
    },
    {
     "data": {
      "application/vnd.jupyter.widget-view+json": {
       "model_id": "63c501672a7a4caf8484a9a597a19676",
       "version_major": 2,
       "version_minor": 0
      },
      "text/plain": [
       "Running batch:   0%|          | 0/1 [00:00<?, ?it/s]"
      ]
     },
     "metadata": {},
     "output_type": "display_data"
    },
    {
     "name": "stdout",
     "output_type": "stream",
     "text": [
      "Predicted in 292.9730 s\n",
      "Iters. done: 101 Current cost: 0.0902513568644592 Accuracy: 0.0022935765455184276 Time: 314.8190308474004\n"
     ]
    },
    {
     "data": {
      "application/vnd.jupyter.widget-view+json": {
       "model_id": "43c119d75d994109a20fa639c727c3ff",
       "version_major": 2,
       "version_minor": 0
      },
      "text/plain": [
       "Mappings: 0it [00:00, ?it/s]"
      ]
     },
     "metadata": {},
     "output_type": "display_data"
    },
    {
     "name": "stdout",
     "output_type": "stream",
     "text": [
      "Submitted to device in 23.6286 s\n"
     ]
    },
    {
     "data": {
      "application/vnd.jupyter.widget-view+json": {
       "model_id": "fb315b0e202e4bdcabcd3e5e6a188295",
       "version_major": 2,
       "version_minor": 0
      },
      "text/plain": [
       "Running batch:   0%|          | 0/1 [00:00<?, ?it/s]"
      ]
     },
     "metadata": {},
     "output_type": "display_data"
    },
    {
     "name": "stdout",
     "output_type": "stream",
     "text": [
      "Predicted in 289.3655 s\n",
      "Iters. done: 102 Current cost: 0.09216145282847418 Accuracy: -0.018822061810747526 Time: 313.0752932578325\n"
     ]
    },
    {
     "data": {
      "application/vnd.jupyter.widget-view+json": {
       "model_id": "19624673a158413fbbe859035aaaee24",
       "version_major": 2,
       "version_minor": 0
      },
      "text/plain": [
       "Mappings: 0it [00:00, ?it/s]"
      ]
     },
     "metadata": {},
     "output_type": "display_data"
    },
    {
     "name": "stdout",
     "output_type": "stream",
     "text": [
      "Submitted to device in 17.7393 s\n"
     ]
    },
    {
     "data": {
      "application/vnd.jupyter.widget-view+json": {
       "model_id": "fcb0c851b8b84dd6ac0dc62c497a1a29",
       "version_major": 2,
       "version_minor": 0
      },
      "text/plain": [
       "Running batch:   0%|          | 0/1 [00:00<?, ?it/s]"
      ]
     },
     "metadata": {},
     "output_type": "display_data"
    },
    {
     "name": "stdout",
     "output_type": "stream",
     "text": [
      "Predicted in 293.9156 s\n",
      "Iters. done: 103 Current cost: 0.08601161516173127 Accuracy: 0.049162872227711985 Time: 312.07893711328506\n"
     ]
    },
    {
     "data": {
      "application/vnd.jupyter.widget-view+json": {
       "model_id": "106d5006303d4e8ebcaa48488bdbd4de",
       "version_major": 2,
       "version_minor": 0
      },
      "text/plain": [
       "Mappings: 0it [00:00, ?it/s]"
      ]
     },
     "metadata": {},
     "output_type": "display_data"
    },
    {
     "name": "stdout",
     "output_type": "stream",
     "text": [
      "Submitted to device in 20.3692 s\n"
     ]
    },
    {
     "data": {
      "application/vnd.jupyter.widget-view+json": {
       "model_id": "6076c63da4bd4fd79ac7844f2e895790",
       "version_major": 2,
       "version_minor": 0
      },
      "text/plain": [
       "Running batch:   0%|          | 0/1 [00:00<?, ?it/s]"
      ]
     },
     "metadata": {},
     "output_type": "display_data"
    },
    {
     "name": "stdout",
     "output_type": "stream",
     "text": [
      "Predicted in 290.0737 s\n",
      "Iters. done: 104 Current cost: 0.09674703357180252 Accuracy: -0.06951452253196133 Time: 310.5356027074158\n"
     ]
    },
    {
     "data": {
      "application/vnd.jupyter.widget-view+json": {
       "model_id": "e23a0b618f144622a22378955bcbd8bd",
       "version_major": 2,
       "version_minor": 0
      },
      "text/plain": [
       "Mappings: 0it [00:00, ?it/s]"
      ]
     },
     "metadata": {},
     "output_type": "display_data"
    },
    {
     "name": "stdout",
     "output_type": "stream",
     "text": [
      "Submitted to device in 18.6832 s\n"
     ]
    },
    {
     "data": {
      "application/vnd.jupyter.widget-view+json": {
       "model_id": "2d7b3a43cc49458cbff1340b9ab2f4c9",
       "version_major": 2,
       "version_minor": 0
      },
      "text/plain": [
       "Running batch:   0%|          | 0/1 [00:00<?, ?it/s]"
      ]
     },
     "metadata": {},
     "output_type": "display_data"
    },
    {
     "name": "stdout",
     "output_type": "stream",
     "text": [
      "Predicted in 300.5130 s\n",
      "Iters. done: 105 Current cost: 0.08831549169263359 Accuracy: 0.023694087119258356 Time: 319.28798946365714\n"
     ]
    },
    {
     "data": {
      "application/vnd.jupyter.widget-view+json": {
       "model_id": "49837cc920774aca97052650b5456ec3",
       "version_major": 2,
       "version_minor": 0
      },
      "text/plain": [
       "Mappings: 0it [00:00, ?it/s]"
      ]
     },
     "metadata": {},
     "output_type": "display_data"
    },
    {
     "name": "stdout",
     "output_type": "stream",
     "text": [
      "Submitted to device in 20.7343 s\n"
     ]
    },
    {
     "data": {
      "application/vnd.jupyter.widget-view+json": {
       "model_id": "18bee3b1db844299b44484aecfaebb9f",
       "version_major": 2,
       "version_minor": 0
      },
      "text/plain": [
       "Running batch:   0%|          | 0/1 [00:00<?, ?it/s]"
      ]
     },
     "metadata": {},
     "output_type": "display_data"
    },
    {
     "name": "stdout",
     "output_type": "stream",
     "text": [
      "Predicted in 291.8793 s\n",
      "Iters. done: 106 Current cost: 0.09841335957981152 Accuracy: -0.08793534432920724 Time: 312.70828120037913\n"
     ]
    },
    {
     "data": {
      "application/vnd.jupyter.widget-view+json": {
       "model_id": "6b63457e5f2449c7bace63a490fd99c6",
       "version_major": 2,
       "version_minor": 0
      },
      "text/plain": [
       "Mappings: 0it [00:00, ?it/s]"
      ]
     },
     "metadata": {},
     "output_type": "display_data"
    },
    {
     "name": "stdout",
     "output_type": "stream",
     "text": [
      "Submitted to device in 22.2804 s\n"
     ]
    },
    {
     "data": {
      "application/vnd.jupyter.widget-view+json": {
       "model_id": "6c9a490c61ae436c839ad2c24551079f",
       "version_major": 2,
       "version_minor": 0
      },
      "text/plain": [
       "Running batch:   0%|          | 0/1 [00:00<?, ?it/s]"
      ]
     },
     "metadata": {},
     "output_type": "display_data"
    },
    {
     "name": "stdout",
     "output_type": "stream",
     "text": [
      "Predicted in 289.5349 s\n",
      "Iters. done: 107 Current cost: 0.08847335997876102 Accuracy: 0.021948892270103548 Time: 311.9051084779203\n"
     ]
    },
    {
     "data": {
      "application/vnd.jupyter.widget-view+json": {
       "model_id": "ea3fa6ed1af240199ac8d298dee6c34d",
       "version_major": 2,
       "version_minor": 0
      },
      "text/plain": [
       "Mappings: 0it [00:00, ?it/s]"
      ]
     },
     "metadata": {},
     "output_type": "display_data"
    },
    {
     "name": "stdout",
     "output_type": "stream",
     "text": [
      "Submitted to device in 37.2144 s\n"
     ]
    },
    {
     "data": {
      "application/vnd.jupyter.widget-view+json": {
       "model_id": "53271671d0cc438286ada34883f2945e",
       "version_major": 2,
       "version_minor": 0
      },
      "text/plain": [
       "Running batch:   0%|          | 0/1 [00:00<?, ?it/s]"
      ]
     },
     "metadata": {},
     "output_type": "display_data"
    },
    {
     "name": "stdout",
     "output_type": "stream",
     "text": [
      "Predicted in 276.8677 s\n",
      "Iters. done: 108 Current cost: 0.0888146255921674 Accuracy: 0.018176285337323184 Time: 314.65013993158937\n"
     ]
    },
    {
     "data": {
      "application/vnd.jupyter.widget-view+json": {
       "model_id": "9ab361068d79422395b29fcc7b095609",
       "version_major": 2,
       "version_minor": 0
      },
      "text/plain": [
       "Mappings: 0it [00:00, ?it/s]"
      ]
     },
     "metadata": {},
     "output_type": "display_data"
    },
    {
     "name": "stdout",
     "output_type": "stream",
     "text": [
      "Submitted to device in 19.6981 s\n"
     ]
    },
    {
     "data": {
      "application/vnd.jupyter.widget-view+json": {
       "model_id": "f267897d4f604dd686f477408dacedbd",
       "version_major": 2,
       "version_minor": 0
      },
      "text/plain": [
       "Running batch:   0%|          | 0/1 [00:00<?, ?it/s]"
      ]
     },
     "metadata": {},
     "output_type": "display_data"
    },
    {
     "name": "stdout",
     "output_type": "stream",
     "text": [
      "Predicted in 292.2389 s\n",
      "Iters. done: 109 Current cost: 0.08976115097188457 Accuracy: 0.007712681419159928 Time: 312.03762071579695\n"
     ]
    },
    {
     "data": {
      "application/vnd.jupyter.widget-view+json": {
       "model_id": "018f8ace4ea94f39a6c8c76f846f81ae",
       "version_major": 2,
       "version_minor": 0
      },
      "text/plain": [
       "Mappings: 0it [00:00, ?it/s]"
      ]
     },
     "metadata": {},
     "output_type": "display_data"
    },
    {
     "name": "stdout",
     "output_type": "stream",
     "text": [
      "Submitted to device in 23.8430 s\n"
     ]
    },
    {
     "data": {
      "application/vnd.jupyter.widget-view+json": {
       "model_id": "5e3613da27bc43cda64b45b1527e8e23",
       "version_major": 2,
       "version_minor": 0
      },
      "text/plain": [
       "Running batch:   0%|          | 0/1 [00:00<?, ?it/s]"
      ]
     },
     "metadata": {},
     "output_type": "display_data"
    },
    {
     "name": "stdout",
     "output_type": "stream",
     "text": [
      "Predicted in 288.2619 s\n",
      "Iters. done: 110 Current cost: 0.09198320753881517 Accuracy: -0.01685160422848231 Time: 312.1950241588056\n"
     ]
    },
    {
     "data": {
      "application/vnd.jupyter.widget-view+json": {
       "model_id": "eecda443eb8940aebd39eb68d8999e60",
       "version_major": 2,
       "version_minor": 0
      },
      "text/plain": [
       "Mappings: 0it [00:00, ?it/s]"
      ]
     },
     "metadata": {},
     "output_type": "display_data"
    },
    {
     "name": "stdout",
     "output_type": "stream",
     "text": [
      "Submitted to device in 18.5799 s\n"
     ]
    },
    {
     "data": {
      "application/vnd.jupyter.widget-view+json": {
       "model_id": "a764c622d5864125ba45552bb176f52d",
       "version_major": 2,
       "version_minor": 0
      },
      "text/plain": [
       "Running batch:   0%|          | 0/1 [00:00<?, ?it/s]"
      ]
     },
     "metadata": {},
     "output_type": "display_data"
    },
    {
     "name": "stdout",
     "output_type": "stream",
     "text": [
      "Predicted in 294.3737 s\n",
      "Iters. done: 111 Current cost: 0.0860894324935684 Accuracy: 0.04830262087496395 Time: 313.0543736740947\n"
     ]
    },
    {
     "data": {
      "application/vnd.jupyter.widget-view+json": {
       "model_id": "867ff719dd054f7681b0ae9604c4be45",
       "version_major": 2,
       "version_minor": 0
      },
      "text/plain": [
       "Mappings: 0it [00:00, ?it/s]"
      ]
     },
     "metadata": {},
     "output_type": "display_data"
    },
    {
     "name": "stdout",
     "output_type": "stream",
     "text": [
      "Submitted to device in 19.8224 s\n"
     ]
    },
    {
     "data": {
      "application/vnd.jupyter.widget-view+json": {
       "model_id": "b565067c275749a9a89711e226125410",
       "version_major": 2,
       "version_minor": 0
      },
      "text/plain": [
       "Running batch:   0%|          | 0/1 [00:00<?, ?it/s]"
      ]
     },
     "metadata": {},
     "output_type": "display_data"
    },
    {
     "name": "stdout",
     "output_type": "stream",
     "text": [
      "Predicted in 295.6394 s\n",
      "Iters. done: 112 Current cost: 0.08935345419979229 Accuracy: 0.012219668377250859 Time: 315.5538063980639\n"
     ]
    },
    {
     "data": {
      "application/vnd.jupyter.widget-view+json": {
       "model_id": "3a4e081c4dcc4e3d911ff89fc5d7d250",
       "version_major": 2,
       "version_minor": 0
      },
      "text/plain": [
       "Mappings: 0it [00:00, ?it/s]"
      ]
     },
     "metadata": {},
     "output_type": "display_data"
    },
    {
     "name": "stdout",
     "output_type": "stream",
     "text": [
      "Submitted to device in 19.5740 s\n"
     ]
    },
    {
     "data": {
      "application/vnd.jupyter.widget-view+json": {
       "model_id": "63245597a7b94690916bcf53e33063a6",
       "version_major": 2,
       "version_minor": 0
      },
      "text/plain": [
       "Running batch:   0%|          | 0/1 [00:00<?, ?it/s]"
      ]
     },
     "metadata": {},
     "output_type": "display_data"
    },
    {
     "name": "stdout",
     "output_type": "stream",
     "text": [
      "Predicted in 296.2376 s\n",
      "Iters. done: 113 Current cost: 0.08973933949856949 Accuracy: 0.00795380186086303 Time: 315.9006471708417\n"
     ]
    },
    {
     "data": {
      "application/vnd.jupyter.widget-view+json": {
       "model_id": "48443a25f47c40b481e26ef5ad4bbe36",
       "version_major": 2,
       "version_minor": 0
      },
      "text/plain": [
       "Mappings: 0it [00:00, ?it/s]"
      ]
     },
     "metadata": {},
     "output_type": "display_data"
    },
    {
     "name": "stdout",
     "output_type": "stream",
     "text": [
      "Submitted to device in 19.6777 s\n"
     ]
    },
    {
     "data": {
      "application/vnd.jupyter.widget-view+json": {
       "model_id": "e05b9b18e76f4d8f9c62f34ab987732e",
       "version_major": 2,
       "version_minor": 0
      },
      "text/plain": [
       "Running batch:   0%|          | 0/1 [00:00<?, ?it/s]"
      ]
     },
     "metadata": {},
     "output_type": "display_data"
    },
    {
     "name": "stdout",
     "output_type": "stream",
     "text": [
      "Predicted in 292.9622 s\n",
      "Iters. done: 114 Current cost: 0.0914603752755058 Accuracy: -0.01107182289758879 Time: 312.7292821891606\n"
     ]
    },
    {
     "data": {
      "application/vnd.jupyter.widget-view+json": {
       "model_id": "f5eed6d769b046f7bad6d90346d1adae",
       "version_major": 2,
       "version_minor": 0
      },
      "text/plain": [
       "Mappings: 0it [00:00, ?it/s]"
      ]
     },
     "metadata": {},
     "output_type": "display_data"
    },
    {
     "name": "stdout",
     "output_type": "stream",
     "text": [
      "Submitted to device in 19.4891 s\n"
     ]
    },
    {
     "data": {
      "application/vnd.jupyter.widget-view+json": {
       "model_id": "eb3f69bd0c464599b41c68230219f0e8",
       "version_major": 2,
       "version_minor": 0
      },
      "text/plain": [
       "Running batch:   0%|          | 0/1 [00:00<?, ?it/s]"
      ]
     },
     "metadata": {},
     "output_type": "display_data"
    },
    {
     "name": "stdout",
     "output_type": "stream",
     "text": [
      "Predicted in 292.8629 s\n",
      "Iters. done: 115 Current cost: 0.08790036748133015 Accuracy: 0.028283182580403854 Time: 312.4401241578162\n"
     ]
    },
    {
     "data": {
      "application/vnd.jupyter.widget-view+json": {
       "model_id": "79995098f7c14f87b1250bb277d35320",
       "version_major": 2,
       "version_minor": 0
      },
      "text/plain": [
       "Mappings: 0it [00:00, ?it/s]"
      ]
     },
     "metadata": {},
     "output_type": "display_data"
    },
    {
     "name": "stdout",
     "output_type": "stream",
     "text": [
      "Submitted to device in 22.3876 s\n"
     ]
    },
    {
     "data": {
      "application/vnd.jupyter.widget-view+json": {
       "model_id": "966cd4ba198e4f74ba922b8116fe89a0",
       "version_major": 2,
       "version_minor": 0
      },
      "text/plain": [
       "Running batch:   0%|          | 0/1 [00:00<?, ?it/s]"
      ]
     },
     "metadata": {},
     "output_type": "display_data"
    },
    {
     "name": "stdout",
     "output_type": "stream",
     "text": [
      "Predicted in 293.5697 s\n",
      "Iters. done: 116 Current cost: 0.08714276496955439 Accuracy: 0.03665829092984496 Time: 316.04215083643794\n"
     ]
    },
    {
     "data": {
      "application/vnd.jupyter.widget-view+json": {
       "model_id": "14bc5176d9ad48ddb73b31aa0d44b52d",
       "version_major": 2,
       "version_minor": 0
      },
      "text/plain": [
       "Mappings: 0it [00:00, ?it/s]"
      ]
     },
     "metadata": {},
     "output_type": "display_data"
    },
    {
     "name": "stdout",
     "output_type": "stream",
     "text": [
      "Submitted to device in 18.2885 s\n"
     ]
    },
    {
     "data": {
      "application/vnd.jupyter.widget-view+json": {
       "model_id": "d93227c13ff8423dbae397794e9c28ef",
       "version_major": 2,
       "version_minor": 0
      },
      "text/plain": [
       "Running batch:   0%|          | 0/1 [00:00<?, ?it/s]"
      ]
     },
     "metadata": {},
     "output_type": "display_data"
    },
    {
     "name": "stdout",
     "output_type": "stream",
     "text": [
      "Predicted in 298.9560 s\n",
      "Iters. done: 117 Current cost: 0.08957959917363545 Accuracy: 0.009719691635913685 Time: 317.3186605870724\n"
     ]
    },
    {
     "data": {
      "application/vnd.jupyter.widget-view+json": {
       "model_id": "8b178436c92e485a92991005e49c43f4",
       "version_major": 2,
       "version_minor": 0
      },
      "text/plain": [
       "Mappings: 0it [00:00, ?it/s]"
      ]
     },
     "metadata": {},
     "output_type": "display_data"
    },
    {
     "name": "stdout",
     "output_type": "stream",
     "text": [
      "Submitted to device in 21.8561 s\n"
     ]
    },
    {
     "data": {
      "application/vnd.jupyter.widget-view+json": {
       "model_id": "81bdff9074e44c21b12e0ac714bf9224",
       "version_major": 2,
       "version_minor": 0
      },
      "text/plain": [
       "Running batch:   0%|          | 0/1 [00:00<?, ?it/s]"
      ]
     },
     "metadata": {},
     "output_type": "display_data"
    },
    {
     "name": "stdout",
     "output_type": "stream",
     "text": [
      "Predicted in 293.0631 s\n",
      "Iters. done: 118 Current cost: 0.09328093591016684 Accuracy: -0.031197670337395955 Time: 315.00991635397077\n"
     ]
    },
    {
     "data": {
      "application/vnd.jupyter.widget-view+json": {
       "model_id": "e96c1b9cafde4a62b32a43ffa588752a",
       "version_major": 2,
       "version_minor": 0
      },
      "text/plain": [
       "Mappings: 0it [00:00, ?it/s]"
      ]
     },
     "metadata": {},
     "output_type": "display_data"
    },
    {
     "name": "stdout",
     "output_type": "stream",
     "text": [
      "Submitted to device in 19.5242 s\n"
     ]
    },
    {
     "data": {
      "application/vnd.jupyter.widget-view+json": {
       "model_id": "58d5ce62494a4c5892ea4834eefe62c4",
       "version_major": 2,
       "version_minor": 0
      },
      "text/plain": [
       "Running batch:   0%|          | 0/1 [00:00<?, ?it/s]"
      ]
     },
     "metadata": {},
     "output_type": "display_data"
    },
    {
     "name": "stdout",
     "output_type": "stream",
     "text": [
      "Predicted in 292.2067 s\n",
      "Iters. done: 119 Current cost: 0.08757123802434302 Accuracy: 0.03192162730625214 Time: 311.821832023561\n"
     ]
    },
    {
     "data": {
      "application/vnd.jupyter.widget-view+json": {
       "model_id": "f36852c383024e0dbb1cade3c6ed317c",
       "version_major": 2,
       "version_minor": 0
      },
      "text/plain": [
       "Mappings: 0it [00:00, ?it/s]"
      ]
     },
     "metadata": {},
     "output_type": "display_data"
    },
    {
     "name": "stdout",
     "output_type": "stream",
     "text": [
      "Submitted to device in 21.5672 s\n"
     ]
    },
    {
     "data": {
      "application/vnd.jupyter.widget-view+json": {
       "model_id": "f508d55c36f84b2d99b5c501501a767f",
       "version_major": 2,
       "version_minor": 0
      },
      "text/plain": [
       "Running batch:   0%|          | 0/1 [00:00<?, ?it/s]"
      ]
     },
     "metadata": {},
     "output_type": "display_data"
    },
    {
     "name": "stdout",
     "output_type": "stream",
     "text": [
      "Predicted in 364.3575 s\n",
      "Iters. done: 120 Current cost: 0.09221257300171282 Accuracy: -0.019387182679621473 Time: 386.02526415511966\n"
     ]
    },
    {
     "data": {
      "application/vnd.jupyter.widget-view+json": {
       "model_id": "e5920c6618d24465876c9a01db0c126b",
       "version_major": 2,
       "version_minor": 0
      },
      "text/plain": [
       "Mappings: 0it [00:00, ?it/s]"
      ]
     },
     "metadata": {},
     "output_type": "display_data"
    },
    {
     "name": "stdout",
     "output_type": "stream",
     "text": [
      "Submitted to device in 20.0410 s\n"
     ]
    },
    {
     "data": {
      "application/vnd.jupyter.widget-view+json": {
       "model_id": "7fd32e24be744a4295e8e15e52829de3",
       "version_major": 2,
       "version_minor": 0
      },
      "text/plain": [
       "Running batch:   0%|          | 0/1 [00:00<?, ?it/s]"
      ]
     },
     "metadata": {},
     "output_type": "display_data"
    },
    {
     "name": "stdout",
     "output_type": "stream",
     "text": [
      "Predicted in 342.1606 s\n",
      "Iters. done: 121 Current cost: 0.09240395225104481 Accuracy: -0.021502832936948657 Time: 362.2884498797357\n"
     ]
    },
    {
     "data": {
      "application/vnd.jupyter.widget-view+json": {
       "model_id": "7f49f8ffbbb5414e88cb7b76da7edb27",
       "version_major": 2,
       "version_minor": 0
      },
      "text/plain": [
       "Mappings: 0it [00:00, ?it/s]"
      ]
     },
     "metadata": {},
     "output_type": "display_data"
    },
    {
     "name": "stdout",
     "output_type": "stream",
     "text": [
      "Submitted to device in 21.6687 s\n"
     ]
    },
    {
     "data": {
      "application/vnd.jupyter.widget-view+json": {
       "model_id": "bff34190a1534fef9b4ff7243327089e",
       "version_major": 2,
       "version_minor": 0
      },
      "text/plain": [
       "Running batch:   0%|          | 0/1 [00:00<?, ?it/s]"
      ]
     },
     "metadata": {},
     "output_type": "display_data"
    },
    {
     "name": "stdout",
     "output_type": "stream",
     "text": [
      "Predicted in 302.9741 s\n",
      "Iters. done: 122 Current cost: 0.08532428799644934 Accuracy: 0.056761104006613716 Time: 324.7410477511585\n"
     ]
    },
    {
     "data": {
      "application/vnd.jupyter.widget-view+json": {
       "model_id": "0864fcfca4ec4adba90342378ec75696",
       "version_major": 2,
       "version_minor": 0
      },
      "text/plain": [
       "Mappings: 0it [00:00, ?it/s]"
      ]
     },
     "metadata": {},
     "output_type": "display_data"
    },
    {
     "name": "stdout",
     "output_type": "stream",
     "text": [
      "Submitted to device in 23.5043 s\n"
     ]
    },
    {
     "data": {
      "application/vnd.jupyter.widget-view+json": {
       "model_id": "35546a078eb94528bbb4c5d474d05d7f",
       "version_major": 2,
       "version_minor": 0
      },
      "text/plain": [
       "Running batch:   0%|          | 0/1 [00:00<?, ?it/s]"
      ]
     },
     "metadata": {},
     "output_type": "display_data"
    },
    {
     "name": "stdout",
     "output_type": "stream",
     "text": [
      "Predicted in 291.0525 s\n",
      "Iters. done: 123 Current cost: 0.08897881311458875 Accuracy: 0.016361232894213096 Time: 315.05393424630165\n"
     ]
    },
    {
     "data": {
      "application/vnd.jupyter.widget-view+json": {
       "model_id": "52e570165c5f41abac3b2691c3cdf428",
       "version_major": 2,
       "version_minor": 0
      },
      "text/plain": [
       "Mappings: 0it [00:00, ?it/s]"
      ]
     },
     "metadata": {},
     "output_type": "display_data"
    },
    {
     "name": "stdout",
     "output_type": "stream",
     "text": [
      "Submitted to device in 22.0031 s\n"
     ]
    },
    {
     "data": {
      "application/vnd.jupyter.widget-view+json": {
       "model_id": "d1bfe481c624415d8d5d74f32b397c8b",
       "version_major": 2,
       "version_minor": 0
      },
      "text/plain": [
       "Running batch:   0%|          | 0/1 [00:00<?, ?it/s]"
      ]
     },
     "metadata": {},
     "output_type": "display_data"
    },
    {
     "name": "stdout",
     "output_type": "stream",
     "text": [
      "Predicted in 350.8616 s\n",
      "Iters. done: 124 Current cost: 0.08835755107305757 Accuracy: 0.02322913107346125 Time: 372.9589320719242\n"
     ]
    },
    {
     "data": {
      "application/vnd.jupyter.widget-view+json": {
       "model_id": "0d7f8e78a8d541bc819e8b2c3cacdd1b",
       "version_major": 2,
       "version_minor": 0
      },
      "text/plain": [
       "Mappings: 0it [00:00, ?it/s]"
      ]
     },
     "metadata": {},
     "output_type": "display_data"
    },
    {
     "name": "stdout",
     "output_type": "stream",
     "text": [
      "Submitted to device in 19.8526 s\n"
     ]
    },
    {
     "data": {
      "application/vnd.jupyter.widget-view+json": {
       "model_id": "32c9602588c94d27ad58f9b614ca8f25",
       "version_major": 2,
       "version_minor": 0
      },
      "text/plain": [
       "Running batch:   0%|          | 0/1 [00:00<?, ?it/s]"
      ]
     },
     "metadata": {},
     "output_type": "display_data"
    },
    {
     "name": "stdout",
     "output_type": "stream",
     "text": [
      "Predicted in 296.1347 s\n",
      "Iters. done: 125 Current cost: 0.08768203326208529 Accuracy: 0.030696813361907327 Time: 316.07733368873596\n"
     ]
    },
    {
     "data": {
      "application/vnd.jupyter.widget-view+json": {
       "model_id": "524a99e6862b47b9b6ce8d9af51ef838",
       "version_major": 2,
       "version_minor": 0
      },
      "text/plain": [
       "Mappings: 0it [00:00, ?it/s]"
      ]
     },
     "metadata": {},
     "output_type": "display_data"
    },
    {
     "name": "stdout",
     "output_type": "stream",
     "text": [
      "Submitted to device in 19.9731 s\n"
     ]
    },
    {
     "data": {
      "application/vnd.jupyter.widget-view+json": {
       "model_id": "f9517ac90e894776aa0036c54075af84",
       "version_major": 2,
       "version_minor": 0
      },
      "text/plain": [
       "Running batch:   0%|          | 0/1 [00:00<?, ?it/s]"
      ]
     },
     "metadata": {},
     "output_type": "display_data"
    },
    {
     "name": "stdout",
     "output_type": "stream",
     "text": [
      "Predicted in 294.6269 s\n",
      "Iters. done: 126 Current cost: 0.09077286274649815 Accuracy: -0.0034715419685551474 Time: 314.69908290728927\n"
     ]
    },
    {
     "data": {
      "application/vnd.jupyter.widget-view+json": {
       "model_id": "4aae5d408d644f98942b28c5d1b8c292",
       "version_major": 2,
       "version_minor": 0
      },
      "text/plain": [
       "Mappings: 0it [00:00, ?it/s]"
      ]
     },
     "metadata": {},
     "output_type": "display_data"
    },
    {
     "name": "stdout",
     "output_type": "stream",
     "text": [
      "Submitted to device in 18.3985 s\n"
     ]
    },
    {
     "data": {
      "application/vnd.jupyter.widget-view+json": {
       "model_id": "1614908de16d4331be41bb636179cf01",
       "version_major": 2,
       "version_minor": 0
      },
      "text/plain": [
       "Running batch:   0%|          | 0/1 [00:00<?, ?it/s]"
      ]
     },
     "metadata": {},
     "output_type": "display_data"
    },
    {
     "name": "stdout",
     "output_type": "stream",
     "text": [
      "Predicted in 296.4520 s\n",
      "Iters. done: 127 Current cost: 0.0891794676902476 Accuracy: 0.014143046198903608 Time: 314.95386735349894\n"
     ]
    },
    {
     "data": {
      "application/vnd.jupyter.widget-view+json": {
       "model_id": "f69d5da0248946b7b65e01d5243723e0",
       "version_major": 2,
       "version_minor": 0
      },
      "text/plain": [
       "Mappings: 0it [00:00, ?it/s]"
      ]
     },
     "metadata": {},
     "output_type": "display_data"
    },
    {
     "name": "stdout",
     "output_type": "stream",
     "text": [
      "Submitted to device in 21.8597 s\n"
     ]
    },
    {
     "data": {
      "application/vnd.jupyter.widget-view+json": {
       "model_id": "676e441e53bc4123812c16acd4c894ec",
       "version_major": 2,
       "version_minor": 0
      },
      "text/plain": [
       "Running batch:   0%|          | 0/1 [00:00<?, ?it/s]"
      ]
     },
     "metadata": {},
     "output_type": "display_data"
    },
    {
     "name": "stdout",
     "output_type": "stream",
     "text": [
      "Predicted in 294.2466 s\n",
      "Iters. done: 128 Current cost: 0.09200604834495335 Accuracy: -0.017104103689904893 Time: 316.2039781846106\n"
     ]
    },
    {
     "data": {
      "application/vnd.jupyter.widget-view+json": {
       "model_id": "954f0f8f08434e1ab749e0a93feb8a0d",
       "version_major": 2,
       "version_minor": 0
      },
      "text/plain": [
       "Mappings: 0it [00:00, ?it/s]"
      ]
     },
     "metadata": {},
     "output_type": "display_data"
    },
    {
     "name": "stdout",
     "output_type": "stream",
     "text": [
      "Submitted to device in 20.1041 s\n"
     ]
    },
    {
     "data": {
      "application/vnd.jupyter.widget-view+json": {
       "model_id": "a0b17e04e9cc4f35b5fbc911489e9610",
       "version_major": 2,
       "version_minor": 0
      },
      "text/plain": [
       "Running batch:   0%|          | 0/1 [00:00<?, ?it/s]"
      ]
     },
     "metadata": {},
     "output_type": "display_data"
    },
    {
     "name": "stdout",
     "output_type": "stream",
     "text": [
      "Predicted in 294.7967 s\n",
      "Iters. done: 129 Current cost: 0.0883136917434418 Accuracy: 0.023713985112296165 Time: 315.0002089329064\n"
     ]
    },
    {
     "data": {
      "application/vnd.jupyter.widget-view+json": {
       "model_id": "a61119fd849243a5a8e3eeae1ead112a",
       "version_major": 2,
       "version_minor": 0
      },
      "text/plain": [
       "Mappings: 0it [00:00, ?it/s]"
      ]
     },
     "metadata": {},
     "output_type": "display_data"
    },
    {
     "name": "stdout",
     "output_type": "stream",
     "text": [
      "Submitted to device in 20.2229 s\n"
     ]
    },
    {
     "data": {
      "application/vnd.jupyter.widget-view+json": {
       "model_id": "d8cac1f374c345f893a274a569af481a",
       "version_major": 2,
       "version_minor": 0
      },
      "text/plain": [
       "Running batch:   0%|          | 0/1 [00:00<?, ?it/s]"
      ]
     },
     "metadata": {},
     "output_type": "display_data"
    },
    {
     "name": "stdout",
     "output_type": "stream",
     "text": [
      "Predicted in 291.4992 s\n",
      "Iters. done: 130 Current cost: 0.08844128492800205 Accuracy: 0.022303474021410752 Time: 311.8171295635402\n"
     ]
    },
    {
     "data": {
      "application/vnd.jupyter.widget-view+json": {
       "model_id": "985b4b21ebb74d5c845f1e2b4c482f0e",
       "version_major": 2,
       "version_minor": 0
      },
      "text/plain": [
       "Mappings: 0it [00:00, ?it/s]"
      ]
     },
     "metadata": {},
     "output_type": "display_data"
    },
    {
     "name": "stdout",
     "output_type": "stream",
     "text": [
      "Submitted to device in 19.8460 s\n"
     ]
    },
    {
     "data": {
      "application/vnd.jupyter.widget-view+json": {
       "model_id": "b44849e43f7245519ef08e319e8dbae2",
       "version_major": 2,
       "version_minor": 0
      },
      "text/plain": [
       "Running batch:   0%|          | 0/1 [00:00<?, ?it/s]"
      ]
     },
     "metadata": {},
     "output_type": "display_data"
    },
    {
     "name": "stdout",
     "output_type": "stream",
     "text": [
      "Predicted in 293.7143 s\n",
      "Iters. done: 131 Current cost: 0.08753453402671905 Accuracy: 0.032327380920027626 Time: 314.13237288221717\n"
     ]
    },
    {
     "data": {
      "application/vnd.jupyter.widget-view+json": {
       "model_id": "6693065b0f664de892be3b9089bc6bb7",
       "version_major": 2,
       "version_minor": 0
      },
      "text/plain": [
       "Mappings: 0it [00:00, ?it/s]"
      ]
     },
     "metadata": {},
     "output_type": "display_data"
    },
    {
     "name": "stdout",
     "output_type": "stream",
     "text": [
      "Submitted to device in 19.7045 s\n"
     ]
    },
    {
     "data": {
      "application/vnd.jupyter.widget-view+json": {
       "model_id": "c96a84e0eb21494987b5a7ad63d66cca",
       "version_major": 2,
       "version_minor": 0
      },
      "text/plain": [
       "Running batch:   0%|          | 0/1 [00:00<?, ?it/s]"
      ]
     },
     "metadata": {},
     "output_type": "display_data"
    },
    {
     "name": "stdout",
     "output_type": "stream",
     "text": [
      "Predicted in 294.4422 s\n",
      "Iters. done: 132 Current cost: 0.08488031902571762 Accuracy: 0.06166907114752607 Time: 314.69274750724435\n"
     ]
    },
    {
     "data": {
      "application/vnd.jupyter.widget-view+json": {
       "model_id": "f452745ed20a49c4b6f4736d3f6cb88c",
       "version_major": 2,
       "version_minor": 0
      },
      "text/plain": [
       "Mappings: 0it [00:00, ?it/s]"
      ]
     },
     "metadata": {},
     "output_type": "display_data"
    },
    {
     "name": "stdout",
     "output_type": "stream",
     "text": [
      "Submitted to device in 19.8858 s\n"
     ]
    },
    {
     "data": {
      "application/vnd.jupyter.widget-view+json": {
       "model_id": "8d0a784c00764ecd8b482cba0185ee22",
       "version_major": 2,
       "version_minor": 0
      },
      "text/plain": [
       "Running batch:   0%|          | 0/1 [00:00<?, ?it/s]"
      ]
     },
     "metadata": {},
     "output_type": "display_data"
    },
    {
     "name": "stdout",
     "output_type": "stream",
     "text": [
      "Predicted in 292.9197 s\n",
      "Iters. done: 133 Current cost: 0.08570288021068731 Accuracy: 0.052575860735619484 Time: 312.8966398574412\n"
     ]
    },
    {
     "data": {
      "application/vnd.jupyter.widget-view+json": {
       "model_id": "481f10f1412b45dfa781571d17500f63",
       "version_major": 2,
       "version_minor": 0
      },
      "text/plain": [
       "Mappings: 0it [00:00, ?it/s]"
      ]
     },
     "metadata": {},
     "output_type": "display_data"
    },
    {
     "name": "stdout",
     "output_type": "stream",
     "text": [
      "Submitted to device in 17.5344 s\n"
     ]
    },
    {
     "data": {
      "application/vnd.jupyter.widget-view+json": {
       "model_id": "735c668a7c22494db2625c64f4d5a057",
       "version_major": 2,
       "version_minor": 0
      },
      "text/plain": [
       "Running batch:   0%|          | 0/1 [00:00<?, ?it/s]"
      ]
     },
     "metadata": {},
     "output_type": "display_data"
    },
    {
     "name": "stdout",
     "output_type": "stream",
     "text": [
      "Predicted in 294.2728 s\n",
      "Iters. done: 134 Current cost: 0.08709978191883083 Accuracy: 0.03713345792230327 Time: 311.9005755111575\n"
     ]
    },
    {
     "data": {
      "application/vnd.jupyter.widget-view+json": {
       "model_id": "5c1efed1b5b249089b8466305701a6b2",
       "version_major": 2,
       "version_minor": 0
      },
      "text/plain": [
       "Mappings: 0it [00:00, ?it/s]"
      ]
     },
     "metadata": {},
     "output_type": "display_data"
    },
    {
     "name": "stdout",
     "output_type": "stream",
     "text": [
      "Submitted to device in 20.4385 s\n"
     ]
    },
    {
     "data": {
      "application/vnd.jupyter.widget-view+json": {
       "model_id": "864ddd5f19114f209a25c8614b4c0aa6",
       "version_major": 2,
       "version_minor": 0
      },
      "text/plain": [
       "Running batch:   0%|          | 0/1 [00:00<?, ?it/s]"
      ]
     },
     "metadata": {},
     "output_type": "display_data"
    },
    {
     "name": "stdout",
     "output_type": "stream",
     "text": [
      "Predicted in 295.7880 s\n",
      "Iters. done: 135 Current cost: 0.0893817805946745 Accuracy: 0.011906527089306285 Time: 316.30722211301327\n"
     ]
    },
    {
     "data": {
      "application/vnd.jupyter.widget-view+json": {
       "model_id": "61229edd110348e48ccfafe3c343dfb8",
       "version_major": 2,
       "version_minor": 0
      },
      "text/plain": [
       "Mappings: 0it [00:00, ?it/s]"
      ]
     },
     "metadata": {},
     "output_type": "display_data"
    },
    {
     "name": "stdout",
     "output_type": "stream",
     "text": [
      "Submitted to device in 18.4141 s\n"
     ]
    },
    {
     "data": {
      "application/vnd.jupyter.widget-view+json": {
       "model_id": "27a9179a52a84b67b85cc48d6ceae98e",
       "version_major": 2,
       "version_minor": 0
      },
      "text/plain": [
       "Running batch:   0%|          | 0/1 [00:00<?, ?it/s]"
      ]
     },
     "metadata": {},
     "output_type": "display_data"
    },
    {
     "name": "stdout",
     "output_type": "stream",
     "text": [
      "Predicted in 294.5458 s\n",
      "Iters. done: 136 Current cost: 0.08850805980356477 Accuracy: 0.02156529429105658 Time: 313.0476339235902\n"
     ]
    },
    {
     "data": {
      "application/vnd.jupyter.widget-view+json": {
       "model_id": "3276bc067d1640359602c5dcea50e4ed",
       "version_major": 2,
       "version_minor": 0
      },
      "text/plain": [
       "Mappings: 0it [00:00, ?it/s]"
      ]
     },
     "metadata": {},
     "output_type": "display_data"
    },
    {
     "name": "stdout",
     "output_type": "stream",
     "text": [
      "Submitted to device in 19.4343 s\n"
     ]
    },
    {
     "data": {
      "application/vnd.jupyter.widget-view+json": {
       "model_id": "ccb14612afe84967bdc6b83ca6db2503",
       "version_major": 2,
       "version_minor": 0
      },
      "text/plain": [
       "Running batch:   0%|          | 0/1 [00:00<?, ?it/s]"
      ]
     },
     "metadata": {},
     "output_type": "display_data"
    },
    {
     "name": "stdout",
     "output_type": "stream",
     "text": [
      "Predicted in 294.9427 s\n",
      "Iters. done: 137 Current cost: 0.09030142507529149 Accuracy: 0.0017400848608087882 Time: 314.4687991961837\n"
     ]
    },
    {
     "data": {
      "application/vnd.jupyter.widget-view+json": {
       "model_id": "f4dc5f45c29343efa158d346ab338721",
       "version_major": 2,
       "version_minor": 0
      },
      "text/plain": [
       "Mappings: 0it [00:00, ?it/s]"
      ]
     },
     "metadata": {},
     "output_type": "display_data"
    },
    {
     "name": "stdout",
     "output_type": "stream",
     "text": [
      "Submitted to device in 21.0676 s\n"
     ]
    },
    {
     "data": {
      "application/vnd.jupyter.widget-view+json": {
       "model_id": "932558711ee14104b5c5996ef6cc73bc",
       "version_major": 2,
       "version_minor": 0
      },
      "text/plain": [
       "Running batch:   0%|          | 0/1 [00:00<?, ?it/s]"
      ]
     },
     "metadata": {},
     "output_type": "display_data"
    },
    {
     "name": "stdout",
     "output_type": "stream",
     "text": [
      "Predicted in 295.6712 s\n",
      "Iters. done: 138 Current cost: 0.08899187627795652 Accuracy: 0.016216822854791313 Time: 316.8267058096826\n"
     ]
    },
    {
     "data": {
      "application/vnd.jupyter.widget-view+json": {
       "model_id": "49a8c46fa26642b298d4bd7f27e28979",
       "version_major": 2,
       "version_minor": 0
      },
      "text/plain": [
       "Mappings: 0it [00:00, ?it/s]"
      ]
     },
     "metadata": {},
     "output_type": "display_data"
    },
    {
     "name": "stdout",
     "output_type": "stream",
     "text": [
      "Submitted to device in 19.5297 s\n"
     ]
    },
    {
     "data": {
      "application/vnd.jupyter.widget-view+json": {
       "model_id": "f281e8b84c394ebf86655e5c8f6f0428",
       "version_major": 2,
       "version_minor": 0
      },
      "text/plain": [
       "Running batch:   0%|          | 0/1 [00:00<?, ?it/s]"
      ]
     },
     "metadata": {},
     "output_type": "display_data"
    },
    {
     "name": "stdout",
     "output_type": "stream",
     "text": [
      "Predicted in 294.5011 s\n",
      "Iters. done: 139 Current cost: 0.09034077578910978 Accuracy: 0.0013050724542585934 Time: 314.1052066013217\n"
     ]
    },
    {
     "data": {
      "application/vnd.jupyter.widget-view+json": {
       "model_id": "41399eaa042641019cfbfe25cc82c5af",
       "version_major": 2,
       "version_minor": 0
      },
      "text/plain": [
       "Mappings: 0it [00:00, ?it/s]"
      ]
     },
     "metadata": {},
     "output_type": "display_data"
    },
    {
     "name": "stdout",
     "output_type": "stream",
     "text": [
      "Submitted to device in 21.8456 s\n"
     ]
    },
    {
     "data": {
      "application/vnd.jupyter.widget-view+json": {
       "model_id": "7dfced83f9c440e5bf4e3d9367683c75",
       "version_major": 2,
       "version_minor": 0
      },
      "text/plain": [
       "Running batch:   0%|          | 0/1 [00:00<?, ?it/s]"
      ]
     },
     "metadata": {},
     "output_type": "display_data"
    },
    {
     "name": "stdout",
     "output_type": "stream",
     "text": [
      "Predicted in 295.9776 s\n",
      "Iters. done: 140 Current cost: 0.09136255879564353 Accuracy: -0.009990485910879032 Time: 317.9146353341639\n"
     ]
    },
    {
     "data": {
      "application/vnd.jupyter.widget-view+json": {
       "model_id": "1b55b9d22cb44d5086730736a20b8466",
       "version_major": 2,
       "version_minor": 0
      },
      "text/plain": [
       "Mappings: 0it [00:00, ?it/s]"
      ]
     },
     "metadata": {},
     "output_type": "display_data"
    },
    {
     "name": "stdout",
     "output_type": "stream",
     "text": [
      "Submitted to device in 21.0214 s\n"
     ]
    },
    {
     "data": {
      "application/vnd.jupyter.widget-view+json": {
       "model_id": "28489a7f84e3427caf0fc48356ed7ce5",
       "version_major": 2,
       "version_minor": 0
      },
      "text/plain": [
       "Running batch:   0%|          | 0/1 [00:00<?, ?it/s]"
      ]
     },
     "metadata": {},
     "output_type": "display_data"
    },
    {
     "name": "stdout",
     "output_type": "stream",
     "text": [
      "Predicted in 294.0414 s\n",
      "Iters. done: 141 Current cost: 0.0905089578638195 Accuracy: -0.0005541387762140193 Time: 315.1512043476105\n"
     ]
    },
    {
     "data": {
      "application/vnd.jupyter.widget-view+json": {
       "model_id": "7d01e0a641b847aaaef3430a67c85936",
       "version_major": 2,
       "version_minor": 0
      },
      "text/plain": [
       "Mappings: 0it [00:00, ?it/s]"
      ]
     },
     "metadata": {},
     "output_type": "display_data"
    },
    {
     "name": "stdout",
     "output_type": "stream",
     "text": [
      "Submitted to device in 32.8907 s\n"
     ]
    },
    {
     "data": {
      "application/vnd.jupyter.widget-view+json": {
       "model_id": "0568854a5ec14d34a43b3134f1ed457a",
       "version_major": 2,
       "version_minor": 0
      },
      "text/plain": [
       "Running batch:   0%|          | 0/1 [00:00<?, ?it/s]"
      ]
     },
     "metadata": {},
     "output_type": "display_data"
    },
    {
     "name": "stdout",
     "output_type": "stream",
     "text": [
      "Predicted in 281.7194 s\n",
      "Iters. done: 142 Current cost: 0.08970823768238742 Accuracy: 0.00829762474468465 Time: 314.703511826694\n"
     ]
    },
    {
     "data": {
      "application/vnd.jupyter.widget-view+json": {
       "model_id": "52921d6c08d946ce90395425f7edb5d3",
       "version_major": 2,
       "version_minor": 0
      },
      "text/plain": [
       "Mappings: 0it [00:00, ?it/s]"
      ]
     },
     "metadata": {},
     "output_type": "display_data"
    },
    {
     "name": "stdout",
     "output_type": "stream",
     "text": [
      "Submitted to device in 19.1558 s\n"
     ]
    },
    {
     "data": {
      "application/vnd.jupyter.widget-view+json": {
       "model_id": "9b134ac166b741b5b40c35ed7038aec9",
       "version_major": 2,
       "version_minor": 0
      },
      "text/plain": [
       "Running batch:   0%|          | 0/1 [00:00<?, ?it/s]"
      ]
     },
     "metadata": {},
     "output_type": "display_data"
    },
    {
     "name": "stdout",
     "output_type": "stream",
     "text": [
      "Predicted in 293.9060 s\n",
      "Iters. done: 143 Current cost: 0.08955465479877744 Accuracy: 0.009995445529146219 Time: 313.15671653300524\n"
     ]
    },
    {
     "data": {
      "application/vnd.jupyter.widget-view+json": {
       "model_id": "00cd2feb75574a66b76639b77425294d",
       "version_major": 2,
       "version_minor": 0
      },
      "text/plain": [
       "Mappings: 0it [00:00, ?it/s]"
      ]
     },
     "metadata": {},
     "output_type": "display_data"
    },
    {
     "name": "stdout",
     "output_type": "stream",
     "text": [
      "Submitted to device in 20.9746 s\n"
     ]
    },
    {
     "data": {
      "application/vnd.jupyter.widget-view+json": {
       "model_id": "523de70e36ae44bf9cad777a3630be95",
       "version_major": 2,
       "version_minor": 0
      },
      "text/plain": [
       "Running batch:   0%|          | 0/1 [00:00<?, ?it/s]"
      ]
     },
     "metadata": {},
     "output_type": "display_data"
    },
    {
     "name": "stdout",
     "output_type": "stream",
     "text": [
      "Predicted in 295.8293 s\n",
      "Iters. done: 144 Current cost: 0.09068405585075733 Accuracy: -0.0024898037054867928 Time: 316.90034974366426\n"
     ]
    },
    {
     "data": {
      "application/vnd.jupyter.widget-view+json": {
       "model_id": "12ba5ab97071475c87abcb60e8a2cb4c",
       "version_major": 2,
       "version_minor": 0
      },
      "text/plain": [
       "Mappings: 0it [00:00, ?it/s]"
      ]
     },
     "metadata": {},
     "output_type": "display_data"
    },
    {
     "name": "stdout",
     "output_type": "stream",
     "text": [
      "Submitted to device in 19.3004 s\n"
     ]
    },
    {
     "data": {
      "application/vnd.jupyter.widget-view+json": {
       "model_id": "a72f05fed4ff4b9987df5da7535eaa6c",
       "version_major": 2,
       "version_minor": 0
      },
      "text/plain": [
       "Running batch:   0%|          | 0/1 [00:00<?, ?it/s]"
      ]
     },
     "metadata": {},
     "output_type": "display_data"
    },
    {
     "name": "stdout",
     "output_type": "stream",
     "text": [
      "Predicted in 294.6219 s\n",
      "Iters. done: 145 Current cost: 0.08856212846580704 Accuracy: 0.02096757860565468 Time: 314.01497250422835\n"
     ]
    },
    {
     "data": {
      "application/vnd.jupyter.widget-view+json": {
       "model_id": "98ee819781d5407cba9b60e59a3c68c9",
       "version_major": 2,
       "version_minor": 0
      },
      "text/plain": [
       "Mappings: 0it [00:00, ?it/s]"
      ]
     },
     "metadata": {},
     "output_type": "display_data"
    },
    {
     "name": "stdout",
     "output_type": "stream",
     "text": [
      "Submitted to device in 21.1924 s\n"
     ]
    },
    {
     "data": {
      "application/vnd.jupyter.widget-view+json": {
       "model_id": "8182491e2de044c4bb93a98c2df2e20f",
       "version_major": 2,
       "version_minor": 0
      },
      "text/plain": [
       "Running batch:   0%|          | 0/1 [00:00<?, ?it/s]"
      ]
     },
     "metadata": {},
     "output_type": "display_data"
    },
    {
     "name": "stdout",
     "output_type": "stream",
     "text": [
      "Predicted in 292.5539 s\n",
      "Iters. done: 146 Current cost: 0.08849146978192739 Accuracy: 0.02174869287616288 Time: 313.8386190496385\n"
     ]
    },
    {
     "data": {
      "application/vnd.jupyter.widget-view+json": {
       "model_id": "9e7223a811d048b7bf246c5051620a6b",
       "version_major": 2,
       "version_minor": 0
      },
      "text/plain": [
       "Mappings: 0it [00:00, ?it/s]"
      ]
     },
     "metadata": {},
     "output_type": "display_data"
    },
    {
     "name": "stdout",
     "output_type": "stream",
     "text": [
      "Submitted to device in 21.6873 s\n"
     ]
    },
    {
     "data": {
      "application/vnd.jupyter.widget-view+json": {
       "model_id": "9ed3ff2b8b954e1cadeb08c3f69862ad",
       "version_major": 2,
       "version_minor": 0
      },
      "text/plain": [
       "Running batch:   0%|          | 0/1 [00:00<?, ?it/s]"
      ]
     },
     "metadata": {},
     "output_type": "display_data"
    },
    {
     "name": "stdout",
     "output_type": "stream",
     "text": [
      "Predicted in 293.2132 s\n",
      "Iters. done: 147 Current cost: 0.09018949571847451 Accuracy: 0.0029774362109623587 Time: 314.9864534214139\n"
     ]
    },
    {
     "data": {
      "application/vnd.jupyter.widget-view+json": {
       "model_id": "3eadfc0905c54c9ba50a88ded07711f8",
       "version_major": 2,
       "version_minor": 0
      },
      "text/plain": [
       "Mappings: 0it [00:00, ?it/s]"
      ]
     },
     "metadata": {},
     "output_type": "display_data"
    },
    {
     "name": "stdout",
     "output_type": "stream",
     "text": [
      "Submitted to device in 23.2505 s\n"
     ]
    },
    {
     "data": {
      "application/vnd.jupyter.widget-view+json": {
       "model_id": "997e1660178940339a277b5b45aae003",
       "version_major": 2,
       "version_minor": 0
      },
      "text/plain": [
       "Running batch:   0%|          | 0/1 [00:00<?, ?it/s]"
      ]
     },
     "metadata": {},
     "output_type": "display_data"
    },
    {
     "name": "stdout",
     "output_type": "stream",
     "text": [
      "Predicted in 407.7012 s\n",
      "Iters. done: 148 Current cost: 0.08755752929203173 Accuracy: 0.032073173950641576 Time: 431.0590828098357\n"
     ]
    },
    {
     "data": {
      "application/vnd.jupyter.widget-view+json": {
       "model_id": "2aad47095b6b44048956f3c00b7f57b1",
       "version_major": 2,
       "version_minor": 0
      },
      "text/plain": [
       "Mappings: 0it [00:00, ?it/s]"
      ]
     },
     "metadata": {},
     "output_type": "display_data"
    },
    {
     "name": "stdout",
     "output_type": "stream",
     "text": [
      "Submitted to device in 19.2492 s\n"
     ]
    },
    {
     "data": {
      "application/vnd.jupyter.widget-view+json": {
       "model_id": "01617eac83404a65a8b8e38859354af3",
       "version_major": 2,
       "version_minor": 0
      },
      "text/plain": [
       "Running batch:   0%|          | 0/1 [00:00<?, ?it/s]"
      ]
     },
     "metadata": {},
     "output_type": "display_data"
    },
    {
     "name": "stdout",
     "output_type": "stream",
     "text": [
      "Predicted in 347.1650 s\n",
      "Iters. done: 149 Current cost: 0.08807936601857669 Accuracy: 0.02630439803239948 Time: 366.5123380385339\n"
     ]
    },
    {
     "data": {
      "application/vnd.jupyter.widget-view+json": {
       "model_id": "7782a371268e429489a4b425b7404c02",
       "version_major": 2,
       "version_minor": 0
      },
      "text/plain": [
       "Mappings: 0it [00:00, ?it/s]"
      ]
     },
     "metadata": {},
     "output_type": "display_data"
    },
    {
     "name": "stdout",
     "output_type": "stream",
     "text": [
      "Submitted to device in 20.7300 s\n"
     ]
    },
    {
     "data": {
      "application/vnd.jupyter.widget-view+json": {
       "model_id": "0236195ff8664e4595b691a70fb8066a",
       "version_major": 2,
       "version_minor": 0
      },
      "text/plain": [
       "Running batch:   0%|          | 0/1 [00:00<?, ?it/s]"
      ]
     },
     "metadata": {},
     "output_type": "display_data"
    },
    {
     "name": "stdout",
     "output_type": "stream",
     "text": [
      "Predicted in 294.2349 s\n",
      "Iters. done: 150 Current cost: 0.09255218593916331 Accuracy: -0.023141519688553824 Time: 315.0538325421512\n"
     ]
    },
    {
     "data": {
      "application/vnd.jupyter.widget-view+json": {
       "model_id": "faf29be02e55456091fe998e481f4fec",
       "version_major": 2,
       "version_minor": 0
      },
      "text/plain": [
       "Mappings: 0it [00:00, ?it/s]"
      ]
     },
     "metadata": {},
     "output_type": "display_data"
    },
    {
     "name": "stdout",
     "output_type": "stream",
     "text": [
      "Submitted to device in 19.6334 s\n"
     ]
    },
    {
     "data": {
      "application/vnd.jupyter.widget-view+json": {
       "model_id": "27562f36aafc4053a9e830166b45d478",
       "version_major": 2,
       "version_minor": 0
      },
      "text/plain": [
       "Running batch:   0%|          | 0/1 [00:00<?, ?it/s]"
      ]
     },
     "metadata": {},
     "output_type": "display_data"
    },
    {
     "name": "stdout",
     "output_type": "stream",
     "text": [
      "Predicted in 296.3363 s\n",
      "Iters. done: 151 Current cost: 0.08961827026901471 Accuracy: 0.009292192243080755 Time: 316.0640796236694\n"
     ]
    },
    {
     "data": {
      "application/vnd.jupyter.widget-view+json": {
       "model_id": "ae0b47425cdc41e19639db41ac0f7621",
       "version_major": 2,
       "version_minor": 0
      },
      "text/plain": [
       "Mappings: 0it [00:00, ?it/s]"
      ]
     },
     "metadata": {},
     "output_type": "display_data"
    },
    {
     "name": "stdout",
     "output_type": "stream",
     "text": [
      "Submitted to device in 20.0975 s\n"
     ]
    },
    {
     "data": {
      "application/vnd.jupyter.widget-view+json": {
       "model_id": "3e7d5b674f6948fa9a23d6d14d27f471",
       "version_major": 2,
       "version_minor": 0
      },
      "text/plain": [
       "Running batch:   0%|          | 0/1 [00:00<?, ?it/s]"
      ]
     },
     "metadata": {},
     "output_type": "display_data"
    },
    {
     "name": "stdout",
     "output_type": "stream",
     "text": [
      "Predicted in 297.9230 s\n",
      "Iters. done: 152 Current cost: 0.08718751041503325 Accuracy: 0.036163641099353994 Time: 318.116527300328\n"
     ]
    },
    {
     "data": {
      "application/vnd.jupyter.widget-view+json": {
       "model_id": "cce39281c1d8481c98c427531b9c8332",
       "version_major": 2,
       "version_minor": 0
      },
      "text/plain": [
       "Mappings: 0it [00:00, ?it/s]"
      ]
     },
     "metadata": {},
     "output_type": "display_data"
    },
    {
     "name": "stdout",
     "output_type": "stream",
     "text": [
      "Submitted to device in 19.0453 s\n"
     ]
    },
    {
     "data": {
      "application/vnd.jupyter.widget-view+json": {
       "model_id": "129fc334eadd4e82a1363b6ad412c7a8",
       "version_major": 2,
       "version_minor": 0
      },
      "text/plain": [
       "Running batch:   0%|          | 0/1 [00:00<?, ?it/s]"
      ]
     },
     "metadata": {},
     "output_type": "display_data"
    },
    {
     "name": "stdout",
     "output_type": "stream",
     "text": [
      "Predicted in 294.3116 s\n",
      "Iters. done: 153 Current cost: 0.08854289312583734 Accuracy: 0.021180220530516936 Time: 313.45398242399096\n"
     ]
    },
    {
     "data": {
      "application/vnd.jupyter.widget-view+json": {
       "model_id": "cc62ba8886a44d12b2800ad2de10383c",
       "version_major": 2,
       "version_minor": 0
      },
      "text/plain": [
       "Mappings: 0it [00:00, ?it/s]"
      ]
     },
     "metadata": {},
     "output_type": "display_data"
    },
    {
     "name": "stdout",
     "output_type": "stream",
     "text": [
      "Submitted to device in 19.9465 s\n"
     ]
    },
    {
     "data": {
      "application/vnd.jupyter.widget-view+json": {
       "model_id": "df7ae21a86274a5a858264e26142b53d",
       "version_major": 2,
       "version_minor": 0
      },
      "text/plain": [
       "Running batch:   0%|          | 0/1 [00:00<?, ?it/s]"
      ]
     },
     "metadata": {},
     "output_type": "display_data"
    },
    {
     "name": "stdout",
     "output_type": "stream",
     "text": [
      "Predicted in 292.4387 s\n",
      "Iters. done: 154 Current cost: 0.087086751490322 Accuracy: 0.03727750608595759 Time: 312.4757570065558\n"
     ]
    },
    {
     "data": {
      "application/vnd.jupyter.widget-view+json": {
       "model_id": "8578242c260b483ea113f7c398a5ea60",
       "version_major": 2,
       "version_minor": 0
      },
      "text/plain": [
       "Mappings: 0it [00:00, ?it/s]"
      ]
     },
     "metadata": {},
     "output_type": "display_data"
    },
    {
     "name": "stdout",
     "output_type": "stream",
     "text": [
      "Submitted to device in 22.2609 s\n"
     ]
    },
    {
     "data": {
      "application/vnd.jupyter.widget-view+json": {
       "model_id": "dc391aa9443e41d4b0d13bd36b0598e3",
       "version_major": 2,
       "version_minor": 0
      },
      "text/plain": [
       "Running batch:   0%|          | 0/1 [00:00<?, ?it/s]"
      ]
     },
     "metadata": {},
     "output_type": "display_data"
    },
    {
     "name": "stdout",
     "output_type": "stream",
     "text": [
      "Predicted in 289.9138 s\n",
      "Iters. done: 155 Current cost: 0.08642974660790324 Accuracy: 0.04454053252903456 Time: 312.28233121708035\n"
     ]
    },
    {
     "data": {
      "application/vnd.jupyter.widget-view+json": {
       "model_id": "c31c16d99f0d4c4fa054e0c3cb7ee1ea",
       "version_major": 2,
       "version_minor": 0
      },
      "text/plain": [
       "Mappings: 0it [00:00, ?it/s]"
      ]
     },
     "metadata": {},
     "output_type": "display_data"
    },
    {
     "name": "stdout",
     "output_type": "stream",
     "text": [
      "Submitted to device in 16.9747 s\n"
     ]
    },
    {
     "data": {
      "application/vnd.jupyter.widget-view+json": {
       "model_id": "5fb1cb832fcd45daa43b3979fb66ffdb",
       "version_major": 2,
       "version_minor": 0
      },
      "text/plain": [
       "Running batch:   0%|          | 0/1 [00:00<?, ?it/s]"
      ]
     },
     "metadata": {},
     "output_type": "display_data"
    },
    {
     "name": "stdout",
     "output_type": "stream",
     "text": [
      "Predicted in 293.9457 s\n",
      "Iters. done: 156 Current cost: 0.08723469850315684 Accuracy: 0.035641988458694596 Time: 311.02733900770545\n"
     ]
    },
    {
     "data": {
      "application/vnd.jupyter.widget-view+json": {
       "model_id": "fce79d5e52af4df6a40a7de5d3057eb3",
       "version_major": 2,
       "version_minor": 0
      },
      "text/plain": [
       "Mappings: 0it [00:00, ?it/s]"
      ]
     },
     "metadata": {},
     "output_type": "display_data"
    },
    {
     "name": "stdout",
     "output_type": "stream",
     "text": [
      "Submitted to device in 17.9491 s\n"
     ]
    },
    {
     "data": {
      "application/vnd.jupyter.widget-view+json": {
       "model_id": "06fe109c412c4cb6a3d298e6bfc83dbf",
       "version_major": 2,
       "version_minor": 0
      },
      "text/plain": [
       "Running batch:   0%|          | 0/1 [00:00<?, ?it/s]"
      ]
     },
     "metadata": {},
     "output_type": "display_data"
    },
    {
     "name": "stdout",
     "output_type": "stream",
     "text": [
      "Predicted in 317.2337 s\n",
      "Iters. done: 157 Current cost: 0.08719130001609178 Accuracy: 0.03612174799713608 Time: 335.27848690003157\n"
     ]
    },
    {
     "data": {
      "application/vnd.jupyter.widget-view+json": {
       "model_id": "7024d4064fe14ca0b2a2754104bea1aa",
       "version_major": 2,
       "version_minor": 0
      },
      "text/plain": [
       "Mappings: 0it [00:00, ?it/s]"
      ]
     },
     "metadata": {},
     "output_type": "display_data"
    },
    {
     "name": "stdout",
     "output_type": "stream",
     "text": [
      "Submitted to device in 21.5467 s\n"
     ]
    },
    {
     "data": {
      "application/vnd.jupyter.widget-view+json": {
       "model_id": "38b45067653e47f79e96912f9607d82e",
       "version_major": 2,
       "version_minor": 0
      },
      "text/plain": [
       "Running batch:   0%|          | 0/1 [00:00<?, ?it/s]"
      ]
     },
     "metadata": {},
     "output_type": "display_data"
    },
    {
     "name": "stdout",
     "output_type": "stream",
     "text": [
      "Predicted in 295.0509 s\n",
      "Iters. done: 158 Current cost: 0.08643296961756489 Accuracy: 0.04450490295454401 Time: 316.68629390746355\n"
     ]
    },
    {
     "data": {
      "application/vnd.jupyter.widget-view+json": {
       "model_id": "1923b5618c23470e86199d2dec83bf39",
       "version_major": 2,
       "version_minor": 0
      },
      "text/plain": [
       "Mappings: 0it [00:00, ?it/s]"
      ]
     },
     "metadata": {},
     "output_type": "display_data"
    },
    {
     "name": "stdout",
     "output_type": "stream",
     "text": [
      "Submitted to device in 19.7635 s\n"
     ]
    },
    {
     "data": {
      "application/vnd.jupyter.widget-view+json": {
       "model_id": "8785311e9e134e85acedb20da41759d9",
       "version_major": 2,
       "version_minor": 0
      },
      "text/plain": [
       "Running batch:   0%|          | 0/1 [00:00<?, ?it/s]"
      ]
     },
     "metadata": {},
     "output_type": "display_data"
    },
    {
     "name": "stdout",
     "output_type": "stream",
     "text": [
      "Predicted in 364.5490 s\n",
      "Iters. done: 159 Current cost: 0.08818678312294204 Accuracy: 0.02511692851684255 Time: 384.40576370432973\n"
     ]
    },
    {
     "data": {
      "application/vnd.jupyter.widget-view+json": {
       "model_id": "52ed233b5c1e4307bb65729f0f2c182e",
       "version_major": 2,
       "version_minor": 0
      },
      "text/plain": [
       "Mappings: 0it [00:00, ?it/s]"
      ]
     },
     "metadata": {},
     "output_type": "display_data"
    },
    {
     "name": "stdout",
     "output_type": "stream",
     "text": [
      "Submitted to device in 18.9861 s\n"
     ]
    },
    {
     "data": {
      "application/vnd.jupyter.widget-view+json": {
       "model_id": "16eb0ada54334e889d97a8dbd7c25b61",
       "version_major": 2,
       "version_minor": 0
      },
      "text/plain": [
       "Running batch:   0%|          | 0/1 [00:00<?, ?it/s]"
      ]
     },
     "metadata": {},
     "output_type": "display_data"
    },
    {
     "name": "stdout",
     "output_type": "stream",
     "text": [
      "Predicted in 294.9250 s\n",
      "Iters. done: 160 Current cost: 0.08853470861019724 Accuracy: 0.02127069832620543 Time: 313.9998664110899\n"
     ]
    },
    {
     "data": {
      "application/vnd.jupyter.widget-view+json": {
       "model_id": "7b65099bb5454e57afabd8bfa868bdef",
       "version_major": 2,
       "version_minor": 0
      },
      "text/plain": [
       "Mappings: 0it [00:00, ?it/s]"
      ]
     },
     "metadata": {},
     "output_type": "display_data"
    },
    {
     "name": "stdout",
     "output_type": "stream",
     "text": [
      "Submitted to device in 19.5440 s\n"
     ]
    },
    {
     "data": {
      "application/vnd.jupyter.widget-view+json": {
       "model_id": "86e047c48f2649b1bb4563df6e6f0d1f",
       "version_major": 2,
       "version_minor": 0
      },
      "text/plain": [
       "Running batch:   0%|          | 0/1 [00:00<?, ?it/s]"
      ]
     },
     "metadata": {},
     "output_type": "display_data"
    },
    {
     "name": "stdout",
     "output_type": "stream",
     "text": [
      "Predicted in 872.9488 s\n",
      "Iters. done: 161 Current cost: 0.08768876256514774 Accuracy: 0.03062242258126946 Time: 892.5792512483895\n"
     ]
    },
    {
     "data": {
      "application/vnd.jupyter.widget-view+json": {
       "model_id": "3900315071164bbca3024845efc45086",
       "version_major": 2,
       "version_minor": 0
      },
      "text/plain": [
       "Mappings: 0it [00:00, ?it/s]"
      ]
     },
     "metadata": {},
     "output_type": "display_data"
    },
    {
     "name": "stdout",
     "output_type": "stream",
     "text": [
      "Submitted to device in 18.7709 s\n"
     ]
    },
    {
     "data": {
      "application/vnd.jupyter.widget-view+json": {
       "model_id": "e2d0ecfe6ffa4724a2ff29e6264f77e0",
       "version_major": 2,
       "version_minor": 0
      },
      "text/plain": [
       "Running batch:   0%|          | 0/1 [00:00<?, ?it/s]"
      ]
     },
     "metadata": {},
     "output_type": "display_data"
    },
    {
     "name": "stdout",
     "output_type": "stream",
     "text": [
      "Predicted in 939.1353 s\n",
      "Iters. done: 162 Current cost: 0.09015151108335184 Accuracy: 0.0033973469554775537 Time: 958.0118603818119\n"
     ]
    },
    {
     "data": {
      "application/vnd.jupyter.widget-view+json": {
       "model_id": "4cb2a1d31615477db4f6c562c4dcdde9",
       "version_major": 2,
       "version_minor": 0
      },
      "text/plain": [
       "Mappings: 0it [00:00, ?it/s]"
      ]
     },
     "metadata": {},
     "output_type": "display_data"
    },
    {
     "name": "stdout",
     "output_type": "stream",
     "text": [
      "Submitted to device in 18.2962 s\n"
     ]
    },
    {
     "data": {
      "application/vnd.jupyter.widget-view+json": {
       "model_id": "5a2333b6e30548c0bfb3cecd5390dc15",
       "version_major": 2,
       "version_minor": 0
      },
      "text/plain": [
       "Running batch:   0%|          | 0/1 [00:00<?, ?it/s]"
      ]
     },
     "metadata": {},
     "output_type": "display_data"
    },
    {
     "name": "stdout",
     "output_type": "stream",
     "text": [
      "Predicted in 991.3514 s\n",
      "Iters. done: 163 Current cost: 0.08974727388785228 Accuracy: 0.007866089150177502 Time: 1009.7478380389512\n"
     ]
    },
    {
     "data": {
      "application/vnd.jupyter.widget-view+json": {
       "model_id": "a4a73336d9cc41e8a803a1c38303edc7",
       "version_major": 2,
       "version_minor": 0
      },
      "text/plain": [
       "Mappings: 0it [00:00, ?it/s]"
      ]
     },
     "metadata": {},
     "output_type": "display_data"
    },
    {
     "name": "stdout",
     "output_type": "stream",
     "text": [
      "Submitted to device in 19.8771 s\n"
     ]
    },
    {
     "data": {
      "application/vnd.jupyter.widget-view+json": {
       "model_id": "1f872ed4c4c04e6ea10d2ca04a7b8fbb",
       "version_major": 2,
       "version_minor": 0
      },
      "text/plain": [
       "Running batch:   0%|          | 0/1 [00:00<?, ?it/s]"
      ]
     },
     "metadata": {},
     "output_type": "display_data"
    },
    {
     "name": "stdout",
     "output_type": "stream",
     "text": [
      "Predicted in 1045.5929 s\n",
      "Iters. done: 164 Current cost: 0.0887601786881935 Accuracy: 0.018778182391497866 Time: 1065.5637401938438\n"
     ]
    },
    {
     "data": {
      "application/vnd.jupyter.widget-view+json": {
       "model_id": "af8184c084dd434eb154554deaa49339",
       "version_major": 2,
       "version_minor": 0
      },
      "text/plain": [
       "Mappings: 0it [00:00, ?it/s]"
      ]
     },
     "metadata": {},
     "output_type": "display_data"
    },
    {
     "name": "stdout",
     "output_type": "stream",
     "text": [
      "Submitted to device in 19.4356 s\n"
     ]
    },
    {
     "data": {
      "application/vnd.jupyter.widget-view+json": {
       "model_id": "722f8f07b404419a8c9f78a380cdd5c1",
       "version_major": 2,
       "version_minor": 0
      },
      "text/plain": [
       "Running batch:   0%|          | 0/1 [00:00<?, ?it/s]"
      ]
     },
     "metadata": {},
     "output_type": "display_data"
    },
    {
     "name": "stdout",
     "output_type": "stream",
     "text": [
      "Predicted in 720.8932 s\n",
      "Iters. done: 165 Current cost: 0.0889075923268037 Accuracy: 0.017148561084340264 Time: 740.4261545874178\n"
     ]
    },
    {
     "data": {
      "application/vnd.jupyter.widget-view+json": {
       "model_id": "6a7a805d4ae54437a1e0722cbc145b5b",
       "version_major": 2,
       "version_minor": 0
      },
      "text/plain": [
       "Mappings: 0it [00:00, ?it/s]"
      ]
     },
     "metadata": {},
     "output_type": "display_data"
    },
    {
     "name": "stdout",
     "output_type": "stream",
     "text": [
      "Submitted to device in 19.5082 s\n"
     ]
    },
    {
     "data": {
      "application/vnd.jupyter.widget-view+json": {
       "model_id": "785502f01312496aa703119400dd3370",
       "version_major": 2,
       "version_minor": 0
      },
      "text/plain": [
       "Running batch:   0%|          | 0/1 [00:00<?, ?it/s]"
      ]
     },
     "metadata": {},
     "output_type": "display_data"
    },
    {
     "name": "stdout",
     "output_type": "stream",
     "text": [
      "Predicted in 1201.0660 s\n",
      "Iters. done: 166 Current cost: 0.08830813409175003 Accuracy: 0.02377542357687812 Time: 1220.6617976017296\n"
     ]
    },
    {
     "data": {
      "application/vnd.jupyter.widget-view+json": {
       "model_id": "411991d537b44058b8c59ae24e63fa1c",
       "version_major": 2,
       "version_minor": 0
      },
      "text/plain": [
       "Mappings: 0it [00:00, ?it/s]"
      ]
     },
     "metadata": {},
     "output_type": "display_data"
    },
    {
     "name": "stdout",
     "output_type": "stream",
     "text": [
      "Submitted to device in 20.1490 s\n"
     ]
    },
    {
     "data": {
      "application/vnd.jupyter.widget-view+json": {
       "model_id": "d0968a50efd74ba99a67d1b97a142fdd",
       "version_major": 2,
       "version_minor": 0
      },
      "text/plain": [
       "Running batch:   0%|          | 0/1 [00:00<?, ?it/s]"
      ]
     },
     "metadata": {},
     "output_type": "display_data"
    },
    {
     "name": "stdout",
     "output_type": "stream",
     "text": [
      "Predicted in 1198.0161 s\n",
      "Iters. done: 167 Current cost: 0.08948497261761276 Accuracy: 0.010765764803711053 Time: 1218.2577410936356\n"
     ]
    },
    {
     "data": {
      "application/vnd.jupyter.widget-view+json": {
       "model_id": "af3dc4b1837e488faca171000b1428e5",
       "version_major": 2,
       "version_minor": 0
      },
      "text/plain": [
       "Mappings: 0it [00:00, ?it/s]"
      ]
     },
     "metadata": {},
     "output_type": "display_data"
    },
    {
     "name": "stdout",
     "output_type": "stream",
     "text": [
      "Submitted to device in 18.9941 s\n"
     ]
    },
    {
     "data": {
      "application/vnd.jupyter.widget-view+json": {
       "model_id": "0f0b1ac4d2924612939f8620bbe6115c",
       "version_major": 2,
       "version_minor": 0
      },
      "text/plain": [
       "Running batch:   0%|          | 0/1 [00:00<?, ?it/s]"
      ]
     },
     "metadata": {},
     "output_type": "display_data"
    },
    {
     "name": "stdout",
     "output_type": "stream",
     "text": [
      "Predicted in 1378.9119 s\n",
      "Iters. done: 168 Current cost: 0.08908685389279904 Accuracy: 0.015166868818586865 Time: 1397.994953930378\n"
     ]
    },
    {
     "data": {
      "application/vnd.jupyter.widget-view+json": {
       "model_id": "a1ca26fb31c344b4bf7ad6570845f741",
       "version_major": 2,
       "version_minor": 0
      },
      "text/plain": [
       "Mappings: 0it [00:00, ?it/s]"
      ]
     },
     "metadata": {},
     "output_type": "display_data"
    },
    {
     "name": "stdout",
     "output_type": "stream",
     "text": [
      "Submitted to device in 18.5413 s\n"
     ]
    },
    {
     "data": {
      "application/vnd.jupyter.widget-view+json": {
       "model_id": "8d0373a5f8bd406d8a490e819975dbb4",
       "version_major": 2,
       "version_minor": 0
      },
      "text/plain": [
       "Running batch:   0%|          | 0/1 [00:00<?, ?it/s]"
      ]
     },
     "metadata": {},
     "output_type": "display_data"
    },
    {
     "name": "stdout",
     "output_type": "stream",
     "text": [
      "Predicted in 1536.0535 s\n",
      "Iters. done: 169 Current cost: 0.08784891468269587 Accuracy: 0.028851980540740674 Time: 1554.7029637247324\n"
     ]
    },
    {
     "data": {
      "application/vnd.jupyter.widget-view+json": {
       "model_id": "2d630a777e0d4c418989cd5b2b0d1ce0",
       "version_major": 2,
       "version_minor": 0
      },
      "text/plain": [
       "Mappings: 0it [00:00, ?it/s]"
      ]
     },
     "metadata": {},
     "output_type": "display_data"
    },
    {
     "name": "stdout",
     "output_type": "stream",
     "text": [
      "Submitted to device in 22.2439 s\n"
     ]
    },
    {
     "data": {
      "application/vnd.jupyter.widget-view+json": {
       "model_id": "c932bba0b6bc4e0887d6059ef9fc631d",
       "version_major": 2,
       "version_minor": 0
      },
      "text/plain": [
       "Running batch:   0%|          | 0/1 [00:00<?, ?it/s]"
      ]
     },
     "metadata": {},
     "output_type": "display_data"
    },
    {
     "name": "stdout",
     "output_type": "stream",
     "text": [
      "Predicted in 1667.8036 s\n",
      "Iters. done: 170 Current cost: 0.08446462801964073 Accuracy: 0.06626443238467639 Time: 1690.1358375288546\n"
     ]
    },
    {
     "data": {
      "application/vnd.jupyter.widget-view+json": {
       "model_id": "5244b3aeabce43c5adb8f99c18be7a50",
       "version_major": 2,
       "version_minor": 0
      },
      "text/plain": [
       "Mappings: 0it [00:00, ?it/s]"
      ]
     },
     "metadata": {},
     "output_type": "display_data"
    },
    {
     "name": "stdout",
     "output_type": "stream",
     "text": [
      "Submitted to device in 18.5928 s\n"
     ]
    },
    {
     "data": {
      "application/vnd.jupyter.widget-view+json": {
       "model_id": "ddb2dbc599e34ad5bf298d35f5490417",
       "version_major": 2,
       "version_minor": 0
      },
      "text/plain": [
       "Running batch:   0%|          | 0/1 [00:00<?, ?it/s]"
      ]
     },
     "metadata": {},
     "output_type": "display_data"
    },
    {
     "name": "stdout",
     "output_type": "stream",
     "text": [
      "Predicted in 1466.9580 s\n",
      "Iters. done: 171 Current cost: 0.07965446603971993 Accuracy: 0.11943958311876368 Time: 1485.638997387141\n"
     ]
    },
    {
     "data": {
      "application/vnd.jupyter.widget-view+json": {
       "model_id": "49e1129728464e498d8781668e677857",
       "version_major": 2,
       "version_minor": 0
      },
      "text/plain": [
       "Mappings: 0it [00:00, ?it/s]"
      ]
     },
     "metadata": {},
     "output_type": "display_data"
    },
    {
     "name": "stdout",
     "output_type": "stream",
     "text": [
      "Submitted to device in 20.4478 s\n"
     ]
    },
    {
     "data": {
      "application/vnd.jupyter.widget-view+json": {
       "model_id": "1d5d002e8ea54674987233000b842b6d",
       "version_major": 2,
       "version_minor": 0
      },
      "text/plain": [
       "Running batch:   0%|          | 0/1 [00:00<?, ?it/s]"
      ]
     },
     "metadata": {},
     "output_type": "display_data"
    },
    {
     "name": "stdout",
     "output_type": "stream",
     "text": [
      "Predicted in 1658.9949 s\n",
      "Iters. done: 172 Current cost: 0.08236195739370172 Accuracy: 0.08950893598874954 Time: 1679.521330472082\n"
     ]
    },
    {
     "data": {
      "application/vnd.jupyter.widget-view+json": {
       "model_id": "bb1d59468425480a9ccea74e831d6d1a",
       "version_major": 2,
       "version_minor": 0
      },
      "text/plain": [
       "Mappings: 0it [00:00, ?it/s]"
      ]
     },
     "metadata": {},
     "output_type": "display_data"
    },
    {
     "name": "stdout",
     "output_type": "stream",
     "text": [
      "Submitted to device in 20.6519 s\n"
     ]
    },
    {
     "data": {
      "application/vnd.jupyter.widget-view+json": {
       "model_id": "63a96cb31b334c7dbbf469c8b9b9ce3f",
       "version_major": 2,
       "version_minor": 0
      },
      "text/plain": [
       "Running batch:   0%|          | 0/1 [00:00<?, ?it/s]"
      ]
     },
     "metadata": {},
     "output_type": "display_data"
    },
    {
     "name": "stdout",
     "output_type": "stream",
     "text": [
      "Predicted in 1594.1438 s\n",
      "Iters. done: 173 Current cost: 0.08003979942982448 Accuracy: 0.115179817816219 Time: 1614.8892582319677\n"
     ]
    },
    {
     "data": {
      "application/vnd.jupyter.widget-view+json": {
       "model_id": "a759695d55dc4bfd97edce386f42576f",
       "version_major": 2,
       "version_minor": 0
      },
      "text/plain": [
       "Mappings: 0it [00:00, ?it/s]"
      ]
     },
     "metadata": {},
     "output_type": "display_data"
    },
    {
     "name": "stdout",
     "output_type": "stream",
     "text": [
      "Submitted to device in 19.3596 s\n"
     ]
    },
    {
     "data": {
      "application/vnd.jupyter.widget-view+json": {
       "model_id": "91a66fef63ec47c4b1d355e672367027",
       "version_major": 2,
       "version_minor": 0
      },
      "text/plain": [
       "Running batch:   0%|          | 0/1 [00:00<?, ?it/s]"
      ]
     },
     "metadata": {},
     "output_type": "display_data"
    },
    {
     "name": "stdout",
     "output_type": "stream",
     "text": [
      "Predicted in 1706.6397 s\n",
      "Iters. done: 174 Current cost: 0.08486320982235335 Accuracy: 0.061858209158186184 Time: 1726.09448614344\n"
     ]
    },
    {
     "data": {
      "application/vnd.jupyter.widget-view+json": {
       "model_id": "f0d168e7a33f4c159655e8ad036b79e7",
       "version_major": 2,
       "version_minor": 0
      },
      "text/plain": [
       "Mappings: 0it [00:00, ?it/s]"
      ]
     },
     "metadata": {},
     "output_type": "display_data"
    },
    {
     "name": "stdout",
     "output_type": "stream",
     "text": [
      "Submitted to device in 21.0583 s\n"
     ]
    },
    {
     "data": {
      "application/vnd.jupyter.widget-view+json": {
       "model_id": "07979a177df440db88c6f394d95c4ba4",
       "version_major": 2,
       "version_minor": 0
      },
      "text/plain": [
       "Running batch:   0%|          | 0/1 [00:00<?, ?it/s]"
      ]
     },
     "metadata": {},
     "output_type": "display_data"
    },
    {
     "name": "stdout",
     "output_type": "stream",
     "text": [
      "Predicted in 1725.2168 s\n",
      "Iters. done: 175 Current cost: 0.08801095743306159 Accuracy: 0.02706063802212444 Time: 1746.359546918422\n"
     ]
    },
    {
     "data": {
      "application/vnd.jupyter.widget-view+json": {
       "model_id": "1a1ca9a634f84790b0cb11b1566f4de2",
       "version_major": 2,
       "version_minor": 0
      },
      "text/plain": [
       "Mappings: 0it [00:00, ?it/s]"
      ]
     },
     "metadata": {},
     "output_type": "display_data"
    },
    {
     "name": "stdout",
     "output_type": "stream",
     "text": [
      "Submitted to device in 18.8596 s\n"
     ]
    },
    {
     "data": {
      "application/vnd.jupyter.widget-view+json": {
       "model_id": "9572436fcc3b481db1711641c2c639f7",
       "version_major": 2,
       "version_minor": 0
      },
      "text/plain": [
       "Running batch:   0%|          | 0/1 [00:00<?, ?it/s]"
      ]
     },
     "metadata": {},
     "output_type": "display_data"
    },
    {
     "name": "stdout",
     "output_type": "stream",
     "text": [
      "Predicted in 1785.4399 s\n",
      "Iters. done: 176 Current cost: 0.0880948547236161 Accuracy: 0.026133174229836298 Time: 1804.3994650058448\n"
     ]
    },
    {
     "data": {
      "application/vnd.jupyter.widget-view+json": {
       "model_id": "895c6ab0f86e4c0abebd129b20bed62b",
       "version_major": 2,
       "version_minor": 0
      },
      "text/plain": [
       "Mappings: 0it [00:00, ?it/s]"
      ]
     },
     "metadata": {},
     "output_type": "display_data"
    },
    {
     "name": "stdout",
     "output_type": "stream",
     "text": [
      "Submitted to device in 20.0755 s\n"
     ]
    },
    {
     "data": {
      "application/vnd.jupyter.widget-view+json": {
       "model_id": "02fd3e1e52154ffcbf658bd8b32038f7",
       "version_major": 2,
       "version_minor": 0
      },
      "text/plain": [
       "Running batch:   0%|          | 0/1 [00:00<?, ?it/s]"
      ]
     },
     "metadata": {},
     "output_type": "display_data"
    },
    {
     "name": "stdout",
     "output_type": "stream",
     "text": [
      "Predicted in 1930.4645 s\n",
      "Iters. done: 177 Current cost: 0.08498670490844418 Accuracy: 0.06049300153207893 Time: 1950.6495641358197\n"
     ]
    },
    {
     "data": {
      "application/vnd.jupyter.widget-view+json": {
       "model_id": "2720f3e856714b528733e821af90b8ba",
       "version_major": 2,
       "version_minor": 0
      },
      "text/plain": [
       "Mappings: 0it [00:00, ?it/s]"
      ]
     },
     "metadata": {},
     "output_type": "display_data"
    },
    {
     "name": "stdout",
     "output_type": "stream",
     "text": [
      "Submitted to device in 19.3498 s\n"
     ]
    },
    {
     "data": {
      "application/vnd.jupyter.widget-view+json": {
       "model_id": "380b0c1bfbc7451e9502bb520a602e65",
       "version_major": 2,
       "version_minor": 0
      },
      "text/plain": [
       "Running batch:   0%|          | 0/1 [00:00<?, ?it/s]"
      ]
     },
     "metadata": {},
     "output_type": "display_data"
    },
    {
     "name": "stdout",
     "output_type": "stream",
     "text": [
      "Predicted in 1924.1237 s\n",
      "Iters. done: 178 Current cost: 0.08781998609153084 Accuracy: 0.029171778959618533 Time: 1943.550274539739\n"
     ]
    },
    {
     "data": {
      "application/vnd.jupyter.widget-view+json": {
       "model_id": "09a5261b29d14f588b47eb52be6cd18e",
       "version_major": 2,
       "version_minor": 0
      },
      "text/plain": [
       "Mappings: 0it [00:00, ?it/s]"
      ]
     },
     "metadata": {},
     "output_type": "display_data"
    },
    {
     "name": "stdout",
     "output_type": "stream",
     "text": [
      "Submitted to device in 19.9110 s\n"
     ]
    },
    {
     "data": {
      "application/vnd.jupyter.widget-view+json": {
       "model_id": "2afe626d1de14c3cad88a9af20ae66f0",
       "version_major": 2,
       "version_minor": 0
      },
      "text/plain": [
       "Running batch:   0%|          | 0/1 [00:00<?, ?it/s]"
      ]
     },
     "metadata": {},
     "output_type": "display_data"
    },
    {
     "name": "stdout",
     "output_type": "stream",
     "text": [
      "Predicted in 1994.6396 s\n",
      "Iters. done: 179 Current cost: 0.08707830349532462 Accuracy: 0.037370896580760316 Time: 2014.652552869171\n"
     ]
    },
    {
     "data": {
      "application/vnd.jupyter.widget-view+json": {
       "model_id": "2f7d2b6c4dbf4ab19dc34d0ee9ddd523",
       "version_major": 2,
       "version_minor": 0
      },
      "text/plain": [
       "Mappings: 0it [00:00, ?it/s]"
      ]
     },
     "metadata": {},
     "output_type": "display_data"
    },
    {
     "name": "stdout",
     "output_type": "stream",
     "text": [
      "Submitted to device in 20.3652 s\n"
     ]
    },
    {
     "data": {
      "application/vnd.jupyter.widget-view+json": {
       "model_id": "ab1d754b22e34172bd6052977beb3f8b",
       "version_major": 2,
       "version_minor": 0
      },
      "text/plain": [
       "Running batch:   0%|          | 0/1 [00:00<?, ?it/s]"
      ]
     },
     "metadata": {},
     "output_type": "display_data"
    },
    {
     "name": "stdout",
     "output_type": "stream",
     "text": [
      "Predicted in 2050.6035 s\n",
      "Iters. done: 180 Current cost: 0.08803831696616041 Accuracy: 0.026758185152009673 Time: 2071.0664746649563\n"
     ]
    },
    {
     "data": {
      "application/vnd.jupyter.widget-view+json": {
       "model_id": "5502f61a93a840a287b27c05967e18b5",
       "version_major": 2,
       "version_minor": 0
      },
      "text/plain": [
       "Mappings: 0it [00:00, ?it/s]"
      ]
     },
     "metadata": {},
     "output_type": "display_data"
    },
    {
     "name": "stdout",
     "output_type": "stream",
     "text": [
      "Submitted to device in 21.0932 s\n"
     ]
    },
    {
     "data": {
      "application/vnd.jupyter.widget-view+json": {
       "model_id": "2a32f3228dc54e34a65fdcc485001c69",
       "version_major": 2,
       "version_minor": 0
      },
      "text/plain": [
       "Running batch:   0%|          | 0/1 [00:00<?, ?it/s]"
      ]
     },
     "metadata": {},
     "output_type": "display_data"
    },
    {
     "name": "stdout",
     "output_type": "stream",
     "text": [
      "Predicted in 1178.2513 s\n",
      "Iters. done: 181 Current cost: 0.09124490746013272 Accuracy: -0.008689879501787345 Time: 1199.4285163469613\n"
     ]
    },
    {
     "data": {
      "application/vnd.jupyter.widget-view+json": {
       "model_id": "62b1d448268042ee92981eb3474c6d96",
       "version_major": 2,
       "version_minor": 0
      },
      "text/plain": [
       "Mappings: 0it [00:00, ?it/s]"
      ]
     },
     "metadata": {},
     "output_type": "display_data"
    },
    {
     "name": "stdout",
     "output_type": "stream",
     "text": [
      "Submitted to device in 18.3800 s\n"
     ]
    },
    {
     "data": {
      "application/vnd.jupyter.widget-view+json": {
       "model_id": "6d0899e2beea4aa999f70af0149adc04",
       "version_major": 2,
       "version_minor": 0
      },
      "text/plain": [
       "Running batch:   0%|          | 0/1 [00:00<?, ?it/s]"
      ]
     },
     "metadata": {},
     "output_type": "display_data"
    },
    {
     "name": "stdout",
     "output_type": "stream",
     "text": [
      "Predicted in 293.2565 s\n",
      "Iters. done: 182 Current cost: 0.08765075601270603 Accuracy: 0.03104257561632473 Time: 311.73049372062087\n"
     ]
    },
    {
     "data": {
      "application/vnd.jupyter.widget-view+json": {
       "model_id": "259deda915c94c12b65f083f315cfb55",
       "version_major": 2,
       "version_minor": 0
      },
      "text/plain": [
       "Mappings: 0it [00:00, ?it/s]"
      ]
     },
     "metadata": {},
     "output_type": "display_data"
    },
    {
     "name": "stdout",
     "output_type": "stream",
     "text": [
      "Submitted to device in 18.7212 s\n"
     ]
    },
    {
     "data": {
      "application/vnd.jupyter.widget-view+json": {
       "model_id": "4f48e977dd174010b0aad1a6fa808a2c",
       "version_major": 2,
       "version_minor": 0
      },
      "text/plain": [
       "Running batch:   0%|          | 0/1 [00:00<?, ?it/s]"
      ]
     },
     "metadata": {},
     "output_type": "display_data"
    },
    {
     "name": "stdout",
     "output_type": "stream",
     "text": [
      "Predicted in 346.7661 s\n",
      "Iters. done: 183 Current cost: 0.09088420426602581 Accuracy: -0.004702394922896369 Time: 365.58752919733524\n"
     ]
    },
    {
     "data": {
      "application/vnd.jupyter.widget-view+json": {
       "model_id": "7b05e5dac72c43c3a56ef7fc3280646f",
       "version_major": 2,
       "version_minor": 0
      },
      "text/plain": [
       "Mappings: 0it [00:00, ?it/s]"
      ]
     },
     "metadata": {},
     "output_type": "display_data"
    },
    {
     "name": "stdout",
     "output_type": "stream",
     "text": [
      "Submitted to device in 18.6443 s\n"
     ]
    },
    {
     "data": {
      "application/vnd.jupyter.widget-view+json": {
       "model_id": "d66d38b244b5458ba67e4a31a11e7506",
       "version_major": 2,
       "version_minor": 0
      },
      "text/plain": [
       "Running batch:   0%|          | 0/1 [00:00<?, ?it/s]"
      ]
     },
     "metadata": {},
     "output_type": "display_data"
    },
    {
     "name": "stdout",
     "output_type": "stream",
     "text": [
      "Predicted in 432.1618 s\n",
      "Iters. done: 184 Current cost: 0.08853960739899068 Accuracy: 0.021216543427972745 Time: 450.90536519140005\n"
     ]
    },
    {
     "data": {
      "application/vnd.jupyter.widget-view+json": {
       "model_id": "fa73ff6e4bf54daebf041b5bcd9ba030",
       "version_major": 2,
       "version_minor": 0
      },
      "text/plain": [
       "Mappings: 0it [00:00, ?it/s]"
      ]
     },
     "metadata": {},
     "output_type": "display_data"
    },
    {
     "name": "stdout",
     "output_type": "stream",
     "text": [
      "Submitted to device in 21.6996 s\n"
     ]
    },
    {
     "data": {
      "application/vnd.jupyter.widget-view+json": {
       "model_id": "976f118eda20488885fa64cede9d3cbf",
       "version_major": 2,
       "version_minor": 0
      },
      "text/plain": [
       "Running batch:   0%|          | 0/1 [00:00<?, ?it/s]"
      ]
     },
     "metadata": {},
     "output_type": "display_data"
    },
    {
     "name": "stdout",
     "output_type": "stream",
     "text": [
      "Predicted in 409.0712 s\n",
      "Iters. done: 185 Current cost: 0.08538795989142747 Accuracy: 0.05605722695899651 Time: 430.8595739863813\n"
     ]
    },
    {
     "data": {
      "application/vnd.jupyter.widget-view+json": {
       "model_id": "a96b7ad2e0f74357b0fbd9ae800ac3ff",
       "version_major": 2,
       "version_minor": 0
      },
      "text/plain": [
       "Mappings: 0it [00:00, ?it/s]"
      ]
     },
     "metadata": {},
     "output_type": "display_data"
    },
    {
     "name": "stdout",
     "output_type": "stream",
     "text": [
      "Submitted to device in 19.2835 s\n"
     ]
    },
    {
     "data": {
      "application/vnd.jupyter.widget-view+json": {
       "model_id": "3864af128b624acba6f2b03da4df906e",
       "version_major": 2,
       "version_minor": 0
      },
      "text/plain": [
       "Running batch:   0%|          | 0/1 [00:00<?, ?it/s]"
      ]
     },
     "metadata": {},
     "output_type": "display_data"
    },
    {
     "name": "stdout",
     "output_type": "stream",
     "text": [
      "Predicted in 413.4138 s\n",
      "Iters. done: 186 Current cost: 0.08551911679928889 Accuracy: 0.054607319788622544 Time: 432.7952372021973\n"
     ]
    },
    {
     "data": {
      "application/vnd.jupyter.widget-view+json": {
       "model_id": "00fc5ddd582a44bea2d8b2bfe4964716",
       "version_major": 2,
       "version_minor": 0
      },
      "text/plain": [
       "Mappings: 0it [00:00, ?it/s]"
      ]
     },
     "metadata": {},
     "output_type": "display_data"
    },
    {
     "name": "stdout",
     "output_type": "stream",
     "text": [
      "Submitted to device in 30.0921 s\n"
     ]
    },
    {
     "data": {
      "application/vnd.jupyter.widget-view+json": {
       "model_id": "fce39ea283e943cfa9bca019692fff27",
       "version_major": 2,
       "version_minor": 0
      },
      "text/plain": [
       "Running batch:   0%|          | 0/1 [00:00<?, ?it/s]"
      ]
     },
     "metadata": {},
     "output_type": "display_data"
    },
    {
     "name": "stdout",
     "output_type": "stream",
     "text": [
      "Predicted in 295.5786 s\n",
      "Iters. done: 187 Current cost: 0.08636232854747741 Accuracy: 0.04528582250893709 Time: 325.74884379282594\n"
     ]
    },
    {
     "data": {
      "application/vnd.jupyter.widget-view+json": {
       "model_id": "8992c8e9cdc946b480235c0d8fb06152",
       "version_major": 2,
       "version_minor": 0
      },
      "text/plain": [
       "Mappings: 0it [00:00, ?it/s]"
      ]
     },
     "metadata": {},
     "output_type": "display_data"
    },
    {
     "name": "stdout",
     "output_type": "stream",
     "text": [
      "Submitted to device in 17.6984 s\n"
     ]
    },
    {
     "data": {
      "application/vnd.jupyter.widget-view+json": {
       "model_id": "a9c1761109d442cba9769a044e30f7ad",
       "version_major": 2,
       "version_minor": 0
      },
      "text/plain": [
       "Running batch:   0%|          | 0/1 [00:00<?, ?it/s]"
      ]
     },
     "metadata": {},
     "output_type": "display_data"
    },
    {
     "name": "stdout",
     "output_type": "stream",
     "text": [
      "Predicted in 293.0517 s\n",
      "Iters. done: 188 Current cost: 0.08225431348591827 Accuracy: 0.0906989127599861 Time: 310.83395310118794\n"
     ]
    },
    {
     "data": {
      "application/vnd.jupyter.widget-view+json": {
       "model_id": "2c41414498c640c7a4e17c0e4040a5ac",
       "version_major": 2,
       "version_minor": 0
      },
      "text/plain": [
       "Mappings: 0it [00:00, ?it/s]"
      ]
     },
     "metadata": {},
     "output_type": "display_data"
    },
    {
     "name": "stdout",
     "output_type": "stream",
     "text": [
      "Submitted to device in 20.6961 s\n"
     ]
    },
    {
     "data": {
      "application/vnd.jupyter.widget-view+json": {
       "model_id": "a2b89ac2b073499ebeafc91342d5c857",
       "version_major": 2,
       "version_minor": 0
      },
      "text/plain": [
       "Running batch:   0%|          | 0/1 [00:00<?, ?it/s]"
      ]
     },
     "metadata": {},
     "output_type": "display_data"
    },
    {
     "name": "stdout",
     "output_type": "stream",
     "text": [
      "Predicted in 298.5665 s\n",
      "Iters. done: 189 Current cost: 0.08529511001068096 Accuracy: 0.05708365942113558 Time: 319.36163483187556\n"
     ]
    },
    {
     "data": {
      "application/vnd.jupyter.widget-view+json": {
       "model_id": "c5e8c4201f4e4ab2991f7e2653ecef36",
       "version_major": 2,
       "version_minor": 0
      },
      "text/plain": [
       "Mappings: 0it [00:00, ?it/s]"
      ]
     },
     "metadata": {},
     "output_type": "display_data"
    },
    {
     "name": "stdout",
     "output_type": "stream",
     "text": [
      "Submitted to device in 20.0025 s\n"
     ]
    },
    {
     "data": {
      "application/vnd.jupyter.widget-view+json": {
       "model_id": "3c88ea89056548a6bef01475499276bb",
       "version_major": 2,
       "version_minor": 0
      },
      "text/plain": [
       "Running batch:   0%|          | 0/1 [00:00<?, ?it/s]"
      ]
     },
     "metadata": {},
     "output_type": "display_data"
    },
    {
     "name": "stdout",
     "output_type": "stream",
     "text": [
      "Predicted in 292.4404 s\n",
      "Iters. done: 190 Current cost: 0.08598300414115134 Accuracy: 0.04947915998233321 Time: 312.5307281278074\n"
     ]
    },
    {
     "data": {
      "application/vnd.jupyter.widget-view+json": {
       "model_id": "9f9943c26b024cecb66ecab5a1ba9c00",
       "version_major": 2,
       "version_minor": 0
      },
      "text/plain": [
       "Mappings: 0it [00:00, ?it/s]"
      ]
     },
     "metadata": {},
     "output_type": "display_data"
    },
    {
     "name": "stdout",
     "output_type": "stream",
     "text": [
      "Submitted to device in 20.6130 s\n"
     ]
    },
    {
     "data": {
      "application/vnd.jupyter.widget-view+json": {
       "model_id": "12f9ca420d8b45c688d6e54b31ebee57",
       "version_major": 2,
       "version_minor": 0
      },
      "text/plain": [
       "Running batch:   0%|          | 0/1 [00:00<?, ?it/s]"
      ]
     },
     "metadata": {},
     "output_type": "display_data"
    },
    {
     "name": "stdout",
     "output_type": "stream",
     "text": [
      "Predicted in 387.2964 s\n",
      "Iters. done: 191 Current cost: 0.08357632805431196 Accuracy: 0.07608436875077351 Time: 408.00900523737073\n"
     ]
    },
    {
     "data": {
      "application/vnd.jupyter.widget-view+json": {
       "model_id": "ce4c9e3eea15454c8328164d96d61b35",
       "version_major": 2,
       "version_minor": 0
      },
      "text/plain": [
       "Mappings: 0it [00:00, ?it/s]"
      ]
     },
     "metadata": {},
     "output_type": "display_data"
    },
    {
     "name": "stdout",
     "output_type": "stream",
     "text": [
      "Submitted to device in 22.7530 s\n"
     ]
    },
    {
     "data": {
      "application/vnd.jupyter.widget-view+json": {
       "model_id": "a2a8a7d147af4695a07cdffa6fa3f0ae",
       "version_major": 2,
       "version_minor": 0
      },
      "text/plain": [
       "Running batch:   0%|          | 0/1 [00:00<?, ?it/s]"
      ]
     },
     "metadata": {},
     "output_type": "display_data"
    },
    {
     "name": "stdout",
     "output_type": "stream",
     "text": [
      "Predicted in 375.8011 s\n",
      "Iters. done: 192 Current cost: 0.08506694240436502 Accuracy: 0.059605995864093764 Time: 398.6452949307859\n"
     ]
    },
    {
     "data": {
      "application/vnd.jupyter.widget-view+json": {
       "model_id": "7953eba170d44b1c9cf54490f2e2c31a",
       "version_major": 2,
       "version_minor": 0
      },
      "text/plain": [
       "Mappings: 0it [00:00, ?it/s]"
      ]
     },
     "metadata": {},
     "output_type": "display_data"
    },
    {
     "name": "stdout",
     "output_type": "stream",
     "text": [
      "Submitted to device in 22.0890 s\n"
     ]
    },
    {
     "data": {
      "application/vnd.jupyter.widget-view+json": {
       "model_id": "6dbe5e4cd40440ce8fd3e6cd0b48826d",
       "version_major": 2,
       "version_minor": 0
      },
      "text/plain": [
       "Running batch:   0%|          | 0/1 [00:00<?, ?it/s]"
      ]
     },
     "metadata": {},
     "output_type": "display_data"
    },
    {
     "name": "stdout",
     "output_type": "stream",
     "text": [
      "Predicted in 295.0316 s\n",
      "Iters. done: 193 Current cost: 0.0850305689315699 Accuracy: 0.06000809560765252 Time: 317.21375365555286\n"
     ]
    },
    {
     "data": {
      "application/vnd.jupyter.widget-view+json": {
       "model_id": "34930a7c46c84a17b1793d65e83bd0a3",
       "version_major": 2,
       "version_minor": 0
      },
      "text/plain": [
       "Mappings: 0it [00:00, ?it/s]"
      ]
     },
     "metadata": {},
     "output_type": "display_data"
    },
    {
     "name": "stdout",
     "output_type": "stream",
     "text": [
      "Submitted to device in 18.3002 s\n"
     ]
    },
    {
     "data": {
      "application/vnd.jupyter.widget-view+json": {
       "model_id": "2687d23501484de099dbc34011f8ba9d",
       "version_major": 2,
       "version_minor": 0
      },
      "text/plain": [
       "Running batch:   0%|          | 0/1 [00:00<?, ?it/s]"
      ]
     },
     "metadata": {},
     "output_type": "display_data"
    },
    {
     "name": "stdout",
     "output_type": "stream",
     "text": [
      "Predicted in 293.9699 s\n",
      "Iters. done: 194 Current cost: 0.08288699003093923 Accuracy: 0.08370483006841634 Time: 312.35959090292454\n"
     ]
    },
    {
     "data": {
      "application/vnd.jupyter.widget-view+json": {
       "model_id": "2934d48a9bca40f1a8313e9265f4a9f4",
       "version_major": 2,
       "version_minor": 0
      },
      "text/plain": [
       "Mappings: 0it [00:00, ?it/s]"
      ]
     },
     "metadata": {},
     "output_type": "display_data"
    },
    {
     "name": "stdout",
     "output_type": "stream",
     "text": [
      "Submitted to device in 20.1743 s\n"
     ]
    },
    {
     "data": {
      "application/vnd.jupyter.widget-view+json": {
       "model_id": "4e3b4780924f4425b91f804180283546",
       "version_major": 2,
       "version_minor": 0
      },
      "text/plain": [
       "Running batch:   0%|          | 0/1 [00:00<?, ?it/s]"
      ]
     },
     "metadata": {},
     "output_type": "display_data"
    },
    {
     "name": "stdout",
     "output_type": "stream",
     "text": [
      "Predicted in 292.9728 s\n",
      "Iters. done: 195 Current cost: 0.08137115356570715 Accuracy: 0.1004620271988691 Time: 313.2383633889258\n"
     ]
    },
    {
     "data": {
      "application/vnd.jupyter.widget-view+json": {
       "model_id": "07216543321f48689e40d81c2f74d2cb",
       "version_major": 2,
       "version_minor": 0
      },
      "text/plain": [
       "Mappings: 0it [00:00, ?it/s]"
      ]
     },
     "metadata": {},
     "output_type": "display_data"
    },
    {
     "name": "stdout",
     "output_type": "stream",
     "text": [
      "Submitted to device in 21.1732 s\n"
     ]
    },
    {
     "data": {
      "application/vnd.jupyter.widget-view+json": {
       "model_id": "c684511317a34c158666b4da69dfc90f",
       "version_major": 2,
       "version_minor": 0
      },
      "text/plain": [
       "Running batch:   0%|          | 0/1 [00:00<?, ?it/s]"
      ]
     },
     "metadata": {},
     "output_type": "display_data"
    },
    {
     "name": "stdout",
     "output_type": "stream",
     "text": [
      "Predicted in 313.3886 s\n",
      "Iters. done: 196 Current cost: 0.08327073274550499 Accuracy: 0.07946264929044633 Time: 334.65582106262445\n"
     ]
    },
    {
     "data": {
      "application/vnd.jupyter.widget-view+json": {
       "model_id": "6af8567d3bbd4287be36c47bb4f6510a",
       "version_major": 2,
       "version_minor": 0
      },
      "text/plain": [
       "Mappings: 0it [00:00, ?it/s]"
      ]
     },
     "metadata": {},
     "output_type": "display_data"
    },
    {
     "name": "stdout",
     "output_type": "stream",
     "text": [
      "Submitted to device in 18.1784 s\n"
     ]
    },
    {
     "data": {
      "application/vnd.jupyter.widget-view+json": {
       "model_id": "5f3df662646542deb2bbbfdaf8f06459",
       "version_major": 2,
       "version_minor": 0
      },
      "text/plain": [
       "Running batch:   0%|          | 0/1 [00:00<?, ?it/s]"
      ]
     },
     "metadata": {},
     "output_type": "display_data"
    },
    {
     "name": "stdout",
     "output_type": "stream",
     "text": [
      "Predicted in 309.3218 s\n",
      "Iters. done: 197 Current cost: 0.08498852511568501 Accuracy: 0.060472879591320416 Time: 327.5914805345237\n"
     ]
    },
    {
     "data": {
      "application/vnd.jupyter.widget-view+json": {
       "model_id": "9700b256462c41b98b37bbec739905de",
       "version_major": 2,
       "version_minor": 0
      },
      "text/plain": [
       "Mappings: 0it [00:00, ?it/s]"
      ]
     },
     "metadata": {},
     "output_type": "display_data"
    },
    {
     "name": "stdout",
     "output_type": "stream",
     "text": [
      "Submitted to device in 21.5468 s\n"
     ]
    },
    {
     "data": {
      "application/vnd.jupyter.widget-view+json": {
       "model_id": "ba037c726c83470193aeb877d96b58b4",
       "version_major": 2,
       "version_minor": 0
      },
      "text/plain": [
       "Running batch:   0%|          | 0/1 [00:00<?, ?it/s]"
      ]
     },
     "metadata": {},
     "output_type": "display_data"
    },
    {
     "name": "stdout",
     "output_type": "stream",
     "text": [
      "Predicted in 339.7460 s\n",
      "Iters. done: 198 Current cost: 0.08560876370688901 Accuracy: 0.053616295402254655 Time: 361.3842346034944\n"
     ]
    },
    {
     "data": {
      "application/vnd.jupyter.widget-view+json": {
       "model_id": "1d5f4a7a9cc24b57b412908eb4d49a3e",
       "version_major": 2,
       "version_minor": 0
      },
      "text/plain": [
       "Mappings: 0it [00:00, ?it/s]"
      ]
     },
     "metadata": {},
     "output_type": "display_data"
    },
    {
     "name": "stdout",
     "output_type": "stream",
     "text": [
      "Submitted to device in 19.9207 s\n"
     ]
    },
    {
     "data": {
      "application/vnd.jupyter.widget-view+json": {
       "model_id": "511934b2e13f43bc965874b9e2be3e80",
       "version_major": 2,
       "version_minor": 0
      },
      "text/plain": [
       "Running batch:   0%|          | 0/1 [00:00<?, ?it/s]"
      ]
     },
     "metadata": {},
     "output_type": "display_data"
    },
    {
     "name": "stdout",
     "output_type": "stream",
     "text": [
      "Predicted in 295.6168 s\n",
      "Iters. done: 199 Current cost: 0.08343388936553015 Accuracy: 0.07765899321829794 Time: 315.6355177499354\n"
     ]
    },
    {
     "data": {
      "application/vnd.jupyter.widget-view+json": {
       "model_id": "19c9ac3c6e484629aad44cb48fce8dd0",
       "version_major": 2,
       "version_minor": 0
      },
      "text/plain": [
       "Mappings: 0it [00:00, ?it/s]"
      ]
     },
     "metadata": {},
     "output_type": "display_data"
    },
    {
     "name": "stdout",
     "output_type": "stream",
     "text": [
      "Submitted to device in 23.3493 s\n"
     ]
    },
    {
     "data": {
      "application/vnd.jupyter.widget-view+json": {
       "model_id": "464b6cecc51f4a94b670f6fba6c8ecb3",
       "version_major": 2,
       "version_minor": 0
      },
      "text/plain": [
       "Running batch:   0%|          | 0/1 [00:00<?, ?it/s]"
      ]
     },
     "metadata": {},
     "output_type": "display_data"
    },
    {
     "name": "stdout",
     "output_type": "stream",
     "text": [
      "Predicted in 293.8059 s\n",
      "Iters. done: 200 Current cost: 0.08739409419727383 Accuracy: 0.033879908492070454 Time: 317.6061453819275\n"
     ]
    },
    {
     "data": {
      "application/vnd.jupyter.widget-view+json": {
       "model_id": "8fa77b4c31c04f87b2bd7a578605bb11",
       "version_major": 2,
       "version_minor": 0
      },
      "text/plain": [
       "Mappings: 0it [00:00, ?it/s]"
      ]
     },
     "metadata": {},
     "output_type": "display_data"
    },
    {
     "name": "stdout",
     "output_type": "stream",
     "text": [
      "Submitted to device in 18.4468 s\n"
     ]
    },
    {
     "data": {
      "application/vnd.jupyter.widget-view+json": {
       "model_id": "ee364ebce976452ab31e3712fa346670",
       "version_major": 2,
       "version_minor": 0
      },
      "text/plain": [
       "Running batch:   0%|          | 0/1 [00:00<?, ?it/s]"
      ]
     },
     "metadata": {},
     "output_type": "display_data"
    },
    {
     "name": "stdout",
     "output_type": "stream",
     "text": [
      "Predicted in 320.1296 s\n",
      "Iters. done: 201 Current cost: 0.0856663491253982 Accuracy: 0.05297970284630882 Time: 338.67603965103626\n"
     ]
    },
    {
     "data": {
      "application/vnd.jupyter.widget-view+json": {
       "model_id": "a93a5d2f7f6f444190ebae2321142afb",
       "version_major": 2,
       "version_minor": 0
      },
      "text/plain": [
       "Mappings: 0it [00:00, ?it/s]"
      ]
     },
     "metadata": {},
     "output_type": "display_data"
    },
    {
     "name": "stdout",
     "output_type": "stream",
     "text": [
      "Submitted to device in 17.7062 s\n"
     ]
    },
    {
     "data": {
      "application/vnd.jupyter.widget-view+json": {
       "model_id": "eed33d72332a4d94988056209b667ff7",
       "version_major": 2,
       "version_minor": 0
      },
      "text/plain": [
       "Running batch:   0%|          | 0/1 [00:00<?, ?it/s]"
      ]
     },
     "metadata": {},
     "output_type": "display_data"
    },
    {
     "name": "stdout",
     "output_type": "stream",
     "text": [
      "Predicted in 369.9928 s\n",
      "Iters. done: 202 Current cost: 0.0861669556088397 Accuracy: 0.047445622013566835 Time: 387.79993223771453\n"
     ]
    },
    {
     "data": {
      "application/vnd.jupyter.widget-view+json": {
       "model_id": "66ebc0c4ed384da881395926fe744159",
       "version_major": 2,
       "version_minor": 0
      },
      "text/plain": [
       "Mappings: 0it [00:00, ?it/s]"
      ]
     },
     "metadata": {},
     "output_type": "display_data"
    },
    {
     "name": "stdout",
     "output_type": "stream",
     "text": [
      "Submitted to device in 19.1510 s\n"
     ]
    },
    {
     "data": {
      "application/vnd.jupyter.widget-view+json": {
       "model_id": "4048159de5b847ada2a394335feebe27",
       "version_major": 2,
       "version_minor": 0
      },
      "text/plain": [
       "Running batch:   0%|          | 0/1 [00:00<?, ?it/s]"
      ]
     },
     "metadata": {},
     "output_type": "display_data"
    },
    {
     "name": "stdout",
     "output_type": "stream",
     "text": [
      "Predicted in 292.0990 s\n",
      "Iters. done: 203 Current cost: 0.08501014418226176 Accuracy: 0.06023388615851144 Time: 311.34091310948133\n"
     ]
    },
    {
     "data": {
      "application/vnd.jupyter.widget-view+json": {
       "model_id": "21778e33988849a3b17134c4654875b2",
       "version_major": 2,
       "version_minor": 0
      },
      "text/plain": [
       "Mappings: 0it [00:00, ?it/s]"
      ]
     },
     "metadata": {},
     "output_type": "display_data"
    },
    {
     "name": "stdout",
     "output_type": "stream",
     "text": [
      "Submitted to device in 18.7157 s\n"
     ]
    },
    {
     "data": {
      "application/vnd.jupyter.widget-view+json": {
       "model_id": "e66102599bbe4f97ae63df39198f4595",
       "version_major": 2,
       "version_minor": 0
      },
      "text/plain": [
       "Running batch:   0%|          | 0/1 [00:00<?, ?it/s]"
      ]
     },
     "metadata": {},
     "output_type": "display_data"
    },
    {
     "name": "stdout",
     "output_type": "stream",
     "text": [
      "Predicted in 292.6267 s\n",
      "Iters. done: 204 Current cost: 0.08550177150081104 Accuracy: 0.054799067772357324 Time: 311.42975168302655\n"
     ]
    },
    {
     "data": {
      "application/vnd.jupyter.widget-view+json": {
       "model_id": "0d36e4f72cf044ba9604b4aa4af72a47",
       "version_major": 2,
       "version_minor": 0
      },
      "text/plain": [
       "Mappings: 0it [00:00, ?it/s]"
      ]
     },
     "metadata": {},
     "output_type": "display_data"
    },
    {
     "name": "stdout",
     "output_type": "stream",
     "text": [
      "Submitted to device in 22.6106 s\n"
     ]
    },
    {
     "data": {
      "application/vnd.jupyter.widget-view+json": {
       "model_id": "44ae0e5d44e34de8b9e584482f3b9797",
       "version_major": 2,
       "version_minor": 0
      },
      "text/plain": [
       "Running batch:   0%|          | 0/1 [00:00<?, ?it/s]"
      ]
     },
     "metadata": {},
     "output_type": "display_data"
    },
    {
     "name": "stdout",
     "output_type": "stream",
     "text": [
      "Predicted in 291.1323 s\n",
      "Iters. done: 205 Current cost: 0.0862202137078355 Accuracy: 0.04685686690433477 Time: 314.2341779470444\n"
     ]
    },
    {
     "data": {
      "application/vnd.jupyter.widget-view+json": {
       "model_id": "0b462af459b642939971d508a49797b2",
       "version_major": 2,
       "version_minor": 0
      },
      "text/plain": [
       "Mappings: 0it [00:00, ?it/s]"
      ]
     },
     "metadata": {},
     "output_type": "display_data"
    },
    {
     "name": "stdout",
     "output_type": "stream",
     "text": [
      "Submitted to device in 20.4414 s\n"
     ]
    },
    {
     "data": {
      "application/vnd.jupyter.widget-view+json": {
       "model_id": "1f4ff2db129141a8b08a4245b803d170",
       "version_major": 2,
       "version_minor": 0
      },
      "text/plain": [
       "Running batch:   0%|          | 0/1 [00:00<?, ?it/s]"
      ]
     },
     "metadata": {},
     "output_type": "display_data"
    },
    {
     "name": "stdout",
     "output_type": "stream",
     "text": [
      "Predicted in 292.2983 s\n",
      "Iters. done: 206 Current cost: 0.08739171631214288 Accuracy: 0.03390619542394402 Time: 312.83535085618496\n"
     ]
    },
    {
     "data": {
      "application/vnd.jupyter.widget-view+json": {
       "model_id": "756917314a0f4fbaa82090b90c2c57f6",
       "version_major": 2,
       "version_minor": 0
      },
      "text/plain": [
       "Mappings: 0it [00:00, ?it/s]"
      ]
     },
     "metadata": {},
     "output_type": "display_data"
    },
    {
     "name": "stdout",
     "output_type": "stream",
     "text": [
      "Submitted to device in 17.6317 s\n"
     ]
    },
    {
     "data": {
      "application/vnd.jupyter.widget-view+json": {
       "model_id": "5203139e23bf435fa4b54f4087b4fab2",
       "version_major": 2,
       "version_minor": 0
      },
      "text/plain": [
       "Running batch:   0%|          | 0/1 [00:00<?, ?it/s]"
      ]
     },
     "metadata": {},
     "output_type": "display_data"
    },
    {
     "name": "stdout",
     "output_type": "stream",
     "text": [
      "Predicted in 292.7642 s\n",
      "Iters. done: 207 Current cost: 0.08367519871785946 Accuracy: 0.07499137802421096 Time: 310.8490084670484\n"
     ]
    },
    {
     "data": {
      "application/vnd.jupyter.widget-view+json": {
       "model_id": "6e14924354d3447c9c8679cfaeb76282",
       "version_major": 2,
       "version_minor": 0
      },
      "text/plain": [
       "Mappings: 0it [00:00, ?it/s]"
      ]
     },
     "metadata": {},
     "output_type": "display_data"
    },
    {
     "name": "stdout",
     "output_type": "stream",
     "text": [
      "Submitted to device in 21.6381 s\n"
     ]
    },
    {
     "data": {
      "application/vnd.jupyter.widget-view+json": {
       "model_id": "c2229faf770845ab80d956349af82b48",
       "version_major": 2,
       "version_minor": 0
      },
      "text/plain": [
       "Running batch:   0%|          | 0/1 [00:00<?, ?it/s]"
      ]
     },
     "metadata": {},
     "output_type": "display_data"
    },
    {
     "name": "stdout",
     "output_type": "stream",
     "text": [
      "Predicted in 345.8386 s\n",
      "Iters. done: 208 Current cost: 0.08534062784403994 Accuracy: 0.05658047103370578 Time: 367.57657573372126\n"
     ]
    },
    {
     "data": {
      "application/vnd.jupyter.widget-view+json": {
       "model_id": "d5e6f588c1f943c0a0b61348f18be366",
       "version_major": 2,
       "version_minor": 0
      },
      "text/plain": [
       "Mappings: 0it [00:00, ?it/s]"
      ]
     },
     "metadata": {},
     "output_type": "display_data"
    },
    {
     "name": "stdout",
     "output_type": "stream",
     "text": [
      "Submitted to device in 18.8506 s\n"
     ]
    },
    {
     "data": {
      "application/vnd.jupyter.widget-view+json": {
       "model_id": "fa5e2fbfa0d244abb02a51d417f02a24",
       "version_major": 2,
       "version_minor": 0
      },
      "text/plain": [
       "Running batch:   0%|          | 0/1 [00:00<?, ?it/s]"
      ]
     },
     "metadata": {},
     "output_type": "display_data"
    },
    {
     "name": "stdout",
     "output_type": "stream",
     "text": [
      "Predicted in 342.0338 s\n",
      "Iters. done: 209 Current cost: 0.08588042066894588 Accuracy: 0.050613194890122504 Time: 360.98230792209506\n"
     ]
    },
    {
     "data": {
      "application/vnd.jupyter.widget-view+json": {
       "model_id": "f62eae689bab45808a959862d379e441",
       "version_major": 2,
       "version_minor": 0
      },
      "text/plain": [
       "Mappings: 0it [00:00, ?it/s]"
      ]
     },
     "metadata": {},
     "output_type": "display_data"
    },
    {
     "name": "stdout",
     "output_type": "stream",
     "text": [
      "Submitted to device in 18.2599 s\n"
     ]
    },
    {
     "data": {
      "application/vnd.jupyter.widget-view+json": {
       "model_id": "b0d03a404d0c454091d5e827061a3c91",
       "version_major": 2,
       "version_minor": 0
      },
      "text/plain": [
       "Running batch:   0%|          | 0/1 [00:00<?, ?it/s]"
      ]
     },
     "metadata": {},
     "output_type": "display_data"
    },
    {
     "name": "stdout",
     "output_type": "stream",
     "text": [
      "Predicted in 296.8400 s\n",
      "Iters. done: 210 Current cost: 0.08439358624785277 Accuracy: 0.06704978159724151 Time: 315.18962559849024\n"
     ]
    },
    {
     "data": {
      "application/vnd.jupyter.widget-view+json": {
       "model_id": "354a2adc30dc4baaad4547004481330b",
       "version_major": 2,
       "version_minor": 0
      },
      "text/plain": [
       "Mappings: 0it [00:00, ?it/s]"
      ]
     },
     "metadata": {},
     "output_type": "display_data"
    },
    {
     "name": "stdout",
     "output_type": "stream",
     "text": [
      "Submitted to device in 23.0104 s\n"
     ]
    },
    {
     "data": {
      "application/vnd.jupyter.widget-view+json": {
       "model_id": "87d7896fe17a4098b19c6eb6fbbe0e49",
       "version_major": 2,
       "version_minor": 0
      },
      "text/plain": [
       "Running batch:   0%|          | 0/1 [00:00<?, ?it/s]"
      ]
     },
     "metadata": {},
     "output_type": "display_data"
    },
    {
     "name": "stdout",
     "output_type": "stream",
     "text": [
      "Predicted in 290.6062 s\n",
      "Iters. done: 211 Current cost: 0.08506896117978854 Accuracy: 0.05958367880119808 Time: 314.1928871758282\n"
     ]
    },
    {
     "data": {
      "application/vnd.jupyter.widget-view+json": {
       "model_id": "c2c73606ca5e4bc8a2572fb3a669b569",
       "version_major": 2,
       "version_minor": 0
      },
      "text/plain": [
       "Mappings: 0it [00:00, ?it/s]"
      ]
     },
     "metadata": {},
     "output_type": "display_data"
    },
    {
     "name": "stdout",
     "output_type": "stream",
     "text": [
      "Submitted to device in 20.1840 s\n"
     ]
    },
    {
     "data": {
      "application/vnd.jupyter.widget-view+json": {
       "model_id": "b1ab5b8e97624b5193299c214a3cd7a8",
       "version_major": 2,
       "version_minor": 0
      },
      "text/plain": [
       "Running batch:   0%|          | 0/1 [00:00<?, ?it/s]"
      ]
     },
     "metadata": {},
     "output_type": "display_data"
    },
    {
     "name": "stdout",
     "output_type": "stream",
     "text": [
      "Predicted in 297.2263 s\n",
      "Iters. done: 212 Current cost: 0.08338296002256532 Accuracy: 0.07822200450570316 Time: 317.4947778619826\n"
     ]
    },
    {
     "data": {
      "application/vnd.jupyter.widget-view+json": {
       "model_id": "fb19aa21feb841ff99faadaa120b1d3f",
       "version_major": 2,
       "version_minor": 0
      },
      "text/plain": [
       "Mappings: 0it [00:00, ?it/s]"
      ]
     },
     "metadata": {},
     "output_type": "display_data"
    },
    {
     "name": "stdout",
     "output_type": "stream",
     "text": [
      "Submitted to device in 21.2926 s\n"
     ]
    },
    {
     "data": {
      "application/vnd.jupyter.widget-view+json": {
       "model_id": "ac2bfcec938849adb2c846ce0eb55213",
       "version_major": 2,
       "version_minor": 0
      },
      "text/plain": [
       "Running batch:   0%|          | 0/1 [00:00<?, ?it/s]"
      ]
     },
     "metadata": {},
     "output_type": "display_data"
    },
    {
     "name": "stdout",
     "output_type": "stream",
     "text": [
      "Predicted in 291.9721 s\n",
      "Iters. done: 213 Current cost: 0.08526713924843887 Accuracy: 0.05739286927822129 Time: 313.34248631075025\n"
     ]
    },
    {
     "data": {
      "application/vnd.jupyter.widget-view+json": {
       "model_id": "a965d65d61764258af125695c15f954a",
       "version_major": 2,
       "version_minor": 0
      },
      "text/plain": [
       "Mappings: 0it [00:00, ?it/s]"
      ]
     },
     "metadata": {},
     "output_type": "display_data"
    },
    {
     "name": "stdout",
     "output_type": "stream",
     "text": [
      "Submitted to device in 19.9389 s\n"
     ]
    },
    {
     "data": {
      "application/vnd.jupyter.widget-view+json": {
       "model_id": "01de8404c9724e87889035fe2403e836",
       "version_major": 2,
       "version_minor": 0
      },
      "text/plain": [
       "Running batch:   0%|          | 0/1 [00:00<?, ?it/s]"
      ]
     },
     "metadata": {},
     "output_type": "display_data"
    },
    {
     "name": "stdout",
     "output_type": "stream",
     "text": [
      "Predicted in 293.8988 s\n",
      "Iters. done: 214 Current cost: 0.0870052043081972 Accuracy: 0.038178990010932834 Time: 313.926602602005\n"
     ]
    },
    {
     "data": {
      "application/vnd.jupyter.widget-view+json": {
       "model_id": "90a3eafbccf64f12a26f8cdb802f1e27",
       "version_major": 2,
       "version_minor": 0
      },
      "text/plain": [
       "Mappings: 0it [00:00, ?it/s]"
      ]
     },
     "metadata": {},
     "output_type": "display_data"
    },
    {
     "name": "stdout",
     "output_type": "stream",
     "text": [
      "Submitted to device in 18.5316 s\n"
     ]
    },
    {
     "data": {
      "application/vnd.jupyter.widget-view+json": {
       "model_id": "8975caac985e4849a206fca16a412a25",
       "version_major": 2,
       "version_minor": 0
      },
      "text/plain": [
       "Running batch:   0%|          | 0/1 [00:00<?, ?it/s]"
      ]
     },
     "metadata": {},
     "output_type": "display_data"
    },
    {
     "name": "stdout",
     "output_type": "stream",
     "text": [
      "Predicted in 295.2676 s\n",
      "Iters. done: 215 Current cost: 0.08979693262786814 Accuracy: 0.007317124064047165 Time: 313.88683731481433\n"
     ]
    },
    {
     "data": {
      "application/vnd.jupyter.widget-view+json": {
       "model_id": "783027dc6e6f4e1fbbb03cfd4b8d2428",
       "version_major": 2,
       "version_minor": 0
      },
      "text/plain": [
       "Mappings: 0it [00:00, ?it/s]"
      ]
     },
     "metadata": {},
     "output_type": "display_data"
    },
    {
     "name": "stdout",
     "output_type": "stream",
     "text": [
      "Submitted to device in 19.0850 s\n"
     ]
    },
    {
     "data": {
      "application/vnd.jupyter.widget-view+json": {
       "model_id": "58523833b69e4c46ba48fc40e9b40bfd",
       "version_major": 2,
       "version_minor": 0
      },
      "text/plain": [
       "Running batch:   0%|          | 0/1 [00:00<?, ?it/s]"
      ]
     },
     "metadata": {},
     "output_type": "display_data"
    },
    {
     "name": "stdout",
     "output_type": "stream",
     "text": [
      "Predicted in 292.8679 s\n",
      "Iters. done: 216 Current cost: 0.08841673541096398 Accuracy: 0.022574862859125022 Time: 312.04319233074784\n"
     ]
    },
    {
     "data": {
      "application/vnd.jupyter.widget-view+json": {
       "model_id": "6caa8c456c994376895572f5d20708e3",
       "version_major": 2,
       "version_minor": 0
      },
      "text/plain": [
       "Mappings: 0it [00:00, ?it/s]"
      ]
     },
     "metadata": {},
     "output_type": "display_data"
    },
    {
     "name": "stdout",
     "output_type": "stream",
     "text": [
      "Submitted to device in 19.1590 s\n"
     ]
    },
    {
     "data": {
      "application/vnd.jupyter.widget-view+json": {
       "model_id": "d4b1edc2e6b142a6a605adfe50261a1e",
       "version_major": 2,
       "version_minor": 0
      },
      "text/plain": [
       "Running batch:   0%|          | 0/1 [00:00<?, ?it/s]"
      ]
     },
     "metadata": {},
     "output_type": "display_data"
    },
    {
     "name": "stdout",
     "output_type": "stream",
     "text": [
      "Predicted in 297.5540 s\n",
      "Iters. done: 217 Current cost: 0.08792273631206005 Accuracy: 0.028035900690360993 Time: 316.7963455058634\n"
     ]
    },
    {
     "data": {
      "application/vnd.jupyter.widget-view+json": {
       "model_id": "3c5f6284115842b584eb1592f4022d7a",
       "version_major": 2,
       "version_minor": 0
      },
      "text/plain": [
       "Mappings: 0it [00:00, ?it/s]"
      ]
     },
     "metadata": {},
     "output_type": "display_data"
    },
    {
     "name": "stdout",
     "output_type": "stream",
     "text": [
      "Submitted to device in 21.0881 s\n"
     ]
    },
    {
     "data": {
      "application/vnd.jupyter.widget-view+json": {
       "model_id": "ebae5b8a89164c47bd705779f8b3efb2",
       "version_major": 2,
       "version_minor": 0
      },
      "text/plain": [
       "Running batch:   0%|          | 0/1 [00:00<?, ?it/s]"
      ]
     },
     "metadata": {},
     "output_type": "display_data"
    },
    {
     "name": "stdout",
     "output_type": "stream",
     "text": [
      "Predicted in 293.4542 s\n",
      "Iters. done: 218 Current cost: 0.08741389536060995 Accuracy: 0.03366101152986756 Time: 314.63368563354015\n"
     ]
    },
    {
     "data": {
      "application/vnd.jupyter.widget-view+json": {
       "model_id": "f803d4fc2f4a4150ab2b1d73890490f5",
       "version_major": 2,
       "version_minor": 0
      },
      "text/plain": [
       "Mappings: 0it [00:00, ?it/s]"
      ]
     },
     "metadata": {},
     "output_type": "display_data"
    },
    {
     "name": "stdout",
     "output_type": "stream",
     "text": [
      "Submitted to device in 21.6819 s\n"
     ]
    },
    {
     "data": {
      "application/vnd.jupyter.widget-view+json": {
       "model_id": "49335a49fff042b5b56bc5f44b15fa9f",
       "version_major": 2,
       "version_minor": 0
      },
      "text/plain": [
       "Running batch:   0%|          | 0/1 [00:00<?, ?it/s]"
      ]
     },
     "metadata": {},
     "output_type": "display_data"
    },
    {
     "name": "stdout",
     "output_type": "stream",
     "text": [
      "Predicted in 290.1253 s\n",
      "Iters. done: 219 Current cost: 0.0876187963876917 Accuracy: 0.03139588136457938 Time: 311.9053038805723\n"
     ]
    },
    {
     "data": {
      "application/vnd.jupyter.widget-view+json": {
       "model_id": "a84f0c6775d94624996251bcbb10bcc4",
       "version_major": 2,
       "version_minor": 0
      },
      "text/plain": [
       "Mappings: 0it [00:00, ?it/s]"
      ]
     },
     "metadata": {},
     "output_type": "display_data"
    },
    {
     "name": "stdout",
     "output_type": "stream",
     "text": [
      "Submitted to device in 21.7939 s\n"
     ]
    },
    {
     "data": {
      "application/vnd.jupyter.widget-view+json": {
       "model_id": "de51781c7f02479b8acd95d34a9d04ca",
       "version_major": 2,
       "version_minor": 0
      },
      "text/plain": [
       "Running batch:   0%|          | 0/1 [00:00<?, ?it/s]"
      ]
     },
     "metadata": {},
     "output_type": "display_data"
    },
    {
     "name": "stdout",
     "output_type": "stream",
     "text": [
      "Predicted in 290.5544 s\n",
      "Iters. done: 220 Current cost: 0.09201799699260223 Accuracy: -0.017236193033767 Time: 312.43582374975085\n"
     ]
    },
    {
     "data": {
      "application/vnd.jupyter.widget-view+json": {
       "model_id": "5ae4d0e1e58f4ab3b94d59b8d373f012",
       "version_major": 2,
       "version_minor": 0
      },
      "text/plain": [
       "Mappings: 0it [00:00, ?it/s]"
      ]
     },
     "metadata": {},
     "output_type": "display_data"
    },
    {
     "name": "stdout",
     "output_type": "stream",
     "text": [
      "Submitted to device in 18.5743 s\n"
     ]
    },
    {
     "data": {
      "application/vnd.jupyter.widget-view+json": {
       "model_id": "07b7ad16871a438ca00f836ebb71739d",
       "version_major": 2,
       "version_minor": 0
      },
      "text/plain": [
       "Running batch:   0%|          | 0/1 [00:00<?, ?it/s]"
      ]
     },
     "metadata": {},
     "output_type": "display_data"
    },
    {
     "name": "stdout",
     "output_type": "stream",
     "text": [
      "Predicted in 298.7350 s\n",
      "Iters. done: 221 Current cost: 0.08771015749018916 Accuracy: 0.030385906977684507 Time: 317.4025436118245\n"
     ]
    },
    {
     "data": {
      "application/vnd.jupyter.widget-view+json": {
       "model_id": "a4476e3f977746488999caaae9cf3218",
       "version_major": 2,
       "version_minor": 0
      },
      "text/plain": [
       "Mappings: 0it [00:00, ?it/s]"
      ]
     },
     "metadata": {},
     "output_type": "display_data"
    },
    {
     "name": "stdout",
     "output_type": "stream",
     "text": [
      "Submitted to device in 18.7616 s\n"
     ]
    },
    {
     "data": {
      "application/vnd.jupyter.widget-view+json": {
       "model_id": "d41cbfc4cd5048d785d1569efa5a7656",
       "version_major": 2,
       "version_minor": 0
      },
      "text/plain": [
       "Running batch:   0%|          | 0/1 [00:00<?, ?it/s]"
      ]
     },
     "metadata": {},
     "output_type": "display_data"
    },
    {
     "name": "stdout",
     "output_type": "stream",
     "text": [
      "Predicted in 878.5038 s\n",
      "Iters. done: 222 Current cost: 0.09027070900148104 Accuracy: 0.0020796434581383805 Time: 897.358499828726\n"
     ]
    },
    {
     "data": {
      "application/vnd.jupyter.widget-view+json": {
       "model_id": "dba8250246dc43d5b5f450295fd5be4f",
       "version_major": 2,
       "version_minor": 0
      },
      "text/plain": [
       "Mappings: 0it [00:00, ?it/s]"
      ]
     },
     "metadata": {},
     "output_type": "display_data"
    },
    {
     "name": "stdout",
     "output_type": "stream",
     "text": [
      "Submitted to device in 23.0065 s\n"
     ]
    },
    {
     "data": {
      "application/vnd.jupyter.widget-view+json": {
       "model_id": "a8c096e274404e04b584c0929c26f72b",
       "version_major": 2,
       "version_minor": 0
      },
      "text/plain": [
       "Running batch:   0%|          | 0/1 [00:00<?, ?it/s]"
      ]
     },
     "metadata": {},
     "output_type": "display_data"
    },
    {
     "name": "stdout",
     "output_type": "stream",
     "text": [
      "Predicted in 1027.2624 s\n",
      "Iters. done: 223 Current cost: 0.08655363539032174 Accuracy: 0.043170972687418874 Time: 1050.3625690937042\n"
     ]
    },
    {
     "data": {
      "application/vnd.jupyter.widget-view+json": {
       "model_id": "588838ab66af498e8a923813a1315842",
       "version_major": 2,
       "version_minor": 0
      },
      "text/plain": [
       "Mappings: 0it [00:00, ?it/s]"
      ]
     },
     "metadata": {},
     "output_type": "display_data"
    },
    {
     "name": "stdout",
     "output_type": "stream",
     "text": [
      "Submitted to device in 19.9971 s\n"
     ]
    },
    {
     "data": {
      "application/vnd.jupyter.widget-view+json": {
       "model_id": "0e74e339c4424c7f8423437c3de74013",
       "version_major": 2,
       "version_minor": 0
      },
      "text/plain": [
       "Running batch:   0%|          | 0/1 [00:00<?, ?it/s]"
      ]
     },
     "metadata": {},
     "output_type": "display_data"
    },
    {
     "name": "stdout",
     "output_type": "stream",
     "text": [
      "Predicted in 626.0087 s\n",
      "Iters. done: 224 Current cost: 0.08641714080372437 Accuracy: 0.04467988657576605 Time: 646.1102472580969\n"
     ]
    },
    {
     "data": {
      "application/vnd.jupyter.widget-view+json": {
       "model_id": "ecad35139b124af08a63db86fe60bf0f",
       "version_major": 2,
       "version_minor": 0
      },
      "text/plain": [
       "Mappings: 0it [00:00, ?it/s]"
      ]
     },
     "metadata": {},
     "output_type": "display_data"
    },
    {
     "name": "stdout",
     "output_type": "stream",
     "text": [
      "Submitted to device in 21.4161 s\n"
     ]
    },
    {
     "data": {
      "application/vnd.jupyter.widget-view+json": {
       "model_id": "d2bf50c176fd4208bdeddfdbbba30f7c",
       "version_major": 2,
       "version_minor": 0
      },
      "text/plain": [
       "Running batch:   0%|          | 0/1 [00:00<?, ?it/s]"
      ]
     },
     "metadata": {},
     "output_type": "display_data"
    },
    {
     "name": "stdout",
     "output_type": "stream",
     "text": [
      "Predicted in 1006.3548 s\n",
      "Iters. done: 225 Current cost: 0.08374354425775873 Accuracy: 0.07423583498817243 Time: 1027.8671146035194\n"
     ]
    },
    {
     "data": {
      "application/vnd.jupyter.widget-view+json": {
       "model_id": "27e4e1fc1ec34d52b45ff40b00429d3d",
       "version_major": 2,
       "version_minor": 0
      },
      "text/plain": [
       "Mappings: 0it [00:00, ?it/s]"
      ]
     },
     "metadata": {},
     "output_type": "display_data"
    },
    {
     "name": "stdout",
     "output_type": "stream",
     "text": [
      "Submitted to device in 21.8804 s\n"
     ]
    },
    {
     "data": {
      "application/vnd.jupyter.widget-view+json": {
       "model_id": "be09fbb518774a6a849adc71f41d7b67",
       "version_major": 2,
       "version_minor": 0
      },
      "text/plain": [
       "Running batch:   0%|          | 0/1 [00:00<?, ?it/s]"
      ]
     },
     "metadata": {},
     "output_type": "display_data"
    },
    {
     "name": "stdout",
     "output_type": "stream",
     "text": [
      "Predicted in 1112.4777 s\n",
      "Iters. done: 226 Current cost: 0.08359953281171772 Accuracy: 0.07582784589812319 Time: 1134.4409724213183\n"
     ]
    },
    {
     "data": {
      "application/vnd.jupyter.widget-view+json": {
       "model_id": "0c45139eaa0f49d4940a84a0675e9c1b",
       "version_major": 2,
       "version_minor": 0
      },
      "text/plain": [
       "Mappings: 0it [00:00, ?it/s]"
      ]
     },
     "metadata": {},
     "output_type": "display_data"
    },
    {
     "name": "stdout",
     "output_type": "stream",
     "text": [
      "Submitted to device in 22.1445 s\n"
     ]
    },
    {
     "data": {
      "application/vnd.jupyter.widget-view+json": {
       "model_id": "8b71ccbc5b394d6aa64b3f81e18d1478",
       "version_major": 2,
       "version_minor": 0
      },
      "text/plain": [
       "Running batch:   0%|          | 0/1 [00:00<?, ?it/s]"
      ]
     },
     "metadata": {},
     "output_type": "display_data"
    },
    {
     "name": "stdout",
     "output_type": "stream",
     "text": [
      "Predicted in 1131.6966 s\n",
      "Iters. done: 227 Current cost: 0.08180513427725283 Accuracy: 0.09566447779232956 Time: 1153.9387375712395\n"
     ]
    },
    {
     "data": {
      "application/vnd.jupyter.widget-view+json": {
       "model_id": "8b95117944674b33a5f29aecd5378bdb",
       "version_major": 2,
       "version_minor": 0
      },
      "text/plain": [
       "Mappings: 0it [00:00, ?it/s]"
      ]
     },
     "metadata": {},
     "output_type": "display_data"
    },
    {
     "name": "stdout",
     "output_type": "stream",
     "text": [
      "Submitted to device in 21.9083 s\n"
     ]
    },
    {
     "data": {
      "application/vnd.jupyter.widget-view+json": {
       "model_id": "36c5f61dce5b4f0e94e68e7a6f892ca6",
       "version_major": 2,
       "version_minor": 0
      },
      "text/plain": [
       "Running batch:   0%|          | 0/1 [00:00<?, ?it/s]"
      ]
     },
     "metadata": {},
     "output_type": "display_data"
    },
    {
     "name": "stdout",
     "output_type": "stream",
     "text": [
      "Predicted in 1201.7572 s\n",
      "Iters. done: 228 Current cost: 0.08467732967395011 Accuracy: 0.06391306821513199 Time: 1223.7557901628315\n"
     ]
    },
    {
     "data": {
      "application/vnd.jupyter.widget-view+json": {
       "model_id": "6798d9ea20544f1d9f0e986141704076",
       "version_major": 2,
       "version_minor": 0
      },
      "text/plain": [
       "Mappings: 0it [00:00, ?it/s]"
      ]
     },
     "metadata": {},
     "output_type": "display_data"
    },
    {
     "name": "stdout",
     "output_type": "stream",
     "text": [
      "Submitted to device in 21.9750 s\n"
     ]
    },
    {
     "data": {
      "application/vnd.jupyter.widget-view+json": {
       "model_id": "61c8a9c9a0c946ecbf2fc5860b39c98e",
       "version_major": 2,
       "version_minor": 0
      },
      "text/plain": [
       "Running batch:   0%|          | 0/1 [00:00<?, ?it/s]"
      ]
     },
     "metadata": {},
     "output_type": "display_data"
    },
    {
     "name": "stdout",
     "output_type": "stream",
     "text": [
      "Predicted in 1320.4644 s\n",
      "Iters. done: 229 Current cost: 0.08775328406424349 Accuracy: 0.02990915337030997 Time: 1342.5427298918366\n"
     ]
    },
    {
     "data": {
      "application/vnd.jupyter.widget-view+json": {
       "model_id": "a939a88a379147f0acf5d75dfe82d14b",
       "version_major": 2,
       "version_minor": 0
      },
      "text/plain": [
       "Mappings: 0it [00:00, ?it/s]"
      ]
     },
     "metadata": {},
     "output_type": "display_data"
    },
    {
     "name": "stdout",
     "output_type": "stream",
     "text": [
      "Submitted to device in 20.4288 s\n"
     ]
    },
    {
     "data": {
      "application/vnd.jupyter.widget-view+json": {
       "model_id": "62252b6a01464c558327f556b31e1ea0",
       "version_major": 2,
       "version_minor": 0
      },
      "text/plain": [
       "Running batch:   0%|          | 0/1 [00:00<?, ?it/s]"
      ]
     },
     "metadata": {},
     "output_type": "display_data"
    },
    {
     "name": "stdout",
     "output_type": "stream",
     "text": [
      "Predicted in 1330.6138 s\n",
      "Iters. done: 230 Current cost: 0.08729853544376838 Accuracy: 0.034936286872429556 Time: 1351.137958008796\n"
     ]
    },
    {
     "data": {
      "application/vnd.jupyter.widget-view+json": {
       "model_id": "f946f7d35e1045d8ba339872e9cce7e2",
       "version_major": 2,
       "version_minor": 0
      },
      "text/plain": [
       "Mappings: 0it [00:00, ?it/s]"
      ]
     },
     "metadata": {},
     "output_type": "display_data"
    },
    {
     "name": "stdout",
     "output_type": "stream",
     "text": [
      "Submitted to device in 20.3200 s\n"
     ]
    },
    {
     "data": {
      "application/vnd.jupyter.widget-view+json": {
       "model_id": "207e41f1de69479fa4fce967b2a926d2",
       "version_major": 2,
       "version_minor": 0
      },
      "text/plain": [
       "Running batch:   0%|          | 0/1 [00:00<?, ?it/s]"
      ]
     },
     "metadata": {},
     "output_type": "display_data"
    },
    {
     "name": "stdout",
     "output_type": "stream",
     "text": [
      "Predicted in 1421.0045 s\n",
      "Iters. done: 231 Current cost: 0.08539390453758232 Accuracy: 0.055991510366361186 Time: 1441.4328533113003\n"
     ]
    },
    {
     "data": {
      "application/vnd.jupyter.widget-view+json": {
       "model_id": "544db637bcbb41e2b69738d2ed6f0a1d",
       "version_major": 2,
       "version_minor": 0
      },
      "text/plain": [
       "Mappings: 0it [00:00, ?it/s]"
      ]
     },
     "metadata": {},
     "output_type": "display_data"
    },
    {
     "name": "stdout",
     "output_type": "stream",
     "text": [
      "Submitted to device in 20.9892 s\n"
     ]
    },
    {
     "data": {
      "application/vnd.jupyter.widget-view+json": {
       "model_id": "4bb0b88a99b7432d8a65dcff35c38801",
       "version_major": 2,
       "version_minor": 0
      },
      "text/plain": [
       "Running batch:   0%|          | 0/1 [00:00<?, ?it/s]"
      ]
     },
     "metadata": {},
     "output_type": "display_data"
    },
    {
     "name": "stdout",
     "output_type": "stream",
     "text": [
      "Predicted in 2326.0534 s\n",
      "Iters. done: 232 Current cost: 0.08187181362556148 Accuracy: 0.09492735409213737 Time: 2347.139941457659\n"
     ]
    },
    {
     "data": {
      "application/vnd.jupyter.widget-view+json": {
       "model_id": "d7ca1da9df8d45df861739a1e1da41d3",
       "version_major": 2,
       "version_minor": 0
      },
      "text/plain": [
       "Mappings: 0it [00:00, ?it/s]"
      ]
     },
     "metadata": {},
     "output_type": "display_data"
    },
    {
     "name": "stdout",
     "output_type": "stream",
     "text": [
      "Submitted to device in 24.1461 s\n"
     ]
    },
    {
     "data": {
      "application/vnd.jupyter.widget-view+json": {
       "model_id": "7e8875835b2745978678f5600dcd6883",
       "version_major": 2,
       "version_minor": 0
      },
      "text/plain": [
       "Running batch:   0%|          | 0/1 [00:00<?, ?it/s]"
      ]
     },
     "metadata": {},
     "output_type": "display_data"
    },
    {
     "name": "stdout",
     "output_type": "stream",
     "text": [
      "Predicted in 1618.0432 s\n",
      "Iters. done: 233 Current cost: 0.08194630824535495 Accuracy: 0.09410383449904836 Time: 1642.2813195846975\n"
     ]
    },
    {
     "data": {
      "application/vnd.jupyter.widget-view+json": {
       "model_id": "ab82f6709643402dbc8bbf8fba0bffd3",
       "version_major": 2,
       "version_minor": 0
      },
      "text/plain": [
       "Mappings: 0it [00:00, ?it/s]"
      ]
     },
     "metadata": {},
     "output_type": "display_data"
    },
    {
     "name": "stdout",
     "output_type": "stream",
     "text": [
      "Submitted to device in 21.1629 s\n"
     ]
    },
    {
     "data": {
      "application/vnd.jupyter.widget-view+json": {
       "model_id": "77476e6cfc4f48518c5ba26170157da5",
       "version_major": 2,
       "version_minor": 0
      },
      "text/plain": [
       "Running batch:   0%|          | 0/1 [00:00<?, ?it/s]"
      ]
     },
     "metadata": {},
     "output_type": "display_data"
    },
    {
     "name": "stdout",
     "output_type": "stream",
     "text": [
      "Predicted in 950.5115 s\n",
      "Iters. done: 234 Current cost: 0.08402606491638392 Accuracy: 0.07111263899797515 Time: 971.7867846488953\n"
     ]
    },
    {
     "data": {
      "application/vnd.jupyter.widget-view+json": {
       "model_id": "89e54d3ec72743bd908440eec2e3aa65",
       "version_major": 2,
       "version_minor": 0
      },
      "text/plain": [
       "Mappings: 0it [00:00, ?it/s]"
      ]
     },
     "metadata": {},
     "output_type": "display_data"
    },
    {
     "name": "stdout",
     "output_type": "stream",
     "text": [
      "Submitted to device in 16.9616 s\n"
     ]
    },
    {
     "data": {
      "application/vnd.jupyter.widget-view+json": {
       "model_id": "835efadf22f9478ca71dc6feca2a7f3c",
       "version_major": 2,
       "version_minor": 0
      },
      "text/plain": [
       "Running batch:   0%|          | 0/1 [00:00<?, ?it/s]"
      ]
     },
     "metadata": {},
     "output_type": "display_data"
    },
    {
     "name": "stdout",
     "output_type": "stream",
     "text": [
      "Predicted in 1679.4673 s\n",
      "Iters. done: 235 Current cost: 0.08403335556027888 Accuracy: 0.07103204273330022 Time: 1696.518059913069\n"
     ]
    },
    {
     "data": {
      "application/vnd.jupyter.widget-view+json": {
       "model_id": "763552b893f14535b2443291ce6b20c1",
       "version_major": 2,
       "version_minor": 0
      },
      "text/plain": [
       "Mappings: 0it [00:00, ?it/s]"
      ]
     },
     "metadata": {},
     "output_type": "display_data"
    },
    {
     "name": "stdout",
     "output_type": "stream",
     "text": [
      "Submitted to device in 19.9337 s\n"
     ]
    },
    {
     "data": {
      "application/vnd.jupyter.widget-view+json": {
       "model_id": "4e088d46b9e44e38830053750ac13b7c",
       "version_major": 2,
       "version_minor": 0
      },
      "text/plain": [
       "Running batch:   0%|          | 0/1 [00:00<?, ?it/s]"
      ]
     },
     "metadata": {},
     "output_type": "display_data"
    },
    {
     "name": "stdout",
     "output_type": "stream",
     "text": [
      "Predicted in 1004.2852 s\n",
      "Iters. done: 236 Current cost: 0.0817494660960385 Accuracy: 0.09627987576427333 Time: 1024.3237552456558\n"
     ]
    },
    {
     "data": {
      "application/vnd.jupyter.widget-view+json": {
       "model_id": "38ba894b95134797915afc00af90fbe4",
       "version_major": 2,
       "version_minor": 0
      },
      "text/plain": [
       "Mappings: 0it [00:00, ?it/s]"
      ]
     },
     "metadata": {},
     "output_type": "display_data"
    },
    {
     "name": "stdout",
     "output_type": "stream",
     "text": [
      "Submitted to device in 20.5862 s\n"
     ]
    },
    {
     "data": {
      "application/vnd.jupyter.widget-view+json": {
       "model_id": "3299e150784841758570984354f4844a",
       "version_major": 2,
       "version_minor": 0
      },
      "text/plain": [
       "Running batch:   0%|          | 0/1 [00:00<?, ?it/s]"
      ]
     },
     "metadata": {},
     "output_type": "display_data"
    },
    {
     "name": "stdout",
     "output_type": "stream",
     "text": [
      "Predicted in 1752.4872 s\n",
      "Iters. done: 237 Current cost: 0.08352742173414292 Accuracy: 0.07662501602163341 Time: 1773.1607264950871\n"
     ]
    },
    {
     "data": {
      "application/vnd.jupyter.widget-view+json": {
       "model_id": "cbee4d9076914d0293cf4d956e840f32",
       "version_major": 2,
       "version_minor": 0
      },
      "text/plain": [
       "Mappings: 0it [00:00, ?it/s]"
      ]
     },
     "metadata": {},
     "output_type": "display_data"
    },
    {
     "name": "stdout",
     "output_type": "stream",
     "text": [
      "Submitted to device in 21.9104 s\n"
     ]
    },
    {
     "data": {
      "application/vnd.jupyter.widget-view+json": {
       "model_id": "4dc9f06e63fe49888ef3a40608f83c39",
       "version_major": 2,
       "version_minor": 0
      },
      "text/plain": [
       "Running batch:   0%|          | 0/1 [00:00<?, ?it/s]"
      ]
     },
     "metadata": {},
     "output_type": "display_data"
    },
    {
     "name": "stdout",
     "output_type": "stream",
     "text": [
      "Predicted in 6959.6489 s\n",
      "Iters. done: 238 Current cost: 0.08509022243760607 Accuracy: 0.05934864085570635 Time: 6981.645545061678\n"
     ]
    },
    {
     "data": {
      "application/vnd.jupyter.widget-view+json": {
       "model_id": "af991d24c4f2482ebb7d430ad3fb9ed4",
       "version_major": 2,
       "version_minor": 0
      },
      "text/plain": [
       "Mappings: 0it [00:00, ?it/s]"
      ]
     },
     "metadata": {},
     "output_type": "display_data"
    },
    {
     "name": "stdout",
     "output_type": "stream",
     "text": [
      "Submitted to device in 20.9661 s\n"
     ]
    },
    {
     "data": {
      "application/vnd.jupyter.widget-view+json": {
       "model_id": "25f016937deb4654b6e315f7d83c52e4",
       "version_major": 2,
       "version_minor": 0
      },
      "text/plain": [
       "Running batch:   0%|          | 0/1 [00:00<?, ?it/s]"
      ]
     },
     "metadata": {},
     "output_type": "display_data"
    },
    {
     "name": "stdout",
     "output_type": "stream",
     "text": [
      "Predicted in 1081.9842 s\n",
      "Iters. done: 239 Current cost: 0.08475962658609916 Accuracy: 0.06300329621020928 Time: 1103.0592265762389\n"
     ]
    },
    {
     "data": {
      "application/vnd.jupyter.widget-view+json": {
       "model_id": "126bed93d22842e4814811530a028970",
       "version_major": 2,
       "version_minor": 0
      },
      "text/plain": [
       "Mappings: 0it [00:00, ?it/s]"
      ]
     },
     "metadata": {},
     "output_type": "display_data"
    },
    {
     "name": "stdout",
     "output_type": "stream",
     "text": [
      "Submitted to device in 20.4618 s\n"
     ]
    },
    {
     "data": {
      "application/vnd.jupyter.widget-view+json": {
       "model_id": "2d83317efc5e4cdea163d0af3a45b72e",
       "version_major": 2,
       "version_minor": 0
      },
      "text/plain": [
       "Running batch:   0%|          | 0/1 [00:00<?, ?it/s]"
      ]
     },
     "metadata": {},
     "output_type": "display_data"
    },
    {
     "name": "stdout",
     "output_type": "stream",
     "text": [
      "Predicted in 2068.3023 s\n",
      "Iters. done: 240 Current cost: 0.08315351603945023 Accuracy: 0.08075845097842149 Time: 2088.84197094664\n"
     ]
    },
    {
     "data": {
      "application/vnd.jupyter.widget-view+json": {
       "model_id": "3e5bc00f193343aba15f075c89e921b7",
       "version_major": 2,
       "version_minor": 0
      },
      "text/plain": [
       "Mappings: 0it [00:00, ?it/s]"
      ]
     },
     "metadata": {},
     "output_type": "display_data"
    },
    {
     "name": "stdout",
     "output_type": "stream",
     "text": [
      "Submitted to device in 19.4314 s\n"
     ]
    },
    {
     "data": {
      "application/vnd.jupyter.widget-view+json": {
       "model_id": "7f8d9b34ed6a4c98b665538a6e4f692b",
       "version_major": 2,
       "version_minor": 0
      },
      "text/plain": [
       "Running batch:   0%|          | 0/1 [00:00<?, ?it/s]"
      ]
     },
     "metadata": {},
     "output_type": "display_data"
    },
    {
     "name": "stdout",
     "output_type": "stream",
     "text": [
      "Predicted in 2074.8561 s\n",
      "Iters. done: 241 Current cost: 0.08647975297997818 Accuracy: 0.043987724456489574 Time: 2094.3784844726324\n"
     ]
    },
    {
     "data": {
      "application/vnd.jupyter.widget-view+json": {
       "model_id": "b1a105149312475289fc9df3efb64c27",
       "version_major": 2,
       "version_minor": 0
      },
      "text/plain": [
       "Mappings: 0it [00:00, ?it/s]"
      ]
     },
     "metadata": {},
     "output_type": "display_data"
    },
    {
     "name": "stdout",
     "output_type": "stream",
     "text": [
      "Submitted to device in 18.7697 s\n"
     ]
    },
    {
     "data": {
      "application/vnd.jupyter.widget-view+json": {
       "model_id": "311bc980b31c47909ccfdb1dab8ac5eb",
       "version_major": 2,
       "version_minor": 0
      },
      "text/plain": [
       "Running batch:   0%|          | 0/1 [00:00<?, ?it/s]"
      ]
     },
     "metadata": {},
     "output_type": "display_data"
    },
    {
     "name": "stdout",
     "output_type": "stream",
     "text": [
      "Predicted in 2067.1084 s\n",
      "Iters. done: 242 Current cost: 0.08691547086432508 Accuracy: 0.039170971034380164 Time: 2085.9761772453785\n"
     ]
    },
    {
     "data": {
      "application/vnd.jupyter.widget-view+json": {
       "model_id": "685ad643664c442f94096c07fea62a39",
       "version_major": 2,
       "version_minor": 0
      },
      "text/plain": [
       "Mappings: 0it [00:00, ?it/s]"
      ]
     },
     "metadata": {},
     "output_type": "display_data"
    },
    {
     "name": "stdout",
     "output_type": "stream",
     "text": [
      "Submitted to device in 20.9860 s\n"
     ]
    },
    {
     "data": {
      "application/vnd.jupyter.widget-view+json": {
       "model_id": "5ab4f70196a84d6ab646bab2a4848f24",
       "version_major": 2,
       "version_minor": 0
      },
      "text/plain": [
       "Running batch:   0%|          | 0/1 [00:00<?, ?it/s]"
      ]
     },
     "metadata": {},
     "output_type": "display_data"
    },
    {
     "name": "stdout",
     "output_type": "stream",
     "text": [
      "Predicted in 878.2528 s\n",
      "Iters. done: 243 Current cost: 0.08296009093828566 Accuracy: 0.08289671762164819 Time: 899.711584340781\n"
     ]
    },
    {
     "data": {
      "application/vnd.jupyter.widget-view+json": {
       "model_id": "2b88410d3f8c45e5b7fe27c7902771a3",
       "version_major": 2,
       "version_minor": 0
      },
      "text/plain": [
       "Mappings: 0it [00:00, ?it/s]"
      ]
     },
     "metadata": {},
     "output_type": "display_data"
    },
    {
     "name": "stdout",
     "output_type": "stream",
     "text": [
      "Submitted to device in 21.0719 s\n"
     ]
    },
    {
     "data": {
      "application/vnd.jupyter.widget-view+json": {
       "model_id": "b692d07c04cb4539bcfa305c1e4bf14e",
       "version_major": 2,
       "version_minor": 0
      },
      "text/plain": [
       "Running batch:   0%|          | 0/1 [00:00<?, ?it/s]"
      ]
     },
     "metadata": {},
     "output_type": "display_data"
    },
    {
     "name": "stdout",
     "output_type": "stream",
     "text": [
      "Predicted in 1006.0541 s\n",
      "Iters. done: 244 Current cost: 0.08526927186967809 Accuracy: 0.0573692936779967 Time: 1027.213329307735\n"
     ]
    },
    {
     "data": {
      "application/vnd.jupyter.widget-view+json": {
       "model_id": "507060217984439ca4f357a43ae110f0",
       "version_major": 2,
       "version_minor": 0
      },
      "text/plain": [
       "Mappings: 0it [00:00, ?it/s]"
      ]
     },
     "metadata": {},
     "output_type": "display_data"
    },
    {
     "name": "stdout",
     "output_type": "stream",
     "text": [
      "Submitted to device in 18.6480 s\n"
     ]
    },
    {
     "data": {
      "application/vnd.jupyter.widget-view+json": {
       "model_id": "394495b6afcf45b288cd263b87946eaa",
       "version_major": 2,
       "version_minor": 0
      },
      "text/plain": [
       "Running batch:   0%|          | 0/1 [00:00<?, ?it/s]"
      ]
     },
     "metadata": {},
     "output_type": "display_data"
    },
    {
     "name": "stdout",
     "output_type": "stream",
     "text": [
      "Predicted in 646.3103 s\n",
      "Iters. done: 245 Current cost: 0.08367649006155983 Accuracy: 0.0749771025390602 Time: 665.0554429888725\n"
     ]
    },
    {
     "data": {
      "application/vnd.jupyter.widget-view+json": {
       "model_id": "a0e61c8444dc4eb6afc07b9ddc91bb81",
       "version_major": 2,
       "version_minor": 0
      },
      "text/plain": [
       "Mappings: 0it [00:00, ?it/s]"
      ]
     },
     "metadata": {},
     "output_type": "display_data"
    },
    {
     "name": "stdout",
     "output_type": "stream",
     "text": [
      "Submitted to device in 20.2392 s\n"
     ]
    },
    {
     "data": {
      "application/vnd.jupyter.widget-view+json": {
       "model_id": "e14ad5b4080548c78c9e064fe810610a",
       "version_major": 2,
       "version_minor": 0
      },
      "text/plain": [
       "Running batch:   0%|          | 0/1 [00:00<?, ?it/s]"
      ]
     },
     "metadata": {},
     "output_type": "display_data"
    },
    {
     "name": "stdout",
     "output_type": "stream",
     "text": [
      "Predicted in 1149.1097 s\n",
      "Iters. done: 246 Current cost: 0.08586394610061421 Accuracy: 0.050795317167495524 Time: 1169.453744187951\n"
     ]
    },
    {
     "data": {
      "application/vnd.jupyter.widget-view+json": {
       "model_id": "f7f31b5d834544eb8d12d466f658c03f",
       "version_major": 2,
       "version_minor": 0
      },
      "text/plain": [
       "Mappings: 0it [00:00, ?it/s]"
      ]
     },
     "metadata": {},
     "output_type": "display_data"
    },
    {
     "name": "stdout",
     "output_type": "stream",
     "text": [
      "Submitted to device in 22.7625 s\n"
     ]
    },
    {
     "data": {
      "application/vnd.jupyter.widget-view+json": {
       "model_id": "798997466ea742a4a9bac763028663aa",
       "version_major": 2,
       "version_minor": 0
      },
      "text/plain": [
       "Running batch:   0%|          | 0/1 [00:00<?, ?it/s]"
      ]
     },
     "metadata": {},
     "output_type": "display_data"
    },
    {
     "name": "stdout",
     "output_type": "stream",
     "text": [
      "Predicted in 659.9798 s\n",
      "Iters. done: 247 Current cost: 0.08592034320010619 Accuracy: 0.05017186118431449 Time: 682.8446680381894\n"
     ]
    },
    {
     "data": {
      "application/vnd.jupyter.widget-view+json": {
       "model_id": "1e03e6e5f7c34c47b77ba7548c65780d",
       "version_major": 2,
       "version_minor": 0
      },
      "text/plain": [
       "Mappings: 0it [00:00, ?it/s]"
      ]
     },
     "metadata": {},
     "output_type": "display_data"
    },
    {
     "name": "stdout",
     "output_type": "stream",
     "text": [
      "Submitted to device in 20.0886 s\n"
     ]
    },
    {
     "data": {
      "application/vnd.jupyter.widget-view+json": {
       "model_id": "c1d6b9eea4074e8686f52c6cf9b02bdd",
       "version_major": 2,
       "version_minor": 0
      },
      "text/plain": [
       "Running batch:   0%|          | 0/1 [00:00<?, ?it/s]"
      ]
     },
     "metadata": {},
     "output_type": "display_data"
    },
    {
     "name": "stdout",
     "output_type": "stream",
     "text": [
      "Predicted in 1104.2738 s\n",
      "Iters. done: 248 Current cost: 0.08163097304990125 Accuracy: 0.09758978707611521 Time: 1124.4637507684529\n"
     ]
    },
    {
     "data": {
      "application/vnd.jupyter.widget-view+json": {
       "model_id": "15e980140fe744e9a7d60591efa4557f",
       "version_major": 2,
       "version_minor": 0
      },
      "text/plain": [
       "Mappings: 0it [00:00, ?it/s]"
      ]
     },
     "metadata": {},
     "output_type": "display_data"
    },
    {
     "name": "stdout",
     "output_type": "stream",
     "text": [
      "Submitted to device in 22.7800 s\n"
     ]
    },
    {
     "data": {
      "application/vnd.jupyter.widget-view+json": {
       "model_id": "e1cf25836f3c4799a7f8f0766994ec2f",
       "version_major": 2,
       "version_minor": 0
      },
      "text/plain": [
       "Running batch:   0%|          | 0/1 [00:00<?, ?it/s]"
      ]
     },
     "metadata": {},
     "output_type": "display_data"
    },
    {
     "name": "stdout",
     "output_type": "stream",
     "text": [
      "Predicted in 1204.3324 s\n",
      "Iters. done: 249 Current cost: 0.0855925384456191 Accuracy: 0.053795661651734106 Time: 1227.2153658904135\n"
     ]
    },
    {
     "data": {
      "application/vnd.jupyter.widget-view+json": {
       "model_id": "31d8f6a93abe424aa7b96d42ef8458dd",
       "version_major": 2,
       "version_minor": 0
      },
      "text/plain": [
       "Mappings: 0it [00:00, ?it/s]"
      ]
     },
     "metadata": {},
     "output_type": "display_data"
    },
    {
     "name": "stdout",
     "output_type": "stream",
     "text": [
      "Submitted to device in 19.7751 s\n"
     ]
    },
    {
     "data": {
      "application/vnd.jupyter.widget-view+json": {
       "model_id": "76444492e48d437db7ad790e84ef26db",
       "version_major": 2,
       "version_minor": 0
      },
      "text/plain": [
       "Running batch:   0%|          | 0/1 [00:00<?, ?it/s]"
      ]
     },
     "metadata": {},
     "output_type": "display_data"
    },
    {
     "name": "stdout",
     "output_type": "stream",
     "text": [
      "Predicted in 1236.9757 s\n",
      "Iters. done: 250 Current cost: 0.08261826296114613 Accuracy: 0.08667554134637889 Time: 1256.8385099582374\n"
     ]
    },
    {
     "data": {
      "application/vnd.jupyter.widget-view+json": {
       "model_id": "4ca404243a2948fbba951557fea83697",
       "version_major": 2,
       "version_minor": 0
      },
      "text/plain": [
       "Mappings: 0it [00:00, ?it/s]"
      ]
     },
     "metadata": {},
     "output_type": "display_data"
    },
    {
     "name": "stdout",
     "output_type": "stream",
     "text": [
      "Submitted to device in 20.9040 s\n"
     ]
    },
    {
     "data": {
      "application/vnd.jupyter.widget-view+json": {
       "model_id": "a972d0b56b0b4e48a4164b23777ecdc4",
       "version_major": 2,
       "version_minor": 0
      },
      "text/plain": [
       "Running batch:   0%|          | 0/1 [00:00<?, ?it/s]"
      ]
     },
     "metadata": {},
     "output_type": "display_data"
    },
    {
     "name": "stdout",
     "output_type": "stream",
     "text": [
      "Predicted in 1429.1832 s\n",
      "Iters. done: 251 Current cost: 0.08461316703962352 Accuracy: 0.06462237026484563 Time: 1450.178179834038\n"
     ]
    },
    {
     "data": {
      "application/vnd.jupyter.widget-view+json": {
       "model_id": "73649bba07c0470c885e4730d6beae70",
       "version_major": 2,
       "version_minor": 0
      },
      "text/plain": [
       "Mappings: 0it [00:00, ?it/s]"
      ]
     },
     "metadata": {},
     "output_type": "display_data"
    },
    {
     "name": "stdout",
     "output_type": "stream",
     "text": [
      "Submitted to device in 20.8062 s\n"
     ]
    },
    {
     "data": {
      "application/vnd.jupyter.widget-view+json": {
       "model_id": "b0085f9b415b44a0b1a31df8bdc432f6",
       "version_major": 2,
       "version_minor": 0
      },
      "text/plain": [
       "Running batch:   0%|          | 0/1 [00:00<?, ?it/s]"
      ]
     },
     "metadata": {},
     "output_type": "display_data"
    },
    {
     "name": "stdout",
     "output_type": "stream",
     "text": [
      "Predicted in 1399.8184 s\n",
      "Iters. done: 252 Current cost: 0.08449969888553838 Accuracy: 0.06587673263812588 Time: 1420.723388299346\n"
     ]
    },
    {
     "data": {
      "application/vnd.jupyter.widget-view+json": {
       "model_id": "f9d5a601192e48c5867cc6722b266d79",
       "version_major": 2,
       "version_minor": 0
      },
      "text/plain": [
       "Mappings: 0it [00:00, ?it/s]"
      ]
     },
     "metadata": {},
     "output_type": "display_data"
    },
    {
     "name": "stdout",
     "output_type": "stream",
     "text": [
      "Submitted to device in 23.5291 s\n"
     ]
    },
    {
     "data": {
      "application/vnd.jupyter.widget-view+json": {
       "model_id": "81fe588ee9c84cfca637ec774e4ba0c8",
       "version_major": 2,
       "version_minor": 0
      },
      "text/plain": [
       "Running batch:   0%|          | 0/1 [00:00<?, ?it/s]"
      ]
     },
     "metadata": {},
     "output_type": "display_data"
    },
    {
     "name": "stdout",
     "output_type": "stream",
     "text": [
      "Predicted in 1424.0634 s\n",
      "Iters. done: 253 Current cost: 0.08421160885988854 Accuracy: 0.06906149660301208 Time: 1447.688678625971\n"
     ]
    },
    {
     "data": {
      "application/vnd.jupyter.widget-view+json": {
       "model_id": "cc6ea0bc6bb341008b76cca325c9ad61",
       "version_major": 2,
       "version_minor": 0
      },
      "text/plain": [
       "Mappings: 0it [00:00, ?it/s]"
      ]
     },
     "metadata": {},
     "output_type": "display_data"
    },
    {
     "name": "stdout",
     "output_type": "stream",
     "text": [
      "Submitted to device in 19.4014 s\n"
     ]
    },
    {
     "data": {
      "application/vnd.jupyter.widget-view+json": {
       "model_id": "b356b24676284818929704eccf846ec3",
       "version_major": 2,
       "version_minor": 0
      },
      "text/plain": [
       "Running batch:   0%|          | 0/1 [00:00<?, ?it/s]"
      ]
     },
     "metadata": {},
     "output_type": "display_data"
    },
    {
     "name": "stdout",
     "output_type": "stream",
     "text": [
      "Predicted in 1001.4862 s\n",
      "Iters. done: 254 Current cost: 0.08369436235416489 Accuracy: 0.07477952876561877 Time: 1020.9840737432241\n"
     ]
    },
    {
     "data": {
      "application/vnd.jupyter.widget-view+json": {
       "model_id": "d902ecb664b24b0994705dcedbd2fe9f",
       "version_major": 2,
       "version_minor": 0
      },
      "text/plain": [
       "Mappings: 0it [00:00, ?it/s]"
      ]
     },
     "metadata": {},
     "output_type": "display_data"
    },
    {
     "name": "stdout",
     "output_type": "stream",
     "text": [
      "Submitted to device in 23.5293 s\n"
     ]
    },
    {
     "data": {
      "application/vnd.jupyter.widget-view+json": {
       "model_id": "f453b00894174b7e8e7f628ac4c5ed88",
       "version_major": 2,
       "version_minor": 0
      },
      "text/plain": [
       "Running batch:   0%|          | 0/1 [00:00<?, ?it/s]"
      ]
     },
     "metadata": {},
     "output_type": "display_data"
    },
    {
     "name": "stdout",
     "output_type": "stream",
     "text": [
      "Predicted in 918.3795 s\n",
      "Iters. done: 255 Current cost: 0.08838470566433865 Accuracy: 0.022928943784442435 Time: 942.4938161931932\n"
     ]
    },
    {
     "data": {
      "application/vnd.jupyter.widget-view+json": {
       "model_id": "70f81f0e53bf4f01a79d7ad87ad3b654",
       "version_major": 2,
       "version_minor": 0
      },
      "text/plain": [
       "Mappings: 0it [00:00, ?it/s]"
      ]
     },
     "metadata": {},
     "output_type": "display_data"
    },
    {
     "name": "stdout",
     "output_type": "stream",
     "text": [
      "Submitted to device in 21.2528 s\n"
     ]
    },
    {
     "data": {
      "application/vnd.jupyter.widget-view+json": {
       "model_id": "7cc766f9e1df47f7a2d92dc296e90cf4",
       "version_major": 2,
       "version_minor": 0
      },
      "text/plain": [
       "Running batch:   0%|          | 0/1 [00:00<?, ?it/s]"
      ]
     },
     "metadata": {},
     "output_type": "display_data"
    },
    {
     "name": "stdout",
     "output_type": "stream",
     "text": [
      "Predicted in 1552.1756 s\n",
      "Iters. done: 256 Current cost: 0.08783100260657639 Accuracy: 0.029049994111092325 Time: 1573.5338797420263\n"
     ]
    },
    {
     "data": {
      "application/vnd.jupyter.widget-view+json": {
       "model_id": "d2d73cc529604184b41fa09523bd52ab",
       "version_major": 2,
       "version_minor": 0
      },
      "text/plain": [
       "Mappings: 0it [00:00, ?it/s]"
      ]
     },
     "metadata": {},
     "output_type": "display_data"
    },
    {
     "name": "stdout",
     "output_type": "stream",
     "text": [
      "Submitted to device in 18.4827 s\n"
     ]
    },
    {
     "data": {
      "application/vnd.jupyter.widget-view+json": {
       "model_id": "539059dc7d884989923ead6d64a6f849",
       "version_major": 2,
       "version_minor": 0
      },
      "text/plain": [
       "Running batch:   0%|          | 0/1 [00:00<?, ?it/s]"
      ]
     },
     "metadata": {},
     "output_type": "display_data"
    },
    {
     "name": "stdout",
     "output_type": "stream",
     "text": [
      "Predicted in 1735.1524 s\n",
      "Iters. done: 257 Current cost: 0.08795464783532128 Accuracy: 0.027683126695087212 Time: 1753.7254242748022\n"
     ]
    },
    {
     "data": {
      "application/vnd.jupyter.widget-view+json": {
       "model_id": "508b2145a5634ca1ab74780ed47d9cd1",
       "version_major": 2,
       "version_minor": 0
      },
      "text/plain": [
       "Mappings: 0it [00:00, ?it/s]"
      ]
     },
     "metadata": {},
     "output_type": "display_data"
    },
    {
     "name": "stdout",
     "output_type": "stream",
     "text": [
      "Submitted to device in 20.3127 s\n"
     ]
    },
    {
     "data": {
      "application/vnd.jupyter.widget-view+json": {
       "model_id": "58dc0e4e78424ed7b695691b0cac692e",
       "version_major": 2,
       "version_minor": 0
      },
      "text/plain": [
       "Running batch:   0%|          | 0/1 [00:00<?, ?it/s]"
      ]
     },
     "metadata": {},
     "output_type": "display_data"
    },
    {
     "name": "stdout",
     "output_type": "stream",
     "text": [
      "Predicted in 339.7667 s\n",
      "Iters. done: 258 Current cost: 0.08733362661912555 Accuracy: 0.03454836260982819 Time: 360.17397793754935\n"
     ]
    },
    {
     "data": {
      "application/vnd.jupyter.widget-view+json": {
       "model_id": "1d269a2b6233477990ca2761b18e8b57",
       "version_major": 2,
       "version_minor": 0
      },
      "text/plain": [
       "Mappings: 0it [00:00, ?it/s]"
      ]
     },
     "metadata": {},
     "output_type": "display_data"
    },
    {
     "name": "stdout",
     "output_type": "stream",
     "text": [
      "Submitted to device in 22.6393 s\n"
     ]
    },
    {
     "data": {
      "application/vnd.jupyter.widget-view+json": {
       "model_id": "908b864755fc4ca99744916fcfd142f0",
       "version_major": 2,
       "version_minor": 0
      },
      "text/plain": [
       "Running batch:   0%|          | 0/1 [00:00<?, ?it/s]"
      ]
     },
     "metadata": {},
     "output_type": "display_data"
    },
    {
     "name": "stdout",
     "output_type": "stream",
     "text": [
      "Predicted in 293.7313 s\n",
      "Iters. done: 259 Current cost: 0.08801717225732016 Accuracy: 0.026991934677390028 Time: 316.4391593337059\n"
     ]
    },
    {
     "data": {
      "application/vnd.jupyter.widget-view+json": {
       "model_id": "afe9f5c25de8435ba10b2f6f17566a86",
       "version_major": 2,
       "version_minor": 0
      },
      "text/plain": [
       "Mappings: 0it [00:00, ?it/s]"
      ]
     },
     "metadata": {},
     "output_type": "display_data"
    },
    {
     "name": "stdout",
     "output_type": "stream",
     "text": [
      "Submitted to device in 22.3742 s\n"
     ]
    },
    {
     "data": {
      "application/vnd.jupyter.widget-view+json": {
       "model_id": "e8cfb74b8eb54e9fa053ef5118a54013",
       "version_major": 2,
       "version_minor": 0
      },
      "text/plain": [
       "Running batch:   0%|          | 0/1 [00:00<?, ?it/s]"
      ]
     },
     "metadata": {},
     "output_type": "display_data"
    },
    {
     "name": "stdout",
     "output_type": "stream",
     "text": [
      "Predicted in 291.7945 s\n",
      "Iters. done: 260 Current cost: 0.08810279572058818 Accuracy: 0.026045388472780262 Time: 314.26911218091846\n"
     ]
    },
    {
     "data": {
      "application/vnd.jupyter.widget-view+json": {
       "model_id": "c9c1e4d31ff74792b07125aba440aecc",
       "version_major": 2,
       "version_minor": 0
      },
      "text/plain": [
       "Mappings: 0it [00:00, ?it/s]"
      ]
     },
     "metadata": {},
     "output_type": "display_data"
    },
    {
     "name": "stdout",
     "output_type": "stream",
     "text": [
      "Submitted to device in 22.5322 s\n"
     ]
    },
    {
     "data": {
      "application/vnd.jupyter.widget-view+json": {
       "model_id": "30dd0b5c45924f9fbc6a35b325f96648",
       "version_major": 2,
       "version_minor": 0
      },
      "text/plain": [
       "Running batch:   0%|          | 0/1 [00:00<?, ?it/s]"
      ]
     },
     "metadata": {},
     "output_type": "display_data"
    },
    {
     "name": "stdout",
     "output_type": "stream",
     "text": [
      "Predicted in 290.5820 s\n",
      "Iters. done: 261 Current cost: 0.08719505599386135 Accuracy: 0.036080226592059894 Time: 313.2010420151055\n"
     ]
    },
    {
     "data": {
      "application/vnd.jupyter.widget-view+json": {
       "model_id": "220f1bdb79184a7dade89bf156647f42",
       "version_major": 2,
       "version_minor": 0
      },
      "text/plain": [
       "Mappings: 0it [00:00, ?it/s]"
      ]
     },
     "metadata": {},
     "output_type": "display_data"
    },
    {
     "name": "stdout",
     "output_type": "stream",
     "text": [
      "Submitted to device in 18.0097 s\n"
     ]
    },
    {
     "data": {
      "application/vnd.jupyter.widget-view+json": {
       "model_id": "622eaaf7559240af8dffc4c6f445c2b9",
       "version_major": 2,
       "version_minor": 0
      },
      "text/plain": [
       "Running batch:   0%|          | 0/1 [00:00<?, ?it/s]"
      ]
     },
     "metadata": {},
     "output_type": "display_data"
    },
    {
     "name": "stdout",
     "output_type": "stream",
     "text": [
      "Predicted in 295.5005 s\n",
      "Iters. done: 262 Current cost: 0.08766940445866937 Accuracy: 0.030836421659514723 Time: 313.59683587774634\n"
     ]
    },
    {
     "data": {
      "application/vnd.jupyter.widget-view+json": {
       "model_id": "b6a22b26d35f4b688f3d81226a343a5d",
       "version_major": 2,
       "version_minor": 0
      },
      "text/plain": [
       "Mappings: 0it [00:00, ?it/s]"
      ]
     },
     "metadata": {},
     "output_type": "display_data"
    },
    {
     "name": "stdout",
     "output_type": "stream",
     "text": [
      "Submitted to device in 21.0857 s\n"
     ]
    },
    {
     "data": {
      "application/vnd.jupyter.widget-view+json": {
       "model_id": "3c7e6e1742db442cb1c446524199d741",
       "version_major": 2,
       "version_minor": 0
      },
      "text/plain": [
       "Running batch:   0%|          | 0/1 [00:00<?, ?it/s]"
      ]
     },
     "metadata": {},
     "output_type": "display_data"
    },
    {
     "name": "stdout",
     "output_type": "stream",
     "text": [
      "Predicted in 296.6893 s\n",
      "Iters. done: 263 Current cost: 0.08606695692949354 Accuracy: 0.04855108267573138 Time: 317.8603912219405\n"
     ]
    },
    {
     "data": {
      "application/vnd.jupyter.widget-view+json": {
       "model_id": "bba808b9721a4ea1a644b46587330be9",
       "version_major": 2,
       "version_minor": 0
      },
      "text/plain": [
       "Mappings: 0it [00:00, ?it/s]"
      ]
     },
     "metadata": {},
     "output_type": "display_data"
    },
    {
     "name": "stdout",
     "output_type": "stream",
     "text": [
      "Submitted to device in 21.4699 s\n"
     ]
    },
    {
     "data": {
      "application/vnd.jupyter.widget-view+json": {
       "model_id": "a8d0898d8a30444d9e40854632d30bec",
       "version_major": 2,
       "version_minor": 0
      },
      "text/plain": [
       "Running batch:   0%|          | 0/1 [00:00<?, ?it/s]"
      ]
     },
     "metadata": {},
     "output_type": "display_data"
    },
    {
     "name": "stdout",
     "output_type": "stream",
     "text": [
      "Predicted in 291.7389 s\n",
      "Iters. done: 264 Current cost: 0.0857825347569322 Accuracy: 0.05169529943208995 Time: 313.29922737553716\n"
     ]
    },
    {
     "data": {
      "application/vnd.jupyter.widget-view+json": {
       "model_id": "5f75b19f2e964079bf56c14a92808a71",
       "version_major": 2,
       "version_minor": 0
      },
      "text/plain": [
       "Mappings: 0it [00:00, ?it/s]"
      ]
     },
     "metadata": {},
     "output_type": "display_data"
    },
    {
     "name": "stdout",
     "output_type": "stream",
     "text": [
      "Submitted to device in 22.0772 s\n"
     ]
    },
    {
     "data": {
      "application/vnd.jupyter.widget-view+json": {
       "model_id": "da92faecec2b496fb187f8c04cc190e8",
       "version_major": 2,
       "version_minor": 0
      },
      "text/plain": [
       "Running batch:   0%|          | 0/1 [00:00<?, ?it/s]"
      ]
     },
     "metadata": {},
     "output_type": "display_data"
    },
    {
     "name": "stdout",
     "output_type": "stream",
     "text": [
      "Predicted in 292.6903 s\n",
      "Iters. done: 265 Current cost: 0.08849429372369327 Accuracy: 0.021717474898537148 Time: 314.8707908131182\n"
     ]
    },
    {
     "data": {
      "application/vnd.jupyter.widget-view+json": {
       "model_id": "b2e064fa643942479294252b5ab01f61",
       "version_major": 2,
       "version_minor": 0
      },
      "text/plain": [
       "Mappings: 0it [00:00, ?it/s]"
      ]
     },
     "metadata": {},
     "output_type": "display_data"
    },
    {
     "name": "stdout",
     "output_type": "stream",
     "text": [
      "Submitted to device in 18.7850 s\n"
     ]
    },
    {
     "data": {
      "application/vnd.jupyter.widget-view+json": {
       "model_id": "92e7e5be6e0e4a719ad76bcb151b374e",
       "version_major": 2,
       "version_minor": 0
      },
      "text/plain": [
       "Running batch:   0%|          | 0/1 [00:00<?, ?it/s]"
      ]
     },
     "metadata": {},
     "output_type": "display_data"
    },
    {
     "name": "stdout",
     "output_type": "stream",
     "text": [
      "Predicted in 294.4930 s\n",
      "Iters. done: 266 Current cost: 0.0869581748912152 Accuracy: 0.0386988885813746 Time: 313.3688280582428\n"
     ]
    },
    {
     "data": {
      "application/vnd.jupyter.widget-view+json": {
       "model_id": "689ace2525c542869e2d1bb0736cf216",
       "version_major": 2,
       "version_minor": 0
      },
      "text/plain": [
       "Mappings: 0it [00:00, ?it/s]"
      ]
     },
     "metadata": {},
     "output_type": "display_data"
    },
    {
     "name": "stdout",
     "output_type": "stream",
     "text": [
      "Submitted to device in 23.7377 s\n"
     ]
    },
    {
     "data": {
      "application/vnd.jupyter.widget-view+json": {
       "model_id": "b3cedabae92045bda52247d7a6eef718",
       "version_major": 2,
       "version_minor": 0
      },
      "text/plain": [
       "Running batch:   0%|          | 0/1 [00:00<?, ?it/s]"
      ]
     },
     "metadata": {},
     "output_type": "display_data"
    },
    {
     "name": "stdout",
     "output_type": "stream",
     "text": [
      "Predicted in 289.5860 s\n",
      "Iters. done: 267 Current cost: 0.08630177244529945 Accuracy: 0.04595525523794375 Time: 313.42507396638393\n"
     ]
    },
    {
     "data": {
      "application/vnd.jupyter.widget-view+json": {
       "model_id": "fab0c4ff35534f90912c46179e082cde",
       "version_major": 2,
       "version_minor": 0
      },
      "text/plain": [
       "Mappings: 0it [00:00, ?it/s]"
      ]
     },
     "metadata": {},
     "output_type": "display_data"
    },
    {
     "name": "stdout",
     "output_type": "stream",
     "text": [
      "Submitted to device in 18.2196 s\n"
     ]
    },
    {
     "data": {
      "application/vnd.jupyter.widget-view+json": {
       "model_id": "2563fb2dc3d24c3dafd2f8405b0f0bac",
       "version_major": 2,
       "version_minor": 0
      },
      "text/plain": [
       "Running batch:   0%|          | 0/1 [00:00<?, ?it/s]"
      ]
     },
     "metadata": {},
     "output_type": "display_data"
    },
    {
     "name": "stdout",
     "output_type": "stream",
     "text": [
      "Predicted in 292.4181 s\n",
      "Iters. done: 268 Current cost: 0.0868214193293102 Accuracy: 0.0402106874871867 Time: 310.72968900948763\n"
     ]
    },
    {
     "data": {
      "application/vnd.jupyter.widget-view+json": {
       "model_id": "33e0c834b7d54e528d5a84ce99d0814a",
       "version_major": 2,
       "version_minor": 0
      },
      "text/plain": [
       "Mappings: 0it [00:00, ?it/s]"
      ]
     },
     "metadata": {},
     "output_type": "display_data"
    },
    {
     "name": "stdout",
     "output_type": "stream",
     "text": [
      "Submitted to device in 43.6322 s\n"
     ]
    },
    {
     "data": {
      "application/vnd.jupyter.widget-view+json": {
       "model_id": "50d576b870c3467eaba7dac43cc2a760",
       "version_major": 2,
       "version_minor": 0
      },
      "text/plain": [
       "Running batch:   0%|          | 0/1 [00:00<?, ?it/s]"
      ]
     },
     "metadata": {},
     "output_type": "display_data"
    },
    {
     "name": "stdout",
     "output_type": "stream",
     "text": [
      "Predicted in 270.7114 s\n",
      "Iters. done: 269 Current cost: 0.08708721410579232 Accuracy: 0.03727239198637655 Time: 314.43096067011356\n"
     ]
    },
    {
     "data": {
      "application/vnd.jupyter.widget-view+json": {
       "model_id": "c5b614986d384444977eefaabec10ee8",
       "version_major": 2,
       "version_minor": 0
      },
      "text/plain": [
       "Mappings: 0it [00:00, ?it/s]"
      ]
     },
     "metadata": {},
     "output_type": "display_data"
    },
    {
     "name": "stdout",
     "output_type": "stream",
     "text": [
      "Submitted to device in 21.3956 s\n"
     ]
    },
    {
     "data": {
      "application/vnd.jupyter.widget-view+json": {
       "model_id": "a28147cd1abd40b885d4d1541557ff18",
       "version_major": 2,
       "version_minor": 0
      },
      "text/plain": [
       "Running batch:   0%|          | 0/1 [00:00<?, ?it/s]"
      ]
     },
     "metadata": {},
     "output_type": "display_data"
    },
    {
     "name": "stdout",
     "output_type": "stream",
     "text": [
      "Predicted in 294.9361 s\n",
      "Iters. done: 270 Current cost: 0.08772332526830212 Accuracy: 0.030240340448134728 Time: 316.43254923820496\n"
     ]
    },
    {
     "data": {
      "application/vnd.jupyter.widget-view+json": {
       "model_id": "0bc1a751b14943bf8b26e888fa8c9d03",
       "version_major": 2,
       "version_minor": 0
      },
      "text/plain": [
       "Mappings: 0it [00:00, ?it/s]"
      ]
     },
     "metadata": {},
     "output_type": "display_data"
    },
    {
     "name": "stdout",
     "output_type": "stream",
     "text": [
      "Submitted to device in 24.8008 s\n"
     ]
    },
    {
     "data": {
      "application/vnd.jupyter.widget-view+json": {
       "model_id": "3743ef4fb36244818695b0bf48eb9f34",
       "version_major": 2,
       "version_minor": 0
      },
      "text/plain": [
       "Running batch:   0%|          | 0/1 [00:00<?, ?it/s]"
      ]
     },
     "metadata": {},
     "output_type": "display_data"
    },
    {
     "name": "stdout",
     "output_type": "stream",
     "text": [
      "Predicted in 291.1293 s\n",
      "Iters. done: 271 Current cost: 0.08821223929224095 Accuracy: 0.024835516862675266 Time: 316.02107179164886\n"
     ]
    },
    {
     "data": {
      "application/vnd.jupyter.widget-view+json": {
       "model_id": "f9898d2e12c747878c2b601b2cfb1d0c",
       "version_major": 2,
       "version_minor": 0
      },
      "text/plain": [
       "Mappings: 0it [00:00, ?it/s]"
      ]
     },
     "metadata": {},
     "output_type": "display_data"
    },
    {
     "name": "stdout",
     "output_type": "stream",
     "text": [
      "Submitted to device in 21.7402 s\n"
     ]
    },
    {
     "data": {
      "application/vnd.jupyter.widget-view+json": {
       "model_id": "48053fb3d3df4e5b8f8660b312a54822",
       "version_major": 2,
       "version_minor": 0
      },
      "text/plain": [
       "Running batch:   0%|          | 0/1 [00:00<?, ?it/s]"
      ]
     },
     "metadata": {},
     "output_type": "display_data"
    },
    {
     "name": "stdout",
     "output_type": "stream",
     "text": [
      "Predicted in 291.2258 s\n",
      "Iters. done: 272 Current cost: 0.08825883672308824 Accuracy: 0.024320393792086614 Time: 313.06352028623223\n"
     ]
    },
    {
     "data": {
      "application/vnd.jupyter.widget-view+json": {
       "model_id": "b0118e25afd3405eb865255ab3d09324",
       "version_major": 2,
       "version_minor": 0
      },
      "text/plain": [
       "Mappings: 0it [00:00, ?it/s]"
      ]
     },
     "metadata": {},
     "output_type": "display_data"
    },
    {
     "name": "stdout",
     "output_type": "stream",
     "text": [
      "Submitted to device in 21.7771 s\n"
     ]
    },
    {
     "data": {
      "application/vnd.jupyter.widget-view+json": {
       "model_id": "2d665d5e27114421a7286926f492da63",
       "version_major": 2,
       "version_minor": 0
      },
      "text/plain": [
       "Running batch:   0%|          | 0/1 [00:00<?, ?it/s]"
      ]
     },
     "metadata": {},
     "output_type": "display_data"
    },
    {
     "name": "stdout",
     "output_type": "stream",
     "text": [
      "Predicted in 292.5121 s\n",
      "Iters. done: 273 Current cost: 0.0884611958681581 Accuracy: 0.0220833635036205 Time: 314.3780396282673\n"
     ]
    },
    {
     "data": {
      "application/vnd.jupyter.widget-view+json": {
       "model_id": "59ec3c3324174882b1e125fe17e91c35",
       "version_major": 2,
       "version_minor": 0
      },
      "text/plain": [
       "Mappings: 0it [00:00, ?it/s]"
      ]
     },
     "metadata": {},
     "output_type": "display_data"
    },
    {
     "name": "stdout",
     "output_type": "stream",
     "text": [
      "Submitted to device in 19.3555 s\n"
     ]
    },
    {
     "data": {
      "application/vnd.jupyter.widget-view+json": {
       "model_id": "ca1aaf5f4d61406d85cf80a660c13654",
       "version_major": 2,
       "version_minor": 0
      },
      "text/plain": [
       "Running batch:   0%|          | 0/1 [00:00<?, ?it/s]"
      ]
     },
     "metadata": {},
     "output_type": "display_data"
    },
    {
     "name": "stdout",
     "output_type": "stream",
     "text": [
      "Predicted in 291.5308 s\n",
      "Iters. done: 274 Current cost: 0.08885831087768523 Accuracy: 0.017693355312935588 Time: 310.98574827611446\n"
     ]
    },
    {
     "data": {
      "application/vnd.jupyter.widget-view+json": {
       "model_id": "e5ea06d9d981426392069f8d8cbe977b",
       "version_major": 2,
       "version_minor": 0
      },
      "text/plain": [
       "Mappings: 0it [00:00, ?it/s]"
      ]
     },
     "metadata": {},
     "output_type": "display_data"
    },
    {
     "name": "stdout",
     "output_type": "stream",
     "text": [
      "Submitted to device in 19.1217 s\n"
     ]
    },
    {
     "data": {
      "application/vnd.jupyter.widget-view+json": {
       "model_id": "a323272e13bc43dda02b9a14103731b5",
       "version_major": 2,
       "version_minor": 0
      },
      "text/plain": [
       "Running batch:   0%|          | 0/1 [00:00<?, ?it/s]"
      ]
     },
     "metadata": {},
     "output_type": "display_data"
    },
    {
     "name": "stdout",
     "output_type": "stream",
     "text": [
      "Predicted in 290.7099 s\n",
      "Iters. done: 275 Current cost: 0.0906168983250703 Accuracy: -0.0017473938726697558 Time: 309.9190656580031\n"
     ]
    },
    {
     "data": {
      "application/vnd.jupyter.widget-view+json": {
       "model_id": "2cc97c8baf5d4549b96f59cd2e40a5f5",
       "version_major": 2,
       "version_minor": 0
      },
      "text/plain": [
       "Mappings: 0it [00:00, ?it/s]"
      ]
     },
     "metadata": {},
     "output_type": "display_data"
    },
    {
     "name": "stdout",
     "output_type": "stream",
     "text": [
      "Submitted to device in 21.6418 s\n"
     ]
    },
    {
     "data": {
      "application/vnd.jupyter.widget-view+json": {
       "model_id": "525de7a0fa814306bb052bcefbd596eb",
       "version_major": 2,
       "version_minor": 0
      },
      "text/plain": [
       "Running batch:   0%|          | 0/1 [00:00<?, ?it/s]"
      ]
     },
     "metadata": {},
     "output_type": "display_data"
    },
    {
     "name": "stdout",
     "output_type": "stream",
     "text": [
      "Predicted in 290.7670 s\n",
      "Iters. done: 276 Current cost: 0.09009117791164462 Accuracy: 0.004064315243279326 Time: 312.506514582783\n"
     ]
    },
    {
     "data": {
      "application/vnd.jupyter.widget-view+json": {
       "model_id": "bcdb56cf6b984b4cb4564cb44b9f0697",
       "version_major": 2,
       "version_minor": 0
      },
      "text/plain": [
       "Mappings: 0it [00:00, ?it/s]"
      ]
     },
     "metadata": {},
     "output_type": "display_data"
    },
    {
     "name": "stdout",
     "output_type": "stream",
     "text": [
      "Submitted to device in 20.8856 s\n"
     ]
    },
    {
     "data": {
      "application/vnd.jupyter.widget-view+json": {
       "model_id": "64bc6d3289174deaaa46fbe168bcce4b",
       "version_major": 2,
       "version_minor": 0
      },
      "text/plain": [
       "Running batch:   0%|          | 0/1 [00:00<?, ?it/s]"
      ]
     },
     "metadata": {},
     "output_type": "display_data"
    },
    {
     "name": "stdout",
     "output_type": "stream",
     "text": [
      "Predicted in 290.5800 s\n",
      "Iters. done: 277 Current cost: 0.08751613394557654 Accuracy: 0.03253078926518449 Time: 311.5531469248235\n"
     ]
    },
    {
     "data": {
      "application/vnd.jupyter.widget-view+json": {
       "model_id": "7b3c0672a4ae412890b0cdeedfeb67f4",
       "version_major": 2,
       "version_minor": 0
      },
      "text/plain": [
       "Mappings: 0it [00:00, ?it/s]"
      ]
     },
     "metadata": {},
     "output_type": "display_data"
    },
    {
     "name": "stdout",
     "output_type": "stream",
     "text": [
      "Submitted to device in 22.3479 s\n"
     ]
    },
    {
     "data": {
      "application/vnd.jupyter.widget-view+json": {
       "model_id": "afbd9a269d914d0db9ac20142b8db200",
       "version_major": 2,
       "version_minor": 0
      },
      "text/plain": [
       "Running batch:   0%|          | 0/1 [00:00<?, ?it/s]"
      ]
     },
     "metadata": {},
     "output_type": "display_data"
    },
    {
     "name": "stdout",
     "output_type": "stream",
     "text": [
      "Predicted in 292.4763 s\n",
      "Iters. done: 278 Current cost: 0.08795499448921831 Accuracy: 0.0276792945220119 Time: 314.90936386957765\n"
     ]
    },
    {
     "data": {
      "application/vnd.jupyter.widget-view+json": {
       "model_id": "b1b8fafecea44efd8d37bc385ad5938d",
       "version_major": 2,
       "version_minor": 0
      },
      "text/plain": [
       "Mappings: 0it [00:00, ?it/s]"
      ]
     },
     "metadata": {},
     "output_type": "display_data"
    },
    {
     "name": "stdout",
     "output_type": "stream",
     "text": [
      "Submitted to device in 20.4282 s\n"
     ]
    },
    {
     "data": {
      "application/vnd.jupyter.widget-view+json": {
       "model_id": "ac3ebafea3c64ef5a47b893dd5ac9ee8",
       "version_major": 2,
       "version_minor": 0
      },
      "text/plain": [
       "Running batch:   0%|          | 0/1 [00:00<?, ?it/s]"
      ]
     },
     "metadata": {},
     "output_type": "display_data"
    },
    {
     "name": "stdout",
     "output_type": "stream",
     "text": [
      "Predicted in 379.1390 s\n",
      "Iters. done: 279 Current cost: 0.09039369518003387 Accuracy: 0.0007200616789684311 Time: 399.65233229100704\n"
     ]
    },
    {
     "data": {
      "application/vnd.jupyter.widget-view+json": {
       "model_id": "1696954eb5194f2287ad97eb59188a0c",
       "version_major": 2,
       "version_minor": 0
      },
      "text/plain": [
       "Mappings: 0it [00:00, ?it/s]"
      ]
     },
     "metadata": {},
     "output_type": "display_data"
    },
    {
     "name": "stdout",
     "output_type": "stream",
     "text": [
      "Submitted to device in 34.4045 s\n"
     ]
    },
    {
     "data": {
      "application/vnd.jupyter.widget-view+json": {
       "model_id": "1f5fd3372e974c62a6f6d4fb12228503",
       "version_major": 2,
       "version_minor": 0
      },
      "text/plain": [
       "Running batch:   0%|          | 0/1 [00:00<?, ?it/s]"
      ]
     },
     "metadata": {},
     "output_type": "display_data"
    },
    {
     "name": "stdout",
     "output_type": "stream",
     "text": [
      "Predicted in 290.8049 s\n",
      "Iters. done: 280 Current cost: 0.08961119978067592 Accuracy: 0.009370354742545106 Time: 325.2993275485933\n"
     ]
    },
    {
     "data": {
      "application/vnd.jupyter.widget-view+json": {
       "model_id": "0a486a4833cb41bc9fc243a068f08469",
       "version_major": 2,
       "version_minor": 0
      },
      "text/plain": [
       "Mappings: 0it [00:00, ?it/s]"
      ]
     },
     "metadata": {},
     "output_type": "display_data"
    },
    {
     "name": "stdout",
     "output_type": "stream",
     "text": [
      "Submitted to device in 17.7640 s\n"
     ]
    },
    {
     "data": {
      "application/vnd.jupyter.widget-view+json": {
       "model_id": "01a21cc829fa43948d7b9d2125f0c699",
       "version_major": 2,
       "version_minor": 0
      },
      "text/plain": [
       "Running batch:   0%|          | 0/1 [00:00<?, ?it/s]"
      ]
     },
     "metadata": {},
     "output_type": "display_data"
    },
    {
     "name": "stdout",
     "output_type": "stream",
     "text": [
      "Predicted in 294.0249 s\n",
      "Iters. done: 281 Current cost: 0.08847371194877571 Accuracy: 0.021945001328662617 Time: 311.89724123105407\n"
     ]
    },
    {
     "data": {
      "application/vnd.jupyter.widget-view+json": {
       "model_id": "028ce7b6192e471a95220fb500569881",
       "version_major": 2,
       "version_minor": 0
      },
      "text/plain": [
       "Mappings: 0it [00:00, ?it/s]"
      ]
     },
     "metadata": {},
     "output_type": "display_data"
    },
    {
     "name": "stdout",
     "output_type": "stream",
     "text": [
      "Submitted to device in 19.6124 s\n"
     ]
    },
    {
     "data": {
      "application/vnd.jupyter.widget-view+json": {
       "model_id": "f0138827a5ce438fbf2419c66a0b177d",
       "version_major": 2,
       "version_minor": 0
      },
      "text/plain": [
       "Running batch:   0%|          | 0/1 [00:00<?, ?it/s]"
      ]
     },
     "metadata": {},
     "output_type": "display_data"
    },
    {
     "name": "stdout",
     "output_type": "stream",
     "text": [
      "Predicted in 294.5541 s\n",
      "Iters. done: 282 Current cost: 0.08881099727079649 Accuracy: 0.018216395532492546 Time: 314.2635694667697\n"
     ]
    },
    {
     "data": {
      "application/vnd.jupyter.widget-view+json": {
       "model_id": "402cfd0708484d16b70ffc9711b8925d",
       "version_major": 2,
       "version_minor": 0
      },
      "text/plain": [
       "Mappings: 0it [00:00, ?it/s]"
      ]
     },
     "metadata": {},
     "output_type": "display_data"
    },
    {
     "name": "stdout",
     "output_type": "stream",
     "text": [
      "Submitted to device in 17.8965 s\n"
     ]
    },
    {
     "data": {
      "application/vnd.jupyter.widget-view+json": {
       "model_id": "de6ced75acd24c6096cc21d2ee69a78e",
       "version_major": 2,
       "version_minor": 0
      },
      "text/plain": [
       "Running batch:   0%|          | 0/1 [00:00<?, ?it/s]"
      ]
     },
     "metadata": {},
     "output_type": "display_data"
    },
    {
     "name": "stdout",
     "output_type": "stream",
     "text": [
      "Predicted in 297.9977 s\n",
      "Iters. done: 283 Current cost: 0.08777799890271672 Accuracy: 0.02963593694502764 Time: 316.34614127501845\n"
     ]
    },
    {
     "data": {
      "application/vnd.jupyter.widget-view+json": {
       "model_id": "982b1fd9ce6a4b29b75f987eff5eecc2",
       "version_major": 2,
       "version_minor": 0
      },
      "text/plain": [
       "Mappings: 0it [00:00, ?it/s]"
      ]
     },
     "metadata": {},
     "output_type": "display_data"
    },
    {
     "name": "stdout",
     "output_type": "stream",
     "text": [
      "Submitted to device in 19.3654 s\n"
     ]
    },
    {
     "data": {
      "application/vnd.jupyter.widget-view+json": {
       "model_id": "e044a746f23047cca51db1b82a1474d7",
       "version_major": 2,
       "version_minor": 0
      },
      "text/plain": [
       "Running batch:   0%|          | 0/1 [00:00<?, ?it/s]"
      ]
     },
     "metadata": {},
     "output_type": "display_data"
    },
    {
     "name": "stdout",
     "output_type": "stream",
     "text": [
      "Predicted in 296.2915 s\n",
      "Iters. done: 284 Current cost: 0.0866822800855516 Accuracy: 0.04174883740620727 Time: 316.2539175115526\n"
     ]
    },
    {
     "data": {
      "application/vnd.jupyter.widget-view+json": {
       "model_id": "5847fec832be42b8837a94c9bdd15b16",
       "version_major": 2,
       "version_minor": 0
      },
      "text/plain": [
       "Mappings: 0it [00:00, ?it/s]"
      ]
     },
     "metadata": {},
     "output_type": "display_data"
    },
    {
     "name": "stdout",
     "output_type": "stream",
     "text": [
      "Submitted to device in 18.5256 s\n"
     ]
    },
    {
     "data": {
      "application/vnd.jupyter.widget-view+json": {
       "model_id": "7d054024d81c4da58e4a2bab7fe8d237",
       "version_major": 2,
       "version_minor": 0
      },
      "text/plain": [
       "Running batch:   0%|          | 0/1 [00:00<?, ?it/s]"
      ]
     },
     "metadata": {},
     "output_type": "display_data"
    },
    {
     "name": "stdout",
     "output_type": "stream",
     "text": [
      "Predicted in 341.9940 s\n",
      "Iters. done: 285 Current cost: 0.08886987452923159 Accuracy: 0.017565522005745238 Time: 360.6083876788616\n"
     ]
    },
    {
     "data": {
      "application/vnd.jupyter.widget-view+json": {
       "model_id": "2ed6a64a5e384a32be3d726ecd3467d1",
       "version_major": 2,
       "version_minor": 0
      },
      "text/plain": [
       "Mappings: 0it [00:00, ?it/s]"
      ]
     },
     "metadata": {},
     "output_type": "display_data"
    },
    {
     "name": "stdout",
     "output_type": "stream",
     "text": [
      "Submitted to device in 21.7923 s\n"
     ]
    },
    {
     "data": {
      "application/vnd.jupyter.widget-view+json": {
       "model_id": "d25ef07612cc4e539675894e9c2e8a74",
       "version_major": 2,
       "version_minor": 0
      },
      "text/plain": [
       "Running batch:   0%|          | 0/1 [00:00<?, ?it/s]"
      ]
     },
     "metadata": {},
     "output_type": "display_data"
    },
    {
     "name": "stdout",
     "output_type": "stream",
     "text": [
      "Predicted in 428.4360 s\n",
      "Iters. done: 286 Current cost: 0.08482995338912391 Accuracy: 0.06222585080045007 Time: 450.32724406570196\n"
     ]
    },
    {
     "data": {
      "application/vnd.jupyter.widget-view+json": {
       "model_id": "4242b395540f4a938ae46d7265de355d",
       "version_major": 2,
       "version_minor": 0
      },
      "text/plain": [
       "Mappings: 0it [00:00, ?it/s]"
      ]
     },
     "metadata": {},
     "output_type": "display_data"
    },
    {
     "name": "stdout",
     "output_type": "stream",
     "text": [
      "Submitted to device in 21.1527 s\n"
     ]
    },
    {
     "data": {
      "application/vnd.jupyter.widget-view+json": {
       "model_id": "423e44a5ba884ac89333c238b95e8d2d",
       "version_major": 2,
       "version_minor": 0
      },
      "text/plain": [
       "Running batch:   0%|          | 0/1 [00:00<?, ?it/s]"
      ]
     },
     "metadata": {},
     "output_type": "display_data"
    },
    {
     "name": "stdout",
     "output_type": "stream",
     "text": [
      "Predicted in 426.6396 s\n",
      "Iters. done: 287 Current cost: 0.08569814496432449 Accuracy: 0.05262820771273946 Time: 447.8635340668261\n"
     ]
    },
    {
     "data": {
      "application/vnd.jupyter.widget-view+json": {
       "model_id": "8ba34e87752a4c0bb3c661e4ac264c50",
       "version_major": 2,
       "version_minor": 0
      },
      "text/plain": [
       "Mappings: 0it [00:00, ?it/s]"
      ]
     },
     "metadata": {},
     "output_type": "display_data"
    },
    {
     "name": "stdout",
     "output_type": "stream",
     "text": [
      "Submitted to device in 20.6688 s\n"
     ]
    },
    {
     "data": {
      "application/vnd.jupyter.widget-view+json": {
       "model_id": "c8d057f244d448f98e04f80e7fcefa75",
       "version_major": 2,
       "version_minor": 0
      },
      "text/plain": [
       "Running batch:   0%|          | 0/1 [00:00<?, ?it/s]"
      ]
     },
     "metadata": {},
     "output_type": "display_data"
    },
    {
     "name": "stdout",
     "output_type": "stream",
     "text": [
      "Predicted in 413.9583 s\n",
      "Iters. done: 288 Current cost: 0.08401566631475185 Accuracy: 0.07122759296657688 Time: 434.7185280956328\n"
     ]
    },
    {
     "data": {
      "application/vnd.jupyter.widget-view+json": {
       "model_id": "9a9c9ef97ac143ebad5cdd9e51409f4a",
       "version_major": 2,
       "version_minor": 0
      },
      "text/plain": [
       "Mappings: 0it [00:00, ?it/s]"
      ]
     },
     "metadata": {},
     "output_type": "display_data"
    },
    {
     "name": "stdout",
     "output_type": "stream",
     "text": [
      "Submitted to device in 18.7165 s\n"
     ]
    },
    {
     "data": {
      "application/vnd.jupyter.widget-view+json": {
       "model_id": "093b6e73a5ca4d8dbd76791bb7a6d9e8",
       "version_major": 2,
       "version_minor": 0
      },
      "text/plain": [
       "Running batch:   0%|          | 0/1 [00:00<?, ?it/s]"
      ]
     },
     "metadata": {},
     "output_type": "display_data"
    },
    {
     "name": "stdout",
     "output_type": "stream",
     "text": [
      "Predicted in 334.1259 s\n",
      "Iters. done: 289 Current cost: 0.08245277805510201 Accuracy: 0.08850493604448784 Time: 352.9225592650473\n"
     ]
    },
    {
     "data": {
      "application/vnd.jupyter.widget-view+json": {
       "model_id": "6b9bca180de84ecd861e4307522f61b3",
       "version_major": 2,
       "version_minor": 0
      },
      "text/plain": [
       "Mappings: 0it [00:00, ?it/s]"
      ]
     },
     "metadata": {},
     "output_type": "display_data"
    },
    {
     "name": "stdout",
     "output_type": "stream",
     "text": [
      "Submitted to device in 23.5738 s\n"
     ]
    },
    {
     "data": {
      "application/vnd.jupyter.widget-view+json": {
       "model_id": "1804340d19094a1db3b5d88357f1d736",
       "version_major": 2,
       "version_minor": 0
      },
      "text/plain": [
       "Running batch:   0%|          | 0/1 [00:00<?, ?it/s]"
      ]
     },
     "metadata": {},
     "output_type": "display_data"
    },
    {
     "name": "stdout",
     "output_type": "stream",
     "text": [
      "Predicted in 290.9785 s\n",
      "Iters. done: 290 Current cost: 0.0846000597189108 Accuracy: 0.06476726845279202 Time: 314.6355869434774\n"
     ]
    },
    {
     "data": {
      "application/vnd.jupyter.widget-view+json": {
       "model_id": "173535fd419e4f6886db5cc5cee04bae",
       "version_major": 2,
       "version_minor": 0
      },
      "text/plain": [
       "Mappings: 0it [00:00, ?it/s]"
      ]
     },
     "metadata": {},
     "output_type": "display_data"
    },
    {
     "name": "stdout",
     "output_type": "stream",
     "text": [
      "Submitted to device in 18.1532 s\n"
     ]
    },
    {
     "data": {
      "application/vnd.jupyter.widget-view+json": {
       "model_id": "2d492305241248f4bc37804bf34c5a79",
       "version_major": 2,
       "version_minor": 0
      },
      "text/plain": [
       "Running batch:   0%|          | 0/1 [00:00<?, ?it/s]"
      ]
     },
     "metadata": {},
     "output_type": "display_data"
    },
    {
     "name": "stdout",
     "output_type": "stream",
     "text": [
      "Predicted in 294.0242 s\n",
      "Iters. done: 291 Current cost: 0.08508185907986558 Accuracy: 0.05944109570657208 Time: 312.26339058950543\n"
     ]
    },
    {
     "data": {
      "application/vnd.jupyter.widget-view+json": {
       "model_id": "b09b76b6b8dc4c4c95ae85aa8a800953",
       "version_major": 2,
       "version_minor": 0
      },
      "text/plain": [
       "Mappings: 0it [00:00, ?it/s]"
      ]
     },
     "metadata": {},
     "output_type": "display_data"
    },
    {
     "name": "stdout",
     "output_type": "stream",
     "text": [
      "Submitted to device in 22.0249 s\n"
     ]
    },
    {
     "data": {
      "application/vnd.jupyter.widget-view+json": {
       "model_id": "e1a194267eb14fd5b0858a6b04b5f093",
       "version_major": 2,
       "version_minor": 0
      },
      "text/plain": [
       "Running batch:   0%|          | 0/1 [00:00<?, ?it/s]"
      ]
     },
     "metadata": {},
     "output_type": "display_data"
    },
    {
     "name": "stdout",
     "output_type": "stream",
     "text": [
      "Predicted in 295.5137 s\n",
      "Iters. done: 292 Current cost: 0.08404526325094266 Accuracy: 0.07090040615877635 Time: 317.63613901659846\n"
     ]
    },
    {
     "data": {
      "application/vnd.jupyter.widget-view+json": {
       "model_id": "1c766518d0944d4c89a67cafa56dfb71",
       "version_major": 2,
       "version_minor": 0
      },
      "text/plain": [
       "Mappings: 0it [00:00, ?it/s]"
      ]
     },
     "metadata": {},
     "output_type": "display_data"
    },
    {
     "name": "stdout",
     "output_type": "stream",
     "text": [
      "Submitted to device in 19.7130 s\n"
     ]
    },
    {
     "data": {
      "application/vnd.jupyter.widget-view+json": {
       "model_id": "9d3129e4943049a487c4450794716ba6",
       "version_major": 2,
       "version_minor": 0
      },
      "text/plain": [
       "Running batch:   0%|          | 0/1 [00:00<?, ?it/s]"
      ]
     },
     "metadata": {},
     "output_type": "display_data"
    },
    {
     "name": "stdout",
     "output_type": "stream",
     "text": [
      "Predicted in 295.0972 s\n",
      "Iters. done: 293 Current cost: 0.08350796131562518 Accuracy: 0.07684014613416368 Time: 314.9098596908152\n"
     ]
    },
    {
     "data": {
      "application/vnd.jupyter.widget-view+json": {
       "model_id": "df8a6eb4c4f64bf5a3fae52a030409d6",
       "version_major": 2,
       "version_minor": 0
      },
      "text/plain": [
       "Mappings: 0it [00:00, ?it/s]"
      ]
     },
     "metadata": {},
     "output_type": "display_data"
    },
    {
     "name": "stdout",
     "output_type": "stream",
     "text": [
      "Submitted to device in 19.5887 s\n"
     ]
    },
    {
     "data": {
      "application/vnd.jupyter.widget-view+json": {
       "model_id": "48bede88e7264d2a9c9556f73f872902",
       "version_major": 2,
       "version_minor": 0
      },
      "text/plain": [
       "Running batch:   0%|          | 0/1 [00:00<?, ?it/s]"
      ]
     },
     "metadata": {},
     "output_type": "display_data"
    },
    {
     "name": "stdout",
     "output_type": "stream",
     "text": [
      "Predicted in 326.6603 s\n",
      "Iters. done: 294 Current cost: 0.0856417276461666 Accuracy: 0.05325188720827034 Time: 346.336083445698\n"
     ]
    },
    {
     "data": {
      "application/vnd.jupyter.widget-view+json": {
       "model_id": "28cb64b7fc2f435181c977152ea2dbc4",
       "version_major": 2,
       "version_minor": 0
      },
      "text/plain": [
       "Mappings: 0it [00:00, ?it/s]"
      ]
     },
     "metadata": {},
     "output_type": "display_data"
    },
    {
     "name": "stdout",
     "output_type": "stream",
     "text": [
      "Submitted to device in 23.8005 s\n"
     ]
    },
    {
     "data": {
      "application/vnd.jupyter.widget-view+json": {
       "model_id": "7ffbb2edb7c64a60a3a26b818de14a8a",
       "version_major": 2,
       "version_minor": 0
      },
      "text/plain": [
       "Running batch:   0%|          | 0/1 [00:00<?, ?it/s]"
      ]
     },
     "metadata": {},
     "output_type": "display_data"
    },
    {
     "name": "stdout",
     "output_type": "stream",
     "text": [
      "Predicted in 291.2410 s\n",
      "Iters. done: 295 Current cost: 0.08513424519684121 Accuracy: 0.05886198014285915 Time: 315.1306365430355\n"
     ]
    },
    {
     "data": {
      "application/vnd.jupyter.widget-view+json": {
       "model_id": "a976eacdff9a470c8efe17cb12112adc",
       "version_major": 2,
       "version_minor": 0
      },
      "text/plain": [
       "Mappings: 0it [00:00, ?it/s]"
      ]
     },
     "metadata": {},
     "output_type": "display_data"
    },
    {
     "name": "stdout",
     "output_type": "stream",
     "text": [
      "Submitted to device in 19.7477 s\n"
     ]
    },
    {
     "data": {
      "application/vnd.jupyter.widget-view+json": {
       "model_id": "f02a8bdd420d444c85ddb1a4928d154d",
       "version_major": 2,
       "version_minor": 0
      },
      "text/plain": [
       "Running batch:   0%|          | 0/1 [00:00<?, ?it/s]"
      ]
     },
     "metadata": {},
     "output_type": "display_data"
    },
    {
     "name": "stdout",
     "output_type": "stream",
     "text": [
      "Predicted in 294.0549 s\n",
      "Iters. done: 296 Current cost: 0.08253011400909077 Accuracy: 0.0876500062047687 Time: 313.88823690265417\n"
     ]
    },
    {
     "data": {
      "application/vnd.jupyter.widget-view+json": {
       "model_id": "a63a07bed29a417191a69e350e1ee245",
       "version_major": 2,
       "version_minor": 0
      },
      "text/plain": [
       "Mappings: 0it [00:00, ?it/s]"
      ]
     },
     "metadata": {},
     "output_type": "display_data"
    },
    {
     "name": "stdout",
     "output_type": "stream",
     "text": [
      "Submitted to device in 22.6869 s\n"
     ]
    },
    {
     "data": {
      "application/vnd.jupyter.widget-view+json": {
       "model_id": "4b7f3f7f6cd14afdad2d9f6164b7cccd",
       "version_major": 2,
       "version_minor": 0
      },
      "text/plain": [
       "Running batch:   0%|          | 0/1 [00:00<?, ?it/s]"
      ]
     },
     "metadata": {},
     "output_type": "display_data"
    },
    {
     "name": "stdout",
     "output_type": "stream",
     "text": [
      "Predicted in 297.6326 s\n",
      "Iters. done: 297 Current cost: 0.08575047291611684 Accuracy: 0.05204973515073841 Time: 320.4130990207195\n"
     ]
    },
    {
     "data": {
      "application/vnd.jupyter.widget-view+json": {
       "model_id": "201ca0dd065546b4a4fcd1194f27e479",
       "version_major": 2,
       "version_minor": 0
      },
      "text/plain": [
       "Mappings: 0it [00:00, ?it/s]"
      ]
     },
     "metadata": {},
     "output_type": "display_data"
    },
    {
     "name": "stdout",
     "output_type": "stream",
     "text": [
      "Submitted to device in 20.3510 s\n"
     ]
    },
    {
     "data": {
      "application/vnd.jupyter.widget-view+json": {
       "model_id": "3beec49c87244b52aef016a1f8a413be",
       "version_major": 2,
       "version_minor": 0
      },
      "text/plain": [
       "Running batch:   0%|          | 0/1 [00:00<?, ?it/s]"
      ]
     },
     "metadata": {},
     "output_type": "display_data"
    },
    {
     "name": "stdout",
     "output_type": "stream",
     "text": [
      "Predicted in 296.4236 s\n",
      "Iters. done: 298 Current cost: 0.0873181048508184 Accuracy: 0.03471995191863697 Time: 317.36507768556476\n"
     ]
    },
    {
     "data": {
      "application/vnd.jupyter.widget-view+json": {
       "model_id": "83a214604d3148529681a369e10006ba",
       "version_major": 2,
       "version_minor": 0
      },
      "text/plain": [
       "Mappings: 0it [00:00, ?it/s]"
      ]
     },
     "metadata": {},
     "output_type": "display_data"
    },
    {
     "name": "stdout",
     "output_type": "stream",
     "text": [
      "Submitted to device in 21.5349 s\n"
     ]
    },
    {
     "data": {
      "application/vnd.jupyter.widget-view+json": {
       "model_id": "5a066c93904e419eb36689dc26935f92",
       "version_major": 2,
       "version_minor": 0
      },
      "text/plain": [
       "Running batch:   0%|          | 0/1 [00:00<?, ?it/s]"
      ]
     },
     "metadata": {},
     "output_type": "display_data"
    },
    {
     "name": "stdout",
     "output_type": "stream",
     "text": [
      "Predicted in 293.5778 s\n",
      "Iters. done: 299 Current cost: 0.08478755194752087 Accuracy: 0.06269458824796137 Time: 315.20987200737\n"
     ]
    },
    {
     "data": {
      "application/vnd.jupyter.widget-view+json": {
       "model_id": "27fcaeca92144fb49bae121cb8b80e7c",
       "version_major": 2,
       "version_minor": 0
      },
      "text/plain": [
       "Mappings: 0it [00:00, ?it/s]"
      ]
     },
     "metadata": {},
     "output_type": "display_data"
    },
    {
     "name": "stdout",
     "output_type": "stream",
     "text": [
      "Submitted to device in 17.2908 s\n"
     ]
    },
    {
     "data": {
      "application/vnd.jupyter.widget-view+json": {
       "model_id": "c0f948db71f745529ae87d853c9180f1",
       "version_major": 2,
       "version_minor": 0
      },
      "text/plain": [
       "Running batch:   0%|          | 0/1 [00:00<?, ?it/s]"
      ]
     },
     "metadata": {},
     "output_type": "display_data"
    },
    {
     "name": "stdout",
     "output_type": "stream",
     "text": [
      "Predicted in 322.9881 s\n",
      "Iters. done: 300 Current cost: 0.08618091912571174 Accuracy: 0.04729125878888796 Time: 340.3795017041266\n"
     ]
    },
    {
     "data": {
      "application/vnd.jupyter.widget-view+json": {
       "model_id": "95d519dd3d2145139b1cf6f331b6e478",
       "version_major": 2,
       "version_minor": 0
      },
      "text/plain": [
       "Mappings: 0it [00:00, ?it/s]"
      ]
     },
     "metadata": {},
     "output_type": "display_data"
    },
    {
     "name": "stdout",
     "output_type": "stream",
     "text": [
      "Submitted to device in 22.7321 s\n"
     ]
    },
    {
     "data": {
      "application/vnd.jupyter.widget-view+json": {
       "model_id": "e0a2ce9187e7439dac242b0a80234ba2",
       "version_major": 2,
       "version_minor": 0
      },
      "text/plain": [
       "Running batch:   0%|          | 0/1 [00:00<?, ?it/s]"
      ]
     },
     "metadata": {},
     "output_type": "display_data"
    },
    {
     "name": "stdout",
     "output_type": "stream",
     "text": [
      "Predicted in 326.5376 s\n",
      "Iters. done: 301 Current cost: 0.08849055637875243 Accuracy: 0.021758790322301325 Time: 349.36086636409163\n"
     ]
    },
    {
     "data": {
      "application/vnd.jupyter.widget-view+json": {
       "model_id": "eb5e9877c2cf46f4bbd0452f152bfcac",
       "version_major": 2,
       "version_minor": 0
      },
      "text/plain": [
       "Mappings: 0it [00:00, ?it/s]"
      ]
     },
     "metadata": {},
     "output_type": "display_data"
    },
    {
     "name": "stdout",
     "output_type": "stream",
     "text": [
      "Submitted to device in 19.1883 s\n"
     ]
    },
    {
     "data": {
      "application/vnd.jupyter.widget-view+json": {
       "model_id": "0651161588d24eafa4503db37e6457d1",
       "version_major": 2,
       "version_minor": 0
      },
      "text/plain": [
       "Running batch:   0%|          | 0/1 [00:00<?, ?it/s]"
      ]
     },
     "metadata": {},
     "output_type": "display_data"
    },
    {
     "name": "stdout",
     "output_type": "stream",
     "text": [
      "Predicted in 297.0792 s\n",
      "Iters. done: 302 Current cost: 0.09101025097249489 Accuracy: -0.006095810081056863 Time: 316.8547264263034\n"
     ]
    },
    {
     "data": {
      "application/vnd.jupyter.widget-view+json": {
       "model_id": "0dbbf2f4467e4b12b2194c876785705f",
       "version_major": 2,
       "version_minor": 0
      },
      "text/plain": [
       "Mappings: 0it [00:00, ?it/s]"
      ]
     },
     "metadata": {},
     "output_type": "display_data"
    },
    {
     "name": "stdout",
     "output_type": "stream",
     "text": [
      "Submitted to device in 18.7155 s\n"
     ]
    },
    {
     "data": {
      "application/vnd.jupyter.widget-view+json": {
       "model_id": "84e20bd103f2409a9d3648ca56cfb6ea",
       "version_major": 2,
       "version_minor": 0
      },
      "text/plain": [
       "Running batch:   0%|          | 0/1 [00:00<?, ?it/s]"
      ]
     },
     "metadata": {},
     "output_type": "display_data"
    },
    {
     "name": "stdout",
     "output_type": "stream",
     "text": [
      "Predicted in 295.5239 s\n",
      "Iters. done: 303 Current cost: 0.08248706666063849 Accuracy: 0.08812588399271193 Time: 314.3293980360031\n"
     ]
    },
    {
     "data": {
      "application/vnd.jupyter.widget-view+json": {
       "model_id": "f457ffa70bad430db3ff8e9ea8ca3108",
       "version_major": 2,
       "version_minor": 0
      },
      "text/plain": [
       "Mappings: 0it [00:00, ?it/s]"
      ]
     },
     "metadata": {},
     "output_type": "display_data"
    },
    {
     "name": "stdout",
     "output_type": "stream",
     "text": [
      "Submitted to device in 19.5448 s\n"
     ]
    },
    {
     "data": {
      "application/vnd.jupyter.widget-view+json": {
       "model_id": "89f0acac32af478fb1924bf1a8cba607",
       "version_major": 2,
       "version_minor": 0
      },
      "text/plain": [
       "Running batch:   0%|          | 0/1 [00:00<?, ?it/s]"
      ]
     },
     "metadata": {},
     "output_type": "display_data"
    },
    {
     "name": "stdout",
     "output_type": "stream",
     "text": [
      "Predicted in 291.7061 s\n",
      "Iters. done: 304 Current cost: 0.0806378990357576 Accuracy: 0.10856797463250656 Time: 311.3477848507464\n"
     ]
    },
    {
     "data": {
      "application/vnd.jupyter.widget-view+json": {
       "model_id": "c0549bb9005a4e6d9d41104f1bc6a646",
       "version_major": 2,
       "version_minor": 0
      },
      "text/plain": [
       "Mappings: 0it [00:00, ?it/s]"
      ]
     },
     "metadata": {},
     "output_type": "display_data"
    },
    {
     "name": "stdout",
     "output_type": "stream",
     "text": [
      "Submitted to device in 21.0032 s\n"
     ]
    },
    {
     "data": {
      "application/vnd.jupyter.widget-view+json": {
       "model_id": "9f4045c555cb4130bbe664ce3e26302d",
       "version_major": 2,
       "version_minor": 0
      },
      "text/plain": [
       "Running batch:   0%|          | 0/1 [00:00<?, ?it/s]"
      ]
     },
     "metadata": {},
     "output_type": "display_data"
    },
    {
     "name": "stdout",
     "output_type": "stream",
     "text": [
      "Predicted in 292.1230 s\n",
      "Iters. done: 305 Current cost: 0.08358922115524714 Accuracy: 0.07594183870947346 Time: 313.2193511724472\n"
     ]
    },
    {
     "data": {
      "application/vnd.jupyter.widget-view+json": {
       "model_id": "b63d429e0d0f47ac8fdcc27451067556",
       "version_major": 2,
       "version_minor": 0
      },
      "text/plain": [
       "Mappings: 0it [00:00, ?it/s]"
      ]
     },
     "metadata": {},
     "output_type": "display_data"
    },
    {
     "name": "stdout",
     "output_type": "stream",
     "text": [
      "Submitted to device in 20.7526 s\n"
     ]
    },
    {
     "data": {
      "application/vnd.jupyter.widget-view+json": {
       "model_id": "67164234d4384772bd06f2a24ec6b7ee",
       "version_major": 2,
       "version_minor": 0
      },
      "text/plain": [
       "Running batch:   0%|          | 0/1 [00:00<?, ?it/s]"
      ]
     },
     "metadata": {},
     "output_type": "display_data"
    },
    {
     "name": "stdout",
     "output_type": "stream",
     "text": [
      "Predicted in 300.0503 s\n",
      "Iters. done: 306 Current cost: 0.09040194181810085 Accuracy: 0.0006288971352188533 Time: 320.8970632404089\n"
     ]
    },
    {
     "data": {
      "application/vnd.jupyter.widget-view+json": {
       "model_id": "d77c3cfe38e44e4d8ce0281c71cf0b22",
       "version_major": 2,
       "version_minor": 0
      },
      "text/plain": [
       "Mappings: 0it [00:00, ?it/s]"
      ]
     },
     "metadata": {},
     "output_type": "display_data"
    },
    {
     "name": "stdout",
     "output_type": "stream",
     "text": [
      "Submitted to device in 19.2802 s\n"
     ]
    },
    {
     "data": {
      "application/vnd.jupyter.widget-view+json": {
       "model_id": "a82748a6f3004e16840e166aa5935bc6",
       "version_major": 2,
       "version_minor": 0
      },
      "text/plain": [
       "Running batch:   0%|          | 0/1 [00:00<?, ?it/s]"
      ]
     },
     "metadata": {},
     "output_type": "display_data"
    },
    {
     "name": "stdout",
     "output_type": "stream",
     "text": [
      "Predicted in 292.9147 s\n",
      "Iters. done: 307 Current cost: 0.08305097069943339 Accuracy: 0.08189206434429896 Time: 312.2989823333919\n"
     ]
    },
    {
     "data": {
      "application/vnd.jupyter.widget-view+json": {
       "model_id": "a1c64713891d421a99a458880db71e48",
       "version_major": 2,
       "version_minor": 0
      },
      "text/plain": [
       "Mappings: 0it [00:00, ?it/s]"
      ]
     },
     "metadata": {},
     "output_type": "display_data"
    },
    {
     "name": "stdout",
     "output_type": "stream",
     "text": [
      "Submitted to device in 19.0669 s\n"
     ]
    },
    {
     "data": {
      "application/vnd.jupyter.widget-view+json": {
       "model_id": "eeb900b67396439fa822cb51ea2bf721",
       "version_major": 2,
       "version_minor": 0
      },
      "text/plain": [
       "Running batch:   0%|          | 0/1 [00:00<?, ?it/s]"
      ]
     },
     "metadata": {},
     "output_type": "display_data"
    },
    {
     "name": "stdout",
     "output_type": "stream",
     "text": [
      "Predicted in 293.2942 s\n",
      "Iters. done: 308 Current cost: 0.08525998671096492 Accuracy: 0.05747193881057722 Time: 312.4359847307205\n"
     ]
    },
    {
     "data": {
      "application/vnd.jupyter.widget-view+json": {
       "model_id": "097e5c4a15cc4f88975b9b13209b8f27",
       "version_major": 2,
       "version_minor": 0
      },
      "text/plain": [
       "Mappings: 0it [00:00, ?it/s]"
      ]
     },
     "metadata": {},
     "output_type": "display_data"
    },
    {
     "name": "stdout",
     "output_type": "stream",
     "text": [
      "Submitted to device in 22.1737 s\n"
     ]
    },
    {
     "data": {
      "application/vnd.jupyter.widget-view+json": {
       "model_id": "3741f8c4570f4c4ab34308f47a8b5547",
       "version_major": 2,
       "version_minor": 0
      },
      "text/plain": [
       "Running batch:   0%|          | 0/1 [00:00<?, ?it/s]"
      ]
     },
     "metadata": {},
     "output_type": "display_data"
    },
    {
     "name": "stdout",
     "output_type": "stream",
     "text": [
      "Predicted in 291.0063 s\n",
      "Iters. done: 309 Current cost: 0.0879782848426833 Accuracy: 0.027421825426101942 Time: 313.2627589292824\n"
     ]
    },
    {
     "data": {
      "application/vnd.jupyter.widget-view+json": {
       "model_id": "33baaaeeb87149d48505ff84ecd2c8e4",
       "version_major": 2,
       "version_minor": 0
      },
      "text/plain": [
       "Mappings: 0it [00:00, ?it/s]"
      ]
     },
     "metadata": {},
     "output_type": "display_data"
    },
    {
     "name": "stdout",
     "output_type": "stream",
     "text": [
      "Submitted to device in 20.6971 s\n"
     ]
    },
    {
     "data": {
      "application/vnd.jupyter.widget-view+json": {
       "model_id": "c139f71a6c3e485c9df2b7cceca38aa3",
       "version_major": 2,
       "version_minor": 0
      },
      "text/plain": [
       "Running batch:   0%|          | 0/1 [00:00<?, ?it/s]"
      ]
     },
     "metadata": {},
     "output_type": "display_data"
    },
    {
     "name": "stdout",
     "output_type": "stream",
     "text": [
      "Predicted in 295.1553 s\n",
      "Iters. done: 310 Current cost: 0.08681178643743415 Accuracy: 0.04031717672385948 Time: 315.94617641344666\n"
     ]
    },
    {
     "data": {
      "application/vnd.jupyter.widget-view+json": {
       "model_id": "00e6ab41f5f1450fb9144b168d8ed891",
       "version_major": 2,
       "version_minor": 0
      },
      "text/plain": [
       "Mappings: 0it [00:00, ?it/s]"
      ]
     },
     "metadata": {},
     "output_type": "display_data"
    },
    {
     "name": "stdout",
     "output_type": "stream",
     "text": [
      "Submitted to device in 20.2669 s\n"
     ]
    },
    {
     "data": {
      "application/vnd.jupyter.widget-view+json": {
       "model_id": "a80746a9f1ca409cb312b29d41a7c951",
       "version_major": 2,
       "version_minor": 0
      },
      "text/plain": [
       "Running batch:   0%|          | 0/1 [00:00<?, ?it/s]"
      ]
     },
     "metadata": {},
     "output_type": "display_data"
    },
    {
     "name": "stdout",
     "output_type": "stream",
     "text": [
      "Predicted in 295.3116 s\n",
      "Iters. done: 311 Current cost: 0.08536482271882857 Accuracy: 0.056313002678326396 Time: 315.6633089594543\n"
     ]
    },
    {
     "data": {
      "application/vnd.jupyter.widget-view+json": {
       "model_id": "e75885e15060481ba314bdeaa3cc28db",
       "version_major": 2,
       "version_minor": 0
      },
      "text/plain": [
       "Mappings: 0it [00:00, ?it/s]"
      ]
     },
     "metadata": {},
     "output_type": "display_data"
    },
    {
     "name": "stdout",
     "output_type": "stream",
     "text": [
      "Submitted to device in 20.0148 s\n"
     ]
    },
    {
     "data": {
      "application/vnd.jupyter.widget-view+json": {
       "model_id": "7768493fdaa040c78032b7f581c7afea",
       "version_major": 2,
       "version_minor": 0
      },
      "text/plain": [
       "Running batch:   0%|          | 0/1 [00:00<?, ?it/s]"
      ]
     },
     "metadata": {},
     "output_type": "display_data"
    },
    {
     "name": "stdout",
     "output_type": "stream",
     "text": [
      "Predicted in 290.9768 s\n",
      "Iters. done: 312 Current cost: 0.08880746122761556 Accuracy: 0.018255485615099487 Time: 311.0882163606584\n"
     ]
    },
    {
     "data": {
      "application/vnd.jupyter.widget-view+json": {
       "model_id": "fce2136808474623b60dc4c2d179d729",
       "version_major": 2,
       "version_minor": 0
      },
      "text/plain": [
       "Mappings: 0it [00:00, ?it/s]"
      ]
     },
     "metadata": {},
     "output_type": "display_data"
    },
    {
     "name": "stdout",
     "output_type": "stream",
     "text": [
      "Submitted to device in 19.1282 s\n"
     ]
    },
    {
     "data": {
      "application/vnd.jupyter.widget-view+json": {
       "model_id": "51a419718e134947b4ef70c2fc11979f",
       "version_major": 2,
       "version_minor": 0
      },
      "text/plain": [
       "Running batch:   0%|          | 0/1 [00:00<?, ?it/s]"
      ]
     },
     "metadata": {},
     "output_type": "display_data"
    },
    {
     "name": "stdout",
     "output_type": "stream",
     "text": [
      "Predicted in 374.1642 s\n",
      "Iters. done: 313 Current cost: 0.09173603762674273 Accuracy: -0.01411920199623995 Time: 393.88936991617084\n"
     ]
    },
    {
     "data": {
      "application/vnd.jupyter.widget-view+json": {
       "model_id": "aa9b341cbb79431cadebfac1de8ae3f8",
       "version_major": 2,
       "version_minor": 0
      },
      "text/plain": [
       "Mappings: 0it [00:00, ?it/s]"
      ]
     },
     "metadata": {},
     "output_type": "display_data"
    },
    {
     "name": "stdout",
     "output_type": "stream",
     "text": [
      "Submitted to device in 20.5389 s\n"
     ]
    },
    {
     "data": {
      "application/vnd.jupyter.widget-view+json": {
       "model_id": "ddf8c6b0b151413fac4056e62e1e699c",
       "version_major": 2,
       "version_minor": 0
      },
      "text/plain": [
       "Running batch:   0%|          | 0/1 [00:00<?, ?it/s]"
      ]
     },
     "metadata": {},
     "output_type": "display_data"
    },
    {
     "name": "stdout",
     "output_type": "stream",
     "text": [
      "Predicted in 292.4491 s\n",
      "Iters. done: 314 Current cost: 0.08981997184852177 Accuracy: 0.007062431179240658 Time: 313.07456781715155\n"
     ]
    },
    {
     "data": {
      "application/vnd.jupyter.widget-view+json": {
       "model_id": "78bbf0110d1741f7a59a43f6ff71b7a3",
       "version_major": 2,
       "version_minor": 0
      },
      "text/plain": [
       "Mappings: 0it [00:00, ?it/s]"
      ]
     },
     "metadata": {},
     "output_type": "display_data"
    },
    {
     "name": "stdout",
     "output_type": "stream",
     "text": [
      "Submitted to device in 20.0435 s\n"
     ]
    },
    {
     "data": {
      "application/vnd.jupyter.widget-view+json": {
       "model_id": "2a2c940b35ed490d9cedbbe1c236f92b",
       "version_major": 2,
       "version_minor": 0
      },
      "text/plain": [
       "Running batch:   0%|          | 0/1 [00:00<?, ?it/s]"
      ]
     },
     "metadata": {},
     "output_type": "display_data"
    },
    {
     "name": "stdout",
     "output_type": "stream",
     "text": [
      "Predicted in 290.1382 s\n",
      "Iters. done: 315 Current cost: 0.08972539336976967 Accuracy: 0.008107972864705104 Time: 310.2725571244955\n"
     ]
    },
    {
     "data": {
      "application/vnd.jupyter.widget-view+json": {
       "model_id": "9b3823023d1a417a91c0a0340097055a",
       "version_major": 2,
       "version_minor": 0
      },
      "text/plain": [
       "Mappings: 0it [00:00, ?it/s]"
      ]
     },
     "metadata": {},
     "output_type": "display_data"
    },
    {
     "name": "stdout",
     "output_type": "stream",
     "text": [
      "Submitted to device in 19.5620 s\n"
     ]
    },
    {
     "data": {
      "application/vnd.jupyter.widget-view+json": {
       "model_id": "fc6a2f2ebe0d4cc4b7a74532ce2c4c1d",
       "version_major": 2,
       "version_minor": 0
      },
      "text/plain": [
       "Running batch:   0%|          | 0/1 [00:00<?, ?it/s]"
      ]
     },
     "metadata": {},
     "output_type": "display_data"
    },
    {
     "name": "stdout",
     "output_type": "stream",
     "text": [
      "Predicted in 293.2736 s\n",
      "Iters. done: 316 Current cost: 0.09080195861810439 Accuracy: -0.003793189631328131 Time: 312.9249052926898\n"
     ]
    },
    {
     "data": {
      "application/vnd.jupyter.widget-view+json": {
       "model_id": "edfdf1a0ceb84424be05a8bfc7a6d966",
       "version_major": 2,
       "version_minor": 0
      },
      "text/plain": [
       "Mappings: 0it [00:00, ?it/s]"
      ]
     },
     "metadata": {},
     "output_type": "display_data"
    },
    {
     "name": "stdout",
     "output_type": "stream",
     "text": [
      "Submitted to device in 21.8994 s\n"
     ]
    },
    {
     "data": {
      "application/vnd.jupyter.widget-view+json": {
       "model_id": "e3bef643dfdf4bb090646c86fd34b46c",
       "version_major": 2,
       "version_minor": 0
      },
      "text/plain": [
       "Running batch:   0%|          | 0/1 [00:00<?, ?it/s]"
      ]
     },
     "metadata": {},
     "output_type": "display_data"
    },
    {
     "name": "stdout",
     "output_type": "stream",
     "text": [
      "Predicted in 289.9472 s\n",
      "Iters. done: 317 Current cost: 0.09002009583207983 Accuracy: 0.00485011004834579 Time: 311.9345913529396\n"
     ]
    },
    {
     "data": {
      "application/vnd.jupyter.widget-view+json": {
       "model_id": "22a9b629ac7443b18533badb185707c2",
       "version_major": 2,
       "version_minor": 0
      },
      "text/plain": [
       "Mappings: 0it [00:00, ?it/s]"
      ]
     },
     "metadata": {},
     "output_type": "display_data"
    },
    {
     "name": "stdout",
     "output_type": "stream",
     "text": [
      "Submitted to device in 19.2717 s\n"
     ]
    },
    {
     "data": {
      "application/vnd.jupyter.widget-view+json": {
       "model_id": "0ca1066c54ee4e139feaa94e70f6789f",
       "version_major": 2,
       "version_minor": 0
      },
      "text/plain": [
       "Running batch:   0%|          | 0/1 [00:00<?, ?it/s]"
      ]
     },
     "metadata": {},
     "output_type": "display_data"
    },
    {
     "name": "stdout",
     "output_type": "stream",
     "text": [
      "Predicted in 294.3141 s\n",
      "Iters. done: 318 Current cost: 0.0880545010366438 Accuracy: 0.026579274256485097 Time: 313.6797441802919\n"
     ]
    },
    {
     "data": {
      "application/vnd.jupyter.widget-view+json": {
       "model_id": "4300a30f2ae04af5b878a43c684b40ad",
       "version_major": 2,
       "version_minor": 0
      },
      "text/plain": [
       "Mappings: 0it [00:00, ?it/s]"
      ]
     },
     "metadata": {},
     "output_type": "display_data"
    },
    {
     "name": "stdout",
     "output_type": "stream",
     "text": [
      "Submitted to device in 17.2291 s\n"
     ]
    },
    {
     "data": {
      "application/vnd.jupyter.widget-view+json": {
       "model_id": "dd52cba0a8ec4f4d982fe60bc969192e",
       "version_major": 2,
       "version_minor": 0
      },
      "text/plain": [
       "Running batch:   0%|          | 0/1 [00:00<?, ?it/s]"
      ]
     },
     "metadata": {},
     "output_type": "display_data"
    },
    {
     "name": "stdout",
     "output_type": "stream",
     "text": [
      "Predicted in 375.0604 s\n",
      "Iters. done: 319 Current cost: 0.08711744489383558 Accuracy: 0.036938198103151576 Time: 392.37647503986955\n"
     ]
    },
    {
     "data": {
      "application/vnd.jupyter.widget-view+json": {
       "model_id": "0f67e170dd2d4e64b7d03a130a30b752",
       "version_major": 2,
       "version_minor": 0
      },
      "text/plain": [
       "Mappings: 0it [00:00, ?it/s]"
      ]
     },
     "metadata": {},
     "output_type": "display_data"
    },
    {
     "name": "stdout",
     "output_type": "stream",
     "text": [
      "Submitted to device in 20.0622 s\n"
     ]
    },
    {
     "data": {
      "application/vnd.jupyter.widget-view+json": {
       "model_id": "601d34f0f74943d8afba428223afeaa6",
       "version_major": 2,
       "version_minor": 0
      },
      "text/plain": [
       "Running batch:   0%|          | 0/1 [00:00<?, ?it/s]"
      ]
     },
     "metadata": {},
     "output_type": "display_data"
    },
    {
     "name": "stdout",
     "output_type": "stream",
     "text": [
      "Predicted in 299.4544 s\n",
      "Iters. done: 320 Current cost: 0.09061907978823529 Accuracy: -0.001771509408301064 Time: 319.60347536578774\n"
     ]
    },
    {
     "data": {
      "application/vnd.jupyter.widget-view+json": {
       "model_id": "08ff235586804fc4b60d01f5e377e9ad",
       "version_major": 2,
       "version_minor": 0
      },
      "text/plain": [
       "Mappings: 0it [00:00, ?it/s]"
      ]
     },
     "metadata": {},
     "output_type": "display_data"
    },
    {
     "name": "stdout",
     "output_type": "stream",
     "text": [
      "Submitted to device in 19.2316 s\n"
     ]
    },
    {
     "data": {
      "application/vnd.jupyter.widget-view+json": {
       "model_id": "e117c5c4efc245fca98c7d24b831d123",
       "version_major": 2,
       "version_minor": 0
      },
      "text/plain": [
       "Running batch:   0%|          | 0/1 [00:00<?, ?it/s]"
      ]
     },
     "metadata": {},
     "output_type": "display_data"
    },
    {
     "name": "stdout",
     "output_type": "stream",
     "text": [
      "Predicted in 295.9380 s\n",
      "Iters. done: 321 Current cost: 0.09072970556641176 Accuracy: -0.002994450019067285 Time: 315.2692171484232\n"
     ]
    },
    {
     "data": {
      "application/vnd.jupyter.widget-view+json": {
       "model_id": "3332e9aa498d496e896c7a0a2c185caa",
       "version_major": 2,
       "version_minor": 0
      },
      "text/plain": [
       "Mappings: 0it [00:00, ?it/s]"
      ]
     },
     "metadata": {},
     "output_type": "display_data"
    },
    {
     "name": "stdout",
     "output_type": "stream",
     "text": [
      "Submitted to device in 21.9812 s\n"
     ]
    },
    {
     "data": {
      "application/vnd.jupyter.widget-view+json": {
       "model_id": "6b5adb74201a4305b3ed519bee9ac361",
       "version_major": 2,
       "version_minor": 0
      },
      "text/plain": [
       "Running batch:   0%|          | 0/1 [00:00<?, ?it/s]"
      ]
     },
     "metadata": {},
     "output_type": "display_data"
    },
    {
     "name": "stdout",
     "output_type": "stream",
     "text": [
      "Predicted in 292.8889 s\n",
      "Iters. done: 322 Current cost: 0.08787045239946804 Accuracy: 0.028613886409896594 Time: 314.9536560587585\n"
     ]
    },
    {
     "data": {
      "application/vnd.jupyter.widget-view+json": {
       "model_id": "3a2e4c8d10304f9eac6d8f8364e04080",
       "version_major": 2,
       "version_minor": 0
      },
      "text/plain": [
       "Mappings: 0it [00:00, ?it/s]"
      ]
     },
     "metadata": {},
     "output_type": "display_data"
    },
    {
     "name": "stdout",
     "output_type": "stream",
     "text": [
      "Submitted to device in 22.7834 s\n"
     ]
    },
    {
     "data": {
      "application/vnd.jupyter.widget-view+json": {
       "model_id": "68eb2664e6234ca78120c3a3a7e6200d",
       "version_major": 2,
       "version_minor": 0
      },
      "text/plain": [
       "Running batch:   0%|          | 0/1 [00:00<?, ?it/s]"
      ]
     },
     "metadata": {},
     "output_type": "display_data"
    },
    {
     "name": "stdout",
     "output_type": "stream",
     "text": [
      "Predicted in 292.1669 s\n",
      "Iters. done: 323 Current cost: 0.08755557782506185 Accuracy: 0.032094746935233176 Time: 315.04608960077167\n"
     ]
    },
    {
     "data": {
      "application/vnd.jupyter.widget-view+json": {
       "model_id": "1d4dce380497411498256c3db3810e0e",
       "version_major": 2,
       "version_minor": 0
      },
      "text/plain": [
       "Mappings: 0it [00:00, ?it/s]"
      ]
     },
     "metadata": {},
     "output_type": "display_data"
    },
    {
     "name": "stdout",
     "output_type": "stream",
     "text": [
      "Submitted to device in 19.3912 s\n"
     ]
    },
    {
     "data": {
      "application/vnd.jupyter.widget-view+json": {
       "model_id": "1bb7f7f609b943599986a37ed55cc282",
       "version_major": 2,
       "version_minor": 0
      },
      "text/plain": [
       "Running batch:   0%|          | 0/1 [00:00<?, ?it/s]"
      ]
     },
     "metadata": {},
     "output_type": "display_data"
    },
    {
     "name": "stdout",
     "output_type": "stream",
     "text": [
      "Predicted in 292.1863 s\n",
      "Iters. done: 324 Current cost: 0.08898260998355255 Accuracy: 0.01631925944710033 Time: 312.1645032428205\n"
     ]
    },
    {
     "data": {
      "application/vnd.jupyter.widget-view+json": {
       "model_id": "226dc1b932ae41a3ac77533062f15a84",
       "version_major": 2,
       "version_minor": 0
      },
      "text/plain": [
       "Mappings: 0it [00:00, ?it/s]"
      ]
     },
     "metadata": {},
     "output_type": "display_data"
    },
    {
     "name": "stdout",
     "output_type": "stream",
     "text": [
      "Submitted to device in 21.1485 s\n"
     ]
    },
    {
     "data": {
      "application/vnd.jupyter.widget-view+json": {
       "model_id": "3ec2109bcabc49d6b7082de3d0c29811",
       "version_major": 2,
       "version_minor": 0
      },
      "text/plain": [
       "Running batch:   0%|          | 0/1 [00:00<?, ?it/s]"
      ]
     },
     "metadata": {},
     "output_type": "display_data"
    },
    {
     "name": "stdout",
     "output_type": "stream",
     "text": [
      "Predicted in 291.9977 s\n",
      "Iters. done: 325 Current cost: 0.0886289305533963 Accuracy: 0.02022909805307893 Time: 313.23667028173804\n"
     ]
    },
    {
     "data": {
      "application/vnd.jupyter.widget-view+json": {
       "model_id": "2e1fbf1792054a759519681a64501104",
       "version_major": 2,
       "version_minor": 0
      },
      "text/plain": [
       "Mappings: 0it [00:00, ?it/s]"
      ]
     },
     "metadata": {},
     "output_type": "display_data"
    },
    {
     "name": "stdout",
     "output_type": "stream",
     "text": [
      "Submitted to device in 18.7932 s\n"
     ]
    },
    {
     "data": {
      "application/vnd.jupyter.widget-view+json": {
       "model_id": "9a5c02ddff884e32a0ce1c92555b80ce",
       "version_major": 2,
       "version_minor": 0
      },
      "text/plain": [
       "Running batch:   0%|          | 0/1 [00:00<?, ?it/s]"
      ]
     },
     "metadata": {},
     "output_type": "display_data"
    },
    {
     "name": "stdout",
     "output_type": "stream",
     "text": [
      "Predicted in 292.4684 s\n",
      "Iters. done: 326 Current cost: 0.08957139314177603 Accuracy: 0.009810407288084022 Time: 311.35896475985646\n"
     ]
    },
    {
     "data": {
      "application/vnd.jupyter.widget-view+json": {
       "model_id": "2dd012d827bd4138adc67b7e1cb012bc",
       "version_major": 2,
       "version_minor": 0
      },
      "text/plain": [
       "Mappings: 0it [00:00, ?it/s]"
      ]
     },
     "metadata": {},
     "output_type": "display_data"
    },
    {
     "name": "stdout",
     "output_type": "stream",
     "text": [
      "Submitted to device in 20.3706 s\n"
     ]
    },
    {
     "data": {
      "application/vnd.jupyter.widget-view+json": {
       "model_id": "7de3be8622574fc6b3651c1ee0992f7e",
       "version_major": 2,
       "version_minor": 0
      },
      "text/plain": [
       "Running batch:   0%|          | 0/1 [00:00<?, ?it/s]"
      ]
     },
     "metadata": {},
     "output_type": "display_data"
    },
    {
     "name": "stdout",
     "output_type": "stream",
     "text": [
      "Predicted in 292.5124 s\n",
      "Iters. done: 327 Current cost: 0.0891818235453058 Accuracy: 0.014117002804034495 Time: 312.97643012180924\n"
     ]
    },
    {
     "data": {
      "application/vnd.jupyter.widget-view+json": {
       "model_id": "2f1a178c9bb948b79ad82a0fea1bdbf3",
       "version_major": 2,
       "version_minor": 0
      },
      "text/plain": [
       "Mappings: 0it [00:00, ?it/s]"
      ]
     },
     "metadata": {},
     "output_type": "display_data"
    },
    {
     "name": "stdout",
     "output_type": "stream",
     "text": [
      "Submitted to device in 20.1919 s\n"
     ]
    },
    {
     "data": {
      "application/vnd.jupyter.widget-view+json": {
       "model_id": "1ebb88261ddd4822a15721ec2546156d",
       "version_major": 2,
       "version_minor": 0
      },
      "text/plain": [
       "Running batch:   0%|          | 0/1 [00:00<?, ?it/s]"
      ]
     },
     "metadata": {},
     "output_type": "display_data"
    },
    {
     "name": "stdout",
     "output_type": "stream",
     "text": [
      "Predicted in 291.5239 s\n",
      "Iters. done: 328 Current cost: 0.08678210610157644 Accuracy: 0.04064528549434587 Time: 311.8032250292599\n"
     ]
    },
    {
     "data": {
      "application/vnd.jupyter.widget-view+json": {
       "model_id": "f28e858c54f34772ac968c4aa1ba7eb4",
       "version_major": 2,
       "version_minor": 0
      },
      "text/plain": [
       "Mappings: 0it [00:00, ?it/s]"
      ]
     },
     "metadata": {},
     "output_type": "display_data"
    },
    {
     "name": "stdout",
     "output_type": "stream",
     "text": [
      "Submitted to device in 18.3579 s\n"
     ]
    },
    {
     "data": {
      "application/vnd.jupyter.widget-view+json": {
       "model_id": "ff62aa328072411183d42e73c1662447",
       "version_major": 2,
       "version_minor": 0
      },
      "text/plain": [
       "Running batch:   0%|          | 0/1 [00:00<?, ?it/s]"
      ]
     },
     "metadata": {},
     "output_type": "display_data"
    },
    {
     "name": "stdout",
     "output_type": "stream",
     "text": [
      "Predicted in 293.4598 s\n",
      "Iters. done: 329 Current cost: 0.08821215776255442 Accuracy: 0.02483641815319071 Time: 311.9067120179534\n"
     ]
    },
    {
     "data": {
      "application/vnd.jupyter.widget-view+json": {
       "model_id": "998b9a26634446489178644022b97982",
       "version_major": 2,
       "version_minor": 0
      },
      "text/plain": [
       "Mappings: 0it [00:00, ?it/s]"
      ]
     },
     "metadata": {},
     "output_type": "display_data"
    },
    {
     "name": "stdout",
     "output_type": "stream",
     "text": [
      "Submitted to device in 22.3906 s\n"
     ]
    },
    {
     "data": {
      "application/vnd.jupyter.widget-view+json": {
       "model_id": "a9d96f1934cb4b90a64b37a16ac48303",
       "version_major": 2,
       "version_minor": 0
      },
      "text/plain": [
       "Running batch:   0%|          | 0/1 [00:00<?, ?it/s]"
      ]
     },
     "metadata": {},
     "output_type": "display_data"
    },
    {
     "name": "stdout",
     "output_type": "stream",
     "text": [
      "Predicted in 303.6905 s\n",
      "Iters. done: 330 Current cost: 0.08641702282984605 Accuracy: 0.04468119074780608 Time: 326.17274620756507\n"
     ]
    },
    {
     "data": {
      "application/vnd.jupyter.widget-view+json": {
       "model_id": "cfb97d39d68b427b98ee588043166186",
       "version_major": 2,
       "version_minor": 0
      },
      "text/plain": [
       "Mappings: 0it [00:00, ?it/s]"
      ]
     },
     "metadata": {},
     "output_type": "display_data"
    },
    {
     "name": "stdout",
     "output_type": "stream",
     "text": [
      "Submitted to device in 24.5470 s\n"
     ]
    },
    {
     "data": {
      "application/vnd.jupyter.widget-view+json": {
       "model_id": "ac2086a470f54eda83a2da8a3ccd4291",
       "version_major": 2,
       "version_minor": 0
      },
      "text/plain": [
       "Running batch:   0%|          | 0/1 [00:00<?, ?it/s]"
      ]
     },
     "metadata": {},
     "output_type": "display_data"
    },
    {
     "name": "stdout",
     "output_type": "stream",
     "text": [
      "Predicted in 294.4290 s\n",
      "Iters. done: 331 Current cost: 0.08859555090319175 Accuracy: 0.020598101828520732 Time: 319.06296587735415\n"
     ]
    },
    {
     "data": {
      "application/vnd.jupyter.widget-view+json": {
       "model_id": "3dd7144e86b745948385732abf3d3392",
       "version_major": 2,
       "version_minor": 0
      },
      "text/plain": [
       "Mappings: 0it [00:00, ?it/s]"
      ]
     },
     "metadata": {},
     "output_type": "display_data"
    },
    {
     "name": "stdout",
     "output_type": "stream",
     "text": [
      "Submitted to device in 22.0208 s\n"
     ]
    },
    {
     "data": {
      "application/vnd.jupyter.widget-view+json": {
       "model_id": "0c1b361465b54cb485cccaaaac648aac",
       "version_major": 2,
       "version_minor": 0
      },
      "text/plain": [
       "Running batch:   0%|          | 0/1 [00:00<?, ?it/s]"
      ]
     },
     "metadata": {},
     "output_type": "display_data"
    },
    {
     "name": "stdout",
     "output_type": "stream",
     "text": [
      "Predicted in 291.5133 s\n",
      "Iters. done: 332 Current cost: 0.08688526482824036 Accuracy: 0.03950489129082668 Time: 313.63818426430225\n"
     ]
    },
    {
     "data": {
      "application/vnd.jupyter.widget-view+json": {
       "model_id": "7dfeda9ce38b4b04a5eb45320a9e88f3",
       "version_major": 2,
       "version_minor": 0
      },
      "text/plain": [
       "Mappings: 0it [00:00, ?it/s]"
      ]
     },
     "metadata": {},
     "output_type": "display_data"
    },
    {
     "name": "stdout",
     "output_type": "stream",
     "text": [
      "Submitted to device in 18.9337 s\n"
     ]
    },
    {
     "data": {
      "application/vnd.jupyter.widget-view+json": {
       "model_id": "fbee8034edab4169870a7ea533cdeda9",
       "version_major": 2,
       "version_minor": 0
      },
      "text/plain": [
       "Running batch:   0%|          | 0/1 [00:00<?, ?it/s]"
      ]
     },
     "metadata": {},
     "output_type": "display_data"
    },
    {
     "name": "stdout",
     "output_type": "stream",
     "text": [
      "Predicted in 311.6693 s\n",
      "Iters. done: 333 Current cost: 0.08916563836907722 Accuracy: 0.014295925923298425 Time: 331.20840315148234\n"
     ]
    },
    {
     "data": {
      "application/vnd.jupyter.widget-view+json": {
       "model_id": "a32d8711d5184612a0df254fbb9cc5de",
       "version_major": 2,
       "version_minor": 0
      },
      "text/plain": [
       "Mappings: 0it [00:00, ?it/s]"
      ]
     },
     "metadata": {},
     "output_type": "display_data"
    },
    {
     "name": "stdout",
     "output_type": "stream",
     "text": [
      "Submitted to device in 23.2102 s\n"
     ]
    },
    {
     "data": {
      "application/vnd.jupyter.widget-view+json": {
       "model_id": "23dfcfdb490546fca72871c20bc70600",
       "version_major": 2,
       "version_minor": 0
      },
      "text/plain": [
       "Running batch:   0%|          | 0/1 [00:00<?, ?it/s]"
      ]
     },
     "metadata": {},
     "output_type": "display_data"
    },
    {
     "name": "stdout",
     "output_type": "stream",
     "text": [
      "Predicted in 292.9956 s\n",
      "Iters. done: 334 Current cost: 0.08840028752924606 Accuracy: 0.022756690122584744 Time: 316.28878052160144\n"
     ]
    },
    {
     "data": {
      "application/vnd.jupyter.widget-view+json": {
       "model_id": "7ff69e7de96549abad3699b82e5213a6",
       "version_major": 2,
       "version_minor": 0
      },
      "text/plain": [
       "Mappings: 0it [00:00, ?it/s]"
      ]
     },
     "metadata": {},
     "output_type": "display_data"
    },
    {
     "name": "stdout",
     "output_type": "stream",
     "text": [
      "Submitted to device in 23.6591 s\n"
     ]
    },
    {
     "data": {
      "application/vnd.jupyter.widget-view+json": {
       "model_id": "fd953d8598f1413fa9dcc6f869da42fb",
       "version_major": 2,
       "version_minor": 0
      },
      "text/plain": [
       "Running batch:   0%|          | 0/1 [00:00<?, ?it/s]"
      ]
     },
     "metadata": {},
     "output_type": "display_data"
    },
    {
     "name": "stdout",
     "output_type": "stream",
     "text": [
      "Predicted in 290.0110 s\n",
      "Iters. done: 335 Current cost: 0.08813974093164606 Accuracy: 0.025636968304165175 Time: 313.76246750354767\n"
     ]
    },
    {
     "data": {
      "application/vnd.jupyter.widget-view+json": {
       "model_id": "4758fdac41cf4c05b1183aa67282f16f",
       "version_major": 2,
       "version_minor": 0
      },
      "text/plain": [
       "Mappings: 0it [00:00, ?it/s]"
      ]
     },
     "metadata": {},
     "output_type": "display_data"
    },
    {
     "name": "stdout",
     "output_type": "stream",
     "text": [
      "Submitted to device in 19.4223 s\n"
     ]
    },
    {
     "data": {
      "application/vnd.jupyter.widget-view+json": {
       "model_id": "ce2ec43213ad4105b1b320d4130b364d",
       "version_major": 2,
       "version_minor": 0
      },
      "text/plain": [
       "Running batch:   0%|          | 0/1 [00:00<?, ?it/s]"
      ]
     },
     "metadata": {},
     "output_type": "display_data"
    },
    {
     "name": "stdout",
     "output_type": "stream",
     "text": [
      "Predicted in 303.1471 s\n",
      "Iters. done: 336 Current cost: 0.08994253335376909 Accuracy: 0.005707544058406122 Time: 323.1387644596398\n"
     ]
    },
    {
     "data": {
      "application/vnd.jupyter.widget-view+json": {
       "model_id": "3563d040c13f466987cf41dee75a6503",
       "version_major": 2,
       "version_minor": 0
      },
      "text/plain": [
       "Mappings: 0it [00:00, ?it/s]"
      ]
     },
     "metadata": {},
     "output_type": "display_data"
    },
    {
     "name": "stdout",
     "output_type": "stream",
     "text": [
      "Submitted to device in 19.9144 s\n"
     ]
    },
    {
     "data": {
      "application/vnd.jupyter.widget-view+json": {
       "model_id": "4d4b04549c564604a919ce761f026ff7",
       "version_major": 2,
       "version_minor": 0
      },
      "text/plain": [
       "Running batch:   0%|          | 0/1 [00:00<?, ?it/s]"
      ]
     },
     "metadata": {},
     "output_type": "display_data"
    },
    {
     "name": "stdout",
     "output_type": "stream",
     "text": [
      "Predicted in 385.8328 s\n",
      "Iters. done: 337 Current cost: 0.08705341021556058 Accuracy: 0.037646085630369086 Time: 405.8319269306958\n"
     ]
    },
    {
     "data": {
      "application/vnd.jupyter.widget-view+json": {
       "model_id": "10db838649294d87a8729d7b4b43138d",
       "version_major": 2,
       "version_minor": 0
      },
      "text/plain": [
       "Mappings: 0it [00:00, ?it/s]"
      ]
     },
     "metadata": {},
     "output_type": "display_data"
    },
    {
     "name": "stdout",
     "output_type": "stream",
     "text": [
      "Submitted to device in 18.6581 s\n"
     ]
    },
    {
     "data": {
      "application/vnd.jupyter.widget-view+json": {
       "model_id": "6ddc80fdb0ce4e4e8bf8e38dd8a21185",
       "version_major": 2,
       "version_minor": 0
      },
      "text/plain": [
       "Running batch:   0%|          | 0/1 [00:00<?, ?it/s]"
      ]
     },
     "metadata": {},
     "output_type": "display_data"
    },
    {
     "name": "stdout",
     "output_type": "stream",
     "text": [
      "Predicted in 405.6817 s\n",
      "Iters. done: 338 Current cost: 0.08588929390431344 Accuracy: 0.05051510346822485 Time: 424.4327333830297\n"
     ]
    },
    {
     "data": {
      "application/vnd.jupyter.widget-view+json": {
       "model_id": "dfb2ee1faeee4997b70d4f56e620813d",
       "version_major": 2,
       "version_minor": 0
      },
      "text/plain": [
       "Mappings: 0it [00:00, ?it/s]"
      ]
     },
     "metadata": {},
     "output_type": "display_data"
    },
    {
     "name": "stdout",
     "output_type": "stream",
     "text": [
      "Submitted to device in 19.7257 s\n"
     ]
    },
    {
     "data": {
      "application/vnd.jupyter.widget-view+json": {
       "model_id": "76e9bc5875be4e5995052ac4291b0f12",
       "version_major": 2,
       "version_minor": 0
      },
      "text/plain": [
       "Running batch:   0%|          | 0/1 [00:00<?, ?it/s]"
      ]
     },
     "metadata": {},
     "output_type": "display_data"
    },
    {
     "name": "stdout",
     "output_type": "stream",
     "text": [
      "Predicted in 473.1686 s\n",
      "Iters. done: 339 Current cost: 0.0889341569991291 Accuracy: 0.016854895203440412 Time: 492.99266220629215\n"
     ]
    },
    {
     "data": {
      "application/vnd.jupyter.widget-view+json": {
       "model_id": "b07c7546a57d43d59bf5ce82b09f68ea",
       "version_major": 2,
       "version_minor": 0
      },
      "text/plain": [
       "Mappings: 0it [00:00, ?it/s]"
      ]
     },
     "metadata": {},
     "output_type": "display_data"
    },
    {
     "name": "stdout",
     "output_type": "stream",
     "text": [
      "Submitted to device in 17.9838 s\n"
     ]
    },
    {
     "data": {
      "application/vnd.jupyter.widget-view+json": {
       "model_id": "031c86903f224c4cb5525725cb370355",
       "version_major": 2,
       "version_minor": 0
      },
      "text/plain": [
       "Running batch:   0%|          | 0/1 [00:00<?, ?it/s]"
      ]
     },
     "metadata": {},
     "output_type": "display_data"
    },
    {
     "name": "stdout",
     "output_type": "stream",
     "text": [
      "Predicted in 474.4854 s\n",
      "Iters. done: 340 Current cost: 0.08211954252700007 Accuracy: 0.09218877237073686 Time: 492.55169420316815\n"
     ]
    },
    {
     "data": {
      "application/vnd.jupyter.widget-view+json": {
       "model_id": "931a460073984e569a867f11a4171d49",
       "version_major": 2,
       "version_minor": 0
      },
      "text/plain": [
       "Mappings: 0it [00:00, ?it/s]"
      ]
     },
     "metadata": {},
     "output_type": "display_data"
    },
    {
     "name": "stdout",
     "output_type": "stream",
     "text": [
      "Submitted to device in 20.6868 s\n"
     ]
    },
    {
     "data": {
      "application/vnd.jupyter.widget-view+json": {
       "model_id": "a1f79538398c4e9bb8df20b9fb2b8e68",
       "version_major": 2,
       "version_minor": 0
      },
      "text/plain": [
       "Running batch:   0%|          | 0/1 [00:00<?, ?it/s]"
      ]
     },
     "metadata": {},
     "output_type": "display_data"
    },
    {
     "name": "stdout",
     "output_type": "stream",
     "text": [
      "Predicted in 2549.3568 s\n",
      "Iters. done: 341 Current cost: 0.0857636099339579 Accuracy: 0.05190450866838492 Time: 2570.1373444646597\n"
     ]
    },
    {
     "data": {
      "application/vnd.jupyter.widget-view+json": {
       "model_id": "ac0344f99ca2419caafb5e26404ffffe",
       "version_major": 2,
       "version_minor": 0
      },
      "text/plain": [
       "Mappings: 0it [00:00, ?it/s]"
      ]
     },
     "metadata": {},
     "output_type": "display_data"
    },
    {
     "name": "stdout",
     "output_type": "stream",
     "text": [
      "Submitted to device in 18.0711 s\n"
     ]
    },
    {
     "data": {
      "application/vnd.jupyter.widget-view+json": {
       "model_id": "ff5df82eec204670a8f5f14ec01c927d",
       "version_major": 2,
       "version_minor": 0
      },
      "text/plain": [
       "Running batch:   0%|          | 0/1 [00:00<?, ?it/s]"
      ]
     },
     "metadata": {},
     "output_type": "display_data"
    },
    {
     "name": "stdout",
     "output_type": "stream",
     "text": [
      "Predicted in 5891.6058 s\n",
      "Iters. done: 342 Current cost: 0.08327033804628886 Accuracy: 0.07946701259263866 Time: 5909.778833419085\n"
     ]
    },
    {
     "data": {
      "application/vnd.jupyter.widget-view+json": {
       "model_id": "b0ba08404a5e4363a577c198aebe13e7",
       "version_major": 2,
       "version_minor": 0
      },
      "text/plain": [
       "Mappings: 0it [00:00, ?it/s]"
      ]
     },
     "metadata": {},
     "output_type": "display_data"
    },
    {
     "name": "stdout",
     "output_type": "stream",
     "text": [
      "Submitted to device in 39.4222 s\n"
     ]
    },
    {
     "data": {
      "application/vnd.jupyter.widget-view+json": {
       "model_id": "617d9af7838f46f3bf0ffd8319399d88",
       "version_major": 2,
       "version_minor": 0
      },
      "text/plain": [
       "Running batch:   0%|          | 0/1 [00:00<?, ?it/s]"
      ]
     },
     "metadata": {},
     "output_type": "display_data"
    },
    {
     "name": "stdout",
     "output_type": "stream",
     "text": [
      "Predicted in 276.4202 s\n",
      "Iters. done: 343 Current cost: 0.08541285162989073 Accuracy: 0.055782054948086635 Time: 315.9615411013365\n"
     ]
    },
    {
     "data": {
      "application/vnd.jupyter.widget-view+json": {
       "model_id": "ff171164c3494ad18c4e86eca2929023",
       "version_major": 2,
       "version_minor": 0
      },
      "text/plain": [
       "Mappings: 0it [00:00, ?it/s]"
      ]
     },
     "metadata": {},
     "output_type": "display_data"
    },
    {
     "name": "stdout",
     "output_type": "stream",
     "text": [
      "Submitted to device in 47.6096 s\n"
     ]
    },
    {
     "data": {
      "application/vnd.jupyter.widget-view+json": {
       "model_id": "6b8fd858c525432b8d5dd7167f9a3345",
       "version_major": 2,
       "version_minor": 0
      },
      "text/plain": [
       "Running batch:   0%|          | 0/1 [00:00<?, ?it/s]"
      ]
     },
     "metadata": {},
     "output_type": "display_data"
    },
    {
     "name": "stdout",
     "output_type": "stream",
     "text": [
      "Predicted in 288.0459 s\n",
      "Iters. done: 344 Current cost: 0.08718777452453044 Accuracy: 0.036160721434198795 Time: 335.74703999608755\n"
     ]
    },
    {
     "data": {
      "application/vnd.jupyter.widget-view+json": {
       "model_id": "7e63ebb131944a7587f40ddf8a679943",
       "version_major": 2,
       "version_minor": 0
      },
      "text/plain": [
       "Mappings: 0it [00:00, ?it/s]"
      ]
     },
     "metadata": {},
     "output_type": "display_data"
    },
    {
     "name": "stdout",
     "output_type": "stream",
     "text": [
      "Submitted to device in 22.6371 s\n"
     ]
    },
    {
     "data": {
      "application/vnd.jupyter.widget-view+json": {
       "model_id": "9ca2f0d01ada408883a54f9932a96209",
       "version_major": 2,
       "version_minor": 0
      },
      "text/plain": [
       "Running batch:   0%|          | 0/1 [00:00<?, ?it/s]"
      ]
     },
     "metadata": {},
     "output_type": "display_data"
    },
    {
     "name": "stdout",
     "output_type": "stream",
     "text": [
      "Predicted in 300.6601 s\n",
      "Iters. done: 345 Current cost: 0.08550555990413683 Accuracy: 0.05475718791077855 Time: 323.3738342523575\n"
     ]
    },
    {
     "data": {
      "application/vnd.jupyter.widget-view+json": {
       "model_id": "2c61d69b944545a69b1bdabcd590f4e9",
       "version_major": 2,
       "version_minor": 0
      },
      "text/plain": [
       "Mappings: 0it [00:00, ?it/s]"
      ]
     },
     "metadata": {},
     "output_type": "display_data"
    },
    {
     "name": "stdout",
     "output_type": "stream",
     "text": [
      "Submitted to device in 65.9592 s\n"
     ]
    },
    {
     "data": {
      "application/vnd.jupyter.widget-view+json": {
       "model_id": "ba6dedc46e3a4af392a6c1ad893e98a3",
       "version_major": 2,
       "version_minor": 0
      },
      "text/plain": [
       "Running batch:   0%|          | 0/1 [00:00<?, ?it/s]"
      ]
     },
     "metadata": {},
     "output_type": "display_data"
    },
    {
     "name": "stdout",
     "output_type": "stream",
     "text": [
      "Predicted in 300.0984 s\n",
      "Iters. done: 346 Current cost: 0.08514855424189693 Accuracy: 0.0587037971895874 Time: 366.14913465082645\n"
     ]
    },
    {
     "data": {
      "application/vnd.jupyter.widget-view+json": {
       "model_id": "9f2b40e831ff44ab95f5342bdcbc8bf3",
       "version_major": 2,
       "version_minor": 0
      },
      "text/plain": [
       "Mappings: 0it [00:00, ?it/s]"
      ]
     },
     "metadata": {},
     "output_type": "display_data"
    },
    {
     "name": "stdout",
     "output_type": "stream",
     "text": [
      "Submitted to device in 28.2759 s\n"
     ]
    },
    {
     "data": {
      "application/vnd.jupyter.widget-view+json": {
       "model_id": "90a03fa2a22d4cbcb78397974c6ccafd",
       "version_major": 2,
       "version_minor": 0
      },
      "text/plain": [
       "Running batch:   0%|          | 0/1 [00:00<?, ?it/s]"
      ]
     },
     "metadata": {},
     "output_type": "display_data"
    },
    {
     "name": "stdout",
     "output_type": "stream",
     "text": [
      "Predicted in 289.2690 s\n",
      "Iters. done: 347 Current cost: 0.08582275537134089 Accuracy: 0.05125067048971188 Time: 318.0266769044101\n"
     ]
    },
    {
     "data": {
      "application/vnd.jupyter.widget-view+json": {
       "model_id": "020416ec6a044f6a92dbde8185464200",
       "version_major": 2,
       "version_minor": 0
      },
      "text/plain": [
       "Mappings: 0it [00:00, ?it/s]"
      ]
     },
     "metadata": {},
     "output_type": "display_data"
    },
    {
     "name": "stdout",
     "output_type": "stream",
     "text": [
      "Submitted to device in 49.3030 s\n"
     ]
    },
    {
     "data": {
      "application/vnd.jupyter.widget-view+json": {
       "model_id": "3ddb2b677d0143069aa11ee0e9a7be27",
       "version_major": 2,
       "version_minor": 0
      },
      "text/plain": [
       "Running batch:   0%|          | 0/1 [00:00<?, ?it/s]"
      ]
     },
     "metadata": {},
     "output_type": "display_data"
    },
    {
     "name": "stdout",
     "output_type": "stream",
     "text": [
      "Predicted in 392.4355 s\n",
      "Iters. done: 348 Current cost: 0.08822504761934999 Accuracy: 0.024693923975051546 Time: 441.8271377645433\n"
     ]
    },
    {
     "data": {
      "application/vnd.jupyter.widget-view+json": {
       "model_id": "99caf08cd3854f38b88204e39b33b9fd",
       "version_major": 2,
       "version_minor": 0
      },
      "text/plain": [
       "Mappings: 0it [00:00, ?it/s]"
      ]
     },
     "metadata": {},
     "output_type": "display_data"
    },
    {
     "name": "stdout",
     "output_type": "stream",
     "text": [
      "Submitted to device in 21.3398 s\n"
     ]
    },
    {
     "data": {
      "application/vnd.jupyter.widget-view+json": {
       "model_id": "e607dcb15d0940d9bcc2fc717ce26e6d",
       "version_major": 2,
       "version_minor": 0
      },
      "text/plain": [
       "Running batch:   0%|          | 0/1 [00:00<?, ?it/s]"
      ]
     },
     "metadata": {},
     "output_type": "display_data"
    },
    {
     "name": "stdout",
     "output_type": "stream",
     "text": [
      "Predicted in 431.3168 s\n",
      "Iters. done: 349 Current cost: 0.08842178131779947 Accuracy: 0.02251908160733196 Time: 452.7423064671457\n"
     ]
    },
    {
     "data": {
      "application/vnd.jupyter.widget-view+json": {
       "model_id": "3af9d93602c2436c912b40544ce03ae6",
       "version_major": 2,
       "version_minor": 0
      },
      "text/plain": [
       "Mappings: 0it [00:00, ?it/s]"
      ]
     },
     "metadata": {},
     "output_type": "display_data"
    },
    {
     "name": "stdout",
     "output_type": "stream",
     "text": [
      "Submitted to device in 17.8498 s\n"
     ]
    },
    {
     "data": {
      "application/vnd.jupyter.widget-view+json": {
       "model_id": "a54657b8ec5b4a719e27033f3fddc953",
       "version_major": 2,
       "version_minor": 0
      },
      "text/plain": [
       "Running batch:   0%|          | 0/1 [00:00<?, ?it/s]"
      ]
     },
     "metadata": {},
     "output_type": "display_data"
    },
    {
     "name": "stdout",
     "output_type": "stream",
     "text": [
      "Predicted in 439.3530 s\n",
      "Iters. done: 350 Current cost: 0.08855084794161816 Accuracy: 0.02109228200994895 Time: 457.82029243186116\n"
     ]
    },
    {
     "data": {
      "application/vnd.jupyter.widget-view+json": {
       "model_id": "f1ce06eb0d5d4e45939371d1e6b3e265",
       "version_major": 2,
       "version_minor": 0
      },
      "text/plain": [
       "Mappings: 0it [00:00, ?it/s]"
      ]
     },
     "metadata": {},
     "output_type": "display_data"
    },
    {
     "name": "stdout",
     "output_type": "stream",
     "text": [
      "Submitted to device in 19.7182 s\n"
     ]
    },
    {
     "data": {
      "application/vnd.jupyter.widget-view+json": {
       "model_id": "80e0b15cc4c6450db14248282d464d80",
       "version_major": 2,
       "version_minor": 0
      },
      "text/plain": [
       "Running batch:   0%|          | 0/1 [00:00<?, ?it/s]"
      ]
     },
     "metadata": {},
     "output_type": "display_data"
    },
    {
     "name": "stdout",
     "output_type": "stream",
     "text": [
      "Predicted in 306.4687 s\n",
      "Iters. done: 351 Current cost: 0.08823126396529253 Accuracy: 0.024625203808477214 Time: 326.27562560141087\n"
     ]
    },
    {
     "data": {
      "application/vnd.jupyter.widget-view+json": {
       "model_id": "057bad5551534ea4b55a88efe09938ce",
       "version_major": 2,
       "version_minor": 0
      },
      "text/plain": [
       "Mappings: 0it [00:00, ?it/s]"
      ]
     },
     "metadata": {},
     "output_type": "display_data"
    },
    {
     "name": "stdout",
     "output_type": "stream",
     "text": [
      "Submitted to device in 20.7068 s\n"
     ]
    },
    {
     "data": {
      "application/vnd.jupyter.widget-view+json": {
       "model_id": "090610e506ae4520aeffd2cad83fe7d0",
       "version_major": 2,
       "version_minor": 0
      },
      "text/plain": [
       "Running batch:   0%|          | 0/1 [00:00<?, ?it/s]"
      ]
     },
     "metadata": {},
     "output_type": "display_data"
    },
    {
     "name": "stdout",
     "output_type": "stream",
     "text": [
      "Predicted in 293.6263 s\n",
      "Iters. done: 352 Current cost: 0.0859977924608986 Accuracy: 0.04931567876591125 Time: 314.4208064042032\n"
     ]
    },
    {
     "data": {
      "application/vnd.jupyter.widget-view+json": {
       "model_id": "40a0a700f0274d8c83d585925f2925b3",
       "version_major": 2,
       "version_minor": 0
      },
      "text/plain": [
       "Mappings: 0it [00:00, ?it/s]"
      ]
     },
     "metadata": {},
     "output_type": "display_data"
    },
    {
     "name": "stdout",
     "output_type": "stream",
     "text": [
      "Submitted to device in 19.3498 s\n"
     ]
    },
    {
     "data": {
      "application/vnd.jupyter.widget-view+json": {
       "model_id": "286d74cb560544a29657a256698f7a01",
       "version_major": 2,
       "version_minor": 0
      },
      "text/plain": [
       "Running batch:   0%|          | 0/1 [00:00<?, ?it/s]"
      ]
     },
     "metadata": {},
     "output_type": "display_data"
    },
    {
     "name": "stdout",
     "output_type": "stream",
     "text": [
      "Predicted in 293.8479 s\n",
      "Iters. done: 353 Current cost: 0.08628807530745534 Accuracy: 0.04610667370836652 Time: 313.2838355116546\n"
     ]
    },
    {
     "data": {
      "application/vnd.jupyter.widget-view+json": {
       "model_id": "312f206660a7453989397c72e44e14f1",
       "version_major": 2,
       "version_minor": 0
      },
      "text/plain": [
       "Mappings: 0it [00:00, ?it/s]"
      ]
     },
     "metadata": {},
     "output_type": "display_data"
    },
    {
     "name": "stdout",
     "output_type": "stream",
     "text": [
      "Submitted to device in 22.7391 s\n"
     ]
    },
    {
     "data": {
      "application/vnd.jupyter.widget-view+json": {
       "model_id": "90143e1a208c4934b87db72a053791ba",
       "version_major": 2,
       "version_minor": 0
      },
      "text/plain": [
       "Running batch:   0%|          | 0/1 [00:00<?, ?it/s]"
      ]
     },
     "metadata": {},
     "output_type": "display_data"
    },
    {
     "name": "stdout",
     "output_type": "stream",
     "text": [
      "Predicted in 294.0991 s\n",
      "Iters. done: 354 Current cost: 0.08335166094304389 Accuracy: 0.07856800808694164 Time: 316.92555398494005\n"
     ]
    },
    {
     "data": {
      "application/vnd.jupyter.widget-view+json": {
       "model_id": "cc9585fdc1f74e58bb2065c748977808",
       "version_major": 2,
       "version_minor": 0
      },
      "text/plain": [
       "Mappings: 0it [00:00, ?it/s]"
      ]
     },
     "metadata": {},
     "output_type": "display_data"
    },
    {
     "name": "stdout",
     "output_type": "stream",
     "text": [
      "Submitted to device in 18.7569 s\n"
     ]
    },
    {
     "data": {
      "application/vnd.jupyter.widget-view+json": {
       "model_id": "93ae1a8462c44c0480dd363e11bf2edd",
       "version_major": 2,
       "version_minor": 0
      },
      "text/plain": [
       "Running batch:   0%|          | 0/1 [00:00<?, ?it/s]"
      ]
     },
     "metadata": {},
     "output_type": "display_data"
    }
   ],
   "source": [
    "model = QiskitRegressor(qc,\n",
    "                        num_qubits,\n",
    "                        AL,\n",
    "                        RUD,\n",
    "                        'real', #'fake',\n",
    "                        observables_labels,\n",
    "                        channel='ibm_quantum',\n",
    "                        instance='pinq-quebec-hub/univ-toronto/default',\n",
    "                        parameterpath = None,\n",
    "                        optimization_level = optimization_level,\n",
    "                        resilience_level = resilience_level,\n",
    "                        shots = shots,\n",
    "                        iterations = 1000,\n",
    "                        verbose = True,\n",
    "                        n_jobs = n_jobs)\n",
    "model.fit(X_train,y_train)\n",
    "\n"
   ]
  },
  {
   "cell_type": "code",
   "execution_count": null,
   "id": "489d671c-4615-453f-b3e1-097e927d4d7a",
   "metadata": {
    "papermill": {
     "duration": null,
     "end_time": null,
     "exception": null,
     "start_time": null,
     "status": "pending"
    },
    "tags": []
   },
   "outputs": [],
   "source": [
    "y_train_pred = model.predict(X_train,iters='trainpred')\n",
    "y_test_pred = model.predict(X_test,iters='testpred')"
   ]
  },
  {
   "cell_type": "code",
   "execution_count": null,
   "id": "d68df1a8-73c5-4301-a396-9156f33cbac6",
   "metadata": {
    "papermill": {
     "duration": null,
     "end_time": null,
     "exception": null,
     "start_time": null,
     "status": "pending"
    },
    "tags": []
   },
   "outputs": [],
   "source": [
    "unscaled_y_train = ddcc_scaler.inverse_transform(y_train)\n",
    "unscaled_y_train_pred = ddcc_scaler.inverse_transform(y_train_pred)\n",
    "\n",
    "unscaled_y_test = ddcc_scaler.inverse_transform(y_test)\n",
    "unscaled_y_test_pred = ddcc_scaler.inverse_transform(y_test_pred)"
   ]
  },
  {
   "cell_type": "code",
   "execution_count": null,
   "id": "205f1048-e4b9-43f2-907c-daa71789f478",
   "metadata": {
    "papermill": {
     "duration": null,
     "end_time": null,
     "exception": null,
     "start_time": null,
     "status": "pending"
    },
    "tags": []
   },
   "outputs": [],
   "source": [
    "plt.scatter(y_train.flatten(),y_train_pred.flatten(),label=\"R$^{2}$=\"+f\"{r2_score(y_train.flatten(),y_train_pred.flatten()):.2f}\")\n",
    "plt.plot(y_train.flatten(),y_train.flatten(),'k--')\n",
    "plt.scatter(y_test.flatten(),y_test_pred.flatten(),label=\"R$^{2}$=\"+f\"{r2_score(y_test.flatten(),y_test_pred.flatten()):.2f}\")\n",
    "plt.legend()\n",
    "plt.show()"
   ]
  },
  {
   "cell_type": "code",
   "execution_count": null,
   "id": "ef22e994-a28a-4adb-8260-2422d928d519",
   "metadata": {
    "papermill": {
     "duration": null,
     "end_time": null,
     "exception": null,
     "start_time": null,
     "status": "pending"
    },
    "tags": []
   },
   "outputs": [],
   "source": [
    "plt.scatter(unscaled_y_train.flatten(),unscaled_y_train_pred.flatten(),label=\"R$^{2}$=\"+f\"{r2_score(unscaled_y_train.flatten(),unscaled_y_train_pred.flatten()):.2f}\")\n",
    "\n",
    "plt.plot(unscaled_y_train.flatten(),unscaled_y_train.flatten(),'k--')\n",
    "plt.scatter(unscaled_y_test.flatten(),unscaled_y_test_pred.flatten(),label=\"R$^{2}$=\"+f\"{r2_score(unscaled_y_test.flatten(),unscaled_y_test_pred.flatten()):.2f}\")\n",
    "plt.legend()\n",
    "plt.show()"
   ]
  },
  {
   "cell_type": "code",
   "execution_count": null,
   "id": "5b3f19fe-3b13-4512-acb1-af73b63581a4",
   "metadata": {
    "papermill": {
     "duration": null,
     "end_time": null,
     "exception": null,
     "start_time": null,
     "status": "pending"
    },
    "tags": []
   },
   "outputs": [],
   "source": [
    "# Goal, error handling: RuntimeJobFailureError: 'Unable to retrieve job result. Job estimator_cv61fk0tqh9s73cvpdeg_f0fa_4 cancelled due to compilation timeout 8100000000000.'\n"
   ]
  }
 ],
 "metadata": {
  "kernelspec": {
   "display_name": "Python 3 (ipykernel)",
   "language": "python",
   "name": "python3"
  },
  "language_info": {
   "codemirror_mode": {
    "name": "ipython",
    "version": 3
   },
   "file_extension": ".py",
   "mimetype": "text/x-python",
   "name": "python",
   "nbconvert_exporter": "python",
   "pygments_lexer": "ipython3",
   "version": "3.11.11"
  },
  "papermill": {
   "default_parameters": {},
   "duration": null,
   "end_time": null,
   "environment_variables": {},
   "exception": null,
   "input_path": "class_ML_batched.ipynb",
   "output_path": "ran_class_ML_batched.ipynb",
   "parameters": {},
   "start_time": "2025-03-28T22:18:51.669663",
   "version": "2.6.0"
  }
 },
 "nbformat": 4,
 "nbformat_minor": 5
}