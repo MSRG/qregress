{
 "cells": [
  {
   "cell_type": "code",
   "execution_count": 1,
   "id": "dc8f5c2c-b710-429b-9f46-14c842ed6478",
   "metadata": {},
   "outputs": [],
   "source": [
    "import os\n",
    "n_jobs = 16\n",
    "os.environ[\"OMP_NUM_THREADS\"] = str(n_jobs)\n",
    "import joblib\n",
    "import click\n",
    "import json\n",
    "import time\n",
    "\n",
    "import itertools\n",
    "import collections.abc\n",
    "import sys\n",
    "from tqdm import tqdm\n",
    "# !{sys.executable} -m pip install qiskit-machine-learning\n",
    "import matplotlib.pyplot as plt\n",
    "import numpy as np\n",
    "import pandas as pd\n",
    "import pennylane as qml\n",
    "from sklearn.metrics import mean_squared_error, r2_score, mean_absolute_error\n",
    "from scipy.optimize import minimize\n",
    "# Qiskit\n",
    "from qiskit import QuantumCircuit\n",
    "from qiskit.quantum_info import Pauli, SparsePauliOp, Operator\n",
    "from qiskit.primitives import StatevectorEstimator\n",
    "from qiskit.circuit import Parameter, ParameterVector\n",
    "from qiskit.transpiler.preset_passmanagers import generate_preset_pass_manager\n",
    "from qiskit.quantum_info import SparsePauliOp\n",
    "from qiskit_ibm_runtime import EstimatorV2 as Estimator\n",
    "from qiskit_ibm_runtime import QiskitRuntimeService\n",
    "from qiskit_aer.noise import NoiseModel\n",
    "from qiskit_ibm_runtime.fake_provider import FakeQuebec\n",
    "from qiskit_ibm_runtime import Session, Batch\n",
    "from qiskit_machine_learning.optimizers import SPSA, Minimizer\n",
    "\n",
    "\n",
    "from joblib import dump, load\n"
   ]
  },
  {
   "cell_type": "code",
   "execution_count": 2,
   "id": "9e8cd7b1-46c5-4d8e-966b-87a99489ddac",
   "metadata": {},
   "outputs": [],
   "source": [
    "def mitarai(quantumcircuit,num_wires,paramname='x'):\n",
    "    # encoding as proposed by Mitarai et al.\n",
    "    num_features = num_wires\n",
    "    features = ParameterVector(paramname,num_features*2)\n",
    "    for i in range(num_wires):\n",
    "        feature_idx = i % num_features  # Calculate the feature index using modulo\n",
    "        quantumcircuit.ry(np.arcsin(features[feature_idx * 2]), i)\n",
    "        quantumcircuit.rz(np.arccos(features[feature_idx * 2 + 1] ** 2), i)\n",
    "\n",
    "\n",
    "def double_angle(quantumcircuit, num_wires,paramname='x'):\n",
    "    #  creates a circuit that encodes features into wires via angle encoding with an RY then RZ gate\n",
    "    #  the features are encoded 1-1 onto the qubits\n",
    "    #  if more wires are passed then features the remaining wires will be filled from the beginning of the feature list\n",
    "    num_features = num_wires\n",
    "    features = ParameterVector(paramname,num_features*2)\n",
    "    for i in range(num_wires):\n",
    "        feature_index = i % num_features\n",
    "        quantumcircuit.ry(features[feature_index], i)\n",
    "        quantumcircuit.rz(features[feature_index], i)\n",
    "\n",
    "def entangle_cnot(quantumcircuit,num_wires):\n",
    "    #  entangles all of the wires in a circular fashion using cnot gates\n",
    "    for i in range(num_wires):\n",
    "        \n",
    "        if i == num_wires - 1:\n",
    "            quantumcircuit.cx(i, 0)\n",
    "        else:\n",
    "            quantumcircuit.cx(i, i+1)\n",
    "\n",
    "\n",
    "def entangle_cz(quantumcircuit,num_wires):\n",
    "    #  entangles all of the wires in a circular fashion using cz gates\n",
    "    for i in range(num_wires):\n",
    "        \n",
    "        if i == num_wires - 1:\n",
    "            quantumcircuit.cz(i, 0)\n",
    "        else:\n",
    "            quantumcircuit.cz(i, i+1)\n",
    "\n",
    "\n",
    "def HardwareEfficient(quantumcircuit,num_wires,paramname='theta'):\n",
    "    parameters = ParameterVector(paramname,num_wires*3)\n",
    "    for qubit in range(num_wires):\n",
    "        quantumcircuit.rx(parameters[qubit * 3], qubit)  \n",
    "        quantumcircuit.rz(parameters[qubit * 3 + 1], qubit)  \n",
    "        quantumcircuit.rx(parameters[qubit * 3 + 2], qubit)  \n",
    "    entangle_cnot(quantumcircuit,num_wires)\n",
    "\n"
   ]
  },
  {
   "cell_type": "code",
   "execution_count": 3,
   "id": "98051576-89f8-4a1d-980e-3708e2089ad6",
   "metadata": {},
   "outputs": [],
   "source": [
    "# def circuit(nqubits):\n",
    "#     qc = QuantumCircuit(nqubits)\n",
    "#     mitarai(qc,nqubits)\n",
    "#     entangle_cz(qc,nqubits)\n",
    "#     qc.barrier()\n",
    "#     mitarai(qc,nqubits,paramname='x1')\n",
    "#     entangle_cz(qc,nqubits)\n",
    "#     qc.barrier()\n",
    "#     HardwareEfficient(qc,nqubits)\n",
    "#     qc.barrier()\n",
    "#     return qc\n",
    "\n",
    "\n",
    "def circuit(nqubits,RUD=1):\n",
    "    qc = QuantumCircuit(nqubits)\n",
    "    for i in range(RUD):\n",
    "        double_angle(qc,nqubits,paramname=f'x{i}')\n",
    "        qc.barrier()\n",
    "        HardwareEfficient(qc,nqubits,paramname=f'theta{i}')\n",
    "        qc.barrier()\n",
    "    return qc"
   ]
  },
  {
   "cell_type": "code",
   "execution_count": 4,
   "id": "11cb5805-20c7-493a-b96c-8eac41dcc1d7",
   "metadata": {},
   "outputs": [
    {
     "name": "stdout",
     "output_type": "stream",
     "text": [
      "(64, 5) (64, 5)\n"
     ]
    }
   ],
   "source": [
    "# with open('linear_train.bin','rb') as f:\n",
    "#     train = joblib.load(f)\n",
    "\n",
    "# with open('linear_test.bin','rb') as f:\n",
    "#     test = joblib.load(f)\n",
    "\n",
    "# with open('linear_scaler.bin','rb') as f:\n",
    "#     scaler = joblib.load(f)\n",
    "# X_train, y_train = train['X'],train['y']\n",
    "# X_test, y_test = test['X'],test['y']\n",
    "\n",
    "\n",
    "# with open('PCA5_0.8_Morgan_train.bin','rb') as f:\n",
    "#     bse_train = joblib.load(f)\n",
    "\n",
    "# with open('PCA5_0.8_Morgan_test.bin','rb') as f:\n",
    "#     bse_test = joblib.load(f)\n",
    "\n",
    "# with open('PCA5_0.8_Morgan_scaler.bin','rb') as f:\n",
    "#     bse_scaler = joblib.load(f)\n",
    "\n",
    "# X_bse_train, y_bse_train = bse_train['X'],bse_train['y']\n",
    "# X_bse_test, y_bse_test = bse_test['X'],bse_test['y']\n",
    "\n",
    "\n",
    "# X_bse_train[np.isclose(X_bse_train,1)]=1\n",
    "# X_bse_train[np.isclose(X_bse_train,-1)]=-1\n",
    "\n",
    "\n",
    "\n",
    "# X_train, y_train = X_bse_train, y_bse_train\n",
    "# X_test, y_test = X_bse_test, y_bse_test\n",
    "# scaler = bse_scaler\n",
    "\n",
    "\n",
    "\n",
    "with open('0.1_5_DDCC_train.bin','rb') as f:\n",
    "    ddcc_train = joblib.load(f)\n",
    "\n",
    "with open('0.1_5_DDCC_test.bin','rb') as f:\n",
    "    ddcc_test = joblib.load(f)\n",
    "\n",
    "with open('0.1_5_DDCC_scaler.bin','rb') as f:\n",
    "    ddcc_scaler = joblib.load(f)\n",
    "\n",
    "X_ddcc_train, y_ddcc_train = ddcc_train['X'],ddcc_train['y']\n",
    "X_ddcc_test, y_ddcc_test = ddcc_test['X'],ddcc_test['y']\n",
    "\n",
    "X_ddcc_train = X_ddcc_train.reshape(19,64,5)[0:1].reshape(-1,5)\n",
    "X_ddcc_test = X_ddcc_test.reshape(-1,64,5)[0:1].reshape(-1,5)\n",
    "y_ddcc_train = y_ddcc_train.reshape(19,64)[0:1].flatten()\n",
    "y_ddcc_test = y_ddcc_test.reshape(-1,64)[0:1].flatten()\n",
    "\n",
    "\n",
    "# X_train, y_train = X_ddcc_train, y_ddcc_train\n",
    "# X_test, y_test = X_ddcc_test, y_ddcc_test\n",
    "X_train, y_train = X_ddcc_train, y_ddcc_train\n",
    "X_test, y_test = X_ddcc_test, y_ddcc_test\n",
    "scaler = ddcc_scaler\n",
    "\n",
    "print(X_train.shape, X_test.shape)"
   ]
  },
  {
   "cell_type": "code",
   "execution_count": 5,
   "id": "0172f0c5-8225-47b8-91e3-8e113113d13e",
   "metadata": {},
   "outputs": [],
   "source": [
    "num_qubits = 5\n",
    "RUD = 3"
   ]
  },
  {
   "cell_type": "code",
   "execution_count": 6,
   "id": "9f37a160-f338-4f3d-9b17-c1c695681785",
   "metadata": {},
   "outputs": [
    {
     "name": "stdout",
     "output_type": "stream",
     "text": [
      "Parameters from scratch\n"
     ]
    }
   ],
   "source": [
    "# \n",
    "qc = circuit(num_qubits,RUD)\n",
    "\n",
    "num_params = len([i for i in list(qc.parameters) if 'theta' in i.name]) // RUD\n",
    "generator = np.random.default_rng(12958234)\n",
    "load_params = None\n",
    "\n",
    "if load_params!=None:\n",
    "    print('Parameters loaded')\n",
    "    x0 = np.load(load_params)['x0']\n",
    "else:\n",
    "    print('Parameters from scratch')\n",
    "    x0 = np.tile(generator.uniform(-np.pi, np.pi, num_params),RUD)\n",
    "\n",
    "\n"
   ]
  },
  {
   "cell_type": "code",
   "execution_count": 7,
   "id": "9acf4b39-77a4-4465-aceb-7d9d8670bda4",
   "metadata": {},
   "outputs": [
    {
     "data": {
      "image/png": "[encoded data removed]",
      "text/plain": [
       "<Figure size 2210.55x953.167 with 1 Axes>"
      ]
     },
     "execution_count": 7,
     "metadata": {},
     "output_type": "execute_result"
    }
   ],
   "source": [
    "qc.draw('mpl', scale=1, plot_barriers=False)"
   ]
  },
  {
   "cell_type": "code",
   "execution_count": 8,
   "id": "33237488-9027-4fae-9e2c-7aa92a95d9ab",
   "metadata": {},
   "outputs": [
    {
     "name": "stdout",
     "output_type": "stream",
     "text": [
      "[SparsePauliOp(['IIIIIIIIIIIIIIIIIIIIIIIIIIIIIIIIIIIIIIIIIIIIIIIIIIIIIIIIIIIIIIIIIIIIIIIIIIIIIIIIIIIIIIIIIIIIIIIIIIIIIIIIIIIIIIIIIIIIIIIIIIIIIZI'],\n",
      "              coeffs=[1.+0.j])]\n"
     ]
    }
   ],
   "source": [
    "# Select backend\n",
    "# service = QiskitRuntimeService(channel=\"ibm_quantum\", instance='pinq-quebec-hub/univ-toronto/default')\n",
    "# _backend = service.least_busy(operational=True, simulator=False, min_num_qubits=127)\n",
    "_backend = FakeQuebec()\n",
    "target = _backend.target\n",
    "\n",
    "# Generate pass manager\n",
    "pm = generate_preset_pass_manager(target=target, optimization_level=0)\n",
    "qc = pm.run(qc)\n",
    "\n",
    "\n",
    "observables_labels = ''.join(['I']*(num_qubits-1))+\"Z\"\n",
    "observables = [SparsePauliOp(observables_labels)]\n",
    "\n",
    "mapped_observables = [observable.apply_layout(qc.layout) for observable in observables]\n",
    "print(mapped_observables)"
   ]
  },
  {
   "cell_type": "code",
   "execution_count": 9,
   "id": "fedc1a51-ad5c-4114-8ff4-6490c13935ba",
   "metadata": {},
   "outputs": [],
   "source": [
    "# Batches"
   ]
  },
  {
   "cell_type": "code",
   "execution_count": 10,
   "id": "f0d97c4c-6c7d-4139-9767-725675e8a85f",
   "metadata": {},
   "outputs": [],
   "source": [
    "def map2qiskit(params, ansatz, hamiltonian, estimator, num_qubits, X):\n",
    "    if len(X)==1:\n",
    "        featparams = dict([(i,X.item()) for idx,i in enumerate(ansatz.parameters) if 'x' in i.name])\n",
    "    else:\n",
    "        featparams = dict([(i,X[idx % num_qubits]) for idx,i in enumerate(ansatz.parameters) if 'x' in i.name])\n",
    "    \n",
    "    ansatz = ansatz.assign_parameters(featparams)    \n",
    "    pub = (ansatz, [hamiltonian], [params])\n",
    "    result = estimator.run(pubs=[pub]).result()\n",
    "    y_pred = result[0].data.evs[0]\n",
    "    return y_pred"
   ]
  },
  {
   "cell_type": "code",
   "execution_count": null,
   "id": "1e7f969b-86b0-4c19-9539-d37bb6f891a2",
   "metadata": {},
   "outputs": [],
   "source": [
    "    "
   ]
  },
  {
   "cell_type": "code",
   "execution_count": 11,
   "id": "6b395867-63d9-40d7-877e-fd9e7ec44948",
   "metadata": {},
   "outputs": [],
   "source": [
    "def predict(params, ansatz, hamiltonian, estimator, num_qubits, X):\n",
    "    # y_pred = np.array([map2qiskit(params, ansatz, hamiltonian, estimator, num_qubits, x) for x in tqdm(X)]).reshape(X.shape[0])\n",
    "    y_pred = np.array(joblib.Parallel(n_jobs=n_jobs,verbose=0)(joblib.delayed(map2qiskit)(params, ansatz, hamiltonian, estimator, num_qubits, x) for x in tqdm(X))).reshape(X.shape[0])\n",
    "    return y_pred"
   ]
  },
  {
   "cell_type": "code",
   "execution_count": 12,
   "id": "8e0da73e-16ae-4c90-bfd4-e1026a5403fa",
   "metadata": {},
   "outputs": [],
   "source": [
    "def cost_func(params, ansatz, hamiltonian, estimator, num_qubits, X, y,n_jobs,cost_history_dict):\n",
    "    \"\"\"Return estimate of energy from estimator\n",
    "\n",
    "    Parameters:\n",
    "\n",
    "        params (ndarray): Array of ansatz parameters\n",
    "        ansatz (QuantumCircuit): Parameterized ansatz circuit\n",
    "        hamiltonian (SparsePauliOp): Operator representation of Hamiltonian\n",
    "        estimator (EstimatorV2): Estimator primitive instance\n",
    "        cost_history_dict: Dictionary for storing intermediate results\n",
    "\n",
    "    Returns:\n",
    "        float: Energy estimate\n",
    "    \"\"\"\n",
    "    t0=time.perf_counter()\n",
    "    y_pred = predict(params, ansatz, hamiltonian, estimator, num_qubits, X)\n",
    "    loss = mean_squared_error(y,y_pred)\n",
    "    r2 = r2_score(y,y_pred)\n",
    "    cost_history_dict[\"iters\"] += 1\n",
    "    cost_history_dict[\"prev_vector\"] = params\n",
    "    cost_history_dict[\"cost_history\"].append(loss)\n",
    "    print(f\"Iters. done: {cost_history_dict['iters']} Current cost: {loss} Accuracy: {r2} Time: {time.perf_counter()-t0}\")\n",
    "    with open('model_log.csv', 'a') as outfile:\n",
    "        log = f\"{time.asctime()},{cost_history_dict['iters']},{loss},{params}\\n\"\n",
    "        outfile.write(log)\n",
    "    return loss"
   ]
  },
  {
   "cell_type": "code",
   "execution_count": 13,
   "id": "4c7cf7d5-8ec8-4994-86d3-a88ac219bbf8",
   "metadata": {},
   "outputs": [],
   "source": [
    "def evaluate(params, ansatz, hamiltonian, estimator, num_qubits, n_jobs, X_train, y_train, X_test=None, y_test=None, plot: bool = False, title: str = 'defult',y_scaler=None):\n",
    "    scores = {}\n",
    "    st = time.time()\n",
    "    print('Now scoring model... ')\n",
    "    \n",
    "    y_train_pred = predict(params, ansatz, hamiltonian, estimator, num_qubits, X_train)\n",
    "    y_train_pred = y_scaler.inverse_transform(y_train_pred.reshape(-1, 1))\n",
    "    y_train = y_scaler.inverse_transform(y_train.reshape(-1, 1))\n",
    "\n",
    "    scores['MSE_train'] = mean_squared_error(y_train, y_train_pred)\n",
    "    scores['R2_train'] = r2_score(y_train, y_train_pred)\n",
    "    scores['MAE_train'] = mean_absolute_error(y_train, y_train_pred)\n",
    "\n",
    "    y_test_pred = None\n",
    "    y_test = y_scaler.inverse_transform(y_test.reshape(-1, 1))\n",
    "    if y_test is not None:\n",
    "        y_test_pred = predict(params, ansatz, hamiltonian, estimator, num_qubits, X_test)\n",
    "        y_test_pred = y_scaler.inverse_transform(y_test_pred.reshape(-1, 1))\n",
    "        scores['MSE_test'] = mean_squared_error(y_test, y_test_pred)\n",
    "        scores['R2_test'] = r2_score(y_test, y_test_pred)\n",
    "        scores['MAE_test'] = mean_absolute_error(y_test, y_test_pred)\n",
    "\n",
    "    if plot:\n",
    "        plt.figure()\n",
    "        if y_test_pred is not None:\n",
    "            plt.scatter(y_test, y_test_pred, color='b', s=10, label=f'Test, MAE = {scores[\"MAE_test\"]:.2f}')\n",
    "        plt.scatter(y_train, y_train_pred, color='r', s=10, label=f'Train, MAE = {scores[\"MAE_train\"]:.2f}')\n",
    "        plt.ylabel('Predicted')\n",
    "        plt.xlabel('Actual')\n",
    "        plt.axis('scaled')\n",
    "\n",
    "        max_val = max(max(plt.xlim()), max(plt.ylim()))\n",
    "        plt.xlim((0, max_val))\n",
    "        plt.ylim((0, max_val))\n",
    "\n",
    "        x_min, x_max = plt.xlim()\n",
    "        y_min, y_max = plt.ylim()\n",
    "        plt.plot([x_min, x_max], [y_min, y_max], 'k--', alpha=0.2, label='y=x')\n",
    "        plt.legend()\n",
    "        plt.savefig(title+'_plot.svg')\n",
    "\n",
    "        if X_test.shape[1] == 1:\n",
    "            plt.figure()\n",
    "            plt.title(title)\n",
    "            plt.scatter(X_train, y_train_pred, color='b', label='Train', s=10)\n",
    "            plt.scatter(X_test, y_test_pred, color='orange', label='Test', s=10)\n",
    "            plt.scatter(X_train, y_train, color='green', label='Data', s=10)\n",
    "            plt.scatter(X_test, y_test, color='green', s=10)\n",
    "            plt.legend()\n",
    "            plt.savefig(title+'_1D_plot.svg')\n",
    "\n",
    "    print(f'Scoring complete taking {time.time() - st} seconds. ')\n",
    "\n",
    "    return scores, y_test_pred, y_train_pred"
   ]
  },
  {
   "cell_type": "code",
   "execution_count": 14,
   "id": "1b57181e-39f2-4330-ad72-07909e9664df",
   "metadata": {
    "scrolled": true
   },
   "outputs": [],
   "source": [
    "# estimator = StatevectorEstimator()\n",
    "# estimator = Estimator(mode=_backend)\n",
    "# estimator.options.default_shots = 1024.0\n",
    "# estimator.options.resilience_level = 1\n",
    "\n",
    "# cost_history_dict = {\n",
    "#     \"prev_vector\": None,\n",
    "#     \"iters\": 0,\n",
    "#     \"cost_history\": [],\n",
    "# }\n",
    "# spsa = SPSA(maxiter=1)\n",
    "# # Wrap the cost function so it can be called with just the required input\n",
    "# result = spsa.minimize(\n",
    "#     lambda params: cost_func(\n",
    "#         params, qc, mapped_observables, estimator, num_qubits, X_train, y_train, n_jobs, cost_history_dict\n",
    "#     ),\n",
    "#     x0=x0,\n",
    "# )"
   ]
  },
  {
   "cell_type": "code",
   "execution_count": 15,
   "id": "6e760023-67cd-4a5f-bf0b-53d1cfa25510",
   "metadata": {
    "scrolled": true
   },
   "outputs": [],
   "source": [
    "# # # Select backend\n",
    "# # # service = QiskitRuntimeService(channel=\"ibm_quantum\", instance='pinq-quebec-hub/univ-toronto/default')\n",
    "# # # _backend = service.least_busy(operational=True, simulator=False, min_num_qubits=127)\n",
    "# # _backend = FakeQuebec()\n",
    "# # target = _backend.target\n",
    "\n",
    "# # # Generate pass manager\n",
    "# # pm = generate_preset_pass_manager(target=target, optimization_level=0)\n",
    "# # qc = pm.run(qc)\n",
    "\n",
    "\n",
    "# observables_labels = ''.join(['I']*(num_qubits-1))+\"Z\"\n",
    "# observables = [SparsePauliOp(observables_labels)]\n",
    "\n",
    "# mapped_observables = [observable.apply_layout(qc.layout) for observable in observables]\n",
    "\n",
    "\n",
    "# scores = []\n",
    "# with open('model_log.csv', 'w') as outfile:\n",
    "#     outfile.write('Time,Iteration,Cost,Parameters')\n",
    "#     outfile.write('\\n')        \n",
    "\n",
    "# spsa = SPSA(maxiter=1)\n",
    "\n",
    "# # with Session(backend=_backend) as session:\n",
    "# #     print(session.details())\n",
    "# # estimator = Estimator(mode=session)\n",
    "# # estimator.options.default_shots = 1024.0\n",
    "# # estimator.options.resilience_level = 1\n",
    "# estimator = StatevectorEstimator()\n",
    "# cost_history_dict = {\n",
    "#     \"prev_vector\": None,\n",
    "#     \"iters\": 0,\n",
    "#     \"cost_history\": [],\n",
    "# }\n",
    "\n",
    "# # for i in range(10):\n",
    "# save_file = 'partial_state_model.bin'\n",
    "# t0 = time.perf_counter()\n",
    "# # res = spsa.minimize(\n",
    "# #     lambda params: cost_func(\n",
    "# #         params, qc, mapped_observables, estimator, num_qubits, X_train, y_train, n_jobs, cost_history_dict\n",
    "# #     ),\n",
    "# #     x0=x0,\n",
    "# # )  \n",
    "# res = minimize(cost_func,\n",
    "#     x0,\n",
    "#     args=(qc, mapped_observables, estimator, num_qubits, X_train, y_train,n_jobs,cost_history_dict),\n",
    "#     method=\"cobyla\", options={'maxiter':1000})      \n",
    "# print(f\"Step done in {time.perf_counter()-t0:.4f} seconds\")\n",
    "# x0 = res.x\n",
    "# loss = res.fun\n",
    "# progress = {'x': x0, 'loss': loss}\n",
    "# dump(progress, save_file)\n",
    "    \n",
    "# progress = {'x': x0, 'loss': loss}\n",
    "# dump(progress, 'final_state_model.bin')\n",
    "# os.remove('partial_state_model.bin') \n",
    "# scores, y_test_pred, y_train_pred = evaluate(x0,qc, mapped_observables, estimator, num_qubits, n_jobs, X_train, y_train, X_test=X_test, y_test=y_test, plot = True, title = 'A2_HWE-CNOT',y_scaler=scaler)\n",
    "\n",
    "# name = 'A2_HWE-CNOT_predicted_values.csv'\n",
    "# train_pred, y_train, test_pred, y_test = y_train_pred.tolist(), y_train.tolist(), y_test_pred.tolist(), y_test.tolist()\n",
    "# df_train = pd.DataFrame({'Predicted': train_pred, 'Reference': y_train})\n",
    "# df_train['Data'] = 'Train'\n",
    "# df_test = pd.DataFrame({'Predicted': test_pred, 'Reference': y_test})\n",
    "# df_test['Data'] = 'Test'\n",
    "# df = pd.concat([df_train, df_test], ignore_index=True)\n",
    "# df = df[['Data', 'Predicted', 'Reference']]\n",
    "\n",
    "# df.to_csv(name, index=False)\n",
    "\n",
    "# results_title = 'A2_HWE-CNOT_results.json'\n",
    "# with open(results_title, 'w') as outfile:\n",
    "#     json.dump(scores, outfile)\n",
    "\n"
   ]
  },
  {
   "cell_type": "code",
   "execution_count": null,
   "id": "21c8acce-aca9-4a3c-9af6-73f33015bf0d",
   "metadata": {
    "scrolled": true
   },
   "outputs": [
    {
     "name": "stdout",
     "output_type": "stream",
     "text": [
      "None\n"
     ]
    },
    {
     "name": "stderr",
     "output_type": "stream",
     "text": [
      "100%|██████████████████████████████████████████████████████████████████████████████████████████████████████████████████████████████████████████████████████████████████████████████| 64/64 [00:18<00:00,  3.40it/s]\n"
     ]
    },
    {
     "name": "stdout",
     "output_type": "stream",
     "text": [
      "Iters. done: 1 Current cost: 0.1346745957953336 Accuracy: -0.436169819156466 Time: 33.394343765990925\n"
     ]
    },
    {
     "name": "stderr",
     "output_type": "stream",
     "text": [
      "100%|██████████████████████████████████████████████████████████████████████████████████████████████████████████████████████████████████████████████████████████████████████████████| 64/64 [00:19<00:00,  3.21it/s]\n"
     ]
    },
    {
     "name": "stdout",
     "output_type": "stream",
     "text": [
      "Iters. done: 2 Current cost: 0.12393534547992785 Accuracy: -0.32164645940722725 Time: 33.98431418300606\n"
     ]
    },
    {
     "name": "stderr",
     "output_type": "stream",
     "text": [
      "100%|██████████████████████████████████████████████████████████████████████████████████████████████████████████████████████████████████████████████████████████████████████████████| 64/64 [00:22<00:00,  2.89it/s]\n"
     ]
    },
    {
     "name": "stdout",
     "output_type": "stream",
     "text": [
      "Iters. done: 3 Current cost: 0.12126481957792545 Accuracy: -0.293167972584367 Time: 34.308604723002645\n"
     ]
    },
    {
     "name": "stderr",
     "output_type": "stream",
     "text": [
      "100%|██████████████████████████████████████████████████████████████████████████████████████████████████████████████████████████████████████████████████████████████████████████████| 64/64 [00:19<00:00,  3.29it/s]\n"
     ]
    },
    {
     "name": "stdout",
     "output_type": "stream",
     "text": [
      "Iters. done: 4 Current cost: 0.13658060739550432 Accuracy: -0.4564955258642647 Time: 32.867024317005416\n"
     ]
    },
    {
     "name": "stderr",
     "output_type": "stream",
     "text": [
      "100%|██████████████████████████████████████████████████████████████████████████████████████████████████████████████████████████████████████████████████████████████████████████████| 64/64 [00:18<00:00,  3.48it/s]\n"
     ]
    },
    {
     "name": "stdout",
     "output_type": "stream",
     "text": [
      "Iters. done: 5 Current cost: 0.12206344294856299 Accuracy: -0.3016844917913426 Time: 33.60904014499101\n"
     ]
    },
    {
     "name": "stderr",
     "output_type": "stream",
     "text": [
      "100%|██████████████████████████████████████████████████████████████████████████████████████████████████████████████████████████████████████████████████████████████████████████████| 64/64 [00:20<00:00,  3.13it/s]\n"
     ]
    },
    {
     "name": "stdout",
     "output_type": "stream",
     "text": [
      "Iters. done: 6 Current cost: 0.1186246331393084 Accuracy: -0.2650130257831873 Time: 35.231632076000096\n"
     ]
    },
    {
     "name": "stderr",
     "output_type": "stream",
     "text": [
      "100%|██████████████████████████████████████████████████████████████████████████████████████████████████████████████████████████████████████████████████████████████████████████████| 64/64 [00:18<00:00,  3.38it/s]\n"
     ]
    },
    {
     "name": "stdout",
     "output_type": "stream",
     "text": [
      "Iters. done: 7 Current cost: 0.11798681332584489 Accuracy: -0.25821131562585076 Time: 33.12416597601259\n"
     ]
    },
    {
     "name": "stderr",
     "output_type": "stream",
     "text": [
      "100%|██████████████████████████████████████████████████████████████████████████████████████████████████████████████████████████████████████████████████████████████████████████████| 64/64 [00:17<00:00,  3.57it/s]\n"
     ]
    },
    {
     "name": "stdout",
     "output_type": "stream",
     "text": [
      "Iters. done: 8 Current cost: 0.12447964677468479 Accuracy: -0.32745088812996626 Time: 31.637546355006634\n"
     ]
    },
    {
     "name": "stderr",
     "output_type": "stream",
     "text": [
      "100%|██████████████████████████████████████████████████████████████████████████████████████████████████████████████████████████████████████████████████████████████████████████████| 64/64 [00:19<00:00,  3.24it/s]\n"
     ]
    },
    {
     "name": "stdout",
     "output_type": "stream",
     "text": [
      "Iters. done: 9 Current cost: 0.12959372871809688 Accuracy: -0.3819874553009812 Time: 32.252477927992004\n"
     ]
    },
    {
     "name": "stderr",
     "output_type": "stream",
     "text": [
      "100%|██████████████████████████████████████████████████████████████████████████████████████████████████████████████████████████████████████████████████████████████████████████████| 64/64 [00:18<00:00,  3.43it/s]\n"
     ]
    },
    {
     "name": "stdout",
     "output_type": "stream",
     "text": [
      "Iters. done: 10 Current cost: 0.12178075847558648 Accuracy: -0.2986699447193024 Time: 33.414353085987386\n"
     ]
    },
    {
     "name": "stderr",
     "output_type": "stream",
     "text": [
      "100%|██████████████████████████████████████████████████████████████████████████████████████████████████████████████████████████████████████████████████████████████████████████████| 64/64 [00:19<00:00,  3.24it/s]\n"
     ]
    },
    {
     "name": "stdout",
     "output_type": "stream",
     "text": [
      "Iters. done: 11 Current cost: 0.11634860966672537 Accuracy: -0.24074151266141763 Time: 33.67585098100244\n"
     ]
    },
    {
     "name": "stderr",
     "output_type": "stream",
     "text": [
      "100%|██████████████████████████████████████████████████████████████████████████████████████████████████████████████████████████████████████████████████████████████████████████████| 64/64 [00:19<00:00,  3.33it/s]\n"
     ]
    },
    {
     "name": "stdout",
     "output_type": "stream",
     "text": [
      "Iters. done: 12 Current cost: 0.11767807672579347 Accuracy: -0.2549189486843033 Time: 34.25993069600372\n"
     ]
    },
    {
     "name": "stderr",
     "output_type": "stream",
     "text": [
      "100%|██████████████████████████████████████████████████████████████████████████████████████████████████████████████████████████████████████████████████████████████████████████████| 64/64 [00:18<00:00,  3.38it/s]\n"
     ]
    },
    {
     "name": "stdout",
     "output_type": "stream",
     "text": [
      "Iters. done: 13 Current cost: 0.1130331137893349 Accuracy: -0.2053850663581953 Time: 32.95655852399068\n"
     ]
    },
    {
     "name": "stderr",
     "output_type": "stream",
     "text": [
      "100%|██████████████████████████████████████████████████████████████████████████████████████████████████████████████████████████████████████████████████████████████████████████████| 64/64 [00:19<00:00,  3.26it/s]\n"
     ]
    },
    {
     "name": "stdout",
     "output_type": "stream",
     "text": [
      "Iters. done: 14 Current cost: 0.10866617215968519 Accuracy: -0.15881600310255362 Time: 33.47023186399019\n"
     ]
    },
    {
     "name": "stderr",
     "output_type": "stream",
     "text": [
      "100%|██████████████████████████████████████████████████████████████████████████████████████████████████████████████████████████████████████████████████████████████████████████████| 64/64 [00:21<00:00,  3.04it/s]\n"
     ]
    },
    {
     "name": "stdout",
     "output_type": "stream",
     "text": [
      "Iters. done: 15 Current cost: 0.12275801158188009 Accuracy: -0.3090913713339305 Time: 35.1253725530114\n"
     ]
    },
    {
     "name": "stderr",
     "output_type": "stream",
     "text": [
      "100%|██████████████████████████████████████████████████████████████████████████████████████████████████████████████████████████████████████████████████████████████████████████████| 64/64 [00:19<00:00,  3.29it/s]\n"
     ]
    },
    {
     "name": "stdout",
     "output_type": "stream",
     "text": [
      "Iters. done: 16 Current cost: 0.1108731081525004 Accuracy: -0.1823507673761966 Time: 33.119137795001734\n"
     ]
    },
    {
     "name": "stderr",
     "output_type": "stream",
     "text": [
      "100%|██████████████████████████████████████████████████████████████████████████████████████████████████████████████████████████████████████████████████████████████████████████████| 64/64 [00:18<00:00,  3.49it/s]\n"
     ]
    },
    {
     "name": "stdout",
     "output_type": "stream",
     "text": [
      "Iters. done: 17 Current cost: 0.10608842413985903 Accuracy: -0.1313268995667185 Time: 33.36650560199632\n"
     ]
    },
    {
     "name": "stderr",
     "output_type": "stream",
     "text": [
      "100%|██████████████████████████████████████████████████████████████████████████████████████████████████████████████████████████████████████████████████████████████████████████████| 64/64 [00:19<00:00,  3.28it/s]\n"
     ]
    },
    {
     "name": "stdout",
     "output_type": "stream",
     "text": [
      "Iters. done: 18 Current cost: 0.12065188592778334 Accuracy: -0.2866316484596798 Time: 32.71810217600432\n"
     ]
    },
    {
     "name": "stderr",
     "output_type": "stream",
     "text": [
      "100%|██████████████████████████████████████████████████████████████████████████████████████████████████████████████████████████████████████████████████████████████████████████████| 64/64 [00:19<00:00,  3.31it/s]\n"
     ]
    },
    {
     "name": "stdout",
     "output_type": "stream",
     "text": [
      "Iters. done: 19 Current cost: 0.1046283558763485 Accuracy: -0.11575673236793449 Time: 32.939557288002106\n"
     ]
    },
    {
     "name": "stderr",
     "output_type": "stream",
     "text": [
      "100%|██████████████████████████████████████████████████████████████████████████████████████████████████████████████████████████████████████████████████████████████████████████████| 64/64 [00:18<00:00,  3.40it/s]\n"
     ]
    },
    {
     "name": "stdout",
     "output_type": "stream",
     "text": [
      "Iters. done: 20 Current cost: 0.10544761986578291 Accuracy: -0.12449336312296944 Time: 33.03491707499779\n"
     ]
    },
    {
     "name": "stderr",
     "output_type": "stream",
     "text": [
      "100%|██████████████████████████████████████████████████████████████████████████████████████████████████████████████████████████████████████████████████████████████████████████████| 64/64 [00:19<00:00,  3.22it/s]\n"
     ]
    },
    {
     "name": "stdout",
     "output_type": "stream",
     "text": [
      "Iters. done: 21 Current cost: 0.11374389370917712 Accuracy: -0.2129648230518124 Time: 33.09907646800275\n"
     ]
    },
    {
     "name": "stderr",
     "output_type": "stream",
     "text": [
      "100%|██████████████████████████████████████████████████████████████████████████████████████████████████████████████████████████████████████████████████████████████████████████████| 64/64 [00:18<00:00,  3.41it/s]\n"
     ]
    },
    {
     "name": "stdout",
     "output_type": "stream",
     "text": [
      "Iters. done: 22 Current cost: 0.09077803278166086 Accuracy: 0.03194310587316462 Time: 32.65164326100785\n"
     ]
    },
    {
     "name": "stderr",
     "output_type": "stream",
     "text": [
      "100%|██████████████████████████████████████████████████████████████████████████████████████████████████████████████████████████████████████████████████████████████████████████████| 64/64 [00:20<00:00,  3.15it/s]\n"
     ]
    },
    {
     "name": "stdout",
     "output_type": "stream",
     "text": [
      "Iters. done: 23 Current cost: 0.10624897647389837 Accuracy: -0.13303902957298086 Time: 35.249268916013534\n"
     ]
    },
    {
     "name": "stderr",
     "output_type": "stream",
     "text": [
      "100%|██████████████████████████████████████████████████████████████████████████████████████████████████████████████████████████████████████████████████████████████████████████████| 64/64 [00:19<00:00,  3.25it/s]\n"
     ]
    },
    {
     "name": "stdout",
     "output_type": "stream",
     "text": [
      "Iters. done: 24 Current cost: 0.112856896158187 Accuracy: -0.20350588163175698 Time: 33.90887421800289\n"
     ]
    },
    {
     "name": "stderr",
     "output_type": "stream",
     "text": [
      "100%|██████████████████████████████████████████████████████████████████████████████████████████████████████████████████████████████████████████████████████████████████████████████| 64/64 [00:18<00:00,  3.49it/s]\n"
     ]
    },
    {
     "name": "stdout",
     "output_type": "stream",
     "text": [
      "Iters. done: 25 Current cost: 0.1020281135095703 Accuracy: -0.0880277491279624 Time: 32.89484496800287\n"
     ]
    },
    {
     "name": "stderr",
     "output_type": "stream",
     "text": [
      "100%|██████████████████████████████████████████████████████████████████████████████████████████████████████████████████████████████████████████████████████████████████████████████| 64/64 [00:19<00:00,  3.36it/s]\n"
     ]
    },
    {
     "name": "stdout",
     "output_type": "stream",
     "text": [
      "Iters. done: 26 Current cost: 0.09534744653726626 Accuracy: -0.0167851200278204 Time: 33.3754357680009\n"
     ]
    },
    {
     "name": "stderr",
     "output_type": "stream",
     "text": [
      "100%|██████████████████████████████████████████████████████████████████████████████████████████████████████████████████████████████████████████████████████████████████████████████| 64/64 [00:18<00:00,  3.46it/s]\n"
     ]
    },
    {
     "name": "stdout",
     "output_type": "stream",
     "text": [
      "Iters. done: 27 Current cost: 0.10232372651133531 Accuracy: -0.09118016602424417 Time: 32.58366615299019\n"
     ]
    },
    {
     "name": "stderr",
     "output_type": "stream",
     "text": [
      "100%|██████████████████████████████████████████████████████████████████████████████████████████████████████████████████████████████████████████████████████████████████████████████| 64/64 [00:18<00:00,  3.51it/s]\n"
     ]
    },
    {
     "name": "stdout",
     "output_type": "stream",
     "text": [
      "Iters. done: 28 Current cost: 0.09164917924078472 Accuracy: 0.022653200488484293 Time: 33.267762015995686\n"
     ]
    },
    {
     "name": "stderr",
     "output_type": "stream",
     "text": [
      "100%|██████████████████████████████████████████████████████████████████████████████████████████████████████████████████████████████████████████████████████████████████████████████| 64/64 [00:20<00:00,  3.18it/s]\n"
     ]
    },
    {
     "name": "stdout",
     "output_type": "stream",
     "text": [
      "Iters. done: 29 Current cost: 0.09796455297651475 Accuracy: -0.04469394172779961 Time: 33.270588990009855\n"
     ]
    },
    {
     "name": "stderr",
     "output_type": "stream",
     "text": [
      "100%|██████████████████████████████████████████████████████████████████████████████████████████████████████████████████████████████████████████████████████████████████████████████| 64/64 [00:19<00:00,  3.22it/s]\n"
     ]
    },
    {
     "name": "stdout",
     "output_type": "stream",
     "text": [
      "Iters. done: 30 Current cost: 0.08831935183393172 Accuracy: 0.05816247821440279 Time: 32.69824083500134\n"
     ]
    },
    {
     "name": "stderr",
     "output_type": "stream",
     "text": [
      "100%|██████████████████████████████████████████████████████████████████████████████████████████████████████████████████████████████████████████████████████████████████████████████| 64/64 [00:18<00:00,  3.43it/s]\n"
     ]
    },
    {
     "name": "stdout",
     "output_type": "stream",
     "text": [
      "Iters. done: 31 Current cost: 0.1131291480019739 Accuracy: -0.2064091751515731 Time: 32.98385875701206\n"
     ]
    },
    {
     "name": "stderr",
     "output_type": "stream",
     "text": [
      "100%|██████████████████████████████████████████████████████████████████████████████████████████████████████████████████████████████████████████████████████████████████████████████| 64/64 [00:18<00:00,  3.46it/s]\n"
     ]
    },
    {
     "name": "stdout",
     "output_type": "stream",
     "text": [
      "Iters. done: 32 Current cost: 0.09525429690358249 Accuracy: -0.015791772382913294 Time: 32.29457060499408\n"
     ]
    },
    {
     "name": "stderr",
     "output_type": "stream",
     "text": [
      "100%|██████████████████████████████████████████████████████████████████████████████████████████████████████████████████████████████████████████████████████████████████████████████| 64/64 [00:19<00:00,  3.36it/s]\n"
     ]
    },
    {
     "name": "stdout",
     "output_type": "stream",
     "text": [
      "Iters. done: 33 Current cost: 0.09542277866862836 Accuracy: -0.01758846183728391 Time: 32.760005456992076\n"
     ]
    },
    {
     "name": "stderr",
     "output_type": "stream",
     "text": [
      "100%|██████████████████████████████████████████████████████████████████████████████████████████████████████████████████████████████████████████████████████████████████████████████| 64/64 [00:18<00:00,  3.52it/s]\n"
     ]
    }
   ],
   "source": [
    "# estimator = StatevectorEstimator()\n",
    "# job = estimator.run([(qc, mapped_observables)])\n",
    "# y_pred = job.result()[0].data.evs\n",
    "scores = []\n",
    "with open('model_log.csv', 'w') as outfile:\n",
    "    outfile.write('Time,Iteration,Cost,Parameters')\n",
    "    outfile.write('\\n')        \n",
    "\n",
    "spsa = SPSA(maxiter=1)\n",
    "\n",
    "with Session(backend=_backend) as session:\n",
    "    print(session.details())\n",
    "    estimator = Estimator(mode=session)\n",
    "    estimator.options.default_shots = 1024.0\n",
    "    estimator.options.resilience_level = 1\n",
    "    \n",
    "    cost_history_dict = {\n",
    "        \"prev_vector\": None,\n",
    "        \"iters\": 0,\n",
    "        \"cost_history\": [],\n",
    "    }\n",
    "    \n",
    "    \n",
    "    save_file = 'partial_state_model.bin'\n",
    "    \n",
    "    res = minimize(cost_func,\n",
    "        x0,\n",
    "        args=(qc, mapped_observables, estimator, num_qubits, X_train, y_train,n_jobs,cost_history_dict),\n",
    "        method=\"cobyla\", options={'maxiter':1000})        \n",
    "    x0 = res.x\n",
    "    loss = res.fun\n",
    "    progress = {'x': x0, 'loss': loss}\n",
    "    dump(progress, save_file)\n",
    "        \n",
    "    progress = {'x': x0, 'loss': loss}\n",
    "    dump(progress, 'final_state_model.bin')\n",
    "    os.remove('partial_state_model.bin') \n",
    "    scores, y_test_pred, y_train_pred = evaluate(x0,qc, mapped_observables, estimator, num_qubits, n_jobs, X_train, y_train, X_test=X_test, y_test=y_test, plot = True, title = 'A2_HWE-CNOT',y_scaler=scaler)\n",
    "    \n",
    "    name = 'A2_HWE-CNOT_predicted_values.csv'\n",
    "    train_pred, y_train, test_pred, y_test = y_train_pred.tolist(), y_train.tolist(), y_test_pred.tolist(), y_test.tolist()\n",
    "    df_train = pd.DataFrame({'Predicted': train_pred, 'Reference': y_train})\n",
    "    df_train['Data'] = 'Train'\n",
    "    df_test = pd.DataFrame({'Predicted': test_pred, 'Reference': y_test})\n",
    "    df_test['Data'] = 'Test'\n",
    "    df = pd.concat([df_train, df_test], ignore_index=True)\n",
    "    df = df[['Data', 'Predicted', 'Reference']]\n",
    "\n",
    "    df.to_csv(name, index=False)\n",
    "\n",
    "    results_title = 'A2_HWE-CNOT_results.json'\n",
    "    with open(results_title, 'w') as outfile:\n",
    "        json.dump(scores, outfile)\n",
    "    \n"
   ]
  },
  {
   "cell_type": "code",
   "execution_count": null,
   "id": "50a3b43b-ec00-4c7c-b5f2-7d0d221ecba1",
   "metadata": {},
   "outputs": [],
   "source": []
  }
 ],
 "metadata": {
  "kernelspec": {
   "display_name": "Python 3 (ipykernel)",
   "language": "python",
   "name": "python3"
  },
  "language_info": {
   "codemirror_mode": {
    "name": "ipython",
    "version": 3
   },
   "file_extension": ".py",
   "mimetype": "text/x-python",
   "name": "python",
   "nbconvert_exporter": "python",
   "pygments_lexer": "ipython3",
   "version": "3.12.4"
  }
 },
 "nbformat": 4,
 "nbformat_minor": 5
}
