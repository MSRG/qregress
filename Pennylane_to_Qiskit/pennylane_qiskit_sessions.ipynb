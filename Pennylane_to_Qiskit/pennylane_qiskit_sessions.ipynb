{
 "cells": [
  {
   "cell_type": "code",
   "execution_count": 1,
   "id": "b8e5c5cc-5a14-4c41-ab2f-aa7a63465d8a",
   "metadata": {},
   "outputs": [],
   "source": [
    "import pennylane as qml\n",
    "from qiskit_ibm_runtime.fake_provider import FakeQuebec\n",
    "from pennylane_qiskit import qiskit_session\n",
    "from qiskit_ibm_runtime import QiskitRuntimeService"
   ]
  },
  {
   "cell_type": "code",
   "execution_count": 13,
   "id": "8a9ad851-ad2d-4366-85eb-f33344746ebb",
   "metadata": {},
   "outputs": [],
   "source": [
    "service = QiskitRuntimeService(channel=\"ibm_quantum\", instance='pinq-quebec-hub/univ-toronto/default')\n",
    "_backend = service.least_busy(operational=True, simulator=False, min_num_qubits=127)\n",
    "# _backend = FakeQuebec()\n",
    "# target = _backend.target"
   ]
  },
  {
   "cell_type": "code",
   "execution_count": 14,
   "id": "239050b3-a3de-499f-89ff-29db80c42855",
   "metadata": {},
   "outputs": [],
   "source": [
    "dev = qml.device('qiskit.remote', wires=127, backend=_backend, resilience_level=1, optimization_level=1, seed_transpiler=42)"
   ]
  },
  {
   "cell_type": "code",
   "execution_count": 15,
   "id": "c395cd8e-3476-4573-87a3-53a623f19a2a",
   "metadata": {},
   "outputs": [],
   "source": [
    "@qml.qnode(dev)\n",
    "def circuit(x, y, z):\n",
    "    qml.RZ(z, wires=[0])\n",
    "    qml.RY(y, wires=[0])\n",
    "    qml.RX(x, wires=[0])\n",
    "    qml.CNOT(wires=[0, 1])\n",
    "    return qml.expval(qml.PauliZ(wires=1))"
   ]
  },
  {
   "cell_type": "code",
   "execution_count": 16,
   "id": "9826db9d-0338-4ce2-942d-16f872a72933",
   "metadata": {},
   "outputs": [],
   "source": [
    "output = []\n",
    "with qiskit_session(dev) as session:\n",
    "    for i in range(0,2):\n",
    "        output.append(circuit(i,i,i))"
   ]
  },
  {
   "cell_type": "code",
   "execution_count": 17,
   "id": "d4e77bcf-e136-4b6c-b8b1-d08b7b921ce2",
   "metadata": {},
   "outputs": [
    {
     "data": {
      "text/plain": [
       "[0.9437751004016064, 0.16194331983805668]"
      ]
     },
     "execution_count": 17,
     "metadata": {},
     "output_type": "execute_result"
    }
   ],
   "source": [
    "output"
   ]
  },
  {
   "cell_type": "code",
   "execution_count": null,
   "id": "a8c96988-6612-4a69-bd41-24ef704a9cb7",
   "metadata": {},
   "outputs": [],
   "source": []
  }
 ],
 "metadata": {
  "kernelspec": {
   "display_name": "Python 3 (ipykernel)",
   "language": "python",
   "name": "python3"
  },
  "language_info": {
   "codemirror_mode": {
    "name": "ipython",
    "version": 3
   },
   "file_extension": ".py",
   "mimetype": "text/x-python",
   "name": "python",
   "nbconvert_exporter": "python",
   "pygments_lexer": "ipython3",
   "version": "3.12.4"
  }
 },
 "nbformat": 4,
 "nbformat_minor": 5
}
