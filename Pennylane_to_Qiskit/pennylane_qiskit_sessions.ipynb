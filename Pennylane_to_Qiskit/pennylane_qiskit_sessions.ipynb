{
 "cells": [
  {
   "cell_type": "code",
   "execution_count": null,
   "id": "b8e5c5cc-5a14-4c41-ab2f-aa7a63465d8a",
   "metadata": {},
   "outputs": [],
   "source": [
    "import pennylane as qml\n",
    "from qiskit_ibm_runtime.fake_provider import FakeQuebec\n",
    "from pennylane_qiskit import qiskit_session\n",
    "from qiskit_ibm_runtime import QiskitRuntimeService\n",
    "\n",
    "\n",
    "import joblib\n",
    "import click\n",
    "import json\n",
    "import time\n",
    "import os\n",
    "import itertools\n",
    "import collections.abc\n",
    "from shutil import copy,SameFileError\n",
    "from glob import glob\n",
    "\n",
    "import matplotlib.pyplot as plt\n",
    "import seaborn as sns\n",
    "import numpy as np\n",
    "import pandas as pd\n",
    "import pennylane as qml\n",
    "from sklearn.metrics import mean_squared_error\n",
    "from sklearn.model_selection import KFold\n",
    "# from qiskit_ibm_provider import IBMProvider\n",
    "\n",
    "from quantum.Quantum import QuantumRegressor\n",
    "from quantum.Evaluate import evaluate\n",
    "from settings import ANSATZ_LIST, ENCODER_LIST\n",
    "from sklearn.utils._testing import ignore_warnings\n",
    "from sklearn.exceptions import InconsistentVersionWarning"
   ]
  },
  {
   "cell_type": "code",
   "execution_count": null,
   "id": "4132c598-5693-4ea9-8ef1-cd4cb44e97ea",
   "metadata": {},
   "outputs": [],
   "source": [
    "ANSATZs=[]\n",
    "ENCODERs=[]\n",
    "pairs=[]\n",
    "\n",
    "\n",
    "for i in glob(os.path.join(os.path.expanduser('~'),'qregress/function-calc-test/RUD_AL/3_AL_lin16qubit/*/*results.json')):\n",
    "    print(i)\n",
    "    pair = os.path.basename(i).replace('_results.json','')\n",
    "    pairs.append(pair)\n",
    "    an, en = pair.split('_')\n",
    "    ANSATZs.append(an)\n",
    "    ENCODERs.append(en)\n",
    "    \n",
    "\n",
    "\n",
    "ANSATZs=set(ANSATZs)\n",
    "ENCODERs=set(ENCODERs)"
   ]
  },
  {
   "cell_type": "code",
   "execution_count": null,
   "id": "8a9ad851-ad2d-4366-85eb-f33344746ebb",
   "metadata": {},
   "outputs": [],
   "source": [
    "# device='qulacs.simulator'\n",
    "# num_qubits=16\n",
    "# dev = qml.device(device, wires=num_qubits)\n",
    "\n",
    "# service = QiskitRuntimeService(channel=\"ibm_quantum\", instance='pinq-quebec-hub/univ-toronto/default')\n",
    "# _backend = service.least_busy(operational=True, simulator=False, min_num_qubits=127)\n",
    "_backend = FakeQuebec()\n",
    "\n",
    "dev = qml.device('qiskit.remote', wires=127, backend=_backend, resilience_level=1, optimization_level=1, seed_transpiler=42)\n",
    "# target = _backend.target\n",
    "\n",
    "num_qubits = 16"
   ]
  },
  {
   "cell_type": "code",
   "execution_count": null,
   "id": "1dede585-390d-4a97-b0cd-629b9b5fff86",
   "metadata": {},
   "outputs": [],
   "source": [
    "dev.backend.backend_name"
   ]
  },
  {
   "cell_type": "code",
   "execution_count": null,
   "id": "239050b3-a3de-499f-89ff-29db80c42855",
   "metadata": {},
   "outputs": [],
   "source": [
    "@qml.qnode(dev)\n",
    "def circuit(features, parameters):\n",
    "    #  builds the circuit with the given encoder and variational circuits.\n",
    "    #  encoder and variational circuits must have only two required parameters, params/feats and wires\n",
    "    for i in range(re_upload_depth):\n",
    "        params = initial_parameters.reshape(re_upload_depth,-1)[i]\n",
    "        encoder(features, wires=range(num_qubits))\n",
    "        variational(params, wires=range(num_qubits))\n",
    "\n",
    "    return qml.expval(qml.PauliZ(0))"
   ]
  },
  {
   "cell_type": "code",
   "execution_count": null,
   "id": "0f12325c-28fa-4b9e-a0ff-76f2274eef8e",
   "metadata": {},
   "outputs": [],
   "source": []
  },
  {
   "cell_type": "code",
   "execution_count": null,
   "id": "9544bbcd-864a-4f35-95ce-4aef1b7ec731",
   "metadata": {},
   "outputs": [],
   "source": [
    "ENCODER, ANSATZ = \"IQP\",\"Full-Pauli-CRZ\"\n",
    "LAYERS = 1 \n",
    "re_upload_depth = 1"
   ]
  },
  {
   "cell_type": "code",
   "execution_count": null,
   "id": "4136502f-7723-4d15-9bef-7fea5f9bbeaa",
   "metadata": {},
   "outputs": [],
   "source": [
    "encoder = ENCODER_LIST[ENCODER]\n",
    "variational=ANSATZ_LIST[ANSATZ]\n",
    "variational.layers = LAYERS\n",
    "variational.set_wires(range(num_qubits))\n",
    "\n",
    "\n",
    "num_params = variational.num_params * re_upload_depth\n",
    "generator = np.random.default_rng(12958234)\n",
    "initial_parameters = generator.uniform(-np.pi, np.pi, num_params)\n",
    "# feat = generator.uniform(-1, 1, num_qubits)"
   ]
  },
  {
   "cell_type": "code",
   "execution_count": null,
   "id": "ef5dc162-43e7-43e2-b874-e7002c7e4e8f",
   "metadata": {},
   "outputs": [],
   "source": [
    "with open('linear_train.bin','rb') as f:\n",
    "    train = joblib.load(f)\n",
    "\n",
    "with open('linear_test.bin','rb') as f:\n",
    "    test = joblib.load(f)\n",
    "\n",
    "with open('linear_scaler.bin','rb') as f:\n",
    "    scaler = joblib.load(f)\n",
    "X_train, y_train = train['X'],train['y']\n",
    "X_test, y_test = test['X'],test['y']\n"
   ]
  },
  {
   "cell_type": "code",
   "execution_count": null,
   "id": "8aa3420c-f917-40e9-8b93-abca73dc4e87",
   "metadata": {},
   "outputs": [],
   "source": [
    "def predict(x,params):\n",
    "    return np.array()"
   ]
  },
  {
   "cell_type": "code",
   "execution_count": null,
   "id": "9826db9d-0338-4ce2-942d-16f872a72933",
   "metadata": {},
   "outputs": [],
   "source": [
    "output = []\n",
    "\n",
    "with qiskit_session(dev) as session:\n",
    "    for i in range(0,2):\n",
    "        for x in X_train:\n",
    "            output.append(circuit(x,initial_parameters))"
   ]
  },
  {
   "cell_type": "code",
   "execution_count": null,
   "id": "d4e77bcf-e136-4b6c-b8b1-d08b7b921ce2",
   "metadata": {},
   "outputs": [],
   "source": [
    "output"
   ]
  },
  {
   "cell_type": "code",
   "execution_count": null,
   "id": "eab67588-51e0-4ae3-acc4-f3ac4bd26d24",
   "metadata": {},
   "outputs": [],
   "source": []
  }
 ],
 "metadata": {
  "kernelspec": {
   "display_name": "Python 3 (ipykernel)",
   "language": "python",
   "name": "python3"
  },
  "language_info": {
   "codemirror_mode": {
    "name": "ipython",
    "version": 3
   },
   "file_extension": ".py",
   "mimetype": "text/x-python",
   "name": "python",
   "nbconvert_exporter": "python",
   "pygments_lexer": "ipython3",
   "version": "3.12.2"
  }
 },
 "nbformat": 4,
 "nbformat_minor": 5
}
