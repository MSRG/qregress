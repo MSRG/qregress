{
 "cells": [
  {
   "cell_type": "code",
   "execution_count": null,
   "id": "9fa3ebbb-f4f2-4b7a-96f9-9f2bc82e15fc",
   "metadata": {},
   "outputs": [],
   "source": [
    "import click\n",
    "import numpy as np\n",
    "import matplotlib.pyplot as plt\n",
    "import seaborn as sns\n",
    "from glob import glob\n",
    "import pandas as pd\n",
    "import os\n",
    "import shutil\n",
    "import joblib\n",
    "import json\n",
    "from shutil import copytree\n",
    "from termcolor import colored\n"
   ]
  },
  {
   "cell_type": "code",
   "execution_count": null,
   "id": "8b13a997-835d-4afa-9ef3-e336d8bfcfc9",
   "metadata": {},
   "outputs": [],
   "source": [
    "def main(path):\n",
    "    splitsort = []\n",
    "    smaller = []\n",
    "    \n",
    "    for i in sorted(glob(os.path.join(path, '*log.csv'))):\n",
    "        \n",
    "        splitname = os.path.basename(i).split('_')\n",
    "        if len(splitname)==3 and int(splitname[0])!=0:\n",
    "            splitsort.append((int(splitname[0]),i))\n",
    "        elif len(splitname)==2:\n",
    "            smaller.append(i)\n",
    "    \n",
    "    if len(splitsort)!=0:\n",
    "        dirs = list(np.array(sorted(splitsort))[:,1]) + smaller\n",
    "    else:\n",
    "        dirs = smaller\n",
    "    loss = []\n",
    "    for i in dirs:\n",
    "        # print(f\"Processing file: {i}\")\n",
    "        # print(i)\n",
    "        loss.append(split(i))  # Get only the loss values (assumed to be in the second column)\n",
    "\n",
    "    \n",
    "    # plt.plot(*np.vstack(loss).T)\n",
    "    # plt.xlabel(\"Iteration\")\n",
    "    # plt.ylabel(\"Loss\")\n",
    "    # plt.title(\"Loss Curve\")\n",
    "    # plt.show()\n",
    "    \n",
    "    return np.max(np.vstack(loss)[:,0]).astype(int)\n",
    "\n",
    "def split(path):\n",
    "    \"\"\"Helper function to read CSV file and extract required columns.\"\"\"\n",
    "    with open(path, 'r') as f:\n",
    "        save = pd.read_csv(path)[['Iteration','Cost']].dropna()\n",
    "    return save.values    "
   ]
  },
  {
   "cell_type": "code",
   "execution_count": null,
   "id": "91a431a5-6765-4c4f-ba2f-42368376d982",
   "metadata": {},
   "outputs": [],
   "source": [
    "fiveog = [os.path.dirname(i) for i in glob('5qubit/*/*.json') if 'results' not in i]\n",
    "fivenew = [os.path.dirname(i) for i in glob('5/*/*.json') if 'results' not in i]"
   ]
  },
  {
   "cell_type": "code",
   "execution_count": null,
   "id": "1d17944b-51a6-4389-a5b8-c3317b4de709",
   "metadata": {},
   "outputs": [],
   "source": [
    "len(fivenew)"
   ]
  },
  {
   "cell_type": "code",
   "execution_count": null,
   "id": "cefee2e3-1901-4680-8700-566bdfeea490",
   "metadata": {},
   "outputs": [],
   "source": [
    "ran_all = []\n",
    "\n",
    "for i in fiveog:\n",
    "    newpath = os.path.join('5',os.path.basename(i))\n",
    "    oldpath = os.path.join('5qubitbackup',os.path.basename(i))\n",
    "    iters = main(oldpath)\n",
    "\n",
    "    if iters==999:\n",
    "        print(oldpath,iters)    \n",
    "        ran_all.append((os.path.basename(oldpath),iters))\n",
    "    else:\n",
    "        try:\n",
    "            newiters = main(newpath)\n",
    "            print(colored(newpath, 'green'),colored(newiters, 'blue'))\n",
    "            print(colored(oldpath, 'red'),colored(iters, 'blue'))\n",
    "            ran_all.append((os.path.basename(newpath),newiters))\n",
    "        except:\n",
    "            print(colored(oldpath, 'yellow'),colored(iters, 'blue'))\n",
    "    print()"
   ]
  },
  {
   "cell_type": "code",
   "execution_count": null,
   "id": "709af33d-2239-4ead-b055-eb4db1c7ecdc",
   "metadata": {},
   "outputs": [],
   "source": [
    "df = pd.DataFrame(ran_all)"
   ]
  },
  {
   "cell_type": "code",
   "execution_count": null,
   "id": "e236b40a-2f46-43e1-a574-ac90d12d00dd",
   "metadata": {},
   "outputs": [],
   "source": [
    "allname = [os.path.basename(i) for i in fiveog]"
   ]
  },
  {
   "cell_type": "code",
   "execution_count": null,
   "id": "162e7f5c-39dd-4ba8-a85f-5d1e8be85e1d",
   "metadata": {},
   "outputs": [],
   "source": [
    "os.getcwd()"
   ]
  },
  {
   "cell_type": "code",
   "execution_count": null,
   "id": "f4e0140f-e927-42a7-be85-af3516970854",
   "metadata": {},
   "outputs": [],
   "source": [
    "for i in list(set(allname)-set(df[0])):\n",
    "    iters = main(os.path.join('5qubitbackup',i))\n",
    "    print(i,iters)\n",
    "    copytree(os.path.join('5qubitbackup',i),os.path.join('5rerun',i))"
   ]
  },
  {
   "cell_type": "code",
   "execution_count": null,
   "id": "32dfb96e-5303-463a-b9fe-087c1a150238",
   "metadata": {},
   "outputs": [],
   "source": []
  }
 ],
 "metadata": {
  "kernelspec": {
   "display_name": "Python 3 (ipykernel)",
   "language": "python",
   "name": "python3"
  },
  "language_info": {
   "codemirror_mode": {
    "name": "ipython",
    "version": 3
   },
   "file_extension": ".py",
   "mimetype": "text/x-python",
   "name": "python",
   "nbconvert_exporter": "python",
   "pygments_lexer": "ipython3",
   "version": "3.12.9"
  }
 },
 "nbformat": 4,
 "nbformat_minor": 5
}
