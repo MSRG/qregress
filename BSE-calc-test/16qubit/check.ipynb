{
 "cells": [
  {
   "cell_type": "code",
   "execution_count": 1,
   "id": "9da93961-74e7-421f-87de-54c32fc56b51",
   "metadata": {},
   "outputs": [],
   "source": [
    "from glob import glob\n",
    "import sys\n",
    "import os\n",
    "import shutil\n",
    "import joblib"
   ]
  },
  {
   "cell_type": "code",
   "execution_count": 2,
   "id": "916cd57a-eb33-4e9c-ab05-b405fe4c71bb",
   "metadata": {},
   "outputs": [],
   "source": [
    "dirs=[i.split('/')[0] for i in glob('*/*.json') if 'results' not in i]"
   ]
  },
  {
   "cell_type": "code",
   "execution_count": 3,
   "id": "297a02b5-b1a9-4787-8f38-10658c511f27",
   "metadata": {},
   "outputs": [],
   "source": [
    "done=[i.split('/')[1] for i in glob('finished/*')]"
   ]
  },
  {
   "cell_type": "code",
   "execution_count": 4,
   "id": "b963e3b6-72ab-4411-9436-415555a2b2f2",
   "metadata": {},
   "outputs": [
    {
     "data": {
      "text/plain": [
       "set()"
      ]
     },
     "execution_count": 4,
     "metadata": {},
     "output_type": "execute_result"
    }
   ],
   "source": [
    "set(done)&set(dirs)"
   ]
  },
  {
   "cell_type": "code",
   "execution_count": 10,
   "id": "af091820-eb90-4749-b09c-78d87ce24ef5",
   "metadata": {},
   "outputs": [
    {
     "data": {
      "text/plain": [
       "158"
      ]
     },
     "execution_count": 10,
     "metadata": {},
     "output_type": "execute_result"
    }
   ],
   "source": [
    "len(set(done))"
   ]
  },
  {
   "cell_type": "code",
   "execution_count": 5,
   "id": "b3eeec0d-2657-4b5e-a0c5-e845a8c4beb7",
   "metadata": {},
   "outputs": [],
   "source": [
    "# for i in list(set(done)&set(dirs)):\n",
    "#     shutil.rmtree(i)"
   ]
  },
  {
   "cell_type": "code",
   "execution_count": 6,
   "id": "637f6d2b-8f78-46f7-9283-147d57d01d4e",
   "metadata": {},
   "outputs": [
    {
     "data": {
      "text/plain": [
       "168"
      ]
     },
     "execution_count": 6,
     "metadata": {},
     "output_type": "execute_result"
    }
   ],
   "source": [
    "len(set(done)|set(dirs))"
   ]
  },
  {
   "cell_type": "code",
   "execution_count": 7,
   "id": "432f5da8-1d9a-4150-9fd1-28c8e42f6227",
   "metadata": {},
   "outputs": [
    {
     "data": {
      "text/plain": [
       "10"
      ]
     },
     "execution_count": 7,
     "metadata": {},
     "output_type": "execute_result"
    }
   ],
   "source": [
    "len(set(dirs)-set(done))"
   ]
  },
  {
   "cell_type": "code",
   "execution_count": 8,
   "id": "279da570-689b-49ca-88e1-6fdd05d44674",
   "metadata": {},
   "outputs": [
    {
     "data": {
      "text/plain": [
       "21"
      ]
     },
     "execution_count": 8,
     "metadata": {},
     "output_type": "execute_result"
    }
   ],
   "source": [
    "168 - 147"
   ]
  },
  {
   "cell_type": "code",
   "execution_count": 9,
   "id": "d1fa8296-2a26-4a25-8169-c9c29b18bead",
   "metadata": {},
   "outputs": [],
   "source": [
    "# for i in glob('./*/*results.json'):\n",
    "#     shutil.move(os.path.dirname(i),'finished/')"
   ]
  },
  {
   "cell_type": "code",
   "execution_count": null,
   "id": "233779cb-2e49-44c2-8e51-8172a27ea16e",
   "metadata": {},
   "outputs": [],
   "source": []
  }
 ],
 "metadata": {
  "kernelspec": {
   "display_name": "Python 3 (ipykernel)",
   "language": "python",
   "name": "python3"
  },
  "language_info": {
   "codemirror_mode": {
    "name": "ipython",
    "version": 3
   },
   "file_extension": ".py",
   "mimetype": "text/x-python",
   "name": "python",
   "nbconvert_exporter": "python",
   "pygments_lexer": "ipython3",
   "version": "3.9.19"
  }
 },
 "nbformat": 4,
 "nbformat_minor": 5
}
