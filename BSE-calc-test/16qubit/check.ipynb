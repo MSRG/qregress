{
 "cells": [
  {
   "cell_type": "code",
   "execution_count": 1,
   "id": "9da93961-74e7-421f-87de-54c32fc56b51",
   "metadata": {},
   "outputs": [],
   "source": [
    "from glob import glob\n",
    "import sys\n",
    "import os\n",
    "import shutil\n",
    "import joblib\n",
    "import json"
   ]
  },
  {
   "cell_type": "code",
   "execution_count": 2,
   "id": "15f8fbc5-08ff-4157-baf6-e8f3d68cbb76",
   "metadata": {},
   "outputs": [
    {
     "name": "stdout",
     "output_type": "stream",
     "text": [
      "IQP_Full-CRZ/IQP_Full-CRZ.json\n",
      "{'ANSATZ': 'Full-CRZ', 'ENCODER': 'IQP', 'POSTPROCESS': None, 'ERROR_MITIGATION': None, 'SHOTS': None, 'DEVICE': 'qulacs.simulator', 'BACKEND': None, 'OPTIMIZER': 'SPSA', 'MAX_ITER': 100, 'TOLERANCE': 1e-08, 'SCALE_FACTORS': None, 'LAYERS': 1, 'RE-UPLOAD_DEPTH': 1, 'NUM_QUBITS': 16, 'HYPERPARAMETERS': {'alpha': [0], 'beta': [0]}, 'BATCH_SIZE': 25, 'NUM_CORES': 16}\n",
      "A1_Efficient-CRX/A1_Efficient-CRX.json\n",
      "{'ANSATZ': 'Efficient-CRX', 'ENCODER': 'A1', 'POSTPROCESS': None, 'ERROR_MITIGATION': None, 'SHOTS': None, 'DEVICE': 'qulacs.simulator', 'BACKEND': None, 'OPTIMIZER': 'SPSA', 'MAX_ITER': 100, 'TOLERANCE': 1e-08, 'SCALE_FACTORS': None, 'LAYERS': 1, 'RE-UPLOAD_DEPTH': 1, 'NUM_QUBITS': 16, 'HYPERPARAMETERS': {'alpha': [0], 'beta': [0]}, 'BATCH_SIZE': 25, 'NUM_CORES': 16}\n",
      "M-A1-CZ_ESU2/M-A1-CZ_ESU2.json\n",
      "{'ANSATZ': 'ESU2', 'ENCODER': 'M-A1-CZ', 'POSTPROCESS': None, 'ERROR_MITIGATION': None, 'SHOTS': None, 'DEVICE': 'qulacs.simulator', 'BACKEND': None, 'OPTIMIZER': 'SPSA', 'MAX_ITER': 100, 'TOLERANCE': 1e-08, 'SCALE_FACTORS': None, 'LAYERS': 1, 'RE-UPLOAD_DEPTH': 1, 'NUM_QUBITS': 16, 'HYPERPARAMETERS': {'alpha': [0], 'beta': [0]}, 'BATCH_SIZE': 25, 'NUM_CORES': 16}\n",
      "IQP_ESU2/IQP_ESU2.json\n",
      "{'ANSATZ': 'ESU2', 'ENCODER': 'IQP', 'POSTPROCESS': None, 'ERROR_MITIGATION': None, 'SHOTS': None, 'DEVICE': 'qulacs.simulator', 'BACKEND': None, 'OPTIMIZER': 'SPSA', 'MAX_ITER': 100, 'TOLERANCE': 1e-08, 'SCALE_FACTORS': None, 'LAYERS': 1, 'RE-UPLOAD_DEPTH': 1, 'NUM_QUBITS': 16, 'HYPERPARAMETERS': {'alpha': [0], 'beta': [0]}, 'BATCH_SIZE': 25, 'NUM_CORES': 16}\n",
      "A1_Full-CRX/A1_Full-CRX.json\n",
      "{'ANSATZ': 'Full-CRX', 'ENCODER': 'A1', 'POSTPROCESS': None, 'ERROR_MITIGATION': None, 'SHOTS': None, 'DEVICE': 'qulacs.simulator', 'BACKEND': None, 'OPTIMIZER': 'SPSA', 'MAX_ITER': 100, 'TOLERANCE': 1e-08, 'SCALE_FACTORS': None, 'LAYERS': 1, 'RE-UPLOAD_DEPTH': 1, 'NUM_QUBITS': 16, 'HYPERPARAMETERS': {'alpha': [0], 'beta': [0]}, 'BATCH_SIZE': 25, 'NUM_CORES': 16}\n",
      "A1-A1-CZ_Full-CRX/A1-A1-CZ_Full-CRX.json\n",
      "{'ANSATZ': 'Full-CRX', 'ENCODER': 'A1-A1-CZ', 'POSTPROCESS': None, 'ERROR_MITIGATION': None, 'SHOTS': None, 'DEVICE': 'qulacs.simulator', 'BACKEND': None, 'OPTIMIZER': 'SPSA', 'MAX_ITER': 100, 'TOLERANCE': 1e-08, 'SCALE_FACTORS': None, 'LAYERS': 1, 'RE-UPLOAD_DEPTH': 1, 'NUM_QUBITS': 16, 'HYPERPARAMETERS': {'alpha': [0], 'beta': [0]}, 'BATCH_SIZE': 25, 'NUM_CORES': 16}\n",
      "M-A1-CZ_Efficient-CRZ/M-A1-CZ_Efficient-CRZ.json\n",
      "{'ANSATZ': 'Efficient-CRZ', 'ENCODER': 'M-A1-CZ', 'POSTPROCESS': None, 'ERROR_MITIGATION': None, 'SHOTS': None, 'DEVICE': 'qulacs.simulator', 'BACKEND': None, 'OPTIMIZER': 'SPSA', 'MAX_ITER': 100, 'TOLERANCE': 1e-08, 'SCALE_FACTORS': None, 'LAYERS': 1, 'RE-UPLOAD_DEPTH': 1, 'NUM_QUBITS': 16, 'HYPERPARAMETERS': {'alpha': [0], 'beta': [0]}, 'BATCH_SIZE': 25, 'NUM_CORES': 16}\n",
      "M-A1-CNOT_Full-CRZ/M-A1-CNOT_Full-CRZ.json\n",
      "{'ANSATZ': 'Full-CRZ', 'ENCODER': 'M-A1-CNOT', 'POSTPROCESS': None, 'ERROR_MITIGATION': None, 'SHOTS': None, 'DEVICE': 'qulacs.simulator', 'BACKEND': None, 'OPTIMIZER': 'SPSA', 'MAX_ITER': 100, 'TOLERANCE': 1e-08, 'SCALE_FACTORS': None, 'LAYERS': 1, 'RE-UPLOAD_DEPTH': 1, 'NUM_QUBITS': 16, 'HYPERPARAMETERS': {'alpha': [0], 'beta': [0]}, 'BATCH_SIZE': 25, 'NUM_CORES': 16}\n",
      "A1-A1-CZ_Efficient-CRX/A1-A1-CZ_Efficient-CRX.json\n",
      "{'ANSATZ': 'Efficient-CRX', 'ENCODER': 'A1-A1-CZ', 'POSTPROCESS': None, 'ERROR_MITIGATION': None, 'SHOTS': None, 'DEVICE': 'qulacs.simulator', 'BACKEND': None, 'OPTIMIZER': 'SPSA', 'MAX_ITER': 100, 'TOLERANCE': 1e-08, 'SCALE_FACTORS': None, 'LAYERS': 1, 'RE-UPLOAD_DEPTH': 1, 'NUM_QUBITS': 16, 'HYPERPARAMETERS': {'alpha': [0], 'beta': [0]}, 'BATCH_SIZE': 25, 'NUM_CORES': 16}\n",
      "A1-A1-CNOT_Full-CRZ/A1-A1-CNOT_Full-CRZ.json\n",
      "{'ANSATZ': 'Full-CRZ', 'ENCODER': 'A1-A1-CNOT', 'POSTPROCESS': None, 'ERROR_MITIGATION': None, 'SHOTS': None, 'DEVICE': 'qulacs.simulator', 'BACKEND': None, 'OPTIMIZER': 'SPSA', 'MAX_ITER': 100, 'TOLERANCE': 1e-08, 'SCALE_FACTORS': None, 'LAYERS': 1, 'RE-UPLOAD_DEPTH': 1, 'NUM_QUBITS': 16, 'HYPERPARAMETERS': {'alpha': [0], 'beta': [0]}, 'BATCH_SIZE': 25, 'NUM_CORES': 16}\n"
     ]
    }
   ],
   "source": [
    "for p in glob('*/*.json'):\n",
    "    print(p)\n",
    "    with open(p,'r') as f:\n",
    "        olddt=json.load(f)\n",
    "    \n",
    "    \n",
    "    olddt[\"BATCH_SIZE\"]=25\n",
    "    olddt[\"NUM_CORES\"]=16\n",
    "    print(olddt)    \n",
    "\n",
    "    with open(p,'w') as g:\n",
    "        json.dump(olddt,g)"
   ]
  },
  {
   "cell_type": "code",
   "execution_count": null,
   "id": "916cd57a-eb33-4e9c-ab05-b405fe4c71bb",
   "metadata": {},
   "outputs": [],
   "source": [
    "dirs=[i.split('/')[0] for i in glob('*/*.json') if 'results' not in i]"
   ]
  },
  {
   "cell_type": "code",
   "execution_count": null,
   "id": "297a02b5-b1a9-4787-8f38-10658c511f27",
   "metadata": {},
   "outputs": [],
   "source": [
    "done=[i.split('/')[1] for i in glob('finished/*')]"
   ]
  },
  {
   "cell_type": "code",
   "execution_count": null,
   "id": "b963e3b6-72ab-4411-9436-415555a2b2f2",
   "metadata": {},
   "outputs": [],
   "source": [
    "set(done)&set(dirs)"
   ]
  },
  {
   "cell_type": "code",
   "execution_count": null,
   "id": "af091820-eb90-4749-b09c-78d87ce24ef5",
   "metadata": {},
   "outputs": [],
   "source": [
    "len(set(done))"
   ]
  },
  {
   "cell_type": "code",
   "execution_count": null,
   "id": "b3eeec0d-2657-4b5e-a0c5-e845a8c4beb7",
   "metadata": {},
   "outputs": [],
   "source": [
    "# for i in list(set(done)&set(dirs)):\n",
    "#     shutil.rmtree(i)"
   ]
  },
  {
   "cell_type": "code",
   "execution_count": null,
   "id": "637f6d2b-8f78-46f7-9283-147d57d01d4e",
   "metadata": {},
   "outputs": [],
   "source": [
    "len(set(done)|set(dirs))"
   ]
  },
  {
   "cell_type": "code",
   "execution_count": null,
   "id": "432f5da8-1d9a-4150-9fd1-28c8e42f6227",
   "metadata": {},
   "outputs": [],
   "source": [
    "len(set(dirs)-set(done))"
   ]
  },
  {
   "cell_type": "code",
   "execution_count": null,
   "id": "279da570-689b-49ca-88e1-6fdd05d44674",
   "metadata": {},
   "outputs": [],
   "source": [
    "168 - 147"
   ]
  },
  {
   "cell_type": "code",
   "execution_count": null,
   "id": "d1fa8296-2a26-4a25-8169-c9c29b18bead",
   "metadata": {},
   "outputs": [],
   "source": [
    "# for i in glob('./*/*results.json'):\n",
    "#     shutil.move(os.path.dirname(i),'finished/')"
   ]
  },
  {
   "cell_type": "code",
   "execution_count": null,
   "id": "233779cb-2e49-44c2-8e51-8172a27ea16e",
   "metadata": {},
   "outputs": [],
   "source": []
  }
 ],
 "metadata": {
  "kernelspec": {
   "display_name": "Python 3 (ipykernel)",
   "language": "python",
   "name": "python3"
  },
  "language_info": {
   "codemirror_mode": {
    "name": "ipython",
    "version": 3
   },
   "file_extension": ".py",
   "mimetype": "text/x-python",
   "name": "python",
   "nbconvert_exporter": "python",
   "pygments_lexer": "ipython3",
   "version": "3.12.4"
  }
 },
 "nbformat": 4,
 "nbformat_minor": 5
}
