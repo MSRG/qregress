{
 "cells": [
  {
   "cell_type": "code",
   "execution_count": null,
   "id": "61b15787-9933-455d-a13c-a64a9906c7a5",
   "metadata": {},
   "outputs": [],
   "source": [
    "# Import required packages\n",
    "import sys\n",
    "# !{sys.executable} -m pip install seaborn\n",
    "from glob import glob\n",
    "import os\n",
    "import json\n",
    "import matplotlib.pyplot as plt\n",
    "import seaborn as sns\n",
    "import pandas as pd\n",
    "import numpy as np\n",
    "from shutil import copy,move\n",
    "from distutils.dir_util import copy_tree\n",
    "import re"
   ]
  },
  {
   "cell_type": "code",
   "execution_count": null,
   "id": "a362d7f6-55b2-4b0a-b90a-6f78f1f51495",
   "metadata": {},
   "outputs": [],
   "source": [
    "for i in glob('16qubit/*/*_results.json'):\n",
    "    df = pd.concat([pd.read_csv(j)[['Iteration','Cost']].dropna() for j in sorted(glob(os.path.join(os.path.dirname(i),'*log.csv')))]).sort_values(by='Iteration')\n",
    "    plt.plot(df['Iteration'],df['Cost'])\n",
    "    plt.title(os.path.basename(os.path.dirname(i)))\n",
    "    plt.show()    "
   ]
  },
  {
   "cell_type": "code",
   "execution_count": null,
   "id": "faf5fd57-0b73-49d8-aa47-0fb61fb40c18",
   "metadata": {},
   "outputs": [],
   "source": [
    "for i in glob('5qubit/*/model_log.csv'):\n",
    "    name = os.path.basename(os.path.dirname(i))\n",
    "    df = pd.read_csv(i)[['Iteration','Cost']].dropna()\n",
    "    plt.plot(df['Iteration'],df['Cost'])\n",
    "    plt.title(os.path.basename(os.path.dirname(i)))\n",
    "    plt.show()"
   ]
  },
  {
   "cell_type": "code",
   "execution_count": null,
   "id": "260853c3-c266-4e70-b615-e5a47a8e7ab2",
   "metadata": {},
   "outputs": [],
   "source": []
  },
  {
   "cell_type": "code",
   "execution_count": null,
   "id": "77d6607f-f515-4beb-b567-cefa0f0efb59",
   "metadata": {},
   "outputs": [],
   "source": [
    "# Use a regex pattern to split the string at each date\n",
    "pattern = r'\\b[A-Z][a-z]{2} [A-Z][a-z]{2} \\d{2} \\d{2}:\\d{2}:\\d{2} \\d{4}\\b'\n"
   ]
  },
  {
   "cell_type": "code",
   "execution_count": null,
   "id": "3d6dabbe-acf6-4fa9-baa8-1896377461cb",
   "metadata": {},
   "outputs": [],
   "source": [
    "stackeddf=[]\n",
    "for i in glob(\"./5qubit/*/*results.json\"):\n",
    "    name = os.path.basename(os.path.dirname(i))\n",
    "    with open(i) as f:\n",
    "        data = json.load(f)\n",
    "    data['encoder']=name.split('_')[0]\n",
    "    data['ansatz']=name.split('_')[1]\n",
    "    stackeddf.append(pd.DataFrame.from_dict(data).rename(index={0:name}))\n",
    "print(len(stackeddf))\n",
    "stackeddf = pd.concat(stackeddf).rename(columns={'MAE_train':'Train MAE','MAE_test':'Test MAE'}).melt(id_vars=['encoder','ansatz'], value_vars=['Train MAE','Test MAE']).sort_values(by=['encoder','ansatz'])\n",
    "\n",
    "g = sns.catplot(\n",
    "    data=stackeddf, y=\"ansatz\", x=\"value\", col=\"encoder\",hue=\"variable\",\n",
    "    kind=\"bar\", height=5, aspect=.9,palette=sns.color_palette('Paired',2),col_wrap=3,legend_out=True)\n",
    "\n",
    "g.set_titles(\"{col_name}\")\n",
    "# g.set_axis_labels(\"\", \"R$^{2}$\")\n",
    "g.set_axis_labels(\"\", \"MAE (kcal/mol)\")\n",
    "# g.set(ylim=(-1.1, 1.1))\n",
    "# g.fig.suptitle(f\"16 Qubit BSE Re-upload Depth (RUD) and Ansatz Layer (AL)\")\n",
    "g.tight_layout()\n",
    "plt.show()"
   ]
  },
  {
   "cell_type": "code",
   "execution_count": null,
   "id": "05032f32-4c27-4bcb-b28a-fef5fa30fdac",
   "metadata": {},
   "outputs": [],
   "source": [
    "stackeddf=[]\n",
    "for i in glob(\"./16qubit/*/*results.json\"):\n",
    "    name = os.path.basename(os.path.dirname(i))\n",
    "    with open(i) as f:\n",
    "        data = json.load(f)\n",
    "    data['encoder']=name.split('_')[0]\n",
    "    data['ansatz']=name.split('_')[1]\n",
    "    stackeddf.append(pd.DataFrame.from_dict(data).rename(index={0:name}))\n",
    "print(len(stackeddf))\n",
    "df = pd.concat(stackeddf)\n",
    "stackeddf = df.rename(columns={'MAE_train':'Train MAE','MAE_test':'Test MAE'}).melt(id_vars=['encoder','ansatz'], value_vars=['Train MAE','Test MAE']).sort_values(by=['encoder','ansatz'])\n",
    "\n",
    "g = sns.catplot(\n",
    "    data=stackeddf, y=\"ansatz\", x=\"value\", col=\"encoder\",hue=\"variable\",\n",
    "    kind=\"bar\", height=5, aspect=.9,palette=sns.color_palette('Paired',2),col_wrap=3,legend_out=True)\n",
    "\n",
    "g.set_titles(\"{col_name}\")\n",
    "# g.set_axis_labels(\"\", \"R$^{2}$\")\n",
    "g.set_axis_labels(\"\", \"MAE (kcal/mol)\")\n",
    "idx=0\n",
    "# Iterate over each Axes in the FacetGrid to add labels\n",
    "for axidx,ax in enumerate(g.axes.flat):\n",
    "    # Loop over each bar within the axis\n",
    "    for pidx,p in enumerate(ax.patches):\n",
    "        \n",
    "        # Get the center of the bar's x position and the height for the label\n",
    "        x = p.get_y()\n",
    "        y = p.get_y()\n",
    "        print(x,y)\n",
    "        # Set label with the value\n",
    "        ax.text(x, y, f\"{float(stackeddf['value'].iloc[idx]):.2f}\", ha='center', va='center', fontsize=8, color='black', rotation=0)\n",
    "        idx+=1\n",
    "# # extract the matplotlib axes_subplot objects from the FacetGrid\n",
    "# ax = g.facet_axis(0, 0)  # or ax = g.axes.flat[0]\n",
    "\n",
    "# # iterate through the axes containers\n",
    "# for c in ax.containers:\n",
    "#     labels = [f'{(v.get_height()):.1e}' for v in c]\n",
    "#     ax.bar_label(c, labels=labels, label_type='edge')\n",
    "# g.set(ylim=(-1.1, 1.1))\n",
    "# g.fig.suptitle(f\"16 Qubit BSE Re-upload Depth (RUD) and Ansatz Layer (AL)\")\n",
    "g.tight_layout()\n",
    "plt.show()"
   ]
  },
  {
   "cell_type": "code",
   "execution_count": null,
   "id": "a4d096c4-7226-4ef4-b4f7-1c9693e96f36",
   "metadata": {},
   "outputs": [],
   "source": [
    "df.sort_values(by=['MAE_train','MAE_test'])"
   ]
  },
  {
   "cell_type": "code",
   "execution_count": null,
   "id": "4016bcc0-d4dd-4bb8-8bc1-96f2771adabb",
   "metadata": {},
   "outputs": [],
   "source": []
  }
 ],
 "metadata": {
  "kernelspec": {
   "display_name": "Python 3 (ipykernel)",
   "language": "python",
   "name": "python3"
  },
  "language_info": {
   "codemirror_mode": {
    "name": "ipython",
    "version": 3
   },
   "file_extension": ".py",
   "mimetype": "text/x-python",
   "name": "python",
   "nbconvert_exporter": "python",
   "pygments_lexer": "ipython3",
   "version": "3.12.2"
  }
 },
 "nbformat": 4,
 "nbformat_minor": 5
}
