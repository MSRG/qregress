{
 "cells": [
  {
   "cell_type": "code",
   "execution_count": 1,
   "id": "61b15787-9933-455d-a13c-a64a9906c7a5",
   "metadata": {},
   "outputs": [],
   "source": [
    "# Import required packages\n",
    "import sys\n",
    "# !{sys.executable} -m pip install seaborn\n",
    "from glob import glob\n",
    "import os\n",
    "import json\n",
    "import matplotlib.pyplot as plt\n",
    "import seaborn as sns\n",
    "import pandas as pd\n",
    "import numpy as np\n",
    "from shutil import copy,move\n",
    "from distutils.dir_util import copy_tree\n"
   ]
  },
  {
   "cell_type": "code",
   "execution_count": 2,
   "id": "260853c3-c266-4e70-b615-e5a47a8e7ab2",
   "metadata": {},
   "outputs": [
    {
     "data": {
      "text/plain": [
       "168"
      ]
     },
     "execution_count": 2,
     "metadata": {},
     "output_type": "execute_result"
    }
   ],
   "source": [
    "len(glob(\"*/*results.json\"))"
   ]
  },
  {
   "cell_type": "code",
   "execution_count": 3,
   "id": "3d6dabbe-acf6-4fa9-baa8-1896377461cb",
   "metadata": {},
   "outputs": [
    {
     "name": "stdout",
     "output_type": "stream",
     "text": [
      "168\n"
     ]
    }
   ],
   "source": [
    "stackeddf=[]\n",
    "for i in glob(\"*/*results.json\"):\n",
    "    name = os.path.dirname(i)\n",
    "    with open(i) as f:\n",
    "        data = json.load(f)\n",
    "    data['encoder']=name.split('_')[0]\n",
    "    data['ansatz']=name.split('_')[1]\n",
    "    stackeddf.append(pd.DataFrame.from_dict(data).rename(index={0:name}))\n",
    "print(len(stackeddf))\n",
    "stackeddf = pd.concat(stackeddf).melt(id_vars=['encoder','ansatz'], value_vars=['MAE_train','MAE_test']).sort_values(by=['encoder','ansatz'])"
   ]
  },
  {
   "cell_type": "code",
   "execution_count": null,
   "id": "bbb35449-23f7-4f01-ad2d-c6fb349c7004",
   "metadata": {},
   "outputs": [],
   "source": []
  },
  {
   "cell_type": "code",
   "execution_count": 4,
   "id": "46dfc229-a4a2-4317-a382-2a1cc5c7e156",
   "metadata": {},
   "outputs": [
    {
     "data": {
      "text/html": [
       "<div>\n",
       "<style scoped>\n",
       "    .dataframe tbody tr th:only-of-type {\n",
       "        vertical-align: middle;\n",
       "    }\n",
       "\n",
       "    .dataframe tbody tr th {\n",
       "        vertical-align: top;\n",
       "    }\n",
       "\n",
       "    .dataframe thead th {\n",
       "        text-align: right;\n",
       "    }\n",
       "</style>\n",
       "<table border=\"1\" class=\"dataframe\">\n",
       "  <thead>\n",
       "    <tr style=\"text-align: right;\">\n",
       "      <th></th>\n",
       "      <th>encoder</th>\n",
       "      <th>ansatz</th>\n",
       "      <th>variable</th>\n",
       "      <th>value</th>\n",
       "    </tr>\n",
       "  </thead>\n",
       "  <tbody>\n",
       "    <tr>\n",
       "      <th>132</th>\n",
       "      <td>M-M-CZ</td>\n",
       "      <td>HWE-CNOT</td>\n",
       "      <td>MAE_train</td>\n",
       "      <td>18.984733</td>\n",
       "    </tr>\n",
       "    <tr>\n",
       "      <th>300</th>\n",
       "      <td>M-M-CZ</td>\n",
       "      <td>HWE-CNOT</td>\n",
       "      <td>MAE_test</td>\n",
       "      <td>18.999803</td>\n",
       "    </tr>\n",
       "    <tr>\n",
       "      <th>50</th>\n",
       "      <td>M-A1-CZ</td>\n",
       "      <td>Full-Pauli-CRZ</td>\n",
       "      <td>MAE_train</td>\n",
       "      <td>19.205337</td>\n",
       "    </tr>\n",
       "    <tr>\n",
       "      <th>98</th>\n",
       "      <td>M</td>\n",
       "      <td>HWE-CNOT</td>\n",
       "      <td>MAE_train</td>\n",
       "      <td>19.292819</td>\n",
       "    </tr>\n",
       "    <tr>\n",
       "      <th>138</th>\n",
       "      <td>M-A1-CZ</td>\n",
       "      <td>HWE-CZ</td>\n",
       "      <td>MAE_train</td>\n",
       "      <td>19.300597</td>\n",
       "    </tr>\n",
       "    <tr>\n",
       "      <th>...</th>\n",
       "      <td>...</td>\n",
       "      <td>...</td>\n",
       "      <td>...</td>\n",
       "      <td>...</td>\n",
       "    </tr>\n",
       "    <tr>\n",
       "      <th>201</th>\n",
       "      <td>M-M-CZ</td>\n",
       "      <td>Efficient-CRX</td>\n",
       "      <td>MAE_test</td>\n",
       "      <td>36.255014</td>\n",
       "    </tr>\n",
       "    <tr>\n",
       "      <th>160</th>\n",
       "      <td>A1-A1-CZ</td>\n",
       "      <td>ESU2</td>\n",
       "      <td>MAE_train</td>\n",
       "      <td>36.411437</td>\n",
       "    </tr>\n",
       "    <tr>\n",
       "      <th>328</th>\n",
       "      <td>A1-A1-CZ</td>\n",
       "      <td>ESU2</td>\n",
       "      <td>MAE_test</td>\n",
       "      <td>37.381799</td>\n",
       "    </tr>\n",
       "    <tr>\n",
       "      <th>250</th>\n",
       "      <td>A2-A2-CNOT</td>\n",
       "      <td>HWE-CZ</td>\n",
       "      <td>MAE_test</td>\n",
       "      <td>41.379631</td>\n",
       "    </tr>\n",
       "    <tr>\n",
       "      <th>82</th>\n",
       "      <td>A2-A2-CNOT</td>\n",
       "      <td>HWE-CZ</td>\n",
       "      <td>MAE_train</td>\n",
       "      <td>43.101998</td>\n",
       "    </tr>\n",
       "  </tbody>\n",
       "</table>\n",
       "<p>336 rows × 4 columns</p>\n",
       "</div>"
      ],
      "text/plain": [
       "        encoder          ansatz   variable      value\n",
       "132      M-M-CZ        HWE-CNOT  MAE_train  18.984733\n",
       "300      M-M-CZ        HWE-CNOT   MAE_test  18.999803\n",
       "50      M-A1-CZ  Full-Pauli-CRZ  MAE_train  19.205337\n",
       "98            M        HWE-CNOT  MAE_train  19.292819\n",
       "138     M-A1-CZ          HWE-CZ  MAE_train  19.300597\n",
       "..          ...             ...        ...        ...\n",
       "201      M-M-CZ   Efficient-CRX   MAE_test  36.255014\n",
       "160    A1-A1-CZ            ESU2  MAE_train  36.411437\n",
       "328    A1-A1-CZ            ESU2   MAE_test  37.381799\n",
       "250  A2-A2-CNOT          HWE-CZ   MAE_test  41.379631\n",
       "82   A2-A2-CNOT          HWE-CZ  MAE_train  43.101998\n",
       "\n",
       "[336 rows x 4 columns]"
      ]
     },
     "execution_count": 4,
     "metadata": {},
     "output_type": "execute_result"
    }
   ],
   "source": [
    "stackeddf.sort_values(by='value')"
   ]
  },
  {
   "cell_type": "code",
   "execution_count": null,
   "id": "05032f32-4c27-4bcb-b28a-fef5fa30fdac",
   "metadata": {},
   "outputs": [],
   "source": [
    "g = sns.catplot(\n",
    "    data=stackeddf, y=\"ansatz\", x=\"value\", col=\"encoder\",hue=\"variable\",\n",
    "    kind=\"bar\", height=5, aspect=.9,palette=sns.color_palette('Paired',5),col_wrap=5,legend_out=True)\n",
    "\n",
    "g.set_titles(\"{col_name}\")\n",
    "# g.set_axis_labels(\"\", \"R$^{2}$\")\n",
    "g.set_axis_labels(\"\", \"MAE (kcal/mol)\")\n",
    "# g.set(ylim=(-1.1, 1.1))\n",
    "# g.fig.suptitle(f\"16 Qubit BSE Re-upload Depth (RUD) and Ansatz Layer (AL)\")\n",
    "g.tight_layout()"
   ]
  },
  {
   "cell_type": "code",
   "execution_count": null,
   "id": "a4d096c4-7226-4ef4-b4f7-1c9693e96f36",
   "metadata": {},
   "outputs": [],
   "source": []
  }
 ],
 "metadata": {
  "kernelspec": {
   "display_name": "Python 3 (ipykernel)",
   "language": "python",
   "name": "python3"
  },
  "language_info": {
   "codemirror_mode": {
    "name": "ipython",
    "version": 3
   },
   "file_extension": ".py",
   "mimetype": "text/x-python",
   "name": "python",
   "nbconvert_exporter": "python",
   "pygments_lexer": "ipython3",
   "version": "3.12.4"
  }
 },
 "nbformat": 4,
 "nbformat_minor": 5
}
