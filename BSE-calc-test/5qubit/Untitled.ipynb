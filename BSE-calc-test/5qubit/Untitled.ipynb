{
 "cells": [
  {
   "cell_type": "code",
   "execution_count": null,
   "id": "61b15787-9933-455d-a13c-a64a9906c7a5",
   "metadata": {},
   "outputs": [],
   "source": [
    "# Import required packages\n",
    "import sys\n",
    "# !{sys.executable} -m pip install seaborn\n",
    "from glob import glob\n",
    "import os\n",
    "import json\n",
    "import matplotlib.pyplot as plt\n",
    "import seaborn as sns\n",
    "import pandas as pd\n",
    "import numpy as np\n",
    "from shutil import copy,move\n",
    "from distutils.dir_util import copy_tree\n"
   ]
  },
  {
   "cell_type": "code",
   "execution_count": null,
   "id": "3d6dabbe-acf6-4fa9-baa8-1896377461cb",
   "metadata": {},
   "outputs": [],
   "source": [
    "stackeddf=[]\n",
    "for i in glob(\"*/*results.json\"):\n",
    "    name = os.path.dirname(i)\n",
    "    with open(i) as f:\n",
    "        data = json.load(f)\n",
    "    data['encoder']=name.split('_')[0]\n",
    "    data['ansatz']=name.split('_')[1]\n",
    "    stackeddf.append(pd.DataFrame.from_dict(data).rename(index={0:name}))\n",
    "\n",
    "stackeddf = pd.concat(stackeddf).melt(id_vars=['encoder','ansatz'], value_vars=['MAE_train','MAE_test'])"
   ]
  },
  {
   "cell_type": "code",
   "execution_count": null,
   "id": "46dfc229-a4a2-4317-a382-2a1cc5c7e156",
   "metadata": {},
   "outputs": [],
   "source": [
    "stackeddf.sort_values(by='value')"
   ]
  },
  {
   "cell_type": "code",
   "execution_count": null,
   "id": "05032f32-4c27-4bcb-b28a-fef5fa30fdac",
   "metadata": {},
   "outputs": [],
   "source": [
    "g = sns.catplot(\n",
    "    data=stackeddf, y=\"ansatz\", x=\"value\", col=\"encoder\",hue=\"variable\",\n",
    "    kind=\"bar\", height=5, aspect=.9,palette=sns.color_palette('Paired',5),col_wrap=5,legend_out=True)\n",
    "\n",
    "g.set_titles(\"{col_name}\")\n",
    "# g.set_axis_labels(\"\", \"R$^{2}$\")\n",
    "g.set_axis_labels(\"\", \"MAE (kcal/mol)\")\n",
    "# g.set(ylim=(-1.1, 1.1))\n",
    "# g.fig.suptitle(f\"16 Qubit BSE Re-upload Depth (RUD) and Ansatz Layer (AL)\")\n",
    "g.tight_layout()"
   ]
  },
  {
   "cell_type": "code",
   "execution_count": null,
   "id": "a4d096c4-7226-4ef4-b4f7-1c9693e96f36",
   "metadata": {},
   "outputs": [],
   "source": []
  }
 ],
 "metadata": {
  "kernelspec": {
   "display_name": "Python 3 (ipykernel)",
   "language": "python",
   "name": "python3"
  },
  "language_info": {
   "codemirror_mode": {
    "name": "ipython",
    "version": 3
   },
   "file_extension": ".py",
   "mimetype": "text/x-python",
   "name": "python",
   "nbconvert_exporter": "python",
   "pygments_lexer": "ipython3",
   "version": "3.12.4"
  }
 },
 "nbformat": 4,
 "nbformat_minor": 5
}
