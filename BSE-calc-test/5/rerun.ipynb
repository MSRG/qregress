{
 "cells": [
  {
   "cell_type": "code",
   "execution_count": null,
   "id": "a1eb440b-f18f-4bc8-9b3d-dc2d60c0a9a2",
   "metadata": {},
   "outputs": [],
   "source": [
    "import os\n",
    "from glob import glob\n",
    "import pandas as pd\n",
    "import numpy as np\n",
    "import subprocess\n",
    "import json"
   ]
  },
  {
   "cell_type": "code",
   "execution_count": null,
   "id": "0c29beac-ca75-4884-bbe4-780058946247",
   "metadata": {},
   "outputs": [],
   "source": [
    "def update_json(filename,iters):\n",
    "    with open(filename,'r') as f:\n",
    "        olddt=json.load(f)\n",
    "    \n",
    "    olddt['MAX_ITER']=iters\n",
    "    print(olddt)    \n",
    "\n",
    "    with open(filename,'w') as g:\n",
    "        json.dump(olddt,g)"
   ]
  },
  {
   "cell_type": "code",
   "execution_count": null,
   "id": "72bfaac3-def2-4bd6-b998-7c1103897f01",
   "metadata": {},
   "outputs": [],
   "source": [
    "topdir = os.getcwd()"
   ]
  },
  {
   "cell_type": "code",
   "execution_count": null,
   "id": "00792123-7725-4a51-91cd-09f6f0ca5362",
   "metadata": {},
   "outputs": [],
   "source": [
    "def clean(path,name):\n",
    "    files = f'{name}_encoder.svg', f'{name}_plot.svg', f'{name}.out', f'1_model_log.csv', f'model_log.csv', f'final_state_model.bin', f'{name}_ansatz.svg', f'{name}_predicted_values.csv', f'{name}_results.json'\n",
    "    for i in files:\n",
    "        if os.path.exists(os.path.join(path,i)):\n",
    "            os.remove(i)"
   ]
  },
  {
   "cell_type": "code",
   "execution_count": null,
   "id": "7cbbfbfd-9ee1-4c92-bbc0-6bf48a307853",
   "metadata": {},
   "outputs": [],
   "source": [
    "check = {}\n",
    "for i in glob('*/*.json'):\n",
    "    if 'results' not in i:\n",
    "        dirname = os.path.dirname(i)\n",
    "        dirpath = os.path.join(topdir,dirname)\n",
    "        # print(dirname)\n",
    "        \n",
    "        check[dirname] = np.nansum([pd.read_csv(m).dropna()['Iteration'].max() for m in glob(dirpath+\"/*model_log.csv\")])\n",
    "            \n"
   ]
  },
  {
   "cell_type": "code",
   "execution_count": null,
   "id": "f9c46642-c3a3-49a3-b635-3c801fae9e3e",
   "metadata": {},
   "outputs": [],
   "source": [
    "def run(topdir,path,name,continuefile=None):\n",
    "    if continuefile==None:\n",
    "        return f\"\"\"python {topdir}/main.py --save_path {path} --settings {path}/{name}.json \\\n",
    "--train_set {topdir}/PCA5_0.8_Morgan_train.bin --test_set {topdir}/PCA5_0.8_Morgan_test.bin \\\n",
    "--scaler {topdir}/PCA5_0.8_Morgan_scaler.bin --save_circuits True  > {path}/{name}.out 2>&1\"\"\"\n",
    "    else:\n",
    "        return f\"\"\"python {topdir}/main.py --save_path {path} --settings {path}/{name}.json \\\n",
    "--train_set {topdir}/PCA5_0.8_Morgan_train.bin --test_set {topdir}/PCA5_0.8_Morgan_test.bin \\\n",
    "--scaler {topdir}/PCA5_0.8_Morgan_scaler.bin --save_circuits True \\\n",
    "--resume_file {continuefile} > {path}/{name}.out 2>&1\"\"\""
   ]
  },
  {
   "cell_type": "code",
   "execution_count": null,
   "id": "71a6830f-b746-44fe-9a5d-2162ebc7527d",
   "metadata": {},
   "outputs": [],
   "source": [
    "for k,v in sorted(check.items(),key=lambda x: x[1]):\n",
    "\n",
    "    path = os.path.join(topdir,k)\n",
    "    print(k,v)\n",
    "    if v<999:        \n",
    "        update_json(os.path.join(path,k+\".json\"),int(999-v))\n",
    "        # Run the command\n",
    "        if os.path.exists(os.path.join(path,'partial_state_model.bin')):\n",
    "            subprocess.run(run(topdir,path,k,'partial_state_model.bin'), shell=True, check=True)\n",
    "        elif os.path.exists(os.path.join(path,'final_state_model.bin')):\n",
    "            subprocess.run(run(topdir,path,k,'final_state_model.bin'), shell=True, check=True)\n",
    "    elif v>999:\n",
    "        update_json(os.path.join(path,k+\".json\"),1000)\n",
    "        # Run the command\n",
    "        subprocess.run(run(topdir,path,k), shell=True, check=True)\n",
    "    else:\n",
    "        print(f\"Skip {k}, iter={v}\")"
   ]
  },
  {
   "cell_type": "code",
   "execution_count": null,
   "id": "ca730939-e44c-4ffb-bd4b-6ae59c93eabb",
   "metadata": {},
   "outputs": [],
   "source": []
  }
 ],
 "metadata": {
  "kernelspec": {
   "display_name": "Python 3 (ipykernel)",
   "language": "python",
   "name": "python3"
  },
  "language_info": {
   "codemirror_mode": {
    "name": "ipython",
    "version": 3
   },
   "file_extension": ".py",
   "mimetype": "text/x-python",
   "name": "python",
   "nbconvert_exporter": "python",
   "pygments_lexer": "ipython3",
   "version": "3.12.8"
  }
 },
 "nbformat": 4,
 "nbformat_minor": 5
}
