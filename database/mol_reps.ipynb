{
 "cells": [
  {
   "cell_type": "code",
   "execution_count": null,
   "id": "06a9232c-ee31-467c-a7f7-f096c9733397",
   "metadata": {},
   "outputs": [],
   "source": [
    "import sys\n",
    "# !{sys.executable} -m pip install blosc\n",
    "import pickle\n",
    "import blosc\n",
    "from glob import glob\n",
    "import numpy as np\n",
    "import joblib\n",
    "import os\n",
    "import pandas as pd\n",
    "import json\n",
    "\n",
    "import time\n",
    "import matplotlib.pyplot as plt\n",
    "\n",
    "# Scikit-learn\n",
    "from sklearn.preprocessing import normalize\n",
    "from sklearn.model_selection import train_test_split\n",
    "from sklearn.ensemble import RandomForestRegressor, GradientBoostingRegressor\n",
    "from sklearn.gaussian_process import GaussianProcessRegressor\n",
    "from sklearn.gaussian_process.kernels import RBF\n",
    "from sklearn.kernel_ridge import KernelRidge\n",
    "from sklearn.linear_model import Ridge, Lasso, ElasticNet\n",
    "from sklearn.neighbors import KNeighborsRegressor\n",
    "from sklearn.model_selection import GridSearchCV\n",
    "from sklearn.svm import SVR\n",
    "from sklearn.metrics import mean_squared_error, r2_score, mean_absolute_error\n",
    "from sklearn.preprocessing import normalize\n",
    "\n",
    "\n",
    "from tqdm.notebook import tqdm\n",
    "import seaborn as sns\n",
    "from collections import Counter\n",
    "\n",
    "# Persistent images\n",
    "from Element_PI import VariancePersistv1\n",
    "\n",
    "# SHAP\n",
    "import shap\n",
    "\n",
    "# RDKit\n",
    "from rdkit.Chem.rdmolfiles import MolFromXYZFile, MolToXYZFile\n",
    "from rdkit import Chem\n",
    "from rdkit.Chem import rdDetermineBonds, MACCSkeys, AllChem\n",
    "\n",
    "# DScribe\n",
    "from dscribe.descriptors import ACSF, CoulombMatrix, MBTR, SOAP, CoulombMatrix\n",
    "from dscribe.kernels import REMatchKernel\n",
    "from ase.io import read\n",
    "from dscribe.kernels import REMatchKernel"
   ]
  },
  {
   "cell_type": "code",
   "execution_count": null,
   "id": "fd5ef593-8e54-4bec-a234-e7eb32485419",
   "metadata": {},
   "outputs": [],
   "source": [
    "# Grab xyz structure names from existing and hypothetical\n",
    "exists_paths=[i.replace('_A.xyz','') for i in glob(f\"{os.path.dirname(os.getcwd())}/database/bse49-main/Geometries/Existing/*A.xyz\")]\n",
    "hypo_paths=[i.replace('_A.xyz','') for i in glob(f\"{os.path.dirname(os.getcwd())}/database/bse49-main/Geometries/Hypothetical/*A.xyz\")]"
   ]
  },
  {
   "cell_type": "markdown",
   "id": "93721d14-3b13-47d2-b4f5-a8feee5aa9fa",
   "metadata": {},
   "source": [
    "# Featurization from RDKit"
   ]
  },
  {
   "cell_type": "code",
   "execution_count": null,
   "id": "a0185434-c329-419c-85c5-cf095387dc56",
   "metadata": {},
   "outputs": [],
   "source": [
    "def xyz_to_cleanmol(path,fragment):\n",
    "    '''\n",
    "    Clean mol object from xyz \n",
    "\n",
    "    params\n",
    "    ------\n",
    "    path: str\n",
    "        Path to structure\n",
    "\n",
    "    fragment: str\n",
    "        Options: A, B, AB\n",
    "        \n",
    "    returns\n",
    "    -------\n",
    "    mol: rdkit.Chem.rdchem.Mol\n",
    "        Cleaned mol object\n",
    "    '''\n",
    "\n",
    "    mol=MolFromXYZFile(path+f'_{fragment}.xyz')\n",
    "    rdDetermineBonds.DetermineConnectivity(mol)\n",
    "    Chem.SanitizeMol(mol)\n",
    "    Chem.AssignStereochemistry(mol,cleanIt=True)\n",
    "    Chem.Kekulize(mol)\n",
    "    \n",
    "    return mol"
   ]
  },
  {
   "cell_type": "code",
   "execution_count": null,
   "id": "1f1acc6c-f144-4f39-8fbd-816d777eed0b",
   "metadata": {},
   "outputs": [],
   "source": [
    "def generate_allmols(paths):\n",
    "    '''\n",
    "    Generate rdkit.Chem.rdchem.Mol for each fragment AB, A, and B. Ignore errors by removing that point from the data.\n",
    "    \n",
    "    params\n",
    "    ------\n",
    "    paths: list\n",
    "        List of paths\n",
    "\n",
    "    returns\n",
    "    -------\n",
    "        works: dict\n",
    "            Dictionary with keys: AB, A, and B and values: rdkit.Chem.rdchem.Mol for each of them, respectively.\n",
    "    '''\n",
    "    works={}\n",
    "    for i in paths:\n",
    "        try:\n",
    "            works[os.path.basename(i)]={'AB':xyz_to_cleanmol(i,'AB'),'A':xyz_to_cleanmol(i,'A'),'B':xyz_to_cleanmol(i,'B')}\n",
    "        except:\n",
    "            assert \"Nice try bozo\"\n",
    "    return works"
   ]
  },
  {
   "cell_type": "code",
   "execution_count": null,
   "id": "ca0e9835-b150-4e40-b51b-9a7df45167d4",
   "metadata": {},
   "outputs": [],
   "source": [
    "def generate_maccs(dicts,fragment):\n",
    "    '''\n",
    "    Generate MACCS and return a labeled dataframe\n",
    "\n",
    "    params\n",
    "    ------\n",
    "    dicts: dict\n",
    "        Dictionary of rdkit.Chem.rdchem.Mol objects\n",
    "        \n",
    "    fragment: str\n",
    "        Options: A, B, AB\n",
    "        \n",
    "    returns\n",
    "    -------\n",
    "    MACCS_df: pandas.core.frame.DataFrame\n",
    "        Dataframe with columns labels for the MACCS\n",
    "    \n",
    "    '''\n",
    "    subdict={k:v[fragment] for k,v in dicts.items()}\n",
    "    checkmaccs=[MACCSkeys.GenMACCSKeys(x) for x in subdict.values()]\n",
    "    # Keys from http://www.mayachemtools.org/index.html\n",
    "    keys=pd.read_excel('MACCS_keys_example.xlsx').drop(columns=['Unnamed: 0'])\n",
    "    # Chem.Draw.MolsToGridImage(ms[:8],molsPerRow=4,subImgSize=(200,200))\n",
    "    # MolToXYZFile(mol,'TRASH.xyz')\n",
    "    \n",
    "    MACCS_df=pd.DataFrame(list(map(list,checkmaccs))).rename(columns=keys['Value'].to_dict(),index=dict(enumerate(subdict)))   \n",
    "    \n",
    "\n",
    "    return MACCS_df"
   ]
  },
  {
   "cell_type": "code",
   "execution_count": null,
   "id": "27f58d5c-8057-4e00-ac9e-48f83320db6f",
   "metadata": {},
   "outputs": [],
   "source": [
    "def generate_FP(dicts,fragment):\n",
    "    '''\n",
    "    Generate FP and return a labeled dataframe\n",
    "\n",
    "    params\n",
    "    ------\n",
    "    dicts: dict\n",
    "        Dictionary of rdkit.Chem.rdchem.Mol objects\n",
    "        \n",
    "    fragment: str\n",
    "        Options: A, B, AB\n",
    "        \n",
    "    returns\n",
    "    -------\n",
    "    FP_df: pandas.core.frame.DataFrame\n",
    "        Dataframe the FP\n",
    "    \n",
    "    '''\n",
    "    subdict={k:v[fragment] for k,v in dicts.items()}\n",
    "    fpgen = AllChem.GetRDKitFPGenerator()\n",
    "    checkFP=[fpgen.GetFingerprint(x) for x in subdict.values()]\n",
    "    FP_df=pd.DataFrame(list(map(list,checkFP))).rename(index=dict(enumerate(subdict)))   \n",
    "    return FP_df"
   ]
  },
  {
   "cell_type": "code",
   "execution_count": null,
   "id": "06d20591-4430-49e1-a3e6-b92116c65e37",
   "metadata": {},
   "outputs": [],
   "source": [
    "def generate_Morgan(dicts,fragment):\n",
    "    '''\n",
    "    Generate Morgan and return a labeled dataframe\n",
    "\n",
    "    params\n",
    "    ------\n",
    "    dicts: dict\n",
    "        Dictionary of rdkit.Chem.rdchem.Mol objects\n",
    "        \n",
    "    fragment: str\n",
    "        Options: A, B, AB\n",
    "        \n",
    "    returns\n",
    "    -------\n",
    "    Morgan_df: pandas.core.frame.DataFrame\n",
    "        Dataframe the Morgan\n",
    "    \n",
    "    '''\n",
    "    subdict={k:v[fragment] for k,v in dicts.items()}\n",
    "    Morgangen = AllChem.GetMorganGenerator(radius=2)\n",
    "    checkMorgan=[Morgangen.GetFingerprint(x) for x in subdict.values()]\n",
    "    Morgan_df=pd.DataFrame(list(map(list,checkMorgan))).rename(index=dict(enumerate(subdict)))   \n",
    "    return Morgan_df"
   ]
  },
  {
   "cell_type": "code",
   "execution_count": null,
   "id": "6ccc1948-70c2-42d6-a9a5-6c02f183c036",
   "metadata": {},
   "outputs": [],
   "source": []
  },
  {
   "cell_type": "code",
   "execution_count": null,
   "id": "53763b78-d5e6-4288-a13d-b677b940b00e",
   "metadata": {},
   "outputs": [],
   "source": [
    "def generate_allMACCS(dicts):\n",
    "    '''\n",
    "    params\n",
    "    ------\n",
    "    dicts: dict\n",
    "        Dictionary containing MACCS for the fragments A, B, and AB\n",
    "\n",
    "    returns\n",
    "    -------\n",
    "    data_dict: dict\n",
    "        Dictionary containing two sets of features: AB and sub ((A+B)-AB as described in https://doi.org/10.1021/acs.jpca.2c08340)\n",
    "    '''\n",
    "    AB=generate_maccs(dicts,'AB')\n",
    "    A=generate_maccs(dicts,'A')\n",
    "    B=generate_maccs(dicts,'B')\n",
    "\n",
    "    names=dicts.keys()\n",
    "    \n",
    "    maccs_sub_df=((A+B)-AB).rename(index=dict(enumerate(names)))\n",
    "    maccs_AB_df=AB.rename(index=dict(enumerate(names)))   \n",
    "\n",
    "    data_dict={'AB':maccs_AB_df,'sub':maccs_sub_df}\n",
    "    return data_dict"
   ]
  },
  {
   "cell_type": "code",
   "execution_count": null,
   "id": "92a5a442-2156-4691-a975-0b9fd74779d4",
   "metadata": {},
   "outputs": [],
   "source": [
    "def generate_allFP(dicts):\n",
    "    '''\n",
    "    params\n",
    "    ------\n",
    "    dicts: dict\n",
    "        Dictionary containing FP for the fragments A, B, and AB\n",
    "\n",
    "    returns\n",
    "    -------\n",
    "    data_dict: dict\n",
    "        Dictionary containing two sets of features: AB and sub ((A+B)-AB as described in https://doi.org/10.1021/acs.jpca.2c08340)\n",
    "    '''\n",
    "    AB=generate_FP(dicts,'AB')\n",
    "    A=generate_FP(dicts,'A')\n",
    "    B=generate_FP(dicts,'B')\n",
    "\n",
    "    names=dicts.keys()\n",
    "    \n",
    "    FP_sub_df=((A+B)-AB).rename(index=dict(enumerate(names)))\n",
    "    FP_AB_df=AB.rename(index=dict(enumerate(names)))   \n",
    "\n",
    "    data_dict={'AB':FP_AB_df,'sub':FP_sub_df}\n",
    "    return data_dict"
   ]
  },
  {
   "cell_type": "code",
   "execution_count": null,
   "id": "ce6a8975-1901-4d9f-96b9-9f06fec0dd64",
   "metadata": {},
   "outputs": [],
   "source": [
    "def generate_allMorgan(dicts):\n",
    "    '''\n",
    "    params\n",
    "    ------\n",
    "    dicts: dict\n",
    "        Dictionary containing Morgan for the fragments A, B, and AB\n",
    "\n",
    "    returns\n",
    "    -------\n",
    "    data_dict: dict\n",
    "        Dictionary containing two sets of features: AB and sub ((A+B)-AB as described in https://doi.org/10.1021/acs.jpca.2c08340)\n",
    "    '''\n",
    "    AB=generate_Morgan(dicts,'AB')\n",
    "    A=generate_Morgan(dicts,'A')\n",
    "    B=generate_Morgan(dicts,'B')\n",
    "\n",
    "    names=dicts.keys()\n",
    "    \n",
    "    Morgan_sub_df=((A+B)-AB).rename(index=dict(enumerate(names)))\n",
    "    Morgan_AB_df=AB.rename(index=dict(enumerate(names)))   \n",
    "\n",
    "    data_dict={'AB':Morgan_AB_df,'sub':Morgan_sub_df}\n",
    "    return data_dict"
   ]
  },
  {
   "cell_type": "code",
   "execution_count": null,
   "id": "9055c321-cb6d-4b6b-aba3-52a250a2482a",
   "metadata": {},
   "outputs": [],
   "source": [
    "# Generate MACCS and return a labeled dataframe for the hypothetical and existing BSEs\n",
    "hypo_mols=generate_allmols(hypo_paths)\n",
    "exists_mols=generate_allmols(exists_paths)"
   ]
  },
  {
   "cell_type": "code",
   "execution_count": null,
   "id": "c2880531-5a49-4840-b9e4-218b84db78a2",
   "metadata": {},
   "outputs": [],
   "source": [
    "# Generate MACCS for the existing and hypothetical data and combine them into a dictionary to be saved later\n",
    "maccs_exists_data=generate_allMACCS(exists_mols)\n",
    "maccs_hypo_data=generate_allMACCS(hypo_mols)\n",
    "\n",
    "maccs_combined={'AB':pd.concat([maccs_exists_data['AB'],maccs_hypo_data['AB']]),'sub':pd.concat([maccs_exists_data['sub'],maccs_hypo_data['sub']])}"
   ]
  },
  {
   "cell_type": "code",
   "execution_count": null,
   "id": "f2f5c529-5719-45f9-8688-33776ca5071c",
   "metadata": {},
   "outputs": [],
   "source": [
    "# Generate FP for the existing and hypothetical data and combine them into a dictionary to be saved later\n",
    "FP_exists_data=generate_allFP(exists_mols)\n",
    "FP_hypo_data=generate_allFP(hypo_mols)\n",
    "\n",
    "FP_combined={'AB':pd.concat([FP_exists_data['AB'],FP_hypo_data['AB']]),'sub':pd.concat([FP_exists_data['sub'],FP_hypo_data['sub']])}"
   ]
  },
  {
   "cell_type": "code",
   "execution_count": null,
   "id": "6e30475f-8780-4df2-8a13-6f11b15e7b6f",
   "metadata": {},
   "outputs": [],
   "source": [
    "# Generate Morgan for the existing and hypothetical data and combine them into a dictionary to be saved later\n",
    "Morgan_exists_data=generate_allMorgan(exists_mols)\n",
    "Morgan_hypo_data=generate_allMorgan(hypo_mols)\n",
    "\n",
    "Morgan_combined={'AB':pd.concat([Morgan_exists_data['AB'],Morgan_hypo_data['AB']]),'sub':pd.concat([Morgan_exists_data['sub'],Morgan_hypo_data['sub']])}"
   ]
  },
  {
   "cell_type": "markdown",
   "id": "e708cfda-fad3-4ad4-bd29-f6dcc20c7d69",
   "metadata": {},
   "source": [
    "# DScribe Features"
   ]
  },
  {
   "cell_type": "code",
   "execution_count": null,
   "id": "b2fe4672-5b9c-485a-ac01-b3ddc56de17b",
   "metadata": {},
   "outputs": [],
   "source": [
    "# Only use the data that can create mol objects so we can stay consistent\n",
    "use_exists=list(maccs_exists_data['AB'].index)\n",
    "use_hypo=list(maccs_hypo_data['AB'].index)"
   ]
  },
  {
   "cell_type": "code",
   "execution_count": null,
   "id": "0a668676-ff5f-4102-92b3-051ed9029922",
   "metadata": {},
   "outputs": [],
   "source": [
    "# Get all atomic species for ACSF\n",
    "exist_species=np.unique(np.hstack([np.genfromtxt(f'{os.path.dirname(os.getcwd())}/database/bse49-main/Geometries/Existing/{name}_AB.xyz',skip_header=2,dtype=str)[:,0] for name in use_exists]))\n",
    "hypo_species=np.unique(np.hstack([np.genfromtxt(f'{os.path.dirname(os.getcwd())}/database/bse49-main/Geometries/Hypothetical/{name}_AB.xyz',skip_header=2,dtype=str)[:,0] for name in use_hypo]))\n",
    "\n",
    "all_species=list(np.unique(np.hstack([exist_species,hypo_species])))\n",
    "\n",
    "# Get maximum number of atoms for CMs\n",
    "max_num_atoms=max([np.genfromtxt(f'{os.path.dirname(os.getcwd())}/database/bse49-main/Geometries/Existing/{name}_AB.xyz',skip_header=2,dtype=str)[:,0].size for name in use_exists])"
   ]
  },
  {
   "cell_type": "code",
   "execution_count": null,
   "id": "e7115ee5-c216-4de9-b6ec-d3dde0f3796b",
   "metadata": {},
   "outputs": [],
   "source": [
    "# Initialize dscribe feature parameters\n",
    "\n",
    "\n",
    "# Set up the SOAP descriptor with parameters:\n",
    "# species, rcut, nmax, and lmax\n",
    "soap = SOAP(species=all_species,r_cut=3,n_max=4,l_max=3,sigma=1.5,periodic=False)\n",
    "re = REMatchKernel(metric=\"rbf\", gamma=2, alpha=1.2, threshold=1e-8, normalize_kernel=False)\n",
    "# soap = SOAP(species=all_species,r_cut=6.0,n_max=8,l_max=6,average=\"inner\",sparse=False)\n",
    "\n",
    "# Setting up the CM descriptor\n",
    "cm = CoulombMatrix(n_atoms_max=max_num_atoms,permutation='eigenspectrum',seed=42)"
   ]
  },
  {
   "cell_type": "code",
   "execution_count": null,
   "id": "d5923954-59ab-4b3c-aebd-f693735e20fb",
   "metadata": {},
   "outputs": [],
   "source": [
    "# Hypothetical timings for SOAPs\n",
    "# timing=[]\n",
    "# for label in ['A','B','AB']:\n",
    "#     mols = list(generate_ASE_mols([v[label] for k,v in use_exists_pathdict.items()]).values())\n",
    "#     for pct in np.linspace(0.05,0.5,5):\n",
    "#         t0=time.perf_counter()\n",
    "#         re.create([normalize(i) for i in soap.create(mols[:int(len(mols)*pct)])])\n",
    "#         done=time.perf_counter()-t0\n",
    "#         prints=(label,int(len(mols)*pct),done)\n",
    "#         print(prints)\n",
    "#         timing.append(prints)\n",
    "# timing=np.array(timing)\n",
    "# for lbl in ['A','B','AB']:\n",
    "#     t=timing[timing[:,0]==lbl][:,1:].astype(float)\n",
    "#     x,y=t[:,0],t[:,1]\n",
    "#     z = np.polyfit(x, y, 3)\n",
    "#     p = np.poly1d(z)\n",
    "#     px=range(len(exists_mols)+len(hypo_mols))\n",
    "#     plt.plot(px,p(px),label=lbl)\n",
    "#     plt.scatter(x, y)\n",
    "#     print(lbl,p(px[-1])//60)\n",
    "# plt.show()        "
   ]
  },
  {
   "cell_type": "code",
   "execution_count": null,
   "id": "d5f1fd5b-6c22-44da-9829-9841b959ce3e",
   "metadata": {},
   "outputs": [],
   "source": [
    "def generate_ASE_mols(paths):\n",
    "    '''\n",
    "    Generate a list of ASE ase.atoms.Atoms\n",
    "\n",
    "    params\n",
    "    ------\n",
    "    paths: list\n",
    "        List of paths to xyz\n",
    "\n",
    "    returns\n",
    "    -------\n",
    "    structs: dict\n",
    "        Dictionary of ase.atoms.Atoms for each molecule\n",
    "    '''\n",
    "    \n",
    "    structs={'_'.join(os.path.basename(i).split('_')[:-1]):read(i) for i in paths}\n",
    "    \n",
    "    return structs"
   ]
  },
  {
   "cell_type": "code",
   "execution_count": null,
   "id": "20bd04cc-49fd-4c5b-a6e9-6d8182ec3f3c",
   "metadata": {},
   "outputs": [],
   "source": [
    "def gen_dscribe_features(mols):\n",
    "    '''\n",
    "    Generate DScribe features: Coulomb matrix (CM) and Smooth Overlap of Atomic Positions (SOAPs)\n",
    "\n",
    "    params\n",
    "    ------\n",
    "    mols: list\n",
    "        List of ASE ase.atoms.Atoms\n",
    "\n",
    "    returns\n",
    "    -------\n",
    "    dscribe_dict: dict\n",
    "        Dictionary containing the molecular representations for the molecule from the path\n",
    "    '''\n",
    "    \n",
    "    t0=time.perf_counter()\n",
    "    # Create CM representation\n",
    "    cm_mol = cm.create(mols)\n",
    "    CM_time=time.perf_counter()-t0\n",
    "    print(f\"CMs in {CM_time:.2f} (s)\")\n",
    "    \n",
    "    # Create SOAP representation\n",
    "    soap_mol = re.create([normalize(i) for i in soap.create(mols)])\n",
    "    SP_time=time.perf_counter()-t0\n",
    "    print(f\"SOAPs in {SP_time:.2f} (s)\")\n",
    "    \n",
    "    dscribe_dict={'CM':cm_mol,'SOAP':soap_mol}\n",
    "    return dscribe_dict"
   ]
  },
  {
   "cell_type": "code",
   "execution_count": null,
   "id": "699f5f62-857e-4b31-9486-b0615a490b73",
   "metadata": {},
   "outputs": [],
   "source": [
    "# Generate DScribe features for existing molecules\n",
    "use_exists_pathdict={}\n",
    "for name in use_exists:\n",
    "    use_exists_pathdict[name]={'AB':f'{os.path.dirname(os.getcwd())}/database/bse49-main/Geometries/Existing/{name}_AB.xyz','A':f'{os.path.dirname(os.getcwd())}/database/bse49-main/Geometries/Existing/{name}_A.xyz','B':f'{os.path.dirname(os.getcwd())}/database/bse49-main/Geometries/Existing/{name}_B.xyz'}\n",
    "\n",
    "exists_AB_dscribe=gen_dscribe_features(list(generate_ASE_mols([v['AB'] for k,v in use_exists_pathdict.items()]).values()))\n",
    "exists_A_dscribe=gen_dscribe_features(list(generate_ASE_mols([v['A'] for k,v in use_exists_pathdict.items()]).values()))\n",
    "exists_B_dscribe=gen_dscribe_features(list(generate_ASE_mols([v['B'] for k,v in use_exists_pathdict.items()]).values()))\n",
    "\n",
    "\n",
    "# Generate DScribe features for hypothetical molecules\n",
    "use_hypo_pathdict={}\n",
    "for name in use_hypo:\n",
    "    use_hypo_pathdict[name]={'AB':f'{os.path.dirname(os.getcwd())}/database/bse49-main/Geometries/Hypothetical/{name}_AB.xyz','A':f'{os.path.dirname(os.getcwd())}/database/bse49-main/Geometries/Hypothetical/{name}_A.xyz','B':f'{os.path.dirname(os.getcwd())}/database/bse49-main/Geometries/Hypothetical/{name}_B.xyz'}\n",
    "\n",
    "hypo_AB_dscribe=gen_dscribe_features(list(generate_ASE_mols([v['AB'] for k,v in use_hypo_pathdict.items()]).values()))\n",
    "hypo_A_dscribe=gen_dscribe_features(list(generate_ASE_mols([v['A'] for k,v in use_hypo_pathdict.items()]).values()))\n",
    "hypo_B_dscribe=gen_dscribe_features(list(generate_ASE_mols([v['B'] for k,v in use_hypo_pathdict.items()]).values()))\n",
    "\n",
    "# Combine existing and hypothetical dscribe data \n",
    "joined_AB_dscribe={k:pd.concat([pd.DataFrame(v,index=use_exists),pd.DataFrame(hypo_AB_dscribe[k],index=use_hypo)]) for k,v in exists_AB_dscribe.items()}\n",
    "joined_A_dscribe={k:pd.concat([pd.DataFrame(v,index=use_exists),pd.DataFrame(hypo_A_dscribe[k],index=use_hypo)]) for k,v in exists_A_dscribe.items()}\n",
    "joined_B_dscribe={k:pd.concat([pd.DataFrame(v,index=use_exists),pd.DataFrame(hypo_B_dscribe[k],index=use_hypo)]) for k,v in exists_B_dscribe.items()}"
   ]
  },
  {
   "cell_type": "code",
   "execution_count": null,
   "id": "82d7739d-502e-4a1c-9d00-1f1e2ef97600",
   "metadata": {},
   "outputs": [],
   "source": [
    "def generate_allDScribe():\n",
    "    data_dict={}\n",
    "    for i in ['CM','SOAP']:\n",
    "        data_dict[i]={'AB':joined_AB_dscribe[i],'sub':(joined_A_dscribe[i]+joined_B_dscribe[i])-joined_AB_dscribe[i]}\n",
    "    return data_dict"
   ]
  },
  {
   "cell_type": "code",
   "execution_count": null,
   "id": "01a91209-7b9b-49bf-97a8-fa50edf78851",
   "metadata": {},
   "outputs": [],
   "source": [
    "dscribe_data=generate_allDScribe()"
   ]
  },
  {
   "cell_type": "markdown",
   "id": "40639689-33c3-456d-80e2-4374d5554a7a",
   "metadata": {},
   "source": [
    "# Persistent Images"
   ]
  },
  {
   "cell_type": "code",
   "execution_count": null,
   "id": "93919bb0-21ca-4c7a-9059-9fccff66f4b8",
   "metadata": {},
   "outputs": [],
   "source": [
    "# pixelsx = 150 # Don't make too large 150\n",
    "# pixelsy = 150 # 150\n",
    "pixelsx = 20 # Don't make too large 150\n",
    "pixelsy = 20 # 150\n",
    "spread = 0.06\n",
    "Max = 2.5 # 2.5\n",
    "\n",
    "X=np.zeros((len(use_exists)+len(use_hypo),(pixelsx*pixelsy)))\n",
    "\n",
    "overIDX=0\n",
    "for idx,i in enumerate(use_exists):\n",
    "    AB=f\"{os.path.dirname(os.getcwd())}/database/bse49-main/Geometries/Existing/{i}_AB.xyz\"\n",
    "    PI_AB=VariancePersistv1(f'{AB}', pixelx=pixelsx, pixely=pixelsy,myspread=spread, myspecs={\"maxBD\": Max, \"minBD\":  -0.1}, showplot=False)\n",
    "    X[idx,:]=PI_AB\n",
    "    overIDX+=1\n",
    "print(overIDX)\n",
    "for idx,i in enumerate(use_hypo):\n",
    "    AB=f\"{os.path.dirname(os.getcwd())}/database/bse49-main/Geometries/Hypothetical/{i}_AB.xyz\"\n",
    "    PI_AB=VariancePersistv1(f'{AB}', pixelx=pixelsx, pixely=pixelsy,myspread=spread, myspecs={\"maxBD\": Max, \"minBD\":  -0.1}, showplot=False)\n",
    "    X[idx,:]=PI_AB\n",
    "    overIDX+=1\n",
    "print(overIDX)\n",
    "\n",
    "PI_DF=pd.DataFrame(X,index=use_exists+use_hypo)\n",
    "\n",
    "PI_combined={'AB':PI_DF,'sub':None}"
   ]
  },
  {
   "cell_type": "markdown",
   "id": "e18658fe-c9ae-4fa1-8b97-e8391ad5195a",
   "metadata": {},
   "source": [
    "# Save molecular representations"
   ]
  },
  {
   "cell_type": "code",
   "execution_count": null,
   "id": "6d117434-c523-4236-bb21-514dc77eca52",
   "metadata": {},
   "outputs": [],
   "source": [
    "molecular_representations={}\n",
    "molecular_representations[\"MACCS\"]=maccs_combined\n",
    "molecular_representations[\"RDKit\"]=FP_combined\n",
    "molecular_representations[\"Morgan\"]=Morgan_combined\n",
    "molecular_representations[\"PI\"]=PI_combined\n",
    "\n",
    "for k,v in dscribe_data.items():\n",
    "    molecular_representations[k]=v\n"
   ]
  },
  {
   "cell_type": "code",
   "execution_count": null,
   "id": "1b4b3965-dc86-484e-b0d0-03df75a37a5e",
   "metadata": {},
   "outputs": [],
   "source": [
    "for k,v in molecular_representations.items():\n",
    "    print(k,v.keys())"
   ]
  },
  {
   "cell_type": "markdown",
   "id": "8c3acfaa-4f34-4ebb-b6c2-d5817bcb9430",
   "metadata": {},
   "source": [
    "# Save y"
   ]
  },
  {
   "cell_type": "code",
   "execution_count": null,
   "id": "df4205d7-f00c-4cf8-a6fc-ccf7d952eeff",
   "metadata": {},
   "outputs": [],
   "source": [
    "# Currate y (target) data\n",
    "BSE49_Existing=pd.read_csv('./bse49-main/BSE49_Existing.org',delimiter='|',header=None,index_col=1).dropna(axis=1)[[7,8]]\n",
    "BSE49_Hypothetical=pd.read_csv('./bse49-main/BSE49_Hypothetical.org',delimiter='|',header=None,index_col=1).dropna(axis=1)[[7,8]]\n",
    "BSE_ydf=pd.concat([BSE49_Existing,BSE49_Hypothetical])\n",
    "y_df=pd.DataFrame.from_dict({list(v.values())[0].strip().replace('_AB',''):list(v.values())[1] for v in BSE_ydf.to_dict(orient='index').values()},orient='index').rename(columns={0:'BSE'}).loc[use_exists+use_hypo]"
   ]
  },
  {
   "cell_type": "markdown",
   "id": "29ec04e1-8ea2-4e42-883e-465db193016d",
   "metadata": {},
   "source": [
    "# Save all data"
   ]
  },
  {
   "cell_type": "code",
   "execution_count": null,
   "id": "03fa8bf7-774e-4ad2-8498-67b9f87f5a31",
   "metadata": {},
   "outputs": [],
   "source": [
    "savedata={'X':molecular_representations,'y':y_df}"
   ]
  },
  {
   "cell_type": "code",
   "execution_count": null,
   "id": "a3275d20-804f-4272-9030-b27304d5586b",
   "metadata": {},
   "outputs": [],
   "source": [
    "for k,v in savedata['X'].items():\n",
    "    print(k)\n",
    "    for k1,v1 in v.items():    \n",
    "        if v1 is not None:\n",
    "            v1.to_csv(f'{k}_{k1}.csv.gz', compression='gzip')\n"
   ]
  },
  {
   "cell_type": "code",
   "execution_count": null,
   "id": "eff5909c-1586-4a2f-b487-e2e6871c82df",
   "metadata": {},
   "outputs": [],
   "source": [
    "savedata['y'].to_csv(f'y.csv.gz', compression='gzip')"
   ]
  },
  {
   "cell_type": "code",
   "execution_count": null,
   "id": "da9db850-2708-4a73-acc9-150a6914d2d5",
   "metadata": {},
   "outputs": [],
   "source": [
    "# with open('currated_reps.bin','wb') as f:\n",
    "#     joblib.dump(savedata,f)"
   ]
  },
  {
   "cell_type": "code",
   "execution_count": null,
   "id": "02fda955-8b63-42ff-bef9-8499fb5c8c2d",
   "metadata": {},
   "outputs": [],
   "source": [
    "def check_sparsity(A):\n",
    "    '''\n",
    "    Check the sparsity of a given feature matrix\n",
    "\n",
    "    params\n",
    "    ------\n",
    "    A: numpy.ndarray\n",
    "\n",
    "    returns\n",
    "    -------\n",
    "    sparse: float\n",
    "    \n",
    "    '''\n",
    "\n",
    "    sparse=1-(np.count_nonzero(A)/A.size)\n",
    "    return sparse"
   ]
  },
  {
   "cell_type": "code",
   "execution_count": null,
   "id": "02c2eb05-5155-44c1-8485-8f7c749085d4",
   "metadata": {},
   "outputs": [],
   "source": []
  }
 ],
 "metadata": {
  "kernelspec": {
   "display_name": "Python 3 (ipykernel)",
   "language": "python",
   "name": "python3"
  },
  "language_info": {
   "codemirror_mode": {
    "name": "ipython",
    "version": 3
   },
   "file_extension": ".py",
   "mimetype": "text/x-python",
   "name": "python",
   "nbconvert_exporter": "python",
   "pygments_lexer": "ipython3",
   "version": "3.12.2"
  }
 },
 "nbformat": 4,
 "nbformat_minor": 5
}
