{
 "cells": [
  {
   "cell_type": "code",
   "execution_count": null,
   "id": "06a9232c-ee31-467c-a7f7-f096c9733397",
   "metadata": {},
   "outputs": [],
   "source": [
    "import sys\n",
    "# !{sys.executable} -m pip install Ripser Cython\n",
    "from glob import glob\n",
    "import numpy as np\n",
    "import joblib\n",
    "import os\n",
    "import pandas as pd\n",
    "import json\n",
    "\n",
    "import time\n",
    "import matplotlib.pyplot as plt\n",
    "\n",
    "from sklearn.model_selection import train_test_split\n",
    "from sklearn.ensemble import RandomForestRegressor, GradientBoostingRegressor\n",
    "from sklearn.gaussian_process import GaussianProcessRegressor\n",
    "from sklearn.gaussian_process.kernels import RBF\n",
    "from sklearn.kernel_ridge import KernelRidge\n",
    "from sklearn.linear_model import Ridge, Lasso, ElasticNet\n",
    "from sklearn.neighbors import KNeighborsRegressor\n",
    "from sklearn.model_selection import GridSearchCV\n",
    "from sklearn.svm import SVR\n",
    "from sklearn.metrics import mean_squared_error, r2_score, mean_absolute_error\n",
    "\n",
    "\n",
    "from tqdm.notebook import tqdm\n",
    "import seaborn as sns\n",
    "from collections import Counter\n",
    "from Element_PI import VariancePersistv1\n",
    "\n",
    "# SHAP\n",
    "import shap\n",
    "\n",
    "from chemml.chem import Molecule\n",
    "from chemml.chem import RDKitFingerprint\n"
   ]
  },
  {
   "cell_type": "code",
   "execution_count": null,
   "id": "fd5ef593-8e54-4bec-a234-e7eb32485419",
   "metadata": {},
   "outputs": [],
   "source": []
  },
  {
   "cell_type": "code",
   "execution_count": null,
   "id": "93919bb0-21ca-4c7a-9059-9fccff66f4b8",
   "metadata": {},
   "outputs": [],
   "source": [
    "# pixelsx = 150 # Don't make too large 150\n",
    "# pixelsy = 150 # 150\n",
    "pixelsx = 20 # Don't make too large 150\n",
    "pixelsy = 20 # 150\n",
    "spread = 0.06\n",
    "Max = 2.5 # 2.5\n",
    "\n"
   ]
  },
  {
   "cell_type": "code",
   "execution_count": null,
   "id": "e19a5570-348a-473c-bb7c-3c456849a2d2",
   "metadata": {},
   "outputs": [],
   "source": [
    "existsY=joblib.load(\"/Users/grierjones/qregress/database/processed/intermediate/BSE49_existing.bin\")['BSE']\n",
    "hypoY=joblib.load(\"/Users/grierjones/qregress/database/processed/intermediate/BSE49_Hypothetical.bin\")['BSE']"
   ]
  },
  {
   "cell_type": "code",
   "execution_count": null,
   "id": "34d8935d-ac46-425c-9374-213fc5955453",
   "metadata": {},
   "outputs": [],
   "source": [
    "X=np.zeros((len(existsY)+len(hypoY),(pixelsx*pixelsy)))\n",
    "y=np.zeros((len(existsY)+len(hypoY),))"
   ]
  },
  {
   "cell_type": "code",
   "execution_count": null,
   "id": "38b7dfd2-e20c-4ac8-8d62-ebc792e10b17",
   "metadata": {},
   "outputs": [],
   "source": [
    "overIDX=0\n",
    "for idx,i in enumerate(pd.read_csv('/Users/grierjones/qregress/database/processed/intermediate/existing_molsA.csv')['XYZ']):\n",
    "    # print(existsY.loc[idx],os.path.basename(i).replace('_A.xyz',''))\n",
    "    B=f\"/Users/grierjones/qregress/database/bse49-main/Geometries/Existing/{os.path.basename(i).replace('_A.xyz','_B.xyz')}\"\n",
    "    A=f\"/Users/grierjones/qregress/database/bse49-main/Geometries/Existing/{os.path.basename(i)}\"\n",
    "    AB=f\"/Users/grierjones/qregress/database/bse49-main/Geometries/Existing/{os.path.basename(i).replace('_A.xyz','_AB.xyz')}\"\n",
    "    # PI_A=VariancePersistv1(f'{A}', pixelx=pixelsx, pixely=pixelsy,myspread=spread, myspecs={\"maxBD\": Max, \"minBD\":  -0.1}, showplot=False)\n",
    "    # PI_B=VariancePersistv1(f'{B}', pixelx=pixelsx, pixely=pixelsy,myspread=spread, myspecs={\"maxBD\": Max, \"minBD\":  -0.1}, showplot=False)\n",
    "    PI_AB=VariancePersistv1(f'{AB}', pixelx=pixelsx, pixely=pixelsy,myspread=spread, myspecs={\"maxBD\": Max, \"minBD\":  -0.1}, showplot=False)\n",
    "    X[idx,:]=PI_AB\n",
    "    y[idx]=existsY.loc[idx]\n",
    "    overIDX+=1\n",
    "print(overIDX)\n",
    "for idx,i in enumerate(pd.read_csv('/Users/grierjones/qregress/database/processed/intermediate/hypothetical_molsA.csv')['XYZ']):\n",
    "    # print(hypoY.loc[idx],os.path.basename(i).replace('_A.xyz',''))\n",
    "    B=f\"/Users/grierjones/qregress/database/bse49-main/Geometries/Hypothetical/{os.path.basename(i).replace('_A.xyz','_B.xyz')}\"\n",
    "    A=f\"/Users/grierjones/qregress/database/bse49-main/Geometries/Hypothetical/{os.path.basename(i)}\"\n",
    "    AB=f\"/Users/grierjones/qregress/database/bse49-main/Geometries/Hypothetical/{os.path.basename(i).replace('_A.xyz','_AB.xyz')}\"\n",
    "    # PI_A=VariancePersistv1(f'{A}', pixelx=pixelsx, pixely=pixelsy,myspread=spread, myspecs={\"maxBD\": Max, \"minBD\":  -0.1}, showplot=False)\n",
    "    # PI_B=VariancePersistv1(f'{B}', pixelx=pixelsx, pixely=pixelsy,myspread=spread, myspecs={\"maxBD\": Max, \"minBD\":  -0.1}, showplot=False)\n",
    "    PI_AB=VariancePersistv1(f'{AB}', pixelx=pixelsx, pixely=pixelsy,myspread=spread, myspecs={\"maxBD\": Max, \"minBD\":  -0.1}, showplot=False)\n",
    "    X[idx,:]=PI_AB\n",
    "    y[idx]=hypoY.loc[idx]\n",
    "    overIDX+=1\n",
    "print(overIDX)"
   ]
  },
  {
   "cell_type": "code",
   "execution_count": null,
   "id": "1a513cd1-ad1c-4925-8239-f52aaa31acec",
   "metadata": {},
   "outputs": [],
   "source": [
    "X.shape"
   ]
  },
  {
   "cell_type": "code",
   "execution_count": null,
   "id": "019928aa-7526-4e30-8e84-cb731a926f55",
   "metadata": {},
   "outputs": [],
   "source": [
    "trainsize=[ 0.1,0.3, 0.5, 0.7,0.8]"
   ]
  },
  {
   "cell_type": "code",
   "execution_count": null,
   "id": "77d8a824-9805-49c9-91db-5cbe781356e1",
   "metadata": {},
   "outputs": [],
   "source": [
    "\n",
    "\n",
    "gaussian_kernel = RBF()\n",
    "\n",
    "models = {\n",
    "    'ridge': Ridge(),\n",
    "    'lasso': Lasso(),\n",
    "    'elastic': ElasticNet(),\n",
    "    'knn': KNeighborsRegressor(),\n",
    "    'rfr': RandomForestRegressor(),\n",
    "    'grad': GradientBoostingRegressor(),\n",
    "    'svr': SVR(),\n",
    "    'krr': KernelRidge(),\n",
    "    'gpr': GaussianProcessRegressor()\n",
    "}\n",
    "\n",
    "param_grid = {\n",
    "    'ridge': {\n",
    "        'alpha': [0.001, 0.01, 0.1, 1, 10, 50, 100, 1000]\n",
    "    },\n",
    "    'knn': {\n",
    "        'n_neighbors': range(1, 10),\n",
    "        'weights': ['uniform', 'distance']\n",
    "    },\n",
    "    'rfr': {\n",
    "        'n_estimators': [100, 200, 300],\n",
    "        'max_depth': [None, 5, 10],\n",
    "        'min_samples_split': [2, 5, 10]\n",
    "    },\n",
    "    'grad': {\n",
    "        'n_estimators': [100, 200, 300],\n",
    "        'learning_rate': [0.1, 0.01, 0.001],\n",
    "        'max_depth': [3, 5, 7]\n",
    "    },\n",
    "    'svr': {\n",
    "        'kernel': ['linear', 'rbf'],\n",
    "        'C': [0.1, 1, 10],\n",
    "        'epsilon': [0.1, 0.01, 0.001]\n",
    "    },\n",
    "    'krr': {\n",
    "        'kernel': ['linear', 'poly', 'rbf'],\n",
    "        'alpha': [0.001, 0.01, 0.1, 1],\n",
    "        'gamma': [1, 0.1, 0.01, 0.001]\n",
    "    },\n",
    "    'gpr': {\n",
    "        'alpha': [0.0001, 0.001, 0.01, 0.1, 1],\n",
    "        'kernel': [gaussian_kernel]\n",
    "    },\n",
    "    'lasso': {\n",
    "        'alpha': [0.001, 0.01, 0.1, 1],\n",
    "        'max_iter': [1000, 2000, 3000]\n",
    "    },\n",
    "    'elastic': {\n",
    "        'alpha': [0.001, 0.01, 0.1, 1],\n",
    "        'l1_ratio': [0.2, 0.5, 0.8],\n",
    "        'max_iter': [1000, 2000, 3000]\n",
    "    }\n",
    "}\n"
   ]
  },
  {
   "cell_type": "code",
   "execution_count": null,
   "id": "4982c58a-01b7-4416-9954-429a97defae8",
   "metadata": {},
   "outputs": [],
   "source": [
    "def gridsearch(model,X_tr, y_tr,X_tst,y_tst):\n",
    "    \"\"\"\n",
    "    Perform GridSearchCV for a given model\n",
    "\n",
    "    parameters\n",
    "    ----------\n",
    "    model: str\n",
    "        Name of model\n",
    "\n",
    "    X_tr: np.array\n",
    "        X training\n",
    "\n",
    "    y_tr: np.array\n",
    "        Y Training\n",
    "\n",
    "    X_tst: np.array\n",
    "        X test\n",
    "\n",
    "    y_tst: np.array\n",
    "        y test\n",
    "\n",
    "    Returns\n",
    "    -------\n",
    "    scores: dict\n",
    "        scored models\n",
    "    \"\"\"\n",
    "    print(X_tr.shape, y_tr.shape,X_tst.shape,y_tst.shape)\n",
    "    st = time.time()\n",
    "    # Grab model and model parameters to perform gridsearchcv\n",
    "    current_model = models[model]\n",
    "    current_param_grid = param_grid[model]\n",
    "\n",
    "    grid_search = GridSearchCV(current_model, current_param_grid, cv=5,n_jobs=-1)\n",
    "\n",
    "    print(f'Now fitting {model}... ')\n",
    "\n",
    "    grid_search.fit(X_tr, y_tr)\n",
    "\n",
    "    best_model = grid_search.best_estimator_\n",
    "\n",
    "    print(f'Completed fitting {model} in {time.time() - st} seconds. ')\n",
    "\n",
    "    # Take the best model and evaluate using known metrics\n",
    "    model=best_model\n",
    "    scores = {}\n",
    "    st = time.time()\n",
    "    print('Now scoring model... ')\n",
    "    y_tr_pred = model.predict(X_tr)\n",
    "    y_tst_pred = model.predict(X_tst)\n",
    "\n",
    "    plt.scatter(y_tr,y_tr_pred)\n",
    "    plt.scatter(y_tst,y_tst_pred)\n",
    "    plt.scatter(y_tr, y_tr)\n",
    "    plt.scatter(y_tst,y_tst)\n",
    "    plt.show()\n",
    "            \n",
    "    scores['MSE_train'] = mean_squared_error(y_tr, y_tr_pred),\n",
    "    scores['R2_train'] = r2_score(y_tr, y_tr_pred)\n",
    "    scores['MAE_train'] = mean_absolute_error(y_tr, y_tr_pred)\n",
    "    scores['MSE_test'] = mean_squared_error(y_tst, y_tst_pred)\n",
    "    scores['R2_test'] = r2_score(y_tst, y_tst_pred)\n",
    "    scores['MAE_test'] = mean_absolute_error(y_tst, y_tst_pred)\n",
    "\n",
    "    return scores, best_model\n",
    "\n"
   ]
  },
  {
   "cell_type": "code",
   "execution_count": null,
   "id": "c9cc0e90-e7b8-4a24-b682-6a6191994c7d",
   "metadata": {
    "scrolled": true
   },
   "outputs": [],
   "source": [
    "# performance={}\n",
    "# for m in models:\n",
    "#     performance[m]={}\n",
    "#     for ts in trainsize:\n",
    "#         X_train, X_test, y_train, y_test = train_test_split(X,y,train_size=ts,random_state=42)\n",
    "#         scores, best_model = gridsearch(m,X_train, y_train,X_test,y_test)\n",
    "#         performance[m][ts]=scores\n",
    "#         print(ts,scores)"
   ]
  },
  {
   "cell_type": "code",
   "execution_count": null,
   "id": "b2451aba-2d60-44ad-9272-26b21f233595",
   "metadata": {},
   "outputs": [],
   "source": [
    "# dfmelt=[]\n",
    "# for k,v in performance.items():\n",
    "#     df=pd.DataFrame.from_dict(v).loc[['MAE_train','MAE_test']].T\n",
    "#     df.columns=[df.columns,[k,k]]\n",
    "#     dfmelt.append(df.melt(value_vars=df.columns.tolist(),ignore_index=False))\n",
    "# dfmelt=pd.concat(dfmelt)"
   ]
  },
  {
   "cell_type": "code",
   "execution_count": null,
   "id": "2e596200-2002-4427-a5be-dfb5473fde28",
   "metadata": {},
   "outputs": [],
   "source": [
    "# sns.barplot(dfmelt.loc[0.8],hue='variable_0',x='variable_1',y='value',palette=sns.color_palette(\"Paired\",2))"
   ]
  },
  {
   "cell_type": "code",
   "execution_count": null,
   "id": "a060a96e-5c1a-4fa4-b18d-7a9f1c78c4ba",
   "metadata": {},
   "outputs": [],
   "source": [
    "# ()\n",
    "\n",
    "# g=sns.catplot(\n",
    "#     dfmelt.reset_index(), kind=\"bar\",\n",
    "#     x=\"index\", y=\"value\", col=\"variable_1\", hue='variable_0',\n",
    "#     height=4, aspect=1, col_wrap=5,palette=sns.color_palette(\"Paired\",2)\n",
    "# )\n",
    "# g.set_axis_labels(\"Training Set Ratio\", \"R$^{2}$\")\n",
    "# g.set_titles(\"{col_var}={col_name}\")\n",
    "# sns.move_legend(g, \"upper left\", bbox_to_anchor=(1, 1))\n",
    "# # g.set(ylim=(0, 1))"
   ]
  },
  {
   "cell_type": "markdown",
   "id": "d894cf18-8f0b-438c-99c1-db1e2e84afd9",
   "metadata": {},
   "source": [
    "# CHEMML TEST"
   ]
  },
  {
   "cell_type": "code",
   "execution_count": null,
   "id": "0d6638b4-812d-4481-ae95-3e66dc5a0b92",
   "metadata": {},
   "outputs": [],
   "source": [
    "morgan_fp = RDKitFingerprint(fingerprint_type='morgan', vector='bit', n_bits=1024, radius=3)\n",
    "MACCS_fp = RDKitFingerprint(fingerprint_type='maccs', vector='bit', n_bits=167)\n"
   ]
  },
  {
   "cell_type": "code",
   "execution_count": null,
   "id": "c44e2f50-d54f-452f-bdd0-8311ca1bb730",
   "metadata": {},
   "outputs": [],
   "source": [
    "from rdkit.Chem.rdmolfiles import MolFromXYZFile, MolToXYZFile\n",
    "from rdkit import Chem\n",
    "from rdkit.Chem import rdDetermineBonds\n",
    "\n",
    "mol=MolFromXYZFile('/Users/grierjones/qregress/database/bse49-main/Geometries/Existing/C-C_1-Butanol_B.xyz')\n",
    "Chem.SanitizeMol(mol)\n",
    "rdDetermineBonds.DetermineConnectivity(mol)\n",
    "MolToXYZFile(mol,'trashB.xyz')\n",
    "\n",
    "\n",
    "mol=MolFromXYZFile('/Users/grierjones/qregress/database/bse49-main/Geometries/Existing/C-C_1-Butanol_A.xyz')\n",
    "Chem.SanitizeMol(mol)\n",
    "rdDetermineBonds.DetermineConnectivity(mol)\n",
    "MolToXYZFile(mol,'trashA.xyz')\n",
    "\n",
    "mol=MolFromXYZFile('/Users/grierjones/qregress/database/bse49-main/Geometries/Existing/C-C_1-Butanol_AB.xyz')\n",
    "Chem.SanitizeMol(mol)\n",
    "rdDetermineBonds.DetermineConnectivity(mol)\n",
    "MolToXYZFile(mol,'trashAB.xyz')"
   ]
  },
  {
   "cell_type": "code",
   "execution_count": null,
   "id": "9929061a-a32d-4980-b9e3-5f3d72e13b91",
   "metadata": {},
   "outputs": [],
   "source": [
    "\n"
   ]
  },
  {
   "cell_type": "code",
   "execution_count": null,
   "id": "cce45e22-b4f9-4800-a7ac-c423a5c6d0ae",
   "metadata": {},
   "outputs": [],
   "source": [
    "mol = Molecule('/Users/grierjones/qregress/database/bse49-main/Geometries/Existing/C-C_1-Butanol_AB.xyz', 'xyz')\n"
   ]
  },
  {
   "cell_type": "code",
   "execution_count": null,
   "id": "d786f070-4ee5-4745-9faf-fcabff97ea46",
   "metadata": {},
   "outputs": [],
   "source": [
    "# mol.to_smiles(kekuleSmiles=True)"
   ]
  },
  {
   "cell_type": "code",
   "execution_count": null,
   "id": "1fe08915-dd01-440e-9d87-128df7578519",
   "metadata": {},
   "outputs": [],
   "source": [
    "mol"
   ]
  },
  {
   "cell_type": "code",
   "execution_count": null,
   "id": "02c2eb05-5155-44c1-8485-8f7c749085d4",
   "metadata": {},
   "outputs": [],
   "source": []
  }
 ],
 "metadata": {
  "kernelspec": {
   "display_name": "Python 3 (ipykernel)",
   "language": "python",
   "name": "python3"
  },
  "language_info": {
   "codemirror_mode": {
    "name": "ipython",
    "version": 3
   },
   "file_extension": ".py",
   "mimetype": "text/x-python",
   "name": "python",
   "nbconvert_exporter": "python",
   "pygments_lexer": "ipython3",
   "version": "3.9.18"
  }
 },
 "nbformat": 4,
 "nbformat_minor": 5
}
