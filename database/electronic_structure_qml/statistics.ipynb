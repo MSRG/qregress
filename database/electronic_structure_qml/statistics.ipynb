{
 "cells": [
  {
   "cell_type": "code",
   "execution_count": null,
   "id": "93771f97-f0cd-4596-90b8-bb8cfc7edb35",
   "metadata": {},
   "outputs": [],
   "source": [
    "import sys\n",
    "# !{sys.executable} --version\n",
    "# !{sys.executable} -m pip install tqdm\n",
    "import joblib\n",
    "import time\n",
    "import numpy as np\n",
    "import pandas as pd\n",
    "#import tensorflow as tf\n",
    "from glob import glob\n",
    "import os\n",
    "import matplotlib.pyplot as plt\n",
    "from mpl_toolkits.mplot3d import Axes3D\n",
    "from matplotlib import cm\n",
    "import seaborn as sns"
   ]
  },
  {
   "cell_type": "code",
   "execution_count": null,
   "id": "c6346cd3-b753-4356-b7da-b77e701fcbd0",
   "metadata": {},
   "outputs": [],
   "source": [
    "def scatter_hist(x, y, ax, ax_histx, ax_histy):\n",
    "    # no labels\n",
    "    ax_histx.tick_params(axis=\"x\", labelbottom=False)\n",
    "    ax_histy.tick_params(axis=\"y\", labelleft=False)\n",
    "\n",
    "    # the scatter plot:\n",
    "    ax.scatter(x, y)\n",
    "\n",
    "    # now determine nice limits by hand:\n",
    "    binwidth = 0.25\n",
    "    xymax = max(np.max(np.abs(x)), np.max(np.abs(y)))\n",
    "    lim = (int(xymax/binwidth) + 1) * binwidth\n",
    "\n",
    "    bins = np.arange(-lim, lim + binwidth, binwidth)\n",
    "    ax_histx.hist(x, bins=bins)\n",
    "    ax_histy.hist(y, bins=bins, orientation='horizontal')\n"
   ]
  },
  {
   "cell_type": "code",
   "execution_count": null,
   "id": "1b3cf8be-c9a4-4a41-a9a5-572ff78d8e01",
   "metadata": {},
   "outputs": [],
   "source": [
    "datadf = pd.concat([pd.read_pickle(i,compression='gzip') for i in glob(\"data/*gz\")])"
   ]
  },
  {
   "cell_type": "code",
   "execution_count": null,
   "id": "6d2bb93c-206b-492e-8781-9977fec60f28",
   "metadata": {},
   "outputs": [],
   "source": [
    "x, y = (datadf['t2start'],datadf['t2'])\n",
    "# Start with a square Figure.\n",
    "fig = plt.figure(figsize=(6, 6))\n",
    "# Add a gridspec with two rows and two columns and a ratio of 1 to 4 between\n",
    "# the size of the marginal Axes and the main Axes in both directions.\n",
    "# Also adjust the subplot parameters for a square plot.\n",
    "gs = fig.add_gridspec(2, 2,  width_ratios=(4, 1), height_ratios=(1, 4),\n",
    "                      left=0.1, right=0.9, bottom=0.1, top=0.9,\n",
    "                      wspace=0.05, hspace=0.05)\n",
    "# Create the Axes.\n",
    "ax = fig.add_subplot(gs[1, 0])\n",
    "ax_histx = fig.add_subplot(gs[0, 0], sharex=ax)\n",
    "ax_histy = fig.add_subplot(gs[1, 1], sharey=ax)\n",
    "# Draw the scatter plot and marginals.\n",
    "scatter_hist(x, y, ax, ax_histx, ax_histy)"
   ]
  },
  {
   "cell_type": "code",
   "execution_count": null,
   "id": "a9d37966-203b-4268-8fbd-7c10b2a9adfb",
   "metadata": {},
   "outputs": [],
   "source": [
    "help(sns.histplot)"
   ]
  },
  {
   "cell_type": "code",
   "execution_count": null,
   "id": "96396785-eaea-45fe-a587-006737ebd778",
   "metadata": {},
   "outputs": [],
   "source": [
    "SMALL_SIZE = 8\n",
    "MEDIUM_SIZE = 12\n",
    "BIGGER_SIZE = 12\n",
    "figsize = fig.get_size_inches()\n",
    "fig.set_size_inches(figsize * 1.2)\n",
    "plt.rc('font', size=MEDIUM_SIZE)          # controls default text sizes\n",
    "plt.rc('axes', titlesize=MEDIUM_SIZE)     # fontsize of the axes title\n",
    "plt.rc('axes', labelsize=MEDIUM_SIZE)    # fontsize of the x and y labels\n",
    "plt.rc('xtick', labelsize=MEDIUM_SIZE)    # fontsize of the tick labels\n",
    "plt.rc('ytick', labelsize=MEDIUM_SIZE)    # fontsize of the tick labels\n",
    "plt.rc('legend', fontsize=MEDIUM_SIZE)    # legend fontsize\n",
    "plt.rc('figure', titlesize=MEDIUM_SIZE)  # fontsize of the figure title"
   ]
  },
  {
   "cell_type": "code",
   "execution_count": null,
   "id": "4b80523a-45fd-482f-bb83-16bc3bf35764",
   "metadata": {},
   "outputs": [],
   "source": [
    "import matplotlib as mpl\n",
    "mpl.rcParams['text.usetex'] = True\n",
    "mpl.rcParams['text.latex.preamble'] = r'\\usepackage{amsmath}'\n",
    "\n",
    "\n",
    "# Rename columns with proper LaTeX formatting\n",
    "datadf_renamed = datadf.rename(columns={\n",
    "    't2': r't$_{2}$',\n",
    "    't2start': r't$_{2}^{\\text{(MP2)}}$'\n",
    "})\n",
    "\n",
    "# Melt the DataFrame for plotting\n",
    "melted_df = datadf_renamed.melt(value_vars=[r't$_{2}$', r't$_{2}^{\\text{(MP2)}}$'])\n",
    "\n",
    "# Create the violin plot\n",
    "sns.violinplot(data=melted_df.sort_values(by='variable',ascending=False), x='variable', y='value',palette=sns.color_palette('Paired',2))\n",
    "plt.ylabel('Amplitude Values')\n",
    "plt.xlabel('')\n",
    "plt.ylim(-0.10,0.08)\n",
    "# Show the plot\n",
    "plt.tight_layout()\n",
    "plt.savefig(os.path.join(os.path.expanduser('~'),'qregress/images/DDCC/amplitude_distribution.png'),dpi=300,bbox_inches='tight')\n",
    "plt.show()"
   ]
  },
  {
   "cell_type": "code",
   "execution_count": null,
   "id": "790c0b74-f269-45e5-86d6-6612ce06825d",
   "metadata": {},
   "outputs": [],
   "source": [
    "# sns.kdeplot(pd.concat([pd.read_pickle(i,compression='gzip')['t2'] for i in glob(\"data/*gz\")]))\n",
    "sns.violinplot(x)\n",
    "# plt.ylim(0,1000)"
   ]
  },
  {
   "cell_type": "code",
   "execution_count": null,
   "id": "59cd01b0-4959-413d-98bd-e696ddf52c3c",
   "metadata": {},
   "outputs": [],
   "source": []
  }
 ],
 "metadata": {
  "kernelspec": {
   "display_name": "Python 3 (ipykernel)",
   "language": "python",
   "name": "python3"
  },
  "language_info": {
   "codemirror_mode": {
    "name": "ipython",
    "version": 3
   },
   "file_extension": ".py",
   "mimetype": "text/x-python",
   "name": "python",
   "nbconvert_exporter": "python",
   "pygments_lexer": "ipython3",
   "version": "3.12.4"
  }
 },
 "nbformat": 4,
 "nbformat_minor": 5
}
