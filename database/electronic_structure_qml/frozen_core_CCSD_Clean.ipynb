{
 "cells": [
  {
   "cell_type": "code",
   "execution_count": null,
   "metadata": {},
   "outputs": [],
   "source": [
    "import sys\n",
    "# !{sys.executable} -m pip install openpyxl\n",
    "import joblib\n",
    "import time\n",
    "import psi4\n",
    "import numpy as np\n",
    "import pandas as pd\n",
    "#import tensorflow as tf\n",
    "import os\n",
    "import matplotlib.pyplot as plt\n",
    "from mpl_toolkits.mplot3d import Axes3D\n",
    "from matplotlib import cm\n",
    "\n",
    "from sklearn.model_selection import train_test_split\n",
    "from sklearn.preprocessing import MinMaxScaler\n",
    "from sklearn.neighbors import KNeighborsRegressor\n",
    "from sklearn.ensemble import RandomForestRegressor, GradientBoostingRegressor\n",
    "from sklearn.gaussian_process import GaussianProcessRegressor\n",
    "from sklearn.gaussian_process.kernels import RBF\n",
    "from sklearn.kernel_ridge import KernelRidge\n",
    "from sklearn.linear_model import Ridge, Lasso, ElasticNet\n",
    "from sklearn.neighbors import KNeighborsRegressor\n",
    "from sklearn.model_selection import GridSearchCV\n",
    "from sklearn.decomposition import PCA\n",
    "from sklearn.metrics import mean_squared_error, r2_score, mean_absolute_error\n",
    "\n",
    "from tqdm.notebook import tqdm\n",
    "import seaborn as sns\n",
    "from collections import Counter\n",
    "\n",
    "from glob import glob\n",
    "from helper_CC_ML_spacial import *\n",
    "# SHAP\n",
    "import shap"
   ]
  },
  {
   "cell_type": "code",
   "execution_count": null,
   "metadata": {},
   "outputs": [],
   "source": [
    "# mol = psi4.geometry(\"\"\"\n",
    "# 0 1\n",
    "# O 0.769120 1.020656 0.000000\n",
    "# O 0.000000 0.000000 0.000000\n",
    "# O 0.769120 -1.020656 0.000000\n",
    "# symmetry c1\n",
    "#         \"\"\")\n",
    "        \n",
    "\n",
    "\n",
    "\n",
    "# psi4.core.clean()\n",
    "# psi4.core.be_quiet()\n",
    "# psi4.set_options({'basis':'3-21G',\n",
    "# # psi4.set_options({'basis':'STO-3G',\n",
    "#                   'scf_type':     'pk',\n",
    "#                   'reference':    'rhf',\n",
    "#                   'mp2_type':     'conv',\n",
    "#                   'e_convergence': 1e-8,\n",
    "#                   'd_convergence': 1e-8})\n",
    "# rhf_e, scf_wfn = psi4.energy('scf', return_wfn=True)\n",
    "# scf_e, scf_wfn = psi4.energy('scf', return_wfn=True)\n",
    "# A=HelperCCEnergy(mol, rhf_e, scf_wfn,freeze_core=True)\n",
    "\n",
    "# A.compute_energy()\n"
   ]
  },
  {
   "cell_type": "code",
   "execution_count": null,
   "metadata": {},
   "outputs": [],
   "source": [
    "properties=['Evir1', 'Hvir1', 'Jvir1', 'Kvir1', 'Evir2', 'Hvir2', 'Jvir2', 'Kvir2', 'Eocc1', 'Jocc1', 'Kocc1', 'Hocc1','Eocc2', 'Jocc2', 'Kocc2', 'Hocc2', 'Jia1', 'Jia2', 'Kia1', 'Kia2','diag', 'orbdiff', 'doublecheck', 't2start', 't2mag', 't2sign', 'Jia1mag', 'Jia2mag','Kia1mag', 'Kia2mag','t2']"
   ]
  },
  {
   "cell_type": "code",
   "execution_count": null,
   "metadata": {
    "scrolled": true
   },
   "outputs": [],
   "source": [
    "data_dict={}\n",
    "for struct in glob('./ddcc-voglab2019/water/*xyz'):\n",
    "\n",
    "\n",
    "    print(struct)\n",
    "    with open(struct,'r') as f:\n",
    "        text=f.read()\n",
    "    \n",
    "    xyz=False\n",
    "    if xyz==True: \n",
    "        qmol = psi4.qcdb.Molecule.from_string(text, dtype='xyz')\n",
    "        mol = psi4.geometry(qmol.create_psi4_string_from_molecule()+ 'symmetry c1')                \n",
    "    else:                                \n",
    "        mol = psi4.geometry(text)  \n",
    "\n",
    "    psi4.core.clean()\n",
    "    psi4.core.be_quiet()\n",
    "    # psi4.set_options({'basis':'3-21G',\n",
    "    psi4.set_options({'basis':'STO-3G',\n",
    "                      'scf_type':     'pk',\n",
    "                      'reference':    'rhf',\n",
    "                      'mp2_type':     'conv',\n",
    "                      'e_convergence': 1e-8,\n",
    "                      'd_convergence': 1e-8})\n",
    "    try:\n",
    "        rhf_e, scf_wfn = psi4.energy('scf', return_wfn=True)\n",
    "        scf_e, scf_wfn = psi4.energy('scf', return_wfn=True)\n",
    "        A=HelperCCEnergy(mol, rhf_e, scf_wfn,freeze_core=True)\n",
    "        \n",
    "        A.compute_energy()\n",
    "        \n",
    "        data=pd.DataFrame(np.array([getattr(A,attr).flatten() for attr in properties]).T,columns=properties)\n",
    "        data_dict[struct.split('_')[0]]=data\n",
    "    except:\n",
    "        pass\n",
    "\n",
    "for k,v in sorted(data_dict.items()):\n",
    "    print(k)\n",
    "    v.to_pickle(f\"./data/{os.path.basename(k.replace('.xyz',''))}.pkl.gz\", compression='gzip')"
   ]
  },
  {
   "cell_type": "code",
   "execution_count": null,
   "metadata": {},
   "outputs": [],
   "source": [
    "data_dict={int(''.join(filter(str.isdigit, v.split('/')[-1].split('.')[0]))):pd.read_pickle(v,compression='gzip') for v in glob('./data/*.pkl.gz')}"
   ]
  },
  {
   "cell_type": "code",
   "execution_count": null,
   "metadata": {},
   "outputs": [],
   "source": [
    "\n",
    "train,test=train_test_split(list(data_dict.keys()),train_size=0.8,test_size=0.2)"
   ]
  },
  {
   "cell_type": "code",
   "execution_count": null,
   "metadata": {},
   "outputs": [],
   "source": [
    "X_train=[]\n",
    "y_train=[]\n",
    "X_test=[]\n",
    "y_test=[]\n",
    "\n",
    "X_train=np.vstack([data_dict[i].drop(columns=['t2']).to_numpy() for i in train])\n",
    "y_train=np.hstack([data_dict[i]['t2'].to_numpy() for i in train])\n",
    "\n",
    "X_test=np.vstack([data_dict[i].drop(columns=['t2']).to_numpy() for i in test])\n",
    "y_test=np.hstack([data_dict[i]['t2'].to_numpy() for i in test])\n",
    "\n",
    "\n",
    "scaler = MinMaxScaler\n",
    "x_scaler = scaler((-1, 1))\n",
    "y_scaler = scaler((-1, 1))\n",
    "\n",
    "X_train=x_scaler.fit_transform(X_train)\n",
    "y_train=y_scaler.fit_transform(y_train.reshape(-1,1)).flatten()\n",
    "\n",
    "X_test=x_scaler.transform(X_test)\n",
    "y_test=y_scaler.transform(y_test.reshape(-1,1)).flatten()"
   ]
  },
  {
   "cell_type": "code",
   "execution_count": null,
   "metadata": {},
   "outputs": [],
   "source": [
    "print(X_train.shape,y_train.shape,X_test.shape,y_test.shape)"
   ]
  },
  {
   "cell_type": "code",
   "execution_count": null,
   "metadata": {},
   "outputs": [],
   "source": [
    "rfr=RandomForestRegressor()\n",
    "params={\n",
    "        'n_estimators': [100, 200, 300],\n",
    "        'max_depth': [None, 5, 10],\n",
    "        'min_samples_split': [2, 5, 10]\n",
    "    }\n",
    "grid_search = GridSearchCV(rfr, params, cv=5,n_jobs=-1,verbose=1000)\n",
    "\n",
    "\n",
    "print(f'Now fitting model... ')\n",
    "st = time.time()\n",
    "grid_search.fit(X_train,y_train)\n",
    "print(f'Completed fitting model in {time.time() - st:.4f} seconds. ')\n",
    "\n",
    "model = grid_search.best_estimator_"
   ]
  },
  {
   "cell_type": "code",
   "execution_count": null,
   "metadata": {},
   "outputs": [],
   "source": [
    "models={}\n",
    "# model = KNeighborsRegressor(n_neighbors=1,n_jobs=-1)\n",
    "model.fit(X_train, y_train)\n",
    "print(model.score(X_train,y_train),model.score(X_test,y_test))\n",
    "# models['original']={'Train':model.score(X_train,y_train),'Test':model.score(X_test,y_test)}\n",
    "models['original']={'Train':model.score(X_train,y_train),'Test':model.score(X_test,y_test),'TRAIN_MAE':mean_absolute_error(model.predict(X_train),y_train),'TEST_MAE':mean_absolute_error(model.predict(X_test),y_test)}"
   ]
  },
  {
   "cell_type": "code",
   "execution_count": null,
   "metadata": {},
   "outputs": [],
   "source": []
  },
  {
   "cell_type": "code",
   "execution_count": null,
   "metadata": {},
   "outputs": [],
   "source": [
    "explainer = shap.Explainer(model.predict, np.vstack([X_train,X_test]),n_jobs=-1,feature_names=properties[:-1])\n",
    "shap_values = explainer(X_test)\n",
    "shap.plots.bar(shap_values,max_display=16)"
   ]
  },
  {
   "cell_type": "code",
   "execution_count": null,
   "metadata": {},
   "outputs": [],
   "source": []
  },
  {
   "cell_type": "code",
   "execution_count": null,
   "metadata": {},
   "outputs": [],
   "source": []
  },
  {
   "cell_type": "code",
   "execution_count": null,
   "metadata": {},
   "outputs": [],
   "source": [
    "top5=np.argsort(shap_values.abs.values.mean(axis=0))[-5:]\n",
    "top16=np.argsort(shap_values.abs.values.mean(axis=0))[-16:]\n",
    "top5_names=np.array(properties)[top5]\n",
    "top16_names=np.array(properties)[top16]"
   ]
  },
  {
   "cell_type": "code",
   "execution_count": null,
   "metadata": {},
   "outputs": [],
   "source": []
  },
  {
   "cell_type": "code",
   "execution_count": null,
   "metadata": {},
   "outputs": [],
   "source": [
    "for t in np.arange(0.1,0.9,0.2):\n",
    "    train,test=train_test_split(list(data_dict.keys()),train_size=t,test_size=0.2)\n",
    "    X_train=[]\n",
    "    y_train=[]\n",
    "    X_test=[]\n",
    "    y_test=[]\n",
    "    \n",
    "    X_train=np.vstack([data_dict[i].drop(columns=['t2']).to_numpy() for i in train])\n",
    "    y_train=np.hstack([data_dict[i]['t2'].to_numpy() for i in train])\n",
    "    \n",
    "    X_test=np.vstack([data_dict[i].drop(columns=['t2']).to_numpy() for i in test])\n",
    "    y_test=np.hstack([data_dict[i]['t2'].to_numpy() for i in test])\n",
    "    \n",
    "    \n",
    "    scaler = MinMaxScaler\n",
    "    x_scaler = scaler((-1, 1))\n",
    "    y_scaler = scaler((-1, 1))\n",
    "    \n",
    "    X_train=x_scaler.fit_transform(X_train)\n",
    "    y_train=y_scaler.fit_transform(y_train.reshape(-1,1)).flatten()\n",
    "    \n",
    "    X_test=x_scaler.transform(X_test)\n",
    "    y_test=y_scaler.transform(y_test.reshape(-1,1)).flatten()\n",
    "    \n",
    "    \n",
    "    \n",
    "    with open(f'{t:.1f}_5_DDCC_train.bin','wb') as f:\n",
    "        joblib.dump({'X':X_train[:,top5],'y':y_train},f)\n",
    "    with open(f'{t:.1f}_5_DDCC_test.bin','wb') as f:\n",
    "        joblib.dump({'X':X_test[:,top5],'y':y_test},f)\n",
    "    with open(f'{t:.1f}_5_DDCC_scaler.bin','wb') as f:\n",
    "        joblib.dump(y_scaler,f)\n",
    "    \n",
    "    \n",
    "    \n",
    "    \n",
    "    \n",
    "    \n",
    "    \n",
    "    \n",
    "    with open(f'{t:.1f}_16_DDCC_train.bin','wb') as f:\n",
    "        joblib.dump({'X':X_train[:,top16],'y':y_train},f)\n",
    "    with open(f'{t:.1f}_16_DDCC_test.bin','wb') as f:\n",
    "        joblib.dump({'X':X_test[:,top16],'y':y_test},f)\n",
    "    with open(f'{t:.1f}_16_DDCC_scaler.bin','wb') as f:\n",
    "        joblib.dump(y_scaler,f)"
   ]
  },
  {
   "cell_type": "code",
   "execution_count": null,
   "metadata": {},
   "outputs": [],
   "source": [
    "\n",
    "# with open(f'5_DDCC_train.bin','wb') as f:\n",
    "#     joblib.dump({'X':X_train[:,top5],'y':y_train},f)\n",
    "# with open(f'5_DDCC_test.bin','wb') as f:\n",
    "#     joblib.dump({'X':X_test[:,top5],'y':y_test},f)\n",
    "# with open(f'5_DDCC_scaler.bin','wb') as f:\n",
    "#     joblib.dump(y_scaler,f)\n",
    "\n",
    "\n",
    "\n",
    "\n",
    "\n",
    "\n",
    "\n",
    "\n",
    "# with open(f'16_DDCC_train.bin','wb') as f:\n",
    "#     joblib.dump({'X':X_train[:,top16],'y':y_train},f)\n",
    "# with open(f'16_DDCC_test.bin','wb') as f:\n",
    "#     joblib.dump({'X':X_test[:,top16],'y':y_test},f)\n",
    "# with open(f'16_DDCC_scaler.bin','wb') as f:\n",
    "#     joblib.dump(y_scaler,f)"
   ]
  },
  {
   "cell_type": "code",
   "execution_count": null,
   "metadata": {},
   "outputs": [],
   "source": [
    "model.fit(X_train[:,top5],y_train)\n",
    "# model.score(X_train[:,top5],y_train),model.score(X_test[:,top5],y_test)\n",
    "# models['5']={'Train':model.score(X_train[:,top5],y_train),'Test':model.score(X_test[:,top5],y_test)}\n",
    "models['5']={'Train':model.score(X_train[:,top5],y_train),'Test':model.score(X_test[:,top5],y_test),'TRAIN_MAE':mean_absolute_error(model.predict(X_train[:,top5]),y_train),'TEST_MAE':mean_absolute_error(model.predict(X_test[:,top5]),y_test)}\n",
    "\n",
    "model.fit(X_train[:,top16],y_train)\n",
    "# model.score(X_train[:,top5],y_train),model.score(X_test[:,top5],y_test)\n",
    "models['16']={'Train':model.score(X_train[:,top16],y_train),'Test':model.score(X_test[:,top16],y_test),'TRAIN_MAE':mean_absolute_error(model.predict(X_train[:,top16]),y_train),'TEST_MAE':mean_absolute_error(model.predict(X_test[:,top16]),y_test)}"
   ]
  },
  {
   "cell_type": "code",
   "execution_count": null,
   "metadata": {},
   "outputs": [],
   "source": [
    "# pd.DataFrame.from_dict(models).to_excel('stats.xlsx')"
   ]
  },
  {
   "cell_type": "code",
   "execution_count": null,
   "metadata": {},
   "outputs": [],
   "source": [
    "pd.DataFrame.from_dict(models)"
   ]
  },
  {
   "cell_type": "code",
   "execution_count": null,
   "metadata": {},
   "outputs": [],
   "source": [
    "SMALL_SIZE = 12\n",
    "MEDIUM_SIZE = SMALL_SIZE\n",
    "BIGGER_SIZE = SMALL_SIZE\n",
    "\n",
    "plt.rc('font', size=SMALL_SIZE)          # controls default text sizes\n",
    "plt.rc('axes', titlesize=SMALL_SIZE)     # fontsize of the axes title\n",
    "plt.rc('axes', labelsize=MEDIUM_SIZE)    # fontsize of the x and y labels\n",
    "plt.rc('xtick', labelsize=SMALL_SIZE)    # fontsize of the tick labels\n",
    "plt.rc('ytick', labelsize=SMALL_SIZE)    # fontsize of the tick labels\n",
    "plt.rc('legend', fontsize=SMALL_SIZE)    # legend fontsize\n",
    "plt.rc('figure', titlesize=BIGGER_SIZE)  # fontsize of the figure title\n",
    "\n",
    "g=sns.barplot(data=pd.DataFrame.from_dict(models).reset_index().melt(id_vars='index'),x='variable',y='value',hue='index',palette=sns.color_palette('Paired',2))\n",
    "for container in g.containers:\n",
    "    g.bar_label(container, fmt='%0.4f')\n",
    "    \n",
    "plt.ylim(0,1.1)\n",
    "plt.legend(loc=4,framealpha=1)\n",
    "plt.ylabel('R$^{2}$')\n",
    "plt.xlabel('Feature Set Dimensions')\n",
    "# plt.title('DDCC Feature Set')\n",
    "plt.tight_layout()\n",
    "plt.savefig('DDCC_feature_set.png',dpi=300,bbox_inches='tight')"
   ]
  },
  {
   "cell_type": "code",
   "execution_count": null,
   "metadata": {},
   "outputs": [],
   "source": []
  }
 ],
 "metadata": {
  "kernelspec": {
   "display_name": "Python 3 (ipykernel)",
   "language": "python",
   "name": "python3"
  },
  "language_info": {
   "codemirror_mode": {
    "name": "ipython",
    "version": 3
   },
   "file_extension": ".py",
   "mimetype": "text/x-python",
   "name": "python",
   "nbconvert_exporter": "python",
   "pygments_lexer": "ipython3",
   "version": "3.12.2"
  }
 },
 "nbformat": 4,
 "nbformat_minor": 4
}
