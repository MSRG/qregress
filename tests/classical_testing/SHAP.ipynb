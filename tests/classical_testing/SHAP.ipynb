{
 "cells": [
  {
   "cell_type": "code",
   "execution_count": null,
   "id": "06a9232c-ee31-467c-a7f7-f096c9733397",
   "metadata": {},
   "outputs": [],
   "source": [
    "import sys\n",
    "# !{sys.executable} -m pip install shap\n",
    "from glob import glob\n",
    "import numpy as np\n",
    "import joblib\n",
    "import os\n",
    "import pandas as pd\n",
    "import json\n",
    "\n",
    "import time\n",
    "import matplotlib.pyplot as plt\n",
    "\n",
    "from sklearn.model_selection import train_test_split\n",
    "from sklearn.ensemble import RandomForestRegressor, GradientBoostingRegressor\n",
    "from sklearn.gaussian_process import GaussianProcessRegressor\n",
    "from sklearn.gaussian_process.kernels import RBF\n",
    "from sklearn.kernel_ridge import KernelRidge\n",
    "from sklearn.linear_model import Ridge, Lasso, ElasticNet\n",
    "from sklearn.neighbors import KNeighborsRegressor\n",
    "from sklearn.model_selection import GridSearchCV\n",
    "from sklearn.svm import SVR\n",
    "from sklearn.metrics import mean_squared_error, r2_score, mean_absolute_error\n",
    "\n",
    "from tqdm.notebook import tqdm\n",
    "import seaborn as sns\n",
    "from collections import Counter\n",
    "\n",
    "# SHAP\n",
    "import shap"
   ]
  },
  {
   "cell_type": "code",
   "execution_count": null,
   "id": "f685b40f-a353-47fc-961f-93cfc06fa420",
   "metadata": {},
   "outputs": [],
   "source": [
    "exists=[os.path.basename(i).replace('_A.xyz','') for i in pd.read_csv('/Users/grierjones/qregress/database/processed/intermediate/existing_molsA.csv')['XYZ']]\n",
    "hypo=[os.path.basename(i).replace('_A.xyz','') for i in pd.read_csv('/Users/grierjones/qregress/database/processed/intermediate/hypothetical_molsA.csv')['XYZ']]"
   ]
  },
  {
   "cell_type": "code",
   "execution_count": null,
   "id": "4d537e10-14f4-49e9-a563-769024150059",
   "metadata": {},
   "outputs": [],
   "source": [
    "indexing=dict(enumerate(list(enumerate(exists))+list(enumerate(hypo))))"
   ]
  },
  {
   "cell_type": "code",
   "execution_count": null,
   "id": "0943b31b-f1e3-498e-9ba4-32475259ae27",
   "metadata": {},
   "outputs": [],
   "source": [
    "indexing[2000]"
   ]
  },
  {
   "cell_type": "code",
   "execution_count": null,
   "id": "e0b21e21-2693-46ee-b4ce-1b2d6f8c56a5",
   "metadata": {},
   "outputs": [],
   "source": [
    "pd.read_csv('/Users/grierjones/qregress/database/processed/BSE49.csv')[pd.read_csv('/Users/grierjones/qregress/database/processed/BSE49.csv')['Unnamed: 0']==49]"
   ]
  },
  {
   "cell_type": "code",
   "execution_count": null,
   "id": "93919bb0-21ca-4c7a-9059-9fccff66f4b8",
   "metadata": {},
   "outputs": [],
   "source": [
    "# # pixelsx = 150 # Don't make too large 150\n",
    "# # pixelsy = 150 # 150\n",
    "# pixelsx = 20 # Don't make too large 150\n",
    "# pixelsy = 20 # 150\n",
    "# spread = 0.06\n",
    "# Max = 2.5 # 2.5\n",
    "# VariancePersistv1(f'STRUCTURE/{file}.xyz', pixelx=pixelsx, pixely=pixelsy,myspread=spread, myspecs={\"maxBD\": Max, \"minBD\":  -0.1}, showplot=False)\n"
   ]
  },
  {
   "cell_type": "code",
   "execution_count": null,
   "id": "1a513cd1-ad1c-4925-8239-f52aaa31acec",
   "metadata": {},
   "outputs": [],
   "source": [
    "len(glob('/Users/grierjones/qregress/database/bse49-main/Geometries/Existing/*xyz'))"
   ]
  },
  {
   "cell_type": "code",
   "execution_count": null,
   "id": "019928aa-7526-4e30-8e84-cb731a926f55",
   "metadata": {},
   "outputs": [],
   "source": [
    "trainsize=[ 0.1,0.3, 0.5, 0.7,0.8]"
   ]
  },
  {
   "cell_type": "code",
   "execution_count": null,
   "id": "77d8a824-9805-49c9-91db-5cbe781356e1",
   "metadata": {},
   "outputs": [],
   "source": [
    "\n",
    "\n",
    "gaussian_kernel = RBF()\n",
    "\n",
    "models = {\n",
    "    'ridge': Ridge(),\n",
    "    'lasso': Lasso(),\n",
    "    'elastic': ElasticNet(),\n",
    "    'knn': KNeighborsRegressor(),\n",
    "    'rfr': RandomForestRegressor(),\n",
    "    'grad': GradientBoostingRegressor(),\n",
    "    'svr': SVR(),\n",
    "    'krr': KernelRidge(),\n",
    "    'gpr': GaussianProcessRegressor()\n",
    "}\n",
    "\n",
    "param_grid = {\n",
    "    'ridge': {\n",
    "        'alpha': [0.001, 0.01, 0.1, 1, 10, 50, 100, 1000]\n",
    "    },\n",
    "    'knn': {\n",
    "        'n_neighbors': range(1, 10),\n",
    "        'weights': ['uniform', 'distance']\n",
    "    },\n",
    "    'rfr': {\n",
    "        'n_estimators': [100, 200, 300],\n",
    "        'max_depth': [None, 5, 10],\n",
    "        'min_samples_split': [2, 5, 10]\n",
    "    },\n",
    "    'grad': {\n",
    "        'n_estimators': [100, 200, 300],\n",
    "        'learning_rate': [0.1, 0.01, 0.001],\n",
    "        'max_depth': [3, 5, 7]\n",
    "    },\n",
    "    'svr': {\n",
    "        'kernel': ['linear', 'rbf'],\n",
    "        'C': [0.1, 1, 10],\n",
    "        'epsilon': [0.1, 0.01, 0.001]\n",
    "    },\n",
    "    'krr': {\n",
    "        'kernel': ['linear', 'poly', 'rbf'],\n",
    "        'alpha': [0.001, 0.01, 0.1, 1],\n",
    "        'gamma': [1, 0.1, 0.01, 0.001]\n",
    "    },\n",
    "    'gpr': {\n",
    "        'alpha': [0.0001, 0.001, 0.01, 0.1, 1],\n",
    "        'kernel': [gaussian_kernel]\n",
    "    },\n",
    "    'lasso': {\n",
    "        'alpha': [0.001, 0.01, 0.1, 1],\n",
    "        'max_iter': [1000, 2000, 3000]\n",
    "    },\n",
    "    'elastic': {\n",
    "        'alpha': [0.001, 0.01, 0.1, 1],\n",
    "        'l1_ratio': [0.2, 0.5, 0.8],\n",
    "        'max_iter': [1000, 2000, 3000]\n",
    "    }\n",
    "}\n"
   ]
  },
  {
   "cell_type": "code",
   "execution_count": null,
   "id": "4982c58a-01b7-4416-9954-429a97defae8",
   "metadata": {},
   "outputs": [],
   "source": [
    "def gridsearch(model,X_tr, y_tr,X_tst,y_tst):\n",
    "    \"\"\"\n",
    "    Perform GridSearchCV for a given model\n",
    "\n",
    "    parameters\n",
    "    ----------\n",
    "    model: str\n",
    "        Name of model\n",
    "\n",
    "    X_tr: np.array\n",
    "        X training\n",
    "\n",
    "    y_tr: np.array\n",
    "        Y Training\n",
    "\n",
    "    X_tst: np.array\n",
    "        X test\n",
    "\n",
    "    y_tst: np.array\n",
    "        y test\n",
    "\n",
    "    Returns\n",
    "    -------\n",
    "    scores: dict\n",
    "        scored models\n",
    "    \"\"\"\n",
    "    print(X_tr.shape, y_tr.shape,X_tst.shape,y_tst.shape)\n",
    "    st = time.time()\n",
    "    # Grab model and model parameters to perform gridsearchcv\n",
    "    current_model = models[model]\n",
    "    current_param_grid = param_grid[model]\n",
    "\n",
    "    grid_search = GridSearchCV(current_model, current_param_grid, cv=5,n_jobs=-1)\n",
    "\n",
    "    print(f'Now fitting {model}... ')\n",
    "\n",
    "    grid_search.fit(X_tr, y_tr)\n",
    "\n",
    "    best_model = grid_search.best_estimator_\n",
    "\n",
    "    print(f'Completed fitting {model} in {time.time() - st} seconds. ')\n",
    "\n",
    "    # Take the best model and evaluate using known metrics\n",
    "    model=best_model\n",
    "    scores = {}\n",
    "    st = time.time()\n",
    "    print('Now scoring model... ')\n",
    "    y_tr_pred = model.predict(X_tr)\n",
    "    y_tst_pred = model.predict(X_tst)\n",
    "\n",
    "    plt.scatter(y_tr,y_tr_pred)\n",
    "    plt.scatter(y_tst,y_tst_pred)\n",
    "    plt.scatter(y_tr, y_tr)\n",
    "    plt.scatter(y_tst,y_tst)\n",
    "    plt.show()\n",
    "            \n",
    "    scores['MSE_train'] = mean_squared_error(y_tr, y_tr_pred),\n",
    "    scores['R2_train'] = r2_score(y_tr, y_tr_pred)\n",
    "    scores['MAE_train'] = mean_absolute_error(y_tr, y_tr_pred)\n",
    "    scores['MSE_test'] = mean_squared_error(y_tst, y_tst_pred)\n",
    "    scores['R2_test'] = r2_score(y_tst, y_tst_pred)\n",
    "    scores['MAE_test'] = mean_absolute_error(y_tst, y_tst_pred)\n",
    "\n",
    "    return scores, best_model\n",
    "\n"
   ]
  },
  {
   "cell_type": "code",
   "execution_count": null,
   "id": "858b367a-57c8-45ca-ad67-6c78517c5859",
   "metadata": {},
   "outputs": [],
   "source": [
    "with open(\"./BSE/BSE49_full_test.bin\",'rb') as f:\n",
    "    testdata=joblib.load(f)\n",
    "    \n",
    "with open(\"./BSE/BSE49_full_train.bin\",'rb') as f:\n",
    "    traindata=joblib.load(f)\n",
    "\n",
    "with open(\"./BSE/BSE49_full_scaler.bin\",'rb') as f:\n",
    "    scaler = joblib.load(f)\n",
    "X_train=traindata['X']\n",
    "y_train=scaler.inverse_transform(traindata['y'].reshape(-1,1)).flatten()\n",
    "\n",
    "X_test=testdata['X']\n",
    "y_test=scaler.inverse_transform(testdata['y'].reshape(-1,1)).flatten()\n",
    "ALL_scores, ALL_best_model = gridsearch(\"rfr\",X_train, y_train,X_test,y_test)\n"
   ]
  },
  {
   "cell_type": "code",
   "execution_count": null,
   "id": "be6b138a-5a4e-4c08-9a74-7adde4073501",
   "metadata": {},
   "outputs": [],
   "source": []
  },
  {
   "cell_type": "code",
   "execution_count": null,
   "id": "7481dd0b-b52e-4b49-974b-0073f886ef34",
   "metadata": {},
   "outputs": [],
   "source": [
    "from sklearn.decomposition import PCA\n",
    "from sklearn.manifold import TSNE"
   ]
  },
  {
   "cell_type": "code",
   "execution_count": null,
   "id": "97ade375-5cec-48bb-97b0-3003cd2f1e57",
   "metadata": {},
   "outputs": [],
   "source": [
    "def remove_colinearity(df, threshold):\n",
    "    correlation = df.corr().abs()\n",
    "    upper_matrix = correlation.where(np.triu(np.ones(correlation.shape), k=1).astype(bool))\n",
    "    drop_cols = [column for column in upper_matrix.columns if any(upper_matrix[column] > threshold)]\n",
    "    print(f'Dropping {drop_cols} due to correlation greater than {threshold}... \\n')\n",
    "    df = df.drop(drop_cols, axis=1, inplace=False)\n",
    "    return df"
   ]
  },
  {
   "cell_type": "code",
   "execution_count": null,
   "id": "13aadbe7-e89d-462e-8d2e-75248873381e",
   "metadata": {},
   "outputs": [],
   "source": [
    "dropped=remove_colinearity(pd.DataFrame(X_train), 0.9)"
   ]
  },
  {
   "cell_type": "code",
   "execution_count": null,
   "id": "3efc7605-7c61-4644-b053-f5b46e0cc1c3",
   "metadata": {},
   "outputs": [],
   "source": [
    "with open(\"/Users/grierjones/qregress/database/BSE49_Hypothetical_train.bin\",'rb') as f:\n",
    "    print(joblib.load(f)['X'].shape)"
   ]
  },
  {
   "cell_type": "code",
   "execution_count": null,
   "id": "c870f4ff-ed2e-4eeb-abba-e498a3d9916e",
   "metadata": {},
   "outputs": [],
   "source": [
    "with open(\"BSE/BSE49_full_train.bin\",'rb') as f:\n",
    "    print(joblib.load(f)['X'].shape)"
   ]
  },
  {
   "cell_type": "code",
   "execution_count": null,
   "id": "31107b6d-b00e-4214-8c58-410b6ca5d793",
   "metadata": {},
   "outputs": [],
   "source": [
    "X_all=pd.read_csv('/Users/grierjones/qregress/database/processed/intermediate/BSE49_existing.csv',index_col=0).drop(columns='BSE')"
   ]
  },
  {
   "cell_type": "code",
   "execution_count": null,
   "id": "d1de2f22-a5d9-42ab-a0a5-90ed90ba665d",
   "metadata": {},
   "outputs": [],
   "source": [
    "explainer = shap.Explainer(ALL_best_model.predict, X_test,n_jobs=-1)\n",
    "shap_values = explainer(X_all)\n",
    "shap.plots.bar(shap_values,max_display=16)\n"
   ]
  },
  {
   "cell_type": "code",
   "execution_count": null,
   "id": "2b472b0a-0990-41be-8761-769c4b0d9568",
   "metadata": {},
   "outputs": [],
   "source": [
    "ALL_best_model.score(X_train,y_train),ALL_best_model.score(X_test,y_test)"
   ]
  },
  {
   "cell_type": "code",
   "execution_count": null,
   "id": "5f07e2e4-bdcb-4577-91dc-334403d4bc32",
   "metadata": {},
   "outputs": [],
   "source": [
    "SHAP_df=pd.DataFrame(np.abs(shap_values.values).mean(0),index=X_all.columns,columns=['mean(|SHAP|)'])\n",
    "best_16=np.argsort(SHAP_df.values.flatten())[-16:]\n",
    "best_5=np.argsort(SHAP_df.values.flatten())[-5:]"
   ]
  },
  {
   "cell_type": "code",
   "execution_count": null,
   "id": "488a1e23-c394-43f3-b148-2f36e0a1f6a5",
   "metadata": {},
   "outputs": [],
   "source": [
    "SHAP16_scores, SHAP16_best_model = gridsearch(\"rfr\",X_train[:,best_16], y_train,X_test[:,best_16],y_test)\n",
    "print(SHAP16_scores)"
   ]
  },
  {
   "cell_type": "code",
   "execution_count": null,
   "id": "0667eca4-5e48-4b3e-9817-dfed22a9fe37",
   "metadata": {},
   "outputs": [],
   "source": [
    "SHAP5_scores, SHAP5_best_model = gridsearch(\"rfr\",X_train[:,best_5], y_train,X_test[:,best_5],y_test)\n",
    "print(SHAP5_scores)"
   ]
  },
  {
   "cell_type": "code",
   "execution_count": null,
   "id": "71dda8c4-18d1-43d9-a782-bd519439a07f",
   "metadata": {},
   "outputs": [],
   "source": [
    "with open(\"/Users/grierjones/qregress/database/processed/5feats/BSE49_5feats_test.bin\",'rb') as f:\n",
    "    testdata=joblib.load(f)\n",
    "    \n",
    "with open(\"/Users/grierjones/qregress/database/processed/5feats/BSE49_5feats_train.bin\",'rb') as f:\n",
    "    traindata=joblib.load(f)\n",
    "\n",
    "with open(\"/Users/grierjones/qregress/database/processed/5feats/BSE49_5feats_scaler.bin\",'rb') as f:\n",
    "    scaler = joblib.load(f)\n",
    "X_train=traindata['X']\n",
    "y_train=scaler.inverse_transform(traindata['y'].reshape(-1,1)).flatten()\n",
    "\n",
    "X_test=testdata['X']\n",
    "y_test=scaler.inverse_transform(testdata['y'].reshape(-1,1)).flatten()\n",
    "BSE49_5featsscores, BSE49_5featsbest_model = gridsearch(\"rfr\",X_train, y_train,X_test,y_test)\n",
    "print(BSE49_5featsscores)"
   ]
  },
  {
   "cell_type": "code",
   "execution_count": null,
   "id": "9644ff4d-95e6-4697-a3d6-5539e6cd8ca7",
   "metadata": {},
   "outputs": [],
   "source": [
    "with open(\"/Users/grierjones/qregress/database/processed/16feats/0.8/BSE49_16feats_test.bin\",'rb') as f:\n",
    "    testdata=joblib.load(f)\n",
    "    \n",
    "with open(\"/Users/grierjones/qregress/database/processed/16feats/0.8/BSE49_16feats_train.bin\",'rb') as f:\n",
    "    traindata=joblib.load(f)\n",
    "\n",
    "with open(\"/Users/grierjones/qregress/database/processed/16feats/0.8/BSE49_16feats_scaler.bin\",'rb') as f:\n",
    "    scaler = joblib.load(f)\n",
    "X_train=traindata['X']\n",
    "y_train=scaler.inverse_transform(traindata['y'].reshape(-1,1)).flatten()\n",
    "\n",
    "X_test=testdata['X']\n",
    "y_test=scaler.inverse_transform(testdata['y'].reshape(-1,1)).flatten()\n",
    "BSE49_16scores, BSE49_16best_model = gridsearch(\"rfr\",X_train, y_train,X_test,y_test)\n",
    "print(BSE49_16scores)"
   ]
  },
  {
   "cell_type": "code",
   "execution_count": null,
   "id": "86515e97-5878-4a32-bc0d-0e5cd8d903bb",
   "metadata": {},
   "outputs": [],
   "source": [
    "concatscores=pd.concat([\n",
    "    pd.DataFrame.from_dict(ALL_scores).rename(index={0:'ALL'}),\n",
    "    pd.DataFrame.from_dict(BSE49_16scores).rename(index={0:'orig16'}),\n",
    "    pd.DataFrame.from_dict(BSE49_5featsscores).rename(index={0:'orig5'}),\n",
    "    pd.DataFrame.from_dict(SHAP16_scores).rename(index={0:'SHAP16'}),\n",
    "    pd.DataFrame.from_dict(SHAP5_scores).rename(index={0:'SHAP5'})\n",
    "    \n",
    "])\n"
   ]
  },
  {
   "cell_type": "code",
   "execution_count": null,
   "id": "92ebccef-fc27-40ac-a1e7-3967c32257ec",
   "metadata": {},
   "outputs": [],
   "source": [
    "# concatscores.to_excel(\"compareSHAP.xlsx\")"
   ]
  },
  {
   "cell_type": "code",
   "execution_count": null,
   "id": "7d1c3d78-64d6-487e-9f15-dce841988f12",
   "metadata": {},
   "outputs": [],
   "source": [
    "R2df=concatscores[['R2_train','R2_test']].reset_index().melt(id_vars='index').rename(columns={'index':'Features','variable':'Metric'})\n",
    "MAEdf=concatscores[['MAE_train','MAE_test']].reset_index().melt(id_vars='index').rename(columns={'index':'Features','variable':'Metric'})\n"
   ]
  },
  {
   "cell_type": "code",
   "execution_count": null,
   "id": "c484d9da-d2a3-4331-aff3-cee8cc3ac818",
   "metadata": {},
   "outputs": [],
   "source": [
    "fig,(ax1,ax2)=plt.subplots(1,2,figsize=(10,5))\n",
    "ax1=sns.barplot(R2df,x='Metric',y='value',hue='Features',ax=ax1,palette=sns.color_palette('Paired',5))\n",
    "ax1.set_ylabel(\"R$^{2}$\")\n",
    "ax1.legend(loc=3)\n",
    "ax2=sns.barplot(MAEdf,x='Metric',y='value',hue='Features',ax=ax2,palette=sns.color_palette('Paired',5))\n",
    "ax2.set_ylabel('MAE (kcal/mol)')\n",
    "plt.tight_layout()\n",
    "plt.savefig('compareSHAPmetrics.png',dpi=300,bbox_inches='tight')\n",
    "plt.show()"
   ]
  },
  {
   "cell_type": "code",
   "execution_count": null,
   "id": "b8387aa1-127d-483e-af7d-fc35fcd75a03",
   "metadata": {},
   "outputs": [],
   "source": [
    "concatscores"
   ]
  },
  {
   "cell_type": "code",
   "execution_count": null,
   "id": "a060a96e-5c1a-4fa4-b18d-7a9f1c78c4ba",
   "metadata": {},
   "outputs": [],
   "source": []
  }
 ],
 "metadata": {
  "kernelspec": {
   "display_name": "Python 3 (ipykernel)",
   "language": "python",
   "name": "python3"
  },
  "language_info": {
   "codemirror_mode": {
    "name": "ipython",
    "version": 3
   },
   "file_extension": ".py",
   "mimetype": "text/x-python",
   "name": "python",
   "nbconvert_exporter": "python",
   "pygments_lexer": "ipython3",
   "version": "3.12.2"
  }
 },
 "nbformat": 4,
 "nbformat_minor": 5
}
