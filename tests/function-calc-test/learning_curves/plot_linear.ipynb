{
 "cells": [
  {
   "cell_type": "code",
   "execution_count": null,
   "id": "b9de4c4d-0a0d-432b-ae97-f631d629f75b",
   "metadata": {},
   "outputs": [],
   "source": [
    "# Import required packages\n",
    "import sys\n",
    "# !{sys.executable} -m pip install seaborn\n",
    "from glob import glob\n",
    "import os\n",
    "import json\n",
    "import matplotlib.pyplot as plt\n",
    "import seaborn as sns\n",
    "import pandas as pd\n",
    "import numpy as np\n",
    "from shutil import copy,move\n",
    "from distutils.dir_util import copy_tree\n"
   ]
  },
  {
   "cell_type": "code",
   "execution_count": null,
   "id": "c8943efb-4e65-44ba-bbad-6bd1c431e1f2",
   "metadata": {},
   "outputs": [],
   "source": [
    "files = sorted(glob('./linear/*/*/*results.json'))\n",
    "baseline = \"../sixteenqubit_test/lin16qubit/IQP_Full-Pauli-CRZ/IQP_Full-Pauli-CRZ_results.json\""
   ]
  },
  {
   "cell_type": "code",
   "execution_count": null,
   "id": "04b309c5-d704-44bc-b7d0-dccc9a7d6d91",
   "metadata": {},
   "outputs": [],
   "source": [
    "\n",
    "quantum_results = []\n",
    "quantum_data = []\n",
    "for i in files:\n",
    "    with open(i,'r') as f:\n",
    "        data = json.load(f)\n",
    "    ratio = os.path.basename(os.path.dirname(os.path.dirname(i)))\n",
    "    quantum_data.append((ratio,data['R2_train'],data['R2_test']))\n",
    "    quantum_results.append(('IQP_Full-Pauli-CRZ',ratio,'R2_train',data['R2_train']))\n",
    "    quantum_results.append((\"IQP_Full-Pauli-CRZ\",ratio,'R2_test',data['R2_test']))\n",
    "\n",
    "quantum_data = np.array(quantum_data).astype(float)"
   ]
  },
  {
   "cell_type": "code",
   "execution_count": null,
   "id": "7089c628-d8fb-4d15-bfa3-33e730df1e52",
   "metadata": {},
   "outputs": [],
   "source": [
    "\n",
    "with open(baseline,'r') as f:\n",
    "    quantum_base = json.load(f)"
   ]
  },
  {
   "cell_type": "code",
   "execution_count": null,
   "id": "856181c4-e309-4f81-9d27-fa2ce822d747",
   "metadata": {},
   "outputs": [],
   "source": [
    "function=['linear','quadratic','sine']\n",
    "trainsize=[ 0.1,0.3, 0.5, 0.7,0.8]\n",
    "classical_models=['ridge', 'lasso', 'elastic', 'knn', 'rfr', 'grad', 'svr', 'krr', 'gpr'\n",
    "]\n",
    "\n",
    "classical_results=[]\n",
    "\n",
    "for models in classical_models:\n",
    "    for ts in trainsize:\n",
    "        \n",
    "        with open(f\"{os.path.expanduser('~')}/qregress/classical_testing/linear/{ts}_{models}_scores.json\",'r') as f:\n",
    "            classical_dict=json.load(f)\n",
    "        classical_results.append((models,ts,'R2_train',classical_dict['R2_train']))\n",
    "        classical_results.append((models,ts,'R2_test',classical_dict['R2_test']))\n",
    "            "
   ]
  },
  {
   "cell_type": "code",
   "execution_count": null,
   "id": "1fa3d822-5d48-4ce1-8a37-91ab257c66fb",
   "metadata": {},
   "outputs": [],
   "source": [
    "classical_df=pd.DataFrame(classical_results,columns=['model','ratio','set','value'])"
   ]
  },
  {
   "cell_type": "code",
   "execution_count": null,
   "id": "5034617d-c700-417b-a886-d549eb4106dd",
   "metadata": {},
   "outputs": [],
   "source": [
    "\n",
    "quantum_df=pd.DataFrame(quantum_results,columns=['model','ratio','set','value'])"
   ]
  },
  {
   "cell_type": "code",
   "execution_count": null,
   "id": "908eb29d-a0b7-4290-9d4b-3cd8d52a7bfa",
   "metadata": {},
   "outputs": [],
   "source": [
    "combined_df = pd.concat([classical_df,quantum_df])"
   ]
  },
  {
   "cell_type": "code",
   "execution_count": null,
   "id": "7a1451e9-5a82-4f08-b3f3-a3da1ee39328",
   "metadata": {},
   "outputs": [],
   "source": []
  },
  {
   "cell_type": "code",
   "execution_count": null,
   "id": "ed458d99-cd19-4224-88e0-c9cc30da264d",
   "metadata": {},
   "outputs": [],
   "source": []
  },
  {
   "cell_type": "code",
   "execution_count": null,
   "id": "0645ff8c-6023-47a6-bd0e-184dc5bb5174",
   "metadata": {},
   "outputs": [],
   "source": [
    "classical_df[classical_df['ratio']>0.1]['value'].describe()"
   ]
  },
  {
   "cell_type": "code",
   "execution_count": null,
   "id": "1c1cfa3b-5c66-4605-877b-9397c3425256",
   "metadata": {},
   "outputs": [],
   "source": [
    "quantum_df[quantum_df['ratio']>\"0.1\"]['value'].describe()"
   ]
  },
  {
   "cell_type": "code",
   "execution_count": null,
   "id": "15d89aaa-b8d3-4090-9e6c-b520bab589dd",
   "metadata": {},
   "outputs": [],
   "source": [
    "for ts in trainsize:\n",
    "    print(ts)\n",
    "    for m in classical_models:\n",
    "        cdf=classical_df[(classical_df['ratio']==ts)&(classical_df['model']==m)].set_index('set')\n",
    "        qdf=quantum_df[quantum_df['ratio']==f'{ts}'].set_index('set')\n",
    "        print(m,all(cdf['value']>=qdf['value']))\n",
    "        if cdf['value'].loc['R2_test']>=qdf['value'].loc['R2_test']:\n",
    "            print(cdf['value'].loc['R2_test'],qdf['value'].loc['R2_test'])\n",
    "    print()"
   ]
  },
  {
   "cell_type": "code",
   "execution_count": null,
   "id": "d4d89083-bc98-4b47-b698-60314cfcc5a2",
   "metadata": {},
   "outputs": [],
   "source": [
    "palette=sns.color_palette('Paired',10)\n",
    "model_pal = dict(zip(set(combined_df['model']),palette))\n",
    "\n",
    "\n",
    "SMALL_SIZE = 8\n",
    "MEDIUM_SIZE = 12\n",
    "BIGGER_SIZE = 12\n",
    "\n",
    "plt.rc('font', size=MEDIUM_SIZE)          # controls default text sizes\n",
    "plt.rc('axes', titlesize=MEDIUM_SIZE)     # fontsize of the axes title\n",
    "plt.rc('axes', labelsize=MEDIUM_SIZE)    # fontsize of the x and y labels\n",
    "plt.rc('xtick', labelsize=MEDIUM_SIZE)    # fontsize of the tick labels\n",
    "plt.rc('ytick', labelsize=MEDIUM_SIZE)    # fontsize of the tick labels\n",
    "plt.rc('legend', fontsize=MEDIUM_SIZE)    # legend fontsize\n",
    "plt.rc('figure', titlesize=MEDIUM_SIZE)  # fontsize of the figure title\n",
    "plt.figure(figsize=(8,5))\n",
    "ax = sns.lineplot(data=combined_df,x='ratio',y='value',style='set',hue='model',palette=model_pal, markers=True)\n",
    "ax.legend_.remove()\n",
    "\n",
    "ins = ax.inset_axes([0.7,0.7,0.2,0.2])\n",
    "sns.lineplot(data=combined_df[(combined_df['ratio']==0.1)&(combined_df['value']>0.8)],x='ratio',y='value',style='set',hue='model',palette=model_pal, markers=True,ax=ins)\n",
    "ins.set_ylim(0.8,1.05)\n",
    "ins.set_ylabel('R$^{2}$')\n",
    "ins.set_xlabel('Training Set (%)')\n",
    "ins.set_xticks([0.1])\n",
    "ins.get_legend().remove()\n",
    "\n",
    "\n",
    "\n",
    "# Add separate legend for hue (category)\n",
    "handles, labels = ax.get_legend_handles_labels()\n",
    "hue_legend = plt.legend(handles[1:11]+handles[12:], labels[1:11]+labels[12:], title='Model/Dataset', bbox_to_anchor=(0.3, 0.41), borderaxespad=0,ncols=3)\n",
    "\n",
    "# Add separate legend for style\n",
    "# style_legend = plt.legend(handles[12:], labels[12:], bbox_to_anchor=(1, 0.2), loc='upper left', borderaxespad=0.5)\n",
    "\n",
    "# Add the hue legend back so both are displayed\n",
    "plt.gca().add_artist(hue_legend)\n",
    "\n",
    "\n",
    "ax.set_ylim(0,1.05)\n",
    "ax.set_xlim(0.05,0.85)\n",
    "ax.set_ylabel('R$^{2}$')\n",
    "ax.set_xlabel('Training Set (%)')\n",
    "plt.tight_layout()\n",
    "#plt.savefig(f\"{os.path.expanduser('~')}/qregress/images/linear_learning_curves.png\", bbox_inches='tight', pad_inches=0.1)\n",
    "plt.show()"
   ]
  },
  {
   "cell_type": "code",
   "execution_count": null,
   "id": "ff58481a-fe85-480a-9be1-8ade2cefa969",
   "metadata": {},
   "outputs": [],
   "source": []
  },
  {
   "cell_type": "code",
   "execution_count": null,
   "id": "482b9604-99c0-401d-9df8-624685137268",
   "metadata": {},
   "outputs": [],
   "source": []
  },
  {
   "cell_type": "code",
   "execution_count": null,
   "id": "4f9434d3-149e-4c22-b9d2-b8c373a6e005",
   "metadata": {},
   "outputs": [],
   "source": [
    "combined_df = combined_df.astype({'model':str,'ratio':float,\"set\":str,'value':float})\n",
    "combined_df['set'] = [i.split('_')[1].capitalize() for i in combined_df['set']]\n",
    "\n",
    "train = combined_df[(combined_df['model']=='IQP_Full-Pauli-CRZ')&(combined_df['set']=='Train')]\n",
    "test = combined_df[(combined_df['model']=='IQP_Full-Pauli-CRZ')&(combined_df['set']=='Test')]\n",
    "\n",
    "drop_pqc = combined_df[combined_df['model']!='IQP_Full-Pauli-CRZ']"
   ]
  },
  {
   "cell_type": "code",
   "execution_count": null,
   "id": "841ed966-3b7b-4a15-9377-9acfd12c6b6c",
   "metadata": {},
   "outputs": [],
   "source": [
    "0.9 / 0.4"
   ]
  },
  {
   "cell_type": "code",
   "execution_count": null,
   "id": "4570a991-b905-43ed-9f49-4ffde6e23ea5",
   "metadata": {},
   "outputs": [],
   "source": []
  },
  {
   "cell_type": "code",
   "execution_count": null,
   "id": "015dc525-0fb4-459b-872e-3dc056d052ed",
   "metadata": {},
   "outputs": [],
   "source": [
    "\n",
    "\n",
    "fig, (ax1, ax2) = plt.subplots(1,2,figsize=(10,5),sharey=True)\n",
    "\n",
    "sns.boxplot(data=drop_pqc,x='ratio',y='value',hue='set', native_scale=True,ax=ax1,palette=sns.color_palette('Paired',2))\n",
    "\n",
    "# ins = ax1.inset_axes([0.55,0.15,0.4,0.4])\n",
    "# sns.boxplot(data=drop_pqc[drop_pqc['ratio']==0.1],x='ratio',y='value',hue='set', native_scale=True,palette=sns.color_palette('Paired',2),ax=ins)\n",
    "# ins.set_ylim(-0.5,1.05)\n",
    "# ins.set_ylabel('R$^{2}$')\n",
    "# ins.set_xlabel('Training Set (%)')\n",
    "# ins.set_xticks([0.1])\n",
    "# ins.get_legend().remove()\n",
    "\n",
    "# ax1.set_ylim(0.95,1.001)\n",
    "ax1.set_xlim(0,0.9)\n",
    "ax1.set_ylabel('R$^{2}$')\n",
    "ax1.set_xlabel('Training Set (%)')\n",
    "ax1.set_title('Classical Models')\n",
    "# Convert x-axis labels to percentages\n",
    "xticks = np.linspace(0, 0.9, 10)\n",
    "ax1.set_xticks(xticks)\n",
    "ax1.set_xticklabels([f\"{int(x * 100)}%\" for x in xticks])\n",
    "\n",
    "ax2.plot(train['ratio'],train['value'],'-x',color=sns.color_palette('Paired',2)[0],label='Train')\n",
    "ax2.plot(test['ratio'],test['value'],'-o',color=sns.color_palette('Paired',2)[1],label='Test')\n",
    "ax2.legend()\n",
    "ax2.set_xticks(xticks)\n",
    "ax2.set_xticklabels([f\"{int(x * 100)}%\" for x in xticks])\n",
    "\n",
    "# ax2.set_ylim(0.95,1)\n",
    "ax2.set_xlim(0.0,0.9)\n",
    "ax2.set_ylabel('R$^{2}$')\n",
    "ax2.set_xlabel('Training Set (%)')\n",
    "ax2.set_title('IQP_Full-Pauli-CRZ')\n",
    "plt.tight_layout()\n",
    "plt.savefig(f\"{os.path.expanduser('~')}/qregress/images/Function_Fitting/linear_learning_curves.png\", bbox_inches='tight', pad_inches=0.1)\n",
    "plt.show()"
   ]
  },
  {
   "cell_type": "code",
   "execution_count": null,
   "id": "e2482221-4cc1-4f5e-9b79-37bdc8fa7804",
   "metadata": {},
   "outputs": [],
   "source": [
    "pivotdf = combined_df.pivot(index=[\"model\", \"ratio\"], columns=\"set\", values=\"value\")[['Train','Test']]"
   ]
  },
  {
   "cell_type": "code",
   "execution_count": null,
   "id": "e644b750-548f-4942-ad31-fba8e99b1e1f",
   "metadata": {},
   "outputs": [],
   "source": [
    "check_lc = {}\n",
    "for i in [0.1,0.3,0.5,0.7,0.8]:\n",
    "    # print(i)\n",
    "    check_lc[i]={}\n",
    "    for m in {'elastic', 'gpr', 'grad', 'knn', 'krr', 'lasso', 'rfr', 'ridge', 'svr'}:\n",
    "        pivotdf.loc['IQP_Full-Pauli-CRZ',i]\n",
    "        isbetter = pivotdf.loc['IQP_Full-Pauli-CRZ',i]>=pivotdf.loc[m,i]\n",
    "        isclose = np.isclose(np.round(pivotdf.loc['IQP_Full-Pauli-CRZ',i],3),np.round(pivotdf.loc[m,i].values,3),atol=1e-2)\n",
    "        check_lc[i][m]={'Train Better':isbetter[0], \"Test Better\":isbetter[1], 'Train Close':isclose[0], 'Test Close':isclose[1]}\n",
    "    #     print('Close: ',np.count_nonzero(isclose))\n",
    "    #     print('Better: ',np.count_nonzero(isbetter))    \n",
    "    #     # check_lc[i]\n",
    "    # print()"
   ]
  },
  {
   "cell_type": "code",
   "execution_count": null,
   "id": "f7b717d9-7b44-4d93-86a6-1370ae64cc4a",
   "metadata": {},
   "outputs": [],
   "source": [
    "for k in check_lc.keys():\n",
    "    print(k)\n",
    "    print(pd.concat([pd.DataFrame(check_lc[0.1]).T.sum(),(~pd.DataFrame(check_lc[0.1]).T).sum()],axis=1).rename(columns={0:'True',1:'False'}))"
   ]
  }
 ],
 "metadata": {
  "kernelspec": {
   "display_name": "Python 3 (ipykernel)",
   "language": "python",
   "name": "python3"
  },
  "language_info": {
   "codemirror_mode": {
    "name": "ipython",
    "version": 3
   },
   "file_extension": ".py",
   "mimetype": "text/x-python",
   "name": "python",
   "nbconvert_exporter": "python",
   "pygments_lexer": "ipython3",
   "version": "3.12.2"
  }
 },
 "nbformat": 4,
 "nbformat_minor": 5
}
