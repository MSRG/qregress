{
 "cells": [
  {
   "cell_type": "code",
   "execution_count": 4,
   "id": "1c09b30d-8f59-47a7-9050-ced78a395eaa",
   "metadata": {},
   "outputs": [
    {
     "name": "stdout",
     "output_type": "stream",
     "text": [
      "Processing /home/grierjones/qregress\n",
      "  Installing build dependencies ... \u001b[?25done\n",
      "\u001b[?25h  Getting requirements to build wheel ... \u001b[?25ldone\n",
      "\u001b[?25h  Preparing metadata (pyproject.toml) ... \u001b[?25ldone\n",
      "\u001b[?25hRequirement already satisfied: PennyLane==0.40.0 in /home/grierjones/miniconda3/envs/qml_min/lib/python3.11/site-packages (from qregress==0.0.1) (0.40.0)\n",
      "Requirement already satisfied: PennyLane_qiskit==0.40.0 in /home/grierjones/miniconda3/envs/qml_min/lib/python3.11/site-packages (from qregress==0.0.1) (0.40.0)\n",
      "Requirement already satisfied: PennyLane_qulacs in /home/grierjones/miniconda3/envs/qml_min/lib/python3.11/site-packages (from qregress==0.0.1) (0.40.0)\n",
      "Requirement already satisfied: click==8.1.8 in /home/grierjones/miniconda3/envs/qml_min/lib/python3.11/site-packages (from qregress==0.0.1) (8.1.8)\n",
      "Requirement already satisfied: joblib==1.4.2 in /home/grierjones/miniconda3/envs/qml_min/lib/python3.11/site-packages (from qregress==0.0.1) (1.4.2)\n",
      "Requirement already satisfied: matplotlib in /home/grierjones/miniconda3/envs/qml_min/lib/python3.11/site-packages (from qregress==0.0.1) (3.10.0)\n",
      "Requirement already satisfied: pandas in /home/grierjones/miniconda3/envs/qml_min/lib/python3.11/site-packages (from qregress==0.0.1) (2.2.3)\n",
      "Requirement already satisfied: qiskit_aer==0.16.1 in /home/grierjones/miniconda3/envs/qml_min/lib/python3.11/site-packages (from qregress==0.0.1) (0.16.1)\n",
      "Requirement already satisfied: qiskit_ibm_provider==0.11.0 in /home/grierjones/miniconda3/envs/qml_min/lib/python3.11/site-packages (from qregress==0.0.1) (0.11.0)\n",
      "Requirement already satisfied: qiskit_ibm_runtime==0.29.0 in /home/grierjones/miniconda3/envs/qml_min/lib/python3.11/site-packages (from qregress==0.0.1) (0.29.0)\n",
      "Requirement already satisfied: qiskit_machine_learning==0.8.2 in /home/grierjones/miniconda3/envs/qml_min/lib/python3.11/site-packages (from qregress==0.0.1) (0.8.2)\n",
      "Requirement already satisfied: rdkit==2024.3.6 in /home/grierjones/miniconda3/envs/qml_min/lib/python3.11/site-packages (from qregress==0.0.1) (2024.3.6)\n",
      "Requirement already satisfied: ripser==0.6.10 in /home/grierjones/miniconda3/envs/qml_min/lib/python3.11/site-packages (from qregress==0.0.1) (0.6.10)\n",
      "Requirement already satisfied: scikit_learn==1.6.1 in /home/grierjones/miniconda3/envs/qml_min/lib/python3.11/site-packages (from qregress==0.0.1) (1.6.1)\n",
      "Requirement already satisfied: scipy==1.15.2 in /home/grierjones/miniconda3/envs/qml_min/lib/python3.11/site-packages (from qregress==0.0.1) (1.15.2)\n",
      "Requirement already satisfied: seaborn==0.13.2 in /home/grierjones/miniconda3/envs/qml_min/lib/python3.11/site-packages (from qregress==0.0.1) (0.13.2)\n",
      "Requirement already satisfied: shap==0.46.0 in /home/grierjones/miniconda3/envs/qml_min/lib/python3.11/site-packages (from qregress==0.0.1) (0.46.0)\n",
      "Requirement already satisfied: tqdm==4.67.1 in /home/grierjones/miniconda3/envs/qml_min/lib/python3.11/site-packages (from qregress==0.0.1) (4.67.1)\n",
      "Requirement already satisfied: umap==0.1.1 in /home/grierjones/miniconda3/envs/qml_min/lib/python3.11/site-packages (from qregress==0.0.1) (0.1.1)\n",
      "Requirement already satisfied: numpy<2.1 in /home/grierjones/miniconda3/envs/qml_min/lib/python3.11/site-packages (from PennyLane==0.40.0->qregress==0.0.1) (1.26.4)\n",
      "Requirement already satisfied: networkx in /home/grierjones/miniconda3/envs/qml_min/lib/python3.11/site-packages (from PennyLane==0.40.0->qregress==0.0.1) (3.4.2)\n",
      "Requirement already satisfied: rustworkx>=0.14.0 in /home/grierjones/miniconda3/envs/qml_min/lib/python3.11/site-packages (from PennyLane==0.40.0->qregress==0.0.1) (0.16.0)\n",
      "Requirement already satisfied: autograd in /home/grierjones/miniconda3/envs/qml_min/lib/python3.11/site-packages (from PennyLane==0.40.0->qregress==0.0.1) (1.7.0)\n",
      "Requirement already satisfied: tomlkit in /home/grierjones/miniconda3/envs/qml_min/lib/python3.11/site-packages (from PennyLane==0.40.0->qregress==0.0.1) (0.13.2)\n",
      "Requirement already satisfied: appdirs in /home/grierjones/miniconda3/envs/qml_min/lib/python3.11/site-packages (from PennyLane==0.40.0->qregress==0.0.1) (1.4.4)\n",
      "Requirement already satisfied: autoray>=0.6.11 in /home/grierjones/miniconda3/envs/qml_min/lib/python3.11/site-packages (from PennyLane==0.40.0->qregress==0.0.1) (0.7.0)\n",
      "Requirement already satisfied: cachetools in /home/grierjones/miniconda3/envs/qml_min/lib/python3.11/site-packages (from PennyLane==0.40.0->qregress==0.0.1) (5.5.1)\n",
      "Requirement already satisfied: pennylane-lightning>=0.40 in /home/grierjones/miniconda3/envs/qml_min/lib/python3.11/site-packages (from PennyLane==0.40.0->qregress==0.0.1) (0.40.0)\n",
      "Requirement already satisfied: requests in /home/grierjones/miniconda3/envs/qml_min/lib/python3.11/site-packages (from PennyLane==0.40.0->qregress==0.0.1) (2.32.3)\n",
      "Requirement already satisfied: typing-extensions in /home/grierjones/miniconda3/envs/qml_min/lib/python3.11/site-packages (from PennyLane==0.40.0->qregress==0.0.1) (4.12.2)\n",
      "Requirement already satisfied: packaging in /home/grierjones/miniconda3/envs/qml_min/lib/python3.11/site-packages (from PennyLane==0.40.0->qregress==0.0.1) (24.2)\n",
      "Requirement already satisfied: diastatic-malt in /home/grierjones/miniconda3/envs/qml_min/lib/python3.11/site-packages (from PennyLane==0.40.0->qregress==0.0.1) (2.15.2)\n",
      "Requirement already satisfied: qiskit<1.3,>=0.32 in /home/grierjones/miniconda3/envs/qml_min/lib/python3.11/site-packages (from PennyLane_qiskit==0.40.0->qregress==0.0.1) (1.2.4)\n",
      "Requirement already satisfied: sympy<1.13 in /home/grierjones/miniconda3/envs/qml_min/lib/python3.11/site-packages (from PennyLane_qiskit==0.40.0->qregress==0.0.1) (1.12.1)\n",
      "Requirement already satisfied: psutil>=5 in /home/grierjones/miniconda3/envs/qml_min/lib/python3.11/site-packages (from qiskit_aer==0.16.1->qregress==0.0.1) (5.9.8)\n",
      "Requirement already satisfied: requests-ntlm>=1.1.0 in /home/grierjones/miniconda3/envs/qml_min/lib/python3.11/site-packages (from qiskit_ibm_provider==0.11.0->qregress==0.0.1) (1.3.0)\n",
      "Requirement already satisfied: urllib3>=1.21.1 in /home/grierjones/miniconda3/envs/qml_min/lib/python3.11/site-packages (from qiskit_ibm_provider==0.11.0->qregress==0.0.1) (2.3.0)\n",
      "Requirement already satisfied: python-dateutil>=2.8.0 in /home/grierjones/miniconda3/envs/qml_min/lib/python3.11/site-packages (from qiskit_ibm_provider==0.11.0->qregress==0.0.1) (2.9.0.post0)\n",
      "Requirement already satisfied: websocket-client>=1.5.1 in /home/grierjones/miniconda3/envs/qml_min/lib/python3.11/site-packages (from qiskit_ibm_provider==0.11.0->qregress==0.0.1) (1.8.0)\n",
      "Requirement already satisfied: websockets>=10.0 in /home/grierjones/miniconda3/envs/qml_min/lib/python3.11/site-packages (from qiskit_ibm_provider==0.11.0->qregress==0.0.1) (15.0)\n",
      "Requirement already satisfied: ibm-platform-services>=0.22.6 in /home/grierjones/miniconda3/envs/qml_min/lib/python3.11/site-packages (from qiskit_ibm_runtime==0.29.0->qregress==0.0.1) (0.59.1)\n",
      "Requirement already satisfied: pydantic>=2.5.0 in /home/grierjones/miniconda3/envs/qml_min/lib/python3.11/site-packages (from qiskit_ibm_runtime==0.29.0->qregress==0.0.1) (2.10.6)\n",
      "Requirement already satisfied: setuptools>=40.1 in /home/grierjones/miniconda3/envs/qml_min/lib/python3.11/site-packages (from qiskit_machine_learning==0.8.2->qregress==0.0.1) (75.8.0)\n",
      "Requirement already satisfied: dill>=0.3.4 in /home/grierjones/miniconda3/envs/qml_min/lib/python3.11/site-packages (from qiskit_machine_learning==0.8.2->qregress==0.0.1) (0.3.9)\n",
      "Requirement already satisfied: Pillow in /home/grierjones/miniconda3/envs/qml_min/lib/python3.11/site-packages (from rdkit==2024.3.6->qregress==0.0.1) (11.1.0)\n",
      "Requirement already satisfied: Cython in /home/grierjones/miniconda3/envs/qml_min/lib/python3.11/site-packages (from ripser==0.6.10->qregress==0.0.1) (3.0.12)\n",
      "Requirement already satisfied: persim in /home/grierjones/miniconda3/envs/qml_min/lib/python3.11/site-packages (from ripser==0.6.10->qregress==0.0.1) (0.3.8)\n",
      "Requirement already satisfied: threadpoolctl>=3.1.0 in /home/grierjones/miniconda3/envs/qml_min/lib/python3.11/site-packages (from scikit_learn==1.6.1->qregress==0.0.1) (3.5.0)\n",
      "Requirement already satisfied: slicer==0.0.8 in /home/grierjones/miniconda3/envs/qml_min/lib/python3.11/site-packages (from shap==0.46.0->qregress==0.0.1) (0.0.8)\n",
      "Requirement already satisfied: numba in /home/grierjones/miniconda3/envs/qml_min/lib/python3.11/site-packages (from shap==0.46.0->qregress==0.0.1) (0.61.0)\n",
      "Requirement already satisfied: cloudpickle in /home/grierjones/miniconda3/envs/qml_min/lib/python3.11/site-packages (from shap==0.46.0->qregress==0.0.1) (3.1.1)\n",
      "Requirement already satisfied: contourpy>=1.0.1 in /home/grierjones/miniconda3/envs/qml_min/lib/python3.11/site-packages (from matplotlib->qregress==0.0.1) (1.3.1)\n",
      "Requirement already satisfied: cycler>=0.10 in /home/grierjones/miniconda3/envs/qml_min/lib/python3.11/site-packages (from matplotlib->qregress==0.0.1) (0.12.1)\n",
      "Requirement already satisfied: fonttools>=4.22.0 in /home/grierjones/miniconda3/envs/qml_min/lib/python3.11/site-packages (from matplotlib->qregress==0.0.1) (4.56.0)\n",
      "Requirement already satisfied: kiwisolver>=1.3.1 in /home/grierjones/miniconda3/envs/qml_min/lib/python3.11/site-packages (from matplotlib->qregress==0.0.1) (1.4.8)\n",
      "Requirement already satisfied: pyparsing>=2.3.1 in /home/grierjones/miniconda3/envs/qml_min/lib/python3.11/site-packages (from matplotlib->qregress==0.0.1) (3.2.1)\n",
      "Requirement already satisfied: pytz>=2020.1 in /home/grierjones/miniconda3/envs/qml_min/lib/python3.11/site-packages (from pandas->qregress==0.0.1) (2025.1)\n",
      "Requirement already satisfied: tzdata>=2022.7 in /home/grierjones/miniconda3/envs/qml_min/lib/python3.11/site-packages (from pandas->qregress==0.0.1) (2025.1)\n",
      "Requirement already satisfied: ibm_cloud_sdk_core<4.0.0,>=3.22.0 in /home/grierjones/miniconda3/envs/qml_min/lib/python3.11/site-packages (from ibm-platform-services>=0.22.6->qiskit_ibm_runtime==0.29.0->qregress==0.0.1) (3.22.1)\n",
      "Requirement already satisfied: scipy-openblas32>=0.3.26 in /home/grierjones/miniconda3/envs/qml_min/lib/python3.11/site-packages (from pennylane-lightning>=0.40->PennyLane==0.40.0->qregress==0.0.1) (0.3.29.0.0)\n",
      "Requirement already satisfied: annotated-types>=0.6.0 in /home/grierjones/miniconda3/envs/qml_min/lib/python3.11/site-packages (from pydantic>=2.5.0->qiskit_ibm_runtime==0.29.0->qregress==0.0.1) (0.7.0)\n",
      "Requirement already satisfied: pydantic-core==2.27.2 in /home/grierjones/miniconda3/envs/qml_min/lib/python3.11/site-packages (from pydantic>=2.5.0->qiskit_ibm_runtime==0.29.0->qregress==0.0.1) (2.27.2)\n",
      "Requirement already satisfied: six>=1.5 in /home/grierjones/miniconda3/envs/qml_min/lib/python3.11/site-packages (from python-dateutil>=2.8.0->qiskit_ibm_provider==0.11.0->qregress==0.0.1) (1.17.0)\n",
      "Requirement already satisfied: stevedore>=3.0.0 in /home/grierjones/miniconda3/envs/qml_min/lib/python3.11/site-packages (from qiskit<1.3,>=0.32->PennyLane_qiskit==0.40.0->qregress==0.0.1) (5.4.0)\n",
      "Requirement already satisfied: symengine<0.14,>=0.11 in /home/grierjones/miniconda3/envs/qml_min/lib/python3.11/site-packages (from qiskit<1.3,>=0.32->PennyLane_qiskit==0.40.0->qregress==0.0.1) (0.13.0)\n",
      "Requirement already satisfied: charset-normalizer<4,>=2 in /home/grierjones/miniconda3/envs/qml_min/lib/python3.11/site-packages (from requests->PennyLane==0.40.0->qregress==0.0.1) (3.4.1)\n",
      "Requirement already satisfied: idna<4,>=2.5 in /home/grierjones/miniconda3/envs/qml_min/lib/python3.11/site-packages (from requests->PennyLane==0.40.0->qregress==0.0.1) (3.10)\n",
      "Requirement already satisfied: certifi>=2017.4.17 in /home/grierjones/miniconda3/envs/qml_min/lib/python3.11/site-packages (from requests->PennyLane==0.40.0->qregress==0.0.1) (2025.1.31)\n",
      "Requirement already satisfied: cryptography>=1.3 in /home/grierjones/miniconda3/envs/qml_min/lib/python3.11/site-packages (from requests-ntlm>=1.1.0->qiskit_ibm_provider==0.11.0->qregress==0.0.1) (44.0.1)\n",
      "Requirement already satisfied: pyspnego>=0.4.0 in /home/grierjones/miniconda3/envs/qml_min/lib/python3.11/site-packages (from requests-ntlm>=1.1.0->qiskit_ibm_provider==0.11.0->qregress==0.0.1) (0.11.2)\n",
      "Requirement already satisfied: mpmath<1.4.0,>=1.1.0 in /home/grierjones/miniconda3/envs/qml_min/lib/python3.11/site-packages (from sympy<1.13->PennyLane_qiskit==0.40.0->qregress==0.0.1) (1.3.0)\n",
      "Requirement already satisfied: astunparse in /home/grierjones/miniconda3/envs/qml_min/lib/python3.11/site-packages (from diastatic-malt->PennyLane==0.40.0->qregress==0.0.1) (1.6.3)\n",
      "Requirement already satisfied: gast in /home/grierjones/miniconda3/envs/qml_min/lib/python3.11/site-packages (from diastatic-malt->PennyLane==0.40.0->qregress==0.0.1) (0.6.0)\n",
      "Requirement already satisfied: termcolor in /home/grierjones/miniconda3/envs/qml_min/lib/python3.11/site-packages (from diastatic-malt->PennyLane==0.40.0->qregress==0.0.1) (2.5.0)\n",
      "Requirement already satisfied: llvmlite<0.45,>=0.44.0dev0 in /home/grierjones/miniconda3/envs/qml_min/lib/python3.11/site-packages (from numba->shap==0.46.0->qregress==0.0.1) (0.44.0)\n",
      "Requirement already satisfied: deprecated in /home/grierjones/miniconda3/envs/qml_min/lib/python3.11/site-packages (from persim->ripser==0.6.10->qregress==0.0.1) (1.2.18)\n",
      "Requirement already satisfied: hopcroftkarp in /home/grierjones/miniconda3/envs/qml_min/lib/python3.11/site-packages (from persim->ripser==0.6.10->qregress==0.0.1) (1.2.5)\n",
      "Requirement already satisfied: cffi>=1.12 in /home/grierjones/miniconda3/envs/qml_min/lib/python3.11/site-packages (from cryptography>=1.3->requests-ntlm>=1.1.0->qiskit_ibm_provider==0.11.0->qregress==0.0.1) (1.17.1)\n",
      "Requirement already satisfied: PyJWT<3.0.0,>=2.8.0 in /home/grierjones/miniconda3/envs/qml_min/lib/python3.11/site-packages (from ibm_cloud_sdk_core<4.0.0,>=3.22.0->ibm-platform-services>=0.22.6->qiskit_ibm_runtime==0.29.0->qregress==0.0.1) (2.10.1)\n",
      "Requirement already satisfied: pbr>=2.0.0 in /home/grierjones/miniconda3/envs/qml_min/lib/python3.11/site-packages (from stevedore>=3.0.0->qiskit<1.3,>=0.32->PennyLane_qiskit==0.40.0->qregress==0.0.1) (6.1.1)\n",
      "Requirement already satisfied: wheel<1.0,>=0.23.0 in /home/grierjones/miniconda3/envs/qml_min/lib/python3.11/site-packages (from astunparse->diastatic-malt->PennyLane==0.40.0->qregress==0.0.1) (0.45.1)\n",
      "Requirement already satisfied: wrapt<2,>=1.10 in /home/grierjones/miniconda3/envs/qml_min/lib/python3.11/site-packages (from deprecated->persim->ripser==0.6.10->qregress==0.0.1) (1.17.2)\n",
      "Requirement already satisfied: pycparser in /home/grierjones/miniconda3/envs/qml_min/lib/python3.11/site-packages (from cffi>=1.12->cryptography>=1.3->requests-ntlm>=1.1.0->qiskit_ibm_provider==0.11.0->qregress==0.0.1) (2.22)\n",
      "Building wheels for collected packages: qregress\n",
      "  Building wheel for qregress (pyproject.toml) ... \u001b[?25ldone\n",
      "\u001b[?25h  Created wheel for qregress: filename=qregress-0.0.1-py3-none-any.whl size=63271 sha256=5dd1aae12216d05220f9401801c733c40718b8e249038c14a2a1640f1d11ec46\n",
      "  Stored in directory: /tmp/pip-ephem-wheel-cache-1fj3ziw0/wheels/9f/40/a8/69c15ee9f03cf0d720ae4cf8d5bc231d3869acd7995f13a0f5\n",
      "Successfully built qregress\n",
      "Installing collected packages: qregress\n",
      "  Attempting uninstall: qregress\n",
      "    Found existing installation: qregress 0.0.1\n",
      "    Uninstalling qregress-0.0.1:\n",
      "      Successfully uninstalled qregress-0.0.1\n",
      "Successfully installed qregress-0.0.1\n"
     ]
    }
   ],
   "source": [
    "!pip install ~/qregress\n",
    "# from qregress import *\n",
    "import json, joblib\n",
    "import os\n",
    "import qregress\n",
    "from qregress.settings import ANSATZ_LIST, ENCODER_LIST "
   ]
  },
  {
   "cell_type": "code",
   "execution_count": 5,
   "id": "af88c5dc-de9f-44f0-b1f2-79345764427e",
   "metadata": {},
   "outputs": [],
   "source": [
    "def parse_settings(settings_file):\n",
    "    with open(settings_file, 'r') as fp:\n",
    "        settings = json.load(fp)\n",
    "\n",
    "    global OPTIMIZER\n",
    "    OPTIMIZER = settings['OPTIMIZER']\n",
    "\n",
    "    global SHOTS\n",
    "    SHOTS = settings['SHOTS']\n",
    "                \n",
    "    global BACKEND\n",
    "    BACKEND = settings['BACKEND']\n",
    "\n",
    "    global DEVICE\n",
    "    DEVICE = settings['DEVICE']\n",
    "\n",
    "    global SCALE_FACTORS\n",
    "    SCALE_FACTORS = settings['SCALE_FACTORS']\n",
    "\n",
    "    global POSTPROCESS\n",
    "    POSTPROCESS = settings['POSTPROCESS']\n",
    "\n",
    "    global ERROR_MITIGATION\n",
    "    ERROR_MITIGATION = settings['ERROR_MITIGATION']\n",
    "\n",
    "    global LAYERS\n",
    "    LAYERS = settings['LAYERS']\n",
    "\n",
    "    global HYPERPARAMETERS\n",
    "    HYPERPARAMETERS = settings['HYPERPARAMETERS']\n",
    "    # f was removed from HYPERPARAMETERS, this ensures old settings files can still run.\n",
    "    if 'f' in HYPERPARAMETERS.keys():\n",
    "        _ = HYPERPARAMETERS.pop('f', None)\n",
    "\n",
    "    global RE_UPLOAD_DEPTH\n",
    "    RE_UPLOAD_DEPTH = settings['RE-UPLOAD_DEPTH']\n",
    "\n",
    "    global MAX_ITER\n",
    "    MAX_ITER = settings['MAX_ITER']\n",
    "\n",
    "    global TOLERANCE\n",
    "    try:\n",
    "        TOLERANCE = settings['TOLERANCE']\n",
    "    except KeyError:\n",
    "        TOLERANCE = None\n",
    "\n",
    "    global NUM_QUBITS\n",
    "    try:\n",
    "        NUM_QUBITS = settings['NUM_QUBITS']\n",
    "    except KeyError:\n",
    "        NUM_QUBITS = None\n",
    "\n",
    "    # classes aren't JSON serializable, so we store the key in the settings file and access it here.\n",
    "    global ANSATZ\n",
    "    ANSATZ = ANSATZ_LIST[settings['ANSATZ']]\n",
    "\n",
    "    global ENCODER\n",
    "    ENCODER = ENCODER_LIST[settings['ENCODER']]\n",
    "\n",
    "    global BATCH_SIZE\n",
    "    BATCH_SIZE = settings['BATCH_SIZE']\n",
    "    \n",
    "    global NUM_CORES\n",
    "    NUM_CORES = settings['NUM_CORES']"
   ]
  },
  {
   "cell_type": "code",
   "execution_count": 6,
   "id": "1c9f357c-e2b0-478c-873a-bcbce270b60d",
   "metadata": {},
   "outputs": [],
   "source": [
    "def save_token(instance, token):\n",
    "    global TOKEN\n",
    "    TOKEN = token\n",
    "    QiskitRuntimeService.save_account(channel='ibm_quantum', instance=instance, token=token, overwrite=True)"
   ]
  },
  {
   "cell_type": "code",
   "execution_count": 7,
   "id": "a729eb7b-7eae-464b-8cd1-f44aff79b5ad",
   "metadata": {},
   "outputs": [],
   "source": [
    "def create_kwargs():\n",
    "    #  First have to apply specific ansatz settings: setting number of layers and the number of wires based on features\n",
    "    ANSATZ.layers = LAYERS\n",
    "    ANSATZ.set_wires(range(X_DIM))\n",
    "\n",
    "    kwargs = {\n",
    "        'encoder': ENCODER,\n",
    "        'variational': ANSATZ,\n",
    "        'num_qubits': X_DIM,\n",
    "        'optimizer': OPTIMIZER,\n",
    "        # 'optimizer': \"BFGS\",\n",
    "        'max_iterations': MAX_ITER,\n",
    "        'tol': TOLERANCE,\n",
    "        'device': DEVICE,\n",
    "        'shots': SHOTS,\n",
    "        'backend': BACKEND,\n",
    "        'postprocess': POSTPROCESS,\n",
    "        'error_mitigation': ERROR_MITIGATION,\n",
    "        'token': TOKEN,\n",
    "        're_upload_depth': RE_UPLOAD_DEPTH,\n",
    "        'batch_size': BATCH_SIZE,\n",
    "        'njobs':NUM_CORES\n",
    "    }\n",
    "    return kwargs"
   ]
  },
  {
   "cell_type": "code",
   "execution_count": 8,
   "id": "5df59ea0-5369-4611-905a-237d04ca74d9",
   "metadata": {},
   "outputs": [],
   "source": [
    "def load_dataset(file):\n",
    "    print(f'Loading dataset from {file}... ')\n",
    "    data = joblib.load(file)\n",
    "    X = data['X']\n",
    "    y = data['y']\n",
    "\n",
    "    global X_DIM\n",
    "    _, X_DIM = X.shape\n",
    "    print(f'Successfully loaded {file} into X and y data. ')\n",
    "    return X, y\n",
    "\n",
    "def save_token(instance, token):\n",
    "    global TOKEN\n",
    "    TOKEN = token\n",
    "    QiskitRuntimeService.save_account(channel='ibm_quantum', instance=instance, token=token, overwrite=True)\n",
    "    "
   ]
  },
  {
   "cell_type": "code",
   "execution_count": 9,
   "id": "8a5931e2-1353-4842-a0c9-96c612695461",
   "metadata": {},
   "outputs": [],
   "source": [
    "parse_settings(\"A2_HWE-CNOT/A2_HWE-CNOT.json\")\n",
    "\n",
    "if DEVICE == 'qiskit.ibmq':\n",
    "    save_token(instance, token)\n",
    "else:\n",
    "    TOKEN = None\n",
    "global NUM_QUBITS\n",
    "global X_DIM\n",
    "\n",
    "if NUM_QUBITS is not None:\n",
    "    X_DIM = NUM_QUBITS\n",
    "elif X_DIM == 1:  # if X_DIM is None and num_qubits wasn't specified anywhere use a default value of 2.\n",
    "    NUM_QUBITS = 2\n",
    "    X_DIM = NUM_QUBITS\n",
    "\n",
    "kwargs = create_kwargs()"
   ]
  },
  {
   "cell_type": "code",
   "execution_count": 10,
   "id": "7fbe592f-e29f-4ffc-a462-458e5911ad39",
   "metadata": {},
   "outputs": [
    {
     "name": "stdout",
     "output_type": "stream",
     "text": [
      "Loading dataset from 0.1_5_DDCC_train.bin... \n",
      "Successfully loaded 0.1_5_DDCC_train.bin into X and y data. \n"
     ]
    }
   ],
   "source": [
    "X_train, y_train = load_dataset(\"0.1_5_DDCC_train.bin\")"
   ]
  },
  {
   "cell_type": "code",
   "execution_count": 13,
   "id": "154e78c6-8d6e-4dde-a18f-2ebd2c252fe2",
   "metadata": {},
   "outputs": [
    {
     "name": "stdout",
     "output_type": "stream",
     "text": [
      "12\n",
      "12\n"
     ]
    }
   ],
   "source": [
    "model = qregress.quantum.QuantumRegressor(**kwargs)"
   ]
  },
  {
   "cell_type": "code",
   "execution_count": 14,
   "id": "9aa8ea6a-2a50-4a93-aafb-9d958ad8cc25",
   "metadata": {},
   "outputs": [
    {
     "name": "stderr",
     "output_type": "stream",
     "text": [
      "Cost (Batches 38 of size 32): 100%|████████████████████████████| 38/38 [00:03<00:00,  9.99it/s]"
     ]
    },
    {
     "name": "stdout",
     "output_type": "stream",
     "text": [
      "[Mon Apr  7 20:41:03 2025]  Iteration number: 0 with current cost as 0.09442098773526543 and parameters \n",
      "[-2.90318345  2.23743464 -2.12427964 -0.11653103  0.55388708 -2.77010897\n",
      "  3.06858498  2.18960145  1.18551998 -1.06648308  0.6027151   1.14432445\n",
      "  1.31029899 -1.8735468   0.7296508   2.88578419 -0.54534335 -0.47522485\n",
      " -2.0265424   0.7289737   1.60512664  2.83077107 -1.2645671  -0.25136105\n",
      " -2.39279218 -2.27309774  3.13337155  2.54856958 -0.67550787 -2.69002202\n",
      "  1.51701623 -0.04647228 -2.3427137   2.04043214  1.15216312 -0.65055499\n",
      "  1.04465369 -1.92056016 -0.32067988  2.32226033 -0.20585092  0.56637433\n",
      "  2.68983131  1.07273362  2.58102867  2.94254032  2.7651459  -2.94578571\n",
      "  0.36684059 -0.65725907  1.65159086  2.68042142 -0.25194954 -2.45807906\n",
      "  2.63570525 -3.07930429  0.79129724 -0.75901771 -1.81776562  2.9986886\n",
      " -1.85887169 -1.63734088 -2.55370824  2.30926632 -2.25921323  1.98533552\n",
      "  1.90881014  1.42517315  2.59930885  2.87147469  1.84732041  1.52137428\n",
      " -1.69866533 -2.34431217  1.23292411]. \n",
      "[Mon Apr  7 20:41:03 2025]  Iteration number: 1 with current cost as 0.09442098773526543 and parameters \n",
      "[-2.90318345  2.23743464 -2.12427964 -0.11653103  0.55388708 -2.77010897\n",
      "  3.06858498  2.18960145  1.18551998 -1.06648308  0.6027151   1.14432445\n",
      "  1.31029899 -1.8735468   0.7296508   2.88578419 -0.54534335 -0.47522485\n",
      " -2.0265424   0.7289737   1.60512664  2.83077107 -1.2645671  -0.25136105\n",
      " -2.39279218 -2.27309774  3.13337155  2.54856958 -0.67550787 -2.69002202\n",
      "  1.51701623 -0.04647228 -2.3427137   2.04043214  1.15216312 -0.65055499\n",
      "  1.04465369 -1.92056016 -0.32067988  2.32226033 -0.20585092  0.56637433\n",
      "  2.68983131  1.07273362  2.58102867  2.94254032  2.7651459  -2.94578571\n",
      "  0.36684059 -0.65725907  1.65159086  2.68042142 -0.25194954 -2.45807906\n",
      "  2.63570525 -3.07930429  0.79129724 -0.75901771 -1.81776562  2.9986886\n",
      " -1.85887169 -1.63734088 -2.55370824  2.30926632 -2.25921323  1.98533552\n",
      "  1.90881014  1.42517315  2.59930885  2.87147469  1.84732041  1.52137428\n",
      " -1.69866533 -2.34431217  1.23292411]. \n",
      "Early stopping!\n"
     ]
    },
    {
     "name": "stderr",
     "output_type": "stream",
     "text": [
      "\n"
     ]
    },
    {
     "data": {
      "text/plain": [
       "array([-2.90318345,  2.23743464, -2.12427964, -0.11653103,  0.55388708,\n",
       "       -2.77010897,  3.06858498,  2.18960145,  1.18551998, -1.06648308,\n",
       "        0.6027151 ,  1.14432445,  1.31029899, -1.8735468 ,  0.7296508 ,\n",
       "        2.88578419, -0.54534335, -0.47522485, -2.0265424 ,  0.7289737 ,\n",
       "        1.60512664,  2.83077107, -1.2645671 , -0.25136105, -2.39279218,\n",
       "       -2.27309774,  3.13337155,  2.54856958, -0.67550787, -2.69002202,\n",
       "        1.51701623, -0.04647228, -2.3427137 ,  2.04043214,  1.15216312,\n",
       "       -0.65055499,  1.04465369, -1.92056016, -0.32067988,  2.32226033,\n",
       "       -0.20585092,  0.56637433,  2.68983131,  1.07273362,  2.58102867,\n",
       "        2.94254032,  2.7651459 , -2.94578571,  0.36684059, -0.65725907,\n",
       "        1.65159086,  2.68042142, -0.25194954, -2.45807906,  2.63570525,\n",
       "       -3.07930429,  0.79129724, -0.75901771, -1.81776562,  2.9986886 ,\n",
       "       -1.85887169, -1.63734088, -2.55370824,  2.30926632, -2.25921323,\n",
       "        1.98533552,  1.90881014,  1.42517315,  2.59930885,  2.87147469,\n",
       "        1.84732041,  1.52137428, -1.69866533, -2.34431217,  1.23292411])"
      ]
     },
     "execution_count": 14,
     "metadata": {},
     "output_type": "execute_result"
    }
   ],
   "source": [
    "model.fit(X_train, y_train)"
   ]
  },
  {
   "cell_type": "code",
   "execution_count": null,
   "id": "5f612501-77a0-4f0c-8beb-cc386475c59a",
   "metadata": {},
   "outputs": [],
   "source": []
  }
 ],
 "metadata": {
  "kernelspec": {
   "display_name": "Python 3 (ipykernel)",
   "language": "python",
   "name": "python3"
  },
  "language_info": {
   "codemirror_mode": {
    "name": "ipython",
    "version": 3
   },
   "file_extension": ".py",
   "mimetype": "text/x-python",
   "name": "python",
   "nbconvert_exporter": "python",
   "pygments_lexer": "ipython3",
   "version": "3.11.11"
  }
 },
 "nbformat": 4,
 "nbformat_minor": 5
}
