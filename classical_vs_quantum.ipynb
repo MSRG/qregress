{
 "cells": [
  {
   "cell_type": "code",
   "execution_count": null,
   "id": "84153609-4d35-457b-b2d3-8363beedc5ed",
   "metadata": {},
   "outputs": [],
   "source": [
    "# Import required packages\n",
    "import sys\n",
    "# !{sys.executable} -m pip install seaborn\n",
    "from glob import glob\n",
    "import os\n",
    "import json\n",
    "import matplotlib.pyplot as plt\n",
    "import seaborn as sns\n",
    "import pandas as pd\n",
    "import numpy as np\n",
    "from shutil import copy,move\n",
    "from distutils.dir_util import copy_tree\n"
   ]
  },
  {
   "cell_type": "code",
   "execution_count": null,
   "id": "dd710540-881f-42d5-a600-da3321009d8b",
   "metadata": {},
   "outputs": [],
   "source": [
    "quantum_linear=pd.read_csv('function-calc-test/best_learning_curves/linear/results.csv').rename(columns={'R2_train':\"Train (quantum)\",'R2_test':\"Test (quantum)\"}).melt(id_vars=['ratio'])\n",
    "quantum_quadratic=pd.read_csv('function-calc-test/best_learning_curves/quadratic/results.csv').rename(columns={'R2_train':\"Train (quantum)\",'R2_test':\"Test (quantum)\"}).melt(id_vars=['ratio'])\n",
    "quantum_sine=pd.read_csv('function-calc-test/best_learning_curves/sine/results.csv').rename(columns={'R2_train':\"Train (quantum)\",'R2_test':\"Test (quantum)\"}).melt(id_vars=['ratio'])"
   ]
  },
  {
   "cell_type": "code",
   "execution_count": null,
   "id": "287a33e2-63fa-47f4-890b-793c1f815ac3",
   "metadata": {},
   "outputs": [],
   "source": []
  },
  {
   "cell_type": "code",
   "execution_count": null,
   "id": "73e82be3-a53d-4453-8364-91576bdf320e",
   "metadata": {},
   "outputs": [],
   "source": [
    "function=['linear','quadratic','sine']\n",
    "trainsize=[ 0.1,0.3, 0.5, 0.7,0.8]\n",
    "classical_models=['ridge', 'lasso', 'elastic', 'knn', 'rfr', 'grad', 'svr', 'krr', 'gpr'\n",
    "]"
   ]
  },
  {
   "cell_type": "code",
   "execution_count": null,
   "id": "e33623cc-ae5b-4b81-a52c-a369c10122a6",
   "metadata": {},
   "outputs": [],
   "source": [
    "classical_results={}\n",
    "for fn in function:\n",
    "    classical_results[fn]={}\n",
    "    for models in classical_models:\n",
    "        classical_results[fn][models]={}\n",
    "        for ts in trainsize:\n",
    "            with open(f\"classical_testing/{fn}/{ts}_{models}_scores.json\",'r') as f:\n",
    "                classical_results[fn][models][ts]=json.load(f)\n",
    "            "
   ]
  },
  {
   "cell_type": "code",
   "execution_count": null,
   "id": "a3b8074d-df39-47d0-9bd9-558ed461a122",
   "metadata": {},
   "outputs": [],
   "source": [
    "avgs=pd.DataFrame.from_dict({k:{k1:pd.DataFrame.from_dict(v1).loc[['R2_train','R2_test']].mean().mean() for k1,v1 in v.items()} for k,v in classical_results.items()    })"
   ]
  },
  {
   "cell_type": "code",
   "execution_count": null,
   "id": "905b9a1f-37db-4783-95d3-c9f87e0ca99a",
   "metadata": {},
   "outputs": [],
   "source": [
    "avgs.T.mean().sort_values()"
   ]
  },
  {
   "cell_type": "code",
   "execution_count": null,
   "id": "78fc930c-8ffa-40e9-9a0e-293f0764bc7f",
   "metadata": {},
   "outputs": [],
   "source": [
    "palette=sns.color_palette('Paired',4)"
   ]
  },
  {
   "cell_type": "code",
   "execution_count": null,
   "id": "0d8be46f-c688-4d30-8dd3-94ae41b217c3",
   "metadata": {},
   "outputs": [],
   "source": []
  },
  {
   "cell_type": "code",
   "execution_count": null,
   "id": "09cec548-a355-4c71-8afe-30d45ad5470e",
   "metadata": {},
   "outputs": [],
   "source": [
    "classical_linear=pd.DataFrame.from_dict(classical_results['linear']['svr']).loc[['R2_train','R2_test']].T.rename(columns={'R2_train':\"Train (classical)\",'R2_test':\"Test (classical)\"}).reset_index().rename(columns={'index':'ratio'}).melt(id_vars=['ratio'])\n",
    "classical_quadratic=pd.DataFrame.from_dict(classical_results['quadratic']['svr']).loc[['R2_train','R2_test']].T.rename(columns={'R2_train':\"Train (classical)\",'R2_test':\"Test (classical)\"}).reset_index().rename(columns={'index':'ratio'}).melt(id_vars=['ratio'])\n",
    "classical_sine=pd.DataFrame.from_dict(classical_results['sine']['svr']).loc[['R2_train','R2_test']].T.rename(columns={'R2_train':\"Train (classical)\",'R2_test':\"Test (classical)\"}).reset_index().rename(columns={'index':'ratio'}).melt(id_vars=['ratio'])"
   ]
  },
  {
   "cell_type": "code",
   "execution_count": null,
   "id": "18eca8f2-0ae1-41dc-b491-bca6393d56cf",
   "metadata": {},
   "outputs": [],
   "source": [
    "SMALL_SIZE = 8\n",
    "MEDIUM_SIZE = 14\n",
    "BIGGER_SIZE = 12\n",
    "\n",
    "plt.rc('font', size=MEDIUM_SIZE)          # controls default text sizes\n",
    "plt.rc('axes', titlesize=MEDIUM_SIZE)     # fontsize of the axes title\n",
    "plt.rc('axes', labelsize=MEDIUM_SIZE)    # fontsize of the x and y labels\n",
    "plt.rc('xtick', labelsize=MEDIUM_SIZE)    # fontsize of the tick labels\n",
    "plt.rc('ytick', labelsize=MEDIUM_SIZE)    # fontsize of the tick labels\n",
    "plt.rc('legend', fontsize=MEDIUM_SIZE)    # legend fontsize\n",
    "plt.rc('figure', titlesize=MEDIUM_SIZE)  # fontsize of the figure title\n",
    "\n",
    "sns.lineplot(data=quantum_linear,x='ratio',y='value',hue='variable',palette=palette[0:2])\n",
    "sns.lineplot(data=classical_linear,x='ratio',y='value',hue='variable',palette=palette[2:])\n",
    "\n",
    "\n",
    "plt.ylabel(\"R$^{2}$\")\n",
    "plt.xlabel('Percentage of Training Set')\n",
    "plt.xticks(plt.xticks()[0], ['{:,.0%}'.format(x) for x in plt.xticks()[0]])\n",
    "plt.title(\"Linear\")\n",
    "plt.xlim(0,0.71)\n",
    "plt.ylim(0,1.1)\n",
    "plt.show()"
   ]
  },
  {
   "cell_type": "code",
   "execution_count": null,
   "id": "e631a055-6cec-47e0-aebf-c0c42911706a",
   "metadata": {},
   "outputs": [],
   "source": [
    "SMALL_SIZE = 8\n",
    "MEDIUM_SIZE = 14\n",
    "BIGGER_SIZE = 12\n",
    "\n",
    "plt.rc('font', size=MEDIUM_SIZE)          # controls default text sizes\n",
    "plt.rc('axes', titlesize=MEDIUM_SIZE)     # fontsize of the axes title\n",
    "plt.rc('axes', labelsize=MEDIUM_SIZE)    # fontsize of the x and y labels\n",
    "plt.rc('xtick', labelsize=MEDIUM_SIZE)    # fontsize of the tick labels\n",
    "plt.rc('ytick', labelsize=MEDIUM_SIZE)    # fontsize of the tick labels\n",
    "plt.rc('legend', fontsize=MEDIUM_SIZE)    # legend fontsize\n",
    "plt.rc('figure', titlesize=MEDIUM_SIZE)  # fontsize of the figure title\n",
    "sns.lineplot(data=quantum_quadratic,x='ratio',y='value',hue='variable',palette=palette[0:2])\n",
    "sns.lineplot(data=classical_quadratic,x='ratio',y='value',hue='variable',palette=palette[2:])\n",
    "plt.ylabel(\"R$^{2}$\")\n",
    "plt.xlabel('Percentage of Training Set')\n",
    "plt.xticks(plt.xticks()[0], ['{:,.0%}'.format(x) for x in plt.xticks()[0]])\n",
    "plt.title(\"Quadratic\")\n",
    "plt.xlim(0,0.71)\n",
    "plt.ylim(0,1.1)\n",
    "plt.show()"
   ]
  },
  {
   "cell_type": "code",
   "execution_count": null,
   "id": "5b11f35e-d975-4fc5-897d-15941d812f7c",
   "metadata": {},
   "outputs": [],
   "source": [
    "SMALL_SIZE = 8\n",
    "MEDIUM_SIZE = 14\n",
    "BIGGER_SIZE = 12\n",
    "\n",
    "plt.rc('font', size=MEDIUM_SIZE)          # controls default text sizes\n",
    "plt.rc('axes', titlesize=MEDIUM_SIZE)     # fontsize of the axes title\n",
    "plt.rc('axes', labelsize=MEDIUM_SIZE)    # fontsize of the x and y labels\n",
    "plt.rc('xtick', labelsize=MEDIUM_SIZE)    # fontsize of the tick labels\n",
    "plt.rc('ytick', labelsize=MEDIUM_SIZE)    # fontsize of the tick labels\n",
    "plt.rc('legend', fontsize=MEDIUM_SIZE)    # legend fontsize\n",
    "plt.rc('figure', titlesize=MEDIUM_SIZE)  # fontsize of the figure title\n",
    "sns.lineplot(data=quantum_sine,x='ratio',y='value',hue='variable',palette=palette[0:2])\n",
    "sns.lineplot(data=classical_sine,x='ratio',y='value',hue='variable',palette=palette[2:])\n",
    "plt.ylabel(\"R$^{2}$\")\n",
    "plt.xlabel('Percentage of Training Set')\n",
    "plt.xticks(plt.xticks()[0], ['{:,.0%}'.format(x) for x in plt.xticks()[0]])\n",
    "plt.title(\"Sine\")\n",
    "plt.xlim(0,0.71)\n",
    "plt.ylim(0,1.1)\n",
    "plt.show()"
   ]
  },
  {
   "cell_type": "code",
   "execution_count": null,
   "id": "9b8a9c90-b2bd-475b-a88e-ec99d49ec960",
   "metadata": {},
   "outputs": [],
   "source": []
  },
  {
   "cell_type": "code",
   "execution_count": null,
   "id": "195fd00c-6c2f-41b7-b1e5-f063c7c4e0d0",
   "metadata": {},
   "outputs": [],
   "source": []
  }
 ],
 "metadata": {
  "kernelspec": {
   "display_name": "Python 3 (ipykernel)",
   "language": "python",
   "name": "python3"
  },
  "language_info": {
   "codemirror_mode": {
    "name": "ipython",
    "version": 3
   },
   "file_extension": ".py",
   "mimetype": "text/x-python",
   "name": "python",
   "nbconvert_exporter": "python",
   "pygments_lexer": "ipython3",
   "version": "3.12.2"
  }
 },
 "nbformat": 4,
 "nbformat_minor": 5
}
