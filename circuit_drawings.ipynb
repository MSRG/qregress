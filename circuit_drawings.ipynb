{
 "cells": [
  {
   "cell_type": "code",
   "execution_count": null,
   "id": "9878f56d",
   "metadata": {},
   "outputs": [],
   "source": [
    "import sys\n",
    "# !{sys.executable} setup.py install\n",
    "import pennylane as qml\n",
    "import numpy as np\n",
    "from quantum.circuits.Ansatz import rotation_layer\n",
    "from quantum.circuits.Old_Ansatz import efficient_su2, two_local, modified_pauli_two, hadamard_ansatz, excitation_preserving"
   ]
  },
  {
   "cell_type": "code",
   "execution_count": null,
   "id": "1a8dcab9",
   "metadata": {},
   "outputs": [],
   "source": [
    "wires = [0,1,2,3]\n",
    "dev = qml.device('default.qubit', wires=wires)"
   ]
  },
  {
   "cell_type": "code",
   "execution_count": null,
   "id": "ae70f23c",
   "metadata": {},
   "outputs": [],
   "source": [
    "@qml.qnode(dev)\n",
    "def circuit(params):\n",
    "    rotation_layer(params, wires, False)\n",
    "    return qml.expval(qml.PauliZ(0))\n",
    "draw = qml.draw_mpl(circuit)\n",
    "draw(np.random.rand(8).tolist())"
   ]
  },
  {
   "cell_type": "code",
   "execution_count": null,
   "id": "b6939aa4",
   "metadata": {},
   "outputs": [],
   "source": [
    "@qml.qnode(dev)\n",
    "def circuit(params):\n",
    "    efficient_su2(params, wires, skip_final_rot=True)\n",
    "    return qml.expval(qml.PauliZ(0))\n",
    "draw = qml.draw_mpl(circuit)\n",
    "draw(np.random.rand(8).tolist())"
   ]
  },
  {
   "cell_type": "code",
   "execution_count": null,
   "id": "a29686a2",
   "metadata": {},
   "outputs": [],
   "source": [
    "@qml.qnode(dev)\n",
    "def circuit(params):\n",
    "    two_local(params, wires, rot_gates=['rx', 'rz'], entangle_gates='crz', skip_final_rot=True)\n",
    "    return qml.expval(qml.PauliZ(0))\n",
    "draw = qml.draw_mpl(circuit)\n",
    "draw(np.random.rand(11).tolist())"
   ]
  },
  {
   "cell_type": "code",
   "execution_count": null,
   "id": "147d4d8f",
   "metadata": {},
   "outputs": [],
   "source": [
    "entanglement= [(0,1), (0,2), (0,3), (1,0), (1,2), (1,3), (2,0), (2,1), (2,3), (3,0), (3,1), (3,2)]\n",
    "@qml.qnode(dev)\n",
    "def circuit(params):\n",
    "    two_local(params, wires, rot_gates=['rx', 'rz'], entangle_gates='crz', entanglement=entanglement, skip_final_rot=False)\n",
    "    return qml.expval(qml.PauliZ(0))\n",
    "draw = qml.draw_mpl(circuit)\n",
    "draw(np.random.rand(28))"
   ]
  },
  {
   "cell_type": "code",
   "execution_count": null,
   "id": "068c5cb3",
   "metadata": {},
   "outputs": [],
   "source": [
    "@qml.qnode(dev)\n",
    "def circuit(params):\n",
    "    modified_pauli_two(params, wires, rotation_block=['rx', 'rz'])\n",
    "    return qml.expval(qml.PauliZ(0))\n",
    "draw = qml.draw_mpl(circuit)\n",
    "draw(np.random.rand(19))"
   ]
  },
  {
   "cell_type": "code",
   "execution_count": null,
   "id": "fe10a91b",
   "metadata": {},
   "outputs": [],
   "source": [
    "@qml.qnode(dev)\n",
    "def circuit(params):\n",
    "    modified_pauli_two(params, wires, entanglement='cnot', full_rotation=False)\n",
    "    return qml.expval(qml.PauliZ(0))\n",
    "draw = qml.draw_mpl(circuit)\n",
    "draw(np.random.rand(12))"
   ]
  },
  {
   "cell_type": "code",
   "execution_count": null,
   "id": "fcfb6d40",
   "metadata": {},
   "outputs": [],
   "source": [
    "@qml.qnode(dev)\n",
    "def circuit(params):\n",
    "    hadamard_ansatz(params, wires)\n",
    "    return qml.expval(qml.PauliZ(0))\n",
    "draw = qml.draw_mpl(circuit)\n",
    "draw(np.random.rand(4))"
   ]
  },
  {
   "cell_type": "code",
   "execution_count": null,
   "id": "4a8700f7",
   "metadata": {},
   "outputs": [],
   "source": [
    "@qml.qnode(dev)\n",
    "def circuit(params):\n",
    "    excitation_preserving(params, wires)\n",
    "    return qml.expval(qml.PauliZ(0))\n",
    "draw = qml.draw_mpl(circuit)\n",
    "draw(np.random.rand(11))"
   ]
  },
  {
   "cell_type": "code",
   "execution_count": null,
   "id": "26090451",
   "metadata": {},
   "outputs": [],
   "source": []
  }
 ],
 "metadata": {
  "kernelspec": {
   "display_name": "qchem",
   "language": "python",
   "name": "qchem"
  },
  "language_info": {
   "codemirror_mode": {
    "name": "ipython",
    "version": 3
   },
   "file_extension": ".py",
   "mimetype": "text/x-python",
   "name": "python",
   "nbconvert_exporter": "python",
   "pygments_lexer": "ipython3",
   "version": "3.11.5"
  }
 },
 "nbformat": 4,
 "nbformat_minor": 5
}
