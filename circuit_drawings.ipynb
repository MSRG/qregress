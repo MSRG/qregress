{
 "cells": [
  {
   "cell_type": "code",
   "execution_count": 6,
   "id": "805e4a25-d6eb-48fb-a736-aa87c9670179",
   "metadata": {},
   "outputs": [
    {
     "ename": "ImportError",
     "evalue": "cannot import name 'n_local' from 'qiskit.circuit.library' (unknown location)",
     "output_type": "error",
     "traceback": [
      "\u001b[0;31m---------------------------------------------------------------------------\u001b[0m",
      "\u001b[0;31mImportError\u001b[0m                               Traceback (most recent call last)",
      "Cell \u001b[0;32mIn[6], line 4\u001b[0m\n\u001b[1;32m      2\u001b[0m \u001b[38;5;28;01mimport\u001b[39;00m \u001b[38;5;21;01mpennylane\u001b[39;00m \u001b[38;5;28;01mas\u001b[39;00m \u001b[38;5;21;01mqml\u001b[39;00m\n\u001b[1;32m      3\u001b[0m \u001b[38;5;28;01mimport\u001b[39;00m \u001b[38;5;21;01mnumpy\u001b[39;00m \u001b[38;5;28;01mas\u001b[39;00m \u001b[38;5;21;01mnp\u001b[39;00m\n\u001b[0;32m----> 4\u001b[0m \u001b[38;5;28;01mfrom\u001b[39;00m \u001b[38;5;21;01mquantum\u001b[39;00m\u001b[38;5;21;01m.\u001b[39;00m\u001b[38;5;21;01mcircuits\u001b[39;00m\u001b[38;5;21;01m.\u001b[39;00m\u001b[38;5;21;01mAnsatz\u001b[39;00m \u001b[38;5;28;01mimport\u001b[39;00m rotation_layer\n\u001b[1;32m      5\u001b[0m \u001b[38;5;28;01mfrom\u001b[39;00m \u001b[38;5;21;01mquantum\u001b[39;00m\u001b[38;5;21;01m.\u001b[39;00m\u001b[38;5;21;01mcircuits\u001b[39;00m\u001b[38;5;21;01m.\u001b[39;00m\u001b[38;5;21;01mOld_Ansatz\u001b[39;00m \u001b[38;5;28;01mimport\u001b[39;00m efficient_su2, two_local, modified_pauli_two, hadamard_ansatz, excitation_preserving\n",
      "File \u001b[0;32m~/qregress/quantum/circuits/Ansatz.py:3\u001b[0m\n\u001b[1;32m      1\u001b[0m \u001b[38;5;28;01mimport\u001b[39;00m \u001b[38;5;21;01mpennylane\u001b[39;00m \u001b[38;5;28;01mas\u001b[39;00m \u001b[38;5;21;01mqml\u001b[39;00m\n\u001b[1;32m      2\u001b[0m \u001b[38;5;28;01mfrom\u001b[39;00m \u001b[38;5;21;01m.\u001b[39;00m\u001b[38;5;21;01mEncoders\u001b[39;00m \u001b[38;5;28;01mimport\u001b[39;00m entangle_cnot, entangle_cz\n\u001b[0;32m----> 3\u001b[0m \u001b[38;5;28;01mfrom\u001b[39;00m \u001b[38;5;21;01mqiskit\u001b[39;00m\u001b[38;5;21;01m.\u001b[39;00m\u001b[38;5;21;01mcircuit\u001b[39;00m\u001b[38;5;21;01m.\u001b[39;00m\u001b[38;5;21;01mlibrary\u001b[39;00m \u001b[38;5;28;01mimport\u001b[39;00m n_local\n\u001b[1;32m      6\u001b[0m \u001b[38;5;28;01mdef\u001b[39;00m \u001b[38;5;21mrotation_layer\u001b[39m(parameters, wires, three_rotations\u001b[38;5;241m=\u001b[39m\u001b[38;5;28;01mTrue\u001b[39;00m):\n\u001b[1;32m      7\u001b[0m     \u001b[38;5;28;01mif\u001b[39;00m \u001b[38;5;129;01mnot\u001b[39;00m three_rotations:\n",
      "\u001b[0;31mImportError\u001b[0m: cannot import name 'n_local' from 'qiskit.circuit.library' (unknown location)"
     ]
    }
   ],
   "source": [
    "import sys\n",
    "import pennylane as qml\n",
    "import numpy as np\n",
    "from quantum.circuits.Ansatz import rotation_layer\n",
    "from quantum.circuits.Old_Ansatz import efficient_su2, two_local, modified_pauli_two, hadamard_ansatz, excitation_preserving"
   ]
  },
  {
   "cell_type": "code",
   "execution_count": 9,
   "id": "7ded09b3-a3f6-44f6-b598-bbf0c482822a",
   "metadata": {},
   "outputs": [],
   "source": [
    "from qiskit.circuit import library"
   ]
  },
  {
   "cell_type": "code",
   "execution_count": 11,
   "id": "b954ed4b-835b-4bd7-932b-0e712baec2af",
   "metadata": {},
   "outputs": [
    {
     "name": "stdout",
     "output_type": "stream",
     "text": [
      "Help on package qiskit.circuit.library in qiskit.circuit:\n",
      "\n",
      "NAME\n",
      "    qiskit.circuit.library\n",
      "\n",
      "PACKAGE CONTENTS\n",
      "    evolved_operator_ansatz\n",
      "\n",
      "FILE\n",
      "    (built-in)\n",
      "\n",
      "\n"
     ]
    }
   ],
   "source": [
    "\n",
    "help(library)"
   ]
  },
  {
   "cell_type": "code",
   "execution_count": null,
   "id": "1a8dcab9",
   "metadata": {},
   "outputs": [],
   "source": [
    "wires = [0,1,2,3]\n",
    "dev = qml.device('default.qubit', wires=wires)"
   ]
  },
  {
   "cell_type": "code",
   "execution_count": null,
   "id": "ae70f23c",
   "metadata": {},
   "outputs": [],
   "source": [
    "@qml.qnode(dev)\n",
    "def circuit(params):\n",
    "    rotation_layer(params, wires, False)\n",
    "    return qml.expval(qml.PauliZ(0))\n",
    "draw = qml.draw_mpl(circuit)\n",
    "draw(np.random.rand(8).tolist())"
   ]
  },
  {
   "cell_type": "code",
   "execution_count": null,
   "id": "b6939aa4",
   "metadata": {},
   "outputs": [],
   "source": [
    "@qml.qnode(dev)\n",
    "def circuit(params):\n",
    "    efficient_su2(params, wires, skip_final_rot=True)\n",
    "    return qml.expval(qml.PauliZ(0))\n",
    "draw = qml.draw_mpl(circuit)\n",
    "draw(np.random.rand(8).tolist())"
   ]
  },
  {
   "cell_type": "code",
   "execution_count": null,
   "id": "a29686a2",
   "metadata": {},
   "outputs": [],
   "source": [
    "@qml.qnode(dev)\n",
    "def circuit(params):\n",
    "    two_local(params, wires, rot_gates=['rx', 'rz'], entangle_gates='crz', skip_final_rot=True)\n",
    "    return qml.expval(qml.PauliZ(0))\n",
    "draw = qml.draw_mpl(circuit)\n",
    "draw(np.random.rand(11).tolist())"
   ]
  },
  {
   "cell_type": "code",
   "execution_count": null,
   "id": "147d4d8f",
   "metadata": {},
   "outputs": [],
   "source": [
    "entanglement= [(0,1), (0,2), (0,3), (1,0), (1,2), (1,3), (2,0), (2,1), (2,3), (3,0), (3,1), (3,2)]\n",
    "@qml.qnode(dev)\n",
    "def circuit(params):\n",
    "    two_local(params, wires, rot_gates=['rx', 'rz'], entangle_gates='crz', entanglement=entanglement, skip_final_rot=False)\n",
    "    return qml.expval(qml.PauliZ(0))\n",
    "draw = qml.draw_mpl(circuit)\n",
    "draw(np.random.rand(28))"
   ]
  },
  {
   "cell_type": "code",
   "execution_count": null,
   "id": "068c5cb3",
   "metadata": {},
   "outputs": [],
   "source": [
    "@qml.qnode(dev)\n",
    "def circuit(params):\n",
    "    modified_pauli_two(params, wires, rotation_block=['rx', 'rz'])\n",
    "    return qml.expval(qml.PauliZ(0))\n",
    "draw = qml.draw_mpl(circuit)\n",
    "draw(np.random.rand(19))"
   ]
  },
  {
   "cell_type": "code",
   "execution_count": null,
   "id": "fe10a91b",
   "metadata": {},
   "outputs": [],
   "source": [
    "@qml.qnode(dev)\n",
    "def circuit(params):\n",
    "    modified_pauli_two(params, wires, entanglement='cnot', full_rotation=False)\n",
    "    return qml.expval(qml.PauliZ(0))\n",
    "draw = qml.draw_mpl(circuit)\n",
    "draw(np.random.rand(12))"
   ]
  },
  {
   "cell_type": "code",
   "execution_count": null,
   "id": "fcfb6d40",
   "metadata": {},
   "outputs": [],
   "source": [
    "@qml.qnode(dev)\n",
    "def circuit(params):\n",
    "    hadamard_ansatz(params, wires)\n",
    "    return qml.expval(qml.PauliZ(0))\n",
    "draw = qml.draw_mpl(circuit)\n",
    "draw(np.random.rand(4))"
   ]
  },
  {
   "cell_type": "code",
   "execution_count": null,
   "id": "4a8700f7",
   "metadata": {},
   "outputs": [],
   "source": [
    "@qml.qnode(dev)\n",
    "def circuit(params):\n",
    "    excitation_preserving(params, wires)\n",
    "    return qml.expval(qml.PauliZ(0))\n",
    "draw = qml.draw_mpl(circuit)\n",
    "draw(np.random.rand(11))"
   ]
  },
  {
   "cell_type": "code",
   "execution_count": null,
   "id": "26090451",
   "metadata": {},
   "outputs": [],
   "source": []
  }
 ],
 "metadata": {
  "kernelspec": {
   "display_name": "Python 3 (ipykernel)",
   "language": "python",
   "name": "python3"
  },
  "language_info": {
   "codemirror_mode": {
    "name": "ipython",
    "version": 3
   },
   "file_extension": ".py",
   "mimetype": "text/x-python",
   "name": "python",
   "nbconvert_exporter": "python",
   "pygments_lexer": "ipython3",
   "version": "3.9.18"
  }
 },
 "nbformat": 4,
 "nbformat_minor": 5
}
