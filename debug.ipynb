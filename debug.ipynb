{
 "cells": [
  {
   "cell_type": "code",
   "execution_count": 1,
   "id": "b333cf8f-114f-4ffa-bb29-dbef151035a1",
   "metadata": {},
   "outputs": [],
   "source": [
    "import joblib\n",
    "import click\n",
    "import json\n",
    "import time\n",
    "import os\n",
    "import itertools\n",
    "import collections.abc\n",
    "from shutil import copy,SameFileError\n",
    "from glob import glob\n",
    "\n",
    "import matplotlib.pyplot as plt\n",
    "import seaborn as sns\n",
    "import numpy as np\n",
    "import pandas as pd\n",
    "import pennylane as qml\n",
    "from sklearn.metrics import mean_squared_error\n",
    "from sklearn.model_selection import KFold\n",
    "# from qiskit_ibm_provider import IBMProvider\n",
    "\n",
    "from quantum.Quantum import QuantumRegressor\n",
    "from quantum.Evaluate import evaluate\n",
    "from settings import ANSATZ_LIST, ENCODER_LIST\n",
    "from sklearn.utils._testing import ignore_warnings\n",
    "from sklearn.exceptions import InconsistentVersionWarning\n",
    "\n",
    "from qiskit.circuit.library import n_local\n",
    "from qiskit.circuit import QuantumCircuit"
   ]
  },
  {
   "cell_type": "code",
   "execution_count": 2,
   "id": "cfb87afe-8e2d-4a31-946c-19ab9cd3416f",
   "metadata": {},
   "outputs": [],
   "source": [
    "num_qubits=5\n",
    "\n",
    "\n",
    "\n",
    "# device='lightning.qubit'\n",
    "device='qulacs.simulator'\n",
    "\n",
    "device = qml.device(device, wires=num_qubits)\n"
   ]
  },
  {
   "cell_type": "code",
   "execution_count": 3,
   "id": "06812255-9abf-403f-a63a-87cecdee3676",
   "metadata": {},
   "outputs": [],
   "source": [
    "class EfficientSU2:\n",
    "    def __init__(self,\n",
    "                 wires: list = None,\n",
    "                 su2_gates: list = None,\n",
    "                 entanglement: str = 'linear',\n",
    "                 reps: int = 1,\n",
    "                 skip_final_rot: bool = False\n",
    "                 ):\n",
    "        if su2_gates is None:\n",
    "            su2_gates = ['ry', 'rz']\n",
    "        self._su2_gates = su2_gates\n",
    "        self._entanglement = entanglement\n",
    "        self._reps = reps\n",
    "        self._skip_final_rot = skip_final_rot\n",
    "        self._wires = None\n",
    "        self._qc = None\n",
    "        if wires is not None:\n",
    "            self.set_wires(wires)\n",
    "            \n",
    "    \n",
    "    def __call__(self, parameters, wires: list = None):\n",
    "        if wires is not None:\n",
    "            \n",
    "            if len(self._wires) != len(self._wires):\n",
    "                raise ValueError(\"Cannot override wires instance of different length\")\n",
    "            self._wires = wires\n",
    "            \n",
    "        qc = self._qc\n",
    "        if qc.num_parameters_settable != len(parameters):\n",
    "            raise ValueError(\"Incorrect number of parameters. Expected \", qc.num_parameters_settable, 'but received ',\n",
    "                             len(parameters))\n",
    "        qc = qc.decompose()\n",
    "        parameters = parameters.tolist()\n",
    "        qc = qc.assign_parameters(parameters)\n",
    "        qml_circuit = qml.from_qiskit(qc)\n",
    "        qml_circuit(wires=self._wires)\n",
    "        # qml.draw_mpl(qml_circuit)()\n",
    "        \n",
    "    @property\n",
    "    def num_params(self):\n",
    "        return self._qc.num_parameters_settable\n",
    "\n",
    "    @property\n",
    "    def layers(self):\n",
    "        return self._reps\n",
    "\n",
    "    @layers.setter\n",
    "    def layers(self, val):\n",
    "        self._reps = val\n",
    "    \n",
    "    def set_wires(self, wires):\n",
    "        self._wires = wires\n",
    "        self._qc = n_local.EfficientSU2(num_qubits=len(self._wires), su2_gates=self._su2_gates,\n",
    "                                        entanglement=self._entanglement, reps=self._reps,\n",
    "                                        skip_final_rotation_layer=self._skip_final_rot)\n"
   ]
  },
  {
   "cell_type": "code",
   "execution_count": 4,
   "id": "a2299380-b918-4499-9897-6c91f901df89",
   "metadata": {},
   "outputs": [
    {
     "name": "stdout",
     "output_type": "stream",
     "text": [
      "FUcked\n",
      "Not Fucked\n",
      "-0.9717148816314164\n",
      "FUcked\n",
      "-0.9717148816314164\n"
     ]
    }
   ],
   "source": [
    "\n",
    "variational=EfficientSU2(skip_final_rot=True)\n",
    "LAYERS=1\n",
    "re_upload_depth=1\n",
    "wires=range(num_qubits)\n",
    "variational.layers = LAYERS\n",
    "variational.set_wires(wires)\n",
    "\n",
    "num_params = variational.num_params * re_upload_depth\n",
    "generator = np.random.default_rng(12958234)\n",
    "initial_parameters = generator.uniform(-np.pi, np.pi, num_params)\n",
    "feat = generator.uniform(-1, 1, num_qubits)\n",
    "# variational(initial_parameters)\n",
    "def circuit(parameters, wires):\n",
    "    variational(parameters, wires)\n",
    "    return  qml.expval(qml.PauliZ(0))\n",
    "for i in range(2):\n",
    "    try:    \n",
    "        print('FUcked')\n",
    "        shit = qml.QNode(circuit,device)(parameters=initial_parameters, wires=wires)\n",
    "    except:\n",
    "        print('Not Fucked')\n",
    "        shit = qml.QNode(circuit,device)(parameters=initial_parameters, wires=wires)\n",
    "    print(shit)\n",
    "# qml.draw_mpl(variational)(parameters=initial_parameters, wires=wires)\n",
    "# plt.title(\"YIKES\")\n",
    "# plt.show()"
   ]
  },
  {
   "cell_type": "code",
   "execution_count": 5,
   "id": "7cd1ee06-b57b-4261-9e32-1469e6377da5",
   "metadata": {},
   "outputs": [
    {
     "data": {
      "text/plain": [
       "array(-0.97171488)"
      ]
     },
     "execution_count": 5,
     "metadata": {},
     "output_type": "execute_result"
    }
   ],
   "source": [
    "shit"
   ]
  },
  {
   "cell_type": "code",
   "execution_count": null,
   "id": "deb133ab-863a-4dc5-b19f-fdfdf9b7f893",
   "metadata": {},
   "outputs": [],
   "source": []
  }
 ],
 "metadata": {
  "kernelspec": {
   "display_name": "Python . (XPython)",
   "language": "python",
   "name": "xpython"
  },
  "language_info": {
   "file_extension": ".py",
   "mimetype": "text/x-python",
   "name": "python",
   "version": "3.12.7"
  }
 },
 "nbformat": 4,
 "nbformat_minor": 5
}
