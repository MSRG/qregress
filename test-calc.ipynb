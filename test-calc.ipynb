{
 "cells": [
  {
   "cell_type": "code",
   "execution_count": 1,
   "id": "d84d6ef5",
   "metadata": {},
   "outputs": [],
   "source": [
    "import time\n",
    "import pennylane as qml\n",
    "from pennylane import numpy as np\n",
    "from matplotlib import pyplot as plt\n",
    "from quantum.Quantum import QuantumRegressor\n",
    "from quantum.Circuits import double_angle, entangle_cnot, mitarai, single_angle, rotation_layer, entangle_cz, composer\n",
    "from quantum.Evaluate import evaluate_model\n",
    "\n",
    "from sklearn.preprocessing import MinMaxScaler\n",
    "from sklearn.model_selection import train_test_split\n",
    "from sklearn.metrics import mean_squared_error, r2_score "
   ]
  },
  {
   "cell_type": "code",
   "execution_count": 2,
   "id": "ee86ad3f",
   "metadata": {},
   "outputs": [],
   "source": [
    "st = time.time()\n",
    "# Generate random data\n",
    "np.random.seed(4)  # Set seed for reproducibility\n",
    "X = np.random.uniform(low=0, high=10, size=(100,))\n",
    "y = np.sin(X / 2)\n",
    "\n",
    "# Reshape X to (-1, 1)\n",
    "X = X.reshape(-1, 1)\n",
    "\n",
    "# Normalize the dataset between -1 and 1\n",
    "scaler = MinMaxScaler(feature_range=(-0.9, 0.9))\n",
    "X_normalized = scaler.fit_transform(X)\n",
    "\n",
    "# Split the dataset into training and testing sets\n",
    "X_train, X_test, y_train, y_test = train_test_split(X_normalized, y, test_size=0.2, random_state=42)\n"
   ]
  },
  {
   "cell_type": "markdown",
   "id": "db91fb7a",
   "metadata": {},
   "source": [
    "## Here we define all of the encoders we will use\n",
    "\n",
    "Listing encoders to be used and compared i this notebook. This list is derived from Suzuki & Katouda DOI 10.1088/2399-6528/abd3d8"
   ]
  },
  {
   "cell_type": "code",
   "execution_count": 3,
   "id": "60dccf41",
   "metadata": {},
   "outputs": [],
   "source": [
    "encoders = {\n",
    "    'M': mitarai,\n",
    "    'A1': single_angle,\n",
    "    'A2': double_angle,\n",
    "    'M-M-CNOT': composer(mitarai, entangle_cnot, mitarai, entangle_cnot),\n",
    "    'A1-A1-CNOT': composer(single_angle, entangle_cnot, single_angle, entangle_cnot),\n",
    "    'A2-A2-CNOT': composer(double_angle, entangle_cnot, double_angle, entangle_cnot),\n",
    "    'M-A1-CNOT': composer(mitarai, entangle_cnot, single_angle, entangle_cnot), \n",
    "    'M-A2-CNOT': composer(mitarai, entangle_cnot, double_angle entangle_cnot),\n",
    "    'M-M-CZ': composer(mitarai, entangle_cz, mitarai, entangle_cz),\n",
    "    'A1-A1-CZ': composer(single_angle, entangle_cz, single_angle, entangle_cz),\n",
    "    'A2-A2-CZ': composer(double_angle, entangle_cz, double_angle, entangle_cz),\n",
    "    'M-A1-CZ': composer(mitarai, entangle_cz, single_angle, entangle_cz),\n",
    "    'M-A2-CZ': composer(mitarai, entangle_cz, double_angle, entangle_cz)\n",
    "}\n"
   ]
  },
  {
   "cell_type": "markdown",
   "id": "1c3cee34",
   "metadata": {},
   "source": [
    "## Model training\n",
    "\n",
    "Here we define the parameters of our model and a random set of initial parameters. Then we loop through each of the encoders and train the model for them and evaluate/plot it."
   ]
  },
  {
   "cell_type": "code",
   "execution_count": 5,
   "id": "3fb0e8ef",
   "metadata": {},
   "outputs": [
    {
     "name": "stdout",
     "output_type": "stream",
     "text": [
      "Starting on: M encoder...\n",
      "\n",
      "Training completed \n",
      " taking  962.8234348297119 seconds\n",
      "Starting on: A1 encoder...\n",
      "\n",
      "Training completed \n",
      " taking  977.3178386688232 seconds\n",
      "Starting on: A2 encoder...\n",
      "\n",
      "Training completed \n",
      " taking  456.48261523246765 seconds\n",
      "Starting on: M-M-CNOT encoder...\n",
      "\n"
     ]
    },
    {
     "name": "stderr",
     "output_type": "stream",
     "text": [
      "capi_return is NULL\n",
      "Call-back cb_calcfc_in__cobyla__user__routines failed.\n"
     ]
    },
    {
     "name": "stdout",
     "output_type": "stream",
     "text": [
      "Unexpected exception formatting exception. Falling back to standard exception\n"
     ]
    },
    {
     "name": "stderr",
     "output_type": "stream",
     "text": [
      "Traceback (most recent call last):\n",
      "  File \"/home/taylo773/miniconda3/envs/qregress/lib/python3.10/site-packages/pennylane/qnode.py\", line 590, in get_best_method\n",
      "    return QNode._validate_device_method(device)\n",
      "  File \"/home/taylo773/miniconda3/envs/qregress/lib/python3.10/site-packages/pennylane/qnode.py\", line 723, in _validate_device_method\n",
      "    raise qml.QuantumFunctionError(\n",
      "pennylane.QuantumFunctionError: The default.qubit device does not provide a native method for computing the jacobian.\n",
      "\n",
      "During handling of the above exception, another exception occurred:\n",
      "\n",
      "Traceback (most recent call last):\n",
      "  File \"/home/taylo773/miniconda3/envs/qregress/lib/python3.10/site-packages/IPython/core/interactiveshell.py\", line 3508, in run_code\n",
      "    exec(code_obj, self.user_global_ns, self.user_ns)\n",
      "  File \"/tmp/ipykernel_10689/4011193659.py\", line 21, in <module>\n",
      "    opt_results = model.fit(X_train, y_train, initial_parameters, detailed_results=True)\n",
      "  File \"/home/taylo773/Quantum/GitHub/qregress/quantum/Quantum.py\", line 41, in fit\n",
      "    def fit(self, x, y, initial_parameters=None, detailed_results=False):\n",
      "  File \"/home/taylo773/miniconda3/envs/qregress/lib/python3.10/site-packages/scipy/optimize/_minimize.py\", line 702, in minimize\n",
      "    res = _minimize_cobyla(fun, x0, args, constraints, callback=callback,\n",
      "  File \"/home/taylo773/miniconda3/envs/qregress/lib/python3.10/site-packages/scipy/optimize/_cobyla_py.py\", line 34, in wrapper\n",
      "    return func(*args, **kwargs)\n",
      "  File \"/home/taylo773/miniconda3/envs/qregress/lib/python3.10/site-packages/scipy/optimize/_cobyla_py.py\", line 270, in _minimize_cobyla\n",
      "    xopt, info = cobyla.minimize(calcfc, m=m, x=np.copy(x0), rhobeg=rhobeg,\n",
      "  File \"/home/taylo773/miniconda3/envs/qregress/lib/python3.10/site-packages/scipy/optimize/_cobyla_py.py\", line 258, in calcfc\n",
      "    f = fun(np.copy(x), *args)\n",
      "  File \"/home/taylo773/Quantum/GitHub/qregress/quantum/Quantum.py\", line 31, in _cost\n",
      "  File \"/home/taylo773/Quantum/GitHub/qregress/quantum/Quantum.py\", line 31, in <listcomp>\n",
      "  File \"/home/taylo773/miniconda3/envs/qregress/lib/python3.10/site-packages/pennylane/qnode.py\", line 832, in __call__\n",
      "    self.interface = qml.math.get_interface(*args, *list(kwargs.values()))\n",
      "  File \"/home/taylo773/miniconda3/envs/qregress/lib/python3.10/site-packages/pennylane/qnode.py\", line 466, in interface\n",
      "    self._update_gradient_fn()\n",
      "  File \"/home/taylo773/miniconda3/envs/qregress/lib/python3.10/site-packages/pennylane/qnode.py\", line 485, in _update_gradient_fn\n",
      "    self.gradient_fn, self.gradient_kwargs, self.device = self.get_gradient_fn(\n",
      "  File \"/home/taylo773/miniconda3/envs/qregress/lib/python3.10/site-packages/pennylane/qnode.py\", line 527, in get_gradient_fn\n",
      "    return QNode.get_best_method(device, interface)\n",
      "  File \"/home/taylo773/miniconda3/envs/qregress/lib/python3.10/site-packages/pennylane/qnode.py\", line 593, in get_best_method\n",
      "    return QNode._validate_backprop_method(device, interface)\n",
      "  File \"/home/taylo773/miniconda3/envs/qregress/lib/python3.10/site-packages/pennylane/qnode.py\", line 675, in _validate_backprop_method\n",
      "    device = qml.device(\n",
      "  File \"/home/taylo773/miniconda3/envs/qregress/lib/python3.10/site-packages/pennylane/__init__.py\", line 317, in device\n",
      "    plugin_device_class = plugin_devices[name].load()\n",
      "  File \"/home/taylo773/miniconda3/envs/qregress/lib/python3.10/site-packages/pkg_resources/__init__.py\", line 2467, in load\n",
      "    self.require(*args, **kwargs)\n",
      "  File \"/home/taylo773/miniconda3/envs/qregress/lib/python3.10/site-packages/pkg_resources/__init__.py\", line 2490, in require\n",
      "    items = working_set.resolve(reqs, env, installer, extras=self.extras)\n",
      "  File \"/home/taylo773/miniconda3/envs/qregress/lib/python3.10/site-packages/pkg_resources/__init__.py\", line 815, in resolve\n",
      "    dist = self._resolve_dist(\n",
      "  File \"/home/taylo773/miniconda3/envs/qregress/lib/python3.10/site-packages/pkg_resources/__init__.py\", line 840, in _resolve_dist\n",
      "    if dist is None or (dist not in req and replace_conflicting):\n",
      "  File \"/home/taylo773/miniconda3/envs/qregress/lib/python3.10/site-packages/pkg_resources/__init__.py\", line 3119, in __contains__\n",
      "    return self.specifier.contains(item, prereleases=True)\n",
      "  File \"/home/taylo773/miniconda3/envs/qregress/lib/python3.10/site-packages/pkg_resources/_vendor/packaging/specifiers.py\", line 749, in contains\n",
      "    return all(s.contains(item, prereleases=prereleases) for s in self._specs)\n",
      "  File \"/home/taylo773/miniconda3/envs/qregress/lib/python3.10/site-packages/pkg_resources/_vendor/packaging/specifiers.py\", line 749, in <genexpr>\n",
      "    return all(s.contains(item, prereleases=prereleases) for s in self._specs)\n",
      "  File \"/home/taylo773/miniconda3/envs/qregress/lib/python3.10/site-packages/pkg_resources/_vendor/packaging/specifiers.py\", line 189, in contains\n",
      "    return operator_callable(normalized_item, self.version)\n",
      "  File \"/home/taylo773/miniconda3/envs/qregress/lib/python3.10/site-packages/pkg_resources/_vendor/packaging/specifiers.py\", line 294, in wrapped\n",
      "    return fn(self, prospective, spec)\n",
      "  File \"/home/taylo773/miniconda3/envs/qregress/lib/python3.10/site-packages/pkg_resources/_vendor/packaging/specifiers.py\", line 489, in _compare_greater_than_equal\n",
      "    return Version(prospective.public) >= Version(spec)\n",
      "  File \"/home/taylo773/miniconda3/envs/qregress/lib/python3.10/site-packages/pkg_resources/_vendor/packaging/version.py\", line 281, in __init__\n",
      "    self._key = _cmpkey(\n",
      "  File \"/home/taylo773/miniconda3/envs/qregress/lib/python3.10/site-packages/pkg_resources/_vendor/packaging/version.py\", line 444, in _cmpkey\n",
      "    def _cmpkey(\n",
      "KeyboardInterrupt\n",
      "\n",
      "During handling of the above exception, another exception occurred:\n",
      "\n",
      "Traceback (most recent call last):\n",
      "  File \"/home/taylo773/miniconda3/envs/qregress/lib/python3.10/site-packages/IPython/core/interactiveshell.py\", line 2105, in showtraceback\n",
      "    stb = self.InteractiveTB.structured_traceback(\n",
      "  File \"/home/taylo773/miniconda3/envs/qregress/lib/python3.10/site-packages/IPython/core/ultratb.py\", line 1396, in structured_traceback\n",
      "    return FormattedTB.structured_traceback(\n",
      "  File \"/home/taylo773/miniconda3/envs/qregress/lib/python3.10/site-packages/IPython/core/ultratb.py\", line 1287, in structured_traceback\n",
      "    return VerboseTB.structured_traceback(\n",
      "  File \"/home/taylo773/miniconda3/envs/qregress/lib/python3.10/site-packages/IPython/core/ultratb.py\", line 1140, in structured_traceback\n",
      "    formatted_exception = self.format_exception_as_a_whole(etype, evalue, etb, number_of_lines_of_context,\n",
      "  File \"/home/taylo773/miniconda3/envs/qregress/lib/python3.10/site-packages/IPython/core/ultratb.py\", line 1055, in format_exception_as_a_whole\n",
      "    frames.append(self.format_record(record))\n",
      "  File \"/home/taylo773/miniconda3/envs/qregress/lib/python3.10/site-packages/IPython/core/ultratb.py\", line 955, in format_record\n",
      "    frame_info.lines, Colors, self.has_colors, lvals\n",
      "  File \"/home/taylo773/miniconda3/envs/qregress/lib/python3.10/site-packages/IPython/core/ultratb.py\", line 778, in lines\n",
      "    return self._sd.lines\n",
      "  File \"/home/taylo773/miniconda3/envs/qregress/lib/python3.10/site-packages/stack_data/utils.py\", line 144, in cached_property_wrapper\n",
      "    value = obj.__dict__[self.func.__name__] = self.func(obj)\n",
      "  File \"/home/taylo773/miniconda3/envs/qregress/lib/python3.10/site-packages/stack_data/core.py\", line 734, in lines\n",
      "    pieces = self.included_pieces\n",
      "  File \"/home/taylo773/miniconda3/envs/qregress/lib/python3.10/site-packages/stack_data/utils.py\", line 144, in cached_property_wrapper\n",
      "    value = obj.__dict__[self.func.__name__] = self.func(obj)\n",
      "  File \"/home/taylo773/miniconda3/envs/qregress/lib/python3.10/site-packages/stack_data/core.py\", line 681, in included_pieces\n",
      "    pos = scope_pieces.index(self.executing_piece)\n",
      "  File \"/home/taylo773/miniconda3/envs/qregress/lib/python3.10/site-packages/stack_data/utils.py\", line 144, in cached_property_wrapper\n",
      "    value = obj.__dict__[self.func.__name__] = self.func(obj)\n",
      "  File \"/home/taylo773/miniconda3/envs/qregress/lib/python3.10/site-packages/stack_data/core.py\", line 660, in executing_piece\n",
      "    return only(\n",
      "  File \"/home/taylo773/miniconda3/envs/qregress/lib/python3.10/site-packages/executing/executing.py\", line 190, in only\n",
      "    raise NotOneValueFound('Expected one value, found 0')\n",
      "executing.executing.NotOneValueFound: Expected one value, found 0\n"
     ]
    },
    {
     "data": {
      "image/png": "[encoded data removed]",
      "text/plain": [
       "<Figure size 1200x1000 with 3 Axes>"
      ]
     },
     "metadata": {},
     "output_type": "display_data"
    }
   ],
   "source": [
    "num_qubits = 3\n",
    "layers = 3\n",
    "initial_parameters = np.random.uniform(low=-1, high=1, size= 3 * 2 * num_qubits)\n",
    "def variational(parameters, wires):\n",
    "    num_qubits = len(wires)\n",
    "    rotation_layer(parameters[:num_qubits *3], wires)\n",
    "    entangle_cnot(wires)\n",
    "    rotation_layer(parameters[num_qubits *3:num_qubits*3 *2], wires)\n",
    "        \n",
    "results = {}\n",
    "\n",
    "fig = plt.figure(figsize=(12, 2*5), dpi=100)\n",
    "n_cols = 5\n",
    "n_rows = int(len(list(encoders.keys())) / n_cols) + 1\n",
    "i=0\n",
    "\n",
    "for name, encoder in encoders.items():\n",
    "    print('Starting on:', name, 'encoder...\\n')\n",
    "    st = time.time()\n",
    "    model = QuantumRegressor(encoder, variational, num_qubits)\n",
    "    opt_results = model.fit(X_train, y_train, initial_parameters, detailed_results=True)\n",
    "    et = time.time()\n",
    "    print('Training completed taking ', et-st, 'seconds\\n')\n",
    "    ax = fig.add_subplot(n_rows, n_cols, i+1)\n",
    "    loss = evaluate_model(model, X_train, X_test, y_train, y_test, title=name)\n",
    "    i += 1\n",
    "    results[name] = [opt_results, loss]\n",
    "plt.tight_layout()"
   ]
  },
  {
   "cell_type": "code",
   "execution_count": null,
   "id": "6aeaa048",
   "metadata": {},
   "outputs": [],
   "source": []
  },
  {
   "cell_type": "code",
   "execution_count": null,
   "id": "83f944cc",
   "metadata": {},
   "outputs": [],
   "source": []
  }
 ],
 "metadata": {
  "kernelspec": {
   "display_name": "Python 3 (ipykernel)",
   "language": "python",
   "name": "python3"
  },
  "language_info": {
   "codemirror_mode": {
    "name": "ipython",
    "version": 3
   },
   "file_extension": ".py",
   "mimetype": "text/x-python",
   "name": "python",
   "nbconvert_exporter": "python",
   "pygments_lexer": "ipython3",
   "version": "3.10.11"
  }
 },
 "nbformat": 4,
 "nbformat_minor": 5
}
