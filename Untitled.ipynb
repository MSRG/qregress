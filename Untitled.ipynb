{
 "cells": [
  {
   "cell_type": "code",
   "execution_count": null,
   "id": "a0300352-8811-4bf7-bcc5-8ef6bee37b89",
   "metadata": {},
   "outputs": [],
   "source": [
    "import click\n",
    "import numpy as np\n",
    "import matplotlib.pyplot as plt\n",
    "import seaborn as sns\n",
    "from glob import glob\n",
    "import pandas as pd"
   ]
  },
  {
   "cell_type": "code",
   "execution_count": null,
   "id": "32aae4b5-e7fa-4bf3-b159-c2a53df229cf",
   "metadata": {},
   "outputs": [],
   "source": [
    "stacked_log=[]\n",
    "# for i in glob('BSE-calc-test/5qubit/*/model_log.csv'):\n",
    "\n",
    "for i in glob('BSE_RUD_AL_test/16qubit/5_RUD/*/model_log.csv'):\n",
    "    df=pd.read_csv(i)[['Iteration','Cost']].dropna()\n",
    "    stacked_log.append(df)"
   ]
  },
  {
   "cell_type": "code",
   "execution_count": null,
   "id": "ac14c39a-097e-4d40-8e43-c529ca4710db",
   "metadata": {},
   "outputs": [],
   "source": [
    "sns.lineplot(data=pd.concat(stacked_log),x='Iteration',y='Cost')"
   ]
  },
  {
   "cell_type": "code",
   "execution_count": null,
   "id": "d6c40e50-b293-4062-98d7-2530b64fa16d",
   "metadata": {},
   "outputs": [],
   "source": [
    "def main(path):\n",
    "\n",
    "    with open(path,'r') as f:\n",
    "        filename=f.readlines()\n",
    "    \n",
    "    save=[]\n",
    "    for i in filename:\n",
    "        if ':' in i:\n",
    "            splitf=i.split(',')\n",
    "            save.append((splitf[1],splitf[2]))\n",
    "    \n",
    "    save=np.array(save).astype(float)\n",
    "    \n",
    "    plt.plot(save[:,0],save[:,1])\n",
    "    plt.show()\n"
   ]
  },
  {
   "cell_type": "code",
   "execution_count": null,
   "id": "83d7272b-647a-4abb-b0eb-b8a27eadaddb",
   "metadata": {},
   "outputs": [],
   "source": []
  }
 ],
 "metadata": {
  "kernelspec": {
   "display_name": "Python 3 (ipykernel)",
   "language": "python",
   "name": "python3"
  },
  "language_info": {
   "codemirror_mode": {
    "name": "ipython",
    "version": 3
   },
   "file_extension": ".py",
   "mimetype": "text/x-python",
   "name": "python",
   "nbconvert_exporter": "python",
   "pygments_lexer": "ipython3",
   "version": "3.12.4"
  }
 },
 "nbformat": 4,
 "nbformat_minor": 5
}
