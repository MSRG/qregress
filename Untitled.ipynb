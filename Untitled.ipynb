{
 "cells": [
  {
   "cell_type": "code",
   "execution_count": 1,
   "id": "d5112808-c742-4cd2-b023-37076e3b7dda",
   "metadata": {},
   "outputs": [],
   "source": [
    "import joblib\n",
    "import click\n",
    "import json\n",
    "import time\n",
    "import os\n",
    "import itertools\n",
    "import collections.abc\n",
    "\n",
    "import matplotlib.pyplot as plt\n",
    "import numpy as np\n",
    "import pandas as pd\n",
    "import pennylane as qml\n",
    "from sklearn.metrics import mean_squared_error\n",
    "from sklearn.model_selection import KFold\n",
    "from qiskit_ibm_provider import IBMProvider\n",
    "\n",
    "from quantum.Quantum import QuantumRegressor\n",
    "from quantum.Evaluate import evaluate\n",
    "from settings import ANSATZ_LIST, ENCODER_LIST"
   ]
  },
  {
   "cell_type": "code",
   "execution_count": 2,
   "id": "48aa5208-0d80-485a-8310-d1a89c86b56e",
   "metadata": {},
   "outputs": [
    {
     "data": {
      "text/plain": [
       "'M_Modified-Pauli-CRZ.json'"
      ]
     },
     "execution_count": 2,
     "metadata": {},
     "output_type": "execute_result"
    }
   ],
   "source": [
    "\"M_Modified-Pauli-CRZ.json\""
   ]
  },
  {
   "cell_type": "code",
   "execution_count": 3,
   "id": "b7e0726a-d45d-46cb-a108-00f7ce428f31",
   "metadata": {},
   "outputs": [],
   "source": [
    "# Global variables\n",
    "OPTIMIZER = None\n",
    "SHOTS = None\n",
    "X_DIM = None\n",
    "BACKEND = None\n",
    "DEVICE = None\n",
    "SCALE_FACTORS = None\n",
    "ANSATZ = None\n",
    "ENCODER = None\n",
    "POSTPROCESS = None\n",
    "ERROR_MITIGATION = None\n",
    "LAYERS = None\n",
    "PROVIDER = None\n",
    "TOKEN = None\n",
    "HYPERPARAMETERS = None\n",
    "RE_UPLOAD_DEPTH = None\n",
    "MAX_ITER = None\n",
    "TOLERANCE = None\n",
    "NUM_QUBITS = None"
   ]
  },
  {
   "cell_type": "code",
   "execution_count": 4,
   "id": "fa00ad10-c945-4325-97e2-9ae9241be350",
   "metadata": {},
   "outputs": [],
   "source": [
    "def parse_settings(settings_file):\n",
    "    with open(settings_file, 'r') as fp:\n",
    "        settings = json.load(fp)\n",
    "\n",
    "    global OPTIMIZER\n",
    "    OPTIMIZER = settings['OPTIMIZER']\n",
    "\n",
    "    global SHOTS\n",
    "    SHOTS = settings['SHOTS']\n",
    "\n",
    "    global BACKEND\n",
    "    BACKEND = settings['BACKEND']\n",
    "\n",
    "    global DEVICE\n",
    "    DEVICE = settings['DEVICE']\n",
    "\n",
    "    global SCALE_FACTORS\n",
    "    SCALE_FACTORS = settings['SCALE_FACTORS']\n",
    "\n",
    "    global POSTPROCESS\n",
    "    POSTPROCESS = settings['POSTPROCESS']\n",
    "\n",
    "    global ERROR_MITIGATION\n",
    "    ERROR_MITIGATION = settings['ERROR_MITIGATION']\n",
    "\n",
    "    global LAYERS\n",
    "    LAYERS = settings['LAYERS']\n",
    "\n",
    "    global HYPERPARAMETERS\n",
    "    HYPERPARAMETERS = settings['HYPERPARAMETERS']\n",
    "    # f was removed from HYPERPARAMETERS, this ensures old settings files can still run.\n",
    "    if 'f' in HYPERPARAMETERS.keys():\n",
    "        _ = HYPERPARAMETERS.pop('f', None)\n",
    "\n",
    "    global RE_UPLOAD_DEPTH\n",
    "    RE_UPLOAD_DEPTH = settings['RE-UPLOAD_DEPTH']\n",
    "\n",
    "    global MAX_ITER\n",
    "    MAX_ITER = settings['MAX_ITER']\n",
    "\n",
    "    global TOLERANCE\n",
    "    try:\n",
    "        TOLERANCE = settings['TOLERANCE']\n",
    "    except KeyError:\n",
    "        TOLERANCE = None\n",
    "\n",
    "    global NUM_QUBITS\n",
    "    try:\n",
    "        NUM_QUBITS = settings['NUM_QUBITS']\n",
    "    except KeyError:\n",
    "        NUM_QUBITS = None\n",
    "\n",
    "    # classes aren't JSON serializable, so we store the key in the settings file and access it here.\n",
    "    global ANSATZ\n",
    "    ANSATZ = ANSATZ_LIST[settings['ANSATZ']]\n",
    "\n",
    "    global ENCODER\n",
    "    ENCODER = ENCODER_LIST[settings['ENCODER']]"
   ]
  },
  {
   "cell_type": "code",
   "execution_count": 5,
   "id": "ab98b271-af9f-46f1-b84b-bf2785334aa8",
   "metadata": {},
   "outputs": [],
   "source": [
    "def load_dataset(file):\n",
    "    print(f'Loading dataset from {file}... ')\n",
    "    data = joblib.load(file)\n",
    "    X = data['X']\n",
    "    y = data['y']\n",
    "\n",
    "    global X_DIM\n",
    "    _, X_DIM = X.shape\n",
    "    print(f'Successfully loaded {file} into X and y data. ')\n",
    "    return X, y"
   ]
  },
  {
   "cell_type": "code",
   "execution_count": 6,
   "id": "8a06c366-5945-4009-bb08-fc7c647f89a2",
   "metadata": {},
   "outputs": [],
   "source": [
    "def create_kwargs():\n",
    "    #  First have to apply specific ansatz settings: setting number of layers and the number of wires based on features\n",
    "    ANSATZ.layers = LAYERS\n",
    "    ANSATZ.set_wires(range(X_DIM))\n",
    "\n",
    "    kwargs = {\n",
    "        'encoder': ENCODER,\n",
    "        'variational': ANSATZ,\n",
    "        'num_qubits': X_DIM,\n",
    "        # 'optimizer': OPTIMIZER,\n",
    "        'optimizer': 'L-BFGS-B',\n",
    "        'max_iterations': MAX_ITER,\n",
    "        'tol': TOLERANCE,\n",
    "        'device': DEVICE,\n",
    "        'backend': BACKEND,\n",
    "        'postprocess': POSTPROCESS,\n",
    "        'error_mitigation': ERROR_MITIGATION,\n",
    "        'provider': PROVIDER,\n",
    "        'token': TOKEN,\n",
    "        're_upload_depth': RE_UPLOAD_DEPTH,\n",
    "    }\n",
    "    return kwargs"
   ]
  },
  {
   "cell_type": "code",
   "execution_count": 7,
   "id": "4448111f-96e3-4870-8af4-d040fd2cf54b",
   "metadata": {},
   "outputs": [],
   "source": [
    "settings=\"./function-calc-test/5qubits/M_Modified-Pauli-CRZ/M_Modified-Pauli-CRZ.json\"\n",
    "train_set=\"./function-calc-test/linear/linear_train.bin\"\n",
    "test_set=\"./function-calc-test/linear/linear_test.bin\"\n",
    "scaler=\"./function-calc-test/linear/linear_scaler.bin\""
   ]
  },
  {
   "cell_type": "code",
   "execution_count": 8,
   "id": "8ed38a76-6541-4a89-bf8e-cf29642bbf5c",
   "metadata": {},
   "outputs": [
    {
     "name": "stdout",
     "output_type": "stream",
     "text": [
      "Loading dataset from ./function-calc-test/linear/linear_train.bin... \n",
      "Successfully loaded ./function-calc-test/linear/linear_train.bin into X and y data. \n",
      "Loading dataset from ./function-calc-test/linear/linear_test.bin... \n",
      "Successfully loaded ./function-calc-test/linear/linear_test.bin into X and y data. \n"
     ]
    }
   ],
   "source": [
    "X_train, y_train = load_dataset(train_set)\n",
    "parse_settings(settings)\n",
    "if DEVICE == 'qiskit.ibmq':\n",
    "    save_token(instance, token)\n",
    "\n",
    "global NUM_QUBITS\n",
    "global X_DIM\n",
    "if NUM_QUBITS is not None:\n",
    "    X_DIM = NUM_QUBITS\n",
    "elif X_DIM == 1:  # if X_DIM is None and num_qubits wasn't specified anywhere use a default value of 2.\n",
    "    NUM_QUBITS = 2\n",
    "    X_DIM = NUM_QUBITS\n",
    "\n",
    "kwargs = create_kwargs()\n",
    "title=False\n",
    "if title is None:\n",
    "    title = os.path.basename(settings)\n",
    "    title, _ = os.path.splitext(title)\n",
    "\n",
    "\n",
    "\n",
    "if test_set is not None:\n",
    "    X_test, y_test = load_dataset(test_set)\n",
    "else:\n",
    "    X_test, y_test = None, None\n",
    "\n",
    "scaler = joblib.load(scaler)"
   ]
  },
  {
   "cell_type": "code",
   "execution_count": 9,
   "id": "809fc218-9d2f-4056-8679-d2914b57c1d3",
   "metadata": {},
   "outputs": [
    {
     "data": {
      "text/plain": [
       "(dtype('float64'), dtype('float64'))"
      ]
     },
     "execution_count": 9,
     "metadata": {},
     "output_type": "execute_result"
    }
   ],
   "source": [
    "X_train.dtype,y_train.dtype"
   ]
  },
  {
   "cell_type": "code",
   "execution_count": 10,
   "id": "2a27a571-606a-4889-99be-d737960dd253",
   "metadata": {},
   "outputs": [
    {
     "data": {
      "text/plain": [
       "(dtype('float64'), dtype('float64'))"
      ]
     },
     "execution_count": 10,
     "metadata": {},
     "output_type": "execute_result"
    }
   ],
   "source": [
    "X_test.dtype,y_test.dtype"
   ]
  },
  {
   "cell_type": "code",
   "execution_count": 11,
   "id": "92b02951-6bba-41da-b079-8f3c904f2383",
   "metadata": {},
   "outputs": [],
   "source": [
    "OPTIMIZER='L-BFGS-B'"
   ]
  },
  {
   "cell_type": "code",
   "execution_count": null,
   "id": "3dafed2b-aa53-4836-b73d-dd8722208cff",
   "metadata": {},
   "outputs": [
    {
     "name": "stderr",
     "output_type": "stream",
     "text": [
      "/home/grierjones/qregress/quantum/Quantum.py:302: OptimizeWarning: Unknown solver options: tol\n",
      "  opt_result = minimize(self._cost_wrapper, x0=params, method=self.optimizer, callback=self._callback,\n"
     ]
    },
    {
     "name": "stdout",
     "output_type": "stream",
     "text": [
      "[Wed Mar 13 13:36:11 2024]  Iteration number: 0 with current cost as 0.996525271590104 and parameters \n",
      "[-7.90318345  2.23743464 -2.12427918 -0.11653103  0.55388754 -2.77010851\n",
      "  3.06858544  2.18960145  1.18552044 -1.06648308  0.6027151   1.14432445\n",
      "  1.31029944 -1.8735468   0.72964989  2.88578465 -0.54534289 -0.47522485\n",
      " -2.0265424   0.7289737 ]. \n"
     ]
    }
   ],
   "source": [
    "model = QuantumRegressor(**kwargs)\n",
    "model.fit(X_train, y_train)"
   ]
  },
  {
   "cell_type": "code",
   "execution_count": null,
   "id": "867da149-12fa-487d-87ac-d24d6885fdce",
   "metadata": {},
   "outputs": [],
   "source": []
  }
 ],
 "metadata": {
  "kernelspec": {
   "display_name": "qchem",
   "language": "python",
   "name": "qchem"
  },
  "language_info": {
   "codemirror_mode": {
    "name": "ipython",
    "version": 3
   },
   "file_extension": ".py",
   "mimetype": "text/x-python",
   "name": "python",
   "nbconvert_exporter": "python",
   "pygments_lexer": "ipython3",
   "version": "3.9.0"
  }
 },
 "nbformat": 4,
 "nbformat_minor": 5
}
