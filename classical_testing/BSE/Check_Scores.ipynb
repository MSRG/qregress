{
 "cells": [
  {
   "cell_type": "code",
   "execution_count": null,
   "id": "d4c73bff-b89b-4ab6-bff3-cce228848f4b",
   "metadata": {},
   "outputs": [],
   "source": [
    "import json\n",
    "from glob import glob\n",
    "import numpy as np\n",
    "import pandas as pd\n",
    "import matplotlib.pyplot as plt\n",
    "import seaborn as sns\n",
    "import os\n"
   ]
  },
  {
   "cell_type": "code",
   "execution_count": null,
   "id": "74a33b76-ce2a-48b8-89a6-bcd871b01e6a",
   "metadata": {},
   "outputs": [],
   "source": [
    "scores={}\n",
    "for i in glob('*/scores.json'):\n",
    "    print(os.path.dirname(i))\n",
    "    with open(i,'r') as f:\n",
    "        scores[os.path.dirname(i)]=json.load(f)"
   ]
  },
  {
   "cell_type": "code",
   "execution_count": null,
   "id": "24f851eb-b994-4e0d-bd1d-b8d209c84626",
   "metadata": {},
   "outputs": [],
   "source": [
    "dfmelt=[]\n",
    "for k,v in scores.items():\n",
    "    df=pd.DataFrame.from_dict(v).loc[['R2_train','R2_test']].rename(index={'R2_train':'Train','R2_test':'Test'})\n",
    "    df.columns=[df.columns,[k]*len(df.columns)]\n",
    "    dfmelt.append(df.melt(value_vars=df.columns.tolist(),ignore_index=False))\n",
    "dfmelt=pd.concat(dfmelt).reset_index().rename(columns={'index':'Data','variable_0':'Model','variable_1':'Feature Set','value':\"R$^{2}$\"})"
   ]
  },
  {
   "cell_type": "code",
   "execution_count": null,
   "id": "ad75e0f9-987a-4353-8aac-c30bdcb7c6e6",
   "metadata": {},
   "outputs": [],
   "source": [
    "scores"
   ]
  },
  {
   "cell_type": "code",
   "execution_count": null,
   "id": "f1262fd5-360e-45d9-ac45-318c229ce1b7",
   "metadata": {},
   "outputs": [],
   "source": [
    "{k:np.average([v['R2_train'],v['R2_test']]) for k,v in scores['ALL'].items()}"
   ]
  },
  {
   "cell_type": "code",
   "execution_count": null,
   "id": "cc9d0ed0-850c-451d-b999-0c5dd2923296",
   "metadata": {},
   "outputs": [],
   "source": [
    "learningcurvedf=pd.concat([dfmelt[dfmelt['Feature Set']==j].replace(j,float(j.split('_')[1])) for j in set([i for i in dfmelt['Feature Set'] if '16' in i])])"
   ]
  },
  {
   "cell_type": "code",
   "execution_count": null,
   "id": "c0e2ec51-3677-4f67-842b-13a5b8a4c504",
   "metadata": {},
   "outputs": [],
   "source": [
    "\n",
    "\n",
    "g=sns.relplot(learningcurvedf,\n",
    "            kind='line',\n",
    "            x='Feature Set',\n",
    "            y='R$^{2}$',\n",
    "            hue='Model',\n",
    "            col='Data',\n",
    "            height=4, aspect=1, col_wrap=2,palette=sns.color_palette(\"Paired\",9)\n",
    "            )\n",
    "# axes = g.axes.flatten()\n",
    "# axes[0].axhline(10, ls='--')\n",
    "# axes[1].axhline(30, ls='--')\n",
    "# g.set_axis_labels(\"Training Set Ratio\", \"R$^{2}$\")\n",
    "g.set_titles(\"{col_var}={col_name}\")\n",
    "sns.move_legend(g, \"upper left\", bbox_to_anchor=(1, 1))\n",
    "g.set(xlim=(0.1, 0.8))\n",
    "g.fig.suptitle(f\"BSE 16 Features\")\n",
    "# plt.title(f\"{name}\")\n",
    "plt.tight_layout()\n",
    "plt.savefig(f'BSE_16_learning_curve.png',dpi=300,bbox_inches='tight')\n",
    "plt.show()"
   ]
  },
  {
   "cell_type": "code",
   "execution_count": null,
   "id": "099a4114-1139-4969-844b-672ce5782b01",
   "metadata": {},
   "outputs": [],
   "source": [
    "g=sns.catplot(dfmelt.reset_index().sort_values(by=['Feature Set','Model']),\n",
    "             kind='bar',\n",
    "             x='Model',\n",
    "              y='R$^{2}$',\n",
    "              hue='Data',\n",
    "              col='Feature Set',\n",
    "              height=4, aspect=1, col_wrap=5,palette=sns.color_palette(\"Paired\",2)\n",
    "             )\n",
    "\n",
    "# g.set_axis_labels(\"Training Set Ratio\", \"R$^{2}$\")\n",
    "g.set_titles(\"{col_var}={col_name}\")\n",
    "sns.move_legend(g, \"upper left\", bbox_to_anchor=(1, 1))\n",
    "# g.set(ylim=(0, 1))\n",
    "g.fig.suptitle(f\"BSE Classical Testing\")\n",
    "# plt.title(f\"{name}\")\n",
    "plt.tight_layout()\n",
    "plt.savefig(f'BSE.png',dpi=300,bbox_inches='tight')\n",
    "plt.show()"
   ]
  },
  {
   "cell_type": "code",
   "execution_count": null,
   "id": "cd79bccc-68d5-4f57-ab4f-2c7da1e6146c",
   "metadata": {},
   "outputs": [],
   "source": []
  }
 ],
 "metadata": {
  "kernelspec": {
   "display_name": "Python 3 (ipykernel)",
   "language": "python",
   "name": "python3"
  },
  "language_info": {
   "codemirror_mode": {
    "name": "ipython",
    "version": 3
   },
   "file_extension": ".py",
   "mimetype": "text/x-python",
   "name": "python",
   "nbconvert_exporter": "python",
   "pygments_lexer": "ipython3",
   "version": "3.12.4"
  }
 },
 "nbformat": 4,
 "nbformat_minor": 5
}
