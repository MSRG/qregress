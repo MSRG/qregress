{
 "cells": [
  {
   "cell_type": "code",
   "execution_count": 1,
   "id": "67115fbb-34c5-4281-a97a-821d2fba9ed1",
   "metadata": {},
   "outputs": [],
   "source": [
    "import sys\n",
    "# !{sys.executable} -m pip install shap\n",
    "from glob import glob\n",
    "import numpy as np\n",
    "import joblib\n",
    "import os\n",
    "import pandas as pd\n",
    "import json\n",
    "\n",
    "import time\n",
    "import matplotlib.pyplot as plt\n",
    "\n",
    "from sklearn.model_selection import train_test_split\n",
    "from sklearn.ensemble import RandomForestRegressor, GradientBoostingRegressor\n",
    "from sklearn.gaussian_process import GaussianProcessRegressor\n",
    "from sklearn.gaussian_process.kernels import RBF\n",
    "from sklearn.kernel_ridge import KernelRidge\n",
    "from sklearn.linear_model import Ridge, Lasso, ElasticNet\n",
    "from sklearn.neighbors import KNeighborsRegressor\n",
    "from sklearn.model_selection import GridSearchCV\n",
    "from sklearn.svm import SVR\n",
    "from sklearn.decomposition import PCA\n",
    "from sklearn.metrics import mean_squared_error, r2_score, mean_absolute_error\n",
    "\n",
    "from tqdm.notebook import tqdm\n",
    "import seaborn as sns\n",
    "from collections import Counter\n",
    "\n",
    "# SHAP\n",
    "import shap"
   ]
  },
  {
   "cell_type": "code",
   "execution_count": 2,
   "id": "61f67d6c-4173-4aa7-a627-f8ca7f9874a0",
   "metadata": {},
   "outputs": [],
   "source": [
    "# glob(os.path.join(os.path.dirname(os.path.dirname(os.getcwd())),'database','*.csv.gz'))"
   ]
  },
  {
   "cell_type": "code",
   "execution_count": null,
   "id": "e2d3c7bf-4598-4d8b-a13c-b275c3829059",
   "metadata": {},
   "outputs": [],
   "source": []
  },
  {
   "cell_type": "code",
   "execution_count": 3,
   "id": "4776c485-4e86-4ebf-823f-d40fbf924167",
   "metadata": {},
   "outputs": [],
   "source": [
    "trainsize=[ 0.1,0.3, 0.5, 0.7,0.8]"
   ]
  },
  {
   "cell_type": "code",
   "execution_count": 4,
   "id": "528a1e7d-e689-43af-8ff7-2b77c338b8db",
   "metadata": {},
   "outputs": [],
   "source": [
    "\n",
    "\n",
    "gaussian_kernel = RBF()\n",
    "\n",
    "# remove basic linear models (ridge, lasso, elastic) and expensive models (gpr)\n",
    "\n",
    "models = {\n",
    "    # 'ridge': Ridge(),\n",
    "    # 'lasso': Lasso(),\n",
    "    # 'elastic': ElasticNet(),\n",
    "    'knn': KNeighborsRegressor(),\n",
    "    'rfr': RandomForestRegressor(),\n",
    "    # 'grad': GradientBoostingRegressor(),\n",
    "    # 'svr': SVR(),\n",
    "    'krr': KernelRidge(),\n",
    "    # 'gpr': GaussianProcessRegressor()\n",
    "}\n",
    "\n",
    "param_grid = {\n",
    "    'ridge': {\n",
    "        'alpha': [0.001, 0.01, 0.1, 1, 10, 50, 100, 1000]\n",
    "    },\n",
    "    'knn': {\n",
    "        'n_neighbors': [1,5,10],\n",
    "        'weights': ['uniform', 'distance']\n",
    "    },\n",
    "    'rfr': {\n",
    "        'n_estimators': [100, 200, 300],\n",
    "        'max_depth': [None, 5, 10],\n",
    "        'min_samples_split': [2, 5, 10]\n",
    "    },\n",
    "    'grad': {\n",
    "        'n_estimators': [100, 200, 300],\n",
    "        'learning_rate': [0.1, 0.01, 0.001],\n",
    "        'max_depth': [3, 5, 7]\n",
    "    },\n",
    "    'svr': {\n",
    "        'kernel': ['linear', 'rbf'],\n",
    "        'C': [0.1, 1, 10],\n",
    "        'epsilon': [0.1, 0.01, 0.001]\n",
    "    },\n",
    "    'krr': {\n",
    "        'kernel': ['linear', 'laplacian', 'rbf'],\n",
    "        'alpha': [0.001, 0.01, 0.1, 1],\n",
    "        'gamma': [1, 0.1, 0.01, 0.001]\n",
    "    },\n",
    "    'gpr': {\n",
    "        'alpha': [0.0001, 0.001, 0.01, 0.1, 1],\n",
    "        'kernel': [gaussian_kernel]\n",
    "    },\n",
    "    'lasso': {\n",
    "        'alpha': [0.001, 0.01, 0.1, 1],\n",
    "        'max_iter': [1000, 2000, 3000]\n",
    "    },\n",
    "    'elastic': {\n",
    "        'alpha': [0.001, 0.01, 0.1, 1],\n",
    "        'l1_ratio': [0.2, 0.5, 0.8],\n",
    "        'max_iter': [1000, 2000, 3000]\n",
    "    }\n",
    "}\n"
   ]
  },
  {
   "cell_type": "code",
   "execution_count": 5,
   "id": "c7c94630-aba5-43bf-80a2-a0d7174983a4",
   "metadata": {},
   "outputs": [],
   "source": [
    "def gridsearch(model,X_tr, y_tr,X_tst,y_tst):\n",
    "    \"\"\"\n",
    "    Perform GridSearchCV for a given model\n",
    "\n",
    "    parameters\n",
    "    ----------\n",
    "    model: str\n",
    "        Name of model\n",
    "\n",
    "    X_tr: np.array\n",
    "        X training\n",
    "\n",
    "    y_tr: np.array\n",
    "        Y Training\n",
    "\n",
    "    X_tst: np.array\n",
    "        X test\n",
    "\n",
    "    y_tst: np.array\n",
    "        y test\n",
    "\n",
    "    Returns\n",
    "    -------\n",
    "    scores: dict\n",
    "        scored models\n",
    "    \"\"\"\n",
    "    st = time.time()\n",
    "    # Grab model and model parameters to perform gridsearchcv\n",
    "    current_model = models[model]\n",
    "    current_param_grid = param_grid[model]\n",
    "\n",
    "    grid_search = GridSearchCV(current_model, current_param_grid, cv=5,n_jobs=-1)\n",
    "\n",
    "    print(f'Now fitting {model}... ')\n",
    "\n",
    "    grid_search.fit(X_tr, y_tr)\n",
    "\n",
    "    best_model = grid_search.best_estimator_\n",
    "\n",
    "    print(f'Completed fitting {model} in {time.time() - st:.4f} seconds. ')\n",
    "\n",
    "    # Take the best model and evaluate using known metrics\n",
    "    model=best_model\n",
    "    scores = {}\n",
    "    st = time.time()\n",
    "    print('Now scoring model... ')\n",
    "    y_tr_pred = model.predict(X_tr)\n",
    "    y_tst_pred = model.predict(X_tst)\n",
    "\n",
    "    # plt.scatter(y_tr,y_tr_pred)\n",
    "    # plt.scatter(y_tst,y_tst_pred)\n",
    "    # plt.scatter(y_tr, y_tr)\n",
    "    # plt.scatter(y_tst,y_tst)\n",
    "    # plt.show()\n",
    "            \n",
    "    scores['MSE_train'] = mean_squared_error(y_tr, y_tr_pred),\n",
    "    scores['R2_train'] = r2_score(y_tr, y_tr_pred)\n",
    "    scores['MAE_train'] = mean_absolute_error(y_tr, y_tr_pred)\n",
    "    \n",
    "    scores['MSE_test'] = mean_squared_error(y_tst, y_tst_pred)\n",
    "    scores['R2_test'] = r2_score(y_tst, y_tst_pred)\n",
    "    scores['MAE_test'] = mean_absolute_error(y_tst, y_tst_pred)\n",
    "    print(f\"Train R2 {scores['R2_train']:.4f}\")\n",
    "    print(f\"Test R2 {scores['R2_test']:.4f}\")\n",
    "    print(f\"Train MAE {scores['MAE_train']:.4f}\")\n",
    "    print(f\"Test MAE {scores['MAE_test']:.4f}\")\n",
    "    print()\n",
    "    return scores, best_model\n",
    "\n"
   ]
  },
  {
   "cell_type": "code",
   "execution_count": 6,
   "id": "5e389523-eb01-46c8-a286-90714b0ec83e",
   "metadata": {},
   "outputs": [
    {
     "name": "stdout",
     "output_type": "stream",
     "text": [
      "Start: CM_AB\n",
      "42\n",
      "Now fitting knn... \n",
      "Completed fitting knn in 0.8859 seconds. \n",
      "Now scoring model... \n",
      "Train R2 0.9879\n",
      "Test R2 0.2763\n",
      "Train MAE 0.6212\n",
      "Test MAE 16.8484\n",
      "\n",
      "knn 1.0121029170004476\n",
      "Now fitting rfr... \n",
      "Completed fitting rfr in 43.4519 seconds. \n",
      "Now scoring model... \n",
      "Train R2 0.8903\n",
      "Test R2 0.4014\n",
      "Train MAE 6.3189\n",
      "Test MAE 15.5350\n",
      "\n",
      "rfr 43.583107124999515\n",
      "Now fitting krr... \n"
     ]
    },
    {
     "name": "stderr",
     "output_type": "stream",
     "text": [
      "/Users/grierjones/miniconda3/lib/python3.12/site-packages/joblib/externals/loky/process_executor.py:700: UserWarning: A worker stopped while some jobs were given to the executor. This can be caused by a too short worker timeout or by a memory leak.\n",
      "  warnings.warn(\n"
     ]
    },
    {
     "name": "stdout",
     "output_type": "stream",
     "text": [
      "Completed fitting krr in 10.9463 seconds. \n",
      "Now scoring model... \n",
      "Train R2 0.8405\n",
      "Test R2 0.3970\n",
      "Train MAE 7.9196\n",
      "Test MAE 15.6341\n",
      "\n",
      "krr 11.251166959002148\n",
      "Overall 55.85\n",
      "\n",
      "Start: CM_sub\n",
      "42\n",
      "Now fitting knn... \n",
      "Completed fitting knn in 0.4007 seconds. \n",
      "Now scoring model... \n",
      "Train R2 1.0000\n",
      "Test R2 0.3691\n",
      "Train MAE 0.0000\n",
      "Test MAE 15.4381\n",
      "\n",
      "knn 0.45804766599758295\n",
      "Now fitting rfr... \n"
     ]
    },
    {
     "name": "stderr",
     "output_type": "stream",
     "text": [
      "/Users/grierjones/miniconda3/lib/python3.12/site-packages/joblib/externals/loky/process_executor.py:700: UserWarning: A worker stopped while some jobs were given to the executor. This can be caused by a too short worker timeout or by a memory leak.\n",
      "  warnings.warn(\n"
     ]
    },
    {
     "name": "stdout",
     "output_type": "stream",
     "text": [
      "Completed fitting rfr in 45.3082 seconds. \n",
      "Now scoring model... \n",
      "Train R2 0.9221\n",
      "Test R2 0.4340\n",
      "Train MAE 5.2216\n",
      "Test MAE 14.3435\n",
      "\n",
      "rfr 45.42147779199877\n",
      "Now fitting krr... \n"
     ]
    },
    {
     "name": "stderr",
     "output_type": "stream",
     "text": [
      "/Users/grierjones/miniconda3/lib/python3.12/site-packages/joblib/externals/loky/process_executor.py:700: UserWarning: A worker stopped while some jobs were given to the executor. This can be caused by a too short worker timeout or by a memory leak.\n",
      "  warnings.warn(\n"
     ]
    },
    {
     "name": "stdout",
     "output_type": "stream",
     "text": [
      "Completed fitting krr in 10.5114 seconds. \n",
      "Now scoring model... \n",
      "Train R2 0.7827\n",
      "Test R2 0.4174\n",
      "Train MAE 9.0195\n",
      "Test MAE 15.1581\n",
      "\n",
      "krr 10.825183833003393\n",
      "Overall 56.70\n",
      "\n",
      "\n",
      "Start: MACCS_AB\n",
      "167\n",
      "Now fitting knn... \n",
      "Completed fitting knn in 0.3655 seconds. \n",
      "Now scoring model... \n",
      "Train R2 0.7561\n",
      "Test R2 0.6014\n",
      "Train MAE 9.5440\n",
      "Test MAE 12.4061\n",
      "\n",
      "knn 0.5784150830004364\n",
      "Now fitting rfr... \n"
     ]
    },
    {
     "name": "stderr",
     "output_type": "stream",
     "text": [
      "/Users/grierjones/miniconda3/lib/python3.12/site-packages/joblib/externals/loky/process_executor.py:700: UserWarning: A worker stopped while some jobs were given to the executor. This can be caused by a too short worker timeout or by a memory leak.\n",
      "  warnings.warn(\n"
     ]
    },
    {
     "name": "stdout",
     "output_type": "stream",
     "text": [
      "Completed fitting rfr in 21.7963 seconds. \n",
      "Now scoring model... \n",
      "Train R2 0.9085\n",
      "Test R2 0.7293\n",
      "Train MAE 5.0840\n",
      "Test MAE 9.5834\n",
      "\n",
      "rfr 21.838314582997555\n",
      "Now fitting krr... \n"
     ]
    },
    {
     "name": "stderr",
     "output_type": "stream",
     "text": [
      "/Users/grierjones/miniconda3/lib/python3.12/site-packages/joblib/externals/loky/process_executor.py:700: UserWarning: A worker stopped while some jobs were given to the executor. This can be caused by a too short worker timeout or by a memory leak.\n",
      "  warnings.warn(\n"
     ]
    },
    {
     "name": "stdout",
     "output_type": "stream",
     "text": [
      "Completed fitting krr in 17.4424 seconds. \n",
      "Now scoring model... \n",
      "Train R2 0.8567\n",
      "Test R2 0.7380\n",
      "Train MAE 7.2451\n",
      "Test MAE 10.2902\n",
      "\n",
      "krr 18.781463167000766\n",
      "Overall 41.20\n",
      "\n",
      "Start: MACCS_sub\n",
      "167\n",
      "Now fitting knn... \n",
      "Completed fitting knn in 0.3498 seconds. \n",
      "Now scoring model... \n",
      "Train R2 0.8615\n",
      "Test R2 0.7026\n",
      "Train MAE 5.5680\n",
      "Test MAE 10.3429\n",
      "\n",
      "knn 0.5741652919969056\n",
      "Now fitting rfr... \n",
      "Completed fitting rfr in 19.2915 seconds. \n",
      "Now scoring model... \n",
      "Train R2 0.8498\n",
      "Test R2 0.7484\n",
      "Train MAE 6.9259\n",
      "Test MAE 9.6618\n",
      "\n",
      "rfr 19.386406000001443\n",
      "Now fitting krr... \n"
     ]
    },
    {
     "name": "stderr",
     "output_type": "stream",
     "text": [
      "/Users/grierjones/miniconda3/lib/python3.12/site-packages/joblib/externals/loky/process_executor.py:700: UserWarning: A worker stopped while some jobs were given to the executor. This can be caused by a too short worker timeout or by a memory leak.\n",
      "  warnings.warn(\n"
     ]
    },
    {
     "name": "stdout",
     "output_type": "stream",
     "text": [
      "Completed fitting krr in 16.9327 seconds. \n",
      "Now scoring model... \n",
      "Train R2 0.8319\n",
      "Test R2 0.7520\n",
      "Train MAE 7.5490\n",
      "Test MAE 9.9842\n",
      "\n",
      "krr 18.27896120800142\n",
      "Overall 38.24\n",
      "\n",
      "\n",
      "Start: PI_AB\n",
      "400\n",
      "Now fitting knn... \n"
     ]
    },
    {
     "name": "stderr",
     "output_type": "stream",
     "text": [
      "/Users/grierjones/miniconda3/lib/python3.12/site-packages/joblib/externals/loky/process_executor.py:700: UserWarning: A worker stopped while some jobs were given to the executor. This can be caused by a too short worker timeout or by a memory leak.\n",
      "  warnings.warn(\n"
     ]
    },
    {
     "name": "stdout",
     "output_type": "stream",
     "text": [
      "Completed fitting knn in 0.4096 seconds. \n",
      "Now scoring model... \n",
      "Train R2 0.0336\n",
      "Test R2 -0.0377\n",
      "Train MAE 20.0354\n",
      "Test MAE 21.5231\n",
      "\n",
      "knn 0.8485461660020519\n",
      "Now fitting rfr... \n",
      "Completed fitting rfr in 44.9941 seconds. \n",
      "Now scoring model... \n",
      "Train R2 0.0266\n",
      "Test R2 -0.0124\n",
      "Train MAE 19.7779\n",
      "Test MAE 20.7729\n",
      "\n",
      "rfr 45.014637624997704\n",
      "Now fitting krr... \n"
     ]
    },
    {
     "name": "stderr",
     "output_type": "stream",
     "text": [
      "/Users/grierjones/miniconda3/lib/python3.12/site-packages/joblib/externals/loky/process_executor.py:700: UserWarning: A worker stopped while some jobs were given to the executor. This can be caused by a too short worker timeout or by a memory leak.\n",
      "  warnings.warn(\n"
     ]
    },
    {
     "name": "stdout",
     "output_type": "stream",
     "text": [
      "Completed fitting krr in 31.9160 seconds. \n",
      "Now scoring model... \n",
      "Train R2 0.0035\n",
      "Test R2 -0.0058\n",
      "Train MAE 20.0224\n",
      "Test MAE 20.7070\n",
      "\n",
      "krr 35.23100041699945\n",
      "Overall 81.09\n",
      "\n",
      "Start: PI_sub\n",
      "\n",
      "\n",
      "Start: RDKit_AB\n",
      "2048\n",
      "Now fitting knn... \n"
     ]
    },
    {
     "name": "stderr",
     "output_type": "stream",
     "text": [
      "/Users/grierjones/miniconda3/lib/python3.12/site-packages/joblib/externals/loky/process_executor.py:700: UserWarning: A worker stopped while some jobs were given to the executor. This can be caused by a too short worker timeout or by a memory leak.\n",
      "  warnings.warn(\n"
     ]
    },
    {
     "name": "stdout",
     "output_type": "stream",
     "text": [
      "Completed fitting knn in 1.1043 seconds. \n",
      "Now scoring model... \n",
      "Train R2 0.6631\n",
      "Test R2 0.4439\n",
      "Train MAE 11.1637\n",
      "Test MAE 14.4548\n",
      "\n",
      "knn 1.6247245419981482\n",
      "Now fitting rfr... \n"
     ]
    },
    {
     "name": "stderr",
     "output_type": "stream",
     "text": [
      "/Users/grierjones/miniconda3/lib/python3.12/site-packages/joblib/externals/loky/process_executor.py:700: UserWarning: A worker stopped while some jobs were given to the executor. This can be caused by a too short worker timeout or by a memory leak.\n",
      "  warnings.warn(\n"
     ]
    },
    {
     "name": "stdout",
     "output_type": "stream",
     "text": [
      "Completed fitting rfr in 775.9176 seconds. \n",
      "Now scoring model... \n",
      "Train R2 0.9170\n",
      "Test R2 0.6015\n",
      "Train MAE 5.2862\n",
      "Test MAE 12.1777\n",
      "\n",
      "rfr 776.0745715839985\n",
      "Now fitting krr... \n"
     ]
    },
    {
     "name": "stderr",
     "output_type": "stream",
     "text": [
      "/Users/grierjones/miniconda3/lib/python3.12/site-packages/joblib/externals/loky/process_executor.py:700: UserWarning: A worker stopped while some jobs were given to the executor. This can be caused by a too short worker timeout or by a memory leak.\n",
      "  warnings.warn(\n",
      "Process LokyProcess-42:\n",
      "\n",
      "KeyboardInterrupt\n",
      "\n"
     ]
    }
   ],
   "source": [
    "Y=pd.read_csv(os.path.join(os.path.dirname(os.path.dirname(os.getcwd())),'database','y.csv.gz'), compression='gzip',index_col=0)\n",
    "Reps=['CM', 'MACCS', 'PI', 'RDKit', 'Morgan', 'SOAP']\n",
    "divisions=[\"AB\",\"sub\"]\n",
    "\n",
    "test_models_out={}\n",
    "for r in Reps:\n",
    "    test_models_out[r]={}\n",
    "    for d in divisions:\n",
    "        test_models_out[r][d]={}\n",
    "        print(f'Start: {r}_{d}')\n",
    "        X_path=os.path.join(os.path.dirname(os.path.dirname(os.getcwd())),'database',f'{r}_{d}.csv.gz')\n",
    "        if os.path.exists(X_path):\n",
    "            X=pd.read_csv(X_path, compression='gzip',index_col=0)\n",
    "            print(X.shape[1])\n",
    "            train,test=train_test_split(list(X.index), train_size=0.8,test_size=0.2,random_state=42)\n",
    "            X_train, X_test, y_train, y_test = X.loc[train].to_numpy(), X.loc[test].to_numpy(), Y.loc[train].to_numpy().flatten(), Y.loc[test].to_numpy().flatten()\n",
    "    \n",
    "            scoring={}\n",
    "            t0_init=time.perf_counter()\n",
    "            for m in models.keys():\n",
    "                t0=time.perf_counter()\n",
    "                scores,model=gridsearch(m,X_train, y_train,X_test,y_test)\n",
    "                tf=time.perf_counter()-t0\n",
    "                scores['timing']=tf\n",
    "                scoring[m]=scores\n",
    "                print(m,tf)\n",
    "            print(f\"Overall {time.perf_counter()-t0_init:.2f}\")\n",
    "            stat_df=pd.concat([pd.DataFrame.from_dict(v).rename(index={0:k}) for k,v in scoring.items()])\n",
    "            test_models_out[r][d]=stat_df\n",
    "        print()\n",
    "    print()"
   ]
  },
  {
   "cell_type": "code",
   "execution_count": null,
   "id": "be3662af-3bee-4193-a963-a0377e5c1f0d",
   "metadata": {
    "scrolled": true
   },
   "outputs": [],
   "source": []
  },
  {
   "cell_type": "code",
   "execution_count": null,
   "id": "df2133c3-0faa-490e-84ab-04beefdaf9f2",
   "metadata": {},
   "outputs": [],
   "source": [
    "def test_shap(n_feats,model):\n",
    "    \"\"\"\n",
    "    Test dimensionality reduction using SHapely Additive Explanations (SHAP)\n",
    "    \n",
    "    params\n",
    "    ------\n",
    "    n_feats: int\n",
    "        Number of best features to reduce too\n",
    "        \n",
    "    model: str\n",
    "        Model to test\n",
    "\n",
    "    returns\n",
    "    -------\n",
    "    scores: dict\n",
    "        Dictionary containing evaluation metrics\n",
    "\n",
    "    model: trained model\n",
    "    \n",
    "    \"\"\"\n",
    "    SHAPX=X.iloc[:,sorted_cols[-n_feats:]]\n",
    "    \n",
    "    X_train, X_test, y_train, y_test = SHAPX.loc[train].to_numpy(), SHAPX.loc[test].to_numpy(), Y.loc[train].to_numpy(), Y.loc[test].to_numpy()\n",
    "    scores,model=gridsearch(model,X_train, y_train,X_test,y_test)\n",
    "    return scores,model\n",
    "    "
   ]
  },
  {
   "cell_type": "code",
   "execution_count": null,
   "id": "016a0115-7aa5-413c-bc8d-2a6a264cb7b9",
   "metadata": {},
   "outputs": [],
   "source": [
    "def test_pca(components,model):\n",
    "    \"\"\"\n",
    "    Test dimensionality reduction using principal component analysis (PCA)\n",
    "    \n",
    "    params\n",
    "    ------\n",
    "    components: int\n",
    "        Number of dimensions to reduce too\n",
    "        \n",
    "    model: str\n",
    "        Model to test\n",
    "\n",
    "    returns\n",
    "    -------\n",
    "    scores: dict\n",
    "        Dictionary containing evaluation metrics\n",
    "\n",
    "    model: trained model\n",
    "    \n",
    "    \"\"\"\n",
    "    pca = PCA(n_components=components)\n",
    "    X_train, X_test, y_train, y_test = pca.fit_transform(X.loc[train]), pca.transform(X.loc[test]), Y.loc[train].to_numpy(), Y.loc[test].to_numpy()\n",
    "    scores,model=gridsearch(model,X_train, y_train,X_test,y_test)\n",
    "    \n",
    "    return scores,model\n",
    "    "
   ]
  },
  {
   "cell_type": "code",
   "execution_count": null,
   "id": "9e91f9e4-afd1-4ec9-988e-cef8b2626ac6",
   "metadata": {},
   "outputs": [],
   "source": [
    "\n",
    "# sns.barplot(data=stat_df['timing'].reset_index().melt(id_vars='index',value_vars=['timing']),x='index',y='value',hue='variable')\n",
    "# sns.barplot(data=stat_df[['R2_train','R2_test']].reset_index().melt(id_vars='index',value_vars=['R2_train','R2_test']),x='index',y='value',hue='variable')\n"
   ]
  },
  {
   "cell_type": "code",
   "execution_count": null,
   "id": "a2799bab-8cd2-4491-b71f-51f2670ae906",
   "metadata": {},
   "outputs": [],
   "source": [
    "model='krr'\n",
    "n_feats=5\n",
    "components=5\n",
    "\n",
    "# # Normal\n",
    "# scores,model=run_regular(model)\n",
    "\n",
    "# # SHAP\n",
    "# explainer = shap.Explainer(model.predict, X_test,n_jobs=-1)\n",
    "# shap_values = explainer(X)\n",
    "# shap.plots.bar(shap_values,max_display=16)\n",
    "for i in [5,16]:\n",
    "    sorted_cols=np.argsort(np.mean(np.abs(shap_values.values),axis=0))\n",
    "    shap_scores,shap_model=test_shap(i,model)\n",
    "    \n",
    "    #PCA\n",
    "    pca_scores,pca_model=test_pca(i,model)"
   ]
  },
  {
   "cell_type": "code",
   "execution_count": null,
   "id": "22635b01-f956-4975-8733-16afe5b90b69",
   "metadata": {},
   "outputs": [],
   "source": []
  }
 ],
 "metadata": {
  "kernelspec": {
   "display_name": "Python 3 (ipykernel)",
   "language": "python",
   "name": "python3"
  },
  "language_info": {
   "codemirror_mode": {
    "name": "ipython",
    "version": 3
   },
   "file_extension": ".py",
   "mimetype": "text/x-python",
   "name": "python",
   "nbconvert_exporter": "python",
   "pygments_lexer": "ipython3",
   "version": "3.12.2"
  }
 },
 "nbformat": 4,
 "nbformat_minor": 5
}
