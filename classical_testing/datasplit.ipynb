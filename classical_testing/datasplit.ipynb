{
 "cells": [
  {
   "cell_type": "code",
   "execution_count": 1,
   "id": "7f17c4e4-a535-47b9-940d-acb1c3085816",
   "metadata": {},
   "outputs": [],
   "source": [
    "import sys\n",
    "# !{sys.executable} -m pip install tqdm seaborn \n",
    "from glob import glob\n",
    "import numpy as np\n",
    "import joblib\n",
    "import os\n",
    "import pandas as pd\n",
    "import json\n",
    "\n",
    "import time\n",
    "import matplotlib.pyplot as plt\n",
    "\n",
    "from sklearn.model_selection import train_test_split\n",
    "from sklearn.ensemble import RandomForestRegressor, GradientBoostingRegressor\n",
    "from sklearn.gaussian_process import GaussianProcessRegressor\n",
    "from sklearn.gaussian_process.kernels import RBF\n",
    "from sklearn.kernel_ridge import KernelRidge\n",
    "from sklearn.linear_model import Ridge, Lasso, ElasticNet\n",
    "from sklearn.neighbors import KNeighborsRegressor\n",
    "from sklearn.model_selection import GridSearchCV\n",
    "from sklearn.svm import SVR\n",
    "from sklearn.metrics import mean_squared_error, r2_score, mean_absolute_error\n",
    "\n",
    "from tqdm.notebook import tqdm\n",
    "import seaborn as sns\n",
    "from collections import Counter"
   ]
  },
  {
   "cell_type": "markdown",
   "id": "d330a7ab-a205-4384-bd34-d31df7a682be",
   "metadata": {},
   "source": [
    "Fix training and test set!"
   ]
  },
  {
   "cell_type": "code",
   "execution_count": 2,
   "id": "6f3d71b3-0738-4c8b-99a6-171df5c76390",
   "metadata": {},
   "outputs": [],
   "source": [
    "\n",
    "\n",
    "gaussian_kernel = RBF()\n",
    "\n",
    "models = {\n",
    "    'ridge': Ridge(),\n",
    "    'lasso': Lasso(),\n",
    "    'elastic': ElasticNet(),\n",
    "    'knn': KNeighborsRegressor(),\n",
    "    'rfr': RandomForestRegressor(),\n",
    "    'grad': GradientBoostingRegressor(),\n",
    "    'svr': SVR(),\n",
    "    'krr': KernelRidge(),\n",
    "    'gpr': GaussianProcessRegressor()\n",
    "}\n",
    "\n",
    "param_grid = {\n",
    "    'ridge': {\n",
    "        'alpha': [0.001, 0.01, 0.1, 1, 10, 50, 100, 1000]\n",
    "    },\n",
    "    'knn': {\n",
    "        'n_neighbors': range(1, 10),\n",
    "        'weights': ['uniform', 'distance']\n",
    "    },\n",
    "    'rfr': {\n",
    "        'n_estimators': [100, 200, 300],\n",
    "        'max_depth': [None, 5, 10],\n",
    "        'min_samples_split': [2, 5, 10]\n",
    "    },\n",
    "    'grad': {\n",
    "        'n_estimators': [100, 200, 300],\n",
    "        'learning_rate': [0.1, 0.01, 0.001],\n",
    "        'max_depth': [3, 5, 7]\n",
    "    },\n",
    "    'svr': {\n",
    "        'kernel': ['linear', 'rbf'],\n",
    "        'C': [0.1, 1, 10],\n",
    "        'epsilon': [0.1, 0.01, 0.001]\n",
    "    },\n",
    "    'krr': {\n",
    "        'kernel': ['linear', 'poly', 'rbf'],\n",
    "        'alpha': [0.001, 0.01, 0.1, 1],\n",
    "        'gamma': [1, 0.1, 0.01, 0.001]\n",
    "    },\n",
    "    'gpr': {\n",
    "        'alpha': [0.0001, 0.001, 0.01, 0.1, 1],\n",
    "        'kernel': [gaussian_kernel]\n",
    "    },\n",
    "    'lasso': {\n",
    "        'alpha': [0.001, 0.01, 0.1, 1],\n",
    "        'max_iter': [1000, 2000, 3000]\n",
    "    },\n",
    "    'elastic': {\n",
    "        'alpha': [0.001, 0.01, 0.1, 1],\n",
    "        'l1_ratio': [0.2, 0.5, 0.8],\n",
    "        'max_iter': [1000, 2000, 3000]\n",
    "    }\n",
    "}\n"
   ]
  },
  {
   "cell_type": "code",
   "execution_count": 3,
   "id": "f4dbc2c7-5b1e-4685-a922-3a812a7fb66f",
   "metadata": {},
   "outputs": [],
   "source": [
    "def gridsearch(model,X_tr, y_tr,X_tst,y_tst):\n",
    "    \"\"\"\n",
    "    Perform GridSearchCV for a given model\n",
    "\n",
    "    parameters\n",
    "    ----------\n",
    "    model: str\n",
    "        Name of model\n",
    "\n",
    "    X_tr: np.array\n",
    "        X training\n",
    "\n",
    "    y_tr: np.array\n",
    "        Y Training\n",
    "\n",
    "    X_tst: np.array\n",
    "        X test\n",
    "\n",
    "    y_tst: np.array\n",
    "        y test\n",
    "\n",
    "    Returns\n",
    "    -------\n",
    "    scores: dict\n",
    "        scored models\n",
    "    \"\"\"\n",
    "    st = time.time()\n",
    "    current_model = models[model]\n",
    "    current_param_grid = param_grid[model]\n",
    "\n",
    "    grid_search = GridSearchCV(current_model, current_param_grid, cv=5,n_jobs=-1)\n",
    "\n",
    "    print(f'Now fitting {model}... ')\n",
    "\n",
    "    grid_search.fit(X_tr, y_tr)\n",
    "\n",
    "    best_model = grid_search.best_estimator_\n",
    "\n",
    "    print(f'Completed fitting {model} in {time.time() - st} seconds. ')\n",
    "\n",
    "    model=best_model\n",
    "    scores = {}\n",
    "    st = time.time()\n",
    "    print('Now scoring model... ')\n",
    "    y_tr_pred = model.predict(X_tr)\n",
    "    y_tst_pred = model.predict(X_tst)\n",
    "            \n",
    "    scores['MSE_train'] = mean_squared_error(y_tr, y_tr_pred),\n",
    "    scores['R2_train'] = r2_score(y_tr, y_tr_pred)\n",
    "    scores['MAE_train'] = mean_absolute_error(y_tr, y_tr_pred)\n",
    "    scores['MSE_test'] = mean_squared_error(y_tst, y_tst_pred)\n",
    "    scores['R2_test'] = r2_score(y_tst, y_tst_pred)\n",
    "    scores['MAE_test'] = mean_absolute_error(y_tst, y_tst_pred)\n",
    "\n",
    "    return scores\n",
    "\n"
   ]
  },
  {
   "cell_type": "code",
   "execution_count": 4,
   "id": "5f839476-68b9-471f-8341-1d4d7caaacee",
   "metadata": {},
   "outputs": [],
   "source": [
    "# data=pd.read_csv(f'/Users/grierjones/qregress/function-calc-test/linear/linear.csv')\n",
    "# x=data['x'].to_numpy().reshape(-1,1)\n",
    "# y=data['y'].to_numpy().reshape(-1,1)\n",
    "# X_train, X_test, y_train, y_test = train_test_split(x, y, train_size=0.8,test_size=20)\n"
   ]
  },
  {
   "cell_type": "code",
   "execution_count": 5,
   "id": "de85b69d-3652-471d-9600-7ebdd7dc7eba",
   "metadata": {},
   "outputs": [],
   "source": [
    "dirs=['quadratic','linear','sine']\n",
    "trainsize=[0.3, 0.5, 0.7, 0.8, 0.1]"
   ]
  },
  {
   "cell_type": "code",
   "execution_count": 14,
   "id": "66395f43-cff6-44b4-a855-9e6d51e875ab",
   "metadata": {},
   "outputs": [],
   "source": [
    "traindata=joblib.load(f'/Users/grierjones/qregress/function-calc-test/linear/linear_train.bin')\n",
    "testdata=joblib.load(f'/Users/grierjones/qregress/function-calc-test/linear/linear_test.bin')\n",
    "valdata=joblib.load(f'/Users/grierjones/qregress/function-calc-test/linear/linear_validate.bin')"
   ]
  },
  {
   "cell_type": "code",
   "execution_count": null,
   "id": "8bde43b8-f746-42b6-af04-fe5a5bd9223a",
   "metadata": {},
   "outputs": [],
   "source": []
  },
  {
   "cell_type": "code",
   "execution_count": 15,
   "id": "982446c8-76ae-46c0-ac82-be0b135ce7d2",
   "metadata": {},
   "outputs": [
    {
     "data": {
      "text/plain": [
       "(10, 1)"
      ]
     },
     "execution_count": 15,
     "metadata": {},
     "output_type": "execute_result"
    }
   ],
   "source": [
    "valdata['X'].shape"
   ]
  },
  {
   "cell_type": "code",
   "execution_count": null,
   "id": "68de4bfe-b9bc-4118-8e35-6e19195a8331",
   "metadata": {
    "scrolled": true
   },
   "outputs": [],
   "source": [
    "performance={}\n",
    "\n",
    "for d in tqdm(dirs):\n",
    "    data=pd.read_csv(f'/Users/grierjones/qregress/function-calc-test/{d}/{d}.csv')\n",
    "    x=data['x'].to_numpy().reshape(-1,1)\n",
    "    y=data['y'].to_numpy().reshape(-1,1)\n",
    "    performance[d]={}\n",
    "    X_train_O, X_test, y_train_O, y_test = train_test_split(x, y, train_size=80,test_size=20,random_state=42)\n",
    "    for ts in tqdm(trainsize):\n",
    "        \n",
    "        train, _=train_test_split(range(len(X_train_O)), train_size=ts,random_state=42)\n",
    "        X_train=X_train_O[train]\n",
    "        y_train=y_train_O[train]\n",
    "        train_name = os.path.join(d,'All',f\"{ts}\",f\"{d}_train.bin\")\n",
    "        test_name = os.path.join(d,'All',f\"{ts}\",f\"{d}_test.bin\")\n",
    "        print(train_name,test_name)\n",
    "        train = {\n",
    "            'X': X_train,\n",
    "            'y': y_train\n",
    "        }\n",
    "        \n",
    "        test = {\n",
    "            'X': X_test,\n",
    "            'y': y_test\n",
    "        }\n",
    "        \n",
    "        \n",
    "        joblib.dump(train, train_name)\n",
    "        joblib.dump(test, test_name)\n",
    "        performance[d][ts]={}\n",
    "        for model in models.keys():\n",
    "            scores=gridsearch(model,X_train, y_train,X_test,y_test)\n",
    "            performance[d][ts][model]=scores\n",
    "                \n",
    "            with open(os.path.join(d,'All',f\"{ts}\",f'{model}_scores.json'), 'w') as outfile:\n",
    "                json.dump(scores, outfile)\n",
    "                print(f'Scores saved as {outfile.name}. ')"
   ]
  },
  {
   "cell_type": "code",
   "execution_count": null,
   "id": "008b4e8a-0f16-4298-98af-9dbaed45f118",
   "metadata": {},
   "outputs": [],
   "source": [
    "def find_best(function):\n",
    "    \"\"\"\n",
    "    Parameters\n",
    "    ----------\n",
    "    function: str\n",
    "\n",
    "    returns\n",
    "    -------\n",
    "    best: tuple\n",
    "        (model, count)\n",
    "    \"\"\"\n",
    "    scoredf=sum([pd.DataFrame.from_dict(v).loc[['R2_train','R2_test']].astype(float) for k,v in performance[function].items()])/len(performance['linear'])\n",
    "    scoredf.loc['absdiff']=(scoredf.loc['R2_train']-scoredf.loc['R2_test']).abs()\n",
    "    best=max([(k,v) for k,v in Counter(list(scoredf.T['R2_train'].nlargest(3).index)+list(scoredf.T['R2_test'].nlargest(3).index)+list(scoredf.T['absdiff'].nsmallest(3).index)).items()],key=lambda x: x[1])\n",
    "\n",
    "    return best"
   ]
  },
  {
   "cell_type": "code",
   "execution_count": null,
   "id": "d8b31fab-a296-4bc3-bdc0-f3595dc2e4ba",
   "metadata": {},
   "outputs": [],
   "source": [
    "bestdf=pd.DataFrame.from_dict({k: find_best(k) for k,v in performance.items()}).sort_index()"
   ]
  },
  {
   "cell_type": "code",
   "execution_count": null,
   "id": "f02c1da6-411d-4e7b-8ed1-e2ea9fc9c307",
   "metadata": {},
   "outputs": [],
   "source": [
    "bestdf"
   ]
  },
  {
   "cell_type": "code",
   "execution_count": null,
   "id": "2822e158-65b3-492f-9844-bb73f1da9110",
   "metadata": {},
   "outputs": [],
   "source": [
    "bestdf.to_excel('best.xlsx')"
   ]
  },
  {
   "cell_type": "code",
   "execution_count": null,
   "id": "09813123-8b99-4268-9d3b-0c5afb92cc9b",
   "metadata": {},
   "outputs": [],
   "source": [
    "def save_bar(name):\n",
    "    meltdef=[]\n",
    "    for k,v in performance[name].items():\n",
    "        for k1,v1 in v.items():\n",
    "            for k2,v2 in v1.items():\n",
    "                if \"R2\" in k2:\n",
    "                    meltdef.append((k,k1,k2.replace('R2','R$^{2}$').replace('_',' '),v2))\n",
    "                    \n",
    "    df=pd.DataFrame(meltdef,columns=['Train','Model','Metric','Score'])\n",
    "    \n",
    "    g=sns.catplot(\n",
    "        df, kind=\"bar\",\n",
    "        x=\"Train\", y=\"Score\", col=\"Model\", hue='Metric',\n",
    "        height=4, aspect=1, col_wrap=5,palette=sns.color_palette(\"Paired\",2)\n",
    "    )\n",
    "    g.set_axis_labels(\"Training Set Ratio\", \"R$^{2}$\")\n",
    "    g.set_titles(\"{col_var}={col_name}\")\n",
    "    sns.move_legend(g, \"upper left\", bbox_to_anchor=(1, 1))\n",
    "    # plt.title(f\"{name}\")\n",
    "    plt.tight_layout()\n",
    "    plt.savefig(f'{name}.png',dpi=300,bbox_inches='tight')\n",
    "    plt.show()"
   ]
  },
  {
   "cell_type": "code",
   "execution_count": null,
   "id": "26ab3abb-6183-483c-896e-4c88b1fb22fe",
   "metadata": {},
   "outputs": [],
   "source": [
    "for i in dirs: \n",
    "    print(i)\n",
    "    save_bar(i)"
   ]
  },
  {
   "cell_type": "code",
   "execution_count": null,
   "id": "5ca62e56-ec16-45a2-923f-4178af968002",
   "metadata": {},
   "outputs": [],
   "source": []
  }
 ],
 "metadata": {
  "kernelspec": {
   "display_name": "Python 3 (ipykernel)",
   "language": "python",
   "name": "python3"
  },
  "language_info": {
   "codemirror_mode": {
    "name": "ipython",
    "version": 3
   },
   "file_extension": ".py",
   "mimetype": "text/x-python",
   "name": "python",
   "nbconvert_exporter": "python",
   "pygments_lexer": "ipython3",
   "version": "3.9.18"
  }
 },
 "nbformat": 4,
 "nbformat_minor": 5
}
