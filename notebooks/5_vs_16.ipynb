{
 "cells": [
  {
   "cell_type": "code",
   "execution_count": null,
   "id": "57f650cc-3313-4bf4-9f83-b2832e6d1b08",
   "metadata": {},
   "outputs": [],
   "source": [
    "# Import required packages\n",
    "import sys\n",
    "# !{sys.executable} -m pip install seaborn\n",
    "from glob import glob\n",
    "import os\n",
    "import json\n",
    "import matplotlib.pyplot as plt\n",
    "import seaborn as sns\n",
    "import pandas as pd\n",
    "import numpy as np\n",
    "from shutil import copy,move\n",
    "from distutils.dir_util import copy_tree\n"
   ]
  },
  {
   "cell_type": "code",
   "execution_count": null,
   "id": "3bdc6f48-483c-4cbe-aaad-cba2efe94068",
   "metadata": {},
   "outputs": [],
   "source": [
    "data = []\n",
    "for i in glob('BSE-calc-test/16qubit/*/*results.json'):\n",
    "    name = os.path.basename(os.path.dirname(i))\n",
    "    five = os.path.join('BSE-calc-test/5qubit/',name,f\"{name}_results.json\")\n",
    "    with open(i,'r') as f:\n",
    "        dict16 = json.load(f)\n",
    "    with open(five,'r') as g:\n",
    "        dict5 = json.load(g)\n",
    "    dict5['data']=5\n",
    "    dict16['data']=16\n",
    "    data.append(pd.concat([pd.DataFrame.from_dict(dict5).rename(index={0:name}),pd.DataFrame.from_dict(dict16).rename(index={0:name})],axis=0))\n",
    "bsedf=pd.concat(data,axis=0)    \n",
    "data = bsedf.reset_index().melt(id_vars=['index','data'], value_vars=['MAE_train','MAE_test'])"
   ]
  },
  {
   "cell_type": "code",
   "execution_count": null,
   "id": "2ed620a7-cdd7-4f7b-ab6c-4817ab621a8d",
   "metadata": {},
   "outputs": [],
   "source": [
    "g = sns.catplot(\n",
    "    data=data, x=\"variable\", y=\"value\", col=\"index\",hue=\"data\",\n",
    "    kind=\"bar\", height=5, aspect=.9,palette=sns.color_palette('Paired',2),col_wrap=6,legend_out=True)\n"
   ]
  },
  {
   "cell_type": "code",
   "execution_count": null,
   "id": "a19dc4f4-af97-4339-8a75-fc99d707f013",
   "metadata": {},
   "outputs": [],
   "source": [
    "data = []\n",
    "for i in glob('qml_DDCC/16/*/*results.json'):\n",
    "    name = os.path.basename(os.path.dirname(i))\n",
    "    five = os.path.join('qml_DDCC/5/',name,f\"{name}_results.json\")\n",
    "    with open(i,'r') as f:\n",
    "        dict16 = json.load(f)\n",
    "    with open(five,'r') as g:\n",
    "        dict5 = json.load(g)\n",
    "    dict5['data']=5\n",
    "    dict16['data']=16\n",
    "    data.append(pd.concat([pd.DataFrame.from_dict(dict5).rename(index={0:name}),pd.DataFrame.from_dict(dict16).rename(index={0:name})],axis=0))\n",
    "\n",
    "ddcc_data=pd.concat(data,axis=0)\n",
    "\n",
    "data = ddcc_data.reset_index().melt(id_vars=['index','data'], value_vars=['MAE_train','MAE_test'])\n"
   ]
  },
  {
   "cell_type": "code",
   "execution_count": null,
   "id": "1e8672ef-4c3f-4247-8043-0752d2721470",
   "metadata": {},
   "outputs": [],
   "source": [
    "g = sns.catplot(\n",
    "    data=data, x=\"variable\", y=\"value\", col=\"index\",hue=\"data\",\n",
    "    kind=\"bar\", height=5, aspect=.9,palette=sns.color_palette('Paired',2),col_wrap=6,legend_out=True)\n"
   ]
  },
  {
   "cell_type": "code",
   "execution_count": null,
   "id": "589a47a7-9ae2-4574-bb8d-da41b761392a",
   "metadata": {},
   "outputs": [],
   "source": [
    "ddcc16=ddcc_data[ddcc_data['data']==16]\n",
    "bsedf16=bsedf[bsedf['data']==16]"
   ]
  },
  {
   "cell_type": "code",
   "execution_count": null,
   "id": "bdbf2126-b922-4c16-8da4-97c7829d0635",
   "metadata": {},
   "outputs": [],
   "source": [
    "ddcc5=ddcc_data[ddcc_data['data']==5]\n",
    "bsedf5=bsedf[bsedf['data']==5]\n"
   ]
  },
  {
   "cell_type": "code",
   "execution_count": null,
   "id": "3d6547ae-b186-4947-b93a-07d32c045b8c",
   "metadata": {},
   "outputs": [],
   "source": [
    "bsedf16.iloc[0]"
   ]
  },
  {
   "cell_type": "code",
   "execution_count": null,
   "id": "546e057f-46f7-4683-b717-b8a1a2af48e7",
   "metadata": {},
   "outputs": [],
   "source": [
    "bsedf5.iloc[0]"
   ]
  },
  {
   "cell_type": "code",
   "execution_count": null,
   "id": "5d6bf074-c49d-4269-96e9-319353b5b5a7",
   "metadata": {},
   "outputs": [],
   "source": [
    "points = [[50, 50], [50, 15], [15, 15]]\n",
    "triangle = np.array(points + points[:1])\n",
    "\n",
    "# plt.plot(triangle[:, 0], triangle[:, 1], marker='o')\n",
    "plt.fill(triangle[:, 0], triangle[:, 1], color='yellow', alpha=0.3,label='16 Better')\n",
    "\n",
    "\n",
    "\n",
    "points = [[50, 50], [15, 50], [15, 15]]\n",
    "triangle = np.array(points + points[:1])\n",
    "\n",
    "# plt.plot(triangle[:, 0], triangle[:, 1], marker='o')\n",
    "plt.fill(triangle[:, 0], triangle[:, 1], color='b', alpha=0.3,label='5 Better')\n",
    "\n",
    "plt.scatter(bsedf5['MAE_train'],bsedf16['MAE_train'])\n",
    "plt.scatter(bsedf5['MAE_test'],bsedf16['MAE_test'])\n",
    "plt.plot(np.arange(15,60),np.arange(15,60),'k--')\n",
    "plt.ylim(15,50)\n",
    "plt.xlim(15,50)\n",
    "plt.legend()\n",
    "plt.show()"
   ]
  },
  {
   "cell_type": "code",
   "execution_count": null,
   "id": "18ae5074-5588-480b-bbc6-1fbaf5a280c1",
   "metadata": {},
   "outputs": [],
   "source": [
    "(bsedf5[['MAE_train','MAE_test']].T.mean()<=bsedf16[['MAE_train','MAE_test']].T.mean()).value_counts()"
   ]
  },
  {
   "cell_type": "code",
   "execution_count": null,
   "id": "16c7360e-2692-4247-917d-d62f3d25aa50",
   "metadata": {},
   "outputs": [],
   "source": [
    "(ddcc5[['MAE_train','MAE_test']].T.mean()<=ddcc16[['MAE_train','MAE_test']].T.mean()).value_counts()"
   ]
  },
  {
   "cell_type": "code",
   "execution_count": null,
   "id": "d8f4e858-6330-43bd-ab1b-41a27406493b",
   "metadata": {},
   "outputs": [],
   "source": [
    "points = [[1, 1], [1, -2], [-2, -2]]\n",
    "triangle = np.array(points + points[:1])\n",
    "\n",
    "# plt.plot(triangle[:, 0], triangle[:, 1], marker='o')\n",
    "plt.fill(triangle[:, 0], triangle[:, 1], color='yellow', alpha=0.3,label='5 Better')\n",
    "\n",
    "\n",
    "\n",
    "points = [[1, 1], [-2, 1], [-2, -2]]\n",
    "triangle = np.array(points + points[:1])\n",
    "\n",
    "# plt.plot(triangle[:, 0], triangle[:, 1], marker='o')\n",
    "plt.fill(triangle[:, 0], triangle[:, 1], color='b', alpha=0.3,label='16 Better')\n",
    "\n",
    "plt.scatter(ddcc5['R2_train'],ddcc16['R2_train'])\n",
    "plt.scatter(ddcc5['R2_test'],ddcc16['R2_test'])\n",
    "plt.plot(np.arange(-2,2),np.arange(-2,2),'k--')\n",
    "plt.ylim(-2,1)\n",
    "plt.xlim(-2,1)\n",
    "plt.legend()\n",
    "plt.show()"
   ]
  },
  {
   "cell_type": "code",
   "execution_count": null,
   "id": "03f7ef4c-8e7f-4cec-a6b0-9961d31e087b",
   "metadata": {},
   "outputs": [],
   "source": [
    "100*((bsedf5-bsedf16)/bsedf16).sort_values(by=['MAE_train','MAE_test']).describe()"
   ]
  },
  {
   "cell_type": "code",
   "execution_count": null,
   "id": "a992bbf9-f78e-42a9-8cfa-d14bdf78b64e",
   "metadata": {},
   "outputs": [],
   "source": [
    "100*((ddcc5-ddcc16)/ddcc16).sort_values(by=['MAE_train','MAE_test']).describe()"
   ]
  },
  {
   "cell_type": "code",
   "execution_count": null,
   "id": "268c709d-71ad-41cc-bd19-786c4fb0642b",
   "metadata": {},
   "outputs": [],
   "source": []
  }
 ],
 "metadata": {
  "kernelspec": {
   "display_name": "Python 3 (ipykernel)",
   "language": "python",
   "name": "python3"
  },
  "language_info": {
   "codemirror_mode": {
    "name": "ipython",
    "version": 3
   },
   "file_extension": ".py",
   "mimetype": "text/x-python",
   "name": "python",
   "nbconvert_exporter": "python",
   "pygments_lexer": "ipython3",
   "version": "3.12.9"
  }
 },
 "nbformat": 4,
 "nbformat_minor": 5
}
