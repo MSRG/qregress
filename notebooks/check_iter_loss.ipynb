{
 "cells": [
  {
   "cell_type": "code",
   "execution_count": null,
   "id": "a0300352-8811-4bf7-bcc5-8ef6bee37b89",
   "metadata": {},
   "outputs": [],
   "source": [
    "import click\n",
    "import numpy as np\n",
    "import matplotlib.pyplot as plt\n",
    "import seaborn as sns\n",
    "from glob import glob\n",
    "import pandas as pd\n",
    "import os\n",
    "import shutil\n",
    "import joblib\n",
    "import json\n",
    "from shutil import copytree"
   ]
  },
  {
   "cell_type": "code",
   "execution_count": null,
   "id": "0b10d402-5843-440f-ae9b-a3988d3216d0",
   "metadata": {},
   "outputs": [],
   "source": [
    "def main(path):\n",
    "    splitsort = []\n",
    "    smaller = []\n",
    "    \n",
    "    for i in sorted(glob(os.path.join(path, '*log.csv'))):\n",
    "        splitname = os.path.basename(i).split('_')\n",
    "        if len(splitname)==3 and int(splitname[0])!=0:\n",
    "            splitsort.append((int(splitname[0]),i))\n",
    "        elif len(splitname)==2:\n",
    "            smaller.append(i)\n",
    "    \n",
    "    if len(splitsort)!=0:\n",
    "        dirs = list(np.array(sorted(splitsort))[:,1]) + smaller\n",
    "    else:\n",
    "        dirs = smaller\n",
    "    loss = []\n",
    "    for i in dirs:\n",
    "        # print(f\"Processing file: {i}\")\n",
    "        # print(i)\n",
    "        loss.append(split(i))  # Get only the loss values (assumed to be in the second column)\n",
    "\n",
    "    \n",
    "    plt.plot(*np.vstack(loss).T)\n",
    "    plt.xlabel(\"Iteration\")\n",
    "    plt.ylabel(\"Loss\")\n",
    "    plt.title(\"Loss Curve\")\n",
    "    # plt.show()\n",
    "    return np.max(np.vstack(loss)[:,0]).astype(int)\n",
    "\n",
    "def split(path):\n",
    "    \"\"\"Helper function to read CSV file and extract required columns.\"\"\"\n",
    "    with open(path, 'r') as f:\n",
    "        save = pd.read_csv(path)[['Iteration','Cost']].dropna()\n",
    "    return save.values"
   ]
  },
  {
   "cell_type": "code",
   "execution_count": null,
   "id": "d0077305-7876-4745-9aa6-f5d28919db2a",
   "metadata": {},
   "outputs": [],
   "source": [
    "datatime = pd.Timedelta(0)  # Initialize as Timedelta\n",
    "itercost = []\n",
    "statsdf = []\n",
    "files = glob('../Pennylane_to_Qiskit/real_qiskit_class/*csv')\n",
    "# Loop over files and return the total wall time and number of iterations ran\n",
    "for idx, i in enumerate(files):\n",
    "    df1 = pd.read_csv(i).dropna().drop(columns=['Parameters'])\n",
    "    df = pd.to_datetime(df1[\"Time\"], format=\"%a %b %d %H:%M:%S %Y\")\n",
    "    \n",
    "    datatime+=df.iloc[-1] - df.iloc[0] \n",
    "    itercost.append((df1[['Iteration','Cost']]))\n",
    "    if idx==len(files)-1:\n",
    "        maxiter = int(df1['Iteration'].values[-1])\n",
    "    statsdf.append(df.diff().mean())\n",
    "# Drop NaT values\n",
    "time_deltas_clean = pd.Series(statsdf).dropna()\n",
    "\n",
    "# Compute statistics\n",
    "min_time = time_deltas_clean.min()\n",
    "mean_time = time_deltas_clean.mean()\n",
    "max_time = time_deltas_clean.max()\n",
    "median_time = time_deltas_clean.median()        \n",
    "data = pd.DataFrame.from_dict({\"Num_iter\":maxiter,'Total Walltime':datatime,\"min_time\":min_time,\"mean_time\":mean_time,\"max_time\":max_time,\"median_time\":median_time},orient=\"index\")"
   ]
  },
  {
   "cell_type": "code",
   "execution_count": null,
   "id": "29d1ec2e-4d52-4108-ab8a-efd7d3dd2dcc",
   "metadata": {},
   "outputs": [],
   "source": [
    "(mean_time*40)*1000"
   ]
  },
  {
   "cell_type": "code",
   "execution_count": null,
   "id": "8f33d6fe-35bb-4731-93f5-920d38899dc9",
   "metadata": {},
   "outputs": [],
   "source": [
    "time_deltas_clean"
   ]
  },
  {
   "cell_type": "code",
   "execution_count": null,
   "id": "3ecde512-d0c2-4700-97d4-8d795faa726a",
   "metadata": {},
   "outputs": [],
   "source": [
    "159 /4"
   ]
  },
  {
   "cell_type": "code",
   "execution_count": null,
   "id": "2db8d50f-3454-4fdc-85ac-9feb6f1292fc",
   "metadata": {},
   "outputs": [],
   "source": [
    "39 * 4"
   ]
  },
  {
   "cell_type": "code",
   "execution_count": null,
   "id": "36501e9f-4918-447e-ada4-eb1fba1edb28",
   "metadata": {},
   "outputs": [],
   "source": [
    "data"
   ]
  },
  {
   "cell_type": "code",
   "execution_count": null,
   "id": "ccdab823-d48c-4abc-8d94-c1281205ea8c",
   "metadata": {},
   "outputs": [],
   "source": [
    "len(glob('../BSE-calc-test/16qubit/*/*results.json'))"
   ]
  },
  {
   "cell_type": "code",
   "execution_count": null,
   "id": "7650a4eb-8d3a-4aac-b5c4-e8a4dbd4e5c5",
   "metadata": {},
   "outputs": [],
   "source": [
    "for i in glob('../BSE-calc-test/5qubit/*/*results.json'):\n",
    "    name = os.path.basename(os.path.dirname(i)) \n",
    "    if os.path.exists(f\"../BSE-calc-test/16qubit/{name}\")==False:\n",
    "        print(name)"
   ]
  },
  {
   "cell_type": "code",
   "execution_count": null,
   "id": "51ccae9b-b661-4585-87ae-473bf14d3c26",
   "metadata": {},
   "outputs": [],
   "source": [
    "len(set(list(map(os.path.basename,map(os.path.dirname,glob(os.path.join('../BSE-calc-test/16qubit/','*/'))))))&set(list(map(os.path.basename,map(os.path.dirname,glob(os.path.join('../BSE-calc-test/5qubit/','*/')))))))"
   ]
  },
  {
   "cell_type": "code",
   "execution_count": null,
   "id": "ecf0224c-9bcd-418a-b1ca-b8c8c8f7e1a9",
   "metadata": {},
   "outputs": [],
   "source": [
    "len(glob(os.path.join('../BSE-calc-test/16qubit/','*/')))"
   ]
  },
  {
   "cell_type": "code",
   "execution_count": null,
   "id": "e81b4428-0ea3-40ec-97d0-5d50210af6fe",
   "metadata": {},
   "outputs": [],
   "source": [
    "\n",
    "\n",
    "for i in glob(os.path.join('../BSE-calc-test/16qubit/','*/')):\n",
    "    try:\n",
    "        iters = main(i)\n",
    "        if iters!=249:\n",
    "            print(i,iters)    \n",
    "    except:\n",
    "        print('BROKE:',i)\n",
    "print()"
   ]
  },
  {
   "cell_type": "code",
   "execution_count": null,
   "id": "a60eb57b-5d54-40f7-b77d-188e54c77193",
   "metadata": {},
   "outputs": [],
   "source": [
    "\n",
    "for all_dir in ['../BSE-calc-test/5qubit/', '../BSE-calc-test/16qubit/', '../qml_DDCC/5/']:\n",
    "    for i in glob(os.path.join(all_dir,'*/')):\n",
    "        try:\n",
    "            iters = main(i)\n",
    "            if iters!=999:\n",
    "                print(i,iters)    \n",
    "        except:\n",
    "            print('BROKE:',i)\n",
    "    print()"
   ]
  },
  {
   "cell_type": "code",
   "execution_count": null,
   "id": "5e751f04-dc17-4a7a-980a-be52eceb695c",
   "metadata": {},
   "outputs": [],
   "source": []
  },
  {
   "cell_type": "code",
   "execution_count": null,
   "id": "b9896803-fe06-4860-8188-18ff04972d1c",
   "metadata": {},
   "outputs": [],
   "source": [
    "rerun = []\n",
    "# for i in glob('qml_DDCC/5/*/*_results.json'):\n",
    "for i in glob(os.path.join(os.path.expanduser('~'),'qregress/qml_DDCC/RUD_AL/*/A2_HWE-CNOT')):\n",
    "# for i in glob(os.path.join(os.path.expanduser('~'),\"rerun_BSE/5\")+\"/*/model_log.csv\"):\n",
    "# for i in glob('function-calc-test/sixteenqubit_test/quad16qubit/*/*model_log.csv'):\n",
    "    iters = main(i)\n",
    "    if iters!=999:\n",
    "        print(i,iters)\n",
    "    #     rerun.append((os.path.dirname(i),1000-iters))\n",
    "    \n"
   ]
  },
  {
   "cell_type": "code",
   "execution_count": null,
   "id": "3422d208-8afc-441f-95bc-070cd6e3f865",
   "metadata": {},
   "outputs": [],
   "source": [
    "# rerun = []\n",
    "# for i in glob('BSE-calc-test/16qubit/*/*results.json'):\n",
    "# # for i in glob('function-calc-test/sixteenqubit_test/quad16qubit//*/model_log.csv'):\n",
    "#     iters = main(os.path.dirname(i))\n",
    "#     if iters!=1000:\n",
    "#         # print(i,iters)\n",
    "#         rerun.append((os.path.dirname(i),1000-iters))\n",
    "#     # print(iters)\n",
    "\n",
    "# rerundir = os.path.join(os.path.expanduser('~'),'rerun_BSE/16/')\n",
    "# for p,iters in rerun:\n",
    "#     copytree(p,os.path.join(rerundir,os.path.basename(p)))\n",
    "#     filename = os.path.join(rerundir,os.path.basename(p),os.path.basename(p)+'.json')\n",
    "    \n",
    "#     with open(filename,'r') as f:\n",
    "#         file = json.load(f)\n",
    "#     file['MAX_ITER']=iters \n",
    "    \n",
    "#     with open(filename,'w') as g:\n",
    "#         json.dump(file,g)"
   ]
  },
  {
   "cell_type": "code",
   "execution_count": null,
   "id": "f17bb9bd-e41c-4fe2-8a98-a6d5d7c90dfd",
   "metadata": {},
   "outputs": [],
   "source": []
  },
  {
   "cell_type": "code",
   "execution_count": null,
   "id": "fb2caacb-9b1b-4673-8907-5e29717e6c78",
   "metadata": {},
   "outputs": [],
   "source": []
  },
  {
   "cell_type": "code",
   "execution_count": null,
   "id": "32aae4b5-e7fa-4bf3-b159-c2a53df229cf",
   "metadata": {},
   "outputs": [],
   "source": [
    "stacked_log=[]\n",
    "for idx,i in enumerate(glob('BSE-calc-test/16qubit/*/model_log.csv')):\n",
    "# for idx,i in enumerate(sorted(glob('function-calc-test/fivequbit_tests/sin5qubit/*/model_log.csv'))):\n",
    "# for i in glob('function-calc-test/sixteenqubit_test/lin16qubit/*/model_log.csv'):    \n",
    "    df=pd.read_csv(i)[['Iteration','Cost']].dropna()\n",
    "    if df.shape[0]!=1000:\n",
    "        print(i,idx,df.shape[0])\n",
    "        stacked_log.append(df)    \n",
    "        sns.lineplot(data=df,x='Iteration',y='Cost')\n",
    "# plt.xlim(0,1000)\n",
    "plt.show()\n",
    "# for i in glob('BSE_RUD_AL_test/16qubit/5_RUD/*/model_log.csv'):\n",
    "#     df=pd.read_csv(i)[['Iteration','Cost']].dropna()\n",
    "#     stacked_log.append(df)"
   ]
  },
  {
   "cell_type": "code",
   "execution_count": null,
   "id": "d6c40e50-b293-4062-98d7-2530b64fa16d",
   "metadata": {},
   "outputs": [],
   "source": [
    "def main(path):\n",
    "\n",
    "    with open(path,'r') as f:\n",
    "        filename=f.readlines()\n",
    "    \n",
    "    save=[]\n",
    "    for i in filename:\n",
    "        if ':' in i:\n",
    "            splitf=i.split(',')\n",
    "            save.append((splitf[1],splitf[2]))\n",
    "    \n",
    "    save=np.array(save).astype(float)\n",
    "    \n",
    "    plt.plot(save[:,0],save[:,1])\n",
    "    plt.show()\n"
   ]
  },
  {
   "cell_type": "code",
   "execution_count": null,
   "id": "83d7272b-647a-4abb-b0eb-b8a27eadaddb",
   "metadata": {},
   "outputs": [],
   "source": []
  }
 ],
 "metadata": {
  "kernelspec": {
   "display_name": "Python 3 (ipykernel)",
   "language": "python",
   "name": "python3"
  },
  "language_info": {
   "codemirror_mode": {
    "name": "ipython",
    "version": 3
   },
   "file_extension": ".py",
   "mimetype": "text/x-python",
   "name": "python",
   "nbconvert_exporter": "python",
   "pygments_lexer": "ipython3",
   "version": "3.12.9"
  }
 },
 "nbformat": 4,
 "nbformat_minor": 5
}
