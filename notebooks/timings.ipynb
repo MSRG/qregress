{
 "cells": [
  {
   "cell_type": "code",
   "execution_count": null,
   "id": "66787aca-3690-4dd2-b67d-41e0cf3f23f1",
   "metadata": {},
   "outputs": [],
   "source": [
    "import pandas as pd\n",
    "import seaborn as sns\n",
    "import matplotlib.pyplot as plt\n",
    "import numpy as np\n",
    "from glob import glob\n",
    "import os"
   ]
  },
  {
   "cell_type": "code",
   "execution_count": null,
   "id": "407ecadd-035f-43b2-9fb8-f0b4f8f66002",
   "metadata": {},
   "outputs": [],
   "source": [
    "def timings(path):\n",
    "    '''\n",
    "    Determine the walltime for a run\n",
    "\n",
    "    parameters\n",
    "    ----------\n",
    "    path: str\n",
    "        Path to the model_log.csv files\n",
    "    \n",
    "    returns\n",
    "    -------\n",
    "    maxiter: int\n",
    "        Number of iterations ran\n",
    "    datatime: pandas._libs.tslibs.timedeltas.Timedelta\n",
    "        Pandas timing\n",
    "    \n",
    "    '''\n",
    "    # Grab all of the model_log.csv files\n",
    "    try:\n",
    "        files = sorted(glob(f'{path}/*model_log.csv'),key=lambda x: int(x.split('/')[-1].split('_')[0]))\n",
    "    except:\n",
    "        files = sorted(glob(f'{path}/*model_log.csv'))\n",
    "    \n",
    "    datatime = pd.Timedelta(0)  # Initialize as Timedelta\n",
    "    itercost = []\n",
    "    statsdf = []\n",
    "    # Loop over files and return the total wall time and number of iterations ran\n",
    "    for idx, i in enumerate(files):\n",
    "        df1 = pd.read_csv(i).dropna().drop(columns=['Parameters'])\n",
    "        df = pd.to_datetime(df1[\"Time\"], format=\"%a %b %d %H:%M:%S %Y\")\n",
    "        \n",
    "        datatime+=df.iloc[-1] - df.iloc[0] \n",
    "        itercost.append((df1[['Iteration','Cost']]))\n",
    "        if idx==len(files)-1:\n",
    "            maxiter = int(df1['Iteration'].values[-1])\n",
    "        statsdf.append(df.diff().mean())\n",
    "    # Drop NaT values\n",
    "    time_deltas_clean = pd.Series(statsdf).dropna()\n",
    "    \n",
    "    # Compute statistics\n",
    "    min_time = time_deltas_clean.min()\n",
    "    mean_time = time_deltas_clean.mean()\n",
    "    max_time = time_deltas_clean.max()\n",
    "    median_time = time_deltas_clean.median()        \n",
    "    data = pd.DataFrame.from_dict({\"Num_iter\":maxiter,'Total Walltime':datatime,\"min_time\":min_time,\"mean_time\":mean_time,\"max_time\":max_time,\"median_time\":median_time},orient=\"index\")\n",
    "    \n",
    "    try:\n",
    "        label = sum([[i for i in path.split('/') if f'{j}RUD' in i or f\"{j}AL\" in i ] for j in [3,5,7,9]],[])[0]\n",
    "        sns.lineplot(pd.concat(itercost),x='Iteration',y='Cost',label=label,alpha=0.7)\n",
    "    except:\n",
    "        label = os.path.basename(path)\n",
    "    \n",
    "    \n",
    "    return data"
   ]
  },
  {
   "cell_type": "code",
   "execution_count": null,
   "id": "98027858-eb46-450f-9527-19d97f583dca",
   "metadata": {},
   "outputs": [],
   "source": [
    "from concurrent.futures import ThreadPoolExecutor\n",
    "\n",
    "def process_file(file):\n",
    "    try:\n",
    "        return timings(file).rename(columns={0: os.path.basename(file)})\n",
    "    except Exception as e:\n",
    "        return None\n",
    "\n",
    "files = sorted(glob('../BSE-calc-test/16qubit/*'))\n",
    "\n",
    "with ThreadPoolExecutor() as executor:\n",
    "    qub16 = list(executor.map(process_file, files))"
   ]
  },
  {
   "cell_type": "code",
   "execution_count": null,
   "id": "ae9b5c12-156c-4e75-992d-c87942482056",
   "metadata": {},
   "outputs": [],
   "source": [
    "pd.concat(qub16,axis=1).T.sort_values(by='Num_iter')"
   ]
  },
  {
   "cell_type": "code",
   "execution_count": null,
   "id": "e5c22291-62de-46c2-9c4c-867d1bed821d",
   "metadata": {},
   "outputs": [],
   "source": [
    "BSE5 = pd.concat([timings(i).rename(columns={0:i.split('/')[-2]}) for i in sorted(glob('../BSE_RUD_AL_test/5qubit/*/M-M-CZ_HWE-CNOT'))],axis=1)\n",
    "BSE5"
   ]
  },
  {
   "cell_type": "code",
   "execution_count": null,
   "id": "8b79fc7e-0871-4901-81e9-c31e6a6bf922",
   "metadata": {},
   "outputs": [],
   "source": [
    "\n",
    "\n",
    "BSE16 = pd.concat([timings(i).rename(columns={0:i.split('/')[-2]}) for i in sorted(glob( '../BSE_RUD_AL_test/16qubit/*/A2_Hadamard'))],axis=1)\n",
    "BSE16"
   ]
  },
  {
   "cell_type": "code",
   "execution_count": null,
   "id": "53824535-b494-4ad6-817f-c4a5b48dd078",
   "metadata": {},
   "outputs": [],
   "source": [
    "[i.split('/') for i in sorted(glob('../qml_DDCC/RUD_AL/*/A2_HWE-CNOT/'))]"
   ]
  },
  {
   "cell_type": "code",
   "execution_count": null,
   "id": "737f4a61-0388-46d9-b405-8e2c3cdc6bfd",
   "metadata": {},
   "outputs": [],
   "source": [
    "\n",
    "DDCC = pd.concat([timings(i).rename(columns={0:i.split('/')[-3]}) for i in sorted(glob('../qml_DDCC/RUD_AL/*/A2_HWE-CNOT/'))],axis=1)\n",
    "DDCC"
   ]
  },
  {
   "cell_type": "code",
   "execution_count": null,
   "id": "5e5641ed-4c28-486c-9af9-06643833c2d8",
   "metadata": {},
   "outputs": [],
   "source": []
  }
 ],
 "metadata": {
  "kernelspec": {
   "display_name": "Python 3 (ipykernel)",
   "language": "python",
   "name": "python3"
  },
  "language_info": {
   "codemirror_mode": {
    "name": "ipython",
    "version": 3
   },
   "file_extension": ".py",
   "mimetype": "text/x-python",
   "name": "python",
   "nbconvert_exporter": "python",
   "pygments_lexer": "ipython3",
   "version": "3.12.9"
  }
 },
 "nbformat": 4,
 "nbformat_minor": 5
}
