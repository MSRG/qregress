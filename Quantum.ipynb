{
 "cells": [
  {
   "cell_type": "code",
   "execution_count": 1,
   "id": "d30962c5",
   "metadata": {},
   "outputs": [],
   "source": [
    "from quantum.Quantum import QuantumRegressor\n",
    "import pennylane as qml\n",
    "import pandas as pd\n",
    "from pennylane import numpy as np\n",
    "import time\n",
    "import joblib\n",
    "from sklearn.preprocessing import MinMaxScaler\n",
    "import matplotlib.pyplot as plt"
   ]
  },
  {
   "cell_type": "markdown",
   "id": "f8bea5af",
   "metadata": {},
   "source": [
    "### First we have to select and trim our dataset"
   ]
  },
  {
   "cell_type": "code",
   "execution_count": 2,
   "id": "cd6872a0",
   "metadata": {},
   "outputs": [
    {
     "name": "stdout",
     "output_type": "stream",
     "text": [
      "(1951, 151)\n"
     ]
    }
   ],
   "source": [
    "page_st = time.time()\n",
    "df = joblib.load(\"/home/taylo773/Quantum/GitHub/qregress/database/processed/BSE49_existing.bin\")\n",
    "scaler = MinMaxScaler()\n",
    "\n",
    "y = df['BSE']\n",
    "y = np.array(y)\n",
    "X = df.drop(['BSE'], axis=1)\n",
    "X = np.array(X)\n",
    "print(X.shape)\n",
    "new_X = np.empty((100, 2))\n",
    "for i in range(len(new_X)):\n",
    "    new_X[i] = X[i][4:6]\n",
    "X = scaler.fit_transform(new_X)\n",
    "\n",
    "y = y.reshape(-1, 1)\n",
    "target_scaler = MinMaxScaler()\n",
    "target_scaler.fit(y)\n",
    "y = target_scaler.transform(y)\n",
    "y = y[:100]"
   ]
  },
  {
   "cell_type": "code",
   "execution_count": 3,
   "id": "91096130",
   "metadata": {},
   "outputs": [
    {
     "data": {
      "text/plain": [
       "'0: ─╭AngleEmbedding(M0)─╭StronglyEntanglingLayers(M1)─┤  <Z>\\n1: ─╰AngleEmbedding(M0)─╰StronglyEntanglingLayers(M1)─┤     '"
      ]
     },
     "execution_count": 3,
     "metadata": {},
     "output_type": "execute_result"
    }
   ],
   "source": [
    "num_qubits = 2\n",
    "max_iterations = 100\n",
    "device = 'default.qubit'\n",
    "\n",
    "encoder = qml.AngleEmbedding\n",
    "variational_circuit = qml.StronglyEntanglingLayers\n",
    "\n",
    "model = QuantumRegressor(encoder, variational_circuit, num_qubits, max_iterations=max_iterations)\n",
    "\n",
    "initial_parameters = [\n",
    "    [[0,0,0],\n",
    "     [0,0,0]]\n",
    "]\n",
    "initial_parameters = np.random.rand(1, 2, 3)\n",
    "initial_parameters = np.array(initial_parameters) + np.pi / 4\n",
    "qml.draw(model._circuit)(X[0], initial_parameters)"
   ]
  },
  {
   "cell_type": "code",
   "execution_count": 4,
   "id": "fdabea81",
   "metadata": {},
   "outputs": [],
   "source": [
    "params, costs = model.fit(X, y, initial_parameters=initial_parameters)"
   ]
  },
  {
   "cell_type": "code",
   "execution_count": 5,
   "id": "6bb17af9",
   "metadata": {},
   "outputs": [
    {
     "name": "stdout",
     "output_type": "stream",
     "text": [
      "[[[0.9095188  0.72331972 1.51238473]\n",
      "  [1.87778004 0.50449679 1.36591283]]]\n"
     ]
    },
    {
     "data": {
      "text/plain": [
       "[<matplotlib.lines.Line2D at 0x7faa2a1804f0>]"
      ]
     },
     "execution_count": 5,
     "metadata": {},
     "output_type": "execute_result"
    },
    {
     "data": {
      "image/png": "[encoded data removed]",
      "text/plain": [
       "<Figure size 640x480 with 1 Axes>"
      ]
     },
     "metadata": {},
     "output_type": "display_data"
    }
   ],
   "source": [
    "print(model.params)\n",
    "line = np.linspace(0.4, 0.85)\n",
    "y_pred = model.predict(X)\n",
    "plt.scatter(y, y_pred)\n",
    "plt.plot(line, line)\n",
    "# plt.xlim(0, 1)\n",
    "# plt.ylim(0,1)"
   ]
  },
  {
   "cell_type": "code",
   "execution_count": 6,
   "id": "1c2621ba",
   "metadata": {},
   "outputs": [
    {
     "name": "stdout",
     "output_type": "stream",
     "text": [
      "Total runtime:  1 m 25 s\n"
     ]
    }
   ],
   "source": [
    "page_et = time.time()\n",
    "print('Total runtime: ', int((page_et - page_st)/60), \"m\", int((page_et-page_st)%60), 's')"
   ]
  },
  {
   "cell_type": "markdown",
   "id": "53d5055c",
   "metadata": {},
   "source": [
    "[[[0.38512537 0.3607035  0.41489035]\n",
    "  [0.38432685 0.62368559 0.43024636]]]"
   ]
  },
  {
   "cell_type": "code",
   "execution_count": 7,
   "id": "ff347e91",
   "metadata": {},
   "outputs": [
    {
     "data": {
      "text/plain": [
       "0.03185761222134645"
      ]
     },
     "execution_count": 7,
     "metadata": {},
     "output_type": "execute_result"
    }
   ],
   "source": [
    "costs[-1]"
   ]
  },
  {
   "cell_type": "code",
   "execution_count": null,
   "id": "ad778ac6",
   "metadata": {},
   "outputs": [],
   "source": []
  },
  {
   "cell_type": "code",
   "execution_count": null,
   "id": "381e00fb",
   "metadata": {},
   "outputs": [],
   "source": []
  }
 ],
 "metadata": {
  "kernelspec": {
   "display_name": "Python 3 (ipykernel)",
   "language": "python",
   "name": "python3"
  },
  "language_info": {
   "codemirror_mode": {
    "name": "ipython",
    "version": 3
   },
   "file_extension": ".py",
   "mimetype": "text/x-python",
   "name": "python",
   "nbconvert_exporter": "python",
   "pygments_lexer": "ipython3",
   "version": "3.10.11"
  }
 },
 "nbformat": 4,
 "nbformat_minor": 5
}
