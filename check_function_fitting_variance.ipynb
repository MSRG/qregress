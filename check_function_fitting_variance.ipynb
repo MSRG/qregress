{
 "cells": [
  {
   "cell_type": "code",
   "execution_count": null,
   "id": "c8881bcc-b72b-4b41-b102-7660daea91d3",
   "metadata": {},
   "outputs": [],
   "source": [
    "import joblib, os, sys\n",
    "from glob import glob\n",
    "import numpy as np\n",
    "import matplotlib.pyplot as plt\n",
    "import seaborn as sns"
   ]
  },
  {
   "cell_type": "code",
   "execution_count": null,
   "id": "3747b465-5ba8-4611-9f73-2bb627f4e336",
   "metadata": {},
   "outputs": [],
   "source": [
    "functions = ['linear','quadratic','sine']"
   ]
  },
  {
   "cell_type": "code",
   "execution_count": null,
   "id": "d8ab9ca8-876f-4831-a52c-e5b0b829b41b",
   "metadata": {},
   "outputs": [],
   "source": [
    "func_dict = {}\n",
    "for f in functions:\n",
    "    print(f)\n",
    "    \n",
    "    path = f'function-calc-test/{f}/{f}'\n",
    "    train = joblib.load(f'{path}_train.bin')\n",
    "    test = joblib.load(f'{path}_test.bin')\n",
    "    validation = joblib.load(f'{path}_validate.bin')\n",
    "    scaler = joblib.load(f'{path}_scaler.bin')\n",
    "    \n",
    "    X,y = np.vstack([train['X'],test['X'],validation['X']]),np.vstack([train['y'],test['y'],validation['y']])\n",
    "    plt.scatter(X,y)\n",
    "    \n",
    "    print(\"Scaled var\",np.var(X),np.var(y))\n",
    "    print(\"Scaled std\",np.std(X),np.std(y))\n",
    "    print(\"Scaled Min/Max X\",np.min(X),np.max(X))\n",
    "    print(\"Scaled Min/Max y\",np.min(y),np.max(y))\n",
    "    print()\n",
    "    y = scaler.inverse_transform(y.reshape(-1, 1))\n",
    "    X = scaler.inverse_transform(X.reshape(-1, 1))\n",
    "    func_dict[f] = np.hstack([X,y])\n",
    "    # plt.scatter(X,y)\n",
    "    # print(\"UnScaled var\",np.var(X),np.var(y))\n",
    "    # print(\"UnScaled std\",np.std(X),np.std(y))\n",
    "    # print(\"UnScaled Min/Max X\",np.min(X),np.max(X))\n",
    "    # print(\"UnScaled Min/Max y\",np.min(y),np.max(y))    \n",
    "    # print()\n",
    "    # print()\n",
    "    plt.show()"
   ]
  },
  {
   "cell_type": "code",
   "execution_count": null,
   "id": "582ba5d0-082f-4336-b7c6-fa670aef7793",
   "metadata": {},
   "outputs": [],
   "source": [
    "# Parameters for the noisy linear function\n",
    "n_points = 100  # Number of points\n",
    "x = np.linspace(0, 50, n_points)  # x values\n",
    "sigma_epsilon = 0.58  # Standard deviation of the noise\n",
    "\n",
    "# Generate Gaussian noise\n",
    "epsilon = np.random.normal(0, sigma_epsilon, n_points)\n",
    "\n",
    "# Define the noisy linear function\n",
    "f_x = x + epsilon\n",
    "x,f_x = scaler.fit_transform(x.reshape(-1,1)),scaler.fit_transform(f_x.reshape(-1,1))"
   ]
  },
  {
   "cell_type": "code",
   "execution_count": null,
   "id": "47a688e3-0170-4284-96ec-9c36aa091c15",
   "metadata": {},
   "outputs": [],
   "source": []
  },
  {
   "cell_type": "code",
   "execution_count": null,
   "id": "7a20141b-003e-4bcb-814a-03f9409753ca",
   "metadata": {},
   "outputs": [],
   "source": [
    "from sklearn.linear_model import LinearRegression\n",
    "\n",
    "f='linear'\n",
    "path = f'function-calc-test/{f}/{f}'\n",
    "train = joblib.load(f'{path}_train.bin')\n",
    "test = joblib.load(f'{path}_test.bin')\n",
    "validation = joblib.load(f'{path}_validate.bin')\n",
    "scaler = joblib.load(f'{path}_scaler.bin')\n",
    "X,y = np.vstack([train['X'],test['X'],validation['X']]),np.vstack([train['y'],test['y'],validation['y']])\n",
    "# y = scaler.inverse_transform(y.reshape(-1, 1))\n",
    "# X = scaler.inverse_transform(X.reshape(-1, 1))\n",
    "\n",
    "# Given data\n",
    "data = np.hstack([X,y])\n",
    "\n",
    "# Separate x and y\n",
    "x = data[:, 0].reshape(-1, 1)\n",
    "y = data[:, 1]\n",
    "\n",
    "# Fit linear regression model\n",
    "model = LinearRegression()\n",
    "model.fit(x, y)\n",
    "\n",
    "# Retrieve slope and intercept\n",
    "slope = model.coef_[0]\n",
    "intercept = model.intercept_\n",
    "\n",
    "print(f\"Slope: {slope}\")\n",
    "print(f\"Intercept: {intercept}\")\n",
    "\n",
    "def linear_function(x,m,b):\n",
    "    return m*x + b\n",
    "    \n",
    "# Plot data and the regression line\n",
    "plt.scatter(x, y, label=\"Data points\")\n",
    "plt.plot(x, linear_function(x,slope,intercept), color=\"red\", label=\"Best-fit line\")\n",
    "plt.plot(x, linear_function(x,1,0), color=\"red\", label=\"Best-fit line\")\n",
    "plt.xlabel(\"x\")\n",
    "plt.ylabel(\"y\")\n",
    "plt.legend()\n",
    "plt.title(\"Linear Fit\")\n",
    "plt.show()\n"
   ]
  },
  {
   "cell_type": "code",
   "execution_count": null,
   "id": "8bc2dd0f-08d8-4fd8-b1cc-bf0185102734",
   "metadata": {},
   "outputs": [],
   "source": [
    "# plt.scatter(x,x)\n",
    "plt.scatter(x,f_x,label='new')\n",
    "plt.scatter(X,y,label='old')\n",
    "plt.legend()\n",
    "plt.show()"
   ]
  },
  {
   "cell_type": "code",
   "execution_count": null,
   "id": "52f58b22-b587-4a47-bc0b-c39260632cb1",
   "metadata": {},
   "outputs": [],
   "source": [
    "np.std(f_x),np.std(y)"
   ]
  },
  {
   "cell_type": "code",
   "execution_count": null,
   "id": "7a2c4982-da71-47b0-94ce-52db52d71c0d",
   "metadata": {},
   "outputs": [],
   "source": [
    "np.var(f_x),np.var(y)"
   ]
  },
  {
   "cell_type": "code",
   "execution_count": null,
   "id": "81b6995c-1065-4b09-89c8-972f7f82a3fb",
   "metadata": {},
   "outputs": [],
   "source": []
  },
  {
   "cell_type": "code",
   "execution_count": null,
   "id": "46e3516f-8856-4868-8047-cf51670f0968",
   "metadata": {},
   "outputs": [],
   "source": []
  },
  {
   "cell_type": "code",
   "execution_count": null,
   "id": "60df8a0c-4397-422d-bae4-2d6c7bc9a2c0",
   "metadata": {},
   "outputs": [],
   "source": [
    "x_data, y_data = func_dict['quadratic'].T\n",
    "# Fit a quadratic function to the data\n",
    "coefficients = np.polyfit(x_data, y_data, deg=2)  # Coefficients of the form [a, b, c]\n",
    "\n",
    "a, b, c= coefficients\n"
   ]
  },
  {
   "cell_type": "code",
   "execution_count": null,
   "id": "d29880af-629f-46f9-9cfd-335cb6ca61ed",
   "metadata": {},
   "outputs": [],
   "source": [
    "plt.scatter(*func_dict['quadratic'].T)"
   ]
  },
  {
   "cell_type": "code",
   "execution_count": null,
   "id": "7bc171ca-18ed-4d47-a228-954d964cd162",
   "metadata": {},
   "outputs": [],
   "source": [
    "import numpy as np\n",
    "from scipy.optimize import minimize\n",
    "\n",
    "# Observed data (x_obs, y_obs)\n",
    "x_obs = x_data\n",
    "y_obs = y_data\n",
    "\n",
    "# Define the model: quadratic function\n",
    "def quadratic_model(x, a, b, c):\n",
    "    return a * x**2 + b * x + c\n",
    "\n",
    "# Define the error function for TLS\n",
    "def tls_error(params, x_obs, y_obs):\n",
    "    a, b, c = params\n",
    "    x_adj = np.copy(x_obs)  # Adjusted x values\n",
    "    # Iteratively refine x_adj by minimizing perpendicular distances\n",
    "    for i in range(len(x_obs)):\n",
    "        def point_distance(x_adj_i):\n",
    "            return (y_obs[i] - quadratic_model(x_adj_i, a, b, c))**2 + (x_obs[i] - x_adj_i)**2\n",
    "        res = minimize(point_distance, x_obs[i])\n",
    "        x_adj[i] = res.x\n",
    "    # Total perpendicular error\n",
    "    return np.sum((y_obs - quadratic_model(x_adj, a, b, c))**2 + (x_obs - x_adj)**2)\n",
    "\n",
    "# Initial guess for a, b, c\n",
    "initial_params = [1, 1, 1]\n",
    "\n",
    "# Optimize to find best a, b, c\n",
    "result = minimize(tls_error, initial_params, args=(x_obs, y_obs))\n",
    "a, b, c = result.x\n",
    "\n",
    "print(f\"Fitted coefficients: a = {a}, b = {b}, c = {c}\")\n",
    "\n",
    "\n",
    "a = np.array([(x,quadratic_model(x, a, b, c)) for x in x_data])\n",
    "a = a[a[:,0].argsort()]\n",
    "plt.plot(*a.T)\n",
    "plt.scatter(x_data,y_data)"
   ]
  },
  {
   "cell_type": "code",
   "execution_count": null,
   "id": "3c6c80f9-dc70-4753-8d75-4ee213baf8fe",
   "metadata": {},
   "outputs": [],
   "source": []
  },
  {
   "cell_type": "code",
   "execution_count": null,
   "id": "21718f6e-f669-406a-ab27-7fc51e7afb21",
   "metadata": {},
   "outputs": [],
   "source": []
  },
  {
   "cell_type": "code",
   "execution_count": null,
   "id": "6467771a-ff9b-4557-b94d-ff891a3d2a14",
   "metadata": {},
   "outputs": [],
   "source": [
    "from scipy.optimize import curve_fit\n",
    "\n",
    "\n",
    "# Provided data\n",
    "data = func_dict['sine'][func_dict['sine'][:,0].argsort()]\n",
    "x_obs = data[:, 0]\n",
    "y_obs = data[:, 1]\n",
    "\n"
   ]
  },
  {
   "cell_type": "code",
   "execution_count": null,
   "id": "61ae5fbc-6206-4968-a25b-a4df30f780f4",
   "metadata": {},
   "outputs": [],
   "source": []
  },
  {
   "cell_type": "code",
   "execution_count": null,
   "id": "a4998d92-1b51-4ef2-b8ff-c583a28b4968",
   "metadata": {},
   "outputs": [],
   "source": [
    "# Define the sine model\n",
    "def sine_model(x, a, b, c):\n",
    "    return a * np.sin(b * x + c)\n",
    "\n",
    "# Initial guess for parameters: amplitude, frequency, phase\n",
    "initial_guess = [1, 2 * np.pi, 0]  # Amplitude 1, frequency ~1 cycle, phase 0\n",
    "\n",
    "# Fit the sine model to the data\n",
    "params, _ = curve_fit(\n",
    "    sine_model,\n",
    "    x_obs,\n",
    "    y_obs\n",
    ")\n",
    "\n",
    "# Extract parameters\n",
    "amplitude, frequency, phase = params\n",
    "\n",
    "# Print the results\n",
    "print(f\"Amplitude (a): {amplitude:.4f}\")\n",
    "print(f\"Frequency (b): {frequency:.4f}\")\n",
    "print(f\"Phase (c): {phase:.4f}\")\n",
    "\n",
    "# Generate smooth sine wave for plotting\n",
    "y_fitted = sine_model(x_obs, amplitude, frequency, phase)\n",
    "# y_fitted = sine_model(x_obs, 1, frequency, 0)\n",
    "\n",
    "# Parameters for the noisy linear function\n",
    "n_points = 100  # Number of points\n",
    "x = np.linspace(y_obs.min(),y_obs.max(), n_points)  # x values\n",
    "# sigma_epsilon = 0.58  # Standard deviation of the noise\n",
    "sigma_epsilon = np.std(y_obs)\n",
    "# Generate Gaussian noise\n",
    "epsilon = np.random.normal(0, sigma_epsilon, n_points)\n",
    "\n",
    "# Plot the result\n",
    "plt.figure(figsize=(10, 6))\n",
    "plt.scatter(x_obs, y_fitted, label='Fitted Sine Function', color='blue')\n",
    "plt.scatter(x_obs, y_obs, label='Observed Data', color='red', alpha=0.6)\n",
    "plt.legend()\n",
    "plt.xlabel('x')\n",
    "plt.ylabel('y')\n",
    "plt.title('Sine Function Fit')\n",
    "plt.show()"
   ]
  },
  {
   "cell_type": "code",
   "execution_count": null,
   "id": "b9a29c2e-988c-479f-b1ab-9eaaa2de1065",
   "metadata": {},
   "outputs": [],
   "source": [
    "from sympy import nsimplify, pi\n",
    "\n",
    "# Convert to degrees\n",
    "degrees = frequency  * 180 / np.pi\n",
    "\n",
    "# Approximate the fraction\n",
    "fraction_x = nsimplify(frequency  / np.pi)\n",
    "\n",
    "degrees, fraction_x"
   ]
  },
  {
   "cell_type": "code",
   "execution_count": null,
   "id": "0269d5bc-26ca-4990-aa26-7408f0edcbac",
   "metadata": {},
   "outputs": [],
   "source": [
    "frequency "
   ]
  },
  {
   "cell_type": "code",
   "execution_count": null,
   "id": "a6783aa0-f44e-4d80-b39c-09de2967ba93",
   "metadata": {},
   "outputs": [],
   "source": []
  }
 ],
 "metadata": {
  "kernelspec": {
   "display_name": "Python 3 (ipykernel)",
   "language": "python",
   "name": "python3"
  },
  "language_info": {
   "codemirror_mode": {
    "name": "ipython",
    "version": 3
   },
   "file_extension": ".py",
   "mimetype": "text/x-python",
   "name": "python",
   "nbconvert_exporter": "python",
   "pygments_lexer": "ipython3",
   "version": "3.12.4"
  }
 },
 "nbformat": 4,
 "nbformat_minor": 5
}
